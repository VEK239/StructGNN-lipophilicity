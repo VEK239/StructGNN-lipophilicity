{
 "cells": [
  {
   "cell_type": "code",
   "execution_count": 1,
   "metadata": {
    "collapsed": true,
    "pycharm": {
     "is_executing": false
    }
   },
   "outputs": [],
   "source": [
    "from ring_dictionary_creating import RingsDictionaryHolder\n",
    "rings_dictionary_holder = RingsDictionaryHolder()\n",
    "data = rings_dictionary_holder.read_json_rings_dict()"
   ]
  },
  {
   "cell_type": "code",
   "execution_count": 2,
   "outputs": [],
   "source": [
    "import pandas as pd\n",
    "import seaborn as sns"
   ],
   "metadata": {
    "collapsed": false,
    "pycharm": {
     "name": "#%%\n",
     "is_executing": false
    }
   }
  },
  {
   "cell_type": "code",
   "execution_count": 3,
   "outputs": [],
   "source": [
    "data_smiles = [*(data.keys())]\n",
    "data_hash = [*(data.values())]"
   ],
   "metadata": {
    "collapsed": false,
    "pycharm": {
     "name": "#%%\n",
     "is_executing": false
    }
   }
  },
  {
   "cell_type": "code",
   "execution_count": 4,
   "outputs": [],
   "source": [
    "values = pd.DataFrame({'smiles':data_smiles, 'hash':data_hash})"
   ],
   "metadata": {
    "collapsed": false,
    "pycharm": {
     "name": "#%%\n",
     "is_executing": false
    }
   }
  },
  {
   "cell_type": "code",
   "execution_count": 5,
   "outputs": [
    {
     "data": {
      "text/plain": "         smiles    hash\n0  CCCCCCAAAAAA  85.566\n1  CCCNCCSSSSAS  81.062\n2  COCCCCSSSSSA  83.054\n3    OCOCCSSSSS  73.031\n4    NNCOCAAAAA  79.285",
      "text/html": "<div>\n<style scoped>\n    .dataframe tbody tr th:only-of-type {\n        vertical-align: middle;\n    }\n\n    .dataframe tbody tr th {\n        vertical-align: top;\n    }\n\n    .dataframe thead th {\n        text-align: right;\n    }\n</style>\n<table border=\"1\" class=\"dataframe\">\n  <thead>\n    <tr style=\"text-align: right;\">\n      <th></th>\n      <th>smiles</th>\n      <th>hash</th>\n    </tr>\n  </thead>\n  <tbody>\n    <tr>\n      <th>0</th>\n      <td>CCCCCCAAAAAA</td>\n      <td>85.566</td>\n    </tr>\n    <tr>\n      <th>1</th>\n      <td>CCCNCCSSSSAS</td>\n      <td>81.062</td>\n    </tr>\n    <tr>\n      <th>2</th>\n      <td>COCCCCSSSSSA</td>\n      <td>83.054</td>\n    </tr>\n    <tr>\n      <th>3</th>\n      <td>OCOCCSSSSS</td>\n      <td>73.031</td>\n    </tr>\n    <tr>\n      <th>4</th>\n      <td>NNCOCAAAAA</td>\n      <td>79.285</td>\n    </tr>\n  </tbody>\n</table>\n</div>"
     },
     "metadata": {},
     "output_type": "execute_result",
     "execution_count": 5
    }
   ],
   "source": [
    "values.head()"
   ],
   "metadata": {
    "collapsed": false,
    "pycharm": {
     "name": "#%%\n",
     "is_executing": false
    }
   }
  },
  {
   "cell_type": "code",
   "execution_count": 6,
   "outputs": [
    {
     "data": {
      "text/plain": "(358, 2)"
     },
     "metadata": {},
     "output_type": "execute_result",
     "execution_count": 6
    }
   ],
   "source": [
    "values.shape"
   ],
   "metadata": {
    "collapsed": false,
    "pycharm": {
     "name": "#%%\n",
     "is_executing": false
    }
   }
  },
  {
   "cell_type": "code",
   "execution_count": 7,
   "outputs": [
    {
     "data": {
      "text/plain": "(238,)"
     },
     "metadata": {},
     "output_type": "execute_result",
     "execution_count": 7
    }
   ],
   "source": [
    "values.hash.unique().shape"
   ],
   "metadata": {
    "collapsed": false,
    "pycharm": {
     "name": "#%%\n",
     "is_executing": false
    }
   }
  },
  {
   "cell_type": "code",
   "execution_count": 8,
   "outputs": [
    {
     "data": {
      "text/plain": "98.069     6\n71.047     5\n84.058     5\n69.051     5\n93.357     4\n83.054     4\n83.058     4\n82.062     4\n68.051     4\n73.039     4\n79.285     4\n103.114    3\n102.118    3\n93.077     3\n91.554     3\n71.043     3\n80.066     3\n105.114    3\n70.047     3\n96.069     3\nName: hash, dtype: int64"
     },
     "metadata": {},
     "output_type": "execute_result",
     "execution_count": 8
    }
   ],
   "source": [
    "values.hash.value_counts().head(20)"
   ],
   "metadata": {
    "collapsed": false,
    "pycharm": {
     "name": "#%%\n",
     "is_executing": false
    }
   }
  },
  {
   "cell_type": "code",
   "execution_count": 9,
   "outputs": [
    {
     "data": {
      "text/plain": "106.91040502793295"
     },
     "metadata": {},
     "output_type": "execute_result",
     "execution_count": 9
    }
   ],
   "source": [
    "values.hash.mean()"
   ],
   "metadata": {
    "collapsed": false,
    "pycharm": {
     "name": "#%%\n",
     "is_executing": false
    }
   }
  },
  {
   "cell_type": "code",
   "execution_count": 10,
   "outputs": [
    {
     "data": {
      "text/plain": "             smiles    hash\n45   CNCCNCCSSASDSS  98.069\n161  NCCNCCCSSDSSAS  98.069\n172  CNCCNCCSSSSDSA  98.069\n265  CNCCNCCSDSSSAS  98.069\n286  CNCCCNCSSASDSS  98.069\n308  CNCCCCNDSASSSS  98.069",
      "text/html": "<div>\n<style scoped>\n    .dataframe tbody tr th:only-of-type {\n        vertical-align: middle;\n    }\n\n    .dataframe tbody tr th {\n        vertical-align: top;\n    }\n\n    .dataframe thead th {\n        text-align: right;\n    }\n</style>\n<table border=\"1\" class=\"dataframe\">\n  <thead>\n    <tr style=\"text-align: right;\">\n      <th></th>\n      <th>smiles</th>\n      <th>hash</th>\n    </tr>\n  </thead>\n  <tbody>\n    <tr>\n      <th>45</th>\n      <td>CNCCNCCSSASDSS</td>\n      <td>98.069</td>\n    </tr>\n    <tr>\n      <th>161</th>\n      <td>NCCNCCCSSDSSAS</td>\n      <td>98.069</td>\n    </tr>\n    <tr>\n      <th>172</th>\n      <td>CNCCNCCSSSSDSA</td>\n      <td>98.069</td>\n    </tr>\n    <tr>\n      <th>265</th>\n      <td>CNCCNCCSDSSSAS</td>\n      <td>98.069</td>\n    </tr>\n    <tr>\n      <th>286</th>\n      <td>CNCCCNCSSASDSS</td>\n      <td>98.069</td>\n    </tr>\n    <tr>\n      <th>308</th>\n      <td>CNCCCCNDSASSSS</td>\n      <td>98.069</td>\n    </tr>\n  </tbody>\n</table>\n</div>"
     },
     "metadata": {},
     "output_type": "execute_result",
     "execution_count": 10
    }
   ],
   "source": [
    "values[abs(values.hash - 98.069) < 0.001]"
   ],
   "metadata": {
    "collapsed": false,
    "pycharm": {
     "name": "#%%\n",
     "is_executing": false
    }
   }
  },
  {
   "cell_type": "code",
   "execution_count": 11,
   "outputs": [
    {
     "data": {
      "text/plain": "<matplotlib.axes._subplots.AxesSubplot at 0x22c6af0b358>"
     },
     "metadata": {},
     "output_type": "execute_result",
     "execution_count": 11
    },
    {
     "data": {
      "text/plain": "<Figure size 432x288 with 1 Axes>",
      "image/png": "[encoded data removed]"
     },
     "metadata": {
      "needs_background": "light"
     },
     "output_type": "display_data"
    }
   ],
   "source": [
    "sns.distplot(values.hash)"
   ],
   "metadata": {
    "collapsed": false,
    "pycharm": {
     "name": "#%%\n",
     "is_executing": false
    }
   }
  }
 ],
 "metadata": {
  "kernelspec": {
   "name": "chemvae",
   "language": "python",
   "display_name": "chemvae"
  },
  "language_info": {
   "codemirror_mode": {
    "name": "ipython",
    "version": 2
   },
   "file_extension": ".py",
   "mimetype": "text/x-python",
   "name": "python",
   "nbconvert_exporter": "python",
   "pygments_lexer": "ipython2",
   "version": "2.7.6"
  },
  "pycharm": {
   "stem_cell": {
    "cell_type": "raw",
    "source": [],
    "metadata": {
     "collapsed": false
    }
   }
  }
 },
 "nbformat": 4,
 "nbformat_minor": 0
}