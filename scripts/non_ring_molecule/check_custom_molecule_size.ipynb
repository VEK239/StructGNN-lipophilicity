{
 "cells": [
  {
   "cell_type": "code",
   "execution_count": 14,
   "metadata": {
    "collapsed": true,
    "pycharm": {
     "is_executing": false
    }
   },
   "outputs": [],
   "source": [
    "import pandas as pd"
   ]
  },
  {
   "cell_type": "code",
   "execution_count": 15,
   "outputs": [],
   "source": [
    "atoms = pd.read_csv('atoms_count.csv', index_col=0)"
   ],
   "metadata": {
    "collapsed": false,
    "pycharm": {
     "name": "#%%\n",
     "is_executing": false
    }
   }
  },
  {
   "cell_type": "code",
   "execution_count": 16,
   "outputs": [
    {
     "data": {
      "text/plain": "   custom_count  rdkit_count\n0             7           21\n1             9           18\n2            12           16\n3            12           25\n4            10           20",
      "text/html": "<div>\n<style scoped>\n    .dataframe tbody tr th:only-of-type {\n        vertical-align: middle;\n    }\n\n    .dataframe tbody tr th {\n        vertical-align: top;\n    }\n\n    .dataframe thead th {\n        text-align: right;\n    }\n</style>\n<table border=\"1\" class=\"dataframe\">\n  <thead>\n    <tr style=\"text-align: right;\">\n      <th></th>\n      <th>custom_count</th>\n      <th>rdkit_count</th>\n    </tr>\n  </thead>\n  <tbody>\n    <tr>\n      <th>0</th>\n      <td>7</td>\n      <td>21</td>\n    </tr>\n    <tr>\n      <th>1</th>\n      <td>9</td>\n      <td>18</td>\n    </tr>\n    <tr>\n      <th>2</th>\n      <td>12</td>\n      <td>16</td>\n    </tr>\n    <tr>\n      <th>3</th>\n      <td>12</td>\n      <td>25</td>\n    </tr>\n    <tr>\n      <th>4</th>\n      <td>10</td>\n      <td>20</td>\n    </tr>\n  </tbody>\n</table>\n</div>"
     },
     "metadata": {},
     "output_type": "execute_result",
     "execution_count": 16
    }
   ],
   "source": [
    "atoms.head()"
   ],
   "metadata": {
    "collapsed": false,
    "pycharm": {
     "name": "#%%\n",
     "is_executing": false
    }
   }
  },
  {
   "cell_type": "code",
   "execution_count": 17,
   "outputs": [],
   "source": [
    "atoms['loss_percent'] = 1 - atoms.custom_count / atoms.rdkit_count"
   ],
   "metadata": {
    "collapsed": false,
    "pycharm": {
     "name": "#%%\n",
     "is_executing": false
    }
   }
  },
  {
   "cell_type": "code",
   "execution_count": 18,
   "outputs": [
    {
     "data": {
      "text/plain": "       custom_count   rdkit_count  loss_percent\ncount  14111.000000  14111.000000  14111.000000\nmean       9.428247     17.574587      0.455278\nstd        5.171263      7.765619      0.203008\nmin        1.000000      5.000000      0.000000\n25%        6.000000     12.000000      0.333333\n50%        9.000000     16.000000      0.454545\n75%       12.000000     21.000000      0.588235\nmax       65.000000     85.000000      0.982143",
      "text/html": "<div>\n<style scoped>\n    .dataframe tbody tr th:only-of-type {\n        vertical-align: middle;\n    }\n\n    .dataframe tbody tr th {\n        vertical-align: top;\n    }\n\n    .dataframe thead th {\n        text-align: right;\n    }\n</style>\n<table border=\"1\" class=\"dataframe\">\n  <thead>\n    <tr style=\"text-align: right;\">\n      <th></th>\n      <th>custom_count</th>\n      <th>rdkit_count</th>\n      <th>loss_percent</th>\n    </tr>\n  </thead>\n  <tbody>\n    <tr>\n      <th>count</th>\n      <td>14111.000000</td>\n      <td>14111.000000</td>\n      <td>14111.000000</td>\n    </tr>\n    <tr>\n      <th>mean</th>\n      <td>9.428247</td>\n      <td>17.574587</td>\n      <td>0.455278</td>\n    </tr>\n    <tr>\n      <th>std</th>\n      <td>5.171263</td>\n      <td>7.765619</td>\n      <td>0.203008</td>\n    </tr>\n    <tr>\n      <th>min</th>\n      <td>1.000000</td>\n      <td>5.000000</td>\n      <td>0.000000</td>\n    </tr>\n    <tr>\n      <th>25%</th>\n      <td>6.000000</td>\n      <td>12.000000</td>\n      <td>0.333333</td>\n    </tr>\n    <tr>\n      <th>50%</th>\n      <td>9.000000</td>\n      <td>16.000000</td>\n      <td>0.454545</td>\n    </tr>\n    <tr>\n      <th>75%</th>\n      <td>12.000000</td>\n      <td>21.000000</td>\n      <td>0.588235</td>\n    </tr>\n    <tr>\n      <th>max</th>\n      <td>65.000000</td>\n      <td>85.000000</td>\n      <td>0.982143</td>\n    </tr>\n  </tbody>\n</table>\n</div>"
     },
     "metadata": {},
     "output_type": "execute_result",
     "execution_count": 18
    }
   ],
   "source": [
    "atoms.describe()"
   ],
   "metadata": {
    "collapsed": false,
    "pycharm": {
     "name": "#%%\n",
     "is_executing": false
    }
   }
  },
  {
   "cell_type": "code",
   "execution_count": 19,
   "outputs": [
    {
     "name": "stdout",
     "text": [
      "count of molecules with <= 3 atoms: 0\n"
     ],
     "output_type": "stream"
    }
   ],
   "source": [
    "print('count of molecules with <= 3 atoms:', len(atoms[atoms.rdkit_count < 4]))"
   ],
   "metadata": {
    "collapsed": false,
    "pycharm": {
     "name": "#%%\n",
     "is_executing": false
    }
   }
  },
  {
   "cell_type": "code",
   "execution_count": 20,
   "outputs": [
    {
     "name": "stdout",
     "text": [
      "count of custom molecules with <= 3 atoms: 1155\n"
     ],
     "output_type": "stream"
    }
   ],
   "source": [
    "print('count of custom molecules with <= 3 atoms:', len(atoms[atoms.custom_count < 4]))"
   ],
   "metadata": {
    "collapsed": false,
    "pycharm": {
     "name": "#%%\n",
     "is_executing": false
    }
   }
  },
  {
   "cell_type": "code",
   "execution_count": 21,
   "outputs": [
    {
     "data": {
      "text/plain": "       custom_count  rdkit_count  loss_percent\n9                 1           16      0.937500\n30                2           16      0.875000\n33                3           14      0.785714\n63                3           12      0.750000\n147               2           14      0.857143\n...             ...          ...           ...\n13997             2           12      0.833333\n14048             3           12      0.750000\n14053             2           12      0.833333\n14055             3           18      0.833333\n14086             2            8      0.750000\n\n[1155 rows x 3 columns]",
      "text/html": "<div>\n<style scoped>\n    .dataframe tbody tr th:only-of-type {\n        vertical-align: middle;\n    }\n\n    .dataframe tbody tr th {\n        vertical-align: top;\n    }\n\n    .dataframe thead th {\n        text-align: right;\n    }\n</style>\n<table border=\"1\" class=\"dataframe\">\n  <thead>\n    <tr style=\"text-align: right;\">\n      <th></th>\n      <th>custom_count</th>\n      <th>rdkit_count</th>\n      <th>loss_percent</th>\n    </tr>\n  </thead>\n  <tbody>\n    <tr>\n      <th>9</th>\n      <td>1</td>\n      <td>16</td>\n      <td>0.937500</td>\n    </tr>\n    <tr>\n      <th>30</th>\n      <td>2</td>\n      <td>16</td>\n      <td>0.875000</td>\n    </tr>\n    <tr>\n      <th>33</th>\n      <td>3</td>\n      <td>14</td>\n      <td>0.785714</td>\n    </tr>\n    <tr>\n      <th>63</th>\n      <td>3</td>\n      <td>12</td>\n      <td>0.750000</td>\n    </tr>\n    <tr>\n      <th>147</th>\n      <td>2</td>\n      <td>14</td>\n      <td>0.857143</td>\n    </tr>\n    <tr>\n      <th>...</th>\n      <td>...</td>\n      <td>...</td>\n      <td>...</td>\n    </tr>\n    <tr>\n      <th>13997</th>\n      <td>2</td>\n      <td>12</td>\n      <td>0.833333</td>\n    </tr>\n    <tr>\n      <th>14048</th>\n      <td>3</td>\n      <td>12</td>\n      <td>0.750000</td>\n    </tr>\n    <tr>\n      <th>14053</th>\n      <td>2</td>\n      <td>12</td>\n      <td>0.833333</td>\n    </tr>\n    <tr>\n      <th>14055</th>\n      <td>3</td>\n      <td>18</td>\n      <td>0.833333</td>\n    </tr>\n    <tr>\n      <th>14086</th>\n      <td>2</td>\n      <td>8</td>\n      <td>0.750000</td>\n    </tr>\n  </tbody>\n</table>\n<p>1155 rows × 3 columns</p>\n</div>"
     },
     "metadata": {},
     "output_type": "execute_result",
     "execution_count": 21
    }
   ],
   "source": [
    "atoms[atoms.custom_count < 4]"
   ],
   "metadata": {
    "collapsed": false,
    "pycharm": {
     "name": "#%%\n",
     "is_executing": false
    }
   }
  },
  {
   "cell_type": "code",
   "execution_count": 22,
   "outputs": [
    {
     "data": {
      "text/plain": "       custom_count  rdkit_count  loss_percent\ncount   1155.000000  1155.000000   1155.000000\nmean       2.331602    11.402597      0.766862\nstd        0.747031     4.651810      0.105368\nmin        1.000000     5.000000      0.400000\n25%        2.000000     8.000000      0.714286\n50%        2.000000    11.000000      0.769231\n75%        3.000000    13.000000      0.833333\nmax        3.000000    56.000000      0.982143",
      "text/html": "<div>\n<style scoped>\n    .dataframe tbody tr th:only-of-type {\n        vertical-align: middle;\n    }\n\n    .dataframe tbody tr th {\n        vertical-align: top;\n    }\n\n    .dataframe thead th {\n        text-align: right;\n    }\n</style>\n<table border=\"1\" class=\"dataframe\">\n  <thead>\n    <tr style=\"text-align: right;\">\n      <th></th>\n      <th>custom_count</th>\n      <th>rdkit_count</th>\n      <th>loss_percent</th>\n    </tr>\n  </thead>\n  <tbody>\n    <tr>\n      <th>count</th>\n      <td>1155.000000</td>\n      <td>1155.000000</td>\n      <td>1155.000000</td>\n    </tr>\n    <tr>\n      <th>mean</th>\n      <td>2.331602</td>\n      <td>11.402597</td>\n      <td>0.766862</td>\n    </tr>\n    <tr>\n      <th>std</th>\n      <td>0.747031</td>\n      <td>4.651810</td>\n      <td>0.105368</td>\n    </tr>\n    <tr>\n      <th>min</th>\n      <td>1.000000</td>\n      <td>5.000000</td>\n      <td>0.400000</td>\n    </tr>\n    <tr>\n      <th>25%</th>\n      <td>2.000000</td>\n      <td>8.000000</td>\n      <td>0.714286</td>\n    </tr>\n    <tr>\n      <th>50%</th>\n      <td>2.000000</td>\n      <td>11.000000</td>\n      <td>0.769231</td>\n    </tr>\n    <tr>\n      <th>75%</th>\n      <td>3.000000</td>\n      <td>13.000000</td>\n      <td>0.833333</td>\n    </tr>\n    <tr>\n      <th>max</th>\n      <td>3.000000</td>\n      <td>56.000000</td>\n      <td>0.982143</td>\n    </tr>\n  </tbody>\n</table>\n</div>"
     },
     "metadata": {},
     "output_type": "execute_result",
     "execution_count": 22
    }
   ],
   "source": [
    "big_loss_molecules = atoms[atoms.custom_count < 4]\n",
    "big_loss_molecules.describe()"
   ],
   "metadata": {
    "collapsed": false,
    "pycharm": {
     "name": "#%%\n",
     "is_executing": false
    }
   }
  }
 ],
 "metadata": {
  "kernelspec": {
   "display_name": "Python 3",
   "language": "python",
   "name": "python3"
  },
  "language_info": {
   "codemirror_mode": {
    "name": "ipython",
    "version": 2
   },
   "file_extension": ".py",
   "mimetype": "text/x-python",
   "name": "python",
   "nbconvert_exporter": "python",
   "pygments_lexer": "ipython2",
   "version": "2.7.6"
  },
  "pycharm": {
   "stem_cell": {
    "cell_type": "raw",
    "source": [],
    "metadata": {
     "collapsed": false
    }
   }
  }
 },
 "nbformat": 4,
 "nbformat_minor": 0
}