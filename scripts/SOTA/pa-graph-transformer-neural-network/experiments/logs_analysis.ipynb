{
 "cells": [
  {
   "cell_type": "code",
   "execution_count": 23,
   "metadata": {
    "collapsed": true,
    "pycharm": {
     "is_executing": false
    }
   },
   "outputs": [],
   "source": [
    "import pandas as pd\n",
    "import re"
   ]
  },
  {
   "cell_type": "code",
   "execution_count": 24,
   "outputs": [],
   "source": [
    "train_mse = pd.read_csv('train_stats.csv').loss\n",
    "\n",
    "valid_mse = pd.read_csv('valid_stats.csv').loss"
   ],
   "metadata": {
    "collapsed": false,
    "pycharm": {
     "name": "#%%\n",
     "is_executing": false
    }
   }
  },
  {
   "cell_type": "code",
   "execution_count": 25,
   "outputs": [],
   "source": [
    "loss = pd.DataFrame({'train_mse': train_mse, 'valid_mse': valid_mse})"
   ],
   "metadata": {
    "collapsed": false,
    "pycharm": {
     "name": "#%%\n",
     "is_executing": false
    }
   }
  },
  {
   "cell_type": "code",
   "execution_count": 26,
   "outputs": [
    {
     "data": {
      "text/plain": "    train_mse  valid_mse\n0    1.391433   0.692360\n1    0.646262   0.515435\n2    0.527801   0.461021\n3    0.475334   0.342089\n4    0.418236   0.392397\n5    0.380650   0.296251\n6    0.357585   0.311879\n7    0.337590   0.312909\n8    0.312776   0.263033\n9    0.298730   0.275263\n10   0.282845   0.274279\n11   0.274907   0.330911\n12   0.260969   0.278777\n13   0.248124   0.319482\n14   0.247880   0.247282\n15   0.240614   0.267458\n16   0.227756   0.225267\n17   0.236487   0.232258\n18   0.210462   0.256947\n19   0.211926   0.222343\n20   0.210026   0.262727\n21   0.203770   0.224330\n22   0.197093   0.215829\n23   0.192683   0.261298\n24   0.197518   0.238670\n25   0.190817   0.254465\n26   0.174990   0.219359\n27   0.177774   0.228312\n28   0.161510   0.214794\n29   0.165610   0.225575\n30   0.167378   0.226361\n31   0.166779   0.212544\n32   0.161043   0.261437\n33   0.154604   0.224555\n34   0.148650   0.196880",
      "text/html": "<div>\n<style scoped>\n    .dataframe tbody tr th:only-of-type {\n        vertical-align: middle;\n    }\n\n    .dataframe tbody tr th {\n        vertical-align: top;\n    }\n\n    .dataframe thead th {\n        text-align: right;\n    }\n</style>\n<table border=\"1\" class=\"dataframe\">\n  <thead>\n    <tr style=\"text-align: right;\">\n      <th></th>\n      <th>train_mse</th>\n      <th>valid_mse</th>\n    </tr>\n  </thead>\n  <tbody>\n    <tr>\n      <th>0</th>\n      <td>1.391433</td>\n      <td>0.692360</td>\n    </tr>\n    <tr>\n      <th>1</th>\n      <td>0.646262</td>\n      <td>0.515435</td>\n    </tr>\n    <tr>\n      <th>2</th>\n      <td>0.527801</td>\n      <td>0.461021</td>\n    </tr>\n    <tr>\n      <th>3</th>\n      <td>0.475334</td>\n      <td>0.342089</td>\n    </tr>\n    <tr>\n      <th>4</th>\n      <td>0.418236</td>\n      <td>0.392397</td>\n    </tr>\n    <tr>\n      <th>5</th>\n      <td>0.380650</td>\n      <td>0.296251</td>\n    </tr>\n    <tr>\n      <th>6</th>\n      <td>0.357585</td>\n      <td>0.311879</td>\n    </tr>\n    <tr>\n      <th>7</th>\n      <td>0.337590</td>\n      <td>0.312909</td>\n    </tr>\n    <tr>\n      <th>8</th>\n      <td>0.312776</td>\n      <td>0.263033</td>\n    </tr>\n    <tr>\n      <th>9</th>\n      <td>0.298730</td>\n      <td>0.275263</td>\n    </tr>\n    <tr>\n      <th>10</th>\n      <td>0.282845</td>\n      <td>0.274279</td>\n    </tr>\n    <tr>\n      <th>11</th>\n      <td>0.274907</td>\n      <td>0.330911</td>\n    </tr>\n    <tr>\n      <th>12</th>\n      <td>0.260969</td>\n      <td>0.278777</td>\n    </tr>\n    <tr>\n      <th>13</th>\n      <td>0.248124</td>\n      <td>0.319482</td>\n    </tr>\n    <tr>\n      <th>14</th>\n      <td>0.247880</td>\n      <td>0.247282</td>\n    </tr>\n    <tr>\n      <th>15</th>\n      <td>0.240614</td>\n      <td>0.267458</td>\n    </tr>\n    <tr>\n      <th>16</th>\n      <td>0.227756</td>\n      <td>0.225267</td>\n    </tr>\n    <tr>\n      <th>17</th>\n      <td>0.236487</td>\n      <td>0.232258</td>\n    </tr>\n    <tr>\n      <th>18</th>\n      <td>0.210462</td>\n      <td>0.256947</td>\n    </tr>\n    <tr>\n      <th>19</th>\n      <td>0.211926</td>\n      <td>0.222343</td>\n    </tr>\n    <tr>\n      <th>20</th>\n      <td>0.210026</td>\n      <td>0.262727</td>\n    </tr>\n    <tr>\n      <th>21</th>\n      <td>0.203770</td>\n      <td>0.224330</td>\n    </tr>\n    <tr>\n      <th>22</th>\n      <td>0.197093</td>\n      <td>0.215829</td>\n    </tr>\n    <tr>\n      <th>23</th>\n      <td>0.192683</td>\n      <td>0.261298</td>\n    </tr>\n    <tr>\n      <th>24</th>\n      <td>0.197518</td>\n      <td>0.238670</td>\n    </tr>\n    <tr>\n      <th>25</th>\n      <td>0.190817</td>\n      <td>0.254465</td>\n    </tr>\n    <tr>\n      <th>26</th>\n      <td>0.174990</td>\n      <td>0.219359</td>\n    </tr>\n    <tr>\n      <th>27</th>\n      <td>0.177774</td>\n      <td>0.228312</td>\n    </tr>\n    <tr>\n      <th>28</th>\n      <td>0.161510</td>\n      <td>0.214794</td>\n    </tr>\n    <tr>\n      <th>29</th>\n      <td>0.165610</td>\n      <td>0.225575</td>\n    </tr>\n    <tr>\n      <th>30</th>\n      <td>0.167378</td>\n      <td>0.226361</td>\n    </tr>\n    <tr>\n      <th>31</th>\n      <td>0.166779</td>\n      <td>0.212544</td>\n    </tr>\n    <tr>\n      <th>32</th>\n      <td>0.161043</td>\n      <td>0.261437</td>\n    </tr>\n    <tr>\n      <th>33</th>\n      <td>0.154604</td>\n      <td>0.224555</td>\n    </tr>\n    <tr>\n      <th>34</th>\n      <td>0.148650</td>\n      <td>0.196880</td>\n    </tr>\n  </tbody>\n</table>\n</div>"
     },
     "metadata": {},
     "output_type": "execute_result",
     "execution_count": 26
    }
   ],
   "source": [
    "loss"
   ],
   "metadata": {
    "collapsed": false,
    "pycharm": {
     "name": "#%%\n",
     "is_executing": false
    }
   }
  },
  {
   "cell_type": "code",
   "execution_count": 27,
   "outputs": [
    {
     "data": {
      "text/plain": "<matplotlib.axes._subplots.AxesSubplot at 0x14afd50e550>"
     },
     "metadata": {},
     "output_type": "execute_result",
     "execution_count": 27
    },
    {
     "data": {
      "text/plain": "<Figure size 432x288 with 1 Axes>",
      "image/png": "[encoded data removed]"
     },
     "metadata": {
      "needs_background": "light"
     },
     "output_type": "display_data"
    }
   ],
   "source": [
    "loss.plot()"
   ],
   "metadata": {
    "collapsed": false,
    "pycharm": {
     "name": "#%%\n",
     "is_executing": false
    }
   }
  }
 ],
 "metadata": {
  "kernelspec": {
   "name": "chemvae",
   "language": "python",
   "display_name": "chemvae"
  },
  "language_info": {
   "codemirror_mode": {
    "name": "ipython",
    "version": 2
   },
   "file_extension": ".py",
   "mimetype": "text/x-python",
   "name": "python",
   "nbconvert_exporter": "python",
   "pygments_lexer": "ipython2",
   "version": "2.7.6"
  },
  "pycharm": {
   "stem_cell": {
    "cell_type": "raw",
    "source": [],
    "metadata": {
     "collapsed": false
    }
   }
  }
 },
 "nbformat": 4,
 "nbformat_minor": 0
}