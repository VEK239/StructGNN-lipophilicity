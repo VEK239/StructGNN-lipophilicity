{
 "cells": [
  {
   "cell_type": "markdown",
   "metadata": {},
   "source": [
    "# Choosing most common logP value from duplicated measurements"
   ]
  },
  {
   "cell_type": "markdown",
   "metadata": {},
   "source": [
    "1. Initial size of dataset was $14111$\n",
    "\n",
    "2. After choosing most common logP values $13777$ rows have left"
   ]
  },
  {
   "cell_type": "code",
   "execution_count": 1,
   "metadata": {},
   "outputs": [],
   "source": [
    "import pandas as pd\n",
    "import os\n",
    "import seaborn as sns"
   ]
  },
  {
   "cell_type": "code",
   "execution_count": 8,
   "metadata": {},
   "outputs": [],
   "source": [
    "DATASET_PATH = '../data/3_final_data/'\n",
    "SMILES_COLUMN = 'smiles'\n",
    "VALUE_COLUMN = 'logP'"
   ]
  },
  {
   "cell_type": "code",
   "execution_count": 3,
   "metadata": {},
   "outputs": [],
   "source": [
    "dataset = pd.read_csv(os.path.join(DATASET_PATH, 'logP.csv'))"
   ]
  },
  {
   "cell_type": "code",
   "execution_count": 4,
   "metadata": {},
   "outputs": [
    {
     "name": "stdout",
     "output_type": "stream",
     "text": [
      "<class 'pandas.core.frame.DataFrame'>\n",
      "RangeIndex: 14111 entries, 0 to 14110\n",
      "Data columns (total 2 columns):\n",
      " #   Column  Non-Null Count  Dtype  \n",
      "---  ------  --------------  -----  \n",
      " 0   smiles  14111 non-null  object \n",
      " 1   logP    14111 non-null  float64\n",
      "dtypes: float64(1), object(1)\n",
      "memory usage: 220.6+ KB\n"
     ]
    }
   ],
   "source": [
    "dataset.info()"
   ]
  },
  {
   "cell_type": "code",
   "execution_count": 5,
   "metadata": {},
   "outputs": [],
   "source": [
    "dataset_wo_averaging = dataset.groupby([SMILES_COLUMN]).agg(lambda x:x.value_counts().index[0])"
   ]
  },
  {
   "cell_type": "code",
   "execution_count": 10,
   "metadata": {},
   "outputs": [
    {
     "name": "stdout",
     "output_type": "stream",
     "text": [
      "<class 'pandas.core.frame.DataFrame'>\n",
      "Index: 13777 entries, BrC(Br)(Br)Br to n1onc2c1NC1Nc3nonc3NC1N2\n",
      "Data columns (total 1 columns):\n",
      " #   Column  Non-Null Count  Dtype  \n",
      "---  ------  --------------  -----  \n",
      " 0   logP    13777 non-null  float64\n",
      "dtypes: float64(1)\n",
      "memory usage: 215.3+ KB\n"
     ]
    }
   ],
   "source": [
    "dataset_wo_averaging.info()"
   ]
  },
  {
   "cell_type": "markdown",
   "metadata": {},
   "source": [
    "## Check logP values distribution"
   ]
  },
  {
   "cell_type": "code",
   "execution_count": 9,
   "metadata": {},
   "outputs": [
    {
     "data": {
      "text/plain": [
       "<matplotlib.axes._subplots.AxesSubplot at 0x7f0a68969190>"
      ]
     },
     "execution_count": 9,
     "metadata": {},
     "output_type": "execute_result"
    },
    {
     "data": {
      "image/png": "[encoded data removed]",
      "text/plain": [
       "<Figure size 432x288 with 1 Axes>"
      ]
     },
     "metadata": {
      "needs_background": "light"
     },
     "output_type": "display_data"
    }
   ],
   "source": [
    "sns.distplot(dataset_wo_averaging[VALUE_COLUMN])"
   ]
  },
  {
   "cell_type": "code",
   "execution_count": 11,
   "metadata": {},
   "outputs": [
    {
     "data": {
      "text/plain": [
       "logP\n",
       "(-20, -10]        0\n",
       "(-10, -5]         0\n",
       "(-5, 0]        1541\n",
       "(0, 10]       12236\n",
       "(10, 20]          0\n",
       "(20, 30]          0\n",
       "(30, 40]          0\n",
       "(40, 50]          0\n",
       "Name: logP, dtype: int64"
      ]
     },
     "execution_count": 11,
     "metadata": {},
     "output_type": "execute_result"
    }
   ],
   "source": [
    "ranges = [-20, -10, -5, 0, 10, 20, 30, 40, 50]\n",
    "dataset_wo_averaging[VALUE_COLUMN].groupby(pd.cut(dataset_wo_averaging[VALUE_COLUMN], ranges)).count()"
   ]
  },
  {
   "cell_type": "code",
   "execution_count": 13,
   "metadata": {},
   "outputs": [],
   "source": [
    "DATASET_OTPUT_PATH = '../data/3_final_data/'"
   ]
  },
  {
   "cell_type": "code",
   "execution_count": 14,
   "metadata": {},
   "outputs": [],
   "source": [
    "dataset_wo_averaging.to_csv(os.path.join(DATASET_OTPUT_PATH,'logp_wo_averaging.csv'))"
   ]
  },
  {
   "cell_type": "markdown",
   "metadata": {},
   "source": [
    "# Split data"
   ]
  },
  {
   "cell_type": "code",
   "execution_count": 19,
   "metadata": {},
   "outputs": [],
   "source": [
    "def train_test_validation_split(df):\n",
    "    from sklearn.model_selection import train_test_split\n",
    "    train_data, rest_data = train_test_split(df, test_size=0.3)\n",
    "    test_data, validation_data = train_test_split(rest_data, test_size=0.5)\n",
    "    return train_data.reset_index(drop=True), validation_data.reset_index(drop=True), test_data.reset_index(drop=True)"
   ]
  },
  {
   "cell_type": "code",
   "execution_count": 23,
   "metadata": {},
   "outputs": [],
   "source": [
    "DATA_PATH = '../data/3_final_data/'\n",
    "\n",
    "file = 'logp_wo_averaging'"
   ]
  },
  {
   "cell_type": "code",
   "execution_count": 24,
   "metadata": {},
   "outputs": [
    {
     "name": "stdout",
     "output_type": "stream",
     "text": [
      "logp_wo_averaging shape:  (13777, 2)\n",
      "SPLITTED SHAPES:\n",
      "\ttrain: (9643, 2)\n",
      "\tvalidation: (2067, 2)\n",
      "\ttest: (2067, 2)\n",
      "\n"
     ]
    }
   ],
   "source": [
    "data = pd.read_csv(os.path.join(DATASET_OTPUT_PATH, file+'.csv'))\n",
    "\n",
    "\n",
    "print(file, 'shape: ', data.shape)    \n",
    "train, validation, test = train_test_validation_split(data)\n",
    "print('SPLITTED SHAPES:\\n\\ttrain: {0}\\n\\tvalidation: {1}\\n\\ttest: {2}\\n'.format(train.shape, validation.shape, test.shape))\n",
    "\n",
    "train.to_csv(DATA_PATH + 'split_data/' + file + '_train.csv')\n",
    "validation.to_csv(DATA_PATH + 'split_data/' + file + '_validation.csv')\n",
    "test.to_csv(DATA_PATH + 'split_data/' + file + '_test.csv')"
   ]
  },
  {
   "cell_type": "code",
   "execution_count": null,
   "metadata": {},
   "outputs": [],
   "source": []
  }
 ],
 "metadata": {
  "kernelspec": {
   "display_name": "Python [conda env:root]",
   "language": "python",
   "name": "conda-root-py"
  },
  "language_info": {
   "codemirror_mode": {
    "name": "ipython",
    "version": 3
   },
   "file_extension": ".py",
   "mimetype": "text/x-python",
   "name": "python",
   "nbconvert_exporter": "python",
   "pygments_lexer": "ipython3",
   "version": "3.7.6"
  }
 },
 "nbformat": 4,
 "nbformat_minor": 4
}
