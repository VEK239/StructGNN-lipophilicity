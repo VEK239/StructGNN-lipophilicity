{
 "cells": [
  {
   "cell_type": "markdown",
   "metadata": {},
   "source": [
    "# Best and worst molecules analysis"
   ]
  },
  {
   "cell_type": "code",
   "execution_count": 1,
   "metadata": {},
   "outputs": [],
   "source": [
    "import pandas as pd\n",
    "import numpy as np\n",
    "import seaborn as sns\n",
    "import torch\n",
    "from scipy import stats\n",
    "from torch.nn.utils.rnn import pad_sequence\n",
    "from sklearn.neural_network import MLPRegressor\n",
    "from rdkit import Chem, DataStructs\n",
    "from rdkit.Chem import AllChem\n",
    "from sklearn.metrics import mean_squared_error, r2_score\n",
    "import time"
   ]
  },
  {
   "cell_type": "markdown",
   "metadata": {},
   "source": [
    "## Uploading data from file"
   ]
  },
  {
   "cell_type": "code",
   "execution_count": 2,
   "metadata": {},
   "outputs": [],
   "source": [
    "DATA_PATH = \"../../data/4_best_predictions/\"\n",
    "FILE_PATTERN = \"pa_transformer_predictions_{0}.csv\""
   ]
  },
  {
   "cell_type": "code",
   "execution_count": 3,
   "metadata": {},
   "outputs": [],
   "source": [
    "valid = pd.read_csv(DATA_PATH + FILE_PATTERN.format('valid'))\n",
    "test = pd.read_csv(DATA_PATH + FILE_PATTERN.format('test'))"
   ]
  },
  {
   "cell_type": "code",
   "execution_count": 4,
   "metadata": {},
   "outputs": [],
   "source": [
    "compare_data = pd.DataFrame({'smiles': test.smiles, 'y_expected': test.logp, 'y_predicted': test.logp_pred})"
   ]
  },
  {
   "cell_type": "code",
   "execution_count": 5,
   "metadata": {},
   "outputs": [],
   "source": [
    "X_valid_mol = [Chem.MolFromSmiles(x) for x in valid.smiles]\n",
    "X_test_mol = [Chem.MolFromSmiles(x) for x in test.smiles]"
   ]
  },
  {
   "cell_type": "code",
   "execution_count": 6,
   "metadata": {},
   "outputs": [],
   "source": [
    "y_test = test.logp\n",
    "y_valid = valid.logp"
   ]
  },
  {
   "cell_type": "markdown",
   "metadata": {},
   "source": [
    "## Getting the data to compare"
   ]
  },
  {
   "cell_type": "code",
   "execution_count": 7,
   "metadata": {},
   "outputs": [
    {
     "data": {
      "text/html": [
       "<div>\n",
       "<style scoped>\n",
       "    .dataframe tbody tr th:only-of-type {\n",
       "        vertical-align: middle;\n",
       "    }\n",
       "\n",
       "    .dataframe tbody tr th {\n",
       "        vertical-align: top;\n",
       "    }\n",
       "\n",
       "    .dataframe thead th {\n",
       "        text-align: right;\n",
       "    }\n",
       "</style>\n",
       "<table border=\"1\" class=\"dataframe\">\n",
       "  <thead>\n",
       "    <tr style=\"text-align: right;\">\n",
       "      <th></th>\n",
       "      <th>smiles</th>\n",
       "      <th>y_expected</th>\n",
       "      <th>y_predicted</th>\n",
       "    </tr>\n",
       "  </thead>\n",
       "  <tbody>\n",
       "    <tr>\n",
       "      <th>0</th>\n",
       "      <td>Cc1ccccc1C(C)C</td>\n",
       "      <td>4.38</td>\n",
       "      <td>4.007513</td>\n",
       "    </tr>\n",
       "    <tr>\n",
       "      <th>1</th>\n",
       "      <td>Clc1nc(-c2ccccc2)nc2ccccc12</td>\n",
       "      <td>4.47</td>\n",
       "      <td>4.050775</td>\n",
       "    </tr>\n",
       "    <tr>\n",
       "      <th>2</th>\n",
       "      <td>Cc1ccc(O)c(C(=O)O)c1</td>\n",
       "      <td>2.78</td>\n",
       "      <td>2.781904</td>\n",
       "    </tr>\n",
       "    <tr>\n",
       "      <th>3</th>\n",
       "      <td>O=c1[nH]c(O)c(-c2ccccc2)[nH]1</td>\n",
       "      <td>0.46</td>\n",
       "      <td>0.569339</td>\n",
       "    </tr>\n",
       "    <tr>\n",
       "      <th>4</th>\n",
       "      <td>CN(C)CCN1c2ccccc2Sc2ccccc21</td>\n",
       "      <td>4.20</td>\n",
       "      <td>4.168931</td>\n",
       "    </tr>\n",
       "  </tbody>\n",
       "</table>\n",
       "</div>"
      ],
      "text/plain": [
       "                          smiles  y_expected  y_predicted\n",
       "0                 Cc1ccccc1C(C)C        4.38     4.007513\n",
       "1    Clc1nc(-c2ccccc2)nc2ccccc12        4.47     4.050775\n",
       "2           Cc1ccc(O)c(C(=O)O)c1        2.78     2.781904\n",
       "3  O=c1[nH]c(O)c(-c2ccccc2)[nH]1        0.46     0.569339\n",
       "4    CN(C)CCN1c2ccccc2Sc2ccccc21        4.20     4.168931"
      ]
     },
     "execution_count": 7,
     "metadata": {},
     "output_type": "execute_result"
    }
   ],
   "source": [
    "compare_data.head()"
   ]
  },
  {
   "cell_type": "code",
   "execution_count": 8,
   "metadata": {},
   "outputs": [
    {
     "data": {
      "text/plain": [
       "(1894, 3)"
      ]
     },
     "execution_count": 8,
     "metadata": {},
     "output_type": "execute_result"
    }
   ],
   "source": [
    "compare_data.shape"
   ]
  },
  {
   "cell_type": "code",
   "execution_count": 9,
   "metadata": {},
   "outputs": [],
   "source": [
    "compare_data['error'] = (compare_data.y_expected - compare_data.y_predicted) ** 2"
   ]
  },
  {
   "cell_type": "code",
   "execution_count": 10,
   "metadata": {},
   "outputs": [
    {
     "data": {
      "text/html": [
       "<div>\n",
       "<style scoped>\n",
       "    .dataframe tbody tr th:only-of-type {\n",
       "        vertical-align: middle;\n",
       "    }\n",
       "\n",
       "    .dataframe tbody tr th {\n",
       "        vertical-align: top;\n",
       "    }\n",
       "\n",
       "    .dataframe thead th {\n",
       "        text-align: right;\n",
       "    }\n",
       "</style>\n",
       "<table border=\"1\" class=\"dataframe\">\n",
       "  <thead>\n",
       "    <tr style=\"text-align: right;\">\n",
       "      <th></th>\n",
       "      <th>smiles</th>\n",
       "      <th>y_expected</th>\n",
       "      <th>y_predicted</th>\n",
       "      <th>error</th>\n",
       "    </tr>\n",
       "  </thead>\n",
       "  <tbody>\n",
       "    <tr>\n",
       "      <th>147</th>\n",
       "      <td>CC(C)(C)c1cc(CCC(=O)OCC(COC(=O)CCc2cc(C(C)(C)C...</td>\n",
       "      <td>1.36</td>\n",
       "      <td>16.529467</td>\n",
       "      <td>230.112729</td>\n",
       "    </tr>\n",
       "    <tr>\n",
       "      <th>1015</th>\n",
       "      <td>CCc1c(C(=O)O)c(=O)cnn1-c1ccc(Cl)cc1</td>\n",
       "      <td>-2.20</td>\n",
       "      <td>2.167287</td>\n",
       "      <td>19.073198</td>\n",
       "    </tr>\n",
       "    <tr>\n",
       "      <th>762</th>\n",
       "      <td>O=C(Nc1ccccc1)c1c(O)[nH]c(=S)[nH]c1=O</td>\n",
       "      <td>0.14</td>\n",
       "      <td>2.296128</td>\n",
       "      <td>4.648886</td>\n",
       "    </tr>\n",
       "    <tr>\n",
       "      <th>79</th>\n",
       "      <td>O=C(Cc1ccccc1Nc1c(Cl)cccc1Cl)O[K]</td>\n",
       "      <td>0.65</td>\n",
       "      <td>2.511837</td>\n",
       "      <td>3.466436</td>\n",
       "    </tr>\n",
       "    <tr>\n",
       "      <th>1642</th>\n",
       "      <td>Brc1cc(Br)c(Br)c(-c2c(Br)c(Br)cc(Br)c2Br)c1Br</td>\n",
       "      <td>5.50</td>\n",
       "      <td>7.293395</td>\n",
       "      <td>3.216266</td>\n",
       "    </tr>\n",
       "  </tbody>\n",
       "</table>\n",
       "</div>"
      ],
      "text/plain": [
       "                                                 smiles  y_expected  \\\n",
       "147   CC(C)(C)c1cc(CCC(=O)OCC(COC(=O)CCc2cc(C(C)(C)C...        1.36   \n",
       "1015                CCc1c(C(=O)O)c(=O)cnn1-c1ccc(Cl)cc1       -2.20   \n",
       "762               O=C(Nc1ccccc1)c1c(O)[nH]c(=S)[nH]c1=O        0.14   \n",
       "79                    O=C(Cc1ccccc1Nc1c(Cl)cccc1Cl)O[K]        0.65   \n",
       "1642      Brc1cc(Br)c(Br)c(-c2c(Br)c(Br)cc(Br)c2Br)c1Br        5.50   \n",
       "\n",
       "      y_predicted       error  \n",
       "147     16.529467  230.112729  \n",
       "1015     2.167287   19.073198  \n",
       "762      2.296128    4.648886  \n",
       "79       2.511837    3.466436  \n",
       "1642     7.293395    3.216266  "
      ]
     },
     "execution_count": 10,
     "metadata": {},
     "output_type": "execute_result"
    }
   ],
   "source": [
    "compare_data.sort_values(by=['error'], ascending=False).head()"
   ]
  },
  {
   "cell_type": "code",
   "execution_count": 11,
   "metadata": {},
   "outputs": [
    {
     "data": {
      "text/html": [
       "<div>\n",
       "<style scoped>\n",
       "    .dataframe tbody tr th:only-of-type {\n",
       "        vertical-align: middle;\n",
       "    }\n",
       "\n",
       "    .dataframe tbody tr th {\n",
       "        vertical-align: top;\n",
       "    }\n",
       "\n",
       "    .dataframe thead th {\n",
       "        text-align: right;\n",
       "    }\n",
       "</style>\n",
       "<table border=\"1\" class=\"dataframe\">\n",
       "  <thead>\n",
       "    <tr style=\"text-align: right;\">\n",
       "      <th></th>\n",
       "      <th>smiles</th>\n",
       "      <th>y_expected</th>\n",
       "      <th>y_predicted</th>\n",
       "      <th>error</th>\n",
       "    </tr>\n",
       "  </thead>\n",
       "  <tbody>\n",
       "    <tr>\n",
       "      <th>1186</th>\n",
       "      <td>CN(C(=O)CCCl)c1ccc(S(=O)(=O)N(C)C)cc1</td>\n",
       "      <td>0.98</td>\n",
       "      <td>0.980007</td>\n",
       "      <td>5.184000e-11</td>\n",
       "    </tr>\n",
       "    <tr>\n",
       "      <th>1089</th>\n",
       "      <td>CCC(CO)n1cnc2c(=N)[nH]cnc21</td>\n",
       "      <td>0.14</td>\n",
       "      <td>0.139901</td>\n",
       "      <td>9.725904e-09</td>\n",
       "    </tr>\n",
       "    <tr>\n",
       "      <th>1312</th>\n",
       "      <td>C#CCC(O)(c1ccc(F)cc1)c1cccnc1</td>\n",
       "      <td>1.78</td>\n",
       "      <td>1.780633</td>\n",
       "      <td>4.009422e-07</td>\n",
       "    </tr>\n",
       "    <tr>\n",
       "      <th>865</th>\n",
       "      <td>NC(=O)COc1ccccc1</td>\n",
       "      <td>0.76</td>\n",
       "      <td>0.759117</td>\n",
       "      <td>7.795654e-07</td>\n",
       "    </tr>\n",
       "    <tr>\n",
       "      <th>1227</th>\n",
       "      <td>C#CCOc1cc(OC(=O)N2CCCC2)c(Cl)cc1Cl</td>\n",
       "      <td>3.82</td>\n",
       "      <td>3.819049</td>\n",
       "      <td>9.036404e-07</td>\n",
       "    </tr>\n",
       "  </tbody>\n",
       "</table>\n",
       "</div>"
      ],
      "text/plain": [
       "                                     smiles  y_expected  y_predicted  \\\n",
       "1186  CN(C(=O)CCCl)c1ccc(S(=O)(=O)N(C)C)cc1        0.98     0.980007   \n",
       "1089            CCC(CO)n1cnc2c(=N)[nH]cnc21        0.14     0.139901   \n",
       "1312          C#CCC(O)(c1ccc(F)cc1)c1cccnc1        1.78     1.780633   \n",
       "865                        NC(=O)COc1ccccc1        0.76     0.759117   \n",
       "1227     C#CCOc1cc(OC(=O)N2CCCC2)c(Cl)cc1Cl        3.82     3.819049   \n",
       "\n",
       "             error  \n",
       "1186  5.184000e-11  \n",
       "1089  9.725904e-09  \n",
       "1312  4.009422e-07  \n",
       "865   7.795654e-07  \n",
       "1227  9.036404e-07  "
      ]
     },
     "execution_count": 11,
     "metadata": {},
     "output_type": "execute_result"
    }
   ],
   "source": [
    "compare_data.sort_values(by=['error'], ascending=True).head()"
   ]
  },
  {
   "cell_type": "code",
   "execution_count": 12,
   "metadata": {},
   "outputs": [
    {
     "data": {
      "image/png": "[encoded data removed]",
      "text/plain": [
       "<rdkit.Chem.rdchem.Mol at 0x1cf898443a0>"
      ]
     },
     "metadata": {},
     "output_type": "display_data"
    },
    {
     "data": {
      "image/png": "[encoded data removed]",
      "text/plain": [
       "<rdkit.Chem.rdchem.Mol at 0x1cf898443a0>"
      ]
     },
     "metadata": {},
     "output_type": "display_data"
    },
    {
     "data": {
      "image/png": "[encoded data removed]",
      "text/plain": [
       "<rdkit.Chem.rdchem.Mol at 0x1cf898443a0>"
      ]
     },
     "metadata": {},
     "output_type": "display_data"
    },
    {
     "data": {
      "image/png": "[encoded data removed]",
      "text/plain": [
       "<rdkit.Chem.rdchem.Mol at 0x1cf898443a0>"
      ]
     },
     "metadata": {},
     "output_type": "display_data"
    },
    {
     "data": {
      "image/png": "[encoded data removed]",
      "text/plain": [
       "<rdkit.Chem.rdchem.Mol at 0x1cf898443a0>"
      ]
     },
     "metadata": {},
     "output_type": "display_data"
    }
   ],
   "source": [
    "for mol in compare_data.sort_values(by=['error'], ascending=False).head().smiles:\n",
    "    mol = Chem.MolFromSmiles(mol)\n",
    "    display(mol)"
   ]
  },
  {
   "cell_type": "code",
   "execution_count": 13,
   "metadata": {},
   "outputs": [
    {
     "data": {
      "image/png": "[encoded data removed]",
      "text/plain": [
       "<rdkit.Chem.rdchem.Mol at 0x1cf8983ae90>"
      ]
     },
     "metadata": {},
     "output_type": "display_data"
    },
    {
     "data": {
      "image/png": "[encoded data removed]",
      "text/plain": [
       "<rdkit.Chem.rdchem.Mol at 0x1cf8983ae90>"
      ]
     },
     "metadata": {},
     "output_type": "display_data"
    },
    {
     "data": {
      "image/png": "[encoded data removed]",
      "text/plain": [
       "<rdkit.Chem.rdchem.Mol at 0x1cf8983ae90>"
      ]
     },
     "metadata": {},
     "output_type": "display_data"
    },
    {
     "data": {
      "image/png": "[encoded data removed]",
      "text/plain": [
       "<rdkit.Chem.rdchem.Mol at 0x1cf8983ae90>"
      ]
     },
     "metadata": {},
     "output_type": "display_data"
    },
    {
     "data": {
      "image/png": "[encoded data removed]",
      "text/plain": [
       "<rdkit.Chem.rdchem.Mol at 0x1cf8983ae90>"
      ]
     },
     "metadata": {},
     "output_type": "display_data"
    }
   ],
   "source": [
    "for mol in compare_data.sort_values(by=['error'], ascending=True).head().smiles:\n",
    "    mol = Chem.MolFromSmiles(mol)\n",
    "    display(mol)"
   ]
  },
  {
   "cell_type": "code",
   "execution_count": 14,
   "metadata": {},
   "outputs": [],
   "source": [
    "compare_data = compare_data.sort_values(by=['error'])"
   ]
  },
  {
   "cell_type": "markdown",
   "metadata": {},
   "source": [
    "## Creating comparing function\n",
    "### The features to compare:\n",
    "- The count of atoms\n",
    "- The count of rings\n",
    "- The count of not organogens atoms\n",
    "- The percent of not organogens atoms\n",
    "- The percent of aromatic (benzene) rings out of all rings\n",
    "- The count and percent of aromatic bonds\n",
    "- The symmetry of molecules"
   ]
  },
  {
   "cell_type": "code",
   "execution_count": 15,
   "metadata": {},
   "outputs": [],
   "source": [
    "def create_statistics(vals):\n",
    "    values = vals.copy()\n",
    "    mols = [Chem.MolFromSmiles(x) for x in values.smiles]\n",
    "    \n",
    "    atom_count = [mol.GetNumAtoms() for mol in mols]\n",
    "    values['atom_count'] = pd.Series(atom_count)\n",
    "    \n",
    "    values['ring_count'] = pd.Series([mol.GetRingInfo().NumRings() for mol in mols])\n",
    "    \n",
    "    mol_atoms = [mol.GetAtoms() for mol in mols]\n",
    "    non_simple_atom_count = [sum((num.GetAtomicNum() not in [1, 6, 8, 7]) for num in m_atoms) for m_atoms in mol_atoms]\n",
    "    values['non_organogens_count'] = pd.Series(non_simple_atom_count)\n",
    "    \n",
    "    values['non_organogens_percent'] = values.non_organogens_count / values.atom_count *100\n",
    "    \n",
    "    benzene_smiles = 'C1=CC=CC=C1'\n",
    "    pattern = Chem.MolFromSmiles(benzene_smiles)\n",
    "    values['aromatic_count'] = pd.Series([len(mol.GetSubstructMatches(pattern)) for mol in mols])\n",
    "    \n",
    "    values['aromatic_rings_percent'] = values.aromatic_count / values.ring_count *100\n",
    "    values['aromatic_rings_percent'] = values['aromatic_rings_percent'].fillna(0)\n",
    "    \n",
    "    values['bond_count'] =  [len(mol.GetBonds()) for mol in mols]\n",
    "    values['aromatic_bond_count'] = [sum(bond.GetIsAromatic() for bond in mol.GetBonds()) for mol in mols]\n",
    "    values['aromatic_bond_percent'] = values.aromatic_bond_count / values.bond_count * 100\n",
    "    \n",
    "    values_list = [pd.Series(Chem.CanonicalRankAtoms(mol, breakTies=False)).value_counts() for mol in mols]\n",
    "    values['is_symmetric'] =  [(len(values) - 1 <= len(values[values % 2 == 0])) or (len(values) - 1 <= len(values[(values % 2 == 1) & (values > 1)])) for values in values_list]\n",
    "    \n",
    "    return values"
   ]
  },
  {
   "cell_type": "markdown",
   "metadata": {},
   "source": [
    "## Analyzing the data features"
   ]
  },
  {
   "cell_type": "code",
   "execution_count": 16,
   "metadata": {},
   "outputs": [],
   "source": [
    "compare_data_with_stats = create_statistics(compare_data)"
   ]
  },
  {
   "cell_type": "code",
   "execution_count": 17,
   "metadata": {},
   "outputs": [
    {
     "data": {
      "text/html": [
       "<div>\n",
       "<style scoped>\n",
       "    .dataframe tbody tr th:only-of-type {\n",
       "        vertical-align: middle;\n",
       "    }\n",
       "\n",
       "    .dataframe tbody tr th {\n",
       "        vertical-align: top;\n",
       "    }\n",
       "\n",
       "    .dataframe thead th {\n",
       "        text-align: right;\n",
       "    }\n",
       "</style>\n",
       "<table border=\"1\" class=\"dataframe\">\n",
       "  <thead>\n",
       "    <tr style=\"text-align: right;\">\n",
       "      <th></th>\n",
       "      <th>smiles</th>\n",
       "      <th>y_expected</th>\n",
       "      <th>y_predicted</th>\n",
       "      <th>error</th>\n",
       "      <th>atom_count</th>\n",
       "      <th>ring_count</th>\n",
       "      <th>non_organogens_count</th>\n",
       "      <th>non_organogens_percent</th>\n",
       "      <th>aromatic_count</th>\n",
       "      <th>aromatic_rings_percent</th>\n",
       "      <th>bond_count</th>\n",
       "      <th>aromatic_bond_count</th>\n",
       "      <th>aromatic_bond_percent</th>\n",
       "      <th>is_symmetric</th>\n",
       "    </tr>\n",
       "  </thead>\n",
       "  <tbody>\n",
       "    <tr>\n",
       "      <th>1186</th>\n",
       "      <td>CN(C(=O)CCCl)c1ccc(S(=O)(=O)N(C)C)cc1</td>\n",
       "      <td>0.98</td>\n",
       "      <td>0.980007</td>\n",
       "      <td>5.184000e-11</td>\n",
       "      <td>17</td>\n",
       "      <td>2</td>\n",
       "      <td>2</td>\n",
       "      <td>11.764706</td>\n",
       "      <td>0</td>\n",
       "      <td>0.0</td>\n",
       "      <td>19</td>\n",
       "      <td>6</td>\n",
       "      <td>31.578947</td>\n",
       "      <td>False</td>\n",
       "    </tr>\n",
       "    <tr>\n",
       "      <th>1089</th>\n",
       "      <td>CCC(CO)n1cnc2c(=N)[nH]cnc21</td>\n",
       "      <td>0.14</td>\n",
       "      <td>0.139901</td>\n",
       "      <td>9.725904e-09</td>\n",
       "      <td>13</td>\n",
       "      <td>1</td>\n",
       "      <td>1</td>\n",
       "      <td>7.692308</td>\n",
       "      <td>1</td>\n",
       "      <td>100.0</td>\n",
       "      <td>16</td>\n",
       "      <td>10</td>\n",
       "      <td>62.500000</td>\n",
       "      <td>False</td>\n",
       "    </tr>\n",
       "    <tr>\n",
       "      <th>1312</th>\n",
       "      <td>C#CCC(O)(c1ccc(F)cc1)c1cccnc1</td>\n",
       "      <td>1.78</td>\n",
       "      <td>1.780633</td>\n",
       "      <td>4.009422e-07</td>\n",
       "      <td>27</td>\n",
       "      <td>4</td>\n",
       "      <td>1</td>\n",
       "      <td>3.703704</td>\n",
       "      <td>2</td>\n",
       "      <td>50.0</td>\n",
       "      <td>19</td>\n",
       "      <td>12</td>\n",
       "      <td>63.157895</td>\n",
       "      <td>False</td>\n",
       "    </tr>\n",
       "    <tr>\n",
       "      <th>865</th>\n",
       "      <td>NC(=O)COc1ccccc1</td>\n",
       "      <td>0.76</td>\n",
       "      <td>0.759117</td>\n",
       "      <td>7.795654e-07</td>\n",
       "      <td>26</td>\n",
       "      <td>2</td>\n",
       "      <td>1</td>\n",
       "      <td>3.846154</td>\n",
       "      <td>1</td>\n",
       "      <td>50.0</td>\n",
       "      <td>11</td>\n",
       "      <td>6</td>\n",
       "      <td>54.545455</td>\n",
       "      <td>False</td>\n",
       "    </tr>\n",
       "    <tr>\n",
       "      <th>1227</th>\n",
       "      <td>C#CCOc1cc(OC(=O)N2CCCC2)c(Cl)cc1Cl</td>\n",
       "      <td>3.82</td>\n",
       "      <td>3.819049</td>\n",
       "      <td>9.036404e-07</td>\n",
       "      <td>13</td>\n",
       "      <td>1</td>\n",
       "      <td>0</td>\n",
       "      <td>0.000000</td>\n",
       "      <td>1</td>\n",
       "      <td>100.0</td>\n",
       "      <td>21</td>\n",
       "      <td>6</td>\n",
       "      <td>28.571429</td>\n",
       "      <td>False</td>\n",
       "    </tr>\n",
       "  </tbody>\n",
       "</table>\n",
       "</div>"
      ],
      "text/plain": [
       "                                     smiles  y_expected  y_predicted  \\\n",
       "1186  CN(C(=O)CCCl)c1ccc(S(=O)(=O)N(C)C)cc1        0.98     0.980007   \n",
       "1089            CCC(CO)n1cnc2c(=N)[nH]cnc21        0.14     0.139901   \n",
       "1312          C#CCC(O)(c1ccc(F)cc1)c1cccnc1        1.78     1.780633   \n",
       "865                        NC(=O)COc1ccccc1        0.76     0.759117   \n",
       "1227     C#CCOc1cc(OC(=O)N2CCCC2)c(Cl)cc1Cl        3.82     3.819049   \n",
       "\n",
       "             error  atom_count  ring_count  non_organogens_count  \\\n",
       "1186  5.184000e-11          17           2                     2   \n",
       "1089  9.725904e-09          13           1                     1   \n",
       "1312  4.009422e-07          27           4                     1   \n",
       "865   7.795654e-07          26           2                     1   \n",
       "1227  9.036404e-07          13           1                     0   \n",
       "\n",
       "      non_organogens_percent  aromatic_count  aromatic_rings_percent  \\\n",
       "1186               11.764706               0                     0.0   \n",
       "1089                7.692308               1                   100.0   \n",
       "1312                3.703704               2                    50.0   \n",
       "865                 3.846154               1                    50.0   \n",
       "1227                0.000000               1                   100.0   \n",
       "\n",
       "      bond_count  aromatic_bond_count  aromatic_bond_percent  is_symmetric  \n",
       "1186          19                    6              31.578947         False  \n",
       "1089          16                   10              62.500000         False  \n",
       "1312          19                   12              63.157895         False  \n",
       "865           11                    6              54.545455         False  \n",
       "1227          21                    6              28.571429         False  "
      ]
     },
     "execution_count": 17,
     "metadata": {},
     "output_type": "execute_result"
    }
   ],
   "source": [
    "compare_data_with_stats.head()"
   ]
  },
  {
   "cell_type": "markdown",
   "metadata": {},
   "source": [
    "#### Splitting data into 3 parts"
   ]
  },
  {
   "cell_type": "code",
   "execution_count": 18,
   "metadata": {},
   "outputs": [],
   "source": [
    "data = []\n",
    "for i in range(3):\n",
    "    data.append(compare_data_with_stats.take([j for j in range(i * 1894 // 3, min((i + 1) * 1894 // 3, 1894))]))"
   ]
  },
  {
   "cell_type": "code",
   "execution_count": 19,
   "metadata": {
    "scrolled": false
   },
   "outputs": [
    {
     "data": {
      "text/html": [
       "<div>\n",
       "<style scoped>\n",
       "    .dataframe tbody tr th:only-of-type {\n",
       "        vertical-align: middle;\n",
       "    }\n",
       "\n",
       "    .dataframe tbody tr th {\n",
       "        vertical-align: top;\n",
       "    }\n",
       "\n",
       "    .dataframe thead th {\n",
       "        text-align: right;\n",
       "    }\n",
       "</style>\n",
       "<table border=\"1\" class=\"dataframe\">\n",
       "  <thead>\n",
       "    <tr style=\"text-align: right;\">\n",
       "      <th></th>\n",
       "      <th>y_expected</th>\n",
       "      <th>y_predicted</th>\n",
       "      <th>error</th>\n",
       "      <th>atom_count</th>\n",
       "      <th>ring_count</th>\n",
       "      <th>non_organogens_count</th>\n",
       "      <th>non_organogens_percent</th>\n",
       "      <th>aromatic_count</th>\n",
       "      <th>aromatic_rings_percent</th>\n",
       "      <th>bond_count</th>\n",
       "      <th>aromatic_bond_count</th>\n",
       "      <th>aromatic_bond_percent</th>\n",
       "    </tr>\n",
       "  </thead>\n",
       "  <tbody>\n",
       "    <tr>\n",
       "      <th>count</th>\n",
       "      <td>631.000000</td>\n",
       "      <td>631.000000</td>\n",
       "      <td>6.310000e+02</td>\n",
       "      <td>631.000000</td>\n",
       "      <td>631.00000</td>\n",
       "      <td>631.000000</td>\n",
       "      <td>631.000000</td>\n",
       "      <td>631.000000</td>\n",
       "      <td>631.000000</td>\n",
       "      <td>631.000000</td>\n",
       "      <td>631.000000</td>\n",
       "      <td>631.000000</td>\n",
       "    </tr>\n",
       "    <tr>\n",
       "      <th>mean</th>\n",
       "      <td>2.113214</td>\n",
       "      <td>2.113938</td>\n",
       "      <td>4.578645e-03</td>\n",
       "      <td>16.348653</td>\n",
       "      <td>1.66878</td>\n",
       "      <td>0.893819</td>\n",
       "      <td>5.883874</td>\n",
       "      <td>0.887480</td>\n",
       "      <td>52.876387</td>\n",
       "      <td>16.702060</td>\n",
       "      <td>7.437401</td>\n",
       "      <td>45.815487</td>\n",
       "    </tr>\n",
       "    <tr>\n",
       "      <th>std</th>\n",
       "      <td>1.756113</td>\n",
       "      <td>1.753779</td>\n",
       "      <td>4.369375e-03</td>\n",
       "      <td>6.804445</td>\n",
       "      <td>1.08509</td>\n",
       "      <td>1.375457</td>\n",
       "      <td>9.348225</td>\n",
       "      <td>0.773583</td>\n",
       "      <td>42.465858</td>\n",
       "      <td>7.148314</td>\n",
       "      <td>4.206434</td>\n",
       "      <td>22.917672</td>\n",
       "    </tr>\n",
       "    <tr>\n",
       "      <th>min</th>\n",
       "      <td>-3.170000</td>\n",
       "      <td>-3.205177</td>\n",
       "      <td>5.184000e-11</td>\n",
       "      <td>5.000000</td>\n",
       "      <td>0.00000</td>\n",
       "      <td>0.000000</td>\n",
       "      <td>0.000000</td>\n",
       "      <td>0.000000</td>\n",
       "      <td>0.000000</td>\n",
       "      <td>4.000000</td>\n",
       "      <td>0.000000</td>\n",
       "      <td>0.000000</td>\n",
       "    </tr>\n",
       "    <tr>\n",
       "      <th>25%</th>\n",
       "      <td>0.950000</td>\n",
       "      <td>0.954194</td>\n",
       "      <td>7.436794e-04</td>\n",
       "      <td>11.000000</td>\n",
       "      <td>1.00000</td>\n",
       "      <td>0.000000</td>\n",
       "      <td>0.000000</td>\n",
       "      <td>0.000000</td>\n",
       "      <td>0.000000</td>\n",
       "      <td>12.000000</td>\n",
       "      <td>6.000000</td>\n",
       "      <td>33.333333</td>\n",
       "    </tr>\n",
       "    <tr>\n",
       "      <th>50%</th>\n",
       "      <td>1.960000</td>\n",
       "      <td>1.923904</td>\n",
       "      <td>2.951358e-03</td>\n",
       "      <td>16.000000</td>\n",
       "      <td>1.00000</td>\n",
       "      <td>0.000000</td>\n",
       "      <td>0.000000</td>\n",
       "      <td>1.000000</td>\n",
       "      <td>50.000000</td>\n",
       "      <td>16.000000</td>\n",
       "      <td>6.000000</td>\n",
       "      <td>48.000000</td>\n",
       "    </tr>\n",
       "    <tr>\n",
       "      <th>75%</th>\n",
       "      <td>3.135000</td>\n",
       "      <td>3.131145</td>\n",
       "      <td>7.859408e-03</td>\n",
       "      <td>20.000000</td>\n",
       "      <td>2.00000</td>\n",
       "      <td>1.000000</td>\n",
       "      <td>8.333333</td>\n",
       "      <td>1.000000</td>\n",
       "      <td>100.000000</td>\n",
       "      <td>20.000000</td>\n",
       "      <td>11.000000</td>\n",
       "      <td>60.000000</td>\n",
       "    </tr>\n",
       "    <tr>\n",
       "      <th>max</th>\n",
       "      <td>8.200000</td>\n",
       "      <td>8.185325</td>\n",
       "      <td>1.450986e-02</td>\n",
       "      <td>57.000000</td>\n",
       "      <td>8.00000</td>\n",
       "      <td>9.000000</td>\n",
       "      <td>80.000000</td>\n",
       "      <td>6.000000</td>\n",
       "      <td>100.000000</td>\n",
       "      <td>64.000000</td>\n",
       "      <td>26.000000</td>\n",
       "      <td>100.000000</td>\n",
       "    </tr>\n",
       "  </tbody>\n",
       "</table>\n",
       "</div>"
      ],
      "text/plain": [
       "       y_expected  y_predicted         error  atom_count  ring_count  \\\n",
       "count  631.000000   631.000000  6.310000e+02  631.000000   631.00000   \n",
       "mean     2.113214     2.113938  4.578645e-03   16.348653     1.66878   \n",
       "std      1.756113     1.753779  4.369375e-03    6.804445     1.08509   \n",
       "min     -3.170000    -3.205177  5.184000e-11    5.000000     0.00000   \n",
       "25%      0.950000     0.954194  7.436794e-04   11.000000     1.00000   \n",
       "50%      1.960000     1.923904  2.951358e-03   16.000000     1.00000   \n",
       "75%      3.135000     3.131145  7.859408e-03   20.000000     2.00000   \n",
       "max      8.200000     8.185325  1.450986e-02   57.000000     8.00000   \n",
       "\n",
       "       non_organogens_count  non_organogens_percent  aromatic_count  \\\n",
       "count            631.000000              631.000000      631.000000   \n",
       "mean               0.893819                5.883874        0.887480   \n",
       "std                1.375457                9.348225        0.773583   \n",
       "min                0.000000                0.000000        0.000000   \n",
       "25%                0.000000                0.000000        0.000000   \n",
       "50%                0.000000                0.000000        1.000000   \n",
       "75%                1.000000                8.333333        1.000000   \n",
       "max                9.000000               80.000000        6.000000   \n",
       "\n",
       "       aromatic_rings_percent  bond_count  aromatic_bond_count  \\\n",
       "count              631.000000  631.000000           631.000000   \n",
       "mean                52.876387   16.702060             7.437401   \n",
       "std                 42.465858    7.148314             4.206434   \n",
       "min                  0.000000    4.000000             0.000000   \n",
       "25%                  0.000000   12.000000             6.000000   \n",
       "50%                 50.000000   16.000000             6.000000   \n",
       "75%                100.000000   20.000000            11.000000   \n",
       "max                100.000000   64.000000            26.000000   \n",
       "\n",
       "       aromatic_bond_percent  \n",
       "count             631.000000  \n",
       "mean               45.815487  \n",
       "std                22.917672  \n",
       "min                 0.000000  \n",
       "25%                33.333333  \n",
       "50%                48.000000  \n",
       "75%                60.000000  \n",
       "max               100.000000  "
      ]
     },
     "execution_count": 19,
     "metadata": {},
     "output_type": "execute_result"
    }
   ],
   "source": [
    "data[0].describe()"
   ]
  },
  {
   "cell_type": "code",
   "execution_count": 20,
   "metadata": {
    "scrolled": true
   },
   "outputs": [
    {
     "data": {
      "text/html": [
       "<div>\n",
       "<style scoped>\n",
       "    .dataframe tbody tr th:only-of-type {\n",
       "        vertical-align: middle;\n",
       "    }\n",
       "\n",
       "    .dataframe tbody tr th {\n",
       "        vertical-align: top;\n",
       "    }\n",
       "\n",
       "    .dataframe thead th {\n",
       "        text-align: right;\n",
       "    }\n",
       "</style>\n",
       "<table border=\"1\" class=\"dataframe\">\n",
       "  <thead>\n",
       "    <tr style=\"text-align: right;\">\n",
       "      <th></th>\n",
       "      <th>y_expected</th>\n",
       "      <th>y_predicted</th>\n",
       "      <th>error</th>\n",
       "      <th>atom_count</th>\n",
       "      <th>ring_count</th>\n",
       "      <th>non_organogens_count</th>\n",
       "      <th>non_organogens_percent</th>\n",
       "      <th>aromatic_count</th>\n",
       "      <th>aromatic_rings_percent</th>\n",
       "      <th>bond_count</th>\n",
       "      <th>aromatic_bond_count</th>\n",
       "      <th>aromatic_bond_percent</th>\n",
       "    </tr>\n",
       "  </thead>\n",
       "  <tbody>\n",
       "    <tr>\n",
       "      <th>count</th>\n",
       "      <td>631.000000</td>\n",
       "      <td>631.000000</td>\n",
       "      <td>631.000000</td>\n",
       "      <td>631.000000</td>\n",
       "      <td>631.000000</td>\n",
       "      <td>631.000000</td>\n",
       "      <td>631.000000</td>\n",
       "      <td>631.000000</td>\n",
       "      <td>631.000000</td>\n",
       "      <td>631.000000</td>\n",
       "      <td>631.000000</td>\n",
       "      <td>631.000000</td>\n",
       "    </tr>\n",
       "    <tr>\n",
       "      <th>mean</th>\n",
       "      <td>1.991553</td>\n",
       "      <td>1.971689</td>\n",
       "      <td>0.044755</td>\n",
       "      <td>16.870048</td>\n",
       "      <td>1.711569</td>\n",
       "      <td>0.862124</td>\n",
       "      <td>5.608677</td>\n",
       "      <td>0.889065</td>\n",
       "      <td>53.339937</td>\n",
       "      <td>16.602219</td>\n",
       "      <td>6.949287</td>\n",
       "      <td>42.486304</td>\n",
       "    </tr>\n",
       "    <tr>\n",
       "      <th>std</th>\n",
       "      <td>1.690116</td>\n",
       "      <td>1.668921</td>\n",
       "      <td>0.021399</td>\n",
       "      <td>7.714483</td>\n",
       "      <td>1.152985</td>\n",
       "      <td>1.373794</td>\n",
       "      <td>9.507736</td>\n",
       "      <td>0.780958</td>\n",
       "      <td>42.822242</td>\n",
       "      <td>7.374253</td>\n",
       "      <td>4.463677</td>\n",
       "      <td>25.308959</td>\n",
       "    </tr>\n",
       "    <tr>\n",
       "      <th>min</th>\n",
       "      <td>-2.780000</td>\n",
       "      <td>-2.971633</td>\n",
       "      <td>0.014581</td>\n",
       "      <td>5.000000</td>\n",
       "      <td>0.000000</td>\n",
       "      <td>0.000000</td>\n",
       "      <td>0.000000</td>\n",
       "      <td>0.000000</td>\n",
       "      <td>0.000000</td>\n",
       "      <td>4.000000</td>\n",
       "      <td>0.000000</td>\n",
       "      <td>0.000000</td>\n",
       "    </tr>\n",
       "    <tr>\n",
       "      <th>25%</th>\n",
       "      <td>0.770000</td>\n",
       "      <td>0.829325</td>\n",
       "      <td>0.026690</td>\n",
       "      <td>12.000000</td>\n",
       "      <td>1.000000</td>\n",
       "      <td>0.000000</td>\n",
       "      <td>0.000000</td>\n",
       "      <td>0.000000</td>\n",
       "      <td>0.000000</td>\n",
       "      <td>11.500000</td>\n",
       "      <td>6.000000</td>\n",
       "      <td>28.991597</td>\n",
       "    </tr>\n",
       "    <tr>\n",
       "      <th>50%</th>\n",
       "      <td>1.800000</td>\n",
       "      <td>1.838193</td>\n",
       "      <td>0.041495</td>\n",
       "      <td>16.000000</td>\n",
       "      <td>1.000000</td>\n",
       "      <td>0.000000</td>\n",
       "      <td>0.000000</td>\n",
       "      <td>1.000000</td>\n",
       "      <td>50.000000</td>\n",
       "      <td>16.000000</td>\n",
       "      <td>6.000000</td>\n",
       "      <td>44.444444</td>\n",
       "    </tr>\n",
       "    <tr>\n",
       "      <th>75%</th>\n",
       "      <td>2.945000</td>\n",
       "      <td>2.889028</td>\n",
       "      <td>0.060396</td>\n",
       "      <td>20.000000</td>\n",
       "      <td>2.000000</td>\n",
       "      <td>1.000000</td>\n",
       "      <td>8.333333</td>\n",
       "      <td>1.000000</td>\n",
       "      <td>100.000000</td>\n",
       "      <td>20.000000</td>\n",
       "      <td>11.000000</td>\n",
       "      <td>60.000000</td>\n",
       "    </tr>\n",
       "    <tr>\n",
       "      <th>max</th>\n",
       "      <td>7.910000</td>\n",
       "      <td>7.653224</td>\n",
       "      <td>0.091270</td>\n",
       "      <td>85.000000</td>\n",
       "      <td>8.000000</td>\n",
       "      <td>9.000000</td>\n",
       "      <td>60.000000</td>\n",
       "      <td>5.000000</td>\n",
       "      <td>100.000000</td>\n",
       "      <td>55.000000</td>\n",
       "      <td>27.000000</td>\n",
       "      <td>100.000000</td>\n",
       "    </tr>\n",
       "  </tbody>\n",
       "</table>\n",
       "</div>"
      ],
      "text/plain": [
       "       y_expected  y_predicted       error  atom_count  ring_count  \\\n",
       "count  631.000000   631.000000  631.000000  631.000000  631.000000   \n",
       "mean     1.991553     1.971689    0.044755   16.870048    1.711569   \n",
       "std      1.690116     1.668921    0.021399    7.714483    1.152985   \n",
       "min     -2.780000    -2.971633    0.014581    5.000000    0.000000   \n",
       "25%      0.770000     0.829325    0.026690   12.000000    1.000000   \n",
       "50%      1.800000     1.838193    0.041495   16.000000    1.000000   \n",
       "75%      2.945000     2.889028    0.060396   20.000000    2.000000   \n",
       "max      7.910000     7.653224    0.091270   85.000000    8.000000   \n",
       "\n",
       "       non_organogens_count  non_organogens_percent  aromatic_count  \\\n",
       "count            631.000000              631.000000      631.000000   \n",
       "mean               0.862124                5.608677        0.889065   \n",
       "std                1.373794                9.507736        0.780958   \n",
       "min                0.000000                0.000000        0.000000   \n",
       "25%                0.000000                0.000000        0.000000   \n",
       "50%                0.000000                0.000000        1.000000   \n",
       "75%                1.000000                8.333333        1.000000   \n",
       "max                9.000000               60.000000        5.000000   \n",
       "\n",
       "       aromatic_rings_percent  bond_count  aromatic_bond_count  \\\n",
       "count              631.000000  631.000000           631.000000   \n",
       "mean                53.339937   16.602219             6.949287   \n",
       "std                 42.822242    7.374253             4.463677   \n",
       "min                  0.000000    4.000000             0.000000   \n",
       "25%                  0.000000   11.500000             6.000000   \n",
       "50%                 50.000000   16.000000             6.000000   \n",
       "75%                100.000000   20.000000            11.000000   \n",
       "max                100.000000   55.000000            27.000000   \n",
       "\n",
       "       aromatic_bond_percent  \n",
       "count             631.000000  \n",
       "mean               42.486304  \n",
       "std                25.308959  \n",
       "min                 0.000000  \n",
       "25%                28.991597  \n",
       "50%                44.444444  \n",
       "75%                60.000000  \n",
       "max               100.000000  "
      ]
     },
     "execution_count": 20,
     "metadata": {},
     "output_type": "execute_result"
    }
   ],
   "source": [
    "data[1].describe()"
   ]
  },
  {
   "cell_type": "code",
   "execution_count": 21,
   "metadata": {
    "scrolled": false
   },
   "outputs": [
    {
     "data": {
      "text/html": [
       "<div>\n",
       "<style scoped>\n",
       "    .dataframe tbody tr th:only-of-type {\n",
       "        vertical-align: middle;\n",
       "    }\n",
       "\n",
       "    .dataframe tbody tr th {\n",
       "        vertical-align: top;\n",
       "    }\n",
       "\n",
       "    .dataframe thead th {\n",
       "        text-align: right;\n",
       "    }\n",
       "</style>\n",
       "<table border=\"1\" class=\"dataframe\">\n",
       "  <thead>\n",
       "    <tr style=\"text-align: right;\">\n",
       "      <th></th>\n",
       "      <th>y_expected</th>\n",
       "      <th>y_predicted</th>\n",
       "      <th>error</th>\n",
       "      <th>atom_count</th>\n",
       "      <th>ring_count</th>\n",
       "      <th>non_organogens_count</th>\n",
       "      <th>non_organogens_percent</th>\n",
       "      <th>aromatic_count</th>\n",
       "      <th>aromatic_rings_percent</th>\n",
       "      <th>bond_count</th>\n",
       "      <th>aromatic_bond_count</th>\n",
       "      <th>aromatic_bond_percent</th>\n",
       "    </tr>\n",
       "  </thead>\n",
       "  <tbody>\n",
       "    <tr>\n",
       "      <th>count</th>\n",
       "      <td>632.000000</td>\n",
       "      <td>632.000000</td>\n",
       "      <td>632.000000</td>\n",
       "      <td>632.000000</td>\n",
       "      <td>632.000000</td>\n",
       "      <td>632.000000</td>\n",
       "      <td>632.000000</td>\n",
       "      <td>632.000000</td>\n",
       "      <td>632.000000</td>\n",
       "      <td>632.000000</td>\n",
       "      <td>632.000000</td>\n",
       "      <td>632.000000</td>\n",
       "    </tr>\n",
       "    <tr>\n",
       "      <th>mean</th>\n",
       "      <td>2.008097</td>\n",
       "      <td>1.964323</td>\n",
       "      <td>0.777644</td>\n",
       "      <td>16.216772</td>\n",
       "      <td>1.655063</td>\n",
       "      <td>0.862342</td>\n",
       "      <td>5.566194</td>\n",
       "      <td>0.841772</td>\n",
       "      <td>51.147152</td>\n",
       "      <td>18.147152</td>\n",
       "      <td>7.281646</td>\n",
       "      <td>41.183088</td>\n",
       "    </tr>\n",
       "    <tr>\n",
       "      <th>std</th>\n",
       "      <td>1.984022</td>\n",
       "      <td>1.996055</td>\n",
       "      <td>9.178173</td>\n",
       "      <td>6.518692</td>\n",
       "      <td>1.052357</td>\n",
       "      <td>1.274537</td>\n",
       "      <td>8.269680</td>\n",
       "      <td>0.757610</td>\n",
       "      <td>42.893127</td>\n",
       "      <td>8.730815</td>\n",
       "      <td>4.846923</td>\n",
       "      <td>24.778466</td>\n",
       "    </tr>\n",
       "    <tr>\n",
       "      <th>min</th>\n",
       "      <td>-3.890000</td>\n",
       "      <td>-4.089780</td>\n",
       "      <td>0.091788</td>\n",
       "      <td>5.000000</td>\n",
       "      <td>0.000000</td>\n",
       "      <td>0.000000</td>\n",
       "      <td>0.000000</td>\n",
       "      <td>0.000000</td>\n",
       "      <td>0.000000</td>\n",
       "      <td>4.000000</td>\n",
       "      <td>0.000000</td>\n",
       "      <td>0.000000</td>\n",
       "    </tr>\n",
       "    <tr>\n",
       "      <th>25%</th>\n",
       "      <td>0.650000</td>\n",
       "      <td>0.703859</td>\n",
       "      <td>0.143146</td>\n",
       "      <td>12.000000</td>\n",
       "      <td>1.000000</td>\n",
       "      <td>0.000000</td>\n",
       "      <td>0.000000</td>\n",
       "      <td>0.000000</td>\n",
       "      <td>0.000000</td>\n",
       "      <td>12.750000</td>\n",
       "      <td>6.000000</td>\n",
       "      <td>27.272727</td>\n",
       "    </tr>\n",
       "    <tr>\n",
       "      <th>50%</th>\n",
       "      <td>1.840000</td>\n",
       "      <td>1.852062</td>\n",
       "      <td>0.224153</td>\n",
       "      <td>15.000000</td>\n",
       "      <td>1.000000</td>\n",
       "      <td>0.000000</td>\n",
       "      <td>0.000000</td>\n",
       "      <td>1.000000</td>\n",
       "      <td>50.000000</td>\n",
       "      <td>17.000000</td>\n",
       "      <td>6.000000</td>\n",
       "      <td>42.857143</td>\n",
       "    </tr>\n",
       "    <tr>\n",
       "      <th>75%</th>\n",
       "      <td>3.307500</td>\n",
       "      <td>3.067520</td>\n",
       "      <td>0.438154</td>\n",
       "      <td>20.000000</td>\n",
       "      <td>2.000000</td>\n",
       "      <td>1.000000</td>\n",
       "      <td>9.090909</td>\n",
       "      <td>1.000000</td>\n",
       "      <td>100.000000</td>\n",
       "      <td>22.000000</td>\n",
       "      <td>11.000000</td>\n",
       "      <td>60.000000</td>\n",
       "    </tr>\n",
       "    <tr>\n",
       "      <th>max</th>\n",
       "      <td>9.050000</td>\n",
       "      <td>16.529467</td>\n",
       "      <td>230.112729</td>\n",
       "      <td>54.000000</td>\n",
       "      <td>8.000000</td>\n",
       "      <td>8.000000</td>\n",
       "      <td>71.428571</td>\n",
       "      <td>5.000000</td>\n",
       "      <td>100.000000</td>\n",
       "      <td>88.000000</td>\n",
       "      <td>27.000000</td>\n",
       "      <td>100.000000</td>\n",
       "    </tr>\n",
       "  </tbody>\n",
       "</table>\n",
       "</div>"
      ],
      "text/plain": [
       "       y_expected  y_predicted       error  atom_count  ring_count  \\\n",
       "count  632.000000   632.000000  632.000000  632.000000  632.000000   \n",
       "mean     2.008097     1.964323    0.777644   16.216772    1.655063   \n",
       "std      1.984022     1.996055    9.178173    6.518692    1.052357   \n",
       "min     -3.890000    -4.089780    0.091788    5.000000    0.000000   \n",
       "25%      0.650000     0.703859    0.143146   12.000000    1.000000   \n",
       "50%      1.840000     1.852062    0.224153   15.000000    1.000000   \n",
       "75%      3.307500     3.067520    0.438154   20.000000    2.000000   \n",
       "max      9.050000    16.529467  230.112729   54.000000    8.000000   \n",
       "\n",
       "       non_organogens_count  non_organogens_percent  aromatic_count  \\\n",
       "count            632.000000              632.000000      632.000000   \n",
       "mean               0.862342                5.566194        0.841772   \n",
       "std                1.274537                8.269680        0.757610   \n",
       "min                0.000000                0.000000        0.000000   \n",
       "25%                0.000000                0.000000        0.000000   \n",
       "50%                0.000000                0.000000        1.000000   \n",
       "75%                1.000000                9.090909        1.000000   \n",
       "max                8.000000               71.428571        5.000000   \n",
       "\n",
       "       aromatic_rings_percent  bond_count  aromatic_bond_count  \\\n",
       "count              632.000000  632.000000           632.000000   \n",
       "mean                51.147152   18.147152             7.281646   \n",
       "std                 42.893127    8.730815             4.846923   \n",
       "min                  0.000000    4.000000             0.000000   \n",
       "25%                  0.000000   12.750000             6.000000   \n",
       "50%                 50.000000   17.000000             6.000000   \n",
       "75%                100.000000   22.000000            11.000000   \n",
       "max                100.000000   88.000000            27.000000   \n",
       "\n",
       "       aromatic_bond_percent  \n",
       "count             632.000000  \n",
       "mean               41.183088  \n",
       "std                24.778466  \n",
       "min                 0.000000  \n",
       "25%                27.272727  \n",
       "50%                42.857143  \n",
       "75%                60.000000  \n",
       "max               100.000000  "
      ]
     },
     "execution_count": 21,
     "metadata": {},
     "output_type": "execute_result"
    }
   ],
   "source": [
    "data[2].describe()"
   ]
  },
  {
   "cell_type": "markdown",
   "metadata": {},
   "source": [
    "## Check repeting patterns in the middle of the dataset\n",
    "Hypothesis: badly predicted molecules are symmetric (like 1, 3, 5 worst molecules)\n",
    "\n",
    "The simplest way to check: take 20 random molecules from the best/middle/worst part."
   ]
  },
  {
   "cell_type": "code",
   "execution_count": 22,
   "metadata": {},
   "outputs": [],
   "source": [
    "best = data[0].reset_index().drop(columns=['index'])"
   ]
  },
  {
   "cell_type": "code",
   "execution_count": 23,
   "metadata": {},
   "outputs": [
    {
     "data": {
      "text/html": [
       "<div>\n",
       "<style scoped>\n",
       "    .dataframe tbody tr th:only-of-type {\n",
       "        vertical-align: middle;\n",
       "    }\n",
       "\n",
       "    .dataframe tbody tr th {\n",
       "        vertical-align: top;\n",
       "    }\n",
       "\n",
       "    .dataframe thead th {\n",
       "        text-align: right;\n",
       "    }\n",
       "</style>\n",
       "<table border=\"1\" class=\"dataframe\">\n",
       "  <thead>\n",
       "    <tr style=\"text-align: right;\">\n",
       "      <th></th>\n",
       "      <th>smiles</th>\n",
       "      <th>y_expected</th>\n",
       "      <th>y_predicted</th>\n",
       "      <th>error</th>\n",
       "      <th>atom_count</th>\n",
       "      <th>ring_count</th>\n",
       "      <th>non_organogens_count</th>\n",
       "      <th>non_organogens_percent</th>\n",
       "      <th>aromatic_count</th>\n",
       "      <th>aromatic_rings_percent</th>\n",
       "      <th>bond_count</th>\n",
       "      <th>aromatic_bond_count</th>\n",
       "      <th>aromatic_bond_percent</th>\n",
       "      <th>is_symmetric</th>\n",
       "    </tr>\n",
       "  </thead>\n",
       "  <tbody>\n",
       "    <tr>\n",
       "      <th>0</th>\n",
       "      <td>CN(C(=O)CCCl)c1ccc(S(=O)(=O)N(C)C)cc1</td>\n",
       "      <td>0.98</td>\n",
       "      <td>0.980007</td>\n",
       "      <td>5.184000e-11</td>\n",
       "      <td>17</td>\n",
       "      <td>2</td>\n",
       "      <td>2</td>\n",
       "      <td>11.764706</td>\n",
       "      <td>0</td>\n",
       "      <td>0.0</td>\n",
       "      <td>19</td>\n",
       "      <td>6</td>\n",
       "      <td>31.578947</td>\n",
       "      <td>False</td>\n",
       "    </tr>\n",
       "    <tr>\n",
       "      <th>1</th>\n",
       "      <td>CCC(CO)n1cnc2c(=N)[nH]cnc21</td>\n",
       "      <td>0.14</td>\n",
       "      <td>0.139901</td>\n",
       "      <td>9.725904e-09</td>\n",
       "      <td>13</td>\n",
       "      <td>1</td>\n",
       "      <td>1</td>\n",
       "      <td>7.692308</td>\n",
       "      <td>1</td>\n",
       "      <td>100.0</td>\n",
       "      <td>16</td>\n",
       "      <td>10</td>\n",
       "      <td>62.500000</td>\n",
       "      <td>False</td>\n",
       "    </tr>\n",
       "    <tr>\n",
       "      <th>2</th>\n",
       "      <td>C#CCC(O)(c1ccc(F)cc1)c1cccnc1</td>\n",
       "      <td>1.78</td>\n",
       "      <td>1.780633</td>\n",
       "      <td>4.009422e-07</td>\n",
       "      <td>27</td>\n",
       "      <td>4</td>\n",
       "      <td>1</td>\n",
       "      <td>3.703704</td>\n",
       "      <td>2</td>\n",
       "      <td>50.0</td>\n",
       "      <td>19</td>\n",
       "      <td>12</td>\n",
       "      <td>63.157895</td>\n",
       "      <td>False</td>\n",
       "    </tr>\n",
       "    <tr>\n",
       "      <th>3</th>\n",
       "      <td>NC(=O)COc1ccccc1</td>\n",
       "      <td>0.76</td>\n",
       "      <td>0.759117</td>\n",
       "      <td>7.795654e-07</td>\n",
       "      <td>26</td>\n",
       "      <td>2</td>\n",
       "      <td>1</td>\n",
       "      <td>3.846154</td>\n",
       "      <td>1</td>\n",
       "      <td>50.0</td>\n",
       "      <td>11</td>\n",
       "      <td>6</td>\n",
       "      <td>54.545455</td>\n",
       "      <td>False</td>\n",
       "    </tr>\n",
       "    <tr>\n",
       "      <th>4</th>\n",
       "      <td>C#CCOc1cc(OC(=O)N2CCCC2)c(Cl)cc1Cl</td>\n",
       "      <td>3.82</td>\n",
       "      <td>3.819049</td>\n",
       "      <td>9.036404e-07</td>\n",
       "      <td>13</td>\n",
       "      <td>1</td>\n",
       "      <td>0</td>\n",
       "      <td>0.000000</td>\n",
       "      <td>1</td>\n",
       "      <td>100.0</td>\n",
       "      <td>21</td>\n",
       "      <td>6</td>\n",
       "      <td>28.571429</td>\n",
       "      <td>False</td>\n",
       "    </tr>\n",
       "  </tbody>\n",
       "</table>\n",
       "</div>"
      ],
      "text/plain": [
       "                                  smiles  y_expected  y_predicted  \\\n",
       "0  CN(C(=O)CCCl)c1ccc(S(=O)(=O)N(C)C)cc1        0.98     0.980007   \n",
       "1            CCC(CO)n1cnc2c(=N)[nH]cnc21        0.14     0.139901   \n",
       "2          C#CCC(O)(c1ccc(F)cc1)c1cccnc1        1.78     1.780633   \n",
       "3                       NC(=O)COc1ccccc1        0.76     0.759117   \n",
       "4     C#CCOc1cc(OC(=O)N2CCCC2)c(Cl)cc1Cl        3.82     3.819049   \n",
       "\n",
       "          error  atom_count  ring_count  non_organogens_count  \\\n",
       "0  5.184000e-11          17           2                     2   \n",
       "1  9.725904e-09          13           1                     1   \n",
       "2  4.009422e-07          27           4                     1   \n",
       "3  7.795654e-07          26           2                     1   \n",
       "4  9.036404e-07          13           1                     0   \n",
       "\n",
       "   non_organogens_percent  aromatic_count  aromatic_rings_percent  bond_count  \\\n",
       "0               11.764706               0                     0.0          19   \n",
       "1                7.692308               1                   100.0          16   \n",
       "2                3.703704               2                    50.0          19   \n",
       "3                3.846154               1                    50.0          11   \n",
       "4                0.000000               1                   100.0          21   \n",
       "\n",
       "   aromatic_bond_count  aromatic_bond_percent  is_symmetric  \n",
       "0                    6              31.578947         False  \n",
       "1                   10              62.500000         False  \n",
       "2                   12              63.157895         False  \n",
       "3                    6              54.545455         False  \n",
       "4                    6              28.571429         False  "
      ]
     },
     "execution_count": 23,
     "metadata": {},
     "output_type": "execute_result"
    }
   ],
   "source": [
    "best.head()"
   ]
  },
  {
   "cell_type": "code",
   "execution_count": 24,
   "metadata": {},
   "outputs": [],
   "source": [
    "np.random.seed = 10\n",
    "indices = pd.Series(np.random.randint(631, size=10))"
   ]
  },
  {
   "cell_type": "code",
   "execution_count": 25,
   "metadata": {},
   "outputs": [
    {
     "data": {
      "image/png": "[encoded data removed]",
      "text/plain": [
       "<rdkit.Chem.rdchem.Mol at 0x1cf8ad04670>"
      ]
     },
     "metadata": {},
     "output_type": "display_data"
    },
    {
     "data": {
      "image/png": "[encoded data removed]",
      "text/plain": [
       "<rdkit.Chem.rdchem.Mol at 0x1cf8ad04800>"
      ]
     },
     "metadata": {},
     "output_type": "display_data"
    },
    {
     "data": {
      "image/png": "[encoded data removed]",
      "text/plain": [
       "<rdkit.Chem.rdchem.Mol at 0x1cf8ad048a0>"
      ]
     },
     "metadata": {},
     "output_type": "display_data"
    },
    {
     "data": {
      "image/png": "[encoded data removed]",
      "text/plain": [
       "<rdkit.Chem.rdchem.Mol at 0x1cf8ad04800>"
      ]
     },
     "metadata": {},
     "output_type": "display_data"
    },
    {
     "data": {
      "image/png": "[encoded data removed]",
      "text/plain": [
       "<rdkit.Chem.rdchem.Mol at 0x1cf8ad048a0>"
      ]
     },
     "metadata": {},
     "output_type": "display_data"
    },
    {
     "data": {
      "image/png": "[encoded data removed]",
      "text/plain": [
       "<rdkit.Chem.rdchem.Mol at 0x1cf8ad04670>"
      ]
     },
     "metadata": {},
     "output_type": "display_data"
    },
    {
     "data": {
      "image/png": "[encoded data removed]",
      "text/plain": [
       "<rdkit.Chem.rdchem.Mol at 0x1cf8ad04800>"
      ]
     },
     "metadata": {},
     "output_type": "display_data"
    },
    {
     "data": {
      "image/png": "[encoded data removed]",
      "text/plain": [
       "<rdkit.Chem.rdchem.Mol at 0x1cf8ad048a0>"
      ]
     },
     "metadata": {},
     "output_type": "display_data"
    },
    {
     "data": {
      "image/png": "[encoded data removed]",
      "text/plain": [
       "<rdkit.Chem.rdchem.Mol at 0x1cf8ad04670>"
      ]
     },
     "metadata": {},
     "output_type": "display_data"
    },
    {
     "data": {
      "image/png": "[encoded data removed]",
      "text/plain": [
       "<rdkit.Chem.rdchem.Mol at 0x1cf8ad04800>"
      ]
     },
     "metadata": {},
     "output_type": "display_data"
    }
   ],
   "source": [
    "for smiles in best.loc[indices].smiles:\n",
    "    mol = Chem.MolFromSmiles(smiles)\n",
    "    display(mol)"
   ]
  },
  {
   "cell_type": "code",
   "execution_count": 26,
   "metadata": {},
   "outputs": [],
   "source": [
    "np.random.seed = 10\n",
    "indices = pd.Series(np.random.randint(631, size=20))"
   ]
  },
  {
   "cell_type": "code",
   "execution_count": 27,
   "metadata": {},
   "outputs": [],
   "source": [
    "middle = data[1].reset_index().drop(columns=['index'])"
   ]
  },
  {
   "cell_type": "code",
   "execution_count": 28,
   "metadata": {},
   "outputs": [
    {
     "data": {
      "text/html": [
       "<div>\n",
       "<style scoped>\n",
       "    .dataframe tbody tr th:only-of-type {\n",
       "        vertical-align: middle;\n",
       "    }\n",
       "\n",
       "    .dataframe tbody tr th {\n",
       "        vertical-align: top;\n",
       "    }\n",
       "\n",
       "    .dataframe thead th {\n",
       "        text-align: right;\n",
       "    }\n",
       "</style>\n",
       "<table border=\"1\" class=\"dataframe\">\n",
       "  <thead>\n",
       "    <tr style=\"text-align: right;\">\n",
       "      <th></th>\n",
       "      <th>smiles</th>\n",
       "      <th>y_expected</th>\n",
       "      <th>y_predicted</th>\n",
       "      <th>error</th>\n",
       "      <th>atom_count</th>\n",
       "      <th>ring_count</th>\n",
       "      <th>non_organogens_count</th>\n",
       "      <th>non_organogens_percent</th>\n",
       "      <th>aromatic_count</th>\n",
       "      <th>aromatic_rings_percent</th>\n",
       "      <th>bond_count</th>\n",
       "      <th>aromatic_bond_count</th>\n",
       "      <th>aromatic_bond_percent</th>\n",
       "      <th>is_symmetric</th>\n",
       "    </tr>\n",
       "  </thead>\n",
       "  <tbody>\n",
       "    <tr>\n",
       "      <th>0</th>\n",
       "      <td>CCOC(=O)NC1=NCC(c2cccc(C)c2C)N1C</td>\n",
       "      <td>2.57</td>\n",
       "      <td>2.449250</td>\n",
       "      <td>0.014581</td>\n",
       "      <td>15</td>\n",
       "      <td>1</td>\n",
       "      <td>0</td>\n",
       "      <td>0.000000</td>\n",
       "      <td>1</td>\n",
       "      <td>100.000000</td>\n",
       "      <td>21</td>\n",
       "      <td>6</td>\n",
       "      <td>28.571429</td>\n",
       "      <td>False</td>\n",
       "    </tr>\n",
       "    <tr>\n",
       "      <th>1</th>\n",
       "      <td>CNC12CCCCC1CSc1ccccc12</td>\n",
       "      <td>3.88</td>\n",
       "      <td>3.758965</td>\n",
       "      <td>0.014649</td>\n",
       "      <td>16</td>\n",
       "      <td>2</td>\n",
       "      <td>0</td>\n",
       "      <td>0.000000</td>\n",
       "      <td>1</td>\n",
       "      <td>50.000000</td>\n",
       "      <td>18</td>\n",
       "      <td>6</td>\n",
       "      <td>33.333333</td>\n",
       "      <td>False</td>\n",
       "    </tr>\n",
       "    <tr>\n",
       "      <th>2</th>\n",
       "      <td>CN(C)N=Nc1ccc(S(=O)(=O)CCO)cc1</td>\n",
       "      <td>1.15</td>\n",
       "      <td>1.028135</td>\n",
       "      <td>0.014851</td>\n",
       "      <td>9</td>\n",
       "      <td>2</td>\n",
       "      <td>0</td>\n",
       "      <td>0.000000</td>\n",
       "      <td>1</td>\n",
       "      <td>50.000000</td>\n",
       "      <td>17</td>\n",
       "      <td>6</td>\n",
       "      <td>35.294118</td>\n",
       "      <td>False</td>\n",
       "    </tr>\n",
       "    <tr>\n",
       "      <th>3</th>\n",
       "      <td>N=c1[nH]nc(CCc2ccccc2)o1</td>\n",
       "      <td>1.19</td>\n",
       "      <td>1.068082</td>\n",
       "      <td>0.014864</td>\n",
       "      <td>21</td>\n",
       "      <td>3</td>\n",
       "      <td>1</td>\n",
       "      <td>4.761905</td>\n",
       "      <td>2</td>\n",
       "      <td>66.666667</td>\n",
       "      <td>15</td>\n",
       "      <td>11</td>\n",
       "      <td>73.333333</td>\n",
       "      <td>False</td>\n",
       "    </tr>\n",
       "    <tr>\n",
       "      <th>4</th>\n",
       "      <td>NC(=O)c1cccnc1</td>\n",
       "      <td>-0.37</td>\n",
       "      <td>-0.247304</td>\n",
       "      <td>0.015054</td>\n",
       "      <td>23</td>\n",
       "      <td>3</td>\n",
       "      <td>1</td>\n",
       "      <td>4.347826</td>\n",
       "      <td>2</td>\n",
       "      <td>66.666667</td>\n",
       "      <td>9</td>\n",
       "      <td>6</td>\n",
       "      <td>66.666667</td>\n",
       "      <td>False</td>\n",
       "    </tr>\n",
       "  </tbody>\n",
       "</table>\n",
       "</div>"
      ],
      "text/plain": [
       "                             smiles  y_expected  y_predicted     error  \\\n",
       "0  CCOC(=O)NC1=NCC(c2cccc(C)c2C)N1C        2.57     2.449250  0.014581   \n",
       "1            CNC12CCCCC1CSc1ccccc12        3.88     3.758965  0.014649   \n",
       "2    CN(C)N=Nc1ccc(S(=O)(=O)CCO)cc1        1.15     1.028135  0.014851   \n",
       "3          N=c1[nH]nc(CCc2ccccc2)o1        1.19     1.068082  0.014864   \n",
       "4                    NC(=O)c1cccnc1       -0.37    -0.247304  0.015054   \n",
       "\n",
       "   atom_count  ring_count  non_organogens_count  non_organogens_percent  \\\n",
       "0          15           1                     0                0.000000   \n",
       "1          16           2                     0                0.000000   \n",
       "2           9           2                     0                0.000000   \n",
       "3          21           3                     1                4.761905   \n",
       "4          23           3                     1                4.347826   \n",
       "\n",
       "   aromatic_count  aromatic_rings_percent  bond_count  aromatic_bond_count  \\\n",
       "0               1              100.000000          21                    6   \n",
       "1               1               50.000000          18                    6   \n",
       "2               1               50.000000          17                    6   \n",
       "3               2               66.666667          15                   11   \n",
       "4               2               66.666667           9                    6   \n",
       "\n",
       "   aromatic_bond_percent  is_symmetric  \n",
       "0              28.571429         False  \n",
       "1              33.333333         False  \n",
       "2              35.294118         False  \n",
       "3              73.333333         False  \n",
       "4              66.666667         False  "
      ]
     },
     "execution_count": 28,
     "metadata": {},
     "output_type": "execute_result"
    }
   ],
   "source": [
    "middle.head()"
   ]
  },
  {
   "cell_type": "code",
   "execution_count": 29,
   "metadata": {},
   "outputs": [
    {
     "data": {
      "text/plain": [
       "(631, 14)"
      ]
     },
     "execution_count": 29,
     "metadata": {},
     "output_type": "execute_result"
    }
   ],
   "source": [
    "middle.shape"
   ]
  },
  {
   "cell_type": "code",
   "execution_count": 30,
   "metadata": {},
   "outputs": [],
   "source": [
    "indices = pd.Series(np.random.randint(631, size=10))"
   ]
  },
  {
   "cell_type": "code",
   "execution_count": 31,
   "metadata": {},
   "outputs": [
    {
     "data": {
      "image/png": "[encoded data removed]",
      "text/plain": [
       "<rdkit.Chem.rdchem.Mol at 0x1cf8ad3d990>"
      ]
     },
     "metadata": {},
     "output_type": "display_data"
    },
    {
     "data": {
      "image/png": "[encoded data removed]",
      "text/plain": [
       "<rdkit.Chem.rdchem.Mol at 0x1cf88833ad0>"
      ]
     },
     "metadata": {},
     "output_type": "display_data"
    },
    {
     "data": {
      "image/png": "[encoded data removed]",
      "text/plain": [
       "<rdkit.Chem.rdchem.Mol at 0x1cf867b83f0>"
      ]
     },
     "metadata": {},
     "output_type": "display_data"
    },
    {
     "data": {
      "image/png": "[encoded data removed]",
      "text/plain": [
       "<rdkit.Chem.rdchem.Mol at 0x1cf88833ad0>"
      ]
     },
     "metadata": {},
     "output_type": "display_data"
    },
    {
     "data": {
      "image/png": "[encoded data removed]",
      "text/plain": [
       "<rdkit.Chem.rdchem.Mol at 0x1cf88857580>"
      ]
     },
     "metadata": {},
     "output_type": "display_data"
    },
    {
     "data": {
      "image/png": "[encoded data removed]",
      "text/plain": [
       "<rdkit.Chem.rdchem.Mol at 0x1cf867b83f0>"
      ]
     },
     "metadata": {},
     "output_type": "display_data"
    },
    {
     "data": {
      "image/png": "[encoded data removed]",
      "text/plain": [
       "<rdkit.Chem.rdchem.Mol at 0x1cf88833ad0>"
      ]
     },
     "metadata": {},
     "output_type": "display_data"
    },
    {
     "data": {
      "image/png": "[encoded data removed]",
      "text/plain": [
       "<rdkit.Chem.rdchem.Mol at 0x1cf88857580>"
      ]
     },
     "metadata": {},
     "output_type": "display_data"
    },
    {
     "data": {
      "image/png": "[encoded data removed]",
      "text/plain": [
       "<rdkit.Chem.rdchem.Mol at 0x1cf88833ad0>"
      ]
     },
     "metadata": {},
     "output_type": "display_data"
    },
    {
     "data": {
      "image/png": "[encoded data removed]",
      "text/plain": [
       "<rdkit.Chem.rdchem.Mol at 0x1cf8ad04800>"
      ]
     },
     "metadata": {},
     "output_type": "display_data"
    }
   ],
   "source": [
    "for smiles in middle.loc[indices].smiles:\n",
    "    mol = Chem.MolFromSmiles(smiles)\n",
    "    display(mol)"
   ]
  },
  {
   "cell_type": "code",
   "execution_count": 32,
   "metadata": {},
   "outputs": [],
   "source": [
    "worst = data[2].reset_index().drop(columns=['index'])"
   ]
  },
  {
   "cell_type": "code",
   "execution_count": 33,
   "metadata": {},
   "outputs": [],
   "source": [
    "indices = pd.Series(np.random.randint(631, size=10))"
   ]
  },
  {
   "cell_type": "code",
   "execution_count": 34,
   "metadata": {},
   "outputs": [
    {
     "data": {
      "image/png": "[encoded data removed]",
      "text/plain": [
       "<rdkit.Chem.rdchem.Mol at 0x1cf8ad3d3a0>"
      ]
     },
     "metadata": {},
     "output_type": "display_data"
    },
    {
     "data": {
      "image/png": "[encoded data removed]",
      "text/plain": [
       "<rdkit.Chem.rdchem.Mol at 0x1cf8ad3dbc0>"
      ]
     },
     "metadata": {},
     "output_type": "display_data"
    },
    {
     "data": {
      "image/png": "[encoded data removed]",
      "text/plain": [
       "<rdkit.Chem.rdchem.Mol at 0x1cf8ad3d7b0>"
      ]
     },
     "metadata": {},
     "output_type": "display_data"
    },
    {
     "data": {
      "image/png": "[encoded data removed]",
      "text/plain": [
       "<rdkit.Chem.rdchem.Mol at 0x1cf8ad3dbc0>"
      ]
     },
     "metadata": {},
     "output_type": "display_data"
    },
    {
     "data": {
      "image/png": "[encoded data removed]",
      "text/plain": [
       "<rdkit.Chem.rdchem.Mol at 0x1cf8ad3d3a0>"
      ]
     },
     "metadata": {},
     "output_type": "display_data"
    },
    {
     "data": {
      "image/png": "[encoded data removed]",
      "text/plain": [
       "<rdkit.Chem.rdchem.Mol at 0x1cf8ad3d7b0>"
      ]
     },
     "metadata": {},
     "output_type": "display_data"
    },
    {
     "data": {
      "image/png": "[encoded data removed]",
      "text/plain": [
       "<rdkit.Chem.rdchem.Mol at 0x1cf8ad3dbc0>"
      ]
     },
     "metadata": {},
     "output_type": "display_data"
    },
    {
     "data": {
      "image/png": "[encoded data removed]",
      "text/plain": [
       "<rdkit.Chem.rdchem.Mol at 0x1cf8ad3d990>"
      ]
     },
     "metadata": {},
     "output_type": "display_data"
    },
    {
     "data": {
      "image/png": "[encoded data removed]",
      "text/plain": [
       "<rdkit.Chem.rdchem.Mol at 0x1cf8ad3d7b0>"
      ]
     },
     "metadata": {},
     "output_type": "display_data"
    },
    {
     "data": {
      "image/png": "[encoded data removed]",
      "text/plain": [
       "<rdkit.Chem.rdchem.Mol at 0x1cf8ad3dbc0>"
      ]
     },
     "metadata": {},
     "output_type": "display_data"
    }
   ],
   "source": [
    "for smiles in worst.loc[indices].smiles:\n",
    "    mol = Chem.MolFromSmiles(smiles)\n",
    "    display(mol)"
   ]
  },
  {
   "cell_type": "code",
   "execution_count": null,
   "metadata": {},
   "outputs": [],
   "source": []
  },
  {
   "cell_type": "markdown",
   "metadata": {},
   "source": [
    "#### Taking best and worst predicted values"
   ]
  },
  {
   "cell_type": "code",
   "execution_count": 35,
   "metadata": {},
   "outputs": [],
   "source": [
    "n_values = 200"
   ]
  },
  {
   "cell_type": "code",
   "execution_count": 36,
   "metadata": {},
   "outputs": [],
   "source": [
    "best_n_vals = compare_data_with_stats.take([j for j in range(n_values)])"
   ]
  },
  {
   "cell_type": "code",
   "execution_count": 37,
   "metadata": {},
   "outputs": [],
   "source": [
    "worst_n_vals = compare_data_with_stats.take([j for j in range( len(compare_data.smiles) - 1, len(compare_data.smiles) - 1 - n_values, -1)])"
   ]
  },
  {
   "cell_type": "code",
   "execution_count": 38,
   "metadata": {},
   "outputs": [
    {
     "data": {
      "text/html": [
       "<div>\n",
       "<style scoped>\n",
       "    .dataframe tbody tr th:only-of-type {\n",
       "        vertical-align: middle;\n",
       "    }\n",
       "\n",
       "    .dataframe tbody tr th {\n",
       "        vertical-align: top;\n",
       "    }\n",
       "\n",
       "    .dataframe thead th {\n",
       "        text-align: right;\n",
       "    }\n",
       "</style>\n",
       "<table border=\"1\" class=\"dataframe\">\n",
       "  <thead>\n",
       "    <tr style=\"text-align: right;\">\n",
       "      <th></th>\n",
       "      <th>smiles</th>\n",
       "      <th>y_expected</th>\n",
       "      <th>y_predicted</th>\n",
       "      <th>error</th>\n",
       "      <th>atom_count</th>\n",
       "      <th>ring_count</th>\n",
       "      <th>non_organogens_count</th>\n",
       "      <th>non_organogens_percent</th>\n",
       "      <th>aromatic_count</th>\n",
       "      <th>aromatic_rings_percent</th>\n",
       "      <th>bond_count</th>\n",
       "      <th>aromatic_bond_count</th>\n",
       "      <th>aromatic_bond_percent</th>\n",
       "      <th>is_symmetric</th>\n",
       "    </tr>\n",
       "  </thead>\n",
       "  <tbody>\n",
       "    <tr>\n",
       "      <th>1186</th>\n",
       "      <td>CN(C(=O)CCCl)c1ccc(S(=O)(=O)N(C)C)cc1</td>\n",
       "      <td>0.98</td>\n",
       "      <td>0.980007</td>\n",
       "      <td>5.184000e-11</td>\n",
       "      <td>17</td>\n",
       "      <td>2</td>\n",
       "      <td>2</td>\n",
       "      <td>11.764706</td>\n",
       "      <td>0</td>\n",
       "      <td>0.0</td>\n",
       "      <td>19</td>\n",
       "      <td>6</td>\n",
       "      <td>31.578947</td>\n",
       "      <td>False</td>\n",
       "    </tr>\n",
       "    <tr>\n",
       "      <th>1089</th>\n",
       "      <td>CCC(CO)n1cnc2c(=N)[nH]cnc21</td>\n",
       "      <td>0.14</td>\n",
       "      <td>0.139901</td>\n",
       "      <td>9.725904e-09</td>\n",
       "      <td>13</td>\n",
       "      <td>1</td>\n",
       "      <td>1</td>\n",
       "      <td>7.692308</td>\n",
       "      <td>1</td>\n",
       "      <td>100.0</td>\n",
       "      <td>16</td>\n",
       "      <td>10</td>\n",
       "      <td>62.500000</td>\n",
       "      <td>False</td>\n",
       "    </tr>\n",
       "    <tr>\n",
       "      <th>1312</th>\n",
       "      <td>C#CCC(O)(c1ccc(F)cc1)c1cccnc1</td>\n",
       "      <td>1.78</td>\n",
       "      <td>1.780633</td>\n",
       "      <td>4.009422e-07</td>\n",
       "      <td>27</td>\n",
       "      <td>4</td>\n",
       "      <td>1</td>\n",
       "      <td>3.703704</td>\n",
       "      <td>2</td>\n",
       "      <td>50.0</td>\n",
       "      <td>19</td>\n",
       "      <td>12</td>\n",
       "      <td>63.157895</td>\n",
       "      <td>False</td>\n",
       "    </tr>\n",
       "    <tr>\n",
       "      <th>865</th>\n",
       "      <td>NC(=O)COc1ccccc1</td>\n",
       "      <td>0.76</td>\n",
       "      <td>0.759117</td>\n",
       "      <td>7.795654e-07</td>\n",
       "      <td>26</td>\n",
       "      <td>2</td>\n",
       "      <td>1</td>\n",
       "      <td>3.846154</td>\n",
       "      <td>1</td>\n",
       "      <td>50.0</td>\n",
       "      <td>11</td>\n",
       "      <td>6</td>\n",
       "      <td>54.545455</td>\n",
       "      <td>False</td>\n",
       "    </tr>\n",
       "    <tr>\n",
       "      <th>1227</th>\n",
       "      <td>C#CCOc1cc(OC(=O)N2CCCC2)c(Cl)cc1Cl</td>\n",
       "      <td>3.82</td>\n",
       "      <td>3.819049</td>\n",
       "      <td>9.036404e-07</td>\n",
       "      <td>13</td>\n",
       "      <td>1</td>\n",
       "      <td>0</td>\n",
       "      <td>0.000000</td>\n",
       "      <td>1</td>\n",
       "      <td>100.0</td>\n",
       "      <td>21</td>\n",
       "      <td>6</td>\n",
       "      <td>28.571429</td>\n",
       "      <td>False</td>\n",
       "    </tr>\n",
       "  </tbody>\n",
       "</table>\n",
       "</div>"
      ],
      "text/plain": [
       "                                     smiles  y_expected  y_predicted  \\\n",
       "1186  CN(C(=O)CCCl)c1ccc(S(=O)(=O)N(C)C)cc1        0.98     0.980007   \n",
       "1089            CCC(CO)n1cnc2c(=N)[nH]cnc21        0.14     0.139901   \n",
       "1312          C#CCC(O)(c1ccc(F)cc1)c1cccnc1        1.78     1.780633   \n",
       "865                        NC(=O)COc1ccccc1        0.76     0.759117   \n",
       "1227     C#CCOc1cc(OC(=O)N2CCCC2)c(Cl)cc1Cl        3.82     3.819049   \n",
       "\n",
       "             error  atom_count  ring_count  non_organogens_count  \\\n",
       "1186  5.184000e-11          17           2                     2   \n",
       "1089  9.725904e-09          13           1                     1   \n",
       "1312  4.009422e-07          27           4                     1   \n",
       "865   7.795654e-07          26           2                     1   \n",
       "1227  9.036404e-07          13           1                     0   \n",
       "\n",
       "      non_organogens_percent  aromatic_count  aromatic_rings_percent  \\\n",
       "1186               11.764706               0                     0.0   \n",
       "1089                7.692308               1                   100.0   \n",
       "1312                3.703704               2                    50.0   \n",
       "865                 3.846154               1                    50.0   \n",
       "1227                0.000000               1                   100.0   \n",
       "\n",
       "      bond_count  aromatic_bond_count  aromatic_bond_percent  is_symmetric  \n",
       "1186          19                    6              31.578947         False  \n",
       "1089          16                   10              62.500000         False  \n",
       "1312          19                   12              63.157895         False  \n",
       "865           11                    6              54.545455         False  \n",
       "1227          21                    6              28.571429         False  "
      ]
     },
     "execution_count": 38,
     "metadata": {},
     "output_type": "execute_result"
    }
   ],
   "source": [
    "best_n_vals.head()"
   ]
  },
  {
   "cell_type": "code",
   "execution_count": 39,
   "metadata": {},
   "outputs": [
    {
     "data": {
      "text/html": [
       "<div>\n",
       "<style scoped>\n",
       "    .dataframe tbody tr th:only-of-type {\n",
       "        vertical-align: middle;\n",
       "    }\n",
       "\n",
       "    .dataframe tbody tr th {\n",
       "        vertical-align: top;\n",
       "    }\n",
       "\n",
       "    .dataframe thead th {\n",
       "        text-align: right;\n",
       "    }\n",
       "</style>\n",
       "<table border=\"1\" class=\"dataframe\">\n",
       "  <thead>\n",
       "    <tr style=\"text-align: right;\">\n",
       "      <th></th>\n",
       "      <th>smiles</th>\n",
       "      <th>y_expected</th>\n",
       "      <th>y_predicted</th>\n",
       "      <th>error</th>\n",
       "      <th>atom_count</th>\n",
       "      <th>ring_count</th>\n",
       "      <th>non_organogens_count</th>\n",
       "      <th>non_organogens_percent</th>\n",
       "      <th>aromatic_count</th>\n",
       "      <th>aromatic_rings_percent</th>\n",
       "      <th>bond_count</th>\n",
       "      <th>aromatic_bond_count</th>\n",
       "      <th>aromatic_bond_percent</th>\n",
       "      <th>is_symmetric</th>\n",
       "    </tr>\n",
       "  </thead>\n",
       "  <tbody>\n",
       "    <tr>\n",
       "      <th>147</th>\n",
       "      <td>CC(C)(C)c1cc(CCC(=O)OCC(COC(=O)CCc2cc(C(C)(C)C...</td>\n",
       "      <td>1.36</td>\n",
       "      <td>16.529467</td>\n",
       "      <td>230.112729</td>\n",
       "      <td>16</td>\n",
       "      <td>2</td>\n",
       "      <td>1</td>\n",
       "      <td>6.250000</td>\n",
       "      <td>1</td>\n",
       "      <td>50.0</td>\n",
       "      <td>88</td>\n",
       "      <td>24</td>\n",
       "      <td>27.272727</td>\n",
       "      <td>True</td>\n",
       "    </tr>\n",
       "    <tr>\n",
       "      <th>1015</th>\n",
       "      <td>CCc1c(C(=O)O)c(=O)cnn1-c1ccc(Cl)cc1</td>\n",
       "      <td>-2.20</td>\n",
       "      <td>2.167287</td>\n",
       "      <td>19.073198</td>\n",
       "      <td>16</td>\n",
       "      <td>2</td>\n",
       "      <td>1</td>\n",
       "      <td>6.250000</td>\n",
       "      <td>0</td>\n",
       "      <td>0.0</td>\n",
       "      <td>20</td>\n",
       "      <td>12</td>\n",
       "      <td>60.000000</td>\n",
       "      <td>False</td>\n",
       "    </tr>\n",
       "    <tr>\n",
       "      <th>762</th>\n",
       "      <td>O=C(Nc1ccccc1)c1c(O)[nH]c(=S)[nH]c1=O</td>\n",
       "      <td>0.14</td>\n",
       "      <td>2.296128</td>\n",
       "      <td>4.648886</td>\n",
       "      <td>18</td>\n",
       "      <td>1</td>\n",
       "      <td>0</td>\n",
       "      <td>0.000000</td>\n",
       "      <td>0</td>\n",
       "      <td>0.0</td>\n",
       "      <td>19</td>\n",
       "      <td>12</td>\n",
       "      <td>63.157895</td>\n",
       "      <td>False</td>\n",
       "    </tr>\n",
       "    <tr>\n",
       "      <th>79</th>\n",
       "      <td>O=C(Cc1ccccc1Nc1c(Cl)cccc1Cl)O[K]</td>\n",
       "      <td>0.65</td>\n",
       "      <td>2.511837</td>\n",
       "      <td>3.466436</td>\n",
       "      <td>19</td>\n",
       "      <td>2</td>\n",
       "      <td>2</td>\n",
       "      <td>10.526316</td>\n",
       "      <td>2</td>\n",
       "      <td>100.0</td>\n",
       "      <td>21</td>\n",
       "      <td>12</td>\n",
       "      <td>57.142857</td>\n",
       "      <td>False</td>\n",
       "    </tr>\n",
       "    <tr>\n",
       "      <th>1642</th>\n",
       "      <td>Brc1cc(Br)c(Br)c(-c2c(Br)c(Br)cc(Br)c2Br)c1Br</td>\n",
       "      <td>5.50</td>\n",
       "      <td>7.293395</td>\n",
       "      <td>3.216266</td>\n",
       "      <td>19</td>\n",
       "      <td>1</td>\n",
       "      <td>0</td>\n",
       "      <td>0.000000</td>\n",
       "      <td>0</td>\n",
       "      <td>0.0</td>\n",
       "      <td>21</td>\n",
       "      <td>12</td>\n",
       "      <td>57.142857</td>\n",
       "      <td>True</td>\n",
       "    </tr>\n",
       "  </tbody>\n",
       "</table>\n",
       "</div>"
      ],
      "text/plain": [
       "                                                 smiles  y_expected  \\\n",
       "147   CC(C)(C)c1cc(CCC(=O)OCC(COC(=O)CCc2cc(C(C)(C)C...        1.36   \n",
       "1015                CCc1c(C(=O)O)c(=O)cnn1-c1ccc(Cl)cc1       -2.20   \n",
       "762               O=C(Nc1ccccc1)c1c(O)[nH]c(=S)[nH]c1=O        0.14   \n",
       "79                    O=C(Cc1ccccc1Nc1c(Cl)cccc1Cl)O[K]        0.65   \n",
       "1642      Brc1cc(Br)c(Br)c(-c2c(Br)c(Br)cc(Br)c2Br)c1Br        5.50   \n",
       "\n",
       "      y_predicted       error  atom_count  ring_count  non_organogens_count  \\\n",
       "147     16.529467  230.112729          16           2                     1   \n",
       "1015     2.167287   19.073198          16           2                     1   \n",
       "762      2.296128    4.648886          18           1                     0   \n",
       "79       2.511837    3.466436          19           2                     2   \n",
       "1642     7.293395    3.216266          19           1                     0   \n",
       "\n",
       "      non_organogens_percent  aromatic_count  aromatic_rings_percent  \\\n",
       "147                 6.250000               1                    50.0   \n",
       "1015                6.250000               0                     0.0   \n",
       "762                 0.000000               0                     0.0   \n",
       "79                 10.526316               2                   100.0   \n",
       "1642                0.000000               0                     0.0   \n",
       "\n",
       "      bond_count  aromatic_bond_count  aromatic_bond_percent  is_symmetric  \n",
       "147           88                   24              27.272727          True  \n",
       "1015          20                   12              60.000000         False  \n",
       "762           19                   12              63.157895         False  \n",
       "79            21                   12              57.142857         False  \n",
       "1642          21                   12              57.142857          True  "
      ]
     },
     "execution_count": 39,
     "metadata": {},
     "output_type": "execute_result"
    }
   ],
   "source": [
    "worst_n_vals.head()"
   ]
  },
  {
   "cell_type": "code",
   "execution_count": 40,
   "metadata": {},
   "outputs": [
    {
     "data": {
      "text/html": [
       "<div>\n",
       "<style scoped>\n",
       "    .dataframe tbody tr th:only-of-type {\n",
       "        vertical-align: middle;\n",
       "    }\n",
       "\n",
       "    .dataframe tbody tr th {\n",
       "        vertical-align: top;\n",
       "    }\n",
       "\n",
       "    .dataframe thead th {\n",
       "        text-align: right;\n",
       "    }\n",
       "</style>\n",
       "<table border=\"1\" class=\"dataframe\">\n",
       "  <thead>\n",
       "    <tr style=\"text-align: right;\">\n",
       "      <th></th>\n",
       "      <th>y_expected</th>\n",
       "      <th>y_predicted</th>\n",
       "      <th>error</th>\n",
       "      <th>atom_count</th>\n",
       "      <th>ring_count</th>\n",
       "      <th>non_organogens_count</th>\n",
       "      <th>non_organogens_percent</th>\n",
       "      <th>aromatic_count</th>\n",
       "      <th>aromatic_rings_percent</th>\n",
       "      <th>bond_count</th>\n",
       "      <th>aromatic_bond_count</th>\n",
       "      <th>aromatic_bond_percent</th>\n",
       "    </tr>\n",
       "  </thead>\n",
       "  <tbody>\n",
       "    <tr>\n",
       "      <th>count</th>\n",
       "      <td>200.000000</td>\n",
       "      <td>200.000000</td>\n",
       "      <td>2.000000e+02</td>\n",
       "      <td>200.000000</td>\n",
       "      <td>200.000000</td>\n",
       "      <td>200.00000</td>\n",
       "      <td>200.000000</td>\n",
       "      <td>200.000000</td>\n",
       "      <td>200.00000</td>\n",
       "      <td>200.000000</td>\n",
       "      <td>200.000000</td>\n",
       "      <td>200.000000</td>\n",
       "    </tr>\n",
       "    <tr>\n",
       "      <th>mean</th>\n",
       "      <td>2.213317</td>\n",
       "      <td>2.213571</td>\n",
       "      <td>3.747768e-04</td>\n",
       "      <td>16.460000</td>\n",
       "      <td>1.635000</td>\n",
       "      <td>0.90500</td>\n",
       "      <td>5.353167</td>\n",
       "      <td>0.945000</td>\n",
       "      <td>57.75000</td>\n",
       "      <td>16.370000</td>\n",
       "      <td>7.235000</td>\n",
       "      <td>45.856380</td>\n",
       "    </tr>\n",
       "    <tr>\n",
       "      <th>std</th>\n",
       "      <td>1.648213</td>\n",
       "      <td>1.649298</td>\n",
       "      <td>3.712650e-04</td>\n",
       "      <td>6.364822</td>\n",
       "      <td>1.047502</td>\n",
       "      <td>1.49907</td>\n",
       "      <td>8.600787</td>\n",
       "      <td>0.809476</td>\n",
       "      <td>41.89227</td>\n",
       "      <td>6.769953</td>\n",
       "      <td>3.912328</td>\n",
       "      <td>21.365466</td>\n",
       "    </tr>\n",
       "    <tr>\n",
       "      <th>min</th>\n",
       "      <td>-2.280000</td>\n",
       "      <td>-2.298271</td>\n",
       "      <td>5.184000e-11</td>\n",
       "      <td>6.000000</td>\n",
       "      <td>0.000000</td>\n",
       "      <td>0.00000</td>\n",
       "      <td>0.000000</td>\n",
       "      <td>0.000000</td>\n",
       "      <td>0.00000</td>\n",
       "      <td>4.000000</td>\n",
       "      <td>0.000000</td>\n",
       "      <td>0.000000</td>\n",
       "    </tr>\n",
       "    <tr>\n",
       "      <th>25%</th>\n",
       "      <td>1.177500</td>\n",
       "      <td>1.170764</td>\n",
       "      <td>6.729416e-05</td>\n",
       "      <td>12.000000</td>\n",
       "      <td>1.000000</td>\n",
       "      <td>0.00000</td>\n",
       "      <td>0.000000</td>\n",
       "      <td>0.000000</td>\n",
       "      <td>0.00000</td>\n",
       "      <td>11.750000</td>\n",
       "      <td>6.000000</td>\n",
       "      <td>33.333333</td>\n",
       "    </tr>\n",
       "    <tr>\n",
       "      <th>50%</th>\n",
       "      <td>1.985000</td>\n",
       "      <td>1.966948</td>\n",
       "      <td>2.150843e-04</td>\n",
       "      <td>16.000000</td>\n",
       "      <td>1.000000</td>\n",
       "      <td>0.00000</td>\n",
       "      <td>0.000000</td>\n",
       "      <td>1.000000</td>\n",
       "      <td>50.00000</td>\n",
       "      <td>16.000000</td>\n",
       "      <td>6.000000</td>\n",
       "      <td>46.153846</td>\n",
       "    </tr>\n",
       "    <tr>\n",
       "      <th>75%</th>\n",
       "      <td>3.132500</td>\n",
       "      <td>3.132794</td>\n",
       "      <td>6.818923e-04</td>\n",
       "      <td>20.000000</td>\n",
       "      <td>2.000000</td>\n",
       "      <td>1.00000</td>\n",
       "      <td>7.410882</td>\n",
       "      <td>1.000000</td>\n",
       "      <td>100.00000</td>\n",
       "      <td>19.000000</td>\n",
       "      <td>10.000000</td>\n",
       "      <td>60.000000</td>\n",
       "    </tr>\n",
       "    <tr>\n",
       "      <th>max</th>\n",
       "      <td>8.200000</td>\n",
       "      <td>8.185325</td>\n",
       "      <td>1.200207e-03</td>\n",
       "      <td>47.000000</td>\n",
       "      <td>8.000000</td>\n",
       "      <td>9.00000</td>\n",
       "      <td>42.857143</td>\n",
       "      <td>6.000000</td>\n",
       "      <td>100.00000</td>\n",
       "      <td>44.000000</td>\n",
       "      <td>26.000000</td>\n",
       "      <td>100.000000</td>\n",
       "    </tr>\n",
       "  </tbody>\n",
       "</table>\n",
       "</div>"
      ],
      "text/plain": [
       "       y_expected  y_predicted         error  atom_count  ring_count  \\\n",
       "count  200.000000   200.000000  2.000000e+02  200.000000  200.000000   \n",
       "mean     2.213317     2.213571  3.747768e-04   16.460000    1.635000   \n",
       "std      1.648213     1.649298  3.712650e-04    6.364822    1.047502   \n",
       "min     -2.280000    -2.298271  5.184000e-11    6.000000    0.000000   \n",
       "25%      1.177500     1.170764  6.729416e-05   12.000000    1.000000   \n",
       "50%      1.985000     1.966948  2.150843e-04   16.000000    1.000000   \n",
       "75%      3.132500     3.132794  6.818923e-04   20.000000    2.000000   \n",
       "max      8.200000     8.185325  1.200207e-03   47.000000    8.000000   \n",
       "\n",
       "       non_organogens_count  non_organogens_percent  aromatic_count  \\\n",
       "count             200.00000              200.000000      200.000000   \n",
       "mean                0.90500                5.353167        0.945000   \n",
       "std                 1.49907                8.600787        0.809476   \n",
       "min                 0.00000                0.000000        0.000000   \n",
       "25%                 0.00000                0.000000        0.000000   \n",
       "50%                 0.00000                0.000000        1.000000   \n",
       "75%                 1.00000                7.410882        1.000000   \n",
       "max                 9.00000               42.857143        6.000000   \n",
       "\n",
       "       aromatic_rings_percent  bond_count  aromatic_bond_count  \\\n",
       "count               200.00000  200.000000           200.000000   \n",
       "mean                 57.75000   16.370000             7.235000   \n",
       "std                  41.89227    6.769953             3.912328   \n",
       "min                   0.00000    4.000000             0.000000   \n",
       "25%                   0.00000   11.750000             6.000000   \n",
       "50%                  50.00000   16.000000             6.000000   \n",
       "75%                 100.00000   19.000000            10.000000   \n",
       "max                 100.00000   44.000000            26.000000   \n",
       "\n",
       "       aromatic_bond_percent  \n",
       "count             200.000000  \n",
       "mean               45.856380  \n",
       "std                21.365466  \n",
       "min                 0.000000  \n",
       "25%                33.333333  \n",
       "50%                46.153846  \n",
       "75%                60.000000  \n",
       "max               100.000000  "
      ]
     },
     "execution_count": 40,
     "metadata": {},
     "output_type": "execute_result"
    }
   ],
   "source": [
    "best_n_vals.describe()"
   ]
  },
  {
   "cell_type": "code",
   "execution_count": 41,
   "metadata": {},
   "outputs": [
    {
     "data": {
      "text/html": [
       "<div>\n",
       "<style scoped>\n",
       "    .dataframe tbody tr th:only-of-type {\n",
       "        vertical-align: middle;\n",
       "    }\n",
       "\n",
       "    .dataframe tbody tr th {\n",
       "        vertical-align: top;\n",
       "    }\n",
       "\n",
       "    .dataframe thead th {\n",
       "        text-align: right;\n",
       "    }\n",
       "</style>\n",
       "<table border=\"1\" class=\"dataframe\">\n",
       "  <thead>\n",
       "    <tr style=\"text-align: right;\">\n",
       "      <th></th>\n",
       "      <th>y_expected</th>\n",
       "      <th>y_predicted</th>\n",
       "      <th>error</th>\n",
       "      <th>atom_count</th>\n",
       "      <th>ring_count</th>\n",
       "      <th>non_organogens_count</th>\n",
       "      <th>non_organogens_percent</th>\n",
       "      <th>aromatic_count</th>\n",
       "      <th>aromatic_rings_percent</th>\n",
       "      <th>bond_count</th>\n",
       "      <th>aromatic_bond_count</th>\n",
       "      <th>aromatic_bond_percent</th>\n",
       "    </tr>\n",
       "  </thead>\n",
       "  <tbody>\n",
       "    <tr>\n",
       "      <th>count</th>\n",
       "      <td>200.000000</td>\n",
       "      <td>200.000000</td>\n",
       "      <td>200.000000</td>\n",
       "      <td>200.000000</td>\n",
       "      <td>200.000000</td>\n",
       "      <td>200.000000</td>\n",
       "      <td>200.000000</td>\n",
       "      <td>200.000000</td>\n",
       "      <td>200.000000</td>\n",
       "      <td>200.000000</td>\n",
       "      <td>200.000000</td>\n",
       "      <td>200.000000</td>\n",
       "    </tr>\n",
       "    <tr>\n",
       "      <th>mean</th>\n",
       "      <td>2.082813</td>\n",
       "      <td>2.087302</td>\n",
       "      <td>2.058434</td>\n",
       "      <td>16.430000</td>\n",
       "      <td>1.760000</td>\n",
       "      <td>0.835000</td>\n",
       "      <td>5.168372</td>\n",
       "      <td>0.825000</td>\n",
       "      <td>48.250000</td>\n",
       "      <td>19.900000</td>\n",
       "      <td>7.925000</td>\n",
       "      <td>41.978622</td>\n",
       "    </tr>\n",
       "    <tr>\n",
       "      <th>std</th>\n",
       "      <td>2.129910</td>\n",
       "      <td>2.238372</td>\n",
       "      <td>16.269169</td>\n",
       "      <td>6.947405</td>\n",
       "      <td>1.094711</td>\n",
       "      <td>1.294664</td>\n",
       "      <td>7.849625</td>\n",
       "      <td>0.711976</td>\n",
       "      <td>41.685507</td>\n",
       "      <td>10.551144</td>\n",
       "      <td>5.303775</td>\n",
       "      <td>25.550949</td>\n",
       "    </tr>\n",
       "    <tr>\n",
       "      <th>min</th>\n",
       "      <td>-3.700000</td>\n",
       "      <td>-3.908886</td>\n",
       "      <td>0.372096</td>\n",
       "      <td>5.000000</td>\n",
       "      <td>0.000000</td>\n",
       "      <td>0.000000</td>\n",
       "      <td>0.000000</td>\n",
       "      <td>0.000000</td>\n",
       "      <td>0.000000</td>\n",
       "      <td>4.000000</td>\n",
       "      <td>0.000000</td>\n",
       "      <td>0.000000</td>\n",
       "    </tr>\n",
       "    <tr>\n",
       "      <th>25%</th>\n",
       "      <td>0.620000</td>\n",
       "      <td>0.951216</td>\n",
       "      <td>0.463638</td>\n",
       "      <td>12.000000</td>\n",
       "      <td>1.000000</td>\n",
       "      <td>0.000000</td>\n",
       "      <td>0.000000</td>\n",
       "      <td>0.000000</td>\n",
       "      <td>0.000000</td>\n",
       "      <td>13.000000</td>\n",
       "      <td>6.000000</td>\n",
       "      <td>26.976285</td>\n",
       "    </tr>\n",
       "    <tr>\n",
       "      <th>50%</th>\n",
       "      <td>1.870000</td>\n",
       "      <td>1.993419</td>\n",
       "      <td>0.623649</td>\n",
       "      <td>15.500000</td>\n",
       "      <td>2.000000</td>\n",
       "      <td>0.000000</td>\n",
       "      <td>0.000000</td>\n",
       "      <td>1.000000</td>\n",
       "      <td>50.000000</td>\n",
       "      <td>18.000000</td>\n",
       "      <td>6.000000</td>\n",
       "      <td>42.857143</td>\n",
       "    </tr>\n",
       "    <tr>\n",
       "      <th>75%</th>\n",
       "      <td>3.587500</td>\n",
       "      <td>3.176912</td>\n",
       "      <td>0.976727</td>\n",
       "      <td>19.250000</td>\n",
       "      <td>2.000000</td>\n",
       "      <td>1.000000</td>\n",
       "      <td>8.333333</td>\n",
       "      <td>1.000000</td>\n",
       "      <td>100.000000</td>\n",
       "      <td>24.000000</td>\n",
       "      <td>12.000000</td>\n",
       "      <td>60.000000</td>\n",
       "    </tr>\n",
       "    <tr>\n",
       "      <th>max</th>\n",
       "      <td>9.050000</td>\n",
       "      <td>16.529467</td>\n",
       "      <td>230.112729</td>\n",
       "      <td>49.000000</td>\n",
       "      <td>6.000000</td>\n",
       "      <td>6.000000</td>\n",
       "      <td>31.578947</td>\n",
       "      <td>3.000000</td>\n",
       "      <td>100.000000</td>\n",
       "      <td>88.000000</td>\n",
       "      <td>24.000000</td>\n",
       "      <td>92.307692</td>\n",
       "    </tr>\n",
       "  </tbody>\n",
       "</table>\n",
       "</div>"
      ],
      "text/plain": [
       "       y_expected  y_predicted       error  atom_count  ring_count  \\\n",
       "count  200.000000   200.000000  200.000000  200.000000  200.000000   \n",
       "mean     2.082813     2.087302    2.058434   16.430000    1.760000   \n",
       "std      2.129910     2.238372   16.269169    6.947405    1.094711   \n",
       "min     -3.700000    -3.908886    0.372096    5.000000    0.000000   \n",
       "25%      0.620000     0.951216    0.463638   12.000000    1.000000   \n",
       "50%      1.870000     1.993419    0.623649   15.500000    2.000000   \n",
       "75%      3.587500     3.176912    0.976727   19.250000    2.000000   \n",
       "max      9.050000    16.529467  230.112729   49.000000    6.000000   \n",
       "\n",
       "       non_organogens_count  non_organogens_percent  aromatic_count  \\\n",
       "count            200.000000              200.000000      200.000000   \n",
       "mean               0.835000                5.168372        0.825000   \n",
       "std                1.294664                7.849625        0.711976   \n",
       "min                0.000000                0.000000        0.000000   \n",
       "25%                0.000000                0.000000        0.000000   \n",
       "50%                0.000000                0.000000        1.000000   \n",
       "75%                1.000000                8.333333        1.000000   \n",
       "max                6.000000               31.578947        3.000000   \n",
       "\n",
       "       aromatic_rings_percent  bond_count  aromatic_bond_count  \\\n",
       "count              200.000000  200.000000           200.000000   \n",
       "mean                48.250000   19.900000             7.925000   \n",
       "std                 41.685507   10.551144             5.303775   \n",
       "min                  0.000000    4.000000             0.000000   \n",
       "25%                  0.000000   13.000000             6.000000   \n",
       "50%                 50.000000   18.000000             6.000000   \n",
       "75%                100.000000   24.000000            12.000000   \n",
       "max                100.000000   88.000000            24.000000   \n",
       "\n",
       "       aromatic_bond_percent  \n",
       "count             200.000000  \n",
       "mean               41.978622  \n",
       "std                25.550949  \n",
       "min                 0.000000  \n",
       "25%                26.976285  \n",
       "50%                42.857143  \n",
       "75%                60.000000  \n",
       "max                92.307692  "
      ]
     },
     "execution_count": 41,
     "metadata": {},
     "output_type": "execute_result"
    }
   ],
   "source": [
    "worst_n_vals.describe()"
   ]
  },
  {
   "cell_type": "markdown",
   "metadata": {},
   "source": [
    "### Check atom_count influence"
   ]
  },
  {
   "cell_type": "code",
   "execution_count": 42,
   "metadata": {},
   "outputs": [
    {
     "name": "stdout",
     "output_type": "stream",
     "text": [
      "Ttest_indResult(statistic=0.04502825051296124, pvalue=0.9641073742777309)\n"
     ]
    }
   ],
   "source": [
    "print(stats.kruskal(best_n_vals.atom_count, worst_n_vals.atom_count))"
   ]
  },
  {
   "cell_type": "code",
   "execution_count": 43,
   "metadata": {},
   "outputs": [
    {
     "data": {
      "text/plain": [
       "<matplotlib.axes._subplots.AxesSubplot at 0x1cf8ac8d898>"
      ]
     },
     "execution_count": 43,
     "metadata": {},
     "output_type": "execute_result"
    },
    {
     "data": {
      "image/png": "[encoded data removed]",
      "text/plain": [
       "<Figure size 432x288 with 1 Axes>"
      ]
     },
     "metadata": {
      "needs_background": "light"
     },
     "output_type": "display_data"
    }
   ],
   "source": [
    "sns.distplot(best_n_vals.atom_count, color='g')\n",
    "sns.distplot(worst_n_vals.atom_count, color='r')"
   ]
  },
  {
   "cell_type": "markdown",
   "metadata": {},
   "source": [
    "### Check ring_count influence"
   ]
  },
  {
   "cell_type": "code",
   "execution_count": 44,
   "metadata": {},
   "outputs": [
    {
     "name": "stdout",
     "output_type": "stream",
     "text": [
      "Ttest_indResult(statistic=-1.1667340277951674, pvalue=0.2440163915464553)\n"
     ]
    }
   ],
   "source": [
    "print(stats.kruskal(best_n_vals.ring_count, worst_n_vals.ring_count))"
   ]
  },
  {
   "cell_type": "code",
   "execution_count": 45,
   "metadata": {},
   "outputs": [
    {
     "data": {
      "text/plain": [
       "<matplotlib.axes._subplots.AxesSubplot at 0x1cf8aba3898>"
      ]
     },
     "execution_count": 45,
     "metadata": {},
     "output_type": "execute_result"
    },
    {
     "data": {
      "image/png": "[encoded data removed]",
      "text/plain": [
       "<Figure size 432x288 with 1 Axes>"
      ]
     },
     "metadata": {
      "needs_background": "light"
     },
     "output_type": "display_data"
    }
   ],
   "source": [
    "sns.distplot(best_n_vals.ring_count, color='g')\n",
    "sns.distplot(worst_n_vals.ring_count, color='r')"
   ]
  },
  {
   "cell_type": "markdown",
   "metadata": {},
   "source": [
    "### Check non_organogens_count influence"
   ]
  },
  {
   "cell_type": "code",
   "execution_count": 46,
   "metadata": {},
   "outputs": [
    {
     "name": "stdout",
     "output_type": "stream",
     "text": [
      "Ttest_indResult(statistic=0.49978541665011195, pvalue=0.6175023694644056)\n"
     ]
    }
   ],
   "source": [
    "print(stats.kruskal(best_n_vals.non_organogens_count, worst_n_vals.non_organogens_count))"
   ]
  },
  {
   "cell_type": "code",
   "execution_count": 47,
   "metadata": {},
   "outputs": [
    {
     "data": {
      "text/plain": [
       "<matplotlib.axes._subplots.AxesSubplot at 0x1cf8acc7c88>"
      ]
     },
     "execution_count": 47,
     "metadata": {},
     "output_type": "execute_result"
    },
    {
     "data": {
      "image/png": "[encoded data removed]",
      "text/plain": [
       "<Figure size 432x288 with 1 Axes>"
      ]
     },
     "metadata": {
      "needs_background": "light"
     },
     "output_type": "display_data"
    }
   ],
   "source": [
    "sns.distplot(best_n_vals.non_organogens_count, color='g')\n",
    "sns.distplot(worst_n_vals.non_organogens_count, color='r')"
   ]
  },
  {
   "cell_type": "markdown",
   "metadata": {},
   "source": [
    "### Check non_organogens_percent influence"
   ]
  },
  {
   "cell_type": "code",
   "execution_count": 48,
   "metadata": {},
   "outputs": [
    {
     "name": "stdout",
     "output_type": "stream",
     "text": [
      "Ttest_indResult(statistic=0.22443508903646206, pvalue=0.8225339428816543)\n"
     ]
    }
   ],
   "source": [
    "print(stats.kruskal(best_n_vals.non_organogens_percent, worst_n_vals.non_organogens_percent))"
   ]
  },
  {
   "cell_type": "code",
   "execution_count": 49,
   "metadata": {},
   "outputs": [
    {
     "data": {
      "text/plain": [
       "<matplotlib.axes._subplots.AxesSubplot at 0x1cf8aa87e48>"
      ]
     },
     "execution_count": 49,
     "metadata": {},
     "output_type": "execute_result"
    },
    {
     "data": {
      "image/png": "[encoded data removed]",
      "text/plain": [
       "<Figure size 432x288 with 1 Axes>"
      ]
     },
     "metadata": {
      "needs_background": "light"
     },
     "output_type": "display_data"
    }
   ],
   "source": [
    "sns.distplot(best_n_vals.non_organogens_percent, color='g')\n",
    "sns.distplot(worst_n_vals.non_organogens_percent, color='r')"
   ]
  },
  {
   "cell_type": "markdown",
   "metadata": {},
   "source": [
    "### Check aromatic_count influence"
   ]
  },
  {
   "cell_type": "code",
   "execution_count": 50,
   "metadata": {},
   "outputs": [
    {
     "name": "stdout",
     "output_type": "stream",
     "text": [
      "Ttest_indResult(statistic=1.5742116855508639, pvalue=0.11623306385422949)\n"
     ]
    }
   ],
   "source": [
    "print(stats.kruskal(best_n_vals.aromatic_count, worst_n_vals.aromatic_count))"
   ]
  },
  {
   "cell_type": "code",
   "execution_count": 51,
   "metadata": {},
   "outputs": [
    {
     "data": {
      "text/plain": [
       "<matplotlib.axes._subplots.AxesSubplot at 0x1cf8a988438>"
      ]
     },
     "execution_count": 51,
     "metadata": {},
     "output_type": "execute_result"
    },
    {
     "data": {
      "image/png": "[encoded data removed]",
      "text/plain": [
       "<Figure size 432x288 with 1 Axes>"
      ]
     },
     "metadata": {
      "needs_background": "light"
     },
     "output_type": "display_data"
    }
   ],
   "source": [
    "sns.distplot(best_n_vals.aromatic_count, color='g')\n",
    "sns.distplot(worst_n_vals.aromatic_count, color='r')"
   ]
  },
  {
   "cell_type": "markdown",
   "metadata": {},
   "source": [
    "### Check aromatic_rings_percent influence"
   ]
  },
  {
   "cell_type": "code",
   "execution_count": 52,
   "metadata": {},
   "outputs": [
    {
     "name": "stdout",
     "output_type": "stream",
     "text": [
      "Ttest_indResult(statistic=2.273324627029629, pvalue=0.023538775318375713)\n"
     ]
    }
   ],
   "source": [
    "print(stats.kruskal(best_n_vals.aromatic_rings_percent, worst_n_vals.aromatic_rings_percent))"
   ]
  },
  {
   "cell_type": "code",
   "execution_count": 53,
   "metadata": {},
   "outputs": [
    {
     "data": {
      "text/plain": [
       "<matplotlib.axes._subplots.AxesSubplot at 0x1cf8aa62a20>"
      ]
     },
     "execution_count": 53,
     "metadata": {},
     "output_type": "execute_result"
    },
    {
     "data": {
      "image/png": "[encoded data removed]",
      "text/plain": [
       "<Figure size 432x288 with 1 Axes>"
      ]
     },
     "metadata": {
      "needs_background": "light"
     },
     "output_type": "display_data"
    }
   ],
   "source": [
    "sns.distplot(best_n_vals.aromatic_rings_percent, color='g')\n",
    "sns.distplot(worst_n_vals.aromatic_rings_percent, color='r')"
   ]
  },
  {
   "cell_type": "markdown",
   "metadata": {},
   "source": [
    "### Check aromatic bond percent"
   ]
  },
  {
   "cell_type": "code",
   "execution_count": 54,
   "metadata": {},
   "outputs": [
    {
     "name": "stdout",
     "output_type": "stream",
     "text": [
      "Ttest_indResult(statistic=1.6465107127045049, pvalue=0.10044799731726049)\n"
     ]
    }
   ],
   "source": [
    "print(stats.kruskal(best_n_vals.aromatic_bond_percent, worst_n_vals.aromatic_bond_percent))"
   ]
  },
  {
   "cell_type": "code",
   "execution_count": 55,
   "metadata": {},
   "outputs": [
    {
     "data": {
      "text/plain": [
       "<matplotlib.axes._subplots.AxesSubplot at 0x1cf8aa529b0>"
      ]
     },
     "execution_count": 55,
     "metadata": {},
     "output_type": "execute_result"
    },
    {
     "data": {
      "image/png": "[encoded data removed]",
      "text/plain": [
       "<Figure size 432x288 with 1 Axes>"
      ]
     },
     "metadata": {
      "needs_background": "light"
     },
     "output_type": "display_data"
    }
   ],
   "source": [
    "sns.distplot(best_n_vals.aromatic_bond_percent, color='g')\n",
    "sns.distplot(worst_n_vals.aromatic_bond_percent, color='r')"
   ]
  },
  {
   "cell_type": "markdown",
   "metadata": {},
   "source": [
    "### Check aromatic bond count"
   ]
  },
  {
   "cell_type": "code",
   "execution_count": 56,
   "metadata": {},
   "outputs": [
    {
     "name": "stdout",
     "output_type": "stream",
     "text": [
      "Ttest_indResult(statistic=-1.4805992269972093, pvalue=0.1395045685690098)\n"
     ]
    }
   ],
   "source": [
    "print(stats.kruskal(best_n_vals.aromatic_bond_count, worst_n_vals.aromatic_bond_count))"
   ]
  },
  {
   "cell_type": "code",
   "execution_count": 57,
   "metadata": {},
   "outputs": [
    {
     "data": {
      "text/plain": [
       "<matplotlib.axes._subplots.AxesSubplot at 0x1cf8ae324a8>"
      ]
     },
     "execution_count": 57,
     "metadata": {},
     "output_type": "execute_result"
    },
    {
     "data": {
      "image/png": "[encoded data removed]",
      "text/plain": [
       "<Figure size 432x288 with 1 Axes>"
      ]
     },
     "metadata": {
      "needs_background": "light"
     },
     "output_type": "display_data"
    }
   ],
   "source": [
    "sns.distplot(best_n_vals.aromatic_bond_count, color='g')\n",
    "sns.distplot(worst_n_vals.aromatic_bond_count, color='r')"
   ]
  },
  {
   "cell_type": "code",
   "execution_count": null,
   "metadata": {},
   "outputs": [],
   "source": []
  },
  {
   "cell_type": "markdown",
   "metadata": {},
   "source": [
    "### Check symmetric count"
   ]
  },
  {
   "cell_type": "code",
   "execution_count": 58,
   "metadata": {},
   "outputs": [
    {
     "data": {
      "text/plain": [
       "<matplotlib.axes._subplots.AxesSubplot at 0x1cf8aef9b70>"
      ]
     },
     "execution_count": 58,
     "metadata": {},
     "output_type": "execute_result"
    },
    {
     "data": {
      "image/png": "[encoded data removed]",
      "text/plain": [
       "<Figure size 432x288 with 1 Axes>"
      ]
     },
     "metadata": {
      "needs_background": "light"
     },
     "output_type": "display_data"
    }
   ],
   "source": [
    "sns.distplot(best_n_vals.is_symmetric, color='g')\n",
    "sns.distplot(worst_n_vals.is_symmetric, color='r')"
   ]
  },
  {
   "cell_type": "markdown",
   "metadata": {},
   "source": [
    "### Metrics analysis among symmetric and not symmetric molecules"
   ]
  },
  {
   "cell_type": "code",
   "execution_count": 59,
   "metadata": {},
   "outputs": [],
   "source": [
    "symmetric_rull = lambda values: (len(values) - 1 <= len(values[values % 2 == 0])) or (len(values) - 1 <= len(values[(values % 2 == 1) & (values > 1)]))"
   ]
  },
  {
   "cell_type": "code",
   "execution_count": 60,
   "metadata": {},
   "outputs": [],
   "source": [
    "values_list = [pd.Series(Chem.CanonicalRankAtoms(mol, breakTies=False)).value_counts() for mol in X_test_mol]\n",
    "symmetric_indices = [symmetric_rull(values) for values in values_list]\n",
    "not_symmetric_indices = [not e for e in symmetric_indices]"
   ]
  },
  {
   "cell_type": "code",
   "execution_count": 61,
   "metadata": {},
   "outputs": [],
   "source": [
    "symmetric_y_predicted = compare_data.y_predicted[symmetric_indices]"
   ]
  },
  {
   "cell_type": "code",
   "execution_count": 62,
   "metadata": {},
   "outputs": [],
   "source": [
    "symmetric_y_expected = compare_data.y_expected[symmetric_indices]"
   ]
  },
  {
   "cell_type": "code",
   "execution_count": 63,
   "metadata": {},
   "outputs": [],
   "source": [
    "not_symmetric_y_predicted = compare_data.y_predicted[not_symmetric_indices]"
   ]
  },
  {
   "cell_type": "code",
   "execution_count": 64,
   "metadata": {},
   "outputs": [],
   "source": [
    "not_symmetric_y_expected = compare_data.y_expected[not_symmetric_indices]"
   ]
  },
  {
   "cell_type": "code",
   "execution_count": 65,
   "metadata": {},
   "outputs": [
    {
     "name": "stdout",
     "output_type": "stream",
     "text": [
      "Test symmetric RMSE = 0.3745425532235729\n",
      "Test symmetric R2-score is 0.9588246395482057\n"
     ]
    }
   ],
   "source": [
    "print(\"Test symmetric RMSE =\", mean_squared_error(symmetric_y_expected, symmetric_y_predicted, squared=False))\n",
    "print(\"Test symmetric R2-score is {0}\".format(r2_score(symmetric_y_expected, symmetric_y_predicted)))"
   ]
  },
  {
   "cell_type": "code",
   "execution_count": 66,
   "metadata": {},
   "outputs": [
    {
     "name": "stdout",
     "output_type": "stream",
     "text": [
      "Test not symmetric RMSE = 0.531836025534976\n",
      "Test not symmetric R2-score is 0.9137591169306349\n"
     ]
    }
   ],
   "source": [
    "print(\"Test not symmetric RMSE =\", mean_squared_error(not_symmetric_y_expected, not_symmetric_y_predicted, squared=False))\n",
    "print(\"Test not symmetric R2-score is {0}\".format(r2_score(not_symmetric_y_expected, not_symmetric_y_predicted)))"
   ]
  },
  {
   "cell_type": "code",
   "execution_count": null,
   "metadata": {},
   "outputs": [],
   "source": []
  }
 ],
 "metadata": {
  "kernelspec": {
   "display_name": "chemvae",
   "language": "python",
   "name": "chemvae"
  },
  "language_info": {
   "codemirror_mode": {
    "name": "ipython",
    "version": 3
   },
   "file_extension": ".py",
   "mimetype": "text/x-python",
   "name": "python",
   "nbconvert_exporter": "python",
   "pygments_lexer": "ipython3",
   "version": "3.6.10"
  }
 },
 "nbformat": 4,
 "nbformat_minor": 4
}
