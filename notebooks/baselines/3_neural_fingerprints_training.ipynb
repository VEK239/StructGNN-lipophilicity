{
 "cells": [
  {
   "cell_type": "markdown",
   "metadata": {},
   "source": [
    "# Loading libs & Setting model parameters"
   ]
  },
  {
   "cell_type": "code",
   "execution_count": 7,
   "metadata": {
    "pycharm": {
     "is_executing": true
    }
   },
   "outputs": [],
   "source": [
    "# Path to Neural Fingerprint scripts\n",
    "\n",
    "import sys\n",
    "sys.path\n",
    "sys.path.append('../../scripts/baselines/neuralfingerprints/utils')\n",
    "\n"
   ]
  },
  {
   "cell_type": "code",
   "execution_count": 8,
   "metadata": {},
   "outputs": [],
   "source": [
    "import autograd.numpy as np\n",
    "import autograd.numpy.random as npr\n",
    "\n",
    "from build_vanilla_net import build_morgan_deep_net\n",
    "from build_convnet import build_conv_deep_net\n",
    "from util import normalize_array, build_batched_grad\n",
    "from optimizers import adam\n",
    "from util import rmse\n",
    "\n",
    "from autograd import grad"
   ]
  },
  {
   "cell_type": "code",
   "execution_count": 19,
   "metadata": {},
   "outputs": [],
   "source": [
    "from sklearn.metrics import r2_score"
   ]
  },
  {
   "cell_type": "code",
   "execution_count": 9,
   "metadata": {},
   "outputs": [],
   "source": [
    "from rdkit.Chem import MolFromSmiles"
   ]
  },
  {
   "cell_type": "code",
   "execution_count": 30,
   "metadata": {},
   "outputs": [
    {
     "ename": "IndentationError",
     "evalue": "unexpected indent (<ipython-input-30-df3c27458b0e>, line 17)",
     "output_type": "error",
     "traceback": [
      "\u001b[0;36m  File \u001b[0;32m\"<ipython-input-30-df3c27458b0e>\"\u001b[0;36m, line \u001b[0;32m17\u001b[0m\n\u001b[0;31m    print \"Train R2\", iter, \":\",                     r2_score(train_raw_targets, train_preds)\u001b[0m\n\u001b[0m    ^\u001b[0m\n\u001b[0;31mIndentationError\u001b[0m\u001b[0;31m:\u001b[0m unexpected indent\n"
     ]
    }
   ],
   "source": [
    "def train_nn(pred_fun, loss_fun, num_weights, train_smiles, train_raw_targets, train_params, seed=0,\n",
    "             validation_smiles=None, validation_raw_targets=None):\n",
    "    \"\"\"loss_fun has inputs (weights, smiles, targets)\"\"\"\n",
    "    print (\"Total number of weights in the network:\", num_weights)\n",
    "    init_weights = npr.RandomState(seed).randn(num_weights) * train_params['init_scale']\n",
    "\n",
    "    num_print_examples = len(train_smiles)\n",
    "    train_targets, undo_norm = normalize_array(train_raw_targets)\n",
    "    training_curve = []\n",
    "    def callback(weights, iter):\n",
    "        if iter % 10 == 0:\n",
    "            print (\"max of weights\", np.max(np.abs(weights)))\n",
    "            train_preds = undo_norm(pred_fun(weights, train_smiles[:num_print_examples]))\n",
    "            cur_loss = loss_fun(weights, train_smiles[:num_print_examples], train_targets[:num_print_examples])\n",
    "            training_curve.append(cur_loss)\n",
    "            print (\"Iteration\", iter, \"loss\", cur_loss,\\\n",
    "                  \"train RMSE\", rmse(train_preds, train_raw_targets[:num_print_examples])),\n",
    "             print \"Train R2\", iter, \":\", \\\n",
    "                    r2_score(train_raw_targets, train_preds)\n",
    "            if validation_smiles is not None:\n",
    "                validation_preds = undo_norm(pred_fun(weights, validation_smiles))\n",
    "                print (\"Validation RMSE\", iter, \":\", rmse(validation_preds, validation_raw_targets)),\n",
    "                print \"Validation R2\", iter, \":\", \\\n",
    "                    r2_score(validation_raw_targets, validation_preds)\n",
    "\n",
    "    # Build gradient using autograd.\n",
    "    grad_fun = grad(loss_fun)\n",
    "    grad_fun_with_data = build_batched_grad(grad_fun, train_params['batch_size'],\n",
    "                                            train_smiles, train_targets)\n",
    "\n",
    "    # Optimize weights.\n",
    "    trained_weights = adam(grad_fun_with_data, init_weights, callback=callback,\n",
    "                           num_iters=train_params['num_iters'], step_size=train_params['step_size'])\n",
    "\n",
    "    def predict_func(new_smiles):\n",
    "        \"\"\"Returns to the original units that the raw targets were in.\"\"\"\n",
    "        return undo_norm(pred_fun(trained_weights, new_smiles))\n",
    "    return predict_func, trained_weights, training_curve"
   ]
  },
  {
   "cell_type": "code",
   "execution_count": 31,
   "metadata": {},
   "outputs": [],
   "source": [
    "def print_performance(pred_func):\n",
    "    train_preds = pred_func(train_inputs)\n",
    "    test_preds = pred_func(test_inputs)\n",
    "    print \"\\nPerformance  on \" + task_params['target_name'] + \":\"\n",
    "    print \"Train RMSE:\", rmse(train_preds, train_targets)\n",
    "    print \"Train R2:\", r2_score(train_targets, train_preds)\n",
    "\n",
    "    print \"Test RMSE: \", rmse(test_preds,  test_targets)\n",
    "    print \"Test R2: \", r2_score(test_targets, test_preds)\n",
    "    print \"-\" * 80\n",
    "    return r2_score(test_targets, test_preds)\n",
    "\n",
    "def run_morgan_experiment():\n",
    "    loss_fun, pred_fun, net_parser = \\\n",
    "        build_morgan_deep_net(model_params['fp_length'],\n",
    "                              model_params['fp_depth'], vanilla_net_params)\n",
    "    num_weights = len(net_parser)\n",
    "    predict_func, trained_weights, conv_training_curve = \\\n",
    "        train_nn(pred_fun, loss_fun, num_weights, train_inputs, train_targets,\n",
    "                 train_params, validation_smiles=val_inputs, validation_raw_targets=val_targets)\n",
    "    return print_performance(predict_func)\n",
    "\n",
    "def run_conv_experiment():\n",
    "    conv_layer_sizes = [model_params['conv_width']] * model_params['fp_depth']\n",
    "    conv_arch_params = {'num_hidden_features' : conv_layer_sizes,\n",
    "                        'fp_length' : model_params['fp_length'], 'normalize' : 1}\n",
    "    loss_fun, pred_fun, conv_parser = \\\n",
    "        build_conv_deep_net(conv_arch_params, vanilla_net_params, model_params['L2_reg'])\n",
    "    num_weights = len(conv_parser)\n",
    "    predict_func, trained_weights, conv_training_curve = \\\n",
    "        train_nn(pred_fun, loss_fun, num_weights, train_inputs, train_targets,\n",
    "                 train_params, validation_smiles=val_inputs, validation_raw_targets=val_targets)\n",
    "    test_predictions = predict_func(test_inputs)\n",
    "    return r2_score(test_targets, test_predictions), rmse(test_predictions, test_targets)\n"
   ]
  },
  {
   "cell_type": "code",
   "execution_count": 25,
   "metadata": {},
   "outputs": [],
   "source": [
    "# new function for loading our datasets and looking for molecules with degree>5\n",
    "def load_data(dataset_path = '../../data/3_final_data/split_data', prefix_name='logP_pH_range_mean', VALUE_COLUMN = 'logP', SMILES_COLUMN='smiles'):\n",
    "    import pandas as pd\n",
    "    import os\n",
    "    from rdkit.Chem import MolFromSmiles\n",
    "    \n",
    "    def check_molecules(smiles):\n",
    "        mol = MolFromSmiles(smiles)\n",
    "        for atom in mol.GetAtoms():\n",
    "            if atom.GetDegree() not in [0, 1, 2, 3, 4, 5]:\n",
    "                with open('../../data/raw/broken_smiles_'+prefix_name+'.txt', 'a') as f:\n",
    "                    f.write(smiles+'\\n')\n",
    "                return False\n",
    "        return True\n",
    "    \n",
    "    with open('../../data/raw/broken_smiles_'+prefix_name+'.txt', 'w') as f:\n",
    "        pass\n",
    "    \n",
    "    data_splits = ['train', 'test', 'validation']\n",
    "    \n",
    "    datasets = {}\n",
    "    \n",
    "    for split in data_splits:\n",
    "        data = pd.read_csv(os.path.join(dataset_path,prefix_name+'_'+split+'.csv'))\n",
    "        data = data[data[SMILES_COLUMN].map(check_molecules)]\n",
    "        datasets[split] = (data[SMILES_COLUMN].values, data[VALUE_COLUMN].values)\n",
    "        \n",
    "    \n",
    "    return datasets"
   ]
  },
  {
   "cell_type": "markdown",
   "metadata": {},
   "source": [
    "# Run model on the logP_pH_range_mean dataset"
   ]
  },
  {
   "cell_type": "markdown",
   "metadata": {},
   "source": [
    "## Exp 1"
   ]
  },
  {
   "cell_type": "code",
   "execution_count": 26,
   "metadata": {},
   "outputs": [],
   "source": [
    "# Example regression script using neural fingerprints.\n",
    "#\n",
    "# Compares Morgan fingerprints to neural fingerprints.\n",
    "task_params = {'target_name' : 'logP',\n",
    "               'data_file'   : 'logP_pH_range_mean'}\n",
    "\n",
    "\n",
    "model_params = dict(fp_length=20,    # Usually neural fps need far fewer dimensions than morgan.\n",
    "                    fp_depth=3,      # The depth of the network equals the fingerprint radius.\n",
    "                    conv_width=10,   # Only the neural fps need this parameter.\n",
    "                    h1_size=100,     # Size of hidden layer of network on top of fps.\n",
    "                    L2_reg=np.exp(-2))\n",
    "train_params = dict(num_iters=100,\n",
    "                    batch_size=100,\n",
    "                    init_scale=np.exp(-4),\n",
    "                    step_size=np.exp(-6))\n",
    "\n",
    "# Define the architecture of the network that sits on top of the fingerprints.\n",
    "vanilla_net_params = dict(\n",
    "    layer_sizes = [model_params['fp_length'], model_params['h1_size']],  # One hidden layer.\n",
    "    normalize=True, L2_reg = model_params['L2_reg'], nll_func = rmse)"
   ]
  },
  {
   "cell_type": "code",
   "execution_count": 27,
   "metadata": {},
   "outputs": [
    {
     "name": "stdout",
     "output_type": "stream",
     "text": [
      "Loading data...\n"
     ]
    }
   ],
   "source": [
    "print \"Loading data...\"\n",
    "data = load_data(prefix_name = task_params['data_file'], VALUE_COLUMN = task_params['target_name'])\n",
    "\n",
    "train_inputs, train_targets = data['train']\n",
    "val_inputs,   val_targets   = data['validation']\n",
    "test_inputs,  test_targets  = data['test']"
   ]
  },
  {
   "cell_type": "code",
   "execution_count": 32,
   "metadata": {},
   "outputs": [
    {
     "name": "stdout",
     "output_type": "stream",
     "text": [
      "Task params {'target_name': 'logP', 'data_file': 'logP_pH_range_mean'}\n",
      "\n",
      "Starting Morgan fingerprint experiment...\n",
      "('Total number of weights in the network:', 2201)\n",
      "('max of weights', 0.05807842887286866)\n",
      "('Iteration', 0, 'loss', 0.9999109564225269, 'train RMSE', 2.1462148290688954) ('Validation RMSE', 0, ':', 2.0925806853436244) ('max of weights', 0.0700485368267423)\n",
      "('Iteration', 10, 'loss', 0.9888576513072963, 'train RMSE', 2.1224386679568648) ('Validation RMSE', 10, ':', 2.0757267156712973) ('max of weights', 0.0925759792323924)\n",
      "('Iteration', 20, 'loss', 0.9680222993369636, 'train RMSE', 2.0775635940746615) ('Validation RMSE', 20, ':', 2.0476423784000564) ('max of weights', 0.1162597058294584)\n",
      "('Iteration', 30, 'loss', 0.9456881304325262, 'train RMSE', 2.029384294910751) ('Validation RMSE', 30, ':', 2.031594819258093) ('max of weights', 0.1397804585857589)\n",
      "('Iteration', 40, 'loss', 0.9295632848378832, 'train RMSE', 1.994520261453428) ('Validation RMSE', 40, ':', 2.034066592493314) ('max of weights', 0.16160903523166437)\n",
      "('Iteration', 50, 'loss', 0.9176244495660496, 'train RMSE', 1.9686872245499463) ('Validation RMSE', 50, ':', 2.0363370606344975) ('max of weights', 0.18052344063609307)\n",
      "('Iteration', 60, 'loss', 0.9100513531139859, 'train RMSE', 1.9522700355473208) ('Validation RMSE', 60, ':', 2.0377961569849434) ('max of weights', 0.19599041378365573)\n",
      "('Iteration', 70, 'loss', 0.9052371839026068, 'train RMSE', 1.9418111008117087) ('Validation RMSE', 70, ':', 2.039797365343394) ('max of weights', 0.2067295721575054)\n",
      "('Iteration', 80, 'loss', 0.9018527885685316, 'train RMSE', 1.9344507819320902) ('Validation RMSE', 80, ':', 2.0411115004250906) ('max of weights', 0.21313549941847923)\n",
      "('Iteration', 90, 'loss', 0.8992030905389243, 'train RMSE', 1.9286818303549518) ('Validation RMSE', 90, ':', 2.041559069873441) \n",
      "Performance  on logP:\n",
      "Train RMSE: 1.9234739778985848\n",
      "Train R2: 0.19700852099583133\n",
      "Test RMSE:  1.8173346428366501\n",
      "Test R2:  0.15143003399495925\n",
      "--------------------------------------------------------------------------------\n",
      "Starting neural fingerprint experiment...\n",
      "('Total number of weights in the network:', 12071)\n",
      "('max of weights', 0.06962983567500523)\n",
      "('Iteration', 0, 'loss', 0.9949412649751602, 'train RMSE', 2.135447547950449) ('Validation RMSE', 0, ':', 2.088136493460858) ('max of weights', 0.0847864121287179)\n",
      "('Iteration', 10, 'loss', 0.9390416159988016, 'train RMSE', 2.0154461440215927) ('Validation RMSE', 10, ':', 2.0844599309358363) ('max of weights', 0.0991747500769907)\n",
      "('Iteration', 20, 'loss', 0.9331788618472874, 'train RMSE', 2.002782426192611) ('Validation RMSE', 20, ':', 2.0534344623681458) ('max of weights', 0.12817891137604195)\n",
      "('Iteration', 30, 'loss', 0.9181815830828939, 'train RMSE', 1.9703992947410391) ('Validation RMSE', 30, ':', 2.013447127209065) ('max of weights', 0.16074501495134463)\n",
      "('Iteration', 40, 'loss', 0.8608135011117211, 'train RMSE', 1.8468710318162258) ('Validation RMSE', 40, ':', 1.882445511023772) ('max of weights', 0.19314536107042685)\n",
      "('Iteration', 50, 'loss', 0.7390650560830327, 'train RMSE', 1.584955363015918) ('Validation RMSE', 50, ':', 1.5836097113536507) ('max of weights', 0.21701824774462683)\n",
      "('Iteration', 60, 'loss', 0.6739886226310808, 'train RMSE', 1.4448224192588572) ('Validation RMSE', 60, ':', 1.448026120583423) ('max of weights', 0.25457312908182506)\n",
      "('Iteration', 70, 'loss', 0.63210753511269, 'train RMSE', 1.3547698621838535) ('Validation RMSE', 70, ':', 1.3949633135136976) ('max of weights', 0.2878968029607948)\n",
      "('Iteration', 80, 'loss', 0.5913086037443651, 'train RMSE', 1.266988726785529) ('Validation RMSE', 80, ':', 1.3082795430490985) ('max of weights', 0.3166543716608641)\n",
      "('Iteration', 90, 'loss', 0.5592560204917238, 'train RMSE', 1.198031502358389) ('Validation RMSE', 90, ':', 1.240260150421561)\n",
      "Morgan test R2: 0.15143003399495925 Neural test RMSE: 1.1805657734850785 Neural test R2: 0.6419050289338928\n"
     ]
    }
   ],
   "source": [
    "print \"Task params\", task_params\n",
    "print\n",
    "print \"Starting Morgan fingerprint experiment...\"\n",
    "test_r2_morgan = run_morgan_experiment()\n",
    "print \"Starting neural fingerprint experiment...\"\n",
    "test_r2_neural, test_rmse_neural = run_conv_experiment()\n",
    "print\n",
    "print \"Morgan test R2:\", test_r2_morgan, \"Neural test RMSE:\", test_rmse_neural,  \"Neural test R2:\", test_r2_neural"
   ]
  },
  {
   "cell_type": "markdown",
   "metadata": {},
   "source": [
    "## Conclusion:\n",
    "\n",
    "fp=50 better than 20"
   ]
  },
  {
   "cell_type": "markdown",
   "metadata": {},
   "source": [
    "## Exp 2"
   ]
  },
  {
   "cell_type": "code",
   "execution_count": 33,
   "metadata": {},
   "outputs": [],
   "source": [
    "# Example regression script using neural fingerprints.\n",
    "#\n",
    "# Compares Morgan fingerprints to neural fingerprints.\n",
    "\n",
    "\n",
    "\n",
    "task_params = {'target_name' : 'logP',\n",
    "               'data_file'   : 'logP_pH_range_mean'}\n",
    "\n",
    "\n",
    "model_params = dict(fp_length=50,    # Usually neural fps need far fewer dimensions than morgan.\n",
    "                    fp_depth=4,      # The depth of the network equals the fingerprint radius.\n",
    "                    conv_width=20,   # Only the neural fps need this parameter.\n",
    "                    h1_size=100,     # Size of hidden layer of network on top of fps.\n",
    "                    L2_reg=np.exp(-2))\n",
    "train_params = dict(num_iters=100,\n",
    "                    batch_size=100,\n",
    "                    init_scale=np.exp(-4),\n",
    "                    step_size=np.exp(-6))\n",
    "\n",
    "# Define the architecture of the network that sits on top of the fingerprints.\n",
    "vanilla_net_params = dict(\n",
    "    layer_sizes = [model_params['fp_length'], model_params['h1_size']],  # One hidden layer.\n",
    "    normalize=True, L2_reg = model_params['L2_reg'], nll_func = rmse)\n",
    "\n"
   ]
  },
  {
   "cell_type": "code",
   "execution_count": 34,
   "metadata": {},
   "outputs": [
    {
     "name": "stdout",
     "output_type": "stream",
     "text": [
      "Task params {'target_name': 'logP', 'data_file': 'logP_pH_range_mean'}\n",
      "\n",
      "Starting Morgan fingerprint experiment...\n",
      "('Total number of weights in the network:', 5201)\n",
      "('max of weights', 0.06962983567500523)\n",
      "('Iteration', 0, 'loss', 0.9988033939079917, 'train RMSE', 2.1438361639957364) ('Validation RMSE', 0, ':', 2.0898162504176137) ('max of weights', 0.09032801579807535)\n",
      "('Iteration', 10, 'loss', 0.9371983624390124, 'train RMSE', 2.011529194456203) ('Validation RMSE', 10, ':', 2.0049638705942296) ('max of weights', 0.10916021852213828)\n",
      "('Iteration', 20, 'loss', 0.8513427238668987, 'train RMSE', 1.8270646319848718) ('Validation RMSE', 20, ':', 1.9166215982695638) ('max of weights', 0.12248950704544143)\n",
      "('Iteration', 30, 'loss', 0.7895184035368686, 'train RMSE', 1.6941674487298546) ('Validation RMSE', 30, ':', 1.848161025661022) ('max of weights', 0.1441955227267383)\n",
      "('Iteration', 40, 'loss', 0.7549531765229186, 'train RMSE', 1.619826848633481) ('Validation RMSE', 40, ':', 1.7767812789133532) ('max of weights', 0.15516563784055562)\n",
      "('Iteration', 50, 'loss', 0.7354754392344072, 'train RMSE', 1.5779163091762753) ('Validation RMSE', 50, ':', 1.7443809970441937) ('max of weights', 0.16559980891976708)\n",
      "('Iteration', 60, 'loss', 0.7183937011520752, 'train RMSE', 1.5411717822181135) ('Validation RMSE', 60, ':', 1.733911006279129) ('max of weights', 0.1759607998871946)\n",
      "('Iteration', 70, 'loss', 0.703919483279784, 'train RMSE', 1.5100311140718305) ('Validation RMSE', 70, ':', 1.7170818561579755) ('max of weights', 0.18648838949524635)\n",
      "('Iteration', 80, 'loss', 0.6899636128100811, 'train RMSE', 1.4800016983598783) ('Validation RMSE', 80, ':', 1.6952886968597456) ('max of weights', 0.19521339957426004)\n",
      "('Iteration', 90, 'loss', 0.6764842210688466, 'train RMSE', 1.4509932456031442) ('Validation RMSE', 90, ':', 1.6802429606541887) \n",
      "Performance  on logP:\n",
      "Train RMSE: 1.4218738167168083\n",
      "Train R2: 0.5612062630581094\n",
      "Test RMSE:  1.474838529325047\n",
      "Test R2:  0.441135150175884\n",
      "--------------------------------------------------------------------------------\n",
      "Starting neural fingerprint experiment...\n",
      "('Total number of weights in the network:', 35721)\n",
      "('max of weights', 0.08535001578936458)\n",
      "('Iteration', 0, 'loss', 1.0005750200400065, 'train RMSE', 2.1475384409782685) ('Validation RMSE', 0, ':', 2.0934824700053793) ('max of weights', 0.09290565699693541)\n",
      "('Iteration', 10, 'loss', 0.9373364134178017, 'train RMSE', 2.0117650661791897) ('Validation RMSE', 10, ':', 2.082019793389969) ('max of weights', 0.1181470426285825)\n",
      "('Iteration', 20, 'loss', 0.9268205888482534, 'train RMSE', 1.9890594641138069) ('Validation RMSE', 20, ':', 2.0353779073065055) ('max of weights', 0.14710130492610443)\n",
      "('Iteration', 30, 'loss', 0.8753150038245695, 'train RMSE', 1.8781835860992662) ('Validation RMSE', 30, ':', 1.9127376079700655) ('max of weights', 0.1792083069342489)\n",
      "('Iteration', 40, 'loss', 0.7403037078212775, 'train RMSE', 1.5878098953432238) ('Validation RMSE', 40, ':', 1.5951014364224343) ('max of weights', 0.20472682063497935)\n",
      "('Iteration', 50, 'loss', 0.6567250685146842, 'train RMSE', 1.4078960579279638) ('Validation RMSE', 50, ':', 1.4154944105049847) ('max of weights', 0.22055012761047005)\n",
      "('Iteration', 60, 'loss', 0.6001043415121977, 'train RMSE', 1.2860985843911008) ('Validation RMSE', 60, ':', 1.3405370088083925) ('max of weights', 0.24896216548753627)\n",
      "('Iteration', 70, 'loss', 0.559278657447062, 'train RMSE', 1.1982781765089459) ('Validation RMSE', 70, ':', 1.2480340208935317) ('max of weights', 0.27993695925699535)\n",
      "('Iteration', 80, 'loss', 0.5230988742162429, 'train RMSE', 1.1205399369166584) ('Validation RMSE', 80, ':', 1.1461934191963756) ('max of weights', 0.30958534628812073)\n",
      "('Iteration', 90, 'loss', 0.5018402653540934, 'train RMSE', 1.0748695962413946) ('Validation RMSE', 90, ':', 1.0961071853972393)\n",
      "Morgan test R2: 0.441135150175884 Neural test RMSE: 1.0847150717979956 Neural test R2: 0.6976923099257659\n"
     ]
    }
   ],
   "source": [
    "print \"Task params\", task_params\n",
    "print\n",
    "print \"Starting Morgan fingerprint experiment...\"\n",
    "test_r2_morgan = run_morgan_experiment()\n",
    "print \"Starting neural fingerprint experiment...\"\n",
    "test_r2_neural, test_rmse_neural = run_conv_experiment()\n",
    "print\n",
    "print \"Morgan test R2:\", test_r2_morgan, \"Neural test RMSE:\", test_rmse_neural,  \"Neural test R2:\", test_r2_neural"
   ]
  },
  {
   "cell_type": "markdown",
   "metadata": {},
   "source": [
    "# Run model on the logp_mean dataset"
   ]
  },
  {
   "cell_type": "markdown",
   "metadata": {},
   "source": [
    "## Exp 3"
   ]
  },
  {
   "cell_type": "code",
   "execution_count": 36,
   "metadata": {},
   "outputs": [],
   "source": [
    "# Example regression script using neural fingerprints.\n",
    "#\n",
    "# Compares Morgan fingerprints to neural fingerprints.\n",
    "\n",
    "\n",
    "\n",
    "task_params = {'target_name' : 'logP',\n",
    "               'data_file'   : 'logp_mean'}\n",
    "\n",
    "\n",
    "model_params = dict(fp_length=50,    # Usually neural fps need far fewer dimensions than morgan.\n",
    "                    fp_depth=4,      # The depth of the network equals the fingerprint radius.\n",
    "                    conv_width=20,   # Only the neural fps need this parameter.\n",
    "                    h1_size=100,     # Size of hidden layer of network on top of fps.\n",
    "                    L2_reg=np.exp(-2))\n",
    "train_params = dict(num_iters=100,\n",
    "                    batch_size=100,\n",
    "                    init_scale=np.exp(-4),\n",
    "                    step_size=np.exp(-6))\n",
    "\n",
    "# Define the architecture of the network that sits on top of the fingerprints.\n",
    "vanilla_net_params = dict(\n",
    "    layer_sizes = [model_params['fp_length'], model_params['h1_size']],  # One hidden layer.\n",
    "    normalize=True, L2_reg = model_params['L2_reg'], nll_func = rmse)\n",
    "\n"
   ]
  },
  {
   "cell_type": "code",
   "execution_count": 37,
   "metadata": {},
   "outputs": [
    {
     "name": "stdout",
     "output_type": "stream",
     "text": [
      "Loading data...\n"
     ]
    }
   ],
   "source": [
    "print \"Loading data...\"\n",
    "data = load_data(prefix_name = task_params['data_file'], VALUE_COLUMN = task_params['target_name'])\n",
    "\n",
    "train_inputs, train_targets = data['train']\n",
    "val_inputs,   val_targets   = data['validation']\n",
    "test_inputs,  test_targets  = data['test']"
   ]
  },
  {
   "cell_type": "code",
   "execution_count": null,
   "metadata": {},
   "outputs": [
    {
     "name": "stdout",
     "output_type": "stream",
     "text": [
      "Task params {'target_name': 'logP', 'data_file': 'logp_mean'}\n",
      "\n",
      "Starting Morgan fingerprint experiment...\n",
      "('Total number of weights in the network:', 5201)\n",
      "('max of weights', 0.06962983567500523)\n",
      "('Iteration', 0, 'loss', 0.999519254924889, 'train RMSE', 1.8582909622736343) ('Validation RMSE', 0, ':', 1.8535196977483208) ('max of weights', 0.0768049562057181)\n",
      "('Iteration', 10, 'loss', 0.9668801139856394, 'train RMSE', 1.79755642053455) ('Validation RMSE', 10, ':', 1.7982404347941785) ('max of weights', 0.10034534569408528)\n",
      "('Iteration', 20, 'loss', 0.9308119004850787, 'train RMSE', 1.7304005521749122) ('Validation RMSE', 20, ':', 1.739658983911634) ('max of weights', 0.12042060326640294)\n",
      "('Iteration', 30, 'loss', 0.8995877570663567, 'train RMSE', 1.6722443320109857) ('Validation RMSE', 30, ':', 1.6869890633195388) ('max of weights', 0.1324797097484821)\n",
      "('Iteration', 40, 'loss', 0.8817925019039489, 'train RMSE', 1.639077186395681) ('Validation RMSE', 40, ':', 1.6539269288043832) ('max of weights', 0.14552685026076811)\n",
      "('Iteration', 50, 'loss', 0.8753410134848919, 'train RMSE', 1.6270349512451507) ('Validation RMSE', 50, ':', 1.6417993464548724) ('max of weights', 0.14786922841545969)\n",
      "('Iteration', 60, 'loss', 0.8737698379118908, 'train RMSE', 1.6240846834786993) ('Validation RMSE', 60, ':', 1.6371207805970807) ('max of weights', 0.1590755639514829)\n",
      "('Iteration', 70, 'loss', 0.8697046444467038, 'train RMSE', 1.616478894759786) ('Validation RMSE', 70, ':', 1.6344504838144909) ('max of weights', 0.17114868988783435)\n",
      "('Iteration', 80, 'loss', 0.8641715636761521, 'train RMSE', 1.6061596562323128) ('Validation RMSE', 80, ':', 1.625302246781837) ('max of weights', 0.17445227374221237)\n",
      "('Iteration', 90, 'loss', 0.8619114161581958, 'train RMSE', 1.601936754490451) ('Validation RMSE', 90, ':', 1.6232624971562863) \n",
      "Performance  on logP:\n",
      "Train RMSE: 1.5969065861912142\n",
      "Train R2: 0.26230740355251525\n",
      "Test RMSE:  1.6321351935220103\n",
      "Test R2:  0.26912096686571596\n",
      "--------------------------------------------------------------------------------\n",
      "Starting neural fingerprint experiment...\n",
      "('Total number of weights in the network:', 35721)\n",
      "('max of weights', 0.08535001578936458)\n"
     ]
    }
   ],
   "source": [
    "print \"Task params\", task_params\n",
    "print\n",
    "print \"Starting Morgan fingerprint experiment...\"\n",
    "test_r2_morgan = run_morgan_experiment()\n",
    "print \"Starting neural fingerprint experiment...\"\n",
    "test_r2_neural, test_rmse_neural = run_conv_experiment()\n",
    "print\n",
    "print \"Morgan test R2:\", test_r2_morgan, \"Neural test RMSE:\", test_rmse_neural,  \"Neural test R2:\", test_r2_neural"
   ]
  },
  {
   "cell_type": "code",
   "execution_count": 134,
   "metadata": {},
   "outputs": [
    {
     "name": "stdout",
     "output_type": "stream",
     "text": [
      "Task params {'target_name': 'logP', 'data_file': 'logp_mean'}\n",
      "\n",
      "Starting Morgan fingerprint experiment...\n",
      "('Total number of weights in the network:', 5201)\n",
      "('max of weights', 0.06962983567500523)\n",
      "('Iteration', 0, 'loss', 0.999519254924889, 'train RMSE', 1.8582909622736343) ('Validation RMSE', 0, ':', 1.8535196977483208) ('max of weights', 0.0768049562057181)\n",
      "('Iteration', 10, 'loss', 0.9668801139856394, 'train RMSE', 1.79755642053455) ('Validation RMSE', 10, ':', 1.7982404347941785) ('max of weights', 0.10034534569408528)\n",
      "('Iteration', 20, 'loss', 0.9308119004850787, 'train RMSE', 1.7304005521749122) ('Validation RMSE', 20, ':', 1.739658983911634) ('max of weights', 0.12042060326640294)\n",
      "('Iteration', 30, 'loss', 0.8995877570663567, 'train RMSE', 1.6722443320109857) ('Validation RMSE', 30, ':', 1.6869890633195388) ('max of weights', 0.1324797097484821)\n",
      "('Iteration', 40, 'loss', 0.8817925019039489, 'train RMSE', 1.639077186395681) ('Validation RMSE', 40, ':', 1.6539269288043832) ('max of weights', 0.14552685026076811)\n",
      "('Iteration', 50, 'loss', 0.8753410134848919, 'train RMSE', 1.6270349512451507) ('Validation RMSE', 50, ':', 1.6417993464548724) ('max of weights', 0.14786922841545969)\n",
      "('Iteration', 60, 'loss', 0.8737698379118908, 'train RMSE', 1.6240846834786993) ('Validation RMSE', 60, ':', 1.6371207805970807) ('max of weights', 0.1590755639514829)\n",
      "('Iteration', 70, 'loss', 0.8697046444467038, 'train RMSE', 1.616478894759786) ('Validation RMSE', 70, ':', 1.6344504838144909) ('max of weights', 0.17114868988783435)\n",
      "('Iteration', 80, 'loss', 0.8641715636761521, 'train RMSE', 1.6061596562323128) ('Validation RMSE', 80, ':', 1.625302246781837) ('max of weights', 0.17445227374221237)\n",
      "('Iteration', 90, 'loss', 0.8619114161581958, 'train RMSE', 1.601936754490451) ('Validation RMSE', 90, ':', 1.6232624971562863) \n",
      "Performance (RMSE) on logP:\n",
      "Train: 1.5969065861912142\n",
      "Test:  1.6251339016817823\n",
      "--------------------------------------------------------------------------------\n",
      "Starting neural fingerprint experiment...\n",
      "('Total number of weights in the network:', 32591)\n",
      "('max of weights', 0.08535001578936458)\n",
      "('Iteration', 0, 'loss', 1.0031754034543305, 'train RMSE', 1.8650027375765912) ('Validation RMSE', 0, ':', 1.8596272751971834) ('max of weights', 0.09120079851720171)\n",
      "('Iteration', 10, 'loss', 0.9603030382417603, 'train RMSE', 1.7852830740102128) ('Validation RMSE', 10, ':', 1.797204963854026) ('max of weights', 0.11657351977389933)\n",
      "('Iteration', 20, 'loss', 0.9572125261092523, 'train RMSE', 1.7794682299806928) ('Validation RMSE', 20, ':', 1.7851661322382564) ('max of weights', 0.14559970686929644)\n",
      "('Iteration', 30, 'loss', 0.9441452662575643, 'train RMSE', 1.7549631994870527) ('Validation RMSE', 30, ':', 1.7668094217065524) ('max of weights', 0.17692157339821238)\n",
      "('Iteration', 40, 'loss', 0.8939929714607848, 'train RMSE', 1.6613493412092253) ('Validation RMSE', 40, ':', 1.6820466386311783) ('max of weights', 0.19369025307448878)\n",
      "('Iteration', 50, 'loss', 0.8125501394284781, 'train RMSE', 1.509616963549319) ('Validation RMSE', 50, ':', 1.5348965534429577) ('max of weights', 0.2228902153275771)\n",
      "('Iteration', 60, 'loss', 0.7156822020486088, 'train RMSE', 1.3292152632737944) ('Validation RMSE', 60, ':', 1.3118228350241128) ('max of weights', 0.2454724950335292)\n",
      "('Iteration', 70, 'loss', 0.6108152723726326, 'train RMSE', 1.1339021508269271) ('Validation RMSE', 70, ':', 1.1018448946657435) ('max of weights', 0.26787798967325543)\n",
      "('Iteration', 80, 'loss', 0.5949826822568554, 'train RMSE', 1.1043993188960748) ('Validation RMSE', 80, ':', 1.0874016158338669) ('max of weights', 0.2900584348366508)\n",
      "('Iteration', 90, 'loss', 0.5622276579950678, 'train RMSE', 1.0434093317873474) ('Validation RMSE', 90, ':', 1.036780302755788)\n",
      "Morgan test RMSE: 1.6251339016817823 Neural test RMSE: 0.9921316498878262\n"
     ]
    }
   ],
   "source": [
    "print \"Task params\", task_params\n",
    "print\n",
    "print \"Starting Morgan fingerprint experiment...\"\n",
    "test_loss_morgan = run_morgan_experiment()\n",
    "print \"Starting neural fingerprint experiment...\"\n",
    "test_loss_neural = run_conv_experiment()\n",
    "print\n",
    "print \"Morgan test RMSE:\", test_loss_morgan, \"Neural test RMSE:\", test_loss_neural"
   ]
  },
  {
   "cell_type": "markdown",
   "metadata": {},
   "source": [
    "# Run model on the logP_wo_parameters dataset"
   ]
  },
  {
   "cell_type": "markdown",
   "metadata": {},
   "source": [
    "## Exp 4"
   ]
  },
  {
   "cell_type": "code",
   "execution_count": 7,
   "metadata": {},
   "outputs": [],
   "source": [
    "# Example regression script using neural fingerprints.\n",
    "#\n",
    "# Compares Morgan fingerprints to neural fingerprints.\n",
    "\n",
    "\n",
    "\n",
    "task_params = {'target_name' : 'logP',\n",
    "               'data_file'   : 'logP_wo_parameters'}\n",
    "\n",
    "\n",
    "model_params = dict(fp_length=50,    # Usually neural fps need far fewer dimensions than morgan.\n",
    "                    fp_depth=4,      # The depth of the network equals the fingerprint radius.\n",
    "                    conv_width=20,   # Only the neural fps need this parameter.\n",
    "                    h1_size=100,     # Size of hidden layer of network on top of fps.\n",
    "                    L2_reg=np.exp(-2))\n",
    "train_params = dict(num_iters=100,\n",
    "                    batch_size=100,\n",
    "                    init_scale=np.exp(-4),\n",
    "                    step_size=np.exp(-6))\n",
    "\n",
    "# Define the architecture of the network that sits on top of the fingerprints.\n",
    "vanilla_net_params = dict(\n",
    "    layer_sizes = [model_params['fp_length'], model_params['h1_size']],  # One hidden layer.\n",
    "    normalize=True, L2_reg = model_params['L2_reg'], nll_func = rmse)\n",
    "\n"
   ]
  },
  {
   "cell_type": "code",
   "execution_count": 24,
   "metadata": {},
   "outputs": [
    {
     "name": "stdout",
     "output_type": "stream",
     "text": [
      "Loading data...\n"
     ]
    }
   ],
   "source": [
    "print \"Loading data...\"\n",
    "data = load_data(prefix_name = task_params['data_file'], VALUE_COLUMN = task_params['target_name'])\n",
    "\n",
    "train_inputs, train_targets = data['train']\n",
    "val_inputs,   val_targets   = data['validation']\n",
    "test_inputs,  test_targets  = data['test']"
   ]
  },
  {
   "cell_type": "code",
   "execution_count": 16,
   "metadata": {},
   "outputs": [
    {
     "name": "stdout",
     "output_type": "stream",
     "text": [
      "Task params {'target_name': 'logP', 'data_file': 'logP_wo_parameters'}\n",
      "\n",
      "Starting Morgan fingerprint experiment...\n",
      "('Total number of weights in the network:', 5201)\n",
      "('max of weights', 0.06962983567500523)\n",
      "('Iteration', 0, 'loss', 0.9257143517733886, 'train RMSE', 1.679771723981958) ('Validation RMSE', 0, ':', 1.7855753334019995) ('max of weights', 0.07677219665574586)\n",
      "('Iteration', 10, 'loss', 0.8903258612824727, 'train RMSE', 1.6155172499214647) ('Validation RMSE', 10, ':', 1.7423064072614651) ('max of weights', 0.09707957703843811)\n",
      "('Iteration', 20, 'loss', 0.8512975617327888, 'train RMSE', 1.544615067413653) ('Validation RMSE', 20, ':', 1.678486814343979) ('max of weights', 0.11799096659658179)\n",
      "('Iteration', 30, 'loss', 0.8125755442457792, 'train RMSE', 1.4742366594417664) ('Validation RMSE', 30, ':', 1.614749972389661) ('max of weights', 0.13703311646014693)\n",
      "('Iteration', 40, 'loss', 0.791143161865403, 'train RMSE', 1.435242040241313) ('Validation RMSE', 40, ':', 1.5742231637499695) ('max of weights', 0.14606411653641294)\n",
      "('Iteration', 50, 'loss', 0.7788133417541198, 'train RMSE', 1.4127961397043376) ('Validation RMSE', 50, ':', 1.5617315907738307) ('max of weights', 0.15339265466113353)\n",
      "('Iteration', 60, 'loss', 0.7789382095899864, 'train RMSE', 1.4130059669017812) ('Validation RMSE', 60, ':', 1.560265016146501) ('max of weights', 0.15928748703879192)\n",
      "('Iteration', 70, 'loss', 0.7810692731682735, 'train RMSE', 1.4168670316509748) ('Validation RMSE', 70, ':', 1.5553259532572463) ('max of weights', 0.1635609778317205)\n",
      "('Iteration', 80, 'loss', 0.7733112589308422, 'train RMSE', 1.4027781715623444) ('Validation RMSE', 80, ':', 1.5504838007342057) ('max of weights', 0.17752944433855625)\n",
      "('Iteration', 90, 'loss', 0.7572705133834163, 'train RMSE', 1.373638291432727) ('Validation RMSE', 90, ':', 1.5553627984930527) \n",
      "Performance (RMSE) on logP:\n",
      "Train: 1.5546254403076\n",
      "Test:  1.5605749501416544\n",
      "--------------------------------------------------------------------------------\n",
      "Starting neural fingerprint experiment...\n",
      "('Total number of weights in the network:', 32591)\n",
      "('max of weights', 0.08535001578936458)\n",
      "('Iteration', 0, 'loss', 0.9273910144345919, 'train RMSE', 1.682730369633808) ('Validation RMSE', 0, ':', 1.790742584458495) ('max of weights', 0.09035382889294036)\n",
      "('Iteration', 10, 'loss', 0.9050307287712375, 'train RMSE', 1.6421656163638343) ('Validation RMSE', 10, ':', 1.7225605655466607) ('max of weights', 0.1120727354639903)\n",
      "('Iteration', 20, 'loss', 0.9052272105007466, 'train RMSE', 1.6424538447363441) ('Validation RMSE', 20, ':', 1.7175679686846805) ('max of weights', 0.13769756704066088)\n",
      "('Iteration', 30, 'loss', 0.9088246580426296, 'train RMSE', 1.6488287041907237) ('Validation RMSE', 30, ':', 1.7104169763348815) ('max of weights', 0.16903715898020247)\n",
      "('Iteration', 40, 'loss', 0.8672974285534211, 'train RMSE', 1.5731736242447965) ('Validation RMSE', 40, ':', 1.6389800939187498) ('max of weights', 0.20140995314845797)\n",
      "('Iteration', 50, 'loss', 0.7164444714583655, 'train RMSE', 1.2989632681475902) ('Validation RMSE', 50, ':', 1.3432932756668021) ('max of weights', 0.22527371930083567)\n",
      "('Iteration', 60, 'loss', 0.6343891680242976, 'train RMSE', 1.1494814416863064) ('Validation RMSE', 60, ':', 1.1270145099543474) ('max of weights', 0.24645257018009248)\n",
      "('Iteration', 70, 'loss', 0.5436596628876776, 'train RMSE', 0.9848015420209351) ('Validation RMSE', 70, ':', 1.029414210816517) ('max of weights', 0.27176856497135443)\n",
      "('Iteration', 80, 'loss', 0.5135628407364865, 'train RMSE', 0.9300226451652144) ('Validation RMSE', 80, ':', 0.9601217862350984) ('max of weights', 0.29893762623588355)\n",
      "('Iteration', 90, 'loss', 0.4639565451503121, 'train RMSE', 0.8399246909768847) ('Validation RMSE', 90, ':', 0.895878919159272)\n",
      "Morgan test RMSE: 1.5605749501416544 Neural test RMSE: 0.8823734712408374\n"
     ]
    }
   ],
   "source": [
    "print \"Task params\", task_params\n",
    "print\n",
    "print \"Starting Morgan fingerprint experiment...\"\n",
    "test_loss_morgan = run_morgan_experiment()\n",
    "print \"Starting neural fingerprint experiment...\"\n",
    "test_loss_neural = run_conv_experiment()\n",
    "print\n",
    "print \"Morgan test RMSE:\", test_loss_morgan, \"Neural test RMSE:\", test_loss_neural"
   ]
  },
  {
   "cell_type": "markdown",
   "metadata": {},
   "source": [
    "## Exp 5"
   ]
  },
  {
   "cell_type": "code",
   "execution_count": 9,
   "metadata": {},
   "outputs": [],
   "source": [
    "# Example regression script using neural fingerprints.\n",
    "#\n",
    "# Compares Morgan fingerprints to neural fingerprints.\n",
    "\n",
    "\n",
    "\n",
    "task_params = {'target_name' : 'logP',\n",
    "               'data_file'   : 'logP_wo_parameters'}\n",
    "\n",
    "\n",
    "model_params = dict(fp_length=50,    # Usually neural fps need far fewer dimensions than morgan.\n",
    "                    fp_depth=4,      # The depth of the network equals the fingerprint radius.\n",
    "                    conv_width=20,   # Only the neural fps need this parameter.\n",
    "                    h1_size=100,     # Size of hidden layer of network on top of fps.\n",
    "                    L2_reg=np.exp(-2))\n",
    "train_params = dict(num_iters=1000,\n",
    "                    batch_size=100,\n",
    "                    init_scale=np.exp(-4),\n",
    "                    step_size=np.exp(-6))\n",
    "\n",
    "# Define the architecture of the network that sits on top of the fingerprints.\n",
    "vanilla_net_params = dict(\n",
    "    layer_sizes = [model_params['fp_length'], model_params['h1_size']],  # One hidden layer.\n",
    "    normalize=True, L2_reg = model_params['L2_reg'], nll_func = rmse)\n",
    "\n"
   ]
  },
  {
   "cell_type": "code",
   "execution_count": 11,
   "metadata": {},
   "outputs": [
    {
     "name": "stdout",
     "output_type": "stream",
     "text": [
      "Loading data...\n"
     ]
    }
   ],
   "source": [
    "print \"Loading data...\"\n",
    "data = load_data(prefix_name = task_params['data_file'], VALUE_COLUMN = task_params['target_name'])\n",
    "\n",
    "train_inputs, train_targets = data['train']\n",
    "val_inputs,   val_targets   = data['validation']\n",
    "test_inputs,  test_targets  = data['test']"
   ]
  },
  {
   "cell_type": "code",
   "execution_count": 12,
   "metadata": {},
   "outputs": [
    {
     "name": "stdout",
     "output_type": "stream",
     "text": [
      "Task params {'target_name': 'logP', 'data_file': 'logP_wo_parameters'}\n",
      "\n",
      "Starting Morgan fingerprint experiment...\n",
      "('Total number of weights in the network:', 5201)\n",
      "('max of weights', 0.06962983567500523)\n",
      "('Iteration', 0, 'loss', 0.99972477921577, 'train RMSE', 1.8140751113765883) ('Validation RMSE', 0, ':', 1.7855753334019995) ('max of weights', 0.07677219665574586)\n",
      "('Iteration', 10, 'loss', 0.9754579071706453, 'train RMSE', 1.7700025371131636) ('Validation RMSE', 10, ':', 1.7423064072614651) ('max of weights', 0.09707957703843811)\n",
      "('Iteration', 20, 'loss', 0.9380743491560056, 'train RMSE', 1.7020849929486046) ('Validation RMSE', 20, ':', 1.678486814343979) ('max of weights', 0.11799096659658179)\n",
      "('Iteration', 30, 'loss', 0.9004124434833619, 'train RMSE', 1.6336303221122352) ('Validation RMSE', 30, ':', 1.614749972389661) ('max of weights', 0.13703311646014693)\n",
      "('Iteration', 40, 'loss', 0.8792170806671804, 'train RMSE', 1.5950658116336225) ('Validation RMSE', 40, ':', 1.5742231637499695) ('max of weights', 0.14606411653641294)\n",
      "('Iteration', 50, 'loss', 0.8707817157650358, 'train RMSE', 1.5796870034607764) ('Validation RMSE', 50, ':', 1.5617315907738307) ('max of weights', 0.15339265466113353)\n",
      "('Iteration', 60, 'loss', 0.8665822970917058, 'train RMSE', 1.572049742804253) ('Validation RMSE', 60, ':', 1.560265016146501) ('max of weights', 0.15928748703879192)\n",
      "('Iteration', 70, 'loss', 0.8633800191354113, 'train RMSE', 1.566232633018049) ('Validation RMSE', 70, ':', 1.5553259532572463) ('max of weights', 0.1635609778317205)\n",
      "('Iteration', 80, 'loss', 0.8606990086691493, 'train RMSE', 1.5613567828774313) ('Validation RMSE', 80, ':', 1.5504838007342057) ('max of weights', 0.17752944433855625)\n",
      "('Iteration', 90, 'loss', 0.8592687413069535, 'train RMSE', 1.5587298790883355) ('Validation RMSE', 90, ':', 1.5553627984930527) ('max of weights', 0.18361322358373994)\n",
      "('Iteration', 100, 'loss', 0.8570274919111623, 'train RMSE', 1.5546254403076) ('Validation RMSE', 100, ':', 1.5605749501416544) ('max of weights', 0.18469195688162457)\n",
      "('Iteration', 110, 'loss', 0.8533862085622145, 'train RMSE', 1.5479847476171384) ('Validation RMSE', 110, ':', 1.561509845355146) ('max of weights', 0.19241986631555294)\n",
      "('Iteration', 120, 'loss', 0.8488192685002923, 'train RMSE', 1.5396565693770323) ('Validation RMSE', 120, ':', 1.5501082667681723) ('max of weights', 0.2006435136025549)\n",
      "('Iteration', 130, 'loss', 0.8470661665613043, 'train RMSE', 1.5364400707109627) ('Validation RMSE', 130, ':', 1.5342859138099318) ('max of weights', 0.20500220036276282)\n",
      "('Iteration', 140, 'loss', 0.8438161421975255, 'train RMSE', 1.5305100150278568) ('Validation RMSE', 140, ':', 1.5282696224592345) ('max of weights', 0.19977553058046515)\n",
      "('Iteration', 150, 'loss', 0.8407765711694313, 'train RMSE', 1.5249865673763474) ('Validation RMSE', 150, ':', 1.528575183180162) ('max of weights', 0.20090644385558365)\n",
      "('Iteration', 160, 'loss', 0.8394349323654297, 'train RMSE', 1.5225363558771725) ('Validation RMSE', 160, ':', 1.5262234789979436) ('max of weights', 0.20866810473082872)\n",
      "('Iteration', 170, 'loss', 0.8359434493991513, 'train RMSE', 1.5161813110894555) ('Validation RMSE', 170, ':', 1.5215615979160577) ('max of weights', 0.21796863008523)\n",
      "('Iteration', 180, 'loss', 0.8371056546710891, 'train RMSE', 1.5182539958283647) ('Validation RMSE', 180, ':', 1.5334524296583967) ('max of weights', 0.21958983653883427)\n",
      "('Iteration', 190, 'loss', 0.8325238064099745, 'train RMSE', 1.509898356376272) ('Validation RMSE', 190, ':', 1.5370256031645033) ('max of weights', 0.24003917526991042)\n",
      "('Iteration', 200, 'loss', 0.8298528994712475, 'train RMSE', 1.5050154049898312) ('Validation RMSE', 200, ':', 1.5384285041294417) ('max of weights', 0.24996925682972054)\n",
      "('Iteration', 210, 'loss', 0.8238505905563817, 'train RMSE', 1.4940740890156106) ('Validation RMSE', 210, ':', 1.521000343237298) ('max of weights', 0.24740272344022593)\n",
      "('Iteration', 220, 'loss', 0.8246831380138733, 'train RMSE', 1.4955412193030069) ('Validation RMSE', 220, ':', 1.507991665052399) ('max of weights', 0.25499505429885116)\n",
      "('Iteration', 230, 'loss', 0.820390300113804, 'train RMSE', 1.4877157421025284) ('Validation RMSE', 230, ':', 1.5026015350624373) ('max of weights', 0.25949250017775327)\n",
      "('Iteration', 240, 'loss', 0.8171183918697305, 'train RMSE', 1.481763160166227) ('Validation RMSE', 240, ':', 1.5034895075556967) ('max of weights', 0.2674196247872679)\n",
      "('Iteration', 250, 'loss', 0.8171888705719698, 'train RMSE', 1.4818722649469576) ('Validation RMSE', 250, ':', 1.5043209484308175) ('max of weights', 0.2727606964808875)\n",
      "('Iteration', 260, 'loss', 0.8135358963246577, 'train RMSE', 1.47522124252658) ('Validation RMSE', 260, ':', 1.5015811229745903) ('max of weights', 0.27951230964137846)\n",
      "('Iteration', 270, 'loss', 0.8157772881309664, 'train RMSE', 1.4792442365370306) ('Validation RMSE', 270, ':', 1.5176876147810268) ('max of weights', 0.2880570072262201)\n",
      "('Iteration', 280, 'loss', 0.809677764197602, 'train RMSE', 1.468125784010272) ('Validation RMSE', 280, ':', 1.5209372735758644) ('max of weights', 0.3012570643580917)\n",
      "('Iteration', 290, 'loss', 0.80694789430135, 'train RMSE', 1.463134087846895) ('Validation RMSE', 290, ':', 1.518548440387153) ('max of weights', 0.30267393853899927)\n",
      "('Iteration', 300, 'loss', 0.8015883152254003, 'train RMSE', 1.4533549738161202) ('Validation RMSE', 300, ':', 1.4984784411725125) ('max of weights', 0.2935840349918593)\n",
      "('Iteration', 310, 'loss', 0.8046882919598322, 'train RMSE', 1.4589322478870264) ('Validation RMSE', 310, ':', 1.4895332164434865) ('max of weights', 0.29946673762651993)\n",
      "('Iteration', 320, 'loss', 0.799360477448289, 'train RMSE', 1.44922941657011) ('Validation RMSE', 320, ':', 1.4859013412272137) ('max of weights', 0.3096230430747441)\n",
      "('Iteration', 330, 'loss', 0.7961604381910535, 'train RMSE', 1.443404265615464) ('Validation RMSE', 330, ':', 1.4871247835406545) ('max of weights', 0.31090193053595677)\n",
      "('Iteration', 340, 'loss', 0.7973195078181227, 'train RMSE', 1.445489334067259) ('Validation RMSE', 340, ':', 1.4905755394226547) ('max of weights', 0.3088064897503717)\n",
      "('Iteration', 350, 'loss', 0.7950066796962716, 'train RMSE', 1.4412675864277555) ('Validation RMSE', 350, ':', 1.4913257963534858) ('max of weights', 0.313246889166233)\n",
      "('Iteration', 360, 'loss', 0.7941052189758253, 'train RMSE', 1.4395839838812052) ('Validation RMSE', 360, ':', 1.503533469346619) ('max of weights', 0.31807923935743576)\n",
      "('Iteration', 370, 'loss', 0.7910650844681247, 'train RMSE', 1.4340140701909996) ('Validation RMSE', 370, ':', 1.5135215238033377) ('max of weights', 0.324081063393978)\n",
      "('Iteration', 380, 'loss', 0.7867351952884474, 'train RMSE', 1.4261174577898708) ('Validation RMSE', 380, ':', 1.5032545891277402) ('max of weights', 0.3264929682175688)\n",
      "('Iteration', 390, 'loss', 0.7834506125831052, 'train RMSE', 1.4201015889214692) ('Validation RMSE', 390, ':', 1.4846513644973582) ('max of weights', 0.33153831736999206)\n",
      "('Iteration', 400, 'loss', 0.7864762646126481, 'train RMSE', 1.4255444435078828) ('Validation RMSE', 400, ':', 1.4777833848654962) ('max of weights', 0.3344267583724864)\n",
      "('Iteration', 410, 'loss', 0.7808201768078854, 'train RMSE', 1.4152481511181967) ('Validation RMSE', 410, ':', 1.4763553927974995) ('max of weights', 0.3432812252529601)\n",
      "('Iteration', 420, 'loss', 0.778048353980959, 'train RMSE', 1.410199537694846) ('Validation RMSE', 420, ':', 1.4773038645643424) ('max of weights', 0.34127850749954136)\n",
      "('Iteration', 430, 'loss', 0.7788189987917321, 'train RMSE', 1.4115802212015662) ('Validation RMSE', 430, ':', 1.4808063529708737) ('max of weights', 0.33987047099158446)\n",
      "('Iteration', 440, 'loss', 0.778810355066167, 'train RMSE', 1.411534772625192) ('Validation RMSE', 440, ':', 1.4854794199597754) ('max of weights', 0.34358537597799815)\n",
      "('Iteration', 450, 'loss', 0.774722355415857, 'train RMSE', 1.4040680714481744) ('Validation RMSE', 450, ':', 1.4933957446688226) ('max of weights', 0.3478316845242867)\n",
      "('Iteration', 460, 'loss', 0.7746143152983409, 'train RMSE', 1.4038200344547238) ('Validation RMSE', 460, ':', 1.5075183049970697) ('max of weights', 0.3495072539266155)\n",
      "('Iteration', 470, 'loss', 0.7693947539818174, 'train RMSE', 1.3943078174476258) ('Validation RMSE', 470, ':', 1.4919522730997588) ('max of weights', 0.35431607245591207)\n"
     ]
    },
    {
     "name": "stdout",
     "output_type": "stream",
     "text": [
      "('Iteration', 480, 'loss', 0.7683166468475676, 'train RMSE', 1.392296915757392) ('Validation RMSE', 480, ':', 1.477061060778449) ('max of weights', 0.35885454244202714)\n",
      "('Iteration', 490, 'loss', 0.7688628748812374, 'train RMSE', 1.3932433869488092) ('Validation RMSE', 490, ':', 1.4695699168373548) ('max of weights', 0.359715595188665)\n",
      "('Iteration', 500, 'loss', 0.7643861193627861, 'train RMSE', 1.3850879817864286) ('Validation RMSE', 500, ':', 1.4713753863878272) ('max of weights', 0.36853387227072104)\n",
      "('Iteration', 510, 'loss', 0.7623287307165033, 'train RMSE', 1.3813362326235565) ('Validation RMSE', 510, ':', 1.4710839608097057) ('max of weights', 0.36522637727435897)\n",
      "('Iteration', 520, 'loss', 0.7621369764060578, 'train RMSE', 1.3809711133576985) ('Validation RMSE', 520, ':', 1.4726569993769463) ('max of weights', 0.36597289013589535)\n",
      "('Iteration', 530, 'loss', 0.7631810831409311, 'train RMSE', 1.382831977878866) ('Validation RMSE', 530, ':', 1.4797093866116438) ('max of weights', 0.37004715685593814)\n",
      "('Iteration', 540, 'loss', 0.7590213398338896, 'train RMSE', 1.3752353554779901) ('Validation RMSE', 540, ':', 1.487733232161594) ('max of weights', 0.3723224195353417)\n",
      "('Iteration', 550, 'loss', 0.7594286966568913, 'train RMSE', 1.3759229920430438) ('Validation RMSE', 550, ':', 1.5005042138571016) ('max of weights', 0.37328663739115714)\n",
      "('Iteration', 560, 'loss', 0.7547877410805411, 'train RMSE', 1.367459722882357) ('Validation RMSE', 560, ':', 1.4833089904785588) ('max of weights', 0.3771089847846165)\n",
      "('Iteration', 570, 'loss', 0.7556288760632845, 'train RMSE', 1.3689353655061012) ('Validation RMSE', 570, ':', 1.471045617959518) ('max of weights', 0.38101877690037145)\n",
      "('Iteration', 580, 'loss', 0.7538615079246389, 'train RMSE', 1.3656873251616857) ('Validation RMSE', 580, ':', 1.4632975679691071) ('max of weights', 0.3807473163375982)\n",
      "('Iteration', 590, 'loss', 0.7499855045739364, 'train RMSE', 1.358623562281399) ('Validation RMSE', 590, ':', 1.468244535799149) ('max of weights', 0.38937295816450335)\n",
      "('Iteration', 600, 'loss', 0.7478529021944009, 'train RMSE', 1.3547364206839845) ('Validation RMSE', 600, ':', 1.4661595033923787) ('max of weights', 0.38494804690934326)\n",
      "('Iteration', 610, 'loss', 0.7471214057417921, 'train RMSE', 1.3533911109179813) ('Validation RMSE', 610, ':', 1.4670168940043742) ('max of weights', 0.3878204925428043)\n",
      "('Iteration', 620, 'loss', 0.7485244185702221, 'train RMSE', 1.3558999992299385) ('Validation RMSE', 620, ':', 1.4760107940526996) ('max of weights', 0.39198876430483154)\n",
      "('Iteration', 630, 'loss', 0.7457341596227292, 'train RMSE', 1.35078997396657) ('Validation RMSE', 630, ':', 1.4855324380089807) ('max of weights', 0.3922850180566525)\n",
      "('Iteration', 640, 'loss', 0.7451310182637143, 'train RMSE', 1.34964597690762) ('Validation RMSE', 640, ':', 1.493577693750528) ('max of weights', 0.39270881458648993)\n",
      "('Iteration', 650, 'loss', 0.7421409844022204, 'train RMSE', 1.3441778834032394) ('Validation RMSE', 650, ':', 1.4792493457950986) ('max of weights', 0.396339049340981)\n",
      "('Iteration', 660, 'loss', 0.7442251147864682, 'train RMSE', 1.347913188316811) ('Validation RMSE', 660, ':', 1.4700352279161104) ('max of weights', 0.3991491428436014)\n",
      "('Iteration', 670, 'loss', 0.7410433045307816, 'train RMSE', 1.342101733508232) ('Validation RMSE', 670, ':', 1.4615102353232186) ('max of weights', 0.39852406116568495)\n",
      "('Iteration', 680, 'loss', 0.7376730379900263, 'train RMSE', 1.3359574621980936) ('Validation RMSE', 680, ':', 1.4674302143359605) ('max of weights', 0.4064931274025742)\n",
      "('Iteration', 690, 'loss', 0.7351534959803375, 'train RMSE', 1.3313702471439912) ('Validation RMSE', 690, ':', 1.4629978130665793) ('max of weights', 0.40125855757527606)\n",
      "('Iteration', 700, 'loss', 0.7359524813632108, 'train RMSE', 1.332801379478859) ('Validation RMSE', 700, ':', 1.4645697270356706) ('max of weights', 0.4057470529124215)\n",
      "('Iteration', 710, 'loss', 0.7358694926934003, 'train RMSE', 1.3326125727788583) ('Validation RMSE', 710, ':', 1.4736469467791815) ('max of weights', 0.40950321535172707)\n",
      "('Iteration', 720, 'loss', 0.73464132510995, 'train RMSE', 1.330339494513977) ('Validation RMSE', 720, ':', 1.4851435432955977) ('max of weights', 0.40818913573489896)\n",
      "('Iteration', 730, 'loss', 0.7328544350749424, 'train RMSE', 1.3270498064377545) ('Validation RMSE', 730, ':', 1.4889043651016076) ('max of weights', 0.40909175879723436)\n",
      "('Iteration', 740, 'loss', 0.731213249271427, 'train RMSE', 1.324030048553797) ('Validation RMSE', 740, ':', 1.4769525827881087) ('max of weights', 0.41176792199860973)\n",
      "('Iteration', 750, 'loss', 0.7338975425672384, 'train RMSE', 1.3288579327749688) ('Validation RMSE', 750, ':', 1.4692097528006771) ('max of weights', 0.4146679321270835)\n",
      "('Iteration', 760, 'loss', 0.7302805794711447, 'train RMSE', 1.322259962036813) ('Validation RMSE', 760, ':', 1.4613809290463138) ('max of weights', 0.42114211459587403)\n",
      "('Iteration', 770, 'loss', 0.7275078397334291, 'train RMSE', 1.317201047530458) ('Validation RMSE', 770, ':', 1.4689720748011053) ('max of weights', 0.42647951730891076)\n",
      "('Iteration', 780, 'loss', 0.7243884306996047, 'train RMSE', 1.3115268337658363) ('Validation RMSE', 780, ':', 1.4609560260384822) ('max of weights', 0.4203507136648302)\n",
      "('Iteration', 790, 'loss', 0.7290603787176138, 'train RMSE', 1.3199850754961597) ('Validation RMSE', 790, ':', 1.4673344699476625) ('max of weights', 0.42797447796302734)\n",
      "('Iteration', 800, 'loss', 0.7252636972691827, 'train RMSE', 1.3130565609604006) ('Validation RMSE', 800, ':', 1.4729818854454884) ('max of weights', 0.44148473059236876)\n",
      "('Iteration', 810, 'loss', 0.7253576576320433, 'train RMSE', 1.3131838501014736) ('Validation RMSE', 810, ':', 1.4849003113997037) ('max of weights', 0.44370852082479456)\n",
      "('Iteration', 820, 'loss', 0.722709375280003, 'train RMSE', 1.3083348040320841) ('Validation RMSE', 820, ':', 1.4856558104253967) ('max of weights', 0.44525952403820285)\n",
      "('Iteration', 830, 'loss', 0.7223584097164385, 'train RMSE', 1.3076564224976017) ('Validation RMSE', 830, ':', 1.475665680104317) ('max of weights', 0.44562450050894925)\n",
      "('Iteration', 840, 'loss', 0.7251793328143205, 'train RMSE', 1.3127350462375715) ('Validation RMSE', 840, ':', 1.4684937143669072) ('max of weights', 0.4507345177488373)\n",
      "('Iteration', 850, 'loss', 0.7215790174888144, 'train RMSE', 1.3061705891813937) ('Validation RMSE', 850, ':', 1.462957912629555) ('max of weights', 0.45761637977998976)\n",
      "('Iteration', 860, 'loss', 0.719042376687326, 'train RMSE', 1.3015418380751007) ('Validation RMSE', 860, ':', 1.4704503969461933) ('max of weights', 0.4591292411521053)\n",
      "('Iteration', 870, 'loss', 0.7149979201900714, 'train RMSE', 1.2941909218638676) ('Validation RMSE', 870, ':', 1.461502782529581) ('max of weights', 0.45235723550787765)\n",
      "('Iteration', 880, 'loss', 0.7229858582292404, 'train RMSE', 1.3086650472659922) ('Validation RMSE', 880, ':', 1.4724310121642785) ('max of weights', 0.4625623427107674)\n",
      "('Iteration', 890, 'loss', 0.7166033640228586, 'train RMSE', 1.297044708486099) ('Validation RMSE', 890, ':', 1.4760843415704348) ('max of weights', 0.47399990694247773)\n",
      "('Iteration', 900, 'loss', 0.7176292034016465, 'train RMSE', 1.298864363587498) ('Validation RMSE', 900, ':', 1.4866023563475022) ('max of weights', 0.47467351916879813)\n",
      "('Iteration', 910, 'loss', 0.7142887473402731, 'train RMSE', 1.2927624312017112) ('Validation RMSE', 910, ':', 1.4849032220748564) ('max of weights', 0.475347507532476)\n",
      "('Iteration', 920, 'loss', 0.7154028793053511, 'train RMSE', 1.2947441149013643) ('Validation RMSE', 920, ':', 1.476006315428342) ('max of weights', 0.47576644545567504)\n",
      "('Iteration', 930, 'loss', 0.7172056622994017, 'train RMSE', 1.2979788809878414) ('Validation RMSE', 930, ':', 1.4678055881609098) ('max of weights', 0.48026368968447675)\n",
      "('Iteration', 940, 'loss', 0.713218139428773, 'train RMSE', 1.2907130381150762) ('Validation RMSE', 940, ':', 1.464137231467791) ('max of weights', 0.48751175259619905)\n",
      "('Iteration', 950, 'loss', 0.7113603842670037, 'train RMSE', 1.2873184362997878) ('Validation RMSE', 950, ':', 1.4699314185898005) ('max of weights', 0.48621594804305696)\n",
      "('Iteration', 960, 'loss', 0.7076522468148368, 'train RMSE', 1.280578724211628) ('Validation RMSE', 960, ':', 1.4624612518368059) ('max of weights', 0.478973738313085)\n"
     ]
    },
    {
     "name": "stdout",
     "output_type": "stream",
     "text": [
      "('Iteration', 970, 'loss', 0.7179562690518768, 'train RMSE', 1.2992545935267674) ('Validation RMSE', 970, ':', 1.4770247222186292) ('max of weights', 0.49058592359451497)\n",
      "('Iteration', 980, 'loss', 0.7090781848791243, 'train RMSE', 1.283107320327959) ('Validation RMSE', 980, ':', 1.4788030928702542) ('max of weights', 0.5000463856106903)\n",
      "('Iteration', 990, 'loss', 0.7110786830986975, 'train RMSE', 1.2866971014296755) ('Validation RMSE', 990, ':', 1.4886635725427888) \n",
      "Performance (RMSE) on logP:\n",
      "Train: 1.277317737249006\n",
      "Test:  1.4828592717261608\n",
      "--------------------------------------------------------------------------------\n",
      "Starting neural fingerprint experiment...\n",
      "('Total number of weights in the network:', 32591)\n",
      "('max of weights', 0.08535001578936458)\n",
      "('Iteration', 0, 'loss', 1.0026942648417996, 'train RMSE', 1.819379784601551) ('Validation RMSE', 0, ':', 1.790742584458495) ('max of weights', 0.09035382889294036)\n",
      "('Iteration', 10, 'loss', 0.9669116454403601, 'train RMSE', 1.7544581271754776) ('Validation RMSE', 10, ':', 1.7225605655466607) ('max of weights', 0.1120727354639903)\n",
      "('Iteration', 20, 'loss', 0.9647599681520981, 'train RMSE', 1.7504852571983884) ('Validation RMSE', 20, ':', 1.7175679686846805) ('max of weights', 0.13769756704066088)\n",
      "('Iteration', 30, 'loss', 0.9602682777059137, 'train RMSE', 1.7421811224833885) ('Validation RMSE', 30, ':', 1.7104169763348815) ('max of weights', 0.16903715898020247)\n",
      "('Iteration', 40, 'loss', 0.9287595912296637, 'train RMSE', 1.6847062410567384) ('Validation RMSE', 40, ':', 1.6389800939187498) ('max of weights', 0.20140995314845797)\n",
      "('Iteration', 50, 'loss', 0.7842213176792927, 'train RMSE', 1.4219548566164182) ('Validation RMSE', 50, ':', 1.3432932756668021) ('max of weights', 0.22527371930083567)\n",
      "('Iteration', 60, 'loss', 0.638443839720875, 'train RMSE', 1.1568392716900233) ('Validation RMSE', 60, ':', 1.1270145099543474) ('max of weights', 0.24645257018009248)\n",
      "('Iteration', 70, 'loss', 0.5788265872483458, 'train RMSE', 1.0486173748583478) ('Validation RMSE', 70, ':', 1.029414210816517) ('max of weights', 0.27176856497135443)\n",
      "('Iteration', 80, 'loss', 0.5323641744878574, 'train RMSE', 0.9641405782404143) ('Validation RMSE', 80, ':', 0.9601217862350984) ('max of weights', 0.29893762623588355)\n",
      "('Iteration', 90, 'loss', 0.4906780521977813, 'train RMSE', 0.8884150056093534) ('Validation RMSE', 90, ':', 0.895878919159272) ('max of weights', 0.32283625841360525)\n",
      "('Iteration', 100, 'loss', 0.4712204269992195, 'train RMSE', 0.8530173217593497) ('Validation RMSE', 100, ':', 0.8652367041510295) ('max of weights', 0.34125538651332127)\n",
      "('Iteration', 110, 'loss', 0.46474794421621374, 'train RMSE', 0.8411860932277653) ('Validation RMSE', 110, ':', 0.8516975433909264) ('max of weights', 0.35958089440635965)\n",
      "('Iteration', 120, 'loss', 0.4509479224987904, 'train RMSE', 0.8161123732192154) ('Validation RMSE', 120, ':', 0.8188195546023164) ('max of weights', 0.3735380497277032)\n",
      "('Iteration', 130, 'loss', 0.46319195678466735, 'train RMSE', 0.8382823498951328) ('Validation RMSE', 130, ':', 0.8550851697950274) ('max of weights', 0.38796946733696586)\n",
      "('Iteration', 140, 'loss', 0.43633425785658925, 'train RMSE', 0.7894923797767278) ('Validation RMSE', 140, ':', 0.7849032787419046) ('max of weights', 0.40009534114454526)\n",
      "('Iteration', 150, 'loss', 0.4475024783967775, 'train RMSE', 0.8097493207945982) ('Validation RMSE', 150, ':', 0.8119019305916353) ('max of weights', 0.410351572119228)\n",
      "('Iteration', 160, 'loss', 0.42770250898098955, 'train RMSE', 0.7737732856226665) ('Validation RMSE', 160, ':', 0.784709055426419) ('max of weights', 0.41580313598203883)\n",
      "('Iteration', 170, 'loss', 0.43252083528481755, 'train RMSE', 0.7824552927987347) ('Validation RMSE', 170, ':', 0.801456495740857) ('max of weights', 0.4200987138556984)\n",
      "('Iteration', 180, 'loss', 0.41979258969259936, 'train RMSE', 0.7593226329002319) ('Validation RMSE', 180, ':', 0.763170420987555) ('max of weights', 0.4226978534737585)\n",
      "('Iteration', 190, 'loss', 0.4132387810866574, 'train RMSE', 0.7473606972650487) ('Validation RMSE', 190, ':', 0.773240199134619) ('max of weights', 0.42564840562280776)\n",
      "('Iteration', 200, 'loss', 0.4243579687263036, 'train RMSE', 0.7675084258630037) ('Validation RMSE', 200, ':', 0.7836284214225618) ('max of weights', 0.4360683615249153)\n",
      "('Iteration', 210, 'loss', 0.40863779125318817, 'train RMSE', 0.7389608591272616) ('Validation RMSE', 210, ':', 0.7525880563566001) ('max of weights', 0.4551136608863793)\n",
      "('Iteration', 220, 'loss', 0.4137949423496472, 'train RMSE', 0.7482670925193539) ('Validation RMSE', 220, ':', 0.7641868436482917) ('max of weights', 0.47624236518192564)\n",
      "('Iteration', 230, 'loss', 0.3999062132339335, 'train RMSE', 0.7230344808909813) ('Validation RMSE', 230, ':', 0.7254034614640262) ('max of weights', 0.4938398432005696)\n",
      "('Iteration', 240, 'loss', 0.4072084165774874, 'train RMSE', 0.7362635579736544) ('Validation RMSE', 240, ':', 0.7496063674157757) ('max of weights', 0.5095499256402962)\n",
      "('Iteration', 250, 'loss', 0.3967995445971997, 'train RMSE', 0.7173304261054977) ('Validation RMSE', 250, ':', 0.7402507386290988) ('max of weights', 0.5284369301126848)\n",
      "('Iteration', 260, 'loss', 0.39855504708536804, 'train RMSE', 0.7204647965661374) ('Validation RMSE', 260, ':', 0.7463951576476547) ('max of weights', 0.5423974701334765)\n",
      "('Iteration', 270, 'loss', 0.3847762868155059, 'train RMSE', 0.6954320658047469) ('Validation RMSE', 270, ':', 0.7131986849857725) ('max of weights', 0.5591141085153809)\n",
      "('Iteration', 280, 'loss', 0.38141561764402016, 'train RMSE', 0.6892750258390381) ('Validation RMSE', 280, ':', 0.7187911281290207) ('max of weights', 0.5805942981142775)\n",
      "('Iteration', 290, 'loss', 0.37915315420932827, 'train RMSE', 0.685144784073856) ('Validation RMSE', 290, ':', 0.7068301789373467) ('max of weights', 0.5906143126776621)\n",
      "('Iteration', 300, 'loss', 0.38215563852448714, 'train RMSE', 0.6905688251402192) ('Validation RMSE', 300, ':', 0.7055420761839816) ('max of weights', 0.6057765066508864)\n",
      "('Iteration', 310, 'loss', 0.37910176912016685, 'train RMSE', 0.6849721477814248) ('Validation RMSE', 310, ':', 0.7076253459821426) ('max of weights', 0.62528258602496)\n",
      "('Iteration', 320, 'loss', 0.3692870017779182, 'train RMSE', 0.6671434470249634) ('Validation RMSE', 320, ':', 0.6746674817747893) ('max of weights', 0.6371109468964172)\n",
      "('Iteration', 330, 'loss', 0.38097789398084997, 'train RMSE', 0.6883214107714922) ('Validation RMSE', 330, ':', 0.7035018846484832) ('max of weights', 0.6569741862999825)\n",
      "('Iteration', 340, 'loss', 0.36754326770184714, 'train RMSE', 0.6639033936845419) ('Validation RMSE', 340, ':', 0.6873053789644102) ('max of weights', 0.6813503272317281)\n",
      "('Iteration', 350, 'loss', 0.37669505990570856, 'train RMSE', 0.6804663435383953) ('Validation RMSE', 350, ':', 0.7063461316473796) ('max of weights', 0.7062278527734582)\n",
      "('Iteration', 360, 'loss', 0.3657845625934211, 'train RMSE', 0.6606408754833674) ('Validation RMSE', 360, ':', 0.6824312128352868) ('max of weights', 0.7316374421806798)\n",
      "('Iteration', 370, 'loss', 0.3551387367134159, 'train RMSE', 0.641254363684493) ('Validation RMSE', 370, ':', 0.6632180956100173) ('max of weights', 0.7604251986510799)\n",
      "('Iteration', 380, 'loss', 0.3605606063864836, 'train RMSE', 0.6510851744118594) ('Validation RMSE', 380, ':', 0.6661692601460076) ('max of weights', 0.7762535873931803)\n",
      "('Iteration', 390, 'loss', 0.36133935512349147, 'train RMSE', 0.6524735470866636) ('Validation RMSE', 390, ':', 0.672297261644387) ('max of weights', 0.7936332245003477)\n",
      "('Iteration', 400, 'loss', 0.3540301370350474, 'train RMSE', 0.6391470128993127) ('Validation RMSE', 400, ':', 0.6661138068547449) ('max of weights', 0.8177680653140069)\n",
      "('Iteration', 410, 'loss', 0.35275377021942933, 'train RMSE', 0.636826423587682) ('Validation RMSE', 410, ':', 0.6534453703365649) ('max of weights', 0.8417628232742386)\n",
      "('Iteration', 420, 'loss', 0.3590811528646062, 'train RMSE', 0.6482752246452589) ('Validation RMSE', 420, ':', 0.6629580490458635) ('max of weights', 0.8588779560166644)\n",
      "('Iteration', 430, 'loss', 0.3428244731594693, 'train RMSE', 0.6187404592263334) ('Validation RMSE', 430, ':', 0.6356500793549251) ('max of weights', 0.8788430867559779)\n",
      "('Iteration', 440, 'loss', 0.35657759428074426, 'train RMSE', 0.6436642650779494) ('Validation RMSE', 440, ':', 0.6612380005860649) ('max of weights', 0.9004728167494266)\n",
      "('Iteration', 450, 'loss', 0.34608780527945454, 'train RMSE', 0.6246072956866724) ('Validation RMSE', 450, ':', 0.6470177506678658) ('max of weights', 0.9240016661582298)\n",
      "('Iteration', 460, 'loss', 0.3386472601887861, 'train RMSE', 0.6110314717383616) ('Validation RMSE', 460, ':', 0.6371106282273905) ('max of weights', 0.9481154765225903)\n",
      "('Iteration', 470, 'loss', 0.3487141085357387, 'train RMSE', 0.6293079982948873) ('Validation RMSE', 470, ':', 0.6405725130884358) ('max of weights', 0.9614205808496232)\n",
      "('Iteration', 480, 'loss', 0.33366308996247074, 'train RMSE', 0.6019694705067014) ('Validation RMSE', 480, ':', 0.6143359580198454) ('max of weights', 0.9781536243826202)\n",
      "('Iteration', 490, 'loss', 0.3313051977347137, 'train RMSE', 0.5976343894598336) ('Validation RMSE', 490, ':', 0.6187002691078688) ('max of weights', 1.0020148428164306)\n",
      "('Iteration', 500, 'loss', 0.34799497124074424, 'train RMSE', 0.6279103193192664) ('Validation RMSE', 500, ':', 0.6516808809877889) ('max of weights', 1.0242494034384606)\n",
      "('Iteration', 510, 'loss', 0.3388945270742211, 'train RMSE', 0.6113719731278666) ('Validation RMSE', 510, ':', 0.6292207413912715) ('max of weights', 1.038710424764589)\n",
      "('Iteration', 520, 'loss', 0.3311268974157145, 'train RMSE', 0.5972582805870732) ('Validation RMSE', 520, ':', 0.6146226447138566) ('max of weights', 1.057612118862757)\n",
      "('Iteration', 530, 'loss', 0.3287295001793509, 'train RMSE', 0.592884413087033) ('Validation RMSE', 530, ':', 0.6007852012056545) ('max of weights', 1.0760925791748832)\n",
      "('Iteration', 540, 'loss', 0.3222994023786538, 'train RMSE', 0.5811847378352581) ('Validation RMSE', 540, ':', 0.6005908955686545) ('max of weights', 1.0950584594087607)\n",
      "('Iteration', 550, 'loss', 0.3210679593985001, 'train RMSE', 0.5788873706921112) ('Validation RMSE', 550, ':', 0.6037042738825729) ('max of weights', 1.1149503494780986)\n",
      "('Iteration', 560, 'loss', 0.32557694833498585, 'train RMSE', 0.5870819801823113) ('Validation RMSE', 560, ':', 0.6037444565458444) ('max of weights', 1.1264670275521738)\n",
      "('Iteration', 570, 'loss', 0.318170398073576, 'train RMSE', 0.5736206076190392) ('Validation RMSE', 570, ':', 0.5811582140922517) ('max of weights', 1.141660796203721)\n",
      "('Iteration', 580, 'loss', 0.31562495813394675, 'train RMSE', 0.5689567664998014) ('Validation RMSE', 580, ':', 0.590700718236504) ('max of weights', 1.1624220482836818)\n",
      "('Iteration', 590, 'loss', 0.33550495622146004, 'train RMSE', 0.6050254780681953) ('Validation RMSE', 590, ':', 0.6334486856088274) ('max of weights', 1.1817924252744982)\n",
      "('Iteration', 600, 'loss', 0.32636474525454023, 'train RMSE', 0.5884189675391074) ('Validation RMSE', 600, ':', 0.6137504908412494) ('max of weights', 1.1938715944626805)\n",
      "('Iteration', 610, 'loss', 0.32390368325749186, 'train RMSE', 0.583942205756771) ('Validation RMSE', 610, ':', 0.6039036403449063) ('max of weights', 1.2074096904251124)\n",
      "('Iteration', 620, 'loss', 0.31343564494852455, 'train RMSE', 0.5649336111805066) ('Validation RMSE', 620, ':', 0.5771106100292416) ('max of weights', 1.2203944838311922)\n",
      "('Iteration', 630, 'loss', 0.30963060050255264, 'train RMSE', 0.557998485295532) ('Validation RMSE', 630, ':', 0.5849299110791492) ('max of weights', 1.2338918244225499)\n",
      "('Iteration', 640, 'loss', 0.311919196983366, 'train RMSE', 0.5621107492807549) ('Validation RMSE', 640, ':', 0.5914057680246412) ('max of weights', 1.2492423949753193)\n",
      "('Iteration', 650, 'loss', 0.311704299702816, 'train RMSE', 0.5617386524981904) ('Validation RMSE', 650, ':', 0.5828148690479229) ('max of weights', 1.258603970906903)\n",
      "('Iteration', 660, 'loss', 0.3092197092628775, 'train RMSE', 0.5572120503723137) ('Validation RMSE', 660, ':', 0.5674218895095113) ('max of weights', 1.272228904476752)\n",
      "('Iteration', 670, 'loss', 0.3066234917979826, 'train RMSE', 0.5524633347345993) ('Validation RMSE', 670, ':', 0.572434377206623) ('max of weights', 1.2896351830196064)\n",
      "('Iteration', 680, 'loss', 0.33051421370661843, 'train RMSE', 0.595814069289386) ('Validation RMSE', 680, ':', 0.63375306538438) ('max of weights', 1.3053986719824826)\n",
      "('Iteration', 690, 'loss', 0.3139014228712387, 'train RMSE', 0.5656527102688755) ('Validation RMSE', 690, ':', 0.5954054847586085) ('max of weights', 1.3152161851963025)\n",
      "('Iteration', 700, 'loss', 0.32810849663893055, 'train RMSE', 0.5914184268698909) ('Validation RMSE', 700, ':', 0.6127073798682203) ('max of weights', 1.323186049493096)\n",
      "('Iteration', 710, 'loss', 0.30473324438578947, 'train RMSE', 0.5489942140007963) ('Validation RMSE', 710, ':', 0.565070253379248) ('max of weights', 1.333636862013227)\n",
      "('Iteration', 720, 'loss', 0.3061588965793821, 'train RMSE', 0.5515540951995784) ('Validation RMSE', 720, ':', 0.5848704059621225) ('max of weights', 1.3429304112186453)\n",
      "('Iteration', 730, 'loss', 0.30751852434046273, 'train RMSE', 0.5539857542703109) ('Validation RMSE', 730, ':', 0.5860492711188163) ('max of weights', 1.3553596416363904)\n",
      "('Iteration', 740, 'loss', 0.3031337523414386, 'train RMSE', 0.546049894278742) ('Validation RMSE', 740, ':', 0.574518191777622) ('max of weights', 1.36380891341018)\n",
      "('Iteration', 750, 'loss', 0.30282366204430977, 'train RMSE', 0.5454705097934807) ('Validation RMSE', 750, ':', 0.5597708974789051) ('max of weights', 1.3759858676713195)\n",
      "('Iteration', 760, 'loss', 0.3004144281018629, 'train RMSE', 0.5410646969895184) ('Validation RMSE', 760, ':', 0.5585051441584933) ('max of weights', 1.3879954999852628)\n",
      "('Iteration', 770, 'loss', 0.31203038147165574, 'train RMSE', 0.562146220253831) ('Validation RMSE', 770, ':', 0.5975872220920558) ('max of weights', 1.4007786593062468)\n",
      "('Iteration', 780, 'loss', 0.3037124221016158, 'train RMSE', 0.5470404193192667) ('Validation RMSE', 780, ':', 0.5742705623566688) ('max of weights', 1.4086199750015347)\n",
      "('Iteration', 790, 'loss', 0.32230442697761, 'train RMSE', 0.5807566322290869) ('Validation RMSE', 790, ':', 0.6021830193892862) ('max of weights', 1.410934222605099)\n",
      "('Iteration', 800, 'loss', 0.2954247481394036, 'train RMSE', 0.5319873152504053) ('Validation RMSE', 800, ':', 0.5567700231165649) ('max of weights', 1.4174396447951478)\n",
      "('Iteration', 810, 'loss', 0.2997469365873311, 'train RMSE', 0.5397960832961475) ('Validation RMSE', 810, ':', 0.5785038002024093) ('max of weights', 1.4236976898375853)\n",
      "('Iteration', 820, 'loss', 0.3054358540783915, 'train RMSE', 0.5500967699065392) ('Validation RMSE', 820, ':', 0.5860094324517576) ('max of weights', 1.4337658241972464)\n",
      "('Iteration', 830, 'loss', 0.29464066987478227, 'train RMSE', 0.5305221758066856) ('Validation RMSE', 830, ':', 0.5581063524025321) ('max of weights', 1.4409161697187602)\n",
      "('Iteration', 840, 'loss', 0.2952314116353703, 'train RMSE', 0.5315759768164076) ('Validation RMSE', 840, ':', 0.5511275586316638) ('max of weights', 1.4506236214593993)\n",
      "('Iteration', 850, 'loss', 0.2988347826824982, 'train RMSE', 0.5380803750189713) ('Validation RMSE', 850, ':', 0.5543349860198847) ('max of weights', 1.4580584160239403)\n",
      "('Iteration', 860, 'loss', 0.3056743285273032, 'train RMSE', 0.5505010649340268) ('Validation RMSE', 860, ':', 0.5846417482573906) ('max of weights', 1.4671042346136225)\n",
      "('Iteration', 870, 'loss', 0.2974009476847876, 'train RMSE', 0.5354720471753859) ('Validation RMSE', 870, ':', 0.5622137995596297) ('max of weights', 1.4737677219200787)\n",
      "('Iteration', 880, 'loss', 0.3173175868324055, 'train RMSE', 0.5715845193219149) ('Validation RMSE', 880, ':', 0.5946603400019779) ('max of weights', 1.472757030161708)\n",
      "('Iteration', 890, 'loss', 0.2905197176367083, 'train RMSE', 0.5229697257665401) ('Validation RMSE', 890, ':', 0.5505669565330373) ('max of weights', 1.4756154246265991)\n",
      "('Iteration', 900, 'loss', 0.29401662370298143, 'train RMSE', 0.52927545432865) ('Validation RMSE', 900, ':', 0.5737430012381975) ('max of weights', 1.4795652037862639)\n"
     ]
    },
    {
     "name": "stdout",
     "output_type": "stream",
     "text": [
      "('Iteration', 910, 'loss', 0.3041752058928946, 'train RMSE', 0.5476931605902587) ('Validation RMSE', 910, ':', 0.5877031417614789) ('max of weights', 1.486932106334076)\n",
      "('Iteration', 920, 'loss', 0.2897449536879074, 'train RMSE', 0.5215236014882945) ('Validation RMSE', 920, ':', 0.5449270008293615) ('max of weights', 1.493375484155018)\n",
      "('Iteration', 930, 'loss', 0.29053722744395244, 'train RMSE', 0.5229395700751343) ('Validation RMSE', 930, ':', 0.5458158991085782) ('max of weights', 1.501774259344498)\n",
      "('Iteration', 940, 'loss', 0.2966521724502819, 'train RMSE', 0.5340069728136277) ('Validation RMSE', 940, ':', 0.5486011478935424) ('max of weights', 1.5086114384186529)\n",
      "('Iteration', 950, 'loss', 0.3026879498405929, 'train RMSE', 0.5449681334631818) ('Validation RMSE', 950, ':', 0.5792164534288864) ('max of weights', 1.517239546317125)\n",
      "('Iteration', 960, 'loss', 0.29243249667433446, 'train RMSE', 0.5263365051838831) ('Validation RMSE', 960, ':', 0.5555018724720935) ('max of weights', 1.5241400022751146)\n",
      "('Iteration', 970, 'loss', 0.3055453760248041, 'train RMSE', 0.5501064583423004) ('Validation RMSE', 970, ':', 0.5761509306965586) ('max of weights', 1.5208694324385257)\n",
      "('Iteration', 980, 'loss', 0.28697756212314074, 'train RMSE', 0.5164295656740122) ('Validation RMSE', 980, ':', 0.5449921476095242) ('max of weights', 1.521744478559377)\n",
      "('Iteration', 990, 'loss', 0.28819021558843533, 'train RMSE', 0.5185857923786117) ('Validation RMSE', 990, ':', 0.5656826170210674)\n",
      "Morgan test RMSE: 1.4828592717261608 Neural test RMSE: 0.7249422758873718\n"
     ]
    }
   ],
   "source": [
    "print \"Task params\", task_params\n",
    "print\n",
    "print \"Starting Morgan fingerprint experiment...\"\n",
    "test_loss_morgan = run_morgan_experiment()\n",
    "print \"Starting neural fingerprint experiment...\"\n",
    "test_loss_neural = run_conv_experiment()\n",
    "print\n",
    "print \"Morgan test RMSE:\", test_loss_morgan, \"Neural test RMSE:\", test_loss_neural"
   ]
  }
 ],
 "metadata": {
  "kernelspec": {
   "display_name": "Python [conda env:neural_fingerprint_27] *",
   "language": "python",
   "name": "conda-env-neural_fingerprint_27-py"
  },
  "language_info": {
   "codemirror_mode": {
    "name": "ipython",
    "version": 2
   },
   "file_extension": ".py",
   "mimetype": "text/x-python",
   "name": "python",
   "nbconvert_exporter": "python",
   "pygments_lexer": "ipython2",
   "version": "2.7.18"
  }
 },
 "nbformat": 4,
 "nbformat_minor": 4
}
