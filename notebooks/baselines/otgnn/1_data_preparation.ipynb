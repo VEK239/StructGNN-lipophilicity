{
 "cells": [
  {
   "cell_type": "code",
   "execution_count": 11,
   "metadata": {},
   "outputs": [],
   "source": [
    "import pandas as pd\n",
    "import os\n",
    "import numpy as np\n",
    "import json\n",
    "from sklearn.model_selection import KFold\n",
    "from random import Random"
   ]
  },
  {
   "cell_type": "markdown",
   "metadata": {},
   "source": [
    "# LogP 1 split"
   ]
  },
  {
   "cell_type": "code",
   "execution_count": 2,
   "metadata": {},
   "outputs": [],
   "source": [
    "DATASET_PATH = '../../../data/3_final_data/split_data'"
   ]
  },
  {
   "cell_type": "code",
   "execution_count": 6,
   "metadata": {},
   "outputs": [],
   "source": [
    "dataset_train = pd.read_csv(os.path.join(DATASET_PATH, 'logp_mean_train.csv'), index_col=0)\n",
    "dataset_val = pd.read_csv(os.path.join(DATASET_PATH, 'logp_mean_validation.csv'), index_col=0)\n",
    "dataset_test = pd.read_csv(os.path.join(DATASET_PATH, 'logp_mean_test.csv'), index_col=0)"
   ]
  },
  {
   "cell_type": "markdown",
   "metadata": {},
   "source": [
    "train_indexes = list(map(lambda x: int(x),list(range(len(dataset_train)))))\n",
    "val_indexes = list(map(lambda x: int(x),list(np.array(range(len(dataset_val)))+1+int(train_indexes[-1]))))\n",
    "test_indexes = list(map(lambda x: int(x),list(np.array(range(len(dataset_test)))+1+int(val_indexes[-1]))))\n",
    "\n",
    "split = {'train':train_indexes, 'val': val_indexes, 'test':test_indexes}"
   ]
  },
  {
   "cell_type": "code",
   "execution_count": 8,
   "metadata": {},
   "outputs": [],
   "source": [
    "dataset = pd.concat([dataset_train, dataset_val, dataset_test], ignore_index=True)"
   ]
  },
  {
   "cell_type": "code",
   "execution_count": 9,
   "metadata": {},
   "outputs": [],
   "source": [
    "DATASET_OUTPUT_PATH = '../../../data/raw/baselines/otgnn/logp'"
   ]
  },
  {
   "cell_type": "code",
   "execution_count": 10,
   "metadata": {},
   "outputs": [],
   "source": [
    "dataset.to_csv(os.path.join(DATASET_OUTPUT_PATH, 'raw.csv'), index=False, header = False)"
   ]
  },
  {
   "cell_type": "code",
   "execution_count": 11,
   "metadata": {},
   "outputs": [],
   "source": [
    "with open(os.path.join(DATASET_OUTPUT_PATH,'split_0.json'), 'w') as f:\n",
    "    json.dump(split, f)"
   ]
  },
  {
   "cell_type": "code",
   "execution_count": 12,
   "metadata": {},
   "outputs": [],
   "source": [
    "def create_dataset(dataset_input_path, prefix_name, dataset_output_path):\n",
    "    dataset_train = pd.read_csv(os.path.join(dataset_input_path, prefix_name+'_train.csv'), index_col=0)\n",
    "    dataset_val = pd.read_csv(os.path.join(dataset_input_path, prefix_name+'_validation.csv'), index_col=0)\n",
    "    dataset_test = pd.read_csv(os.path.join(dataset_input_path, prefix_name+'_test.csv'), index_col=0)\n",
    "    \n",
    "    train_indexes = list(map(lambda x: int(x),list(range(len(dataset_train)))))\n",
    "    val_indexes = list(map(lambda x: int(x),list(np.array(range(len(dataset_val)))+1+int(train_indexes[-1]))))\n",
    "    test_indexes = list(map(lambda x: int(x),list(np.array(range(len(dataset_test)))+1+int(val_indexes[-1]))))\n",
    "\n",
    "    split = {'train':train_indexes, 'val': val_indexes, 'test':test_indexes}\n",
    "    \n",
    "    dataset.to_csv(os.path.join(dataset_output_path, 'raw.csv'), index=False, header = False)\n",
    "    with open(os.path.join(dataset_output_path,'split_0.json'), 'w') as f:\n",
    "        json.dump(split, f)"
   ]
  },
  {
   "cell_type": "code",
   "execution_count": 13,
   "metadata": {},
   "outputs": [],
   "source": [
    "create_dataset('../../../data/raw/baselines/otgnn/logp_wo_par/raw', prefix_name='logP_wo_parameters', dataset_output_path='../../../data/raw/baselines/otgnn/logp_wo_par/')"
   ]
  },
  {
   "cell_type": "code",
   "execution_count": 14,
   "metadata": {},
   "outputs": [],
   "source": [
    "create_dataset('../../../data/raw/baselines/otgnn/logp_wo_aver/raw', prefix_name='logp_wo_averaging', dataset_output_path='../../../data/raw/baselines/otgnn/logp_wo_aver/')"
   ]
  },
  {
   "cell_type": "markdown",
   "metadata": {},
   "source": [
    "# Several splits"
   ]
  },
  {
   "cell_type": "code",
   "execution_count": 16,
   "metadata": {},
   "outputs": [],
   "source": [
    "def create_dataset(dataset_input_path, prefix_name, dataset_output_path, num_splits):\n",
    "    dataset = pd.read_csv(os.path.join(dataset_input_path, prefix_name+'.csv'))\n",
    "    \n",
    "    kf = KFold(n_splits=num_splits, shuffle=True, random_state = 42)\n",
    "\n",
    "    fold_num = 0\n",
    "    for train_val_index, test_indexes in kf.split(dataset):\n",
    "        \n",
    "\n",
    "        random = Random(42)\n",
    "\n",
    "\n",
    "        random.shuffle(train_val_index)\n",
    "\n",
    "        train_size = int(0.85 * len(train_val_index))\n",
    "        train_val_size = int(len(train_val_index))\n",
    "\n",
    "        train_indexes = train_val_index[:train_size]\n",
    "        val_indexes = train_val_index[train_size:train_val_size]\n",
    "\n",
    "        train_indexes = list(map(lambda x: int(x), train_indexes))\n",
    "        val_indexes = list(map(lambda x: int(x), val_indexes))\n",
    "        test_indexes = list(map(lambda x: int(x), test_indexes))\n",
    "\n",
    "        \n",
    "        split = {'train':train_indexes, 'val': val_indexes, 'test': test_indexes}\n",
    "\n",
    "        dataset.to_csv(os.path.join(dataset_output_path, 'raw.csv'), index=False, header = False)\n",
    "        with open(os.path.join(dataset_output_path,'split_'+str(fold_num)+'.json'), 'w') as f:\n",
    "            json.dump(split, f)\n",
    "        fold_num+=1"
   ]
  },
  {
   "cell_type": "code",
   "execution_count": 17,
   "metadata": {},
   "outputs": [],
   "source": [
    "create_dataset('../../../data/3_final_data', prefix_name='logp_wo_logp_json_wo_averaging', dataset_output_path='../../../data/raw/baselines/otgnn/logp_wo_json/', num_splits = 5)"
   ]
  },
  {
   "cell_type": "code",
   "execution_count": null,
   "metadata": {},
   "outputs": [],
   "source": []
  }
 ],
 "metadata": {
  "kernelspec": {
   "display_name": "Python [conda env:chemprop] *",
   "language": "python",
   "name": "conda-env-chemprop-py"
  },
  "language_info": {
   "codemirror_mode": {
    "name": "ipython",
    "version": 3
   },
   "file_extension": ".py",
   "mimetype": "text/x-python",
   "name": "python",
   "nbconvert_exporter": "python",
   "pygments_lexer": "ipython3",
   "version": "3.8.3"
  }
 },
 "nbformat": 4,
 "nbformat_minor": 4
}
