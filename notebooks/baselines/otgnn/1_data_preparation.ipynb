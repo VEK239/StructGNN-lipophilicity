{
 "cells": [
  {
   "cell_type": "code",
   "execution_count": 3,
   "metadata": {},
   "outputs": [],
   "source": [
    "import pandas as pd\n",
    "import os\n",
    "import numpy as np\n",
    "import json"
   ]
  },
  {
   "cell_type": "code",
   "execution_count": 4,
   "metadata": {},
   "outputs": [],
   "source": [
    "DATASET_PATH = '../../../data/3_final_data/split_data'"
   ]
  },
  {
   "cell_type": "code",
   "execution_count": 5,
   "metadata": {},
   "outputs": [],
   "source": [
    "dataset_train = pd.read_csv(os.path.join(DATASET_PATH, 'logp_mean_train.csv'), index_col=0)\n",
    "dataset_test = pd.read_csv(os.path.join(DATASET_PATH, 'logp_mean_validation.csv'), index_col=0)\n",
    "dataset_val = pd.read_csv(os.path.join(DATASET_PATH, 'logp_mean_test.csv'), index_col=0)"
   ]
  },
  {
   "cell_type": "code",
   "execution_count": 7,
   "metadata": {},
   "outputs": [],
   "source": [
    "train_indexes = list(map(lambda x: int(x),list(range(len(dataset_train)))))\n",
    "val_indexes = list(map(lambda x: int(x),list(np.array(range(len(dataset_val)))+1+int(train_indexes[-1]))))\n",
    "test_indexes = list(map(lambda x: int(x),list(np.array(range(len(dataset_test)))+1+int(val_indexes[-1]))))\n",
    "\n",
    "split = {'train':train_indexes, 'val': val_indexes, 'test':test_indexes}"
   ]
  },
  {
   "cell_type": "code",
   "execution_count": 8,
   "metadata": {},
   "outputs": [],
   "source": [
    "dataset = pd.concat([dataset_train, dataset_val, dataset_test], ignore_index=True)"
   ]
  },
  {
   "cell_type": "code",
   "execution_count": 9,
   "metadata": {},
   "outputs": [],
   "source": [
    "DATASET_OUTPUT_PATH = '../../../data/raw/baselines/otgnn/logp'"
   ]
  },
  {
   "cell_type": "code",
   "execution_count": 10,
   "metadata": {},
   "outputs": [],
   "source": [
    "dataset.to_csv(os.path.join(DATASET_OUTPUT_PATH, 'raw.csv'), index=False, header = False)"
   ]
  },
  {
   "cell_type": "code",
   "execution_count": 11,
   "metadata": {},
   "outputs": [],
   "source": [
    "with open(os.path.join(DATASET_OUTPUT_PATH,'split_0.json'), 'w') as f:\n",
    "    json.dump(split, f)"
   ]
  },
  {
   "cell_type": "code",
   "execution_count": 12,
   "metadata": {},
   "outputs": [],
   "source": [
    "def create_dataset(dataset_input_path, prefix_name, dataset_output_path):\n",
    "    dataset_train = pd.read_csv(os.path.join(dataset_input_path, prefix_name+'_train.csv'), index_col=0)\n",
    "    dataset_test = pd.read_csv(os.path.join(dataset_input_path, prefix_name+'_validation.csv'), index_col=0)\n",
    "    dataset_val = pd.read_csv(os.path.join(dataset_input_path, prefix_name+'_test.csv'), index_col=0)\n",
    "    \n",
    "    train_indexes = list(map(lambda x: int(x),list(range(len(dataset_train)))))\n",
    "    val_indexes = list(map(lambda x: int(x),list(np.array(range(len(dataset_val)))+1+int(train_indexes[-1]))))\n",
    "    test_indexes = list(map(lambda x: int(x),list(np.array(range(len(dataset_test)))+1+int(val_indexes[-1]))))\n",
    "\n",
    "    split = {'train':train_indexes, 'val': val_indexes, 'test':test_indexes}\n",
    "    \n",
    "    dataset.to_csv(os.path.join(dataset_output_path, 'raw.csv'), index=False, header = False)\n",
    "    with open(os.path.join(dataset_output_path,'split_0.json'), 'w') as f:\n",
    "        json.dump(split, f)"
   ]
  },
  {
   "cell_type": "code",
   "execution_count": 63,
   "metadata": {},
   "outputs": [],
   "source": [
    "create_dataset('../../../data/raw/baselines/otgnn/logp_wo_par/raw', prefix_name='logP_wo_parameters', dataset_output_path='../../../data/raw/baselines/otgnn/logp_wo_par/')"
   ]
  },
  {
   "cell_type": "code",
   "execution_count": 65,
   "metadata": {},
   "outputs": [],
   "source": [
    "create_dataset('../../../data/raw/baselines/otgnn/logp_wo_aver/raw', prefix_name='logp_wo_averaging', dataset_output_path='../../../data/raw/baselines/otgnn/logp_wo_aver/')"
   ]
  },
  {
   "cell_type": "code",
   "execution_count": null,
   "metadata": {},
   "outputs": [],
   "source": []
  }
 ],
 "metadata": {
  "kernelspec": {
   "display_name": "Python [conda env:otgnn]",
   "language": "python",
   "name": "conda-env-otgnn-py"
  },
  "language_info": {
   "codemirror_mode": {
    "name": "ipython",
    "version": 3
   },
   "file_extension": ".py",
   "mimetype": "text/x-python",
   "name": "python",
   "nbconvert_exporter": "python",
   "pygments_lexer": "ipython3",
   "version": "3.6.8"
  }
 },
 "nbformat": 4,
 "nbformat_minor": 4
}
