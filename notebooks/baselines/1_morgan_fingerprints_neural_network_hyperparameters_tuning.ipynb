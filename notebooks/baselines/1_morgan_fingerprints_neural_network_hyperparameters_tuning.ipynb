{
 "cells": [
  {
   "cell_type": "markdown",
   "metadata": {},
   "source": [
    "# Baseline methods using fingerprints"
   ]
  },
  {
   "cell_type": "markdown",
   "metadata": {},
   "source": [
    "## Data preprocessing"
   ]
  },
  {
   "cell_type": "code",
   "execution_count": 1,
   "metadata": {},
   "outputs": [
    {
     "data": {
      "text/plain": [
       "sklearn.exceptions.ConvergenceWarning('ignore')"
      ]
     },
     "execution_count": 1,
     "metadata": {},
     "output_type": "execute_result"
    }
   ],
   "source": [
    "import pandas as pd\n",
    "import numpy as np\n",
    "import time\n",
    "from sklearn.neural_network import MLPRegressor\n",
    "from rdkit import Chem, DataStructs\n",
    "from rdkit.Chem import AllChem\n",
    "from sklearn.metrics import mean_squared_error, r2_score\n",
    "import warnings\n",
    "from sklearn.exceptions import ConvergenceWarning\n",
    "ConvergenceWarning('ignore')"
   ]
  },
  {
   "cell_type": "markdown",
   "metadata": {},
   "source": [
    "*Choosing the dataset*"
   ]
  },
  {
   "cell_type": "code",
   "execution_count": null,
   "metadata": {},
   "outputs": [],
   "source": [
    "data_train = pd.read_csv('../data/3_final_data/split_data/logP_pH_range_mean_train.csv', index_col=0)\n",
    "data_valid = pd.read_csv('../data/3_final_data/split_data/logP_pH_range_mean_validation.csv', index_col=0)\n",
    "data_test = pd.read_csv('../data/3_final_data/split_data/logP_pH_range_mean_test.csv', index_col=0)"
   ]
  },
  {
   "cell_type": "code",
   "execution_count": null,
   "metadata": {},
   "outputs": [],
   "source": [
    "data_train = pd.read_csv('../data/3_final_data/split_data/logP_mean_train.csv', index_col=0)\n",
    "data_valid = pd.read_csv('../data/3_final_data/split_data/logP_mean_validation.csv', index_col=0)\n",
    "data_test = pd.read_csv('../data/3_final_data/split_data/logP_mean_test.csv', index_col=0)"
   ]
  },
  {
   "cell_type": "code",
   "execution_count": 3,
   "metadata": {},
   "outputs": [
    {
     "ename": "FileNotFoundError",
     "evalue": "[Errno 2] File ../../data/3_final_data/split_data/logP_wo_parameters_train.csv does not exist: '../../data/3_final_data/split_data/logP_wo_parameters_train.csv'",
     "output_type": "error",
     "traceback": [
      "\u001b[1;31m---------------------------------------------------------------------------\u001b[0m",
      "\u001b[1;31mFileNotFoundError\u001b[0m                         Traceback (most recent call last)",
      "\u001b[1;32m<ipython-input-3-9493fbb2fa9f>\u001b[0m in \u001b[0;36m<module>\u001b[1;34m\u001b[0m\n\u001b[1;32m----> 1\u001b[1;33m \u001b[0mdata_train\u001b[0m \u001b[1;33m=\u001b[0m \u001b[0mpd\u001b[0m\u001b[1;33m.\u001b[0m\u001b[0mread_csv\u001b[0m\u001b[1;33m(\u001b[0m\u001b[1;34m'../../data/3_final_data/split_data/logP_wo_parameters_train.csv'\u001b[0m\u001b[1;33m,\u001b[0m \u001b[0mindex_col\u001b[0m\u001b[1;33m=\u001b[0m\u001b[1;36m0\u001b[0m\u001b[1;33m)\u001b[0m\u001b[1;33m\u001b[0m\u001b[1;33m\u001b[0m\u001b[0m\n\u001b[0m\u001b[0;32m      2\u001b[0m \u001b[0mdata_valid\u001b[0m \u001b[1;33m=\u001b[0m \u001b[0mpd\u001b[0m\u001b[1;33m.\u001b[0m\u001b[0mread_csv\u001b[0m\u001b[1;33m(\u001b[0m\u001b[1;34m'../../data/3_final_data/split_data/logP_wo_parameters_validation.csv'\u001b[0m\u001b[1;33m,\u001b[0m \u001b[0mindex_col\u001b[0m\u001b[1;33m=\u001b[0m\u001b[1;36m0\u001b[0m\u001b[1;33m)\u001b[0m\u001b[1;33m\u001b[0m\u001b[1;33m\u001b[0m\u001b[0m\n\u001b[0;32m      3\u001b[0m \u001b[0mdata_test\u001b[0m \u001b[1;33m=\u001b[0m \u001b[0mpd\u001b[0m\u001b[1;33m.\u001b[0m\u001b[0mread_csv\u001b[0m\u001b[1;33m(\u001b[0m\u001b[1;34m'../../data/3_final_data/split_data/logP_wo_parameters_test.csv'\u001b[0m\u001b[1;33m,\u001b[0m \u001b[0mindex_col\u001b[0m\u001b[1;33m=\u001b[0m\u001b[1;36m0\u001b[0m\u001b[1;33m)\u001b[0m\u001b[1;33m\u001b[0m\u001b[1;33m\u001b[0m\u001b[0m\n",
      "\u001b[1;32m~\\anaconda3\\envs\\chemvae\\lib\\site-packages\\pandas\\io\\parsers.py\u001b[0m in \u001b[0;36mparser_f\u001b[1;34m(filepath_or_buffer, sep, delimiter, header, names, index_col, usecols, squeeze, prefix, mangle_dupe_cols, dtype, engine, converters, true_values, false_values, skipinitialspace, skiprows, skipfooter, nrows, na_values, keep_default_na, na_filter, verbose, skip_blank_lines, parse_dates, infer_datetime_format, keep_date_col, date_parser, dayfirst, cache_dates, iterator, chunksize, compression, thousands, decimal, lineterminator, quotechar, quoting, doublequote, escapechar, comment, encoding, dialect, error_bad_lines, warn_bad_lines, delim_whitespace, low_memory, memory_map, float_precision)\u001b[0m\n\u001b[0;32m    674\u001b[0m         )\n\u001b[0;32m    675\u001b[0m \u001b[1;33m\u001b[0m\u001b[0m\n\u001b[1;32m--> 676\u001b[1;33m         \u001b[1;32mreturn\u001b[0m \u001b[0m_read\u001b[0m\u001b[1;33m(\u001b[0m\u001b[0mfilepath_or_buffer\u001b[0m\u001b[1;33m,\u001b[0m \u001b[0mkwds\u001b[0m\u001b[1;33m)\u001b[0m\u001b[1;33m\u001b[0m\u001b[1;33m\u001b[0m\u001b[0m\n\u001b[0m\u001b[0;32m    677\u001b[0m \u001b[1;33m\u001b[0m\u001b[0m\n\u001b[0;32m    678\u001b[0m     \u001b[0mparser_f\u001b[0m\u001b[1;33m.\u001b[0m\u001b[0m__name__\u001b[0m \u001b[1;33m=\u001b[0m \u001b[0mname\u001b[0m\u001b[1;33m\u001b[0m\u001b[1;33m\u001b[0m\u001b[0m\n",
      "\u001b[1;32m~\\anaconda3\\envs\\chemvae\\lib\\site-packages\\pandas\\io\\parsers.py\u001b[0m in \u001b[0;36m_read\u001b[1;34m(filepath_or_buffer, kwds)\u001b[0m\n\u001b[0;32m    446\u001b[0m \u001b[1;33m\u001b[0m\u001b[0m\n\u001b[0;32m    447\u001b[0m     \u001b[1;31m# Create the parser.\u001b[0m\u001b[1;33m\u001b[0m\u001b[1;33m\u001b[0m\u001b[1;33m\u001b[0m\u001b[0m\n\u001b[1;32m--> 448\u001b[1;33m     \u001b[0mparser\u001b[0m \u001b[1;33m=\u001b[0m \u001b[0mTextFileReader\u001b[0m\u001b[1;33m(\u001b[0m\u001b[0mfp_or_buf\u001b[0m\u001b[1;33m,\u001b[0m \u001b[1;33m**\u001b[0m\u001b[0mkwds\u001b[0m\u001b[1;33m)\u001b[0m\u001b[1;33m\u001b[0m\u001b[1;33m\u001b[0m\u001b[0m\n\u001b[0m\u001b[0;32m    449\u001b[0m \u001b[1;33m\u001b[0m\u001b[0m\n\u001b[0;32m    450\u001b[0m     \u001b[1;32mif\u001b[0m \u001b[0mchunksize\u001b[0m \u001b[1;32mor\u001b[0m \u001b[0miterator\u001b[0m\u001b[1;33m:\u001b[0m\u001b[1;33m\u001b[0m\u001b[1;33m\u001b[0m\u001b[0m\n",
      "\u001b[1;32m~\\anaconda3\\envs\\chemvae\\lib\\site-packages\\pandas\\io\\parsers.py\u001b[0m in \u001b[0;36m__init__\u001b[1;34m(self, f, engine, **kwds)\u001b[0m\n\u001b[0;32m    878\u001b[0m             \u001b[0mself\u001b[0m\u001b[1;33m.\u001b[0m\u001b[0moptions\u001b[0m\u001b[1;33m[\u001b[0m\u001b[1;34m\"has_index_names\"\u001b[0m\u001b[1;33m]\u001b[0m \u001b[1;33m=\u001b[0m \u001b[0mkwds\u001b[0m\u001b[1;33m[\u001b[0m\u001b[1;34m\"has_index_names\"\u001b[0m\u001b[1;33m]\u001b[0m\u001b[1;33m\u001b[0m\u001b[1;33m\u001b[0m\u001b[0m\n\u001b[0;32m    879\u001b[0m \u001b[1;33m\u001b[0m\u001b[0m\n\u001b[1;32m--> 880\u001b[1;33m         \u001b[0mself\u001b[0m\u001b[1;33m.\u001b[0m\u001b[0m_make_engine\u001b[0m\u001b[1;33m(\u001b[0m\u001b[0mself\u001b[0m\u001b[1;33m.\u001b[0m\u001b[0mengine\u001b[0m\u001b[1;33m)\u001b[0m\u001b[1;33m\u001b[0m\u001b[1;33m\u001b[0m\u001b[0m\n\u001b[0m\u001b[0;32m    881\u001b[0m \u001b[1;33m\u001b[0m\u001b[0m\n\u001b[0;32m    882\u001b[0m     \u001b[1;32mdef\u001b[0m \u001b[0mclose\u001b[0m\u001b[1;33m(\u001b[0m\u001b[0mself\u001b[0m\u001b[1;33m)\u001b[0m\u001b[1;33m:\u001b[0m\u001b[1;33m\u001b[0m\u001b[1;33m\u001b[0m\u001b[0m\n",
      "\u001b[1;32m~\\anaconda3\\envs\\chemvae\\lib\\site-packages\\pandas\\io\\parsers.py\u001b[0m in \u001b[0;36m_make_engine\u001b[1;34m(self, engine)\u001b[0m\n\u001b[0;32m   1112\u001b[0m     \u001b[1;32mdef\u001b[0m \u001b[0m_make_engine\u001b[0m\u001b[1;33m(\u001b[0m\u001b[0mself\u001b[0m\u001b[1;33m,\u001b[0m \u001b[0mengine\u001b[0m\u001b[1;33m=\u001b[0m\u001b[1;34m\"c\"\u001b[0m\u001b[1;33m)\u001b[0m\u001b[1;33m:\u001b[0m\u001b[1;33m\u001b[0m\u001b[1;33m\u001b[0m\u001b[0m\n\u001b[0;32m   1113\u001b[0m         \u001b[1;32mif\u001b[0m \u001b[0mengine\u001b[0m \u001b[1;33m==\u001b[0m \u001b[1;34m\"c\"\u001b[0m\u001b[1;33m:\u001b[0m\u001b[1;33m\u001b[0m\u001b[1;33m\u001b[0m\u001b[0m\n\u001b[1;32m-> 1114\u001b[1;33m             \u001b[0mself\u001b[0m\u001b[1;33m.\u001b[0m\u001b[0m_engine\u001b[0m \u001b[1;33m=\u001b[0m \u001b[0mCParserWrapper\u001b[0m\u001b[1;33m(\u001b[0m\u001b[0mself\u001b[0m\u001b[1;33m.\u001b[0m\u001b[0mf\u001b[0m\u001b[1;33m,\u001b[0m \u001b[1;33m**\u001b[0m\u001b[0mself\u001b[0m\u001b[1;33m.\u001b[0m\u001b[0moptions\u001b[0m\u001b[1;33m)\u001b[0m\u001b[1;33m\u001b[0m\u001b[1;33m\u001b[0m\u001b[0m\n\u001b[0m\u001b[0;32m   1115\u001b[0m         \u001b[1;32melse\u001b[0m\u001b[1;33m:\u001b[0m\u001b[1;33m\u001b[0m\u001b[1;33m\u001b[0m\u001b[0m\n\u001b[0;32m   1116\u001b[0m             \u001b[1;32mif\u001b[0m \u001b[0mengine\u001b[0m \u001b[1;33m==\u001b[0m \u001b[1;34m\"python\"\u001b[0m\u001b[1;33m:\u001b[0m\u001b[1;33m\u001b[0m\u001b[1;33m\u001b[0m\u001b[0m\n",
      "\u001b[1;32m~\\anaconda3\\envs\\chemvae\\lib\\site-packages\\pandas\\io\\parsers.py\u001b[0m in \u001b[0;36m__init__\u001b[1;34m(self, src, **kwds)\u001b[0m\n\u001b[0;32m   1889\u001b[0m         \u001b[0mkwds\u001b[0m\u001b[1;33m[\u001b[0m\u001b[1;34m\"usecols\"\u001b[0m\u001b[1;33m]\u001b[0m \u001b[1;33m=\u001b[0m \u001b[0mself\u001b[0m\u001b[1;33m.\u001b[0m\u001b[0musecols\u001b[0m\u001b[1;33m\u001b[0m\u001b[1;33m\u001b[0m\u001b[0m\n\u001b[0;32m   1890\u001b[0m \u001b[1;33m\u001b[0m\u001b[0m\n\u001b[1;32m-> 1891\u001b[1;33m         \u001b[0mself\u001b[0m\u001b[1;33m.\u001b[0m\u001b[0m_reader\u001b[0m \u001b[1;33m=\u001b[0m \u001b[0mparsers\u001b[0m\u001b[1;33m.\u001b[0m\u001b[0mTextReader\u001b[0m\u001b[1;33m(\u001b[0m\u001b[0msrc\u001b[0m\u001b[1;33m,\u001b[0m \u001b[1;33m**\u001b[0m\u001b[0mkwds\u001b[0m\u001b[1;33m)\u001b[0m\u001b[1;33m\u001b[0m\u001b[1;33m\u001b[0m\u001b[0m\n\u001b[0m\u001b[0;32m   1892\u001b[0m         \u001b[0mself\u001b[0m\u001b[1;33m.\u001b[0m\u001b[0munnamed_cols\u001b[0m \u001b[1;33m=\u001b[0m \u001b[0mself\u001b[0m\u001b[1;33m.\u001b[0m\u001b[0m_reader\u001b[0m\u001b[1;33m.\u001b[0m\u001b[0munnamed_cols\u001b[0m\u001b[1;33m\u001b[0m\u001b[1;33m\u001b[0m\u001b[0m\n\u001b[0;32m   1893\u001b[0m \u001b[1;33m\u001b[0m\u001b[0m\n",
      "\u001b[1;32mpandas\\_libs\\parsers.pyx\u001b[0m in \u001b[0;36mpandas._libs.parsers.TextReader.__cinit__\u001b[1;34m()\u001b[0m\n",
      "\u001b[1;32mpandas\\_libs\\parsers.pyx\u001b[0m in \u001b[0;36mpandas._libs.parsers.TextReader._setup_parser_source\u001b[1;34m()\u001b[0m\n",
      "\u001b[1;31mFileNotFoundError\u001b[0m: [Errno 2] File ../../data/3_final_data/split_data/logP_wo_parameters_train.csv does not exist: '../../data/3_final_data/split_data/logP_wo_parameters_train.csv'"
     ]
    }
   ],
   "source": [
    "data_train = pd.read_csv('../../data/3_final_data/split_data/logP_wo_parameters_train.csv', index_col=0)\n",
    "data_valid = pd.read_csv('../../data/3_final_data/split_data/logP_wo_parameters_validation.csv', index_col=0)\n",
    "data_test = pd.read_csv('../../data/3_final_data/split_data/logP_wo_parameters_test.csv', index_col=0)"
   ]
  },
  {
   "cell_type": "markdown",
   "metadata": {},
   "source": [
    "*Getting X/y dataframes*"
   ]
  },
  {
   "cell_type": "code",
   "execution_count": null,
   "metadata": {},
   "outputs": [],
   "source": [
    "y_train = data_train.logP\n",
    "y_valid = data_valid.logP\n",
    "y_test = data_test.logP"
   ]
  },
  {
   "cell_type": "code",
   "execution_count": null,
   "metadata": {},
   "outputs": [],
   "source": [
    "X_train_mol = [Chem.MolFromSmiles(x) for x in data_train.smiles]\n",
    "X_valid_mol = [Chem.MolFromSmiles(x) for x in data_valid.smiles]\n",
    "X_test_mol = [Chem.MolFromSmiles(x) for x in data_test.smiles]"
   ]
  },
  {
   "cell_type": "markdown",
   "metadata": {},
   "source": [
    "## Mean predictor"
   ]
  },
  {
   "cell_type": "code",
   "execution_count": null,
   "metadata": {},
   "outputs": [],
   "source": [
    "y_predicted = pd.Series(y_train.mean(), index=[i for i in range(y_test.size)])\n",
    "print(\"RMSE of mean predictor is {0}\".format(mean_squared_error(y_test, y_predicted, squared=False)))\n",
    "print(\"R2-score of mean predictor is {0}\".format(r2_score(y_test, y_predicted)))"
   ]
  },
  {
   "cell_type": "markdown",
   "metadata": {},
   "source": [
    "## Morgan bit fingerprint + MLPRegressor. Without pH."
   ]
  },
  {
   "cell_type": "code",
   "execution_count": null,
   "metadata": {},
   "outputs": [],
   "source": [
    "def get_morgan_bit_fps(data, bits=2048, radius=2):\n",
    "    X = [[c for c in AllChem.GetMorganFingerprintAsBitVect(m, radius, nBits=bits).ToBitString()] for m in data]\n",
    "    X = pd.DataFrame(X)\n",
    "    return X"
   ]
  },
  {
   "cell_type": "code",
   "execution_count": null,
   "metadata": {
    "scrolled": true
   },
   "outputs": [],
   "source": [
    "best_params = [-1, 10^3, -1, -1]\n",
    "for radius in range(2, 5):\n",
    "    for bits_degree in range(9, 14):\n",
    "        \n",
    "        start_time = time.time()\n",
    "        print('-' * 25)\n",
    "        bits = 2 ** bits_degree\n",
    "        \n",
    "        X_train = get_morgan_bit_fps(X_train_mol, bits, radius)\n",
    "        X_valid = get_morgan_bit_fps(X_valid_mol, bits, radius)\n",
    "        \n",
    "        regr = MLPRegressor(random_state=10, max_iter=1, warm_start=True)\n",
    "        \n",
    "        valid_rmse = 10 ** 3\n",
    "        rmse = mean_squared_error(y_valid, regr.fit(X_train, y_train).predict(X_valid), squared = False)\n",
    "        epoch_count = 1\n",
    "        while valid_rmse > rmse:\n",
    "            valid_rmse = rmse\n",
    "            train_rmse = mean_squared_error(y_train, regr.predict(X_train), squared = False)\n",
    "            epoch_count += 1\n",
    "            rmse = mean_squared_error(y_valid, regr.fit(X_train, y_train).predict(X_valid), squared = False)\n",
    "        \n",
    "        if rmse < best_params[1]:\n",
    "            best_params = [regr, rmse, bits, radius]\n",
    "\n",
    "        seconds = time.time() - start_time\n",
    "        print(\"Fitting with params radius={0}, bits={1} finished. RMSE={2} was achieved after {3} epochs in {4:.2f} seconds\\n\".\n",
    "              format(radius, bits, rmse, epoch_count, seconds))"
   ]
  },
  {
   "cell_type": "code",
   "execution_count": null,
   "metadata": {},
   "outputs": [],
   "source": [
    "print(\"Best params for bit fingerprints are: radius = {2}, bits count = {1}\".format(*best_params[1:]))\n",
    "print(\"Fitting test data...\")\n",
    "X_train = get_morgan_bit_fps(X_train_mol, *(best_params[2:]))\n",
    "X_valid = get_morgan_bit_fps(X_valid_mol, *(best_params[2:]))\n",
    "X_test = get_morgan_bit_fps(X_test_mol, *(best_params[2:]))\n",
    "\n",
    "y_predicted = best_params[0].predict(X_train)\n",
    "print(\"Train RMSE =\", mean_squared_error(y_train, y_predicted, squared=False))\n",
    "print(\"Train R2-score is {0}\".format(r2_score(y_train, y_predicted)))\n",
    "\n",
    "y_predicted = best_params[0].predict(X_valid)\n",
    "print(\"Valid RMSE =\", mean_squared_error(y_valid, y_predicted, squared=False))\n",
    "print(\"Valid R2-score is {0}\".format(r2_score(y_valid, y_predicted)))\n",
    "\n",
    "y_predicted = best_params[0].predict(X_test)\n",
    "print(\"Test RMSE =\", mean_squared_error(y_test, y_predicted, squared=False))\n",
    "print(\"Test R2-score is {0}\".format(r2_score(y_test, y_predicted)))"
   ]
  },
  {
   "cell_type": "markdown",
   "metadata": {},
   "source": [
    "## Morgan count fingerprint + MLPRegressor. Without pH."
   ]
  },
  {
   "cell_type": "code",
   "execution_count": null,
   "metadata": {},
   "outputs": [],
   "source": [
    "def get_morgan_count_fps(data, bits=2048, radius=2):\n",
    "    X = [AllChem.GetHashedMorganFingerprint(m, radius, nBits=bits) for m in data]\n",
    "    X_list = []\n",
    "    for x in X:\n",
    "        array = np.zeros((0,), dtype=np.int64)\n",
    "        DataStructs.ConvertToNumpyArray(x, array)\n",
    "        X_list.append(array)\n",
    "    X = pd.DataFrame(X_list)\n",
    "    return X"
   ]
  },
  {
   "cell_type": "code",
   "execution_count": null,
   "metadata": {
    "scrolled": true
   },
   "outputs": [],
   "source": [
    "best_params = [0, 10^3, -1, -1]\n",
    "for radius in range(2, 5):\n",
    "    for bits_degree in range(9, 14):\n",
    "        \n",
    "        start_time = time.time()\n",
    "        print('-' * 25)\n",
    "        bits = 2 ** bits_degree\n",
    "        \n",
    "        X_train = get_morgan_count_fps(X_train_mol, bits, radius)\n",
    "        X_valid = get_morgan_count_fps(X_valid_mol, bits, radius)\n",
    "        \n",
    "        regr = MLPRegressor(random_state=10, max_iter=1, warm_start=True)\n",
    "        \n",
    "        valid_rmse = 10 ** 3\n",
    "        rmse = mean_squared_error(y_valid, regr.fit(X_train, y_train).predict(X_valid), squared = False)\n",
    "        epoch_count = 1\n",
    "        while valid_rmse > rmse:\n",
    "            valid_rmse = rmse\n",
    "            train_rmse = mean_squared_error(y_train, regr.predict(X_train), squared = False)\n",
    "            epoch_count += 1\n",
    "            rmse = mean_squared_error(y_valid, regr.fit(X_train, y_train).predict(X_valid), squared = False)\n",
    "        \n",
    "        if rmse < best_params[1]:\n",
    "            best_params = [regr, rmse, bits, radius]\n",
    "        \n",
    "        seconds = time.time() - start_time\n",
    "        print(\"Fitting with params radius={0}, bits={1} finished. RMSE={2} was achieved after {3} epochs in {4:.2f} seconds\\n\".\n",
    "              format(radius, bits, rmse, epoch_count, seconds))"
   ]
  },
  {
   "cell_type": "code",
   "execution_count": null,
   "metadata": {},
   "outputs": [],
   "source": [
    "print(\"Best params for count fingerprints are: radius = {2}, bits count = {1}, RMSE = {0}\".format(*best_params[1:]))\n",
    "print(\"Fitting test data...\")\n",
    "\n",
    "X_train = get_morgan_count_fps(X_train_mol, *(best_params[2:]))\n",
    "X_valid = get_morgan_count_fps(X_valid_mol, *(best_params[2:]))\n",
    "X_test = get_morgan_count_fps(X_test_mol, *(best_params[2:]))\n",
    "\n",
    "y_predicted = best_params[0].predict(X_train)\n",
    "print(\"Train RMSE =\", mean_squared_error(y_train, y_predicted, squared=False))\n",
    "print(\"Train R2-score is {0}\".format(r2_score(y_train, y_predicted)))\n",
    "\n",
    "y_predicted = best_params[0].predict(X_valid)\n",
    "print(\"Valid RMSE =\", mean_squared_error(y_valid, y_predicted, squared=False))\n",
    "print(\"Valid R2-score is {0}\".format(r2_score(y_valid, y_predicted)))\n",
    "\n",
    "y_predicted = best_params[0].predict(X_test)\n",
    "print(\"Test RMSE =\", mean_squared_error(y_test, y_predicted, squared=False))\n",
    "print(\"Test R2-score is {0}\".format(r2_score(y_test, y_predicted)))"
   ]
  },
  {
   "cell_type": "code",
   "execution_count": null,
   "metadata": {},
   "outputs": [],
   "source": []
  },
  {
   "cell_type": "markdown",
   "metadata": {},
   "source": [
    "## Morgan count fingerprint + MLPRegressor. With pH.\n",
    "*Best params without pH - radius = 2, bits count = 2048, so taking them*"
   ]
  },
  {
   "cell_type": "code",
   "execution_count": null,
   "metadata": {},
   "outputs": [],
   "source": [
    "X_train = get_morgan_count_fps(X_train_mol, 2048, 2)\n",
    "X_train[2048] = data_train.pH_range\n",
    "X_valid = get_morgan_count_fps(X_valid_mol, 2048, 2)\n",
    "X_valid[2048] = data_valid.pH_range\n",
    "regr = MLPRegressor(random_state=10, early_stopping=True).fit(X_train, y_train)\n",
    "y_predicted = regr.predict(X_valid)\n",
    "rmse = mean_squared_error(y_valid, y_predicted, squared=False)\n",
    "print(rmse)"
   ]
  },
  {
   "cell_type": "code",
   "execution_count": null,
   "metadata": {},
   "outputs": [],
   "source": [
    "X_test = get_morgan_count_fps(X_test_mol, 2048, 2)\n",
    "X_test[2048] = data_valid.pH_range\n",
    "y_predicted = regr.predict(X_test)\n",
    "print(mean_squared_error(y_test, y_predicted, squared=False))\n",
    "print(\"R2-score is {0}\".format(r2_score(y_test, y_predicted)))"
   ]
  },
  {
   "cell_type": "markdown",
   "metadata": {},
   "source": [
    "## Morgan bit fingerprint + MLPRegressor. With pH.\n",
    "*Best params without pH - radius = 2, bits count = 2048, so taking them*"
   ]
  },
  {
   "cell_type": "code",
   "execution_count": null,
   "metadata": {},
   "outputs": [],
   "source": [
    "X_train = get_morgan_bit_fps(X_train_mol, 2048, 2)\n",
    "X_train[2048] = data_train.pH_range\n",
    "X_valid = get_morgan_bit_fps(X_valid_mol, 2048, 2)\n",
    "X_valid[2048] = data_valid.pH_range\n",
    "regr = MLPRegressor(random_state=10, early_stopping=True).fit(X_train, y_train)\n",
    "y_predicted = regr.predict(X_valid)\n",
    "rmse = mean_squared_error(y_valid, y_predicted, squared=False)\n",
    "print(rmse)"
   ]
  },
  {
   "cell_type": "code",
   "execution_count": null,
   "metadata": {},
   "outputs": [],
   "source": [
    "X_test = get_morgan_bit_fps(X_test_mol, 2048, 2)\n",
    "X_test[2048] = data_valid.pH_range\n",
    "y_predicted = regr.predict(X_test)\n",
    "print(mean_squared_error(y_test, y_predicted, squared=False))\n",
    "print(\"R2-score is {0}\".format(r2_score(y_test, y_predicted)))"
   ]
  },
  {
   "cell_type": "code",
   "execution_count": null,
   "metadata": {},
   "outputs": [],
   "source": []
  }
 ],
 "metadata": {
  "kernelspec": {
   "display_name": "chemvae",
   "language": "python",
   "name": "chemvae"
  },
  "language_info": {
   "codemirror_mode": {
    "name": "ipython",
    "version": 3
   },
   "file_extension": ".py",
   "mimetype": "text/x-python",
   "name": "python",
   "nbconvert_exporter": "python",
   "pygments_lexer": "ipython3",
   "version": "3.6.10"
  },
  "pycharm": {
   "stem_cell": {
    "cell_type": "raw",
    "metadata": {
     "collapsed": false
    },
    "source": []
   }
  }
 },
 "nbformat": 4,
 "nbformat_minor": 4
}
