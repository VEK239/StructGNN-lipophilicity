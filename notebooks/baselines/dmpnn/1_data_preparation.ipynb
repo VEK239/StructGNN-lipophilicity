{
 "cells": [
  {
   "cell_type": "code",
   "execution_count": 1,
   "metadata": {},
   "outputs": [],
   "source": [
    "import pandas as pd\n",
    "import os\n",
    "import numpy as np\n",
    "import json"
   ]
  },
  {
   "cell_type": "code",
   "execution_count": 2,
   "metadata": {},
   "outputs": [],
   "source": [
    "DATASET_PATH = '../../../data/3_final_data/split_data'"
   ]
  },
  {
   "cell_type": "code",
   "execution_count": 3,
   "metadata": {},
   "outputs": [],
   "source": [
    "dataset_train = pd.read_csv(os.path.join(DATASET_PATH, 'logp_wo_averaging_train.csv'), index_col=0)\n",
    "dataset_val = pd.read_csv(os.path.join(DATASET_PATH, 'logp_wo_averaging_validation.csv'), index_col=0)\n",
    "dataset_test = pd.read_csv(os.path.join(DATASET_PATH, 'logp_wo_averaging_test.csv'), index_col=0)"
   ]
  },
  {
   "cell_type": "markdown",
   "metadata": {},
   "source": [
    "# Create train+val dataset"
   ]
  },
  {
   "cell_type": "code",
   "execution_count": 4,
   "metadata": {},
   "outputs": [],
   "source": [
    "DATASET_OUTPUT_PATH = '../../../data/raw/baselines/dmpnn'"
   ]
  },
  {
   "cell_type": "code",
   "execution_count": 14,
   "metadata": {},
   "outputs": [],
   "source": [
    "dataset_train_val = pd.concat([dataset_train, dataset_val], axis = 0).reset_index(drop = True)\n",
    "dataset_train_val.to_csv(os.path.join(DATASET_OUTPUT_PATH, 'logp_wo_averaging_train_val.csv'),index = False)"
   ]
  },
  {
   "cell_type": "code",
   "execution_count": 11,
   "metadata": {},
   "outputs": [],
   "source": [
    "dataset_train.to_csv(os.path.join(DATASET_OUTPUT_PATH, 'logp_wo_averaging_train.csv'),index = False)\n",
    "dataset_val.to_csv(os.path.join(DATASET_OUTPUT_PATH, 'logp_wo_averaging_validation.csv'),index = False)\n",
    "dataset_test.to_csv(os.path.join(DATASET_OUTPUT_PATH, 'logp_wo_averaging_test.csv'),index = False)"
   ]
  },
  {
   "cell_type": "code",
   "execution_count": 3,
   "metadata": {},
   "outputs": [],
   "source": [
    "dataset_train_val = pd.read_csv(os.path.join(DATASET_OUTPUT_PATH, 'logp_wo_averaging_train_val.csv'), index_col=0)"
   ]
  },
  {
   "cell_type": "code",
   "execution_count": 4,
   "metadata": {},
   "outputs": [],
   "source": [
    "dataset_train_val.to_csv(os.path.join(DATASET_OUTPUT_PATH, 'logp_wo_averaging_train_val.csv'),index = False)"
   ]
  }
 ],
 "metadata": {
  "kernelspec": {
   "display_name": "Python 3",
   "language": "python",
   "name": "python3"
  },
  "language_info": {
   "codemirror_mode": {
    "name": "ipython",
    "version": 3
   },
   "file_extension": ".py",
   "mimetype": "text/x-python",
   "name": "python",
   "nbconvert_exporter": "python",
   "pygments_lexer": "ipython3",
   "version": "3.8.3"
  }
 },
 "nbformat": 4,
 "nbformat_minor": 4
}
