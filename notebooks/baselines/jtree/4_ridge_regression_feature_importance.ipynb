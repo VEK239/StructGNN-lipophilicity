{
 "cells": [
  {
   "cell_type": "markdown",
   "metadata": {},
   "source": [
    "# Get encoded atoms"
   ]
  },
  {
   "cell_type": "code",
   "execution_count": 1,
   "metadata": {},
   "outputs": [],
   "source": [
    "import pandas as pd\n",
    "import os\n",
    "\n",
    "import sys\n",
    "sys.path.append('../../../../icml18-jtnn')\n",
    "sys.path.append('../../../../icml18-jtnn/jtnn')"
   ]
  },
  {
   "cell_type": "code",
   "execution_count": 2,
   "metadata": {},
   "outputs": [],
   "source": [
    "from tqdm import tqdm"
   ]
  },
  {
   "cell_type": "code",
   "execution_count": 3,
   "metadata": {},
   "outputs": [],
   "source": [
    "VOCAB_PATH = '../../../../icml18-jtnn/data/zinc/vocab.txt'\n",
    "MODEL_PATH = '../../../../icml18-jtnn/molvae'\n",
    "DATASET_PATH = '../../../data/3_final_data/split_data'\n",
    "\n",
    "RAW_PATH = '../../../data/raw/baselines/jtree'\n",
    "\n",
    "SMILES_COLUMN = 'smiles'\n",
    "VALUE_COLUMN = 'logP'"
   ]
  },
  {
   "cell_type": "code",
   "execution_count": 4,
   "metadata": {},
   "outputs": [],
   "source": [
    "import torch\n",
    "import torch.nn as nn\n",
    "from torch.autograd import Variable\n",
    "\n",
    "import numpy as np\n",
    "\n",
    "import math, random, sys\n",
    "from optparse import OptionParser\n",
    "from collections import deque\n",
    "\n",
    "import rdkit\n",
    "import rdkit.Chem as Chem\n",
    "\n",
    "from jtnn import *"
   ]
  },
  {
   "cell_type": "code",
   "execution_count": 5,
   "metadata": {},
   "outputs": [],
   "source": [
    "vocab = [x.strip(\"\\r\\n \") for x in open(VOCAB_PATH)] \n",
    "vocab = Vocab(vocab)"
   ]
  },
  {
   "cell_type": "code",
   "execution_count": 6,
   "metadata": {},
   "outputs": [],
   "source": [
    "hidden_size = int(450)\n",
    "latent_size = int(56)\n",
    "depth = int(3)\n",
    "stereo = True if int(1) == 1 else False"
   ]
  },
  {
   "cell_type": "code",
   "execution_count": 7,
   "metadata": {},
   "outputs": [
    {
     "name": "stderr",
     "output_type": "stream",
     "text": [
      "/home/mol/anaconda3/envs/jtree/lib/python2.7/site-packages/torch/nn/_reduction.py:49: UserWarning: size_average and reduce args will be deprecated, please use reduction='sum' instead.\n",
      "  warnings.warn(warning.format(ret))\n"
     ]
    }
   ],
   "source": [
    "model = JTNNVAE(vocab, hidden_size, latent_size, depth, stereo=stereo)\n",
    "model.load_state_dict(torch.load(os.path.join(MODEL_PATH, 'MPNVAE-h450-L56-d3-beta0.001/model.iter-4')))\n",
    "model = model.cuda()"
   ]
  },
  {
   "cell_type": "code",
   "execution_count": 8,
   "metadata": {},
   "outputs": [],
   "source": [
    "dataset_train = pd.read_csv(os.path.join(DATASET_PATH, 'logp_wo_averaging_train.csv'), index_col=0)\n",
    "dataset_val = pd.read_csv(os.path.join(DATASET_PATH, 'logp_wo_averaging_validation.csv'), index_col=0)\n",
    "dataset_test = pd.read_csv(os.path.join(DATASET_PATH, 'logp_wo_averaging_test.csv'), index_col=0)"
   ]
  },
  {
   "cell_type": "code",
   "execution_count": 9,
   "metadata": {},
   "outputs": [],
   "source": [
    "def create_latent_representation_dataset(df, SMILES_COLUMN, VALUE_COLUMN):\n",
    "    import numpy as np    \n",
    "    vectors = []\n",
    "    broken_smiles = {}\n",
    "    for smiles in tqdm(df[SMILES_COLUMN].values):\n",
    "        try:\n",
    "            latent_representation = model.encode_latent_mean([smiles])\n",
    "        except (KeyError, RuntimeError), e:\n",
    "            broken_smiles[smiles]=e\n",
    "            continue\n",
    "        vectors.append(latent_representation.cpu().detach().numpy())\n",
    "    X = np.array(vectors)\n",
    "    y = df[~df[SMILES_COLUMN].isin(list(broken_smiles.keys()))][VALUE_COLUMN].values\n",
    "    assert len(X)==len(y)\n",
    "    return X, y, broken_smiles"
   ]
  },
  {
   "cell_type": "code",
   "execution_count": null,
   "metadata": {},
   "outputs": [],
   "source": [
    "X_train, y_train, train_errs = create_latent_representation_dataset(dataset_train, SMILES_COLUMN, VALUE_COLUMN)\n",
    "with open(os.path.join(RAW_PATH,'X_train.npy'), 'wb') as f:\n",
    "    np.save(f,X_train)\n",
    "with open(os.path.join(RAW_PATH,'y_train.npy'), 'wb') as f:\n",
    "    np.save(f,y_train)   \n",
    "X_val, y_val, val_errs = create_latent_representation_dataset(dataset_val, SMILES_COLUMN, VALUE_COLUMN)\n",
    "with open(os.path.join(RAW_PATH,'X_val.npy'), 'wb') as f:\n",
    "    np.save(f,X_val)\n",
    "with open(os.path.join(RAW_PATH,'y_val.npy'), 'wb') as f:\n",
    "    np.save(f,y_val)   \n",
    "X_test, y_test, test_errs = create_latent_representation_dataset(dataset_test, SMILES_COLUMN, VALUE_COLUMN)\n",
    "with open(os.path.join(RAW_PATH,'X_test.npy'), 'wb') as f:\n",
    "    np.save(f,X_test)\n",
    "with open(os.path.join(RAW_PATH,'y_test.npy'), 'wb') as f:\n",
    "    np.save(f,y_test)   "
   ]
  },
  {
   "cell_type": "code",
   "execution_count": null,
   "metadata": {},
   "outputs": [],
   "source": [
    "with open(os.path.join(RAW_PATH,'train_errs.txt'), 'w') as f:\n",
    "    f.write('\\n'.join(list(train_errs.keys())))\n",
    "with open(os.path.join(RAW_PATH,'val_errs.txt'), 'w') as f:\n",
    "    f.write('\\n'.join(list(val_errs.keys())))\n",
    "with open(os.path.join(RAW_PATH,'test_errs.json'), 'w') as f:\n",
    "    f.write('\\n'.join(list(test_errs.keys())))"
   ]
  },
  {
   "cell_type": "markdown",
   "metadata": {},
   "source": [
    "# Train model based on pretrained vectors "
   ]
  },
  {
   "cell_type": "code",
   "execution_count": 18,
   "metadata": {},
   "outputs": [],
   "source": [
    "fname = os.path.join(RAW_PATH, 'logs', 'exp_0')\n",
    "os.makedirs(fname)\n",
    "writer = SummaryWriter(fname)"
   ]
  },
  {
   "cell_type": "code",
   "execution_count": 14,
   "metadata": {},
   "outputs": [],
   "source": [
    "from tensorboardX import SummaryWriter"
   ]
  },
  {
   "cell_type": "markdown",
   "metadata": {},
   "source": [
    "## RidgeRegression"
   ]
  },
  {
   "cell_type": "code",
   "execution_count": 15,
   "metadata": {},
   "outputs": [],
   "source": [
    "from sklearn.linear_model import Ridge\n",
    "from sklearn.neural_network import MLPRegressor\n",
    "from sklearn.metrics import mean_squared_error, r2_score\n",
    "from sklearn.preprocessing import StandardScaler\n",
    "import pandas as pd"
   ]
  },
  {
   "cell_type": "code",
   "execution_count": 16,
   "metadata": {},
   "outputs": [],
   "source": [
    "with open(os.path.join(RAW_PATH,'X_train.npy'), 'rb') as f:\n",
    "    X_train = np.load(f).squeeze()\n",
    "with open(os.path.join(RAW_PATH,'y_train.npy'), 'rb') as f:\n",
    "    y_train = np.load(f)\n",
    "    \n",
    "y_train_transformed = scaler.fit_transform(y_train.reshape(-1, 1)).reshape(-1)\n",
    "    \n",
    "with open(os.path.join(RAW_PATH,'X_val.npy'), 'rb') as f:\n",
    "    X_val = np.load(f).squeeze()\n",
    "with open(os.path.join(RAW_PATH,'y_val.npy'), 'rb') as f:\n",
    "    y_val = np.load(f)\n",
    "\n",
    "with open(os.path.join(RAW_PATH,'X_test.npy'), 'rb') as f:\n",
    "    X_test = np.load(f).squeeze()\n",
    "with open(os.path.join(RAW_PATH,'y_test.npy'), 'rb') as f:\n",
    "    y_test = np.load(f) "
   ]
  },
  {
   "cell_type": "markdown",
   "metadata": {},
   "source": [
    "### Train with whole vector"
   ]
  },
  {
   "cell_type": "code",
   "execution_count": 69,
   "metadata": {},
   "outputs": [],
   "source": [
    "model = Ridge(alpha=4.5)"
   ]
  },
  {
   "cell_type": "code",
   "execution_count": 70,
   "metadata": {},
   "outputs": [],
   "source": [
    "y_train_transformed = scaler.fit_transform(y_train.reshape(-1, 1)).reshape(-1)"
   ]
  },
  {
   "cell_type": "code",
   "execution_count": 71,
   "metadata": {},
   "outputs": [
    {
     "data": {
      "text/plain": [
       "Ridge(alpha=4.5, copy_X=True, fit_intercept=True, max_iter=None,\n",
       "   normalize=False, random_state=None, solver='auto', tol=0.001)"
      ]
     },
     "execution_count": 71,
     "metadata": {},
     "output_type": "execute_result"
    }
   ],
   "source": [
    "model.fit(X_train, y_train_transformed)"
   ]
  },
  {
   "cell_type": "code",
   "execution_count": 72,
   "metadata": {},
   "outputs": [],
   "source": [
    "test_preds = scaler.inverse_transform(model.predict(X_test))\n",
    "val_preds = scaler.inverse_transform(model.predict(X_val))"
   ]
  },
  {
   "cell_type": "code",
   "execution_count": 73,
   "metadata": {},
   "outputs": [
    {
     "name": "stdout",
     "output_type": "stream",
     "text": [
      "('Valid RMSE =', 1.2295349916179965)\n",
      "Valid R2-score is 0.545469175613\n",
      "('Test RMSE =', 1.258996302029825)\n",
      "Test R2-score is 0.524584524731\n"
     ]
    }
   ],
   "source": [
    "print(\"Valid RMSE =\", mean_squared_error(y_val, val_preds)**0.5)\n",
    "print(\"Valid R2-score is {0}\".format(r2_score(y_val, val_preds)))\n",
    "\n",
    "print(\"Test RMSE =\", mean_squared_error(y_test, test_preds)**0.5)\n",
    "print(\"Test R2-score is {0}\".format(r2_score(y_test, test_preds)))"
   ]
  },
  {
   "cell_type": "code",
   "execution_count": 74,
   "metadata": {},
   "outputs": [],
   "source": [
    "feature_importance = model.coef_\n",
    "features = list(range(X_train.shape[1]))\n",
    "df = pd.DataFrame(columns = ['feature importance', 'feature name'])\n",
    "df['feature importance'] = feature_importance\n",
    "df['feature name'] = [str(i)+ '_tree_feats' for i in range(X_train.shape[1]//2)] +\\\n",
    "                    [str(i)+ '_graph_feats' for i in range(X_train.shape[1]//2, X_train.shape[1])]\n",
    "df_20_most_important = df.sort_values(by='feature importance', ascending = False)[:20]"
   ]
  },
  {
   "cell_type": "code",
   "execution_count": 75,
   "metadata": {},
   "outputs": [],
   "source": [
    "import pandas as pd\n",
    "import os"
   ]
  },
  {
   "cell_type": "code",
   "execution_count": 76,
   "metadata": {},
   "outputs": [
    {
     "name": "stdout",
     "output_type": "stream",
     "text": [
      "| 42_graph_feats | 0.3606407 |\n",
      "| 52_graph_feats | 0.27291408 |\n",
      "| 41_graph_feats | 0.26485533 |\n",
      "| 37_graph_feats | 0.12689288 |\n",
      "| 30_graph_feats | 0.11398361 |\n",
      "| 2_tree_feats | 0.10243105 |\n",
      "| 44_graph_feats | 0.082750686 |\n",
      "| 43_graph_feats | 0.0816544 |\n",
      "| 53_graph_feats | 0.072278626 |\n",
      "| 19_tree_feats | 0.05404014 |\n",
      "| 47_graph_feats | 0.0520645 |\n",
      "| 22_tree_feats | 0.051451337 |\n",
      "| 36_graph_feats | 0.040479887 |\n",
      "| 16_tree_feats | 0.038591255 |\n",
      "| 15_tree_feats | 0.032465734 |\n",
      "| 48_graph_feats | 0.020067073 |\n",
      "| 40_graph_feats | 0.020005457 |\n",
      "| 21_tree_feats | 0.019700417 |\n",
      "| 9_tree_feats | 0.014933727 |\n",
      "| 23_tree_feats | 0.012252764 |\n"
     ]
    }
   ],
   "source": [
    "for i in range(len(df_20_most_important)):\n",
    "    print '|', df_20_most_important.iloc[i]['feature name'], '|', df_20_most_important.iloc[i]['feature importance'], '|'"
   ]
  },
  {
   "cell_type": "markdown",
   "metadata": {},
   "source": [
    "### Train with tree features"
   ]
  },
  {
   "cell_type": "code",
   "execution_count": 77,
   "metadata": {},
   "outputs": [],
   "source": [
    "model = Ridge(alpha=4.5)"
   ]
  },
  {
   "cell_type": "code",
   "execution_count": 78,
   "metadata": {},
   "outputs": [],
   "source": [
    "y_train_transformed = scaler.fit_transform(y_train.reshape(-1, 1)).reshape(-1)"
   ]
  },
  {
   "cell_type": "code",
   "execution_count": 79,
   "metadata": {},
   "outputs": [
    {
     "data": {
      "text/plain": [
       "Ridge(alpha=4.5, copy_X=True, fit_intercept=True, max_iter=None,\n",
       "   normalize=False, random_state=None, solver='auto', tol=0.001)"
      ]
     },
     "execution_count": 79,
     "metadata": {},
     "output_type": "execute_result"
    }
   ],
   "source": [
    "model.fit(X_train[:, :X_train.shape[1]//2], y_train_transformed)"
   ]
  },
  {
   "cell_type": "code",
   "execution_count": 80,
   "metadata": {},
   "outputs": [],
   "source": [
    "test_preds = scaler.inverse_transform(model.predict(X_test[:, :X_train.shape[1]//2]))\n",
    "val_preds = scaler.inverse_transform(model.predict(X_val[:, :X_train.shape[1]//2]))"
   ]
  },
  {
   "cell_type": "code",
   "execution_count": 81,
   "metadata": {},
   "outputs": [
    {
     "name": "stdout",
     "output_type": "stream",
     "text": [
      "('Valid RMSE =', 1.2516059711943268)\n",
      "Valid R2-score is 0.529004446022\n",
      "('Test RMSE =', 1.279138606391635)\n",
      "Test R2-score is 0.509250778845\n"
     ]
    }
   ],
   "source": [
    "print(\"Valid RMSE =\", mean_squared_error(y_val, val_preds)**0.5)\n",
    "print(\"Valid R2-score is {0}\".format(r2_score(y_val, val_preds)))\n",
    "\n",
    "print(\"Test RMSE =\", mean_squared_error(y_test, test_preds)**0.5)\n",
    "print(\"Test R2-score is {0}\".format(r2_score(y_test, test_preds)))"
   ]
  },
  {
   "cell_type": "code",
   "execution_count": 53,
   "metadata": {},
   "outputs": [],
   "source": [
    "feature_importance = model.coef_\n",
    "df = pd.DataFrame(columns = ['feature importance', 'feature name'])\n",
    "df['feature importance'] = feature_importance\n",
    "df['feature name'] = [str(i)+ '_tree_feats' for i in range(X_train.shape[1]//2)]\n",
    "df_20_most_important = df.sort_values(by='feature importance', ascending = False)[:20]"
   ]
  },
  {
   "cell_type": "code",
   "execution_count": 54,
   "metadata": {},
   "outputs": [
    {
     "data": {
      "text/html": [
       "<div>\n",
       "<style scoped>\n",
       "    .dataframe tbody tr th:only-of-type {\n",
       "        vertical-align: middle;\n",
       "    }\n",
       "\n",
       "    .dataframe tbody tr th {\n",
       "        vertical-align: top;\n",
       "    }\n",
       "\n",
       "    .dataframe thead th {\n",
       "        text-align: right;\n",
       "    }\n",
       "</style>\n",
       "<table border=\"1\" class=\"dataframe\">\n",
       "  <thead>\n",
       "    <tr style=\"text-align: right;\">\n",
       "      <th></th>\n",
       "      <th>feature importance</th>\n",
       "      <th>feature name</th>\n",
       "    </tr>\n",
       "  </thead>\n",
       "  <tbody>\n",
       "    <tr>\n",
       "      <th>2</th>\n",
       "      <td>0.104916</td>\n",
       "      <td>2_tree_feats</td>\n",
       "    </tr>\n",
       "    <tr>\n",
       "      <th>19</th>\n",
       "      <td>0.052241</td>\n",
       "      <td>19_tree_feats</td>\n",
       "    </tr>\n",
       "    <tr>\n",
       "      <th>22</th>\n",
       "      <td>0.050642</td>\n",
       "      <td>22_tree_feats</td>\n",
       "    </tr>\n",
       "    <tr>\n",
       "      <th>16</th>\n",
       "      <td>0.042306</td>\n",
       "      <td>16_tree_feats</td>\n",
       "    </tr>\n",
       "    <tr>\n",
       "      <th>15</th>\n",
       "      <td>0.032277</td>\n",
       "      <td>15_tree_feats</td>\n",
       "    </tr>\n",
       "    <tr>\n",
       "      <th>21</th>\n",
       "      <td>0.023238</td>\n",
       "      <td>21_tree_feats</td>\n",
       "    </tr>\n",
       "    <tr>\n",
       "      <th>9</th>\n",
       "      <td>0.014161</td>\n",
       "      <td>9_tree_feats</td>\n",
       "    </tr>\n",
       "    <tr>\n",
       "      <th>14</th>\n",
       "      <td>0.013363</td>\n",
       "      <td>14_tree_feats</td>\n",
       "    </tr>\n",
       "    <tr>\n",
       "      <th>23</th>\n",
       "      <td>0.011885</td>\n",
       "      <td>23_tree_feats</td>\n",
       "    </tr>\n",
       "    <tr>\n",
       "      <th>13</th>\n",
       "      <td>0.007435</td>\n",
       "      <td>13_tree_feats</td>\n",
       "    </tr>\n",
       "    <tr>\n",
       "      <th>8</th>\n",
       "      <td>0.004576</td>\n",
       "      <td>8_tree_feats</td>\n",
       "    </tr>\n",
       "    <tr>\n",
       "      <th>5</th>\n",
       "      <td>0.002670</td>\n",
       "      <td>5_tree_feats</td>\n",
       "    </tr>\n",
       "    <tr>\n",
       "      <th>7</th>\n",
       "      <td>-0.002316</td>\n",
       "      <td>7_tree_feats</td>\n",
       "    </tr>\n",
       "    <tr>\n",
       "      <th>11</th>\n",
       "      <td>-0.007379</td>\n",
       "      <td>11_tree_feats</td>\n",
       "    </tr>\n",
       "    <tr>\n",
       "      <th>4</th>\n",
       "      <td>-0.007440</td>\n",
       "      <td>4_tree_feats</td>\n",
       "    </tr>\n",
       "    <tr>\n",
       "      <th>0</th>\n",
       "      <td>-0.010288</td>\n",
       "      <td>0_tree_feats</td>\n",
       "    </tr>\n",
       "    <tr>\n",
       "      <th>20</th>\n",
       "      <td>-0.013924</td>\n",
       "      <td>20_tree_feats</td>\n",
       "    </tr>\n",
       "    <tr>\n",
       "      <th>25</th>\n",
       "      <td>-0.013994</td>\n",
       "      <td>25_tree_feats</td>\n",
       "    </tr>\n",
       "    <tr>\n",
       "      <th>1</th>\n",
       "      <td>-0.018609</td>\n",
       "      <td>1_tree_feats</td>\n",
       "    </tr>\n",
       "    <tr>\n",
       "      <th>6</th>\n",
       "      <td>-0.021281</td>\n",
       "      <td>6_tree_feats</td>\n",
       "    </tr>\n",
       "  </tbody>\n",
       "</table>\n",
       "</div>"
      ],
      "text/plain": [
       "    feature importance   feature name\n",
       "2             0.104916   2_tree_feats\n",
       "19            0.052241  19_tree_feats\n",
       "22            0.050642  22_tree_feats\n",
       "16            0.042306  16_tree_feats\n",
       "15            0.032277  15_tree_feats\n",
       "21            0.023238  21_tree_feats\n",
       "9             0.014161   9_tree_feats\n",
       "14            0.013363  14_tree_feats\n",
       "23            0.011885  23_tree_feats\n",
       "13            0.007435  13_tree_feats\n",
       "8             0.004576   8_tree_feats\n",
       "5             0.002670   5_tree_feats\n",
       "7            -0.002316   7_tree_feats\n",
       "11           -0.007379  11_tree_feats\n",
       "4            -0.007440   4_tree_feats\n",
       "0            -0.010288   0_tree_feats\n",
       "20           -0.013924  20_tree_feats\n",
       "25           -0.013994  25_tree_feats\n",
       "1            -0.018609   1_tree_feats\n",
       "6            -0.021281   6_tree_feats"
      ]
     },
     "execution_count": 54,
     "metadata": {},
     "output_type": "execute_result"
    }
   ],
   "source": [
    "df_20_most_important"
   ]
  },
  {
   "cell_type": "markdown",
   "metadata": {},
   "source": [
    "### Train with graph features"
   ]
  },
  {
   "cell_type": "code",
   "execution_count": 55,
   "metadata": {},
   "outputs": [],
   "source": [
    "model = Ridge(alpha=1.0)"
   ]
  },
  {
   "cell_type": "code",
   "execution_count": 56,
   "metadata": {},
   "outputs": [
    {
     "data": {
      "text/plain": [
       "Ridge(alpha=1.0, copy_X=True, fit_intercept=True, max_iter=None,\n",
       "   normalize=False, random_state=None, solver='auto', tol=0.001)"
      ]
     },
     "execution_count": 56,
     "metadata": {},
     "output_type": "execute_result"
    }
   ],
   "source": [
    "model.fit(X_train[:, X_train.shape[1]//2:], y_train)"
   ]
  },
  {
   "cell_type": "code",
   "execution_count": 57,
   "metadata": {},
   "outputs": [],
   "source": [
    "test_preds = model.predict(X_test[:, X_train.shape[1]//2:])\n",
    "val_preds = model.predict(X_val[:, X_train.shape[1]//2:])"
   ]
  },
  {
   "cell_type": "code",
   "execution_count": 58,
   "metadata": {},
   "outputs": [
    {
     "name": "stdout",
     "output_type": "stream",
     "text": [
      "('Valid RMSE =', 1.7513535222589323)\n",
      "Valid R2-score is 0.0777913424282\n",
      "('Test RMSE =', 1.7450757570632138)\n",
      "Test R2-score is 0.0866168912675\n"
     ]
    }
   ],
   "source": [
    "print(\"Valid RMSE =\", mean_squared_error(y_val, val_preds)**0.5)\n",
    "print(\"Valid R2-score is {0}\".format(r2_score(y_val, val_preds)))\n",
    "\n",
    "print(\"Test RMSE =\", mean_squared_error(y_test, test_preds)**0.5)\n",
    "print(\"Test R2-score is {0}\".format(r2_score(y_test, test_preds)))"
   ]
  },
  {
   "cell_type": "code",
   "execution_count": 59,
   "metadata": {},
   "outputs": [],
   "source": [
    "feature_importance = model.coef_\n",
    "df = pd.DataFrame(columns = ['feature importance', 'feature name'])\n",
    "df['feature importance'] = feature_importance\n",
    "df['feature name'] = [str(i)+ '_graph_feats' for i in range(X_train.shape[1]//2, X_train.shape[1])]\n",
    "df_20_most_important = df.sort_values(by='feature importance', ascending = False)[:20]"
   ]
  },
  {
   "cell_type": "code",
   "execution_count": 60,
   "metadata": {},
   "outputs": [
    {
     "data": {
      "text/html": [
       "<div>\n",
       "<style scoped>\n",
       "    .dataframe tbody tr th:only-of-type {\n",
       "        vertical-align: middle;\n",
       "    }\n",
       "\n",
       "    .dataframe tbody tr th {\n",
       "        vertical-align: top;\n",
       "    }\n",
       "\n",
       "    .dataframe thead th {\n",
       "        text-align: right;\n",
       "    }\n",
       "</style>\n",
       "<table border=\"1\" class=\"dataframe\">\n",
       "  <thead>\n",
       "    <tr style=\"text-align: right;\">\n",
       "      <th></th>\n",
       "      <th>feature importance</th>\n",
       "      <th>feature name</th>\n",
       "    </tr>\n",
       "  </thead>\n",
       "  <tbody>\n",
       "    <tr>\n",
       "      <th>8</th>\n",
       "      <td>1.190934</td>\n",
       "      <td>36_graph_feats</td>\n",
       "    </tr>\n",
       "    <tr>\n",
       "      <th>2</th>\n",
       "      <td>0.993923</td>\n",
       "      <td>30_graph_feats</td>\n",
       "    </tr>\n",
       "    <tr>\n",
       "      <th>7</th>\n",
       "      <td>0.544352</td>\n",
       "      <td>35_graph_feats</td>\n",
       "    </tr>\n",
       "    <tr>\n",
       "      <th>16</th>\n",
       "      <td>0.536741</td>\n",
       "      <td>44_graph_feats</td>\n",
       "    </tr>\n",
       "    <tr>\n",
       "      <th>14</th>\n",
       "      <td>0.526466</td>\n",
       "      <td>42_graph_feats</td>\n",
       "    </tr>\n",
       "    <tr>\n",
       "      <th>25</th>\n",
       "      <td>0.367312</td>\n",
       "      <td>53_graph_feats</td>\n",
       "    </tr>\n",
       "    <tr>\n",
       "      <th>1</th>\n",
       "      <td>0.156772</td>\n",
       "      <td>29_graph_feats</td>\n",
       "    </tr>\n",
       "    <tr>\n",
       "      <th>6</th>\n",
       "      <td>0.108438</td>\n",
       "      <td>34_graph_feats</td>\n",
       "    </tr>\n",
       "    <tr>\n",
       "      <th>20</th>\n",
       "      <td>0.107950</td>\n",
       "      <td>48_graph_feats</td>\n",
       "    </tr>\n",
       "    <tr>\n",
       "      <th>19</th>\n",
       "      <td>0.041415</td>\n",
       "      <td>47_graph_feats</td>\n",
       "    </tr>\n",
       "    <tr>\n",
       "      <th>26</th>\n",
       "      <td>0.038758</td>\n",
       "      <td>54_graph_feats</td>\n",
       "    </tr>\n",
       "    <tr>\n",
       "      <th>23</th>\n",
       "      <td>-0.056593</td>\n",
       "      <td>51_graph_feats</td>\n",
       "    </tr>\n",
       "    <tr>\n",
       "      <th>17</th>\n",
       "      <td>-0.105751</td>\n",
       "      <td>45_graph_feats</td>\n",
       "    </tr>\n",
       "    <tr>\n",
       "      <th>4</th>\n",
       "      <td>-0.132495</td>\n",
       "      <td>32_graph_feats</td>\n",
       "    </tr>\n",
       "    <tr>\n",
       "      <th>24</th>\n",
       "      <td>-0.217328</td>\n",
       "      <td>52_graph_feats</td>\n",
       "    </tr>\n",
       "    <tr>\n",
       "      <th>0</th>\n",
       "      <td>-0.258456</td>\n",
       "      <td>28_graph_feats</td>\n",
       "    </tr>\n",
       "    <tr>\n",
       "      <th>9</th>\n",
       "      <td>-0.298271</td>\n",
       "      <td>37_graph_feats</td>\n",
       "    </tr>\n",
       "    <tr>\n",
       "      <th>12</th>\n",
       "      <td>-0.385618</td>\n",
       "      <td>40_graph_feats</td>\n",
       "    </tr>\n",
       "    <tr>\n",
       "      <th>18</th>\n",
       "      <td>-0.467719</td>\n",
       "      <td>46_graph_feats</td>\n",
       "    </tr>\n",
       "    <tr>\n",
       "      <th>3</th>\n",
       "      <td>-0.494549</td>\n",
       "      <td>31_graph_feats</td>\n",
       "    </tr>\n",
       "  </tbody>\n",
       "</table>\n",
       "</div>"
      ],
      "text/plain": [
       "    feature importance    feature name\n",
       "8             1.190934  36_graph_feats\n",
       "2             0.993923  30_graph_feats\n",
       "7             0.544352  35_graph_feats\n",
       "16            0.536741  44_graph_feats\n",
       "14            0.526466  42_graph_feats\n",
       "25            0.367312  53_graph_feats\n",
       "1             0.156772  29_graph_feats\n",
       "6             0.108438  34_graph_feats\n",
       "20            0.107950  48_graph_feats\n",
       "19            0.041415  47_graph_feats\n",
       "26            0.038758  54_graph_feats\n",
       "23           -0.056593  51_graph_feats\n",
       "17           -0.105751  45_graph_feats\n",
       "4            -0.132495  32_graph_feats\n",
       "24           -0.217328  52_graph_feats\n",
       "0            -0.258456  28_graph_feats\n",
       "9            -0.298271  37_graph_feats\n",
       "12           -0.385618  40_graph_feats\n",
       "18           -0.467719  46_graph_feats\n",
       "3            -0.494549  31_graph_feats"
      ]
     },
     "execution_count": 60,
     "metadata": {},
     "output_type": "execute_result"
    }
   ],
   "source": [
    "df_20_most_important"
   ]
  }
 ],
 "metadata": {
  "kernelspec": {
   "display_name": "jtree",
   "language": "python",
   "name": "jtree"
  },
  "language_info": {
   "codemirror_mode": {
    "name": "ipython",
    "version": 2
   },
   "file_extension": ".py",
   "mimetype": "text/x-python",
   "name": "python",
   "nbconvert_exporter": "python",
   "pygments_lexer": "ipython2",
   "version": "2.7.18"
  }
 },
 "nbformat": 4,
 "nbformat_minor": 2
}
