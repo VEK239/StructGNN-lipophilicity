{
 "cells": [
  {
   "cell_type": "markdown",
   "metadata": {},
   "source": [
    "# Baseline methods using fingerprints"
   ]
  },
  {
   "cell_type": "markdown",
   "metadata": {},
   "source": [
    "## Data preprocessing"
   ]
  },
  {
   "cell_type": "code",
   "execution_count": 1,
   "metadata": {},
   "outputs": [],
   "source": [
    "import pandas as pd\n",
    "import numpy as np\n",
    "import time\n",
    "from sklearn.neural_network import MLPRegressor\n",
    "from rdkit import Chem, DataStructs\n",
    "from rdkit.Chem import AllChem\n",
    "from sklearn.metrics import mean_squared_error, r2_score\n",
    "from warnings import filterwarnings\n",
    "filterwarnings('ignore')"
   ]
  },
  {
   "cell_type": "markdown",
   "metadata": {},
   "source": [
    "*Choosing the dataset*"
   ]
  },
  {
   "cell_type": "code",
   "execution_count": 2,
   "metadata": {},
   "outputs": [],
   "source": [
    "data_train = pd.read_csv('../../data/3_final_data/split_data/logP_pH_range_mean_train.csv', index_col=0)\n",
    "data_valid = pd.read_csv('../../data/3_final_data/split_data/logP_pH_range_mean_validation.csv', index_col=0)\n",
    "data_test = pd.read_csv('../../data/3_final_data/split_data/logP_pH_range_mean_test.csv', index_col=0)"
   ]
  },
  {
   "cell_type": "code",
   "execution_count": 3,
   "metadata": {},
   "outputs": [],
   "source": [
    "data_train = pd.read_csv('../../data/3_final_data/split_data/logP_mean_train.csv', index_col=0)\n",
    "data_valid = pd.read_csv('../../data/3_final_data/split_data/logP_mean_validation.csv', index_col=0)\n",
    "data_test = pd.read_csv('../../data/3_final_data/split_data/logP_mean_test.csv', index_col=0)"
   ]
  },
  {
   "cell_type": "code",
   "execution_count": 4,
   "metadata": {},
   "outputs": [],
   "source": [
    "data_train = pd.read_csv('../../data/3_final_data/split_data/logP_wo_parameters_train.csv', index_col=0)\n",
    "data_valid = pd.read_csv('../../data/3_final_data/split_data/logP_wo_parameters_validation.csv', index_col=0)\n",
    "data_test = pd.read_csv('../../data/3_final_data/split_data/logP_wo_parameters_test.csv', index_col=0)"
   ]
  },
  {
   "cell_type": "markdown",
   "metadata": {},
   "source": [
    "*Getting X/y dataframes*"
   ]
  },
  {
   "cell_type": "code",
   "execution_count": 5,
   "metadata": {},
   "outputs": [],
   "source": [
    "y_train = data_train.logP\n",
    "y_valid = data_valid.logP\n",
    "y_test = data_test.logP"
   ]
  },
  {
   "cell_type": "code",
   "execution_count": 6,
   "metadata": {},
   "outputs": [],
   "source": [
    "X_train_mol = [Chem.MolFromSmiles(x) for x in data_train.smiles]\n",
    "X_valid_mol = [Chem.MolFromSmiles(x) for x in data_valid.smiles]\n",
    "X_test_mol = [Chem.MolFromSmiles(x) for x in data_test.smiles]"
   ]
  },
  {
   "cell_type": "markdown",
   "metadata": {},
   "source": [
    "## Mean predictor"
   ]
  },
  {
   "cell_type": "code",
   "execution_count": 7,
   "metadata": {},
   "outputs": [
    {
     "name": "stdout",
     "output_type": "stream",
     "text": [
      "RMSE of mean predictor is 1.8141849992522239\n",
      "R2-score of mean predictor is -0.0002990500750039704\n"
     ]
    }
   ],
   "source": [
    "y_predicted = pd.Series(y_train.mean(), index=[i for i in range(y_test.size)])\n",
    "print(\"RMSE of mean predictor is {0}\".format(mean_squared_error(y_test, y_predicted, squared=False)))\n",
    "print(\"R2-score of mean predictor is {0}\".format(r2_score(y_test, y_predicted)))"
   ]
  },
  {
   "cell_type": "markdown",
   "metadata": {},
   "source": [
    "## Morgan bit fingerprint + MLPRegressor. Without pH."
   ]
  },
  {
   "cell_type": "code",
   "execution_count": 8,
   "metadata": {},
   "outputs": [],
   "source": [
    "def get_morgan_bit_fps(data, bits=2048, radius=2):\n",
    "    X = [[c for c in AllChem.GetMorganFingerprintAsBitVect(m, radius, nBits=bits).ToBitString()] for m in data]\n",
    "    X = pd.DataFrame(X)\n",
    "    return X"
   ]
  },
  {
   "cell_type": "code",
   "execution_count": 9,
   "metadata": {
    "scrolled": true
   },
   "outputs": [
    {
     "name": "stdout",
     "output_type": "stream",
     "text": [
      "-------------------------\n",
      "Fitting with params radius=2, bits=512 finished. RMSE=0.7803343205308562 was achieved after 15 epochs in 26.17 seconds\n",
      "\n",
      "-------------------------\n",
      "Fitting with params radius=2, bits=1024 finished. RMSE=0.7366282623812145 was achieved after 12 epochs in 41.60 seconds\n",
      "\n",
      "-------------------------\n",
      "Fitting with params radius=2, bits=2048 finished. RMSE=0.6973962343564154 was achieved after 9 epochs in 63.15 seconds\n",
      "\n",
      "-------------------------\n",
      "Fitting with params radius=2, bits=4096 finished. RMSE=0.7080206836047848 was achieved after 6 epochs in 86.54 seconds\n",
      "\n",
      "-------------------------\n",
      "Fitting with params radius=2, bits=8192 finished. RMSE=0.6781173610677472 was achieved after 6 epochs in 173.83 seconds\n",
      "\n",
      "-------------------------\n",
      "Fitting with params radius=3, bits=512 finished. RMSE=0.8784865821133261 was achieved after 11 epochs in 20.24 seconds\n",
      "\n",
      "-------------------------\n",
      "Fitting with params radius=3, bits=1024 finished. RMSE=0.7815529041738909 was achieved after 13 epochs in 45.51 seconds\n",
      "\n",
      "-------------------------\n",
      "Fitting with params radius=3, bits=2048 finished. RMSE=0.7499242800577278 was achieved after 11 epochs in 78.35 seconds\n",
      "\n",
      "-------------------------\n",
      "Fitting with params radius=3, bits=4096 finished. RMSE=0.7432028580303358 was achieved after 7 epochs in 102.66 seconds\n",
      "\n",
      "-------------------------\n",
      "Fitting with params radius=3, bits=8192 finished. RMSE=0.7005762179514801 was achieved after 5 epochs in 149.40 seconds\n",
      "\n",
      "-------------------------\n",
      "Fitting with params radius=4, bits=512 finished. RMSE=0.8973315637250548 was achieved after 17 epochs in 31.93 seconds\n",
      "\n",
      "-------------------------\n",
      "Fitting with params radius=4, bits=1024 finished. RMSE=0.8190677271267401 was achieved after 12 epochs in 40.89 seconds\n",
      "\n",
      "-------------------------\n",
      "Fitting with params radius=4, bits=2048 finished. RMSE=0.7962027517732693 was achieved after 8 epochs in 63.94 seconds\n",
      "\n",
      "-------------------------\n",
      "Fitting with params radius=4, bits=4096 finished. RMSE=0.7753201733892316 was achieved after 6 epochs in 89.62 seconds\n",
      "\n",
      "-------------------------\n",
      "Fitting with params radius=4, bits=8192 finished. RMSE=0.730169409691275 was achieved after 5 epochs in 149.98 seconds\n",
      "\n"
     ]
    }
   ],
   "source": [
    "best_params = [-1, 10^3, -1, -1]\n",
    "for radius in range(2, 5):\n",
    "    for bits_degree in range(9, 14):\n",
    "        \n",
    "        start_time = time.time()\n",
    "        print('-' * 25)\n",
    "        bits = 2 ** bits_degree\n",
    "        \n",
    "        X_train = get_morgan_bit_fps(X_train_mol, bits, radius)\n",
    "        X_valid = get_morgan_bit_fps(X_valid_mol, bits, radius)\n",
    "        \n",
    "        regr = MLPRegressor(random_state=10, max_iter=1, warm_start=True)\n",
    "        \n",
    "        valid_rmse = 10 ** 3\n",
    "        rmse = mean_squared_error(y_valid, regr.fit(X_train, y_train).predict(X_valid), squared = False)\n",
    "        epoch_count = 1\n",
    "        while valid_rmse > rmse:\n",
    "            valid_rmse = rmse\n",
    "            train_rmse = mean_squared_error(y_train, regr.predict(X_train), squared = False)\n",
    "            epoch_count += 1\n",
    "            rmse = mean_squared_error(y_valid, regr.fit(X_train, y_train).predict(X_valid), squared = False)\n",
    "        \n",
    "        if rmse < best_params[1]:\n",
    "            best_params = [regr, rmse, bits, radius]\n",
    "\n",
    "        seconds = time.time() - start_time\n",
    "        print(\"Fitting with params radius={0}, bits={1} finished. RMSE={2} was achieved after {3} epochs in {4:.2f} seconds\\n\".\n",
    "              format(radius, bits, rmse, epoch_count, seconds))"
   ]
  },
  {
   "cell_type": "code",
   "execution_count": 11,
   "metadata": {},
   "outputs": [
    {
     "name": "stdout",
     "output_type": "stream",
     "text": [
      "Best params for bit fingerprints are: radius = 2, bits count = 8192\n",
      "Fitting test data...\n",
      "Train RMSE = 0.3983193750885008\n",
      "Train R2-score is 0.9518164248514888\n",
      "Valid RMSE = 0.6781173610677472\n",
      "Valid R2-score is 0.8558796498965755\n",
      "Test RMSE = 0.6674950347616834\n",
      "Test R2-score is 0.8645862415788201\n"
     ]
    }
   ],
   "source": [
    "print(\"Best params for bit fingerprints are: radius = {2}, bits count = {1}\".format(*best_params[1:]))\n",
    "print(\"Fitting test data...\")\n",
    "X_train = get_morgan_bit_fps(X_train_mol, *(best_params[2:]))\n",
    "X_valid = get_morgan_bit_fps(X_valid_mol, *(best_params[2:]))\n",
    "X_test = get_morgan_bit_fps(X_test_mol, *(best_params[2:]))\n",
    "\n",
    "y_predicted = best_params[0].predict(X_train)\n",
    "print(\"Train RMSE =\", mean_squared_error(y_train, y_predicted, squared=False))\n",
    "print(\"Train R2-score is {0}\".format(r2_score(y_train, y_predicted)))\n",
    "train_results = pd.DataFrame({'smiles': data_train.smiles, 'logp': y_train, 'logp_pred': y_predicted})\n",
    "\n",
    "y_predicted = best_params[0].predict(X_valid)\n",
    "print(\"Valid RMSE =\", mean_squared_error(y_valid, y_predicted, squared=False))\n",
    "print(\"Valid R2-score is {0}\".format(r2_score(y_valid, y_predicted)))\n",
    "valid_results = pd.DataFrame({'smiles': data_valid.smiles, 'logp': y_valid, 'logp_pred': y_predicted})\n",
    "\n",
    "y_predicted = best_params[0].predict(X_test)\n",
    "print(\"Test RMSE =\", mean_squared_error(y_test, y_predicted, squared=False))\n",
    "print(\"Test R2-score is {0}\".format(r2_score(y_test, y_predicted)))\n",
    "test_results = pd.DataFrame({'smiles': data_test.smiles, 'logp': y_test, 'logp_pred': y_predicted})"
   ]
  },
  {
   "cell_type": "code",
   "execution_count": 13,
   "metadata": {},
   "outputs": [],
   "source": [
    "train_results.to_csv(\"../../data/4_best_predictions/bit_fingerprint_predictions_train.csv\", index=False)\n",
    "valid_results.to_csv(\"../../data/4_best_predictions/bit_fingerprint_predictions_valid.csv\", index=False)\n",
    "test_results.to_csv(\"../../data/4_best_predictions/bit_fingerprint_predictions_test.csv\", index=False)"
   ]
  },
  {
   "cell_type": "markdown",
   "metadata": {},
   "source": [
    "## Morgan bit fingerprint + MLPRegressor. With pH.\n",
    "*Best params without pH - radius = 2, bits count = 2048, so taking them*"
   ]
  },
  {
   "cell_type": "code",
   "execution_count": null,
   "metadata": {},
   "outputs": [],
   "source": [
    "X_train = get_morgan_bit_fps(X_train_mol, 2048, 2)\n",
    "X_train[2048] = data_train.pH_range\n",
    "X_valid = get_morgan_bit_fps(X_valid_mol, 2048, 2)\n",
    "X_valid[2048] = data_valid.pH_range\n",
    "regr = MLPRegressor(random_state=10, early_stopping=True).fit(X_train, y_train)\n",
    "y_predicted = regr.predict(X_valid)\n",
    "rmse = mean_squared_error(y_valid, y_predicted, squared=False)\n",
    "print(rmse)"
   ]
  },
  {
   "cell_type": "code",
   "execution_count": null,
   "metadata": {},
   "outputs": [],
   "source": [
    "X_test = get_morgan_bit_fps(X_test_mol, 2048, 2)\n",
    "X_test[2048] = data_valid.pH_range\n",
    "y_predicted = regr.predict(X_test)\n",
    "print(mean_squared_error(y_test, y_predicted, squared=False))\n",
    "print(\"R2-score is {0}\".format(r2_score(y_test, y_predicted)))"
   ]
  },
  {
   "cell_type": "code",
   "execution_count": null,
   "metadata": {},
   "outputs": [],
   "source": []
  }
 ],
 "metadata": {
  "kernelspec": {
   "display_name": "chemvae",
   "language": "python",
   "name": "chemvae"
  },
  "language_info": {
   "codemirror_mode": {
    "name": "ipython",
    "version": 3
   },
   "file_extension": ".py",
   "mimetype": "text/x-python",
   "name": "python",
   "nbconvert_exporter": "python",
   "pygments_lexer": "ipython3",
   "version": "3.6.10"
  },
  "pycharm": {
   "stem_cell": {
    "cell_type": "raw",
    "metadata": {
     "collapsed": false
    },
    "source": []
   }
  }
 },
 "nbformat": 4,
 "nbformat_minor": 4
}
