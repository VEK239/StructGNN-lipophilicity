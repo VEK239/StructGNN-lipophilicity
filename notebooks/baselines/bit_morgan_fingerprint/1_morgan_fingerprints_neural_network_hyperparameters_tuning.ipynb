{
 "cells": [
  {
   "cell_type": "markdown",
   "metadata": {},
   "source": [
    "# Baseline methods using fingerprints"
   ]
  },
  {
   "cell_type": "markdown",
   "metadata": {},
   "source": [
    "## Data preprocessing"
   ]
  },
  {
   "cell_type": "code",
   "execution_count": 2,
   "metadata": {},
   "outputs": [],
   "source": [
    "import pandas as pd\n",
    "import numpy as np\n",
    "import time\n",
    "from sklearn.neural_network import MLPRegressor\n",
    "from rdkit import Chem, DataStructs\n",
    "from rdkit.Chem import AllChem\n",
    "from sklearn.metrics import mean_squared_error, r2_score\n",
    "from warnings import filterwarnings\n",
    "filterwarnings('ignore')"
   ]
  },
  {
   "cell_type": "markdown",
   "metadata": {},
   "source": [
    "*Choosing the dataset*"
   ]
  },
  {
   "cell_type": "code",
   "execution_count": 5,
   "metadata": {},
   "outputs": [],
   "source": [
    "data_train = pd.read_csv('../../../data/3_final_data/split_data/logp_wo_averaging_train.csv', index_col=0)\n",
    "data_valid = pd.read_csv('../../../data/3_final_data/split_data/logp_wo_averaging_validation.csv', index_col=0)\n",
    "data_test = pd.read_csv('../../../data/3_final_data/split_data/logp_wo_averaging_test.csv', index_col=0)"
   ]
  },
  {
   "cell_type": "code",
   "execution_count": 3,
   "metadata": {},
   "outputs": [],
   "source": [
    "data_train = pd.read_csv('../../../data/3_final_data/split_data/logP_mean_train.csv', index_col=0)\n",
    "data_valid = pd.read_csv('../../../data/3_final_data/split_data/logP_mean_validation.csv', index_col=0)\n",
    "data_test = pd.read_csv('../../../data/3_final_data/split_data/logP_mean_test.csv', index_col=0)"
   ]
  },
  {
   "cell_type": "code",
   "execution_count": 4,
   "metadata": {},
   "outputs": [],
   "source": [
    "data_train = pd.read_csv('../../../data/3_final_data/split_data/logP_wo_parameters_train.csv', index_col=0)\n",
    "data_valid = pd.read_csv('../../../data/3_final_data/split_data/logP_wo_parameters_validation.csv', index_col=0)\n",
    "data_test = pd.read_csv('../../../data/3_final_data/split_data/logP_wo_parameters_test.csv', index_col=0)"
   ]
  },
  {
   "cell_type": "markdown",
   "metadata": {},
   "source": [
    "*Getting X/y dataframes*"
   ]
  },
  {
   "cell_type": "code",
   "execution_count": 6,
   "metadata": {},
   "outputs": [],
   "source": [
    "y_train = data_train.logP\n",
    "y_valid = data_valid.logP\n",
    "y_test = data_test.logP"
   ]
  },
  {
   "cell_type": "code",
   "execution_count": 7,
   "metadata": {},
   "outputs": [],
   "source": [
    "X_train_mol = [Chem.MolFromSmiles(x) for x in data_train.smiles]\n",
    "X_valid_mol = [Chem.MolFromSmiles(x) for x in data_valid.smiles]\n",
    "X_test_mol = [Chem.MolFromSmiles(x) for x in data_test.smiles]"
   ]
  },
  {
   "cell_type": "markdown",
   "metadata": {},
   "source": [
    "## Mean predictor"
   ]
  },
  {
   "cell_type": "code",
   "execution_count": 7,
   "metadata": {},
   "outputs": [
    {
     "name": "stdout",
     "output_type": "stream",
     "text": [
      "RMSE of mean predictor is 1.8141849992522239\n",
      "R2-score of mean predictor is -0.0002990500750039704\n"
     ]
    }
   ],
   "source": [
    "y_predicted = pd.Series(y_train.mean(), index=[i for i in range(y_test.size)])\n",
    "print(\"RMSE of mean predictor is {0}\".format(mean_squared_error(y_test, y_predicted, squared=False)))\n",
    "print(\"R2-score of mean predictor is {0}\".format(r2_score(y_test, y_predicted)))"
   ]
  },
  {
   "cell_type": "markdown",
   "metadata": {},
   "source": [
    "## Morgan bit fingerprint + MLPRegressor. Without pH."
   ]
  },
  {
   "cell_type": "code",
   "execution_count": 8,
   "metadata": {},
   "outputs": [],
   "source": [
    "def get_morgan_bit_fps(data, bits=2048, radius=2):\n",
    "    X = [[c for c in AllChem.GetMorganFingerprintAsBitVect(m, radius, nBits=bits).ToBitString()] for m in data]\n",
    "    X = pd.DataFrame(X)\n",
    "    return X"
   ]
  },
  {
   "cell_type": "code",
   "execution_count": 9,
   "metadata": {
    "scrolled": true
   },
   "outputs": [
    {
     "name": "stdout",
     "output_type": "stream",
     "text": [
      "-------------------------\n",
      "Fitting with params radius=2, bits=512 finished. RMSE=0.8555273709396101 was achieved after 17 epochs in 78.89 seconds\n",
      "\n",
      "-------------------------\n",
      "Fitting with params radius=2, bits=1024 finished. RMSE=0.7925866039776233 was achieved after 16 epochs in 151.17 seconds\n",
      "\n",
      "-------------------------\n",
      "Fitting with params radius=2, bits=2048 finished. RMSE=0.7789708908981519 was achieved after 10 epochs in 203.89 seconds\n",
      "\n",
      "-------------------------\n",
      "Fitting with params radius=2, bits=4096 finished. RMSE=0.7778858735872698 was achieved after 9 epochs in 327.35 seconds\n",
      "\n",
      "-------------------------\n",
      "Fitting with params radius=2, bits=8192 finished. RMSE=0.7395358720990214 was achieved after 5 epochs in 255.92 seconds\n",
      "\n",
      "-------------------------\n",
      "Fitting with params radius=3, bits=512 finished. RMSE=0.9336196929580187 was achieved after 13 epochs in 31.44 seconds\n",
      "\n",
      "-------------------------\n",
      "Fitting with params radius=3, bits=1024 finished. RMSE=0.8596371495476879 was achieved after 12 epochs in 63.42 seconds\n",
      "\n",
      "-------------------------\n",
      "Fitting with params radius=3, bits=2048 finished. RMSE=0.8551738009109324 was achieved after 8 epochs in 92.86 seconds\n",
      "\n",
      "-------------------------\n",
      "Fitting with params radius=3, bits=4096 finished. RMSE=0.8109329813762395 was achieved after 6 epochs in 120.52 seconds\n",
      "\n",
      "-------------------------\n",
      "Fitting with params radius=3, bits=8192 finished. RMSE=0.7632660286991286 was achieved after 5 epochs in 182.37 seconds\n",
      "\n",
      "-------------------------\n",
      "Fitting with params radius=4, bits=512 finished. RMSE=0.9595262356623581 was achieved after 15 epochs in 35.35 seconds\n",
      "\n",
      "-------------------------\n",
      "Fitting with params radius=4, bits=1024 finished. RMSE=0.9027107331994237 was achieved after 12 epochs in 50.22 seconds\n",
      "\n",
      "-------------------------\n",
      "Fitting with params radius=4, bits=2048 finished. RMSE=0.8958183337162787 was achieved after 8 epochs in 72.26 seconds\n",
      "\n",
      "-------------------------\n",
      "Fitting with params radius=4, bits=4096 finished. RMSE=0.846649061752408 was achieved after 6 epochs in 110.05 seconds\n",
      "\n",
      "-------------------------\n",
      "Fitting with params radius=4, bits=8192 finished. RMSE=0.7889862610053952 was achieved after 5 epochs in 174.97 seconds\n",
      "\n"
     ]
    }
   ],
   "source": [
    "best_params = [-1, 10^3, -1, -1]\n",
    "for radius in range(2, 5):\n",
    "    for bits_degree in range(9, 14):\n",
    "        \n",
    "        start_time = time.time()\n",
    "        print('-' * 25)\n",
    "        bits = 2 ** bits_degree\n",
    "        \n",
    "        X_train = get_morgan_bit_fps(X_train_mol, bits, radius)\n",
    "        X_valid = get_morgan_bit_fps(X_valid_mol, bits, radius)\n",
    "        \n",
    "        regr = MLPRegressor(random_state=10, max_iter=1, warm_start=True)\n",
    "        \n",
    "        valid_rmse = 10 ** 3\n",
    "        rmse = mean_squared_error(y_valid, regr.fit(X_train, y_train).predict(X_valid), squared = False)\n",
    "        epoch_count = 1\n",
    "        while valid_rmse > rmse:\n",
    "            valid_rmse = rmse\n",
    "            train_rmse = mean_squared_error(y_train, regr.predict(X_train), squared = False)\n",
    "            epoch_count += 1\n",
    "            rmse = mean_squared_error(y_valid, regr.fit(X_train, y_train).predict(X_valid), squared = False)\n",
    "        \n",
    "        if rmse < best_params[1]:\n",
    "            best_params = [regr, rmse, bits, radius]\n",
    "\n",
    "        seconds = time.time() - start_time\n",
    "        print(\"Fitting with params radius={0}, bits={1} finished. RMSE={2} was achieved after {3} epochs in {4:.2f} seconds\\n\".\n",
    "              format(radius, bits, rmse, epoch_count, seconds))"
   ]
  },
  {
   "cell_type": "code",
   "execution_count": 10,
   "metadata": {},
   "outputs": [
    {
     "name": "stdout",
     "output_type": "stream",
     "text": [
      "Best params for bit fingerprints are: radius = 2, bits count = 8192\n",
      "Fitting test data...\n",
      "Train RMSE = 0.4510724090123696\n",
      "Train R2-score is 0.9423900610278957\n",
      "Valid RMSE = 0.7395358720990214\n",
      "Valid R2-score is 0.8377921775077246\n",
      "Test RMSE = 0.7215209634809493\n",
      "Test R2-score is 0.8454102677631433\n"
     ]
    }
   ],
   "source": [
    "print(\"Best params for bit fingerprints are: radius = {2}, bits count = {1}\".format(*best_params[1:]))\n",
    "print(\"Fitting test data...\")\n",
    "X_train = get_morgan_bit_fps(X_train_mol, *(best_params[2:]))\n",
    "X_valid = get_morgan_bit_fps(X_valid_mol, *(best_params[2:]))\n",
    "X_test = get_morgan_bit_fps(X_test_mol, *(best_params[2:]))\n",
    "\n",
    "y_predicted = best_params[0].predict(X_train)\n",
    "print(\"Train RMSE =\", mean_squared_error(y_train, y_predicted, squared=False))\n",
    "print(\"Train R2-score is {0}\".format(r2_score(y_train, y_predicted)))\n",
    "train_results = pd.DataFrame({'smiles': data_train.smiles, 'logp': y_train, 'logp_pred': y_predicted})\n",
    "\n",
    "y_predicted = best_params[0].predict(X_valid)\n",
    "print(\"Valid RMSE =\", mean_squared_error(y_valid, y_predicted, squared=False))\n",
    "print(\"Valid R2-score is {0}\".format(r2_score(y_valid, y_predicted)))\n",
    "valid_results = pd.DataFrame({'smiles': data_valid.smiles, 'logp': y_valid, 'logp_pred': y_predicted})\n",
    "\n",
    "y_predicted = best_params[0].predict(X_test)\n",
    "print(\"Test RMSE =\", mean_squared_error(y_test, y_predicted, squared=False))\n",
    "print(\"Test R2-score is {0}\".format(r2_score(y_test, y_predicted)))\n",
    "test_results = pd.DataFrame({'smiles': data_test.smiles, 'logp': y_test, 'logp_pred': y_predicted})"
   ]
  },
  {
   "cell_type": "code",
   "execution_count": 12,
   "metadata": {},
   "outputs": [],
   "source": [
    "train_results.to_csv(\"../../../data/4_best_predictions/bit_fingerprint_predictions_train.csv\", index=False)\n",
    "valid_results.to_csv(\"../../../data/4_best_predictions/bit_fingerprint_predictions_valid.csv\", index=False)\n",
    "test_results.to_csv(\"../../../data/4_best_predictions/bit_fingerprint_predictions_test.csv\", index=False)"
   ]
  },
  {
   "cell_type": "markdown",
   "metadata": {},
   "source": [
    "## Morgan bit fingerprint + MLPRegressor. With pH.\n",
    "*Best params without pH - radius = 2, bits count = 2048, so taking them*"
   ]
  },
  {
   "cell_type": "code",
   "execution_count": null,
   "metadata": {},
   "outputs": [],
   "source": [
    "X_train = get_morgan_bit_fps(X_train_mol, 2048, 2)\n",
    "X_train[2048] = data_train.pH_range\n",
    "X_valid = get_morgan_bit_fps(X_valid_mol, 2048, 2)\n",
    "X_valid[2048] = data_valid.pH_range\n",
    "regr = MLPRegressor(random_state=10, early_stopping=True).fit(X_train, y_train)\n",
    "y_predicted = regr.predict(X_valid)\n",
    "rmse = mean_squared_error(y_valid, y_predicted, squared=False)\n",
    "print(rmse)"
   ]
  },
  {
   "cell_type": "code",
   "execution_count": null,
   "metadata": {},
   "outputs": [],
   "source": [
    "X_test = get_morgan_bit_fps(X_test_mol, 2048, 2)\n",
    "X_test[2048] = data_valid.pH_range\n",
    "y_predicted = regr.predict(X_test)\n",
    "print(mean_squared_error(y_test, y_predicted, squared=False))\n",
    "print(\"R2-score is {0}\".format(r2_score(y_test, y_predicted)))"
   ]
  },
  {
   "cell_type": "code",
   "execution_count": null,
   "metadata": {},
   "outputs": [],
   "source": []
  }
 ],
 "metadata": {
  "kernelspec": {
   "display_name": "chemvae",
   "language": "python",
   "name": "chemvae"
  },
  "language_info": {
   "codemirror_mode": {
    "name": "ipython",
    "version": 3
   },
   "file_extension": ".py",
   "mimetype": "text/x-python",
   "name": "python",
   "nbconvert_exporter": "python",
   "pygments_lexer": "ipython3",
   "version": "3.6.10"
  },
  "pycharm": {
   "stem_cell": {
    "cell_type": "raw",
    "metadata": {
     "collapsed": false
    },
    "source": []
   }
  }
 },
 "nbformat": 4,
 "nbformat_minor": 4
}
