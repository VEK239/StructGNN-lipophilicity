{
 "cells": [
  {
   "cell_type": "markdown",
   "metadata": {},
   "source": [
    "# Best and worst molecules analysis"
   ]
  },
  {
   "cell_type": "code",
   "execution_count": 1,
   "metadata": {},
   "outputs": [],
   "source": [
    "import pandas as pd\n",
    "import numpy as np\n",
    "import seaborn as sns\n",
    "import torch\n",
    "from scipy import stats\n",
    "from torch.nn.utils.rnn import pad_sequence\n",
    "from sklearn.neural_network import MLPRegressor\n",
    "from rdkit import Chem, DataStructs\n",
    "from rdkit.Chem import AllChem\n",
    "from sklearn.metrics import mean_squared_error, r2_score\n",
    "import time"
   ]
  },
  {
   "cell_type": "markdown",
   "metadata": {},
   "source": [
    "## Uploading data from file"
   ]
  },
  {
   "cell_type": "code",
   "execution_count": 2,
   "metadata": {},
   "outputs": [],
   "source": [
    "DATA_PATH = \"../../../data/4_best_predictions/\"\n",
    "FILE_PATTERN = \"bit_fingerprint_predictions_{0}.csv\""
   ]
  },
  {
   "cell_type": "code",
   "execution_count": 3,
   "metadata": {},
   "outputs": [],
   "source": [
    "valid = pd.read_csv(DATA_PATH + FILE_PATTERN.format('valid'))\n",
    "test = pd.read_csv(DATA_PATH + FILE_PATTERN.format('test'))"
   ]
  },
  {
   "cell_type": "code",
   "execution_count": 4,
   "metadata": {},
   "outputs": [],
   "source": [
    "compare_data = pd.DataFrame({'smiles': test.smiles, 'y_expected': test.logp, 'y_predicted': test.logp_pred})"
   ]
  },
  {
   "cell_type": "code",
   "execution_count": 5,
   "metadata": {},
   "outputs": [],
   "source": [
    "X_valid_mol = [Chem.MolFromSmiles(x) for x in valid.smiles]\n",
    "X_test_mol = [Chem.MolFromSmiles(x) for x in test.smiles]"
   ]
  },
  {
   "cell_type": "code",
   "execution_count": 6,
   "metadata": {},
   "outputs": [],
   "source": [
    "y_test = test.logp\n",
    "y_valid = valid.logp"
   ]
  },
  {
   "cell_type": "markdown",
   "metadata": {},
   "source": [
    "## Getting the data to compare"
   ]
  },
  {
   "cell_type": "code",
   "execution_count": 7,
   "metadata": {},
   "outputs": [
    {
     "data": {
      "text/html": [
       "<div>\n",
       "<style scoped>\n",
       "    .dataframe tbody tr th:only-of-type {\n",
       "        vertical-align: middle;\n",
       "    }\n",
       "\n",
       "    .dataframe tbody tr th {\n",
       "        vertical-align: top;\n",
       "    }\n",
       "\n",
       "    .dataframe thead th {\n",
       "        text-align: right;\n",
       "    }\n",
       "</style>\n",
       "<table border=\"1\" class=\"dataframe\">\n",
       "  <thead>\n",
       "    <tr style=\"text-align: right;\">\n",
       "      <th></th>\n",
       "      <th>smiles</th>\n",
       "      <th>y_expected</th>\n",
       "      <th>y_predicted</th>\n",
       "    </tr>\n",
       "  </thead>\n",
       "  <tbody>\n",
       "    <tr>\n",
       "      <th>0</th>\n",
       "      <td>Cc1ccccc1C(C)C</td>\n",
       "      <td>4.38</td>\n",
       "      <td>4.271274</td>\n",
       "    </tr>\n",
       "    <tr>\n",
       "      <th>1</th>\n",
       "      <td>Clc1nc(-c2ccccc2)nc2ccccc12</td>\n",
       "      <td>4.47</td>\n",
       "      <td>5.203018</td>\n",
       "    </tr>\n",
       "    <tr>\n",
       "      <th>2</th>\n",
       "      <td>Cc1ccc(O)c(C(=O)O)c1</td>\n",
       "      <td>2.78</td>\n",
       "      <td>1.591805</td>\n",
       "    </tr>\n",
       "    <tr>\n",
       "      <th>3</th>\n",
       "      <td>O=c1[nH]c(O)c(-c2ccccc2)[nH]1</td>\n",
       "      <td>0.46</td>\n",
       "      <td>0.024980</td>\n",
       "    </tr>\n",
       "    <tr>\n",
       "      <th>4</th>\n",
       "      <td>CN(C)CCN1c2ccccc2Sc2ccccc21</td>\n",
       "      <td>4.20</td>\n",
       "      <td>3.574062</td>\n",
       "    </tr>\n",
       "  </tbody>\n",
       "</table>\n",
       "</div>"
      ],
      "text/plain": [
       "                          smiles  y_expected  y_predicted\n",
       "0                 Cc1ccccc1C(C)C        4.38     4.271274\n",
       "1    Clc1nc(-c2ccccc2)nc2ccccc12        4.47     5.203018\n",
       "2           Cc1ccc(O)c(C(=O)O)c1        2.78     1.591805\n",
       "3  O=c1[nH]c(O)c(-c2ccccc2)[nH]1        0.46     0.024980\n",
       "4    CN(C)CCN1c2ccccc2Sc2ccccc21        4.20     3.574062"
      ]
     },
     "execution_count": 7,
     "metadata": {},
     "output_type": "execute_result"
    }
   ],
   "source": [
    "compare_data.head()"
   ]
  },
  {
   "cell_type": "code",
   "execution_count": 8,
   "metadata": {},
   "outputs": [
    {
     "data": {
      "text/plain": [
       "(1894, 3)"
      ]
     },
     "execution_count": 8,
     "metadata": {},
     "output_type": "execute_result"
    }
   ],
   "source": [
    "compare_data.shape"
   ]
  },
  {
   "cell_type": "code",
   "execution_count": 9,
   "metadata": {},
   "outputs": [],
   "source": [
    "compare_data['error'] = (compare_data.y_expected - compare_data.y_predicted) ** 2"
   ]
  },
  {
   "cell_type": "code",
   "execution_count": 10,
   "metadata": {},
   "outputs": [
    {
     "data": {
      "text/html": [
       "<div>\n",
       "<style scoped>\n",
       "    .dataframe tbody tr th:only-of-type {\n",
       "        vertical-align: middle;\n",
       "    }\n",
       "\n",
       "    .dataframe tbody tr th {\n",
       "        vertical-align: top;\n",
       "    }\n",
       "\n",
       "    .dataframe thead th {\n",
       "        text-align: right;\n",
       "    }\n",
       "</style>\n",
       "<table border=\"1\" class=\"dataframe\">\n",
       "  <thead>\n",
       "    <tr style=\"text-align: right;\">\n",
       "      <th></th>\n",
       "      <th>smiles</th>\n",
       "      <th>y_expected</th>\n",
       "      <th>y_predicted</th>\n",
       "      <th>error</th>\n",
       "    </tr>\n",
       "  </thead>\n",
       "  <tbody>\n",
       "    <tr>\n",
       "      <th>79</th>\n",
       "      <td>O=C(Cc1ccccc1Nc1c(Cl)cccc1Cl)O[K]</td>\n",
       "      <td>0.65</td>\n",
       "      <td>5.077822</td>\n",
       "      <td>19.605604</td>\n",
       "    </tr>\n",
       "    <tr>\n",
       "      <th>1015</th>\n",
       "      <td>CCc1c(C(=O)O)c(=O)cnn1-c1ccc(Cl)cc1</td>\n",
       "      <td>-2.20</td>\n",
       "      <td>1.996477</td>\n",
       "      <td>17.610420</td>\n",
       "    </tr>\n",
       "    <tr>\n",
       "      <th>147</th>\n",
       "      <td>CC(C)(C)c1cc(CCC(=O)OCC(COC(=O)CCc2cc(C(C)(C)C...</td>\n",
       "      <td>1.36</td>\n",
       "      <td>5.033193</td>\n",
       "      <td>13.492348</td>\n",
       "    </tr>\n",
       "    <tr>\n",
       "      <th>674</th>\n",
       "      <td>CC(C)(C)NC(=O)C1CCC2C3CCC4NC(=O)C=CC4(C)C3CCC12C</td>\n",
       "      <td>3.03</td>\n",
       "      <td>6.293756</td>\n",
       "      <td>10.652101</td>\n",
       "    </tr>\n",
       "    <tr>\n",
       "      <th>121</th>\n",
       "      <td>CCCCCCCCCCCCCCCC(=O)O</td>\n",
       "      <td>7.17</td>\n",
       "      <td>4.008034</td>\n",
       "      <td>9.998028</td>\n",
       "    </tr>\n",
       "  </tbody>\n",
       "</table>\n",
       "</div>"
      ],
      "text/plain": [
       "                                                 smiles  y_expected  \\\n",
       "79                    O=C(Cc1ccccc1Nc1c(Cl)cccc1Cl)O[K]        0.65   \n",
       "1015                CCc1c(C(=O)O)c(=O)cnn1-c1ccc(Cl)cc1       -2.20   \n",
       "147   CC(C)(C)c1cc(CCC(=O)OCC(COC(=O)CCc2cc(C(C)(C)C...        1.36   \n",
       "674    CC(C)(C)NC(=O)C1CCC2C3CCC4NC(=O)C=CC4(C)C3CCC12C        3.03   \n",
       "121                               CCCCCCCCCCCCCCCC(=O)O        7.17   \n",
       "\n",
       "      y_predicted      error  \n",
       "79       5.077822  19.605604  \n",
       "1015     1.996477  17.610420  \n",
       "147      5.033193  13.492348  \n",
       "674      6.293756  10.652101  \n",
       "121      4.008034   9.998028  "
      ]
     },
     "execution_count": 10,
     "metadata": {},
     "output_type": "execute_result"
    }
   ],
   "source": [
    "compare_data.sort_values(by=['error'], ascending=False).head()"
   ]
  },
  {
   "cell_type": "code",
   "execution_count": 11,
   "metadata": {},
   "outputs": [
    {
     "data": {
      "text/html": [
       "<div>\n",
       "<style scoped>\n",
       "    .dataframe tbody tr th:only-of-type {\n",
       "        vertical-align: middle;\n",
       "    }\n",
       "\n",
       "    .dataframe tbody tr th {\n",
       "        vertical-align: top;\n",
       "    }\n",
       "\n",
       "    .dataframe thead th {\n",
       "        text-align: right;\n",
       "    }\n",
       "</style>\n",
       "<table border=\"1\" class=\"dataframe\">\n",
       "  <thead>\n",
       "    <tr style=\"text-align: right;\">\n",
       "      <th></th>\n",
       "      <th>smiles</th>\n",
       "      <th>y_expected</th>\n",
       "      <th>y_predicted</th>\n",
       "      <th>error</th>\n",
       "    </tr>\n",
       "  </thead>\n",
       "  <tbody>\n",
       "    <tr>\n",
       "      <th>1677</th>\n",
       "      <td>COC(=O)c1cnc2n(c1=O)C(C)CCC2</td>\n",
       "      <td>0.16</td>\n",
       "      <td>0.159930</td>\n",
       "      <td>4.830562e-09</td>\n",
       "    </tr>\n",
       "    <tr>\n",
       "      <th>1534</th>\n",
       "      <td>Cc1nnc2n1-c1ccc(Cl)cc1C(c1ccccc1Cl)=NC2</td>\n",
       "      <td>2.42</td>\n",
       "      <td>2.420206</td>\n",
       "      <td>4.261877e-08</td>\n",
       "    </tr>\n",
       "    <tr>\n",
       "      <th>1079</th>\n",
       "      <td>NC(=O)c1cnc2n(c1=O)CCCC2</td>\n",
       "      <td>-0.38</td>\n",
       "      <td>-0.380800</td>\n",
       "      <td>6.396566e-07</td>\n",
       "    </tr>\n",
       "    <tr>\n",
       "      <th>420</th>\n",
       "      <td>Oc1ccc(O)n1-c1ccccc1Br</td>\n",
       "      <td>0.65</td>\n",
       "      <td>0.650861</td>\n",
       "      <td>7.406896e-07</td>\n",
       "    </tr>\n",
       "    <tr>\n",
       "      <th>1182</th>\n",
       "      <td>Clc1cc(Cl)c2oc3c(Cl)c(Cl)c(Cl)cc3c2c1</td>\n",
       "      <td>6.59</td>\n",
       "      <td>6.589064</td>\n",
       "      <td>8.762668e-07</td>\n",
       "    </tr>\n",
       "  </tbody>\n",
       "</table>\n",
       "</div>"
      ],
      "text/plain": [
       "                                       smiles  y_expected  y_predicted  \\\n",
       "1677             COC(=O)c1cnc2n(c1=O)C(C)CCC2        0.16     0.159930   \n",
       "1534  Cc1nnc2n1-c1ccc(Cl)cc1C(c1ccccc1Cl)=NC2        2.42     2.420206   \n",
       "1079                 NC(=O)c1cnc2n(c1=O)CCCC2       -0.38    -0.380800   \n",
       "420                    Oc1ccc(O)n1-c1ccccc1Br        0.65     0.650861   \n",
       "1182    Clc1cc(Cl)c2oc3c(Cl)c(Cl)c(Cl)cc3c2c1        6.59     6.589064   \n",
       "\n",
       "             error  \n",
       "1677  4.830562e-09  \n",
       "1534  4.261877e-08  \n",
       "1079  6.396566e-07  \n",
       "420   7.406896e-07  \n",
       "1182  8.762668e-07  "
      ]
     },
     "execution_count": 11,
     "metadata": {},
     "output_type": "execute_result"
    }
   ],
   "source": [
    "compare_data.sort_values(by=['error'], ascending=True).head()"
   ]
  },
  {
   "cell_type": "code",
   "execution_count": 12,
   "metadata": {},
   "outputs": [
    {
     "data": {
      "image/png": "[encoded data removed]",
      "text/plain": [
       "<rdkit.Chem.rdchem.Mol at 0x19356406a30>"
      ]
     },
     "metadata": {},
     "output_type": "display_data"
    },
    {
     "data": {
      "image/png": "[encoded data removed]",
      "text/plain": [
       "<rdkit.Chem.rdchem.Mol at 0x19356406a30>"
      ]
     },
     "metadata": {},
     "output_type": "display_data"
    },
    {
     "data": {
      "image/png": "[encoded data removed]",
      "text/plain": [
       "<rdkit.Chem.rdchem.Mol at 0x19356406a30>"
      ]
     },
     "metadata": {},
     "output_type": "display_data"
    },
    {
     "data": {
      "image/png": "[encoded data removed]",
      "text/plain": [
       "<rdkit.Chem.rdchem.Mol at 0x19356406a30>"
      ]
     },
     "metadata": {},
     "output_type": "display_data"
    },
    {
     "data": {
      "image/png": "[encoded data removed]",
      "text/plain": [
       "<rdkit.Chem.rdchem.Mol at 0x19356406a30>"
      ]
     },
     "metadata": {},
     "output_type": "display_data"
    }
   ],
   "source": [
    "for mol in compare_data.sort_values(by=['error'], ascending=False).head().smiles:\n",
    "    mol = Chem.MolFromSmiles(mol)\n",
    "    display(mol)"
   ]
  },
  {
   "cell_type": "code",
   "execution_count": 13,
   "metadata": {},
   "outputs": [
    {
     "data": {
      "image/png": "[encoded data removed]",
      "text/plain": [
       "<rdkit.Chem.rdchem.Mol at 0x19356406a30>"
      ]
     },
     "metadata": {},
     "output_type": "display_data"
    },
    {
     "data": {
      "image/png": "[encoded data removed]",
      "text/plain": [
       "<rdkit.Chem.rdchem.Mol at 0x19356406a30>"
      ]
     },
     "metadata": {},
     "output_type": "display_data"
    },
    {
     "data": {
      "image/png": "[encoded data removed]",
      "text/plain": [
       "<rdkit.Chem.rdchem.Mol at 0x19356406a30>"
      ]
     },
     "metadata": {},
     "output_type": "display_data"
    },
    {
     "data": {
      "image/png": "[encoded data removed]",
      "text/plain": [
       "<rdkit.Chem.rdchem.Mol at 0x19356406a30>"
      ]
     },
     "metadata": {},
     "output_type": "display_data"
    },
    {
     "data": {
      "image/png": "[encoded data removed]",
      "text/plain": [
       "<rdkit.Chem.rdchem.Mol at 0x19356406a30>"
      ]
     },
     "metadata": {},
     "output_type": "display_data"
    }
   ],
   "source": [
    "for mol in compare_data.sort_values(by=['error'], ascending=True).head().smiles:\n",
    "    mol = Chem.MolFromSmiles(mol)\n",
    "    display(mol)"
   ]
  },
  {
   "cell_type": "code",
   "execution_count": 14,
   "metadata": {},
   "outputs": [],
   "source": [
    "compare_data = compare_data.sort_values(by=['error'])"
   ]
  },
  {
   "cell_type": "markdown",
   "metadata": {},
   "source": [
    "## Creating comparing function\n",
    "### The features to compare:\n",
    "- The count of atoms\n",
    "- The count of rings\n",
    "- The count of not organogens atoms\n",
    "- The percent of not organogens atoms\n",
    "- The percent of aromatic (benzene) rings out of all rings\n",
    "- The count and percent of aromatic bonds\n",
    "- The symmetry of molecules"
   ]
  },
  {
   "cell_type": "code",
   "execution_count": 15,
   "metadata": {},
   "outputs": [],
   "source": [
    "def create_statistics(vals):\n",
    "    values = vals.copy()\n",
    "    mols = [Chem.MolFromSmiles(x) for x in values.smiles]\n",
    "    \n",
    "    atom_count = [mol.GetNumAtoms() for mol in mols]\n",
    "    values['atom_count'] = pd.Series(atom_count)\n",
    "    \n",
    "    values['ring_count'] = pd.Series([mol.GetRingInfo().NumRings() for mol in mols])\n",
    "    \n",
    "    mol_atoms = [mol.GetAtoms() for mol in mols]\n",
    "    non_simple_atom_count = [sum((num.GetAtomicNum() not in [1, 6, 8, 7]) for num in m_atoms) for m_atoms in mol_atoms]\n",
    "    values['non_organogens_count'] = pd.Series(non_simple_atom_count)\n",
    "    \n",
    "    values['non_organogens_percent'] = values.non_organogens_count / values.atom_count *100\n",
    "    \n",
    "    benzene_smiles = 'C1=CC=CC=C1'\n",
    "    pattern = Chem.MolFromSmiles(benzene_smiles)\n",
    "    values['aromatic_count'] = pd.Series([len(mol.GetSubstructMatches(pattern)) for mol in mols])\n",
    "    \n",
    "    values['aromatic_rings_percent'] = values.aromatic_count / values.ring_count *100\n",
    "    values['aromatic_rings_percent'] = values['aromatic_rings_percent'].fillna(0)\n",
    "    \n",
    "    values['bond_count'] =  [len(mol.GetBonds()) for mol in mols]\n",
    "    values['aromatic_bond_count'] = [sum(bond.GetIsAromatic() for bond in mol.GetBonds()) for mol in mols]\n",
    "    values['aromatic_bond_percent'] = values.aromatic_bond_count / values.bond_count * 100\n",
    "    \n",
    "    values_list = [pd.Series(Chem.CanonicalRankAtoms(mol, breakTies=False)).value_counts() for mol in mols]\n",
    "    values['is_symmetric'] =  [(len(values) - 1 <= len(values[values % 2 == 0])) or (len(values) - 1 <= len(values[(values % 2 == 1) & (values > 1)])) for values in values_list]\n",
    "    \n",
    "    return values"
   ]
  },
  {
   "cell_type": "markdown",
   "metadata": {},
   "source": [
    "## Analyzing the data features"
   ]
  },
  {
   "cell_type": "code",
   "execution_count": 16,
   "metadata": {},
   "outputs": [],
   "source": [
    "compare_data_with_stats = create_statistics(compare_data)"
   ]
  },
  {
   "cell_type": "code",
   "execution_count": 17,
   "metadata": {},
   "outputs": [
    {
     "data": {
      "text/html": [
       "<div>\n",
       "<style scoped>\n",
       "    .dataframe tbody tr th:only-of-type {\n",
       "        vertical-align: middle;\n",
       "    }\n",
       "\n",
       "    .dataframe tbody tr th {\n",
       "        vertical-align: top;\n",
       "    }\n",
       "\n",
       "    .dataframe thead th {\n",
       "        text-align: right;\n",
       "    }\n",
       "</style>\n",
       "<table border=\"1\" class=\"dataframe\">\n",
       "  <thead>\n",
       "    <tr style=\"text-align: right;\">\n",
       "      <th></th>\n",
       "      <th>smiles</th>\n",
       "      <th>y_expected</th>\n",
       "      <th>y_predicted</th>\n",
       "      <th>error</th>\n",
       "      <th>atom_count</th>\n",
       "      <th>ring_count</th>\n",
       "      <th>non_organogens_count</th>\n",
       "      <th>non_organogens_percent</th>\n",
       "      <th>aromatic_count</th>\n",
       "      <th>aromatic_rings_percent</th>\n",
       "      <th>bond_count</th>\n",
       "      <th>aromatic_bond_count</th>\n",
       "      <th>aromatic_bond_percent</th>\n",
       "      <th>is_symmetric</th>\n",
       "    </tr>\n",
       "  </thead>\n",
       "  <tbody>\n",
       "    <tr>\n",
       "      <th>1677</th>\n",
       "      <td>COC(=O)c1cnc2n(c1=O)C(C)CCC2</td>\n",
       "      <td>0.16</td>\n",
       "      <td>0.159930</td>\n",
       "      <td>4.830562e-09</td>\n",
       "      <td>5</td>\n",
       "      <td>1</td>\n",
       "      <td>0</td>\n",
       "      <td>0.0</td>\n",
       "      <td>0</td>\n",
       "      <td>0.000000</td>\n",
       "      <td>17</td>\n",
       "      <td>6</td>\n",
       "      <td>35.294118</td>\n",
       "      <td>False</td>\n",
       "    </tr>\n",
       "    <tr>\n",
       "      <th>1534</th>\n",
       "      <td>Cc1nnc2n1-c1ccc(Cl)cc1C(c1ccccc1Cl)=NC2</td>\n",
       "      <td>2.42</td>\n",
       "      <td>2.420206</td>\n",
       "      <td>4.261877e-08</td>\n",
       "      <td>15</td>\n",
       "      <td>2</td>\n",
       "      <td>0</td>\n",
       "      <td>0.0</td>\n",
       "      <td>2</td>\n",
       "      <td>100.000000</td>\n",
       "      <td>26</td>\n",
       "      <td>17</td>\n",
       "      <td>65.384615</td>\n",
       "      <td>False</td>\n",
       "    </tr>\n",
       "    <tr>\n",
       "      <th>1079</th>\n",
       "      <td>NC(=O)c1cnc2n(c1=O)CCCC2</td>\n",
       "      <td>-0.38</td>\n",
       "      <td>-0.380800</td>\n",
       "      <td>6.396566e-07</td>\n",
       "      <td>26</td>\n",
       "      <td>3</td>\n",
       "      <td>0</td>\n",
       "      <td>0.0</td>\n",
       "      <td>1</td>\n",
       "      <td>33.333333</td>\n",
       "      <td>15</td>\n",
       "      <td>6</td>\n",
       "      <td>40.000000</td>\n",
       "      <td>False</td>\n",
       "    </tr>\n",
       "    <tr>\n",
       "      <th>420</th>\n",
       "      <td>Oc1ccc(O)n1-c1ccccc1Br</td>\n",
       "      <td>0.65</td>\n",
       "      <td>0.650861</td>\n",
       "      <td>7.406896e-07</td>\n",
       "      <td>57</td>\n",
       "      <td>4</td>\n",
       "      <td>0</td>\n",
       "      <td>0.0</td>\n",
       "      <td>1</td>\n",
       "      <td>25.000000</td>\n",
       "      <td>15</td>\n",
       "      <td>11</td>\n",
       "      <td>73.333333</td>\n",
       "      <td>False</td>\n",
       "    </tr>\n",
       "    <tr>\n",
       "      <th>1182</th>\n",
       "      <td>Clc1cc(Cl)c2oc3c(Cl)c(Cl)c(Cl)cc3c2c1</td>\n",
       "      <td>6.59</td>\n",
       "      <td>6.589064</td>\n",
       "      <td>8.762668e-07</td>\n",
       "      <td>8</td>\n",
       "      <td>1</td>\n",
       "      <td>0</td>\n",
       "      <td>0.0</td>\n",
       "      <td>0</td>\n",
       "      <td>0.000000</td>\n",
       "      <td>20</td>\n",
       "      <td>15</td>\n",
       "      <td>75.000000</td>\n",
       "      <td>False</td>\n",
       "    </tr>\n",
       "  </tbody>\n",
       "</table>\n",
       "</div>"
      ],
      "text/plain": [
       "                                       smiles  y_expected  y_predicted  \\\n",
       "1677             COC(=O)c1cnc2n(c1=O)C(C)CCC2        0.16     0.159930   \n",
       "1534  Cc1nnc2n1-c1ccc(Cl)cc1C(c1ccccc1Cl)=NC2        2.42     2.420206   \n",
       "1079                 NC(=O)c1cnc2n(c1=O)CCCC2       -0.38    -0.380800   \n",
       "420                    Oc1ccc(O)n1-c1ccccc1Br        0.65     0.650861   \n",
       "1182    Clc1cc(Cl)c2oc3c(Cl)c(Cl)c(Cl)cc3c2c1        6.59     6.589064   \n",
       "\n",
       "             error  atom_count  ring_count  non_organogens_count  \\\n",
       "1677  4.830562e-09           5           1                     0   \n",
       "1534  4.261877e-08          15           2                     0   \n",
       "1079  6.396566e-07          26           3                     0   \n",
       "420   7.406896e-07          57           4                     0   \n",
       "1182  8.762668e-07           8           1                     0   \n",
       "\n",
       "      non_organogens_percent  aromatic_count  aromatic_rings_percent  \\\n",
       "1677                     0.0               0                0.000000   \n",
       "1534                     0.0               2              100.000000   \n",
       "1079                     0.0               1               33.333333   \n",
       "420                      0.0               1               25.000000   \n",
       "1182                     0.0               0                0.000000   \n",
       "\n",
       "      bond_count  aromatic_bond_count  aromatic_bond_percent  is_symmetric  \n",
       "1677          17                    6              35.294118         False  \n",
       "1534          26                   17              65.384615         False  \n",
       "1079          15                    6              40.000000         False  \n",
       "420           15                   11              73.333333         False  \n",
       "1182          20                   15              75.000000         False  "
      ]
     },
     "execution_count": 17,
     "metadata": {},
     "output_type": "execute_result"
    }
   ],
   "source": [
    "compare_data_with_stats.head()"
   ]
  },
  {
   "cell_type": "markdown",
   "metadata": {},
   "source": [
    "#### Splitting data into 3 parts"
   ]
  },
  {
   "cell_type": "code",
   "execution_count": 18,
   "metadata": {},
   "outputs": [],
   "source": [
    "data = []\n",
    "for i in range(3):\n",
    "    data.append(compare_data_with_stats.take([j for j in range(i * 1894 // 3, min((i + 1) * 1894 // 3, 1894))]))"
   ]
  },
  {
   "cell_type": "code",
   "execution_count": 19,
   "metadata": {
    "scrolled": false
   },
   "outputs": [
    {
     "data": {
      "text/html": [
       "<div>\n",
       "<style scoped>\n",
       "    .dataframe tbody tr th:only-of-type {\n",
       "        vertical-align: middle;\n",
       "    }\n",
       "\n",
       "    .dataframe tbody tr th {\n",
       "        vertical-align: top;\n",
       "    }\n",
       "\n",
       "    .dataframe thead th {\n",
       "        text-align: right;\n",
       "    }\n",
       "</style>\n",
       "<table border=\"1\" class=\"dataframe\">\n",
       "  <thead>\n",
       "    <tr style=\"text-align: right;\">\n",
       "      <th></th>\n",
       "      <th>y_expected</th>\n",
       "      <th>y_predicted</th>\n",
       "      <th>error</th>\n",
       "      <th>atom_count</th>\n",
       "      <th>ring_count</th>\n",
       "      <th>non_organogens_count</th>\n",
       "      <th>non_organogens_percent</th>\n",
       "      <th>aromatic_count</th>\n",
       "      <th>aromatic_rings_percent</th>\n",
       "      <th>bond_count</th>\n",
       "      <th>aromatic_bond_count</th>\n",
       "      <th>aromatic_bond_percent</th>\n",
       "    </tr>\n",
       "  </thead>\n",
       "  <tbody>\n",
       "    <tr>\n",
       "      <th>count</th>\n",
       "      <td>631.000000</td>\n",
       "      <td>631.000000</td>\n",
       "      <td>6.310000e+02</td>\n",
       "      <td>631.000000</td>\n",
       "      <td>631.000000</td>\n",
       "      <td>631.000000</td>\n",
       "      <td>631.000000</td>\n",
       "      <td>631.000000</td>\n",
       "      <td>631.000000</td>\n",
       "      <td>631.000000</td>\n",
       "      <td>631.000000</td>\n",
       "      <td>631.000000</td>\n",
       "    </tr>\n",
       "    <tr>\n",
       "      <th>mean</th>\n",
       "      <td>1.778288</td>\n",
       "      <td>1.778849</td>\n",
       "      <td>1.288172e-02</td>\n",
       "      <td>16.356577</td>\n",
       "      <td>1.683043</td>\n",
       "      <td>0.879556</td>\n",
       "      <td>5.579299</td>\n",
       "      <td>0.863708</td>\n",
       "      <td>50.781828</td>\n",
       "      <td>16.217116</td>\n",
       "      <td>6.960380</td>\n",
       "      <td>43.995403</td>\n",
       "    </tr>\n",
       "    <tr>\n",
       "      <th>std</th>\n",
       "      <td>1.633597</td>\n",
       "      <td>1.629728</td>\n",
       "      <td>1.208160e-02</td>\n",
       "      <td>6.385098</td>\n",
       "      <td>1.003651</td>\n",
       "      <td>1.366752</td>\n",
       "      <td>8.695894</td>\n",
       "      <td>0.760408</td>\n",
       "      <td>42.086203</td>\n",
       "      <td>7.063797</td>\n",
       "      <td>4.081707</td>\n",
       "      <td>23.058914</td>\n",
       "    </tr>\n",
       "    <tr>\n",
       "      <th>min</th>\n",
       "      <td>-3.640000</td>\n",
       "      <td>-3.622343</td>\n",
       "      <td>4.830562e-09</td>\n",
       "      <td>5.000000</td>\n",
       "      <td>0.000000</td>\n",
       "      <td>0.000000</td>\n",
       "      <td>0.000000</td>\n",
       "      <td>0.000000</td>\n",
       "      <td>0.000000</td>\n",
       "      <td>4.000000</td>\n",
       "      <td>0.000000</td>\n",
       "      <td>0.000000</td>\n",
       "    </tr>\n",
       "    <tr>\n",
       "      <th>25%</th>\n",
       "      <td>0.665000</td>\n",
       "      <td>0.645564</td>\n",
       "      <td>2.210470e-03</td>\n",
       "      <td>12.000000</td>\n",
       "      <td>1.000000</td>\n",
       "      <td>0.000000</td>\n",
       "      <td>0.000000</td>\n",
       "      <td>0.000000</td>\n",
       "      <td>0.000000</td>\n",
       "      <td>11.000000</td>\n",
       "      <td>6.000000</td>\n",
       "      <td>31.578947</td>\n",
       "    </tr>\n",
       "    <tr>\n",
       "      <th>50%</th>\n",
       "      <td>1.690000</td>\n",
       "      <td>1.718518</td>\n",
       "      <td>8.920644e-03</td>\n",
       "      <td>16.000000</td>\n",
       "      <td>2.000000</td>\n",
       "      <td>0.000000</td>\n",
       "      <td>0.000000</td>\n",
       "      <td>1.000000</td>\n",
       "      <td>50.000000</td>\n",
       "      <td>15.000000</td>\n",
       "      <td>6.000000</td>\n",
       "      <td>46.153846</td>\n",
       "    </tr>\n",
       "    <tr>\n",
       "      <th>75%</th>\n",
       "      <td>2.705000</td>\n",
       "      <td>2.724022</td>\n",
       "      <td>2.212398e-02</td>\n",
       "      <td>19.000000</td>\n",
       "      <td>2.000000</td>\n",
       "      <td>1.000000</td>\n",
       "      <td>9.090909</td>\n",
       "      <td>1.000000</td>\n",
       "      <td>100.000000</td>\n",
       "      <td>19.000000</td>\n",
       "      <td>10.000000</td>\n",
       "      <td>60.000000</td>\n",
       "    </tr>\n",
       "    <tr>\n",
       "      <th>max</th>\n",
       "      <td>8.050000</td>\n",
       "      <td>7.961444</td>\n",
       "      <td>4.319726e-02</td>\n",
       "      <td>57.000000</td>\n",
       "      <td>6.000000</td>\n",
       "      <td>9.000000</td>\n",
       "      <td>60.000000</td>\n",
       "      <td>5.000000</td>\n",
       "      <td>100.000000</td>\n",
       "      <td>60.000000</td>\n",
       "      <td>27.000000</td>\n",
       "      <td>100.000000</td>\n",
       "    </tr>\n",
       "  </tbody>\n",
       "</table>\n",
       "</div>"
      ],
      "text/plain": [
       "       y_expected  y_predicted         error  atom_count  ring_count  \\\n",
       "count  631.000000   631.000000  6.310000e+02  631.000000  631.000000   \n",
       "mean     1.778288     1.778849  1.288172e-02   16.356577    1.683043   \n",
       "std      1.633597     1.629728  1.208160e-02    6.385098    1.003651   \n",
       "min     -3.640000    -3.622343  4.830562e-09    5.000000    0.000000   \n",
       "25%      0.665000     0.645564  2.210470e-03   12.000000    1.000000   \n",
       "50%      1.690000     1.718518  8.920644e-03   16.000000    2.000000   \n",
       "75%      2.705000     2.724022  2.212398e-02   19.000000    2.000000   \n",
       "max      8.050000     7.961444  4.319726e-02   57.000000    6.000000   \n",
       "\n",
       "       non_organogens_count  non_organogens_percent  aromatic_count  \\\n",
       "count            631.000000              631.000000      631.000000   \n",
       "mean               0.879556                5.579299        0.863708   \n",
       "std                1.366752                8.695894        0.760408   \n",
       "min                0.000000                0.000000        0.000000   \n",
       "25%                0.000000                0.000000        0.000000   \n",
       "50%                0.000000                0.000000        1.000000   \n",
       "75%                1.000000                9.090909        1.000000   \n",
       "max                9.000000               60.000000        5.000000   \n",
       "\n",
       "       aromatic_rings_percent  bond_count  aromatic_bond_count  \\\n",
       "count              631.000000  631.000000           631.000000   \n",
       "mean                50.781828   16.217116             6.960380   \n",
       "std                 42.086203    7.063797             4.081707   \n",
       "min                  0.000000    4.000000             0.000000   \n",
       "25%                  0.000000   11.000000             6.000000   \n",
       "50%                 50.000000   15.000000             6.000000   \n",
       "75%                100.000000   19.000000            10.000000   \n",
       "max                100.000000   60.000000            27.000000   \n",
       "\n",
       "       aromatic_bond_percent  \n",
       "count             631.000000  \n",
       "mean               43.995403  \n",
       "std                23.058914  \n",
       "min                 0.000000  \n",
       "25%                31.578947  \n",
       "50%                46.153846  \n",
       "75%                60.000000  \n",
       "max               100.000000  "
      ]
     },
     "execution_count": 19,
     "metadata": {},
     "output_type": "execute_result"
    }
   ],
   "source": [
    "data[0].describe()"
   ]
  },
  {
   "cell_type": "code",
   "execution_count": 20,
   "metadata": {
    "scrolled": true
   },
   "outputs": [
    {
     "data": {
      "text/html": [
       "<div>\n",
       "<style scoped>\n",
       "    .dataframe tbody tr th:only-of-type {\n",
       "        vertical-align: middle;\n",
       "    }\n",
       "\n",
       "    .dataframe tbody tr th {\n",
       "        vertical-align: top;\n",
       "    }\n",
       "\n",
       "    .dataframe thead th {\n",
       "        text-align: right;\n",
       "    }\n",
       "</style>\n",
       "<table border=\"1\" class=\"dataframe\">\n",
       "  <thead>\n",
       "    <tr style=\"text-align: right;\">\n",
       "      <th></th>\n",
       "      <th>y_expected</th>\n",
       "      <th>y_predicted</th>\n",
       "      <th>error</th>\n",
       "      <th>atom_count</th>\n",
       "      <th>ring_count</th>\n",
       "      <th>non_organogens_count</th>\n",
       "      <th>non_organogens_percent</th>\n",
       "      <th>aromatic_count</th>\n",
       "      <th>aromatic_rings_percent</th>\n",
       "      <th>bond_count</th>\n",
       "      <th>aromatic_bond_count</th>\n",
       "      <th>aromatic_bond_percent</th>\n",
       "    </tr>\n",
       "  </thead>\n",
       "  <tbody>\n",
       "    <tr>\n",
       "      <th>count</th>\n",
       "      <td>631.000000</td>\n",
       "      <td>631.000000</td>\n",
       "      <td>631.000000</td>\n",
       "      <td>631.000000</td>\n",
       "      <td>631.000000</td>\n",
       "      <td>631.000000</td>\n",
       "      <td>631.000000</td>\n",
       "      <td>631.000000</td>\n",
       "      <td>631.000000</td>\n",
       "      <td>631.000000</td>\n",
       "      <td>631.000000</td>\n",
       "      <td>631.000000</td>\n",
       "    </tr>\n",
       "    <tr>\n",
       "      <th>mean</th>\n",
       "      <td>1.965166</td>\n",
       "      <td>1.945996</td>\n",
       "      <td>0.123487</td>\n",
       "      <td>16.679873</td>\n",
       "      <td>1.646593</td>\n",
       "      <td>0.958796</td>\n",
       "      <td>6.406167</td>\n",
       "      <td>0.843106</td>\n",
       "      <td>51.329900</td>\n",
       "      <td>16.988906</td>\n",
       "      <td>7.481775</td>\n",
       "      <td>45.113470</td>\n",
       "    </tr>\n",
       "    <tr>\n",
       "      <th>std</th>\n",
       "      <td>1.696107</td>\n",
       "      <td>1.685439</td>\n",
       "      <td>0.057411</td>\n",
       "      <td>7.716950</td>\n",
       "      <td>1.132626</td>\n",
       "      <td>1.430356</td>\n",
       "      <td>9.904532</td>\n",
       "      <td>0.769939</td>\n",
       "      <td>43.029792</td>\n",
       "      <td>7.323470</td>\n",
       "      <td>4.311215</td>\n",
       "      <td>23.132395</td>\n",
       "    </tr>\n",
       "    <tr>\n",
       "      <th>min</th>\n",
       "      <td>-2.190000</td>\n",
       "      <td>-1.911653</td>\n",
       "      <td>0.043357</td>\n",
       "      <td>5.000000</td>\n",
       "      <td>0.000000</td>\n",
       "      <td>0.000000</td>\n",
       "      <td>0.000000</td>\n",
       "      <td>0.000000</td>\n",
       "      <td>0.000000</td>\n",
       "      <td>4.000000</td>\n",
       "      <td>0.000000</td>\n",
       "      <td>0.000000</td>\n",
       "    </tr>\n",
       "    <tr>\n",
       "      <th>25%</th>\n",
       "      <td>0.800000</td>\n",
       "      <td>0.745417</td>\n",
       "      <td>0.074327</td>\n",
       "      <td>12.000000</td>\n",
       "      <td>1.000000</td>\n",
       "      <td>0.000000</td>\n",
       "      <td>0.000000</td>\n",
       "      <td>0.000000</td>\n",
       "      <td>0.000000</td>\n",
       "      <td>12.000000</td>\n",
       "      <td>6.000000</td>\n",
       "      <td>31.578947</td>\n",
       "    </tr>\n",
       "    <tr>\n",
       "      <th>50%</th>\n",
       "      <td>1.780000</td>\n",
       "      <td>1.769286</td>\n",
       "      <td>0.110632</td>\n",
       "      <td>16.000000</td>\n",
       "      <td>1.000000</td>\n",
       "      <td>0.000000</td>\n",
       "      <td>0.000000</td>\n",
       "      <td>1.000000</td>\n",
       "      <td>50.000000</td>\n",
       "      <td>16.000000</td>\n",
       "      <td>6.000000</td>\n",
       "      <td>46.153846</td>\n",
       "    </tr>\n",
       "    <tr>\n",
       "      <th>75%</th>\n",
       "      <td>2.960000</td>\n",
       "      <td>2.976560</td>\n",
       "      <td>0.167256</td>\n",
       "      <td>20.000000</td>\n",
       "      <td>2.000000</td>\n",
       "      <td>1.000000</td>\n",
       "      <td>9.307359</td>\n",
       "      <td>1.000000</td>\n",
       "      <td>100.000000</td>\n",
       "      <td>20.000000</td>\n",
       "      <td>11.000000</td>\n",
       "      <td>60.000000</td>\n",
       "    </tr>\n",
       "    <tr>\n",
       "      <th>max</th>\n",
       "      <td>8.010000</td>\n",
       "      <td>8.286664</td>\n",
       "      <td>0.249056</td>\n",
       "      <td>85.000000</td>\n",
       "      <td>8.000000</td>\n",
       "      <td>9.000000</td>\n",
       "      <td>80.000000</td>\n",
       "      <td>6.000000</td>\n",
       "      <td>100.000000</td>\n",
       "      <td>65.000000</td>\n",
       "      <td>26.000000</td>\n",
       "      <td>100.000000</td>\n",
       "    </tr>\n",
       "  </tbody>\n",
       "</table>\n",
       "</div>"
      ],
      "text/plain": [
       "       y_expected  y_predicted       error  atom_count  ring_count  \\\n",
       "count  631.000000   631.000000  631.000000  631.000000  631.000000   \n",
       "mean     1.965166     1.945996    0.123487   16.679873    1.646593   \n",
       "std      1.696107     1.685439    0.057411    7.716950    1.132626   \n",
       "min     -2.190000    -1.911653    0.043357    5.000000    0.000000   \n",
       "25%      0.800000     0.745417    0.074327   12.000000    1.000000   \n",
       "50%      1.780000     1.769286    0.110632   16.000000    1.000000   \n",
       "75%      2.960000     2.976560    0.167256   20.000000    2.000000   \n",
       "max      8.010000     8.286664    0.249056   85.000000    8.000000   \n",
       "\n",
       "       non_organogens_count  non_organogens_percent  aromatic_count  \\\n",
       "count            631.000000              631.000000      631.000000   \n",
       "mean               0.958796                6.406167        0.843106   \n",
       "std                1.430356                9.904532        0.769939   \n",
       "min                0.000000                0.000000        0.000000   \n",
       "25%                0.000000                0.000000        0.000000   \n",
       "50%                0.000000                0.000000        1.000000   \n",
       "75%                1.000000                9.307359        1.000000   \n",
       "max                9.000000               80.000000        6.000000   \n",
       "\n",
       "       aromatic_rings_percent  bond_count  aromatic_bond_count  \\\n",
       "count              631.000000  631.000000           631.000000   \n",
       "mean                51.329900   16.988906             7.481775   \n",
       "std                 43.029792    7.323470             4.311215   \n",
       "min                  0.000000    4.000000             0.000000   \n",
       "25%                  0.000000   12.000000             6.000000   \n",
       "50%                 50.000000   16.000000             6.000000   \n",
       "75%                100.000000   20.000000            11.000000   \n",
       "max                100.000000   65.000000            26.000000   \n",
       "\n",
       "       aromatic_bond_percent  \n",
       "count             631.000000  \n",
       "mean               45.113470  \n",
       "std                23.132395  \n",
       "min                 0.000000  \n",
       "25%                31.578947  \n",
       "50%                46.153846  \n",
       "75%                60.000000  \n",
       "max               100.000000  "
      ]
     },
     "execution_count": 20,
     "metadata": {},
     "output_type": "execute_result"
    }
   ],
   "source": [
    "data[1].describe()"
   ]
  },
  {
   "cell_type": "code",
   "execution_count": 21,
   "metadata": {
    "scrolled": false
   },
   "outputs": [
    {
     "data": {
      "text/html": [
       "<div>\n",
       "<style scoped>\n",
       "    .dataframe tbody tr th:only-of-type {\n",
       "        vertical-align: middle;\n",
       "    }\n",
       "\n",
       "    .dataframe tbody tr th {\n",
       "        vertical-align: top;\n",
       "    }\n",
       "\n",
       "    .dataframe thead th {\n",
       "        text-align: right;\n",
       "    }\n",
       "</style>\n",
       "<table border=\"1\" class=\"dataframe\">\n",
       "  <thead>\n",
       "    <tr style=\"text-align: right;\">\n",
       "      <th></th>\n",
       "      <th>y_expected</th>\n",
       "      <th>y_predicted</th>\n",
       "      <th>error</th>\n",
       "      <th>atom_count</th>\n",
       "      <th>ring_count</th>\n",
       "      <th>non_organogens_count</th>\n",
       "      <th>non_organogens_percent</th>\n",
       "      <th>aromatic_count</th>\n",
       "      <th>aromatic_rings_percent</th>\n",
       "      <th>bond_count</th>\n",
       "      <th>aromatic_bond_count</th>\n",
       "      <th>aromatic_bond_percent</th>\n",
       "    </tr>\n",
       "  </thead>\n",
       "  <tbody>\n",
       "    <tr>\n",
       "      <th>count</th>\n",
       "      <td>632.000000</td>\n",
       "      <td>632.000000</td>\n",
       "      <td>632.000000</td>\n",
       "      <td>632.000000</td>\n",
       "      <td>632.000000</td>\n",
       "      <td>632.000000</td>\n",
       "      <td>632.000000</td>\n",
       "      <td>632.000000</td>\n",
       "      <td>632.000000</td>\n",
       "      <td>632.000000</td>\n",
       "      <td>632.000000</td>\n",
       "      <td>632.000000</td>\n",
       "    </tr>\n",
       "    <tr>\n",
       "      <th>mean</th>\n",
       "      <td>2.368838</td>\n",
       "      <td>2.310463</td>\n",
       "      <td>1.199086</td>\n",
       "      <td>16.398734</td>\n",
       "      <td>1.705696</td>\n",
       "      <td>0.780063</td>\n",
       "      <td>5.074059</td>\n",
       "      <td>0.911392</td>\n",
       "      <td>55.245253</td>\n",
       "      <td>18.245253</td>\n",
       "      <td>7.226266</td>\n",
       "      <td>40.377282</td>\n",
       "    </tr>\n",
       "    <tr>\n",
       "      <th>std</th>\n",
       "      <td>2.038885</td>\n",
       "      <td>1.800441</td>\n",
       "      <td>1.705490</td>\n",
       "      <td>6.939348</td>\n",
       "      <td>1.150525</td>\n",
       "      <td>1.214303</td>\n",
       "      <td>8.461893</td>\n",
       "      <td>0.781155</td>\n",
       "      <td>42.952188</td>\n",
       "      <td>8.807412</td>\n",
       "      <td>5.084179</td>\n",
       "      <td>26.681597</td>\n",
       "    </tr>\n",
       "    <tr>\n",
       "      <th>min</th>\n",
       "      <td>-3.890000</td>\n",
       "      <td>-3.187424</td>\n",
       "      <td>0.249153</td>\n",
       "      <td>5.000000</td>\n",
       "      <td>0.000000</td>\n",
       "      <td>0.000000</td>\n",
       "      <td>0.000000</td>\n",
       "      <td>0.000000</td>\n",
       "      <td>0.000000</td>\n",
       "      <td>4.000000</td>\n",
       "      <td>0.000000</td>\n",
       "      <td>0.000000</td>\n",
       "    </tr>\n",
       "    <tr>\n",
       "      <th>25%</th>\n",
       "      <td>0.990000</td>\n",
       "      <td>1.129817</td>\n",
       "      <td>0.384252</td>\n",
       "      <td>12.000000</td>\n",
       "      <td>1.000000</td>\n",
       "      <td>0.000000</td>\n",
       "      <td>0.000000</td>\n",
       "      <td>0.000000</td>\n",
       "      <td>0.000000</td>\n",
       "      <td>13.000000</td>\n",
       "      <td>5.000000</td>\n",
       "      <td>24.000000</td>\n",
       "    </tr>\n",
       "    <tr>\n",
       "      <th>50%</th>\n",
       "      <td>2.315000</td>\n",
       "      <td>2.162903</td>\n",
       "      <td>0.661232</td>\n",
       "      <td>16.000000</td>\n",
       "      <td>1.000000</td>\n",
       "      <td>0.000000</td>\n",
       "      <td>0.000000</td>\n",
       "      <td>1.000000</td>\n",
       "      <td>50.000000</td>\n",
       "      <td>17.000000</td>\n",
       "      <td>6.000000</td>\n",
       "      <td>42.857143</td>\n",
       "    </tr>\n",
       "    <tr>\n",
       "      <th>75%</th>\n",
       "      <td>3.642500</td>\n",
       "      <td>3.384488</td>\n",
       "      <td>1.367347</td>\n",
       "      <td>19.000000</td>\n",
       "      <td>2.000000</td>\n",
       "      <td>1.000000</td>\n",
       "      <td>7.692308</td>\n",
       "      <td>1.000000</td>\n",
       "      <td>100.000000</td>\n",
       "      <td>22.000000</td>\n",
       "      <td>12.000000</td>\n",
       "      <td>58.823529</td>\n",
       "    </tr>\n",
       "    <tr>\n",
       "      <th>max</th>\n",
       "      <td>9.050000</td>\n",
       "      <td>8.522834</td>\n",
       "      <td>19.605604</td>\n",
       "      <td>58.000000</td>\n",
       "      <td>8.000000</td>\n",
       "      <td>9.000000</td>\n",
       "      <td>71.428571</td>\n",
       "      <td>5.000000</td>\n",
       "      <td>100.000000</td>\n",
       "      <td>88.000000</td>\n",
       "      <td>27.000000</td>\n",
       "      <td>100.000000</td>\n",
       "    </tr>\n",
       "  </tbody>\n",
       "</table>\n",
       "</div>"
      ],
      "text/plain": [
       "       y_expected  y_predicted       error  atom_count  ring_count  \\\n",
       "count  632.000000   632.000000  632.000000  632.000000  632.000000   \n",
       "mean     2.368838     2.310463    1.199086   16.398734    1.705696   \n",
       "std      2.038885     1.800441    1.705490    6.939348    1.150525   \n",
       "min     -3.890000    -3.187424    0.249153    5.000000    0.000000   \n",
       "25%      0.990000     1.129817    0.384252   12.000000    1.000000   \n",
       "50%      2.315000     2.162903    0.661232   16.000000    1.000000   \n",
       "75%      3.642500     3.384488    1.367347   19.000000    2.000000   \n",
       "max      9.050000     8.522834   19.605604   58.000000    8.000000   \n",
       "\n",
       "       non_organogens_count  non_organogens_percent  aromatic_count  \\\n",
       "count            632.000000              632.000000      632.000000   \n",
       "mean               0.780063                5.074059        0.911392   \n",
       "std                1.214303                8.461893        0.781155   \n",
       "min                0.000000                0.000000        0.000000   \n",
       "25%                0.000000                0.000000        0.000000   \n",
       "50%                0.000000                0.000000        1.000000   \n",
       "75%                1.000000                7.692308        1.000000   \n",
       "max                9.000000               71.428571        5.000000   \n",
       "\n",
       "       aromatic_rings_percent  bond_count  aromatic_bond_count  \\\n",
       "count              632.000000  632.000000           632.000000   \n",
       "mean                55.245253   18.245253             7.226266   \n",
       "std                 42.952188    8.807412             5.084179   \n",
       "min                  0.000000    4.000000             0.000000   \n",
       "25%                  0.000000   13.000000             5.000000   \n",
       "50%                 50.000000   17.000000             6.000000   \n",
       "75%                100.000000   22.000000            12.000000   \n",
       "max                100.000000   88.000000            27.000000   \n",
       "\n",
       "       aromatic_bond_percent  \n",
       "count             632.000000  \n",
       "mean               40.377282  \n",
       "std                26.681597  \n",
       "min                 0.000000  \n",
       "25%                24.000000  \n",
       "50%                42.857143  \n",
       "75%                58.823529  \n",
       "max               100.000000  "
      ]
     },
     "execution_count": 21,
     "metadata": {},
     "output_type": "execute_result"
    }
   ],
   "source": [
    "data[2].describe()"
   ]
  },
  {
   "cell_type": "markdown",
   "metadata": {},
   "source": [
    "## Check repeting patterns in the middle of the dataset\n",
    "Hypothesis: badly predicted molecules are symmetric (like 1, 3, 5 worst molecules)\n",
    "\n",
    "The simplest way to check: take 20 random molecules from the best/middle/worst part."
   ]
  },
  {
   "cell_type": "code",
   "execution_count": 22,
   "metadata": {},
   "outputs": [],
   "source": [
    "best = data[0].reset_index().drop(columns=['index'])"
   ]
  },
  {
   "cell_type": "code",
   "execution_count": 23,
   "metadata": {},
   "outputs": [
    {
     "data": {
      "text/html": [
       "<div>\n",
       "<style scoped>\n",
       "    .dataframe tbody tr th:only-of-type {\n",
       "        vertical-align: middle;\n",
       "    }\n",
       "\n",
       "    .dataframe tbody tr th {\n",
       "        vertical-align: top;\n",
       "    }\n",
       "\n",
       "    .dataframe thead th {\n",
       "        text-align: right;\n",
       "    }\n",
       "</style>\n",
       "<table border=\"1\" class=\"dataframe\">\n",
       "  <thead>\n",
       "    <tr style=\"text-align: right;\">\n",
       "      <th></th>\n",
       "      <th>smiles</th>\n",
       "      <th>y_expected</th>\n",
       "      <th>y_predicted</th>\n",
       "      <th>error</th>\n",
       "      <th>atom_count</th>\n",
       "      <th>ring_count</th>\n",
       "      <th>non_organogens_count</th>\n",
       "      <th>non_organogens_percent</th>\n",
       "      <th>aromatic_count</th>\n",
       "      <th>aromatic_rings_percent</th>\n",
       "      <th>bond_count</th>\n",
       "      <th>aromatic_bond_count</th>\n",
       "      <th>aromatic_bond_percent</th>\n",
       "      <th>is_symmetric</th>\n",
       "    </tr>\n",
       "  </thead>\n",
       "  <tbody>\n",
       "    <tr>\n",
       "      <th>0</th>\n",
       "      <td>COC(=O)c1cnc2n(c1=O)C(C)CCC2</td>\n",
       "      <td>0.16</td>\n",
       "      <td>0.159930</td>\n",
       "      <td>4.830562e-09</td>\n",
       "      <td>5</td>\n",
       "      <td>1</td>\n",
       "      <td>0</td>\n",
       "      <td>0.0</td>\n",
       "      <td>0</td>\n",
       "      <td>0.000000</td>\n",
       "      <td>17</td>\n",
       "      <td>6</td>\n",
       "      <td>35.294118</td>\n",
       "      <td>False</td>\n",
       "    </tr>\n",
       "    <tr>\n",
       "      <th>1</th>\n",
       "      <td>Cc1nnc2n1-c1ccc(Cl)cc1C(c1ccccc1Cl)=NC2</td>\n",
       "      <td>2.42</td>\n",
       "      <td>2.420206</td>\n",
       "      <td>4.261877e-08</td>\n",
       "      <td>15</td>\n",
       "      <td>2</td>\n",
       "      <td>0</td>\n",
       "      <td>0.0</td>\n",
       "      <td>2</td>\n",
       "      <td>100.000000</td>\n",
       "      <td>26</td>\n",
       "      <td>17</td>\n",
       "      <td>65.384615</td>\n",
       "      <td>False</td>\n",
       "    </tr>\n",
       "    <tr>\n",
       "      <th>2</th>\n",
       "      <td>NC(=O)c1cnc2n(c1=O)CCCC2</td>\n",
       "      <td>-0.38</td>\n",
       "      <td>-0.380800</td>\n",
       "      <td>6.396566e-07</td>\n",
       "      <td>26</td>\n",
       "      <td>3</td>\n",
       "      <td>0</td>\n",
       "      <td>0.0</td>\n",
       "      <td>1</td>\n",
       "      <td>33.333333</td>\n",
       "      <td>15</td>\n",
       "      <td>6</td>\n",
       "      <td>40.000000</td>\n",
       "      <td>False</td>\n",
       "    </tr>\n",
       "    <tr>\n",
       "      <th>3</th>\n",
       "      <td>Oc1ccc(O)n1-c1ccccc1Br</td>\n",
       "      <td>0.65</td>\n",
       "      <td>0.650861</td>\n",
       "      <td>7.406896e-07</td>\n",
       "      <td>57</td>\n",
       "      <td>4</td>\n",
       "      <td>0</td>\n",
       "      <td>0.0</td>\n",
       "      <td>1</td>\n",
       "      <td>25.000000</td>\n",
       "      <td>15</td>\n",
       "      <td>11</td>\n",
       "      <td>73.333333</td>\n",
       "      <td>False</td>\n",
       "    </tr>\n",
       "    <tr>\n",
       "      <th>4</th>\n",
       "      <td>Clc1cc(Cl)c2oc3c(Cl)c(Cl)c(Cl)cc3c2c1</td>\n",
       "      <td>6.59</td>\n",
       "      <td>6.589064</td>\n",
       "      <td>8.762668e-07</td>\n",
       "      <td>8</td>\n",
       "      <td>1</td>\n",
       "      <td>0</td>\n",
       "      <td>0.0</td>\n",
       "      <td>0</td>\n",
       "      <td>0.000000</td>\n",
       "      <td>20</td>\n",
       "      <td>15</td>\n",
       "      <td>75.000000</td>\n",
       "      <td>False</td>\n",
       "    </tr>\n",
       "  </tbody>\n",
       "</table>\n",
       "</div>"
      ],
      "text/plain": [
       "                                    smiles  y_expected  y_predicted  \\\n",
       "0             COC(=O)c1cnc2n(c1=O)C(C)CCC2        0.16     0.159930   \n",
       "1  Cc1nnc2n1-c1ccc(Cl)cc1C(c1ccccc1Cl)=NC2        2.42     2.420206   \n",
       "2                 NC(=O)c1cnc2n(c1=O)CCCC2       -0.38    -0.380800   \n",
       "3                   Oc1ccc(O)n1-c1ccccc1Br        0.65     0.650861   \n",
       "4    Clc1cc(Cl)c2oc3c(Cl)c(Cl)c(Cl)cc3c2c1        6.59     6.589064   \n",
       "\n",
       "          error  atom_count  ring_count  non_organogens_count  \\\n",
       "0  4.830562e-09           5           1                     0   \n",
       "1  4.261877e-08          15           2                     0   \n",
       "2  6.396566e-07          26           3                     0   \n",
       "3  7.406896e-07          57           4                     0   \n",
       "4  8.762668e-07           8           1                     0   \n",
       "\n",
       "   non_organogens_percent  aromatic_count  aromatic_rings_percent  bond_count  \\\n",
       "0                     0.0               0                0.000000          17   \n",
       "1                     0.0               2              100.000000          26   \n",
       "2                     0.0               1               33.333333          15   \n",
       "3                     0.0               1               25.000000          15   \n",
       "4                     0.0               0                0.000000          20   \n",
       "\n",
       "   aromatic_bond_count  aromatic_bond_percent  is_symmetric  \n",
       "0                    6              35.294118         False  \n",
       "1                   17              65.384615         False  \n",
       "2                    6              40.000000         False  \n",
       "3                   11              73.333333         False  \n",
       "4                   15              75.000000         False  "
      ]
     },
     "execution_count": 23,
     "metadata": {},
     "output_type": "execute_result"
    }
   ],
   "source": [
    "best.head()"
   ]
  },
  {
   "cell_type": "code",
   "execution_count": 24,
   "metadata": {},
   "outputs": [],
   "source": [
    "np.random.seed = 10\n",
    "indices = pd.Series(np.random.randint(631, size=10))"
   ]
  },
  {
   "cell_type": "code",
   "execution_count": 25,
   "metadata": {},
   "outputs": [
    {
     "data": {
      "image/png": "[encoded data removed]",
      "text/plain": [
       "<rdkit.Chem.rdchem.Mol at 0x19356977490>"
      ]
     },
     "metadata": {},
     "output_type": "display_data"
    },
    {
     "data": {
      "image/png": "[encoded data removed]",
      "text/plain": [
       "<rdkit.Chem.rdchem.Mol at 0x193564f53f0>"
      ]
     },
     "metadata": {},
     "output_type": "display_data"
    },
    {
     "data": {
      "image/png": "[encoded data removed]",
      "text/plain": [
       "<rdkit.Chem.rdchem.Mol at 0x193564f5a80>"
      ]
     },
     "metadata": {},
     "output_type": "display_data"
    },
    {
     "data": {
      "image/png": "[encoded data removed]",
      "text/plain": [
       "<rdkit.Chem.rdchem.Mol at 0x1935649aee0>"
      ]
     },
     "metadata": {},
     "output_type": "display_data"
    },
    {
     "data": {
      "image/png": "[encoded data removed]",
      "text/plain": [
       "<rdkit.Chem.rdchem.Mol at 0x193564f53f0>"
      ]
     },
     "metadata": {},
     "output_type": "display_data"
    },
    {
     "data": {
      "image/png": "[encoded data removed]",
      "text/plain": [
       "<rdkit.Chem.rdchem.Mol at 0x193564f5a80>"
      ]
     },
     "metadata": {},
     "output_type": "display_data"
    },
    {
     "data": {
      "image/png": "[encoded data removed]",
      "text/plain": [
       "<rdkit.Chem.rdchem.Mol at 0x193564f53f0>"
      ]
     },
     "metadata": {},
     "output_type": "display_data"
    },
    {
     "data": {
      "image/png": "[encoded data removed]",
      "text/plain": [
       "<rdkit.Chem.rdchem.Mol at 0x193564f5a80>"
      ]
     },
     "metadata": {},
     "output_type": "display_data"
    },
    {
     "data": {
      "image/png": "[encoded data removed]",
      "text/plain": [
       "<rdkit.Chem.rdchem.Mol at 0x193564f53f0>"
      ]
     },
     "metadata": {},
     "output_type": "display_data"
    },
    {
     "data": {
      "image/png": "[encoded data removed]",
      "text/plain": [
       "<rdkit.Chem.rdchem.Mol at 0x193564f5a80>"
      ]
     },
     "metadata": {},
     "output_type": "display_data"
    }
   ],
   "source": [
    "for smiles in best.loc[indices].smiles:\n",
    "    mol = Chem.MolFromSmiles(smiles)\n",
    "    display(mol)"
   ]
  },
  {
   "cell_type": "code",
   "execution_count": 26,
   "metadata": {},
   "outputs": [],
   "source": [
    "np.random.seed = 10\n",
    "indices = pd.Series(np.random.randint(631, size=20))"
   ]
  },
  {
   "cell_type": "code",
   "execution_count": 27,
   "metadata": {},
   "outputs": [],
   "source": [
    "middle = data[1].reset_index().drop(columns=['index'])"
   ]
  },
  {
   "cell_type": "code",
   "execution_count": 28,
   "metadata": {},
   "outputs": [
    {
     "data": {
      "text/html": [
       "<div>\n",
       "<style scoped>\n",
       "    .dataframe tbody tr th:only-of-type {\n",
       "        vertical-align: middle;\n",
       "    }\n",
       "\n",
       "    .dataframe tbody tr th {\n",
       "        vertical-align: top;\n",
       "    }\n",
       "\n",
       "    .dataframe thead th {\n",
       "        text-align: right;\n",
       "    }\n",
       "</style>\n",
       "<table border=\"1\" class=\"dataframe\">\n",
       "  <thead>\n",
       "    <tr style=\"text-align: right;\">\n",
       "      <th></th>\n",
       "      <th>smiles</th>\n",
       "      <th>y_expected</th>\n",
       "      <th>y_predicted</th>\n",
       "      <th>error</th>\n",
       "      <th>atom_count</th>\n",
       "      <th>ring_count</th>\n",
       "      <th>non_organogens_count</th>\n",
       "      <th>non_organogens_percent</th>\n",
       "      <th>aromatic_count</th>\n",
       "      <th>aromatic_rings_percent</th>\n",
       "      <th>bond_count</th>\n",
       "      <th>aromatic_bond_count</th>\n",
       "      <th>aromatic_bond_percent</th>\n",
       "      <th>is_symmetric</th>\n",
       "    </tr>\n",
       "  </thead>\n",
       "  <tbody>\n",
       "    <tr>\n",
       "      <th>0</th>\n",
       "      <td>CCN1CC(C(O)C(CC2CCCCC2)NC(=O)C(Cc2cc[nH]n2)NC(...</td>\n",
       "      <td>2.49</td>\n",
       "      <td>2.281778</td>\n",
       "      <td>0.043357</td>\n",
       "      <td>14</td>\n",
       "      <td>2</td>\n",
       "      <td>0</td>\n",
       "      <td>0.000000</td>\n",
       "      <td>1</td>\n",
       "      <td>50.0</td>\n",
       "      <td>52</td>\n",
       "      <td>11</td>\n",
       "      <td>21.153846</td>\n",
       "      <td>False</td>\n",
       "    </tr>\n",
       "    <tr>\n",
       "      <th>1</th>\n",
       "      <td>N#Cc1ccc(OCC(=O)O)cc1</td>\n",
       "      <td>0.93</td>\n",
       "      <td>0.720253</td>\n",
       "      <td>0.043994</td>\n",
       "      <td>13</td>\n",
       "      <td>1</td>\n",
       "      <td>1</td>\n",
       "      <td>7.692308</td>\n",
       "      <td>1</td>\n",
       "      <td>100.0</td>\n",
       "      <td>13</td>\n",
       "      <td>6</td>\n",
       "      <td>46.153846</td>\n",
       "      <td>False</td>\n",
       "    </tr>\n",
       "    <tr>\n",
       "      <th>2</th>\n",
       "      <td>N#Cc1ccc(C#N)cc1</td>\n",
       "      <td>0.93</td>\n",
       "      <td>1.140012</td>\n",
       "      <td>0.044105</td>\n",
       "      <td>22</td>\n",
       "      <td>2</td>\n",
       "      <td>3</td>\n",
       "      <td>13.636364</td>\n",
       "      <td>1</td>\n",
       "      <td>50.0</td>\n",
       "      <td>10</td>\n",
       "      <td>6</td>\n",
       "      <td>60.000000</td>\n",
       "      <td>True</td>\n",
       "    </tr>\n",
       "    <tr>\n",
       "      <th>3</th>\n",
       "      <td>Cc1cnc2n(c1=O)CCCC2</td>\n",
       "      <td>0.12</td>\n",
       "      <td>0.330247</td>\n",
       "      <td>0.044204</td>\n",
       "      <td>9</td>\n",
       "      <td>1</td>\n",
       "      <td>0</td>\n",
       "      <td>0.000000</td>\n",
       "      <td>0</td>\n",
       "      <td>0.0</td>\n",
       "      <td>13</td>\n",
       "      <td>6</td>\n",
       "      <td>46.153846</td>\n",
       "      <td>False</td>\n",
       "    </tr>\n",
       "    <tr>\n",
       "      <th>4</th>\n",
       "      <td>COC(=O)C(C#N)=NNc1cc(Cl)cc(Cl)c1</td>\n",
       "      <td>4.50</td>\n",
       "      <td>4.710589</td>\n",
       "      <td>0.044348</td>\n",
       "      <td>14</td>\n",
       "      <td>2</td>\n",
       "      <td>2</td>\n",
       "      <td>14.285714</td>\n",
       "      <td>1</td>\n",
       "      <td>50.0</td>\n",
       "      <td>17</td>\n",
       "      <td>6</td>\n",
       "      <td>35.294118</td>\n",
       "      <td>False</td>\n",
       "    </tr>\n",
       "  </tbody>\n",
       "</table>\n",
       "</div>"
      ],
      "text/plain": [
       "                                              smiles  y_expected  y_predicted  \\\n",
       "0  CCN1CC(C(O)C(CC2CCCCC2)NC(=O)C(Cc2cc[nH]n2)NC(...        2.49     2.281778   \n",
       "1                              N#Cc1ccc(OCC(=O)O)cc1        0.93     0.720253   \n",
       "2                                   N#Cc1ccc(C#N)cc1        0.93     1.140012   \n",
       "3                                Cc1cnc2n(c1=O)CCCC2        0.12     0.330247   \n",
       "4                   COC(=O)C(C#N)=NNc1cc(Cl)cc(Cl)c1        4.50     4.710589   \n",
       "\n",
       "      error  atom_count  ring_count  non_organogens_count  \\\n",
       "0  0.043357          14           2                     0   \n",
       "1  0.043994          13           1                     1   \n",
       "2  0.044105          22           2                     3   \n",
       "3  0.044204           9           1                     0   \n",
       "4  0.044348          14           2                     2   \n",
       "\n",
       "   non_organogens_percent  aromatic_count  aromatic_rings_percent  bond_count  \\\n",
       "0                0.000000               1                    50.0          52   \n",
       "1                7.692308               1                   100.0          13   \n",
       "2               13.636364               1                    50.0          10   \n",
       "3                0.000000               0                     0.0          13   \n",
       "4               14.285714               1                    50.0          17   \n",
       "\n",
       "   aromatic_bond_count  aromatic_bond_percent  is_symmetric  \n",
       "0                   11              21.153846         False  \n",
       "1                    6              46.153846         False  \n",
       "2                    6              60.000000          True  \n",
       "3                    6              46.153846         False  \n",
       "4                    6              35.294118         False  "
      ]
     },
     "execution_count": 28,
     "metadata": {},
     "output_type": "execute_result"
    }
   ],
   "source": [
    "middle.head()"
   ]
  },
  {
   "cell_type": "code",
   "execution_count": 29,
   "metadata": {},
   "outputs": [
    {
     "data": {
      "text/plain": [
       "(631, 14)"
      ]
     },
     "execution_count": 29,
     "metadata": {},
     "output_type": "execute_result"
    }
   ],
   "source": [
    "middle.shape"
   ]
  },
  {
   "cell_type": "code",
   "execution_count": 30,
   "metadata": {},
   "outputs": [],
   "source": [
    "indices = pd.Series(np.random.randint(631, size=10))"
   ]
  },
  {
   "cell_type": "code",
   "execution_count": 31,
   "metadata": {},
   "outputs": [
    {
     "data": {
      "image/png": "[encoded data removed]",
      "text/plain": [
       "<rdkit.Chem.rdchem.Mol at 0x1935644f490>"
      ]
     },
     "metadata": {},
     "output_type": "display_data"
    },
    {
     "data": {
      "image/png": "[encoded data removed]",
      "text/plain": [
       "<rdkit.Chem.rdchem.Mol at 0x1935641d940>"
      ]
     },
     "metadata": {},
     "output_type": "display_data"
    },
    {
     "data": {
      "image/png": "[encoded data removed]",
      "text/plain": [
       "<rdkit.Chem.rdchem.Mol at 0x1935644f2b0>"
      ]
     },
     "metadata": {},
     "output_type": "display_data"
    },
    {
     "data": {
      "image/png": "[encoded data removed]",
      "text/plain": [
       "<rdkit.Chem.rdchem.Mol at 0x1935644f080>"
      ]
     },
     "metadata": {},
     "output_type": "display_data"
    },
    {
     "data": {
      "image/png": "[encoded data removed]",
      "text/plain": [
       "<rdkit.Chem.rdchem.Mol at 0x1935641d940>"
      ]
     },
     "metadata": {},
     "output_type": "display_data"
    },
    {
     "data": {
      "image/png": "[encoded data removed]",
      "text/plain": [
       "<rdkit.Chem.rdchem.Mol at 0x19356563030>"
      ]
     },
     "metadata": {},
     "output_type": "display_data"
    },
    {
     "data": {
      "image/png": "[encoded data removed]",
      "text/plain": [
       "<rdkit.Chem.rdchem.Mol at 0x1935644f2b0>"
      ]
     },
     "metadata": {},
     "output_type": "display_data"
    },
    {
     "data": {
      "image/png": "[encoded data removed]",
      "text/plain": [
       "<rdkit.Chem.rdchem.Mol at 0x1935641d940>"
      ]
     },
     "metadata": {},
     "output_type": "display_data"
    },
    {
     "data": {
      "image/png": "[encoded data removed]",
      "text/plain": [
       "<rdkit.Chem.rdchem.Mol at 0x1935644f080>"
      ]
     },
     "metadata": {},
     "output_type": "display_data"
    },
    {
     "data": {
      "image/png": "[encoded data removed]",
      "text/plain": [
       "<rdkit.Chem.rdchem.Mol at 0x1935644f2b0>"
      ]
     },
     "metadata": {},
     "output_type": "display_data"
    }
   ],
   "source": [
    "for smiles in middle.loc[indices].smiles:\n",
    "    mol = Chem.MolFromSmiles(smiles)\n",
    "    display(mol)"
   ]
  },
  {
   "cell_type": "code",
   "execution_count": 32,
   "metadata": {},
   "outputs": [],
   "source": [
    "worst = data[2].reset_index().drop(columns=['index'])"
   ]
  },
  {
   "cell_type": "code",
   "execution_count": 33,
   "metadata": {},
   "outputs": [],
   "source": [
    "indices = pd.Series(np.random.randint(631, size=10))"
   ]
  },
  {
   "cell_type": "code",
   "execution_count": 34,
   "metadata": {},
   "outputs": [
    {
     "data": {
      "image/png": "[encoded data removed]",
      "text/plain": [
       "<rdkit.Chem.rdchem.Mol at 0x19356563440>"
      ]
     },
     "metadata": {},
     "output_type": "display_data"
    },
    {
     "data": {
      "image/png": "[encoded data removed]",
      "text/plain": [
       "<rdkit.Chem.rdchem.Mol at 0x193565632b0>"
      ]
     },
     "metadata": {},
     "output_type": "display_data"
    },
    {
     "data": {
      "image/png": "[encoded data removed]",
      "text/plain": [
       "<rdkit.Chem.rdchem.Mol at 0x19356563300>"
      ]
     },
     "metadata": {},
     "output_type": "display_data"
    },
    {
     "data": {
      "image/png": "[encoded data removed]",
      "text/plain": [
       "<rdkit.Chem.rdchem.Mol at 0x193565632b0>"
      ]
     },
     "metadata": {},
     "output_type": "display_data"
    },
    {
     "data": {
      "image/png": "[encoded data removed]",
      "text/plain": [
       "<rdkit.Chem.rdchem.Mol at 0x19356563440>"
      ]
     },
     "metadata": {},
     "output_type": "display_data"
    },
    {
     "data": {
      "image/png": "[encoded data removed]",
      "text/plain": [
       "<rdkit.Chem.rdchem.Mol at 0x19356563300>"
      ]
     },
     "metadata": {},
     "output_type": "display_data"
    },
    {
     "data": {
      "image/png": "[encoded data removed]",
      "text/plain": [
       "<rdkit.Chem.rdchem.Mol at 0x19356563440>"
      ]
     },
     "metadata": {},
     "output_type": "display_data"
    },
    {
     "data": {
      "image/png": "[encoded data removed]",
      "text/plain": [
       "<rdkit.Chem.rdchem.Mol at 0x193565632b0>"
      ]
     },
     "metadata": {},
     "output_type": "display_data"
    },
    {
     "data": {
      "image/png": "[encoded data removed]",
      "text/plain": [
       "<rdkit.Chem.rdchem.Mol at 0x19356563300>"
      ]
     },
     "metadata": {},
     "output_type": "display_data"
    },
    {
     "data": {
      "image/png": "[encoded data removed]",
      "text/plain": [
       "<rdkit.Chem.rdchem.Mol at 0x19356563440>"
      ]
     },
     "metadata": {},
     "output_type": "display_data"
    }
   ],
   "source": [
    "for smiles in worst.loc[indices].smiles:\n",
    "    mol = Chem.MolFromSmiles(smiles)\n",
    "    display(mol)"
   ]
  },
  {
   "cell_type": "code",
   "execution_count": null,
   "metadata": {},
   "outputs": [],
   "source": []
  },
  {
   "cell_type": "markdown",
   "metadata": {},
   "source": [
    "#### Taking best and worst predicted values"
   ]
  },
  {
   "cell_type": "code",
   "execution_count": 35,
   "metadata": {},
   "outputs": [],
   "source": [
    "n_values = 200"
   ]
  },
  {
   "cell_type": "code",
   "execution_count": 36,
   "metadata": {},
   "outputs": [],
   "source": [
    "best_n_vals = compare_data_with_stats.take([j for j in range(n_values)])"
   ]
  },
  {
   "cell_type": "code",
   "execution_count": 37,
   "metadata": {},
   "outputs": [],
   "source": [
    "worst_n_vals = compare_data_with_stats.take([j for j in range( len(compare_data.smiles) - 1, len(compare_data.smiles) - 1 - n_values, -1)])"
   ]
  },
  {
   "cell_type": "code",
   "execution_count": 38,
   "metadata": {},
   "outputs": [
    {
     "data": {
      "text/html": [
       "<div>\n",
       "<style scoped>\n",
       "    .dataframe tbody tr th:only-of-type {\n",
       "        vertical-align: middle;\n",
       "    }\n",
       "\n",
       "    .dataframe tbody tr th {\n",
       "        vertical-align: top;\n",
       "    }\n",
       "\n",
       "    .dataframe thead th {\n",
       "        text-align: right;\n",
       "    }\n",
       "</style>\n",
       "<table border=\"1\" class=\"dataframe\">\n",
       "  <thead>\n",
       "    <tr style=\"text-align: right;\">\n",
       "      <th></th>\n",
       "      <th>smiles</th>\n",
       "      <th>y_expected</th>\n",
       "      <th>y_predicted</th>\n",
       "      <th>error</th>\n",
       "      <th>atom_count</th>\n",
       "      <th>ring_count</th>\n",
       "      <th>non_organogens_count</th>\n",
       "      <th>non_organogens_percent</th>\n",
       "      <th>aromatic_count</th>\n",
       "      <th>aromatic_rings_percent</th>\n",
       "      <th>bond_count</th>\n",
       "      <th>aromatic_bond_count</th>\n",
       "      <th>aromatic_bond_percent</th>\n",
       "      <th>is_symmetric</th>\n",
       "    </tr>\n",
       "  </thead>\n",
       "  <tbody>\n",
       "    <tr>\n",
       "      <th>1677</th>\n",
       "      <td>COC(=O)c1cnc2n(c1=O)C(C)CCC2</td>\n",
       "      <td>0.16</td>\n",
       "      <td>0.159930</td>\n",
       "      <td>4.830562e-09</td>\n",
       "      <td>5</td>\n",
       "      <td>1</td>\n",
       "      <td>0</td>\n",
       "      <td>0.0</td>\n",
       "      <td>0</td>\n",
       "      <td>0.000000</td>\n",
       "      <td>17</td>\n",
       "      <td>6</td>\n",
       "      <td>35.294118</td>\n",
       "      <td>False</td>\n",
       "    </tr>\n",
       "    <tr>\n",
       "      <th>1534</th>\n",
       "      <td>Cc1nnc2n1-c1ccc(Cl)cc1C(c1ccccc1Cl)=NC2</td>\n",
       "      <td>2.42</td>\n",
       "      <td>2.420206</td>\n",
       "      <td>4.261877e-08</td>\n",
       "      <td>15</td>\n",
       "      <td>2</td>\n",
       "      <td>0</td>\n",
       "      <td>0.0</td>\n",
       "      <td>2</td>\n",
       "      <td>100.000000</td>\n",
       "      <td>26</td>\n",
       "      <td>17</td>\n",
       "      <td>65.384615</td>\n",
       "      <td>False</td>\n",
       "    </tr>\n",
       "    <tr>\n",
       "      <th>1079</th>\n",
       "      <td>NC(=O)c1cnc2n(c1=O)CCCC2</td>\n",
       "      <td>-0.38</td>\n",
       "      <td>-0.380800</td>\n",
       "      <td>6.396566e-07</td>\n",
       "      <td>26</td>\n",
       "      <td>3</td>\n",
       "      <td>0</td>\n",
       "      <td>0.0</td>\n",
       "      <td>1</td>\n",
       "      <td>33.333333</td>\n",
       "      <td>15</td>\n",
       "      <td>6</td>\n",
       "      <td>40.000000</td>\n",
       "      <td>False</td>\n",
       "    </tr>\n",
       "    <tr>\n",
       "      <th>420</th>\n",
       "      <td>Oc1ccc(O)n1-c1ccccc1Br</td>\n",
       "      <td>0.65</td>\n",
       "      <td>0.650861</td>\n",
       "      <td>7.406896e-07</td>\n",
       "      <td>57</td>\n",
       "      <td>4</td>\n",
       "      <td>0</td>\n",
       "      <td>0.0</td>\n",
       "      <td>1</td>\n",
       "      <td>25.000000</td>\n",
       "      <td>15</td>\n",
       "      <td>11</td>\n",
       "      <td>73.333333</td>\n",
       "      <td>False</td>\n",
       "    </tr>\n",
       "    <tr>\n",
       "      <th>1182</th>\n",
       "      <td>Clc1cc(Cl)c2oc3c(Cl)c(Cl)c(Cl)cc3c2c1</td>\n",
       "      <td>6.59</td>\n",
       "      <td>6.589064</td>\n",
       "      <td>8.762668e-07</td>\n",
       "      <td>8</td>\n",
       "      <td>1</td>\n",
       "      <td>0</td>\n",
       "      <td>0.0</td>\n",
       "      <td>0</td>\n",
       "      <td>0.000000</td>\n",
       "      <td>20</td>\n",
       "      <td>15</td>\n",
       "      <td>75.000000</td>\n",
       "      <td>False</td>\n",
       "    </tr>\n",
       "  </tbody>\n",
       "</table>\n",
       "</div>"
      ],
      "text/plain": [
       "                                       smiles  y_expected  y_predicted  \\\n",
       "1677             COC(=O)c1cnc2n(c1=O)C(C)CCC2        0.16     0.159930   \n",
       "1534  Cc1nnc2n1-c1ccc(Cl)cc1C(c1ccccc1Cl)=NC2        2.42     2.420206   \n",
       "1079                 NC(=O)c1cnc2n(c1=O)CCCC2       -0.38    -0.380800   \n",
       "420                    Oc1ccc(O)n1-c1ccccc1Br        0.65     0.650861   \n",
       "1182    Clc1cc(Cl)c2oc3c(Cl)c(Cl)c(Cl)cc3c2c1        6.59     6.589064   \n",
       "\n",
       "             error  atom_count  ring_count  non_organogens_count  \\\n",
       "1677  4.830562e-09           5           1                     0   \n",
       "1534  4.261877e-08          15           2                     0   \n",
       "1079  6.396566e-07          26           3                     0   \n",
       "420   7.406896e-07          57           4                     0   \n",
       "1182  8.762668e-07           8           1                     0   \n",
       "\n",
       "      non_organogens_percent  aromatic_count  aromatic_rings_percent  \\\n",
       "1677                     0.0               0                0.000000   \n",
       "1534                     0.0               2              100.000000   \n",
       "1079                     0.0               1               33.333333   \n",
       "420                      0.0               1               25.000000   \n",
       "1182                     0.0               0                0.000000   \n",
       "\n",
       "      bond_count  aromatic_bond_count  aromatic_bond_percent  is_symmetric  \n",
       "1677          17                    6              35.294118         False  \n",
       "1534          26                   17              65.384615         False  \n",
       "1079          15                    6              40.000000         False  \n",
       "420           15                   11              73.333333         False  \n",
       "1182          20                   15              75.000000         False  "
      ]
     },
     "execution_count": 38,
     "metadata": {},
     "output_type": "execute_result"
    }
   ],
   "source": [
    "best_n_vals.head()"
   ]
  },
  {
   "cell_type": "code",
   "execution_count": 39,
   "metadata": {},
   "outputs": [
    {
     "data": {
      "text/html": [
       "<div>\n",
       "<style scoped>\n",
       "    .dataframe tbody tr th:only-of-type {\n",
       "        vertical-align: middle;\n",
       "    }\n",
       "\n",
       "    .dataframe tbody tr th {\n",
       "        vertical-align: top;\n",
       "    }\n",
       "\n",
       "    .dataframe thead th {\n",
       "        text-align: right;\n",
       "    }\n",
       "</style>\n",
       "<table border=\"1\" class=\"dataframe\">\n",
       "  <thead>\n",
       "    <tr style=\"text-align: right;\">\n",
       "      <th></th>\n",
       "      <th>smiles</th>\n",
       "      <th>y_expected</th>\n",
       "      <th>y_predicted</th>\n",
       "      <th>error</th>\n",
       "      <th>atom_count</th>\n",
       "      <th>ring_count</th>\n",
       "      <th>non_organogens_count</th>\n",
       "      <th>non_organogens_percent</th>\n",
       "      <th>aromatic_count</th>\n",
       "      <th>aromatic_rings_percent</th>\n",
       "      <th>bond_count</th>\n",
       "      <th>aromatic_bond_count</th>\n",
       "      <th>aromatic_bond_percent</th>\n",
       "      <th>is_symmetric</th>\n",
       "    </tr>\n",
       "  </thead>\n",
       "  <tbody>\n",
       "    <tr>\n",
       "      <th>79</th>\n",
       "      <td>O=C(Cc1ccccc1Nc1c(Cl)cccc1Cl)O[K]</td>\n",
       "      <td>0.65</td>\n",
       "      <td>5.077822</td>\n",
       "      <td>19.605604</td>\n",
       "      <td>17</td>\n",
       "      <td>2</td>\n",
       "      <td>3</td>\n",
       "      <td>17.647059</td>\n",
       "      <td>2</td>\n",
       "      <td>100.0</td>\n",
       "      <td>21</td>\n",
       "      <td>12</td>\n",
       "      <td>57.142857</td>\n",
       "      <td>False</td>\n",
       "    </tr>\n",
       "    <tr>\n",
       "      <th>1015</th>\n",
       "      <td>CCc1c(C(=O)O)c(=O)cnn1-c1ccc(Cl)cc1</td>\n",
       "      <td>-2.20</td>\n",
       "      <td>1.996477</td>\n",
       "      <td>17.610420</td>\n",
       "      <td>24</td>\n",
       "      <td>2</td>\n",
       "      <td>4</td>\n",
       "      <td>16.666667</td>\n",
       "      <td>2</td>\n",
       "      <td>100.0</td>\n",
       "      <td>20</td>\n",
       "      <td>12</td>\n",
       "      <td>60.000000</td>\n",
       "      <td>False</td>\n",
       "    </tr>\n",
       "    <tr>\n",
       "      <th>147</th>\n",
       "      <td>CC(C)(C)c1cc(CCC(=O)OCC(COC(=O)CCc2cc(C(C)(C)C...</td>\n",
       "      <td>1.36</td>\n",
       "      <td>5.033193</td>\n",
       "      <td>13.492348</td>\n",
       "      <td>13</td>\n",
       "      <td>1</td>\n",
       "      <td>0</td>\n",
       "      <td>0.000000</td>\n",
       "      <td>0</td>\n",
       "      <td>0.0</td>\n",
       "      <td>88</td>\n",
       "      <td>24</td>\n",
       "      <td>27.272727</td>\n",
       "      <td>True</td>\n",
       "    </tr>\n",
       "    <tr>\n",
       "      <th>674</th>\n",
       "      <td>CC(C)(C)NC(=O)C1CCC2C3CCC4NC(=O)C=CC4(C)C3CCC12C</td>\n",
       "      <td>3.03</td>\n",
       "      <td>6.293756</td>\n",
       "      <td>10.652101</td>\n",
       "      <td>11</td>\n",
       "      <td>0</td>\n",
       "      <td>1</td>\n",
       "      <td>9.090909</td>\n",
       "      <td>0</td>\n",
       "      <td>0.0</td>\n",
       "      <td>30</td>\n",
       "      <td>0</td>\n",
       "      <td>0.000000</td>\n",
       "      <td>False</td>\n",
       "    </tr>\n",
       "    <tr>\n",
       "      <th>121</th>\n",
       "      <td>CCCCCCCCCCCCCCCC(=O)O</td>\n",
       "      <td>7.17</td>\n",
       "      <td>4.008034</td>\n",
       "      <td>9.998028</td>\n",
       "      <td>34</td>\n",
       "      <td>1</td>\n",
       "      <td>3</td>\n",
       "      <td>8.823529</td>\n",
       "      <td>1</td>\n",
       "      <td>100.0</td>\n",
       "      <td>17</td>\n",
       "      <td>0</td>\n",
       "      <td>0.000000</td>\n",
       "      <td>False</td>\n",
       "    </tr>\n",
       "  </tbody>\n",
       "</table>\n",
       "</div>"
      ],
      "text/plain": [
       "                                                 smiles  y_expected  \\\n",
       "79                    O=C(Cc1ccccc1Nc1c(Cl)cccc1Cl)O[K]        0.65   \n",
       "1015                CCc1c(C(=O)O)c(=O)cnn1-c1ccc(Cl)cc1       -2.20   \n",
       "147   CC(C)(C)c1cc(CCC(=O)OCC(COC(=O)CCc2cc(C(C)(C)C...        1.36   \n",
       "674    CC(C)(C)NC(=O)C1CCC2C3CCC4NC(=O)C=CC4(C)C3CCC12C        3.03   \n",
       "121                               CCCCCCCCCCCCCCCC(=O)O        7.17   \n",
       "\n",
       "      y_predicted      error  atom_count  ring_count  non_organogens_count  \\\n",
       "79       5.077822  19.605604          17           2                     3   \n",
       "1015     1.996477  17.610420          24           2                     4   \n",
       "147      5.033193  13.492348          13           1                     0   \n",
       "674      6.293756  10.652101          11           0                     1   \n",
       "121      4.008034   9.998028          34           1                     3   \n",
       "\n",
       "      non_organogens_percent  aromatic_count  aromatic_rings_percent  \\\n",
       "79                 17.647059               2                   100.0   \n",
       "1015               16.666667               2                   100.0   \n",
       "147                 0.000000               0                     0.0   \n",
       "674                 9.090909               0                     0.0   \n",
       "121                 8.823529               1                   100.0   \n",
       "\n",
       "      bond_count  aromatic_bond_count  aromatic_bond_percent  is_symmetric  \n",
       "79            21                   12              57.142857         False  \n",
       "1015          20                   12              60.000000         False  \n",
       "147           88                   24              27.272727          True  \n",
       "674           30                    0               0.000000         False  \n",
       "121           17                    0               0.000000         False  "
      ]
     },
     "execution_count": 39,
     "metadata": {},
     "output_type": "execute_result"
    }
   ],
   "source": [
    "worst_n_vals.head()"
   ]
  },
  {
   "cell_type": "code",
   "execution_count": 40,
   "metadata": {},
   "outputs": [
    {
     "data": {
      "text/html": [
       "<div>\n",
       "<style scoped>\n",
       "    .dataframe tbody tr th:only-of-type {\n",
       "        vertical-align: middle;\n",
       "    }\n",
       "\n",
       "    .dataframe tbody tr th {\n",
       "        vertical-align: top;\n",
       "    }\n",
       "\n",
       "    .dataframe thead th {\n",
       "        text-align: right;\n",
       "    }\n",
       "</style>\n",
       "<table border=\"1\" class=\"dataframe\">\n",
       "  <thead>\n",
       "    <tr style=\"text-align: right;\">\n",
       "      <th></th>\n",
       "      <th>y_expected</th>\n",
       "      <th>y_predicted</th>\n",
       "      <th>error</th>\n",
       "      <th>atom_count</th>\n",
       "      <th>ring_count</th>\n",
       "      <th>non_organogens_count</th>\n",
       "      <th>non_organogens_percent</th>\n",
       "      <th>aromatic_count</th>\n",
       "      <th>aromatic_rings_percent</th>\n",
       "      <th>bond_count</th>\n",
       "      <th>aromatic_bond_count</th>\n",
       "      <th>aromatic_bond_percent</th>\n",
       "    </tr>\n",
       "  </thead>\n",
       "  <tbody>\n",
       "    <tr>\n",
       "      <th>count</th>\n",
       "      <td>200.000000</td>\n",
       "      <td>200.000000</td>\n",
       "      <td>2.000000e+02</td>\n",
       "      <td>200.000000</td>\n",
       "      <td>200.000000</td>\n",
       "      <td>200.000000</td>\n",
       "      <td>200.000000</td>\n",
       "      <td>200.000000</td>\n",
       "      <td>200.000000</td>\n",
       "      <td>200.000000</td>\n",
       "      <td>200.000000</td>\n",
       "      <td>200.000000</td>\n",
       "    </tr>\n",
       "    <tr>\n",
       "      <th>mean</th>\n",
       "      <td>1.757100</td>\n",
       "      <td>1.760876</td>\n",
       "      <td>1.085034e-03</td>\n",
       "      <td>15.930000</td>\n",
       "      <td>1.625000</td>\n",
       "      <td>0.920000</td>\n",
       "      <td>6.182602</td>\n",
       "      <td>0.820000</td>\n",
       "      <td>47.966667</td>\n",
       "      <td>16.045000</td>\n",
       "      <td>6.860000</td>\n",
       "      <td>43.355490</td>\n",
       "    </tr>\n",
       "    <tr>\n",
       "      <th>std</th>\n",
       "      <td>1.643984</td>\n",
       "      <td>1.646517</td>\n",
       "      <td>1.015027e-03</td>\n",
       "      <td>6.245006</td>\n",
       "      <td>0.948087</td>\n",
       "      <td>1.460915</td>\n",
       "      <td>10.083939</td>\n",
       "      <td>0.761907</td>\n",
       "      <td>42.415930</td>\n",
       "      <td>6.259303</td>\n",
       "      <td>3.986207</td>\n",
       "      <td>23.072234</td>\n",
       "    </tr>\n",
       "    <tr>\n",
       "      <th>min</th>\n",
       "      <td>-3.640000</td>\n",
       "      <td>-3.622343</td>\n",
       "      <td>4.830562e-09</td>\n",
       "      <td>5.000000</td>\n",
       "      <td>0.000000</td>\n",
       "      <td>0.000000</td>\n",
       "      <td>0.000000</td>\n",
       "      <td>0.000000</td>\n",
       "      <td>0.000000</td>\n",
       "      <td>4.000000</td>\n",
       "      <td>0.000000</td>\n",
       "      <td>0.000000</td>\n",
       "    </tr>\n",
       "    <tr>\n",
       "      <th>25%</th>\n",
       "      <td>0.640000</td>\n",
       "      <td>0.641065</td>\n",
       "      <td>1.916423e-04</td>\n",
       "      <td>12.000000</td>\n",
       "      <td>1.000000</td>\n",
       "      <td>0.000000</td>\n",
       "      <td>0.000000</td>\n",
       "      <td>0.000000</td>\n",
       "      <td>0.000000</td>\n",
       "      <td>11.000000</td>\n",
       "      <td>6.000000</td>\n",
       "      <td>31.578947</td>\n",
       "    </tr>\n",
       "    <tr>\n",
       "      <th>50%</th>\n",
       "      <td>1.685000</td>\n",
       "      <td>1.702126</td>\n",
       "      <td>7.222740e-04</td>\n",
       "      <td>16.000000</td>\n",
       "      <td>2.000000</td>\n",
       "      <td>0.000000</td>\n",
       "      <td>0.000000</td>\n",
       "      <td>1.000000</td>\n",
       "      <td>50.000000</td>\n",
       "      <td>15.000000</td>\n",
       "      <td>6.000000</td>\n",
       "      <td>45.993590</td>\n",
       "    </tr>\n",
       "    <tr>\n",
       "      <th>75%</th>\n",
       "      <td>2.735000</td>\n",
       "      <td>2.749822</td>\n",
       "      <td>1.798011e-03</td>\n",
       "      <td>19.000000</td>\n",
       "      <td>2.000000</td>\n",
       "      <td>1.000000</td>\n",
       "      <td>9.090909</td>\n",
       "      <td>1.000000</td>\n",
       "      <td>100.000000</td>\n",
       "      <td>20.000000</td>\n",
       "      <td>10.000000</td>\n",
       "      <td>60.000000</td>\n",
       "    </tr>\n",
       "    <tr>\n",
       "      <th>max</th>\n",
       "      <td>6.790000</td>\n",
       "      <td>6.821583</td>\n",
       "      <td>3.428445e-03</td>\n",
       "      <td>57.000000</td>\n",
       "      <td>5.000000</td>\n",
       "      <td>8.000000</td>\n",
       "      <td>60.000000</td>\n",
       "      <td>3.000000</td>\n",
       "      <td>100.000000</td>\n",
       "      <td>37.000000</td>\n",
       "      <td>23.000000</td>\n",
       "      <td>91.666667</td>\n",
       "    </tr>\n",
       "  </tbody>\n",
       "</table>\n",
       "</div>"
      ],
      "text/plain": [
       "       y_expected  y_predicted         error  atom_count  ring_count  \\\n",
       "count  200.000000   200.000000  2.000000e+02  200.000000  200.000000   \n",
       "mean     1.757100     1.760876  1.085034e-03   15.930000    1.625000   \n",
       "std      1.643984     1.646517  1.015027e-03    6.245006    0.948087   \n",
       "min     -3.640000    -3.622343  4.830562e-09    5.000000    0.000000   \n",
       "25%      0.640000     0.641065  1.916423e-04   12.000000    1.000000   \n",
       "50%      1.685000     1.702126  7.222740e-04   16.000000    2.000000   \n",
       "75%      2.735000     2.749822  1.798011e-03   19.000000    2.000000   \n",
       "max      6.790000     6.821583  3.428445e-03   57.000000    5.000000   \n",
       "\n",
       "       non_organogens_count  non_organogens_percent  aromatic_count  \\\n",
       "count            200.000000              200.000000      200.000000   \n",
       "mean               0.920000                6.182602        0.820000   \n",
       "std                1.460915               10.083939        0.761907   \n",
       "min                0.000000                0.000000        0.000000   \n",
       "25%                0.000000                0.000000        0.000000   \n",
       "50%                0.000000                0.000000        1.000000   \n",
       "75%                1.000000                9.090909        1.000000   \n",
       "max                8.000000               60.000000        3.000000   \n",
       "\n",
       "       aromatic_rings_percent  bond_count  aromatic_bond_count  \\\n",
       "count              200.000000  200.000000           200.000000   \n",
       "mean                47.966667   16.045000             6.860000   \n",
       "std                 42.415930    6.259303             3.986207   \n",
       "min                  0.000000    4.000000             0.000000   \n",
       "25%                  0.000000   11.000000             6.000000   \n",
       "50%                 50.000000   15.000000             6.000000   \n",
       "75%                100.000000   20.000000            10.000000   \n",
       "max                100.000000   37.000000            23.000000   \n",
       "\n",
       "       aromatic_bond_percent  \n",
       "count             200.000000  \n",
       "mean               43.355490  \n",
       "std                23.072234  \n",
       "min                 0.000000  \n",
       "25%                31.578947  \n",
       "50%                45.993590  \n",
       "75%                60.000000  \n",
       "max                91.666667  "
      ]
     },
     "execution_count": 40,
     "metadata": {},
     "output_type": "execute_result"
    }
   ],
   "source": [
    "best_n_vals.describe()"
   ]
  },
  {
   "cell_type": "code",
   "execution_count": 41,
   "metadata": {},
   "outputs": [
    {
     "data": {
      "text/html": [
       "<div>\n",
       "<style scoped>\n",
       "    .dataframe tbody tr th:only-of-type {\n",
       "        vertical-align: middle;\n",
       "    }\n",
       "\n",
       "    .dataframe tbody tr th {\n",
       "        vertical-align: top;\n",
       "    }\n",
       "\n",
       "    .dataframe thead th {\n",
       "        text-align: right;\n",
       "    }\n",
       "</style>\n",
       "<table border=\"1\" class=\"dataframe\">\n",
       "  <thead>\n",
       "    <tr style=\"text-align: right;\">\n",
       "      <th></th>\n",
       "      <th>y_expected</th>\n",
       "      <th>y_predicted</th>\n",
       "      <th>error</th>\n",
       "      <th>atom_count</th>\n",
       "      <th>ring_count</th>\n",
       "      <th>non_organogens_count</th>\n",
       "      <th>non_organogens_percent</th>\n",
       "      <th>aromatic_count</th>\n",
       "      <th>aromatic_rings_percent</th>\n",
       "      <th>bond_count</th>\n",
       "      <th>aromatic_bond_count</th>\n",
       "      <th>aromatic_bond_percent</th>\n",
       "    </tr>\n",
       "  </thead>\n",
       "  <tbody>\n",
       "    <tr>\n",
       "      <th>count</th>\n",
       "      <td>200.000000</td>\n",
       "      <td>200.000000</td>\n",
       "      <td>200.000000</td>\n",
       "      <td>200.000000</td>\n",
       "      <td>200.000000</td>\n",
       "      <td>200.000000</td>\n",
       "      <td>200.000000</td>\n",
       "      <td>200.000000</td>\n",
       "      <td>200.000000</td>\n",
       "      <td>200.000000</td>\n",
       "      <td>200.000000</td>\n",
       "      <td>200.000000</td>\n",
       "    </tr>\n",
       "    <tr>\n",
       "      <th>mean</th>\n",
       "      <td>2.859567</td>\n",
       "      <td>2.565962</td>\n",
       "      <td>2.669916</td>\n",
       "      <td>16.465000</td>\n",
       "      <td>1.670000</td>\n",
       "      <td>0.805000</td>\n",
       "      <td>5.369636</td>\n",
       "      <td>0.865000</td>\n",
       "      <td>52.483333</td>\n",
       "      <td>19.910000</td>\n",
       "      <td>7.895000</td>\n",
       "      <td>39.577981</td>\n",
       "    </tr>\n",
       "    <tr>\n",
       "      <th>std</th>\n",
       "      <td>2.370861</td>\n",
       "      <td>1.837567</td>\n",
       "      <td>2.437443</td>\n",
       "      <td>6.561558</td>\n",
       "      <td>1.027804</td>\n",
       "      <td>1.189136</td>\n",
       "      <td>8.941919</td>\n",
       "      <td>0.767935</td>\n",
       "      <td>42.886821</td>\n",
       "      <td>10.156163</td>\n",
       "      <td>5.974315</td>\n",
       "      <td>28.290980</td>\n",
       "    </tr>\n",
       "    <tr>\n",
       "      <th>min</th>\n",
       "      <td>-3.700000</td>\n",
       "      <td>-2.125511</td>\n",
       "      <td>1.076264</td>\n",
       "      <td>5.000000</td>\n",
       "      <td>0.000000</td>\n",
       "      <td>0.000000</td>\n",
       "      <td>0.000000</td>\n",
       "      <td>0.000000</td>\n",
       "      <td>0.000000</td>\n",
       "      <td>4.000000</td>\n",
       "      <td>0.000000</td>\n",
       "      <td>0.000000</td>\n",
       "    </tr>\n",
       "    <tr>\n",
       "      <th>25%</th>\n",
       "      <td>1.235000</td>\n",
       "      <td>1.431023</td>\n",
       "      <td>1.429476</td>\n",
       "      <td>12.000000</td>\n",
       "      <td>1.000000</td>\n",
       "      <td>0.000000</td>\n",
       "      <td>0.000000</td>\n",
       "      <td>0.000000</td>\n",
       "      <td>0.000000</td>\n",
       "      <td>14.000000</td>\n",
       "      <td>5.000000</td>\n",
       "      <td>18.474265</td>\n",
       "    </tr>\n",
       "    <tr>\n",
       "      <th>50%</th>\n",
       "      <td>2.955000</td>\n",
       "      <td>2.462817</td>\n",
       "      <td>1.939678</td>\n",
       "      <td>16.000000</td>\n",
       "      <td>1.000000</td>\n",
       "      <td>0.000000</td>\n",
       "      <td>0.000000</td>\n",
       "      <td>1.000000</td>\n",
       "      <td>50.000000</td>\n",
       "      <td>19.000000</td>\n",
       "      <td>6.000000</td>\n",
       "      <td>42.857143</td>\n",
       "    </tr>\n",
       "    <tr>\n",
       "      <th>75%</th>\n",
       "      <td>4.470000</td>\n",
       "      <td>3.449601</td>\n",
       "      <td>2.939435</td>\n",
       "      <td>20.000000</td>\n",
       "      <td>2.000000</td>\n",
       "      <td>1.000000</td>\n",
       "      <td>7.692308</td>\n",
       "      <td>1.000000</td>\n",
       "      <td>100.000000</td>\n",
       "      <td>24.000000</td>\n",
       "      <td>12.000000</td>\n",
       "      <td>58.126935</td>\n",
       "    </tr>\n",
       "    <tr>\n",
       "      <th>max</th>\n",
       "      <td>9.050000</td>\n",
       "      <td>8.522834</td>\n",
       "      <td>19.605604</td>\n",
       "      <td>49.000000</td>\n",
       "      <td>5.000000</td>\n",
       "      <td>7.000000</td>\n",
       "      <td>71.428571</td>\n",
       "      <td>4.000000</td>\n",
       "      <td>100.000000</td>\n",
       "      <td>88.000000</td>\n",
       "      <td>27.000000</td>\n",
       "      <td>100.000000</td>\n",
       "    </tr>\n",
       "  </tbody>\n",
       "</table>\n",
       "</div>"
      ],
      "text/plain": [
       "       y_expected  y_predicted       error  atom_count  ring_count  \\\n",
       "count  200.000000   200.000000  200.000000  200.000000  200.000000   \n",
       "mean     2.859567     2.565962    2.669916   16.465000    1.670000   \n",
       "std      2.370861     1.837567    2.437443    6.561558    1.027804   \n",
       "min     -3.700000    -2.125511    1.076264    5.000000    0.000000   \n",
       "25%      1.235000     1.431023    1.429476   12.000000    1.000000   \n",
       "50%      2.955000     2.462817    1.939678   16.000000    1.000000   \n",
       "75%      4.470000     3.449601    2.939435   20.000000    2.000000   \n",
       "max      9.050000     8.522834   19.605604   49.000000    5.000000   \n",
       "\n",
       "       non_organogens_count  non_organogens_percent  aromatic_count  \\\n",
       "count            200.000000              200.000000      200.000000   \n",
       "mean               0.805000                5.369636        0.865000   \n",
       "std                1.189136                8.941919        0.767935   \n",
       "min                0.000000                0.000000        0.000000   \n",
       "25%                0.000000                0.000000        0.000000   \n",
       "50%                0.000000                0.000000        1.000000   \n",
       "75%                1.000000                7.692308        1.000000   \n",
       "max                7.000000               71.428571        4.000000   \n",
       "\n",
       "       aromatic_rings_percent  bond_count  aromatic_bond_count  \\\n",
       "count              200.000000  200.000000           200.000000   \n",
       "mean                52.483333   19.910000             7.895000   \n",
       "std                 42.886821   10.156163             5.974315   \n",
       "min                  0.000000    4.000000             0.000000   \n",
       "25%                  0.000000   14.000000             5.000000   \n",
       "50%                 50.000000   19.000000             6.000000   \n",
       "75%                100.000000   24.000000            12.000000   \n",
       "max                100.000000   88.000000            27.000000   \n",
       "\n",
       "       aromatic_bond_percent  \n",
       "count             200.000000  \n",
       "mean               39.577981  \n",
       "std                28.290980  \n",
       "min                 0.000000  \n",
       "25%                18.474265  \n",
       "50%                42.857143  \n",
       "75%                58.126935  \n",
       "max               100.000000  "
      ]
     },
     "execution_count": 41,
     "metadata": {},
     "output_type": "execute_result"
    }
   ],
   "source": [
    "worst_n_vals.describe()"
   ]
  },
  {
   "cell_type": "markdown",
   "metadata": {},
   "source": [
    "### Check atom_count influence"
   ]
  },
  {
   "cell_type": "code",
   "execution_count": 42,
   "metadata": {},
   "outputs": [
    {
     "name": "stdout",
     "output_type": "stream",
     "text": [
      "Ttest_indResult(statistic=-0.8352539067863282, pvalue=0.40407587351928265)\n"
     ]
    }
   ],
   "source": [
    "print(stats.ttest_ind(best_n_vals.atom_count, worst_n_vals.atom_count))"
   ]
  },
  {
   "cell_type": "code",
   "execution_count": 43,
   "metadata": {},
   "outputs": [
    {
     "data": {
      "text/plain": [
       "<matplotlib.axes._subplots.AxesSubplot at 0x193568cabe0>"
      ]
     },
     "execution_count": 43,
     "metadata": {},
     "output_type": "execute_result"
    },
    {
     "data": {
      "image/png": "[encoded data removed]",
      "text/plain": [
       "<Figure size 432x288 with 1 Axes>"
      ]
     },
     "metadata": {
      "needs_background": "light"
     },
     "output_type": "display_data"
    }
   ],
   "source": [
    "sns.distplot(best_n_vals.atom_count, color='g')\n",
    "sns.distplot(worst_n_vals.atom_count, color='r')"
   ]
  },
  {
   "cell_type": "markdown",
   "metadata": {},
   "source": [
    "### Check ring_count influence"
   ]
  },
  {
   "cell_type": "code",
   "execution_count": 44,
   "metadata": {},
   "outputs": [
    {
     "name": "stdout",
     "output_type": "stream",
     "text": [
      "Ttest_indResult(statistic=-0.4551203186267767, pvalue=0.6492708443192239)\n"
     ]
    }
   ],
   "source": [
    "print(stats.ttest_ind(best_n_vals.ring_count, worst_n_vals.ring_count))"
   ]
  },
  {
   "cell_type": "code",
   "execution_count": 45,
   "metadata": {},
   "outputs": [
    {
     "data": {
      "text/plain": [
       "<matplotlib.axes._subplots.AxesSubplot at 0x193567cc4a8>"
      ]
     },
     "execution_count": 45,
     "metadata": {},
     "output_type": "execute_result"
    },
    {
     "data": {
      "image/png": "[encoded data removed]",
      "text/plain": [
       "<Figure size 432x288 with 1 Axes>"
      ]
     },
     "metadata": {
      "needs_background": "light"
     },
     "output_type": "display_data"
    }
   ],
   "source": [
    "sns.distplot(best_n_vals.ring_count, color='g')\n",
    "sns.distplot(worst_n_vals.ring_count, color='r')"
   ]
  },
  {
   "cell_type": "markdown",
   "metadata": {},
   "source": [
    "### Check non_organogens_count influence"
   ]
  },
  {
   "cell_type": "code",
   "execution_count": 46,
   "metadata": {},
   "outputs": [
    {
     "name": "stdout",
     "output_type": "stream",
     "text": [
      "Ttest_indResult(statistic=0.8633793511766968, pvalue=0.38844891072982524)\n"
     ]
    }
   ],
   "source": [
    "print(stats.ttest_ind(best_n_vals.non_organogens_count, worst_n_vals.non_organogens_count))"
   ]
  },
  {
   "cell_type": "code",
   "execution_count": 47,
   "metadata": {},
   "outputs": [
    {
     "data": {
      "text/plain": [
       "<matplotlib.axes._subplots.AxesSubplot at 0x193569a32e8>"
      ]
     },
     "execution_count": 47,
     "metadata": {},
     "output_type": "execute_result"
    },
    {
     "data": {
      "image/png": "[encoded data removed]",
      "text/plain": [
       "<Figure size 432x288 with 1 Axes>"
      ]
     },
     "metadata": {
      "needs_background": "light"
     },
     "output_type": "display_data"
    }
   ],
   "source": [
    "sns.distplot(best_n_vals.non_organogens_count, color='g')\n",
    "sns.distplot(worst_n_vals.non_organogens_count, color='r')"
   ]
  },
  {
   "cell_type": "markdown",
   "metadata": {},
   "source": [
    "### Check non_organogens_percent influence"
   ]
  },
  {
   "cell_type": "code",
   "execution_count": 48,
   "metadata": {},
   "outputs": [
    {
     "name": "stdout",
     "output_type": "stream",
     "text": [
      "Ttest_indResult(statistic=0.8530549718080837, pvalue=0.3941418969528051)\n"
     ]
    }
   ],
   "source": [
    "print(stats.ttest_ind(best_n_vals.non_organogens_percent, worst_n_vals.non_organogens_percent))"
   ]
  },
  {
   "cell_type": "code",
   "execution_count": 49,
   "metadata": {},
   "outputs": [
    {
     "data": {
      "text/plain": [
       "<matplotlib.axes._subplots.AxesSubplot at 0x193566b84a8>"
      ]
     },
     "execution_count": 49,
     "metadata": {},
     "output_type": "execute_result"
    },
    {
     "data": {
      "image/png": "[encoded data removed]",
      "text/plain": [
       "<Figure size 432x288 with 1 Axes>"
      ]
     },
     "metadata": {
      "needs_background": "light"
     },
     "output_type": "display_data"
    }
   ],
   "source": [
    "sns.distplot(best_n_vals.non_organogens_percent, color='g')\n",
    "sns.distplot(worst_n_vals.non_organogens_percent, color='r')"
   ]
  },
  {
   "cell_type": "markdown",
   "metadata": {},
   "source": [
    "### Check aromatic_count influence"
   ]
  },
  {
   "cell_type": "code",
   "execution_count": 50,
   "metadata": {},
   "outputs": [
    {
     "name": "stdout",
     "output_type": "stream",
     "text": [
      "Ttest_indResult(statistic=-0.5882915574115778, pvalue=0.5566702887092347)\n"
     ]
    }
   ],
   "source": [
    "print(stats.ttest_ind(best_n_vals.aromatic_count, worst_n_vals.aromatic_count))"
   ]
  },
  {
   "cell_type": "code",
   "execution_count": 51,
   "metadata": {},
   "outputs": [
    {
     "data": {
      "text/plain": [
       "<matplotlib.axes._subplots.AxesSubplot at 0x193565cc710>"
      ]
     },
     "execution_count": 51,
     "metadata": {},
     "output_type": "execute_result"
    },
    {
     "data": {
      "image/png": "[encoded data removed]",
      "text/plain": [
       "<Figure size 432x288 with 1 Axes>"
      ]
     },
     "metadata": {
      "needs_background": "light"
     },
     "output_type": "display_data"
    }
   ],
   "source": [
    "sns.distplot(best_n_vals.aromatic_count, color='g')\n",
    "sns.distplot(worst_n_vals.aromatic_count, color='r')"
   ]
  },
  {
   "cell_type": "markdown",
   "metadata": {},
   "source": [
    "### Check aromatic_rings_percent influence"
   ]
  },
  {
   "cell_type": "code",
   "execution_count": 52,
   "metadata": {},
   "outputs": [
    {
     "name": "stdout",
     "output_type": "stream",
     "text": [
      "Ttest_indResult(statistic=-1.0589571328327896, pvalue=0.290261556335811)\n"
     ]
    }
   ],
   "source": [
    "print(stats.ttest_ind(best_n_vals.aromatic_rings_percent, worst_n_vals.aromatic_rings_percent))"
   ]
  },
  {
   "cell_type": "code",
   "execution_count": 53,
   "metadata": {},
   "outputs": [
    {
     "data": {
      "text/plain": [
       "<matplotlib.axes._subplots.AxesSubplot at 0x1935669abe0>"
      ]
     },
     "execution_count": 53,
     "metadata": {},
     "output_type": "execute_result"
    },
    {
     "data": {
      "image/png": "[encoded data removed]",
      "text/plain": [
       "<Figure size 432x288 with 1 Axes>"
      ]
     },
     "metadata": {
      "needs_background": "light"
     },
     "output_type": "display_data"
    }
   ],
   "source": [
    "sns.distplot(best_n_vals.aromatic_rings_percent, color='g')\n",
    "sns.distplot(worst_n_vals.aromatic_rings_percent, color='r')"
   ]
  },
  {
   "cell_type": "markdown",
   "metadata": {},
   "source": [
    "### Check aromatic bond percent"
   ]
  },
  {
   "cell_type": "code",
   "execution_count": 54,
   "metadata": {},
   "outputs": [
    {
     "name": "stdout",
     "output_type": "stream",
     "text": [
      "Ttest_indResult(statistic=1.4633664745962878, pvalue=0.14415641225731635)\n"
     ]
    }
   ],
   "source": [
    "print(stats.ttest_ind(best_n_vals.aromatic_bond_percent, worst_n_vals.aromatic_bond_percent))"
   ]
  },
  {
   "cell_type": "code",
   "execution_count": 55,
   "metadata": {},
   "outputs": [
    {
     "data": {
      "text/plain": [
       "<matplotlib.axes._subplots.AxesSubplot at 0x19356882e10>"
      ]
     },
     "execution_count": 55,
     "metadata": {},
     "output_type": "execute_result"
    },
    {
     "data": {
      "image/png": "[encoded data removed]",
      "text/plain": [
       "<Figure size 432x288 with 1 Axes>"
      ]
     },
     "metadata": {
      "needs_background": "light"
     },
     "output_type": "display_data"
    }
   ],
   "source": [
    "sns.distplot(best_n_vals.aromatic_bond_percent, color='g')\n",
    "sns.distplot(worst_n_vals.aromatic_bond_percent, color='r')"
   ]
  },
  {
   "cell_type": "markdown",
   "metadata": {},
   "source": [
    "### Check aromatic bond count"
   ]
  },
  {
   "cell_type": "code",
   "execution_count": 56,
   "metadata": {},
   "outputs": [
    {
     "name": "stdout",
     "output_type": "stream",
     "text": [
      "Ttest_indResult(statistic=-2.038004099470416, pvalue=0.04221022264610617)\n"
     ]
    }
   ],
   "source": [
    "print(stats.ttest_ind(best_n_vals.aromatic_bond_count, worst_n_vals.aromatic_bond_count))"
   ]
  },
  {
   "cell_type": "code",
   "execution_count": 57,
   "metadata": {},
   "outputs": [
    {
     "data": {
      "text/plain": [
       "<matplotlib.axes._subplots.AxesSubplot at 0x1935aa05198>"
      ]
     },
     "execution_count": 57,
     "metadata": {},
     "output_type": "execute_result"
    },
    {
     "data": {
      "image/png": "[encoded data removed]",
      "text/plain": [
       "<Figure size 432x288 with 1 Axes>"
      ]
     },
     "metadata": {
      "needs_background": "light"
     },
     "output_type": "display_data"
    }
   ],
   "source": [
    "sns.distplot(best_n_vals.aromatic_bond_count, color='g')\n",
    "sns.distplot(worst_n_vals.aromatic_bond_count, color='r')"
   ]
  },
  {
   "cell_type": "code",
   "execution_count": null,
   "metadata": {},
   "outputs": [],
   "source": []
  },
  {
   "cell_type": "markdown",
   "metadata": {},
   "source": [
    "### Check symmetric count"
   ]
  },
  {
   "cell_type": "code",
   "execution_count": 58,
   "metadata": {},
   "outputs": [
    {
     "data": {
      "text/plain": [
       "<matplotlib.axes._subplots.AxesSubplot at 0x1935aa05e10>"
      ]
     },
     "execution_count": 58,
     "metadata": {},
     "output_type": "execute_result"
    },
    {
     "data": {
      "image/png": "[encoded data removed]",
      "text/plain": [
       "<Figure size 432x288 with 1 Axes>"
      ]
     },
     "metadata": {
      "needs_background": "light"
     },
     "output_type": "display_data"
    }
   ],
   "source": [
    "sns.distplot(best_n_vals.is_symmetric, color='g')\n",
    "sns.distplot(worst_n_vals.is_symmetric, color='r')"
   ]
  },
  {
   "cell_type": "markdown",
   "metadata": {},
   "source": [
    "### Metrics analysis among symmetric and not symmetric molecules"
   ]
  },
  {
   "cell_type": "code",
   "execution_count": 59,
   "metadata": {},
   "outputs": [],
   "source": [
    "symmetric_rull = lambda values: (len(values) - 1 <= len(values[values % 2 == 0])) or (len(values) - 1 <= len(values[(values % 2 == 1) & (values > 1)]))"
   ]
  },
  {
   "cell_type": "code",
   "execution_count": 60,
   "metadata": {},
   "outputs": [],
   "source": [
    "values_list = [pd.Series(Chem.CanonicalRankAtoms(mol, breakTies=False)).value_counts() for mol in X_test_mol]\n",
    "symmetric_indices = [symmetric_rull(values) for values in values_list]\n",
    "not_symmetric_indices = [not e for e in symmetric_indices]"
   ]
  },
  {
   "cell_type": "code",
   "execution_count": 61,
   "metadata": {},
   "outputs": [],
   "source": [
    "symmetric_y_predicted = compare_data.y_predicted[symmetric_indices]"
   ]
  },
  {
   "cell_type": "code",
   "execution_count": 62,
   "metadata": {},
   "outputs": [],
   "source": [
    "symmetric_y_expected = compare_data.y_expected[symmetric_indices]"
   ]
  },
  {
   "cell_type": "code",
   "execution_count": 63,
   "metadata": {},
   "outputs": [],
   "source": [
    "not_symmetric_y_predicted = compare_data.y_predicted[not_symmetric_indices]"
   ]
  },
  {
   "cell_type": "code",
   "execution_count": 64,
   "metadata": {},
   "outputs": [],
   "source": [
    "not_symmetric_y_expected = compare_data.y_expected[not_symmetric_indices]"
   ]
  },
  {
   "cell_type": "code",
   "execution_count": 65,
   "metadata": {},
   "outputs": [
    {
     "name": "stdout",
     "output_type": "stream",
     "text": [
      "Test symmetric RMSE = 0.6412966924631641\n",
      "Test symmetric R2-score is 0.8555035248132735\n"
     ]
    }
   ],
   "source": [
    "print(\"Test symmetric RMSE =\", mean_squared_error(symmetric_y_expected, symmetric_y_predicted, squared=False))\n",
    "print(\"Test symmetric R2-score is {0}\".format(r2_score(symmetric_y_expected, symmetric_y_predicted)))"
   ]
  },
  {
   "cell_type": "code",
   "execution_count": 66,
   "metadata": {},
   "outputs": [
    {
     "name": "stdout",
     "output_type": "stream",
     "text": [
      "Test not symmetric RMSE = 0.6688050411122656\n",
      "Test not symmetric R2-score is 0.8649765446029413\n"
     ]
    }
   ],
   "source": [
    "print(\"Test not symmetric RMSE =\", mean_squared_error(not_symmetric_y_expected, not_symmetric_y_predicted, squared=False))\n",
    "print(\"Test not symmetric R2-score is {0}\".format(r2_score(not_symmetric_y_expected, not_symmetric_y_predicted)))"
   ]
  },
  {
   "cell_type": "code",
   "execution_count": null,
   "metadata": {},
   "outputs": [],
   "source": []
  }
 ],
 "metadata": {
  "kernelspec": {
   "display_name": "chemvae",
   "language": "python",
   "name": "chemvae"
  },
  "language_info": {
   "codemirror_mode": {
    "name": "ipython",
    "version": 3
   },
   "file_extension": ".py",
   "mimetype": "text/x-python",
   "name": "python",
   "nbconvert_exporter": "python",
   "pygments_lexer": "ipython3",
   "version": "3.6.10"
  }
 },
 "nbformat": 4,
 "nbformat_minor": 4
}
