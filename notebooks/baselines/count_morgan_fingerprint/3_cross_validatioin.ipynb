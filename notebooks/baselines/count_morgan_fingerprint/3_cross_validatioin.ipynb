{
 "cells": [
  {
   "cell_type": "markdown",
   "metadata": {},
   "source": [
    "## Summary\n",
    "\n",
    "### Data split\n",
    "- Train and validate datasets were merged - cross dataset\n",
    "- Train and validate datasets were made using the cross dataset.\n",
    "- It was split into 4 parts and each time the new part was used as validation dsataset.\n",
    "\n",
    "### Results\n",
    "- Test rmse: 0.582178 +/- 0.016978\n",
    "- Test r2: 0.896924 +/- 0.006035"
   ]
  },
  {
   "cell_type": "code",
   "execution_count": 1,
   "metadata": {},
   "outputs": [],
   "source": [
    "import pandas as pd\n",
    "import numpy as np\n",
    "import time\n",
    "from sklearn.neural_network import MLPRegressor\n",
    "from rdkit import Chem, DataStructs\n",
    "from rdkit.Chem import AllChem\n",
    "from sklearn.metrics import mean_squared_error, r2_score\n",
    "from warnings import filterwarnings\n",
    "from sklearn.model_selection import train_test_split\n",
    "filterwarnings('ignore')"
   ]
  },
  {
   "cell_type": "code",
   "execution_count": 2,
   "metadata": {},
   "outputs": [],
   "source": [
    "data_train = pd.read_csv('../../../data/3_final_data/split_data/logP_wo_parameters_train.csv', index_col=0)\n",
    "data_valid = pd.read_csv('../../../data/3_final_data/split_data/logP_wo_parameters_validation.csv', index_col=0)\n",
    "data_test = pd.read_csv('../../../data/3_final_data/split_data/logP_wo_parameters_test.csv', index_col=0)"
   ]
  },
  {
   "cell_type": "code",
   "execution_count": 3,
   "metadata": {},
   "outputs": [],
   "source": [
    "data_cross = pd.concat([data_train, data_valid])"
   ]
  },
  {
   "cell_type": "code",
   "execution_count": 4,
   "metadata": {},
   "outputs": [],
   "source": [
    "def get_morgan_count_fps(data, bits=4096, radius=2):\n",
    "    X = [AllChem.GetHashedMorganFingerprint(m, radius, nBits=bits) for m in data]\n",
    "    X_list = []\n",
    "    for x in X:\n",
    "        array = np.zeros((0,), dtype=np.int64)\n",
    "        DataStructs.ConvertToNumpyArray(x, array)\n",
    "        X_list.append(array)\n",
    "    X = pd.DataFrame(X_list)\n",
    "    return X"
   ]
  },
  {
   "cell_type": "code",
   "execution_count": 5,
   "metadata": {},
   "outputs": [],
   "source": [
    "X_test_mol = [Chem.MolFromSmiles(x) for x in data_test.smiles]\n",
    "X_test = get_morgan_count_fps(X_test_mol)\n",
    "y_test = data_test.logP"
   ]
  },
  {
   "cell_type": "code",
   "execution_count": 6,
   "metadata": {},
   "outputs": [],
   "source": [
    "rmse_values = []\n",
    "r2_values = []"
   ]
  },
  {
   "cell_type": "code",
   "execution_count": 7,
   "metadata": {},
   "outputs": [],
   "source": [
    "part_size = len(data_cross) // 4"
   ]
  },
  {
   "cell_type": "code",
   "execution_count": 8,
   "metadata": {},
   "outputs": [
    {
     "data": {
      "text/plain": [
       "10732"
      ]
     },
     "execution_count": 8,
     "metadata": {},
     "output_type": "execute_result"
    }
   ],
   "source": [
    "len(data_cross)"
   ]
  },
  {
   "cell_type": "code",
   "execution_count": 9,
   "metadata": {
    "scrolled": true
   },
   "outputs": [
    {
     "name": "stdout",
     "output_type": "stream",
     "text": [
      "Fold 0 is started\n",
      "0         True\n",
      "1         True\n",
      "2         True\n",
      "3         True\n",
      "4         True\n",
      "         ...  \n",
      "10727    False\n",
      "10728    False\n",
      "10729    False\n",
      "10730    False\n",
      "10731    False\n",
      "Length: 10732, dtype: bool\n",
      "Counted fingerprints\n",
      "Fold 1 is started\n",
      "0        False\n",
      "1        False\n",
      "2        False\n",
      "3        False\n",
      "4        False\n",
      "         ...  \n",
      "10727    False\n",
      "10728    False\n",
      "10729    False\n",
      "10730    False\n",
      "10731    False\n",
      "Length: 10732, dtype: bool\n",
      "Counted fingerprints\n",
      "Fold 2 is started\n",
      "0        False\n",
      "1        False\n",
      "2        False\n",
      "3        False\n",
      "4        False\n",
      "         ...  \n",
      "10727    False\n",
      "10728    False\n",
      "10729    False\n",
      "10730    False\n",
      "10731    False\n",
      "Length: 10732, dtype: bool\n",
      "Counted fingerprints\n",
      "Fold 3 is started\n",
      "0        False\n",
      "1        False\n",
      "2        False\n",
      "3        False\n",
      "4        False\n",
      "         ...  \n",
      "10727     True\n",
      "10728     True\n",
      "10729     True\n",
      "10730     True\n",
      "10731     True\n",
      "Length: 10732, dtype: bool\n",
      "Counted fingerprints\n"
     ]
    }
   ],
   "source": [
    "for i in range(4):\n",
    "    print(f\"Fold {i} is started\")\n",
    "    valid_indices = pd.Series([i * part_size <= j < (i + 1) * part_size for j in range(len(data_cross))])\n",
    "    print(valid_indices)\n",
    "    train_data = data_cross[~valid_indices]\n",
    "    valid_data = data_cross[valid_indices]\n",
    "    X_train_mol = [Chem.MolFromSmiles(smi) for smi in train_data.smiles]\n",
    "    y_train = train_data.logP\n",
    "    X_valid_mol = [Chem.MolFromSmiles(smi) for smi in valid_data.smiles]\n",
    "    y_valid = valid_data.logP\n",
    "    \n",
    "    X_train = get_morgan_count_fps(X_train_mol)\n",
    "    X_valid = get_morgan_count_fps(X_valid_mol)\n",
    "\n",
    "    print(\"Counted fingerprints\")\n",
    "    regr = MLPRegressor(random_state=10, max_iter=7)\n",
    "    regr.fit(X_train, y_train)\n",
    "    test_rmse = mean_squared_error(y_test, regr.predict(X_test), squared=False)\n",
    "    test_r2 = r2_score(y_test, regr.predict(X_test))\n",
    "    rmse_values.append(test_rmse)\n",
    "    r2_values.append(test_r2)\n"
   ]
  },
  {
   "cell_type": "code",
   "execution_count": 10,
   "metadata": {
    "scrolled": true
   },
   "outputs": [],
   "source": [
    "rmse_values = pd.Series(rmse_values)\n",
    "r2_values = pd.Series(r2_values)"
   ]
  },
  {
   "cell_type": "code",
   "execution_count": 11,
   "metadata": {},
   "outputs": [
    {
     "data": {
      "text/plain": [
       "0    0.603630\n",
       "1    0.587504\n",
       "2    0.571763\n",
       "3    0.565816\n",
       "dtype: float64"
      ]
     },
     "execution_count": 11,
     "metadata": {},
     "output_type": "execute_result"
    }
   ],
   "source": [
    "rmse_values"
   ]
  },
  {
   "cell_type": "code",
   "execution_count": 12,
   "metadata": {},
   "outputs": [
    {
     "data": {
      "text/plain": [
       "count    4.000000\n",
       "mean     0.582178\n",
       "std      0.016978\n",
       "min      0.565816\n",
       "25%      0.570276\n",
       "50%      0.579634\n",
       "75%      0.591536\n",
       "max      0.603630\n",
       "dtype: float64"
      ]
     },
     "execution_count": 12,
     "metadata": {},
     "output_type": "execute_result"
    }
   ],
   "source": [
    "rmse_values.describe()"
   ]
  },
  {
   "cell_type": "code",
   "execution_count": 13,
   "metadata": {},
   "outputs": [
    {
     "data": {
      "text/plain": [
       "0    0.889259\n",
       "1    0.895097\n",
       "2    0.900643\n",
       "3    0.902699\n",
       "dtype: float64"
      ]
     },
     "execution_count": 13,
     "metadata": {},
     "output_type": "execute_result"
    }
   ],
   "source": [
    "r2_values"
   ]
  },
  {
   "cell_type": "code",
   "execution_count": 14,
   "metadata": {},
   "outputs": [
    {
     "data": {
      "text/plain": [
       "count    4.000000\n",
       "mean     0.896924\n",
       "std      0.006035\n",
       "min      0.889259\n",
       "25%      0.893637\n",
       "50%      0.897870\n",
       "75%      0.901157\n",
       "max      0.902699\n",
       "dtype: float64"
      ]
     },
     "execution_count": 14,
     "metadata": {},
     "output_type": "execute_result"
    }
   ],
   "source": [
    "r2_values.describe()"
   ]
  }
 ],
 "metadata": {
  "kernelspec": {
   "display_name": "chemvae",
   "language": "python",
   "name": "chemvae"
  },
  "language_info": {
   "codemirror_mode": {
    "name": "ipython",
    "version": 3
   },
   "file_extension": ".py",
   "mimetype": "text/x-python",
   "name": "python",
   "nbconvert_exporter": "python",
   "pygments_lexer": "ipython3",
   "version": "3.6.10"
  }
 },
 "nbformat": 4,
 "nbformat_minor": 4
}
