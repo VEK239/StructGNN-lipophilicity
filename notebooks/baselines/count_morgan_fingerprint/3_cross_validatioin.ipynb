{
 "cells": [
  {
   "cell_type": "markdown",
   "metadata": {},
   "source": [
    "## Summary\n",
    "\n",
    "### Data split\n",
    "- Train and validate datasets were merged - cross dataset\n",
    "- Train and validate datasets were made using the cross dataset.\n",
    "- It was split into 4 parts and each time the new part was used as validation dsataset.\n",
    "\n",
    "### Results\n",
    "- Test rmse: 0.582178 +/- 0.016978\n",
    "- Test r2: 0.896924 +/- 0.006035"
   ]
  },
  {
   "cell_type": "code",
   "execution_count": 1,
   "metadata": {},
   "outputs": [],
   "source": [
    "import pandas as pd\n",
    "import numpy as np\n",
    "import time\n",
    "from sklearn.neural_network import MLPRegressor\n",
    "from rdkit import Chem, DataStructs\n",
    "from rdkit.Chem import AllChem\n",
    "from sklearn.metrics import mean_squared_error, r2_score\n",
    "from warnings import filterwarnings\n",
    "from sklearn.model_selection import train_test_split\n",
    "filterwarnings('ignore')"
   ]
  },
  {
   "cell_type": "code",
   "execution_count": 2,
   "metadata": {},
   "outputs": [],
   "source": [
    "data_train = pd.read_csv('../../../data/3_final_data/split_data/logP_wo_parameters_train.csv', index_col=0)\n",
    "data_valid = pd.read_csv('../../../data/3_final_data/split_data/logP_wo_parameters_validation.csv', index_col=0)\n",
    "data_test = pd.read_csv('../../../data/3_final_data/split_data/logP_wo_parameters_test.csv', index_col=0)"
   ]
  },
  {
   "cell_type": "code",
   "execution_count": 3,
   "metadata": {},
   "outputs": [],
   "source": [
    "data_cross = pd.concat([data_train, data_valid])"
   ]
  },
  {
   "cell_type": "code",
   "execution_count": 4,
   "metadata": {},
   "outputs": [],
   "source": [
    "def get_morgan_count_fps(data, bits=4096, radius=2):\n",
    "    X = [AllChem.GetHashedMorganFingerprint(m, radius, nBits=bits) for m in data]\n",
    "    X_list = []\n",
    "    for x in X:\n",
    "        array = np.zeros((0,), dtype=np.int64)\n",
    "        DataStructs.ConvertToNumpyArray(x, array)\n",
    "        X_list.append(array)\n",
    "    X = pd.DataFrame(X_list)\n",
    "    return X"
   ]
  },
  {
   "cell_type": "code",
   "execution_count": 5,
   "metadata": {},
   "outputs": [],
   "source": [
    "X_test_mol = [Chem.MolFromSmiles(x) for x in data_test.smiles]\n",
    "X_test = get_morgan_count_fps(X_test_mol)\n",
    "y_test = data_test.logP"
   ]
  },
  {
   "cell_type": "code",
   "execution_count": 6,
   "metadata": {},
   "outputs": [],
   "source": [
    "rmse_values = []\n",
    "r2_values = []"
   ]
  },
  {
   "cell_type": "code",
   "execution_count": 7,
   "metadata": {},
   "outputs": [],
   "source": [
    "part_size = len(data_cross) // 4"
   ]
  },
  {
   "cell_type": "code",
   "execution_count": 8,
   "metadata": {},
   "outputs": [
    {
     "data": {
      "text/plain": [
       "10732"
      ]
     },
     "execution_count": 8,
     "metadata": {},
     "output_type": "execute_result"
    }
   ],
   "source": [
    "len(data_cross)"
   ]
  },
  {
   "cell_type": "code",
   "execution_count": 9,
   "metadata": {
    "scrolled": true
   },
   "outputs": [
    {
     "name": "stdout",
     "output_type": "stream",
     "text": [
      "Fold 0 is started\n",
      "0         True\n",
      "1         True\n",
      "2         True\n",
      "3         True\n",
      "4         True\n",
      "         ...  \n",
      "10727    False\n",
      "10728    False\n",
      "10729    False\n",
      "10730    False\n",
      "10731    False\n",
      "Length: 10732, dtype: bool\n",
      "Counted fingerprints\n",
      "Fold 1 is started\n",
      "0        False\n",
      "1        False\n",
      "2        False\n",
      "3        False\n",
      "4        False\n",
      "         ...  \n",
      "10727    False\n",
      "10728    False\n",
      "10729    False\n",
      "10730    False\n",
      "10731    False\n",
      "Length: 10732, dtype: bool\n",
      "Counted fingerprints\n",
      "Fold 2 is started\n",
      "0        False\n",
      "1        False\n",
      "2        False\n",
      "3        False\n",
      "4        False\n",
      "         ...  \n",
      "10727    False\n",
      "10728    False\n",
      "10729    False\n",
      "10730    False\n",
      "10731    False\n",
      "Length: 10732, dtype: bool\n",
      "Counted fingerprints\n",
      "Fold 3 is started\n",
      "0        False\n",
      "1        False\n",
      "2        False\n",
      "3        False\n",
      "4        False\n",
      "         ...  \n",
      "10727     True\n",
      "10728     True\n",
      "10729     True\n",
      "10730     True\n",
      "10731     True\n",
      "Length: 10732, dtype: bool\n",
      "Counted fingerprints\n"
     ]
    }
   ],
   "source": [
    "for i in range(4):\n",
    "    print(f\"Fold {i} is started\")\n",
    "    valid_indices = pd.Series([i * part_size <= j < (i + 1) * part_size for j in range(len(data_cross))])\n",
    "    print(valid_indices)\n",
    "    train_data = data_cross[~valid_indices]\n",
    "    valid_data = data_cross[valid_indices]\n",
    "    X_train_mol = [Chem.MolFromSmiles(smi) for smi in train_data.smiles]\n",
    "    y_train = train_data.logP\n",
    "    X_valid_mol = [Chem.MolFromSmiles(smi) for smi in valid_data.smiles]\n",
    "    y_valid = valid_data.logP\n",
    "    \n",
    "    X_train = get_morgan_count_fps(X_train_mol)\n",
    "    X_valid = get_morgan_count_fps(X_valid_mol)\n",
    "\n",
    "    print(\"Counted fingerprints\")\n",
    "    regr = MLPRegressor(random_state=10, max_iter=7)\n",
    "    regr.fit(X_train, y_train)\n",
    "    test_rmse = mean_squared_error(y_test, regr.predict(X_test), squared=False)\n",
    "    test_r2 = r2_score(y_test, regr.predict(X_test))\n",
    "    rmse_values.append(test_rmse)\n",
    "    r2_values.append(test_r2)\n"
   ]
  },
  {
   "cell_type": "code",
   "execution_count": 10,
   "metadata": {
    "scrolled": true
   },
   "outputs": [],
   "source": [
    "rmse_values = pd.Series(rmse_values)\n",
    "r2_values = pd.Series(r2_values)"
   ]
  },
  {
   "cell_type": "code",
   "execution_count": 11,
   "metadata": {},
   "outputs": [
    {
     "data": {
      "text/plain": [
       "0    0.603630\n",
       "1    0.587504\n",
       "2    0.571763\n",
       "3    0.565816\n",
       "dtype: float64"
      ]
     },
     "execution_count": 11,
     "metadata": {},
     "output_type": "execute_result"
    }
   ],
   "source": [
    "rmse_values"
   ]
  },
  {
   "cell_type": "code",
   "execution_count": 12,
   "metadata": {},
   "outputs": [
    {
     "data": {
      "text/plain": [
       "count    4.000000\n",
       "mean     0.582178\n",
       "std      0.016978\n",
       "min      0.565816\n",
       "25%      0.570276\n",
       "50%      0.579634\n",
       "75%      0.591536\n",
       "max      0.603630\n",
       "dtype: float64"
      ]
     },
     "execution_count": 12,
     "metadata": {},
     "output_type": "execute_result"
    }
   ],
   "source": [
    "rmse_values.describe()"
   ]
  },
  {
   "cell_type": "code",
   "execution_count": 13,
   "metadata": {},
   "outputs": [
    {
     "data": {
      "text/plain": [
       "0    0.889259\n",
       "1    0.895097\n",
       "2    0.900643\n",
       "3    0.902699\n",
       "dtype: float64"
      ]
     },
     "execution_count": 13,
     "metadata": {},
     "output_type": "execute_result"
    }
   ],
   "source": [
    "r2_values"
   ]
  },
  {
   "cell_type": "code",
   "execution_count": 14,
   "metadata": {},
   "outputs": [
    {
     "data": {
      "text/plain": [
       "count    4.000000\n",
       "mean     0.896924\n",
       "std      0.006035\n",
       "min      0.889259\n",
       "25%      0.893637\n",
       "50%      0.897870\n",
       "75%      0.901157\n",
       "max      0.902699\n",
       "dtype: float64"
      ]
     },
     "execution_count": 14,
     "metadata": {},
     "output_type": "execute_result"
    }
   ],
   "source": [
    "r2_values.describe()"
   ]
  },
  {
   "cell_type": "markdown",
   "metadata": {},
   "source": [
    "## LogP wo averaging"
   ]
  },
  {
   "cell_type": "code",
   "execution_count": 5,
   "metadata": {},
   "outputs": [],
   "source": [
    "import pandas as pd\n",
    "import numpy as np\n",
    "import time\n",
    "from sklearn.neural_network import MLPRegressor\n",
    "from rdkit import Chem, DataStructs\n",
    "from rdkit.Chem import AllChem\n",
    "from sklearn.metrics import mean_squared_error, r2_score\n",
    "from warnings import filterwarnings\n",
    "from sklearn.model_selection import train_test_split\n",
    "filterwarnings('ignore')\n",
    "import os\n",
    "from sklearn.model_selection import KFold\n",
    "from tqdm import tqdm"
   ]
  },
  {
   "cell_type": "code",
   "execution_count": 6,
   "metadata": {},
   "outputs": [],
   "source": [
    "DATA_PATH = '../../../data/3_final_data/split_data/'\n",
    "\n",
    "RAW_PATH = '../../../data/raw/baselines/morganfp'\n",
    "\n",
    "FILE_PREFIX = 'logp_wo_averaging'\n",
    "\n",
    "SMILES_COLUMN = 'smiles'\n",
    "VALUE_COLUMN = 'logP'\n",
    "\n",
    "BITS_NUM = 8192"
   ]
  },
  {
   "cell_type": "code",
   "execution_count": 7,
   "metadata": {},
   "outputs": [],
   "source": [
    "data_train = pd.read_csv(os.path.join(DATA_PATH, FILE_PREFIX+'_train.csv'), index_col=0)\n",
    "data_valid = pd.read_csv(os.path.join(DATA_PATH, FILE_PREFIX+'_validation.csv'), index_col=0)\n",
    "data_test = pd.read_csv(os.path.join(DATA_PATH, FILE_PREFIX+'_test.csv'), index_col=0)"
   ]
  },
  {
   "cell_type": "code",
   "execution_count": 8,
   "metadata": {},
   "outputs": [],
   "source": [
    "data_cross = pd.concat([data_train, data_valid])"
   ]
  },
  {
   "cell_type": "code",
   "execution_count": 9,
   "metadata": {},
   "outputs": [],
   "source": [
    "def get_morgan_count_fps(data, bits=4096, radius=2):\n",
    "    X = [AllChem.GetHashedMorganFingerprint(m, radius, nBits=bits) for m in data]\n",
    "    X_list = []\n",
    "    for x in tqdm(X):\n",
    "        array = np.zeros((0,), dtype=np.int64)\n",
    "        DataStructs.ConvertToNumpyArray(x, array)\n",
    "        X_list.append(array)\n",
    "    X = pd.DataFrame(X_list)\n",
    "    return X"
   ]
  },
  {
   "cell_type": "markdown",
   "metadata": {},
   "source": [
    "### Bits Number 8192"
   ]
  },
  {
   "cell_type": "code",
   "execution_count": 12,
   "metadata": {},
   "outputs": [],
   "source": [
    "BITS_NUM = 8192"
   ]
  },
  {
   "cell_type": "code",
   "execution_count": 13,
   "metadata": {},
   "outputs": [],
   "source": [
    "kf = KFold(n_splits=4, shuffle=False)"
   ]
  },
  {
   "cell_type": "code",
   "execution_count": 14,
   "metadata": {},
   "outputs": [
    {
     "name": "stderr",
     "output_type": "stream",
     "text": [
      "100%|██████████| 2067/2067 [00:00<00:00, 4140.70it/s]\n"
     ]
    },
    {
     "name": "stdout",
     "output_type": "stream",
     "text": [
      "Fold 0 is started\n"
     ]
    },
    {
     "name": "stderr",
     "output_type": "stream",
     "text": [
      "100%|██████████| 8782/8782 [00:02<00:00, 3882.67it/s]\n",
      "100%|██████████| 2928/2928 [00:00<00:00, 4144.10it/s]\n"
     ]
    },
    {
     "name": "stdout",
     "output_type": "stream",
     "text": [
      "Counted fingerprints\n",
      "Fold 1 is started\n"
     ]
    },
    {
     "name": "stderr",
     "output_type": "stream",
     "text": [
      "100%|██████████| 8782/8782 [00:02<00:00, 4154.18it/s]\n",
      "100%|██████████| 2928/2928 [00:00<00:00, 4147.85it/s]\n"
     ]
    },
    {
     "name": "stdout",
     "output_type": "stream",
     "text": [
      "Counted fingerprints\n",
      "Fold 2 is started\n"
     ]
    },
    {
     "name": "stderr",
     "output_type": "stream",
     "text": [
      "100%|██████████| 8783/8783 [00:02<00:00, 4140.13it/s]\n",
      "100%|██████████| 2927/2927 [00:00<00:00, 4150.70it/s]\n"
     ]
    },
    {
     "name": "stdout",
     "output_type": "stream",
     "text": [
      "Counted fingerprints\n",
      "Fold 3 is started\n"
     ]
    },
    {
     "name": "stderr",
     "output_type": "stream",
     "text": [
      "100%|██████████| 8783/8783 [00:02<00:00, 4149.21it/s]\n",
      "100%|██████████| 2927/2927 [00:00<00:00, 4155.18it/s]\n"
     ]
    },
    {
     "name": "stdout",
     "output_type": "stream",
     "text": [
      "Counted fingerprints\n"
     ]
    }
   ],
   "source": [
    "rmse_values = []\n",
    "r2_values = []\n",
    "X_test_mol = [Chem.MolFromSmiles(x) for x in data_test[SMILES_COLUMN]]\n",
    "X_test = get_morgan_count_fps(X_test_mol, bits = BITS_NUM)\n",
    "y_test = data_test[VALUE_COLUMN]\n",
    "for i, (train_index, val_index) in enumerate(kf.split(data_cross)):\n",
    "    print(f\"Fold {i} is started\")\n",
    "    train_data = data_cross.iloc[train_index]\n",
    "    valid_data = data_cross.iloc[val_index]\n",
    "    X_train_mol = [Chem.MolFromSmiles(smi) for smi in train_data[SMILES_COLUMN]]\n",
    "    y_train = train_data[VALUE_COLUMN]\n",
    "    X_valid_mol = [Chem.MolFromSmiles(smi) for smi in valid_data[SMILES_COLUMN]]\n",
    "    y_valid = valid_data[VALUE_COLUMN]\n",
    "    \n",
    "    X_train = get_morgan_count_fps(X_train_mol, bits = BITS_NUM)\n",
    "    X_valid = get_morgan_count_fps(X_valid_mol, bits = BITS_NUM)\n",
    "\n",
    "    print(\"Counted fingerprints\")\n",
    "    regr = MLPRegressor(random_state=10, max_iter=7)\n",
    "    regr.fit(X_train, y_train)\n",
    "    test_rmse = mean_squared_error(y_test, regr.predict(X_test), squared=False)\n",
    "    test_r2 = r2_score(y_test, regr.predict(X_test))\n",
    "    rmse_values.append(test_rmse)\n",
    "    r2_values.append(test_r2)\n",
    "    \n",
    "    test_predictions = pd.DataFrame(columns=[SMILES_COLUMN, VALUE_COLUMN, VALUE_COLUMN+'_pred'])\n",
    "    test_predictions[SMILES_COLUMN] = data_test[SMILES_COLUMN]\n",
    "    test_predictions[VALUE_COLUMN] = data_test[VALUE_COLUMN]\n",
    "    test_predictions[VALUE_COLUMN+'_pred'] = regr.predict(X_test)\n",
    "    \n",
    "    test_predictions.to_csv(os.path.join(RAW_PATH, FILE_PREFIX+'_test_predictions_'+str(i)+'.csv'))"
   ]
  },
  {
   "cell_type": "code",
   "execution_count": 15,
   "metadata": {},
   "outputs": [],
   "source": [
    "rmse_values = pd.Series(rmse_values)\n",
    "r2_values = pd.Series(r2_values)"
   ]
  },
  {
   "cell_type": "code",
   "execution_count": 16,
   "metadata": {},
   "outputs": [
    {
     "data": {
      "text/plain": [
       "count    4.000000\n",
       "mean     0.572404\n",
       "std      0.000803\n",
       "min      0.571275\n",
       "25%      0.572119\n",
       "50%      0.572636\n",
       "75%      0.572920\n",
       "max      0.573070\n",
       "dtype: float64"
      ]
     },
     "execution_count": 16,
     "metadata": {},
     "output_type": "execute_result"
    }
   ],
   "source": [
    "rmse_values.describe()"
   ]
  },
  {
   "cell_type": "code",
   "execution_count": 17,
   "metadata": {},
   "outputs": [
    {
     "data": {
      "text/plain": [
       "count    4.000000\n",
       "mean     0.902705\n",
       "std      0.000273\n",
       "min      0.902479\n",
       "25%      0.902530\n",
       "50%      0.902627\n",
       "75%      0.902802\n",
       "max      0.903089\n",
       "dtype: float64"
      ]
     },
     "execution_count": 17,
     "metadata": {},
     "output_type": "execute_result"
    }
   ],
   "source": [
    "r2_values.describe()"
   ]
  },
  {
   "cell_type": "markdown",
   "metadata": {},
   "source": [
    "### Bits Number 4096"
   ]
  },
  {
   "cell_type": "code",
   "execution_count": 18,
   "metadata": {},
   "outputs": [],
   "source": [
    "BITS_NUM = 4096"
   ]
  },
  {
   "cell_type": "code",
   "execution_count": 19,
   "metadata": {},
   "outputs": [],
   "source": [
    "kf = KFold(n_splits=4, shuffle=False)"
   ]
  },
  {
   "cell_type": "code",
   "execution_count": 10,
   "metadata": {},
   "outputs": [
    {
     "name": "stdout",
     "output_type": "stream",
     "text": [
      "Fold 0 is started\n"
     ]
    },
    {
     "name": "stderr",
     "output_type": "stream",
     "text": [
      "100%|██████████| 8782/8782 [00:01<00:00, 7322.23it/s]\n",
      "100%|██████████| 2928/2928 [00:00<00:00, 8048.18it/s]\n"
     ]
    },
    {
     "name": "stdout",
     "output_type": "stream",
     "text": [
      "Counted fingerprints\n",
      "Fold 1 is started\n"
     ]
    },
    {
     "name": "stderr",
     "output_type": "stream",
     "text": [
      "100%|██████████| 8782/8782 [00:01<00:00, 8138.14it/s]\n",
      "100%|██████████| 2928/2928 [00:00<00:00, 8098.23it/s]\n"
     ]
    },
    {
     "name": "stdout",
     "output_type": "stream",
     "text": [
      "Counted fingerprints\n",
      "Fold 2 is started\n"
     ]
    },
    {
     "name": "stderr",
     "output_type": "stream",
     "text": [
      "100%|██████████| 8783/8783 [00:01<00:00, 8128.82it/s]\n",
      "100%|██████████| 2927/2927 [00:00<00:00, 8113.32it/s]\n"
     ]
    },
    {
     "name": "stdout",
     "output_type": "stream",
     "text": [
      "Counted fingerprints\n",
      "Fold 3 is started\n"
     ]
    },
    {
     "name": "stderr",
     "output_type": "stream",
     "text": [
      "100%|██████████| 8783/8783 [00:01<00:00, 8121.89it/s]\n",
      "100%|██████████| 2927/2927 [00:00<00:00, 8109.01it/s]\n"
     ]
    },
    {
     "name": "stdout",
     "output_type": "stream",
     "text": [
      "Counted fingerprints\n"
     ]
    }
   ],
   "source": [
    "rmse_values = []\n",
    "r2_values = []\n",
    "X_test_mol = [Chem.MolFromSmiles(x) for x in data_test[SMILES_COLUMN]]\n",
    "X_test = get_morgan_count_fps(X_test_mol, bits = BITS_NUM)\n",
    "y_test = data_test[VALUE_COLUMN]\n",
    "for i, (train_index, val_index) in enumerate(kf.split(data_cross)):\n",
    "    print(f\"Fold {i} is started\")\n",
    "    train_data = data_cross.iloc[train_index]\n",
    "    valid_data = data_cross.iloc[val_index]\n",
    "    X_train_mol = [Chem.MolFromSmiles(smi) for smi in train_data[SMILES_COLUMN]]\n",
    "    y_train = train_data[VALUE_COLUMN]\n",
    "    X_valid_mol = [Chem.MolFromSmiles(smi) for smi in valid_data[SMILES_COLUMN]]\n",
    "    y_valid = valid_data[VALUE_COLUMN]\n",
    "    \n",
    "    X_train = get_morgan_count_fps(X_train_mol, bits = BITS_NUM)\n",
    "    X_valid = get_morgan_count_fps(X_valid_mol, bits = BITS_NUM)\n",
    "\n",
    "    print(\"Counted fingerprints\")\n",
    "    regr = MLPRegressor(random_state=10, max_iter=7)\n",
    "    regr.fit(X_train, y_train)\n",
    "    test_rmse = mean_squared_error(y_test, regr.predict(X_test), squared=False)\n",
    "    test_r2 = r2_score(y_test, regr.predict(X_test))\n",
    "    rmse_values.append(test_rmse)\n",
    "    r2_values.append(test_r2)\n",
    "    \n",
    "    test_predictions = pd.DataFrame(columns=[SMILES_COLUMN, VALUE_COLUMN, VALUE_COLUMN+'_pred'])\n",
    "    test_predictions[SMILES_COLUMN] = data_test[SMILES_COLUMN]\n",
    "    test_predictions[VALUE_COLUMN] = data_test[VALUE_COLUMN]\n",
    "    test_predictions[VALUE_COLUMN+'_pred'] = regr.predict(X_test)\n",
    "    \n",
    "    test_predictions.to_csv(os.path.join(RAW_PATH, FILE_PREFIX+'_test_predictions_'+str(i)+'.csv'))"
   ]
  },
  {
   "cell_type": "code",
   "execution_count": 11,
   "metadata": {},
   "outputs": [],
   "source": [
    "rmse_values = pd.Series(rmse_values)\n",
    "r2_values = pd.Series(r2_values)"
   ]
  },
  {
   "cell_type": "code",
   "execution_count": 12,
   "metadata": {},
   "outputs": [
    {
     "data": {
      "text/plain": [
       "count    4.000000\n",
       "mean     0.596955\n",
       "std      0.002586\n",
       "min      0.594699\n",
       "25%      0.594738\n",
       "50%      0.596820\n",
       "75%      0.599036\n",
       "max      0.599481\n",
       "dtype: float64"
      ]
     },
     "execution_count": 12,
     "metadata": {},
     "output_type": "execute_result"
    }
   ],
   "source": [
    "rmse_values.describe()"
   ]
  },
  {
   "cell_type": "code",
   "execution_count": 13,
   "metadata": {},
   "outputs": [
    {
     "data": {
      "text/plain": [
       "count    4.000000\n",
       "mean     0.894179\n",
       "std      0.000917\n",
       "min      0.893283\n",
       "25%      0.893441\n",
       "50%      0.894227\n",
       "75%      0.894965\n",
       "max      0.894979\n",
       "dtype: float64"
      ]
     },
     "execution_count": 13,
     "metadata": {},
     "output_type": "execute_result"
    }
   ],
   "source": [
    "r2_values.describe()"
   ]
  },
  {
   "cell_type": "markdown",
   "metadata": {},
   "source": [
    "## LogD Lipophilicity"
   ]
  },
  {
   "cell_type": "code",
   "execution_count": 18,
   "metadata": {},
   "outputs": [],
   "source": [
    "import pandas as pd\n",
    "import numpy as np\n",
    "import time\n",
    "from sklearn.neural_network import MLPRegressor\n",
    "from rdkit import Chem, DataStructs\n",
    "from rdkit.Chem import AllChem\n",
    "from sklearn.metrics import mean_squared_error, r2_score\n",
    "from warnings import filterwarnings\n",
    "from sklearn.model_selection import train_test_split\n",
    "filterwarnings('ignore')\n",
    "import os\n",
    "from sklearn.model_selection import KFold\n",
    "from tqdm import tqdm"
   ]
  },
  {
   "cell_type": "code",
   "execution_count": 19,
   "metadata": {},
   "outputs": [],
   "source": [
    "DATA_PATH = '../../../data/3_final_data/split_data/'\n",
    "\n",
    "FILE_PREFIX = 'logd_Lip_wo_averaging'\n",
    "\n",
    "SMILES_COLUMN = 'smiles'\n",
    "VALUE_COLUMN = 'logD'"
   ]
  },
  {
   "cell_type": "code",
   "execution_count": 20,
   "metadata": {},
   "outputs": [],
   "source": [
    "data_train = pd.read_csv(os.path.join(DATA_PATH, FILE_PREFIX+'_train.csv'), index_col=0)\n",
    "data_valid = pd.read_csv(os.path.join(DATA_PATH, FILE_PREFIX+'_validation.csv'), index_col=0)\n",
    "data_test = pd.read_csv(os.path.join(DATA_PATH, FILE_PREFIX+'_test.csv'), index_col=0)"
   ]
  },
  {
   "cell_type": "code",
   "execution_count": 21,
   "metadata": {},
   "outputs": [],
   "source": [
    "data_cross = pd.concat([data_train, data_valid])"
   ]
  },
  {
   "cell_type": "code",
   "execution_count": 22,
   "metadata": {},
   "outputs": [],
   "source": [
    "def get_morgan_count_fps(data, bits=4096, radius=2):\n",
    "    X = [AllChem.GetHashedMorganFingerprint(m, radius, nBits=bits) for m in data]\n",
    "    X_list = []\n",
    "    for x in tqdm(X):\n",
    "        array = np.zeros((0,), dtype=np.int64)\n",
    "        DataStructs.ConvertToNumpyArray(x, array)\n",
    "        X_list.append(array)\n",
    "    X = pd.DataFrame(X_list)\n",
    "    return X"
   ]
  },
  {
   "cell_type": "markdown",
   "metadata": {},
   "source": [
    "### Bits Number 8192"
   ]
  },
  {
   "cell_type": "code",
   "execution_count": 23,
   "metadata": {},
   "outputs": [],
   "source": [
    "BITS_NUM = 8192"
   ]
  },
  {
   "cell_type": "code",
   "execution_count": 24,
   "metadata": {},
   "outputs": [],
   "source": [
    "kf = KFold(n_splits=4, shuffle=False)"
   ]
  },
  {
   "cell_type": "code",
   "execution_count": 25,
   "metadata": {},
   "outputs": [
    {
     "name": "stderr",
     "output_type": "stream",
     "text": [
      "100%|██████████| 625/625 [00:00<00:00, 4011.13it/s]\n"
     ]
    },
    {
     "name": "stdout",
     "output_type": "stream",
     "text": [
      "Fold 0 is started\n"
     ]
    },
    {
     "name": "stderr",
     "output_type": "stream",
     "text": [
      "100%|██████████| 2655/2655 [00:00<00:00, 4040.91it/s]\n",
      "100%|██████████| 886/886 [00:00<00:00, 4032.97it/s]\n"
     ]
    },
    {
     "name": "stdout",
     "output_type": "stream",
     "text": [
      "Counted fingerprints\n",
      "Fold 1 is started\n"
     ]
    },
    {
     "name": "stderr",
     "output_type": "stream",
     "text": [
      "100%|██████████| 2656/2656 [00:00<00:00, 4044.46it/s]\n",
      "100%|██████████| 885/885 [00:00<00:00, 4024.94it/s]\n"
     ]
    },
    {
     "name": "stdout",
     "output_type": "stream",
     "text": [
      "Counted fingerprints\n",
      "Fold 2 is started\n"
     ]
    },
    {
     "name": "stderr",
     "output_type": "stream",
     "text": [
      "100%|██████████| 2656/2656 [00:00<00:00, 4058.15it/s]\n",
      "100%|██████████| 885/885 [00:00<00:00, 4037.43it/s]\n"
     ]
    },
    {
     "name": "stdout",
     "output_type": "stream",
     "text": [
      "Counted fingerprints\n",
      "Fold 3 is started\n"
     ]
    },
    {
     "name": "stderr",
     "output_type": "stream",
     "text": [
      "100%|██████████| 2656/2656 [00:00<00:00, 4046.42it/s]\n",
      "100%|██████████| 885/885 [00:00<00:00, 4036.08it/s]\n"
     ]
    },
    {
     "name": "stdout",
     "output_type": "stream",
     "text": [
      "Counted fingerprints\n"
     ]
    }
   ],
   "source": [
    "rmse_values = []\n",
    "r2_values = []\n",
    "X_test_mol = [Chem.MolFromSmiles(x) for x in data_test[SMILES_COLUMN]]\n",
    "X_test = get_morgan_count_fps(X_test_mol, bits = BITS_NUM)\n",
    "y_test = data_test[VALUE_COLUMN]\n",
    "for i, (train_index, val_index) in enumerate(kf.split(data_cross)):\n",
    "    print(f\"Fold {i} is started\")\n",
    "    train_data = data_cross.iloc[train_index]\n",
    "    valid_data = data_cross.iloc[val_index]\n",
    "    X_train_mol = [Chem.MolFromSmiles(smi) for smi in train_data[SMILES_COLUMN]]\n",
    "    y_train = train_data[VALUE_COLUMN]\n",
    "    X_valid_mol = [Chem.MolFromSmiles(smi) for smi in valid_data[SMILES_COLUMN]]\n",
    "    y_valid = valid_data[VALUE_COLUMN]\n",
    "    \n",
    "    X_train = get_morgan_count_fps(X_train_mol, bits = BITS_NUM)\n",
    "    X_valid = get_morgan_count_fps(X_valid_mol, bits = BITS_NUM)\n",
    "\n",
    "    print(\"Counted fingerprints\")\n",
    "    regr = MLPRegressor(random_state=10, max_iter=7)\n",
    "    regr.fit(X_train, y_train)\n",
    "    test_rmse = mean_squared_error(y_test, regr.predict(X_test), squared=False)\n",
    "    test_r2 = r2_score(y_test, regr.predict(X_test))\n",
    "    rmse_values.append(test_rmse)\n",
    "    r2_values.append(test_r2)\n",
    "    \n",
    "    test_predictions = pd.DataFrame(columns=[SMILES_COLUMN, VALUE_COLUMN, VALUE_COLUMN+'_pred'])\n",
    "    test_predictions[SMILES_COLUMN] = data_test[SMILES_COLUMN]\n",
    "    test_predictions[VALUE_COLUMN] = data_test[VALUE_COLUMN]\n",
    "    test_predictions[VALUE_COLUMN+'_pred'] = regr.predict(X_test)\n",
    "    \n",
    "    test_predictions.to_csv(os.path.join(RAW_PATH, FILE_PREFIX+'_test_predictions_'+str(i)+'.csv'))"
   ]
  },
  {
   "cell_type": "code",
   "execution_count": 32,
   "metadata": {},
   "outputs": [],
   "source": [
    "rmse_values = pd.Series(rmse_values)\n",
    "r2_values = pd.Series(r2_values)"
   ]
  },
  {
   "cell_type": "code",
   "execution_count": 33,
   "metadata": {},
   "outputs": [
    {
     "data": {
      "text/plain": [
       "count    4.000000\n",
       "mean     0.774683\n",
       "std      0.022025\n",
       "min      0.745228\n",
       "25%      0.765202\n",
       "50%      0.778629\n",
       "75%      0.788110\n",
       "max      0.796246\n",
       "dtype: float64"
      ]
     },
     "execution_count": 33,
     "metadata": {},
     "output_type": "execute_result"
    }
   ],
   "source": [
    "rmse_values.describe()"
   ]
  },
  {
   "cell_type": "code",
   "execution_count": 34,
   "metadata": {},
   "outputs": [
    {
     "data": {
      "text/plain": [
       "count    4.000000\n",
       "mean     0.584684\n",
       "std      0.023453\n",
       "min      0.561507\n",
       "25%      0.570407\n",
       "50%      0.580664\n",
       "75%      0.594940\n",
       "max      0.615899\n",
       "dtype: float64"
      ]
     },
     "execution_count": 34,
     "metadata": {},
     "output_type": "execute_result"
    }
   ],
   "source": [
    "r2_values.describe()"
   ]
  },
  {
   "cell_type": "markdown",
   "metadata": {},
   "source": [
    "### Bits Number 4096"
   ]
  },
  {
   "cell_type": "code",
   "execution_count": 35,
   "metadata": {},
   "outputs": [],
   "source": [
    "BITS_NUM = 4096"
   ]
  },
  {
   "cell_type": "code",
   "execution_count": 36,
   "metadata": {},
   "outputs": [],
   "source": [
    "kf = KFold(n_splits=4, shuffle=False)"
   ]
  },
  {
   "cell_type": "code",
   "execution_count": 37,
   "metadata": {},
   "outputs": [
    {
     "name": "stderr",
     "output_type": "stream",
     "text": [
      "100%|██████████| 625/625 [00:00<00:00, 7740.69it/s]\n"
     ]
    },
    {
     "name": "stdout",
     "output_type": "stream",
     "text": [
      "Fold 0 is started\n"
     ]
    },
    {
     "name": "stderr",
     "output_type": "stream",
     "text": [
      "100%|██████████| 2655/2655 [00:00<00:00, 7755.72it/s]\n",
      "100%|██████████| 886/886 [00:00<00:00, 7737.96it/s]\n"
     ]
    },
    {
     "name": "stdout",
     "output_type": "stream",
     "text": [
      "Counted fingerprints\n",
      "Fold 1 is started\n"
     ]
    },
    {
     "name": "stderr",
     "output_type": "stream",
     "text": [
      "100%|██████████| 2656/2656 [00:00<00:00, 7732.47it/s]\n",
      "100%|██████████| 885/885 [00:00<00:00, 7656.79it/s]\n"
     ]
    },
    {
     "name": "stdout",
     "output_type": "stream",
     "text": [
      "Counted fingerprints\n",
      "Fold 2 is started\n"
     ]
    },
    {
     "name": "stderr",
     "output_type": "stream",
     "text": [
      "100%|██████████| 2656/2656 [00:00<00:00, 7808.33it/s]\n",
      "100%|██████████| 885/885 [00:00<00:00, 7740.52it/s]\n"
     ]
    },
    {
     "name": "stdout",
     "output_type": "stream",
     "text": [
      "Counted fingerprints\n",
      "Fold 3 is started\n"
     ]
    },
    {
     "name": "stderr",
     "output_type": "stream",
     "text": [
      "100%|██████████| 2656/2656 [00:00<00:00, 7809.01it/s]\n",
      "100%|██████████| 885/885 [00:00<00:00, 7758.27it/s]\n"
     ]
    },
    {
     "name": "stdout",
     "output_type": "stream",
     "text": [
      "Counted fingerprints\n"
     ]
    }
   ],
   "source": [
    "rmse_values = []\n",
    "r2_values = []\n",
    "X_test_mol = [Chem.MolFromSmiles(x) for x in data_test[SMILES_COLUMN]]\n",
    "X_test = get_morgan_count_fps(X_test_mol, bits = BITS_NUM)\n",
    "y_test = data_test[VALUE_COLUMN]\n",
    "for i, (train_index, val_index) in enumerate(kf.split(data_cross)):\n",
    "    print(f\"Fold {i} is started\")\n",
    "    train_data = data_cross.iloc[train_index]\n",
    "    valid_data = data_cross.iloc[val_index]\n",
    "    X_train_mol = [Chem.MolFromSmiles(smi) for smi in train_data[SMILES_COLUMN]]\n",
    "    y_train = train_data[VALUE_COLUMN]\n",
    "    X_valid_mol = [Chem.MolFromSmiles(smi) for smi in valid_data[SMILES_COLUMN]]\n",
    "    y_valid = valid_data[VALUE_COLUMN]\n",
    "    \n",
    "    X_train = get_morgan_count_fps(X_train_mol, bits = BITS_NUM)\n",
    "    X_valid = get_morgan_count_fps(X_valid_mol, bits = BITS_NUM)\n",
    "\n",
    "    print(\"Counted fingerprints\")\n",
    "    regr = MLPRegressor(random_state=10, max_iter=7)\n",
    "    regr.fit(X_train, y_train)\n",
    "    test_rmse = mean_squared_error(y_test, regr.predict(X_test), squared=False)\n",
    "    test_r2 = r2_score(y_test, regr.predict(X_test))\n",
    "    rmse_values.append(test_rmse)\n",
    "    r2_values.append(test_r2)\n",
    "    \n",
    "    test_predictions = pd.DataFrame(columns=[SMILES_COLUMN, VALUE_COLUMN, VALUE_COLUMN+'_pred'])\n",
    "    test_predictions[SMILES_COLUMN] = data_test[SMILES_COLUMN]\n",
    "    test_predictions[VALUE_COLUMN] = data_test[VALUE_COLUMN]\n",
    "    test_predictions[VALUE_COLUMN+'_pred'] = regr.predict(X_test)\n",
    "    \n",
    "    test_predictions.to_csv(os.path.join(RAW_PATH, FILE_PREFIX+'_test_predictions_'+str(i)+'.csv'))"
   ]
  },
  {
   "cell_type": "code",
   "execution_count": 38,
   "metadata": {},
   "outputs": [],
   "source": [
    "rmse_values = pd.Series(rmse_values)\n",
    "r2_values = pd.Series(r2_values)"
   ]
  },
  {
   "cell_type": "code",
   "execution_count": 39,
   "metadata": {},
   "outputs": [
    {
     "data": {
      "text/plain": [
       "count    4.000000\n",
       "mean     0.778364\n",
       "std      0.020927\n",
       "min      0.751912\n",
       "25%      0.766415\n",
       "50%      0.783042\n",
       "75%      0.794990\n",
       "max      0.795458\n",
       "dtype: float64"
      ]
     },
     "execution_count": 39,
     "metadata": {},
     "output_type": "execute_result"
    }
   ],
   "source": [
    "rmse_values.describe()"
   ]
  },
  {
   "cell_type": "code",
   "execution_count": 40,
   "metadata": {},
   "outputs": [
    {
     "data": {
      "text/plain": [
       "count    4.000000\n",
       "mean     0.580755\n",
       "std      0.022428\n",
       "min      0.562374\n",
       "25%      0.562889\n",
       "50%      0.575834\n",
       "75%      0.593699\n",
       "max      0.608977\n",
       "dtype: float64"
      ]
     },
     "execution_count": 40,
     "metadata": {},
     "output_type": "execute_result"
    }
   ],
   "source": [
    "r2_values.describe()"
   ]
  },
  {
   "cell_type": "code",
   "execution_count": null,
   "metadata": {},
   "outputs": [],
   "source": []
  }
 ],
 "metadata": {
  "kernelspec": {
   "display_name": "Python [conda env:chemprop] *",
   "language": "python",
   "name": "conda-env-chemprop-py"
  },
  "language_info": {
   "codemirror_mode": {
    "name": "ipython",
    "version": 3
   },
   "file_extension": ".py",
   "mimetype": "text/x-python",
   "name": "python",
   "nbconvert_exporter": "python",
   "pygments_lexer": "ipython3",
   "version": "3.8.3"
  }
 },
 "nbformat": 4,
 "nbformat_minor": 4
}
