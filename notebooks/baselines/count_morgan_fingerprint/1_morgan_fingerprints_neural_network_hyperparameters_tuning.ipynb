{
 "cells": [
  {
   "cell_type": "markdown",
   "metadata": {},
   "source": [
    "# Baseline methods using fingerprints"
   ]
  },
  {
   "cell_type": "markdown",
   "metadata": {},
   "source": [
    "## Data preprocessing"
   ]
  },
  {
   "cell_type": "code",
   "execution_count": 1,
   "metadata": {},
   "outputs": [],
   "source": [
    "import pandas as pd\n",
    "import numpy as np\n",
    "import time\n",
    "from sklearn.neural_network import MLPRegressor\n",
    "from rdkit import Chem, DataStructs\n",
    "from rdkit.Chem import AllChem\n",
    "from sklearn.metrics import mean_squared_error, r2_score\n",
    "from warnings import filterwarnings\n",
    "filterwarnings('ignore')"
   ]
  },
  {
   "cell_type": "markdown",
   "metadata": {},
   "source": [
    "*Choosing the dataset*"
   ]
  },
  {
   "cell_type": "code",
   "execution_count": 2,
   "metadata": {},
   "outputs": [],
   "source": [
    "data_train = pd.read_csv('../../data/3_final_data/split_data/logP_pH_range_mean_train.csv', index_col=0)\n",
    "data_valid = pd.read_csv('../../data/3_final_data/split_data/logP_pH_range_mean_validation.csv', index_col=0)\n",
    "data_test = pd.read_csv('../../data/3_final_data/split_data/logP_pH_range_mean_test.csv', index_col=0)"
   ]
  },
  {
   "cell_type": "code",
   "execution_count": 3,
   "metadata": {},
   "outputs": [],
   "source": [
    "data_train = pd.read_csv('../../data/3_final_data/split_data/logP_mean_train.csv', index_col=0)\n",
    "data_valid = pd.read_csv('../../data/3_final_data/split_data/logP_mean_validation.csv', index_col=0)\n",
    "data_test = pd.read_csv('../../data/3_final_data/split_data/logP_mean_test.csv', index_col=0)"
   ]
  },
  {
   "cell_type": "code",
   "execution_count": 4,
   "metadata": {},
   "outputs": [],
   "source": [
    "data_train = pd.read_csv('../../data/3_final_data/split_data/logP_wo_parameters_train.csv', index_col=0)\n",
    "data_valid = pd.read_csv('../../data/3_final_data/split_data/logP_wo_parameters_validation.csv', index_col=0)\n",
    "data_test = pd.read_csv('../../data/3_final_data/split_data/logP_wo_parameters_test.csv', index_col=0)"
   ]
  },
  {
   "cell_type": "markdown",
   "metadata": {},
   "source": [
    "*Getting X/y dataframes*"
   ]
  },
  {
   "cell_type": "code",
   "execution_count": 5,
   "metadata": {},
   "outputs": [],
   "source": [
    "y_train = data_train.logP\n",
    "y_valid = data_valid.logP\n",
    "y_test = data_test.logP"
   ]
  },
  {
   "cell_type": "code",
   "execution_count": 6,
   "metadata": {},
   "outputs": [],
   "source": [
    "X_train_mol = [Chem.MolFromSmiles(x) for x in data_train.smiles]\n",
    "X_valid_mol = [Chem.MolFromSmiles(x) for x in data_valid.smiles]\n",
    "X_test_mol = [Chem.MolFromSmiles(x) for x in data_test.smiles]"
   ]
  },
  {
   "cell_type": "markdown",
   "metadata": {},
   "source": [
    "## Morgan count fingerprint + MLPRegressor. Without pH."
   ]
  },
  {
   "cell_type": "code",
   "execution_count": 14,
   "metadata": {},
   "outputs": [],
   "source": [
    "def get_morgan_count_fps(data, bits=2048, radius=2):\n",
    "    X = [AllChem.GetHashedMorganFingerprint(m, radius, nBits=bits) for m in data]\n",
    "    X_list = []\n",
    "    for x in X:\n",
    "        array = np.zeros((0,), dtype=np.int64)\n",
    "        DataStructs.ConvertToNumpyArray(x, array)\n",
    "        X_list.append(array)\n",
    "    X = pd.DataFrame(X_list)\n",
    "    return X"
   ]
  },
  {
   "cell_type": "code",
   "execution_count": 15,
   "metadata": {
    "scrolled": true
   },
   "outputs": [
    {
     "name": "stdout",
     "output_type": "stream",
     "text": [
      "-------------------------\n",
      "Fitting with params radius=2, bits=512 finished. RMSE=0.6100149077190944 was achieved after 15 epochs in 8.11 seconds\n",
      "\n",
      "-------------------------\n",
      "Fitting with params radius=2, bits=1024 finished. RMSE=0.5537418068833251 was achieved after 9 epochs in 11.53 seconds\n",
      "\n",
      "-------------------------\n",
      "Fitting with params radius=2, bits=2048 finished. RMSE=0.5158616648362919 was achieved after 9 epochs in 26.67 seconds\n",
      "\n",
      "-------------------------\n",
      "Fitting with params radius=2, bits=4096 finished. RMSE=0.49540819333509467 was achieved after 8 epochs in 54.21 seconds\n",
      "\n",
      "-------------------------\n",
      "Fitting with params radius=2, bits=8192 finished. RMSE=0.4959963861485119 was achieved after 7 epochs in 113.66 seconds\n",
      "\n",
      "-------------------------\n",
      "Fitting with params radius=3, bits=512 finished. RMSE=0.6536749416888182 was achieved after 12 epochs in 8.24 seconds\n",
      "\n",
      "-------------------------\n",
      "Fitting with params radius=3, bits=1024 finished. RMSE=0.6016468872131152 was achieved after 9 epochs in 12.74 seconds\n",
      "\n",
      "-------------------------\n",
      "Fitting with params radius=3, bits=2048 finished. RMSE=0.5489106861696139 was achieved after 10 epochs in 30.08 seconds\n",
      "\n",
      "-------------------------\n",
      "Fitting with params radius=3, bits=4096 finished. RMSE=0.539594601577838 was achieved after 5 epochs in 44.61 seconds\n",
      "\n",
      "-------------------------\n",
      "Fitting with params radius=3, bits=8192 finished. RMSE=0.5374233546158639 was achieved after 5 epochs in 92.82 seconds\n",
      "\n",
      "-------------------------\n",
      "Fitting with params radius=4, bits=512 finished. RMSE=0.6848978069942051 was achieved after 14 epochs in 8.12 seconds\n",
      "\n",
      "-------------------------\n",
      "Fitting with params radius=4, bits=1024 finished. RMSE=0.6262722587528504 was achieved after 10 epochs in 13.74 seconds\n",
      "\n",
      "-------------------------\n",
      "Fitting with params radius=4, bits=2048 finished. RMSE=0.581661788230118 was achieved after 8 epochs in 27.66 seconds\n",
      "\n",
      "-------------------------\n",
      "Fitting with params radius=4, bits=4096 finished. RMSE=0.5657760881691779 was achieved after 5 epochs in 42.72 seconds\n",
      "\n",
      "-------------------------\n",
      "Fitting with params radius=4, bits=8192 finished. RMSE=0.5580747189633892 was achieved after 5 epochs in 92.38 seconds\n",
      "\n"
     ]
    }
   ],
   "source": [
    "best_params = [0, 10^3, -1, -1]\n",
    "for radius in range(2, 5):\n",
    "    for bits_degree in range(9, 14):\n",
    "        \n",
    "        start_time = time.time()\n",
    "        print('-' * 25)\n",
    "        bits = 2 ** bits_degree\n",
    "        \n",
    "        X_train = get_morgan_count_fps(X_train_mol, bits, radius)\n",
    "        X_valid = get_morgan_count_fps(X_valid_mol, bits, radius)\n",
    "        \n",
    "        regr = MLPRegressor(random_state=10, max_iter=1, warm_start=True)\n",
    "        \n",
    "        valid_rmse = 10 ** 3\n",
    "        rmse = mean_squared_error(y_valid, regr.fit(X_train, y_train).predict(X_valid), squared = False)\n",
    "        epoch_count = 1\n",
    "        while valid_rmse > rmse:\n",
    "            valid_rmse = rmse\n",
    "            train_rmse = mean_squared_error(y_train, regr.predict(X_train), squared = False)\n",
    "            epoch_count += 1\n",
    "            rmse = mean_squared_error(y_valid, regr.fit(X_train, y_train).predict(X_valid), squared = False)\n",
    "        \n",
    "        if rmse < best_params[1]:\n",
    "            best_params = [regr, rmse, bits, radius]\n",
    "        \n",
    "        seconds = time.time() - start_time\n",
    "        print(\"Fitting with params radius={0}, bits={1} finished. RMSE={2} was achieved after {3} epochs in {4:.2f} seconds\\n\".\n",
    "              format(radius, bits, rmse, epoch_count, seconds))"
   ]
  },
  {
   "cell_type": "code",
   "execution_count": 16,
   "metadata": {},
   "outputs": [
    {
     "name": "stdout",
     "output_type": "stream",
     "text": [
      "Best params for count fingerprints are: radius = 2, bits count = 4096, RMSE = 0.49540819333509467\n",
      "Fitting test data...\n",
      "Train RMSE = 0.2357827674493698\n",
      "Train R2-score is 0.9831165856617972\n",
      "Valid RMSE = 0.49540819333509467\n",
      "Valid R2-score is 0.9230795260069933\n",
      "Test RMSE = 0.5671606873510971\n",
      "Test R2-score is 0.9022360019991216\n"
     ]
    }
   ],
   "source": [
    "print(\"Best params for count fingerprints are: radius = {2}, bits count = {1}, RMSE = {0}\".format(*best_params[1:]))\n",
    "print(\"Fitting test data...\")\n",
    "\n",
    "X_train = get_morgan_count_fps(X_train_mol, *(best_params[2:]))\n",
    "X_valid = get_morgan_count_fps(X_valid_mol, *(best_params[2:]))\n",
    "X_test = get_morgan_count_fps(X_test_mol, *(best_params[2:]))\n",
    "\n",
    "y_predicted = best_params[0].predict(X_train)\n",
    "print(\"Train RMSE =\", mean_squared_error(y_train, y_predicted, squared=False))\n",
    "print(\"Train R2-score is {0}\".format(r2_score(y_train, y_predicted)))\n",
    "train_results = pd.DataFrame({'smiles': data_train.smiles, 'logp': y_train, 'logp_pred': y_predicted})\n",
    "\n",
    "y_predicted = best_params[0].predict(X_valid)\n",
    "print(\"Valid RMSE =\", mean_squared_error(y_valid, y_predicted, squared=False))\n",
    "print(\"Valid R2-score is {0}\".format(r2_score(y_valid, y_predicted)))\n",
    "valid_results = pd.DataFrame({'smiles': data_valid.smiles, 'logp': y_valid, 'logp_pred': y_predicted})\n",
    "\n",
    "y_predicted = best_params[0].predict(X_test)\n",
    "print(\"Test RMSE =\", mean_squared_error(y_test, y_predicted, squared=False))\n",
    "print(\"Test R2-score is {0}\".format(r2_score(y_test, y_predicted)))\n",
    "test_results = pd.DataFrame({'smiles': data_test.smiles, 'logp': y_test, 'logp_pred': y_predicted})"
   ]
  },
  {
   "cell_type": "code",
   "execution_count": 18,
   "metadata": {},
   "outputs": [],
   "source": [
    "train_results.to_csv(\"../../data/4_best_predictions/count_fingerprint_predictions_train.csv\", index=False)\n",
    "valid_results.to_csv(\"../../data/4_best_predictions/count_fingerprint_predictions_valid.csv\", index=False)\n",
    "test_results.to_csv(\"../../data/4_best_predictions/count_fingerprint_predictions_test.csv\", index=False)"
   ]
  },
  {
   "cell_type": "markdown",
   "metadata": {},
   "source": [
    "## Morgan count fingerprint + MLPRegressor. With pH.\n",
    "*Best params without pH - radius = 2, bits count = 2048, so taking them*"
   ]
  },
  {
   "cell_type": "code",
   "execution_count": null,
   "metadata": {},
   "outputs": [],
   "source": [
    "X_train = get_morgan_count_fps(X_train_mol, 2048, 2)\n",
    "X_train[2048] = data_train.pH_range\n",
    "X_valid = get_morgan_count_fps(X_valid_mol, 2048, 2)\n",
    "X_valid[2048] = data_valid.pH_range\n",
    "regr = MLPRegressor(random_state=10, early_stopping=True).fit(X_train, y_train)\n",
    "y_predicted = regr.predict(X_valid)\n",
    "rmse = mean_squared_error(y_valid, y_predicted, squared=False)\n",
    "print(rmse)"
   ]
  },
  {
   "cell_type": "code",
   "execution_count": null,
   "metadata": {},
   "outputs": [],
   "source": [
    "X_test = get_morgan_count_fps(X_test_mol, 2048, 2)\n",
    "X_test[2048] = data_valid.pH_range\n",
    "y_predicted = regr.predict(X_test)\n",
    "print(mean_squared_error(y_test, y_predicted, squared=False))\n",
    "print(\"R2-score is {0}\".format(r2_score(y_test, y_predicted)))"
   ]
  },
  {
   "cell_type": "code",
   "execution_count": null,
   "metadata": {},
   "outputs": [],
   "source": []
  }
 ],
 "metadata": {
  "kernelspec": {
   "display_name": "chemvae",
   "language": "python",
   "name": "chemvae"
  },
  "language_info": {
   "codemirror_mode": {
    "name": "ipython",
    "version": 3
   },
   "file_extension": ".py",
   "mimetype": "text/x-python",
   "name": "python",
   "nbconvert_exporter": "python",
   "pygments_lexer": "ipython3",
   "version": "3.6.10"
  },
  "pycharm": {
   "stem_cell": {
    "cell_type": "raw",
    "metadata": {
     "collapsed": false
    },
    "source": []
   }
  }
 },
 "nbformat": 4,
 "nbformat_minor": 4
}
