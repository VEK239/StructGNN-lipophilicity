{
 "cells": [
  {
   "cell_type": "markdown",
   "metadata": {},
   "source": [
    "# Get SMILES of molecules with atoms with degree=6"
   ]
  },
  {
   "cell_type": "markdown",
   "metadata": {},
   "source": [
    "1. 3 molecules have **S** atom with GetDegree (number of neighbours in graph) parameter = $6$ (SMILES-logP):\n",
    "\n",
    "    FS(F)(F)(F)(F)c1ccccc1 - $3.36$\n",
    "    \n",
    "    FS(F)(F)(F)(F)F - $1.68$\n",
    "    \n",
    "    O=C(O)COc1cccc(S(F)(F)(F)(F)F)c1 - $2.78$\n",
    "    \n",
    "2. There are **B**, **Ca**, **Fe** atomtypes that are presented only once and **K** - $5$ times\n",
    "\n",
    "3. Overall after **H** and **C** most common atomtypes are **O**, **N**, **Cl**, **S**, **F**, **Br**, **P**, **I**, **Na**\n",
    "\n",
    "    ![](https://sun9-18.userapi.com/c206728/v206728518/15b119/Pe8-HGcwcnE.jpg)"
   ]
  },
  {
   "cell_type": "code",
   "execution_count": null,
   "metadata": {},
   "outputs": [],
   "source": [
    "import pandas as pd\n",
    "import os\n",
    "DATASET_PATH = '../../../mol_properties/data/3_final_data'\n",
    "\n",
    "logP_dataset = pd.read_csv(os.path.join(DATASET_PATH,'logp_mean.csv'), index_col = 0)\n",
    "\n",
    "SMILES_COLUMN = 'smiles'"
   ]
  },
  {
   "cell_type": "code",
   "execution_count": null,
   "metadata": {},
   "outputs": [],
   "source": [
    "def get_bad_molecules(data_path = '../../../mol_properties/data/raw/', prefix_name = 'broken_smiles'):\n",
    "    import os\n",
    "    broken_smiles = []\n",
    "    for entry in  os.listdir(data_path):\n",
    "        if os.path.isfile(os.path.join(data_path, entry)) and prefix_name in entry:\n",
    "            broken_smiles+=list(map(lambda x: x.rstrip(),open(entry,'r').readlines()))\n",
    "    \n",
    "\n",
    "    return list(set(broken_smiles))"
   ]
  },
  {
   "cell_type": "code",
   "execution_count": 103,
   "metadata": {
    "scrolled": true
   },
   "outputs": [],
   "source": [
    "bad_SMILES = get_bad_molecules()"
   ]
  },
  {
   "cell_type": "code",
   "execution_count": 104,
   "metadata": {},
   "outputs": [
    {
     "data": {
      "text/html": [
       "<div>\n",
       "<style scoped>\n",
       "    .dataframe tbody tr th:only-of-type {\n",
       "        vertical-align: middle;\n",
       "    }\n",
       "\n",
       "    .dataframe tbody tr th {\n",
       "        vertical-align: top;\n",
       "    }\n",
       "\n",
       "    .dataframe thead th {\n",
       "        text-align: right;\n",
       "    }\n",
       "</style>\n",
       "<table border=\"1\" class=\"dataframe\">\n",
       "  <thead>\n",
       "    <tr style=\"text-align: right;\">\n",
       "      <th></th>\n",
       "      <th>smiles</th>\n",
       "      <th>logP</th>\n",
       "    </tr>\n",
       "  </thead>\n",
       "  <tbody>\n",
       "    <tr>\n",
       "      <th>9896</th>\n",
       "      <td>FS(F)(F)(F)(F)F</td>\n",
       "      <td>1.68</td>\n",
       "    </tr>\n",
       "    <tr>\n",
       "      <th>9897</th>\n",
       "      <td>FS(F)(F)(F)(F)c1ccccc1</td>\n",
       "      <td>3.36</td>\n",
       "    </tr>\n",
       "    <tr>\n",
       "      <th>11745</th>\n",
       "      <td>O=C(O)COc1cccc(S(F)(F)(F)(F)F)c1</td>\n",
       "      <td>2.78</td>\n",
       "    </tr>\n",
       "  </tbody>\n",
       "</table>\n",
       "</div>"
      ],
      "text/plain": [
       "                                 smiles  logP\n",
       "9896                    FS(F)(F)(F)(F)F  1.68\n",
       "9897             FS(F)(F)(F)(F)c1ccccc1  3.36\n",
       "11745  O=C(O)COc1cccc(S(F)(F)(F)(F)F)c1  2.78"
      ]
     },
     "execution_count": 104,
     "metadata": {},
     "output_type": "execute_result"
    }
   ],
   "source": [
    "logP_dataset[logP_dataset[SMILES_COLUMN].isin(bad_SMILES)]"
   ]
  },
  {
   "cell_type": "code",
   "execution_count": 112,
   "metadata": {},
   "outputs": [
    {
     "name": "stdout",
     "output_type": "stream",
     "text": [
      "O=C(O)COc1cccc(S(F)(F)(F)(F)F)c1\n",
      "('S', 6)\n",
      "FS(F)(F)(F)(F)F\n",
      "('S', 6)\n",
      "FS(F)(F)(F)(F)c1ccccc1\n",
      "('S', 6)\n"
     ]
    }
   ],
   "source": [
    "for SMILES in bad_SMILES:\n",
    "    print(SMILES)\n",
    "    mol = MolFromSmiles(SMILES)\n",
    "    for atom in mol.GetAtoms():\n",
    "        if atom.GetDegree() not in range(6):\n",
    "            print (atom.GetSymbol(), atom.GetDegree())"
   ]
  },
  {
   "cell_type": "code",
   "execution_count": 101,
   "metadata": {},
   "outputs": [],
   "source": [
    "def create_element_dict(data, amount=20, add_H=True, SMILES_COLUMN='smiles'):\n",
    "    from rdkit import Chem\n",
    "    \"\"\"Define what chemical elements are used in molecules\n",
    "        Parameters\n",
    "        ----------\n",
    "        data\n",
    "            pandas.DataFrame containing smiles of molecules in dataset\n",
    "        amount\n",
    "            Number of types of atoms to store\n",
    "        add_H\n",
    "            True or False: store info of H atoms or not        \n",
    "        Returns\n",
    "        -------\n",
    "        elements\n",
    "            dictionary with {atom name : number} mapping\n",
    "        \"\"\"\n",
    "    elements={}\n",
    "    norm=0\n",
    "    for smile in data[SMILES_COLUMN]:\n",
    "        molecule=Chem.MolFromSmiles(smile)\n",
    "        molecule=Chem.AddHs(molecule)\n",
    "\n",
    "        for i in range(molecule.GetNumAtoms()):\n",
    "            atom = molecule.GetAtomWithIdx(i)\n",
    "            element=atom.GetSymbol()\n",
    "            norm+=1\n",
    "            if element in elements.keys():\n",
    "                elements[element]+=1\n",
    "            else:\n",
    "                elements[element]=1\n",
    "    print(elements)\n",
    "    if not add_H:\n",
    "        del elements['H']\n",
    "    norm = max(elements.values())\n",
    "    for key in elements.keys():\n",
    "        elements[key]/=float(norm)\n",
    "    from collections import OrderedDict\n",
    "    dd = OrderedDict(sorted(elements.items(), key=lambda x: x[1]))\n",
    "    elements=list(dd.keys())[-amount:]  \n",
    "    return dd "
   ]
  },
  {
   "cell_type": "code",
   "execution_count": 119,
   "metadata": {},
   "outputs": [
    {
     "name": "stdout",
     "output_type": "stream",
     "text": [
      "{'C': 171219, 'B': 1, 'Cl': 4585, 'I': 259, 'H': 203763, 'Ca': 1, 'F': 2590, 'O': 33622, 'N': 24872, 'P': 333, 'S': 3598, 'Fe': 1, 'Br': 624, 'Na': 68, 'K': 5}\n"
     ]
    }
   ],
   "source": [
    "elements = create_element_dict(logP_dataset, amount=20, add_H=True, SMILES_COLUMN=SMILES_COLUMN)"
   ]
  },
  {
   "cell_type": "code",
   "execution_count": 120,
   "metadata": {},
   "outputs": [
    {
     "data": {
      "image/png": "[encoded data removed]",
      "text/plain": [
       "<Figure size 432x288 with 1 Axes>"
      ]
     },
     "metadata": {
      "needs_background": "light"
     },
     "output_type": "display_data"
    }
   ],
   "source": [
    "import matplotlib.pyplot as plt\n",
    "\n",
    "plt.bar(*zip(*elements.items()))\n",
    "plt.title('Distribution of atom types in molecules in dataset')\n",
    "plt.ylabel('Relative number of etoms in dataset')\n",
    "plt.xlabel('Atom type')\n",
    "plt.show()"
   ]
  },
  {
   "cell_type": "code",
   "execution_count": 130,
   "metadata": {},
   "outputs": [
    {
     "data": {
      "image/png": "[encoded data removed]",
      "text/plain": [
       "<Figure size 432x288 with 1 Axes>"
      ]
     },
     "metadata": {
      "needs_background": "light"
     },
     "output_type": "display_data"
    }
   ],
   "source": [
    "edited_elements = elements.copy()\n",
    "\n",
    "del edited_elements['H']\n",
    "del edited_elements['C']\n",
    "\n",
    "norm = float(min(edited_elements.values()))\n",
    "for key in edited_elements.keys():\n",
    "    edited_elements[key]=np.log(edited_elements[key]/norm)\n",
    "\n",
    "plt.bar(*zip(*edited_elements.items()))\n",
    "plt.title('Distribution of atom types in molecules in dataset (wo C and H)')\n",
    "plt.ylabel('Log of relative number of etoms in dataset')\n",
    "plt.xlabel('Atom type')\n",
    "plt.show()"
   ]
  }
 ],
 "metadata": {
  "kernelspec": {
   "display_name": "Python 3",
   "language": "python",
   "name": "python3"
  },
  "language_info": {
   "codemirror_mode": {
    "name": "ipython",
    "version": 3
   },
   "file_extension": ".py",
   "mimetype": "text/x-python",
   "name": "python",
   "nbconvert_exporter": "python",
   "pygments_lexer": "ipython3",
   "version": "3.7.7"
  }
 },
 "nbformat": 4,
 "nbformat_minor": 4
}
