{
 "cells": [
  {
   "cell_type": "markdown",
   "metadata": {},
   "source": [
    "# Calculate MolLogP features"
   ]
  },
  {
   "cell_type": "code",
   "execution_count": 30,
   "metadata": {},
   "outputs": [],
   "source": [
    "import pandas as pd\n",
    "import os\n",
    "\n",
    "from rdkit import Chem\n",
    "from rdkit.Chem import AllChem\n",
    "from rdkit.Chem import Draw\n",
    "import matplotlib.pyplot as plt\n",
    "from tqdm import tqdm"
   ]
  },
  {
   "cell_type": "code",
   "execution_count": 25,
   "metadata": {},
   "outputs": [],
   "source": [
    "SMILES_COLUMN = 'smiles'\n",
    "VALUE_COLUMN = 'logP'\n",
    "PREDS_COLUMN = 'MolLogP'\n",
    "DATASET_INPUT_PATH = '../../../data/3_final_data/split_data'\n",
    "\n",
    "DATASET_OUTPUT_PATH = '../../../data/raw/baselines/jtree'"
   ]
  },
  {
   "cell_type": "code",
   "execution_count": 26,
   "metadata": {},
   "outputs": [],
   "source": [
    "from descriptastorus.descriptors import rdDescriptors\n",
    "from rdkit import Chem\n",
    "import logging\n",
    "\n",
    "\n",
    "generator = rdDescriptors.RDKit2D()\n",
    "\n",
    "\n",
    "def rdkit_2d_features(smiles: str):\n",
    "    # n.b. the first element is true/false if the descriptors were properly computed\n",
    "    results = generator.process(smiles)\n",
    "    processed, features = results[0], results[1:]\n",
    "    if processed is None:\n",
    "       logging.warning(\"Unable to process smiles %s\", smiles)\n",
    "    # if processed is None, the features are are default values for the type\n",
    "    return features"
   ]
  },
  {
   "cell_type": "code",
   "execution_count": 27,
   "metadata": {},
   "outputs": [],
   "source": [
    "train_data = pd.read_csv(os.path.join(DATASET_INPUT_PATH, 'logp_wo_averaging_train.csv'))\n",
    "val_data = pd.read_csv(os.path.join(DATASET_INPUT_PATH, 'logp_wo_averaging_validation.csv'))\n",
    "test_data = pd.read_csv(os.path.join(DATASET_INPUT_PATH, 'logp_wo_averaging_test.csv'))"
   ]
  },
  {
   "cell_type": "code",
   "execution_count": 28,
   "metadata": {},
   "outputs": [],
   "source": [
    "def create_feature_dataframe(df):\n",
    "    import numpy as np\n",
    "    rdkit_table = []\n",
    "    features_names = [gen[0] for gen in generator.columns]\n",
    "    smiles_index_dict = {}\n",
    "    for i in tqdm(range(df.shape[0])):\n",
    "        smiles = df.iloc[i][SMILES_COLUMN]\n",
    "        logP = df.iloc[i][VALUE_COLUMN]\n",
    "        features = {features_names[j]:feature for j,feature in enumerate(rdkit_2d_features(smiles))}\n",
    "        features[SMILES_COLUMN] = smiles\n",
    "        features[VALUE_COLUMN] = logP\n",
    "        rdkit_table.append(features)\n",
    "        smiles_index_dict[smiles]=i\n",
    "    rdkit_features = pd.DataFrame(rdkit_table)\n",
    "    return rdkit_features, smiles_index_dict"
   ]
  },
  {
   "cell_type": "code",
   "execution_count": 31,
   "metadata": {},
   "outputs": [
    {
     "name": "stderr",
     "output_type": "stream",
     "text": [
      "100%|██████████| 9643/9643 [04:00<00:00, 40.15it/s]\n",
      "100%|██████████| 2067/2067 [00:53<00:00, 39.00it/s]\n",
      "100%|██████████| 2067/2067 [00:52<00:00, 39.04it/s]\n"
     ]
    }
   ],
   "source": [
    "train_data_rdkit, train_smiles_dict = create_feature_dataframe(train_data)\n",
    "val_data_rdkit, val_smiles_dict = create_feature_dataframe(val_data)\n",
    "test_data_rdkit, test_smiles_dict = create_feature_dataframe(test_data)"
   ]
  },
  {
   "cell_type": "code",
   "execution_count": 32,
   "metadata": {},
   "outputs": [],
   "source": [
    "import json\n",
    "\n",
    "train_data_rdkit.to_csv(os.path.join(DATASET_OUTPUT_PATH,'logp_wo_averaging_train_drkit_feat.csv'))\n",
    "with open(os.path.join(DATASET_OUTPUT_PATH,'logp_wo_averaging_train_smiles_dict.json'), 'w') as f:\n",
    "    json.dump(train_smiles_dict, f)\n",
    "val_data_rdkit.to_csv(os.path.join(DATASET_OUTPUT_PATH,'logp_wo_averaging_val_drkit_feat.csv'))\n",
    "with open(os.path.join(DATASET_OUTPUT_PATH,'logp_wo_averaging_val_smiles_dict.json'), 'w') as f:\n",
    "    json.dump(val_smiles_dict, f)\n",
    "test_data_rdkit.to_csv(os.path.join(DATASET_OUTPUT_PATH,'logp_wo_averaging_test_drkit_feat.csv'))\n",
    "with open(os.path.join(DATASET_OUTPUT_PATH,'logp_wo_averaging_test_smiles_dict.json'), 'w') as f:\n",
    "    json.dump(test_smiles_dict, f)\n"
   ]
  },
  {
   "cell_type": "markdown",
   "metadata": {},
   "source": [
    "# Get errors"
   ]
  },
  {
   "cell_type": "code",
   "execution_count": 33,
   "metadata": {},
   "outputs": [],
   "source": [
    "import pandas as pd\n",
    "import os"
   ]
  },
  {
   "cell_type": "code",
   "execution_count": 40,
   "metadata": {},
   "outputs": [],
   "source": [
    "SMILES_COLUMN = 'smiles'\n",
    "VALUE_COLUMN = 'logP'\n",
    "PREDS_COLUMN = 'MolLogP'\n",
    "\n",
    "\n",
    "DATA_PATH = '../../../data/raw/baselines/jtree'"
   ]
  },
  {
   "cell_type": "code",
   "execution_count": 41,
   "metadata": {},
   "outputs": [],
   "source": [
    "train_data = pd.read_csv(os.path.join(DATA_PATH, 'logp_wo_averaging_train_drkit_feat.csv'), index_col=0)\n",
    "train_data = train_data[[SMILES_COLUMN, VALUE_COLUMN, 'MolLogP']]\n",
    "val_data = pd.read_csv(os.path.join(DATA_PATH, 'logp_wo_averaging_val_drkit_feat.csv'), index_col=0)\n",
    "val_data = val_data[[SMILES_COLUMN, VALUE_COLUMN, 'MolLogP']]\n",
    "test_data = pd.read_csv(os.path.join(DATA_PATH, 'logp_wo_averaging_test_drkit_feat.csv'), index_col=0)\n",
    "test_data = test_data[[SMILES_COLUMN, VALUE_COLUMN, 'MolLogP']]"
   ]
  },
  {
   "cell_type": "code",
   "execution_count": 42,
   "metadata": {},
   "outputs": [],
   "source": [
    "from sklearn.metrics import mean_squared_error, r2_score"
   ]
  },
  {
   "cell_type": "code",
   "execution_count": 43,
   "metadata": {},
   "outputs": [],
   "source": [
    "train_rmse = mean_squared_error(train_data[VALUE_COLUMN], train_data[PREDS_COLUMN])**0.5\n",
    "train_r2 = r2_score(train_data[VALUE_COLUMN], train_data[PREDS_COLUMN])\n",
    "val_rmse = mean_squared_error(val_data[VALUE_COLUMN], val_data[PREDS_COLUMN])**0.5\n",
    "val_r2 = r2_score(val_data[VALUE_COLUMN], val_data[PREDS_COLUMN])\n",
    "test_rmse = mean_squared_error(test_data[VALUE_COLUMN], test_data[PREDS_COLUMN])**0.5\n",
    "test_r2 = r2_score(test_data[VALUE_COLUMN], test_data[PREDS_COLUMN])"
   ]
  },
  {
   "cell_type": "code",
   "execution_count": 44,
   "metadata": {},
   "outputs": [
    {
     "name": "stdout",
     "output_type": "stream",
     "text": [
      "Test RMSE is 0.9563863600078659\n",
      "\n",
      "Test R2 is 0.7283876679456853\n",
      "\n",
      "Val RMSE is 0.8915539462330561\n",
      "\n",
      "Val R2 is 0.764251706400189\n",
      "\n",
      "Train RMSE is 0.9186532709897776\n",
      "\n",
      "Train R2 is 0.761049391797775\n",
      "\n"
     ]
    }
   ],
   "source": [
    "print('Test RMSE is '+str(test_rmse)+'\\n')\n",
    "print('Test R2 is '+str(test_r2)+'\\n')\n",
    "print('Val RMSE is '+str(val_rmse)+'\\n')\n",
    "print('Val R2 is '+str(val_r2)+'\\n')\n",
    "print('Train RMSE is '+str(train_rmse)+'\\n')\n",
    "print('Train R2 is '+str(train_r2)+'\\n')"
   ]
  }
 ],
 "metadata": {
  "kernelspec": {
   "display_name": "Python [conda env:chemprop]",
   "language": "python",
   "name": "conda-env-chemprop-py"
  },
  "language_info": {
   "codemirror_mode": {
    "name": "ipython",
    "version": 3
   },
   "file_extension": ".py",
   "mimetype": "text/x-python",
   "name": "python",
   "nbconvert_exporter": "python",
   "pygments_lexer": "ipython3",
   "version": "3.8.3"
  }
 },
 "nbformat": 4,
 "nbformat_minor": 2
}
