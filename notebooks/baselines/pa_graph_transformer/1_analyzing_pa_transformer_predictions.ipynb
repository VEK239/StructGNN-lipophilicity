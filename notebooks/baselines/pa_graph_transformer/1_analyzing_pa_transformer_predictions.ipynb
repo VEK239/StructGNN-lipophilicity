{
 "cells": [
  {
   "cell_type": "markdown",
   "metadata": {},
   "source": [
    "# Best and worst molecules analysis"
   ]
  },
  {
   "cell_type": "code",
   "execution_count": 1,
   "metadata": {},
   "outputs": [],
   "source": [
    "import pandas as pd\n",
    "import numpy as np\n",
    "import seaborn as sns\n",
    "import torch\n",
    "from scipy import stats\n",
    "from torch.nn.utils.rnn import pad_sequence\n",
    "from sklearn.neural_network import MLPRegressor\n",
    "from rdkit import Chem, DataStructs\n",
    "from rdkit.Chem import AllChem\n",
    "from sklearn.metrics import mean_squared_error, r2_score\n",
    "import time"
   ]
  },
  {
   "cell_type": "markdown",
   "metadata": {},
   "source": [
    "## Uploading data from file"
   ]
  },
  {
   "cell_type": "code",
   "execution_count": 2,
   "metadata": {},
   "outputs": [],
   "source": [
    "DATA_PATH = \"../../../data/4_best_predictions/\"\n",
    "FILE_PATTERN = \"pa_transformer_predictions_{0}.csv\""
   ]
  },
  {
   "cell_type": "code",
   "execution_count": 3,
   "metadata": {},
   "outputs": [],
   "source": [
    "valid = pd.read_csv(DATA_PATH + FILE_PATTERN.format('valid'))\n",
    "test = pd.read_csv(DATA_PATH + FILE_PATTERN.format('test'))"
   ]
  },
  {
   "cell_type": "code",
   "execution_count": 4,
   "metadata": {},
   "outputs": [],
   "source": [
    "compare_data = pd.DataFrame({'smiles': test.smiles, 'y_expected': test.logp, 'y_predicted': test.logp_pred})"
   ]
  },
  {
   "cell_type": "code",
   "execution_count": 5,
   "metadata": {},
   "outputs": [],
   "source": [
    "X_valid_mol = [Chem.MolFromSmiles(x) for x in valid.smiles]\n",
    "X_test_mol = [Chem.MolFromSmiles(x) for x in test.smiles]"
   ]
  },
  {
   "cell_type": "code",
   "execution_count": 6,
   "metadata": {},
   "outputs": [],
   "source": [
    "y_test = test.logp\n",
    "y_valid = valid.logp"
   ]
  },
  {
   "cell_type": "markdown",
   "metadata": {},
   "source": [
    "## Getting the data to compare"
   ]
  },
  {
   "cell_type": "code",
   "execution_count": 7,
   "metadata": {},
   "outputs": [
    {
     "data": {
      "text/html": [
       "<div>\n",
       "<style scoped>\n",
       "    .dataframe tbody tr th:only-of-type {\n",
       "        vertical-align: middle;\n",
       "    }\n",
       "\n",
       "    .dataframe tbody tr th {\n",
       "        vertical-align: top;\n",
       "    }\n",
       "\n",
       "    .dataframe thead th {\n",
       "        text-align: right;\n",
       "    }\n",
       "</style>\n",
       "<table border=\"1\" class=\"dataframe\">\n",
       "  <thead>\n",
       "    <tr style=\"text-align: right;\">\n",
       "      <th></th>\n",
       "      <th>smiles</th>\n",
       "      <th>y_expected</th>\n",
       "      <th>y_predicted</th>\n",
       "    </tr>\n",
       "  </thead>\n",
       "  <tbody>\n",
       "    <tr>\n",
       "      <th>0</th>\n",
       "      <td>CC(=O)NC(Cc1ccccc1)C(=O)NC(Cc1ccccc1)C(=O)N(C)...</td>\n",
       "      <td>2.63</td>\n",
       "      <td>2.410858</td>\n",
       "    </tr>\n",
       "    <tr>\n",
       "      <th>1</th>\n",
       "      <td>CC(C)n1c(/C=C/[C@@H](O)C[C@@H](O)CC(=O)O)c(-c2...</td>\n",
       "      <td>4.17</td>\n",
       "      <td>4.165854</td>\n",
       "    </tr>\n",
       "    <tr>\n",
       "      <th>2</th>\n",
       "      <td>CCS(=O)c1sc(C(C)=O)c(N)c1C#N</td>\n",
       "      <td>1.82</td>\n",
       "      <td>1.935241</td>\n",
       "    </tr>\n",
       "    <tr>\n",
       "      <th>3</th>\n",
       "      <td>O=P(Oc1ccccc1)(Oc1ccccc1)Oc1ccccc1</td>\n",
       "      <td>4.59</td>\n",
       "      <td>3.957006</td>\n",
       "    </tr>\n",
       "    <tr>\n",
       "      <th>4</th>\n",
       "      <td>OC1(c2cc(Cl)ccc2Cl)CCCCC1n1cncn1</td>\n",
       "      <td>3.24</td>\n",
       "      <td>3.147647</td>\n",
       "    </tr>\n",
       "  </tbody>\n",
       "</table>\n",
       "</div>"
      ],
      "text/plain": [
       "                                              smiles  y_expected  y_predicted\n",
       "0  CC(=O)NC(Cc1ccccc1)C(=O)NC(Cc1ccccc1)C(=O)N(C)...        2.63     2.410858\n",
       "1  CC(C)n1c(/C=C/[C@@H](O)C[C@@H](O)CC(=O)O)c(-c2...        4.17     4.165854\n",
       "2                       CCS(=O)c1sc(C(C)=O)c(N)c1C#N        1.82     1.935241\n",
       "3                 O=P(Oc1ccccc1)(Oc1ccccc1)Oc1ccccc1        4.59     3.957006\n",
       "4                   OC1(c2cc(Cl)ccc2Cl)CCCCC1n1cncn1        3.24     3.147647"
      ]
     },
     "execution_count": 7,
     "metadata": {},
     "output_type": "execute_result"
    }
   ],
   "source": [
    "compare_data.head()"
   ]
  },
  {
   "cell_type": "code",
   "execution_count": 8,
   "metadata": {},
   "outputs": [
    {
     "data": {
      "text/plain": [
       "(2067, 3)"
      ]
     },
     "execution_count": 8,
     "metadata": {},
     "output_type": "execute_result"
    }
   ],
   "source": [
    "compare_data.shape"
   ]
  },
  {
   "cell_type": "code",
   "execution_count": 9,
   "metadata": {},
   "outputs": [],
   "source": [
    "compare_data['error'] = (compare_data.y_expected - compare_data.y_predicted) ** 2"
   ]
  },
  {
   "cell_type": "code",
   "execution_count": 10,
   "metadata": {},
   "outputs": [
    {
     "data": {
      "text/html": [
       "<div>\n",
       "<style scoped>\n",
       "    .dataframe tbody tr th:only-of-type {\n",
       "        vertical-align: middle;\n",
       "    }\n",
       "\n",
       "    .dataframe tbody tr th {\n",
       "        vertical-align: top;\n",
       "    }\n",
       "\n",
       "    .dataframe thead th {\n",
       "        text-align: right;\n",
       "    }\n",
       "</style>\n",
       "<table border=\"1\" class=\"dataframe\">\n",
       "  <thead>\n",
       "    <tr style=\"text-align: right;\">\n",
       "      <th></th>\n",
       "      <th>smiles</th>\n",
       "      <th>y_expected</th>\n",
       "      <th>y_predicted</th>\n",
       "      <th>error</th>\n",
       "    </tr>\n",
       "  </thead>\n",
       "  <tbody>\n",
       "    <tr>\n",
       "      <th>1029</th>\n",
       "      <td>CCCCCCCCCCCCCCP(C)(C)(C)Br</td>\n",
       "      <td>2.06</td>\n",
       "      <td>8.933699</td>\n",
       "      <td>47.247738</td>\n",
       "    </tr>\n",
       "    <tr>\n",
       "      <th>1730</th>\n",
       "      <td>O=C(O[K])C1C2CCC(O2)C1C(=O)O[K]</td>\n",
       "      <td>0.32</td>\n",
       "      <td>-3.280066</td>\n",
       "      <td>12.960475</td>\n",
       "    </tr>\n",
       "    <tr>\n",
       "      <th>1727</th>\n",
       "      <td>O=S(=O)(O)c1cc(N=c2[nH]c(N3CCOCC3)nc(=Nc3ccccc...</td>\n",
       "      <td>1.48</td>\n",
       "      <td>4.638897</td>\n",
       "      <td>9.978630</td>\n",
       "    </tr>\n",
       "    <tr>\n",
       "      <th>658</th>\n",
       "      <td>CC1OC(OC2C(O)CC(OC3C(O)CC(OC4CCC5(C)C(CCC6C5CC...</td>\n",
       "      <td>-1.77</td>\n",
       "      <td>1.197967</td>\n",
       "      <td>8.808826</td>\n",
       "    </tr>\n",
       "    <tr>\n",
       "      <th>1824</th>\n",
       "      <td>N=C1C=CC(=C(c2ccc(N)cc2)c2ccc(N)cc2)C=C1</td>\n",
       "      <td>-0.21</td>\n",
       "      <td>2.483271</td>\n",
       "      <td>7.253707</td>\n",
       "    </tr>\n",
       "  </tbody>\n",
       "</table>\n",
       "</div>"
      ],
      "text/plain": [
       "                                                 smiles  y_expected  \\\n",
       "1029                         CCCCCCCCCCCCCCP(C)(C)(C)Br        2.06   \n",
       "1730                    O=C(O[K])C1C2CCC(O2)C1C(=O)O[K]        0.32   \n",
       "1727  O=S(=O)(O)c1cc(N=c2[nH]c(N3CCOCC3)nc(=Nc3ccccc...        1.48   \n",
       "658   CC1OC(OC2C(O)CC(OC3C(O)CC(OC4CCC5(C)C(CCC6C5CC...       -1.77   \n",
       "1824           N=C1C=CC(=C(c2ccc(N)cc2)c2ccc(N)cc2)C=C1       -0.21   \n",
       "\n",
       "      y_predicted      error  \n",
       "1029     8.933699  47.247738  \n",
       "1730    -3.280066  12.960475  \n",
       "1727     4.638897   9.978630  \n",
       "658      1.197967   8.808826  \n",
       "1824     2.483271   7.253707  "
      ]
     },
     "execution_count": 10,
     "metadata": {},
     "output_type": "execute_result"
    }
   ],
   "source": [
    "compare_data.sort_values(by=['error'], ascending=False).head()"
   ]
  },
  {
   "cell_type": "code",
   "execution_count": 11,
   "metadata": {},
   "outputs": [
    {
     "data": {
      "text/html": [
       "<div>\n",
       "<style scoped>\n",
       "    .dataframe tbody tr th:only-of-type {\n",
       "        vertical-align: middle;\n",
       "    }\n",
       "\n",
       "    .dataframe tbody tr th {\n",
       "        vertical-align: top;\n",
       "    }\n",
       "\n",
       "    .dataframe thead th {\n",
       "        text-align: right;\n",
       "    }\n",
       "</style>\n",
       "<table border=\"1\" class=\"dataframe\">\n",
       "  <thead>\n",
       "    <tr style=\"text-align: right;\">\n",
       "      <th></th>\n",
       "      <th>smiles</th>\n",
       "      <th>y_expected</th>\n",
       "      <th>y_predicted</th>\n",
       "      <th>error</th>\n",
       "    </tr>\n",
       "  </thead>\n",
       "  <tbody>\n",
       "    <tr>\n",
       "      <th>1255</th>\n",
       "      <td>COc1ncnc2c1ncn2C1OC(CO)C(OC(=O)Cc2ccccc2)C1OC(...</td>\n",
       "      <td>3.48</td>\n",
       "      <td>3.480126</td>\n",
       "      <td>1.580049e-08</td>\n",
       "    </tr>\n",
       "    <tr>\n",
       "      <th>1681</th>\n",
       "      <td>O=S1(=O)Nc2ccccc2N1</td>\n",
       "      <td>1.12</td>\n",
       "      <td>1.119755</td>\n",
       "      <td>5.987809e-08</td>\n",
       "    </tr>\n",
       "    <tr>\n",
       "      <th>758</th>\n",
       "      <td>CC(=O)NC(Cc1c[nH]c2ccccc12)C(=O)NC(C(N)=O)C(C)C</td>\n",
       "      <td>0.73</td>\n",
       "      <td>0.729388</td>\n",
       "      <td>3.742503e-07</td>\n",
       "    </tr>\n",
       "    <tr>\n",
       "      <th>1050</th>\n",
       "      <td>CCNC(=O)NS(=O)(=O)c1ccccc1</td>\n",
       "      <td>0.90</td>\n",
       "      <td>0.900748</td>\n",
       "      <td>5.589955e-07</td>\n",
       "    </tr>\n",
       "    <tr>\n",
       "      <th>1876</th>\n",
       "      <td>CC(=O)OCN1C(=O)C=C(C)C1=O</td>\n",
       "      <td>0.45</td>\n",
       "      <td>0.451109</td>\n",
       "      <td>1.228772e-06</td>\n",
       "    </tr>\n",
       "  </tbody>\n",
       "</table>\n",
       "</div>"
      ],
      "text/plain": [
       "                                                 smiles  y_expected  \\\n",
       "1255  COc1ncnc2c1ncn2C1OC(CO)C(OC(=O)Cc2ccccc2)C1OC(...        3.48   \n",
       "1681                                O=S1(=O)Nc2ccccc2N1        1.12   \n",
       "758     CC(=O)NC(Cc1c[nH]c2ccccc12)C(=O)NC(C(N)=O)C(C)C        0.73   \n",
       "1050                         CCNC(=O)NS(=O)(=O)c1ccccc1        0.90   \n",
       "1876                          CC(=O)OCN1C(=O)C=C(C)C1=O        0.45   \n",
       "\n",
       "      y_predicted         error  \n",
       "1255     3.480126  1.580049e-08  \n",
       "1681     1.119755  5.987809e-08  \n",
       "758      0.729388  3.742503e-07  \n",
       "1050     0.900748  5.589955e-07  \n",
       "1876     0.451109  1.228772e-06  "
      ]
     },
     "execution_count": 11,
     "metadata": {},
     "output_type": "execute_result"
    }
   ],
   "source": [
    "compare_data.sort_values(by=['error'], ascending=True).head()"
   ]
  },
  {
   "cell_type": "code",
   "execution_count": 12,
   "metadata": {},
   "outputs": [
    {
     "data": {
      "image/png": "[encoded data removed]",
      "text/plain": [
       "<rdkit.Chem.rdchem.Mol at 0x2962fb02620>"
      ]
     },
     "metadata": {},
     "output_type": "display_data"
    },
    {
     "data": {
      "image/png": "[encoded data removed]",
      "text/plain": [
       "<rdkit.Chem.rdchem.Mol at 0x2962fb02620>"
      ]
     },
     "metadata": {},
     "output_type": "display_data"
    },
    {
     "data": {
      "image/png": "[encoded data removed]",
      "text/plain": [
       "<rdkit.Chem.rdchem.Mol at 0x2962fb02620>"
      ]
     },
     "metadata": {},
     "output_type": "display_data"
    },
    {
     "data": {
      "image/png": "[encoded data removed]",
      "text/plain": [
       "<rdkit.Chem.rdchem.Mol at 0x2962fae2e90>"
      ]
     },
     "metadata": {},
     "output_type": "display_data"
    },
    {
     "data": {
      "image/png": "[encoded data removed]",
      "text/plain": [
       "<rdkit.Chem.rdchem.Mol at 0x2962fae2e90>"
      ]
     },
     "metadata": {},
     "output_type": "display_data"
    }
   ],
   "source": [
    "for mol in compare_data.sort_values(by=['error'], ascending=False).head().smiles:\n",
    "    mol = Chem.MolFromSmiles(mol)\n",
    "    display(mol)"
   ]
  },
  {
   "cell_type": "code",
   "execution_count": 13,
   "metadata": {},
   "outputs": [
    {
     "data": {
      "image/png": "[encoded data removed]",
      "text/plain": [
       "<rdkit.Chem.rdchem.Mol at 0x2962fae2e90>"
      ]
     },
     "metadata": {},
     "output_type": "display_data"
    },
    {
     "data": {
      "image/png": "[encoded data removed]",
      "text/plain": [
       "<rdkit.Chem.rdchem.Mol at 0x2962fae2e90>"
      ]
     },
     "metadata": {},
     "output_type": "display_data"
    },
    {
     "data": {
      "image/png": "[encoded data removed]",
      "text/plain": [
       "<rdkit.Chem.rdchem.Mol at 0x2962fae2e90>"
      ]
     },
     "metadata": {},
     "output_type": "display_data"
    },
    {
     "data": {
      "image/png": "[encoded data removed]",
      "text/plain": [
       "<rdkit.Chem.rdchem.Mol at 0x2962fae2e90>"
      ]
     },
     "metadata": {},
     "output_type": "display_data"
    },
    {
     "data": {
      "image/png": "[encoded data removed]",
      "text/plain": [
       "<rdkit.Chem.rdchem.Mol at 0x2962fae2e90>"
      ]
     },
     "metadata": {},
     "output_type": "display_data"
    }
   ],
   "source": [
    "for mol in compare_data.sort_values(by=['error'], ascending=True).head().smiles:\n",
    "    mol = Chem.MolFromSmiles(mol)\n",
    "    display(mol)"
   ]
  },
  {
   "cell_type": "code",
   "execution_count": 14,
   "metadata": {},
   "outputs": [],
   "source": [
    "compare_data = compare_data.sort_values(by=['error'])"
   ]
  },
  {
   "cell_type": "markdown",
   "metadata": {},
   "source": [
    "## Creating comparing function\n",
    "### The features to compare:\n",
    "- The count of atoms\n",
    "- The count of rings\n",
    "- The count of not organogens atoms\n",
    "- The percent of not organogens atoms\n",
    "- The percent of aromatic (benzene) rings out of all rings\n",
    "- The count and percent of aromatic bonds\n",
    "- The symmetry of molecules"
   ]
  },
  {
   "cell_type": "code",
   "execution_count": 15,
   "metadata": {},
   "outputs": [],
   "source": [
    "def create_statistics(vals):\n",
    "    values = vals.copy()\n",
    "    mols = [Chem.MolFromSmiles(x) for x in values.smiles]\n",
    "    \n",
    "    atom_count = [mol.GetNumAtoms() for mol in mols]\n",
    "    values['atom_count'] = pd.Series(atom_count)\n",
    "    \n",
    "    values['ring_count'] = pd.Series([mol.GetRingInfo().NumRings() for mol in mols])\n",
    "    \n",
    "    mol_atoms = [mol.GetAtoms() for mol in mols]\n",
    "    non_simple_atom_count = [sum((num.GetAtomicNum() not in [1, 6, 8, 7]) for num in m_atoms) for m_atoms in mol_atoms]\n",
    "    values['non_organogens_count'] = pd.Series(non_simple_atom_count)\n",
    "    \n",
    "    values['non_organogens_percent'] = values.non_organogens_count / values.atom_count *100\n",
    "    \n",
    "    benzene_smiles = 'C1=CC=CC=C1'\n",
    "    pattern = Chem.MolFromSmiles(benzene_smiles)\n",
    "    values['aromatic_count'] = pd.Series([len(mol.GetSubstructMatches(pattern)) for mol in mols])\n",
    "    \n",
    "    values['aromatic_rings_percent'] = values.aromatic_count / values.ring_count *100\n",
    "    values['aromatic_rings_percent'] = values['aromatic_rings_percent'].fillna(0)\n",
    "    \n",
    "    values['bond_count'] =  [len(mol.GetBonds()) for mol in mols]\n",
    "    values['aromatic_bond_count'] = [sum(bond.GetIsAromatic() for bond in mol.GetBonds()) for mol in mols]\n",
    "    values['aromatic_bond_percent'] = values.aromatic_bond_count / values.bond_count * 100\n",
    "    \n",
    "    values_list = [pd.Series(Chem.CanonicalRankAtoms(mol, breakTies=False)).value_counts() for mol in mols]\n",
    "    values['is_symmetric'] =  [(len(values) - 1 <= len(values[values % 2 == 0])) or (len(values) - 1 <= len(values[(values % 2 == 1) & (values > 1)])) for values in values_list]\n",
    "    \n",
    "    return values"
   ]
  },
  {
   "cell_type": "markdown",
   "metadata": {},
   "source": [
    "## Analyzing the data features"
   ]
  },
  {
   "cell_type": "code",
   "execution_count": 16,
   "metadata": {},
   "outputs": [],
   "source": [
    "compare_data_with_stats = create_statistics(compare_data)"
   ]
  },
  {
   "cell_type": "code",
   "execution_count": 17,
   "metadata": {},
   "outputs": [
    {
     "data": {
      "text/html": [
       "<div>\n",
       "<style scoped>\n",
       "    .dataframe tbody tr th:only-of-type {\n",
       "        vertical-align: middle;\n",
       "    }\n",
       "\n",
       "    .dataframe tbody tr th {\n",
       "        vertical-align: top;\n",
       "    }\n",
       "\n",
       "    .dataframe thead th {\n",
       "        text-align: right;\n",
       "    }\n",
       "</style>\n",
       "<table border=\"1\" class=\"dataframe\">\n",
       "  <thead>\n",
       "    <tr style=\"text-align: right;\">\n",
       "      <th></th>\n",
       "      <th>smiles</th>\n",
       "      <th>y_expected</th>\n",
       "      <th>y_predicted</th>\n",
       "      <th>error</th>\n",
       "      <th>atom_count</th>\n",
       "      <th>ring_count</th>\n",
       "      <th>non_organogens_count</th>\n",
       "      <th>non_organogens_percent</th>\n",
       "      <th>aromatic_count</th>\n",
       "      <th>aromatic_rings_percent</th>\n",
       "      <th>bond_count</th>\n",
       "      <th>aromatic_bond_count</th>\n",
       "      <th>aromatic_bond_percent</th>\n",
       "      <th>is_symmetric</th>\n",
       "    </tr>\n",
       "  </thead>\n",
       "  <tbody>\n",
       "    <tr>\n",
       "      <th>1255</th>\n",
       "      <td>COc1ncnc2c1ncn2C1OC(CO)C(OC(=O)Cc2ccccc2)C1OC(...</td>\n",
       "      <td>3.48</td>\n",
       "      <td>3.480126</td>\n",
       "      <td>1.580049e-08</td>\n",
       "      <td>18</td>\n",
       "      <td>1</td>\n",
       "      <td>2</td>\n",
       "      <td>11.111111</td>\n",
       "      <td>1</td>\n",
       "      <td>100.0</td>\n",
       "      <td>42</td>\n",
       "      <td>22</td>\n",
       "      <td>52.380952</td>\n",
       "      <td>False</td>\n",
       "    </tr>\n",
       "    <tr>\n",
       "      <th>1681</th>\n",
       "      <td>O=S1(=O)Nc2ccccc2N1</td>\n",
       "      <td>1.12</td>\n",
       "      <td>1.119755</td>\n",
       "      <td>5.987809e-08</td>\n",
       "      <td>12</td>\n",
       "      <td>2</td>\n",
       "      <td>0</td>\n",
       "      <td>0.000000</td>\n",
       "      <td>2</td>\n",
       "      <td>100.0</td>\n",
       "      <td>12</td>\n",
       "      <td>6</td>\n",
       "      <td>50.000000</td>\n",
       "      <td>True</td>\n",
       "    </tr>\n",
       "    <tr>\n",
       "      <th>758</th>\n",
       "      <td>CC(=O)NC(Cc1c[nH]c2ccccc12)C(=O)NC(C(N)=O)C(C)C</td>\n",
       "      <td>0.73</td>\n",
       "      <td>0.729388</td>\n",
       "      <td>3.742503e-07</td>\n",
       "      <td>15</td>\n",
       "      <td>5</td>\n",
       "      <td>0</td>\n",
       "      <td>0.000000</td>\n",
       "      <td>0</td>\n",
       "      <td>0.0</td>\n",
       "      <td>26</td>\n",
       "      <td>10</td>\n",
       "      <td>38.461538</td>\n",
       "      <td>False</td>\n",
       "    </tr>\n",
       "    <tr>\n",
       "      <th>1050</th>\n",
       "      <td>CCNC(=O)NS(=O)(=O)c1ccccc1</td>\n",
       "      <td>0.90</td>\n",
       "      <td>0.900748</td>\n",
       "      <td>5.589955e-07</td>\n",
       "      <td>24</td>\n",
       "      <td>2</td>\n",
       "      <td>0</td>\n",
       "      <td>0.000000</td>\n",
       "      <td>2</td>\n",
       "      <td>100.0</td>\n",
       "      <td>15</td>\n",
       "      <td>6</td>\n",
       "      <td>40.000000</td>\n",
       "      <td>False</td>\n",
       "    </tr>\n",
       "    <tr>\n",
       "      <th>1876</th>\n",
       "      <td>CC(=O)OCN1C(=O)C=C(C)C1=O</td>\n",
       "      <td>0.45</td>\n",
       "      <td>0.451109</td>\n",
       "      <td>1.228772e-06</td>\n",
       "      <td>10</td>\n",
       "      <td>1</td>\n",
       "      <td>2</td>\n",
       "      <td>20.000000</td>\n",
       "      <td>1</td>\n",
       "      <td>100.0</td>\n",
       "      <td>13</td>\n",
       "      <td>0</td>\n",
       "      <td>0.000000</td>\n",
       "      <td>False</td>\n",
       "    </tr>\n",
       "  </tbody>\n",
       "</table>\n",
       "</div>"
      ],
      "text/plain": [
       "                                                 smiles  y_expected  \\\n",
       "1255  COc1ncnc2c1ncn2C1OC(CO)C(OC(=O)Cc2ccccc2)C1OC(...        3.48   \n",
       "1681                                O=S1(=O)Nc2ccccc2N1        1.12   \n",
       "758     CC(=O)NC(Cc1c[nH]c2ccccc12)C(=O)NC(C(N)=O)C(C)C        0.73   \n",
       "1050                         CCNC(=O)NS(=O)(=O)c1ccccc1        0.90   \n",
       "1876                          CC(=O)OCN1C(=O)C=C(C)C1=O        0.45   \n",
       "\n",
       "      y_predicted         error  atom_count  ring_count  non_organogens_count  \\\n",
       "1255     3.480126  1.580049e-08          18           1                     2   \n",
       "1681     1.119755  5.987809e-08          12           2                     0   \n",
       "758      0.729388  3.742503e-07          15           5                     0   \n",
       "1050     0.900748  5.589955e-07          24           2                     0   \n",
       "1876     0.451109  1.228772e-06          10           1                     2   \n",
       "\n",
       "      non_organogens_percent  aromatic_count  aromatic_rings_percent  \\\n",
       "1255               11.111111               1                   100.0   \n",
       "1681                0.000000               2                   100.0   \n",
       "758                 0.000000               0                     0.0   \n",
       "1050                0.000000               2                   100.0   \n",
       "1876               20.000000               1                   100.0   \n",
       "\n",
       "      bond_count  aromatic_bond_count  aromatic_bond_percent  is_symmetric  \n",
       "1255          42                   22              52.380952         False  \n",
       "1681          12                    6              50.000000          True  \n",
       "758           26                   10              38.461538         False  \n",
       "1050          15                    6              40.000000         False  \n",
       "1876          13                    0               0.000000         False  "
      ]
     },
     "execution_count": 17,
     "metadata": {},
     "output_type": "execute_result"
    }
   ],
   "source": [
    "compare_data_with_stats.head()"
   ]
  },
  {
   "cell_type": "markdown",
   "metadata": {},
   "source": [
    "#### Splitting data into 3 parts"
   ]
  },
  {
   "cell_type": "code",
   "execution_count": 18,
   "metadata": {},
   "outputs": [],
   "source": [
    "data = []\n",
    "for i in range(3):\n",
    "    data.append(compare_data_with_stats.take([j for j in range(i * 1894 // 3, min((i + 1) * 1894 // 3, 1894))]))"
   ]
  },
  {
   "cell_type": "code",
   "execution_count": 19,
   "metadata": {
    "scrolled": false
   },
   "outputs": [
    {
     "data": {
      "text/html": [
       "<div>\n",
       "<style scoped>\n",
       "    .dataframe tbody tr th:only-of-type {\n",
       "        vertical-align: middle;\n",
       "    }\n",
       "\n",
       "    .dataframe tbody tr th {\n",
       "        vertical-align: top;\n",
       "    }\n",
       "\n",
       "    .dataframe thead th {\n",
       "        text-align: right;\n",
       "    }\n",
       "</style>\n",
       "<table border=\"1\" class=\"dataframe\">\n",
       "  <thead>\n",
       "    <tr style=\"text-align: right;\">\n",
       "      <th></th>\n",
       "      <th>y_expected</th>\n",
       "      <th>y_predicted</th>\n",
       "      <th>error</th>\n",
       "      <th>atom_count</th>\n",
       "      <th>ring_count</th>\n",
       "      <th>non_organogens_count</th>\n",
       "      <th>non_organogens_percent</th>\n",
       "      <th>aromatic_count</th>\n",
       "      <th>aromatic_rings_percent</th>\n",
       "      <th>bond_count</th>\n",
       "      <th>aromatic_bond_count</th>\n",
       "      <th>aromatic_bond_percent</th>\n",
       "    </tr>\n",
       "  </thead>\n",
       "  <tbody>\n",
       "    <tr>\n",
       "      <th>count</th>\n",
       "      <td>631.000000</td>\n",
       "      <td>631.000000</td>\n",
       "      <td>6.310000e+02</td>\n",
       "      <td>631.000000</td>\n",
       "      <td>631.000000</td>\n",
       "      <td>631.000000</td>\n",
       "      <td>631.000000</td>\n",
       "      <td>631.000000</td>\n",
       "      <td>631.000000</td>\n",
       "      <td>631.000000</td>\n",
       "      <td>631.000000</td>\n",
       "      <td>631.000000</td>\n",
       "    </tr>\n",
       "    <tr>\n",
       "      <th>mean</th>\n",
       "      <td>2.285800</td>\n",
       "      <td>2.285878</td>\n",
       "      <td>5.155709e-03</td>\n",
       "      <td>17.648177</td>\n",
       "      <td>1.820919</td>\n",
       "      <td>0.870048</td>\n",
       "      <td>5.349776</td>\n",
       "      <td>0.974643</td>\n",
       "      <td>54.752094</td>\n",
       "      <td>16.660856</td>\n",
       "      <td>7.410460</td>\n",
       "      <td>45.727717</td>\n",
       "    </tr>\n",
       "    <tr>\n",
       "      <th>std</th>\n",
       "      <td>1.691138</td>\n",
       "      <td>1.682570</td>\n",
       "      <td>4.845916e-03</td>\n",
       "      <td>7.964594</td>\n",
       "      <td>1.197062</td>\n",
       "      <td>1.451515</td>\n",
       "      <td>9.705430</td>\n",
       "      <td>0.796415</td>\n",
       "      <td>40.725484</td>\n",
       "      <td>7.140475</td>\n",
       "      <td>4.395649</td>\n",
       "      <td>23.309224</td>\n",
       "    </tr>\n",
       "    <tr>\n",
       "      <th>min</th>\n",
       "      <td>-2.280000</td>\n",
       "      <td>-2.221065</td>\n",
       "      <td>1.580049e-08</td>\n",
       "      <td>5.000000</td>\n",
       "      <td>0.000000</td>\n",
       "      <td>0.000000</td>\n",
       "      <td>0.000000</td>\n",
       "      <td>0.000000</td>\n",
       "      <td>0.000000</td>\n",
       "      <td>4.000000</td>\n",
       "      <td>0.000000</td>\n",
       "      <td>0.000000</td>\n",
       "    </tr>\n",
       "    <tr>\n",
       "      <th>25%</th>\n",
       "      <td>1.230000</td>\n",
       "      <td>1.239923</td>\n",
       "      <td>8.485037e-04</td>\n",
       "      <td>12.000000</td>\n",
       "      <td>1.000000</td>\n",
       "      <td>0.000000</td>\n",
       "      <td>0.000000</td>\n",
       "      <td>0.000000</td>\n",
       "      <td>0.000000</td>\n",
       "      <td>12.000000</td>\n",
       "      <td>6.000000</td>\n",
       "      <td>33.333333</td>\n",
       "    </tr>\n",
       "    <tr>\n",
       "      <th>50%</th>\n",
       "      <td>2.190000</td>\n",
       "      <td>2.190436</td>\n",
       "      <td>3.670603e-03</td>\n",
       "      <td>16.000000</td>\n",
       "      <td>2.000000</td>\n",
       "      <td>0.000000</td>\n",
       "      <td>0.000000</td>\n",
       "      <td>1.000000</td>\n",
       "      <td>50.000000</td>\n",
       "      <td>15.000000</td>\n",
       "      <td>6.000000</td>\n",
       "      <td>46.153846</td>\n",
       "    </tr>\n",
       "    <tr>\n",
       "      <th>75%</th>\n",
       "      <td>3.185000</td>\n",
       "      <td>3.219027</td>\n",
       "      <td>8.443944e-03</td>\n",
       "      <td>21.000000</td>\n",
       "      <td>2.000000</td>\n",
       "      <td>1.000000</td>\n",
       "      <td>7.692308</td>\n",
       "      <td>1.000000</td>\n",
       "      <td>100.000000</td>\n",
       "      <td>19.500000</td>\n",
       "      <td>11.000000</td>\n",
       "      <td>60.000000</td>\n",
       "    </tr>\n",
       "    <tr>\n",
       "      <th>max</th>\n",
       "      <td>8.200000</td>\n",
       "      <td>8.206756</td>\n",
       "      <td>1.604590e-02</td>\n",
       "      <td>62.000000</td>\n",
       "      <td>8.000000</td>\n",
       "      <td>10.000000</td>\n",
       "      <td>100.000000</td>\n",
       "      <td>5.000000</td>\n",
       "      <td>100.000000</td>\n",
       "      <td>62.000000</td>\n",
       "      <td>27.000000</td>\n",
       "      <td>100.000000</td>\n",
       "    </tr>\n",
       "  </tbody>\n",
       "</table>\n",
       "</div>"
      ],
      "text/plain": [
       "       y_expected  y_predicted         error  atom_count  ring_count  \\\n",
       "count  631.000000   631.000000  6.310000e+02  631.000000  631.000000   \n",
       "mean     2.285800     2.285878  5.155709e-03   17.648177    1.820919   \n",
       "std      1.691138     1.682570  4.845916e-03    7.964594    1.197062   \n",
       "min     -2.280000    -2.221065  1.580049e-08    5.000000    0.000000   \n",
       "25%      1.230000     1.239923  8.485037e-04   12.000000    1.000000   \n",
       "50%      2.190000     2.190436  3.670603e-03   16.000000    2.000000   \n",
       "75%      3.185000     3.219027  8.443944e-03   21.000000    2.000000   \n",
       "max      8.200000     8.206756  1.604590e-02   62.000000    8.000000   \n",
       "\n",
       "       non_organogens_count  non_organogens_percent  aromatic_count  \\\n",
       "count            631.000000              631.000000      631.000000   \n",
       "mean               0.870048                5.349776        0.974643   \n",
       "std                1.451515                9.705430        0.796415   \n",
       "min                0.000000                0.000000        0.000000   \n",
       "25%                0.000000                0.000000        0.000000   \n",
       "50%                0.000000                0.000000        1.000000   \n",
       "75%                1.000000                7.692308        1.000000   \n",
       "max               10.000000              100.000000        5.000000   \n",
       "\n",
       "       aromatic_rings_percent  bond_count  aromatic_bond_count  \\\n",
       "count              631.000000  631.000000           631.000000   \n",
       "mean                54.752094   16.660856             7.410460   \n",
       "std                 40.725484    7.140475             4.395649   \n",
       "min                  0.000000    4.000000             0.000000   \n",
       "25%                  0.000000   12.000000             6.000000   \n",
       "50%                 50.000000   15.000000             6.000000   \n",
       "75%                100.000000   19.500000            11.000000   \n",
       "max                100.000000   62.000000            27.000000   \n",
       "\n",
       "       aromatic_bond_percent  \n",
       "count             631.000000  \n",
       "mean               45.727717  \n",
       "std                23.309224  \n",
       "min                 0.000000  \n",
       "25%                33.333333  \n",
       "50%                46.153846  \n",
       "75%                60.000000  \n",
       "max               100.000000  "
      ]
     },
     "execution_count": 19,
     "metadata": {},
     "output_type": "execute_result"
    }
   ],
   "source": [
    "data[0].describe()"
   ]
  },
  {
   "cell_type": "code",
   "execution_count": 20,
   "metadata": {
    "scrolled": true
   },
   "outputs": [
    {
     "data": {
      "text/html": [
       "<div>\n",
       "<style scoped>\n",
       "    .dataframe tbody tr th:only-of-type {\n",
       "        vertical-align: middle;\n",
       "    }\n",
       "\n",
       "    .dataframe tbody tr th {\n",
       "        vertical-align: top;\n",
       "    }\n",
       "\n",
       "    .dataframe thead th {\n",
       "        text-align: right;\n",
       "    }\n",
       "</style>\n",
       "<table border=\"1\" class=\"dataframe\">\n",
       "  <thead>\n",
       "    <tr style=\"text-align: right;\">\n",
       "      <th></th>\n",
       "      <th>y_expected</th>\n",
       "      <th>y_predicted</th>\n",
       "      <th>error</th>\n",
       "      <th>atom_count</th>\n",
       "      <th>ring_count</th>\n",
       "      <th>non_organogens_count</th>\n",
       "      <th>non_organogens_percent</th>\n",
       "      <th>aromatic_count</th>\n",
       "      <th>aromatic_rings_percent</th>\n",
       "      <th>bond_count</th>\n",
       "      <th>aromatic_bond_count</th>\n",
       "      <th>aromatic_bond_percent</th>\n",
       "    </tr>\n",
       "  </thead>\n",
       "  <tbody>\n",
       "    <tr>\n",
       "      <th>count</th>\n",
       "      <td>631.000000</td>\n",
       "      <td>631.000000</td>\n",
       "      <td>631.000000</td>\n",
       "      <td>631.000000</td>\n",
       "      <td>631.000000</td>\n",
       "      <td>631.000000</td>\n",
       "      <td>631.000000</td>\n",
       "      <td>631.00000</td>\n",
       "      <td>631.000000</td>\n",
       "      <td>631.000000</td>\n",
       "      <td>631.000000</td>\n",
       "      <td>631.000000</td>\n",
       "    </tr>\n",
       "    <tr>\n",
       "      <th>mean</th>\n",
       "      <td>2.248938</td>\n",
       "      <td>2.269639</td>\n",
       "      <td>0.044170</td>\n",
       "      <td>17.478605</td>\n",
       "      <td>1.811410</td>\n",
       "      <td>0.849445</td>\n",
       "      <td>5.248863</td>\n",
       "      <td>0.92393</td>\n",
       "      <td>54.689080</td>\n",
       "      <td>18.309033</td>\n",
       "      <td>7.489699</td>\n",
       "      <td>42.511914</td>\n",
       "    </tr>\n",
       "    <tr>\n",
       "      <th>std</th>\n",
       "      <td>1.727263</td>\n",
       "      <td>1.717319</td>\n",
       "      <td>0.020934</td>\n",
       "      <td>7.147589</td>\n",
       "      <td>1.214043</td>\n",
       "      <td>1.309730</td>\n",
       "      <td>8.393454</td>\n",
       "      <td>0.72850</td>\n",
       "      <td>41.290791</td>\n",
       "      <td>8.670396</td>\n",
       "      <td>4.636584</td>\n",
       "      <td>24.193138</td>\n",
       "    </tr>\n",
       "    <tr>\n",
       "      <th>min</th>\n",
       "      <td>-2.780000</td>\n",
       "      <td>-3.005611</td>\n",
       "      <td>0.016120</td>\n",
       "      <td>5.000000</td>\n",
       "      <td>0.000000</td>\n",
       "      <td>0.000000</td>\n",
       "      <td>0.000000</td>\n",
       "      <td>0.00000</td>\n",
       "      <td>0.000000</td>\n",
       "      <td>4.000000</td>\n",
       "      <td>0.000000</td>\n",
       "      <td>0.000000</td>\n",
       "    </tr>\n",
       "    <tr>\n",
       "      <th>25%</th>\n",
       "      <td>1.170000</td>\n",
       "      <td>1.243981</td>\n",
       "      <td>0.025961</td>\n",
       "      <td>13.000000</td>\n",
       "      <td>1.000000</td>\n",
       "      <td>0.000000</td>\n",
       "      <td>0.000000</td>\n",
       "      <td>0.00000</td>\n",
       "      <td>0.000000</td>\n",
       "      <td>13.000000</td>\n",
       "      <td>6.000000</td>\n",
       "      <td>29.411765</td>\n",
       "    </tr>\n",
       "    <tr>\n",
       "      <th>50%</th>\n",
       "      <td>2.120000</td>\n",
       "      <td>2.189240</td>\n",
       "      <td>0.040499</td>\n",
       "      <td>17.000000</td>\n",
       "      <td>2.000000</td>\n",
       "      <td>0.000000</td>\n",
       "      <td>0.000000</td>\n",
       "      <td>1.00000</td>\n",
       "      <td>50.000000</td>\n",
       "      <td>17.000000</td>\n",
       "      <td>6.000000</td>\n",
       "      <td>45.833333</td>\n",
       "    </tr>\n",
       "    <tr>\n",
       "      <th>75%</th>\n",
       "      <td>3.305000</td>\n",
       "      <td>3.240006</td>\n",
       "      <td>0.060112</td>\n",
       "      <td>21.000000</td>\n",
       "      <td>2.000000</td>\n",
       "      <td>1.000000</td>\n",
       "      <td>7.692308</td>\n",
       "      <td>1.00000</td>\n",
       "      <td>100.000000</td>\n",
       "      <td>22.000000</td>\n",
       "      <td>11.000000</td>\n",
       "      <td>60.000000</td>\n",
       "    </tr>\n",
       "    <tr>\n",
       "      <th>max</th>\n",
       "      <td>8.560000</td>\n",
       "      <td>8.735890</td>\n",
       "      <td>0.090891</td>\n",
       "      <td>65.000000</td>\n",
       "      <td>8.000000</td>\n",
       "      <td>8.000000</td>\n",
       "      <td>66.666667</td>\n",
       "      <td>4.00000</td>\n",
       "      <td>100.000000</td>\n",
       "      <td>85.000000</td>\n",
       "      <td>26.000000</td>\n",
       "      <td>100.000000</td>\n",
       "    </tr>\n",
       "  </tbody>\n",
       "</table>\n",
       "</div>"
      ],
      "text/plain": [
       "       y_expected  y_predicted       error  atom_count  ring_count  \\\n",
       "count  631.000000   631.000000  631.000000  631.000000  631.000000   \n",
       "mean     2.248938     2.269639    0.044170   17.478605    1.811410   \n",
       "std      1.727263     1.717319    0.020934    7.147589    1.214043   \n",
       "min     -2.780000    -3.005611    0.016120    5.000000    0.000000   \n",
       "25%      1.170000     1.243981    0.025961   13.000000    1.000000   \n",
       "50%      2.120000     2.189240    0.040499   17.000000    2.000000   \n",
       "75%      3.305000     3.240006    0.060112   21.000000    2.000000   \n",
       "max      8.560000     8.735890    0.090891   65.000000    8.000000   \n",
       "\n",
       "       non_organogens_count  non_organogens_percent  aromatic_count  \\\n",
       "count            631.000000              631.000000       631.00000   \n",
       "mean               0.849445                5.248863         0.92393   \n",
       "std                1.309730                8.393454         0.72850   \n",
       "min                0.000000                0.000000         0.00000   \n",
       "25%                0.000000                0.000000         0.00000   \n",
       "50%                0.000000                0.000000         1.00000   \n",
       "75%                1.000000                7.692308         1.00000   \n",
       "max                8.000000               66.666667         4.00000   \n",
       "\n",
       "       aromatic_rings_percent  bond_count  aromatic_bond_count  \\\n",
       "count              631.000000  631.000000           631.000000   \n",
       "mean                54.689080   18.309033             7.489699   \n",
       "std                 41.290791    8.670396             4.636584   \n",
       "min                  0.000000    4.000000             0.000000   \n",
       "25%                  0.000000   13.000000             6.000000   \n",
       "50%                 50.000000   17.000000             6.000000   \n",
       "75%                100.000000   22.000000            11.000000   \n",
       "max                100.000000   85.000000            26.000000   \n",
       "\n",
       "       aromatic_bond_percent  \n",
       "count             631.000000  \n",
       "mean               42.511914  \n",
       "std                24.193138  \n",
       "min                 0.000000  \n",
       "25%                29.411765  \n",
       "50%                45.833333  \n",
       "75%                60.000000  \n",
       "max               100.000000  "
      ]
     },
     "execution_count": 20,
     "metadata": {},
     "output_type": "execute_result"
    }
   ],
   "source": [
    "data[1].describe()"
   ]
  },
  {
   "cell_type": "code",
   "execution_count": 21,
   "metadata": {
    "scrolled": false
   },
   "outputs": [
    {
     "data": {
      "text/html": [
       "<div>\n",
       "<style scoped>\n",
       "    .dataframe tbody tr th:only-of-type {\n",
       "        vertical-align: middle;\n",
       "    }\n",
       "\n",
       "    .dataframe tbody tr th {\n",
       "        vertical-align: top;\n",
       "    }\n",
       "\n",
       "    .dataframe thead th {\n",
       "        text-align: right;\n",
       "    }\n",
       "</style>\n",
       "<table border=\"1\" class=\"dataframe\">\n",
       "  <thead>\n",
       "    <tr style=\"text-align: right;\">\n",
       "      <th></th>\n",
       "      <th>y_expected</th>\n",
       "      <th>y_predicted</th>\n",
       "      <th>error</th>\n",
       "      <th>atom_count</th>\n",
       "      <th>ring_count</th>\n",
       "      <th>non_organogens_count</th>\n",
       "      <th>non_organogens_percent</th>\n",
       "      <th>aromatic_count</th>\n",
       "      <th>aromatic_rings_percent</th>\n",
       "      <th>bond_count</th>\n",
       "      <th>aromatic_bond_count</th>\n",
       "      <th>aromatic_bond_percent</th>\n",
       "    </tr>\n",
       "  </thead>\n",
       "  <tbody>\n",
       "    <tr>\n",
       "      <th>count</th>\n",
       "      <td>632.000000</td>\n",
       "      <td>632.000000</td>\n",
       "      <td>632.000000</td>\n",
       "      <td>632.000000</td>\n",
       "      <td>632.000000</td>\n",
       "      <td>632.000000</td>\n",
       "      <td>632.000000</td>\n",
       "      <td>632.000000</td>\n",
       "      <td>632.000000</td>\n",
       "      <td>632.000000</td>\n",
       "      <td>632.000000</td>\n",
       "      <td>632.000000</td>\n",
       "    </tr>\n",
       "    <tr>\n",
       "      <th>mean</th>\n",
       "      <td>2.073703</td>\n",
       "      <td>2.165769</td>\n",
       "      <td>0.236603</td>\n",
       "      <td>17.816456</td>\n",
       "      <td>1.731013</td>\n",
       "      <td>0.903481</td>\n",
       "      <td>5.551530</td>\n",
       "      <td>0.919304</td>\n",
       "      <td>55.633288</td>\n",
       "      <td>19.219937</td>\n",
       "      <td>7.977848</td>\n",
       "      <td>42.016288</td>\n",
       "    </tr>\n",
       "    <tr>\n",
       "      <th>std</th>\n",
       "      <td>1.935662</td>\n",
       "      <td>1.880260</td>\n",
       "      <td>0.124629</td>\n",
       "      <td>8.084607</td>\n",
       "      <td>1.175740</td>\n",
       "      <td>1.364662</td>\n",
       "      <td>8.780761</td>\n",
       "      <td>0.745706</td>\n",
       "      <td>42.144497</td>\n",
       "      <td>8.774732</td>\n",
       "      <td>5.255393</td>\n",
       "      <td>23.476065</td>\n",
       "    </tr>\n",
       "    <tr>\n",
       "      <th>min</th>\n",
       "      <td>-3.400000</td>\n",
       "      <td>-3.952872</td>\n",
       "      <td>0.090900</td>\n",
       "      <td>5.000000</td>\n",
       "      <td>0.000000</td>\n",
       "      <td>0.000000</td>\n",
       "      <td>0.000000</td>\n",
       "      <td>0.000000</td>\n",
       "      <td>0.000000</td>\n",
       "      <td>4.000000</td>\n",
       "      <td>0.000000</td>\n",
       "      <td>0.000000</td>\n",
       "    </tr>\n",
       "    <tr>\n",
       "      <th>25%</th>\n",
       "      <td>0.677500</td>\n",
       "      <td>0.840974</td>\n",
       "      <td>0.133619</td>\n",
       "      <td>13.000000</td>\n",
       "      <td>1.000000</td>\n",
       "      <td>0.000000</td>\n",
       "      <td>0.000000</td>\n",
       "      <td>0.000000</td>\n",
       "      <td>0.000000</td>\n",
       "      <td>13.000000</td>\n",
       "      <td>6.000000</td>\n",
       "      <td>28.571429</td>\n",
       "    </tr>\n",
       "    <tr>\n",
       "      <th>50%</th>\n",
       "      <td>1.980000</td>\n",
       "      <td>2.133472</td>\n",
       "      <td>0.197564</td>\n",
       "      <td>16.500000</td>\n",
       "      <td>1.000000</td>\n",
       "      <td>0.000000</td>\n",
       "      <td>0.000000</td>\n",
       "      <td>1.000000</td>\n",
       "      <td>50.000000</td>\n",
       "      <td>18.000000</td>\n",
       "      <td>6.000000</td>\n",
       "      <td>42.857143</td>\n",
       "    </tr>\n",
       "    <tr>\n",
       "      <th>75%</th>\n",
       "      <td>3.332500</td>\n",
       "      <td>3.361694</td>\n",
       "      <td>0.316576</td>\n",
       "      <td>21.000000</td>\n",
       "      <td>2.000000</td>\n",
       "      <td>1.000000</td>\n",
       "      <td>7.692308</td>\n",
       "      <td>1.000000</td>\n",
       "      <td>100.000000</td>\n",
       "      <td>23.000000</td>\n",
       "      <td>12.000000</td>\n",
       "      <td>57.142857</td>\n",
       "    </tr>\n",
       "    <tr>\n",
       "      <th>max</th>\n",
       "      <td>8.600000</td>\n",
       "      <td>8.435294</td>\n",
       "      <td>0.563222</td>\n",
       "      <td>85.000000</td>\n",
       "      <td>9.000000</td>\n",
       "      <td>9.000000</td>\n",
       "      <td>80.000000</td>\n",
       "      <td>5.000000</td>\n",
       "      <td>100.000000</td>\n",
       "      <td>59.000000</td>\n",
       "      <td>30.000000</td>\n",
       "      <td>100.000000</td>\n",
       "    </tr>\n",
       "  </tbody>\n",
       "</table>\n",
       "</div>"
      ],
      "text/plain": [
       "       y_expected  y_predicted       error  atom_count  ring_count  \\\n",
       "count  632.000000   632.000000  632.000000  632.000000  632.000000   \n",
       "mean     2.073703     2.165769    0.236603   17.816456    1.731013   \n",
       "std      1.935662     1.880260    0.124629    8.084607    1.175740   \n",
       "min     -3.400000    -3.952872    0.090900    5.000000    0.000000   \n",
       "25%      0.677500     0.840974    0.133619   13.000000    1.000000   \n",
       "50%      1.980000     2.133472    0.197564   16.500000    1.000000   \n",
       "75%      3.332500     3.361694    0.316576   21.000000    2.000000   \n",
       "max      8.600000     8.435294    0.563222   85.000000    9.000000   \n",
       "\n",
       "       non_organogens_count  non_organogens_percent  aromatic_count  \\\n",
       "count            632.000000              632.000000      632.000000   \n",
       "mean               0.903481                5.551530        0.919304   \n",
       "std                1.364662                8.780761        0.745706   \n",
       "min                0.000000                0.000000        0.000000   \n",
       "25%                0.000000                0.000000        0.000000   \n",
       "50%                0.000000                0.000000        1.000000   \n",
       "75%                1.000000                7.692308        1.000000   \n",
       "max                9.000000               80.000000        5.000000   \n",
       "\n",
       "       aromatic_rings_percent  bond_count  aromatic_bond_count  \\\n",
       "count              632.000000  632.000000           632.000000   \n",
       "mean                55.633288   19.219937             7.977848   \n",
       "std                 42.144497    8.774732             5.255393   \n",
       "min                  0.000000    4.000000             0.000000   \n",
       "25%                  0.000000   13.000000             6.000000   \n",
       "50%                 50.000000   18.000000             6.000000   \n",
       "75%                100.000000   23.000000            12.000000   \n",
       "max                100.000000   59.000000            30.000000   \n",
       "\n",
       "       aromatic_bond_percent  \n",
       "count             632.000000  \n",
       "mean               42.016288  \n",
       "std                23.476065  \n",
       "min                 0.000000  \n",
       "25%                28.571429  \n",
       "50%                42.857143  \n",
       "75%                57.142857  \n",
       "max               100.000000  "
      ]
     },
     "execution_count": 21,
     "metadata": {},
     "output_type": "execute_result"
    }
   ],
   "source": [
    "data[2].describe()"
   ]
  },
  {
   "cell_type": "markdown",
   "metadata": {},
   "source": [
    "## Check repeting patterns in the middle of the dataset\n",
    "Hypothesis: badly predicted molecules are symmetric (like 1, 3, 5 worst molecules)\n",
    "\n",
    "The simplest way to check: take 20 random molecules from the best/middle/worst part."
   ]
  },
  {
   "cell_type": "code",
   "execution_count": 22,
   "metadata": {},
   "outputs": [],
   "source": [
    "best = data[0].reset_index().drop(columns=['index'])"
   ]
  },
  {
   "cell_type": "code",
   "execution_count": 23,
   "metadata": {},
   "outputs": [
    {
     "data": {
      "text/html": [
       "<div>\n",
       "<style scoped>\n",
       "    .dataframe tbody tr th:only-of-type {\n",
       "        vertical-align: middle;\n",
       "    }\n",
       "\n",
       "    .dataframe tbody tr th {\n",
       "        vertical-align: top;\n",
       "    }\n",
       "\n",
       "    .dataframe thead th {\n",
       "        text-align: right;\n",
       "    }\n",
       "</style>\n",
       "<table border=\"1\" class=\"dataframe\">\n",
       "  <thead>\n",
       "    <tr style=\"text-align: right;\">\n",
       "      <th></th>\n",
       "      <th>smiles</th>\n",
       "      <th>y_expected</th>\n",
       "      <th>y_predicted</th>\n",
       "      <th>error</th>\n",
       "      <th>atom_count</th>\n",
       "      <th>ring_count</th>\n",
       "      <th>non_organogens_count</th>\n",
       "      <th>non_organogens_percent</th>\n",
       "      <th>aromatic_count</th>\n",
       "      <th>aromatic_rings_percent</th>\n",
       "      <th>bond_count</th>\n",
       "      <th>aromatic_bond_count</th>\n",
       "      <th>aromatic_bond_percent</th>\n",
       "      <th>is_symmetric</th>\n",
       "    </tr>\n",
       "  </thead>\n",
       "  <tbody>\n",
       "    <tr>\n",
       "      <th>0</th>\n",
       "      <td>COc1ncnc2c1ncn2C1OC(CO)C(OC(=O)Cc2ccccc2)C1OC(...</td>\n",
       "      <td>3.48</td>\n",
       "      <td>3.480126</td>\n",
       "      <td>1.580049e-08</td>\n",
       "      <td>18</td>\n",
       "      <td>1</td>\n",
       "      <td>2</td>\n",
       "      <td>11.111111</td>\n",
       "      <td>1</td>\n",
       "      <td>100.0</td>\n",
       "      <td>42</td>\n",
       "      <td>22</td>\n",
       "      <td>52.380952</td>\n",
       "      <td>False</td>\n",
       "    </tr>\n",
       "    <tr>\n",
       "      <th>1</th>\n",
       "      <td>O=S1(=O)Nc2ccccc2N1</td>\n",
       "      <td>1.12</td>\n",
       "      <td>1.119755</td>\n",
       "      <td>5.987809e-08</td>\n",
       "      <td>12</td>\n",
       "      <td>2</td>\n",
       "      <td>0</td>\n",
       "      <td>0.000000</td>\n",
       "      <td>2</td>\n",
       "      <td>100.0</td>\n",
       "      <td>12</td>\n",
       "      <td>6</td>\n",
       "      <td>50.000000</td>\n",
       "      <td>True</td>\n",
       "    </tr>\n",
       "    <tr>\n",
       "      <th>2</th>\n",
       "      <td>CC(=O)NC(Cc1c[nH]c2ccccc12)C(=O)NC(C(N)=O)C(C)C</td>\n",
       "      <td>0.73</td>\n",
       "      <td>0.729388</td>\n",
       "      <td>3.742503e-07</td>\n",
       "      <td>15</td>\n",
       "      <td>5</td>\n",
       "      <td>0</td>\n",
       "      <td>0.000000</td>\n",
       "      <td>0</td>\n",
       "      <td>0.0</td>\n",
       "      <td>26</td>\n",
       "      <td>10</td>\n",
       "      <td>38.461538</td>\n",
       "      <td>False</td>\n",
       "    </tr>\n",
       "    <tr>\n",
       "      <th>3</th>\n",
       "      <td>CCNC(=O)NS(=O)(=O)c1ccccc1</td>\n",
       "      <td>0.90</td>\n",
       "      <td>0.900748</td>\n",
       "      <td>5.589955e-07</td>\n",
       "      <td>24</td>\n",
       "      <td>2</td>\n",
       "      <td>0</td>\n",
       "      <td>0.000000</td>\n",
       "      <td>2</td>\n",
       "      <td>100.0</td>\n",
       "      <td>15</td>\n",
       "      <td>6</td>\n",
       "      <td>40.000000</td>\n",
       "      <td>False</td>\n",
       "    </tr>\n",
       "    <tr>\n",
       "      <th>4</th>\n",
       "      <td>CC(=O)OCN1C(=O)C=C(C)C1=O</td>\n",
       "      <td>0.45</td>\n",
       "      <td>0.451109</td>\n",
       "      <td>1.228772e-06</td>\n",
       "      <td>10</td>\n",
       "      <td>1</td>\n",
       "      <td>2</td>\n",
       "      <td>20.000000</td>\n",
       "      <td>1</td>\n",
       "      <td>100.0</td>\n",
       "      <td>13</td>\n",
       "      <td>0</td>\n",
       "      <td>0.000000</td>\n",
       "      <td>False</td>\n",
       "    </tr>\n",
       "  </tbody>\n",
       "</table>\n",
       "</div>"
      ],
      "text/plain": [
       "                                              smiles  y_expected  y_predicted  \\\n",
       "0  COc1ncnc2c1ncn2C1OC(CO)C(OC(=O)Cc2ccccc2)C1OC(...        3.48     3.480126   \n",
       "1                                O=S1(=O)Nc2ccccc2N1        1.12     1.119755   \n",
       "2    CC(=O)NC(Cc1c[nH]c2ccccc12)C(=O)NC(C(N)=O)C(C)C        0.73     0.729388   \n",
       "3                         CCNC(=O)NS(=O)(=O)c1ccccc1        0.90     0.900748   \n",
       "4                          CC(=O)OCN1C(=O)C=C(C)C1=O        0.45     0.451109   \n",
       "\n",
       "          error  atom_count  ring_count  non_organogens_count  \\\n",
       "0  1.580049e-08          18           1                     2   \n",
       "1  5.987809e-08          12           2                     0   \n",
       "2  3.742503e-07          15           5                     0   \n",
       "3  5.589955e-07          24           2                     0   \n",
       "4  1.228772e-06          10           1                     2   \n",
       "\n",
       "   non_organogens_percent  aromatic_count  aromatic_rings_percent  bond_count  \\\n",
       "0               11.111111               1                   100.0          42   \n",
       "1                0.000000               2                   100.0          12   \n",
       "2                0.000000               0                     0.0          26   \n",
       "3                0.000000               2                   100.0          15   \n",
       "4               20.000000               1                   100.0          13   \n",
       "\n",
       "   aromatic_bond_count  aromatic_bond_percent  is_symmetric  \n",
       "0                   22              52.380952         False  \n",
       "1                    6              50.000000          True  \n",
       "2                   10              38.461538         False  \n",
       "3                    6              40.000000         False  \n",
       "4                    0               0.000000         False  "
      ]
     },
     "execution_count": 23,
     "metadata": {},
     "output_type": "execute_result"
    }
   ],
   "source": [
    "best.head()"
   ]
  },
  {
   "cell_type": "code",
   "execution_count": 24,
   "metadata": {},
   "outputs": [],
   "source": [
    "np.random.seed = 10\n",
    "indices = pd.Series(np.random.randint(631, size=10))"
   ]
  },
  {
   "cell_type": "code",
   "execution_count": 25,
   "metadata": {},
   "outputs": [
    {
     "data": {
      "image/png": "[encoded data removed]",
      "text/plain": [
       "<rdkit.Chem.rdchem.Mol at 0x2963503cbc0>"
      ]
     },
     "metadata": {},
     "output_type": "display_data"
    },
    {
     "data": {
      "image/png": "[encoded data removed]",
      "text/plain": [
       "<rdkit.Chem.rdchem.Mol at 0x2963503c6c0>"
      ]
     },
     "metadata": {},
     "output_type": "display_data"
    },
    {
     "data": {
      "image/png": "[encoded data removed]",
      "text/plain": [
       "<rdkit.Chem.rdchem.Mol at 0x2963503cbc0>"
      ]
     },
     "metadata": {},
     "output_type": "display_data"
    },
    {
     "data": {
      "image/png": "[encoded data removed]",
      "text/plain": [
       "<rdkit.Chem.rdchem.Mol at 0x2963503c6c0>"
      ]
     },
     "metadata": {},
     "output_type": "display_data"
    },
    {
     "data": {
      "image/png": "[encoded data removed]",
      "text/plain": [
       "<rdkit.Chem.rdchem.Mol at 0x2963503cbc0>"
      ]
     },
     "metadata": {},
     "output_type": "display_data"
    },
    {
     "data": {
      "image/png": "[encoded data removed]",
      "text/plain": [
       "<rdkit.Chem.rdchem.Mol at 0x2963503c6c0>"
      ]
     },
     "metadata": {},
     "output_type": "display_data"
    },
    {
     "data": {
      "image/png": "[encoded data removed]",
      "text/plain": [
       "<rdkit.Chem.rdchem.Mol at 0x2962fae2e90>"
      ]
     },
     "metadata": {},
     "output_type": "display_data"
    },
    {
     "data": {
      "image/png": "[encoded data removed]",
      "text/plain": [
       "<rdkit.Chem.rdchem.Mol at 0x2963503c2b0>"
      ]
     },
     "metadata": {},
     "output_type": "display_data"
    },
    {
     "data": {
      "image/png": "[encoded data removed]",
      "text/plain": [
       "<rdkit.Chem.rdchem.Mol at 0x2963503cbc0>"
      ]
     },
     "metadata": {},
     "output_type": "display_data"
    },
    {
     "data": {
      "image/png": "[encoded data removed]",
      "text/plain": [
       "<rdkit.Chem.rdchem.Mol at 0x2962fc1db70>"
      ]
     },
     "metadata": {},
     "output_type": "display_data"
    }
   ],
   "source": [
    "for smiles in best.loc[indices].smiles:\n",
    "    mol = Chem.MolFromSmiles(smiles)\n",
    "    display(mol)"
   ]
  },
  {
   "cell_type": "code",
   "execution_count": 26,
   "metadata": {},
   "outputs": [],
   "source": [
    "np.random.seed = 10\n",
    "indices = pd.Series(np.random.randint(631, size=20))"
   ]
  },
  {
   "cell_type": "code",
   "execution_count": 27,
   "metadata": {},
   "outputs": [],
   "source": [
    "middle = data[1].reset_index().drop(columns=['index'])"
   ]
  },
  {
   "cell_type": "code",
   "execution_count": 28,
   "metadata": {},
   "outputs": [
    {
     "data": {
      "text/html": [
       "<div>\n",
       "<style scoped>\n",
       "    .dataframe tbody tr th:only-of-type {\n",
       "        vertical-align: middle;\n",
       "    }\n",
       "\n",
       "    .dataframe tbody tr th {\n",
       "        vertical-align: top;\n",
       "    }\n",
       "\n",
       "    .dataframe thead th {\n",
       "        text-align: right;\n",
       "    }\n",
       "</style>\n",
       "<table border=\"1\" class=\"dataframe\">\n",
       "  <thead>\n",
       "    <tr style=\"text-align: right;\">\n",
       "      <th></th>\n",
       "      <th>smiles</th>\n",
       "      <th>y_expected</th>\n",
       "      <th>y_predicted</th>\n",
       "      <th>error</th>\n",
       "      <th>atom_count</th>\n",
       "      <th>ring_count</th>\n",
       "      <th>non_organogens_count</th>\n",
       "      <th>non_organogens_percent</th>\n",
       "      <th>aromatic_count</th>\n",
       "      <th>aromatic_rings_percent</th>\n",
       "      <th>bond_count</th>\n",
       "      <th>aromatic_bond_count</th>\n",
       "      <th>aromatic_bond_percent</th>\n",
       "      <th>is_symmetric</th>\n",
       "    </tr>\n",
       "  </thead>\n",
       "  <tbody>\n",
       "    <tr>\n",
       "      <th>0</th>\n",
       "      <td>Oc1ccc(Cl)c(Cl)c1Cl</td>\n",
       "      <td>3.80</td>\n",
       "      <td>3.673035</td>\n",
       "      <td>0.016120</td>\n",
       "      <td>29</td>\n",
       "      <td>4</td>\n",
       "      <td>3</td>\n",
       "      <td>10.344828</td>\n",
       "      <td>0</td>\n",
       "      <td>0.0</td>\n",
       "      <td>10</td>\n",
       "      <td>6</td>\n",
       "      <td>60.000000</td>\n",
       "      <td>False</td>\n",
       "    </tr>\n",
       "    <tr>\n",
       "      <th>1</th>\n",
       "      <td>Cc1ccc2cc(C)ccc2c1</td>\n",
       "      <td>4.31</td>\n",
       "      <td>4.437232</td>\n",
       "      <td>0.016188</td>\n",
       "      <td>13</td>\n",
       "      <td>0</td>\n",
       "      <td>0</td>\n",
       "      <td>0.000000</td>\n",
       "      <td>0</td>\n",
       "      <td>0.0</td>\n",
       "      <td>13</td>\n",
       "      <td>11</td>\n",
       "      <td>84.615385</td>\n",
       "      <td>True</td>\n",
       "    </tr>\n",
       "    <tr>\n",
       "      <th>2</th>\n",
       "      <td>COC(=O)c1ccccc1C</td>\n",
       "      <td>2.75</td>\n",
       "      <td>2.622513</td>\n",
       "      <td>0.016253</td>\n",
       "      <td>21</td>\n",
       "      <td>1</td>\n",
       "      <td>1</td>\n",
       "      <td>4.761905</td>\n",
       "      <td>1</td>\n",
       "      <td>100.0</td>\n",
       "      <td>11</td>\n",
       "      <td>6</td>\n",
       "      <td>54.545455</td>\n",
       "      <td>False</td>\n",
       "    </tr>\n",
       "    <tr>\n",
       "      <th>3</th>\n",
       "      <td>O=C(Oc1ccccc1)c1ccccc1</td>\n",
       "      <td>3.59</td>\n",
       "      <td>3.462463</td>\n",
       "      <td>0.016266</td>\n",
       "      <td>15</td>\n",
       "      <td>2</td>\n",
       "      <td>2</td>\n",
       "      <td>13.333333</td>\n",
       "      <td>0</td>\n",
       "      <td>0.0</td>\n",
       "      <td>16</td>\n",
       "      <td>12</td>\n",
       "      <td>75.000000</td>\n",
       "      <td>False</td>\n",
       "    </tr>\n",
       "    <tr>\n",
       "      <th>4</th>\n",
       "      <td>O=C(NC(CO)C(O)c1ccc(Cl)cc1)C(Cl)Cl</td>\n",
       "      <td>1.64</td>\n",
       "      <td>1.767690</td>\n",
       "      <td>0.016305</td>\n",
       "      <td>24</td>\n",
       "      <td>0</td>\n",
       "      <td>0</td>\n",
       "      <td>0.000000</td>\n",
       "      <td>0</td>\n",
       "      <td>0.0</td>\n",
       "      <td>18</td>\n",
       "      <td>6</td>\n",
       "      <td>33.333333</td>\n",
       "      <td>False</td>\n",
       "    </tr>\n",
       "  </tbody>\n",
       "</table>\n",
       "</div>"
      ],
      "text/plain": [
       "                               smiles  y_expected  y_predicted     error  \\\n",
       "0                 Oc1ccc(Cl)c(Cl)c1Cl        3.80     3.673035  0.016120   \n",
       "1                  Cc1ccc2cc(C)ccc2c1        4.31     4.437232  0.016188   \n",
       "2                    COC(=O)c1ccccc1C        2.75     2.622513  0.016253   \n",
       "3              O=C(Oc1ccccc1)c1ccccc1        3.59     3.462463  0.016266   \n",
       "4  O=C(NC(CO)C(O)c1ccc(Cl)cc1)C(Cl)Cl        1.64     1.767690  0.016305   \n",
       "\n",
       "   atom_count  ring_count  non_organogens_count  non_organogens_percent  \\\n",
       "0          29           4                     3               10.344828   \n",
       "1          13           0                     0                0.000000   \n",
       "2          21           1                     1                4.761905   \n",
       "3          15           2                     2               13.333333   \n",
       "4          24           0                     0                0.000000   \n",
       "\n",
       "   aromatic_count  aromatic_rings_percent  bond_count  aromatic_bond_count  \\\n",
       "0               0                     0.0          10                    6   \n",
       "1               0                     0.0          13                   11   \n",
       "2               1                   100.0          11                    6   \n",
       "3               0                     0.0          16                   12   \n",
       "4               0                     0.0          18                    6   \n",
       "\n",
       "   aromatic_bond_percent  is_symmetric  \n",
       "0              60.000000         False  \n",
       "1              84.615385          True  \n",
       "2              54.545455         False  \n",
       "3              75.000000         False  \n",
       "4              33.333333         False  "
      ]
     },
     "execution_count": 28,
     "metadata": {},
     "output_type": "execute_result"
    }
   ],
   "source": [
    "middle.head()"
   ]
  },
  {
   "cell_type": "code",
   "execution_count": 29,
   "metadata": {},
   "outputs": [
    {
     "data": {
      "text/plain": [
       "(631, 14)"
      ]
     },
     "execution_count": 29,
     "metadata": {},
     "output_type": "execute_result"
    }
   ],
   "source": [
    "middle.shape"
   ]
  },
  {
   "cell_type": "code",
   "execution_count": 30,
   "metadata": {},
   "outputs": [],
   "source": [
    "indices = pd.Series(np.random.randint(631, size=10))"
   ]
  },
  {
   "cell_type": "code",
   "execution_count": 31,
   "metadata": {},
   "outputs": [
    {
     "data": {
      "image/png": "[encoded data removed]",
      "text/plain": [
       "<rdkit.Chem.rdchem.Mol at 0x2962ff58990>"
      ]
     },
     "metadata": {},
     "output_type": "display_data"
    },
    {
     "data": {
      "image/png": "[encoded data removed]",
      "text/plain": [
       "<rdkit.Chem.rdchem.Mol at 0x2962ff582b0>"
      ]
     },
     "metadata": {},
     "output_type": "display_data"
    },
    {
     "data": {
      "image/png": "[encoded data removed]",
      "text/plain": [
       "<rdkit.Chem.rdchem.Mol at 0x2962ff58990>"
      ]
     },
     "metadata": {},
     "output_type": "display_data"
    },
    {
     "data": {
      "image/png": "[encoded data removed]",
      "text/plain": [
       "<rdkit.Chem.rdchem.Mol at 0x2962ff58bc0>"
      ]
     },
     "metadata": {},
     "output_type": "display_data"
    },
    {
     "data": {
      "image/png": "[encoded data removed]",
      "text/plain": [
       "<rdkit.Chem.rdchem.Mol at 0x2962ff58e40>"
      ]
     },
     "metadata": {},
     "output_type": "display_data"
    },
    {
     "data": {
      "image/png": "[encoded data removed]",
      "text/plain": [
       "<rdkit.Chem.rdchem.Mol at 0x2962ff58990>"
      ]
     },
     "metadata": {},
     "output_type": "display_data"
    },
    {
     "data": {
      "image/png": "[encoded data removed]",
      "text/plain": [
       "<rdkit.Chem.rdchem.Mol at 0x2962ff582b0>"
      ]
     },
     "metadata": {},
     "output_type": "display_data"
    },
    {
     "data": {
      "image/png": "[encoded data removed]",
      "text/plain": [
       "<rdkit.Chem.rdchem.Mol at 0x2962ff58bc0>"
      ]
     },
     "metadata": {},
     "output_type": "display_data"
    },
    {
     "data": {
      "image/png": "[encoded data removed]",
      "text/plain": [
       "<rdkit.Chem.rdchem.Mol at 0x2962ff58e40>"
      ]
     },
     "metadata": {},
     "output_type": "display_data"
    },
    {
     "data": {
      "image/png": "[encoded data removed]",
      "text/plain": [
       "<rdkit.Chem.rdchem.Mol at 0x2962ff582b0>"
      ]
     },
     "metadata": {},
     "output_type": "display_data"
    }
   ],
   "source": [
    "for smiles in middle.loc[indices].smiles:\n",
    "    mol = Chem.MolFromSmiles(smiles)\n",
    "    display(mol)"
   ]
  },
  {
   "cell_type": "code",
   "execution_count": 32,
   "metadata": {},
   "outputs": [],
   "source": [
    "worst = data[2].reset_index().drop(columns=['index'])"
   ]
  },
  {
   "cell_type": "code",
   "execution_count": 33,
   "metadata": {},
   "outputs": [],
   "source": [
    "indices = pd.Series(np.random.randint(631, size=10))"
   ]
  },
  {
   "cell_type": "code",
   "execution_count": 34,
   "metadata": {},
   "outputs": [
    {
     "data": {
      "image/png": "[encoded data removed]",
      "text/plain": [
       "<rdkit.Chem.rdchem.Mol at 0x2962ff5c8f0>"
      ]
     },
     "metadata": {},
     "output_type": "display_data"
    },
    {
     "data": {
      "image/png": "[encoded data removed]",
      "text/plain": [
       "<rdkit.Chem.rdchem.Mol at 0x2963503c6c0>"
      ]
     },
     "metadata": {},
     "output_type": "display_data"
    },
    {
     "data": {
      "image/png": "[encoded data removed]",
      "text/plain": [
       "<rdkit.Chem.rdchem.Mol at 0x2962ff5c3f0>"
      ]
     },
     "metadata": {},
     "output_type": "display_data"
    },
    {
     "data": {
      "image/png": "[encoded data removed]",
      "text/plain": [
       "<rdkit.Chem.rdchem.Mol at 0x2962ff582b0>"
      ]
     },
     "metadata": {},
     "output_type": "display_data"
    },
    {
     "data": {
      "image/png": "[encoded data removed]",
      "text/plain": [
       "<rdkit.Chem.rdchem.Mol at 0x2962ff5c3f0>"
      ]
     },
     "metadata": {},
     "output_type": "display_data"
    },
    {
     "data": {
      "image/png": "[encoded data removed]",
      "text/plain": [
       "<rdkit.Chem.rdchem.Mol at 0x2962ff5ce40>"
      ]
     },
     "metadata": {},
     "output_type": "display_data"
    },
    {
     "data": {
      "image/png": "[encoded data removed]",
      "text/plain": [
       "<rdkit.Chem.rdchem.Mol at 0x2963503c6c0>"
      ]
     },
     "metadata": {},
     "output_type": "display_data"
    },
    {
     "data": {
      "image/png": "[encoded data removed]",
      "text/plain": [
       "<rdkit.Chem.rdchem.Mol at 0x2962ff5cc10>"
      ]
     },
     "metadata": {},
     "output_type": "display_data"
    },
    {
     "data": {
      "image/png": "[encoded data removed]",
      "text/plain": [
       "<rdkit.Chem.rdchem.Mol at 0x2962ff582b0>"
      ]
     },
     "metadata": {},
     "output_type": "display_data"
    },
    {
     "data": {
      "image/png": "[encoded data removed]",
      "text/plain": [
       "<rdkit.Chem.rdchem.Mol at 0x2962ff5ce40>"
      ]
     },
     "metadata": {},
     "output_type": "display_data"
    }
   ],
   "source": [
    "for smiles in worst.loc[indices].smiles:\n",
    "    mol = Chem.MolFromSmiles(smiles)\n",
    "    display(mol)"
   ]
  },
  {
   "cell_type": "code",
   "execution_count": null,
   "metadata": {},
   "outputs": [],
   "source": []
  },
  {
   "cell_type": "markdown",
   "metadata": {},
   "source": [
    "#### Taking best and worst predicted values"
   ]
  },
  {
   "cell_type": "code",
   "execution_count": 35,
   "metadata": {},
   "outputs": [],
   "source": [
    "n_values = 200"
   ]
  },
  {
   "cell_type": "code",
   "execution_count": 36,
   "metadata": {},
   "outputs": [],
   "source": [
    "best_n_vals = compare_data_with_stats.take([j for j in range(n_values)])"
   ]
  },
  {
   "cell_type": "code",
   "execution_count": 37,
   "metadata": {},
   "outputs": [],
   "source": [
    "worst_n_vals = compare_data_with_stats.take([j for j in range( len(compare_data.smiles) - 1, len(compare_data.smiles) - 1 - n_values, -1)])"
   ]
  },
  {
   "cell_type": "code",
   "execution_count": 38,
   "metadata": {},
   "outputs": [
    {
     "data": {
      "text/html": [
       "<div>\n",
       "<style scoped>\n",
       "    .dataframe tbody tr th:only-of-type {\n",
       "        vertical-align: middle;\n",
       "    }\n",
       "\n",
       "    .dataframe tbody tr th {\n",
       "        vertical-align: top;\n",
       "    }\n",
       "\n",
       "    .dataframe thead th {\n",
       "        text-align: right;\n",
       "    }\n",
       "</style>\n",
       "<table border=\"1\" class=\"dataframe\">\n",
       "  <thead>\n",
       "    <tr style=\"text-align: right;\">\n",
       "      <th></th>\n",
       "      <th>smiles</th>\n",
       "      <th>y_expected</th>\n",
       "      <th>y_predicted</th>\n",
       "      <th>error</th>\n",
       "      <th>atom_count</th>\n",
       "      <th>ring_count</th>\n",
       "      <th>non_organogens_count</th>\n",
       "      <th>non_organogens_percent</th>\n",
       "      <th>aromatic_count</th>\n",
       "      <th>aromatic_rings_percent</th>\n",
       "      <th>bond_count</th>\n",
       "      <th>aromatic_bond_count</th>\n",
       "      <th>aromatic_bond_percent</th>\n",
       "      <th>is_symmetric</th>\n",
       "    </tr>\n",
       "  </thead>\n",
       "  <tbody>\n",
       "    <tr>\n",
       "      <th>1255</th>\n",
       "      <td>COc1ncnc2c1ncn2C1OC(CO)C(OC(=O)Cc2ccccc2)C1OC(...</td>\n",
       "      <td>3.48</td>\n",
       "      <td>3.480126</td>\n",
       "      <td>1.580049e-08</td>\n",
       "      <td>18</td>\n",
       "      <td>1</td>\n",
       "      <td>2</td>\n",
       "      <td>11.111111</td>\n",
       "      <td>1</td>\n",
       "      <td>100.0</td>\n",
       "      <td>42</td>\n",
       "      <td>22</td>\n",
       "      <td>52.380952</td>\n",
       "      <td>False</td>\n",
       "    </tr>\n",
       "    <tr>\n",
       "      <th>1681</th>\n",
       "      <td>O=S1(=O)Nc2ccccc2N1</td>\n",
       "      <td>1.12</td>\n",
       "      <td>1.119755</td>\n",
       "      <td>5.987809e-08</td>\n",
       "      <td>12</td>\n",
       "      <td>2</td>\n",
       "      <td>0</td>\n",
       "      <td>0.000000</td>\n",
       "      <td>2</td>\n",
       "      <td>100.0</td>\n",
       "      <td>12</td>\n",
       "      <td>6</td>\n",
       "      <td>50.000000</td>\n",
       "      <td>True</td>\n",
       "    </tr>\n",
       "    <tr>\n",
       "      <th>758</th>\n",
       "      <td>CC(=O)NC(Cc1c[nH]c2ccccc12)C(=O)NC(C(N)=O)C(C)C</td>\n",
       "      <td>0.73</td>\n",
       "      <td>0.729388</td>\n",
       "      <td>3.742503e-07</td>\n",
       "      <td>15</td>\n",
       "      <td>5</td>\n",
       "      <td>0</td>\n",
       "      <td>0.000000</td>\n",
       "      <td>0</td>\n",
       "      <td>0.0</td>\n",
       "      <td>26</td>\n",
       "      <td>10</td>\n",
       "      <td>38.461538</td>\n",
       "      <td>False</td>\n",
       "    </tr>\n",
       "    <tr>\n",
       "      <th>1050</th>\n",
       "      <td>CCNC(=O)NS(=O)(=O)c1ccccc1</td>\n",
       "      <td>0.90</td>\n",
       "      <td>0.900748</td>\n",
       "      <td>5.589955e-07</td>\n",
       "      <td>24</td>\n",
       "      <td>2</td>\n",
       "      <td>0</td>\n",
       "      <td>0.000000</td>\n",
       "      <td>2</td>\n",
       "      <td>100.0</td>\n",
       "      <td>15</td>\n",
       "      <td>6</td>\n",
       "      <td>40.000000</td>\n",
       "      <td>False</td>\n",
       "    </tr>\n",
       "    <tr>\n",
       "      <th>1876</th>\n",
       "      <td>CC(=O)OCN1C(=O)C=C(C)C1=O</td>\n",
       "      <td>0.45</td>\n",
       "      <td>0.451109</td>\n",
       "      <td>1.228772e-06</td>\n",
       "      <td>10</td>\n",
       "      <td>1</td>\n",
       "      <td>2</td>\n",
       "      <td>20.000000</td>\n",
       "      <td>1</td>\n",
       "      <td>100.0</td>\n",
       "      <td>13</td>\n",
       "      <td>0</td>\n",
       "      <td>0.000000</td>\n",
       "      <td>False</td>\n",
       "    </tr>\n",
       "  </tbody>\n",
       "</table>\n",
       "</div>"
      ],
      "text/plain": [
       "                                                 smiles  y_expected  \\\n",
       "1255  COc1ncnc2c1ncn2C1OC(CO)C(OC(=O)Cc2ccccc2)C1OC(...        3.48   \n",
       "1681                                O=S1(=O)Nc2ccccc2N1        1.12   \n",
       "758     CC(=O)NC(Cc1c[nH]c2ccccc12)C(=O)NC(C(N)=O)C(C)C        0.73   \n",
       "1050                         CCNC(=O)NS(=O)(=O)c1ccccc1        0.90   \n",
       "1876                          CC(=O)OCN1C(=O)C=C(C)C1=O        0.45   \n",
       "\n",
       "      y_predicted         error  atom_count  ring_count  non_organogens_count  \\\n",
       "1255     3.480126  1.580049e-08          18           1                     2   \n",
       "1681     1.119755  5.987809e-08          12           2                     0   \n",
       "758      0.729388  3.742503e-07          15           5                     0   \n",
       "1050     0.900748  5.589955e-07          24           2                     0   \n",
       "1876     0.451109  1.228772e-06          10           1                     2   \n",
       "\n",
       "      non_organogens_percent  aromatic_count  aromatic_rings_percent  \\\n",
       "1255               11.111111               1                   100.0   \n",
       "1681                0.000000               2                   100.0   \n",
       "758                 0.000000               0                     0.0   \n",
       "1050                0.000000               2                   100.0   \n",
       "1876               20.000000               1                   100.0   \n",
       "\n",
       "      bond_count  aromatic_bond_count  aromatic_bond_percent  is_symmetric  \n",
       "1255          42                   22              52.380952         False  \n",
       "1681          12                    6              50.000000          True  \n",
       "758           26                   10              38.461538         False  \n",
       "1050          15                    6              40.000000         False  \n",
       "1876          13                    0               0.000000         False  "
      ]
     },
     "execution_count": 38,
     "metadata": {},
     "output_type": "execute_result"
    }
   ],
   "source": [
    "best_n_vals.head()"
   ]
  },
  {
   "cell_type": "code",
   "execution_count": 39,
   "metadata": {},
   "outputs": [
    {
     "data": {
      "text/html": [
       "<div>\n",
       "<style scoped>\n",
       "    .dataframe tbody tr th:only-of-type {\n",
       "        vertical-align: middle;\n",
       "    }\n",
       "\n",
       "    .dataframe tbody tr th {\n",
       "        vertical-align: top;\n",
       "    }\n",
       "\n",
       "    .dataframe thead th {\n",
       "        text-align: right;\n",
       "    }\n",
       "</style>\n",
       "<table border=\"1\" class=\"dataframe\">\n",
       "  <thead>\n",
       "    <tr style=\"text-align: right;\">\n",
       "      <th></th>\n",
       "      <th>smiles</th>\n",
       "      <th>y_expected</th>\n",
       "      <th>y_predicted</th>\n",
       "      <th>error</th>\n",
       "      <th>atom_count</th>\n",
       "      <th>ring_count</th>\n",
       "      <th>non_organogens_count</th>\n",
       "      <th>non_organogens_percent</th>\n",
       "      <th>aromatic_count</th>\n",
       "      <th>aromatic_rings_percent</th>\n",
       "      <th>bond_count</th>\n",
       "      <th>aromatic_bond_count</th>\n",
       "      <th>aromatic_bond_percent</th>\n",
       "      <th>is_symmetric</th>\n",
       "    </tr>\n",
       "  </thead>\n",
       "  <tbody>\n",
       "    <tr>\n",
       "      <th>1029</th>\n",
       "      <td>CCCCCCCCCCCCCCP(C)(C)(C)Br</td>\n",
       "      <td>2.06</td>\n",
       "      <td>8.933699</td>\n",
       "      <td>47.247738</td>\n",
       "      <td>43</td>\n",
       "      <td>5</td>\n",
       "      <td>0</td>\n",
       "      <td>0.000000</td>\n",
       "      <td>3</td>\n",
       "      <td>60.0</td>\n",
       "      <td>18</td>\n",
       "      <td>0</td>\n",
       "      <td>0.000000</td>\n",
       "      <td>False</td>\n",
       "    </tr>\n",
       "    <tr>\n",
       "      <th>1730</th>\n",
       "      <td>O=C(O[K])C1C2CCC(O2)C1C(=O)O[K]</td>\n",
       "      <td>0.32</td>\n",
       "      <td>-3.280066</td>\n",
       "      <td>12.960475</td>\n",
       "      <td>12</td>\n",
       "      <td>1</td>\n",
       "      <td>0</td>\n",
       "      <td>0.000000</td>\n",
       "      <td>1</td>\n",
       "      <td>100.0</td>\n",
       "      <td>16</td>\n",
       "      <td>0</td>\n",
       "      <td>0.000000</td>\n",
       "      <td>True</td>\n",
       "    </tr>\n",
       "    <tr>\n",
       "      <th>1727</th>\n",
       "      <td>O=S(=O)(O)c1cc(N=c2[nH]c(N3CCOCC3)nc(=Nc3ccccc...</td>\n",
       "      <td>1.48</td>\n",
       "      <td>4.638897</td>\n",
       "      <td>9.978630</td>\n",
       "      <td>17</td>\n",
       "      <td>2</td>\n",
       "      <td>0</td>\n",
       "      <td>0.000000</td>\n",
       "      <td>1</td>\n",
       "      <td>50.0</td>\n",
       "      <td>69</td>\n",
       "      <td>36</td>\n",
       "      <td>52.173913</td>\n",
       "      <td>True</td>\n",
       "    </tr>\n",
       "    <tr>\n",
       "      <th>658</th>\n",
       "      <td>CC1OC(OC2C(O)CC(OC3C(O)CC(OC4CCC5(C)C(CCC6C5CC...</td>\n",
       "      <td>-1.77</td>\n",
       "      <td>1.197967</td>\n",
       "      <td>8.808826</td>\n",
       "      <td>28</td>\n",
       "      <td>4</td>\n",
       "      <td>4</td>\n",
       "      <td>14.285714</td>\n",
       "      <td>1</td>\n",
       "      <td>25.0</td>\n",
       "      <td>74</td>\n",
       "      <td>5</td>\n",
       "      <td>6.756757</td>\n",
       "      <td>False</td>\n",
       "    </tr>\n",
       "    <tr>\n",
       "      <th>1824</th>\n",
       "      <td>N=C1C=CC(=C(c2ccc(N)cc2)c2ccc(N)cc2)C=C1</td>\n",
       "      <td>-0.21</td>\n",
       "      <td>2.483271</td>\n",
       "      <td>7.253707</td>\n",
       "      <td>15</td>\n",
       "      <td>2</td>\n",
       "      <td>0</td>\n",
       "      <td>0.000000</td>\n",
       "      <td>1</td>\n",
       "      <td>50.0</td>\n",
       "      <td>24</td>\n",
       "      <td>12</td>\n",
       "      <td>50.000000</td>\n",
       "      <td>False</td>\n",
       "    </tr>\n",
       "  </tbody>\n",
       "</table>\n",
       "</div>"
      ],
      "text/plain": [
       "                                                 smiles  y_expected  \\\n",
       "1029                         CCCCCCCCCCCCCCP(C)(C)(C)Br        2.06   \n",
       "1730                    O=C(O[K])C1C2CCC(O2)C1C(=O)O[K]        0.32   \n",
       "1727  O=S(=O)(O)c1cc(N=c2[nH]c(N3CCOCC3)nc(=Nc3ccccc...        1.48   \n",
       "658   CC1OC(OC2C(O)CC(OC3C(O)CC(OC4CCC5(C)C(CCC6C5CC...       -1.77   \n",
       "1824           N=C1C=CC(=C(c2ccc(N)cc2)c2ccc(N)cc2)C=C1       -0.21   \n",
       "\n",
       "      y_predicted      error  atom_count  ring_count  non_organogens_count  \\\n",
       "1029     8.933699  47.247738          43           5                     0   \n",
       "1730    -3.280066  12.960475          12           1                     0   \n",
       "1727     4.638897   9.978630          17           2                     0   \n",
       "658      1.197967   8.808826          28           4                     4   \n",
       "1824     2.483271   7.253707          15           2                     0   \n",
       "\n",
       "      non_organogens_percent  aromatic_count  aromatic_rings_percent  \\\n",
       "1029                0.000000               3                    60.0   \n",
       "1730                0.000000               1                   100.0   \n",
       "1727                0.000000               1                    50.0   \n",
       "658                14.285714               1                    25.0   \n",
       "1824                0.000000               1                    50.0   \n",
       "\n",
       "      bond_count  aromatic_bond_count  aromatic_bond_percent  is_symmetric  \n",
       "1029          18                    0               0.000000         False  \n",
       "1730          16                    0               0.000000          True  \n",
       "1727          69                   36              52.173913          True  \n",
       "658           74                    5               6.756757         False  \n",
       "1824          24                   12              50.000000         False  "
      ]
     },
     "execution_count": 39,
     "metadata": {},
     "output_type": "execute_result"
    }
   ],
   "source": [
    "worst_n_vals.head()"
   ]
  },
  {
   "cell_type": "code",
   "execution_count": 40,
   "metadata": {},
   "outputs": [
    {
     "data": {
      "text/html": [
       "<div>\n",
       "<style scoped>\n",
       "    .dataframe tbody tr th:only-of-type {\n",
       "        vertical-align: middle;\n",
       "    }\n",
       "\n",
       "    .dataframe tbody tr th {\n",
       "        vertical-align: top;\n",
       "    }\n",
       "\n",
       "    .dataframe thead th {\n",
       "        text-align: right;\n",
       "    }\n",
       "</style>\n",
       "<table border=\"1\" class=\"dataframe\">\n",
       "  <thead>\n",
       "    <tr style=\"text-align: right;\">\n",
       "      <th></th>\n",
       "      <th>y_expected</th>\n",
       "      <th>y_predicted</th>\n",
       "      <th>error</th>\n",
       "      <th>atom_count</th>\n",
       "      <th>ring_count</th>\n",
       "      <th>non_organogens_count</th>\n",
       "      <th>non_organogens_percent</th>\n",
       "      <th>aromatic_count</th>\n",
       "      <th>aromatic_rings_percent</th>\n",
       "      <th>bond_count</th>\n",
       "      <th>aromatic_bond_count</th>\n",
       "      <th>aromatic_bond_percent</th>\n",
       "    </tr>\n",
       "  </thead>\n",
       "  <tbody>\n",
       "    <tr>\n",
       "      <th>count</th>\n",
       "      <td>200.000000</td>\n",
       "      <td>200.000000</td>\n",
       "      <td>2.000000e+02</td>\n",
       "      <td>200.000000</td>\n",
       "      <td>200.000000</td>\n",
       "      <td>200.00000</td>\n",
       "      <td>200.000000</td>\n",
       "      <td>200.000000</td>\n",
       "      <td>200.000000</td>\n",
       "      <td>200.000000</td>\n",
       "      <td>200.000000</td>\n",
       "      <td>200.000000</td>\n",
       "    </tr>\n",
       "    <tr>\n",
       "      <th>mean</th>\n",
       "      <td>2.185900</td>\n",
       "      <td>2.182931</td>\n",
       "      <td>4.512525e-04</td>\n",
       "      <td>17.615000</td>\n",
       "      <td>1.860000</td>\n",
       "      <td>0.90500</td>\n",
       "      <td>5.686347</td>\n",
       "      <td>0.980000</td>\n",
       "      <td>54.404762</td>\n",
       "      <td>16.940000</td>\n",
       "      <td>7.260000</td>\n",
       "      <td>45.042319</td>\n",
       "    </tr>\n",
       "    <tr>\n",
       "      <th>std</th>\n",
       "      <td>1.666601</td>\n",
       "      <td>1.664122</td>\n",
       "      <td>3.980111e-04</td>\n",
       "      <td>8.676009</td>\n",
       "      <td>1.303416</td>\n",
       "      <td>1.58383</td>\n",
       "      <td>11.160273</td>\n",
       "      <td>0.820344</td>\n",
       "      <td>41.226019</td>\n",
       "      <td>7.820627</td>\n",
       "      <td>4.041543</td>\n",
       "      <td>22.447773</td>\n",
       "    </tr>\n",
       "    <tr>\n",
       "      <th>min</th>\n",
       "      <td>-2.030000</td>\n",
       "      <td>-2.013083</td>\n",
       "      <td>1.580049e-08</td>\n",
       "      <td>5.000000</td>\n",
       "      <td>0.000000</td>\n",
       "      <td>0.00000</td>\n",
       "      <td>0.000000</td>\n",
       "      <td>0.000000</td>\n",
       "      <td>0.000000</td>\n",
       "      <td>4.000000</td>\n",
       "      <td>0.000000</td>\n",
       "      <td>0.000000</td>\n",
       "    </tr>\n",
       "    <tr>\n",
       "      <th>25%</th>\n",
       "      <td>1.260000</td>\n",
       "      <td>1.247900</td>\n",
       "      <td>1.091923e-04</td>\n",
       "      <td>12.000000</td>\n",
       "      <td>1.000000</td>\n",
       "      <td>0.00000</td>\n",
       "      <td>0.000000</td>\n",
       "      <td>0.000000</td>\n",
       "      <td>0.000000</td>\n",
       "      <td>12.000000</td>\n",
       "      <td>6.000000</td>\n",
       "      <td>35.294118</td>\n",
       "    </tr>\n",
       "    <tr>\n",
       "      <th>50%</th>\n",
       "      <td>2.110000</td>\n",
       "      <td>2.114713</td>\n",
       "      <td>3.269859e-04</td>\n",
       "      <td>16.000000</td>\n",
       "      <td>2.000000</td>\n",
       "      <td>0.00000</td>\n",
       "      <td>0.000000</td>\n",
       "      <td>1.000000</td>\n",
       "      <td>50.000000</td>\n",
       "      <td>16.000000</td>\n",
       "      <td>6.000000</td>\n",
       "      <td>46.153846</td>\n",
       "    </tr>\n",
       "    <tr>\n",
       "      <th>75%</th>\n",
       "      <td>3.102500</td>\n",
       "      <td>3.091646</td>\n",
       "      <td>7.440839e-04</td>\n",
       "      <td>21.000000</td>\n",
       "      <td>2.000000</td>\n",
       "      <td>1.00000</td>\n",
       "      <td>8.333333</td>\n",
       "      <td>1.000000</td>\n",
       "      <td>100.000000</td>\n",
       "      <td>19.250000</td>\n",
       "      <td>10.250000</td>\n",
       "      <td>60.000000</td>\n",
       "    </tr>\n",
       "    <tr>\n",
       "      <th>max</th>\n",
       "      <td>8.200000</td>\n",
       "      <td>8.164659</td>\n",
       "      <td>1.305984e-03</td>\n",
       "      <td>62.000000</td>\n",
       "      <td>8.000000</td>\n",
       "      <td>10.00000</td>\n",
       "      <td>100.000000</td>\n",
       "      <td>4.000000</td>\n",
       "      <td>100.000000</td>\n",
       "      <td>62.000000</td>\n",
       "      <td>22.000000</td>\n",
       "      <td>100.000000</td>\n",
       "    </tr>\n",
       "  </tbody>\n",
       "</table>\n",
       "</div>"
      ],
      "text/plain": [
       "       y_expected  y_predicted         error  atom_count  ring_count  \\\n",
       "count  200.000000   200.000000  2.000000e+02  200.000000  200.000000   \n",
       "mean     2.185900     2.182931  4.512525e-04   17.615000    1.860000   \n",
       "std      1.666601     1.664122  3.980111e-04    8.676009    1.303416   \n",
       "min     -2.030000    -2.013083  1.580049e-08    5.000000    0.000000   \n",
       "25%      1.260000     1.247900  1.091923e-04   12.000000    1.000000   \n",
       "50%      2.110000     2.114713  3.269859e-04   16.000000    2.000000   \n",
       "75%      3.102500     3.091646  7.440839e-04   21.000000    2.000000   \n",
       "max      8.200000     8.164659  1.305984e-03   62.000000    8.000000   \n",
       "\n",
       "       non_organogens_count  non_organogens_percent  aromatic_count  \\\n",
       "count             200.00000              200.000000      200.000000   \n",
       "mean                0.90500                5.686347        0.980000   \n",
       "std                 1.58383               11.160273        0.820344   \n",
       "min                 0.00000                0.000000        0.000000   \n",
       "25%                 0.00000                0.000000        0.000000   \n",
       "50%                 0.00000                0.000000        1.000000   \n",
       "75%                 1.00000                8.333333        1.000000   \n",
       "max                10.00000              100.000000        4.000000   \n",
       "\n",
       "       aromatic_rings_percent  bond_count  aromatic_bond_count  \\\n",
       "count              200.000000  200.000000           200.000000   \n",
       "mean                54.404762   16.940000             7.260000   \n",
       "std                 41.226019    7.820627             4.041543   \n",
       "min                  0.000000    4.000000             0.000000   \n",
       "25%                  0.000000   12.000000             6.000000   \n",
       "50%                 50.000000   16.000000             6.000000   \n",
       "75%                100.000000   19.250000            10.250000   \n",
       "max                100.000000   62.000000            22.000000   \n",
       "\n",
       "       aromatic_bond_percent  \n",
       "count             200.000000  \n",
       "mean               45.042319  \n",
       "std                22.447773  \n",
       "min                 0.000000  \n",
       "25%                35.294118  \n",
       "50%                46.153846  \n",
       "75%                60.000000  \n",
       "max               100.000000  "
      ]
     },
     "execution_count": 40,
     "metadata": {},
     "output_type": "execute_result"
    }
   ],
   "source": [
    "best_n_vals.describe()"
   ]
  },
  {
   "cell_type": "code",
   "execution_count": 41,
   "metadata": {},
   "outputs": [
    {
     "data": {
      "text/html": [
       "<div>\n",
       "<style scoped>\n",
       "    .dataframe tbody tr th:only-of-type {\n",
       "        vertical-align: middle;\n",
       "    }\n",
       "\n",
       "    .dataframe tbody tr th {\n",
       "        vertical-align: top;\n",
       "    }\n",
       "\n",
       "    .dataframe thead th {\n",
       "        text-align: right;\n",
       "    }\n",
       "</style>\n",
       "<table border=\"1\" class=\"dataframe\">\n",
       "  <thead>\n",
       "    <tr style=\"text-align: right;\">\n",
       "      <th></th>\n",
       "      <th>y_expected</th>\n",
       "      <th>y_predicted</th>\n",
       "      <th>error</th>\n",
       "      <th>atom_count</th>\n",
       "      <th>ring_count</th>\n",
       "      <th>non_organogens_count</th>\n",
       "      <th>non_organogens_percent</th>\n",
       "      <th>aromatic_count</th>\n",
       "      <th>aromatic_rings_percent</th>\n",
       "      <th>bond_count</th>\n",
       "      <th>aromatic_bond_count</th>\n",
       "      <th>aromatic_bond_percent</th>\n",
       "    </tr>\n",
       "  </thead>\n",
       "  <tbody>\n",
       "    <tr>\n",
       "      <th>count</th>\n",
       "      <td>200.000000</td>\n",
       "      <td>200.000000</td>\n",
       "      <td>200.000000</td>\n",
       "      <td>200.000000</td>\n",
       "      <td>200.000000</td>\n",
       "      <td>200.000000</td>\n",
       "      <td>200.000000</td>\n",
       "      <td>200.000000</td>\n",
       "      <td>200.000000</td>\n",
       "      <td>200.000000</td>\n",
       "      <td>200.000000</td>\n",
       "      <td>200.000000</td>\n",
       "    </tr>\n",
       "    <tr>\n",
       "      <th>mean</th>\n",
       "      <td>1.846550</td>\n",
       "      <td>1.996773</td>\n",
       "      <td>1.601298</td>\n",
       "      <td>17.730000</td>\n",
       "      <td>1.700000</td>\n",
       "      <td>0.705000</td>\n",
       "      <td>4.674492</td>\n",
       "      <td>0.910000</td>\n",
       "      <td>54.500000</td>\n",
       "      <td>22.115000</td>\n",
       "      <td>8.595000</td>\n",
       "      <td>38.447328</td>\n",
       "    </tr>\n",
       "    <tr>\n",
       "      <th>std</th>\n",
       "      <td>2.268083</td>\n",
       "      <td>2.240179</td>\n",
       "      <td>3.615208</td>\n",
       "      <td>8.993973</td>\n",
       "      <td>1.107308</td>\n",
       "      <td>1.088069</td>\n",
       "      <td>7.897540</td>\n",
       "      <td>0.758138</td>\n",
       "      <td>41.748496</td>\n",
       "      <td>10.545988</td>\n",
       "      <td>6.882428</td>\n",
       "      <td>24.708342</td>\n",
       "    </tr>\n",
       "    <tr>\n",
       "      <th>min</th>\n",
       "      <td>-3.700000</td>\n",
       "      <td>-4.451451</td>\n",
       "      <td>0.499293</td>\n",
       "      <td>5.000000</td>\n",
       "      <td>0.000000</td>\n",
       "      <td>0.000000</td>\n",
       "      <td>0.000000</td>\n",
       "      <td>0.000000</td>\n",
       "      <td>0.000000</td>\n",
       "      <td>4.000000</td>\n",
       "      <td>0.000000</td>\n",
       "      <td>0.000000</td>\n",
       "    </tr>\n",
       "    <tr>\n",
       "      <th>25%</th>\n",
       "      <td>0.350000</td>\n",
       "      <td>0.336569</td>\n",
       "      <td>0.623354</td>\n",
       "      <td>12.750000</td>\n",
       "      <td>1.000000</td>\n",
       "      <td>0.000000</td>\n",
       "      <td>0.000000</td>\n",
       "      <td>0.000000</td>\n",
       "      <td>0.000000</td>\n",
       "      <td>15.000000</td>\n",
       "      <td>6.000000</td>\n",
       "      <td>23.769231</td>\n",
       "    </tr>\n",
       "    <tr>\n",
       "      <th>50%</th>\n",
       "      <td>1.775000</td>\n",
       "      <td>1.872226</td>\n",
       "      <td>0.886138</td>\n",
       "      <td>15.500000</td>\n",
       "      <td>1.000000</td>\n",
       "      <td>0.000000</td>\n",
       "      <td>0.000000</td>\n",
       "      <td>1.000000</td>\n",
       "      <td>50.000000</td>\n",
       "      <td>21.000000</td>\n",
       "      <td>6.000000</td>\n",
       "      <td>40.370370</td>\n",
       "    </tr>\n",
       "    <tr>\n",
       "      <th>75%</th>\n",
       "      <td>3.400000</td>\n",
       "      <td>3.629571</td>\n",
       "      <td>1.355207</td>\n",
       "      <td>20.250000</td>\n",
       "      <td>2.000000</td>\n",
       "      <td>1.000000</td>\n",
       "      <td>6.666667</td>\n",
       "      <td>1.000000</td>\n",
       "      <td>100.000000</td>\n",
       "      <td>26.000000</td>\n",
       "      <td>12.000000</td>\n",
       "      <td>55.313737</td>\n",
       "    </tr>\n",
       "    <tr>\n",
       "      <th>max</th>\n",
       "      <td>7.550000</td>\n",
       "      <td>8.933699</td>\n",
       "      <td>47.247738</td>\n",
       "      <td>85.000000</td>\n",
       "      <td>6.000000</td>\n",
       "      <td>5.000000</td>\n",
       "      <td>50.000000</td>\n",
       "      <td>4.000000</td>\n",
       "      <td>100.000000</td>\n",
       "      <td>74.000000</td>\n",
       "      <td>36.000000</td>\n",
       "      <td>100.000000</td>\n",
       "    </tr>\n",
       "  </tbody>\n",
       "</table>\n",
       "</div>"
      ],
      "text/plain": [
       "       y_expected  y_predicted       error  atom_count  ring_count  \\\n",
       "count  200.000000   200.000000  200.000000  200.000000  200.000000   \n",
       "mean     1.846550     1.996773    1.601298   17.730000    1.700000   \n",
       "std      2.268083     2.240179    3.615208    8.993973    1.107308   \n",
       "min     -3.700000    -4.451451    0.499293    5.000000    0.000000   \n",
       "25%      0.350000     0.336569    0.623354   12.750000    1.000000   \n",
       "50%      1.775000     1.872226    0.886138   15.500000    1.000000   \n",
       "75%      3.400000     3.629571    1.355207   20.250000    2.000000   \n",
       "max      7.550000     8.933699   47.247738   85.000000    6.000000   \n",
       "\n",
       "       non_organogens_count  non_organogens_percent  aromatic_count  \\\n",
       "count            200.000000              200.000000      200.000000   \n",
       "mean               0.705000                4.674492        0.910000   \n",
       "std                1.088069                7.897540        0.758138   \n",
       "min                0.000000                0.000000        0.000000   \n",
       "25%                0.000000                0.000000        0.000000   \n",
       "50%                0.000000                0.000000        1.000000   \n",
       "75%                1.000000                6.666667        1.000000   \n",
       "max                5.000000               50.000000        4.000000   \n",
       "\n",
       "       aromatic_rings_percent  bond_count  aromatic_bond_count  \\\n",
       "count              200.000000  200.000000           200.000000   \n",
       "mean                54.500000   22.115000             8.595000   \n",
       "std                 41.748496   10.545988             6.882428   \n",
       "min                  0.000000    4.000000             0.000000   \n",
       "25%                  0.000000   15.000000             6.000000   \n",
       "50%                 50.000000   21.000000             6.000000   \n",
       "75%                100.000000   26.000000            12.000000   \n",
       "max                100.000000   74.000000            36.000000   \n",
       "\n",
       "       aromatic_bond_percent  \n",
       "count             200.000000  \n",
       "mean               38.447328  \n",
       "std                24.708342  \n",
       "min                 0.000000  \n",
       "25%                23.769231  \n",
       "50%                40.370370  \n",
       "75%                55.313737  \n",
       "max               100.000000  "
      ]
     },
     "execution_count": 41,
     "metadata": {},
     "output_type": "execute_result"
    }
   ],
   "source": [
    "worst_n_vals.describe()"
   ]
  },
  {
   "cell_type": "markdown",
   "metadata": {},
   "source": [
    "### Check atom_count influence"
   ]
  },
  {
   "cell_type": "code",
   "execution_count": 42,
   "metadata": {},
   "outputs": [
    {
     "name": "stdout",
     "output_type": "stream",
     "text": [
      "KruskalResult(statistic=0.014919429630612062, pvalue=0.9027840910837842)\n"
     ]
    }
   ],
   "source": [
    "print(stats.kruskal(best_n_vals.atom_count, worst_n_vals.atom_count))"
   ]
  },
  {
   "cell_type": "code",
   "execution_count": 43,
   "metadata": {},
   "outputs": [
    {
     "data": {
      "text/plain": [
       "<matplotlib.axes._subplots.AxesSubplot at 0x29630031048>"
      ]
     },
     "execution_count": 43,
     "metadata": {},
     "output_type": "execute_result"
    },
    {
     "data": {
      "image/png": "[encoded data removed]",
      "text/plain": [
       "<Figure size 432x288 with 1 Axes>"
      ]
     },
     "metadata": {
      "needs_background": "light"
     },
     "output_type": "display_data"
    }
   ],
   "source": [
    "sns.distplot(best_n_vals.atom_count, color='g')\n",
    "sns.distplot(worst_n_vals.atom_count, color='r')"
   ]
  },
  {
   "cell_type": "markdown",
   "metadata": {},
   "source": [
    "### Check ring_count influence"
   ]
  },
  {
   "cell_type": "code",
   "execution_count": 44,
   "metadata": {},
   "outputs": [
    {
     "name": "stdout",
     "output_type": "stream",
     "text": [
      "KruskalResult(statistic=1.1203549096782766, pvalue=0.2898420455516732)\n"
     ]
    }
   ],
   "source": [
    "print(stats.kruskal(best_n_vals.ring_count, worst_n_vals.ring_count))"
   ]
  },
  {
   "cell_type": "code",
   "execution_count": 45,
   "metadata": {},
   "outputs": [
    {
     "data": {
      "text/plain": [
       "<matplotlib.axes._subplots.AxesSubplot at 0x2962ff34b00>"
      ]
     },
     "execution_count": 45,
     "metadata": {},
     "output_type": "execute_result"
    },
    {
     "data": {
      "image/png": "[encoded data removed]",
      "text/plain": [
       "<Figure size 432x288 with 1 Axes>"
      ]
     },
     "metadata": {
      "needs_background": "light"
     },
     "output_type": "display_data"
    }
   ],
   "source": [
    "sns.distplot(best_n_vals.ring_count, color='g')\n",
    "sns.distplot(worst_n_vals.ring_count, color='r')"
   ]
  },
  {
   "cell_type": "markdown",
   "metadata": {},
   "source": [
    "### Check non_organogens_count influence"
   ]
  },
  {
   "cell_type": "code",
   "execution_count": 46,
   "metadata": {},
   "outputs": [
    {
     "name": "stdout",
     "output_type": "stream",
     "text": [
      "KruskalResult(statistic=0.4099517554417967, pvalue=0.5219939934005874)\n"
     ]
    }
   ],
   "source": [
    "print(stats.kruskal(best_n_vals.non_organogens_count, worst_n_vals.non_organogens_count))"
   ]
  },
  {
   "cell_type": "code",
   "execution_count": 47,
   "metadata": {},
   "outputs": [
    {
     "data": {
      "text/plain": [
       "<matplotlib.axes._subplots.AxesSubplot at 0x2962ff48b38>"
      ]
     },
     "execution_count": 47,
     "metadata": {},
     "output_type": "execute_result"
    },
    {
     "data": {
      "image/png": "[encoded data removed]",
      "text/plain": [
       "<Figure size 432x288 with 1 Axes>"
      ]
     },
     "metadata": {
      "needs_background": "light"
     },
     "output_type": "display_data"
    }
   ],
   "source": [
    "sns.distplot(best_n_vals.non_organogens_count, color='g')\n",
    "sns.distplot(worst_n_vals.non_organogens_count, color='r')"
   ]
  },
  {
   "cell_type": "markdown",
   "metadata": {},
   "source": [
    "### Check non_organogens_percent influence"
   ]
  },
  {
   "cell_type": "code",
   "execution_count": 48,
   "metadata": {},
   "outputs": [
    {
     "name": "stdout",
     "output_type": "stream",
     "text": [
      "KruskalResult(statistic=0.3789929933922033, pvalue=0.5381426625133073)\n"
     ]
    }
   ],
   "source": [
    "print(stats.kruskal(best_n_vals.non_organogens_percent, worst_n_vals.non_organogens_percent))"
   ]
  },
  {
   "cell_type": "code",
   "execution_count": 49,
   "metadata": {},
   "outputs": [
    {
     "data": {
      "text/plain": [
       "<matplotlib.axes._subplots.AxesSubplot at 0x2962fc691d0>"
      ]
     },
     "execution_count": 49,
     "metadata": {},
     "output_type": "execute_result"
    },
    {
     "data": {
      "image/png": "[encoded data removed]",
      "text/plain": [
       "<Figure size 432x288 with 1 Axes>"
      ]
     },
     "metadata": {
      "needs_background": "light"
     },
     "output_type": "display_data"
    }
   ],
   "source": [
    "sns.distplot(best_n_vals.non_organogens_percent, color='g')\n",
    "sns.distplot(worst_n_vals.non_organogens_percent, color='r')"
   ]
  },
  {
   "cell_type": "markdown",
   "metadata": {},
   "source": [
    "### Check aromatic_count influence"
   ]
  },
  {
   "cell_type": "code",
   "execution_count": 50,
   "metadata": {},
   "outputs": [
    {
     "name": "stdout",
     "output_type": "stream",
     "text": [
      "KruskalResult(statistic=0.5280619244526261, pvalue=0.46742280821639015)\n"
     ]
    }
   ],
   "source": [
    "print(stats.kruskal(best_n_vals.aromatic_count, worst_n_vals.aromatic_count))"
   ]
  },
  {
   "cell_type": "code",
   "execution_count": 51,
   "metadata": {},
   "outputs": [
    {
     "data": {
      "text/plain": [
       "<matplotlib.axes._subplots.AxesSubplot at 0x2963001e8d0>"
      ]
     },
     "execution_count": 51,
     "metadata": {},
     "output_type": "execute_result"
    },
    {
     "data": {
      "image/png": "[encoded data removed]",
      "text/plain": [
       "<Figure size 432x288 with 1 Axes>"
      ]
     },
     "metadata": {
      "needs_background": "light"
     },
     "output_type": "display_data"
    }
   ],
   "source": [
    "sns.distplot(best_n_vals.aromatic_count, color='g')\n",
    "sns.distplot(worst_n_vals.aromatic_count, color='r')"
   ]
  },
  {
   "cell_type": "markdown",
   "metadata": {},
   "source": [
    "### Check aromatic_rings_percent influence"
   ]
  },
  {
   "cell_type": "code",
   "execution_count": 52,
   "metadata": {},
   "outputs": [
    {
     "name": "stdout",
     "output_type": "stream",
     "text": [
      "KruskalResult(statistic=0.001407533456212765, pvalue=0.9700726988628519)\n"
     ]
    }
   ],
   "source": [
    "print(stats.kruskal(best_n_vals.aromatic_rings_percent, worst_n_vals.aromatic_rings_percent))"
   ]
  },
  {
   "cell_type": "code",
   "execution_count": 53,
   "metadata": {},
   "outputs": [
    {
     "data": {
      "text/plain": [
       "<matplotlib.axes._subplots.AxesSubplot at 0x2962fcf2080>"
      ]
     },
     "execution_count": 53,
     "metadata": {},
     "output_type": "execute_result"
    },
    {
     "data": {
      "image/png": "[encoded data removed]",
      "text/plain": [
       "<Figure size 432x288 with 1 Axes>"
      ]
     },
     "metadata": {
      "needs_background": "light"
     },
     "output_type": "display_data"
    }
   ],
   "source": [
    "sns.distplot(best_n_vals.aromatic_rings_percent, color='g')\n",
    "sns.distplot(worst_n_vals.aromatic_rings_percent, color='r')"
   ]
  },
  {
   "cell_type": "markdown",
   "metadata": {},
   "source": [
    "### Check aromatic bond percent"
   ]
  },
  {
   "cell_type": "code",
   "execution_count": 54,
   "metadata": {},
   "outputs": [
    {
     "name": "stdout",
     "output_type": "stream",
     "text": [
      "KruskalResult(statistic=8.18556380781056, pvalue=0.004222505315985969)\n"
     ]
    }
   ],
   "source": [
    "print(stats.kruskal(best_n_vals.aromatic_bond_percent, worst_n_vals.aromatic_bond_percent))"
   ]
  },
  {
   "cell_type": "code",
   "execution_count": 55,
   "metadata": {},
   "outputs": [
    {
     "data": {
      "text/plain": [
       "<matplotlib.axes._subplots.AxesSubplot at 0x2962fda1668>"
      ]
     },
     "execution_count": 55,
     "metadata": {},
     "output_type": "execute_result"
    },
    {
     "data": {
      "image/png": "[encoded data removed]",
      "text/plain": [
       "<Figure size 432x288 with 1 Axes>"
      ]
     },
     "metadata": {
      "needs_background": "light"
     },
     "output_type": "display_data"
    }
   ],
   "source": [
    "sns.distplot(best_n_vals.aromatic_bond_percent, color='g')\n",
    "sns.distplot(worst_n_vals.aromatic_bond_percent, color='r')"
   ]
  },
  {
   "cell_type": "markdown",
   "metadata": {},
   "source": [
    "### Check aromatic bond count"
   ]
  },
  {
   "cell_type": "code",
   "execution_count": 56,
   "metadata": {},
   "outputs": [
    {
     "name": "stdout",
     "output_type": "stream",
     "text": [
      "KruskalResult(statistic=2.136584111748912, pvalue=0.14382182224319043)\n"
     ]
    }
   ],
   "source": [
    "print(stats.kruskal(best_n_vals.aromatic_bond_count, worst_n_vals.aromatic_bond_count))"
   ]
  },
  {
   "cell_type": "code",
   "execution_count": 57,
   "metadata": {},
   "outputs": [
    {
     "data": {
      "text/plain": [
       "<matplotlib.axes._subplots.AxesSubplot at 0x2963512fef0>"
      ]
     },
     "execution_count": 57,
     "metadata": {},
     "output_type": "execute_result"
    },
    {
     "data": {
      "image/png": "[encoded data removed]",
      "text/plain": [
       "<Figure size 432x288 with 1 Axes>"
      ]
     },
     "metadata": {
      "needs_background": "light"
     },
     "output_type": "display_data"
    }
   ],
   "source": [
    "sns.distplot(best_n_vals.aromatic_bond_count, color='g')\n",
    "sns.distplot(worst_n_vals.aromatic_bond_count, color='r')"
   ]
  },
  {
   "cell_type": "code",
   "execution_count": null,
   "metadata": {},
   "outputs": [],
   "source": []
  },
  {
   "cell_type": "markdown",
   "metadata": {},
   "source": [
    "### Check symmetric count"
   ]
  },
  {
   "cell_type": "code",
   "execution_count": 58,
   "metadata": {},
   "outputs": [
    {
     "data": {
      "text/plain": [
       "<matplotlib.axes._subplots.AxesSubplot at 0x2962feadb38>"
      ]
     },
     "execution_count": 58,
     "metadata": {},
     "output_type": "execute_result"
    },
    {
     "data": {
      "image/png": "[encoded data removed]",
      "text/plain": [
       "<Figure size 432x288 with 1 Axes>"
      ]
     },
     "metadata": {
      "needs_background": "light"
     },
     "output_type": "display_data"
    }
   ],
   "source": [
    "sns.distplot(best_n_vals.is_symmetric, color='g')\n",
    "sns.distplot(worst_n_vals.is_symmetric, color='r')"
   ]
  },
  {
   "cell_type": "markdown",
   "metadata": {},
   "source": [
    "### Metrics analysis among symmetric and not symmetric molecules"
   ]
  },
  {
   "cell_type": "code",
   "execution_count": 59,
   "metadata": {},
   "outputs": [],
   "source": [
    "symmetric_rull = lambda values: (len(values) - 1 <= len(values[values % 2 == 0])) or (len(values) - 1 <= len(values[(values % 2 == 1) & (values > 1)]))"
   ]
  },
  {
   "cell_type": "code",
   "execution_count": 60,
   "metadata": {},
   "outputs": [],
   "source": [
    "X_test_mol = [Chem.MolFromSmiles(x) for x in compare_data.smiles]"
   ]
  },
  {
   "cell_type": "code",
   "execution_count": 61,
   "metadata": {},
   "outputs": [],
   "source": [
    "values_list = [pd.Series(Chem.CanonicalRankAtoms(mol, breakTies=False)).value_counts() for mol in X_test_mol]\n",
    "symmetric_indices = [symmetric_rull(values) for values in values_list]\n",
    "not_symmetric_indices = [not e for e in symmetric_indices]"
   ]
  },
  {
   "cell_type": "code",
   "execution_count": 62,
   "metadata": {},
   "outputs": [],
   "source": [
    "symmetric_y_predicted = compare_data.y_predicted[symmetric_indices]"
   ]
  },
  {
   "cell_type": "code",
   "execution_count": 63,
   "metadata": {},
   "outputs": [],
   "source": [
    "symmetric_y_expected = compare_data.y_expected[symmetric_indices]"
   ]
  },
  {
   "cell_type": "code",
   "execution_count": 64,
   "metadata": {},
   "outputs": [],
   "source": [
    "not_symmetric_y_predicted = compare_data.y_predicted[not_symmetric_indices]"
   ]
  },
  {
   "cell_type": "code",
   "execution_count": 65,
   "metadata": {},
   "outputs": [],
   "source": [
    "not_symmetric_y_expected = compare_data.y_expected[not_symmetric_indices]"
   ]
  },
  {
   "cell_type": "code",
   "execution_count": 66,
   "metadata": {},
   "outputs": [
    {
     "name": "stdout",
     "output_type": "stream",
     "text": [
      "Test symmetric RMSE = 0.8089064990089876\n",
      "Test symmetric R2-score is 0.8764863445600731\n"
     ]
    }
   ],
   "source": [
    "print(\"Test symmetric RMSE =\", mean_squared_error(symmetric_y_expected, symmetric_y_predicted, squared=False))\n",
    "print(\"Test symmetric R2-score is {0}\".format(r2_score(symmetric_y_expected, symmetric_y_predicted)))"
   ]
  },
  {
   "cell_type": "code",
   "execution_count": 67,
   "metadata": {},
   "outputs": [
    {
     "name": "stdout",
     "output_type": "stream",
     "text": [
      "Test not symmetric RMSE = 0.4696028389807185\n",
      "Test not symmetric R2-score is 0.9325118250639969\n"
     ]
    }
   ],
   "source": [
    "print(\"Test not symmetric RMSE =\", mean_squared_error(not_symmetric_y_expected, not_symmetric_y_predicted, squared=False))\n",
    "print(\"Test not symmetric R2-score is {0}\".format(r2_score(not_symmetric_y_expected, not_symmetric_y_predicted)))"
   ]
  },
  {
   "cell_type": "code",
   "execution_count": null,
   "metadata": {},
   "outputs": [],
   "source": []
  }
 ],
 "metadata": {
  "kernelspec": {
   "display_name": "chemvae",
   "language": "python",
   "name": "chemvae"
  },
  "language_info": {
   "codemirror_mode": {
    "name": "ipython",
    "version": 3
   },
   "file_extension": ".py",
   "mimetype": "text/x-python",
   "name": "python",
   "nbconvert_exporter": "python",
   "pygments_lexer": "ipython3",
   "version": "3.6.10"
  }
 },
 "nbformat": 4,
 "nbformat_minor": 4
}
