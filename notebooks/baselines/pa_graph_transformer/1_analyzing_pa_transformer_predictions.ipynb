{
 "cells": [
  {
   "cell_type": "markdown",
   "metadata": {},
   "source": [
    "# Best and worst molecules analysis"
   ]
  },
  {
   "cell_type": "code",
   "execution_count": 1,
   "metadata": {},
   "outputs": [],
   "source": [
    "import pandas as pd\n",
    "import numpy as np\n",
    "import seaborn as sns\n",
    "import torch\n",
    "from scipy import stats\n",
    "from torch.nn.utils.rnn import pad_sequence\n",
    "from sklearn.neural_network import MLPRegressor\n",
    "from rdkit import Chem, DataStructs\n",
    "from rdkit.Chem import AllChem\n",
    "from sklearn.metrics import mean_squared_error, r2_score\n",
    "import time"
   ]
  },
  {
   "cell_type": "markdown",
   "metadata": {},
   "source": [
    "## Uploading data from file"
   ]
  },
  {
   "cell_type": "code",
   "execution_count": 2,
   "metadata": {},
   "outputs": [],
   "source": [
    "DATA_PATH = \"../../../data/4_best_predictions/\"\n",
    "FILE_PATTERN = \"pa_transformer_predictions_{0}.csv\""
   ]
  },
  {
   "cell_type": "code",
   "execution_count": 3,
   "metadata": {},
   "outputs": [],
   "source": [
    "valid = pd.read_csv(DATA_PATH + FILE_PATTERN.format('valid'))\n",
    "test = pd.read_csv(DATA_PATH + FILE_PATTERN.format('test'))"
   ]
  },
  {
   "cell_type": "code",
   "execution_count": 4,
   "metadata": {},
   "outputs": [],
   "source": [
    "compare_data = pd.DataFrame({'smiles': test.smiles, 'y_expected': test.logp, 'y_predicted': test.logp_pred})"
   ]
  },
  {
   "cell_type": "code",
   "execution_count": 5,
   "metadata": {},
   "outputs": [],
   "source": [
    "X_valid_mol = [Chem.MolFromSmiles(x) for x in valid.smiles]\n",
    "X_test_mol = [Chem.MolFromSmiles(x) for x in test.smiles]"
   ]
  },
  {
   "cell_type": "code",
   "execution_count": 6,
   "metadata": {},
   "outputs": [],
   "source": [
    "y_test = test.logp\n",
    "y_valid = valid.logp"
   ]
  },
  {
   "cell_type": "markdown",
   "metadata": {},
   "source": [
    "## Getting the data to compare"
   ]
  },
  {
   "cell_type": "code",
   "execution_count": 7,
   "metadata": {},
   "outputs": [
    {
     "data": {
      "text/html": [
       "<div>\n",
       "<style scoped>\n",
       "    .dataframe tbody tr th:only-of-type {\n",
       "        vertical-align: middle;\n",
       "    }\n",
       "\n",
       "    .dataframe tbody tr th {\n",
       "        vertical-align: top;\n",
       "    }\n",
       "\n",
       "    .dataframe thead th {\n",
       "        text-align: right;\n",
       "    }\n",
       "</style>\n",
       "<table border=\"1\" class=\"dataframe\">\n",
       "  <thead>\n",
       "    <tr style=\"text-align: right;\">\n",
       "      <th></th>\n",
       "      <th>smiles</th>\n",
       "      <th>y_expected</th>\n",
       "      <th>y_predicted</th>\n",
       "    </tr>\n",
       "  </thead>\n",
       "  <tbody>\n",
       "    <tr>\n",
       "      <th>0</th>\n",
       "      <td>CC(=O)NC(Cc1ccccc1)C(=O)NC(Cc1ccccc1)C(=O)N(C)...</td>\n",
       "      <td>2.63</td>\n",
       "      <td>2.323628</td>\n",
       "    </tr>\n",
       "    <tr>\n",
       "      <th>1</th>\n",
       "      <td>CC(C)n1c(/C=C/[C@@H](O)C[C@@H](O)CC(=O)O)c(-c2...</td>\n",
       "      <td>4.17</td>\n",
       "      <td>3.633403</td>\n",
       "    </tr>\n",
       "    <tr>\n",
       "      <th>2</th>\n",
       "      <td>CCS(=O)c1sc(C(C)=O)c(N)c1C#N</td>\n",
       "      <td>1.82</td>\n",
       "      <td>1.573192</td>\n",
       "    </tr>\n",
       "    <tr>\n",
       "      <th>3</th>\n",
       "      <td>O=P(Oc1ccccc1)(Oc1ccccc1)Oc1ccccc1</td>\n",
       "      <td>4.59</td>\n",
       "      <td>3.871765</td>\n",
       "    </tr>\n",
       "    <tr>\n",
       "      <th>4</th>\n",
       "      <td>OC1(c2cc(Cl)ccc2Cl)CCCCC1n1cncn1</td>\n",
       "      <td>3.24</td>\n",
       "      <td>3.237588</td>\n",
       "    </tr>\n",
       "  </tbody>\n",
       "</table>\n",
       "</div>"
      ],
      "text/plain": [
       "                                              smiles  y_expected  y_predicted\n",
       "0  CC(=O)NC(Cc1ccccc1)C(=O)NC(Cc1ccccc1)C(=O)N(C)...        2.63     2.323628\n",
       "1  CC(C)n1c(/C=C/[C@@H](O)C[C@@H](O)CC(=O)O)c(-c2...        4.17     3.633403\n",
       "2                       CCS(=O)c1sc(C(C)=O)c(N)c1C#N        1.82     1.573192\n",
       "3                 O=P(Oc1ccccc1)(Oc1ccccc1)Oc1ccccc1        4.59     3.871765\n",
       "4                   OC1(c2cc(Cl)ccc2Cl)CCCCC1n1cncn1        3.24     3.237588"
      ]
     },
     "execution_count": 7,
     "metadata": {},
     "output_type": "execute_result"
    }
   ],
   "source": [
    "compare_data.head()"
   ]
  },
  {
   "cell_type": "code",
   "execution_count": 8,
   "metadata": {},
   "outputs": [
    {
     "data": {
      "text/plain": [
       "(2067, 3)"
      ]
     },
     "execution_count": 8,
     "metadata": {},
     "output_type": "execute_result"
    }
   ],
   "source": [
    "compare_data.shape"
   ]
  },
  {
   "cell_type": "code",
   "execution_count": 9,
   "metadata": {},
   "outputs": [],
   "source": [
    "compare_data['error'] = (compare_data.y_expected - compare_data.y_predicted) ** 2"
   ]
  },
  {
   "cell_type": "code",
   "execution_count": 10,
   "metadata": {},
   "outputs": [
    {
     "data": {
      "text/html": [
       "<div>\n",
       "<style scoped>\n",
       "    .dataframe tbody tr th:only-of-type {\n",
       "        vertical-align: middle;\n",
       "    }\n",
       "\n",
       "    .dataframe tbody tr th {\n",
       "        vertical-align: top;\n",
       "    }\n",
       "\n",
       "    .dataframe thead th {\n",
       "        text-align: right;\n",
       "    }\n",
       "</style>\n",
       "<table border=\"1\" class=\"dataframe\">\n",
       "  <thead>\n",
       "    <tr style=\"text-align: right;\">\n",
       "      <th></th>\n",
       "      <th>smiles</th>\n",
       "      <th>y_expected</th>\n",
       "      <th>y_predicted</th>\n",
       "      <th>error</th>\n",
       "    </tr>\n",
       "  </thead>\n",
       "  <tbody>\n",
       "    <tr>\n",
       "      <th>1029</th>\n",
       "      <td>CCCCCCCCCCCCCCP(C)(C)(C)Br</td>\n",
       "      <td>2.06</td>\n",
       "      <td>8.517233</td>\n",
       "      <td>41.695858</td>\n",
       "    </tr>\n",
       "    <tr>\n",
       "      <th>1192</th>\n",
       "      <td>CN(CCO)c1nc(=Nc2ccc(C=Cc3ccc(N=c4[nH]c(N(C)CCO...</td>\n",
       "      <td>1.20</td>\n",
       "      <td>-2.420867</td>\n",
       "      <td>13.110676</td>\n",
       "    </tr>\n",
       "    <tr>\n",
       "      <th>1730</th>\n",
       "      <td>O=C(O[K])C1C2CCC(O2)C1C(=O)O[K]</td>\n",
       "      <td>0.32</td>\n",
       "      <td>-3.074192</td>\n",
       "      <td>11.520538</td>\n",
       "    </tr>\n",
       "    <tr>\n",
       "      <th>1625</th>\n",
       "      <td>CCCC(=NOCC)C1C(=O)CC(C(C)CSCC)CC1=O</td>\n",
       "      <td>1.65</td>\n",
       "      <td>4.376903</td>\n",
       "      <td>7.436000</td>\n",
       "    </tr>\n",
       "    <tr>\n",
       "      <th>938</th>\n",
       "      <td>COc1ccc(C)cc1-n1nnnc1SCC(=O)Nc1cc(C(N)=O)cc(C(...</td>\n",
       "      <td>4.15</td>\n",
       "      <td>1.517720</td>\n",
       "      <td>6.928900</td>\n",
       "    </tr>\n",
       "  </tbody>\n",
       "</table>\n",
       "</div>"
      ],
      "text/plain": [
       "                                                 smiles  y_expected  \\\n",
       "1029                         CCCCCCCCCCCCCCP(C)(C)(C)Br        2.06   \n",
       "1192  CN(CCO)c1nc(=Nc2ccc(C=Cc3ccc(N=c4[nH]c(N(C)CCO...        1.20   \n",
       "1730                    O=C(O[K])C1C2CCC(O2)C1C(=O)O[K]        0.32   \n",
       "1625                CCCC(=NOCC)C1C(=O)CC(C(C)CSCC)CC1=O        1.65   \n",
       "938   COc1ccc(C)cc1-n1nnnc1SCC(=O)Nc1cc(C(N)=O)cc(C(...        4.15   \n",
       "\n",
       "      y_predicted      error  \n",
       "1029     8.517233  41.695858  \n",
       "1192    -2.420867  13.110676  \n",
       "1730    -3.074192  11.520538  \n",
       "1625     4.376903   7.436000  \n",
       "938      1.517720   6.928900  "
      ]
     },
     "execution_count": 10,
     "metadata": {},
     "output_type": "execute_result"
    }
   ],
   "source": [
    "compare_data.sort_values(by=['error'], ascending=False).head()"
   ]
  },
  {
   "cell_type": "code",
   "execution_count": 11,
   "metadata": {},
   "outputs": [
    {
     "data": {
      "text/html": [
       "<div>\n",
       "<style scoped>\n",
       "    .dataframe tbody tr th:only-of-type {\n",
       "        vertical-align: middle;\n",
       "    }\n",
       "\n",
       "    .dataframe tbody tr th {\n",
       "        vertical-align: top;\n",
       "    }\n",
       "\n",
       "    .dataframe thead th {\n",
       "        text-align: right;\n",
       "    }\n",
       "</style>\n",
       "<table border=\"1\" class=\"dataframe\">\n",
       "  <thead>\n",
       "    <tr style=\"text-align: right;\">\n",
       "      <th></th>\n",
       "      <th>smiles</th>\n",
       "      <th>y_expected</th>\n",
       "      <th>y_predicted</th>\n",
       "      <th>error</th>\n",
       "    </tr>\n",
       "  </thead>\n",
       "  <tbody>\n",
       "    <tr>\n",
       "      <th>288</th>\n",
       "      <td>COc1cc(-n2nc(C)cc2OC)nc(C)n1</td>\n",
       "      <td>1.54</td>\n",
       "      <td>1.540202</td>\n",
       "      <td>4.068289e-08</td>\n",
       "    </tr>\n",
       "    <tr>\n",
       "      <th>1743</th>\n",
       "      <td>CCCCNc1ccc(C(=O)OCCN(C)C)cc1</td>\n",
       "      <td>3.51</td>\n",
       "      <td>3.509727</td>\n",
       "      <td>7.441984e-08</td>\n",
       "    </tr>\n",
       "    <tr>\n",
       "      <th>1027</th>\n",
       "      <td>Cc1cccc(CC(=O)O)c1</td>\n",
       "      <td>1.95</td>\n",
       "      <td>1.949701</td>\n",
       "      <td>8.964036e-08</td>\n",
       "    </tr>\n",
       "    <tr>\n",
       "      <th>1703</th>\n",
       "      <td>CC(=O)C=Cc1cccc(Br)c1</td>\n",
       "      <td>3.02</td>\n",
       "      <td>3.019667</td>\n",
       "      <td>1.108890e-07</td>\n",
       "    </tr>\n",
       "    <tr>\n",
       "      <th>1831</th>\n",
       "      <td>CCOc1ccc([N+](=O)[O-])cc1</td>\n",
       "      <td>2.53</td>\n",
       "      <td>2.529638</td>\n",
       "      <td>1.308269e-07</td>\n",
       "    </tr>\n",
       "  </tbody>\n",
       "</table>\n",
       "</div>"
      ],
      "text/plain": [
       "                            smiles  y_expected  y_predicted         error\n",
       "288   COc1cc(-n2nc(C)cc2OC)nc(C)n1        1.54     1.540202  4.068289e-08\n",
       "1743  CCCCNc1ccc(C(=O)OCCN(C)C)cc1        3.51     3.509727  7.441984e-08\n",
       "1027            Cc1cccc(CC(=O)O)c1        1.95     1.949701  8.964036e-08\n",
       "1703         CC(=O)C=Cc1cccc(Br)c1        3.02     3.019667  1.108890e-07\n",
       "1831     CCOc1ccc([N+](=O)[O-])cc1        2.53     2.529638  1.308269e-07"
      ]
     },
     "execution_count": 11,
     "metadata": {},
     "output_type": "execute_result"
    }
   ],
   "source": [
    "compare_data.sort_values(by=['error'], ascending=True).head()"
   ]
  },
  {
   "cell_type": "code",
   "execution_count": 12,
   "metadata": {},
   "outputs": [
    {
     "data": {
      "image/png": "[encoded data removed]",
      "text/plain": [
       "<rdkit.Chem.rdchem.Mol at 0x1904d292b70>"
      ]
     },
     "metadata": {},
     "output_type": "display_data"
    },
    {
     "data": {
      "image/png": "[encoded data removed]",
      "text/plain": [
       "<rdkit.Chem.rdchem.Mol at 0x1904d292b70>"
      ]
     },
     "metadata": {},
     "output_type": "display_data"
    },
    {
     "data": {
      "image/png": "[encoded data removed]",
      "text/plain": [
       "<rdkit.Chem.rdchem.Mol at 0x1904d292b70>"
      ]
     },
     "metadata": {},
     "output_type": "display_data"
    },
    {
     "data": {
      "image/png": "[encoded data removed]",
      "text/plain": [
       "<rdkit.Chem.rdchem.Mol at 0x1904d292b70>"
      ]
     },
     "metadata": {},
     "output_type": "display_data"
    },
    {
     "data": {
      "image/png": "[encoded data removed]",
      "text/plain": [
       "<rdkit.Chem.rdchem.Mol at 0x1904d292b70>"
      ]
     },
     "metadata": {},
     "output_type": "display_data"
    }
   ],
   "source": [
    "for mol in compare_data.sort_values(by=['error'], ascending=False).head().smiles:\n",
    "    mol = Chem.MolFromSmiles(mol)\n",
    "    display(mol)"
   ]
  },
  {
   "cell_type": "code",
   "execution_count": 13,
   "metadata": {},
   "outputs": [
    {
     "data": {
      "image/png": "[encoded data removed]",
      "text/plain": [
       "<rdkit.Chem.rdchem.Mol at 0x1904d292b70>"
      ]
     },
     "metadata": {},
     "output_type": "display_data"
    },
    {
     "data": {
      "image/png": "[encoded data removed]",
      "text/plain": [
       "<rdkit.Chem.rdchem.Mol at 0x1904d292b70>"
      ]
     },
     "metadata": {},
     "output_type": "display_data"
    },
    {
     "data": {
      "image/png": "[encoded data removed]",
      "text/plain": [
       "<rdkit.Chem.rdchem.Mol at 0x1904d292b70>"
      ]
     },
     "metadata": {},
     "output_type": "display_data"
    },
    {
     "data": {
      "image/png": "[encoded data removed]",
      "text/plain": [
       "<rdkit.Chem.rdchem.Mol at 0x1904d292b70>"
      ]
     },
     "metadata": {},
     "output_type": "display_data"
    },
    {
     "data": {
      "image/png": "[encoded data removed]",
      "text/plain": [
       "<rdkit.Chem.rdchem.Mol at 0x1904d292b70>"
      ]
     },
     "metadata": {},
     "output_type": "display_data"
    }
   ],
   "source": [
    "for mol in compare_data.sort_values(by=['error'], ascending=True).head().smiles:\n",
    "    mol = Chem.MolFromSmiles(mol)\n",
    "    display(mol)"
   ]
  },
  {
   "cell_type": "code",
   "execution_count": 14,
   "metadata": {},
   "outputs": [],
   "source": [
    "compare_data = compare_data.sort_values(by=['error'])"
   ]
  },
  {
   "cell_type": "markdown",
   "metadata": {},
   "source": [
    "## Creating comparing function\n",
    "### The features to compare:\n",
    "- The count of atoms\n",
    "- The count of rings\n",
    "- The count of not organogens atoms\n",
    "- The percent of not organogens atoms\n",
    "- The percent of aromatic (benzene) rings out of all rings\n",
    "- The count and percent of aromatic bonds\n",
    "- The symmetry of molecules"
   ]
  },
  {
   "cell_type": "code",
   "execution_count": 15,
   "metadata": {},
   "outputs": [],
   "source": [
    "def create_statistics(vals):\n",
    "    values = vals.copy()\n",
    "    mols = [Chem.MolFromSmiles(x) for x in values.smiles]\n",
    "    \n",
    "    atom_count = [mol.GetNumAtoms() for mol in mols]\n",
    "    values['atom_count'] = pd.Series(atom_count)\n",
    "    \n",
    "    values['ring_count'] = pd.Series([mol.GetRingInfo().NumRings() for mol in mols])\n",
    "    \n",
    "    mol_atoms = [mol.GetAtoms() for mol in mols]\n",
    "    non_simple_atom_count = [sum((num.GetAtomicNum() not in [1, 6, 8, 7]) for num in m_atoms) for m_atoms in mol_atoms]\n",
    "    values['non_organogens_count'] = pd.Series(non_simple_atom_count)\n",
    "    \n",
    "    values['non_organogens_percent'] = values.non_organogens_count / values.atom_count *100\n",
    "    \n",
    "    benzene_smiles = 'C1=CC=CC=C1'\n",
    "    pattern = Chem.MolFromSmiles(benzene_smiles)\n",
    "    values['aromatic_count'] = pd.Series([len(mol.GetSubstructMatches(pattern)) for mol in mols])\n",
    "    \n",
    "    values['aromatic_rings_percent'] = values.aromatic_count / values.ring_count *100\n",
    "    values['aromatic_rings_percent'] = values['aromatic_rings_percent'].fillna(0)\n",
    "    \n",
    "    values['bond_count'] =  [len(mol.GetBonds()) for mol in mols]\n",
    "    values['aromatic_bond_count'] = [sum(bond.GetIsAromatic() for bond in mol.GetBonds()) for mol in mols]\n",
    "    values['aromatic_bond_percent'] = values.aromatic_bond_count / values.bond_count * 100\n",
    "    \n",
    "    values_list = [pd.Series(Chem.CanonicalRankAtoms(mol, breakTies=False)).value_counts() for mol in mols]\n",
    "    values['is_symmetric'] =  [(len(values) - 1 <= len(values[values % 2 == 0])) or (len(values) - 1 <= len(values[(values % 2 == 1) & (values > 1)])) for values in values_list]\n",
    "    \n",
    "    return values"
   ]
  },
  {
   "cell_type": "markdown",
   "metadata": {},
   "source": [
    "## Analyzing the data features"
   ]
  },
  {
   "cell_type": "code",
   "execution_count": 16,
   "metadata": {},
   "outputs": [],
   "source": [
    "compare_data_with_stats = create_statistics(compare_data)"
   ]
  },
  {
   "cell_type": "code",
   "execution_count": 17,
   "metadata": {},
   "outputs": [
    {
     "data": {
      "text/html": [
       "<div>\n",
       "<style scoped>\n",
       "    .dataframe tbody tr th:only-of-type {\n",
       "        vertical-align: middle;\n",
       "    }\n",
       "\n",
       "    .dataframe tbody tr th {\n",
       "        vertical-align: top;\n",
       "    }\n",
       "\n",
       "    .dataframe thead th {\n",
       "        text-align: right;\n",
       "    }\n",
       "</style>\n",
       "<table border=\"1\" class=\"dataframe\">\n",
       "  <thead>\n",
       "    <tr style=\"text-align: right;\">\n",
       "      <th></th>\n",
       "      <th>smiles</th>\n",
       "      <th>y_expected</th>\n",
       "      <th>y_predicted</th>\n",
       "      <th>error</th>\n",
       "      <th>atom_count</th>\n",
       "      <th>ring_count</th>\n",
       "      <th>non_organogens_count</th>\n",
       "      <th>non_organogens_percent</th>\n",
       "      <th>aromatic_count</th>\n",
       "      <th>aromatic_rings_percent</th>\n",
       "      <th>bond_count</th>\n",
       "      <th>aromatic_bond_count</th>\n",
       "      <th>aromatic_bond_percent</th>\n",
       "      <th>is_symmetric</th>\n",
       "    </tr>\n",
       "  </thead>\n",
       "  <tbody>\n",
       "    <tr>\n",
       "      <th>288</th>\n",
       "      <td>COc1cc(-n2nc(C)cc2OC)nc(C)n1</td>\n",
       "      <td>1.54</td>\n",
       "      <td>1.540202</td>\n",
       "      <td>4.068289e-08</td>\n",
       "      <td>11</td>\n",
       "      <td>2</td>\n",
       "      <td>1</td>\n",
       "      <td>9.090909</td>\n",
       "      <td>0</td>\n",
       "      <td>0.0</td>\n",
       "      <td>18</td>\n",
       "      <td>11</td>\n",
       "      <td>61.111111</td>\n",
       "      <td>False</td>\n",
       "    </tr>\n",
       "    <tr>\n",
       "      <th>1743</th>\n",
       "      <td>CCCCNc1ccc(C(=O)OCCN(C)C)cc1</td>\n",
       "      <td>3.51</td>\n",
       "      <td>3.509727</td>\n",
       "      <td>7.441984e-08</td>\n",
       "      <td>25</td>\n",
       "      <td>3</td>\n",
       "      <td>1</td>\n",
       "      <td>4.000000</td>\n",
       "      <td>3</td>\n",
       "      <td>100.0</td>\n",
       "      <td>19</td>\n",
       "      <td>6</td>\n",
       "      <td>31.578947</td>\n",
       "      <td>False</td>\n",
       "    </tr>\n",
       "    <tr>\n",
       "      <th>1027</th>\n",
       "      <td>Cc1cccc(CC(=O)O)c1</td>\n",
       "      <td>1.95</td>\n",
       "      <td>1.949701</td>\n",
       "      <td>8.964036e-08</td>\n",
       "      <td>20</td>\n",
       "      <td>2</td>\n",
       "      <td>1</td>\n",
       "      <td>5.000000</td>\n",
       "      <td>1</td>\n",
       "      <td>50.0</td>\n",
       "      <td>11</td>\n",
       "      <td>6</td>\n",
       "      <td>54.545455</td>\n",
       "      <td>False</td>\n",
       "    </tr>\n",
       "    <tr>\n",
       "      <th>1703</th>\n",
       "      <td>CC(=O)C=Cc1cccc(Br)c1</td>\n",
       "      <td>3.02</td>\n",
       "      <td>3.019667</td>\n",
       "      <td>1.108890e-07</td>\n",
       "      <td>24</td>\n",
       "      <td>1</td>\n",
       "      <td>0</td>\n",
       "      <td>0.000000</td>\n",
       "      <td>1</td>\n",
       "      <td>100.0</td>\n",
       "      <td>12</td>\n",
       "      <td>6</td>\n",
       "      <td>50.000000</td>\n",
       "      <td>False</td>\n",
       "    </tr>\n",
       "    <tr>\n",
       "      <th>1831</th>\n",
       "      <td>CCOc1ccc([N+](=O)[O-])cc1</td>\n",
       "      <td>2.53</td>\n",
       "      <td>2.529638</td>\n",
       "      <td>1.308269e-07</td>\n",
       "      <td>19</td>\n",
       "      <td>2</td>\n",
       "      <td>3</td>\n",
       "      <td>15.789474</td>\n",
       "      <td>1</td>\n",
       "      <td>50.0</td>\n",
       "      <td>12</td>\n",
       "      <td>6</td>\n",
       "      <td>50.000000</td>\n",
       "      <td>False</td>\n",
       "    </tr>\n",
       "  </tbody>\n",
       "</table>\n",
       "</div>"
      ],
      "text/plain": [
       "                            smiles  y_expected  y_predicted         error  \\\n",
       "288   COc1cc(-n2nc(C)cc2OC)nc(C)n1        1.54     1.540202  4.068289e-08   \n",
       "1743  CCCCNc1ccc(C(=O)OCCN(C)C)cc1        3.51     3.509727  7.441984e-08   \n",
       "1027            Cc1cccc(CC(=O)O)c1        1.95     1.949701  8.964036e-08   \n",
       "1703         CC(=O)C=Cc1cccc(Br)c1        3.02     3.019667  1.108890e-07   \n",
       "1831     CCOc1ccc([N+](=O)[O-])cc1        2.53     2.529638  1.308269e-07   \n",
       "\n",
       "      atom_count  ring_count  non_organogens_count  non_organogens_percent  \\\n",
       "288           11           2                     1                9.090909   \n",
       "1743          25           3                     1                4.000000   \n",
       "1027          20           2                     1                5.000000   \n",
       "1703          24           1                     0                0.000000   \n",
       "1831          19           2                     3               15.789474   \n",
       "\n",
       "      aromatic_count  aromatic_rings_percent  bond_count  aromatic_bond_count  \\\n",
       "288                0                     0.0          18                   11   \n",
       "1743               3                   100.0          19                    6   \n",
       "1027               1                    50.0          11                    6   \n",
       "1703               1                   100.0          12                    6   \n",
       "1831               1                    50.0          12                    6   \n",
       "\n",
       "      aromatic_bond_percent  is_symmetric  \n",
       "288               61.111111         False  \n",
       "1743              31.578947         False  \n",
       "1027              54.545455         False  \n",
       "1703              50.000000         False  \n",
       "1831              50.000000         False  "
      ]
     },
     "execution_count": 17,
     "metadata": {},
     "output_type": "execute_result"
    }
   ],
   "source": [
    "compare_data_with_stats.head()"
   ]
  },
  {
   "cell_type": "markdown",
   "metadata": {},
   "source": [
    "#### Splitting data into 3 parts"
   ]
  },
  {
   "cell_type": "code",
   "execution_count": 18,
   "metadata": {},
   "outputs": [],
   "source": [
    "data = []\n",
    "for i in range(3):\n",
    "    data.append(compare_data_with_stats.take([j for j in range(i * 1894 // 3, min((i + 1) * 1894 // 3, 1894))]))"
   ]
  },
  {
   "cell_type": "code",
   "execution_count": 19,
   "metadata": {
    "scrolled": false
   },
   "outputs": [
    {
     "data": {
      "text/html": [
       "<div>\n",
       "<style scoped>\n",
       "    .dataframe tbody tr th:only-of-type {\n",
       "        vertical-align: middle;\n",
       "    }\n",
       "\n",
       "    .dataframe tbody tr th {\n",
       "        vertical-align: top;\n",
       "    }\n",
       "\n",
       "    .dataframe thead th {\n",
       "        text-align: right;\n",
       "    }\n",
       "</style>\n",
       "<table border=\"1\" class=\"dataframe\">\n",
       "  <thead>\n",
       "    <tr style=\"text-align: right;\">\n",
       "      <th></th>\n",
       "      <th>y_expected</th>\n",
       "      <th>y_predicted</th>\n",
       "      <th>error</th>\n",
       "      <th>atom_count</th>\n",
       "      <th>ring_count</th>\n",
       "      <th>non_organogens_count</th>\n",
       "      <th>non_organogens_percent</th>\n",
       "      <th>aromatic_count</th>\n",
       "      <th>aromatic_rings_percent</th>\n",
       "      <th>bond_count</th>\n",
       "      <th>aromatic_bond_count</th>\n",
       "      <th>aromatic_bond_percent</th>\n",
       "    </tr>\n",
       "  </thead>\n",
       "  <tbody>\n",
       "    <tr>\n",
       "      <th>count</th>\n",
       "      <td>631.000000</td>\n",
       "      <td>631.000000</td>\n",
       "      <td>6.310000e+02</td>\n",
       "      <td>631.000000</td>\n",
       "      <td>631.000000</td>\n",
       "      <td>631.000000</td>\n",
       "      <td>631.000000</td>\n",
       "      <td>631.000000</td>\n",
       "      <td>631.000000</td>\n",
       "      <td>631.000000</td>\n",
       "      <td>631.000000</td>\n",
       "      <td>631.000000</td>\n",
       "    </tr>\n",
       "    <tr>\n",
       "      <th>mean</th>\n",
       "      <td>2.218162</td>\n",
       "      <td>2.220083</td>\n",
       "      <td>6.038843e-03</td>\n",
       "      <td>17.491284</td>\n",
       "      <td>1.754358</td>\n",
       "      <td>0.812995</td>\n",
       "      <td>4.885732</td>\n",
       "      <td>0.939778</td>\n",
       "      <td>56.299902</td>\n",
       "      <td>17.150555</td>\n",
       "      <td>7.529319</td>\n",
       "      <td>46.154189</td>\n",
       "    </tr>\n",
       "    <tr>\n",
       "      <th>std</th>\n",
       "      <td>1.755639</td>\n",
       "      <td>1.756821</td>\n",
       "      <td>5.596467e-03</td>\n",
       "      <td>7.711844</td>\n",
       "      <td>1.156710</td>\n",
       "      <td>1.363896</td>\n",
       "      <td>7.926305</td>\n",
       "      <td>0.749298</td>\n",
       "      <td>41.508624</td>\n",
       "      <td>8.217355</td>\n",
       "      <td>4.373297</td>\n",
       "      <td>23.752833</td>\n",
       "    </tr>\n",
       "    <tr>\n",
       "      <th>min</th>\n",
       "      <td>-3.400000</td>\n",
       "      <td>-3.285935</td>\n",
       "      <td>4.068289e-08</td>\n",
       "      <td>5.000000</td>\n",
       "      <td>0.000000</td>\n",
       "      <td>0.000000</td>\n",
       "      <td>0.000000</td>\n",
       "      <td>0.000000</td>\n",
       "      <td>0.000000</td>\n",
       "      <td>4.000000</td>\n",
       "      <td>0.000000</td>\n",
       "      <td>0.000000</td>\n",
       "    </tr>\n",
       "    <tr>\n",
       "      <th>25%</th>\n",
       "      <td>1.065000</td>\n",
       "      <td>1.036360</td>\n",
       "      <td>9.178599e-04</td>\n",
       "      <td>12.000000</td>\n",
       "      <td>1.000000</td>\n",
       "      <td>0.000000</td>\n",
       "      <td>0.000000</td>\n",
       "      <td>0.000000</td>\n",
       "      <td>0.000000</td>\n",
       "      <td>12.000000</td>\n",
       "      <td>6.000000</td>\n",
       "      <td>33.333333</td>\n",
       "    </tr>\n",
       "    <tr>\n",
       "      <th>50%</th>\n",
       "      <td>2.040000</td>\n",
       "      <td>2.072831</td>\n",
       "      <td>4.511675e-03</td>\n",
       "      <td>16.000000</td>\n",
       "      <td>2.000000</td>\n",
       "      <td>0.000000</td>\n",
       "      <td>0.000000</td>\n",
       "      <td>1.000000</td>\n",
       "      <td>50.000000</td>\n",
       "      <td>16.000000</td>\n",
       "      <td>6.000000</td>\n",
       "      <td>46.153846</td>\n",
       "    </tr>\n",
       "    <tr>\n",
       "      <th>75%</th>\n",
       "      <td>3.225000</td>\n",
       "      <td>3.233038</td>\n",
       "      <td>1.020973e-02</td>\n",
       "      <td>21.000000</td>\n",
       "      <td>2.000000</td>\n",
       "      <td>1.000000</td>\n",
       "      <td>7.142857</td>\n",
       "      <td>1.000000</td>\n",
       "      <td>100.000000</td>\n",
       "      <td>20.000000</td>\n",
       "      <td>11.000000</td>\n",
       "      <td>63.157895</td>\n",
       "    </tr>\n",
       "    <tr>\n",
       "      <th>max</th>\n",
       "      <td>8.560000</td>\n",
       "      <td>8.664934</td>\n",
       "      <td>1.855834e-02</td>\n",
       "      <td>85.000000</td>\n",
       "      <td>8.000000</td>\n",
       "      <td>10.000000</td>\n",
       "      <td>47.619048</td>\n",
       "      <td>5.000000</td>\n",
       "      <td>100.000000</td>\n",
       "      <td>62.000000</td>\n",
       "      <td>27.000000</td>\n",
       "      <td>100.000000</td>\n",
       "    </tr>\n",
       "  </tbody>\n",
       "</table>\n",
       "</div>"
      ],
      "text/plain": [
       "       y_expected  y_predicted         error  atom_count  ring_count  \\\n",
       "count  631.000000   631.000000  6.310000e+02  631.000000  631.000000   \n",
       "mean     2.218162     2.220083  6.038843e-03   17.491284    1.754358   \n",
       "std      1.755639     1.756821  5.596467e-03    7.711844    1.156710   \n",
       "min     -3.400000    -3.285935  4.068289e-08    5.000000    0.000000   \n",
       "25%      1.065000     1.036360  9.178599e-04   12.000000    1.000000   \n",
       "50%      2.040000     2.072831  4.511675e-03   16.000000    2.000000   \n",
       "75%      3.225000     3.233038  1.020973e-02   21.000000    2.000000   \n",
       "max      8.560000     8.664934  1.855834e-02   85.000000    8.000000   \n",
       "\n",
       "       non_organogens_count  non_organogens_percent  aromatic_count  \\\n",
       "count            631.000000              631.000000      631.000000   \n",
       "mean               0.812995                4.885732        0.939778   \n",
       "std                1.363896                7.926305        0.749298   \n",
       "min                0.000000                0.000000        0.000000   \n",
       "25%                0.000000                0.000000        0.000000   \n",
       "50%                0.000000                0.000000        1.000000   \n",
       "75%                1.000000                7.142857        1.000000   \n",
       "max               10.000000               47.619048        5.000000   \n",
       "\n",
       "       aromatic_rings_percent  bond_count  aromatic_bond_count  \\\n",
       "count              631.000000  631.000000           631.000000   \n",
       "mean                56.299902   17.150555             7.529319   \n",
       "std                 41.508624    8.217355             4.373297   \n",
       "min                  0.000000    4.000000             0.000000   \n",
       "25%                  0.000000   12.000000             6.000000   \n",
       "50%                 50.000000   16.000000             6.000000   \n",
       "75%                100.000000   20.000000            11.000000   \n",
       "max                100.000000   62.000000            27.000000   \n",
       "\n",
       "       aromatic_bond_percent  \n",
       "count             631.000000  \n",
       "mean               46.154189  \n",
       "std                23.752833  \n",
       "min                 0.000000  \n",
       "25%                33.333333  \n",
       "50%                46.153846  \n",
       "75%                63.157895  \n",
       "max               100.000000  "
      ]
     },
     "execution_count": 19,
     "metadata": {},
     "output_type": "execute_result"
    }
   ],
   "source": [
    "data[0].describe()"
   ]
  },
  {
   "cell_type": "code",
   "execution_count": 20,
   "metadata": {
    "scrolled": true
   },
   "outputs": [
    {
     "data": {
      "text/html": [
       "<div>\n",
       "<style scoped>\n",
       "    .dataframe tbody tr th:only-of-type {\n",
       "        vertical-align: middle;\n",
       "    }\n",
       "\n",
       "    .dataframe tbody tr th {\n",
       "        vertical-align: top;\n",
       "    }\n",
       "\n",
       "    .dataframe thead th {\n",
       "        text-align: right;\n",
       "    }\n",
       "</style>\n",
       "<table border=\"1\" class=\"dataframe\">\n",
       "  <thead>\n",
       "    <tr style=\"text-align: right;\">\n",
       "      <th></th>\n",
       "      <th>y_expected</th>\n",
       "      <th>y_predicted</th>\n",
       "      <th>error</th>\n",
       "      <th>atom_count</th>\n",
       "      <th>ring_count</th>\n",
       "      <th>non_organogens_count</th>\n",
       "      <th>non_organogens_percent</th>\n",
       "      <th>aromatic_count</th>\n",
       "      <th>aromatic_rings_percent</th>\n",
       "      <th>bond_count</th>\n",
       "      <th>aromatic_bond_count</th>\n",
       "      <th>aromatic_bond_percent</th>\n",
       "    </tr>\n",
       "  </thead>\n",
       "  <tbody>\n",
       "    <tr>\n",
       "      <th>count</th>\n",
       "      <td>631.00000</td>\n",
       "      <td>631.000000</td>\n",
       "      <td>631.000000</td>\n",
       "      <td>631.000000</td>\n",
       "      <td>631.000000</td>\n",
       "      <td>631.000000</td>\n",
       "      <td>631.000000</td>\n",
       "      <td>631.000000</td>\n",
       "      <td>631.000000</td>\n",
       "      <td>631.000000</td>\n",
       "      <td>631.000000</td>\n",
       "      <td>631.000000</td>\n",
       "    </tr>\n",
       "    <tr>\n",
       "      <th>mean</th>\n",
       "      <td>2.18000</td>\n",
       "      <td>2.171987</td>\n",
       "      <td>0.053379</td>\n",
       "      <td>17.941363</td>\n",
       "      <td>1.822504</td>\n",
       "      <td>0.849445</td>\n",
       "      <td>5.237661</td>\n",
       "      <td>0.922345</td>\n",
       "      <td>51.971927</td>\n",
       "      <td>17.700475</td>\n",
       "      <td>7.645008</td>\n",
       "      <td>43.596761</td>\n",
       "    </tr>\n",
       "    <tr>\n",
       "      <th>std</th>\n",
       "      <td>1.71707</td>\n",
       "      <td>1.705850</td>\n",
       "      <td>0.025720</td>\n",
       "      <td>7.945532</td>\n",
       "      <td>1.246023</td>\n",
       "      <td>1.380532</td>\n",
       "      <td>8.877471</td>\n",
       "      <td>0.773771</td>\n",
       "      <td>40.922663</td>\n",
       "      <td>7.734523</td>\n",
       "      <td>4.826922</td>\n",
       "      <td>23.404015</td>\n",
       "    </tr>\n",
       "    <tr>\n",
       "      <th>min</th>\n",
       "      <td>-3.17000</td>\n",
       "      <td>-3.446675</td>\n",
       "      <td>0.018603</td>\n",
       "      <td>5.000000</td>\n",
       "      <td>0.000000</td>\n",
       "      <td>0.000000</td>\n",
       "      <td>0.000000</td>\n",
       "      <td>0.000000</td>\n",
       "      <td>0.000000</td>\n",
       "      <td>4.000000</td>\n",
       "      <td>0.000000</td>\n",
       "      <td>0.000000</td>\n",
       "    </tr>\n",
       "    <tr>\n",
       "      <th>25%</th>\n",
       "      <td>1.14000</td>\n",
       "      <td>1.110619</td>\n",
       "      <td>0.030430</td>\n",
       "      <td>13.000000</td>\n",
       "      <td>1.000000</td>\n",
       "      <td>0.000000</td>\n",
       "      <td>0.000000</td>\n",
       "      <td>0.000000</td>\n",
       "      <td>0.000000</td>\n",
       "      <td>13.000000</td>\n",
       "      <td>6.000000</td>\n",
       "      <td>31.578947</td>\n",
       "    </tr>\n",
       "    <tr>\n",
       "      <th>50%</th>\n",
       "      <td>2.13000</td>\n",
       "      <td>2.094722</td>\n",
       "      <td>0.049011</td>\n",
       "      <td>17.000000</td>\n",
       "      <td>2.000000</td>\n",
       "      <td>0.000000</td>\n",
       "      <td>0.000000</td>\n",
       "      <td>1.000000</td>\n",
       "      <td>50.000000</td>\n",
       "      <td>16.000000</td>\n",
       "      <td>6.000000</td>\n",
       "      <td>46.153846</td>\n",
       "    </tr>\n",
       "    <tr>\n",
       "      <th>75%</th>\n",
       "      <td>3.16000</td>\n",
       "      <td>3.085568</td>\n",
       "      <td>0.072699</td>\n",
       "      <td>21.000000</td>\n",
       "      <td>2.000000</td>\n",
       "      <td>1.000000</td>\n",
       "      <td>7.142857</td>\n",
       "      <td>1.000000</td>\n",
       "      <td>100.000000</td>\n",
       "      <td>21.000000</td>\n",
       "      <td>11.000000</td>\n",
       "      <td>57.979626</td>\n",
       "    </tr>\n",
       "    <tr>\n",
       "      <th>max</th>\n",
       "      <td>8.60000</td>\n",
       "      <td>8.337702</td>\n",
       "      <td>0.110734</td>\n",
       "      <td>62.000000</td>\n",
       "      <td>8.000000</td>\n",
       "      <td>9.000000</td>\n",
       "      <td>80.000000</td>\n",
       "      <td>5.000000</td>\n",
       "      <td>100.000000</td>\n",
       "      <td>65.000000</td>\n",
       "      <td>26.000000</td>\n",
       "      <td>100.000000</td>\n",
       "    </tr>\n",
       "  </tbody>\n",
       "</table>\n",
       "</div>"
      ],
      "text/plain": [
       "       y_expected  y_predicted       error  atom_count  ring_count  \\\n",
       "count   631.00000   631.000000  631.000000  631.000000  631.000000   \n",
       "mean      2.18000     2.171987    0.053379   17.941363    1.822504   \n",
       "std       1.71707     1.705850    0.025720    7.945532    1.246023   \n",
       "min      -3.17000    -3.446675    0.018603    5.000000    0.000000   \n",
       "25%       1.14000     1.110619    0.030430   13.000000    1.000000   \n",
       "50%       2.13000     2.094722    0.049011   17.000000    2.000000   \n",
       "75%       3.16000     3.085568    0.072699   21.000000    2.000000   \n",
       "max       8.60000     8.337702    0.110734   62.000000    8.000000   \n",
       "\n",
       "       non_organogens_count  non_organogens_percent  aromatic_count  \\\n",
       "count            631.000000              631.000000      631.000000   \n",
       "mean               0.849445                5.237661        0.922345   \n",
       "std                1.380532                8.877471        0.773771   \n",
       "min                0.000000                0.000000        0.000000   \n",
       "25%                0.000000                0.000000        0.000000   \n",
       "50%                0.000000                0.000000        1.000000   \n",
       "75%                1.000000                7.142857        1.000000   \n",
       "max                9.000000               80.000000        5.000000   \n",
       "\n",
       "       aromatic_rings_percent  bond_count  aromatic_bond_count  \\\n",
       "count              631.000000  631.000000           631.000000   \n",
       "mean                51.971927   17.700475             7.645008   \n",
       "std                 40.922663    7.734523             4.826922   \n",
       "min                  0.000000    4.000000             0.000000   \n",
       "25%                  0.000000   13.000000             6.000000   \n",
       "50%                 50.000000   16.000000             6.000000   \n",
       "75%                100.000000   21.000000            11.000000   \n",
       "max                100.000000   65.000000            26.000000   \n",
       "\n",
       "       aromatic_bond_percent  \n",
       "count             631.000000  \n",
       "mean               43.596761  \n",
       "std                23.404015  \n",
       "min                 0.000000  \n",
       "25%                31.578947  \n",
       "50%                46.153846  \n",
       "75%                57.979626  \n",
       "max               100.000000  "
      ]
     },
     "execution_count": 20,
     "metadata": {},
     "output_type": "execute_result"
    }
   ],
   "source": [
    "data[1].describe()"
   ]
  },
  {
   "cell_type": "code",
   "execution_count": 21,
   "metadata": {
    "scrolled": false
   },
   "outputs": [
    {
     "data": {
      "text/html": [
       "<div>\n",
       "<style scoped>\n",
       "    .dataframe tbody tr th:only-of-type {\n",
       "        vertical-align: middle;\n",
       "    }\n",
       "\n",
       "    .dataframe tbody tr th {\n",
       "        vertical-align: top;\n",
       "    }\n",
       "\n",
       "    .dataframe thead th {\n",
       "        text-align: right;\n",
       "    }\n",
       "</style>\n",
       "<table border=\"1\" class=\"dataframe\">\n",
       "  <thead>\n",
       "    <tr style=\"text-align: right;\">\n",
       "      <th></th>\n",
       "      <th>y_expected</th>\n",
       "      <th>y_predicted</th>\n",
       "      <th>error</th>\n",
       "      <th>atom_count</th>\n",
       "      <th>ring_count</th>\n",
       "      <th>non_organogens_count</th>\n",
       "      <th>non_organogens_percent</th>\n",
       "      <th>aromatic_count</th>\n",
       "      <th>aromatic_rings_percent</th>\n",
       "      <th>bond_count</th>\n",
       "      <th>aromatic_bond_count</th>\n",
       "      <th>aromatic_bond_percent</th>\n",
       "    </tr>\n",
       "  </thead>\n",
       "  <tbody>\n",
       "    <tr>\n",
       "      <th>count</th>\n",
       "      <td>632.000000</td>\n",
       "      <td>632.000000</td>\n",
       "      <td>632.000000</td>\n",
       "      <td>632.000000</td>\n",
       "      <td>632.000000</td>\n",
       "      <td>632.000000</td>\n",
       "      <td>632.000000</td>\n",
       "      <td>632.000000</td>\n",
       "      <td>632.000000</td>\n",
       "      <td>632.000000</td>\n",
       "      <td>632.000000</td>\n",
       "      <td>632.000000</td>\n",
       "    </tr>\n",
       "    <tr>\n",
       "      <th>mean</th>\n",
       "      <td>2.174905</td>\n",
       "      <td>2.172486</td>\n",
       "      <td>0.276800</td>\n",
       "      <td>17.737342</td>\n",
       "      <td>1.803797</td>\n",
       "      <td>0.881329</td>\n",
       "      <td>5.578867</td>\n",
       "      <td>0.960443</td>\n",
       "      <td>56.475663</td>\n",
       "      <td>19.159810</td>\n",
       "      <td>7.811709</td>\n",
       "      <td>41.746709</td>\n",
       "    </tr>\n",
       "    <tr>\n",
       "      <th>std</th>\n",
       "      <td>1.905245</td>\n",
       "      <td>1.889425</td>\n",
       "      <td>0.144651</td>\n",
       "      <td>7.881491</td>\n",
       "      <td>1.169929</td>\n",
       "      <td>1.316782</td>\n",
       "      <td>9.717694</td>\n",
       "      <td>0.751133</td>\n",
       "      <td>41.340845</td>\n",
       "      <td>8.203905</td>\n",
       "      <td>5.063244</td>\n",
       "      <td>23.898128</td>\n",
       "    </tr>\n",
       "    <tr>\n",
       "      <th>min</th>\n",
       "      <td>-3.700000</td>\n",
       "      <td>-3.160528</td>\n",
       "      <td>0.110956</td>\n",
       "      <td>5.000000</td>\n",
       "      <td>0.000000</td>\n",
       "      <td>0.000000</td>\n",
       "      <td>0.000000</td>\n",
       "      <td>0.000000</td>\n",
       "      <td>0.000000</td>\n",
       "      <td>4.000000</td>\n",
       "      <td>0.000000</td>\n",
       "      <td>0.000000</td>\n",
       "    </tr>\n",
       "    <tr>\n",
       "      <th>25%</th>\n",
       "      <td>0.902500</td>\n",
       "      <td>0.871087</td>\n",
       "      <td>0.155292</td>\n",
       "      <td>13.000000</td>\n",
       "      <td>1.000000</td>\n",
       "      <td>0.000000</td>\n",
       "      <td>0.000000</td>\n",
       "      <td>0.000000</td>\n",
       "      <td>0.000000</td>\n",
       "      <td>14.000000</td>\n",
       "      <td>6.000000</td>\n",
       "      <td>28.571429</td>\n",
       "    </tr>\n",
       "    <tr>\n",
       "      <th>50%</th>\n",
       "      <td>2.115000</td>\n",
       "      <td>2.097312</td>\n",
       "      <td>0.227232</td>\n",
       "      <td>16.000000</td>\n",
       "      <td>2.000000</td>\n",
       "      <td>0.000000</td>\n",
       "      <td>0.000000</td>\n",
       "      <td>1.000000</td>\n",
       "      <td>50.000000</td>\n",
       "      <td>18.000000</td>\n",
       "      <td>6.000000</td>\n",
       "      <td>42.857143</td>\n",
       "    </tr>\n",
       "    <tr>\n",
       "      <th>75%</th>\n",
       "      <td>3.415000</td>\n",
       "      <td>3.485075</td>\n",
       "      <td>0.366247</td>\n",
       "      <td>21.000000</td>\n",
       "      <td>2.000000</td>\n",
       "      <td>1.000000</td>\n",
       "      <td>7.692308</td>\n",
       "      <td>1.000000</td>\n",
       "      <td>100.000000</td>\n",
       "      <td>24.000000</td>\n",
       "      <td>11.000000</td>\n",
       "      <td>58.608321</td>\n",
       "    </tr>\n",
       "    <tr>\n",
       "      <th>max</th>\n",
       "      <td>8.030000</td>\n",
       "      <td>8.798494</td>\n",
       "      <td>0.643417</td>\n",
       "      <td>66.000000</td>\n",
       "      <td>9.000000</td>\n",
       "      <td>8.000000</td>\n",
       "      <td>100.000000</td>\n",
       "      <td>4.000000</td>\n",
       "      <td>100.000000</td>\n",
       "      <td>72.000000</td>\n",
       "      <td>28.000000</td>\n",
       "      <td>100.000000</td>\n",
       "    </tr>\n",
       "  </tbody>\n",
       "</table>\n",
       "</div>"
      ],
      "text/plain": [
       "       y_expected  y_predicted       error  atom_count  ring_count  \\\n",
       "count  632.000000   632.000000  632.000000  632.000000  632.000000   \n",
       "mean     2.174905     2.172486    0.276800   17.737342    1.803797   \n",
       "std      1.905245     1.889425    0.144651    7.881491    1.169929   \n",
       "min     -3.700000    -3.160528    0.110956    5.000000    0.000000   \n",
       "25%      0.902500     0.871087    0.155292   13.000000    1.000000   \n",
       "50%      2.115000     2.097312    0.227232   16.000000    2.000000   \n",
       "75%      3.415000     3.485075    0.366247   21.000000    2.000000   \n",
       "max      8.030000     8.798494    0.643417   66.000000    9.000000   \n",
       "\n",
       "       non_organogens_count  non_organogens_percent  aromatic_count  \\\n",
       "count            632.000000              632.000000      632.000000   \n",
       "mean               0.881329                5.578867        0.960443   \n",
       "std                1.316782                9.717694        0.751133   \n",
       "min                0.000000                0.000000        0.000000   \n",
       "25%                0.000000                0.000000        0.000000   \n",
       "50%                0.000000                0.000000        1.000000   \n",
       "75%                1.000000                7.692308        1.000000   \n",
       "max                8.000000              100.000000        4.000000   \n",
       "\n",
       "       aromatic_rings_percent  bond_count  aromatic_bond_count  \\\n",
       "count              632.000000  632.000000           632.000000   \n",
       "mean                56.475663   19.159810             7.811709   \n",
       "std                 41.340845    8.203905             5.063244   \n",
       "min                  0.000000    4.000000             0.000000   \n",
       "25%                  0.000000   14.000000             6.000000   \n",
       "50%                 50.000000   18.000000             6.000000   \n",
       "75%                100.000000   24.000000            11.000000   \n",
       "max                100.000000   72.000000            28.000000   \n",
       "\n",
       "       aromatic_bond_percent  \n",
       "count             632.000000  \n",
       "mean               41.746709  \n",
       "std                23.898128  \n",
       "min                 0.000000  \n",
       "25%                28.571429  \n",
       "50%                42.857143  \n",
       "75%                58.608321  \n",
       "max               100.000000  "
      ]
     },
     "execution_count": 21,
     "metadata": {},
     "output_type": "execute_result"
    }
   ],
   "source": [
    "data[2].describe()"
   ]
  },
  {
   "cell_type": "markdown",
   "metadata": {},
   "source": [
    "## Check repeting patterns in the middle of the dataset\n",
    "Hypothesis: badly predicted molecules are symmetric (like 1, 3, 5 worst molecules)\n",
    "\n",
    "The simplest way to check: take 20 random molecules from the best/middle/worst part."
   ]
  },
  {
   "cell_type": "code",
   "execution_count": 22,
   "metadata": {},
   "outputs": [],
   "source": [
    "best = data[0].reset_index().drop(columns=['index'])"
   ]
  },
  {
   "cell_type": "code",
   "execution_count": 23,
   "metadata": {},
   "outputs": [
    {
     "data": {
      "text/html": [
       "<div>\n",
       "<style scoped>\n",
       "    .dataframe tbody tr th:only-of-type {\n",
       "        vertical-align: middle;\n",
       "    }\n",
       "\n",
       "    .dataframe tbody tr th {\n",
       "        vertical-align: top;\n",
       "    }\n",
       "\n",
       "    .dataframe thead th {\n",
       "        text-align: right;\n",
       "    }\n",
       "</style>\n",
       "<table border=\"1\" class=\"dataframe\">\n",
       "  <thead>\n",
       "    <tr style=\"text-align: right;\">\n",
       "      <th></th>\n",
       "      <th>smiles</th>\n",
       "      <th>y_expected</th>\n",
       "      <th>y_predicted</th>\n",
       "      <th>error</th>\n",
       "      <th>atom_count</th>\n",
       "      <th>ring_count</th>\n",
       "      <th>non_organogens_count</th>\n",
       "      <th>non_organogens_percent</th>\n",
       "      <th>aromatic_count</th>\n",
       "      <th>aromatic_rings_percent</th>\n",
       "      <th>bond_count</th>\n",
       "      <th>aromatic_bond_count</th>\n",
       "      <th>aromatic_bond_percent</th>\n",
       "      <th>is_symmetric</th>\n",
       "    </tr>\n",
       "  </thead>\n",
       "  <tbody>\n",
       "    <tr>\n",
       "      <th>0</th>\n",
       "      <td>COc1cc(-n2nc(C)cc2OC)nc(C)n1</td>\n",
       "      <td>1.54</td>\n",
       "      <td>1.540202</td>\n",
       "      <td>4.068289e-08</td>\n",
       "      <td>11</td>\n",
       "      <td>2</td>\n",
       "      <td>1</td>\n",
       "      <td>9.090909</td>\n",
       "      <td>0</td>\n",
       "      <td>0.0</td>\n",
       "      <td>18</td>\n",
       "      <td>11</td>\n",
       "      <td>61.111111</td>\n",
       "      <td>False</td>\n",
       "    </tr>\n",
       "    <tr>\n",
       "      <th>1</th>\n",
       "      <td>CCCCNc1ccc(C(=O)OCCN(C)C)cc1</td>\n",
       "      <td>3.51</td>\n",
       "      <td>3.509727</td>\n",
       "      <td>7.441984e-08</td>\n",
       "      <td>25</td>\n",
       "      <td>3</td>\n",
       "      <td>1</td>\n",
       "      <td>4.000000</td>\n",
       "      <td>3</td>\n",
       "      <td>100.0</td>\n",
       "      <td>19</td>\n",
       "      <td>6</td>\n",
       "      <td>31.578947</td>\n",
       "      <td>False</td>\n",
       "    </tr>\n",
       "    <tr>\n",
       "      <th>2</th>\n",
       "      <td>Cc1cccc(CC(=O)O)c1</td>\n",
       "      <td>1.95</td>\n",
       "      <td>1.949701</td>\n",
       "      <td>8.964036e-08</td>\n",
       "      <td>20</td>\n",
       "      <td>2</td>\n",
       "      <td>1</td>\n",
       "      <td>5.000000</td>\n",
       "      <td>1</td>\n",
       "      <td>50.0</td>\n",
       "      <td>11</td>\n",
       "      <td>6</td>\n",
       "      <td>54.545455</td>\n",
       "      <td>False</td>\n",
       "    </tr>\n",
       "    <tr>\n",
       "      <th>3</th>\n",
       "      <td>CC(=O)C=Cc1cccc(Br)c1</td>\n",
       "      <td>3.02</td>\n",
       "      <td>3.019667</td>\n",
       "      <td>1.108890e-07</td>\n",
       "      <td>24</td>\n",
       "      <td>1</td>\n",
       "      <td>0</td>\n",
       "      <td>0.000000</td>\n",
       "      <td>1</td>\n",
       "      <td>100.0</td>\n",
       "      <td>12</td>\n",
       "      <td>6</td>\n",
       "      <td>50.000000</td>\n",
       "      <td>False</td>\n",
       "    </tr>\n",
       "    <tr>\n",
       "      <th>4</th>\n",
       "      <td>CCOc1ccc([N+](=O)[O-])cc1</td>\n",
       "      <td>2.53</td>\n",
       "      <td>2.529638</td>\n",
       "      <td>1.308269e-07</td>\n",
       "      <td>19</td>\n",
       "      <td>2</td>\n",
       "      <td>3</td>\n",
       "      <td>15.789474</td>\n",
       "      <td>1</td>\n",
       "      <td>50.0</td>\n",
       "      <td>12</td>\n",
       "      <td>6</td>\n",
       "      <td>50.000000</td>\n",
       "      <td>False</td>\n",
       "    </tr>\n",
       "  </tbody>\n",
       "</table>\n",
       "</div>"
      ],
      "text/plain": [
       "                         smiles  y_expected  y_predicted         error  \\\n",
       "0  COc1cc(-n2nc(C)cc2OC)nc(C)n1        1.54     1.540202  4.068289e-08   \n",
       "1  CCCCNc1ccc(C(=O)OCCN(C)C)cc1        3.51     3.509727  7.441984e-08   \n",
       "2            Cc1cccc(CC(=O)O)c1        1.95     1.949701  8.964036e-08   \n",
       "3         CC(=O)C=Cc1cccc(Br)c1        3.02     3.019667  1.108890e-07   \n",
       "4     CCOc1ccc([N+](=O)[O-])cc1        2.53     2.529638  1.308269e-07   \n",
       "\n",
       "   atom_count  ring_count  non_organogens_count  non_organogens_percent  \\\n",
       "0          11           2                     1                9.090909   \n",
       "1          25           3                     1                4.000000   \n",
       "2          20           2                     1                5.000000   \n",
       "3          24           1                     0                0.000000   \n",
       "4          19           2                     3               15.789474   \n",
       "\n",
       "   aromatic_count  aromatic_rings_percent  bond_count  aromatic_bond_count  \\\n",
       "0               0                     0.0          18                   11   \n",
       "1               3                   100.0          19                    6   \n",
       "2               1                    50.0          11                    6   \n",
       "3               1                   100.0          12                    6   \n",
       "4               1                    50.0          12                    6   \n",
       "\n",
       "   aromatic_bond_percent  is_symmetric  \n",
       "0              61.111111         False  \n",
       "1              31.578947         False  \n",
       "2              54.545455         False  \n",
       "3              50.000000         False  \n",
       "4              50.000000         False  "
      ]
     },
     "execution_count": 23,
     "metadata": {},
     "output_type": "execute_result"
    }
   ],
   "source": [
    "best.head()"
   ]
  },
  {
   "cell_type": "code",
   "execution_count": 24,
   "metadata": {},
   "outputs": [],
   "source": [
    "np.random.seed = 10\n",
    "indices = pd.Series(np.random.randint(631, size=10))"
   ]
  },
  {
   "cell_type": "code",
   "execution_count": 25,
   "metadata": {},
   "outputs": [
    {
     "data": {
      "image/png": "[encoded data removed]",
      "text/plain": [
       "<rdkit.Chem.rdchem.Mol at 0x1904d36d4e0>"
      ]
     },
     "metadata": {},
     "output_type": "display_data"
    },
    {
     "data": {
      "image/png": "[encoded data removed]",
      "text/plain": [
       "<rdkit.Chem.rdchem.Mol at 0x1904d36ddf0>"
      ]
     },
     "metadata": {},
     "output_type": "display_data"
    },
    {
     "data": {
      "image/png": "[encoded data removed]",
      "text/plain": [
       "<rdkit.Chem.rdchem.Mol at 0x1904d36de40>"
      ]
     },
     "metadata": {},
     "output_type": "display_data"
    },
    {
     "data": {
      "image/png": "[encoded data removed]",
      "text/plain": [
       "<rdkit.Chem.rdchem.Mol at 0x1904d36ddf0>"
      ]
     },
     "metadata": {},
     "output_type": "display_data"
    },
    {
     "data": {
      "image/png": "[encoded data removed]",
      "text/plain": [
       "<rdkit.Chem.rdchem.Mol at 0x1904d36de40>"
      ]
     },
     "metadata": {},
     "output_type": "display_data"
    },
    {
     "data": {
      "image/png": "[encoded data removed]",
      "text/plain": [
       "<rdkit.Chem.rdchem.Mol at 0x1904d36ddf0>"
      ]
     },
     "metadata": {},
     "output_type": "display_data"
    },
    {
     "data": {
      "image/png": "[encoded data removed]",
      "text/plain": [
       "<rdkit.Chem.rdchem.Mol at 0x1904d36d440>"
      ]
     },
     "metadata": {},
     "output_type": "display_data"
    },
    {
     "data": {
      "image/png": "[encoded data removed]",
      "text/plain": [
       "<rdkit.Chem.rdchem.Mol at 0x1904d36d710>"
      ]
     },
     "metadata": {},
     "output_type": "display_data"
    },
    {
     "data": {
      "image/png": "[encoded data removed]",
      "text/plain": [
       "<rdkit.Chem.rdchem.Mol at 0x1904d36d440>"
      ]
     },
     "metadata": {},
     "output_type": "display_data"
    },
    {
     "data": {
      "image/png": "[encoded data removed]",
      "text/plain": [
       "<rdkit.Chem.rdchem.Mol at 0x1904d36dd00>"
      ]
     },
     "metadata": {},
     "output_type": "display_data"
    }
   ],
   "source": [
    "for smiles in best.loc[indices].smiles:\n",
    "    mol = Chem.MolFromSmiles(smiles)\n",
    "    display(mol)"
   ]
  },
  {
   "cell_type": "code",
   "execution_count": 26,
   "metadata": {},
   "outputs": [],
   "source": [
    "np.random.seed = 10\n",
    "indices = pd.Series(np.random.randint(631, size=20))"
   ]
  },
  {
   "cell_type": "code",
   "execution_count": 27,
   "metadata": {},
   "outputs": [],
   "source": [
    "middle = data[1].reset_index().drop(columns=['index'])"
   ]
  },
  {
   "cell_type": "code",
   "execution_count": 28,
   "metadata": {},
   "outputs": [
    {
     "data": {
      "text/html": [
       "<div>\n",
       "<style scoped>\n",
       "    .dataframe tbody tr th:only-of-type {\n",
       "        vertical-align: middle;\n",
       "    }\n",
       "\n",
       "    .dataframe tbody tr th {\n",
       "        vertical-align: top;\n",
       "    }\n",
       "\n",
       "    .dataframe thead th {\n",
       "        text-align: right;\n",
       "    }\n",
       "</style>\n",
       "<table border=\"1\" class=\"dataframe\">\n",
       "  <thead>\n",
       "    <tr style=\"text-align: right;\">\n",
       "      <th></th>\n",
       "      <th>smiles</th>\n",
       "      <th>y_expected</th>\n",
       "      <th>y_predicted</th>\n",
       "      <th>error</th>\n",
       "      <th>atom_count</th>\n",
       "      <th>ring_count</th>\n",
       "      <th>non_organogens_count</th>\n",
       "      <th>non_organogens_percent</th>\n",
       "      <th>aromatic_count</th>\n",
       "      <th>aromatic_rings_percent</th>\n",
       "      <th>bond_count</th>\n",
       "      <th>aromatic_bond_count</th>\n",
       "      <th>aromatic_bond_percent</th>\n",
       "      <th>is_symmetric</th>\n",
       "    </tr>\n",
       "  </thead>\n",
       "  <tbody>\n",
       "    <tr>\n",
       "      <th>0</th>\n",
       "      <td>Brc1ccc(Br)cc1</td>\n",
       "      <td>3.79</td>\n",
       "      <td>3.653608</td>\n",
       "      <td>0.018603</td>\n",
       "      <td>13</td>\n",
       "      <td>1</td>\n",
       "      <td>0</td>\n",
       "      <td>0.0</td>\n",
       "      <td>1</td>\n",
       "      <td>100.0</td>\n",
       "      <td>8</td>\n",
       "      <td>6</td>\n",
       "      <td>75.000000</td>\n",
       "      <td>True</td>\n",
       "    </tr>\n",
       "    <tr>\n",
       "      <th>1</th>\n",
       "      <td>CCC(CC)COC(=O)N(C)C</td>\n",
       "      <td>2.87</td>\n",
       "      <td>2.733432</td>\n",
       "      <td>0.018651</td>\n",
       "      <td>23</td>\n",
       "      <td>2</td>\n",
       "      <td>0</td>\n",
       "      <td>0.0</td>\n",
       "      <td>1</td>\n",
       "      <td>50.0</td>\n",
       "      <td>11</td>\n",
       "      <td>0</td>\n",
       "      <td>0.000000</td>\n",
       "      <td>False</td>\n",
       "    </tr>\n",
       "    <tr>\n",
       "      <th>2</th>\n",
       "      <td>Clc1cc(Cl)cc(-c2cc(Cl)cc(Cl)c2)c1</td>\n",
       "      <td>6.60</td>\n",
       "      <td>6.463394</td>\n",
       "      <td>0.018661</td>\n",
       "      <td>17</td>\n",
       "      <td>1</td>\n",
       "      <td>0</td>\n",
       "      <td>0.0</td>\n",
       "      <td>1</td>\n",
       "      <td>100.0</td>\n",
       "      <td>17</td>\n",
       "      <td>12</td>\n",
       "      <td>70.588235</td>\n",
       "      <td>True</td>\n",
       "    </tr>\n",
       "    <tr>\n",
       "      <th>3</th>\n",
       "      <td>Clc1cc(Cl)c(Cl)c(-c2c(Cl)c(Cl)c(Cl)c(Cl)c2Cl)c1Cl</td>\n",
       "      <td>8.16</td>\n",
       "      <td>8.022666</td>\n",
       "      <td>0.018861</td>\n",
       "      <td>16</td>\n",
       "      <td>1</td>\n",
       "      <td>0</td>\n",
       "      <td>0.0</td>\n",
       "      <td>1</td>\n",
       "      <td>100.0</td>\n",
       "      <td>22</td>\n",
       "      <td>12</td>\n",
       "      <td>54.545455</td>\n",
       "      <td>False</td>\n",
       "    </tr>\n",
       "    <tr>\n",
       "      <th>4</th>\n",
       "      <td>CNC(=O)Oc1cccc(I)c1</td>\n",
       "      <td>2.52</td>\n",
       "      <td>2.382564</td>\n",
       "      <td>0.018889</td>\n",
       "      <td>13</td>\n",
       "      <td>1</td>\n",
       "      <td>0</td>\n",
       "      <td>0.0</td>\n",
       "      <td>0</td>\n",
       "      <td>0.0</td>\n",
       "      <td>12</td>\n",
       "      <td>6</td>\n",
       "      <td>50.000000</td>\n",
       "      <td>False</td>\n",
       "    </tr>\n",
       "  </tbody>\n",
       "</table>\n",
       "</div>"
      ],
      "text/plain": [
       "                                              smiles  y_expected  y_predicted  \\\n",
       "0                                     Brc1ccc(Br)cc1        3.79     3.653608   \n",
       "1                                CCC(CC)COC(=O)N(C)C        2.87     2.733432   \n",
       "2                  Clc1cc(Cl)cc(-c2cc(Cl)cc(Cl)c2)c1        6.60     6.463394   \n",
       "3  Clc1cc(Cl)c(Cl)c(-c2c(Cl)c(Cl)c(Cl)c(Cl)c2Cl)c1Cl        8.16     8.022666   \n",
       "4                                CNC(=O)Oc1cccc(I)c1        2.52     2.382564   \n",
       "\n",
       "      error  atom_count  ring_count  non_organogens_count  \\\n",
       "0  0.018603          13           1                     0   \n",
       "1  0.018651          23           2                     0   \n",
       "2  0.018661          17           1                     0   \n",
       "3  0.018861          16           1                     0   \n",
       "4  0.018889          13           1                     0   \n",
       "\n",
       "   non_organogens_percent  aromatic_count  aromatic_rings_percent  bond_count  \\\n",
       "0                     0.0               1                   100.0           8   \n",
       "1                     0.0               1                    50.0          11   \n",
       "2                     0.0               1                   100.0          17   \n",
       "3                     0.0               1                   100.0          22   \n",
       "4                     0.0               0                     0.0          12   \n",
       "\n",
       "   aromatic_bond_count  aromatic_bond_percent  is_symmetric  \n",
       "0                    6              75.000000          True  \n",
       "1                    0               0.000000         False  \n",
       "2                   12              70.588235          True  \n",
       "3                   12              54.545455         False  \n",
       "4                    6              50.000000         False  "
      ]
     },
     "execution_count": 28,
     "metadata": {},
     "output_type": "execute_result"
    }
   ],
   "source": [
    "middle.head()"
   ]
  },
  {
   "cell_type": "code",
   "execution_count": 29,
   "metadata": {},
   "outputs": [
    {
     "data": {
      "text/plain": [
       "(631, 14)"
      ]
     },
     "execution_count": 29,
     "metadata": {},
     "output_type": "execute_result"
    }
   ],
   "source": [
    "middle.shape"
   ]
  },
  {
   "cell_type": "code",
   "execution_count": 30,
   "metadata": {},
   "outputs": [],
   "source": [
    "indices = pd.Series(np.random.randint(631, size=10))"
   ]
  },
  {
   "cell_type": "code",
   "execution_count": 31,
   "metadata": {},
   "outputs": [
    {
     "data": {
      "image/png": "[encoded data removed]",
      "text/plain": [
       "<rdkit.Chem.rdchem.Mol at 0x1904d309710>"
      ]
     },
     "metadata": {},
     "output_type": "display_data"
    },
    {
     "data": {
      "image/png": "[encoded data removed]",
      "text/plain": [
       "<rdkit.Chem.rdchem.Mol at 0x1904d280b70>"
      ]
     },
     "metadata": {},
     "output_type": "display_data"
    },
    {
     "data": {
      "image/png": "[encoded data removed]",
      "text/plain": [
       "<rdkit.Chem.rdchem.Mol at 0x1904d36d620>"
      ]
     },
     "metadata": {},
     "output_type": "display_data"
    },
    {
     "data": {
      "image/png": "[encoded data removed]",
      "text/plain": [
       "<rdkit.Chem.rdchem.Mol at 0x1904d2803f0>"
      ]
     },
     "metadata": {},
     "output_type": "display_data"
    },
    {
     "data": {
      "image/png": "[encoded data removed]",
      "text/plain": [
       "<rdkit.Chem.rdchem.Mol at 0x1904d280b70>"
      ]
     },
     "metadata": {},
     "output_type": "display_data"
    },
    {
     "data": {
      "image/png": "[encoded data removed]",
      "text/plain": [
       "<rdkit.Chem.rdchem.Mol at 0x1904d36dd00>"
      ]
     },
     "metadata": {},
     "output_type": "display_data"
    },
    {
     "data": {
      "image/png": "[encoded data removed]",
      "text/plain": [
       "<rdkit.Chem.rdchem.Mol at 0x1904d36d620>"
      ]
     },
     "metadata": {},
     "output_type": "display_data"
    },
    {
     "data": {
      "image/png": "[encoded data removed]",
      "text/plain": [
       "<rdkit.Chem.rdchem.Mol at 0x1904d280b70>"
      ]
     },
     "metadata": {},
     "output_type": "display_data"
    },
    {
     "data": {
      "image/png": "[encoded data removed]",
      "text/plain": [
       "<rdkit.Chem.rdchem.Mol at 0x1904d36d620>"
      ]
     },
     "metadata": {},
     "output_type": "display_data"
    },
    {
     "data": {
      "image/png": "[encoded data removed]",
      "text/plain": [
       "<rdkit.Chem.rdchem.Mol at 0x1904d280b70>"
      ]
     },
     "metadata": {},
     "output_type": "display_data"
    }
   ],
   "source": [
    "for smiles in middle.loc[indices].smiles:\n",
    "    mol = Chem.MolFromSmiles(smiles)\n",
    "    display(mol)"
   ]
  },
  {
   "cell_type": "code",
   "execution_count": 32,
   "metadata": {},
   "outputs": [],
   "source": [
    "worst = data[2].reset_index().drop(columns=['index'])"
   ]
  },
  {
   "cell_type": "code",
   "execution_count": 33,
   "metadata": {},
   "outputs": [],
   "source": [
    "indices = pd.Series(np.random.randint(631, size=10))"
   ]
  },
  {
   "cell_type": "code",
   "execution_count": 34,
   "metadata": {},
   "outputs": [
    {
     "data": {
      "image/png": "[encoded data removed]",
      "text/plain": [
       "<rdkit.Chem.rdchem.Mol at 0x1904d6e7300>"
      ]
     },
     "metadata": {},
     "output_type": "display_data"
    },
    {
     "data": {
      "image/png": "[encoded data removed]",
      "text/plain": [
       "<rdkit.Chem.rdchem.Mol at 0x1904d280300>"
      ]
     },
     "metadata": {},
     "output_type": "display_data"
    },
    {
     "data": {
      "image/png": "[encoded data removed]",
      "text/plain": [
       "<rdkit.Chem.rdchem.Mol at 0x1904d36d440>"
      ]
     },
     "metadata": {},
     "output_type": "display_data"
    },
    {
     "data": {
      "image/png": "[encoded data removed]",
      "text/plain": [
       "<rdkit.Chem.rdchem.Mol at 0x1904d309e40>"
      ]
     },
     "metadata": {},
     "output_type": "display_data"
    },
    {
     "data": {
      "image/png": "[encoded data removed]",
      "text/plain": [
       "<rdkit.Chem.rdchem.Mol at 0x1904d309120>"
      ]
     },
     "metadata": {},
     "output_type": "display_data"
    },
    {
     "data": {
      "image/png": "[encoded data removed]",
      "text/plain": [
       "<rdkit.Chem.rdchem.Mol at 0x1904d36d440>"
      ]
     },
     "metadata": {},
     "output_type": "display_data"
    },
    {
     "data": {
      "image/png": "[encoded data removed]",
      "text/plain": [
       "<rdkit.Chem.rdchem.Mol at 0x1904d309120>"
      ]
     },
     "metadata": {},
     "output_type": "display_data"
    },
    {
     "data": {
      "image/png": "[encoded data removed]",
      "text/plain": [
       "<rdkit.Chem.rdchem.Mol at 0x1904d309e40>"
      ]
     },
     "metadata": {},
     "output_type": "display_data"
    },
    {
     "data": {
      "image/png": "[encoded data removed]",
      "text/plain": [
       "<rdkit.Chem.rdchem.Mol at 0x1904d36d440>"
      ]
     },
     "metadata": {},
     "output_type": "display_data"
    },
    {
     "data": {
      "image/png": "[encoded data removed]",
      "text/plain": [
       "<rdkit.Chem.rdchem.Mol at 0x1904d309120>"
      ]
     },
     "metadata": {},
     "output_type": "display_data"
    }
   ],
   "source": [
    "for smiles in worst.loc[indices].smiles:\n",
    "    mol = Chem.MolFromSmiles(smiles)\n",
    "    display(mol)"
   ]
  },
  {
   "cell_type": "code",
   "execution_count": null,
   "metadata": {},
   "outputs": [],
   "source": []
  },
  {
   "cell_type": "markdown",
   "metadata": {},
   "source": [
    "#### Taking best and worst predicted values"
   ]
  },
  {
   "cell_type": "code",
   "execution_count": 35,
   "metadata": {},
   "outputs": [],
   "source": [
    "n_values = 200"
   ]
  },
  {
   "cell_type": "code",
   "execution_count": 36,
   "metadata": {},
   "outputs": [],
   "source": [
    "best_n_vals = compare_data_with_stats.take([j for j in range(n_values)])"
   ]
  },
  {
   "cell_type": "code",
   "execution_count": 37,
   "metadata": {},
   "outputs": [],
   "source": [
    "worst_n_vals = compare_data_with_stats.take([j for j in range( len(compare_data.smiles) - 1, len(compare_data.smiles) - 1 - n_values, -1)])"
   ]
  },
  {
   "cell_type": "code",
   "execution_count": 38,
   "metadata": {},
   "outputs": [
    {
     "data": {
      "text/html": [
       "<div>\n",
       "<style scoped>\n",
       "    .dataframe tbody tr th:only-of-type {\n",
       "        vertical-align: middle;\n",
       "    }\n",
       "\n",
       "    .dataframe tbody tr th {\n",
       "        vertical-align: top;\n",
       "    }\n",
       "\n",
       "    .dataframe thead th {\n",
       "        text-align: right;\n",
       "    }\n",
       "</style>\n",
       "<table border=\"1\" class=\"dataframe\">\n",
       "  <thead>\n",
       "    <tr style=\"text-align: right;\">\n",
       "      <th></th>\n",
       "      <th>smiles</th>\n",
       "      <th>y_expected</th>\n",
       "      <th>y_predicted</th>\n",
       "      <th>error</th>\n",
       "      <th>atom_count</th>\n",
       "      <th>ring_count</th>\n",
       "      <th>non_organogens_count</th>\n",
       "      <th>non_organogens_percent</th>\n",
       "      <th>aromatic_count</th>\n",
       "      <th>aromatic_rings_percent</th>\n",
       "      <th>bond_count</th>\n",
       "      <th>aromatic_bond_count</th>\n",
       "      <th>aromatic_bond_percent</th>\n",
       "      <th>is_symmetric</th>\n",
       "    </tr>\n",
       "  </thead>\n",
       "  <tbody>\n",
       "    <tr>\n",
       "      <th>288</th>\n",
       "      <td>COc1cc(-n2nc(C)cc2OC)nc(C)n1</td>\n",
       "      <td>1.54</td>\n",
       "      <td>1.540202</td>\n",
       "      <td>4.068289e-08</td>\n",
       "      <td>11</td>\n",
       "      <td>2</td>\n",
       "      <td>1</td>\n",
       "      <td>9.090909</td>\n",
       "      <td>0</td>\n",
       "      <td>0.0</td>\n",
       "      <td>18</td>\n",
       "      <td>11</td>\n",
       "      <td>61.111111</td>\n",
       "      <td>False</td>\n",
       "    </tr>\n",
       "    <tr>\n",
       "      <th>1743</th>\n",
       "      <td>CCCCNc1ccc(C(=O)OCCN(C)C)cc1</td>\n",
       "      <td>3.51</td>\n",
       "      <td>3.509727</td>\n",
       "      <td>7.441984e-08</td>\n",
       "      <td>25</td>\n",
       "      <td>3</td>\n",
       "      <td>1</td>\n",
       "      <td>4.000000</td>\n",
       "      <td>3</td>\n",
       "      <td>100.0</td>\n",
       "      <td>19</td>\n",
       "      <td>6</td>\n",
       "      <td>31.578947</td>\n",
       "      <td>False</td>\n",
       "    </tr>\n",
       "    <tr>\n",
       "      <th>1027</th>\n",
       "      <td>Cc1cccc(CC(=O)O)c1</td>\n",
       "      <td>1.95</td>\n",
       "      <td>1.949701</td>\n",
       "      <td>8.964036e-08</td>\n",
       "      <td>20</td>\n",
       "      <td>2</td>\n",
       "      <td>1</td>\n",
       "      <td>5.000000</td>\n",
       "      <td>1</td>\n",
       "      <td>50.0</td>\n",
       "      <td>11</td>\n",
       "      <td>6</td>\n",
       "      <td>54.545455</td>\n",
       "      <td>False</td>\n",
       "    </tr>\n",
       "    <tr>\n",
       "      <th>1703</th>\n",
       "      <td>CC(=O)C=Cc1cccc(Br)c1</td>\n",
       "      <td>3.02</td>\n",
       "      <td>3.019667</td>\n",
       "      <td>1.108890e-07</td>\n",
       "      <td>24</td>\n",
       "      <td>1</td>\n",
       "      <td>0</td>\n",
       "      <td>0.000000</td>\n",
       "      <td>1</td>\n",
       "      <td>100.0</td>\n",
       "      <td>12</td>\n",
       "      <td>6</td>\n",
       "      <td>50.000000</td>\n",
       "      <td>False</td>\n",
       "    </tr>\n",
       "    <tr>\n",
       "      <th>1831</th>\n",
       "      <td>CCOc1ccc([N+](=O)[O-])cc1</td>\n",
       "      <td>2.53</td>\n",
       "      <td>2.529638</td>\n",
       "      <td>1.308269e-07</td>\n",
       "      <td>19</td>\n",
       "      <td>2</td>\n",
       "      <td>3</td>\n",
       "      <td>15.789474</td>\n",
       "      <td>1</td>\n",
       "      <td>50.0</td>\n",
       "      <td>12</td>\n",
       "      <td>6</td>\n",
       "      <td>50.000000</td>\n",
       "      <td>False</td>\n",
       "    </tr>\n",
       "  </tbody>\n",
       "</table>\n",
       "</div>"
      ],
      "text/plain": [
       "                            smiles  y_expected  y_predicted         error  \\\n",
       "288   COc1cc(-n2nc(C)cc2OC)nc(C)n1        1.54     1.540202  4.068289e-08   \n",
       "1743  CCCCNc1ccc(C(=O)OCCN(C)C)cc1        3.51     3.509727  7.441984e-08   \n",
       "1027            Cc1cccc(CC(=O)O)c1        1.95     1.949701  8.964036e-08   \n",
       "1703         CC(=O)C=Cc1cccc(Br)c1        3.02     3.019667  1.108890e-07   \n",
       "1831     CCOc1ccc([N+](=O)[O-])cc1        2.53     2.529638  1.308269e-07   \n",
       "\n",
       "      atom_count  ring_count  non_organogens_count  non_organogens_percent  \\\n",
       "288           11           2                     1                9.090909   \n",
       "1743          25           3                     1                4.000000   \n",
       "1027          20           2                     1                5.000000   \n",
       "1703          24           1                     0                0.000000   \n",
       "1831          19           2                     3               15.789474   \n",
       "\n",
       "      aromatic_count  aromatic_rings_percent  bond_count  aromatic_bond_count  \\\n",
       "288                0                     0.0          18                   11   \n",
       "1743               3                   100.0          19                    6   \n",
       "1027               1                    50.0          11                    6   \n",
       "1703               1                   100.0          12                    6   \n",
       "1831               1                    50.0          12                    6   \n",
       "\n",
       "      aromatic_bond_percent  is_symmetric  \n",
       "288               61.111111         False  \n",
       "1743              31.578947         False  \n",
       "1027              54.545455         False  \n",
       "1703              50.000000         False  \n",
       "1831              50.000000         False  "
      ]
     },
     "execution_count": 38,
     "metadata": {},
     "output_type": "execute_result"
    }
   ],
   "source": [
    "best_n_vals.head()"
   ]
  },
  {
   "cell_type": "code",
   "execution_count": 39,
   "metadata": {},
   "outputs": [
    {
     "data": {
      "text/html": [
       "<div>\n",
       "<style scoped>\n",
       "    .dataframe tbody tr th:only-of-type {\n",
       "        vertical-align: middle;\n",
       "    }\n",
       "\n",
       "    .dataframe tbody tr th {\n",
       "        vertical-align: top;\n",
       "    }\n",
       "\n",
       "    .dataframe thead th {\n",
       "        text-align: right;\n",
       "    }\n",
       "</style>\n",
       "<table border=\"1\" class=\"dataframe\">\n",
       "  <thead>\n",
       "    <tr style=\"text-align: right;\">\n",
       "      <th></th>\n",
       "      <th>smiles</th>\n",
       "      <th>y_expected</th>\n",
       "      <th>y_predicted</th>\n",
       "      <th>error</th>\n",
       "      <th>atom_count</th>\n",
       "      <th>ring_count</th>\n",
       "      <th>non_organogens_count</th>\n",
       "      <th>non_organogens_percent</th>\n",
       "      <th>aromatic_count</th>\n",
       "      <th>aromatic_rings_percent</th>\n",
       "      <th>bond_count</th>\n",
       "      <th>aromatic_bond_count</th>\n",
       "      <th>aromatic_bond_percent</th>\n",
       "      <th>is_symmetric</th>\n",
       "    </tr>\n",
       "  </thead>\n",
       "  <tbody>\n",
       "    <tr>\n",
       "      <th>1029</th>\n",
       "      <td>CCCCCCCCCCCCCCP(C)(C)(C)Br</td>\n",
       "      <td>2.06</td>\n",
       "      <td>8.517233</td>\n",
       "      <td>41.695858</td>\n",
       "      <td>13</td>\n",
       "      <td>1</td>\n",
       "      <td>1</td>\n",
       "      <td>7.692308</td>\n",
       "      <td>1</td>\n",
       "      <td>100.0</td>\n",
       "      <td>18</td>\n",
       "      <td>0</td>\n",
       "      <td>0.000000</td>\n",
       "      <td>False</td>\n",
       "    </tr>\n",
       "    <tr>\n",
       "      <th>1192</th>\n",
       "      <td>CN(CCO)c1nc(=Nc2ccc(C=Cc3ccc(N=c4[nH]c(N(C)CCO...</td>\n",
       "      <td>1.20</td>\n",
       "      <td>-2.420867</td>\n",
       "      <td>13.110676</td>\n",
       "      <td>16</td>\n",
       "      <td>2</td>\n",
       "      <td>0</td>\n",
       "      <td>0.000000</td>\n",
       "      <td>0</td>\n",
       "      <td>0.0</td>\n",
       "      <td>67</td>\n",
       "      <td>36</td>\n",
       "      <td>53.731343</td>\n",
       "      <td>False</td>\n",
       "    </tr>\n",
       "    <tr>\n",
       "      <th>1730</th>\n",
       "      <td>O=C(O[K])C1C2CCC(O2)C1C(=O)O[K]</td>\n",
       "      <td>0.32</td>\n",
       "      <td>-3.074192</td>\n",
       "      <td>11.520538</td>\n",
       "      <td>30</td>\n",
       "      <td>5</td>\n",
       "      <td>0</td>\n",
       "      <td>0.000000</td>\n",
       "      <td>1</td>\n",
       "      <td>20.0</td>\n",
       "      <td>16</td>\n",
       "      <td>0</td>\n",
       "      <td>0.000000</td>\n",
       "      <td>True</td>\n",
       "    </tr>\n",
       "    <tr>\n",
       "      <th>1625</th>\n",
       "      <td>CCCC(=NOCC)C1C(=O)CC(C(C)CSCC)CC1=O</td>\n",
       "      <td>1.65</td>\n",
       "      <td>4.376903</td>\n",
       "      <td>7.436000</td>\n",
       "      <td>14</td>\n",
       "      <td>2</td>\n",
       "      <td>1</td>\n",
       "      <td>7.142857</td>\n",
       "      <td>1</td>\n",
       "      <td>50.0</td>\n",
       "      <td>22</td>\n",
       "      <td>0</td>\n",
       "      <td>0.000000</td>\n",
       "      <td>False</td>\n",
       "    </tr>\n",
       "    <tr>\n",
       "      <th>938</th>\n",
       "      <td>COc1ccc(C)cc1-n1nnnc1SCC(=O)Nc1cc(C(N)=O)cc(C(...</td>\n",
       "      <td>4.15</td>\n",
       "      <td>1.517720</td>\n",
       "      <td>6.928900</td>\n",
       "      <td>13</td>\n",
       "      <td>2</td>\n",
       "      <td>2</td>\n",
       "      <td>15.384615</td>\n",
       "      <td>1</td>\n",
       "      <td>50.0</td>\n",
       "      <td>33</td>\n",
       "      <td>17</td>\n",
       "      <td>51.515152</td>\n",
       "      <td>False</td>\n",
       "    </tr>\n",
       "  </tbody>\n",
       "</table>\n",
       "</div>"
      ],
      "text/plain": [
       "                                                 smiles  y_expected  \\\n",
       "1029                         CCCCCCCCCCCCCCP(C)(C)(C)Br        2.06   \n",
       "1192  CN(CCO)c1nc(=Nc2ccc(C=Cc3ccc(N=c4[nH]c(N(C)CCO...        1.20   \n",
       "1730                    O=C(O[K])C1C2CCC(O2)C1C(=O)O[K]        0.32   \n",
       "1625                CCCC(=NOCC)C1C(=O)CC(C(C)CSCC)CC1=O        1.65   \n",
       "938   COc1ccc(C)cc1-n1nnnc1SCC(=O)Nc1cc(C(N)=O)cc(C(...        4.15   \n",
       "\n",
       "      y_predicted      error  atom_count  ring_count  non_organogens_count  \\\n",
       "1029     8.517233  41.695858          13           1                     1   \n",
       "1192    -2.420867  13.110676          16           2                     0   \n",
       "1730    -3.074192  11.520538          30           5                     0   \n",
       "1625     4.376903   7.436000          14           2                     1   \n",
       "938      1.517720   6.928900          13           2                     2   \n",
       "\n",
       "      non_organogens_percent  aromatic_count  aromatic_rings_percent  \\\n",
       "1029                7.692308               1                   100.0   \n",
       "1192                0.000000               0                     0.0   \n",
       "1730                0.000000               1                    20.0   \n",
       "1625                7.142857               1                    50.0   \n",
       "938                15.384615               1                    50.0   \n",
       "\n",
       "      bond_count  aromatic_bond_count  aromatic_bond_percent  is_symmetric  \n",
       "1029          18                    0               0.000000         False  \n",
       "1192          67                   36              53.731343         False  \n",
       "1730          16                    0               0.000000          True  \n",
       "1625          22                    0               0.000000         False  \n",
       "938           33                   17              51.515152         False  "
      ]
     },
     "execution_count": 39,
     "metadata": {},
     "output_type": "execute_result"
    }
   ],
   "source": [
    "worst_n_vals.head()"
   ]
  },
  {
   "cell_type": "code",
   "execution_count": 40,
   "metadata": {},
   "outputs": [
    {
     "data": {
      "text/html": [
       "<div>\n",
       "<style scoped>\n",
       "    .dataframe tbody tr th:only-of-type {\n",
       "        vertical-align: middle;\n",
       "    }\n",
       "\n",
       "    .dataframe tbody tr th {\n",
       "        vertical-align: top;\n",
       "    }\n",
       "\n",
       "    .dataframe thead th {\n",
       "        text-align: right;\n",
       "    }\n",
       "</style>\n",
       "<table border=\"1\" class=\"dataframe\">\n",
       "  <thead>\n",
       "    <tr style=\"text-align: right;\">\n",
       "      <th></th>\n",
       "      <th>y_expected</th>\n",
       "      <th>y_predicted</th>\n",
       "      <th>error</th>\n",
       "      <th>atom_count</th>\n",
       "      <th>ring_count</th>\n",
       "      <th>non_organogens_count</th>\n",
       "      <th>non_organogens_percent</th>\n",
       "      <th>aromatic_count</th>\n",
       "      <th>aromatic_rings_percent</th>\n",
       "      <th>bond_count</th>\n",
       "      <th>aromatic_bond_count</th>\n",
       "      <th>aromatic_bond_percent</th>\n",
       "    </tr>\n",
       "  </thead>\n",
       "  <tbody>\n",
       "    <tr>\n",
       "      <th>count</th>\n",
       "      <td>200.000000</td>\n",
       "      <td>200.000000</td>\n",
       "      <td>2.000000e+02</td>\n",
       "      <td>200.00000</td>\n",
       "      <td>200.000000</td>\n",
       "      <td>200.000000</td>\n",
       "      <td>200.000000</td>\n",
       "      <td>200.000000</td>\n",
       "      <td>200.000000</td>\n",
       "      <td>200.00000</td>\n",
       "      <td>200.000000</td>\n",
       "      <td>200.000000</td>\n",
       "    </tr>\n",
       "    <tr>\n",
       "      <th>mean</th>\n",
       "      <td>2.209600</td>\n",
       "      <td>2.209204</td>\n",
       "      <td>4.845448e-04</td>\n",
       "      <td>17.21500</td>\n",
       "      <td>1.645000</td>\n",
       "      <td>0.770000</td>\n",
       "      <td>4.669021</td>\n",
       "      <td>0.890000</td>\n",
       "      <td>54.859524</td>\n",
       "      <td>17.20000</td>\n",
       "      <td>7.400000</td>\n",
       "      <td>45.171100</td>\n",
       "    </tr>\n",
       "    <tr>\n",
       "      <th>std</th>\n",
       "      <td>1.693683</td>\n",
       "      <td>1.697177</td>\n",
       "      <td>4.218557e-04</td>\n",
       "      <td>7.74459</td>\n",
       "      <td>1.111373</td>\n",
       "      <td>1.328883</td>\n",
       "      <td>7.774546</td>\n",
       "      <td>0.748801</td>\n",
       "      <td>42.819738</td>\n",
       "      <td>8.03635</td>\n",
       "      <td>4.095591</td>\n",
       "      <td>22.891445</td>\n",
       "    </tr>\n",
       "    <tr>\n",
       "      <th>min</th>\n",
       "      <td>-1.450000</td>\n",
       "      <td>-1.451897</td>\n",
       "      <td>4.068289e-08</td>\n",
       "      <td>5.00000</td>\n",
       "      <td>0.000000</td>\n",
       "      <td>0.000000</td>\n",
       "      <td>0.000000</td>\n",
       "      <td>0.000000</td>\n",
       "      <td>0.000000</td>\n",
       "      <td>4.00000</td>\n",
       "      <td>0.000000</td>\n",
       "      <td>0.000000</td>\n",
       "    </tr>\n",
       "    <tr>\n",
       "      <th>25%</th>\n",
       "      <td>1.007500</td>\n",
       "      <td>1.013632</td>\n",
       "      <td>8.889605e-05</td>\n",
       "      <td>12.00000</td>\n",
       "      <td>1.000000</td>\n",
       "      <td>0.000000</td>\n",
       "      <td>0.000000</td>\n",
       "      <td>0.000000</td>\n",
       "      <td>0.000000</td>\n",
       "      <td>12.00000</td>\n",
       "      <td>6.000000</td>\n",
       "      <td>33.333333</td>\n",
       "    </tr>\n",
       "    <tr>\n",
       "      <th>50%</th>\n",
       "      <td>2.080000</td>\n",
       "      <td>2.102471</td>\n",
       "      <td>4.012729e-04</td>\n",
       "      <td>16.00000</td>\n",
       "      <td>1.000000</td>\n",
       "      <td>0.000000</td>\n",
       "      <td>0.000000</td>\n",
       "      <td>1.000000</td>\n",
       "      <td>50.000000</td>\n",
       "      <td>16.00000</td>\n",
       "      <td>6.000000</td>\n",
       "      <td>46.153846</td>\n",
       "    </tr>\n",
       "    <tr>\n",
       "      <th>75%</th>\n",
       "      <td>3.280000</td>\n",
       "      <td>3.260056</td>\n",
       "      <td>7.838983e-04</td>\n",
       "      <td>21.00000</td>\n",
       "      <td>2.000000</td>\n",
       "      <td>1.000000</td>\n",
       "      <td>7.142857</td>\n",
       "      <td>1.000000</td>\n",
       "      <td>100.000000</td>\n",
       "      <td>19.00000</td>\n",
       "      <td>11.000000</td>\n",
       "      <td>60.277778</td>\n",
       "    </tr>\n",
       "    <tr>\n",
       "      <th>max</th>\n",
       "      <td>7.410000</td>\n",
       "      <td>7.417003</td>\n",
       "      <td>1.444783e-03</td>\n",
       "      <td>85.00000</td>\n",
       "      <td>7.000000</td>\n",
       "      <td>8.000000</td>\n",
       "      <td>47.058824</td>\n",
       "      <td>3.000000</td>\n",
       "      <td>100.000000</td>\n",
       "      <td>62.00000</td>\n",
       "      <td>22.000000</td>\n",
       "      <td>100.000000</td>\n",
       "    </tr>\n",
       "  </tbody>\n",
       "</table>\n",
       "</div>"
      ],
      "text/plain": [
       "       y_expected  y_predicted         error  atom_count  ring_count  \\\n",
       "count  200.000000   200.000000  2.000000e+02   200.00000  200.000000   \n",
       "mean     2.209600     2.209204  4.845448e-04    17.21500    1.645000   \n",
       "std      1.693683     1.697177  4.218557e-04     7.74459    1.111373   \n",
       "min     -1.450000    -1.451897  4.068289e-08     5.00000    0.000000   \n",
       "25%      1.007500     1.013632  8.889605e-05    12.00000    1.000000   \n",
       "50%      2.080000     2.102471  4.012729e-04    16.00000    1.000000   \n",
       "75%      3.280000     3.260056  7.838983e-04    21.00000    2.000000   \n",
       "max      7.410000     7.417003  1.444783e-03    85.00000    7.000000   \n",
       "\n",
       "       non_organogens_count  non_organogens_percent  aromatic_count  \\\n",
       "count            200.000000              200.000000      200.000000   \n",
       "mean               0.770000                4.669021        0.890000   \n",
       "std                1.328883                7.774546        0.748801   \n",
       "min                0.000000                0.000000        0.000000   \n",
       "25%                0.000000                0.000000        0.000000   \n",
       "50%                0.000000                0.000000        1.000000   \n",
       "75%                1.000000                7.142857        1.000000   \n",
       "max                8.000000               47.058824        3.000000   \n",
       "\n",
       "       aromatic_rings_percent  bond_count  aromatic_bond_count  \\\n",
       "count              200.000000   200.00000           200.000000   \n",
       "mean                54.859524    17.20000             7.400000   \n",
       "std                 42.819738     8.03635             4.095591   \n",
       "min                  0.000000     4.00000             0.000000   \n",
       "25%                  0.000000    12.00000             6.000000   \n",
       "50%                 50.000000    16.00000             6.000000   \n",
       "75%                100.000000    19.00000            11.000000   \n",
       "max                100.000000    62.00000            22.000000   \n",
       "\n",
       "       aromatic_bond_percent  \n",
       "count             200.000000  \n",
       "mean               45.171100  \n",
       "std                22.891445  \n",
       "min                 0.000000  \n",
       "25%                33.333333  \n",
       "50%                46.153846  \n",
       "75%                60.277778  \n",
       "max               100.000000  "
      ]
     },
     "execution_count": 40,
     "metadata": {},
     "output_type": "execute_result"
    }
   ],
   "source": [
    "best_n_vals.describe()"
   ]
  },
  {
   "cell_type": "code",
   "execution_count": 41,
   "metadata": {},
   "outputs": [
    {
     "data": {
      "text/html": [
       "<div>\n",
       "<style scoped>\n",
       "    .dataframe tbody tr th:only-of-type {\n",
       "        vertical-align: middle;\n",
       "    }\n",
       "\n",
       "    .dataframe tbody tr th {\n",
       "        vertical-align: top;\n",
       "    }\n",
       "\n",
       "    .dataframe thead th {\n",
       "        text-align: right;\n",
       "    }\n",
       "</style>\n",
       "<table border=\"1\" class=\"dataframe\">\n",
       "  <thead>\n",
       "    <tr style=\"text-align: right;\">\n",
       "      <th></th>\n",
       "      <th>y_expected</th>\n",
       "      <th>y_predicted</th>\n",
       "      <th>error</th>\n",
       "      <th>atom_count</th>\n",
       "      <th>ring_count</th>\n",
       "      <th>non_organogens_count</th>\n",
       "      <th>non_organogens_percent</th>\n",
       "      <th>aromatic_count</th>\n",
       "      <th>aromatic_rings_percent</th>\n",
       "      <th>bond_count</th>\n",
       "      <th>aromatic_bond_count</th>\n",
       "      <th>aromatic_bond_percent</th>\n",
       "    </tr>\n",
       "  </thead>\n",
       "  <tbody>\n",
       "    <tr>\n",
       "      <th>count</th>\n",
       "      <td>200.000000</td>\n",
       "      <td>200.000000</td>\n",
       "      <td>200.000000</td>\n",
       "      <td>200.000000</td>\n",
       "      <td>200.00000</td>\n",
       "      <td>200.000000</td>\n",
       "      <td>200.000000</td>\n",
       "      <td>200.000000</td>\n",
       "      <td>200.000000</td>\n",
       "      <td>200.000000</td>\n",
       "      <td>200.000000</td>\n",
       "      <td>200.000000</td>\n",
       "    </tr>\n",
       "    <tr>\n",
       "      <th>mean</th>\n",
       "      <td>1.934500</td>\n",
       "      <td>1.822607</td>\n",
       "      <td>1.703138</td>\n",
       "      <td>17.215000</td>\n",
       "      <td>1.74000</td>\n",
       "      <td>0.965000</td>\n",
       "      <td>5.997574</td>\n",
       "      <td>0.930000</td>\n",
       "      <td>54.027381</td>\n",
       "      <td>22.315000</td>\n",
       "      <td>8.155000</td>\n",
       "      <td>34.455727</td>\n",
       "    </tr>\n",
       "    <tr>\n",
       "      <th>std</th>\n",
       "      <td>2.266342</td>\n",
       "      <td>2.251652</td>\n",
       "      <td>3.272219</td>\n",
       "      <td>7.832979</td>\n",
       "      <td>1.24908</td>\n",
       "      <td>1.394092</td>\n",
       "      <td>8.975175</td>\n",
       "      <td>0.798931</td>\n",
       "      <td>41.697273</td>\n",
       "      <td>11.614658</td>\n",
       "      <td>7.093133</td>\n",
       "      <td>24.220594</td>\n",
       "    </tr>\n",
       "    <tr>\n",
       "      <th>min</th>\n",
       "      <td>-3.200000</td>\n",
       "      <td>-4.011827</td>\n",
       "      <td>0.577744</td>\n",
       "      <td>5.000000</td>\n",
       "      <td>0.00000</td>\n",
       "      <td>0.000000</td>\n",
       "      <td>0.000000</td>\n",
       "      <td>0.000000</td>\n",
       "      <td>0.000000</td>\n",
       "      <td>4.000000</td>\n",
       "      <td>0.000000</td>\n",
       "      <td>0.000000</td>\n",
       "    </tr>\n",
       "    <tr>\n",
       "      <th>25%</th>\n",
       "      <td>0.285000</td>\n",
       "      <td>-0.012417</td>\n",
       "      <td>0.727066</td>\n",
       "      <td>12.000000</td>\n",
       "      <td>1.00000</td>\n",
       "      <td>0.000000</td>\n",
       "      <td>0.000000</td>\n",
       "      <td>0.000000</td>\n",
       "      <td>0.000000</td>\n",
       "      <td>15.000000</td>\n",
       "      <td>5.000000</td>\n",
       "      <td>16.340125</td>\n",
       "    </tr>\n",
       "    <tr>\n",
       "      <th>50%</th>\n",
       "      <td>1.980000</td>\n",
       "      <td>1.570557</td>\n",
       "      <td>0.945777</td>\n",
       "      <td>15.000000</td>\n",
       "      <td>1.00000</td>\n",
       "      <td>0.500000</td>\n",
       "      <td>1.351351</td>\n",
       "      <td>1.000000</td>\n",
       "      <td>50.000000</td>\n",
       "      <td>21.000000</td>\n",
       "      <td>6.000000</td>\n",
       "      <td>36.607143</td>\n",
       "    </tr>\n",
       "    <tr>\n",
       "      <th>75%</th>\n",
       "      <td>3.620000</td>\n",
       "      <td>3.541126</td>\n",
       "      <td>1.503807</td>\n",
       "      <td>20.000000</td>\n",
       "      <td>2.00000</td>\n",
       "      <td>1.000000</td>\n",
       "      <td>8.423913</td>\n",
       "      <td>1.000000</td>\n",
       "      <td>100.000000</td>\n",
       "      <td>26.000000</td>\n",
       "      <td>12.000000</td>\n",
       "      <td>52.173913</td>\n",
       "    </tr>\n",
       "    <tr>\n",
       "      <th>max</th>\n",
       "      <td>8.030000</td>\n",
       "      <td>8.798494</td>\n",
       "      <td>41.695858</td>\n",
       "      <td>62.000000</td>\n",
       "      <td>8.00000</td>\n",
       "      <td>8.000000</td>\n",
       "      <td>50.000000</td>\n",
       "      <td>4.000000</td>\n",
       "      <td>100.000000</td>\n",
       "      <td>85.000000</td>\n",
       "      <td>36.000000</td>\n",
       "      <td>88.235294</td>\n",
       "    </tr>\n",
       "  </tbody>\n",
       "</table>\n",
       "</div>"
      ],
      "text/plain": [
       "       y_expected  y_predicted       error  atom_count  ring_count  \\\n",
       "count  200.000000   200.000000  200.000000  200.000000   200.00000   \n",
       "mean     1.934500     1.822607    1.703138   17.215000     1.74000   \n",
       "std      2.266342     2.251652    3.272219    7.832979     1.24908   \n",
       "min     -3.200000    -4.011827    0.577744    5.000000     0.00000   \n",
       "25%      0.285000    -0.012417    0.727066   12.000000     1.00000   \n",
       "50%      1.980000     1.570557    0.945777   15.000000     1.00000   \n",
       "75%      3.620000     3.541126    1.503807   20.000000     2.00000   \n",
       "max      8.030000     8.798494   41.695858   62.000000     8.00000   \n",
       "\n",
       "       non_organogens_count  non_organogens_percent  aromatic_count  \\\n",
       "count            200.000000              200.000000      200.000000   \n",
       "mean               0.965000                5.997574        0.930000   \n",
       "std                1.394092                8.975175        0.798931   \n",
       "min                0.000000                0.000000        0.000000   \n",
       "25%                0.000000                0.000000        0.000000   \n",
       "50%                0.500000                1.351351        1.000000   \n",
       "75%                1.000000                8.423913        1.000000   \n",
       "max                8.000000               50.000000        4.000000   \n",
       "\n",
       "       aromatic_rings_percent  bond_count  aromatic_bond_count  \\\n",
       "count              200.000000  200.000000           200.000000   \n",
       "mean                54.027381   22.315000             8.155000   \n",
       "std                 41.697273   11.614658             7.093133   \n",
       "min                  0.000000    4.000000             0.000000   \n",
       "25%                  0.000000   15.000000             5.000000   \n",
       "50%                 50.000000   21.000000             6.000000   \n",
       "75%                100.000000   26.000000            12.000000   \n",
       "max                100.000000   85.000000            36.000000   \n",
       "\n",
       "       aromatic_bond_percent  \n",
       "count             200.000000  \n",
       "mean               34.455727  \n",
       "std                24.220594  \n",
       "min                 0.000000  \n",
       "25%                16.340125  \n",
       "50%                36.607143  \n",
       "75%                52.173913  \n",
       "max                88.235294  "
      ]
     },
     "execution_count": 41,
     "metadata": {},
     "output_type": "execute_result"
    }
   ],
   "source": [
    "worst_n_vals.describe()"
   ]
  },
  {
   "cell_type": "markdown",
   "metadata": {},
   "source": [
    "### Check atom_count influence"
   ]
  },
  {
   "cell_type": "code",
   "execution_count": 42,
   "metadata": {},
   "outputs": [
    {
     "name": "stdout",
     "output_type": "stream",
     "text": [
      "Ttest_indResult(statistic=0.0, pvalue=1.0)\n"
     ]
    }
   ],
   "source": [
    "print(stats.ttest_ind(best_n_vals.atom_count, worst_n_vals.atom_count))"
   ]
  },
  {
   "cell_type": "code",
   "execution_count": 43,
   "metadata": {},
   "outputs": [
    {
     "data": {
      "text/plain": [
       "<matplotlib.axes._subplots.AxesSubplot at 0x1904d7abcf8>"
      ]
     },
     "execution_count": 43,
     "metadata": {},
     "output_type": "execute_result"
    },
    {
     "data": {
      "image/png": "[encoded data removed]",
      "text/plain": [
       "<Figure size 432x288 with 1 Axes>"
      ]
     },
     "metadata": {
      "needs_background": "light"
     },
     "output_type": "display_data"
    }
   ],
   "source": [
    "sns.distplot(best_n_vals.atom_count, color='g')\n",
    "sns.distplot(worst_n_vals.atom_count, color='r')"
   ]
  },
  {
   "cell_type": "markdown",
   "metadata": {},
   "source": [
    "### Check ring_count influence"
   ]
  },
  {
   "cell_type": "code",
   "execution_count": 44,
   "metadata": {},
   "outputs": [
    {
     "name": "stdout",
     "output_type": "stream",
     "text": [
      "Ttest_indResult(statistic=-0.8035638116135277, pvalue=0.42212858173672885)\n"
     ]
    }
   ],
   "source": [
    "print(stats.ttest_ind(best_n_vals.ring_count, worst_n_vals.ring_count))"
   ]
  },
  {
   "cell_type": "code",
   "execution_count": 45,
   "metadata": {},
   "outputs": [
    {
     "data": {
      "text/plain": [
       "<matplotlib.axes._subplots.AxesSubplot at 0x1904d690f28>"
      ]
     },
     "execution_count": 45,
     "metadata": {},
     "output_type": "execute_result"
    },
    {
     "data": {
      "image/png": "[encoded data removed]",
      "text/plain": [
       "<Figure size 432x288 with 1 Axes>"
      ]
     },
     "metadata": {
      "needs_background": "light"
     },
     "output_type": "display_data"
    }
   ],
   "source": [
    "sns.distplot(best_n_vals.ring_count, color='g')\n",
    "sns.distplot(worst_n_vals.ring_count, color='r')"
   ]
  },
  {
   "cell_type": "markdown",
   "metadata": {},
   "source": [
    "### Check non_organogens_count influence"
   ]
  },
  {
   "cell_type": "code",
   "execution_count": 46,
   "metadata": {},
   "outputs": [
    {
     "name": "stdout",
     "output_type": "stream",
     "text": [
      "Ttest_indResult(statistic=-1.4318465619010952, pvalue=0.15297257014122126)\n"
     ]
    }
   ],
   "source": [
    "print(stats.ttest_ind(best_n_vals.non_organogens_count, worst_n_vals.non_organogens_count))"
   ]
  },
  {
   "cell_type": "code",
   "execution_count": 47,
   "metadata": {},
   "outputs": [
    {
     "data": {
      "text/plain": [
       "<matplotlib.axes._subplots.AxesSubplot at 0x1904d2a3b00>"
      ]
     },
     "execution_count": 47,
     "metadata": {},
     "output_type": "execute_result"
    },
    {
     "data": {
      "image/png": "[encoded data removed]",
      "text/plain": [
       "<Figure size 432x288 with 1 Axes>"
      ]
     },
     "metadata": {
      "needs_background": "light"
     },
     "output_type": "display_data"
    }
   ],
   "source": [
    "sns.distplot(best_n_vals.non_organogens_count, color='g')\n",
    "sns.distplot(worst_n_vals.non_organogens_count, color='r')"
   ]
  },
  {
   "cell_type": "markdown",
   "metadata": {},
   "source": [
    "### Check non_organogens_percent influence"
   ]
  },
  {
   "cell_type": "code",
   "execution_count": 48,
   "metadata": {},
   "outputs": [
    {
     "name": "stdout",
     "output_type": "stream",
     "text": [
      "Ttest_indResult(statistic=-1.5822986469019884, pvalue=0.11437570676069782)\n"
     ]
    }
   ],
   "source": [
    "print(stats.ttest_ind(best_n_vals.non_organogens_percent, worst_n_vals.non_organogens_percent))"
   ]
  },
  {
   "cell_type": "code",
   "execution_count": 49,
   "metadata": {},
   "outputs": [
    {
     "data": {
      "text/plain": [
       "<matplotlib.axes._subplots.AxesSubplot at 0x1904d38c400>"
      ]
     },
     "execution_count": 49,
     "metadata": {},
     "output_type": "execute_result"
    },
    {
     "data": {
      "image/png": "[encoded data removed]",
      "text/plain": [
       "<Figure size 432x288 with 1 Axes>"
      ]
     },
     "metadata": {
      "needs_background": "light"
     },
     "output_type": "display_data"
    }
   ],
   "source": [
    "sns.distplot(best_n_vals.non_organogens_percent, color='g')\n",
    "sns.distplot(worst_n_vals.non_organogens_percent, color='r')"
   ]
  },
  {
   "cell_type": "markdown",
   "metadata": {},
   "source": [
    "### Check aromatic_count influence"
   ]
  },
  {
   "cell_type": "code",
   "execution_count": 50,
   "metadata": {},
   "outputs": [
    {
     "name": "stdout",
     "output_type": "stream",
     "text": [
      "Ttest_indResult(statistic=-0.5166141623990607, pvalue=0.6057124573972283)\n"
     ]
    }
   ],
   "source": [
    "print(stats.ttest_ind(best_n_vals.aromatic_count, worst_n_vals.aromatic_count))"
   ]
  },
  {
   "cell_type": "code",
   "execution_count": 51,
   "metadata": {},
   "outputs": [
    {
     "data": {
      "text/plain": [
       "<matplotlib.axes._subplots.AxesSubplot at 0x1904d35a0f0>"
      ]
     },
     "execution_count": 51,
     "metadata": {},
     "output_type": "execute_result"
    },
    {
     "data": {
      "image/png": "[encoded data removed]",
      "text/plain": [
       "<Figure size 432x288 with 1 Axes>"
      ]
     },
     "metadata": {
      "needs_background": "light"
     },
     "output_type": "display_data"
    }
   ],
   "source": [
    "sns.distplot(best_n_vals.aromatic_count, color='g')\n",
    "sns.distplot(worst_n_vals.aromatic_count, color='r')"
   ]
  },
  {
   "cell_type": "markdown",
   "metadata": {},
   "source": [
    "### Check aromatic_rings_percent influence"
   ]
  },
  {
   "cell_type": "code",
   "execution_count": 52,
   "metadata": {},
   "outputs": [
    {
     "name": "stdout",
     "output_type": "stream",
     "text": [
      "Ttest_indResult(statistic=0.1968998819098411, pvalue=0.8440063944744817)\n"
     ]
    }
   ],
   "source": [
    "print(stats.ttest_ind(best_n_vals.aromatic_rings_percent, worst_n_vals.aromatic_rings_percent))"
   ]
  },
  {
   "cell_type": "code",
   "execution_count": 53,
   "metadata": {},
   "outputs": [
    {
     "data": {
      "text/plain": [
       "<matplotlib.axes._subplots.AxesSubplot at 0x1904d4f38d0>"
      ]
     },
     "execution_count": 53,
     "metadata": {},
     "output_type": "execute_result"
    },
    {
     "data": {
      "image/png": "[encoded data removed]",
      "text/plain": [
       "<Figure size 432x288 with 1 Axes>"
      ]
     },
     "metadata": {
      "needs_background": "light"
     },
     "output_type": "display_data"
    }
   ],
   "source": [
    "sns.distplot(best_n_vals.aromatic_rings_percent, color='g')\n",
    "sns.distplot(worst_n_vals.aromatic_rings_percent, color='r')"
   ]
  },
  {
   "cell_type": "markdown",
   "metadata": {},
   "source": [
    "### Check aromatic bond percent"
   ]
  },
  {
   "cell_type": "code",
   "execution_count": 54,
   "metadata": {},
   "outputs": [
    {
     "name": "stdout",
     "output_type": "stream",
     "text": [
      "Ttest_indResult(statistic=4.547080291175696, pvalue=7.229273026414917e-06)\n"
     ]
    }
   ],
   "source": [
    "print(stats.ttest_ind(best_n_vals.aromatic_bond_percent, worst_n_vals.aromatic_bond_percent))"
   ]
  },
  {
   "cell_type": "code",
   "execution_count": 55,
   "metadata": {},
   "outputs": [
    {
     "data": {
      "text/plain": [
       "<matplotlib.axes._subplots.AxesSubplot at 0x1904d779c50>"
      ]
     },
     "execution_count": 55,
     "metadata": {},
     "output_type": "execute_result"
    },
    {
     "data": {
      "image/png": "[encoded data removed]",
      "text/plain": [
       "<Figure size 432x288 with 1 Axes>"
      ]
     },
     "metadata": {
      "needs_background": "light"
     },
     "output_type": "display_data"
    }
   ],
   "source": [
    "sns.distplot(best_n_vals.aromatic_bond_percent, color='g')\n",
    "sns.distplot(worst_n_vals.aromatic_bond_percent, color='r')"
   ]
  },
  {
   "cell_type": "markdown",
   "metadata": {},
   "source": [
    "### Check aromatic bond count"
   ]
  },
  {
   "cell_type": "code",
   "execution_count": 56,
   "metadata": {},
   "outputs": [
    {
     "name": "stdout",
     "output_type": "stream",
     "text": [
      "Ttest_indResult(statistic=-1.3036009942433708, pvalue=0.19312319734178118)\n"
     ]
    }
   ],
   "source": [
    "print(stats.ttest_ind(best_n_vals.aromatic_bond_count, worst_n_vals.aromatic_bond_count))"
   ]
  },
  {
   "cell_type": "code",
   "execution_count": 57,
   "metadata": {},
   "outputs": [
    {
     "data": {
      "text/plain": [
       "<matplotlib.axes._subplots.AxesSubplot at 0x1904d7791d0>"
      ]
     },
     "execution_count": 57,
     "metadata": {},
     "output_type": "execute_result"
    },
    {
     "data": {
      "image/png": "[encoded data removed]",
      "text/plain": [
       "<Figure size 432x288 with 1 Axes>"
      ]
     },
     "metadata": {
      "needs_background": "light"
     },
     "output_type": "display_data"
    }
   ],
   "source": [
    "sns.distplot(best_n_vals.aromatic_bond_count, color='g')\n",
    "sns.distplot(worst_n_vals.aromatic_bond_count, color='r')"
   ]
  },
  {
   "cell_type": "code",
   "execution_count": null,
   "metadata": {},
   "outputs": [],
   "source": []
  },
  {
   "cell_type": "markdown",
   "metadata": {},
   "source": [
    "### Check symmetric count"
   ]
  },
  {
   "cell_type": "code",
   "execution_count": 58,
   "metadata": {},
   "outputs": [
    {
     "data": {
      "text/plain": [
       "<matplotlib.axes._subplots.AxesSubplot at 0x19052869a58>"
      ]
     },
     "execution_count": 58,
     "metadata": {},
     "output_type": "execute_result"
    },
    {
     "data": {
      "image/png": "[encoded data removed]",
      "text/plain": [
       "<Figure size 432x288 with 1 Axes>"
      ]
     },
     "metadata": {
      "needs_background": "light"
     },
     "output_type": "display_data"
    }
   ],
   "source": [
    "sns.distplot(best_n_vals.is_symmetric, color='g')\n",
    "sns.distplot(worst_n_vals.is_symmetric, color='r')"
   ]
  },
  {
   "cell_type": "markdown",
   "metadata": {},
   "source": [
    "### Metrics analysis among symmetric and not symmetric molecules"
   ]
  },
  {
   "cell_type": "code",
   "execution_count": 59,
   "metadata": {},
   "outputs": [],
   "source": [
    "symmetric_rull = lambda values: (len(values) - 1 <= len(values[values % 2 == 0])) or (len(values) - 1 <= len(values[(values % 2 == 1) & (values > 1)]))"
   ]
  },
  {
   "cell_type": "code",
   "execution_count": 67,
   "metadata": {},
   "outputs": [],
   "source": [
    "X_test_mol = [Chem.MolFromSmiles(x) for x in compare_data.smiles]"
   ]
  },
  {
   "cell_type": "code",
   "execution_count": 68,
   "metadata": {},
   "outputs": [],
   "source": [
    "values_list = [pd.Series(Chem.CanonicalRankAtoms(mol, breakTies=False)).value_counts() for mol in X_test_mol]\n",
    "symmetric_indices = [symmetric_rull(values) for values in values_list]\n",
    "not_symmetric_indices = [not e for e in symmetric_indices]"
   ]
  },
  {
   "cell_type": "code",
   "execution_count": 69,
   "metadata": {},
   "outputs": [],
   "source": [
    "symmetric_y_predicted = compare_data.y_predicted[symmetric_indices]"
   ]
  },
  {
   "cell_type": "code",
   "execution_count": 70,
   "metadata": {},
   "outputs": [],
   "source": [
    "symmetric_y_expected = compare_data.y_expected[symmetric_indices]"
   ]
  },
  {
   "cell_type": "code",
   "execution_count": 71,
   "metadata": {},
   "outputs": [],
   "source": [
    "not_symmetric_y_predicted = compare_data.y_predicted[not_symmetric_indices]"
   ]
  },
  {
   "cell_type": "code",
   "execution_count": 72,
   "metadata": {},
   "outputs": [],
   "source": [
    "not_symmetric_y_expected = compare_data.y_expected[not_symmetric_indices]"
   ]
  },
  {
   "cell_type": "code",
   "execution_count": 73,
   "metadata": {},
   "outputs": [
    {
     "name": "stdout",
     "output_type": "stream",
     "text": [
      "Test symmetric RMSE = 0.7332186035164977\n",
      "Test symmetric R2-score is 0.8985188741518493\n"
     ]
    }
   ],
   "source": [
    "print(\"Test symmetric RMSE =\", mean_squared_error(symmetric_y_expected, symmetric_y_predicted, squared=False))\n",
    "print(\"Test symmetric R2-score is {0}\".format(r2_score(symmetric_y_expected, symmetric_y_predicted)))"
   ]
  },
  {
   "cell_type": "code",
   "execution_count": 74,
   "metadata": {},
   "outputs": [
    {
     "name": "stdout",
     "output_type": "stream",
     "text": [
      "Test not symmetric RMSE = 0.49968832921228606\n",
      "Test not symmetric R2-score is 0.923587454307586\n"
     ]
    }
   ],
   "source": [
    "print(\"Test not symmetric RMSE =\", mean_squared_error(not_symmetric_y_expected, not_symmetric_y_predicted, squared=False))\n",
    "print(\"Test not symmetric R2-score is {0}\".format(r2_score(not_symmetric_y_expected, not_symmetric_y_predicted)))"
   ]
  },
  {
   "cell_type": "code",
   "execution_count": null,
   "metadata": {},
   "outputs": [],
   "source": []
  }
 ],
 "metadata": {
  "kernelspec": {
   "display_name": "chemvae",
   "language": "python",
   "name": "chemvae"
  },
  "language_info": {
   "codemirror_mode": {
    "name": "ipython",
    "version": 3
   },
   "file_extension": ".py",
   "mimetype": "text/x-python",
   "name": "python",
   "nbconvert_exporter": "python",
   "pygments_lexer": "ipython3",
   "version": "3.6.10"
  }
 },
 "nbformat": 4,
 "nbformat_minor": 4
}
