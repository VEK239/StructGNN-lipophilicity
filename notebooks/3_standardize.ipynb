{
 "cells": [
  {
   "cell_type": "code",
   "execution_count": 1,
   "metadata": {
    "collapsed": true,
    "pycharm": {
     "name": "#%%\n"
    }
   },
   "outputs": [
    {
     "name": "stderr",
     "output_type": "stream",
     "text": [
      "RDKit WARNING: [13:35:15] Enabling RDKit 2019.09.1 jupyter extensions\n",
      "2020-06-24 13:35:15.695 | INFO     | scripts.preprocess.standardize_smiles:standardize:38 - Processing logp.csv\n",
      "100%|██████████| 1493/1493 [00:44<00:00, 33.36it/s] \n"
     ]
    }
   ],
   "source": [
    "from pathlib import Path\n",
    "from scripts.preprocess.standardize_smiles import StandardizeTautomers\n",
    "\n",
    "INPUT_PATH = Path(\"../data/1_filtering\")\n",
    "OUTPUT_PATH = Path(\"../data/2_standardize\")\n",
    "\n",
    "StandardizeTautomers().standardize(INPUT_PATH, OUTPUT_PATH)\n"
   ]
  }
 ],
 "metadata": {
  "kernelspec": {
   "display_name": "Python 3",
   "language": "python",
   "name": "python3"
  },
  "language_info": {
   "codemirror_mode": {
    "name": "ipython",
    "version": 3
   },
   "file_extension": ".py",
   "mimetype": "text/x-python",
   "name": "python",
   "nbconvert_exporter": "python",
   "pygments_lexer": "ipython3",
   "version": "3.7.6"
  }
 },
 "nbformat": 4,
 "nbformat_minor": 1
}
