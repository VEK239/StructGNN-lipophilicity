{
 "cells": [
  {
   "cell_type": "markdown",
   "metadata": {},
   "source": [
    "#  LogP+pH dataset normalizing. Categorial pH generating."
   ]
  },
  {
   "cell_type": "markdown",
   "metadata": {},
   "source": [
    "## Summary\n",
    "### Usual pH\n",
    "- There are 2407 records\n",
    "- Only 1348 unique smiles\n",
    "- 2394 records with unique smiles+pH\n",
    "- 6 molecules with pH=7.0 had std > 1. They were dropped. The rest was avaraged.\n",
    "- All in all, 2388 records of smiles+logP+pH\n",
    "\n",
    "### Categorized pH\n",
    "- Categorazation of pH was made according to the rule: \n",
    "  - pH < 6 => acid (0)\n",
    "  - 6 <= pH < 8 => neutral (1)\n",
    "  - ph >= 8 => alkali (2)\n",
    "- After dropping duplicates there were no records with unique smiles+pH_range and variation of logP > 1\n",
    "- All the records were averaged.\n",
    "- All in all, there 1504 unique records left.\n",
    "- Environments:\n",
    "  - 0 - 594\n",
    "  - 1 - 677\n",
    "  - 2 - 233\n",
    "- LogP distribution plot in neutral environment is more \"left\", than in acidic/alcalic"
   ]
  },
  {
   "cell_type": "code",
   "execution_count": 1,
   "metadata": {},
   "outputs": [],
   "source": [
    "import numpy as np\n",
    "import pandas as pd\n",
    "import os\n",
    "import seaborn as sns\n",
    "from pathlib import Path\n",
    "import matplotlib.pyplot as plt\n",
    "\n",
    "DATA_PATH = \"../data/3_final_data/\""
   ]
  },
  {
   "cell_type": "code",
   "execution_count": 2,
   "metadata": {},
   "outputs": [
    {
     "data": {
      "text/html": [
       "<div>\n",
       "<style scoped>\n",
       "    .dataframe tbody tr th:only-of-type {\n",
       "        vertical-align: middle;\n",
       "    }\n",
       "\n",
       "    .dataframe tbody tr th {\n",
       "        vertical-align: top;\n",
       "    }\n",
       "\n",
       "    .dataframe thead th {\n",
       "        text-align: right;\n",
       "    }\n",
       "</style>\n",
       "<table border=\"1\" class=\"dataframe\">\n",
       "  <thead>\n",
       "    <tr style=\"text-align: right;\">\n",
       "      <th></th>\n",
       "      <th>smiles</th>\n",
       "      <th>logP</th>\n",
       "      <th>pH</th>\n",
       "    </tr>\n",
       "  </thead>\n",
       "  <tbody>\n",
       "    <tr>\n",
       "      <th>0</th>\n",
       "      <td>COc1ccccc1[C@@H]1CC(=O)Nc2cc(C)c(C)cc21</td>\n",
       "      <td>4.17</td>\n",
       "      <td>5.0</td>\n",
       "    </tr>\n",
       "    <tr>\n",
       "      <th>1</th>\n",
       "      <td>COc1ccc2c(c1)O[C@](O)(C(F)(F)F)CC2=O</td>\n",
       "      <td>2.79</td>\n",
       "      <td>5.0</td>\n",
       "    </tr>\n",
       "    <tr>\n",
       "      <th>2</th>\n",
       "      <td>CC(C)(C)C1(C)OC(C(N)=O)C(C(N)=O)O1</td>\n",
       "      <td>1.60</td>\n",
       "      <td>6.5</td>\n",
       "    </tr>\n",
       "    <tr>\n",
       "      <th>3</th>\n",
       "      <td>CCOc1cc(-c2nnc(-c3ccco3)o2)cc(OCC)c1OCC</td>\n",
       "      <td>3.96</td>\n",
       "      <td>10.5</td>\n",
       "    </tr>\n",
       "    <tr>\n",
       "      <th>4</th>\n",
       "      <td>C=C(c1ccc(N(C)C)cc1)c1ccc(N(C)C)cc1</td>\n",
       "      <td>5.30</td>\n",
       "      <td>7.3</td>\n",
       "    </tr>\n",
       "  </tbody>\n",
       "</table>\n",
       "</div>"
      ],
      "text/plain": [
       "                                    smiles  logP    pH\n",
       "0  COc1ccccc1[C@@H]1CC(=O)Nc2cc(C)c(C)cc21  4.17   5.0\n",
       "1     COc1ccc2c(c1)O[C@](O)(C(F)(F)F)CC2=O  2.79   5.0\n",
       "2       CC(C)(C)C1(C)OC(C(N)=O)C(C(N)=O)O1  1.60   6.5\n",
       "3  CCOc1cc(-c2nnc(-c3ccco3)o2)cc(OCC)c1OCC  3.96  10.5\n",
       "4      C=C(c1ccc(N(C)C)cc1)c1ccc(N(C)C)cc1  5.30   7.3"
      ]
     },
     "execution_count": 2,
     "metadata": {},
     "output_type": "execute_result"
    }
   ],
   "source": [
    "logp_ph_data = pd.read_csv(DATA_PATH + 'logP_pH.csv')\n",
    "logp_ph_data.head()"
   ]
  },
  {
   "cell_type": "code",
   "execution_count": 3,
   "metadata": {},
   "outputs": [
    {
     "data": {
      "text/plain": [
       "(2407, 3)"
      ]
     },
     "execution_count": 3,
     "metadata": {},
     "output_type": "execute_result"
    }
   ],
   "source": [
    "logp_ph_data.shape"
   ]
  },
  {
   "cell_type": "code",
   "execution_count": 4,
   "metadata": {},
   "outputs": [
    {
     "data": {
      "text/plain": [
       "1348"
      ]
     },
     "execution_count": 4,
     "metadata": {},
     "output_type": "execute_result"
    }
   ],
   "source": [
    "logp_ph_data.smiles.nunique()"
   ]
  },
  {
   "cell_type": "code",
   "execution_count": 5,
   "metadata": {},
   "outputs": [
    {
     "data": {
      "text/plain": [
       "<matplotlib.axes._subplots.AxesSubplot at 0x1aadc1a4ba8>"
      ]
     },
     "execution_count": 5,
     "metadata": {},
     "output_type": "execute_result"
    },
    {
     "data": {
      "image/png": "[encoded data removed]",
      "text/plain": [
       "<Figure size 432x288 with 1 Axes>"
      ]
     },
     "metadata": {
      "needs_background": "light"
     },
     "output_type": "display_data"
    }
   ],
   "source": [
    "sns.distplot(logp_ph_data.pH)"
   ]
  },
  {
   "cell_type": "code",
   "execution_count": 6,
   "metadata": {},
   "outputs": [
    {
     "data": {
      "text/html": [
       "<div>\n",
       "<style scoped>\n",
       "    .dataframe tbody tr th:only-of-type {\n",
       "        vertical-align: middle;\n",
       "    }\n",
       "\n",
       "    .dataframe tbody tr th {\n",
       "        vertical-align: top;\n",
       "    }\n",
       "\n",
       "    .dataframe thead th {\n",
       "        text-align: right;\n",
       "    }\n",
       "</style>\n",
       "<table border=\"1\" class=\"dataframe\">\n",
       "  <thead>\n",
       "    <tr style=\"text-align: right;\">\n",
       "      <th></th>\n",
       "      <th>smiles</th>\n",
       "      <th>pH</th>\n",
       "      <th>logP</th>\n",
       "    </tr>\n",
       "  </thead>\n",
       "  <tbody>\n",
       "    <tr>\n",
       "      <th>177</th>\n",
       "      <td>CC(C)C(N)C(=O)NC(C(=O)O)C(C)C</td>\n",
       "      <td>7.0</td>\n",
       "      <td>3.12500</td>\n",
       "    </tr>\n",
       "    <tr>\n",
       "      <th>454</th>\n",
       "      <td>CCC(C)C(NC(=O)C(N)CC(C)C)C(=O)O</td>\n",
       "      <td>7.0</td>\n",
       "      <td>2.69120</td>\n",
       "    </tr>\n",
       "    <tr>\n",
       "      <th>203</th>\n",
       "      <td>CC(C)CC(N)C(=O)NC(C(=O)O)C(C)C</td>\n",
       "      <td>7.0</td>\n",
       "      <td>2.66805</td>\n",
       "    </tr>\n",
       "    <tr>\n",
       "      <th>1393</th>\n",
       "      <td>CSCCC(N)C(=O)NC(C(=O)O)C(C)C</td>\n",
       "      <td>7.0</td>\n",
       "      <td>2.53125</td>\n",
       "    </tr>\n",
       "    <tr>\n",
       "      <th>243</th>\n",
       "      <td>CC(C)CC(NC(=O)C(N)Cc1ccc(O)cc1)C(=O)O</td>\n",
       "      <td>7.0</td>\n",
       "      <td>2.14245</td>\n",
       "    </tr>\n",
       "    <tr>\n",
       "      <th>1371</th>\n",
       "      <td>COc1nc(=NC(=O)NS(=O)(=O)c2ccccc2OCCCl)nc(C)[nH]1</td>\n",
       "      <td>7.0</td>\n",
       "      <td>1.42805</td>\n",
       "    </tr>\n",
       "    <tr>\n",
       "      <th>2313</th>\n",
       "      <td>O=c1[nH]c2c(O)ccc(CCNCCCSCCOCCc3ccccc3)c2s1</td>\n",
       "      <td>7.4</td>\n",
       "      <td>0.74420</td>\n",
       "    </tr>\n",
       "    <tr>\n",
       "      <th>116</th>\n",
       "      <td>CC(C(=O)O)c1ccc(-c2ccccc2)c(F)c1</td>\n",
       "      <td>4.0</td>\n",
       "      <td>0.21125</td>\n",
       "    </tr>\n",
       "    <tr>\n",
       "      <th>2294</th>\n",
       "      <td>O=c1[nH]c2c(O)ccc(CCNCCCS(=O)(=O)CCCOCCc3ccccc...</td>\n",
       "      <td>7.4</td>\n",
       "      <td>0.04805</td>\n",
       "    </tr>\n",
       "    <tr>\n",
       "      <th>138</th>\n",
       "      <td>CC(C(=O)O)c1cccc(C(=O)c2ccccc2)c1</td>\n",
       "      <td>2.0</td>\n",
       "      <td>0.01960</td>\n",
       "    </tr>\n",
       "    <tr>\n",
       "      <th>104</th>\n",
       "      <td>CC(C(=O)O)c1ccc(-c2ccccc2)c(F)c1</td>\n",
       "      <td>2.0</td>\n",
       "      <td>0.01445</td>\n",
       "    </tr>\n",
       "    <tr>\n",
       "      <th>147</th>\n",
       "      <td>CC(C(=O)O)c1cccc(C(=O)c2ccccc2)c1</td>\n",
       "      <td>5.0</td>\n",
       "      <td>0.00080</td>\n",
       "    </tr>\n",
       "    <tr>\n",
       "      <th>0</th>\n",
       "      <td>C#CC1(O)CCC2C3CCC4=Cc5oncc5CC4(C)C3CCC21C</td>\n",
       "      <td>7.5</td>\n",
       "      <td>NaN</td>\n",
       "    </tr>\n",
       "    <tr>\n",
       "      <th>1</th>\n",
       "      <td>C#CCN1C(=O)C2CC[C@@](C)(C1=O)C2(C)C</td>\n",
       "      <td>5.0</td>\n",
       "      <td>NaN</td>\n",
       "    </tr>\n",
       "    <tr>\n",
       "      <th>2</th>\n",
       "      <td>C#CCOc1c(I)cc(C=C2C(=O)N(C)C(=S)N(C)C2=O)cc1OCC</td>\n",
       "      <td>5.0</td>\n",
       "      <td>NaN</td>\n",
       "    </tr>\n",
       "    <tr>\n",
       "      <th>3</th>\n",
       "      <td>C#CCOc1ccc(C2C3=C(CC(C)(C)CC3=O)OC3=C2C(=O)CC(...</td>\n",
       "      <td>5.0</td>\n",
       "      <td>NaN</td>\n",
       "    </tr>\n",
       "    <tr>\n",
       "      <th>4</th>\n",
       "      <td>C#Cc1cccc(NC(=O)c2cc(C(=O)Nc3cccc(C#C)c3)cc(N3...</td>\n",
       "      <td>5.0</td>\n",
       "      <td>NaN</td>\n",
       "    </tr>\n",
       "    <tr>\n",
       "      <th>5</th>\n",
       "      <td>C(=C/c1ccccc1)\\CN1CCN(C(c2ccccc2)c2ccccc2)CC1</td>\n",
       "      <td>4.5</td>\n",
       "      <td>NaN</td>\n",
       "    </tr>\n",
       "    <tr>\n",
       "      <th>6</th>\n",
       "      <td>C(=N/n1cnnc1)\\c1ccc(-n2nc(-c3ccccc3)cc2-c2cccc...</td>\n",
       "      <td>10.0</td>\n",
       "      <td>NaN</td>\n",
       "    </tr>\n",
       "    <tr>\n",
       "      <th>7</th>\n",
       "      <td>C/C(=C\\c1ccco1)[C@@H]1c2c(-c3ccccc3)n[nH]c2OC(...</td>\n",
       "      <td>10.5</td>\n",
       "      <td>NaN</td>\n",
       "    </tr>\n",
       "  </tbody>\n",
       "</table>\n",
       "</div>"
      ],
      "text/plain": [
       "                                                 smiles    pH     logP\n",
       "177                       CC(C)C(N)C(=O)NC(C(=O)O)C(C)C   7.0  3.12500\n",
       "454                     CCC(C)C(NC(=O)C(N)CC(C)C)C(=O)O   7.0  2.69120\n",
       "203                      CC(C)CC(N)C(=O)NC(C(=O)O)C(C)C   7.0  2.66805\n",
       "1393                       CSCCC(N)C(=O)NC(C(=O)O)C(C)C   7.0  2.53125\n",
       "243               CC(C)CC(NC(=O)C(N)Cc1ccc(O)cc1)C(=O)O   7.0  2.14245\n",
       "1371   COc1nc(=NC(=O)NS(=O)(=O)c2ccccc2OCCCl)nc(C)[nH]1   7.0  1.42805\n",
       "2313        O=c1[nH]c2c(O)ccc(CCNCCCSCCOCCc3ccccc3)c2s1   7.4  0.74420\n",
       "116                    CC(C(=O)O)c1ccc(-c2ccccc2)c(F)c1   4.0  0.21125\n",
       "2294  O=c1[nH]c2c(O)ccc(CCNCCCS(=O)(=O)CCCOCCc3ccccc...   7.4  0.04805\n",
       "138                   CC(C(=O)O)c1cccc(C(=O)c2ccccc2)c1   2.0  0.01960\n",
       "104                    CC(C(=O)O)c1ccc(-c2ccccc2)c(F)c1   2.0  0.01445\n",
       "147                   CC(C(=O)O)c1cccc(C(=O)c2ccccc2)c1   5.0  0.00080\n",
       "0             C#CC1(O)CCC2C3CCC4=Cc5oncc5CC4(C)C3CCC21C   7.5      NaN\n",
       "1                   C#CCN1C(=O)C2CC[C@@](C)(C1=O)C2(C)C   5.0      NaN\n",
       "2       C#CCOc1c(I)cc(C=C2C(=O)N(C)C(=S)N(C)C2=O)cc1OCC   5.0      NaN\n",
       "3     C#CCOc1ccc(C2C3=C(CC(C)(C)CC3=O)OC3=C2C(=O)CC(...   5.0      NaN\n",
       "4     C#Cc1cccc(NC(=O)c2cc(C(=O)Nc3cccc(C#C)c3)cc(N3...   5.0      NaN\n",
       "5         C(=C/c1ccccc1)\\CN1CCN(C(c2ccccc2)c2ccccc2)CC1   4.5      NaN\n",
       "6     C(=N/n1cnnc1)\\c1ccc(-n2nc(-c3ccccc3)cc2-c2cccc...  10.0      NaN\n",
       "7     C/C(=C\\c1ccco1)[C@@H]1c2c(-c3ccccc3)n[nH]c2OC(...  10.5      NaN"
      ]
     },
     "execution_count": 6,
     "metadata": {},
     "output_type": "execute_result"
    }
   ],
   "source": [
    "logp_ph_data.groupby(['smiles', 'pH'], as_index=False).agg('var').sort_values(by=['logP'], ascending=False).head(20)"
   ]
  },
  {
   "cell_type": "code",
   "execution_count": 7,
   "metadata": {},
   "outputs": [
    {
     "data": {
      "text/plain": [
       "2.1517201308778215"
      ]
     },
     "execution_count": 7,
     "metadata": {},
     "output_type": "execute_result"
    }
   ],
   "source": [
    "logp_ph_data[~logp_ph_data['smiles'].duplicated(keep=False)].pH.std()"
   ]
  },
  {
   "cell_type": "code",
   "execution_count": 35,
   "metadata": {},
   "outputs": [
    {
     "data": {
      "text/html": [
       "<div>\n",
       "<style scoped>\n",
       "    .dataframe tbody tr th:only-of-type {\n",
       "        vertical-align: middle;\n",
       "    }\n",
       "\n",
       "    .dataframe tbody tr th {\n",
       "        vertical-align: top;\n",
       "    }\n",
       "\n",
       "    .dataframe thead th {\n",
       "        text-align: right;\n",
       "    }\n",
       "</style>\n",
       "<table border=\"1\" class=\"dataframe\">\n",
       "  <thead>\n",
       "    <tr style=\"text-align: right;\">\n",
       "      <th></th>\n",
       "      <th></th>\n",
       "      <th>logP_var</th>\n",
       "      <th>logP_count</th>\n",
       "    </tr>\n",
       "    <tr>\n",
       "      <th>smiles</th>\n",
       "      <th>pH</th>\n",
       "      <th></th>\n",
       "      <th></th>\n",
       "    </tr>\n",
       "  </thead>\n",
       "  <tbody>\n",
       "    <tr>\n",
       "      <th>CC(C)C(N)C(=O)NC(C(=O)O)C(C)C</th>\n",
       "      <th>7.0</th>\n",
       "      <td>3.12500</td>\n",
       "      <td>2</td>\n",
       "    </tr>\n",
       "    <tr>\n",
       "      <th>CCC(C)C(NC(=O)C(N)CC(C)C)C(=O)O</th>\n",
       "      <th>7.0</th>\n",
       "      <td>2.69120</td>\n",
       "      <td>2</td>\n",
       "    </tr>\n",
       "    <tr>\n",
       "      <th>CC(C)CC(N)C(=O)NC(C(=O)O)C(C)C</th>\n",
       "      <th>7.0</th>\n",
       "      <td>2.66805</td>\n",
       "      <td>2</td>\n",
       "    </tr>\n",
       "    <tr>\n",
       "      <th>CSCCC(N)C(=O)NC(C(=O)O)C(C)C</th>\n",
       "      <th>7.0</th>\n",
       "      <td>2.53125</td>\n",
       "      <td>2</td>\n",
       "    </tr>\n",
       "    <tr>\n",
       "      <th>CC(C)CC(NC(=O)C(N)Cc1ccc(O)cc1)C(=O)O</th>\n",
       "      <th>7.0</th>\n",
       "      <td>2.14245</td>\n",
       "      <td>2</td>\n",
       "    </tr>\n",
       "    <tr>\n",
       "      <th>COc1nc(=NC(=O)NS(=O)(=O)c2ccccc2OCCCl)nc(C)[nH]1</th>\n",
       "      <th>7.0</th>\n",
       "      <td>1.42805</td>\n",
       "      <td>2</td>\n",
       "    </tr>\n",
       "    <tr>\n",
       "      <th>O=c1[nH]c2c(O)ccc(CCNCCCSCCOCCc3ccccc3)c2s1</th>\n",
       "      <th>7.4</th>\n",
       "      <td>0.74420</td>\n",
       "      <td>2</td>\n",
       "    </tr>\n",
       "    <tr>\n",
       "      <th>CC(C(=O)O)c1ccc(-c2ccccc2)c(F)c1</th>\n",
       "      <th>4.0</th>\n",
       "      <td>0.21125</td>\n",
       "      <td>2</td>\n",
       "    </tr>\n",
       "    <tr>\n",
       "      <th>O=c1[nH]c2c(O)ccc(CCNCCCS(=O)(=O)CCCOCCc3ccccc3)c2s1</th>\n",
       "      <th>7.4</th>\n",
       "      <td>0.04805</td>\n",
       "      <td>2</td>\n",
       "    </tr>\n",
       "    <tr>\n",
       "      <th>CC(C(=O)O)c1cccc(C(=O)c2ccccc2)c1</th>\n",
       "      <th>2.0</th>\n",
       "      <td>0.01960</td>\n",
       "      <td>3</td>\n",
       "    </tr>\n",
       "  </tbody>\n",
       "</table>\n",
       "</div>"
      ],
      "text/plain": [
       "                                                        logP_var  logP_count\n",
       "smiles                                             pH                       \n",
       "CC(C)C(N)C(=O)NC(C(=O)O)C(C)C                      7.0   3.12500           2\n",
       "CCC(C)C(NC(=O)C(N)CC(C)C)C(=O)O                    7.0   2.69120           2\n",
       "CC(C)CC(N)C(=O)NC(C(=O)O)C(C)C                     7.0   2.66805           2\n",
       "CSCCC(N)C(=O)NC(C(=O)O)C(C)C                       7.0   2.53125           2\n",
       "CC(C)CC(NC(=O)C(N)Cc1ccc(O)cc1)C(=O)O              7.0   2.14245           2\n",
       "COc1nc(=NC(=O)NS(=O)(=O)c2ccccc2OCCCl)nc(C)[nH]1   7.0   1.42805           2\n",
       "O=c1[nH]c2c(O)ccc(CCNCCCSCCOCCc3ccccc3)c2s1        7.4   0.74420           2\n",
       "CC(C(=O)O)c1ccc(-c2ccccc2)c(F)c1                   4.0   0.21125           2\n",
       "O=c1[nH]c2c(O)ccc(CCNCCCS(=O)(=O)CCCOCCc3ccccc3... 7.4   0.04805           2\n",
       "CC(C(=O)O)c1cccc(C(=O)c2ccccc2)c1                  2.0   0.01960           3"
      ]
     },
     "execution_count": 35,
     "metadata": {},
     "output_type": "execute_result"
    }
   ],
   "source": [
    "grouped_data = logp_ph_data.groupby(['smiles', 'pH']).agg(logP_var=('logP', 'var'), \n",
    "                                       logP_count=('logP', 'count')).sort_values(by=['logP_var', 'logP_count'], ascending=False)\n",
    "grouped_data.head(10)"
   ]
  },
  {
   "cell_type": "code",
   "execution_count": 9,
   "metadata": {},
   "outputs": [
    {
     "data": {
      "text/plain": [
       "(2394, 2)"
      ]
     },
     "execution_count": 9,
     "metadata": {},
     "output_type": "execute_result"
    }
   ],
   "source": [
    "grouped_data.shape"
   ]
  },
  {
   "cell_type": "code",
   "execution_count": 10,
   "metadata": {},
   "outputs": [],
   "source": [
    "bad_smiles = ['CC(C)C(N)C(=O)NC(C(=O)O)C(C)C',\n",
    "'CCC(C)C(NC(=O)C(N)CC(C)C)C(=O)O',\n",
    "'CC(C)CC(N)C(=O)NC(C(=O)O)C(C)C',\n",
    "'CSCCC(N)C(=O)NC(C(=O)O)C(C)C',\n",
    "'CC(C)CC(NC(=O)C(N)Cc1ccc(O)cc1)C(=O)O',\n",
    "'COc1nc(=NC(=O)NS(=O)(=O)c2ccccc2OCCCl)nc(C)[nH]1']"
   ]
  },
  {
   "cell_type": "code",
   "execution_count": 11,
   "metadata": {},
   "outputs": [
    {
     "data": {
      "text/plain": [
       "(2395, 3)"
      ]
     },
     "execution_count": 11,
     "metadata": {},
     "output_type": "execute_result"
    }
   ],
   "source": [
    "logp_ph_verified_data = logp_ph_data[(~logp_ph_data.smiles.isin(bad_smiles)) | (~(logp_ph_data.pH == 7))]\n",
    "logp_ph_verified_data.shape"
   ]
  },
  {
   "cell_type": "code",
   "execution_count": 12,
   "metadata": {},
   "outputs": [
    {
     "data": {
      "text/html": [
       "<div>\n",
       "<style scoped>\n",
       "    .dataframe tbody tr th:only-of-type {\n",
       "        vertical-align: middle;\n",
       "    }\n",
       "\n",
       "    .dataframe tbody tr th {\n",
       "        vertical-align: top;\n",
       "    }\n",
       "\n",
       "    .dataframe thead th {\n",
       "        text-align: right;\n",
       "    }\n",
       "</style>\n",
       "<table border=\"1\" class=\"dataframe\">\n",
       "  <thead>\n",
       "    <tr style=\"text-align: right;\">\n",
       "      <th></th>\n",
       "      <th>smiles</th>\n",
       "      <th>pH</th>\n",
       "      <th>logP</th>\n",
       "    </tr>\n",
       "  </thead>\n",
       "  <tbody>\n",
       "    <tr>\n",
       "      <th>0</th>\n",
       "      <td>C#CC1(O)CCC2C3CCC4=Cc5oncc5CC4(C)C3CCC21C</td>\n",
       "      <td>7.5</td>\n",
       "      <td>4.53</td>\n",
       "    </tr>\n",
       "    <tr>\n",
       "      <th>1</th>\n",
       "      <td>C#CCN1C(=O)C2CC[C@@](C)(C1=O)C2(C)C</td>\n",
       "      <td>5.0</td>\n",
       "      <td>2.28</td>\n",
       "    </tr>\n",
       "    <tr>\n",
       "      <th>2</th>\n",
       "      <td>C#CCOc1c(I)cc(C=C2C(=O)N(C)C(=S)N(C)C2=O)cc1OCC</td>\n",
       "      <td>5.0</td>\n",
       "      <td>3.72</td>\n",
       "    </tr>\n",
       "    <tr>\n",
       "      <th>3</th>\n",
       "      <td>C#CCOc1ccc(C2C3=C(CC(C)(C)CC3=O)OC3=C2C(=O)CC(...</td>\n",
       "      <td>5.0</td>\n",
       "      <td>4.93</td>\n",
       "    </tr>\n",
       "    <tr>\n",
       "      <th>4</th>\n",
       "      <td>C#Cc1cccc(NC(=O)c2cc(C(=O)Nc3cccc(C#C)c3)cc(N3...</td>\n",
       "      <td>5.0</td>\n",
       "      <td>6.85</td>\n",
       "    </tr>\n",
       "  </tbody>\n",
       "</table>\n",
       "</div>"
      ],
      "text/plain": [
       "                                              smiles   pH  logP\n",
       "0          C#CC1(O)CCC2C3CCC4=Cc5oncc5CC4(C)C3CCC21C  7.5  4.53\n",
       "1                C#CCN1C(=O)C2CC[C@@](C)(C1=O)C2(C)C  5.0  2.28\n",
       "2    C#CCOc1c(I)cc(C=C2C(=O)N(C)C(=S)N(C)C2=O)cc1OCC  5.0  3.72\n",
       "3  C#CCOc1ccc(C2C3=C(CC(C)(C)CC3=O)OC3=C2C(=O)CC(...  5.0  4.93\n",
       "4  C#Cc1cccc(NC(=O)c2cc(C(=O)Nc3cccc(C#C)c3)cc(N3...  5.0  6.85"
      ]
     },
     "execution_count": 12,
     "metadata": {},
     "output_type": "execute_result"
    }
   ],
   "source": [
    "logp_pH_unique_dataset = logp_ph_verified_data.groupby(['smiles', 'pH']).mean().reset_index()\n",
    "logp_pH_unique_dataset.head()"
   ]
  },
  {
   "cell_type": "code",
   "execution_count": 13,
   "metadata": {},
   "outputs": [
    {
     "data": {
      "text/plain": [
       "(2388, 3)"
      ]
     },
     "execution_count": 13,
     "metadata": {},
     "output_type": "execute_result"
    }
   ],
   "source": [
    "logp_pH_unique_dataset.shape"
   ]
  },
  {
   "cell_type": "code",
   "execution_count": 14,
   "metadata": {},
   "outputs": [
    {
     "data": {
      "text/plain": [
       "<matplotlib.axes._subplots.AxesSubplot at 0x1aadbeb11d0>"
      ]
     },
     "execution_count": 14,
     "metadata": {},
     "output_type": "execute_result"
    },
    {
     "data": {
      "image/png": "[encoded data removed]",
      "text/plain": [
       "<Figure size 432x288 with 1 Axes>"
      ]
     },
     "metadata": {
      "needs_background": "light"
     },
     "output_type": "display_data"
    }
   ],
   "source": [
    "sns.distplot(logp_ph_data.pH)"
   ]
  },
  {
   "cell_type": "code",
   "execution_count": 15,
   "metadata": {},
   "outputs": [
    {
     "data": {
      "text/html": [
       "<div>\n",
       "<style scoped>\n",
       "    .dataframe tbody tr th:only-of-type {\n",
       "        vertical-align: middle;\n",
       "    }\n",
       "\n",
       "    .dataframe tbody tr th {\n",
       "        vertical-align: top;\n",
       "    }\n",
       "\n",
       "    .dataframe thead th {\n",
       "        text-align: right;\n",
       "    }\n",
       "</style>\n",
       "<table border=\"1\" class=\"dataframe\">\n",
       "  <thead>\n",
       "    <tr style=\"text-align: right;\">\n",
       "      <th></th>\n",
       "      <th>smiles</th>\n",
       "      <th>pH</th>\n",
       "      <th>logP</th>\n",
       "    </tr>\n",
       "  </thead>\n",
       "  <tbody>\n",
       "    <tr>\n",
       "      <th>0</th>\n",
       "      <td>C#CC1(O)CCC2C3CCC4=Cc5oncc5CC4(C)C3CCC21C</td>\n",
       "      <td>7.5</td>\n",
       "      <td>4.53</td>\n",
       "    </tr>\n",
       "    <tr>\n",
       "      <th>1</th>\n",
       "      <td>C#CCN1C(=O)C2CC[C@@](C)(C1=O)C2(C)C</td>\n",
       "      <td>5.0</td>\n",
       "      <td>2.28</td>\n",
       "    </tr>\n",
       "    <tr>\n",
       "      <th>2</th>\n",
       "      <td>C#CCOc1c(I)cc(C=C2C(=O)N(C)C(=S)N(C)C2=O)cc1OCC</td>\n",
       "      <td>5.0</td>\n",
       "      <td>3.72</td>\n",
       "    </tr>\n",
       "    <tr>\n",
       "      <th>3</th>\n",
       "      <td>C#CCOc1ccc(C2C3=C(CC(C)(C)CC3=O)OC3=C2C(=O)CC(...</td>\n",
       "      <td>5.0</td>\n",
       "      <td>4.93</td>\n",
       "    </tr>\n",
       "    <tr>\n",
       "      <th>4</th>\n",
       "      <td>C#Cc1cccc(NC(=O)c2cc(C(=O)Nc3cccc(C#C)c3)cc(N3...</td>\n",
       "      <td>5.0</td>\n",
       "      <td>6.85</td>\n",
       "    </tr>\n",
       "  </tbody>\n",
       "</table>\n",
       "</div>"
      ],
      "text/plain": [
       "                                              smiles   pH  logP\n",
       "0          C#CC1(O)CCC2C3CCC4=Cc5oncc5CC4(C)C3CCC21C  7.5  4.53\n",
       "1                C#CCN1C(=O)C2CC[C@@](C)(C1=O)C2(C)C  5.0  2.28\n",
       "2    C#CCOc1c(I)cc(C=C2C(=O)N(C)C(=S)N(C)C2=O)cc1OCC  5.0  3.72\n",
       "3  C#CCOc1ccc(C2C3=C(CC(C)(C)CC3=O)OC3=C2C(=O)CC(...  5.0  4.93\n",
       "4  C#Cc1cccc(NC(=O)c2cc(C(=O)Nc3cccc(C#C)c3)cc(N3...  5.0  6.85"
      ]
     },
     "execution_count": 15,
     "metadata": {},
     "output_type": "execute_result"
    }
   ],
   "source": [
    "logp_pH_unique_dataset.head()"
   ]
  },
  {
   "cell_type": "code",
   "execution_count": 16,
   "metadata": {},
   "outputs": [
    {
     "data": {
      "text/plain": [
       "pH\n",
       "(1, 6]     1033\n",
       "(6, 8]     1009\n",
       "(8, 14]     330\n",
       "Name: pH, dtype: int64"
      ]
     },
     "execution_count": 16,
     "metadata": {},
     "output_type": "execute_result"
    }
   ],
   "source": [
    "ranges = [1, 6, 8, 14]\n",
    "logp_pH_unique_dataset['pH'].groupby(pd.cut(logp_pH_unique_dataset['pH'], ranges)).count()"
   ]
  },
  {
   "cell_type": "code",
   "execution_count": 17,
   "metadata": {},
   "outputs": [],
   "source": [
    "f = lambda x: 2 if x >= 8 else (1 if x >= 6 else 0)  \n",
    "logp_pH_range_dataset = logp_pH_unique_dataset.copy()\n",
    "pH_series = logp_pH_unique_dataset.pH\n",
    "logp_pH_range_dataset['pH_range'] = pH_series.map(f) "
   ]
  },
  {
   "cell_type": "code",
   "execution_count": 18,
   "metadata": {},
   "outputs": [
    {
     "data": {
      "text/html": [
       "<div>\n",
       "<style scoped>\n",
       "    .dataframe tbody tr th:only-of-type {\n",
       "        vertical-align: middle;\n",
       "    }\n",
       "\n",
       "    .dataframe tbody tr th {\n",
       "        vertical-align: top;\n",
       "    }\n",
       "\n",
       "    .dataframe thead th {\n",
       "        text-align: right;\n",
       "    }\n",
       "</style>\n",
       "<table border=\"1\" class=\"dataframe\">\n",
       "  <thead>\n",
       "    <tr style=\"text-align: right;\">\n",
       "      <th></th>\n",
       "      <th>smiles</th>\n",
       "      <th>pH</th>\n",
       "      <th>logP</th>\n",
       "      <th>pH_range</th>\n",
       "    </tr>\n",
       "  </thead>\n",
       "  <tbody>\n",
       "    <tr>\n",
       "      <th>0</th>\n",
       "      <td>C#CC1(O)CCC2C3CCC4=Cc5oncc5CC4(C)C3CCC21C</td>\n",
       "      <td>7.5</td>\n",
       "      <td>4.53</td>\n",
       "      <td>1</td>\n",
       "    </tr>\n",
       "    <tr>\n",
       "      <th>1</th>\n",
       "      <td>C#CCN1C(=O)C2CC[C@@](C)(C1=O)C2(C)C</td>\n",
       "      <td>5.0</td>\n",
       "      <td>2.28</td>\n",
       "      <td>0</td>\n",
       "    </tr>\n",
       "    <tr>\n",
       "      <th>2</th>\n",
       "      <td>C#CCOc1c(I)cc(C=C2C(=O)N(C)C(=S)N(C)C2=O)cc1OCC</td>\n",
       "      <td>5.0</td>\n",
       "      <td>3.72</td>\n",
       "      <td>0</td>\n",
       "    </tr>\n",
       "    <tr>\n",
       "      <th>3</th>\n",
       "      <td>C#CCOc1ccc(C2C3=C(CC(C)(C)CC3=O)OC3=C2C(=O)CC(...</td>\n",
       "      <td>5.0</td>\n",
       "      <td>4.93</td>\n",
       "      <td>0</td>\n",
       "    </tr>\n",
       "    <tr>\n",
       "      <th>4</th>\n",
       "      <td>C#Cc1cccc(NC(=O)c2cc(C(=O)Nc3cccc(C#C)c3)cc(N3...</td>\n",
       "      <td>5.0</td>\n",
       "      <td>6.85</td>\n",
       "      <td>0</td>\n",
       "    </tr>\n",
       "    <tr>\n",
       "      <th>5</th>\n",
       "      <td>C(=C/c1ccccc1)\\CN1CCN(C(c2ccccc2)c2ccccc2)CC1</td>\n",
       "      <td>4.5</td>\n",
       "      <td>5.77</td>\n",
       "      <td>0</td>\n",
       "    </tr>\n",
       "    <tr>\n",
       "      <th>6</th>\n",
       "      <td>C(=N/n1cnnc1)\\c1ccc(-n2nc(-c3ccccc3)cc2-c2cccc...</td>\n",
       "      <td>10.0</td>\n",
       "      <td>5.58</td>\n",
       "      <td>2</td>\n",
       "    </tr>\n",
       "    <tr>\n",
       "      <th>7</th>\n",
       "      <td>C/C(=C\\c1ccco1)[C@@H]1c2c(-c3ccccc3)n[nH]c2OC(...</td>\n",
       "      <td>10.5</td>\n",
       "      <td>4.82</td>\n",
       "      <td>2</td>\n",
       "    </tr>\n",
       "    <tr>\n",
       "      <th>8</th>\n",
       "      <td>C/C=C/CC(C)C(O)C1C(=O)NC(CC)C(=O)N(C)CC(=O)N(C...</td>\n",
       "      <td>5.5</td>\n",
       "      <td>2.92</td>\n",
       "      <td>0</td>\n",
       "    </tr>\n",
       "    <tr>\n",
       "      <th>9</th>\n",
       "      <td>C=C(C)CSc1nnc(-c2cccc(S(=O)(=O)N3CCOCC3)c2)n1C...</td>\n",
       "      <td>10.5</td>\n",
       "      <td>4.73</td>\n",
       "      <td>2</td>\n",
       "    </tr>\n",
       "  </tbody>\n",
       "</table>\n",
       "</div>"
      ],
      "text/plain": [
       "                                              smiles    pH  logP  pH_range\n",
       "0          C#CC1(O)CCC2C3CCC4=Cc5oncc5CC4(C)C3CCC21C   7.5  4.53         1\n",
       "1                C#CCN1C(=O)C2CC[C@@](C)(C1=O)C2(C)C   5.0  2.28         0\n",
       "2    C#CCOc1c(I)cc(C=C2C(=O)N(C)C(=S)N(C)C2=O)cc1OCC   5.0  3.72         0\n",
       "3  C#CCOc1ccc(C2C3=C(CC(C)(C)CC3=O)OC3=C2C(=O)CC(...   5.0  4.93         0\n",
       "4  C#Cc1cccc(NC(=O)c2cc(C(=O)Nc3cccc(C#C)c3)cc(N3...   5.0  6.85         0\n",
       "5      C(=C/c1ccccc1)\\CN1CCN(C(c2ccccc2)c2ccccc2)CC1   4.5  5.77         0\n",
       "6  C(=N/n1cnnc1)\\c1ccc(-n2nc(-c3ccccc3)cc2-c2cccc...  10.0  5.58         2\n",
       "7  C/C(=C\\c1ccco1)[C@@H]1c2c(-c3ccccc3)n[nH]c2OC(...  10.5  4.82         2\n",
       "8  C/C=C/CC(C)C(O)C1C(=O)NC(CC)C(=O)N(C)CC(=O)N(C...   5.5  2.92         0\n",
       "9  C=C(C)CSc1nnc(-c2cccc(S(=O)(=O)N3CCOCC3)c2)n1C...  10.5  4.73         2"
      ]
     },
     "execution_count": 18,
     "metadata": {},
     "output_type": "execute_result"
    }
   ],
   "source": [
    "logp_pH_range_dataset.head(10)"
   ]
  },
  {
   "cell_type": "code",
   "execution_count": 19,
   "metadata": {},
   "outputs": [
    {
     "data": {
      "text/plain": [
       "0    1014\n",
       "1    1011\n",
       "2     363\n",
       "Name: pH_range, dtype: int64"
      ]
     },
     "execution_count": 19,
     "metadata": {},
     "output_type": "execute_result"
    }
   ],
   "source": [
    "logp_pH_range_dataset.pH_range.value_counts()"
   ]
  },
  {
   "cell_type": "code",
   "execution_count": 20,
   "metadata": {},
   "outputs": [
    {
     "data": {
      "text/html": [
       "<div>\n",
       "<style scoped>\n",
       "    .dataframe tbody tr th:only-of-type {\n",
       "        vertical-align: middle;\n",
       "    }\n",
       "\n",
       "    .dataframe tbody tr th {\n",
       "        vertical-align: top;\n",
       "    }\n",
       "\n",
       "    .dataframe thead th {\n",
       "        text-align: right;\n",
       "    }\n",
       "</style>\n",
       "<table border=\"1\" class=\"dataframe\">\n",
       "  <thead>\n",
       "    <tr style=\"text-align: right;\">\n",
       "      <th></th>\n",
       "      <th>smiles</th>\n",
       "      <th>logP</th>\n",
       "      <th>pH_range</th>\n",
       "    </tr>\n",
       "  </thead>\n",
       "  <tbody>\n",
       "    <tr>\n",
       "      <th>0</th>\n",
       "      <td>C#CC1(O)CCC2C3CCC4=Cc5oncc5CC4(C)C3CCC21C</td>\n",
       "      <td>4.53</td>\n",
       "      <td>1</td>\n",
       "    </tr>\n",
       "    <tr>\n",
       "      <th>1</th>\n",
       "      <td>C#CCN1C(=O)C2CC[C@@](C)(C1=O)C2(C)C</td>\n",
       "      <td>2.28</td>\n",
       "      <td>0</td>\n",
       "    </tr>\n",
       "    <tr>\n",
       "      <th>2</th>\n",
       "      <td>C#CCOc1c(I)cc(C=C2C(=O)N(C)C(=S)N(C)C2=O)cc1OCC</td>\n",
       "      <td>3.72</td>\n",
       "      <td>0</td>\n",
       "    </tr>\n",
       "    <tr>\n",
       "      <th>3</th>\n",
       "      <td>C#CCOc1ccc(C2C3=C(CC(C)(C)CC3=O)OC3=C2C(=O)CC(...</td>\n",
       "      <td>4.93</td>\n",
       "      <td>0</td>\n",
       "    </tr>\n",
       "    <tr>\n",
       "      <th>4</th>\n",
       "      <td>C#Cc1cccc(NC(=O)c2cc(C(=O)Nc3cccc(C#C)c3)cc(N3...</td>\n",
       "      <td>6.85</td>\n",
       "      <td>0</td>\n",
       "    </tr>\n",
       "  </tbody>\n",
       "</table>\n",
       "</div>"
      ],
      "text/plain": [
       "                                              smiles  logP  pH_range\n",
       "0          C#CC1(O)CCC2C3CCC4=Cc5oncc5CC4(C)C3CCC21C  4.53         1\n",
       "1                C#CCN1C(=O)C2CC[C@@](C)(C1=O)C2(C)C  2.28         0\n",
       "2    C#CCOc1c(I)cc(C=C2C(=O)N(C)C(=S)N(C)C2=O)cc1OCC  3.72         0\n",
       "3  C#CCOc1ccc(C2C3=C(CC(C)(C)CC3=O)OC3=C2C(=O)CC(...  4.93         0\n",
       "4  C#Cc1cccc(NC(=O)c2cc(C(=O)Nc3cccc(C#C)c3)cc(N3...  6.85         0"
      ]
     },
     "execution_count": 20,
     "metadata": {},
     "output_type": "execute_result"
    }
   ],
   "source": [
    "logp_pH_range_dataset = logp_pH_range_dataset.drop(columns=['pH'])\n",
    "logp_pH_range_dataset.head()"
   ]
  },
  {
   "cell_type": "code",
   "execution_count": 21,
   "metadata": {},
   "outputs": [],
   "source": [
    "logp_pH_range_dataset = logp_pH_range_dataset.drop_duplicates()"
   ]
  },
  {
   "cell_type": "code",
   "execution_count": 22,
   "metadata": {},
   "outputs": [
    {
     "data": {
      "text/html": [
       "<div>\n",
       "<style scoped>\n",
       "    .dataframe tbody tr th:only-of-type {\n",
       "        vertical-align: middle;\n",
       "    }\n",
       "\n",
       "    .dataframe tbody tr th {\n",
       "        vertical-align: top;\n",
       "    }\n",
       "\n",
       "    .dataframe thead th {\n",
       "        text-align: right;\n",
       "    }\n",
       "</style>\n",
       "<table border=\"1\" class=\"dataframe\">\n",
       "  <thead>\n",
       "    <tr style=\"text-align: right;\">\n",
       "      <th></th>\n",
       "      <th>smiles</th>\n",
       "      <th>pH_range</th>\n",
       "      <th>logP</th>\n",
       "    </tr>\n",
       "  </thead>\n",
       "  <tbody>\n",
       "    <tr>\n",
       "      <th>1271</th>\n",
       "      <td>O=C(CCCN1CCC(O)(c2ccc(Cl)cc2)CC1)c1ccc(F)cc1</td>\n",
       "      <td>1</td>\n",
       "      <td>0.441800</td>\n",
       "    </tr>\n",
       "    <tr>\n",
       "      <th>78</th>\n",
       "      <td>CC(C(=O)O)c1ccc(-c2ccccc2)c(F)c1</td>\n",
       "      <td>1</td>\n",
       "      <td>0.211250</td>\n",
       "    </tr>\n",
       "    <tr>\n",
       "      <th>77</th>\n",
       "      <td>CC(C(=O)O)c1ccc(-c2ccccc2)c(F)c1</td>\n",
       "      <td>0</td>\n",
       "      <td>0.112442</td>\n",
       "    </tr>\n",
       "    <tr>\n",
       "      <th>370</th>\n",
       "      <td>CCCCCCCCCCCC(=O)O</td>\n",
       "      <td>0</td>\n",
       "      <td>0.080000</td>\n",
       "    </tr>\n",
       "    <tr>\n",
       "      <th>1397</th>\n",
       "      <td>O=C1NC(=O)C(c2ccccc2)(c2ccccc2)N1</td>\n",
       "      <td>1</td>\n",
       "      <td>0.033800</td>\n",
       "    </tr>\n",
       "    <tr>\n",
       "      <th>1398</th>\n",
       "      <td>O=C1NC(=O)C(c2ccccc2)(c2ccccc2)N1</td>\n",
       "      <td>2</td>\n",
       "      <td>0.033800</td>\n",
       "    </tr>\n",
       "    <tr>\n",
       "      <th>490</th>\n",
       "      <td>CCN1CC(C(O)C(CC2CCCCC2)NC(=O)C(Cc2c[nH]cn2)NC(...</td>\n",
       "      <td>1</td>\n",
       "      <td>0.020000</td>\n",
       "    </tr>\n",
       "    <tr>\n",
       "      <th>82</th>\n",
       "      <td>CC(C(=O)O)c1cccc(C(=O)c2ccccc2)c1</td>\n",
       "      <td>1</td>\n",
       "      <td>0.019600</td>\n",
       "    </tr>\n",
       "    <tr>\n",
       "      <th>489</th>\n",
       "      <td>CCN1CC(C(O)C(CC2CCCCC2)NC(=O)C(Cc2c[nH]cn2)NC(...</td>\n",
       "      <td>1</td>\n",
       "      <td>0.016200</td>\n",
       "    </tr>\n",
       "    <tr>\n",
       "      <th>81</th>\n",
       "      <td>CC(C(=O)O)c1cccc(C(=O)c2ccccc2)c1</td>\n",
       "      <td>0</td>\n",
       "      <td>0.013967</td>\n",
       "    </tr>\n",
       "  </tbody>\n",
       "</table>\n",
       "</div>"
      ],
      "text/plain": [
       "                                                 smiles  pH_range      logP\n",
       "1271       O=C(CCCN1CCC(O)(c2ccc(Cl)cc2)CC1)c1ccc(F)cc1         1  0.441800\n",
       "78                     CC(C(=O)O)c1ccc(-c2ccccc2)c(F)c1         1  0.211250\n",
       "77                     CC(C(=O)O)c1ccc(-c2ccccc2)c(F)c1         0  0.112442\n",
       "370                                   CCCCCCCCCCCC(=O)O         0  0.080000\n",
       "1397                  O=C1NC(=O)C(c2ccccc2)(c2ccccc2)N1         1  0.033800\n",
       "1398                  O=C1NC(=O)C(c2ccccc2)(c2ccccc2)N1         2  0.033800\n",
       "490   CCN1CC(C(O)C(CC2CCCCC2)NC(=O)C(Cc2c[nH]cn2)NC(...         1  0.020000\n",
       "82                    CC(C(=O)O)c1cccc(C(=O)c2ccccc2)c1         1  0.019600\n",
       "489   CCN1CC(C(O)C(CC2CCCCC2)NC(=O)C(Cc2c[nH]cn2)NC(...         1  0.016200\n",
       "81                    CC(C(=O)O)c1cccc(C(=O)c2ccccc2)c1         0  0.013967"
      ]
     },
     "execution_count": 22,
     "metadata": {},
     "output_type": "execute_result"
    }
   ],
   "source": [
    "grouped_data = logp_pH_range_dataset.groupby(['smiles', 'pH_range'], as_index=False).agg('var').sort_values(by=['logP'], ascending=False)\n",
    "grouped_data.head(10)"
   ]
  },
  {
   "cell_type": "code",
   "execution_count": 23,
   "metadata": {},
   "outputs": [
    {
     "data": {
      "text/html": [
       "<div>\n",
       "<style scoped>\n",
       "    .dataframe tbody tr th:only-of-type {\n",
       "        vertical-align: middle;\n",
       "    }\n",
       "\n",
       "    .dataframe tbody tr th {\n",
       "        vertical-align: top;\n",
       "    }\n",
       "\n",
       "    .dataframe thead th {\n",
       "        text-align: right;\n",
       "    }\n",
       "</style>\n",
       "<table border=\"1\" class=\"dataframe\">\n",
       "  <thead>\n",
       "    <tr style=\"text-align: right;\">\n",
       "      <th></th>\n",
       "      <th>smiles</th>\n",
       "      <th>pH_range</th>\n",
       "      <th>logP</th>\n",
       "    </tr>\n",
       "  </thead>\n",
       "  <tbody>\n",
       "    <tr>\n",
       "      <th>0</th>\n",
       "      <td>C#CC1(O)CCC2C3CCC4=Cc5oncc5CC4(C)C3CCC21C</td>\n",
       "      <td>1</td>\n",
       "      <td>4.53</td>\n",
       "    </tr>\n",
       "    <tr>\n",
       "      <th>1</th>\n",
       "      <td>C#CCN1C(=O)C2CC[C@@](C)(C1=O)C2(C)C</td>\n",
       "      <td>0</td>\n",
       "      <td>2.28</td>\n",
       "    </tr>\n",
       "    <tr>\n",
       "      <th>2</th>\n",
       "      <td>C#CCOc1c(I)cc(C=C2C(=O)N(C)C(=S)N(C)C2=O)cc1OCC</td>\n",
       "      <td>0</td>\n",
       "      <td>3.72</td>\n",
       "    </tr>\n",
       "    <tr>\n",
       "      <th>3</th>\n",
       "      <td>C#CCOc1ccc(C2C3=C(CC(C)(C)CC3=O)OC3=C2C(=O)CC(...</td>\n",
       "      <td>0</td>\n",
       "      <td>4.93</td>\n",
       "    </tr>\n",
       "    <tr>\n",
       "      <th>4</th>\n",
       "      <td>C#Cc1cccc(NC(=O)c2cc(C(=O)Nc3cccc(C#C)c3)cc(N3...</td>\n",
       "      <td>0</td>\n",
       "      <td>6.85</td>\n",
       "    </tr>\n",
       "  </tbody>\n",
       "</table>\n",
       "</div>"
      ],
      "text/plain": [
       "                                              smiles  pH_range  logP\n",
       "0          C#CC1(O)CCC2C3CCC4=Cc5oncc5CC4(C)C3CCC21C         1  4.53\n",
       "1                C#CCN1C(=O)C2CC[C@@](C)(C1=O)C2(C)C         0  2.28\n",
       "2    C#CCOc1c(I)cc(C=C2C(=O)N(C)C(=S)N(C)C2=O)cc1OCC         0  3.72\n",
       "3  C#CCOc1ccc(C2C3=C(CC(C)(C)CC3=O)OC3=C2C(=O)CC(...         0  4.93\n",
       "4  C#Cc1cccc(NC(=O)c2cc(C(=O)Nc3cccc(C#C)c3)cc(N3...         0  6.85"
      ]
     },
     "execution_count": 23,
     "metadata": {},
     "output_type": "execute_result"
    }
   ],
   "source": [
    "logp_pH_range_unique_dataset = logp_pH_range_dataset.groupby(['smiles', 'pH_range']).mean().reset_index()\n",
    "logp_pH_range_unique_dataset.head()"
   ]
  },
  {
   "cell_type": "code",
   "execution_count": 24,
   "metadata": {},
   "outputs": [
    {
     "data": {
      "text/plain": [
       "(1504, 3)"
      ]
     },
     "execution_count": 24,
     "metadata": {},
     "output_type": "execute_result"
    }
   ],
   "source": [
    "logp_pH_range_unique_dataset.shape"
   ]
  },
  {
   "cell_type": "code",
   "execution_count": 25,
   "metadata": {},
   "outputs": [
    {
     "data": {
      "text/plain": [
       "1    677\n",
       "0    594\n",
       "2    233\n",
       "Name: pH_range, dtype: int64"
      ]
     },
     "execution_count": 25,
     "metadata": {},
     "output_type": "execute_result"
    }
   ],
   "source": [
    "logp_pH_range_unique_dataset.pH_range.value_counts()"
   ]
  },
  {
   "cell_type": "code",
   "execution_count": 26,
   "metadata": {},
   "outputs": [
    {
     "data": {
      "text/plain": [
       "<matplotlib.axes._subplots.AxesSubplot at 0x1aadbfd39e8>"
      ]
     },
     "execution_count": 26,
     "metadata": {},
     "output_type": "execute_result"
    },
    {
     "data": {
      "image/png": "[encoded data removed]",
      "text/plain": [
       "<Figure size 432x288 with 1 Axes>"
      ]
     },
     "metadata": {
      "needs_background": "light"
     },
     "output_type": "display_data"
    }
   ],
   "source": [
    "sns.distplot(logp_pH_range_unique_dataset[logp_pH_range_unique_dataset.pH_range == 0].logP, color='g')\n",
    "sns.distplot(logp_pH_range_unique_dataset[logp_pH_range_unique_dataset.pH_range == 1].logP, color='b')\n",
    "sns.distplot(logp_pH_range_unique_dataset[logp_pH_range_unique_dataset.pH_range == 2].logP, color='r')"
   ]
  },
  {
   "cell_type": "code",
   "execution_count": 28,
   "metadata": {},
   "outputs": [
    {
     "data": {
      "text/html": [
       "<div>\n",
       "<style scoped>\n",
       "    .dataframe tbody tr th:only-of-type {\n",
       "        vertical-align: middle;\n",
       "    }\n",
       "\n",
       "    .dataframe tbody tr th {\n",
       "        vertical-align: top;\n",
       "    }\n",
       "\n",
       "    .dataframe thead th {\n",
       "        text-align: right;\n",
       "    }\n",
       "</style>\n",
       "<table border=\"1\" class=\"dataframe\">\n",
       "  <thead>\n",
       "    <tr style=\"text-align: right;\">\n",
       "      <th></th>\n",
       "      <th>smiles</th>\n",
       "      <th>pH</th>\n",
       "      <th>logP</th>\n",
       "    </tr>\n",
       "  </thead>\n",
       "  <tbody>\n",
       "    <tr>\n",
       "      <th>0</th>\n",
       "      <td>C#CC1(O)CCC2C3CCC4=Cc5oncc5CC4(C)C3CCC21C</td>\n",
       "      <td>7.5</td>\n",
       "      <td>4.53</td>\n",
       "    </tr>\n",
       "    <tr>\n",
       "      <th>1</th>\n",
       "      <td>C#CCN1C(=O)C2CC[C@@](C)(C1=O)C2(C)C</td>\n",
       "      <td>5.0</td>\n",
       "      <td>2.28</td>\n",
       "    </tr>\n",
       "    <tr>\n",
       "      <th>2</th>\n",
       "      <td>C#CCOc1c(I)cc(C=C2C(=O)N(C)C(=S)N(C)C2=O)cc1OCC</td>\n",
       "      <td>5.0</td>\n",
       "      <td>3.72</td>\n",
       "    </tr>\n",
       "    <tr>\n",
       "      <th>3</th>\n",
       "      <td>C#CCOc1ccc(C2C3=C(CC(C)(C)CC3=O)OC3=C2C(=O)CC(...</td>\n",
       "      <td>5.0</td>\n",
       "      <td>4.93</td>\n",
       "    </tr>\n",
       "    <tr>\n",
       "      <th>4</th>\n",
       "      <td>C#Cc1cccc(NC(=O)c2cc(C(=O)Nc3cccc(C#C)c3)cc(N3...</td>\n",
       "      <td>5.0</td>\n",
       "      <td>6.85</td>\n",
       "    </tr>\n",
       "    <tr>\n",
       "      <th>...</th>\n",
       "      <td>...</td>\n",
       "      <td>...</td>\n",
       "      <td>...</td>\n",
       "    </tr>\n",
       "    <tr>\n",
       "      <th>2383</th>\n",
       "      <td>c1ccc2c(c1)OCCOCCOCCO2</td>\n",
       "      <td>5.0</td>\n",
       "      <td>1.81</td>\n",
       "    </tr>\n",
       "    <tr>\n",
       "      <th>2384</th>\n",
       "      <td>c1ccc2c(c1)[nH]c(=NCCCN1CCN(CCCN=c3[nH]c4ccccc...</td>\n",
       "      <td>7.4</td>\n",
       "      <td>2.52</td>\n",
       "    </tr>\n",
       "    <tr>\n",
       "      <th>2385</th>\n",
       "      <td>c1cnc2c(c1)[nH]c(=NCCCN1CCN(CCCN=c3[nH]c4cccnc...</td>\n",
       "      <td>7.4</td>\n",
       "      <td>5.05</td>\n",
       "    </tr>\n",
       "    <tr>\n",
       "      <th>2386</th>\n",
       "      <td>c1nc(=NC2CCCC2)c2c3c(sc2[nH]1)CCCC3</td>\n",
       "      <td>10.0</td>\n",
       "      <td>4.17</td>\n",
       "    </tr>\n",
       "    <tr>\n",
       "      <th>2387</th>\n",
       "      <td>n1onc2c1NC1Nc3nonc3NC1N2</td>\n",
       "      <td>7.3</td>\n",
       "      <td>0.30</td>\n",
       "    </tr>\n",
       "  </tbody>\n",
       "</table>\n",
       "<p>2388 rows × 3 columns</p>\n",
       "</div>"
      ],
      "text/plain": [
       "                                                 smiles    pH  logP\n",
       "0             C#CC1(O)CCC2C3CCC4=Cc5oncc5CC4(C)C3CCC21C   7.5  4.53\n",
       "1                   C#CCN1C(=O)C2CC[C@@](C)(C1=O)C2(C)C   5.0  2.28\n",
       "2       C#CCOc1c(I)cc(C=C2C(=O)N(C)C(=S)N(C)C2=O)cc1OCC   5.0  3.72\n",
       "3     C#CCOc1ccc(C2C3=C(CC(C)(C)CC3=O)OC3=C2C(=O)CC(...   5.0  4.93\n",
       "4     C#Cc1cccc(NC(=O)c2cc(C(=O)Nc3cccc(C#C)c3)cc(N3...   5.0  6.85\n",
       "...                                                 ...   ...   ...\n",
       "2383                             c1ccc2c(c1)OCCOCCOCCO2   5.0  1.81\n",
       "2384  c1ccc2c(c1)[nH]c(=NCCCN1CCN(CCCN=c3[nH]c4ccccc...   7.4  2.52\n",
       "2385  c1cnc2c(c1)[nH]c(=NCCCN1CCN(CCCN=c3[nH]c4cccnc...   7.4  5.05\n",
       "2386                c1nc(=NC2CCCC2)c2c3c(sc2[nH]1)CCCC3  10.0  4.17\n",
       "2387                           n1onc2c1NC1Nc3nonc3NC1N2   7.3  0.30\n",
       "\n",
       "[2388 rows x 3 columns]"
      ]
     },
     "execution_count": 28,
     "metadata": {},
     "output_type": "execute_result"
    }
   ],
   "source": [
    "logp_pH_unique_dataset"
   ]
  },
  {
   "cell_type": "code",
   "execution_count": 29,
   "metadata": {},
   "outputs": [],
   "source": [
    "logp_pH_unique_dataset.to_csv(\"../data/3_final_data/logp_pH_mean.csv\")"
   ]
  },
  {
   "cell_type": "code",
   "execution_count": 30,
   "metadata": {},
   "outputs": [
    {
     "data": {
      "text/html": [
       "<div>\n",
       "<style scoped>\n",
       "    .dataframe tbody tr th:only-of-type {\n",
       "        vertical-align: middle;\n",
       "    }\n",
       "\n",
       "    .dataframe tbody tr th {\n",
       "        vertical-align: top;\n",
       "    }\n",
       "\n",
       "    .dataframe thead th {\n",
       "        text-align: right;\n",
       "    }\n",
       "</style>\n",
       "<table border=\"1\" class=\"dataframe\">\n",
       "  <thead>\n",
       "    <tr style=\"text-align: right;\">\n",
       "      <th></th>\n",
       "      <th>smiles</th>\n",
       "      <th>pH_range</th>\n",
       "      <th>logP</th>\n",
       "    </tr>\n",
       "  </thead>\n",
       "  <tbody>\n",
       "    <tr>\n",
       "      <th>0</th>\n",
       "      <td>C#CC1(O)CCC2C3CCC4=Cc5oncc5CC4(C)C3CCC21C</td>\n",
       "      <td>1</td>\n",
       "      <td>4.53</td>\n",
       "    </tr>\n",
       "    <tr>\n",
       "      <th>1</th>\n",
       "      <td>C#CCN1C(=O)C2CC[C@@](C)(C1=O)C2(C)C</td>\n",
       "      <td>0</td>\n",
       "      <td>2.28</td>\n",
       "    </tr>\n",
       "    <tr>\n",
       "      <th>2</th>\n",
       "      <td>C#CCOc1c(I)cc(C=C2C(=O)N(C)C(=S)N(C)C2=O)cc1OCC</td>\n",
       "      <td>0</td>\n",
       "      <td>3.72</td>\n",
       "    </tr>\n",
       "    <tr>\n",
       "      <th>3</th>\n",
       "      <td>C#CCOc1ccc(C2C3=C(CC(C)(C)CC3=O)OC3=C2C(=O)CC(...</td>\n",
       "      <td>0</td>\n",
       "      <td>4.93</td>\n",
       "    </tr>\n",
       "    <tr>\n",
       "      <th>4</th>\n",
       "      <td>C#Cc1cccc(NC(=O)c2cc(C(=O)Nc3cccc(C#C)c3)cc(N3...</td>\n",
       "      <td>0</td>\n",
       "      <td>6.85</td>\n",
       "    </tr>\n",
       "    <tr>\n",
       "      <th>...</th>\n",
       "      <td>...</td>\n",
       "      <td>...</td>\n",
       "      <td>...</td>\n",
       "    </tr>\n",
       "    <tr>\n",
       "      <th>1499</th>\n",
       "      <td>c1ccc2c(c1)OCCOCCOCCO2</td>\n",
       "      <td>0</td>\n",
       "      <td>1.81</td>\n",
       "    </tr>\n",
       "    <tr>\n",
       "      <th>1500</th>\n",
       "      <td>c1ccc2c(c1)[nH]c(=NCCCN1CCN(CCCN=c3[nH]c4ccccc...</td>\n",
       "      <td>1</td>\n",
       "      <td>2.52</td>\n",
       "    </tr>\n",
       "    <tr>\n",
       "      <th>1501</th>\n",
       "      <td>c1cnc2c(c1)[nH]c(=NCCCN1CCN(CCCN=c3[nH]c4cccnc...</td>\n",
       "      <td>1</td>\n",
       "      <td>5.05</td>\n",
       "    </tr>\n",
       "    <tr>\n",
       "      <th>1502</th>\n",
       "      <td>c1nc(=NC2CCCC2)c2c3c(sc2[nH]1)CCCC3</td>\n",
       "      <td>2</td>\n",
       "      <td>4.17</td>\n",
       "    </tr>\n",
       "    <tr>\n",
       "      <th>1503</th>\n",
       "      <td>n1onc2c1NC1Nc3nonc3NC1N2</td>\n",
       "      <td>1</td>\n",
       "      <td>0.30</td>\n",
       "    </tr>\n",
       "  </tbody>\n",
       "</table>\n",
       "<p>1504 rows × 3 columns</p>\n",
       "</div>"
      ],
      "text/plain": [
       "                                                 smiles  pH_range  logP\n",
       "0             C#CC1(O)CCC2C3CCC4=Cc5oncc5CC4(C)C3CCC21C         1  4.53\n",
       "1                   C#CCN1C(=O)C2CC[C@@](C)(C1=O)C2(C)C         0  2.28\n",
       "2       C#CCOc1c(I)cc(C=C2C(=O)N(C)C(=S)N(C)C2=O)cc1OCC         0  3.72\n",
       "3     C#CCOc1ccc(C2C3=C(CC(C)(C)CC3=O)OC3=C2C(=O)CC(...         0  4.93\n",
       "4     C#Cc1cccc(NC(=O)c2cc(C(=O)Nc3cccc(C#C)c3)cc(N3...         0  6.85\n",
       "...                                                 ...       ...   ...\n",
       "1499                             c1ccc2c(c1)OCCOCCOCCO2         0  1.81\n",
       "1500  c1ccc2c(c1)[nH]c(=NCCCN1CCN(CCCN=c3[nH]c4ccccc...         1  2.52\n",
       "1501  c1cnc2c(c1)[nH]c(=NCCCN1CCN(CCCN=c3[nH]c4cccnc...         1  5.05\n",
       "1502                c1nc(=NC2CCCC2)c2c3c(sc2[nH]1)CCCC3         2  4.17\n",
       "1503                           n1onc2c1NC1Nc3nonc3NC1N2         1  0.30\n",
       "\n",
       "[1504 rows x 3 columns]"
      ]
     },
     "execution_count": 30,
     "metadata": {},
     "output_type": "execute_result"
    }
   ],
   "source": [
    "logp_pH_range_unique_dataset"
   ]
  },
  {
   "cell_type": "code",
   "execution_count": 31,
   "metadata": {},
   "outputs": [],
   "source": [
    "logp_pH_range_unique_dataset.to_csv(\"../data/3_final_data/logp_pH_range_mean.csv\")"
   ]
  }
 ],
 "metadata": {
  "kernelspec": {
   "display_name": "chemvae",
   "language": "python",
   "name": "chemvae"
  },
  "language_info": {
   "codemirror_mode": {
    "name": "ipython",
    "version": 3
   },
   "file_extension": ".py",
   "mimetype": "text/x-python",
   "name": "python",
   "nbconvert_exporter": "python",
   "pygments_lexer": "ipython3",
   "version": "3.6.10"
  }
 },
 "nbformat": 4,
 "nbformat_minor": 4
}
