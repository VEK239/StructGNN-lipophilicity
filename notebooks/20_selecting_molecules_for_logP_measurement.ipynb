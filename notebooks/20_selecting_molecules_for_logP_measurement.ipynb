{
 "cells": [
  {
   "cell_type": "code",
   "execution_count": 1,
   "metadata": {
    "pycharm": {
     "is_executing": false
    }
   },
   "outputs": [],
   "source": [
    "import pandas as pd\n",
    "import numpy as np\n",
    "from rdkit import Chem"
   ]
  },
  {
   "cell_type": "code",
   "execution_count": 2,
   "metadata": {
    "pycharm": {
     "is_executing": false,
     "name": "#%%\n"
    }
   },
   "outputs": [],
   "source": [
    "logP_data = pd.read_csv('../data/3_final_data/logp.csv')\n",
    "pharma_data = pd.read_csv('../data/1_filtering/new/pharma.csv', index_col=0)\n",
    "zinc_data = pd.read_csv('../data/3_final_data/split_data/zinc_dataset_test.csv', index_col=0)"
   ]
  },
  {
   "cell_type": "markdown",
   "metadata": {},
   "source": [
    "# selecting 10 not measured pharma useful molecules "
   ]
  },
  {
   "cell_type": "code",
   "execution_count": 3,
   "metadata": {
    "pycharm": {
     "name": "#%%\n"
    }
   },
   "outputs": [],
   "source": [
    "pharma_data = pharma_data[(~pharma_data.smiles.isin(logP_data.smiles)) & (pharma_data.smiles.isin(zinc_data.smiles))]"
   ]
  },
  {
   "cell_type": "code",
   "execution_count": 4,
   "metadata": {},
   "outputs": [
    {
     "data": {
      "text/html": [
       "<div>\n",
       "<style scoped>\n",
       "    .dataframe tbody tr th:only-of-type {\n",
       "        vertical-align: middle;\n",
       "    }\n",
       "\n",
       "    .dataframe tbody tr th {\n",
       "        vertical-align: top;\n",
       "    }\n",
       "\n",
       "    .dataframe thead th {\n",
       "        text-align: right;\n",
       "    }\n",
       "</style>\n",
       "<table border=\"1\" class=\"dataframe\">\n",
       "  <thead>\n",
       "    <tr style=\"text-align: right;\">\n",
       "      <th></th>\n",
       "      <th>smiles</th>\n",
       "    </tr>\n",
       "  </thead>\n",
       "  <tbody>\n",
       "    <tr>\n",
       "      <th>33910</th>\n",
       "      <td>CCCCC(=O)N[C@@H](C(=O)O)C(C)(C)SN=O</td>\n",
       "    </tr>\n",
       "    <tr>\n",
       "      <th>57917</th>\n",
       "      <td>CCCCCCCCCCCC(=O)N[C@@H](CO)C(=O)O</td>\n",
       "    </tr>\n",
       "    <tr>\n",
       "      <th>60018</th>\n",
       "      <td>CCCCC(=O)N[C@H](C(=O)O)C(C)(C)SN=O</td>\n",
       "    </tr>\n",
       "    <tr>\n",
       "      <th>66224</th>\n",
       "      <td>CN(C)[Si](N(C)C)N(C)C</td>\n",
       "    </tr>\n",
       "    <tr>\n",
       "      <th>69114</th>\n",
       "      <td>COC(=O)/C=C/C(F)(F)F</td>\n",
       "    </tr>\n",
       "    <tr>\n",
       "      <th>69226</th>\n",
       "      <td>CC/C=C/CO</td>\n",
       "    </tr>\n",
       "    <tr>\n",
       "      <th>69474</th>\n",
       "      <td>CCCCCCC/C=C\\C(=O)O</td>\n",
       "    </tr>\n",
       "    <tr>\n",
       "      <th>70428</th>\n",
       "      <td>CCCCCCCC/C=C\\C/C=C\\C/C=C\\CCCC(=O)O</td>\n",
       "    </tr>\n",
       "    <tr>\n",
       "      <th>71106</th>\n",
       "      <td>CCCCC/C=C\\C/C=C\\CCCCCCCC(=O)NCCO</td>\n",
       "    </tr>\n",
       "    <tr>\n",
       "      <th>71276</th>\n",
       "      <td>CCCCCCCCCCC/C=C/C(=O)O</td>\n",
       "    </tr>\n",
       "    <tr>\n",
       "      <th>71856</th>\n",
       "      <td>CCCC/C=C\\C=C\\C=C/CCCCCCCC(=O)O</td>\n",
       "    </tr>\n",
       "    <tr>\n",
       "      <th>78546</th>\n",
       "      <td>CC(=O)C#C[Si](C)(C)C</td>\n",
       "    </tr>\n",
       "    <tr>\n",
       "      <th>85498</th>\n",
       "      <td>CCCCCCCCCCCC#CCCCCC(=O)O</td>\n",
       "    </tr>\n",
       "    <tr>\n",
       "      <th>93714</th>\n",
       "      <td>CCCCCCCCCCCC(=O)O[C@H](CC(=O)O)C[N+](C)(C)C</td>\n",
       "    </tr>\n",
       "    <tr>\n",
       "      <th>93986</th>\n",
       "      <td>CCCCS(=O)(=O)N1CCCCCC1</td>\n",
       "    </tr>\n",
       "    <tr>\n",
       "      <th>97754</th>\n",
       "      <td>CCCCCCCCCCCCCCCC(=O)OCC[N+](C)(C)C</td>\n",
       "    </tr>\n",
       "    <tr>\n",
       "      <th>102821</th>\n",
       "      <td>CCCCCCCCCCCCCCCC(=O)OC[C@H](COC(=O)CCC(=O)O)OC...</td>\n",
       "    </tr>\n",
       "    <tr>\n",
       "      <th>112141</th>\n",
       "      <td>COC(=O)NC#N</td>\n",
       "    </tr>\n",
       "    <tr>\n",
       "      <th>113581</th>\n",
       "      <td>C[Si](C)(C)CO</td>\n",
       "    </tr>\n",
       "    <tr>\n",
       "      <th>113927</th>\n",
       "      <td>CCCCNC(=O)NCCCC</td>\n",
       "    </tr>\n",
       "    <tr>\n",
       "      <th>115557</th>\n",
       "      <td>CCCCC(=O)OCC(COC(=O)CCCC)OC(=O)CCCC</td>\n",
       "    </tr>\n",
       "    <tr>\n",
       "      <th>116940</th>\n",
       "      <td>CCCCCCCCP(=O)(CCCCCCCC)CCCCCCCC</td>\n",
       "    </tr>\n",
       "    <tr>\n",
       "      <th>118007</th>\n",
       "      <td>CCOCCC(=O)O</td>\n",
       "    </tr>\n",
       "    <tr>\n",
       "      <th>118025</th>\n",
       "      <td>C=CCOC=O</td>\n",
       "    </tr>\n",
       "    <tr>\n",
       "      <th>120467</th>\n",
       "      <td>CCCCCCCCCCCCCCCC[N+](C)(C)CC</td>\n",
       "    </tr>\n",
       "    <tr>\n",
       "      <th>121190</th>\n",
       "      <td>CC(=O)N(C)O</td>\n",
       "    </tr>\n",
       "    <tr>\n",
       "      <th>122464</th>\n",
       "      <td>CC(C)(C)C1=CC(=O)C=CC1=O</td>\n",
       "    </tr>\n",
       "    <tr>\n",
       "      <th>123295</th>\n",
       "      <td>CC(C)O[N+](=O)[O-]</td>\n",
       "    </tr>\n",
       "    <tr>\n",
       "      <th>123900</th>\n",
       "      <td>CC(=O)C(Cl)(Cl)Cl</td>\n",
       "    </tr>\n",
       "    <tr>\n",
       "      <th>124306</th>\n",
       "      <td>CCCCCC(=O)OCCCC</td>\n",
       "    </tr>\n",
       "    <tr>\n",
       "      <th>124724</th>\n",
       "      <td>CC(C)C(C)C(C)C</td>\n",
       "    </tr>\n",
       "    <tr>\n",
       "      <th>124914</th>\n",
       "      <td>CCCCCCCCCCCCCCCCOC(=O)CCCCCCCCCCCCCCC</td>\n",
       "    </tr>\n",
       "    <tr>\n",
       "      <th>125161</th>\n",
       "      <td>C1CNC1</td>\n",
       "    </tr>\n",
       "    <tr>\n",
       "      <th>126385</th>\n",
       "      <td>CC(C)CCN</td>\n",
       "    </tr>\n",
       "    <tr>\n",
       "      <th>129163</th>\n",
       "      <td>CN(C)CCCSC(=N)N</td>\n",
       "    </tr>\n",
       "    <tr>\n",
       "      <th>130271</th>\n",
       "      <td>CSCCC(=O)O</td>\n",
       "    </tr>\n",
       "    <tr>\n",
       "      <th>130308</th>\n",
       "      <td>CSCCC(=O)C(=O)O</td>\n",
       "    </tr>\n",
       "    <tr>\n",
       "      <th>130453</th>\n",
       "      <td>CC(=O)OCC[N+](C)(C)C</td>\n",
       "    </tr>\n",
       "  </tbody>\n",
       "</table>\n",
       "</div>"
      ],
      "text/plain": [
       "                                                   smiles\n",
       "33910                 CCCCC(=O)N[C@@H](C(=O)O)C(C)(C)SN=O\n",
       "57917                   CCCCCCCCCCCC(=O)N[C@@H](CO)C(=O)O\n",
       "60018                  CCCCC(=O)N[C@H](C(=O)O)C(C)(C)SN=O\n",
       "66224                               CN(C)[Si](N(C)C)N(C)C\n",
       "69114                                COC(=O)/C=C/C(F)(F)F\n",
       "69226                                           CC/C=C/CO\n",
       "69474                                  CCCCCCC/C=C\\C(=O)O\n",
       "70428                  CCCCCCCC/C=C\\C/C=C\\C/C=C\\CCCC(=O)O\n",
       "71106                    CCCCC/C=C\\C/C=C\\CCCCCCCC(=O)NCCO\n",
       "71276                              CCCCCCCCCCC/C=C/C(=O)O\n",
       "71856                      CCCC/C=C\\C=C\\C=C/CCCCCCCC(=O)O\n",
       "78546                                CC(=O)C#C[Si](C)(C)C\n",
       "85498                            CCCCCCCCCCCC#CCCCCC(=O)O\n",
       "93714         CCCCCCCCCCCC(=O)O[C@H](CC(=O)O)C[N+](C)(C)C\n",
       "93986                              CCCCS(=O)(=O)N1CCCCCC1\n",
       "97754                  CCCCCCCCCCCCCCCC(=O)OCC[N+](C)(C)C\n",
       "102821  CCCCCCCCCCCCCCCC(=O)OC[C@H](COC(=O)CCC(=O)O)OC...\n",
       "112141                                        COC(=O)NC#N\n",
       "113581                                      C[Si](C)(C)CO\n",
       "113927                                    CCCCNC(=O)NCCCC\n",
       "115557                CCCCC(=O)OCC(COC(=O)CCCC)OC(=O)CCCC\n",
       "116940                    CCCCCCCCP(=O)(CCCCCCCC)CCCCCCCC\n",
       "118007                                        CCOCCC(=O)O\n",
       "118025                                           C=CCOC=O\n",
       "120467                       CCCCCCCCCCCCCCCC[N+](C)(C)CC\n",
       "121190                                        CC(=O)N(C)O\n",
       "122464                           CC(C)(C)C1=CC(=O)C=CC1=O\n",
       "123295                                 CC(C)O[N+](=O)[O-]\n",
       "123900                                  CC(=O)C(Cl)(Cl)Cl\n",
       "124306                                    CCCCCC(=O)OCCCC\n",
       "124724                                     CC(C)C(C)C(C)C\n",
       "124914              CCCCCCCCCCCCCCCCOC(=O)CCCCCCCCCCCCCCC\n",
       "125161                                             C1CNC1\n",
       "126385                                           CC(C)CCN\n",
       "129163                                    CN(C)CCCSC(=N)N\n",
       "130271                                         CSCCC(=O)O\n",
       "130308                                    CSCCC(=O)C(=O)O\n",
       "130453                               CC(=O)OCC[N+](C)(C)C"
      ]
     },
     "execution_count": 4,
     "metadata": {},
     "output_type": "execute_result"
    }
   ],
   "source": [
    "pharma_data"
   ]
  },
  {
   "cell_type": "code",
   "execution_count": 5,
   "metadata": {},
   "outputs": [],
   "source": [
    "pharma_data = pharma_data.reset_index().drop(columns=['index'])"
   ]
  },
  {
   "cell_type": "code",
   "execution_count": 6,
   "metadata": {},
   "outputs": [
    {
     "data": {
      "text/plain": [
       "(38, 1)"
      ]
     },
     "execution_count": 6,
     "metadata": {},
     "output_type": "execute_result"
    }
   ],
   "source": [
    "pharma_data.shape"
   ]
  },
  {
   "cell_type": "code",
   "execution_count": 7,
   "metadata": {},
   "outputs": [],
   "source": [
    "np.random.seed = 10\n",
    "indices = pd.Series(np.random.default_rng().choice(38, size=10, replace=False))"
   ]
  },
  {
   "cell_type": "code",
   "execution_count": 8,
   "metadata": {},
   "outputs": [
    {
     "data": {
      "text/plain": [
       "0    20\n",
       "1     3\n",
       "2    13\n",
       "3    34\n",
       "4    14\n",
       "5     0\n",
       "6    19\n",
       "7    12\n",
       "8     6\n",
       "9     7\n",
       "dtype: int64"
      ]
     },
     "execution_count": 8,
     "metadata": {},
     "output_type": "execute_result"
    }
   ],
   "source": [
    "indices"
   ]
  },
  {
   "cell_type": "code",
   "execution_count": 9,
   "metadata": {},
   "outputs": [],
   "source": [
    "pharma_data = pharma_data.loc[indices]"
   ]
  },
  {
   "cell_type": "code",
   "execution_count": 10,
   "metadata": {},
   "outputs": [
    {
     "data": {
      "text/html": [
       "<div>\n",
       "<style scoped>\n",
       "    .dataframe tbody tr th:only-of-type {\n",
       "        vertical-align: middle;\n",
       "    }\n",
       "\n",
       "    .dataframe tbody tr th {\n",
       "        vertical-align: top;\n",
       "    }\n",
       "\n",
       "    .dataframe thead th {\n",
       "        text-align: right;\n",
       "    }\n",
       "</style>\n",
       "<table border=\"1\" class=\"dataframe\">\n",
       "  <thead>\n",
       "    <tr style=\"text-align: right;\">\n",
       "      <th></th>\n",
       "      <th>smiles</th>\n",
       "    </tr>\n",
       "  </thead>\n",
       "  <tbody>\n",
       "    <tr>\n",
       "      <th>20</th>\n",
       "      <td>CCCCC(=O)OCC(COC(=O)CCCC)OC(=O)CCCC</td>\n",
       "    </tr>\n",
       "    <tr>\n",
       "      <th>3</th>\n",
       "      <td>CN(C)[Si](N(C)C)N(C)C</td>\n",
       "    </tr>\n",
       "    <tr>\n",
       "      <th>13</th>\n",
       "      <td>CCCCCCCCCCCC(=O)O[C@H](CC(=O)O)C[N+](C)(C)C</td>\n",
       "    </tr>\n",
       "    <tr>\n",
       "      <th>34</th>\n",
       "      <td>CN(C)CCCSC(=N)N</td>\n",
       "    </tr>\n",
       "    <tr>\n",
       "      <th>14</th>\n",
       "      <td>CCCCS(=O)(=O)N1CCCCCC1</td>\n",
       "    </tr>\n",
       "    <tr>\n",
       "      <th>0</th>\n",
       "      <td>CCCCC(=O)N[C@@H](C(=O)O)C(C)(C)SN=O</td>\n",
       "    </tr>\n",
       "    <tr>\n",
       "      <th>19</th>\n",
       "      <td>CCCCNC(=O)NCCCC</td>\n",
       "    </tr>\n",
       "    <tr>\n",
       "      <th>12</th>\n",
       "      <td>CCCCCCCCCCCC#CCCCCC(=O)O</td>\n",
       "    </tr>\n",
       "    <tr>\n",
       "      <th>6</th>\n",
       "      <td>CCCCCCC/C=C\\C(=O)O</td>\n",
       "    </tr>\n",
       "    <tr>\n",
       "      <th>7</th>\n",
       "      <td>CCCCCCCC/C=C\\C/C=C\\C/C=C\\CCCC(=O)O</td>\n",
       "    </tr>\n",
       "  </tbody>\n",
       "</table>\n",
       "</div>"
      ],
      "text/plain": [
       "                                         smiles\n",
       "20          CCCCC(=O)OCC(COC(=O)CCCC)OC(=O)CCCC\n",
       "3                         CN(C)[Si](N(C)C)N(C)C\n",
       "13  CCCCCCCCCCCC(=O)O[C@H](CC(=O)O)C[N+](C)(C)C\n",
       "34                              CN(C)CCCSC(=N)N\n",
       "14                       CCCCS(=O)(=O)N1CCCCCC1\n",
       "0           CCCCC(=O)N[C@@H](C(=O)O)C(C)(C)SN=O\n",
       "19                              CCCCNC(=O)NCCCC\n",
       "12                     CCCCCCCCCCCC#CCCCCC(=O)O\n",
       "6                            CCCCCCC/C=C\\C(=O)O\n",
       "7            CCCCCCCC/C=C\\C/C=C\\C/C=C\\CCCC(=O)O"
      ]
     },
     "execution_count": 10,
     "metadata": {},
     "output_type": "execute_result"
    }
   ],
   "source": [
    "pharma_data"
   ]
  },
  {
   "cell_type": "markdown",
   "metadata": {},
   "source": [
    "# selecting 10 not measured similar molecules "
   ]
  },
  {
   "cell_type": "code",
   "execution_count": 11,
   "metadata": {},
   "outputs": [],
   "source": [
    "logp_mol = [Chem.MolFromSmiles(smi) for smi in logP_data.smiles]"
   ]
  },
  {
   "cell_type": "code",
   "execution_count": 12,
   "metadata": {},
   "outputs": [],
   "source": [
    "zinc_mol = [Chem.MolFromSmiles(smi) for smi in zinc_data.smiles]"
   ]
  },
  {
   "cell_type": "code",
   "execution_count": 13,
   "metadata": {},
   "outputs": [],
   "source": [
    "logp_length = pd.Series(mol.GetNumAtoms() for mol in logp_mol)"
   ]
  },
  {
   "cell_type": "code",
   "execution_count": 14,
   "metadata": {},
   "outputs": [
    {
     "data": {
      "text/plain": [
       "count    14111.000000\n",
       "mean        17.574587\n",
       "std          7.765619\n",
       "min          5.000000\n",
       "25%         12.000000\n",
       "50%         16.000000\n",
       "75%         21.000000\n",
       "max         85.000000\n",
       "dtype: float64"
      ]
     },
     "execution_count": 14,
     "metadata": {},
     "output_type": "execute_result"
    }
   ],
   "source": [
    "logp_length.describe()"
   ]
  },
  {
   "cell_type": "code",
   "execution_count": 15,
   "metadata": {},
   "outputs": [],
   "source": [
    "zinc_is_similar = pd.Series(17.574587 - 7.765619 <= e.GetNumAtoms() and e.GetNumAtoms() <= 17.574587 + 7.765619 for e in zinc_mol)"
   ]
  },
  {
   "cell_type": "code",
   "execution_count": 16,
   "metadata": {},
   "outputs": [],
   "source": [
    "zinc_similar_data = zinc_data.loc[zinc_is_similar]"
   ]
  },
  {
   "cell_type": "code",
   "execution_count": 17,
   "metadata": {},
   "outputs": [
    {
     "data": {
      "text/plain": [
       "(136439, 1)"
      ]
     },
     "execution_count": 17,
     "metadata": {},
     "output_type": "execute_result"
    }
   ],
   "source": [
    "zinc_similar_data.shape"
   ]
  },
  {
   "cell_type": "code",
   "execution_count": 18,
   "metadata": {},
   "outputs": [],
   "source": [
    "indices = pd.Series(np.random.randint(136439, size=10))"
   ]
  },
  {
   "cell_type": "code",
   "execution_count": 19,
   "metadata": {},
   "outputs": [],
   "source": [
    "zinc_similar_data = zinc_similar_data.reset_index().drop(columns=['index'])"
   ]
  },
  {
   "cell_type": "code",
   "execution_count": 20,
   "metadata": {},
   "outputs": [],
   "source": [
    "zinc_similar_data = zinc_similar_data.loc[indices]"
   ]
  },
  {
   "cell_type": "code",
   "execution_count": 21,
   "metadata": {},
   "outputs": [
    {
     "data": {
      "text/html": [
       "<div>\n",
       "<style scoped>\n",
       "    .dataframe tbody tr th:only-of-type {\n",
       "        vertical-align: middle;\n",
       "    }\n",
       "\n",
       "    .dataframe tbody tr th {\n",
       "        vertical-align: top;\n",
       "    }\n",
       "\n",
       "    .dataframe thead th {\n",
       "        text-align: right;\n",
       "    }\n",
       "</style>\n",
       "<table border=\"1\" class=\"dataframe\">\n",
       "  <thead>\n",
       "    <tr style=\"text-align: right;\">\n",
       "      <th></th>\n",
       "      <th>smiles</th>\n",
       "    </tr>\n",
       "  </thead>\n",
       "  <tbody>\n",
       "    <tr>\n",
       "      <th>55717</th>\n",
       "      <td>COc1cccc2c1ccn2CC(=O)Nc1n[nH]c2cccc(F)c12</td>\n",
       "    </tr>\n",
       "    <tr>\n",
       "      <th>30502</th>\n",
       "      <td>O=C1C[C@]2(CCN=N2)C(=O)N1c1ccc(Cl)cc1</td>\n",
       "    </tr>\n",
       "    <tr>\n",
       "      <th>29230</th>\n",
       "      <td>CS(=O)(=O)N(CC(=O)N1CCCCC1)c1ccccc1Cl</td>\n",
       "    </tr>\n",
       "    <tr>\n",
       "      <th>80077</th>\n",
       "      <td>O=C1Nc2ccccc2Oc2ccc(/N=C/c3ccccc3O)cc21</td>\n",
       "    </tr>\n",
       "    <tr>\n",
       "      <th>7729</th>\n",
       "      <td>C[C@@H]1C[C@H](Nc2cccc(CN3CCC[C@H]3C(N)=O)c2)[...</td>\n",
       "    </tr>\n",
       "    <tr>\n",
       "      <th>64920</th>\n",
       "      <td>CCOC(=O)c1ccccc1NC(=O)c1cncc(Br)c1</td>\n",
       "    </tr>\n",
       "    <tr>\n",
       "      <th>2718</th>\n",
       "      <td>N=C(N)c1cc(NC2CC2)ccn1</td>\n",
       "    </tr>\n",
       "    <tr>\n",
       "      <th>94858</th>\n",
       "      <td>CCCCOc1cc(F)cc(C(=O)O)c1</td>\n",
       "    </tr>\n",
       "    <tr>\n",
       "      <th>131079</th>\n",
       "      <td>OCCN1CCN(C2CCN(Cc3ccccn3)CC2)CC1</td>\n",
       "    </tr>\n",
       "    <tr>\n",
       "      <th>87437</th>\n",
       "      <td>O=S(=O)(NCc1ccccc1)Nc1ccccc1-n1cccc1</td>\n",
       "    </tr>\n",
       "  </tbody>\n",
       "</table>\n",
       "</div>"
      ],
      "text/plain": [
       "                                                   smiles\n",
       "55717           COc1cccc2c1ccn2CC(=O)Nc1n[nH]c2cccc(F)c12\n",
       "30502               O=C1C[C@]2(CCN=N2)C(=O)N1c1ccc(Cl)cc1\n",
       "29230               CS(=O)(=O)N(CC(=O)N1CCCCC1)c1ccccc1Cl\n",
       "80077             O=C1Nc2ccccc2Oc2ccc(/N=C/c3ccccc3O)cc21\n",
       "7729    C[C@@H]1C[C@H](Nc2cccc(CN3CCC[C@H]3C(N)=O)c2)[...\n",
       "64920                  CCOC(=O)c1ccccc1NC(=O)c1cncc(Br)c1\n",
       "2718                               N=C(N)c1cc(NC2CC2)ccn1\n",
       "94858                            CCCCOc1cc(F)cc(C(=O)O)c1\n",
       "131079                   OCCN1CCN(C2CCN(Cc3ccccn3)CC2)CC1\n",
       "87437                O=S(=O)(NCc1ccccc1)Nc1ccccc1-n1cccc1"
      ]
     },
     "execution_count": 21,
     "metadata": {},
     "output_type": "execute_result"
    }
   ],
   "source": [
    "zinc_similar_data"
   ]
  },
  {
   "cell_type": "markdown",
   "metadata": {},
   "source": [
    "# selecting 10 not measured not similar molecules"
   ]
  },
  {
   "cell_type": "code",
   "execution_count": 22,
   "metadata": {},
   "outputs": [],
   "source": [
    "zinc_is_not_similar = pd.Series(28 <= e.GetNumAtoms() for e in zinc_mol)"
   ]
  },
  {
   "cell_type": "code",
   "execution_count": 23,
   "metadata": {},
   "outputs": [],
   "source": [
    "zinc_not_similar_data = zinc_data.loc[zinc_is_not_similar]"
   ]
  },
  {
   "cell_type": "code",
   "execution_count": 24,
   "metadata": {},
   "outputs": [
    {
     "data": {
      "text/plain": [
       "(123458, 1)"
      ]
     },
     "execution_count": 24,
     "metadata": {},
     "output_type": "execute_result"
    }
   ],
   "source": [
    "zinc_not_similar_data.shape"
   ]
  },
  {
   "cell_type": "code",
   "execution_count": 25,
   "metadata": {},
   "outputs": [],
   "source": [
    "indices = pd.Series(np.random.randint(123458, size=10))"
   ]
  },
  {
   "cell_type": "code",
   "execution_count": 26,
   "metadata": {},
   "outputs": [],
   "source": [
    "zinc_not_similar_data = zinc_not_similar_data.reset_index().drop(columns=['index'])"
   ]
  },
  {
   "cell_type": "code",
   "execution_count": 27,
   "metadata": {},
   "outputs": [],
   "source": [
    "zinc_not_similar_data = zinc_not_similar_data.loc[indices]"
   ]
  },
  {
   "cell_type": "code",
   "execution_count": 28,
   "metadata": {},
   "outputs": [
    {
     "data": {
      "text/html": [
       "<div>\n",
       "<style scoped>\n",
       "    .dataframe tbody tr th:only-of-type {\n",
       "        vertical-align: middle;\n",
       "    }\n",
       "\n",
       "    .dataframe tbody tr th {\n",
       "        vertical-align: top;\n",
       "    }\n",
       "\n",
       "    .dataframe thead th {\n",
       "        text-align: right;\n",
       "    }\n",
       "</style>\n",
       "<table border=\"1\" class=\"dataframe\">\n",
       "  <thead>\n",
       "    <tr style=\"text-align: right;\">\n",
       "      <th></th>\n",
       "      <th>smiles</th>\n",
       "    </tr>\n",
       "  </thead>\n",
       "  <tbody>\n",
       "    <tr>\n",
       "      <th>11679</th>\n",
       "      <td>CCOc1cc(/C=C\\C(=O)OCC(=O)N(CC)[C@H]2CCS(=O)(=O...</td>\n",
       "    </tr>\n",
       "    <tr>\n",
       "      <th>21833</th>\n",
       "      <td>Cc1cc2c(c(O)c1-c1c(C)cc3c(c1O)/C(=C/Nc1ccccc1C...</td>\n",
       "    </tr>\n",
       "    <tr>\n",
       "      <th>30468</th>\n",
       "      <td>O=C(CSc1nnc(-c2ccc(Cl)cc2)o1)N(N=Cc1ccccc1)c1c...</td>\n",
       "    </tr>\n",
       "    <tr>\n",
       "      <th>61729</th>\n",
       "      <td>CCc1ccccc1NC(=O)c1sc2nc3c(c(-c4ccco4)c2c1N)CCCC3</td>\n",
       "    </tr>\n",
       "    <tr>\n",
       "      <th>57198</th>\n",
       "      <td>CC1CCN(c2ccc(NC(=O)C3CCN(c4ncccn4)CC3)cc2C(N)=...</td>\n",
       "    </tr>\n",
       "    <tr>\n",
       "      <th>61136</th>\n",
       "      <td>Cc1ccc(COc2ccc(/C=N/N3C(=O)[C@H]4[C@H]5C=C[C@@...</td>\n",
       "    </tr>\n",
       "    <tr>\n",
       "      <th>16824</th>\n",
       "      <td>CCOC(=O)c1c(CN(CC)CC)n(C)c2c1cc(OC(C)=O)c1c2c(...</td>\n",
       "    </tr>\n",
       "    <tr>\n",
       "      <th>10811</th>\n",
       "      <td>Cc1cc(C)c2[nH]c(=O)c(CN(C[C@@H]3CCCO3)C(=S)N[C...</td>\n",
       "    </tr>\n",
       "    <tr>\n",
       "      <th>8603</th>\n",
       "      <td>CCOc1ccc(N(CC(=O)Nc2c(C)cc(C)cc2C)S(=O)(=O)c2c...</td>\n",
       "    </tr>\n",
       "    <tr>\n",
       "      <th>14866</th>\n",
       "      <td>CCOc1c(Br)cc(C=Nn2c([C@@H](C)CC)nc3ccc(Br)cc3c...</td>\n",
       "    </tr>\n",
       "  </tbody>\n",
       "</table>\n",
       "</div>"
      ],
      "text/plain": [
       "                                                  smiles\n",
       "11679  CCOc1cc(/C=C\\C(=O)OCC(=O)N(CC)[C@H]2CCS(=O)(=O...\n",
       "21833  Cc1cc2c(c(O)c1-c1c(C)cc3c(c1O)/C(=C/Nc1ccccc1C...\n",
       "30468  O=C(CSc1nnc(-c2ccc(Cl)cc2)o1)N(N=Cc1ccccc1)c1c...\n",
       "61729   CCc1ccccc1NC(=O)c1sc2nc3c(c(-c4ccco4)c2c1N)CCCC3\n",
       "57198  CC1CCN(c2ccc(NC(=O)C3CCN(c4ncccn4)CC3)cc2C(N)=...\n",
       "61136  Cc1ccc(COc2ccc(/C=N/N3C(=O)[C@H]4[C@H]5C=C[C@@...\n",
       "16824  CCOC(=O)c1c(CN(CC)CC)n(C)c2c1cc(OC(C)=O)c1c2c(...\n",
       "10811  Cc1cc(C)c2[nH]c(=O)c(CN(C[C@@H]3CCCO3)C(=S)N[C...\n",
       "8603   CCOc1ccc(N(CC(=O)Nc2c(C)cc(C)cc2C)S(=O)(=O)c2c...\n",
       "14866  CCOc1c(Br)cc(C=Nn2c([C@@H](C)CC)nc3ccc(Br)cc3c..."
      ]
     },
     "execution_count": 28,
     "metadata": {},
     "output_type": "execute_result"
    }
   ],
   "source": [
    "zinc_not_similar_data"
   ]
  },
  {
   "cell_type": "markdown",
   "metadata": {},
   "source": [
    "# concatenating and dropping"
   ]
  },
  {
   "cell_type": "code",
   "execution_count": 29,
   "metadata": {},
   "outputs": [],
   "source": [
    "measure_molecules = [pharma_data, zinc_similar_data, zinc_not_similar_data]"
   ]
  },
  {
   "cell_type": "code",
   "execution_count": 30,
   "metadata": {},
   "outputs": [],
   "source": [
    "measure_molecules = pd.concat(measure_molecules)"
   ]
  },
  {
   "cell_type": "code",
   "execution_count": 31,
   "metadata": {},
   "outputs": [
    {
     "data": {
      "text/html": [
       "<div>\n",
       "<style scoped>\n",
       "    .dataframe tbody tr th:only-of-type {\n",
       "        vertical-align: middle;\n",
       "    }\n",
       "\n",
       "    .dataframe tbody tr th {\n",
       "        vertical-align: top;\n",
       "    }\n",
       "\n",
       "    .dataframe thead th {\n",
       "        text-align: right;\n",
       "    }\n",
       "</style>\n",
       "<table border=\"1\" class=\"dataframe\">\n",
       "  <thead>\n",
       "    <tr style=\"text-align: right;\">\n",
       "      <th></th>\n",
       "      <th>smiles</th>\n",
       "    </tr>\n",
       "  </thead>\n",
       "  <tbody>\n",
       "    <tr>\n",
       "      <th>20</th>\n",
       "      <td>CCCCC(=O)OCC(COC(=O)CCCC)OC(=O)CCCC</td>\n",
       "    </tr>\n",
       "    <tr>\n",
       "      <th>3</th>\n",
       "      <td>CN(C)[Si](N(C)C)N(C)C</td>\n",
       "    </tr>\n",
       "    <tr>\n",
       "      <th>13</th>\n",
       "      <td>CCCCCCCCCCCC(=O)O[C@H](CC(=O)O)C[N+](C)(C)C</td>\n",
       "    </tr>\n",
       "    <tr>\n",
       "      <th>34</th>\n",
       "      <td>CN(C)CCCSC(=N)N</td>\n",
       "    </tr>\n",
       "    <tr>\n",
       "      <th>14</th>\n",
       "      <td>CCCCS(=O)(=O)N1CCCCCC1</td>\n",
       "    </tr>\n",
       "    <tr>\n",
       "      <th>0</th>\n",
       "      <td>CCCCC(=O)N[C@@H](C(=O)O)C(C)(C)SN=O</td>\n",
       "    </tr>\n",
       "    <tr>\n",
       "      <th>19</th>\n",
       "      <td>CCCCNC(=O)NCCCC</td>\n",
       "    </tr>\n",
       "    <tr>\n",
       "      <th>12</th>\n",
       "      <td>CCCCCCCCCCCC#CCCCCC(=O)O</td>\n",
       "    </tr>\n",
       "    <tr>\n",
       "      <th>6</th>\n",
       "      <td>CCCCCCC/C=C\\C(=O)O</td>\n",
       "    </tr>\n",
       "    <tr>\n",
       "      <th>7</th>\n",
       "      <td>CCCCCCCC/C=C\\C/C=C\\C/C=C\\CCCC(=O)O</td>\n",
       "    </tr>\n",
       "    <tr>\n",
       "      <th>55717</th>\n",
       "      <td>COc1cccc2c1ccn2CC(=O)Nc1n[nH]c2cccc(F)c12</td>\n",
       "    </tr>\n",
       "    <tr>\n",
       "      <th>30502</th>\n",
       "      <td>O=C1C[C@]2(CCN=N2)C(=O)N1c1ccc(Cl)cc1</td>\n",
       "    </tr>\n",
       "    <tr>\n",
       "      <th>29230</th>\n",
       "      <td>CS(=O)(=O)N(CC(=O)N1CCCCC1)c1ccccc1Cl</td>\n",
       "    </tr>\n",
       "    <tr>\n",
       "      <th>80077</th>\n",
       "      <td>O=C1Nc2ccccc2Oc2ccc(/N=C/c3ccccc3O)cc21</td>\n",
       "    </tr>\n",
       "    <tr>\n",
       "      <th>7729</th>\n",
       "      <td>C[C@@H]1C[C@H](Nc2cccc(CN3CCC[C@H]3C(N)=O)c2)[...</td>\n",
       "    </tr>\n",
       "    <tr>\n",
       "      <th>64920</th>\n",
       "      <td>CCOC(=O)c1ccccc1NC(=O)c1cncc(Br)c1</td>\n",
       "    </tr>\n",
       "    <tr>\n",
       "      <th>2718</th>\n",
       "      <td>N=C(N)c1cc(NC2CC2)ccn1</td>\n",
       "    </tr>\n",
       "    <tr>\n",
       "      <th>94858</th>\n",
       "      <td>CCCCOc1cc(F)cc(C(=O)O)c1</td>\n",
       "    </tr>\n",
       "    <tr>\n",
       "      <th>131079</th>\n",
       "      <td>OCCN1CCN(C2CCN(Cc3ccccn3)CC2)CC1</td>\n",
       "    </tr>\n",
       "    <tr>\n",
       "      <th>87437</th>\n",
       "      <td>O=S(=O)(NCc1ccccc1)Nc1ccccc1-n1cccc1</td>\n",
       "    </tr>\n",
       "    <tr>\n",
       "      <th>11679</th>\n",
       "      <td>CCOc1cc(/C=C\\C(=O)OCC(=O)N(CC)[C@H]2CCS(=O)(=O...</td>\n",
       "    </tr>\n",
       "    <tr>\n",
       "      <th>21833</th>\n",
       "      <td>Cc1cc2c(c(O)c1-c1c(C)cc3c(c1O)/C(=C/Nc1ccccc1C...</td>\n",
       "    </tr>\n",
       "    <tr>\n",
       "      <th>30468</th>\n",
       "      <td>O=C(CSc1nnc(-c2ccc(Cl)cc2)o1)N(N=Cc1ccccc1)c1c...</td>\n",
       "    </tr>\n",
       "    <tr>\n",
       "      <th>61729</th>\n",
       "      <td>CCc1ccccc1NC(=O)c1sc2nc3c(c(-c4ccco4)c2c1N)CCCC3</td>\n",
       "    </tr>\n",
       "    <tr>\n",
       "      <th>57198</th>\n",
       "      <td>CC1CCN(c2ccc(NC(=O)C3CCN(c4ncccn4)CC3)cc2C(N)=...</td>\n",
       "    </tr>\n",
       "    <tr>\n",
       "      <th>61136</th>\n",
       "      <td>Cc1ccc(COc2ccc(/C=N/N3C(=O)[C@H]4[C@H]5C=C[C@@...</td>\n",
       "    </tr>\n",
       "    <tr>\n",
       "      <th>16824</th>\n",
       "      <td>CCOC(=O)c1c(CN(CC)CC)n(C)c2c1cc(OC(C)=O)c1c2c(...</td>\n",
       "    </tr>\n",
       "    <tr>\n",
       "      <th>10811</th>\n",
       "      <td>Cc1cc(C)c2[nH]c(=O)c(CN(C[C@@H]3CCCO3)C(=S)N[C...</td>\n",
       "    </tr>\n",
       "    <tr>\n",
       "      <th>8603</th>\n",
       "      <td>CCOc1ccc(N(CC(=O)Nc2c(C)cc(C)cc2C)S(=O)(=O)c2c...</td>\n",
       "    </tr>\n",
       "    <tr>\n",
       "      <th>14866</th>\n",
       "      <td>CCOc1c(Br)cc(C=Nn2c([C@@H](C)CC)nc3ccc(Br)cc3c...</td>\n",
       "    </tr>\n",
       "  </tbody>\n",
       "</table>\n",
       "</div>"
      ],
      "text/plain": [
       "                                                   smiles\n",
       "20                    CCCCC(=O)OCC(COC(=O)CCCC)OC(=O)CCCC\n",
       "3                                   CN(C)[Si](N(C)C)N(C)C\n",
       "13            CCCCCCCCCCCC(=O)O[C@H](CC(=O)O)C[N+](C)(C)C\n",
       "34                                        CN(C)CCCSC(=N)N\n",
       "14                                 CCCCS(=O)(=O)N1CCCCCC1\n",
       "0                     CCCCC(=O)N[C@@H](C(=O)O)C(C)(C)SN=O\n",
       "19                                        CCCCNC(=O)NCCCC\n",
       "12                               CCCCCCCCCCCC#CCCCCC(=O)O\n",
       "6                                      CCCCCCC/C=C\\C(=O)O\n",
       "7                      CCCCCCCC/C=C\\C/C=C\\C/C=C\\CCCC(=O)O\n",
       "55717           COc1cccc2c1ccn2CC(=O)Nc1n[nH]c2cccc(F)c12\n",
       "30502               O=C1C[C@]2(CCN=N2)C(=O)N1c1ccc(Cl)cc1\n",
       "29230               CS(=O)(=O)N(CC(=O)N1CCCCC1)c1ccccc1Cl\n",
       "80077             O=C1Nc2ccccc2Oc2ccc(/N=C/c3ccccc3O)cc21\n",
       "7729    C[C@@H]1C[C@H](Nc2cccc(CN3CCC[C@H]3C(N)=O)c2)[...\n",
       "64920                  CCOC(=O)c1ccccc1NC(=O)c1cncc(Br)c1\n",
       "2718                               N=C(N)c1cc(NC2CC2)ccn1\n",
       "94858                            CCCCOc1cc(F)cc(C(=O)O)c1\n",
       "131079                   OCCN1CCN(C2CCN(Cc3ccccn3)CC2)CC1\n",
       "87437                O=S(=O)(NCc1ccccc1)Nc1ccccc1-n1cccc1\n",
       "11679   CCOc1cc(/C=C\\C(=O)OCC(=O)N(CC)[C@H]2CCS(=O)(=O...\n",
       "21833   Cc1cc2c(c(O)c1-c1c(C)cc3c(c1O)/C(=C/Nc1ccccc1C...\n",
       "30468   O=C(CSc1nnc(-c2ccc(Cl)cc2)o1)N(N=Cc1ccccc1)c1c...\n",
       "61729    CCc1ccccc1NC(=O)c1sc2nc3c(c(-c4ccco4)c2c1N)CCCC3\n",
       "57198   CC1CCN(c2ccc(NC(=O)C3CCN(c4ncccn4)CC3)cc2C(N)=...\n",
       "61136   Cc1ccc(COc2ccc(/C=N/N3C(=O)[C@H]4[C@H]5C=C[C@@...\n",
       "16824   CCOC(=O)c1c(CN(CC)CC)n(C)c2c1cc(OC(C)=O)c1c2c(...\n",
       "10811   Cc1cc(C)c2[nH]c(=O)c(CN(C[C@@H]3CCCO3)C(=S)N[C...\n",
       "8603    CCOc1ccc(N(CC(=O)Nc2c(C)cc(C)cc2C)S(=O)(=O)c2c...\n",
       "14866   CCOc1c(Br)cc(C=Nn2c([C@@H](C)CC)nc3ccc(Br)cc3c..."
      ]
     },
     "execution_count": 31,
     "metadata": {},
     "output_type": "execute_result"
    }
   ],
   "source": [
    "measure_molecules"
   ]
  },
  {
   "cell_type": "code",
   "execution_count": 32,
   "metadata": {},
   "outputs": [],
   "source": [
    "measure_molecules = measure_molecules.reset_index().drop(columns=['index'])"
   ]
  },
  {
   "cell_type": "code",
   "execution_count": 33,
   "metadata": {},
   "outputs": [],
   "source": [
    "measure_molecules.to_csv('../data/3_final_data/biocad_measurements.csv')"
   ]
  },
  {
   "cell_type": "code",
   "execution_count": 34,
   "metadata": {},
   "outputs": [],
   "source": [
    "zinc_data = zinc_data[~zinc_data.smiles.isin(measure_molecules.smiles)]"
   ]
  },
  {
   "cell_type": "code",
   "execution_count": 35,
   "metadata": {},
   "outputs": [
    {
     "data": {
      "text/plain": [
       "(299950, 1)"
      ]
     },
     "execution_count": 35,
     "metadata": {},
     "output_type": "execute_result"
    }
   ],
   "source": [
    "zinc_data.shape"
   ]
  },
  {
   "cell_type": "code",
   "execution_count": 36,
   "metadata": {},
   "outputs": [],
   "source": [
    "zinc_data.to_csv('../data/3_final_data/split_data/zinc_dataset_test.csv')"
   ]
  },
  {
   "cell_type": "code",
   "execution_count": null,
   "metadata": {},
   "outputs": [],
   "source": []
  },
  {
   "cell_type": "code",
   "execution_count": null,
   "metadata": {},
   "outputs": [],
   "source": []
  }
 ],
 "metadata": {
  "kernelspec": {
   "display_name": "chemvae",
   "language": "python",
   "name": "chemvae"
  },
  "language_info": {
   "codemirror_mode": {
    "name": "ipython",
    "version": 3
   },
   "file_extension": ".py",
   "mimetype": "text/x-python",
   "name": "python",
   "nbconvert_exporter": "python",
   "pygments_lexer": "ipython3",
   "version": "3.6.10"
  },
  "pycharm": {
   "stem_cell": {
    "cell_type": "raw",
    "metadata": {
     "collapsed": false
    },
    "source": []
   }
  }
 },
 "nbformat": 4,
 "nbformat_minor": 1
}
