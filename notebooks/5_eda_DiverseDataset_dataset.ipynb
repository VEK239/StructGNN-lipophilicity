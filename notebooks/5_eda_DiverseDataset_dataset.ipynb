{
 "cells": [
  {
   "cell_type": "markdown",
   "metadata": {},
   "source": [
    "## Dataset from article \"Large, chemically diverse dataset of log P measurements for benchmarking studies\"\n",
    "\n",
    "https://www.sciencedirect.com/science/article/pii/S0928098712004198?via%3Dihub"
   ]
  },
  {
   "cell_type": "markdown",
   "metadata": {},
   "source": [
    "### Summary\n",
    "\n",
    "1. There are 706 molecules with experimental logP and pH\n",
    "\n",
    "2. There is only 1 duplicated molecule with 2 measurments of logP with different pH (CC(C)CCn1c2c(nc1NCCO)n(c(=O)n(c2=O)C)C)\n",
    "\n",
    "3. There is no Temperature column\n",
    "\n",
    "4. Probably these molecules intersect with ochem database"
   ]
  },
  {
   "cell_type": "markdown",
   "metadata": {},
   "source": [
    "## Converting from .txt file to DataFrame"
   ]
  },
  {
   "cell_type": "code",
   "execution_count": 37,
   "metadata": {},
   "outputs": [],
   "source": [
    "import pandas as pd\n",
    "import os\n",
    "import seaborn as sns"
   ]
  },
  {
   "cell_type": "code",
   "execution_count": 38,
   "metadata": {},
   "outputs": [],
   "source": [
    "DATASET_PATH = '../data/raw'\n",
    "DATASET_FILENAME = 'DiverseDataset.txt'"
   ]
  },
  {
   "cell_type": "code",
   "execution_count": 39,
   "metadata": {},
   "outputs": [],
   "source": [
    "col_names = 'ID ZINC(2010) Supplier SMILES logPexp pHofanalysis'.split(' ')"
   ]
  },
  {
   "cell_type": "code",
   "execution_count": 40,
   "metadata": {},
   "outputs": [],
   "source": [
    "logp_data = pd.DataFrame(columns = col_names)"
   ]
  },
  {
   "cell_type": "code",
   "execution_count": 41,
   "metadata": {},
   "outputs": [
    {
     "data": {
      "text/html": [
       "<div>\n",
       "<style scoped>\n",
       "    .dataframe tbody tr th:only-of-type {\n",
       "        vertical-align: middle;\n",
       "    }\n",
       "\n",
       "    .dataframe tbody tr th {\n",
       "        vertical-align: top;\n",
       "    }\n",
       "\n",
       "    .dataframe thead th {\n",
       "        text-align: right;\n",
       "    }\n",
       "</style>\n",
       "<table border=\"1\" class=\"dataframe\">\n",
       "  <thead>\n",
       "    <tr style=\"text-align: right;\">\n",
       "      <th></th>\n",
       "      <th>ID</th>\n",
       "      <th>ZINC(2010)</th>\n",
       "      <th>Supplier</th>\n",
       "      <th>SMILES</th>\n",
       "      <th>logPexp</th>\n",
       "      <th>pHofanalysis</th>\n",
       "    </tr>\n",
       "  </thead>\n",
       "  <tbody>\n",
       "  </tbody>\n",
       "</table>\n",
       "</div>"
      ],
      "text/plain": [
       "Empty DataFrame\n",
       "Columns: [ID, ZINC(2010), Supplier, SMILES, logPexp, pHofanalysis]\n",
       "Index: []"
      ]
     },
     "execution_count": 41,
     "metadata": {},
     "output_type": "execute_result"
    }
   ],
   "source": [
    "logp_data.head()"
   ]
  },
  {
   "cell_type": "code",
   "execution_count": 42,
   "metadata": {},
   "outputs": [],
   "source": [
    "with open(os.path.join(DATASET_PATH,DATASET_FILENAME)) as f:\n",
    "    for i, line in enumerate(f):\n",
    "        if i==0:\n",
    "            continue\n",
    "        \n",
    "        data = line.rstrip().split(' ')\n",
    "        if data[2] == 'Validated' :\n",
    "            \n",
    "            new_row = data[:2]+[' '.join(data[3:-3])]+data[-3:]\n",
    "            new_row = dict([(col_names[i], new_row[i]) for i in range(len(col_names))])\n",
    "            logp_data = logp_data.append(new_row,ignore_index=True)"
   ]
  },
  {
   "cell_type": "code",
   "execution_count": 43,
   "metadata": {},
   "outputs": [],
   "source": [
    "logp_data[['ID', 'logPexp', 'pHofanalysis']] = logp_data[['ID', 'logPexp', 'pHofanalysis']].apply(pd.to_numeric)"
   ]
  },
  {
   "cell_type": "code",
   "execution_count": 44,
   "metadata": {},
   "outputs": [
    {
     "name": "stdout",
     "output_type": "stream",
     "text": [
      "<class 'pandas.core.frame.DataFrame'>\n",
      "RangeIndex: 707 entries, 0 to 706\n",
      "Data columns (total 6 columns):\n",
      " #   Column        Non-Null Count  Dtype  \n",
      "---  ------        --------------  -----  \n",
      " 0   ID            707 non-null    int64  \n",
      " 1   ZINC(2010)    707 non-null    object \n",
      " 2   Supplier      707 non-null    object \n",
      " 3   SMILES        707 non-null    object \n",
      " 4   logPexp       707 non-null    float64\n",
      " 5   pHofanalysis  707 non-null    float64\n",
      "dtypes: float64(2), int64(1), object(3)\n",
      "memory usage: 33.3+ KB\n"
     ]
    }
   ],
   "source": [
    "logp_data.info()"
   ]
  },
  {
   "cell_type": "code",
   "execution_count": 45,
   "metadata": {},
   "outputs": [
    {
     "data": {
      "text/html": [
       "<div>\n",
       "<style scoped>\n",
       "    .dataframe tbody tr th:only-of-type {\n",
       "        vertical-align: middle;\n",
       "    }\n",
       "\n",
       "    .dataframe tbody tr th {\n",
       "        vertical-align: top;\n",
       "    }\n",
       "\n",
       "    .dataframe thead th {\n",
       "        text-align: right;\n",
       "    }\n",
       "</style>\n",
       "<table border=\"1\" class=\"dataframe\">\n",
       "  <thead>\n",
       "    <tr style=\"text-align: right;\">\n",
       "      <th></th>\n",
       "      <th>ID</th>\n",
       "      <th>ZINC(2010)</th>\n",
       "      <th>Supplier</th>\n",
       "      <th>SMILES</th>\n",
       "      <th>logPexp</th>\n",
       "      <th>pHofanalysis</th>\n",
       "    </tr>\n",
       "  </thead>\n",
       "  <tbody>\n",
       "    <tr>\n",
       "      <th>0</th>\n",
       "      <td>1</td>\n",
       "      <td>ZINC00036522</td>\n",
       "      <td>Specs</td>\n",
       "      <td>Cc1cc2c(cc1C)NC(=O)C[C@H]2c3ccccc3OC</td>\n",
       "      <td>4.17</td>\n",
       "      <td>5.0</td>\n",
       "    </tr>\n",
       "    <tr>\n",
       "      <th>1</th>\n",
       "      <td>3</td>\n",
       "      <td>ZINC00185379</td>\n",
       "      <td>ChemBridge</td>\n",
       "      <td>COc1ccc2c(c1)O[C@@](CC2=O)(C(F)(F)F)O</td>\n",
       "      <td>2.79</td>\n",
       "      <td>5.0</td>\n",
       "    </tr>\n",
       "    <tr>\n",
       "      <th>2</th>\n",
       "      <td>4</td>\n",
       "      <td>ZINC12402487</td>\n",
       "      <td>ChemBridge</td>\n",
       "      <td>CC1(O[C@H]([C@H](O1)C(=O)N)C(=O)N)C(C)(C)C</td>\n",
       "      <td>1.60</td>\n",
       "      <td>6.5</td>\n",
       "    </tr>\n",
       "    <tr>\n",
       "      <th>3</th>\n",
       "      <td>5</td>\n",
       "      <td>ZINC00055459</td>\n",
       "      <td>Specs</td>\n",
       "      <td>CCOc1cc(cc(c1OCC)OCC)c2nnc(o2)c3ccco3</td>\n",
       "      <td>3.96</td>\n",
       "      <td>10.5</td>\n",
       "    </tr>\n",
       "    <tr>\n",
       "      <th>4</th>\n",
       "      <td>6</td>\n",
       "      <td>ZINC00056871</td>\n",
       "      <td>Enamine</td>\n",
       "      <td>CN(C)c1ccc(cc1)C(=C)c2ccc(cc2)N(C)C</td>\n",
       "      <td>5.30</td>\n",
       "      <td>7.3</td>\n",
       "    </tr>\n",
       "  </tbody>\n",
       "</table>\n",
       "</div>"
      ],
      "text/plain": [
       "   ID    ZINC(2010)    Supplier                                      SMILES  \\\n",
       "0   1  ZINC00036522       Specs        Cc1cc2c(cc1C)NC(=O)C[C@H]2c3ccccc3OC   \n",
       "1   3  ZINC00185379  ChemBridge       COc1ccc2c(c1)O[C@@](CC2=O)(C(F)(F)F)O   \n",
       "2   4  ZINC12402487  ChemBridge  CC1(O[C@H]([C@H](O1)C(=O)N)C(=O)N)C(C)(C)C   \n",
       "3   5  ZINC00055459       Specs       CCOc1cc(cc(c1OCC)OCC)c2nnc(o2)c3ccco3   \n",
       "4   6  ZINC00056871     Enamine         CN(C)c1ccc(cc1)C(=C)c2ccc(cc2)N(C)C   \n",
       "\n",
       "   logPexp  pHofanalysis  \n",
       "0     4.17           5.0  \n",
       "1     2.79           5.0  \n",
       "2     1.60           6.5  \n",
       "3     3.96          10.5  \n",
       "4     5.30           7.3  "
      ]
     },
     "execution_count": 45,
     "metadata": {},
     "output_type": "execute_result"
    }
   ],
   "source": [
    "logp_data.head()"
   ]
  },
  {
   "cell_type": "code",
   "execution_count": 46,
   "metadata": {},
   "outputs": [],
   "source": [
    "logp_data['smiles'] = logp_data['SMILES']\n",
    "logp_data['logP'] = logp_data['logPexp']\n",
    "logp_data['pH'] = logp_data['pHofanalysis']\n",
    "\n",
    "PROCESSED_PATH = '../data/1_filtering/'\n",
    "\n",
    "logp_data[['smiles','logP','pH']].to_csv(os.path.join(PROCESSED_PATH,'Diverse1KDataset.csv'))"
   ]
  },
  {
   "cell_type": "markdown",
   "metadata": {},
   "source": [
    "## Getting info about dataset"
   ]
  },
  {
   "cell_type": "code",
   "execution_count": 47,
   "metadata": {},
   "outputs": [],
   "source": [
    "import pandas as pd\n",
    "import os\n",
    "import seaborn as sns"
   ]
  },
  {
   "cell_type": "code",
   "execution_count": 48,
   "metadata": {},
   "outputs": [],
   "source": [
    "DATASET_PATH = '../data/1_filtering/'\n",
    "DATASET_FILENAME = 'Diverse1KDataset.csv'"
   ]
  },
  {
   "cell_type": "code",
   "execution_count": 49,
   "metadata": {},
   "outputs": [],
   "source": [
    "logp_data = pd.read_csv(os.path.join(DATASET_PATH,DATASET_FILENAME), index_col=0)"
   ]
  },
  {
   "cell_type": "code",
   "execution_count": 50,
   "metadata": {},
   "outputs": [],
   "source": [
    "VALUE_COLUMN = 'logP'\n",
    "PH_COLUMN = 'pH'\n",
    "SMILES_COLUMN = 'smiles'\n",
    "\n",
    "n = logp_data.shape[0]"
   ]
  },
  {
   "cell_type": "code",
   "execution_count": 51,
   "metadata": {},
   "outputs": [
    {
     "name": "stdout",
     "output_type": "stream",
     "text": [
      "# of NA values logP = 0, 0%\n"
     ]
    },
    {
     "data": {
      "text/html": [
       "<div>\n",
       "<style scoped>\n",
       "    .dataframe tbody tr th:only-of-type {\n",
       "        vertical-align: middle;\n",
       "    }\n",
       "\n",
       "    .dataframe tbody tr th {\n",
       "        vertical-align: top;\n",
       "    }\n",
       "\n",
       "    .dataframe thead th {\n",
       "        text-align: right;\n",
       "    }\n",
       "</style>\n",
       "<table border=\"1\" class=\"dataframe\">\n",
       "  <thead>\n",
       "    <tr style=\"text-align: right;\">\n",
       "      <th></th>\n",
       "      <th>smiles</th>\n",
       "      <th>logP</th>\n",
       "      <th>pH</th>\n",
       "    </tr>\n",
       "  </thead>\n",
       "  <tbody>\n",
       "  </tbody>\n",
       "</table>\n",
       "</div>"
      ],
      "text/plain": [
       "Empty DataFrame\n",
       "Columns: [smiles, logP, pH]\n",
       "Index: []"
      ]
     },
     "execution_count": 51,
     "metadata": {},
     "output_type": "execute_result"
    }
   ],
   "source": [
    "# check NA values\n",
    "num_of_na_value = logp_data[VALUE_COLUMN].isna().sum()\n",
    "frac_of_na_value = int(100.0*(num_of_na_value / n))\n",
    "print(\"# of NA values logP = \" + str(num_of_na_value) + \", \" + str(frac_of_na_value) + \"%\")\n",
    "logp_data[logp_data[VALUE_COLUMN].isna()]"
   ]
  },
  {
   "cell_type": "code",
   "execution_count": 52,
   "metadata": {},
   "outputs": [
    {
     "data": {
      "text/html": [
       "<div>\n",
       "<style scoped>\n",
       "    .dataframe tbody tr th:only-of-type {\n",
       "        vertical-align: middle;\n",
       "    }\n",
       "\n",
       "    .dataframe tbody tr th {\n",
       "        vertical-align: top;\n",
       "    }\n",
       "\n",
       "    .dataframe thead th {\n",
       "        text-align: right;\n",
       "    }\n",
       "</style>\n",
       "<table border=\"1\" class=\"dataframe\">\n",
       "  <thead>\n",
       "    <tr style=\"text-align: right;\">\n",
       "      <th></th>\n",
       "      <th>logP</th>\n",
       "      <th>pH</th>\n",
       "    </tr>\n",
       "  </thead>\n",
       "  <tbody>\n",
       "    <tr>\n",
       "      <th>count</th>\n",
       "      <td>707.000000</td>\n",
       "      <td>707.000000</td>\n",
       "    </tr>\n",
       "    <tr>\n",
       "      <th>mean</th>\n",
       "      <td>4.188713</td>\n",
       "      <td>6.438614</td>\n",
       "    </tr>\n",
       "    <tr>\n",
       "      <th>std</th>\n",
       "      <td>1.179046</td>\n",
       "      <td>2.292337</td>\n",
       "    </tr>\n",
       "    <tr>\n",
       "      <th>min</th>\n",
       "      <td>0.300000</td>\n",
       "      <td>2.000000</td>\n",
       "    </tr>\n",
       "    <tr>\n",
       "      <th>25%</th>\n",
       "      <td>3.460000</td>\n",
       "      <td>5.000000</td>\n",
       "    </tr>\n",
       "    <tr>\n",
       "      <th>50%</th>\n",
       "      <td>4.330000</td>\n",
       "      <td>5.000000</td>\n",
       "    </tr>\n",
       "    <tr>\n",
       "      <th>75%</th>\n",
       "      <td>4.980000</td>\n",
       "      <td>7.300000</td>\n",
       "    </tr>\n",
       "    <tr>\n",
       "      <th>max</th>\n",
       "      <td>6.960000</td>\n",
       "      <td>10.500000</td>\n",
       "    </tr>\n",
       "  </tbody>\n",
       "</table>\n",
       "</div>"
      ],
      "text/plain": [
       "             logP          pH\n",
       "count  707.000000  707.000000\n",
       "mean     4.188713    6.438614\n",
       "std      1.179046    2.292337\n",
       "min      0.300000    2.000000\n",
       "25%      3.460000    5.000000\n",
       "50%      4.330000    5.000000\n",
       "75%      4.980000    7.300000\n",
       "max      6.960000   10.500000"
      ]
     },
     "execution_count": 52,
     "metadata": {},
     "output_type": "execute_result"
    }
   ],
   "source": [
    "logp_data[[VALUE_COLUMN, PH_COLUMN]].describe()"
   ]
  },
  {
   "cell_type": "code",
   "execution_count": 53,
   "metadata": {},
   "outputs": [
    {
     "data": {
      "text/plain": [
       "<matplotlib.axes._subplots.AxesSubplot at 0x7f3fd71cad50>"
      ]
     },
     "execution_count": 53,
     "metadata": {},
     "output_type": "execute_result"
    },
    {
     "data": {
      "image/png": "[encoded data removed]",
      "text/plain": [
       "<Figure size 432x288 with 1 Axes>"
      ]
     },
     "metadata": {
      "needs_background": "light"
     },
     "output_type": "display_data"
    }
   ],
   "source": [
    "# logP value distribution\n",
    "sns.distplot(logp_data[VALUE_COLUMN])"
   ]
  },
  {
   "cell_type": "code",
   "execution_count": 54,
   "metadata": {},
   "outputs": [
    {
     "name": "stdout",
     "output_type": "stream",
     "text": [
      "# of NA values pH = 0, 0%\n"
     ]
    },
    {
     "data": {
      "text/plain": [
       "count    707.000000\n",
       "mean       6.438614\n",
       "std        2.292337\n",
       "min        2.000000\n",
       "25%        5.000000\n",
       "50%        5.000000\n",
       "75%        7.300000\n",
       "max       10.500000\n",
       "Name: pH, dtype: float64"
      ]
     },
     "execution_count": 54,
     "metadata": {},
     "output_type": "execute_result"
    }
   ],
   "source": [
    "num_of_na_ph = logp_data[PH_COLUMN].isna().sum()\n",
    "frac_of_na_ph = int(100.0*(num_of_na_ph / n))\n",
    "print(\"# of NA values pH = \" + str(num_of_na_ph) + \", \" + str(frac_of_na_ph) + \"%\")\n",
    "ph_df = logp_data[logp_data[PH_COLUMN].notna()][PH_COLUMN].astype(float)\n",
    "ph_df.describe()"
   ]
  },
  {
   "cell_type": "code",
   "execution_count": 55,
   "metadata": {},
   "outputs": [
    {
     "data": {
      "text/plain": [
       "<matplotlib.axes._subplots.AxesSubplot at 0x7f3fd71b1490>"
      ]
     },
     "execution_count": 55,
     "metadata": {},
     "output_type": "execute_result"
    },
    {
     "data": {
      "image/png": "[encoded data removed]",
      "text/plain": [
       "<Figure size 432x288 with 1 Axes>"
      ]
     },
     "metadata": {
      "needs_background": "light"
     },
     "output_type": "display_data"
    }
   ],
   "source": [
    "# pH parameter disctribution\n",
    "sns.distplot(ph_df)"
   ]
  },
  {
   "cell_type": "code",
   "execution_count": 56,
   "metadata": {},
   "outputs": [
    {
     "data": {
      "text/plain": [
       "706"
      ]
     },
     "execution_count": 56,
     "metadata": {},
     "output_type": "execute_result"
    }
   ],
   "source": [
    "# duplicated molecules\n",
    "logp_data[SMILES_COLUMN].unique().size"
   ]
  },
  {
   "cell_type": "code",
   "execution_count": 57,
   "metadata": {},
   "outputs": [
    {
     "data": {
      "text/plain": [
       "Index(['CC(C)CCn1c2c(nc1NCCO)n(c(=O)n(c2=O)C)C'], dtype='object', name='smiles')"
      ]
     },
     "execution_count": 57,
     "metadata": {},
     "output_type": "execute_result"
    }
   ],
   "source": [
    "logp_data.groupby(SMILES_COLUMN).count().index[(logp_data.groupby(SMILES_COLUMN).count()[PH_COLUMN]==2).values]"
   ]
  },
  {
   "cell_type": "code",
   "execution_count": 58,
   "metadata": {},
   "outputs": [
    {
     "data": {
      "text/html": [
       "<div>\n",
       "<style scoped>\n",
       "    .dataframe tbody tr th:only-of-type {\n",
       "        vertical-align: middle;\n",
       "    }\n",
       "\n",
       "    .dataframe tbody tr th {\n",
       "        vertical-align: top;\n",
       "    }\n",
       "\n",
       "    .dataframe thead th {\n",
       "        text-align: right;\n",
       "    }\n",
       "</style>\n",
       "<table border=\"1\" class=\"dataframe\">\n",
       "  <thead>\n",
       "    <tr style=\"text-align: right;\">\n",
       "      <th></th>\n",
       "      <th>smiles</th>\n",
       "      <th>logP</th>\n",
       "      <th>pH</th>\n",
       "    </tr>\n",
       "  </thead>\n",
       "  <tbody>\n",
       "    <tr>\n",
       "      <th>300</th>\n",
       "      <td>CC(C)CCn1c2c(nc1NCCO)n(c(=O)n(c2=O)C)C</td>\n",
       "      <td>2.93</td>\n",
       "      <td>7.3</td>\n",
       "    </tr>\n",
       "    <tr>\n",
       "      <th>320</th>\n",
       "      <td>CC(C)CCn1c2c(nc1NCCO)n(c(=O)n(c2=O)C)C</td>\n",
       "      <td>5.36</td>\n",
       "      <td>5.0</td>\n",
       "    </tr>\n",
       "  </tbody>\n",
       "</table>\n",
       "</div>"
      ],
      "text/plain": [
       "                                     smiles  logP   pH\n",
       "300  CC(C)CCn1c2c(nc1NCCO)n(c(=O)n(c2=O)C)C  2.93  7.3\n",
       "320  CC(C)CCn1c2c(nc1NCCO)n(c(=O)n(c2=O)C)C  5.36  5.0"
      ]
     },
     "execution_count": 58,
     "metadata": {},
     "output_type": "execute_result"
    }
   ],
   "source": [
    "logp_data[logp_data[SMILES_COLUMN]=='CC(C)CCn1c2c(nc1NCCO)n(c(=O)n(c2=O)C)C']"
   ]
  },
  {
   "cell_type": "code",
   "execution_count": 59,
   "metadata": {},
   "outputs": [],
   "source": [
    "PROCESSED_PATH = '../data/1_filtering/Diverse1KDataset.csv'\n",
    "\n",
    "logp_data.to_csv(PROCESSED_PATH)"
   ]
  },
  {
   "cell_type": "code",
   "execution_count": 60,
   "metadata": {},
   "outputs": [
    {
     "data": {
      "text/html": [
       "<div>\n",
       "<style scoped>\n",
       "    .dataframe tbody tr th:only-of-type {\n",
       "        vertical-align: middle;\n",
       "    }\n",
       "\n",
       "    .dataframe tbody tr th {\n",
       "        vertical-align: top;\n",
       "    }\n",
       "\n",
       "    .dataframe thead th {\n",
       "        text-align: right;\n",
       "    }\n",
       "</style>\n",
       "<table border=\"1\" class=\"dataframe\">\n",
       "  <thead>\n",
       "    <tr style=\"text-align: right;\">\n",
       "      <th></th>\n",
       "      <th>smiles</th>\n",
       "      <th>logP</th>\n",
       "      <th>pH</th>\n",
       "    </tr>\n",
       "  </thead>\n",
       "  <tbody>\n",
       "    <tr>\n",
       "      <th>0</th>\n",
       "      <td>Cc1cc2c(cc1C)NC(=O)C[C@H]2c3ccccc3OC</td>\n",
       "      <td>4.17</td>\n",
       "      <td>5.0</td>\n",
       "    </tr>\n",
       "    <tr>\n",
       "      <th>1</th>\n",
       "      <td>COc1ccc2c(c1)O[C@@](CC2=O)(C(F)(F)F)O</td>\n",
       "      <td>2.79</td>\n",
       "      <td>5.0</td>\n",
       "    </tr>\n",
       "    <tr>\n",
       "      <th>2</th>\n",
       "      <td>CC1(O[C@H]([C@H](O1)C(=O)N)C(=O)N)C(C)(C)C</td>\n",
       "      <td>1.60</td>\n",
       "      <td>6.5</td>\n",
       "    </tr>\n",
       "    <tr>\n",
       "      <th>3</th>\n",
       "      <td>CCOc1cc(cc(c1OCC)OCC)c2nnc(o2)c3ccco3</td>\n",
       "      <td>3.96</td>\n",
       "      <td>10.5</td>\n",
       "    </tr>\n",
       "    <tr>\n",
       "      <th>4</th>\n",
       "      <td>CN(C)c1ccc(cc1)C(=C)c2ccc(cc2)N(C)C</td>\n",
       "      <td>5.30</td>\n",
       "      <td>7.3</td>\n",
       "    </tr>\n",
       "    <tr>\n",
       "      <th>...</th>\n",
       "      <td>...</td>\n",
       "      <td>...</td>\n",
       "      <td>...</td>\n",
       "    </tr>\n",
       "    <tr>\n",
       "      <th>702</th>\n",
       "      <td>OCC#CC(c2ccc(F)cc2)(O)c1ccc(F)cc1</td>\n",
       "      <td>3.61</td>\n",
       "      <td>5.0</td>\n",
       "    </tr>\n",
       "    <tr>\n",
       "      <th>703</th>\n",
       "      <td>CC/N=C\\1/N(C(=O)/C(=C/c2cn(c3c2cccc3)CC(=O)Nc4...</td>\n",
       "      <td>5.80</td>\n",
       "      <td>10.0</td>\n",
       "    </tr>\n",
       "    <tr>\n",
       "      <th>704</th>\n",
       "      <td>c1ccc2c(c1)nc(n2C[C@@H](CO)O)SCCSc3nc4ccccc4n3...</td>\n",
       "      <td>3.29</td>\n",
       "      <td>10.5</td>\n",
       "    </tr>\n",
       "    <tr>\n",
       "      <th>705</th>\n",
       "      <td>CCOC(=O)c1ccc(cc1)C#N</td>\n",
       "      <td>1.87</td>\n",
       "      <td>5.0</td>\n",
       "    </tr>\n",
       "    <tr>\n",
       "      <th>706</th>\n",
       "      <td>C=CCn(c2=O)c(SCc3ccccc3)nc1c2cccc1</td>\n",
       "      <td>5.11</td>\n",
       "      <td>7.3</td>\n",
       "    </tr>\n",
       "  </tbody>\n",
       "</table>\n",
       "<p>707 rows × 3 columns</p>\n",
       "</div>"
      ],
      "text/plain": [
       "                                                smiles  logP    pH\n",
       "0                 Cc1cc2c(cc1C)NC(=O)C[C@H]2c3ccccc3OC  4.17   5.0\n",
       "1                COc1ccc2c(c1)O[C@@](CC2=O)(C(F)(F)F)O  2.79   5.0\n",
       "2           CC1(O[C@H]([C@H](O1)C(=O)N)C(=O)N)C(C)(C)C  1.60   6.5\n",
       "3                CCOc1cc(cc(c1OCC)OCC)c2nnc(o2)c3ccco3  3.96  10.5\n",
       "4                  CN(C)c1ccc(cc1)C(=C)c2ccc(cc2)N(C)C  5.30   7.3\n",
       "..                                                 ...   ...   ...\n",
       "702                  OCC#CC(c2ccc(F)cc2)(O)c1ccc(F)cc1  3.61   5.0\n",
       "703  CC/N=C\\1/N(C(=O)/C(=C/c2cn(c3c2cccc3)CC(=O)Nc4...  5.80  10.0\n",
       "704  c1ccc2c(c1)nc(n2C[C@@H](CO)O)SCCSc3nc4ccccc4n3...  3.29  10.5\n",
       "705                              CCOC(=O)c1ccc(cc1)C#N  1.87   5.0\n",
       "706                 C=CCn(c2=O)c(SCc3ccccc3)nc1c2cccc1  5.11   7.3\n",
       "\n",
       "[707 rows x 3 columns]"
      ]
     },
     "execution_count": 60,
     "metadata": {},
     "output_type": "execute_result"
    }
   ],
   "source": [
    "pd.read_csv(PROCESSED_PATH, index_col=0)"
   ]
  },
  {
   "cell_type": "code",
   "execution_count": null,
   "metadata": {},
   "outputs": [],
   "source": []
  }
 ],
 "metadata": {
  "kernelspec": {
   "display_name": "Python 3",
   "language": "python",
   "name": "python3"
  },
  "language_info": {
   "codemirror_mode": {
    "name": "ipython",
    "version": 3
   },
   "file_extension": ".py",
   "mimetype": "text/x-python",
   "name": "python",
   "nbconvert_exporter": "python",
   "pygments_lexer": "ipython3",
   "version": "3.7.6"
  }
 },
 "nbformat": 4,
 "nbformat_minor": 4
}
