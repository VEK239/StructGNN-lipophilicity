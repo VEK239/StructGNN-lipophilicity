{
 "cells": [
  {
   "cell_type": "markdown",
   "metadata": {},
   "source": [
    "# EDA of logp_ochem_dataset.csv\n",
    "\n",
    "## Summary\n",
    "\n",
    "1. There are 980 definitely experimental items (the method for logP measurement is mentioned). \n",
    "2. There are 67% NA values for Temperature, 56% NA for pH.\n",
    "3. All in all 773 logP records, 255 logP+t records, 167 full records\n"
   ]
  },
  {
   "cell_type": "code",
   "execution_count": 1,
   "metadata": {
    "pycharm": {
     "is_executing": false
    }
   },
   "outputs": [],
   "source": [
    "import pandas as pd\n",
    "import matplotlib.pyplot as plt\n",
    "import math\n",
    "import seaborn as sns\n",
    "\n",
    "import sys\n",
    "\n",
    "# original dataset (logp_ochem_dataset.csv) was preprocessed: \n",
    "# some columns removed + column 'methodKnown' added (1 - logP measurement method known, 0 - otherwise)\n",
    "OCHEM_DATA_FILE_PATH = \"../data/raw/logp_ochem_dataset_fixed.csv\""
   ]
  },
  {
   "cell_type": "code",
   "execution_count": 2,
   "metadata": {
    "pycharm": {
     "is_executing": false,
     "name": "#%%\n"
    }
   },
   "outputs": [],
   "source": [
    "def check_na(df, column):\n",
    "    n = df.shape[0]\n",
    "    num_of_na = df[column].isna().sum()\n",
    "    frac_of_na = int(100.0*(num_of_na / n))\n",
    "    print(\"# of NA values \" + column + \": \" + str(num_of_na) + \", \" + str(frac_of_na) + \"%\")\n",
    "    print(df[df[column].isna()].head())"
   ]
  },
  {
   "cell_type": "code",
   "execution_count": 3,
   "metadata": {
    "pycharm": {
     "is_executing": false,
     "name": "#%%\n"
    }
   },
   "outputs": [
    {
     "data": {
      "text/html": [
       "<div>\n",
       "<style scoped>\n",
       "    .dataframe tbody tr th:only-of-type {\n",
       "        vertical-align: middle;\n",
       "    }\n",
       "\n",
       "    .dataframe tbody tr th {\n",
       "        vertical-align: top;\n",
       "    }\n",
       "\n",
       "    .dataframe thead th {\n",
       "        text-align: right;\n",
       "    }\n",
       "</style>\n",
       "<table border=\"1\" class=\"dataframe\">\n",
       "  <thead>\n",
       "    <tr style=\"text-align: right;\">\n",
       "      <th></th>\n",
       "      <th>SMILES</th>\n",
       "      <th>logPow {measured}</th>\n",
       "      <th>pH</th>\n",
       "      <th>logPow Method</th>\n",
       "      <th>Temperature</th>\n",
       "      <th>methodKnown</th>\n",
       "      <th>Unnamed: 6</th>\n",
       "    </tr>\n",
       "  </thead>\n",
       "  <tbody>\n",
       "    <tr>\n",
       "      <th>0</th>\n",
       "      <td>NC1=C(CO)C2=NC3=CC=CC=C3C=C2C=C1</td>\n",
       "      <td>1.77</td>\n",
       "      <td>NaN</td>\n",
       "      <td>NaN</td>\n",
       "      <td>NaN</td>\n",
       "      <td>0</td>\n",
       "      <td>NaN</td>\n",
       "    </tr>\n",
       "    <tr>\n",
       "      <th>1</th>\n",
       "      <td>CNC1=C(CO)C2=NC3=CC=CC=C3C=C2C=C1</td>\n",
       "      <td>2.1</td>\n",
       "      <td>NaN</td>\n",
       "      <td>NaN</td>\n",
       "      <td>NaN</td>\n",
       "      <td>0</td>\n",
       "      <td>NaN</td>\n",
       "    </tr>\n",
       "    <tr>\n",
       "      <th>2</th>\n",
       "      <td>CN(C)C1=C(CO)C2=NC3=C(C=CC=C3)C=C2C=C1</td>\n",
       "      <td>2.2</td>\n",
       "      <td>NaN</td>\n",
       "      <td>NaN</td>\n",
       "      <td>NaN</td>\n",
       "      <td>0</td>\n",
       "      <td>NaN</td>\n",
       "    </tr>\n",
       "    <tr>\n",
       "      <th>3</th>\n",
       "      <td>O=C1NC2=C(CO1)C1=C(C=C2)C=C2C=CC=CC2=N1</td>\n",
       "      <td>1.64</td>\n",
       "      <td>NaN</td>\n",
       "      <td>NaN</td>\n",
       "      <td>NaN</td>\n",
       "      <td>0</td>\n",
       "      <td>NaN</td>\n",
       "    </tr>\n",
       "    <tr>\n",
       "      <th>4</th>\n",
       "      <td>CN(C1=CC2=NC3=C(C=CC4=C3COCN4)C=C2C=C1)S(C)(=O)=O</td>\n",
       "      <td>1.54</td>\n",
       "      <td>NaN</td>\n",
       "      <td>NaN</td>\n",
       "      <td>NaN</td>\n",
       "      <td>0</td>\n",
       "      <td>NaN</td>\n",
       "    </tr>\n",
       "  </tbody>\n",
       "</table>\n",
       "</div>"
      ],
      "text/plain": [
       "                                              SMILES logPow {measured}   pH  \\\n",
       "0                   NC1=C(CO)C2=NC3=CC=CC=C3C=C2C=C1              1.77  NaN   \n",
       "1                  CNC1=C(CO)C2=NC3=CC=CC=C3C=C2C=C1               2.1  NaN   \n",
       "2             CN(C)C1=C(CO)C2=NC3=C(C=CC=C3)C=C2C=C1               2.2  NaN   \n",
       "3            O=C1NC2=C(CO1)C1=C(C=C2)C=C2C=CC=CC2=N1              1.64  NaN   \n",
       "4  CN(C1=CC2=NC3=C(C=CC4=C3COCN4)C=C2C=C1)S(C)(=O)=O              1.54  NaN   \n",
       "\n",
       "  logPow Method Temperature  methodKnown Unnamed: 6  \n",
       "0           NaN         NaN            0        NaN  \n",
       "1           NaN         NaN            0        NaN  \n",
       "2           NaN         NaN            0        NaN  \n",
       "3           NaN         NaN            0        NaN  \n",
       "4           NaN         NaN            0        NaN  "
      ]
     },
     "execution_count": 3,
     "metadata": {},
     "output_type": "execute_result"
    }
   ],
   "source": [
    "ochem_data = pd.read_csv(OCHEM_DATA_FILE_PATH, delimiter=\",\", low_memory=False)\n",
    "ochem_data.head()"
   ]
  },
  {
   "cell_type": "code",
   "execution_count": 4,
   "metadata": {
    "pycharm": {
     "is_executing": false
    }
   },
   "outputs": [],
   "source": [
    "ochem_logp_data = ochem_data.drop(columns=['Unnamed: 6'])"
   ]
  },
  {
   "cell_type": "code",
   "execution_count": 5,
   "metadata": {
    "pycharm": {
     "name": "#%%\n"
    }
   },
   "outputs": [
    {
     "data": {
      "text/plain": [
       "(85842, 6)"
      ]
     },
     "execution_count": 5,
     "metadata": {},
     "output_type": "execute_result"
    }
   ],
   "source": [
    "ochem_logp_data.shape"
   ]
  },
  {
   "cell_type": "code",
   "execution_count": 6,
   "metadata": {
    "scrolled": true
   },
   "outputs": [
    {
     "data": {
      "text/html": [
       "<div>\n",
       "<style scoped>\n",
       "    .dataframe tbody tr th:only-of-type {\n",
       "        vertical-align: middle;\n",
       "    }\n",
       "\n",
       "    .dataframe tbody tr th {\n",
       "        vertical-align: top;\n",
       "    }\n",
       "\n",
       "    .dataframe thead th {\n",
       "        text-align: right;\n",
       "    }\n",
       "</style>\n",
       "<table border=\"1\" class=\"dataframe\">\n",
       "  <thead>\n",
       "    <tr style=\"text-align: right;\">\n",
       "      <th></th>\n",
       "      <th>SMILES</th>\n",
       "      <th>logP</th>\n",
       "      <th>pH</th>\n",
       "      <th>logPow Method</th>\n",
       "      <th>Temperature</th>\n",
       "      <th>methodKnown</th>\n",
       "    </tr>\n",
       "  </thead>\n",
       "  <tbody>\n",
       "    <tr>\n",
       "      <th>0</th>\n",
       "      <td>NC1=C(CO)C2=NC3=CC=CC=C3C=C2C=C1</td>\n",
       "      <td>1.77</td>\n",
       "      <td>NaN</td>\n",
       "      <td>NaN</td>\n",
       "      <td>NaN</td>\n",
       "      <td>0</td>\n",
       "    </tr>\n",
       "    <tr>\n",
       "      <th>1</th>\n",
       "      <td>CNC1=C(CO)C2=NC3=CC=CC=C3C=C2C=C1</td>\n",
       "      <td>2.1</td>\n",
       "      <td>NaN</td>\n",
       "      <td>NaN</td>\n",
       "      <td>NaN</td>\n",
       "      <td>0</td>\n",
       "    </tr>\n",
       "    <tr>\n",
       "      <th>2</th>\n",
       "      <td>CN(C)C1=C(CO)C2=NC3=C(C=CC=C3)C=C2C=C1</td>\n",
       "      <td>2.2</td>\n",
       "      <td>NaN</td>\n",
       "      <td>NaN</td>\n",
       "      <td>NaN</td>\n",
       "      <td>0</td>\n",
       "    </tr>\n",
       "    <tr>\n",
       "      <th>3</th>\n",
       "      <td>O=C1NC2=C(CO1)C1=C(C=C2)C=C2C=CC=CC2=N1</td>\n",
       "      <td>1.64</td>\n",
       "      <td>NaN</td>\n",
       "      <td>NaN</td>\n",
       "      <td>NaN</td>\n",
       "      <td>0</td>\n",
       "    </tr>\n",
       "    <tr>\n",
       "      <th>4</th>\n",
       "      <td>CN(C1=CC2=NC3=C(C=CC4=C3COCN4)C=C2C=C1)S(C)(=O)=O</td>\n",
       "      <td>1.54</td>\n",
       "      <td>NaN</td>\n",
       "      <td>NaN</td>\n",
       "      <td>NaN</td>\n",
       "      <td>0</td>\n",
       "    </tr>\n",
       "  </tbody>\n",
       "</table>\n",
       "</div>"
      ],
      "text/plain": [
       "                                              SMILES  logP   pH logPow Method  \\\n",
       "0                   NC1=C(CO)C2=NC3=CC=CC=C3C=C2C=C1  1.77  NaN           NaN   \n",
       "1                  CNC1=C(CO)C2=NC3=CC=CC=C3C=C2C=C1   2.1  NaN           NaN   \n",
       "2             CN(C)C1=C(CO)C2=NC3=C(C=CC=C3)C=C2C=C1   2.2  NaN           NaN   \n",
       "3            O=C1NC2=C(CO1)C1=C(C=C2)C=C2C=CC=CC2=N1  1.64  NaN           NaN   \n",
       "4  CN(C1=CC2=NC3=C(C=CC4=C3COCN4)C=C2C=C1)S(C)(=O)=O  1.54  NaN           NaN   \n",
       "\n",
       "  Temperature  methodKnown  \n",
       "0         NaN            0  \n",
       "1         NaN            0  \n",
       "2         NaN            0  \n",
       "3         NaN            0  \n",
       "4         NaN            0  "
      ]
     },
     "execution_count": 6,
     "metadata": {},
     "output_type": "execute_result"
    }
   ],
   "source": [
    "ochem_logp_data = ochem_logp_data.rename(columns={'logPow {measured}': 'logP'})\n",
    "ochem_logp_data.head()"
   ]
  },
  {
   "cell_type": "code",
   "execution_count": 7,
   "metadata": {},
   "outputs": [
    {
     "data": {
      "text/plain": [
       "980"
      ]
     },
     "execution_count": 7,
     "metadata": {},
     "output_type": "execute_result"
    }
   ],
   "source": [
    "ochem_logp_data.methodKnown.sum()"
   ]
  },
  {
   "cell_type": "code",
   "execution_count": 8,
   "metadata": {},
   "outputs": [],
   "source": [
    "ochem_logp_data = ochem_logp_data[ochem_logp_data.methodKnown == 1]\n",
    "ochem_logp_data = ochem_logp_data.drop(columns=['methodKnown'])"
   ]
  },
  {
   "cell_type": "code",
   "execution_count": 9,
   "metadata": {},
   "outputs": [
    {
     "data": {
      "text/plain": [
       "(980, 5)"
      ]
     },
     "execution_count": 9,
     "metadata": {},
     "output_type": "execute_result"
    }
   ],
   "source": [
    "ochem_logp_data.shape"
   ]
  },
  {
   "cell_type": "code",
   "execution_count": 10,
   "metadata": {},
   "outputs": [
    {
     "data": {
      "text/html": [
       "<div>\n",
       "<style scoped>\n",
       "    .dataframe tbody tr th:only-of-type {\n",
       "        vertical-align: middle;\n",
       "    }\n",
       "\n",
       "    .dataframe tbody tr th {\n",
       "        vertical-align: top;\n",
       "    }\n",
       "\n",
       "    .dataframe thead th {\n",
       "        text-align: right;\n",
       "    }\n",
       "</style>\n",
       "<table border=\"1\" class=\"dataframe\">\n",
       "  <thead>\n",
       "    <tr style=\"text-align: right;\">\n",
       "      <th></th>\n",
       "      <th>SMILES</th>\n",
       "      <th>logP</th>\n",
       "      <th>pH</th>\n",
       "      <th>logPow Method</th>\n",
       "      <th>Temperature</th>\n",
       "    </tr>\n",
       "  </thead>\n",
       "  <tbody>\n",
       "    <tr>\n",
       "      <th>28</th>\n",
       "      <td>CC1=NN(C(=C1)C(=O)NC1=CC=C(C=C1)C1=CC=CC=C1S(N...</td>\n",
       "      <td>1.5</td>\n",
       "      <td>NaN</td>\n",
       "      <td>HPLC</td>\n",
       "      <td>NaN</td>\n",
       "    </tr>\n",
       "    <tr>\n",
       "      <th>29</th>\n",
       "      <td>CC1=NN(C(=C1)C(=O)NC1=CC=C(C=C1)C1=CC=CC=C1S(N...</td>\n",
       "      <td>1.7</td>\n",
       "      <td>NaN</td>\n",
       "      <td>HPLC</td>\n",
       "      <td>NaN</td>\n",
       "    </tr>\n",
       "    <tr>\n",
       "      <th>30</th>\n",
       "      <td>COC1=CC=C(C=C1)N1N=C(C)C=C1C(=O)NC1=CC=C(C=C1)...</td>\n",
       "      <td>2.9</td>\n",
       "      <td>NaN</td>\n",
       "      <td>HPLC</td>\n",
       "      <td>NaN</td>\n",
       "    </tr>\n",
       "    <tr>\n",
       "      <th>31</th>\n",
       "      <td>CC1=NN(C(=C1)C(=O)NC1=CC=C(C=C1)C1=C(C=CC=C1)S...</td>\n",
       "      <td>2.1</td>\n",
       "      <td>NaN</td>\n",
       "      <td>HPLC</td>\n",
       "      <td>NaN</td>\n",
       "    </tr>\n",
       "    <tr>\n",
       "      <th>32</th>\n",
       "      <td>CC1=NN(C(=C1)C(=O)NC1=CC=C(C=C1)C1=CC=CC=C1S(N...</td>\n",
       "      <td>2.3</td>\n",
       "      <td>NaN</td>\n",
       "      <td>HPLC</td>\n",
       "      <td>NaN</td>\n",
       "    </tr>\n",
       "  </tbody>\n",
       "</table>\n",
       "</div>"
      ],
      "text/plain": [
       "                                               SMILES  logP  pH logPow Method  \\\n",
       "28  CC1=NN(C(=C1)C(=O)NC1=CC=C(C=C1)C1=CC=CC=C1S(N...   1.5 NaN          HPLC   \n",
       "29  CC1=NN(C(=C1)C(=O)NC1=CC=C(C=C1)C1=CC=CC=C1S(N...   1.7 NaN          HPLC   \n",
       "30  COC1=CC=C(C=C1)N1N=C(C)C=C1C(=O)NC1=CC=C(C=C1)...   2.9 NaN          HPLC   \n",
       "31  CC1=NN(C(=C1)C(=O)NC1=CC=C(C=C1)C1=C(C=CC=C1)S...   2.1 NaN          HPLC   \n",
       "32  CC1=NN(C(=C1)C(=O)NC1=CC=C(C=C1)C1=CC=CC=C1S(N...   2.3 NaN          HPLC   \n",
       "\n",
       "    Temperature  \n",
       "28          NaN  \n",
       "29          NaN  \n",
       "30          NaN  \n",
       "31          NaN  \n",
       "32          NaN  "
      ]
     },
     "execution_count": 10,
     "metadata": {},
     "output_type": "execute_result"
    }
   ],
   "source": [
    "ochem_logp_data['logP'] = pd.to_numeric(ochem_logp_data['logP'], errors='coerce')\n",
    "ochem_logp_data['Temperature'] = pd.to_numeric(ochem_logp_data['Temperature'], errors='coerce')\n",
    "ochem_logp_data['pH'] = pd.to_numeric(ochem_logp_data['pH'], errors='coerce')\n",
    "ochem_logp_data.head()"
   ]
  },
  {
   "cell_type": "code",
   "execution_count": 11,
   "metadata": {},
   "outputs": [],
   "source": [
    "ochem_logp_data = ochem_logp_data[ochem_logp_data['logP'].notnull()]"
   ]
  },
  {
   "cell_type": "code",
   "execution_count": 12,
   "metadata": {},
   "outputs": [
    {
     "data": {
      "text/plain": [
       "(773, 5)"
      ]
     },
     "execution_count": 12,
     "metadata": {},
     "output_type": "execute_result"
    }
   ],
   "source": [
    "ochem_logp_data = ochem_logp_data.drop_duplicates()\n",
    "ochem_logp_data.shape"
   ]
  },
  {
   "cell_type": "code",
   "execution_count": 13,
   "metadata": {
    "pycharm": {
     "name": "#%%\n"
    }
   },
   "outputs": [],
   "source": [
    "LOGP_COLUMN = 'logP'\n",
    "PH_COLUMN = 'pH'\n",
    "LOGP_TEMP_COLUMN = 'Temperature'\n",
    "SMILES_COLUMN = 'SMILES'\n",
    "n = ochem_logp_data.shape[0]"
   ]
  },
  {
   "cell_type": "code",
   "execution_count": 14,
   "metadata": {
    "pycharm": {
     "name": "#%%\n"
    }
   },
   "outputs": [
    {
     "name": "stdout",
     "output_type": "stream",
     "text": [
      "# of NA values logP: 0, 0%\n",
      "Empty DataFrame\n",
      "Columns: [SMILES, logP, pH, logPow Method, Temperature]\n",
      "Index: []\n"
     ]
    }
   ],
   "source": [
    "check_na(ochem_logp_data, LOGP_COLUMN)"
   ]
  },
  {
   "cell_type": "code",
   "execution_count": 15,
   "metadata": {
    "pycharm": {
     "name": "#%%\n"
    }
   },
   "outputs": [
    {
     "name": "stdout",
     "output_type": "stream",
     "text": [
      "# of NA values Temperature: 518, 67%\n",
      "                                               SMILES  logP  pH logPow Method  \\\n",
      "28  CC1=NN(C(=C1)C(=O)NC1=CC=C(C=C1)C1=CC=CC=C1S(N...   1.5 NaN          HPLC   \n",
      "29  CC1=NN(C(=C1)C(=O)NC1=CC=C(C=C1)C1=CC=CC=C1S(N...   1.7 NaN          HPLC   \n",
      "30  COC1=CC=C(C=C1)N1N=C(C)C=C1C(=O)NC1=CC=C(C=C1)...   2.9 NaN          HPLC   \n",
      "31  CC1=NN(C(=C1)C(=O)NC1=CC=C(C=C1)C1=C(C=CC=C1)S...   2.1 NaN          HPLC   \n",
      "32  CC1=NN(C(=C1)C(=O)NC1=CC=C(C=C1)C1=CC=CC=C1S(N...   2.3 NaN          HPLC   \n",
      "\n",
      "    Temperature  \n",
      "28          NaN  \n",
      "29          NaN  \n",
      "30          NaN  \n",
      "31          NaN  \n",
      "32          NaN  \n"
     ]
    }
   ],
   "source": [
    "check_na(ochem_logp_data, LOGP_TEMP_COLUMN)"
   ]
  },
  {
   "cell_type": "code",
   "execution_count": 16,
   "metadata": {},
   "outputs": [
    {
     "name": "stdout",
     "output_type": "stream",
     "text": [
      "# of NA values pH: 440, 56%\n",
      "                                               SMILES  logP  pH logPow Method  \\\n",
      "28  CC1=NN(C(=C1)C(=O)NC1=CC=C(C=C1)C1=CC=CC=C1S(N...   1.5 NaN          HPLC   \n",
      "29  CC1=NN(C(=C1)C(=O)NC1=CC=C(C=C1)C1=CC=CC=C1S(N...   1.7 NaN          HPLC   \n",
      "30  COC1=CC=C(C=C1)N1N=C(C)C=C1C(=O)NC1=CC=C(C=C1)...   2.9 NaN          HPLC   \n",
      "31  CC1=NN(C(=C1)C(=O)NC1=CC=C(C=C1)C1=C(C=CC=C1)S...   2.1 NaN          HPLC   \n",
      "32  CC1=NN(C(=C1)C(=O)NC1=CC=C(C=C1)C1=CC=CC=C1S(N...   2.3 NaN          HPLC   \n",
      "\n",
      "    Temperature  \n",
      "28          NaN  \n",
      "29          NaN  \n",
      "30          NaN  \n",
      "31          NaN  \n",
      "32          NaN  \n"
     ]
    }
   ],
   "source": [
    "check_na(ochem_logp_data, PH_COLUMN)"
   ]
  },
  {
   "cell_type": "code",
   "execution_count": 17,
   "metadata": {
    "pycharm": {
     "name": "#%%\n"
    }
   },
   "outputs": [
    {
     "data": {
      "text/plain": [
       "666"
      ]
     },
     "execution_count": 17,
     "metadata": {},
     "output_type": "execute_result"
    }
   ],
   "source": [
    "ochem_logp_data[SMILES_COLUMN].unique().size"
   ]
  },
  {
   "cell_type": "code",
   "execution_count": 18,
   "metadata": {
    "pycharm": {
     "name": "#%%\n"
    },
    "scrolled": true
   },
   "outputs": [
    {
     "data": {
      "text/html": [
       "<div>\n",
       "<style scoped>\n",
       "    .dataframe tbody tr th:only-of-type {\n",
       "        vertical-align: middle;\n",
       "    }\n",
       "\n",
       "    .dataframe tbody tr th {\n",
       "        vertical-align: top;\n",
       "    }\n",
       "\n",
       "    .dataframe thead th {\n",
       "        text-align: right;\n",
       "    }\n",
       "</style>\n",
       "<table border=\"1\" class=\"dataframe\">\n",
       "  <thead>\n",
       "    <tr style=\"text-align: right;\">\n",
       "      <th></th>\n",
       "      <th>logP</th>\n",
       "      <th>pH</th>\n",
       "      <th>logPow Method</th>\n",
       "      <th>Temperature</th>\n",
       "    </tr>\n",
       "    <tr>\n",
       "      <th>SMILES</th>\n",
       "      <th></th>\n",
       "      <th></th>\n",
       "      <th></th>\n",
       "      <th></th>\n",
       "    </tr>\n",
       "  </thead>\n",
       "  <tbody>\n",
       "    <tr>\n",
       "      <th>CC(=O)O[Pt](N)(Cl)(Cl)(NC1CCCCC1)OC(C)=O</th>\n",
       "      <td>6</td>\n",
       "      <td>0</td>\n",
       "      <td>6</td>\n",
       "      <td>0</td>\n",
       "    </tr>\n",
       "    <tr>\n",
       "      <th>CC(=O)O[Pt](N)(N)(Cl)(Cl)OC(C)=O</th>\n",
       "      <td>4</td>\n",
       "      <td>0</td>\n",
       "      <td>4</td>\n",
       "      <td>0</td>\n",
       "    </tr>\n",
       "    <tr>\n",
       "      <th>CC(=O)O[Pt]1(Cl)(Cl)(NCCN1)OC(C)=O</th>\n",
       "      <td>3</td>\n",
       "      <td>0</td>\n",
       "      <td>3</td>\n",
       "      <td>0</td>\n",
       "    </tr>\n",
       "    <tr>\n",
       "      <th>CC(=O)O[Pt]1(Cl)(Cl)(N[C@@H]2CCCC[C@H]2N1)OC(C)=O</th>\n",
       "      <td>2</td>\n",
       "      <td>0</td>\n",
       "      <td>2</td>\n",
       "      <td>0</td>\n",
       "    </tr>\n",
       "    <tr>\n",
       "      <th>CC(=O)O[Pt]1(N)(N)(OC(C)=O)OCC(=O)O1</th>\n",
       "      <td>2</td>\n",
       "      <td>0</td>\n",
       "      <td>2</td>\n",
       "      <td>0</td>\n",
       "    </tr>\n",
       "    <tr>\n",
       "      <th>...</th>\n",
       "      <td>...</td>\n",
       "      <td>...</td>\n",
       "      <td>...</td>\n",
       "      <td>...</td>\n",
       "    </tr>\n",
       "    <tr>\n",
       "      <th>OCC1N[Pt](Cl)(Cl)NC1C1=CC=C(F)C=C1</th>\n",
       "      <td>2</td>\n",
       "      <td>0</td>\n",
       "      <td>2</td>\n",
       "      <td>0</td>\n",
       "    </tr>\n",
       "    <tr>\n",
       "      <th>OCCC1N[Pt](Cl)(Cl)NC1C1=CC=C(F)C=C1</th>\n",
       "      <td>2</td>\n",
       "      <td>0</td>\n",
       "      <td>2</td>\n",
       "      <td>0</td>\n",
       "    </tr>\n",
       "    <tr>\n",
       "      <th>OCCN1CCN[Pt]1(Cl)Cl</th>\n",
       "      <td>3</td>\n",
       "      <td>0</td>\n",
       "      <td>3</td>\n",
       "      <td>0</td>\n",
       "    </tr>\n",
       "    <tr>\n",
       "      <th>[H]N([H])C([H])([H])C(=O)N([H])[C@]([H])(C([O-])=O)C([H])([H])C1=C([H])C([H])=C([H])C([H])=C1[H]</th>\n",
       "      <td>2</td>\n",
       "      <td>1</td>\n",
       "      <td>2</td>\n",
       "      <td>2</td>\n",
       "    </tr>\n",
       "    <tr>\n",
       "      <th>[NH3+]C(CC1=CC=C(O)C=C1)C(=O)NC(CC1=CC=CC=C1)C([O-])=O</th>\n",
       "      <td>2</td>\n",
       "      <td>1</td>\n",
       "      <td>2</td>\n",
       "      <td>2</td>\n",
       "    </tr>\n",
       "  </tbody>\n",
       "</table>\n",
       "<p>80 rows × 4 columns</p>\n",
       "</div>"
      ],
      "text/plain": [
       "                                                    logP  pH  logPow Method  \\\n",
       "SMILES                                                                        \n",
       "CC(=O)O[Pt](N)(Cl)(Cl)(NC1CCCCC1)OC(C)=O               6   0              6   \n",
       "CC(=O)O[Pt](N)(N)(Cl)(Cl)OC(C)=O                       4   0              4   \n",
       "CC(=O)O[Pt]1(Cl)(Cl)(NCCN1)OC(C)=O                     3   0              3   \n",
       "CC(=O)O[Pt]1(Cl)(Cl)(N[C@@H]2CCCC[C@H]2N1)OC(C)=O      2   0              2   \n",
       "CC(=O)O[Pt]1(N)(N)(OC(C)=O)OCC(=O)O1                   2   0              2   \n",
       "...                                                  ...  ..            ...   \n",
       "OCC1N[Pt](Cl)(Cl)NC1C1=CC=C(F)C=C1                     2   0              2   \n",
       "OCCC1N[Pt](Cl)(Cl)NC1C1=CC=C(F)C=C1                    2   0              2   \n",
       "OCCN1CCN[Pt]1(Cl)Cl                                    3   0              3   \n",
       "[H]N([H])C([H])([H])C(=O)N([H])[C@]([H])(C([O-]...     2   1              2   \n",
       "[NH3+]C(CC1=CC=C(O)C=C1)C(=O)NC(CC1=CC=CC=C1)C(...     2   1              2   \n",
       "\n",
       "                                                    Temperature  \n",
       "SMILES                                                           \n",
       "CC(=O)O[Pt](N)(Cl)(Cl)(NC1CCCCC1)OC(C)=O                      0  \n",
       "CC(=O)O[Pt](N)(N)(Cl)(Cl)OC(C)=O                              0  \n",
       "CC(=O)O[Pt]1(Cl)(Cl)(NCCN1)OC(C)=O                            0  \n",
       "CC(=O)O[Pt]1(Cl)(Cl)(N[C@@H]2CCCC[C@H]2N1)OC(C)=O             0  \n",
       "CC(=O)O[Pt]1(N)(N)(OC(C)=O)OCC(=O)O1                          0  \n",
       "...                                                         ...  \n",
       "OCC1N[Pt](Cl)(Cl)NC1C1=CC=C(F)C=C1                            0  \n",
       "OCCC1N[Pt](Cl)(Cl)NC1C1=CC=C(F)C=C1                           0  \n",
       "OCCN1CCN[Pt]1(Cl)Cl                                           0  \n",
       "[H]N([H])C([H])([H])C(=O)N([H])[C@]([H])(C([O-]...            2  \n",
       "[NH3+]C(CC1=CC=C(O)C=C1)C(=O)NC(CC1=CC=CC=C1)C(...            2  \n",
       "\n",
       "[80 rows x 4 columns]"
      ]
     },
     "execution_count": 18,
     "metadata": {},
     "output_type": "execute_result"
    }
   ],
   "source": [
    "ochem_logp_data[ochem_logp_data[SMILES_COLUMN].duplicated(keep=False)].groupby(SMILES_COLUMN).count()"
   ]
  },
  {
   "cell_type": "code",
   "execution_count": 19,
   "metadata": {},
   "outputs": [
    {
     "data": {
      "text/html": [
       "<div>\n",
       "<style scoped>\n",
       "    .dataframe tbody tr th:only-of-type {\n",
       "        vertical-align: middle;\n",
       "    }\n",
       "\n",
       "    .dataframe tbody tr th {\n",
       "        vertical-align: top;\n",
       "    }\n",
       "\n",
       "    .dataframe thead th {\n",
       "        text-align: right;\n",
       "    }\n",
       "</style>\n",
       "<table border=\"1\" class=\"dataframe\">\n",
       "  <thead>\n",
       "    <tr style=\"text-align: right;\">\n",
       "      <th></th>\n",
       "      <th>SMILES</th>\n",
       "      <th>logP</th>\n",
       "      <th>pH</th>\n",
       "      <th>logPow Method</th>\n",
       "      <th>Temperature</th>\n",
       "    </tr>\n",
       "  </thead>\n",
       "  <tbody>\n",
       "    <tr>\n",
       "      <th>78867</th>\n",
       "      <td>CC(=O)O[Pt](N)(Cl)(Cl)(NC1CCCCC1)OC(C)=O</td>\n",
       "      <td>-0.160</td>\n",
       "      <td>NaN</td>\n",
       "      <td>shake flask</td>\n",
       "      <td>NaN</td>\n",
       "    </tr>\n",
       "    <tr>\n",
       "      <th>78888</th>\n",
       "      <td>CC(=O)O[Pt](N)(Cl)(Cl)(NC1CCCCC1)OC(C)=O</td>\n",
       "      <td>-0.190</td>\n",
       "      <td>NaN</td>\n",
       "      <td>shake flask</td>\n",
       "      <td>NaN</td>\n",
       "    </tr>\n",
       "    <tr>\n",
       "      <th>78895</th>\n",
       "      <td>CC(=O)O[Pt](N)(Cl)(Cl)(NC1CCCCC1)OC(C)=O</td>\n",
       "      <td>0.100</td>\n",
       "      <td>NaN</td>\n",
       "      <td>shake flask</td>\n",
       "      <td>NaN</td>\n",
       "    </tr>\n",
       "    <tr>\n",
       "      <th>78899</th>\n",
       "      <td>CC(=O)O[Pt](N)(Cl)(Cl)(NC1CCCCC1)OC(C)=O</td>\n",
       "      <td>0.255</td>\n",
       "      <td>NaN</td>\n",
       "      <td>shake flask</td>\n",
       "      <td>NaN</td>\n",
       "    </tr>\n",
       "    <tr>\n",
       "      <th>82313</th>\n",
       "      <td>CC(=O)O[Pt](N)(Cl)(Cl)(NC1CCCCC1)OC(C)=O</td>\n",
       "      <td>-0.210</td>\n",
       "      <td>NaN</td>\n",
       "      <td>RP-HPLC</td>\n",
       "      <td>NaN</td>\n",
       "    </tr>\n",
       "    <tr>\n",
       "      <th>82339</th>\n",
       "      <td>CC(=O)O[Pt](N)(Cl)(Cl)(NC1CCCCC1)OC(C)=O</td>\n",
       "      <td>-0.141</td>\n",
       "      <td>NaN</td>\n",
       "      <td>RP-HPLC</td>\n",
       "      <td>NaN</td>\n",
       "    </tr>\n",
       "  </tbody>\n",
       "</table>\n",
       "</div>"
      ],
      "text/plain": [
       "                                         SMILES   logP  pH logPow Method  \\\n",
       "78867  CC(=O)O[Pt](N)(Cl)(Cl)(NC1CCCCC1)OC(C)=O -0.160 NaN   shake flask   \n",
       "78888  CC(=O)O[Pt](N)(Cl)(Cl)(NC1CCCCC1)OC(C)=O -0.190 NaN   shake flask   \n",
       "78895  CC(=O)O[Pt](N)(Cl)(Cl)(NC1CCCCC1)OC(C)=O  0.100 NaN   shake flask   \n",
       "78899  CC(=O)O[Pt](N)(Cl)(Cl)(NC1CCCCC1)OC(C)=O  0.255 NaN   shake flask   \n",
       "82313  CC(=O)O[Pt](N)(Cl)(Cl)(NC1CCCCC1)OC(C)=O -0.210 NaN       RP-HPLC   \n",
       "82339  CC(=O)O[Pt](N)(Cl)(Cl)(NC1CCCCC1)OC(C)=O -0.141 NaN       RP-HPLC   \n",
       "\n",
       "       Temperature  \n",
       "78867          NaN  \n",
       "78888          NaN  \n",
       "78895          NaN  \n",
       "78899          NaN  \n",
       "82313          NaN  \n",
       "82339          NaN  "
      ]
     },
     "execution_count": 19,
     "metadata": {},
     "output_type": "execute_result"
    }
   ],
   "source": [
    "ochem_logp_data[ochem_logp_data[SMILES_COLUMN] == 'CC(=O)O[Pt](N)(Cl)(Cl)(NC1CCCCC1)OC(C)=O']"
   ]
  },
  {
   "cell_type": "code",
   "execution_count": 20,
   "metadata": {},
   "outputs": [
    {
     "data": {
      "text/html": [
       "<div>\n",
       "<style scoped>\n",
       "    .dataframe tbody tr th:only-of-type {\n",
       "        vertical-align: middle;\n",
       "    }\n",
       "\n",
       "    .dataframe tbody tr th {\n",
       "        vertical-align: top;\n",
       "    }\n",
       "\n",
       "    .dataframe thead th {\n",
       "        text-align: right;\n",
       "    }\n",
       "</style>\n",
       "<table border=\"1\" class=\"dataframe\">\n",
       "  <thead>\n",
       "    <tr style=\"text-align: right;\">\n",
       "      <th></th>\n",
       "      <th>logP</th>\n",
       "      <th>pH</th>\n",
       "      <th>Temperature</th>\n",
       "    </tr>\n",
       "  </thead>\n",
       "  <tbody>\n",
       "    <tr>\n",
       "      <th>count</th>\n",
       "      <td>773.000000</td>\n",
       "      <td>333.000000</td>\n",
       "      <td>255.000000</td>\n",
       "    </tr>\n",
       "    <tr>\n",
       "      <th>mean</th>\n",
       "      <td>0.394290</td>\n",
       "      <td>7.301201</td>\n",
       "      <td>25.800000</td>\n",
       "    </tr>\n",
       "    <tr>\n",
       "      <th>std</th>\n",
       "      <td>3.035107</td>\n",
       "      <td>1.443744</td>\n",
       "      <td>2.999212</td>\n",
       "    </tr>\n",
       "    <tr>\n",
       "      <th>min</th>\n",
       "      <td>-3.360000</td>\n",
       "      <td>2.000000</td>\n",
       "      <td>25.000000</td>\n",
       "    </tr>\n",
       "    <tr>\n",
       "      <th>25%</th>\n",
       "      <td>-1.330000</td>\n",
       "      <td>7.000000</td>\n",
       "      <td>25.000000</td>\n",
       "    </tr>\n",
       "    <tr>\n",
       "      <th>50%</th>\n",
       "      <td>-0.047000</td>\n",
       "      <td>7.200000</td>\n",
       "      <td>25.000000</td>\n",
       "    </tr>\n",
       "    <tr>\n",
       "      <th>75%</th>\n",
       "      <td>1.600000</td>\n",
       "      <td>7.400000</td>\n",
       "      <td>25.000000</td>\n",
       "    </tr>\n",
       "    <tr>\n",
       "      <th>max</th>\n",
       "      <td>46.420000</td>\n",
       "      <td>13.000000</td>\n",
       "      <td>37.000000</td>\n",
       "    </tr>\n",
       "  </tbody>\n",
       "</table>\n",
       "</div>"
      ],
      "text/plain": [
       "             logP          pH  Temperature\n",
       "count  773.000000  333.000000   255.000000\n",
       "mean     0.394290    7.301201    25.800000\n",
       "std      3.035107    1.443744     2.999212\n",
       "min     -3.360000    2.000000    25.000000\n",
       "25%     -1.330000    7.000000    25.000000\n",
       "50%     -0.047000    7.200000    25.000000\n",
       "75%      1.600000    7.400000    25.000000\n",
       "max     46.420000   13.000000    37.000000"
      ]
     },
     "execution_count": 20,
     "metadata": {},
     "output_type": "execute_result"
    }
   ],
   "source": [
    "ochem_logp_data.describe()"
   ]
  },
  {
   "cell_type": "code",
   "execution_count": 21,
   "metadata": {},
   "outputs": [
    {
     "data": {
      "text/html": [
       "<div>\n",
       "<style scoped>\n",
       "    .dataframe tbody tr th:only-of-type {\n",
       "        vertical-align: middle;\n",
       "    }\n",
       "\n",
       "    .dataframe tbody tr th {\n",
       "        vertical-align: top;\n",
       "    }\n",
       "\n",
       "    .dataframe thead th {\n",
       "        text-align: right;\n",
       "    }\n",
       "</style>\n",
       "<table border=\"1\" class=\"dataframe\">\n",
       "  <thead>\n",
       "    <tr style=\"text-align: right;\">\n",
       "      <th></th>\n",
       "      <th>SMILES</th>\n",
       "      <th>logP</th>\n",
       "      <th>pH</th>\n",
       "      <th>logPow Method</th>\n",
       "      <th>Temperature</th>\n",
       "    </tr>\n",
       "  </thead>\n",
       "  <tbody>\n",
       "    <tr>\n",
       "      <th>21319</th>\n",
       "      <td>CC(C)[C@@H](NC(=O)CN)C(O)=O</td>\n",
       "      <td>-1.33</td>\n",
       "      <td>7.0</td>\n",
       "      <td>shake flask</td>\n",
       "      <td>25.0</td>\n",
       "    </tr>\n",
       "    <tr>\n",
       "      <th>21320</th>\n",
       "      <td>C[C@H](N)C(=O)N[C@@H](C)C(O)=O</td>\n",
       "      <td>-2.00</td>\n",
       "      <td>7.0</td>\n",
       "      <td>shake flask</td>\n",
       "      <td>25.0</td>\n",
       "    </tr>\n",
       "    <tr>\n",
       "      <th>30396</th>\n",
       "      <td>CCC(C)[C@H](NC(=O)[C@H](C)N)C(O)=O</td>\n",
       "      <td>-2.60</td>\n",
       "      <td>7.0</td>\n",
       "      <td>shake flask</td>\n",
       "      <td>25.0</td>\n",
       "    </tr>\n",
       "    <tr>\n",
       "      <th>30397</th>\n",
       "      <td>CC(C)[C@H](NC(=O)[C@H](C)N)C(O)=O</td>\n",
       "      <td>-1.13</td>\n",
       "      <td>7.0</td>\n",
       "      <td>shake flask</td>\n",
       "      <td>25.0</td>\n",
       "    </tr>\n",
       "    <tr>\n",
       "      <th>30398</th>\n",
       "      <td>CC(C)C[C@H](NC(=O)CN)C(O)=O</td>\n",
       "      <td>-0.78</td>\n",
       "      <td>7.0</td>\n",
       "      <td>shake flask</td>\n",
       "      <td>25.0</td>\n",
       "    </tr>\n",
       "    <tr>\n",
       "      <th>...</th>\n",
       "      <td>...</td>\n",
       "      <td>...</td>\n",
       "      <td>...</td>\n",
       "      <td>...</td>\n",
       "      <td>...</td>\n",
       "    </tr>\n",
       "    <tr>\n",
       "      <th>84935</th>\n",
       "      <td>CC(C)CC(NC(=O)C(CC1=CN=CN1)NC(=O)C(N)CC1=CC=CC...</td>\n",
       "      <td>0.64</td>\n",
       "      <td>10.0</td>\n",
       "      <td>shake flask</td>\n",
       "      <td>25.0</td>\n",
       "    </tr>\n",
       "    <tr>\n",
       "      <th>84936</th>\n",
       "      <td>CC(C)C(NC(=O)C(CC1=CN=CN1)NC(=O)C(N)CC1=CNC2=C...</td>\n",
       "      <td>0.31</td>\n",
       "      <td>10.0</td>\n",
       "      <td>shake flask</td>\n",
       "      <td>25.0</td>\n",
       "    </tr>\n",
       "    <tr>\n",
       "      <th>84937</th>\n",
       "      <td>NC(CC1=CC=CC=C1)C(=O)NC(CC1=CNC2=CC=CC=C12)C(=...</td>\n",
       "      <td>1.00</td>\n",
       "      <td>10.0</td>\n",
       "      <td>shake flask</td>\n",
       "      <td>25.0</td>\n",
       "    </tr>\n",
       "    <tr>\n",
       "      <th>84938</th>\n",
       "      <td>CCC(C)C(NC(=O)C(N)CCC(O)=O)C(=O)NC(CC1=CC=CC=C...</td>\n",
       "      <td>0.43</td>\n",
       "      <td>2.0</td>\n",
       "      <td>shake flask</td>\n",
       "      <td>25.0</td>\n",
       "    </tr>\n",
       "    <tr>\n",
       "      <th>84939</th>\n",
       "      <td>NC(CC1=CC=CC=C1)C(=O)NC(CCC(O)=O)C(=O)NC(CC1=C...</td>\n",
       "      <td>0.65</td>\n",
       "      <td>2.0</td>\n",
       "      <td>shake flask</td>\n",
       "      <td>25.0</td>\n",
       "    </tr>\n",
       "  </tbody>\n",
       "</table>\n",
       "<p>167 rows × 5 columns</p>\n",
       "</div>"
      ],
      "text/plain": [
       "                                                  SMILES  logP    pH  \\\n",
       "21319                        CC(C)[C@@H](NC(=O)CN)C(O)=O -1.33   7.0   \n",
       "21320                     C[C@H](N)C(=O)N[C@@H](C)C(O)=O -2.00   7.0   \n",
       "30396                 CCC(C)[C@H](NC(=O)[C@H](C)N)C(O)=O -2.60   7.0   \n",
       "30397                  CC(C)[C@H](NC(=O)[C@H](C)N)C(O)=O -1.13   7.0   \n",
       "30398                        CC(C)C[C@H](NC(=O)CN)C(O)=O -0.78   7.0   \n",
       "...                                                  ...   ...   ...   \n",
       "84935  CC(C)CC(NC(=O)C(CC1=CN=CN1)NC(=O)C(N)CC1=CC=CC...  0.64  10.0   \n",
       "84936  CC(C)C(NC(=O)C(CC1=CN=CN1)NC(=O)C(N)CC1=CNC2=C...  0.31  10.0   \n",
       "84937  NC(CC1=CC=CC=C1)C(=O)NC(CC1=CNC2=CC=CC=C12)C(=...  1.00  10.0   \n",
       "84938  CCC(C)C(NC(=O)C(N)CCC(O)=O)C(=O)NC(CC1=CC=CC=C...  0.43   2.0   \n",
       "84939  NC(CC1=CC=CC=C1)C(=O)NC(CCC(O)=O)C(=O)NC(CC1=C...  0.65   2.0   \n",
       "\n",
       "      logPow Method  Temperature  \n",
       "21319   shake flask         25.0  \n",
       "21320   shake flask         25.0  \n",
       "30396   shake flask         25.0  \n",
       "30397   shake flask         25.0  \n",
       "30398   shake flask         25.0  \n",
       "...             ...          ...  \n",
       "84935   shake flask         25.0  \n",
       "84936   shake flask         25.0  \n",
       "84937   shake flask         25.0  \n",
       "84938   shake flask         25.0  \n",
       "84939   shake flask         25.0  \n",
       "\n",
       "[167 rows x 5 columns]"
      ]
     },
     "execution_count": 21,
     "metadata": {},
     "output_type": "execute_result"
    }
   ],
   "source": [
    "ochem_logp_data[(ochem_logp_data['pH'].notnull()) & (ochem_logp_data['Temperature'].notnull())]"
   ]
  },
  {
   "cell_type": "code",
   "execution_count": 22,
   "metadata": {},
   "outputs": [
    {
     "data": {
      "text/html": [
       "<div>\n",
       "<style scoped>\n",
       "    .dataframe tbody tr th:only-of-type {\n",
       "        vertical-align: middle;\n",
       "    }\n",
       "\n",
       "    .dataframe tbody tr th {\n",
       "        vertical-align: top;\n",
       "    }\n",
       "\n",
       "    .dataframe thead th {\n",
       "        text-align: right;\n",
       "    }\n",
       "</style>\n",
       "<table border=\"1\" class=\"dataframe\">\n",
       "  <thead>\n",
       "    <tr style=\"text-align: right;\">\n",
       "      <th></th>\n",
       "      <th>SMILES</th>\n",
       "      <th>logP</th>\n",
       "      <th>pH</th>\n",
       "      <th>logPow Method</th>\n",
       "      <th>Temperature</th>\n",
       "    </tr>\n",
       "  </thead>\n",
       "  <tbody>\n",
       "    <tr>\n",
       "      <th>21317</th>\n",
       "      <td>CC(C)[C@@H](NC(=O)CN)C(O)=O</td>\n",
       "      <td>-1.33</td>\n",
       "      <td>NaN</td>\n",
       "      <td>shake flask</td>\n",
       "      <td>25.0</td>\n",
       "    </tr>\n",
       "    <tr>\n",
       "      <th>21318</th>\n",
       "      <td>C[C@H](N)C(=O)N[C@@H](C)C(O)=O</td>\n",
       "      <td>-2.00</td>\n",
       "      <td>NaN</td>\n",
       "      <td>shake flask</td>\n",
       "      <td>25.0</td>\n",
       "    </tr>\n",
       "    <tr>\n",
       "      <th>21319</th>\n",
       "      <td>CC(C)[C@@H](NC(=O)CN)C(O)=O</td>\n",
       "      <td>-1.33</td>\n",
       "      <td>7.0</td>\n",
       "      <td>shake flask</td>\n",
       "      <td>25.0</td>\n",
       "    </tr>\n",
       "    <tr>\n",
       "      <th>21320</th>\n",
       "      <td>C[C@H](N)C(=O)N[C@@H](C)C(O)=O</td>\n",
       "      <td>-2.00</td>\n",
       "      <td>7.0</td>\n",
       "      <td>shake flask</td>\n",
       "      <td>25.0</td>\n",
       "    </tr>\n",
       "    <tr>\n",
       "      <th>23197</th>\n",
       "      <td>CC(=O)OC1=C(C=CC=C1)C(O)=O</td>\n",
       "      <td>1.10</td>\n",
       "      <td>NaN</td>\n",
       "      <td>pH-metric titration</td>\n",
       "      <td>37.0</td>\n",
       "    </tr>\n",
       "    <tr>\n",
       "      <th>...</th>\n",
       "      <td>...</td>\n",
       "      <td>...</td>\n",
       "      <td>...</td>\n",
       "      <td>...</td>\n",
       "      <td>...</td>\n",
       "    </tr>\n",
       "    <tr>\n",
       "      <th>84935</th>\n",
       "      <td>CC(C)CC(NC(=O)C(CC1=CN=CN1)NC(=O)C(N)CC1=CC=CC...</td>\n",
       "      <td>0.64</td>\n",
       "      <td>10.0</td>\n",
       "      <td>shake flask</td>\n",
       "      <td>25.0</td>\n",
       "    </tr>\n",
       "    <tr>\n",
       "      <th>84936</th>\n",
       "      <td>CC(C)C(NC(=O)C(CC1=CN=CN1)NC(=O)C(N)CC1=CNC2=C...</td>\n",
       "      <td>0.31</td>\n",
       "      <td>10.0</td>\n",
       "      <td>shake flask</td>\n",
       "      <td>25.0</td>\n",
       "    </tr>\n",
       "    <tr>\n",
       "      <th>84937</th>\n",
       "      <td>NC(CC1=CC=CC=C1)C(=O)NC(CC1=CNC2=CC=CC=C12)C(=...</td>\n",
       "      <td>1.00</td>\n",
       "      <td>10.0</td>\n",
       "      <td>shake flask</td>\n",
       "      <td>25.0</td>\n",
       "    </tr>\n",
       "    <tr>\n",
       "      <th>84938</th>\n",
       "      <td>CCC(C)C(NC(=O)C(N)CCC(O)=O)C(=O)NC(CC1=CC=CC=C...</td>\n",
       "      <td>0.43</td>\n",
       "      <td>2.0</td>\n",
       "      <td>shake flask</td>\n",
       "      <td>25.0</td>\n",
       "    </tr>\n",
       "    <tr>\n",
       "      <th>84939</th>\n",
       "      <td>NC(CC1=CC=CC=C1)C(=O)NC(CCC(O)=O)C(=O)NC(CC1=C...</td>\n",
       "      <td>0.65</td>\n",
       "      <td>2.0</td>\n",
       "      <td>shake flask</td>\n",
       "      <td>25.0</td>\n",
       "    </tr>\n",
       "  </tbody>\n",
       "</table>\n",
       "<p>255 rows × 5 columns</p>\n",
       "</div>"
      ],
      "text/plain": [
       "                                                  SMILES  logP    pH  \\\n",
       "21317                        CC(C)[C@@H](NC(=O)CN)C(O)=O -1.33   NaN   \n",
       "21318                     C[C@H](N)C(=O)N[C@@H](C)C(O)=O -2.00   NaN   \n",
       "21319                        CC(C)[C@@H](NC(=O)CN)C(O)=O -1.33   7.0   \n",
       "21320                     C[C@H](N)C(=O)N[C@@H](C)C(O)=O -2.00   7.0   \n",
       "23197                         CC(=O)OC1=C(C=CC=C1)C(O)=O  1.10   NaN   \n",
       "...                                                  ...   ...   ...   \n",
       "84935  CC(C)CC(NC(=O)C(CC1=CN=CN1)NC(=O)C(N)CC1=CC=CC...  0.64  10.0   \n",
       "84936  CC(C)C(NC(=O)C(CC1=CN=CN1)NC(=O)C(N)CC1=CNC2=C...  0.31  10.0   \n",
       "84937  NC(CC1=CC=CC=C1)C(=O)NC(CC1=CNC2=CC=CC=C12)C(=...  1.00  10.0   \n",
       "84938  CCC(C)C(NC(=O)C(N)CCC(O)=O)C(=O)NC(CC1=CC=CC=C...  0.43   2.0   \n",
       "84939  NC(CC1=CC=CC=C1)C(=O)NC(CCC(O)=O)C(=O)NC(CC1=C...  0.65   2.0   \n",
       "\n",
       "             logPow Method  Temperature  \n",
       "21317          shake flask         25.0  \n",
       "21318          shake flask         25.0  \n",
       "21319          shake flask         25.0  \n",
       "21320          shake flask         25.0  \n",
       "23197  pH-metric titration         37.0  \n",
       "...                    ...          ...  \n",
       "84935          shake flask         25.0  \n",
       "84936          shake flask         25.0  \n",
       "84937          shake flask         25.0  \n",
       "84938          shake flask         25.0  \n",
       "84939          shake flask         25.0  \n",
       "\n",
       "[255 rows x 5 columns]"
      ]
     },
     "execution_count": 22,
     "metadata": {},
     "output_type": "execute_result"
    }
   ],
   "source": [
    "ochem_logp_data[ochem_logp_data['Temperature'].notnull()]"
   ]
  },
  {
   "cell_type": "code",
   "execution_count": 23,
   "metadata": {},
   "outputs": [
    {
     "data": {
      "text/plain": [
       "<matplotlib.axes._subplots.AxesSubplot at 0x1b9df58f278>"
      ]
     },
     "execution_count": 23,
     "metadata": {},
     "output_type": "execute_result"
    },
    {
     "data": {
      "image/png": "[encoded data removed]",
      "text/plain": [
       "<Figure size 432x288 with 1 Axes>"
      ]
     },
     "metadata": {
      "needs_background": "light"
     },
     "output_type": "display_data"
    }
   ],
   "source": [
    "sns.distplot(ochem_logp_data['Temperature'])"
   ]
  },
  {
   "cell_type": "code",
   "execution_count": 25,
   "metadata": {},
   "outputs": [
    {
     "data": {
      "text/plain": [
       "<matplotlib.axes._subplots.AxesSubplot at 0x1b9dfa17630>"
      ]
     },
     "execution_count": 25,
     "metadata": {},
     "output_type": "execute_result"
    },
    {
     "data": {
      "image/png": "[encoded data removed]",
      "text/plain": [
       "<Figure size 432x288 with 1 Axes>"
      ]
     },
     "metadata": {
      "needs_background": "light"
     },
     "output_type": "display_data"
    }
   ],
   "source": [
    "sns.distplot(ochem_logp_data['logP'])"
   ]
  },
  {
   "cell_type": "code",
   "execution_count": 26,
   "metadata": {},
   "outputs": [
    {
     "data": {
      "text/plain": [
       "<matplotlib.axes._subplots.AxesSubplot at 0x1b9dfaf8668>"
      ]
     },
     "execution_count": 26,
     "metadata": {},
     "output_type": "execute_result"
    },
    {
     "data": {
      "image/png": "[encoded data removed]",
      "text/plain": [
       "<Figure size 432x288 with 1 Axes>"
      ]
     },
     "metadata": {
      "needs_background": "light"
     },
     "output_type": "display_data"
    }
   ],
   "source": [
    "sns.distplot(ochem_logp_data['pH'])"
   ]
  },
  {
   "cell_type": "code",
   "execution_count": 27,
   "metadata": {},
   "outputs": [],
   "source": [
    "ochem_logp_data = ochem_logp_data.drop(columns=['logPow Method'])"
   ]
  },
  {
   "cell_type": "code",
   "execution_count": 28,
   "metadata": {},
   "outputs": [],
   "source": [
    "ochem_logp_data.to_csv(\"../data/1_filtering/ochem_logp.csv\")\n",
    "\n",
    "ochem_logp_data = ochem_logp_data[ochem_logp_data['Temperature'].notnull()] \n",
    "ochem_logp_data.to_csv(\"../data/1_filtering/ochem_logp_temperature.csv\")\n",
    "\n",
    "ochem_logp_data = ochem_logp_data[(ochem_logp_data['pH'].notnull()) & (ochem_logp_data['Temperature'].notnull())]\n",
    "ochem_logp_data.to_csv(\"../data/1_filtering/ochem_full.csv\")"
   ]
  }
 ],
 "metadata": {
  "kernelspec": {
   "display_name": "Python 3",
   "language": "python",
   "name": "python3"
  },
  "language_info": {
   "codemirror_mode": {
    "name": "ipython",
    "version": 3
   },
   "file_extension": ".py",
   "mimetype": "text/x-python",
   "name": "python",
   "nbconvert_exporter": "python",
   "pygments_lexer": "ipython3",
   "version": "3.7.6"
  },
  "pycharm": {
   "stem_cell": {
    "cell_type": "raw",
    "metadata": {
     "collapsed": false
    },
    "source": []
   }
  }
 },
 "nbformat": 4,
 "nbformat_minor": 4
}
