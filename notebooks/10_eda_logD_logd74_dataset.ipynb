{
 "cells": [
  {
   "cell_type": "markdown",
   "metadata": {},
   "source": [
    "# EDA of logd74.tsv\n",
    "\n",
    "## Summary\n",
    "1. There are 4200 experimental records\n",
    "2. All the SMILES are unique.\n",
    "3. All the experiments were held at pH=7.4\n",
    "4. Temperature is not mentioned"
   ]
  },
  {
   "cell_type": "code",
   "execution_count": 1,
   "metadata": {},
   "outputs": [],
   "source": [
    "import pandas as pd\n",
    "import matplotlib.pyplot as plt\n",
    "import math\n",
    "import seaborn as sns\n",
    "\n",
    "import sys\n",
    "\n",
    "DATA_PATH = \"../data/raw/logd/\""
   ]
  },
  {
   "cell_type": "code",
   "execution_count": 24,
   "metadata": {},
   "outputs": [
    {
     "data": {
      "text/html": [
       "<div>\n",
       "<style scoped>\n",
       "    .dataframe tbody tr th:only-of-type {\n",
       "        vertical-align: middle;\n",
       "    }\n",
       "\n",
       "    .dataframe tbody tr th {\n",
       "        vertical-align: top;\n",
       "    }\n",
       "\n",
       "    .dataframe thead th {\n",
       "        text-align: right;\n",
       "    }\n",
       "</style>\n",
       "<table border=\"1\" class=\"dataframe\">\n",
       "  <thead>\n",
       "    <tr style=\"text-align: right;\">\n",
       "      <th></th>\n",
       "      <th>ID</th>\n",
       "      <th>SMILES</th>\n",
       "      <th>logD7.4</th>\n",
       "    </tr>\n",
       "  </thead>\n",
       "  <tbody>\n",
       "    <tr>\n",
       "      <th>0</th>\n",
       "      <td>A-logD7.4-100</td>\n",
       "      <td>Fc1cc2c(N(C=C(C(O)=O)C2=O)C2CC2)cc1N1CCNCC1</td>\n",
       "      <td>-0.96</td>\n",
       "    </tr>\n",
       "    <tr>\n",
       "      <th>1</th>\n",
       "      <td>A-logD7.4-101</td>\n",
       "      <td>S1(=O)(=O)N(CCN1C)c1cc2c([nH]cc2CCN(C)C)cc1</td>\n",
       "      <td>-0.92</td>\n",
       "    </tr>\n",
       "    <tr>\n",
       "      <th>2</th>\n",
       "      <td>A-logD7.4-104</td>\n",
       "      <td>OC=1C(=O)C=CN(CCCO)C=1C</td>\n",
       "      <td>-0.90</td>\n",
       "    </tr>\n",
       "    <tr>\n",
       "      <th>3</th>\n",
       "      <td>A-logD7.4-105</td>\n",
       "      <td>Fc1cc2c(N(C=C(C(O)=O)C2=O)c2ccccc2C)cc1N1CCNCC1</td>\n",
       "      <td>-0.83</td>\n",
       "    </tr>\n",
       "    <tr>\n",
       "      <th>4</th>\n",
       "      <td>A-logD7.4-106</td>\n",
       "      <td>OC=1C(=O)C=CN(CCC(=O)NCC)C=1C</td>\n",
       "      <td>-0.82</td>\n",
       "    </tr>\n",
       "  </tbody>\n",
       "</table>\n",
       "</div>"
      ],
      "text/plain": [
       "              ID                                           SMILES  logD7.4\n",
       "0  A-logD7.4-100      Fc1cc2c(N(C=C(C(O)=O)C2=O)C2CC2)cc1N1CCNCC1    -0.96\n",
       "1  A-logD7.4-101      S1(=O)(=O)N(CCN1C)c1cc2c([nH]cc2CCN(C)C)cc1    -0.92\n",
       "2  A-logD7.4-104                          OC=1C(=O)C=CN(CCCO)C=1C    -0.90\n",
       "3  A-logD7.4-105  Fc1cc2c(N(C=C(C(O)=O)C2=O)c2ccccc2C)cc1N1CCNCC1    -0.83\n",
       "4  A-logD7.4-106                    OC=1C(=O)C=CN(CCC(=O)NCC)C=1C    -0.82"
      ]
     },
     "execution_count": 24,
     "metadata": {},
     "output_type": "execute_result"
    }
   ],
   "source": [
    "logd_data = pd.read_csv(DATA_PATH + \"logd74.tsv\", delimiter=\"\\t\", low_memory=False)\n",
    "logd_data.head()"
   ]
  },
  {
   "cell_type": "code",
   "execution_count": 25,
   "metadata": {},
   "outputs": [],
   "source": [
    "logd_data = logd_data.drop(columns=[\"ID\"])\n",
    "logd_data = logd_data.rename(columns={\"logD7.4\": \"logD\", \"SMILES\": \"smiles\"})"
   ]
  },
  {
   "cell_type": "code",
   "execution_count": 26,
   "metadata": {},
   "outputs": [
    {
     "data": {
      "text/html": [
       "<div>\n",
       "<style scoped>\n",
       "    .dataframe tbody tr th:only-of-type {\n",
       "        vertical-align: middle;\n",
       "    }\n",
       "\n",
       "    .dataframe tbody tr th {\n",
       "        vertical-align: top;\n",
       "    }\n",
       "\n",
       "    .dataframe thead th {\n",
       "        text-align: right;\n",
       "    }\n",
       "</style>\n",
       "<table border=\"1\" class=\"dataframe\">\n",
       "  <thead>\n",
       "    <tr style=\"text-align: right;\">\n",
       "      <th></th>\n",
       "      <th>smiles</th>\n",
       "      <th>logD</th>\n",
       "    </tr>\n",
       "  </thead>\n",
       "  <tbody>\n",
       "    <tr>\n",
       "      <th>0</th>\n",
       "      <td>Fc1cc2c(N(C=C(C(O)=O)C2=O)C2CC2)cc1N1CCNCC1</td>\n",
       "      <td>-0.96</td>\n",
       "    </tr>\n",
       "    <tr>\n",
       "      <th>1</th>\n",
       "      <td>S1(=O)(=O)N(CCN1C)c1cc2c([nH]cc2CCN(C)C)cc1</td>\n",
       "      <td>-0.92</td>\n",
       "    </tr>\n",
       "    <tr>\n",
       "      <th>2</th>\n",
       "      <td>OC=1C(=O)C=CN(CCCO)C=1C</td>\n",
       "      <td>-0.90</td>\n",
       "    </tr>\n",
       "    <tr>\n",
       "      <th>3</th>\n",
       "      <td>Fc1cc2c(N(C=C(C(O)=O)C2=O)c2ccccc2C)cc1N1CCNCC1</td>\n",
       "      <td>-0.83</td>\n",
       "    </tr>\n",
       "    <tr>\n",
       "      <th>4</th>\n",
       "      <td>OC=1C(=O)C=CN(CCC(=O)NCC)C=1C</td>\n",
       "      <td>-0.82</td>\n",
       "    </tr>\n",
       "  </tbody>\n",
       "</table>\n",
       "</div>"
      ],
      "text/plain": [
       "                                            smiles  logD\n",
       "0      Fc1cc2c(N(C=C(C(O)=O)C2=O)C2CC2)cc1N1CCNCC1 -0.96\n",
       "1      S1(=O)(=O)N(CCN1C)c1cc2c([nH]cc2CCN(C)C)cc1 -0.92\n",
       "2                          OC=1C(=O)C=CN(CCCO)C=1C -0.90\n",
       "3  Fc1cc2c(N(C=C(C(O)=O)C2=O)c2ccccc2C)cc1N1CCNCC1 -0.83\n",
       "4                    OC=1C(=O)C=CN(CCC(=O)NCC)C=1C -0.82"
      ]
     },
     "execution_count": 26,
     "metadata": {},
     "output_type": "execute_result"
    }
   ],
   "source": [
    "logd_data.head()"
   ]
  },
  {
   "cell_type": "code",
   "execution_count": 27,
   "metadata": {},
   "outputs": [
    {
     "data": {
      "text/plain": [
       "(1130, 2)"
      ]
     },
     "execution_count": 27,
     "metadata": {},
     "output_type": "execute_result"
    }
   ],
   "source": [
    "logd_data.shape"
   ]
  },
  {
   "cell_type": "code",
   "execution_count": 28,
   "metadata": {},
   "outputs": [
    {
     "data": {
      "text/plain": [
       "0"
      ]
     },
     "execution_count": 28,
     "metadata": {},
     "output_type": "execute_result"
    }
   ],
   "source": [
    "logd_data.logD.isna().sum()"
   ]
  },
  {
   "cell_type": "code",
   "execution_count": 29,
   "metadata": {},
   "outputs": [
    {
     "data": {
      "text/plain": [
       "(1112,)"
      ]
     },
     "execution_count": 29,
     "metadata": {},
     "output_type": "execute_result"
    }
   ],
   "source": [
    "logd_data.smiles.unique().shape"
   ]
  },
  {
   "cell_type": "code",
   "execution_count": 30,
   "metadata": {},
   "outputs": [
    {
     "data": {
      "text/plain": [
       "(1127, 2)"
      ]
     },
     "execution_count": 30,
     "metadata": {},
     "output_type": "execute_result"
    }
   ],
   "source": [
    "logd_data = logd_data.drop_duplicates()\n",
    "logd_data.shape"
   ]
  },
  {
   "cell_type": "code",
   "execution_count": 40,
   "metadata": {},
   "outputs": [
    {
     "data": {
      "text/html": [
       "<div>\n",
       "<style scoped>\n",
       "    .dataframe tbody tr th:only-of-type {\n",
       "        vertical-align: middle;\n",
       "    }\n",
       "\n",
       "    .dataframe tbody tr th {\n",
       "        vertical-align: top;\n",
       "    }\n",
       "\n",
       "    .dataframe thead th {\n",
       "        text-align: right;\n",
       "    }\n",
       "</style>\n",
       "<table border=\"1\" class=\"dataframe\">\n",
       "  <thead>\n",
       "    <tr style=\"text-align: right;\">\n",
       "      <th></th>\n",
       "      <th>count_of_records</th>\n",
       "      <th>var</th>\n",
       "    </tr>\n",
       "    <tr>\n",
       "      <th>smiles</th>\n",
       "      <th></th>\n",
       "      <th></th>\n",
       "    </tr>\n",
       "  </thead>\n",
       "  <tbody>\n",
       "    <tr>\n",
       "      <th>O=C1CC[C@@]2([C@@H]3[C@H]([C@@H]4CC[C@H](O)[C@]4(CC3)C)CCC2=C1)C</th>\n",
       "      <td>2</td>\n",
       "      <td>0.000200</td>\n",
       "    </tr>\n",
       "    <tr>\n",
       "      <th>Clc1cc(N2CCN(CC2)CCCN2N=C3N(C=CC=C3)C2=O)ccc1</th>\n",
       "      <td>2</td>\n",
       "      <td>0.092450</td>\n",
       "    </tr>\n",
       "    <tr>\n",
       "      <th>Clc1cc(O)ccc1</th>\n",
       "      <td>2</td>\n",
       "      <td>0.001800</td>\n",
       "    </tr>\n",
       "    <tr>\n",
       "      <th>OC(=O)C(C)c1cc(ccc1)C(=O)c1ccccc1</th>\n",
       "      <td>2</td>\n",
       "      <td>0.004232</td>\n",
       "    </tr>\n",
       "    <tr>\n",
       "      <th>Clc1ccc(cc1)C(=O)n1c2c(cc(OC)cc2)c(CC(O)=O)c1C</th>\n",
       "      <td>2</td>\n",
       "      <td>0.432450</td>\n",
       "    </tr>\n",
       "    <tr>\n",
       "      <th>S1(=O)(=O)N(C)C(C(=O)Nc2ncccc2)=C(O)c2c1cccc2</th>\n",
       "      <td>2</td>\n",
       "      <td>0.057800</td>\n",
       "    </tr>\n",
       "    <tr>\n",
       "      <th>Clc1ccc(cc1S(=O)(=O)N)C1(O)NC(=O)c2c1cccc2</th>\n",
       "      <td>2</td>\n",
       "      <td>0.054450</td>\n",
       "    </tr>\n",
       "    <tr>\n",
       "      <th>N(CCCN1c2c(CCc3c1cccc3)cccc2)(C)C</th>\n",
       "      <td>2</td>\n",
       "      <td>0.000450</td>\n",
       "    </tr>\n",
       "    <tr>\n",
       "      <th>F[C@@]12[C@H]([C@@H]3C[C@@H](C)[C@](O)(C(=O)CO)[C@]3(C[C@@H]1O)C)CCC1=CC(=O)C=C[C@@]12C</th>\n",
       "      <td>2</td>\n",
       "      <td>0.004050</td>\n",
       "    </tr>\n",
       "    <tr>\n",
       "      <th>Clc1cc2N(c3c(Sc2cc1)cccc3)CCCN(C)C</th>\n",
       "      <td>2</td>\n",
       "      <td>0.006050</td>\n",
       "    </tr>\n",
       "    <tr>\n",
       "      <th>O(CC(O)CNC(C)C)c1c2c(ccc1)cccc2</th>\n",
       "      <td>2</td>\n",
       "      <td>0.039200</td>\n",
       "    </tr>\n",
       "    <tr>\n",
       "      <th>O=C1CC[C@@]2([C@@H]3[C@H]([C@@H]4CC[C@](O)(C(=O)CO)[C@]4(C[C@@H]3O)C)CCC2=C1)C</th>\n",
       "      <td>2</td>\n",
       "      <td>0.000050</td>\n",
       "    </tr>\n",
       "    <tr>\n",
       "      <th>N(CCC=C1c2c(CCc3c1cccc3)cccc2)(C)C</th>\n",
       "      <td>2</td>\n",
       "      <td>0.000450</td>\n",
       "    </tr>\n",
       "    <tr>\n",
       "      <th>n1c2c(cccc2)ccc1</th>\n",
       "      <td>2</td>\n",
       "      <td>0.007200</td>\n",
       "    </tr>\n",
       "    <tr>\n",
       "      <th>O(C)c1cc2c(cc(cc2)[C@@H](C(O)=O)C)cc1</th>\n",
       "      <td>2</td>\n",
       "      <td>0.006050</td>\n",
       "    </tr>\n",
       "    <tr>\n",
       "      <th>OC=1C(=O)C=CN(CCO)C=1C</th>\n",
       "      <td>1</td>\n",
       "      <td>NaN</td>\n",
       "    </tr>\n",
       "    <tr>\n",
       "      <th>Brc1[nH]c2c3c1C[C@@H]1N(C[C@@H](C=C1c3ccc2)C(=O)N[C@@]1(O[C@]2(O)N([C@H](CC(C)C)C(=O)N3[C@H]2CCC3)C1=O)C(C)C)C</th>\n",
       "      <td>1</td>\n",
       "      <td>NaN</td>\n",
       "    </tr>\n",
       "    <tr>\n",
       "      <th>OC=1C(=O)C=CN(CCNC(=O)C)C=1C</th>\n",
       "      <td>1</td>\n",
       "      <td>NaN</td>\n",
       "    </tr>\n",
       "    <tr>\n",
       "      <th>OC=1C(=O)C=CN(CCN)C=1C</th>\n",
       "      <td>1</td>\n",
       "      <td>NaN</td>\n",
       "    </tr>\n",
       "    <tr>\n",
       "      <th>OC=1C(=O)C=CN(CCCOCC)C=1CC</th>\n",
       "      <td>1</td>\n",
       "      <td>NaN</td>\n",
       "    </tr>\n",
       "  </tbody>\n",
       "</table>\n",
       "</div>"
      ],
      "text/plain": [
       "                                                    count_of_records       var\n",
       "smiles                                                                        \n",
       "O=C1CC[C@@]2([C@@H]3[C@H]([C@@H]4CC[C@H](O)[C@]...                 2  0.000200\n",
       "Clc1cc(N2CCN(CC2)CCCN2N=C3N(C=CC=C3)C2=O)ccc1                      2  0.092450\n",
       "Clc1cc(O)ccc1                                                      2  0.001800\n",
       "OC(=O)C(C)c1cc(ccc1)C(=O)c1ccccc1                                  2  0.004232\n",
       "Clc1ccc(cc1)C(=O)n1c2c(cc(OC)cc2)c(CC(O)=O)c1C                     2  0.432450\n",
       "S1(=O)(=O)N(C)C(C(=O)Nc2ncccc2)=C(O)c2c1cccc2                      2  0.057800\n",
       "Clc1ccc(cc1S(=O)(=O)N)C1(O)NC(=O)c2c1cccc2                         2  0.054450\n",
       "N(CCCN1c2c(CCc3c1cccc3)cccc2)(C)C                                  2  0.000450\n",
       "F[C@@]12[C@H]([C@@H]3C[C@@H](C)[C@](O)(C(=O)CO)...                 2  0.004050\n",
       "Clc1cc2N(c3c(Sc2cc1)cccc3)CCCN(C)C                                 2  0.006050\n",
       "O(CC(O)CNC(C)C)c1c2c(ccc1)cccc2                                    2  0.039200\n",
       "O=C1CC[C@@]2([C@@H]3[C@H]([C@@H]4CC[C@](O)(C(=O...                 2  0.000050\n",
       "N(CCC=C1c2c(CCc3c1cccc3)cccc2)(C)C                                 2  0.000450\n",
       "n1c2c(cccc2)ccc1                                                   2  0.007200\n",
       "O(C)c1cc2c(cc(cc2)[C@@H](C(O)=O)C)cc1                              2  0.006050\n",
       "OC=1C(=O)C=CN(CCO)C=1C                                             1       NaN\n",
       "Brc1[nH]c2c3c1C[C@@H]1N(C[C@@H](C=C1c3ccc2)C(=O...                 1       NaN\n",
       "OC=1C(=O)C=CN(CCNC(=O)C)C=1C                                       1       NaN\n",
       "OC=1C(=O)C=CN(CCN)C=1C                                             1       NaN\n",
       "OC=1C(=O)C=CN(CCCOCC)C=1CC                                         1       NaN"
      ]
     },
     "execution_count": 40,
     "metadata": {},
     "output_type": "execute_result"
    }
   ],
   "source": [
    "grouped_data = logd_data.groupby(['smiles']).agg(count_of_records=('logD', 'count'), \n",
    "                                       var=('logD', 'var')).sort_values(by=['count_of_records'], ascending=False)\n",
    "grouped_data.head(20)"
   ]
  },
  {
   "cell_type": "code",
   "execution_count": 41,
   "metadata": {},
   "outputs": [
    {
     "data": {
      "text/plain": [
       "<matplotlib.axes._subplots.AxesSubplot at 0x28bfa5e8080>"
      ]
     },
     "execution_count": 41,
     "metadata": {},
     "output_type": "execute_result"
    },
    {
     "data": {
      "image/png": "[encoded data removed]",
      "text/plain": [
       "<Figure size 432x288 with 1 Axes>"
      ]
     },
     "metadata": {
      "needs_background": "light"
     },
     "output_type": "display_data"
    }
   ],
   "source": [
    "sns.distplot(grouped_data['var'])"
   ]
  },
  {
   "cell_type": "code",
   "execution_count": 43,
   "metadata": {},
   "outputs": [
    {
     "data": {
      "text/html": [
       "<div>\n",
       "<style scoped>\n",
       "    .dataframe tbody tr th:only-of-type {\n",
       "        vertical-align: middle;\n",
       "    }\n",
       "\n",
       "    .dataframe tbody tr th {\n",
       "        vertical-align: top;\n",
       "    }\n",
       "\n",
       "    .dataframe thead th {\n",
       "        text-align: right;\n",
       "    }\n",
       "</style>\n",
       "<table border=\"1\" class=\"dataframe\">\n",
       "  <thead>\n",
       "    <tr style=\"text-align: right;\">\n",
       "      <th></th>\n",
       "      <th>smiles</th>\n",
       "      <th>logD</th>\n",
       "    </tr>\n",
       "  </thead>\n",
       "  <tbody>\n",
       "    <tr>\n",
       "      <th>0</th>\n",
       "      <td>Brc1[nH]c2c3c1C[C@@H]1N(C[C@@H](C=C1c3ccc2)C(=...</td>\n",
       "      <td>4.20</td>\n",
       "    </tr>\n",
       "    <tr>\n",
       "      <th>1</th>\n",
       "      <td>Brc1c2nccnc2ccc1NC=1NCCN=1</td>\n",
       "      <td>0.31</td>\n",
       "    </tr>\n",
       "    <tr>\n",
       "      <th>2</th>\n",
       "      <td>Brc1cc(Br)cc(Br)c1NC=1NCCN=1</td>\n",
       "      <td>2.51</td>\n",
       "    </tr>\n",
       "    <tr>\n",
       "      <th>3</th>\n",
       "      <td>Brc1cc(Br)cc(C(F)(F)F)c1NC=1NCCN=1</td>\n",
       "      <td>2.80</td>\n",
       "    </tr>\n",
       "    <tr>\n",
       "      <th>4</th>\n",
       "      <td>Brc1cc(Cl)c(NC=2NCCN=2)c(Cl)c1</td>\n",
       "      <td>2.31</td>\n",
       "    </tr>\n",
       "  </tbody>\n",
       "</table>\n",
       "</div>"
      ],
      "text/plain": [
       "                                              smiles  logD\n",
       "0  Brc1[nH]c2c3c1C[C@@H]1N(C[C@@H](C=C1c3ccc2)C(=...  4.20\n",
       "1                         Brc1c2nccnc2ccc1NC=1NCCN=1  0.31\n",
       "2                       Brc1cc(Br)cc(Br)c1NC=1NCCN=1  2.51\n",
       "3                 Brc1cc(Br)cc(C(F)(F)F)c1NC=1NCCN=1  2.80\n",
       "4                     Brc1cc(Cl)c(NC=2NCCN=2)c(Cl)c1  2.31"
      ]
     },
     "execution_count": 43,
     "metadata": {},
     "output_type": "execute_result"
    }
   ],
   "source": [
    "logd_data = logd_data.groupby(['smiles']).mean().reset_index()\n",
    "logd_data.head()"
   ]
  },
  {
   "cell_type": "code",
   "execution_count": 44,
   "metadata": {},
   "outputs": [
    {
     "data": {
      "text/plain": [
       "(1112, 2)"
      ]
     },
     "execution_count": 44,
     "metadata": {},
     "output_type": "execute_result"
    }
   ],
   "source": [
    "logd_data.shape"
   ]
  },
  {
   "cell_type": "code",
   "execution_count": 45,
   "metadata": {},
   "outputs": [
    {
     "data": {
      "text/plain": [
       "1112"
      ]
     },
     "execution_count": 45,
     "metadata": {},
     "output_type": "execute_result"
    }
   ],
   "source": [
    "logd_data.smiles.nunique()"
   ]
  },
  {
   "cell_type": "code",
   "execution_count": 46,
   "metadata": {},
   "outputs": [],
   "source": [
    "# all the experiments were held with pH=7.4\n",
    "logd_data['pH'] = pd.Series([7.4 for i in range(1112)])"
   ]
  },
  {
   "cell_type": "code",
   "execution_count": 47,
   "metadata": {},
   "outputs": [
    {
     "data": {
      "text/plain": [
       "<matplotlib.axes._subplots.AxesSubplot at 0x28bfa9395f8>"
      ]
     },
     "execution_count": 47,
     "metadata": {},
     "output_type": "execute_result"
    },
    {
     "data": {
      "image/png": "[encoded data removed]",
      "text/plain": [
       "<Figure size 432x288 with 1 Axes>"
      ]
     },
     "metadata": {
      "needs_background": "light"
     },
     "output_type": "display_data"
    }
   ],
   "source": [
    "sns.distplot(logd_data.logD)"
   ]
  },
  {
   "cell_type": "code",
   "execution_count": 48,
   "metadata": {},
   "outputs": [],
   "source": [
    "logd_data.to_csv(\"../data/1_filtering/logd/logd_logd74_dataset.csv\")"
   ]
  }
 ],
 "metadata": {
  "kernelspec": {
   "display_name": "chemvae",
   "language": "python",
   "name": "chemvae"
  },
  "language_info": {
   "codemirror_mode": {
    "name": "ipython",
    "version": 3
   },
   "file_extension": ".py",
   "mimetype": "text/x-python",
   "name": "python",
   "nbconvert_exporter": "python",
   "pygments_lexer": "ipython3",
   "version": "3.6.10"
  }
 },
 "nbformat": 4,
 "nbformat_minor": 4
}
