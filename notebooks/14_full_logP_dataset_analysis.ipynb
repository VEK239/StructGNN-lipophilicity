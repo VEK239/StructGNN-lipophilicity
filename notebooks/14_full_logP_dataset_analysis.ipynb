{
 "cells": [
  {
   "cell_type": "markdown",
   "metadata": {},
   "source": [
    "## Full LogP only dataset normalizing summary\n",
    "- The dataset size was 14111\n",
    "- There were 13777 unique smiles\n",
    "- 18 molecules had variation > 1, so they were dropped.\n",
    "- The rest were averaged.\n",
    "- All in all there are 13759 unique records left."
   ]
  },
  {
   "cell_type": "code",
   "execution_count": 1,
   "metadata": {},
   "outputs": [],
   "source": [
    "import numpy as np\n",
    "import pandas as pd\n",
    "import os\n",
    "import seaborn as sns\n",
    "from pathlib import Path\n",
    "import matplotlib.pyplot as plt\n",
    "\n",
    "DATA_PATH = \"../data/3_final_data/\""
   ]
  },
  {
   "cell_type": "code",
   "execution_count": 2,
   "metadata": {},
   "outputs": [
    {
     "data": {
      "text/html": [
       "<div>\n",
       "<style scoped>\n",
       "    .dataframe tbody tr th:only-of-type {\n",
       "        vertical-align: middle;\n",
       "    }\n",
       "\n",
       "    .dataframe tbody tr th {\n",
       "        vertical-align: top;\n",
       "    }\n",
       "\n",
       "    .dataframe thead th {\n",
       "        text-align: right;\n",
       "    }\n",
       "</style>\n",
       "<table border=\"1\" class=\"dataframe\">\n",
       "  <thead>\n",
       "    <tr style=\"text-align: right;\">\n",
       "      <th></th>\n",
       "      <th>smiles</th>\n",
       "      <th>logP</th>\n",
       "    </tr>\n",
       "  </thead>\n",
       "  <tbody>\n",
       "    <tr>\n",
       "      <th>0</th>\n",
       "      <td>COc1ccccc1[C@@H]1CC(=O)Nc2cc(C)c(C)cc21</td>\n",
       "      <td>4.17</td>\n",
       "    </tr>\n",
       "    <tr>\n",
       "      <th>1</th>\n",
       "      <td>COc1ccc2c(c1)O[C@](O)(C(F)(F)F)CC2=O</td>\n",
       "      <td>2.79</td>\n",
       "    </tr>\n",
       "    <tr>\n",
       "      <th>2</th>\n",
       "      <td>CC(C)(C)C1(C)OC(C(N)=O)C(C(N)=O)O1</td>\n",
       "      <td>1.60</td>\n",
       "    </tr>\n",
       "    <tr>\n",
       "      <th>3</th>\n",
       "      <td>CCOc1cc(-c2nnc(-c3ccco3)o2)cc(OCC)c1OCC</td>\n",
       "      <td>3.96</td>\n",
       "    </tr>\n",
       "    <tr>\n",
       "      <th>4</th>\n",
       "      <td>C=C(c1ccc(N(C)C)cc1)c1ccc(N(C)C)cc1</td>\n",
       "      <td>5.30</td>\n",
       "    </tr>\n",
       "  </tbody>\n",
       "</table>\n",
       "</div>"
      ],
      "text/plain": [
       "                                    smiles  logP\n",
       "0  COc1ccccc1[C@@H]1CC(=O)Nc2cc(C)c(C)cc21  4.17\n",
       "1     COc1ccc2c(c1)O[C@](O)(C(F)(F)F)CC2=O  2.79\n",
       "2       CC(C)(C)C1(C)OC(C(N)=O)C(C(N)=O)O1  1.60\n",
       "3  CCOc1cc(-c2nnc(-c3ccco3)o2)cc(OCC)c1OCC  3.96\n",
       "4      C=C(c1ccc(N(C)C)cc1)c1ccc(N(C)C)cc1  5.30"
      ]
     },
     "execution_count": 2,
     "metadata": {},
     "output_type": "execute_result"
    }
   ],
   "source": [
    "logp_data = pd.read_csv(DATA_PATH + 'logP.csv')\n",
    "logp_data.head()"
   ]
  },
  {
   "cell_type": "code",
   "execution_count": 3,
   "metadata": {},
   "outputs": [
    {
     "data": {
      "text/plain": [
       "(14111, 2)"
      ]
     },
     "execution_count": 3,
     "metadata": {},
     "output_type": "execute_result"
    }
   ],
   "source": [
    "logp_data.shape"
   ]
  },
  {
   "cell_type": "code",
   "execution_count": 4,
   "metadata": {},
   "outputs": [
    {
     "data": {
      "text/plain": [
       "13777"
      ]
     },
     "execution_count": 4,
     "metadata": {},
     "output_type": "execute_result"
    }
   ],
   "source": [
    "logp_data.smiles.nunique()"
   ]
  },
  {
   "cell_type": "code",
   "execution_count": 5,
   "metadata": {},
   "outputs": [
    {
     "data": {
      "text/html": [
       "<div>\n",
       "<style scoped>\n",
       "    .dataframe tbody tr th:only-of-type {\n",
       "        vertical-align: middle;\n",
       "    }\n",
       "\n",
       "    .dataframe tbody tr th {\n",
       "        vertical-align: top;\n",
       "    }\n",
       "\n",
       "    .dataframe thead th {\n",
       "        text-align: right;\n",
       "    }\n",
       "</style>\n",
       "<table border=\"1\" class=\"dataframe\">\n",
       "  <thead>\n",
       "    <tr style=\"text-align: right;\">\n",
       "      <th></th>\n",
       "      <th>logP</th>\n",
       "    </tr>\n",
       "    <tr>\n",
       "      <th>smiles</th>\n",
       "      <th></th>\n",
       "    </tr>\n",
       "  </thead>\n",
       "  <tbody>\n",
       "    <tr>\n",
       "      <th>CCC1(c2ccccc2)C(=O)NC(=O)N1S(=O)(=O)c1ccccc1</th>\n",
       "      <td>11.907200</td>\n",
       "    </tr>\n",
       "    <tr>\n",
       "      <th>COC(=O)c1ccccc1S(=O)(=O)NC(=O)N=c1nc(C)[nH]c(OC)n1</th>\n",
       "      <td>7.761800</td>\n",
       "    </tr>\n",
       "    <tr>\n",
       "      <th>O=C(Nc1ccc([N+](=O)[O-])cc1Cl)c1cc(Cl)ccc1O</th>\n",
       "      <td>5.088050</td>\n",
       "    </tr>\n",
       "    <tr>\n",
       "      <th>O=C(O)c1ccc[nH]c1=Nc1cccc(C(F)(F)F)c1</th>\n",
       "      <td>4.032800</td>\n",
       "    </tr>\n",
       "    <tr>\n",
       "      <th>CN1C(C(=O)N=c2cccc[nH]2)C(=O)c2ccccc2S1(=O)=O</th>\n",
       "      <td>3.934012</td>\n",
       "    </tr>\n",
       "    <tr>\n",
       "      <th>CC(Oc1ccc(Cl)cc1Cl)C(=O)O</th>\n",
       "      <td>3.396400</td>\n",
       "    </tr>\n",
       "    <tr>\n",
       "      <th>CC1(C)SC2C(NC(=O)C(N)c3ccc(O)cc3)C(=O)N2C1C(=O)O</th>\n",
       "      <td>3.328200</td>\n",
       "    </tr>\n",
       "    <tr>\n",
       "      <th>CC(C)C(N)C(=O)NC(C(=O)O)C(C)C</th>\n",
       "      <td>3.125000</td>\n",
       "    </tr>\n",
       "    <tr>\n",
       "      <th>CC(C)CCn1c(=NCCO)[nH]c2c1c(=O)n(C)c(=O)n2C</th>\n",
       "      <td>2.952450</td>\n",
       "    </tr>\n",
       "    <tr>\n",
       "      <th>CCC(C)C(NC(=O)C(N)CC(C)C)C(=O)O</th>\n",
       "      <td>2.691200</td>\n",
       "    </tr>\n",
       "    <tr>\n",
       "      <th>CC(C)CC(N)C(=O)NC(C(=O)O)C(C)C</th>\n",
       "      <td>2.668050</td>\n",
       "    </tr>\n",
       "    <tr>\n",
       "      <th>CSCCC(N)C(=O)NC(C(=O)O)C(C)C</th>\n",
       "      <td>2.531250</td>\n",
       "    </tr>\n",
       "    <tr>\n",
       "      <th>CCOC(=O)c1ccccc1S(=O)(=O)NC(=O)N=c1nc(Cl)cc(OC)[nH]1</th>\n",
       "      <td>2.289800</td>\n",
       "    </tr>\n",
       "    <tr>\n",
       "      <th>CC(C)CC(NC(=O)C(N)Cc1ccc(O)cc1)C(=O)O</th>\n",
       "      <td>2.142450</td>\n",
       "    </tr>\n",
       "    <tr>\n",
       "      <th>COc1nc(=NC(=O)NS(=O)(=O)c2ccccc2OCCCl)nc(C)[nH]1</th>\n",
       "      <td>2.121700</td>\n",
       "    </tr>\n",
       "    <tr>\n",
       "      <th>Cc1cnc2c(C(=O)O)c(Cl)ccc2c1</th>\n",
       "      <td>1.786050</td>\n",
       "    </tr>\n",
       "    <tr>\n",
       "      <th>CC(CCc1ccccc1)NCC(O)c1ccc(O)c(C(N)=O)c1</th>\n",
       "      <td>1.548800</td>\n",
       "    </tr>\n",
       "    <tr>\n",
       "      <th>CC#CC#CC#CC=CC(=O)OC</th>\n",
       "      <td>1.022450</td>\n",
       "    </tr>\n",
       "    <tr>\n",
       "      <th>Clc1cc(Cl)c(-c2cc(Cl)c(Cl)cc2Cl)cc1Cl</th>\n",
       "      <td>0.994050</td>\n",
       "    </tr>\n",
       "    <tr>\n",
       "      <th>COC(=O)c1sccc1S(=O)(=O)NC(=O)N=c1nc(C)[nH]c(OC)n1</th>\n",
       "      <td>0.924800</td>\n",
       "    </tr>\n",
       "  </tbody>\n",
       "</table>\n",
       "</div>"
      ],
      "text/plain": [
       "                                                         logP\n",
       "smiles                                                       \n",
       "CCC1(c2ccccc2)C(=O)NC(=O)N1S(=O)(=O)c1ccccc1        11.907200\n",
       "COC(=O)c1ccccc1S(=O)(=O)NC(=O)N=c1nc(C)[nH]c(OC)n1   7.761800\n",
       "O=C(Nc1ccc([N+](=O)[O-])cc1Cl)c1cc(Cl)ccc1O          5.088050\n",
       "O=C(O)c1ccc[nH]c1=Nc1cccc(C(F)(F)F)c1                4.032800\n",
       "CN1C(C(=O)N=c2cccc[nH]2)C(=O)c2ccccc2S1(=O)=O        3.934012\n",
       "CC(Oc1ccc(Cl)cc1Cl)C(=O)O                            3.396400\n",
       "CC1(C)SC2C(NC(=O)C(N)c3ccc(O)cc3)C(=O)N2C1C(=O)O     3.328200\n",
       "CC(C)C(N)C(=O)NC(C(=O)O)C(C)C                        3.125000\n",
       "CC(C)CCn1c(=NCCO)[nH]c2c1c(=O)n(C)c(=O)n2C           2.952450\n",
       "CCC(C)C(NC(=O)C(N)CC(C)C)C(=O)O                      2.691200\n",
       "CC(C)CC(N)C(=O)NC(C(=O)O)C(C)C                       2.668050\n",
       "CSCCC(N)C(=O)NC(C(=O)O)C(C)C                         2.531250\n",
       "CCOC(=O)c1ccccc1S(=O)(=O)NC(=O)N=c1nc(Cl)cc(OC)...   2.289800\n",
       "CC(C)CC(NC(=O)C(N)Cc1ccc(O)cc1)C(=O)O                2.142450\n",
       "COc1nc(=NC(=O)NS(=O)(=O)c2ccccc2OCCCl)nc(C)[nH]1     2.121700\n",
       "Cc1cnc2c(C(=O)O)c(Cl)ccc2c1                          1.786050\n",
       "CC(CCc1ccccc1)NCC(O)c1ccc(O)c(C(N)=O)c1              1.548800\n",
       "CC#CC#CC#CC=CC(=O)OC                                 1.022450\n",
       "Clc1cc(Cl)c(-c2cc(Cl)c(Cl)cc2Cl)cc1Cl                0.994050\n",
       "COC(=O)c1sccc1S(=O)(=O)NC(=O)N=c1nc(C)[nH]c(OC)n1    0.924800"
      ]
     },
     "execution_count": 5,
     "metadata": {},
     "output_type": "execute_result"
    }
   ],
   "source": [
    "grouped_logp_data = logp_data.groupby(['smiles']).agg('var').sort_values(by=['logP'], ascending=False)\n",
    "grouped_logp_data.head(20)"
   ]
  },
  {
   "cell_type": "code",
   "execution_count": 6,
   "metadata": {},
   "outputs": [
    {
     "data": {
      "text/html": [
       "<div>\n",
       "<style scoped>\n",
       "    .dataframe tbody tr th:only-of-type {\n",
       "        vertical-align: middle;\n",
       "    }\n",
       "\n",
       "    .dataframe tbody tr th {\n",
       "        vertical-align: top;\n",
       "    }\n",
       "\n",
       "    .dataframe thead th {\n",
       "        text-align: right;\n",
       "    }\n",
       "</style>\n",
       "<table border=\"1\" class=\"dataframe\">\n",
       "  <thead>\n",
       "    <tr style=\"text-align: right;\">\n",
       "      <th></th>\n",
       "      <th>logP</th>\n",
       "    </tr>\n",
       "  </thead>\n",
       "  <tbody>\n",
       "    <tr>\n",
       "      <th>count</th>\n",
       "      <td>14111.000000</td>\n",
       "    </tr>\n",
       "    <tr>\n",
       "      <th>mean</th>\n",
       "      <td>2.127711</td>\n",
       "    </tr>\n",
       "    <tr>\n",
       "      <th>std</th>\n",
       "      <td>1.876122</td>\n",
       "    </tr>\n",
       "    <tr>\n",
       "      <th>min</th>\n",
       "      <td>-4.650000</td>\n",
       "    </tr>\n",
       "    <tr>\n",
       "      <th>25%</th>\n",
       "      <td>0.890000</td>\n",
       "    </tr>\n",
       "    <tr>\n",
       "      <th>50%</th>\n",
       "      <td>2.030000</td>\n",
       "    </tr>\n",
       "    <tr>\n",
       "      <th>75%</th>\n",
       "      <td>3.260000</td>\n",
       "    </tr>\n",
       "    <tr>\n",
       "      <th>max</th>\n",
       "      <td>9.960000</td>\n",
       "    </tr>\n",
       "  </tbody>\n",
       "</table>\n",
       "</div>"
      ],
      "text/plain": [
       "               logP\n",
       "count  14111.000000\n",
       "mean       2.127711\n",
       "std        1.876122\n",
       "min       -4.650000\n",
       "25%        0.890000\n",
       "50%        2.030000\n",
       "75%        3.260000\n",
       "max        9.960000"
      ]
     },
     "execution_count": 6,
     "metadata": {},
     "output_type": "execute_result"
    }
   ],
   "source": [
    "logp_data.drop_duplicates(keep=False).describe()"
   ]
  },
  {
   "cell_type": "code",
   "execution_count": 7,
   "metadata": {},
   "outputs": [],
   "source": [
    "bad_smiles = ['CCC1(c2ccccc2)C(=O)NC(=O)N1S(=O)(=O)c1ccccc1',\n",
    "'COC(=O)c1ccccc1S(=O)(=O)NC(=O)N=c1nc(C)[nH]c(OC)n1',\n",
    "'O=C(Nc1ccc([N+](=O)[O-])cc1Cl)c1cc(Cl)ccc1O',\n",
    "'O=C(O)c1ccc[nH]c1=Nc1cccc(C(F)(F)F)c1',\n",
    "'CN1C(C(=O)N=c2cccc[nH]2)C(=O)c2ccccc2S1(=O)=O',\n",
    "'CC(Oc1ccc(Cl)cc1Cl)C(=O)O',\n",
    "'CC1(C)SC2C(NC(=O)C(N)c3ccc(O)cc3)C(=O)N2C1C(=O)O',\n",
    "'CC(C)C(N)C(=O)NC(C(=O)O)C(C)C',\n",
    "'CC(C)CCn1c(=NCCO)[nH]c2c1c(=O)n(C)c(=O)n2C',\n",
    "'CCC(C)C(NC(=O)C(N)CC(C)C)C(=O)O',\n",
    "'CC(C)CC(N)C(=O)NC(C(=O)O)C(C)C',\n",
    "'CSCCC(N)C(=O)NC(C(=O)O)C(C)C',\n",
    "'CCOC(=O)c1ccccc1S(=O)(=O)NC(=O)N=c1nc(Cl)cc(OC)[nH]1',\n",
    "'CC(C)CC(NC(=O)C(N)Cc1ccc(O)cc1)C(=O)O',\n",
    "'COc1nc(=NC(=O)NS(=O)(=O)c2ccccc2OCCCl)nc(C)[nH]1',\n",
    "'Cc1cnc2c(C(=O)O)c(Cl)ccc2c1',\n",
    "'CC(CCc1ccccc1)NCC(O)c1ccc(O)c(C(N)=O)c1',\n",
    "'CC#CC#CC#CC=CC(=O)OC']"
   ]
  },
  {
   "cell_type": "code",
   "execution_count": 8,
   "metadata": {},
   "outputs": [
    {
     "data": {
      "text/plain": [
       "(14073, 2)"
      ]
     },
     "execution_count": 8,
     "metadata": {},
     "output_type": "execute_result"
    }
   ],
   "source": [
    "logp_verified_data = logp_data[~logp_data.smiles.isin(bad_smiles)]\n",
    "logp_verified_data.shape"
   ]
  },
  {
   "cell_type": "code",
   "execution_count": 9,
   "metadata": {},
   "outputs": [
    {
     "data": {
      "text/html": [
       "<div>\n",
       "<style scoped>\n",
       "    .dataframe tbody tr th:only-of-type {\n",
       "        vertical-align: middle;\n",
       "    }\n",
       "\n",
       "    .dataframe tbody tr th {\n",
       "        vertical-align: top;\n",
       "    }\n",
       "\n",
       "    .dataframe thead th {\n",
       "        text-align: right;\n",
       "    }\n",
       "</style>\n",
       "<table border=\"1\" class=\"dataframe\">\n",
       "  <thead>\n",
       "    <tr style=\"text-align: right;\">\n",
       "      <th></th>\n",
       "      <th>smiles</th>\n",
       "      <th>logP</th>\n",
       "    </tr>\n",
       "  </thead>\n",
       "  <tbody>\n",
       "    <tr>\n",
       "      <th>0</th>\n",
       "      <td>BrC(Br)(Br)Br</td>\n",
       "      <td>3.42</td>\n",
       "    </tr>\n",
       "    <tr>\n",
       "      <th>1</th>\n",
       "      <td>BrC1C2CC3C(C2)C13</td>\n",
       "      <td>3.11</td>\n",
       "    </tr>\n",
       "    <tr>\n",
       "      <th>2</th>\n",
       "      <td>BrC1CC2CCC1C2</td>\n",
       "      <td>3.54</td>\n",
       "    </tr>\n",
       "    <tr>\n",
       "      <th>3</th>\n",
       "      <td>BrC1CCCCC1</td>\n",
       "      <td>3.20</td>\n",
       "    </tr>\n",
       "    <tr>\n",
       "      <th>4</th>\n",
       "      <td>BrC=C(Br)Br</td>\n",
       "      <td>3.20</td>\n",
       "    </tr>\n",
       "  </tbody>\n",
       "</table>\n",
       "</div>"
      ],
      "text/plain": [
       "              smiles  logP\n",
       "0      BrC(Br)(Br)Br  3.42\n",
       "1  BrC1C2CC3C(C2)C13  3.11\n",
       "2      BrC1CC2CCC1C2  3.54\n",
       "3         BrC1CCCCC1  3.20\n",
       "4        BrC=C(Br)Br  3.20"
      ]
     },
     "execution_count": 9,
     "metadata": {},
     "output_type": "execute_result"
    }
   ],
   "source": [
    "logp_verified_data = logp_verified_data.groupby(['smiles']).mean().reset_index()\n",
    "logp_verified_data.head()"
   ]
  },
  {
   "cell_type": "code",
   "execution_count": 10,
   "metadata": {},
   "outputs": [
    {
     "data": {
      "text/plain": [
       "(13759, 2)"
      ]
     },
     "execution_count": 10,
     "metadata": {},
     "output_type": "execute_result"
    }
   ],
   "source": [
    "logp_verified_data.shape"
   ]
  },
  {
   "cell_type": "code",
   "execution_count": 11,
   "metadata": {},
   "outputs": [
    {
     "data": {
      "text/html": [
       "<div>\n",
       "<style scoped>\n",
       "    .dataframe tbody tr th:only-of-type {\n",
       "        vertical-align: middle;\n",
       "    }\n",
       "\n",
       "    .dataframe tbody tr th {\n",
       "        vertical-align: top;\n",
       "    }\n",
       "\n",
       "    .dataframe thead th {\n",
       "        text-align: right;\n",
       "    }\n",
       "</style>\n",
       "<table border=\"1\" class=\"dataframe\">\n",
       "  <thead>\n",
       "    <tr style=\"text-align: right;\">\n",
       "      <th></th>\n",
       "      <th>logP</th>\n",
       "    </tr>\n",
       "  </thead>\n",
       "  <tbody>\n",
       "    <tr>\n",
       "      <th>count</th>\n",
       "      <td>13759.000000</td>\n",
       "    </tr>\n",
       "    <tr>\n",
       "      <th>mean</th>\n",
       "      <td>2.126042</td>\n",
       "    </tr>\n",
       "    <tr>\n",
       "      <th>std</th>\n",
       "      <td>1.866106</td>\n",
       "    </tr>\n",
       "    <tr>\n",
       "      <th>min</th>\n",
       "      <td>-4.650000</td>\n",
       "    </tr>\n",
       "    <tr>\n",
       "      <th>25%</th>\n",
       "      <td>0.890000</td>\n",
       "    </tr>\n",
       "    <tr>\n",
       "      <th>50%</th>\n",
       "      <td>2.030000</td>\n",
       "    </tr>\n",
       "    <tr>\n",
       "      <th>75%</th>\n",
       "      <td>3.250000</td>\n",
       "    </tr>\n",
       "    <tr>\n",
       "      <th>max</th>\n",
       "      <td>9.960000</td>\n",
       "    </tr>\n",
       "  </tbody>\n",
       "</table>\n",
       "</div>"
      ],
      "text/plain": [
       "               logP\n",
       "count  13759.000000\n",
       "mean       2.126042\n",
       "std        1.866106\n",
       "min       -4.650000\n",
       "25%        0.890000\n",
       "50%        2.030000\n",
       "75%        3.250000\n",
       "max        9.960000"
      ]
     },
     "execution_count": 11,
     "metadata": {},
     "output_type": "execute_result"
    }
   ],
   "source": [
    "logp_verified_data.describe()"
   ]
  },
  {
   "cell_type": "code",
   "execution_count": 12,
   "metadata": {},
   "outputs": [
    {
     "data": {
      "text/plain": [
       "<matplotlib.axes._subplots.AxesSubplot at 0x206639b3fd0>"
      ]
     },
     "execution_count": 12,
     "metadata": {},
     "output_type": "execute_result"
    },
    {
     "data": {
      "image/png": "[encoded data removed]",
      "text/plain": [
       "<Figure size 432x288 with 1 Axes>"
      ]
     },
     "metadata": {
      "needs_background": "light"
     },
     "output_type": "display_data"
    }
   ],
   "source": [
    "sns.distplot(logp_verified_data.logP)"
   ]
  },
  {
   "cell_type": "code",
   "execution_count": 13,
   "metadata": {},
   "outputs": [],
   "source": [
    "logp_verified_data.to_csv(\"../data/3_final_data/logp_mean.csv\")"
   ]
  }
 ],
 "metadata": {
  "kernelspec": {
   "display_name": "chemvae",
   "language": "python",
   "name": "chemvae"
  },
  "language_info": {
   "codemirror_mode": {
    "name": "ipython",
    "version": 3
   },
   "file_extension": ".py",
   "mimetype": "text/x-python",
   "name": "python",
   "nbconvert_exporter": "python",
   "pygments_lexer": "ipython3",
   "version": "3.6.10"
  }
 },
 "nbformat": 4,
 "nbformat_minor": 4
}
