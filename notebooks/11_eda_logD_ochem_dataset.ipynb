{
 "cells": [
  {
   "cell_type": "markdown",
   "metadata": {},
   "source": [
    "# EDA of Lipophilicity.csv\n",
    "\n",
    "## Summary\n",
    "1. There are 9549 experimental records\n",
    "2. Almost half of them were duplicates. 5155 unique records. All of them include pH\n",
    "3. Almost all of them are neutral (pH in \\[6, 8\\])\n",
    "4. There 4929 unique smiles\n",
    "5. Temperature is not mentioned\n",
    "6. There were some smiles with multiple records, but big variance. They were dropped. \n",
    "7. All in all there are 4981 records left.  "
   ]
  },
  {
   "cell_type": "code",
   "execution_count": 1,
   "metadata": {},
   "outputs": [],
   "source": [
    "import pandas as pd\n",
    "import matplotlib.pyplot as plt\n",
    "import math\n",
    "import seaborn as sns\n",
    "\n",
    "import sys\n",
    "\n",
    "DATA_PATH = \"../data/raw/logd/\""
   ]
  },
  {
   "cell_type": "code",
   "execution_count": 2,
   "metadata": {},
   "outputs": [],
   "source": [
    "def check_na(df, column):\n",
    "    n = df.shape[0]\n",
    "    num_of_na = df[column].isna().sum()\n",
    "    frac_of_na = int(100.0*(num_of_na / n))\n",
    "    print(\"# of NA values \" + column + \": \" + str(num_of_na) + \", \" + str(frac_of_na) + \"%\")\n",
    "    print(df[df[column].isna()].head())"
   ]
  },
  {
   "cell_type": "code",
   "execution_count": 89,
   "metadata": {},
   "outputs": [
    {
     "data": {
      "text/html": [
       "<div>\n",
       "<style scoped>\n",
       "    .dataframe tbody tr th:only-of-type {\n",
       "        vertical-align: middle;\n",
       "    }\n",
       "\n",
       "    .dataframe tbody tr th {\n",
       "        vertical-align: top;\n",
       "    }\n",
       "\n",
       "    .dataframe thead th {\n",
       "        text-align: right;\n",
       "    }\n",
       "</style>\n",
       "<table border=\"1\" class=\"dataframe\">\n",
       "  <thead>\n",
       "    <tr style=\"text-align: right;\">\n",
       "      <th></th>\n",
       "      <th>SMILES</th>\n",
       "      <th>LogD {measured}</th>\n",
       "      <th>UNIT {LogD}</th>\n",
       "      <th>pH</th>\n",
       "      <th>UNIT {pH}</th>\n",
       "      <th>Temperature</th>\n",
       "      <th>UNIT {Temperature}</th>\n",
       "      <th>logPow Method</th>\n",
       "      <th>logPow Buffer</th>\n",
       "      <th>Ionic strength</th>\n",
       "      <th>UNIT {Ionic strength}</th>\n",
       "      <th>Species</th>\n",
       "      <th>Test duration</th>\n",
       "      <th>Material Nanoparticles of Elements</th>\n",
       "      <th>APS</th>\n",
       "      <th>UNIT {APS}</th>\n",
       "      <th>Explosure concentration</th>\n",
       "      <th>UNIT {Explosure concentration}</th>\n",
       "      <th>Crystal structure of nanoparticles</th>\n",
       "      <th>Ionisable</th>\n",
       "    </tr>\n",
       "  </thead>\n",
       "  <tbody>\n",
       "    <tr>\n",
       "      <th>0</th>\n",
       "      <td>OCC1CCC(O1)N1C=NC2=C1N=CNC2=O</td>\n",
       "      <td>-0.54</td>\n",
       "      <td>Log unit</td>\n",
       "      <td>7.4</td>\n",
       "      <td>Log unit</td>\n",
       "      <td>37.0</td>\n",
       "      <td>?C</td>\n",
       "      <td>NaN</td>\n",
       "      <td>NaN</td>\n",
       "      <td>NaN</td>\n",
       "      <td>-</td>\n",
       "      <td>NaN</td>\n",
       "      <td>NaN</td>\n",
       "      <td>NaN</td>\n",
       "      <td>NaN</td>\n",
       "      <td>-</td>\n",
       "      <td>NaN</td>\n",
       "      <td>-</td>\n",
       "      <td>NaN</td>\n",
       "      <td>NaN</td>\n",
       "    </tr>\n",
       "    <tr>\n",
       "      <th>1</th>\n",
       "      <td>CC(C)(C)NC(=O)C1CN(CC2=CN=CC=C2)CCN1CC(O)CC(CC...</td>\n",
       "      <td>2.79</td>\n",
       "      <td>Log unit</td>\n",
       "      <td>7.4</td>\n",
       "      <td>Log unit</td>\n",
       "      <td>37.0</td>\n",
       "      <td>?C</td>\n",
       "      <td>NaN</td>\n",
       "      <td>NaN</td>\n",
       "      <td>NaN</td>\n",
       "      <td>-</td>\n",
       "      <td>NaN</td>\n",
       "      <td>NaN</td>\n",
       "      <td>NaN</td>\n",
       "      <td>NaN</td>\n",
       "      <td>-</td>\n",
       "      <td>NaN</td>\n",
       "      <td>-</td>\n",
       "      <td>NaN</td>\n",
       "      <td>NaN</td>\n",
       "    </tr>\n",
       "    <tr>\n",
       "      <th>2</th>\n",
       "      <td>CC1=CC=NC2=C1NC(=O)C1=C(N=CC=C1)N2C1CC1</td>\n",
       "      <td>1.81</td>\n",
       "      <td>Log unit</td>\n",
       "      <td>7.4</td>\n",
       "      <td>Log unit</td>\n",
       "      <td>37.0</td>\n",
       "      <td>?C</td>\n",
       "      <td>NaN</td>\n",
       "      <td>NaN</td>\n",
       "      <td>NaN</td>\n",
       "      <td>-</td>\n",
       "      <td>NaN</td>\n",
       "      <td>NaN</td>\n",
       "      <td>NaN</td>\n",
       "      <td>NaN</td>\n",
       "      <td>-</td>\n",
       "      <td>NaN</td>\n",
       "      <td>-</td>\n",
       "      <td>NaN</td>\n",
       "      <td>NaN</td>\n",
       "    </tr>\n",
       "    <tr>\n",
       "      <th>3</th>\n",
       "      <td>CC1=CN(C2CC(N=[N]#N)C(CO)O2)C(=O)NC1=O</td>\n",
       "      <td>-0.58</td>\n",
       "      <td>Log unit</td>\n",
       "      <td>7.4</td>\n",
       "      <td>Log unit</td>\n",
       "      <td>37.0</td>\n",
       "      <td>?C</td>\n",
       "      <td>NaN</td>\n",
       "      <td>NaN</td>\n",
       "      <td>NaN</td>\n",
       "      <td>-</td>\n",
       "      <td>NaN</td>\n",
       "      <td>NaN</td>\n",
       "      <td>NaN</td>\n",
       "      <td>NaN</td>\n",
       "      <td>-</td>\n",
       "      <td>NaN</td>\n",
       "      <td>-</td>\n",
       "      <td>NaN</td>\n",
       "      <td>NaN</td>\n",
       "    </tr>\n",
       "    <tr>\n",
       "      <th>4</th>\n",
       "      <td>CC(=O)[C@H]1CC[C@H]2[C@@H]3CCC4=CC(=O)CC[C@]4(...</td>\n",
       "      <td>3.48</td>\n",
       "      <td>Log unit</td>\n",
       "      <td>7.4</td>\n",
       "      <td>Log unit</td>\n",
       "      <td>37.0</td>\n",
       "      <td>?C</td>\n",
       "      <td>NaN</td>\n",
       "      <td>NaN</td>\n",
       "      <td>NaN</td>\n",
       "      <td>-</td>\n",
       "      <td>NaN</td>\n",
       "      <td>NaN</td>\n",
       "      <td>NaN</td>\n",
       "      <td>NaN</td>\n",
       "      <td>-</td>\n",
       "      <td>NaN</td>\n",
       "      <td>-</td>\n",
       "      <td>NaN</td>\n",
       "      <td>NaN</td>\n",
       "    </tr>\n",
       "  </tbody>\n",
       "</table>\n",
       "</div>"
      ],
      "text/plain": [
       "                                              SMILES LogD {measured}  \\\n",
       "0                      OCC1CCC(O1)N1C=NC2=C1N=CNC2=O           -0.54   \n",
       "1  CC(C)(C)NC(=O)C1CN(CC2=CN=CC=C2)CCN1CC(O)CC(CC...            2.79   \n",
       "2            CC1=CC=NC2=C1NC(=O)C1=C(N=CC=C1)N2C1CC1            1.81   \n",
       "3             CC1=CN(C2CC(N=[N]#N)C(CO)O2)C(=O)NC1=O           -0.58   \n",
       "4  CC(=O)[C@H]1CC[C@H]2[C@@H]3CCC4=CC(=O)CC[C@]4(...            3.48   \n",
       "\n",
       "  UNIT {LogD}   pH UNIT {pH}  Temperature UNIT {Temperature} logPow Method  \\\n",
       "0    Log unit  7.4  Log unit         37.0                 ?C           NaN   \n",
       "1    Log unit  7.4  Log unit         37.0                 ?C           NaN   \n",
       "2    Log unit  7.4  Log unit         37.0                 ?C           NaN   \n",
       "3    Log unit  7.4  Log unit         37.0                 ?C           NaN   \n",
       "4    Log unit  7.4  Log unit         37.0                 ?C           NaN   \n",
       "\n",
       "  logPow Buffer  Ionic strength UNIT {Ionic strength} Species Test duration  \\\n",
       "0           NaN             NaN                     -     NaN           NaN   \n",
       "1           NaN             NaN                     -     NaN           NaN   \n",
       "2           NaN             NaN                     -     NaN           NaN   \n",
       "3           NaN             NaN                     -     NaN           NaN   \n",
       "4           NaN             NaN                     -     NaN           NaN   \n",
       "\n",
       "  Material Nanoparticles of Elements  APS UNIT {APS}  Explosure concentration  \\\n",
       "0                                NaN  NaN          -                      NaN   \n",
       "1                                NaN  NaN          -                      NaN   \n",
       "2                                NaN  NaN          -                      NaN   \n",
       "3                                NaN  NaN          -                      NaN   \n",
       "4                                NaN  NaN          -                      NaN   \n",
       "\n",
       "  UNIT {Explosure concentration} Crystal structure of nanoparticles Ionisable  \n",
       "0                              -                                NaN       NaN  \n",
       "1                              -                                NaN       NaN  \n",
       "2                              -                                NaN       NaN  \n",
       "3                              -                                NaN       NaN  \n",
       "4                              -                                NaN       NaN  "
      ]
     },
     "execution_count": 89,
     "metadata": {},
     "output_type": "execute_result"
    }
   ],
   "source": [
    "logd_data = pd.read_csv(DATA_PATH + \"logd_ochem_dataset.csv\", delimiter=\",\", low_memory=False)\n",
    "logd_data.head()"
   ]
  },
  {
   "cell_type": "code",
   "execution_count": 90,
   "metadata": {},
   "outputs": [
    {
     "data": {
      "text/html": [
       "<div>\n",
       "<style scoped>\n",
       "    .dataframe tbody tr th:only-of-type {\n",
       "        vertical-align: middle;\n",
       "    }\n",
       "\n",
       "    .dataframe tbody tr th {\n",
       "        vertical-align: top;\n",
       "    }\n",
       "\n",
       "    .dataframe thead th {\n",
       "        text-align: right;\n",
       "    }\n",
       "</style>\n",
       "<table border=\"1\" class=\"dataframe\">\n",
       "  <thead>\n",
       "    <tr style=\"text-align: right;\">\n",
       "      <th></th>\n",
       "      <th>SMILES</th>\n",
       "      <th>LogD {measured}</th>\n",
       "      <th>pH</th>\n",
       "    </tr>\n",
       "  </thead>\n",
       "  <tbody>\n",
       "    <tr>\n",
       "      <th>0</th>\n",
       "      <td>OCC1CCC(O1)N1C=NC2=C1N=CNC2=O</td>\n",
       "      <td>-0.54</td>\n",
       "      <td>7.4</td>\n",
       "    </tr>\n",
       "    <tr>\n",
       "      <th>1</th>\n",
       "      <td>CC(C)(C)NC(=O)C1CN(CC2=CN=CC=C2)CCN1CC(O)CC(CC...</td>\n",
       "      <td>2.79</td>\n",
       "      <td>7.4</td>\n",
       "    </tr>\n",
       "    <tr>\n",
       "      <th>2</th>\n",
       "      <td>CC1=CC=NC2=C1NC(=O)C1=C(N=CC=C1)N2C1CC1</td>\n",
       "      <td>1.81</td>\n",
       "      <td>7.4</td>\n",
       "    </tr>\n",
       "    <tr>\n",
       "      <th>3</th>\n",
       "      <td>CC1=CN(C2CC(N=[N]#N)C(CO)O2)C(=O)NC1=O</td>\n",
       "      <td>-0.58</td>\n",
       "      <td>7.4</td>\n",
       "    </tr>\n",
       "    <tr>\n",
       "      <th>4</th>\n",
       "      <td>CC(=O)[C@H]1CC[C@H]2[C@@H]3CCC4=CC(=O)CC[C@]4(...</td>\n",
       "      <td>3.48</td>\n",
       "      <td>7.4</td>\n",
       "    </tr>\n",
       "  </tbody>\n",
       "</table>\n",
       "</div>"
      ],
      "text/plain": [
       "                                              SMILES LogD {measured}   pH\n",
       "0                      OCC1CCC(O1)N1C=NC2=C1N=CNC2=O           -0.54  7.4\n",
       "1  CC(C)(C)NC(=O)C1CN(CC2=CN=CC=C2)CCN1CC(O)CC(CC...            2.79  7.4\n",
       "2            CC1=CC=NC2=C1NC(=O)C1=C(N=CC=C1)N2C1CC1            1.81  7.4\n",
       "3             CC1=CN(C2CC(N=[N]#N)C(CO)O2)C(=O)NC1=O           -0.58  7.4\n",
       "4  CC(=O)[C@H]1CC[C@H]2[C@@H]3CCC4=CC(=O)CC[C@]4(...            3.48  7.4"
      ]
     },
     "execution_count": 90,
     "metadata": {},
     "output_type": "execute_result"
    }
   ],
   "source": [
    "logd_data = logd_data[['SMILES', 'LogD {measured}', 'pH']]\n",
    "logd_data.head()"
   ]
  },
  {
   "cell_type": "code",
   "execution_count": 91,
   "metadata": {},
   "outputs": [
    {
     "data": {
      "text/html": [
       "<div>\n",
       "<style scoped>\n",
       "    .dataframe tbody tr th:only-of-type {\n",
       "        vertical-align: middle;\n",
       "    }\n",
       "\n",
       "    .dataframe tbody tr th {\n",
       "        vertical-align: top;\n",
       "    }\n",
       "\n",
       "    .dataframe thead th {\n",
       "        text-align: right;\n",
       "    }\n",
       "</style>\n",
       "<table border=\"1\" class=\"dataframe\">\n",
       "  <thead>\n",
       "    <tr style=\"text-align: right;\">\n",
       "      <th></th>\n",
       "      <th>smiles</th>\n",
       "      <th>logD</th>\n",
       "      <th>pH</th>\n",
       "    </tr>\n",
       "  </thead>\n",
       "  <tbody>\n",
       "    <tr>\n",
       "      <th>0</th>\n",
       "      <td>OCC1CCC(O1)N1C=NC2=C1N=CNC2=O</td>\n",
       "      <td>-0.54</td>\n",
       "      <td>7.4</td>\n",
       "    </tr>\n",
       "    <tr>\n",
       "      <th>1</th>\n",
       "      <td>CC(C)(C)NC(=O)C1CN(CC2=CN=CC=C2)CCN1CC(O)CC(CC...</td>\n",
       "      <td>2.79</td>\n",
       "      <td>7.4</td>\n",
       "    </tr>\n",
       "    <tr>\n",
       "      <th>2</th>\n",
       "      <td>CC1=CC=NC2=C1NC(=O)C1=C(N=CC=C1)N2C1CC1</td>\n",
       "      <td>1.81</td>\n",
       "      <td>7.4</td>\n",
       "    </tr>\n",
       "    <tr>\n",
       "      <th>3</th>\n",
       "      <td>CC1=CN(C2CC(N=[N]#N)C(CO)O2)C(=O)NC1=O</td>\n",
       "      <td>-0.58</td>\n",
       "      <td>7.4</td>\n",
       "    </tr>\n",
       "    <tr>\n",
       "      <th>4</th>\n",
       "      <td>CC(=O)[C@H]1CC[C@H]2[C@@H]3CCC4=CC(=O)CC[C@]4(...</td>\n",
       "      <td>3.48</td>\n",
       "      <td>7.4</td>\n",
       "    </tr>\n",
       "  </tbody>\n",
       "</table>\n",
       "</div>"
      ],
      "text/plain": [
       "                                              smiles   logD   pH\n",
       "0                      OCC1CCC(O1)N1C=NC2=C1N=CNC2=O  -0.54  7.4\n",
       "1  CC(C)(C)NC(=O)C1CN(CC2=CN=CC=C2)CCN1CC(O)CC(CC...   2.79  7.4\n",
       "2            CC1=CC=NC2=C1NC(=O)C1=C(N=CC=C1)N2C1CC1   1.81  7.4\n",
       "3             CC1=CN(C2CC(N=[N]#N)C(CO)O2)C(=O)NC1=O  -0.58  7.4\n",
       "4  CC(=O)[C@H]1CC[C@H]2[C@@H]3CCC4=CC(=O)CC[C@]4(...   3.48  7.4"
      ]
     },
     "execution_count": 91,
     "metadata": {},
     "output_type": "execute_result"
    }
   ],
   "source": [
    "logd_data = logd_data.rename(columns={\"LogD {measured}\": \"logD\", \"SMILES\": \"smiles\"})\n",
    "logd_data.head()"
   ]
  },
  {
   "cell_type": "code",
   "execution_count": 92,
   "metadata": {},
   "outputs": [
    {
     "data": {
      "text/plain": [
       "(9549, 3)"
      ]
     },
     "execution_count": 92,
     "metadata": {},
     "output_type": "execute_result"
    }
   ],
   "source": [
    "logd_data.shape"
   ]
  },
  {
   "cell_type": "code",
   "execution_count": 93,
   "metadata": {},
   "outputs": [],
   "source": [
    "logd_data = logd_data.drop_duplicates()"
   ]
  },
  {
   "cell_type": "code",
   "execution_count": 94,
   "metadata": {},
   "outputs": [
    {
     "data": {
      "text/plain": [
       "(5166, 3)"
      ]
     },
     "execution_count": 94,
     "metadata": {},
     "output_type": "execute_result"
    }
   ],
   "source": [
    "logd_data.shape"
   ]
  },
  {
   "cell_type": "code",
   "execution_count": 95,
   "metadata": {},
   "outputs": [
    {
     "data": {
      "text/plain": [
       "(4929,)"
      ]
     },
     "execution_count": 95,
     "metadata": {},
     "output_type": "execute_result"
    }
   ],
   "source": [
    "logd_data['smiles'].unique().shape"
   ]
  },
  {
   "cell_type": "code",
   "execution_count": 96,
   "metadata": {},
   "outputs": [],
   "source": [
    "logd_data['logD'] = pd.to_numeric(logd_data['logD'], errors='coerce')"
   ]
  },
  {
   "cell_type": "code",
   "execution_count": 97,
   "metadata": {},
   "outputs": [],
   "source": [
    "logd_data = logd_data[logd_data.logD.notnull()]"
   ]
  },
  {
   "cell_type": "code",
   "execution_count": 98,
   "metadata": {},
   "outputs": [
    {
     "data": {
      "text/plain": [
       "(5155, 3)"
      ]
     },
     "execution_count": 98,
     "metadata": {},
     "output_type": "execute_result"
    }
   ],
   "source": [
    "logd_data.shape"
   ]
  },
  {
   "cell_type": "code",
   "execution_count": 99,
   "metadata": {},
   "outputs": [
    {
     "data": {
      "text/html": [
       "<div>\n",
       "<style scoped>\n",
       "    .dataframe tbody tr th:only-of-type {\n",
       "        vertical-align: middle;\n",
       "    }\n",
       "\n",
       "    .dataframe tbody tr th {\n",
       "        vertical-align: top;\n",
       "    }\n",
       "\n",
       "    .dataframe thead th {\n",
       "        text-align: right;\n",
       "    }\n",
       "</style>\n",
       "<table border=\"1\" class=\"dataframe\">\n",
       "  <thead>\n",
       "    <tr style=\"text-align: right;\">\n",
       "      <th></th>\n",
       "      <th></th>\n",
       "      <th>count_of_records</th>\n",
       "      <th>var</th>\n",
       "    </tr>\n",
       "    <tr>\n",
       "      <th>smiles</th>\n",
       "      <th>pH</th>\n",
       "      <th></th>\n",
       "      <th></th>\n",
       "    </tr>\n",
       "  </thead>\n",
       "  <tbody>\n",
       "    <tr>\n",
       "      <th>O=[Ti]=O.O=[Ti]=O</th>\n",
       "      <th>5.5</th>\n",
       "      <td>11</td>\n",
       "      <td>492.410545</td>\n",
       "    </tr>\n",
       "    <tr>\n",
       "      <th>CN1N(C(=O)C=C1C)C1=CC=CC=C1</th>\n",
       "      <th>7.4</th>\n",
       "      <td>6</td>\n",
       "      <td>0.030745</td>\n",
       "    </tr>\n",
       "    <tr>\n",
       "      <th>CN1C2=C(NC=N2)C(=O)N(C)C1=O</th>\n",
       "      <th>7.4</th>\n",
       "      <td>5</td>\n",
       "      <td>0.056250</td>\n",
       "    </tr>\n",
       "    <tr>\n",
       "      <th>CC(C)NCC(O)COC1=CC=C(CC(N)=O)C=C1</th>\n",
       "      <th>7.4</th>\n",
       "      <td>5</td>\n",
       "      <td>0.062767</td>\n",
       "    </tr>\n",
       "    <tr>\n",
       "      <th>OC[C@@H](NC(=O)C(Cl)Cl)[C@H](O)C1=CC=C(C=C1)[N+]([O-])=O</th>\n",
       "      <th>7.4</th>\n",
       "      <td>4</td>\n",
       "      <td>0.056067</td>\n",
       "    </tr>\n",
       "    <tr>\n",
       "      <th>COCCC1=CC=C(OCC(O)CNC(C)C)C=C1</th>\n",
       "      <th>7.4</th>\n",
       "      <td>4</td>\n",
       "      <td>0.098492</td>\n",
       "    </tr>\n",
       "    <tr>\n",
       "      <th>CN1C=NC2=C1C(=O)N(C)C(=O)N2C</th>\n",
       "      <th>7.4</th>\n",
       "      <td>4</td>\n",
       "      <td>0.001625</td>\n",
       "    </tr>\n",
       "    <tr>\n",
       "      <th>CC(=O)NC1=CC=C(O)C=C1</th>\n",
       "      <th>7.4</th>\n",
       "      <td>4</td>\n",
       "      <td>0.011667</td>\n",
       "    </tr>\n",
       "    <tr>\n",
       "      <th>CC(C)(C)NCC(O)C1=CC(O)=CC(O)=C1</th>\n",
       "      <th>7.4</th>\n",
       "      <td>4</td>\n",
       "      <td>0.028200</td>\n",
       "    </tr>\n",
       "    <tr>\n",
       "      <th>NS(=O)(=O)C1=CC(C(O)=O)=C(NCC2=CC=CO2)C=C1Cl</th>\n",
       "      <th>7.4</th>\n",
       "      <td>3</td>\n",
       "      <td>0.149733</td>\n",
       "    </tr>\n",
       "    <tr>\n",
       "      <th>O=C1NC(=O)C(N1)(C1=CC=CC=C1)C1=CC=CC=C1</th>\n",
       "      <th>7.4</th>\n",
       "      <td>3</td>\n",
       "      <td>0.029100</td>\n",
       "    </tr>\n",
       "    <tr>\n",
       "      <th>CC(C)NCC(O)COC1=CC=CC2=C1C=CC=C2</th>\n",
       "      <th>7.4</th>\n",
       "      <td>3</td>\n",
       "      <td>0.102100</td>\n",
       "    </tr>\n",
       "    <tr>\n",
       "      <th>ClC1=CC=CC(=C1)N1CCN(CCCN2N=C3C=CC=CN3C2=O)CC1</th>\n",
       "      <th>7.4</th>\n",
       "      <td>3</td>\n",
       "      <td>0.048633</td>\n",
       "    </tr>\n",
       "    <tr>\n",
       "      <th>COC1=CC2=C(C=C1)N=C(N2)S(=O)CC1=NC=C(C)C(OC)=C1C</th>\n",
       "      <th>7.4</th>\n",
       "      <td>3</td>\n",
       "      <td>0.013633</td>\n",
       "    </tr>\n",
       "    <tr>\n",
       "      <th>CC1=NC=C(N1CCO)[N+]([O-])=O</th>\n",
       "      <th>7.4</th>\n",
       "      <td>3</td>\n",
       "      <td>0.013433</td>\n",
       "    </tr>\n",
       "    <tr>\n",
       "      <th>CC(C)NCC(O)COC1=C2C=CC=CC2=CC=C1</th>\n",
       "      <th>7.4</th>\n",
       "      <td>3</td>\n",
       "      <td>0.032033</td>\n",
       "    </tr>\n",
       "    <tr>\n",
       "      <th>CNCCCN1C2=C(CCC3=C1C=CC=C3)C=CC=C2</th>\n",
       "      <th>7.4</th>\n",
       "      <td>3</td>\n",
       "      <td>0.010133</td>\n",
       "    </tr>\n",
       "    <tr>\n",
       "      <th>CC(C)NCC(O)COC1=CC=CC=C1CC=C</th>\n",
       "      <th>7.4</th>\n",
       "      <td>3</td>\n",
       "      <td>0.046900</td>\n",
       "    </tr>\n",
       "    <tr>\n",
       "      <th>CN1C=NC2=C1C(=O)N(CCCCC(C)=O)C(=O)N2C</th>\n",
       "      <th>7.4</th>\n",
       "      <td>3</td>\n",
       "      <td>0.003433</td>\n",
       "    </tr>\n",
       "    <tr>\n",
       "      <th>CN(C)CCCN1C2=C(CCC3=C1C=CC=C3)C=CC=C2</th>\n",
       "      <th>7.4</th>\n",
       "      <td>3</td>\n",
       "      <td>0.077500</td>\n",
       "    </tr>\n",
       "  </tbody>\n",
       "</table>\n",
       "</div>"
      ],
      "text/plain": [
       "                                                        count_of_records  \\\n",
       "smiles                                             pH                      \n",
       "O=[Ti]=O.O=[Ti]=O                                  5.5                11   \n",
       "CN1N(C(=O)C=C1C)C1=CC=CC=C1                        7.4                 6   \n",
       "CN1C2=C(NC=N2)C(=O)N(C)C1=O                        7.4                 5   \n",
       "CC(C)NCC(O)COC1=CC=C(CC(N)=O)C=C1                  7.4                 5   \n",
       "OC[C@@H](NC(=O)C(Cl)Cl)[C@H](O)C1=CC=C(C=C1)[N+... 7.4                 4   \n",
       "COCCC1=CC=C(OCC(O)CNC(C)C)C=C1                     7.4                 4   \n",
       "CN1C=NC2=C1C(=O)N(C)C(=O)N2C                       7.4                 4   \n",
       "CC(=O)NC1=CC=C(O)C=C1                              7.4                 4   \n",
       "CC(C)(C)NCC(O)C1=CC(O)=CC(O)=C1                    7.4                 4   \n",
       "NS(=O)(=O)C1=CC(C(O)=O)=C(NCC2=CC=CO2)C=C1Cl       7.4                 3   \n",
       "O=C1NC(=O)C(N1)(C1=CC=CC=C1)C1=CC=CC=C1            7.4                 3   \n",
       "CC(C)NCC(O)COC1=CC=CC2=C1C=CC=C2                   7.4                 3   \n",
       "ClC1=CC=CC(=C1)N1CCN(CCCN2N=C3C=CC=CN3C2=O)CC1     7.4                 3   \n",
       "COC1=CC2=C(C=C1)N=C(N2)S(=O)CC1=NC=C(C)C(OC)=C1C   7.4                 3   \n",
       "CC1=NC=C(N1CCO)[N+]([O-])=O                        7.4                 3   \n",
       "CC(C)NCC(O)COC1=C2C=CC=CC2=CC=C1                   7.4                 3   \n",
       "CNCCCN1C2=C(CCC3=C1C=CC=C3)C=CC=C2                 7.4                 3   \n",
       "CC(C)NCC(O)COC1=CC=CC=C1CC=C                       7.4                 3   \n",
       "CN1C=NC2=C1C(=O)N(CCCCC(C)=O)C(=O)N2C              7.4                 3   \n",
       "CN(C)CCCN1C2=C(CCC3=C1C=CC=C3)C=CC=C2              7.4                 3   \n",
       "\n",
       "                                                               var  \n",
       "smiles                                             pH               \n",
       "O=[Ti]=O.O=[Ti]=O                                  5.5  492.410545  \n",
       "CN1N(C(=O)C=C1C)C1=CC=CC=C1                        7.4    0.030745  \n",
       "CN1C2=C(NC=N2)C(=O)N(C)C1=O                        7.4    0.056250  \n",
       "CC(C)NCC(O)COC1=CC=C(CC(N)=O)C=C1                  7.4    0.062767  \n",
       "OC[C@@H](NC(=O)C(Cl)Cl)[C@H](O)C1=CC=C(C=C1)[N+... 7.4    0.056067  \n",
       "COCCC1=CC=C(OCC(O)CNC(C)C)C=C1                     7.4    0.098492  \n",
       "CN1C=NC2=C1C(=O)N(C)C(=O)N2C                       7.4    0.001625  \n",
       "CC(=O)NC1=CC=C(O)C=C1                              7.4    0.011667  \n",
       "CC(C)(C)NCC(O)C1=CC(O)=CC(O)=C1                    7.4    0.028200  \n",
       "NS(=O)(=O)C1=CC(C(O)=O)=C(NCC2=CC=CO2)C=C1Cl       7.4    0.149733  \n",
       "O=C1NC(=O)C(N1)(C1=CC=CC=C1)C1=CC=CC=C1            7.4    0.029100  \n",
       "CC(C)NCC(O)COC1=CC=CC2=C1C=CC=C2                   7.4    0.102100  \n",
       "ClC1=CC=CC(=C1)N1CCN(CCCN2N=C3C=CC=CN3C2=O)CC1     7.4    0.048633  \n",
       "COC1=CC2=C(C=C1)N=C(N2)S(=O)CC1=NC=C(C)C(OC)=C1C   7.4    0.013633  \n",
       "CC1=NC=C(N1CCO)[N+]([O-])=O                        7.4    0.013433  \n",
       "CC(C)NCC(O)COC1=C2C=CC=CC2=CC=C1                   7.4    0.032033  \n",
       "CNCCCN1C2=C(CCC3=C1C=CC=C3)C=CC=C2                 7.4    0.010133  \n",
       "CC(C)NCC(O)COC1=CC=CC=C1CC=C                       7.4    0.046900  \n",
       "CN1C=NC2=C1C(=O)N(CCCCC(C)=O)C(=O)N2C              7.4    0.003433  \n",
       "CN(C)CCCN1C2=C(CCC3=C1C=CC=C3)C=CC=C2              7.4    0.077500  "
      ]
     },
     "execution_count": 99,
     "metadata": {},
     "output_type": "execute_result"
    }
   ],
   "source": [
    "grouped_data = logd_data.groupby(['smiles', 'pH']).agg(count_of_records=('logD', 'count'), \n",
    "                                       var=('logD', 'var')).sort_values(by=['count_of_records'], ascending=False)\n",
    "grouped_data.head(20)"
   ]
  },
  {
   "cell_type": "code",
   "execution_count": 100,
   "metadata": {},
   "outputs": [
    {
     "data": {
      "text/plain": [
       "<matplotlib.axes._subplots.AxesSubplot at 0x1d2cf68c940>"
      ]
     },
     "execution_count": 100,
     "metadata": {},
     "output_type": "execute_result"
    },
    {
     "data": {
      "image/png": "[encoded data removed]",
      "text/plain": [
       "<Figure size 432x288 with 1 Axes>"
      ]
     },
     "metadata": {
      "needs_background": "light"
     },
     "output_type": "display_data"
    }
   ],
   "source": [
    "sns.distplot(grouped_data['var'])"
   ]
  },
  {
   "cell_type": "code",
   "execution_count": 101,
   "metadata": {},
   "outputs": [
    {
     "data": {
      "text/html": [
       "<div>\n",
       "<style scoped>\n",
       "    .dataframe tbody tr th:only-of-type {\n",
       "        vertical-align: middle;\n",
       "    }\n",
       "\n",
       "    .dataframe tbody tr th {\n",
       "        vertical-align: top;\n",
       "    }\n",
       "\n",
       "    .dataframe thead th {\n",
       "        text-align: right;\n",
       "    }\n",
       "</style>\n",
       "<table border=\"1\" class=\"dataframe\">\n",
       "  <thead>\n",
       "    <tr style=\"text-align: right;\">\n",
       "      <th></th>\n",
       "      <th></th>\n",
       "      <th>count_of_records</th>\n",
       "      <th>var</th>\n",
       "    </tr>\n",
       "    <tr>\n",
       "      <th>smiles</th>\n",
       "      <th>pH</th>\n",
       "      <th></th>\n",
       "      <th></th>\n",
       "    </tr>\n",
       "  </thead>\n",
       "  <tbody>\n",
       "    <tr>\n",
       "      <th>O=[Ti]=O.O=[Ti]=O</th>\n",
       "      <th>5.5</th>\n",
       "      <td>11</td>\n",
       "      <td>492.410545</td>\n",
       "    </tr>\n",
       "    <tr>\n",
       "      <th>CC(=O)OC1=C(C=CC=C1)C(O)=O</th>\n",
       "      <th>7.4</th>\n",
       "      <td>3</td>\n",
       "      <td>4.345600</td>\n",
       "    </tr>\n",
       "    <tr>\n",
       "      <th>CC1=CC=C(C)C(OCCCC(C)(C)C(O)=O)=C1</th>\n",
       "      <th>7.4</th>\n",
       "      <td>2</td>\n",
       "      <td>2.163200</td>\n",
       "    </tr>\n",
       "    <tr>\n",
       "      <th>CCC1(C(=O)NC(=O)NC1=O)C1=CC=CC=C1</th>\n",
       "      <th>7.4</th>\n",
       "      <td>2</td>\n",
       "      <td>1.065800</td>\n",
       "    </tr>\n",
       "    <tr>\n",
       "      <th>[H]OC(=O)C([H])(N([H])[H])C([H])([H])C([H])(C([H])([H])[H])C([H])([H])[H]</th>\n",
       "      <th>7.4</th>\n",
       "      <td>2</td>\n",
       "      <td>3.645000</td>\n",
       "    </tr>\n",
       "  </tbody>\n",
       "</table>\n",
       "</div>"
      ],
      "text/plain": [
       "                                                        count_of_records  \\\n",
       "smiles                                             pH                      \n",
       "O=[Ti]=O.O=[Ti]=O                                  5.5                11   \n",
       "CC(=O)OC1=C(C=CC=C1)C(O)=O                         7.4                 3   \n",
       "CC1=CC=C(C)C(OCCCC(C)(C)C(O)=O)=C1                 7.4                 2   \n",
       "CCC1(C(=O)NC(=O)NC1=O)C1=CC=CC=C1                  7.4                 2   \n",
       "[H]OC(=O)C([H])(N([H])[H])C([H])([H])C([H])(C([... 7.4                 2   \n",
       "\n",
       "                                                               var  \n",
       "smiles                                             pH               \n",
       "O=[Ti]=O.O=[Ti]=O                                  5.5  492.410545  \n",
       "CC(=O)OC1=C(C=CC=C1)C(O)=O                         7.4    4.345600  \n",
       "CC1=CC=C(C)C(OCCCC(C)(C)C(O)=O)=C1                 7.4    2.163200  \n",
       "CCC1(C(=O)NC(=O)NC1=O)C1=CC=CC=C1                  7.4    1.065800  \n",
       "[H]OC(=O)C([H])(N([H])[H])C([H])([H])C([H])(C([... 7.4    3.645000  "
      ]
     },
     "execution_count": 101,
     "metadata": {},
     "output_type": "execute_result"
    }
   ],
   "source": [
    "grouped_data[grouped_data['var'] > 1]"
   ]
  },
  {
   "cell_type": "code",
   "execution_count": 104,
   "metadata": {},
   "outputs": [],
   "source": [
    "bad_smiles = ['O=[Ti]=O.O=[Ti]=O', 'CC(=O)OC1=C(C=CC=C1)C(O)=O', 'CC1=CC=C(C)C(OCCCC(C)(C)C(O)=O)=C1',\n",
    "              'CCC1(C(=O)NC(=O)NC1=O)C1=CC=CC=C1', '[H]OC(=O)C([H])(N([H])[H])C([H])([H])C([H])(C([H])([H])[H])C([H])([H])[H]']"
   ]
  },
  {
   "cell_type": "code",
   "execution_count": 108,
   "metadata": {},
   "outputs": [],
   "source": [
    "logd_data = logd_data[~logd_data.smiles.isin(bad_smiles)]"
   ]
  },
  {
   "cell_type": "code",
   "execution_count": 109,
   "metadata": {},
   "outputs": [
    {
     "data": {
      "text/html": [
       "<div>\n",
       "<style scoped>\n",
       "    .dataframe tbody tr th:only-of-type {\n",
       "        vertical-align: middle;\n",
       "    }\n",
       "\n",
       "    .dataframe tbody tr th {\n",
       "        vertical-align: top;\n",
       "    }\n",
       "\n",
       "    .dataframe thead th {\n",
       "        text-align: right;\n",
       "    }\n",
       "</style>\n",
       "<table border=\"1\" class=\"dataframe\">\n",
       "  <thead>\n",
       "    <tr style=\"text-align: right;\">\n",
       "      <th></th>\n",
       "      <th></th>\n",
       "      <th>count_of_records</th>\n",
       "      <th>var</th>\n",
       "    </tr>\n",
       "    <tr>\n",
       "      <th>smiles</th>\n",
       "      <th>pH</th>\n",
       "      <th></th>\n",
       "      <th></th>\n",
       "    </tr>\n",
       "  </thead>\n",
       "  <tbody>\n",
       "    <tr>\n",
       "      <th>CN1N(C(=O)C=C1C)C1=CC=CC=C1</th>\n",
       "      <th>7.4</th>\n",
       "      <td>6</td>\n",
       "      <td>0.030745</td>\n",
       "    </tr>\n",
       "    <tr>\n",
       "      <th>CN1C2=C(NC=N2)C(=O)N(C)C1=O</th>\n",
       "      <th>7.4</th>\n",
       "      <td>5</td>\n",
       "      <td>0.056250</td>\n",
       "    </tr>\n",
       "    <tr>\n",
       "      <th>CC(C)NCC(O)COC1=CC=C(CC(N)=O)C=C1</th>\n",
       "      <th>7.4</th>\n",
       "      <td>5</td>\n",
       "      <td>0.062767</td>\n",
       "    </tr>\n",
       "    <tr>\n",
       "      <th>CN1C=NC2=C1C(=O)N(C)C(=O)N2C</th>\n",
       "      <th>7.4</th>\n",
       "      <td>4</td>\n",
       "      <td>0.001625</td>\n",
       "    </tr>\n",
       "    <tr>\n",
       "      <th>CC(C)(C)NCC(O)C1=CC(O)=CC(O)=C1</th>\n",
       "      <th>7.4</th>\n",
       "      <td>4</td>\n",
       "      <td>0.028200</td>\n",
       "    </tr>\n",
       "  </tbody>\n",
       "</table>\n",
       "</div>"
      ],
      "text/plain": [
       "                                       count_of_records       var\n",
       "smiles                            pH                             \n",
       "CN1N(C(=O)C=C1C)C1=CC=CC=C1       7.4                 6  0.030745\n",
       "CN1C2=C(NC=N2)C(=O)N(C)C1=O       7.4                 5  0.056250\n",
       "CC(C)NCC(O)COC1=CC=C(CC(N)=O)C=C1 7.4                 5  0.062767\n",
       "CN1C=NC2=C1C(=O)N(C)C(=O)N2C      7.4                 4  0.001625\n",
       "CC(C)(C)NCC(O)C1=CC(O)=CC(O)=C1   7.4                 4  0.028200"
      ]
     },
     "execution_count": 109,
     "metadata": {},
     "output_type": "execute_result"
    }
   ],
   "source": [
    "grouped_data = logd_data.groupby(['smiles', 'pH']).agg(count_of_records=('logD', 'count'), \n",
    "                                       var=('logD', 'var')).sort_values(by=['count_of_records'], ascending=False)\n",
    "grouped_data.head()"
   ]
  },
  {
   "cell_type": "code",
   "execution_count": 110,
   "metadata": {},
   "outputs": [
    {
     "data": {
      "text/plain": [
       "<matplotlib.axes._subplots.AxesSubplot at 0x1d2ceccb630>"
      ]
     },
     "execution_count": 110,
     "metadata": {},
     "output_type": "execute_result"
    },
    {
     "data": {
      "image/png": "[encoded data removed]",
      "text/plain": [
       "<Figure size 432x288 with 1 Axes>"
      ]
     },
     "metadata": {
      "needs_background": "light"
     },
     "output_type": "display_data"
    }
   ],
   "source": [
    "sns.distplot(grouped_data['var'])"
   ]
  },
  {
   "cell_type": "code",
   "execution_count": 112,
   "metadata": {},
   "outputs": [
    {
     "data": {
      "text/html": [
       "<div>\n",
       "<style scoped>\n",
       "    .dataframe tbody tr th:only-of-type {\n",
       "        vertical-align: middle;\n",
       "    }\n",
       "\n",
       "    .dataframe tbody tr th {\n",
       "        vertical-align: top;\n",
       "    }\n",
       "\n",
       "    .dataframe thead th {\n",
       "        text-align: right;\n",
       "    }\n",
       "</style>\n",
       "<table border=\"1\" class=\"dataframe\">\n",
       "  <thead>\n",
       "    <tr style=\"text-align: right;\">\n",
       "      <th></th>\n",
       "      <th>smiles</th>\n",
       "      <th>pH</th>\n",
       "      <th>logD</th>\n",
       "    </tr>\n",
       "  </thead>\n",
       "  <tbody>\n",
       "    <tr>\n",
       "      <th>0</th>\n",
       "      <td>BrC1=C2NC3=C(CN(CC3)C(=O)[C@@H]3CCCC[C@H]3C(=O...</td>\n",
       "      <td>7.4</td>\n",
       "      <td>3.12</td>\n",
       "    </tr>\n",
       "    <tr>\n",
       "      <th>1</th>\n",
       "      <td>BrC1=CC(COC[C@@H](N2CCNCC2)C2=CC=CC=C2)=CC(Br)=C1</td>\n",
       "      <td>7.4</td>\n",
       "      <td>2.80</td>\n",
       "    </tr>\n",
       "    <tr>\n",
       "      <th>2</th>\n",
       "      <td>BrC1=CC2=C(C=CC=C2)N=C1</td>\n",
       "      <td>7.4</td>\n",
       "      <td>2.91</td>\n",
       "    </tr>\n",
       "    <tr>\n",
       "      <th>3</th>\n",
       "      <td>BrC1=CC2=C(NC(=O)CN=C2C2=CC=CC=N2)C=C1</td>\n",
       "      <td>7.4</td>\n",
       "      <td>1.38</td>\n",
       "    </tr>\n",
       "    <tr>\n",
       "      <th>4</th>\n",
       "      <td>BrC1=CC2=C(NC(=O)CN=C2C2=NC=CC=C2)C=C1</td>\n",
       "      <td>7.4</td>\n",
       "      <td>1.65</td>\n",
       "    </tr>\n",
       "  </tbody>\n",
       "</table>\n",
       "</div>"
      ],
      "text/plain": [
       "                                              smiles   pH  logD\n",
       "0  BrC1=C2NC3=C(CN(CC3)C(=O)[C@@H]3CCCC[C@H]3C(=O...  7.4  3.12\n",
       "1  BrC1=CC(COC[C@@H](N2CCNCC2)C2=CC=CC=C2)=CC(Br)=C1  7.4  2.80\n",
       "2                            BrC1=CC2=C(C=CC=C2)N=C1  7.4  2.91\n",
       "3             BrC1=CC2=C(NC(=O)CN=C2C2=CC=CC=N2)C=C1  7.4  1.38\n",
       "4             BrC1=CC2=C(NC(=O)CN=C2C2=NC=CC=C2)C=C1  7.4  1.65"
      ]
     },
     "execution_count": 112,
     "metadata": {},
     "output_type": "execute_result"
    }
   ],
   "source": [
    "logd_data = logd_data.groupby(['smiles', 'pH']).mean().reset_index()\n",
    "logd_data.head()"
   ]
  },
  {
   "cell_type": "code",
   "execution_count": 113,
   "metadata": {},
   "outputs": [
    {
     "data": {
      "text/plain": [
       "<matplotlib.axes._subplots.AxesSubplot at 0x1d2d08e6d68>"
      ]
     },
     "execution_count": 113,
     "metadata": {},
     "output_type": "execute_result"
    },
    {
     "data": {
      "image/png": "[encoded data removed]",
      "text/plain": [
       "<Figure size 432x288 with 1 Axes>"
      ]
     },
     "metadata": {
      "needs_background": "light"
     },
     "output_type": "display_data"
    }
   ],
   "source": [
    "sns.distplot(logd_data.logD)"
   ]
  },
  {
   "cell_type": "code",
   "execution_count": 118,
   "metadata": {},
   "outputs": [
    {
     "data": {
      "text/plain": [
       "<matplotlib.axes._subplots.AxesSubplot at 0x1d2d09f92b0>"
      ]
     },
     "execution_count": 118,
     "metadata": {},
     "output_type": "execute_result"
    },
    {
     "data": {
      "image/png": "[encoded data removed]",
      "text/plain": [
       "<Figure size 432x288 with 1 Axes>"
      ]
     },
     "metadata": {
      "needs_background": "light"
     },
     "output_type": "display_data"
    }
   ],
   "source": [
    "sns.distplot(logd_data.pH)"
   ]
  },
  {
   "cell_type": "code",
   "execution_count": 119,
   "metadata": {},
   "outputs": [
    {
     "data": {
      "text/plain": [
       "pH\n",
       "(1, 4]         6\n",
       "(4, 6]        19\n",
       "(6, 8]      4947\n",
       "(8, 10]        6\n",
       "(10, 14]       3\n",
       "Name: pH, dtype: int64"
      ]
     },
     "execution_count": 119,
     "metadata": {},
     "output_type": "execute_result"
    }
   ],
   "source": [
    "ranges = [1, 4, 6, 8, 10, 14]\n",
    "logd_data['pH'].groupby(pd.cut(logd_data['pH'], ranges)).count()"
   ]
  },
  {
   "cell_type": "code",
   "execution_count": 115,
   "metadata": {},
   "outputs": [
    {
     "name": "stdout",
     "output_type": "stream",
     "text": [
      "(4981, 3)\n",
      "(4981,)\n"
     ]
    }
   ],
   "source": [
    "print(logd_data.shape)\n",
    "print(logd_data['smiles'].shape)"
   ]
  },
  {
   "cell_type": "code",
   "execution_count": 116,
   "metadata": {},
   "outputs": [],
   "source": [
    "logd_data.to_csv(\"../data/1_filtering/logd/logd_ochem_dataset.csv\")"
   ]
  },
  {
   "cell_type": "code",
   "execution_count": null,
   "metadata": {},
   "outputs": [],
   "source": []
  }
 ],
 "metadata": {
  "kernelspec": {
   "display_name": "chemvae",
   "language": "python",
   "name": "chemvae"
  },
  "language_info": {
   "codemirror_mode": {
    "name": "ipython",
    "version": 3
   },
   "file_extension": ".py",
   "mimetype": "text/x-python",
   "name": "python",
   "nbconvert_exporter": "python",
   "pygments_lexer": "ipython3",
   "version": "3.6.10"
  }
 },
 "nbformat": 4,
 "nbformat_minor": 4
}
