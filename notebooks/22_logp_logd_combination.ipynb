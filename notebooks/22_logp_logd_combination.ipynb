{
 "cells": [
  {
   "cell_type": "code",
   "execution_count": 1,
   "metadata": {},
   "outputs": [],
   "source": [
    "import pandas as pd\n",
    "import os\n",
    "import numpy as np\n",
    "import yaml"
   ]
  },
  {
   "cell_type": "code",
   "execution_count": 2,
   "metadata": {},
   "outputs": [],
   "source": [
    "def prepare_dataset(tar_list):\n",
    "    df_blank = pd.DataFrame({'smiles':[]})\n",
    "    for dataset in tar_list:\n",
    "        df0 = pd.read_csv(os.path.join(DATASET_PATH, dataset))\n",
    "        df_blank =  pd.merge(df_blank, df0, on=SMILES_COLUMN, how='outer')\n",
    "    return df_blank"
   ]
  },
  {
   "cell_type": "code",
   "execution_count": 3,
   "metadata": {},
   "outputs": [],
   "source": [
    "DATASET_PATH = '../data/3_final_data'\n",
    "DATASET_OUTPUT_PATH = '../data/raw/baselines/dmpnn'\n",
    "SMILES_COLUMN = 'smiles'\n",
    "VALUE_COLUMNS = ['logP','logD']\n",
    "DATASET_NAMES = ['logp_wo_averaging.csv', 'logd_Lip_wo_averaging.csv']"
   ]
  },
  {
   "cell_type": "code",
   "execution_count": 11,
   "metadata": {},
   "outputs": [],
   "source": [
    "dataset = prepare_dataset(DATASET_NAMES)\n",
    "dataset.to_csv(os.path.join(DATASET_OUTPUT_PATH, 'logp_logd_Lip_wo_averaging.csv'))"
   ]
  },
  {
   "cell_type": "code",
   "execution_count": 7,
   "metadata": {},
   "outputs": [
    {
     "data": {
      "text/plain": [
       "(17685, 3)"
      ]
     },
     "execution_count": 7,
     "metadata": {},
     "output_type": "execute_result"
    }
   ],
   "source": [
    "dataset.shape"
   ]
  },
  {
   "cell_type": "code",
   "execution_count": 4,
   "metadata": {},
   "outputs": [],
   "source": [
    "dataset_logP = pd.read_csv(os.path.join(DATASET_PATH, DATASET_NAMES[0]))\n",
    "dataset_logD = pd.read_csv(os.path.join(DATASET_PATH, DATASET_NAMES[1]))"
   ]
  },
  {
   "cell_type": "markdown",
   "metadata": {},
   "source": [
    "## Check intersected molecules"
   ]
  },
  {
   "cell_type": "code",
   "execution_count": 31,
   "metadata": {},
   "outputs": [
    {
     "data": {
      "text/html": [
       "<div>\n",
       "<style scoped>\n",
       "    .dataframe tbody tr th:only-of-type {\n",
       "        vertical-align: middle;\n",
       "    }\n",
       "\n",
       "    .dataframe tbody tr th {\n",
       "        vertical-align: top;\n",
       "    }\n",
       "\n",
       "    .dataframe thead th {\n",
       "        text-align: right;\n",
       "    }\n",
       "</style>\n",
       "<table border=\"1\" class=\"dataframe\">\n",
       "  <thead>\n",
       "    <tr style=\"text-align: right;\">\n",
       "      <th></th>\n",
       "      <th>smiles</th>\n",
       "      <th>logP</th>\n",
       "    </tr>\n",
       "  </thead>\n",
       "  <tbody>\n",
       "    <tr>\n",
       "      <th>95</th>\n",
       "      <td>C#CCN(C)C(C)Cc1ccccc1</td>\n",
       "      <td>2.90</td>\n",
       "    </tr>\n",
       "    <tr>\n",
       "      <th>443</th>\n",
       "      <td>C=CCOc1ccccc1OCC(O)CNC(C)C</td>\n",
       "      <td>2.10</td>\n",
       "    </tr>\n",
       "    <tr>\n",
       "      <th>453</th>\n",
       "      <td>C=CCc1ccccc1OCC(O)CNC(C)C</td>\n",
       "      <td>3.10</td>\n",
       "    </tr>\n",
       "    <tr>\n",
       "      <th>612</th>\n",
       "      <td>CC(=O)CC(c1ccccc1)c1c(O)c2ccccc2oc1=O</td>\n",
       "      <td>2.60</td>\n",
       "    </tr>\n",
       "    <tr>\n",
       "      <th>617</th>\n",
       "      <td>CC(=O)CCCCn1c(=O)c2c(ncn2C)n(C)c1=O</td>\n",
       "      <td>0.29</td>\n",
       "    </tr>\n",
       "    <tr>\n",
       "      <th>...</th>\n",
       "      <td>...</td>\n",
       "      <td>...</td>\n",
       "    </tr>\n",
       "    <tr>\n",
       "      <th>13618</th>\n",
       "      <td>c1ccc2[nH]ncc2c1</td>\n",
       "      <td>1.77</td>\n",
       "    </tr>\n",
       "    <tr>\n",
       "      <th>13708</th>\n",
       "      <td>c1ccc2ccccc2c1</td>\n",
       "      <td>3.30</td>\n",
       "    </tr>\n",
       "    <tr>\n",
       "      <th>13709</th>\n",
       "      <td>c1ccc2cnccc2c1</td>\n",
       "      <td>2.08</td>\n",
       "    </tr>\n",
       "    <tr>\n",
       "      <th>13717</th>\n",
       "      <td>c1ccc2ncccc2c1</td>\n",
       "      <td>2.03</td>\n",
       "    </tr>\n",
       "    <tr>\n",
       "      <th>13719</th>\n",
       "      <td>c1ccc2ncncc2c1</td>\n",
       "      <td>1.00</td>\n",
       "    </tr>\n",
       "  </tbody>\n",
       "</table>\n",
       "<p>258 rows × 2 columns</p>\n",
       "</div>"
      ],
      "text/plain": [
       "                                      smiles  logP\n",
       "95                     C#CCN(C)C(C)Cc1ccccc1  2.90\n",
       "443               C=CCOc1ccccc1OCC(O)CNC(C)C  2.10\n",
       "453                C=CCc1ccccc1OCC(O)CNC(C)C  3.10\n",
       "612    CC(=O)CC(c1ccccc1)c1c(O)c2ccccc2oc1=O  2.60\n",
       "617      CC(=O)CCCCn1c(=O)c2c(ncn2C)n(C)c1=O  0.29\n",
       "...                                      ...   ...\n",
       "13618                       c1ccc2[nH]ncc2c1  1.77\n",
       "13708                         c1ccc2ccccc2c1  3.30\n",
       "13709                         c1ccc2cnccc2c1  2.08\n",
       "13717                         c1ccc2ncccc2c1  2.03\n",
       "13719                         c1ccc2ncncc2c1  1.00\n",
       "\n",
       "[258 rows x 2 columns]"
      ]
     },
     "execution_count": 31,
     "metadata": {},
     "output_type": "execute_result"
    }
   ],
   "source": [
    "dataset_logP[dataset_logP[SMILES_COLUMN].isin(dataset_logD[SMILES_COLUMN])]"
   ]
  },
  {
   "cell_type": "markdown",
   "metadata": {},
   "source": [
    "## Split dataset"
   ]
  },
  {
   "cell_type": "code",
   "execution_count": 12,
   "metadata": {},
   "outputs": [],
   "source": [
    "import pandas as pd\n",
    "import os"
   ]
  },
  {
   "cell_type": "code",
   "execution_count": 13,
   "metadata": {},
   "outputs": [],
   "source": [
    "DATASET_OUTPUT_PATH = '../data/raw/baselines/dmpnn'"
   ]
  },
  {
   "cell_type": "code",
   "execution_count": 14,
   "metadata": {},
   "outputs": [],
   "source": [
    "def train_test_validation_split(df):\n",
    "    from sklearn.model_selection import train_test_split\n",
    "    train_data, rest_data = train_test_split(df, test_size=0.3)\n",
    "    test_data, validation_data = train_test_split(rest_data, test_size=0.5)\n",
    "    return train_data.reset_index(drop=True), validation_data.reset_index(drop=True), test_data.reset_index(drop=True)"
   ]
  },
  {
   "cell_type": "code",
   "execution_count": 15,
   "metadata": {},
   "outputs": [],
   "source": [
    "file = 'logp_logd_Lip_wo_averaging'"
   ]
  },
  {
   "cell_type": "code",
   "execution_count": 16,
   "metadata": {},
   "outputs": [
    {
     "name": "stdout",
     "output_type": "stream",
     "text": [
      "logp_logd_Lip_wo_averaging shape:  (17685, 4)\n",
      "SPLITTED SHAPES:\n",
      "\ttrain: (12379, 4)\n",
      "\tvalidation: (2653, 4)\n",
      "\ttest: (2653, 4)\n",
      "\n"
     ]
    }
   ],
   "source": [
    "data = pd.read_csv(os.path.join(DATASET_OUTPUT_PATH, file+'.csv'))\n",
    "DATASET_PATH = '../data/3_final_data'\n",
    "\n",
    "data.to_csv(os.path.join(DATASET_PATH, file+'.csv'))\n",
    "\n",
    "print(file, 'shape: ', data.shape)    \n",
    "train, validation, test = train_test_validation_split(data)\n",
    "print('SPLITTED SHAPES:\\n\\ttrain: {0}\\n\\tvalidation: {1}\\n\\ttest: {2}\\n'.format(train.shape, validation.shape, test.shape))\n",
    "\n",
    "train.to_csv(os.path.join(DATASET_PATH, 'split_data', file + '_train.csv'))\n",
    "validation.to_csv(os.path.join(DATASET_PATH, 'split_data', file + '_validation.csv'))\n",
    "test.to_csv(os.path.join(DATASET_PATH, 'split_data',  file + '_test.csv'))"
   ]
  },
  {
   "cell_type": "markdown",
   "metadata": {},
   "source": [
    "# Datasets correlation"
   ]
  },
  {
   "cell_type": "code",
   "execution_count": 6,
   "metadata": {},
   "outputs": [],
   "source": [
    "DATASET_PATH = '../data/3_final_data'\n",
    "SMILES_COLUMN = 'smiles'\n",
    "VALUE_COLUMNS = ['logP','logD']\n",
    "DATASET_NAMES = ['logp_wo_averaging.csv', 'logd_Lip_wo_averaging.csv']\n",
    "file = 'logp_logd_Lip_wo_averaging'\n",
    "\n",
    "data = pd.read_csv(os.path.join(DATASET_PATH, file+'.csv'))\n",
    "dataset_logP = pd.read_csv(os.path.join(DATASET_PATH, DATASET_NAMES[0]))\n",
    "dataset_logD = pd.read_csv(os.path.join(DATASET_PATH, DATASET_NAMES[1]))"
   ]
  },
  {
   "cell_type": "code",
   "execution_count": 10,
   "metadata": {},
   "outputs": [],
   "source": [
    "logP_logD_cross_section = data.dropna()"
   ]
  },
  {
   "cell_type": "code",
   "execution_count": 19,
   "metadata": {},
   "outputs": [
    {
     "name": "stdout",
     "output_type": "stream",
     "text": [
      "Pearson's r LogP/LogD 0.656\n",
      "Spearman's rho LogP/LogD 0.656\n",
      "Kendall's tau LogP/LogD 0.51\n"
     ]
    }
   ],
   "source": [
    "print('Pearson\\'s r LogP/LogD', \\\n",
    "      round(logP_logD_cross_section[VALUE_COLUMNS[0]].corr(logP_logD_cross_section[VALUE_COLUMNS[1]]), 3))\n",
    "print('Spearman\\'s rho LogP/LogD', \\\n",
    "      round(logP_logD_cross_section[VALUE_COLUMNS[0]].corr(logP_logD_cross_section[VALUE_COLUMNS[1]], method='spearman'), 3))\n",
    "print('Kendall\\'s tau LogP/LogD', \\\n",
    "      round(logP_logD_cross_section[VALUE_COLUMNS[0]].corr(logP_logD_cross_section[VALUE_COLUMNS[1]], method='kendall'), 3))"
   ]
  },
  {
   "cell_type": "code",
   "execution_count": null,
   "metadata": {},
   "outputs": [],
   "source": []
  }
 ],
 "metadata": {
  "kernelspec": {
   "display_name": "Python 3",
   "language": "python",
   "name": "python3"
  },
  "language_info": {
   "codemirror_mode": {
    "name": "ipython",
    "version": 3
   },
   "file_extension": ".py",
   "mimetype": "text/x-python",
   "name": "python",
   "nbconvert_exporter": "python",
   "pygments_lexer": "ipython3",
   "version": "3.8.3"
  }
 },
 "nbformat": 4,
 "nbformat_minor": 4
}
