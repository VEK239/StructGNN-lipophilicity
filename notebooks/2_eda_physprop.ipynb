{
 "cells": [
  {
   "cell_type": "markdown",
   "metadata": {},
   "source": [
    "# EDA of physprop.xlsx\n",
    "\n",
    "## Summary\n",
    "\n",
    "1. Experimental logP are 13553 out of total 41039 rows.\n",
    "2. There are 97% NA values for Temperature. (99% in experimental data)\n",
    "3. There is no pH column.\n",
    "4. Most of the molecules are unique. There is only 22 full duplicates in experimental data and 24 rows with equal molecules.\n",
    "5. There was 1 row with NaN SMILES info"
   ]
  },
  {
   "cell_type": "code",
   "execution_count": 6,
   "metadata": {},
   "outputs": [],
   "source": [
    "import pandas as pd\n",
    "import matplotlib.pyplot as plt\n",
    "import seaborn as sns\n",
    "\n",
    "import sys\n",
    "#!conda install --yes --prefix {sys.prefix} xlrd\n",
    "\n",
    "PHYSPROP_DATA_FILE_PATH = \"../data/raw/physprop.xls\""
   ]
  },
  {
   "cell_type": "code",
   "execution_count": 7,
   "metadata": {
    "pycharm": {
     "name": "#%%\n"
    }
   },
   "outputs": [],
   "source": [
    "def check_na(df, column):\n",
    "    n = df.shape[0]\n",
    "    num_of_na = df[column].isna().sum()\n",
    "    frac_of_na = int(100.0*(num_of_na / n))\n",
    "    print(\"# of NA values \" + column + \": \" + str(num_of_na) + \", \" + str(frac_of_na) + \"%\")\n",
    "    print(df[df[column].isna()].head())"
   ]
  },
  {
   "cell_type": "code",
   "execution_count": 8,
   "metadata": {
    "pycharm": {
     "name": "#%%\n"
    }
   },
   "outputs": [
    {
     "data": {
      "text/html": [
       "<div>\n",
       "<style scoped>\n",
       "    .dataframe tbody tr th:only-of-type {\n",
       "        vertical-align: middle;\n",
       "    }\n",
       "\n",
       "    .dataframe tbody tr th {\n",
       "        vertical-align: top;\n",
       "    }\n",
       "\n",
       "    .dataframe thead th {\n",
       "        text-align: right;\n",
       "    }\n",
       "</style>\n",
       "<table border=\"1\" class=\"dataframe\">\n",
       "  <thead>\n",
       "    <tr style=\"text-align: right;\">\n",
       "      <th></th>\n",
       "      <th>CAS #</th>\n",
       "      <th>Formula</th>\n",
       "      <th>Mol Weight</th>\n",
       "      <th>Chemical Name</th>\n",
       "      <th>WS (mg/L)</th>\n",
       "      <th>WS_temp</th>\n",
       "      <th>WS_type</th>\n",
       "      <th>WS_reference</th>\n",
       "      <th>LogP</th>\n",
       "      <th>LogP_temp</th>\n",
       "      <th>...</th>\n",
       "      <th>OH (cm3/molecule-sec)</th>\n",
       "      <th>OH_temp</th>\n",
       "      <th>OH_type</th>\n",
       "      <th>OH_reference</th>\n",
       "      <th>BP_pressure (mm Hg)</th>\n",
       "      <th>MP (deg C)</th>\n",
       "      <th>BP (deg C)</th>\n",
       "      <th>FP (deg C)</th>\n",
       "      <th>SMILES</th>\n",
       "      <th>Unnamed: 33</th>\n",
       "    </tr>\n",
       "  </thead>\n",
       "  <tbody>\n",
       "    <tr>\n",
       "      <th>0</th>\n",
       "      <td>000050-00-0</td>\n",
       "      <td>CH2O</td>\n",
       "      <td>30.026</td>\n",
       "      <td>FORMALDEHYDE</td>\n",
       "      <td>400000.0</td>\n",
       "      <td>20.0</td>\n",
       "      <td>EXP</td>\n",
       "      <td>PICKRELL,JA ET AL. (1983)</td>\n",
       "      <td>0.35</td>\n",
       "      <td>25.0</td>\n",
       "      <td>...</td>\n",
       "      <td>9.370000e-12</td>\n",
       "      <td>25.0</td>\n",
       "      <td>EXP</td>\n",
       "      <td>KWOK,ESC &amp; ATKINSON,R (1994)</td>\n",
       "      <td>NaN</td>\n",
       "      <td>-92</td>\n",
       "      <td>-19.1</td>\n",
       "      <td>NaN</td>\n",
       "      <td>O=C</td>\n",
       "      <td>NaN</td>\n",
       "    </tr>\n",
       "    <tr>\n",
       "      <th>1</th>\n",
       "      <td>000050-01-1</td>\n",
       "      <td>CH6ClN3</td>\n",
       "      <td>95.532</td>\n",
       "      <td>Guanidine hydrochloride</td>\n",
       "      <td>1000000.0</td>\n",
       "      <td>25.0</td>\n",
       "      <td>EST</td>\n",
       "      <td>MEYLAN,WM ET AL. (1996)</td>\n",
       "      <td>-3.56</td>\n",
       "      <td>NaN</td>\n",
       "      <td>...</td>\n",
       "      <td>2.100000e-11</td>\n",
       "      <td>25.0</td>\n",
       "      <td>EST</td>\n",
       "      <td>MEYLAN,WM &amp; HOWARD,PH (1993)</td>\n",
       "      <td>NaN</td>\n",
       "      <td>182.3</td>\n",
       "      <td>NaN</td>\n",
       "      <td>NaN</td>\n",
       "      <td>NC(N)=N(H)(H)Cl</td>\n",
       "      <td>NaN</td>\n",
       "    </tr>\n",
       "    <tr>\n",
       "      <th>2</th>\n",
       "      <td>000050-02-2</td>\n",
       "      <td>C22H29FO5</td>\n",
       "      <td>392.470</td>\n",
       "      <td>DEXAMETHASONE</td>\n",
       "      <td>89.0</td>\n",
       "      <td>25.0</td>\n",
       "      <td>EXP</td>\n",
       "      <td>YALKOWSKY,SH &amp; DANNENFELSER,RM (1992)</td>\n",
       "      <td>1.83</td>\n",
       "      <td>25.0</td>\n",
       "      <td>...</td>\n",
       "      <td>6.950100e-11</td>\n",
       "      <td>25.0</td>\n",
       "      <td>EST</td>\n",
       "      <td>MEYLAN,WM &amp; HOWARD,PH (1993)</td>\n",
       "      <td>NaN</td>\n",
       "      <td>262</td>\n",
       "      <td>NaN</td>\n",
       "      <td>NaN</td>\n",
       "      <td>C1(=O)C=C2CCC3C4CC(C)C(O)(C(=O)CO)C4(C)CC(O)C3...</td>\n",
       "      <td>NaN</td>\n",
       "    </tr>\n",
       "    <tr>\n",
       "      <th>3</th>\n",
       "      <td>000050-03-3</td>\n",
       "      <td>C23H32O6</td>\n",
       "      <td>404.510</td>\n",
       "      <td>HYDROCORTISONE ACETATE</td>\n",
       "      <td>14.1</td>\n",
       "      <td>25.0</td>\n",
       "      <td>EXP</td>\n",
       "      <td>YALKOWSKY,SH &amp; DANNENFELSER,RM (1992)</td>\n",
       "      <td>2.19</td>\n",
       "      <td>NaN</td>\n",
       "      <td>...</td>\n",
       "      <td>1.128800e-10</td>\n",
       "      <td>25.0</td>\n",
       "      <td>EST</td>\n",
       "      <td>MEYLAN,WM &amp; HOWARD,PH (1993)</td>\n",
       "      <td>NaN</td>\n",
       "      <td>223 dec</td>\n",
       "      <td>NaN</td>\n",
       "      <td>NaN</td>\n",
       "      <td>C1C(=O)C=C2CCC3C4CCC(O)(C(=O)COC(=O)C)C4(C)CC(...</td>\n",
       "      <td>NaN</td>\n",
       "    </tr>\n",
       "    <tr>\n",
       "      <th>4</th>\n",
       "      <td>000050-04-4</td>\n",
       "      <td>C23H30O6</td>\n",
       "      <td>402.490</td>\n",
       "      <td>CORTISONE ACETATE</td>\n",
       "      <td>20.0</td>\n",
       "      <td>25.0</td>\n",
       "      <td>EXP</td>\n",
       "      <td>YALKOWSKY,SH &amp; DANNENFELSER,RM (1992)</td>\n",
       "      <td>2.10</td>\n",
       "      <td>25.0</td>\n",
       "      <td>...</td>\n",
       "      <td>1.083400e-10</td>\n",
       "      <td>25.0</td>\n",
       "      <td>EST</td>\n",
       "      <td>MEYLAN,WM &amp; HOWARD,PH (1993)</td>\n",
       "      <td>NaN</td>\n",
       "      <td>222</td>\n",
       "      <td>NaN</td>\n",
       "      <td>NaN</td>\n",
       "      <td>CC(=O)OCC(=O)C3(O)CCC4C2CCC1=CC(=O)CCC1(C)C2C(...</td>\n",
       "      <td>NaN</td>\n",
       "    </tr>\n",
       "  </tbody>\n",
       "</table>\n",
       "<p>5 rows × 34 columns</p>\n",
       "</div>"
      ],
      "text/plain": [
       "         CAS #    Formula  Mol Weight            Chemical Name  WS (mg/L)  \\\n",
       "0  000050-00-0       CH2O      30.026             FORMALDEHYDE   400000.0   \n",
       "1  000050-01-1    CH6ClN3      95.532  Guanidine hydrochloride  1000000.0   \n",
       "2  000050-02-2  C22H29FO5     392.470            DEXAMETHASONE       89.0   \n",
       "3  000050-03-3   C23H32O6     404.510   HYDROCORTISONE ACETATE       14.1   \n",
       "4  000050-04-4   C23H30O6     402.490        CORTISONE ACETATE       20.0   \n",
       "\n",
       "   WS_temp WS_type                           WS_reference  LogP  LogP_temp  \\\n",
       "0     20.0     EXP              PICKRELL,JA ET AL. (1983)  0.35       25.0   \n",
       "1     25.0     EST                MEYLAN,WM ET AL. (1996) -3.56        NaN   \n",
       "2     25.0     EXP  YALKOWSKY,SH & DANNENFELSER,RM (1992)  1.83       25.0   \n",
       "3     25.0     EXP  YALKOWSKY,SH & DANNENFELSER,RM (1992)  2.19        NaN   \n",
       "4     25.0     EXP  YALKOWSKY,SH & DANNENFELSER,RM (1992)  2.10       25.0   \n",
       "\n",
       "   ... OH (cm3/molecule-sec) OH_temp  OH_type                  OH_reference  \\\n",
       "0  ...          9.370000e-12    25.0      EXP  KWOK,ESC & ATKINSON,R (1994)   \n",
       "1  ...          2.100000e-11    25.0      EST  MEYLAN,WM & HOWARD,PH (1993)   \n",
       "2  ...          6.950100e-11    25.0      EST  MEYLAN,WM & HOWARD,PH (1993)   \n",
       "3  ...          1.128800e-10    25.0      EST  MEYLAN,WM & HOWARD,PH (1993)   \n",
       "4  ...          1.083400e-10    25.0      EST  MEYLAN,WM & HOWARD,PH (1993)   \n",
       "\n",
       "  BP_pressure (mm Hg) MP (deg C)  BP (deg C)  FP (deg C)  \\\n",
       "0                 NaN        -92       -19.1         NaN   \n",
       "1                 NaN      182.3         NaN         NaN   \n",
       "2                 NaN        262         NaN         NaN   \n",
       "3                 NaN    223 dec         NaN         NaN   \n",
       "4                 NaN        222         NaN         NaN   \n",
       "\n",
       "                                              SMILES Unnamed: 33  \n",
       "0                                                O=C         NaN  \n",
       "1                                    NC(N)=N(H)(H)Cl         NaN  \n",
       "2  C1(=O)C=C2CCC3C4CC(C)C(O)(C(=O)CO)C4(C)CC(O)C3...         NaN  \n",
       "3  C1C(=O)C=C2CCC3C4CCC(O)(C(=O)COC(=O)C)C4(C)CC(...         NaN  \n",
       "4  CC(=O)OCC(=O)C3(O)CCC4C2CCC1=CC(=O)CCC1(C)C2C(...         NaN  \n",
       "\n",
       "[5 rows x 34 columns]"
      ]
     },
     "execution_count": 8,
     "metadata": {},
     "output_type": "execute_result"
    }
   ],
   "source": [
    "physprop_data = pd.read_excel(PHYSPROP_DATA_FILE_PATH)\n",
    "physprop_data.head()"
   ]
  },
  {
   "cell_type": "code",
   "execution_count": 9,
   "metadata": {
    "pycharm": {
     "name": "#%%\n"
    }
   },
   "outputs": [
    {
     "data": {
      "text/plain": [
       "Index(['CAS #', 'Formula', 'Mol Weight', 'Chemical Name', 'WS (mg/L)',\n",
       "       'WS_temp', 'WS_type', 'WS_reference', 'LogP', 'LogP_temp', 'LogP_type',\n",
       "       'LogP_reference', 'VP (mm Hg)', 'VP_temp', 'VP_type', 'VP_reference',\n",
       "       'DC_pKa', 'DC_temp', 'DC_type', 'DC_reference', 'HL (atm-m3/mole)',\n",
       "       'HL_temp', 'HL_type', 'HL_reference', 'OH (cm3/molecule-sec)',\n",
       "       'OH_temp', 'OH_type', 'OH_reference', 'BP_pressure (mm Hg)',\n",
       "       'MP (deg C)', 'BP (deg C)', 'FP (deg C)', 'SMILES', 'Unnamed: 33'],\n",
       "      dtype='object')"
      ]
     },
     "execution_count": 9,
     "metadata": {},
     "output_type": "execute_result"
    }
   ],
   "source": [
    "physprop_data.columns"
   ]
  },
  {
   "cell_type": "code",
   "execution_count": 10,
   "metadata": {
    "pycharm": {
     "name": "#%%\n"
    }
   },
   "outputs": [
    {
     "data": {
      "text/html": [
       "<div>\n",
       "<style scoped>\n",
       "    .dataframe tbody tr th:only-of-type {\n",
       "        vertical-align: middle;\n",
       "    }\n",
       "\n",
       "    .dataframe tbody tr th {\n",
       "        vertical-align: top;\n",
       "    }\n",
       "\n",
       "    .dataframe thead th {\n",
       "        text-align: right;\n",
       "    }\n",
       "</style>\n",
       "<table border=\"1\" class=\"dataframe\">\n",
       "  <thead>\n",
       "    <tr style=\"text-align: right;\">\n",
       "      <th></th>\n",
       "      <th>LogP</th>\n",
       "      <th>LogP_temp</th>\n",
       "      <th>LogP_type</th>\n",
       "      <th>SMILES</th>\n",
       "    </tr>\n",
       "  </thead>\n",
       "  <tbody>\n",
       "    <tr>\n",
       "      <th>0</th>\n",
       "      <td>0.35</td>\n",
       "      <td>25.0</td>\n",
       "      <td>EXP</td>\n",
       "      <td>O=C</td>\n",
       "    </tr>\n",
       "    <tr>\n",
       "      <th>1</th>\n",
       "      <td>-3.56</td>\n",
       "      <td>NaN</td>\n",
       "      <td>EST</td>\n",
       "      <td>NC(N)=N(H)(H)Cl</td>\n",
       "    </tr>\n",
       "    <tr>\n",
       "      <th>2</th>\n",
       "      <td>1.83</td>\n",
       "      <td>25.0</td>\n",
       "      <td>EXP</td>\n",
       "      <td>C1(=O)C=C2CCC3C4CC(C)C(O)(C(=O)CO)C4(C)CC(O)C3...</td>\n",
       "    </tr>\n",
       "    <tr>\n",
       "      <th>3</th>\n",
       "      <td>2.19</td>\n",
       "      <td>NaN</td>\n",
       "      <td>EXP</td>\n",
       "      <td>C1C(=O)C=C2CCC3C4CCC(O)(C(=O)COC(=O)C)C4(C)CC(...</td>\n",
       "    </tr>\n",
       "    <tr>\n",
       "      <th>4</th>\n",
       "      <td>2.10</td>\n",
       "      <td>25.0</td>\n",
       "      <td>EXP</td>\n",
       "      <td>CC(=O)OCC(=O)C3(O)CCC4C2CCC1=CC(=O)CCC1(C)C2C(...</td>\n",
       "    </tr>\n",
       "  </tbody>\n",
       "</table>\n",
       "</div>"
      ],
      "text/plain": [
       "   LogP  LogP_temp LogP_type  \\\n",
       "0  0.35       25.0       EXP   \n",
       "1 -3.56        NaN       EST   \n",
       "2  1.83       25.0       EXP   \n",
       "3  2.19        NaN       EXP   \n",
       "4  2.10       25.0       EXP   \n",
       "\n",
       "                                              SMILES  \n",
       "0                                                O=C  \n",
       "1                                    NC(N)=N(H)(H)Cl  \n",
       "2  C1(=O)C=C2CCC3C4CC(C)C(O)(C(=O)CO)C4(C)CC(O)C3...  \n",
       "3  C1C(=O)C=C2CCC3C4CCC(O)(C(=O)COC(=O)C)C4(C)CC(...  \n",
       "4  CC(=O)OCC(=O)C3(O)CCC4C2CCC1=CC(=O)CCC1(C)C2C(...  "
      ]
     },
     "execution_count": 10,
     "metadata": {},
     "output_type": "execute_result"
    }
   ],
   "source": [
    "physprop_logp_data = physprop_data[['LogP', 'LogP_temp', 'LogP_type', 'SMILES']]\n",
    "physprop_logp_data.head()"
   ]
  },
  {
   "cell_type": "code",
   "execution_count": 11,
   "metadata": {
    "pycharm": {
     "name": "#%%\n"
    }
   },
   "outputs": [
    {
     "name": "stdout",
     "output_type": "stream",
     "text": [
      "(41039, 4)\n"
     ]
    }
   ],
   "source": [
    "print(physprop_logp_data.shape)"
   ]
  },
  {
   "cell_type": "code",
   "execution_count": 12,
   "metadata": {
    "pycharm": {
     "name": "#%%\n"
    }
   },
   "outputs": [
    {
     "name": "stdout",
     "output_type": "stream",
     "text": [
      "# of NA values LogP_temp: 40122, 97%\n",
      "   LogP  LogP_temp LogP_type  \\\n",
      "1 -3.56        NaN       EST   \n",
      "3  2.19        NaN       EXP   \n",
      "5  1.47        NaN       EXP   \n",
      "6 -0.40        NaN       EXP   \n",
      "7 -1.60        NaN       EST   \n",
      "\n",
      "                                              SMILES  \n",
      "1                                    NC(N)=N(H)(H)Cl  \n",
      "3  C1C(=O)C=C2CCC3C4CCC(O)(C(=O)COC(=O)C)C4(C)CC(...  \n",
      "5                     CCC1(C(=O)NC(=O)NC1=O)c2ccccc2  \n",
      "6  O=C1C(N)=C(C)C(=O)C2=C1C(COC(=O)N)C3(OC)C(N4)C...  \n",
      "7              O=C1N=C(O[Na])N(C)C(=O)C1(C)C2=CCCCC2  \n"
     ]
    }
   ],
   "source": [
    "check_na(physprop_logp_data, 'LogP_temp')"
   ]
  },
  {
   "cell_type": "code",
   "execution_count": 13,
   "metadata": {
    "pycharm": {
     "name": "#%%\n"
    }
   },
   "outputs": [
    {
     "data": {
      "text/html": [
       "<div>\n",
       "<style scoped>\n",
       "    .dataframe tbody tr th:only-of-type {\n",
       "        vertical-align: middle;\n",
       "    }\n",
       "\n",
       "    .dataframe tbody tr th {\n",
       "        vertical-align: top;\n",
       "    }\n",
       "\n",
       "    .dataframe thead th {\n",
       "        text-align: right;\n",
       "    }\n",
       "</style>\n",
       "<table border=\"1\" class=\"dataframe\">\n",
       "  <thead>\n",
       "    <tr style=\"text-align: right;\">\n",
       "      <th></th>\n",
       "      <th>LogP</th>\n",
       "      <th>LogP_temp</th>\n",
       "      <th>SMILES</th>\n",
       "    </tr>\n",
       "  </thead>\n",
       "  <tbody>\n",
       "    <tr>\n",
       "      <th>0</th>\n",
       "      <td>0.35</td>\n",
       "      <td>25.0</td>\n",
       "      <td>O=C</td>\n",
       "    </tr>\n",
       "    <tr>\n",
       "      <th>2</th>\n",
       "      <td>1.83</td>\n",
       "      <td>25.0</td>\n",
       "      <td>C1(=O)C=C2CCC3C4CC(C)C(O)(C(=O)CO)C4(C)CC(O)C3...</td>\n",
       "    </tr>\n",
       "    <tr>\n",
       "      <th>3</th>\n",
       "      <td>2.19</td>\n",
       "      <td>NaN</td>\n",
       "      <td>C1C(=O)C=C2CCC3C4CCC(O)(C(=O)COC(=O)C)C4(C)CC(...</td>\n",
       "    </tr>\n",
       "    <tr>\n",
       "      <th>4</th>\n",
       "      <td>2.10</td>\n",
       "      <td>25.0</td>\n",
       "      <td>CC(=O)OCC(=O)C3(O)CCC4C2CCC1=CC(=O)CCC1(C)C2C(...</td>\n",
       "    </tr>\n",
       "    <tr>\n",
       "      <th>5</th>\n",
       "      <td>1.47</td>\n",
       "      <td>NaN</td>\n",
       "      <td>CCC1(C(=O)NC(=O)NC1=O)c2ccccc2</td>\n",
       "    </tr>\n",
       "  </tbody>\n",
       "</table>\n",
       "</div>"
      ],
      "text/plain": [
       "   LogP  LogP_temp                                             SMILES\n",
       "0  0.35       25.0                                                O=C\n",
       "2  1.83       25.0  C1(=O)C=C2CCC3C4CC(C)C(O)(C(=O)CO)C4(C)CC(O)C3...\n",
       "3  2.19        NaN  C1C(=O)C=C2CCC3C4CCC(O)(C(=O)COC(=O)C)C4(C)CC(...\n",
       "4  2.10       25.0  CC(=O)OCC(=O)C3(O)CCC4C2CCC1=CC(=O)CCC1(C)C2C(...\n",
       "5  1.47        NaN                     CCC1(C(=O)NC(=O)NC1=O)c2ccccc2"
      ]
     },
     "execution_count": 13,
     "metadata": {},
     "output_type": "execute_result"
    }
   ],
   "source": [
    "exp_physprop_logp_data = physprop_logp_data[physprop_logp_data['LogP_type'] == 'EXP']\n",
    "exp_physprop_logp_data = exp_physprop_logp_data.drop(['LogP_type'], axis=1)\n",
    "exp_physprop_logp_data.head()"
   ]
  },
  {
   "cell_type": "code",
   "execution_count": 14,
   "metadata": {
    "pycharm": {
     "name": "#%%\n"
    }
   },
   "outputs": [
    {
     "name": "stdout",
     "output_type": "stream",
     "text": [
      "(13553, 3)\n"
     ]
    }
   ],
   "source": [
    "print(exp_physprop_logp_data.shape)\n",
    "LOGP_COLUMN = 'LogP'\n",
    "LOGP_TEMP_COLUMN = 'LogP_temp'\n",
    "SMILES_COLUMN = 'SMILES'\n",
    "n = exp_physprop_logp_data.shape[0]"
   ]
  },
  {
   "cell_type": "code",
   "execution_count": 15,
   "metadata": {},
   "outputs": [
    {
     "name": "stdout",
     "output_type": "stream",
     "text": [
      "# of NA values SMILES: 1, 0%\n",
      "       LogP  LogP_temp SMILES\n",
      "20325   5.5        NaN    NaN\n"
     ]
    }
   ],
   "source": [
    "check_na(exp_physprop_logp_data, SMILES_COLUMN)"
   ]
  },
  {
   "cell_type": "code",
   "execution_count": 16,
   "metadata": {},
   "outputs": [],
   "source": [
    "exp_physprop_logp_data = exp_physprop_logp_data[exp_physprop_logp_data[SMILES_COLUMN].notna()]"
   ]
  },
  {
   "cell_type": "code",
   "execution_count": 17,
   "metadata": {},
   "outputs": [
    {
     "name": "stdout",
     "output_type": "stream",
     "text": [
      "# of NA values SMILES: 0, 0%\n",
      "Empty DataFrame\n",
      "Columns: [LogP, LogP_temp, SMILES]\n",
      "Index: []\n"
     ]
    }
   ],
   "source": [
    "check_na(exp_physprop_logp_data, SMILES_COLUMN)"
   ]
  },
  {
   "cell_type": "code",
   "execution_count": 15,
   "metadata": {
    "pycharm": {
     "name": "#%%\n"
    }
   },
   "outputs": [
    {
     "name": "stdout",
     "output_type": "stream",
     "text": [
      "# of NA values LogP: 0, 0%\n",
      "Empty DataFrame\n",
      "Columns: [LogP, LogP_temp, SMILES]\n",
      "Index: []\n"
     ]
    }
   ],
   "source": [
    "check_na(exp_physprop_logp_data, LOGP_COLUMN)"
   ]
  },
  {
   "cell_type": "code",
   "execution_count": 16,
   "metadata": {
    "pycharm": {
     "name": "#%%\n"
    }
   },
   "outputs": [
    {
     "name": "stdout",
     "output_type": "stream",
     "text": [
      "# of NA values LogP_temp: 13439, 99%\n",
      "    LogP  LogP_temp                                             SMILES\n",
      "3   2.19        NaN  C1C(=O)C=C2CCC3C4CCC(O)(C(=O)COC(=O)C)C4(C)CC(...\n",
      "5   1.47        NaN                     CCC1(C(=O)NC(=O)NC1=O)c2ccccc2\n",
      "6  -0.40        NaN  O=C1C(N)=C(C)C(=O)C2=C1C(COC(=O)N)C3(OC)C(N4)C...\n",
      "10  1.69        NaN                       CCC1(NC(=O)N(C)C1=O)c2ccccc2\n",
      "13  0.63        NaN                          C1CCNP(=O)(N(CCCl)CCCl)O1\n"
     ]
    }
   ],
   "source": [
    "check_na(exp_physprop_logp_data, LOGP_TEMP_COLUMN)"
   ]
  },
  {
   "cell_type": "code",
   "execution_count": 18,
   "metadata": {
    "pycharm": {
     "name": "#%%\n"
    }
   },
   "outputs": [
    {
     "data": {
      "text/plain": [
       "22"
      ]
     },
     "execution_count": 18,
     "metadata": {},
     "output_type": "execute_result"
    }
   ],
   "source": [
    "exp_physprop_logp_data.duplicated().sum()"
   ]
  },
  {
   "cell_type": "code",
   "execution_count": 19,
   "metadata": {
    "pycharm": {
     "name": "#%%\n"
    }
   },
   "outputs": [],
   "source": [
    "exp_physprop_logp_data = exp_physprop_logp_data.drop_duplicates()"
   ]
  },
  {
   "cell_type": "code",
   "execution_count": 20,
   "metadata": {
    "pycharm": {
     "name": "#%%\n"
    }
   },
   "outputs": [
    {
     "data": {
      "text/plain": [
       "(13530, 3)"
      ]
     },
     "execution_count": 20,
     "metadata": {},
     "output_type": "execute_result"
    }
   ],
   "source": [
    "exp_physprop_logp_data.shape"
   ]
  },
  {
   "cell_type": "code",
   "execution_count": 21,
   "metadata": {
    "pycharm": {
     "name": "#%%\n"
    }
   },
   "outputs": [
    {
     "data": {
      "text/plain": [
       "13396"
      ]
     },
     "execution_count": 21,
     "metadata": {},
     "output_type": "execute_result"
    }
   ],
   "source": [
    "exp_physprop_logp_data[SMILES_COLUMN].unique().size"
   ]
  },
  {
   "cell_type": "code",
   "execution_count": 22,
   "metadata": {
    "pycharm": {
     "name": "#%%\n"
    }
   },
   "outputs": [
    {
     "data": {
      "text/html": [
       "<div>\n",
       "<style scoped>\n",
       "    .dataframe tbody tr th:only-of-type {\n",
       "        vertical-align: middle;\n",
       "    }\n",
       "\n",
       "    .dataframe tbody tr th {\n",
       "        vertical-align: top;\n",
       "    }\n",
       "\n",
       "    .dataframe thead th {\n",
       "        text-align: right;\n",
       "    }\n",
       "</style>\n",
       "<table border=\"1\" class=\"dataframe\">\n",
       "  <thead>\n",
       "    <tr style=\"text-align: right;\">\n",
       "      <th></th>\n",
       "      <th>LogP</th>\n",
       "      <th>LogP_temp</th>\n",
       "    </tr>\n",
       "    <tr>\n",
       "      <th>SMILES</th>\n",
       "      <th></th>\n",
       "      <th></th>\n",
       "    </tr>\n",
       "  </thead>\n",
       "  <tbody>\n",
       "    <tr>\n",
       "      <th>C(=CC)C</th>\n",
       "      <td>2</td>\n",
       "      <td>1</td>\n",
       "    </tr>\n",
       "    <tr>\n",
       "      <th>C(=CC=C)C</th>\n",
       "      <td>2</td>\n",
       "      <td>0</td>\n",
       "    </tr>\n",
       "    <tr>\n",
       "      <th>C(=CCC(C(=C)C)C1)(C1)C</th>\n",
       "      <td>2</td>\n",
       "      <td>1</td>\n",
       "    </tr>\n",
       "    <tr>\n",
       "      <th>C(=CCl)CCl</th>\n",
       "      <td>2</td>\n",
       "      <td>0</td>\n",
       "    </tr>\n",
       "    <tr>\n",
       "      <th>C(=CCl)Cl</th>\n",
       "      <td>3</td>\n",
       "      <td>0</td>\n",
       "    </tr>\n",
       "    <tr>\n",
       "      <th>...</th>\n",
       "      <td>...</td>\n",
       "      <td>...</td>\n",
       "    </tr>\n",
       "    <tr>\n",
       "      <th>c1ccccc1C(OC)C(C)NC</th>\n",
       "      <td>2</td>\n",
       "      <td>0</td>\n",
       "    </tr>\n",
       "    <tr>\n",
       "      <th>c1ccccc1C2C(N)C2</th>\n",
       "      <td>2</td>\n",
       "      <td>0</td>\n",
       "    </tr>\n",
       "    <tr>\n",
       "      <th>c1ccccc1C2OCC3C(c4ccccc4)=NOC3CO2</th>\n",
       "      <td>2</td>\n",
       "      <td>0</td>\n",
       "    </tr>\n",
       "    <tr>\n",
       "      <th>c1ccccc1CCCC(C)Oc2cc(OC(=O)C)c3C4CC(O)CCC4C(C)Nc3c2</th>\n",
       "      <td>2</td>\n",
       "      <td>0</td>\n",
       "    </tr>\n",
       "    <tr>\n",
       "      <th>c1ncccc1C2CC(O)C(=O)N2C</th>\n",
       "      <td>2</td>\n",
       "      <td>0</td>\n",
       "    </tr>\n",
       "  </tbody>\n",
       "</table>\n",
       "<p>114 rows × 2 columns</p>\n",
       "</div>"
      ],
      "text/plain": [
       "                                                    LogP  LogP_temp\n",
       "SMILES                                                             \n",
       "C(=CC)C                                                2          1\n",
       "C(=CC=C)C                                              2          0\n",
       "C(=CCC(C(=C)C)C1)(C1)C                                 2          1\n",
       "C(=CCl)CCl                                             2          0\n",
       "C(=CCl)Cl                                              3          0\n",
       "...                                                  ...        ...\n",
       "c1ccccc1C(OC)C(C)NC                                    2          0\n",
       "c1ccccc1C2C(N)C2                                       2          0\n",
       "c1ccccc1C2OCC3C(c4ccccc4)=NOC3CO2                      2          0\n",
       "c1ccccc1CCCC(C)Oc2cc(OC(=O)C)c3C4CC(O)CCC4C(C)N...     2          0\n",
       "c1ncccc1C2CC(O)C(=O)N2C                                2          0\n",
       "\n",
       "[114 rows x 2 columns]"
      ]
     },
     "execution_count": 22,
     "metadata": {},
     "output_type": "execute_result"
    }
   ],
   "source": [
    "exp_physprop_logp_data[exp_physprop_logp_data[SMILES_COLUMN].duplicated(keep=False)].groupby(SMILES_COLUMN).count()"
   ]
  },
  {
   "cell_type": "code",
   "execution_count": 23,
   "metadata": {
    "pycharm": {
     "name": "#%%\n"
    }
   },
   "outputs": [
    {
     "data": {
      "text/html": [
       "<div>\n",
       "<style scoped>\n",
       "    .dataframe tbody tr th:only-of-type {\n",
       "        vertical-align: middle;\n",
       "    }\n",
       "\n",
       "    .dataframe tbody tr th {\n",
       "        vertical-align: top;\n",
       "    }\n",
       "\n",
       "    .dataframe thead th {\n",
       "        text-align: right;\n",
       "    }\n",
       "</style>\n",
       "<table border=\"1\" class=\"dataframe\">\n",
       "  <thead>\n",
       "    <tr style=\"text-align: right;\">\n",
       "      <th></th>\n",
       "      <th>LogP</th>\n",
       "      <th>LogP_temp</th>\n",
       "      <th>SMILES</th>\n",
       "    </tr>\n",
       "  </thead>\n",
       "  <tbody>\n",
       "    <tr>\n",
       "      <th>1160</th>\n",
       "      <td>4.83</td>\n",
       "      <td>25.0</td>\n",
       "      <td>C(C(CC1C2)C1(C)C)(=C2)C</td>\n",
       "    </tr>\n",
       "    <tr>\n",
       "      <th>20246</th>\n",
       "      <td>4.48</td>\n",
       "      <td>NaN</td>\n",
       "      <td>C(C(CC1C2)C1(C)C)(=C2)C</td>\n",
       "    </tr>\n",
       "    <tr>\n",
       "      <th>20249</th>\n",
       "      <td>4.44</td>\n",
       "      <td>NaN</td>\n",
       "      <td>C(C(CC1C2)C1(C)C)(=C2)C</td>\n",
       "    </tr>\n",
       "  </tbody>\n",
       "</table>\n",
       "</div>"
      ],
      "text/plain": [
       "       LogP  LogP_temp                   SMILES\n",
       "1160   4.83       25.0  C(C(CC1C2)C1(C)C)(=C2)C\n",
       "20246  4.48        NaN  C(C(CC1C2)C1(C)C)(=C2)C\n",
       "20249  4.44        NaN  C(C(CC1C2)C1(C)C)(=C2)C"
      ]
     },
     "execution_count": 23,
     "metadata": {},
     "output_type": "execute_result"
    }
   ],
   "source": [
    "exp_physprop_logp_data[exp_physprop_logp_data[SMILES_COLUMN] == \"C(C(CC1C2)C1(C)C)(=C2)C\"]"
   ]
  },
  {
   "cell_type": "code",
   "execution_count": 24,
   "metadata": {
    "pycharm": {
     "name": "#%%\n"
    }
   },
   "outputs": [
    {
     "data": {
      "text/plain": [
       "<matplotlib.axes._subplots.AxesSubplot at 0x7f5a3cc4be50>"
      ]
     },
     "execution_count": 24,
     "metadata": {},
     "output_type": "execute_result"
    },
    {
     "data": {
      "image/png": "[encoded data removed]",
      "text/plain": [
       "<Figure size 432x288 with 1 Axes>"
      ]
     },
     "metadata": {
      "needs_background": "light"
     },
     "output_type": "display_data"
    }
   ],
   "source": [
    "sns.distplot(exp_physprop_logp_data[LOGP_COLUMN])\n"
   ]
  },
  {
   "cell_type": "code",
   "execution_count": 27,
   "metadata": {},
   "outputs": [],
   "source": [
    "PROCESSED_PATH = \"../data/1_filtering/physprop.csv\"\n",
    "\n",
    "exp_physprop_logp_data.to_csv(PROCESSED_PATH)"
   ]
  },
  {
   "cell_type": "code",
   "execution_count": 28,
   "metadata": {},
   "outputs": [
    {
     "data": {
      "text/html": [
       "<div>\n",
       "<style scoped>\n",
       "    .dataframe tbody tr th:only-of-type {\n",
       "        vertical-align: middle;\n",
       "    }\n",
       "\n",
       "    .dataframe tbody tr th {\n",
       "        vertical-align: top;\n",
       "    }\n",
       "\n",
       "    .dataframe thead th {\n",
       "        text-align: right;\n",
       "    }\n",
       "</style>\n",
       "<table border=\"1\" class=\"dataframe\">\n",
       "  <thead>\n",
       "    <tr style=\"text-align: right;\">\n",
       "      <th></th>\n",
       "      <th>LogP</th>\n",
       "      <th>LogP_temp</th>\n",
       "      <th>SMILES</th>\n",
       "    </tr>\n",
       "  </thead>\n",
       "  <tbody>\n",
       "    <tr>\n",
       "      <th>0</th>\n",
       "      <td>0.35</td>\n",
       "      <td>25.0</td>\n",
       "      <td>O=C</td>\n",
       "    </tr>\n",
       "    <tr>\n",
       "      <th>2</th>\n",
       "      <td>1.83</td>\n",
       "      <td>25.0</td>\n",
       "      <td>C1(=O)C=C2CCC3C4CC(C)C(O)(C(=O)CO)C4(C)CC(O)C3...</td>\n",
       "    </tr>\n",
       "    <tr>\n",
       "      <th>3</th>\n",
       "      <td>2.19</td>\n",
       "      <td>NaN</td>\n",
       "      <td>C1C(=O)C=C2CCC3C4CCC(O)(C(=O)COC(=O)C)C4(C)CC(...</td>\n",
       "    </tr>\n",
       "    <tr>\n",
       "      <th>4</th>\n",
       "      <td>2.10</td>\n",
       "      <td>25.0</td>\n",
       "      <td>CC(=O)OCC(=O)C3(O)CCC4C2CCC1=CC(=O)CCC1(C)C2C(...</td>\n",
       "    </tr>\n",
       "    <tr>\n",
       "      <th>5</th>\n",
       "      <td>1.47</td>\n",
       "      <td>NaN</td>\n",
       "      <td>CCC1(C(=O)NC(=O)NC1=O)c2ccccc2</td>\n",
       "    </tr>\n",
       "    <tr>\n",
       "      <th>...</th>\n",
       "      <td>...</td>\n",
       "      <td>...</td>\n",
       "      <td>...</td>\n",
       "    </tr>\n",
       "    <tr>\n",
       "      <th>40996</th>\n",
       "      <td>5.77</td>\n",
       "      <td>NaN</td>\n",
       "      <td>ClC1(Cl)C2(C(Cl)Cl)C(Cl)C(Cl)C(C2(C(Cl)Cl)CCl)C1</td>\n",
       "    </tr>\n",
       "    <tr>\n",
       "      <th>40997</th>\n",
       "      <td>5.93</td>\n",
       "      <td>NaN</td>\n",
       "      <td>ClC1C2(C(Cl)Cl)C(Cl)C(Cl)C(C2(C(Cl)Cl)CCl)C1Cl</td>\n",
       "    </tr>\n",
       "    <tr>\n",
       "      <th>40998</th>\n",
       "      <td>6.64</td>\n",
       "      <td>NaN</td>\n",
       "      <td>ClC1(Cl)C2(C(Cl)Cl)C(Cl)C(Cl)(Cl)C(C2(C(Cl)Cl)...</td>\n",
       "    </tr>\n",
       "    <tr>\n",
       "      <th>40999</th>\n",
       "      <td>2.42</td>\n",
       "      <td>NaN</td>\n",
       "      <td>C1=C(C)C(=O)C2C(C)(C)C2C1</td>\n",
       "    </tr>\n",
       "    <tr>\n",
       "      <th>41000</th>\n",
       "      <td>3.20</td>\n",
       "      <td>NaN</td>\n",
       "      <td>C1CC(C(C)=C)CC(O2)C12C</td>\n",
       "    </tr>\n",
       "  </tbody>\n",
       "</table>\n",
       "<p>13530 rows × 3 columns</p>\n",
       "</div>"
      ],
      "text/plain": [
       "       LogP  LogP_temp                                             SMILES\n",
       "0      0.35       25.0                                                O=C\n",
       "2      1.83       25.0  C1(=O)C=C2CCC3C4CC(C)C(O)(C(=O)CO)C4(C)CC(O)C3...\n",
       "3      2.19        NaN  C1C(=O)C=C2CCC3C4CCC(O)(C(=O)COC(=O)C)C4(C)CC(...\n",
       "4      2.10       25.0  CC(=O)OCC(=O)C3(O)CCC4C2CCC1=CC(=O)CCC1(C)C2C(...\n",
       "5      1.47        NaN                     CCC1(C(=O)NC(=O)NC1=O)c2ccccc2\n",
       "...     ...        ...                                                ...\n",
       "40996  5.77        NaN   ClC1(Cl)C2(C(Cl)Cl)C(Cl)C(Cl)C(C2(C(Cl)Cl)CCl)C1\n",
       "40997  5.93        NaN     ClC1C2(C(Cl)Cl)C(Cl)C(Cl)C(C2(C(Cl)Cl)CCl)C1Cl\n",
       "40998  6.64        NaN  ClC1(Cl)C2(C(Cl)Cl)C(Cl)C(Cl)(Cl)C(C2(C(Cl)Cl)...\n",
       "40999  2.42        NaN                          C1=C(C)C(=O)C2C(C)(C)C2C1\n",
       "41000  3.20        NaN                             C1CC(C(C)=C)CC(O2)C12C\n",
       "\n",
       "[13530 rows x 3 columns]"
      ]
     },
     "execution_count": 28,
     "metadata": {},
     "output_type": "execute_result"
    }
   ],
   "source": [
    "pd.read_csv(PROCESSED_PATH, index_col=0)"
   ]
  },
  {
   "cell_type": "code",
   "execution_count": null,
   "metadata": {},
   "outputs": [],
   "source": []
  }
 ],
 "metadata": {
  "kernelspec": {
   "display_name": "Python 3",
   "language": "python",
   "name": "python3"
  },
  "language_info": {
   "codemirror_mode": {
    "name": "ipython",
    "version": 3
   },
   "file_extension": ".py",
   "mimetype": "text/x-python",
   "name": "python",
   "nbconvert_exporter": "python",
   "pygments_lexer": "ipython3",
   "version": "3.8.3"
  }
 },
 "nbformat": 4,
 "nbformat_minor": 1
}
