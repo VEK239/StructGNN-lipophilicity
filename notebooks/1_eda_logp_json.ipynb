{
 "cells": [
  {
   "cell_type": "markdown",
   "metadata": {},
   "source": [
    "# EDA of logp.json\n",
    "\n",
    "## Summary\n",
    "\n",
    "1. There are 33% NA values for Temperature and PH. There are 2 rows with NA values.\n",
    "2. There are some strange values (they were removed from dataset):\n",
    "    * Extremely high temperatures, like 250000 Celsius\n",
    "    * Extremely high logP value: 611\n",
    "3. There are a lot of completely duplicated rows: 3382. (They were removed)\n",
    "4. Only 1493 rows without 'strange' values are completely filled and different.\n",
    "5. From 1493 rows only 366 molecules are unique. For other molecules we have different conditions.\n",
    "6. The same logP values could be obtained with different temperature and ph value. Conditions have not big std for the same logP value.\n"
   ]
  },
  {
   "cell_type": "code",
   "execution_count": 1,
   "metadata": {
    "collapsed": true
   },
   "outputs": [],
   "source": [
    "import pandas as pd\n",
    "import json\n",
    "import matplotlib.pyplot as plt\n",
    "import seaborn as sns\n",
    "\n",
    "LOG_P_FILE_PATH = \"../data/raw/logp.json\""
   ]
  },
  {
   "cell_type": "code",
   "execution_count": 2,
   "metadata": {
    "pycharm": {
     "name": "#%%\n"
    }
   },
   "outputs": [],
   "source": [
    "# Read logP data\n",
    "\n",
    "def read_logp_file():\n",
    "    with open(LOG_P_FILE_PATH, \"r\") as logp_file:\n",
    "        return [json.loads(line) for line in logp_file]\n",
    "\n",
    "logp_data = pd.DataFrame(read_logp_file())\n",
    "n = logp_data.shape[0]"
   ]
  },
  {
   "cell_type": "code",
   "execution_count": 3,
   "metadata": {
    "pycharm": {
     "name": "#%%\n"
    }
   },
   "outputs": [
    {
     "data": {
      "text/html": [
       "<div>\n",
       "<style scoped>\n",
       "    .dataframe tbody tr th:only-of-type {\n",
       "        vertical-align: middle;\n",
       "    }\n",
       "\n",
       "    .dataframe tbody tr th {\n",
       "        vertical-align: top;\n",
       "    }\n",
       "\n",
       "    .dataframe thead th {\n",
       "        text-align: right;\n",
       "    }\n",
       "</style>\n",
       "<table border=\"1\" class=\"dataframe\">\n",
       "  <thead>\n",
       "    <tr style=\"text-align: right;\">\n",
       "      <th></th>\n",
       "      <th>value</th>\n",
       "      <th>smiles</th>\n",
       "      <th>Temperature (C)</th>\n",
       "      <th>pH</th>\n",
       "    </tr>\n",
       "  </thead>\n",
       "  <tbody>\n",
       "    <tr>\n",
       "      <th>0</th>\n",
       "      <td>3.42</td>\n",
       "      <td>[Br][C]([Br])([Br])[Br]</td>\n",
       "      <td>30</td>\n",
       "      <td>NaN</td>\n",
       "    </tr>\n",
       "    <tr>\n",
       "      <th>1</th>\n",
       "      <td>2.53</td>\n",
       "      <td>[F][C]([Cl])([Cl])[Cl]</td>\n",
       "      <td>NaN</td>\n",
       "      <td>NaN</td>\n",
       "    </tr>\n",
       "    <tr>\n",
       "      <th>2</th>\n",
       "      <td>2.53</td>\n",
       "      <td>[F][C]([Cl])([Cl])[Cl]</td>\n",
       "      <td>NaN</td>\n",
       "      <td>NaN</td>\n",
       "    </tr>\n",
       "    <tr>\n",
       "      <th>3</th>\n",
       "      <td>2.53</td>\n",
       "      <td>[F][C]([Cl])([Cl])[Cl]</td>\n",
       "      <td>20</td>\n",
       "      <td>NaN</td>\n",
       "    </tr>\n",
       "    <tr>\n",
       "      <th>4</th>\n",
       "      <td>2.09</td>\n",
       "      <td>[O]=[N+]([O-])[C]([Cl])([Cl])[Cl]</td>\n",
       "      <td>25</td>\n",
       "      <td>NaN</td>\n",
       "    </tr>\n",
       "  </tbody>\n",
       "</table>\n",
       "</div>"
      ],
      "text/plain": [
       "   value                             smiles Temperature (C)   pH\n",
       "0   3.42            [Br][C]([Br])([Br])[Br]              30  NaN\n",
       "1   2.53             [F][C]([Cl])([Cl])[Cl]             NaN  NaN\n",
       "2   2.53             [F][C]([Cl])([Cl])[Cl]             NaN  NaN\n",
       "3   2.53             [F][C]([Cl])([Cl])[Cl]              20  NaN\n",
       "4   2.09  [O]=[N+]([O-])[C]([Cl])([Cl])[Cl]              25  NaN"
      ]
     },
     "execution_count": 3,
     "metadata": {},
     "output_type": "execute_result"
    }
   ],
   "source": [
    "logp_data.head()"
   ]
  },
  {
   "cell_type": "code",
   "execution_count": 4,
   "metadata": {
    "pycharm": {
     "name": "#%%\n"
    }
   },
   "outputs": [],
   "source": [
    "VALUE_COLUMN = \"value\"\n",
    "TEMPERATURE_COLUMN = \"Temperature (C)\"\n",
    "PH_COLUMN = \"pH\"\n",
    "SMILES_COLUMN = \"smiles\""
   ]
  },
  {
   "cell_type": "code",
   "execution_count": 5,
   "metadata": {
    "pycharm": {
     "name": "#%%\n"
    }
   },
   "outputs": [
    {
     "data": {
      "text/html": [
       "<div>\n",
       "<style scoped>\n",
       "    .dataframe tbody tr th:only-of-type {\n",
       "        vertical-align: middle;\n",
       "    }\n",
       "\n",
       "    .dataframe tbody tr th {\n",
       "        vertical-align: top;\n",
       "    }\n",
       "\n",
       "    .dataframe thead th {\n",
       "        text-align: right;\n",
       "    }\n",
       "</style>\n",
       "<table border=\"1\" class=\"dataframe\">\n",
       "  <thead>\n",
       "    <tr style=\"text-align: right;\">\n",
       "      <th></th>\n",
       "      <th>value</th>\n",
       "      <th>smiles</th>\n",
       "      <th>Temperature (C)</th>\n",
       "      <th>pH</th>\n",
       "    </tr>\n",
       "  </thead>\n",
       "  <tbody>\n",
       "    <tr>\n",
       "      <th>0</th>\n",
       "      <td>3.42</td>\n",
       "      <td>[Br][C]([Br])([Br])[Br]</td>\n",
       "      <td>30.0</td>\n",
       "      <td>NaN</td>\n",
       "    </tr>\n",
       "    <tr>\n",
       "      <th>1</th>\n",
       "      <td>2.53</td>\n",
       "      <td>[F][C]([Cl])([Cl])[Cl]</td>\n",
       "      <td>NaN</td>\n",
       "      <td>NaN</td>\n",
       "    </tr>\n",
       "    <tr>\n",
       "      <th>2</th>\n",
       "      <td>2.53</td>\n",
       "      <td>[F][C]([Cl])([Cl])[Cl]</td>\n",
       "      <td>NaN</td>\n",
       "      <td>NaN</td>\n",
       "    </tr>\n",
       "    <tr>\n",
       "      <th>3</th>\n",
       "      <td>2.53</td>\n",
       "      <td>[F][C]([Cl])([Cl])[Cl]</td>\n",
       "      <td>20.0</td>\n",
       "      <td>NaN</td>\n",
       "    </tr>\n",
       "    <tr>\n",
       "      <th>4</th>\n",
       "      <td>2.09</td>\n",
       "      <td>[O]=[N+]([O-])[C]([Cl])([Cl])[Cl]</td>\n",
       "      <td>25.0</td>\n",
       "      <td>NaN</td>\n",
       "    </tr>\n",
       "  </tbody>\n",
       "</table>\n",
       "</div>"
      ],
      "text/plain": [
       "   value                             smiles  Temperature (C)  pH\n",
       "0   3.42            [Br][C]([Br])([Br])[Br]             30.0 NaN\n",
       "1   2.53             [F][C]([Cl])([Cl])[Cl]              NaN NaN\n",
       "2   2.53             [F][C]([Cl])([Cl])[Cl]              NaN NaN\n",
       "3   2.53             [F][C]([Cl])([Cl])[Cl]             20.0 NaN\n",
       "4   2.09  [O]=[N+]([O-])[C]([Cl])([Cl])[Cl]             25.0 NaN"
      ]
     },
     "execution_count": 5,
     "metadata": {},
     "output_type": "execute_result"
    }
   ],
   "source": [
    "logp_data[VALUE_COLUMN] = pd.to_numeric(logp_data[VALUE_COLUMN])\n",
    "logp_data[TEMPERATURE_COLUMN] = pd.to_numeric(logp_data[TEMPERATURE_COLUMN])\n",
    "logp_data[PH_COLUMN] = pd.to_numeric(logp_data[PH_COLUMN])\n",
    "logp_data.head()"
   ]
  },
  {
   "cell_type": "code",
   "execution_count": 6,
   "metadata": {
    "pycharm": {
     "name": "#%%\n"
    }
   },
   "outputs": [
    {
     "name": "stdout",
     "output_type": "stream",
     "text": [
      "# of NA values logP = 2, 0%\n"
     ]
    },
    {
     "data": {
      "text/html": [
       "<div>\n",
       "<style scoped>\n",
       "    .dataframe tbody tr th:only-of-type {\n",
       "        vertical-align: middle;\n",
       "    }\n",
       "\n",
       "    .dataframe tbody tr th {\n",
       "        vertical-align: top;\n",
       "    }\n",
       "\n",
       "    .dataframe thead th {\n",
       "        text-align: right;\n",
       "    }\n",
       "</style>\n",
       "<table border=\"1\" class=\"dataframe\">\n",
       "  <thead>\n",
       "    <tr style=\"text-align: right;\">\n",
       "      <th></th>\n",
       "      <th>value</th>\n",
       "      <th>smiles</th>\n",
       "      <th>Temperature (C)</th>\n",
       "      <th>pH</th>\n",
       "    </tr>\n",
       "  </thead>\n",
       "  <tbody>\n",
       "    <tr>\n",
       "      <th>3218</th>\n",
       "      <td>NaN</td>\n",
       "      <td>[H][c]1[c]([H])[c]([S](=[O])(=[O])[N]([H])[H])...</td>\n",
       "      <td>37.0</td>\n",
       "      <td>NaN</td>\n",
       "    </tr>\n",
       "    <tr>\n",
       "      <th>4939</th>\n",
       "      <td>NaN</td>\n",
       "      <td>[H][c]1[n][c]([N]([H])[S](=[O])(=[O])[c]2[c]([...</td>\n",
       "      <td>37.0</td>\n",
       "      <td>NaN</td>\n",
       "    </tr>\n",
       "  </tbody>\n",
       "</table>\n",
       "</div>"
      ],
      "text/plain": [
       "      value                                             smiles  \\\n",
       "3218    NaN  [H][c]1[c]([H])[c]([S](=[O])(=[O])[N]([H])[H])...   \n",
       "4939    NaN  [H][c]1[n][c]([N]([H])[S](=[O])(=[O])[c]2[c]([...   \n",
       "\n",
       "      Temperature (C)  pH  \n",
       "3218             37.0 NaN  \n",
       "4939             37.0 NaN  "
      ]
     },
     "execution_count": 6,
     "metadata": {},
     "output_type": "execute_result"
    }
   ],
   "source": [
    "# check NA values\n",
    "num_of_na_value = logp_data[VALUE_COLUMN].isna().sum()\n",
    "frac_of_na_value = int(100.0*(num_of_na_value / n))\n",
    "print(\"# of NA values logP = \" + str(num_of_na_value) + \", \" + str(frac_of_na_value) + \"%\")\n",
    "logp_data[logp_data[VALUE_COLUMN].isna()]"
   ]
  },
  {
   "cell_type": "code",
   "execution_count": 7,
   "metadata": {
    "pycharm": {
     "name": "#%%\n"
    }
   },
   "outputs": [
    {
     "name": "stdout",
     "output_type": "stream",
     "text": [
      "# of NA values temperature = 3250, 33%\n"
     ]
    },
    {
     "data": {
      "text/plain": [
       "count      6336.000000\n",
       "mean         69.203180\n",
       "std        3194.612013\n",
       "min         -19.000000\n",
       "25%          24.000000\n",
       "50%          25.000000\n",
       "75%          25.000000\n",
       "max      253490.000000\n",
       "Name: Temperature (C), dtype: float64"
      ]
     },
     "execution_count": 7,
     "metadata": {},
     "output_type": "execute_result"
    }
   ],
   "source": [
    "# check NA temperature\n",
    "num_of_na_temperature = logp_data[TEMPERATURE_COLUMN].isna().sum()\n",
    "frac_of_na_temperature = int(100.0*(num_of_na_temperature / n))\n",
    "print(\"# of NA values temperature = \" + str(num_of_na_temperature) + \", \" + str(frac_of_na_temperature) + \"%\")\n",
    "temperature_df = logp_data[logp_data[TEMPERATURE_COLUMN].notna()][TEMPERATURE_COLUMN]\n",
    "temperature_df.describe()"
   ]
  },
  {
   "cell_type": "code",
   "execution_count": 8,
   "metadata": {
    "pycharm": {
     "name": "#%%\n"
    }
   },
   "outputs": [
    {
     "data": {
      "text/plain": [
       "<matplotlib.axes._subplots.AxesSubplot at 0x7f65d837fc10>"
      ]
     },
     "execution_count": 8,
     "metadata": {},
     "output_type": "execute_result"
    },
    {
     "data": {
      "image/png": "[encoded data removed]",
      "text/plain": [
       "<Figure size 432x288 with 1 Axes>"
      ]
     },
     "metadata": {
      "needs_background": "light"
     },
     "output_type": "display_data"
    }
   ],
   "source": [
    "sns.distplot(temperature_df)"
   ]
  },
  {
   "cell_type": "code",
   "execution_count": 9,
   "metadata": {
    "pycharm": {
     "name": "#%%\n"
    }
   },
   "outputs": [
    {
     "data": {
      "text/plain": [
       "Temperature (C)\n",
       "(0, 10000]          6333\n",
       "(10000, 100000]        1\n",
       "(100000, 150000]       0\n",
       "(150000, 200000]       0\n",
       "(200000, 250000]       0\n",
       "(250000, 300000]       1\n",
       "Name: Temperature (C), dtype: int64"
      ]
     },
     "execution_count": 9,
     "metadata": {},
     "output_type": "execute_result"
    }
   ],
   "source": [
    "ranges = [0, 10000, 100000, 150000, 200000, 250000, 300000]\n",
    "temperature_df.groupby(pd.cut(temperature_df, ranges)).count()"
   ]
  },
  {
   "cell_type": "code",
   "execution_count": 10,
   "metadata": {
    "pycharm": {
     "name": "#%%\n"
    }
   },
   "outputs": [
    {
     "name": "stdout",
     "output_type": "stream",
     "text": [
      "1320    253490.0\n",
      "Name: Temperature (C), dtype: float64\n",
      "1856    20500.0\n",
      "Name: Temperature (C), dtype: float64\n"
     ]
    }
   ],
   "source": [
    "print(temperature_df[temperature_df.isin(range(250000, 300000))])\n",
    "print(temperature_df[temperature_df.isin(range(10000, 100000))])"
   ]
  },
  {
   "cell_type": "code",
   "execution_count": 11,
   "metadata": {
    "pycharm": {
     "name": "#%%\n"
    }
   },
   "outputs": [
    {
     "name": "stdout",
     "output_type": "stream",
     "text": [
      "count    6334.000000\n",
      "mean       25.968006\n",
      "std        11.066702\n",
      "min       -19.000000\n",
      "25%        24.000000\n",
      "50%        25.000000\n",
      "75%        25.000000\n",
      "max       633.000000\n",
      "Name: Temperature (C), dtype: float64\n"
     ]
    },
    {
     "data": {
      "text/plain": [
       "<matplotlib.axes._subplots.AxesSubplot at 0x7f65d8354610>"
      ]
     },
     "execution_count": 11,
     "metadata": {},
     "output_type": "execute_result"
    },
    {
     "data": {
      "image/png": "[encoded data removed]",
      "text/plain": [
       "<Figure size 432x288 with 1 Axes>"
      ]
     },
     "metadata": {
      "needs_background": "light"
     },
     "output_type": "display_data"
    }
   ],
   "source": [
    "clipped_temperature_df = temperature_df.drop(index=1856).drop(index=1320)\n",
    "print(clipped_temperature_df.describe())\n",
    "sns.distplot(clipped_temperature_df)"
   ]
  },
  {
   "cell_type": "code",
   "execution_count": 12,
   "metadata": {
    "pycharm": {
     "name": "#%%\n"
    }
   },
   "outputs": [
    {
     "data": {
      "text/plain": [
       "Temperature (C)\n",
       "(0, 100]      6329\n",
       "(100, 200]       1\n",
       "(200, 300]       1\n",
       "(300, 400]       0\n",
       "(400, 500]       1\n",
       "(500, 600]       0\n",
       "Name: Temperature (C), dtype: int64"
      ]
     },
     "execution_count": 12,
     "metadata": {},
     "output_type": "execute_result"
    }
   ],
   "source": [
    "ranges = [0, 100, 200, 300, 400, 500, 600]\n",
    "clipped_temperature_df.groupby(pd.cut(clipped_temperature_df, ranges)).count()"
   ]
  },
  {
   "cell_type": "code",
   "execution_count": 13,
   "metadata": {
    "pycharm": {
     "name": "#%%\n"
    }
   },
   "outputs": [],
   "source": [
    "# drop NA values\n",
    "logp_data = logp_data[logp_data[VALUE_COLUMN].notna()]"
   ]
  },
  {
   "cell_type": "code",
   "execution_count": 14,
   "metadata": {
    "pycharm": {
     "name": "#%%\n"
    }
   },
   "outputs": [
    {
     "data": {
      "text/html": [
       "<div>\n",
       "<style scoped>\n",
       "    .dataframe tbody tr th:only-of-type {\n",
       "        vertical-align: middle;\n",
       "    }\n",
       "\n",
       "    .dataframe tbody tr th {\n",
       "        vertical-align: top;\n",
       "    }\n",
       "\n",
       "    .dataframe thead th {\n",
       "        text-align: right;\n",
       "    }\n",
       "</style>\n",
       "<table border=\"1\" class=\"dataframe\">\n",
       "  <thead>\n",
       "    <tr style=\"text-align: right;\">\n",
       "      <th></th>\n",
       "      <th>value</th>\n",
       "      <th>Temperature (C)</th>\n",
       "      <th>pH</th>\n",
       "    </tr>\n",
       "  </thead>\n",
       "  <tbody>\n",
       "    <tr>\n",
       "      <th>count</th>\n",
       "      <td>9584.000000</td>\n",
       "      <td>6334.000000</td>\n",
       "      <td>1967.000000</td>\n",
       "    </tr>\n",
       "    <tr>\n",
       "      <th>mean</th>\n",
       "      <td>2.677759</td>\n",
       "      <td>69.213349</td>\n",
       "      <td>5.877314</td>\n",
       "    </tr>\n",
       "    <tr>\n",
       "      <th>std</th>\n",
       "      <td>6.556673</td>\n",
       "      <td>3195.116361</td>\n",
       "      <td>2.313127</td>\n",
       "    </tr>\n",
       "    <tr>\n",
       "      <th>min</th>\n",
       "      <td>-4.200000</td>\n",
       "      <td>-19.000000</td>\n",
       "      <td>0.100000</td>\n",
       "    </tr>\n",
       "    <tr>\n",
       "      <th>25%</th>\n",
       "      <td>1.200000</td>\n",
       "      <td>24.000000</td>\n",
       "      <td>4.285000</td>\n",
       "    </tr>\n",
       "    <tr>\n",
       "      <th>50%</th>\n",
       "      <td>2.470000</td>\n",
       "      <td>25.000000</td>\n",
       "      <td>6.200000</td>\n",
       "    </tr>\n",
       "    <tr>\n",
       "      <th>75%</th>\n",
       "      <td>3.990000</td>\n",
       "      <td>25.000000</td>\n",
       "      <td>7.400000</td>\n",
       "    </tr>\n",
       "    <tr>\n",
       "      <th>max</th>\n",
       "      <td>611.000000</td>\n",
       "      <td>253490.000000</td>\n",
       "      <td>20.000000</td>\n",
       "    </tr>\n",
       "  </tbody>\n",
       "</table>\n",
       "</div>"
      ],
      "text/plain": [
       "             value  Temperature (C)           pH\n",
       "count  9584.000000      6334.000000  1967.000000\n",
       "mean      2.677759        69.213349     5.877314\n",
       "std       6.556673      3195.116361     2.313127\n",
       "min      -4.200000       -19.000000     0.100000\n",
       "25%       1.200000        24.000000     4.285000\n",
       "50%       2.470000        25.000000     6.200000\n",
       "75%       3.990000        25.000000     7.400000\n",
       "max     611.000000    253490.000000    20.000000"
      ]
     },
     "execution_count": 14,
     "metadata": {},
     "output_type": "execute_result"
    }
   ],
   "source": [
    "logp_data.describe()"
   ]
  },
  {
   "cell_type": "code",
   "execution_count": 15,
   "metadata": {
    "pycharm": {
     "name": "#%%\n"
    }
   },
   "outputs": [
    {
     "name": "stderr",
     "output_type": "stream",
     "text": [
      "warning: PYDEVD_USE_CYTHON environment variable is set to 'NO'. Frame evaluator will be also disabled because it requires Cython extensions to be enabled in order to operate correctly.\n"
     ]
    },
    {
     "data": {
      "text/plain": [
       "<matplotlib.axes._subplots.AxesSubplot at 0x7f65d8363890>"
      ]
     },
     "execution_count": 15,
     "metadata": {},
     "output_type": "execute_result"
    },
    {
     "data": {
      "image/png": "[encoded data removed]",
      "text/plain": [
       "<Figure size 432x288 with 1 Axes>"
      ]
     },
     "metadata": {
      "needs_background": "light"
     },
     "output_type": "display_data"
    }
   ],
   "source": [
    "sns.distplot(logp_data[VALUE_COLUMN])"
   ]
  },
  {
   "cell_type": "code",
   "execution_count": 16,
   "metadata": {
    "pycharm": {
     "name": "#%%\n"
    }
   },
   "outputs": [
    {
     "data": {
      "text/plain": [
       "value\n",
       "(0, 50]       8748\n",
       "(50, 100]        0\n",
       "(100, 200]       0\n",
       "(200, 300]       0\n",
       "(300, 400]       0\n",
       "(400, 500]       0\n",
       "(500, 600]       0\n",
       "(600, 700]       1\n",
       "Name: value, dtype: int64"
      ]
     },
     "execution_count": 16,
     "metadata": {},
     "output_type": "execute_result"
    }
   ],
   "source": [
    "ranges = [0, 50, 100, 200, 300, 400, 500, 600, 700]\n",
    "logp_data[VALUE_COLUMN].groupby(pd.cut(logp_data.value, ranges)).count()"
   ]
  },
  {
   "cell_type": "code",
   "execution_count": 17,
   "metadata": {
    "pycharm": {
     "name": "#%%\n"
    }
   },
   "outputs": [
    {
     "data": {
      "text/html": [
       "<div>\n",
       "<style scoped>\n",
       "    .dataframe tbody tr th:only-of-type {\n",
       "        vertical-align: middle;\n",
       "    }\n",
       "\n",
       "    .dataframe tbody tr th {\n",
       "        vertical-align: top;\n",
       "    }\n",
       "\n",
       "    .dataframe thead th {\n",
       "        text-align: right;\n",
       "    }\n",
       "</style>\n",
       "<table border=\"1\" class=\"dataframe\">\n",
       "  <thead>\n",
       "    <tr style=\"text-align: right;\">\n",
       "      <th></th>\n",
       "      <th>value</th>\n",
       "      <th>smiles</th>\n",
       "      <th>Temperature (C)</th>\n",
       "      <th>pH</th>\n",
       "    </tr>\n",
       "  </thead>\n",
       "  <tbody>\n",
       "    <tr>\n",
       "      <th>8875</th>\n",
       "      <td>611.0</td>\n",
       "      <td>[H][c]1[c]([H])[c]([H])[c]2[c]([H])[c]3[c]([c]...</td>\n",
       "      <td>25.0</td>\n",
       "      <td>NaN</td>\n",
       "    </tr>\n",
       "  </tbody>\n",
       "</table>\n",
       "</div>"
      ],
      "text/plain": [
       "      value                                             smiles  \\\n",
       "8875  611.0  [H][c]1[c]([H])[c]([H])[c]2[c]([H])[c]3[c]([c]...   \n",
       "\n",
       "      Temperature (C)  pH  \n",
       "8875             25.0 NaN  "
      ]
     },
     "execution_count": 17,
     "metadata": {},
     "output_type": "execute_result"
    }
   ],
   "source": [
    "# What is this awkward molecule?\n",
    "outlier = logp_data[logp_data[VALUE_COLUMN].isin(range(600, 700))]\n",
    "outlier"
   ]
  },
  {
   "cell_type": "code",
   "execution_count": 18,
   "metadata": {
    "pycharm": {
     "name": "#%%\n"
    }
   },
   "outputs": [],
   "source": [
    "clipped_logp_data = logp_data.drop(index=8875)\n",
    "# remove strange temperatures\n",
    "clipped_logp_data = clipped_logp_data.drop(index=1856).drop(index=1320)"
   ]
  },
  {
   "cell_type": "code",
   "execution_count": 19,
   "metadata": {
    "pycharm": {
     "name": "#%%\n"
    }
   },
   "outputs": [
    {
     "data": {
      "text/plain": [
       "<matplotlib.axes._subplots.AxesSubplot at 0x7f65d8236ad0>"
      ]
     },
     "execution_count": 19,
     "metadata": {},
     "output_type": "execute_result"
    },
    {
     "data": {
      "image/png": "[encoded data removed]",
      "text/plain": [
       "<Figure size 432x288 with 1 Axes>"
      ]
     },
     "metadata": {
      "needs_background": "light"
     },
     "output_type": "display_data"
    }
   ],
   "source": [
    "sns.distplot(clipped_logp_data[VALUE_COLUMN])"
   ]
  },
  {
   "cell_type": "code",
   "execution_count": 20,
   "metadata": {
    "pycharm": {
     "name": "#%%\n"
    }
   },
   "outputs": [
    {
     "data": {
      "text/html": [
       "<div>\n",
       "<style scoped>\n",
       "    .dataframe tbody tr th:only-of-type {\n",
       "        vertical-align: middle;\n",
       "    }\n",
       "\n",
       "    .dataframe tbody tr th {\n",
       "        vertical-align: top;\n",
       "    }\n",
       "\n",
       "    .dataframe thead th {\n",
       "        text-align: right;\n",
       "    }\n",
       "</style>\n",
       "<table border=\"1\" class=\"dataframe\">\n",
       "  <thead>\n",
       "    <tr style=\"text-align: right;\">\n",
       "      <th></th>\n",
       "      <th>value</th>\n",
       "      <th>Temperature (C)</th>\n",
       "      <th>pH</th>\n",
       "    </tr>\n",
       "  </thead>\n",
       "  <tbody>\n",
       "    <tr>\n",
       "      <th>count</th>\n",
       "      <td>9581.000000</td>\n",
       "      <td>6331.000000</td>\n",
       "      <td>1967.000000</td>\n",
       "    </tr>\n",
       "    <tr>\n",
       "      <th>mean</th>\n",
       "      <td>2.614395</td>\n",
       "      <td>25.964674</td>\n",
       "      <td>5.877314</td>\n",
       "    </tr>\n",
       "    <tr>\n",
       "      <th>std</th>\n",
       "      <td>2.090777</td>\n",
       "      <td>11.067580</td>\n",
       "      <td>2.313127</td>\n",
       "    </tr>\n",
       "    <tr>\n",
       "      <th>min</th>\n",
       "      <td>-4.200000</td>\n",
       "      <td>-19.000000</td>\n",
       "      <td>0.100000</td>\n",
       "    </tr>\n",
       "    <tr>\n",
       "      <th>25%</th>\n",
       "      <td>1.200000</td>\n",
       "      <td>24.000000</td>\n",
       "      <td>4.285000</td>\n",
       "    </tr>\n",
       "    <tr>\n",
       "      <th>50%</th>\n",
       "      <td>2.470000</td>\n",
       "      <td>25.000000</td>\n",
       "      <td>6.200000</td>\n",
       "    </tr>\n",
       "    <tr>\n",
       "      <th>75%</th>\n",
       "      <td>3.990000</td>\n",
       "      <td>25.000000</td>\n",
       "      <td>7.400000</td>\n",
       "    </tr>\n",
       "    <tr>\n",
       "      <th>max</th>\n",
       "      <td>15.600000</td>\n",
       "      <td>633.000000</td>\n",
       "      <td>20.000000</td>\n",
       "    </tr>\n",
       "  </tbody>\n",
       "</table>\n",
       "</div>"
      ],
      "text/plain": [
       "             value  Temperature (C)           pH\n",
       "count  9581.000000      6331.000000  1967.000000\n",
       "mean      2.614395        25.964674     5.877314\n",
       "std       2.090777        11.067580     2.313127\n",
       "min      -4.200000       -19.000000     0.100000\n",
       "25%       1.200000        24.000000     4.285000\n",
       "50%       2.470000        25.000000     6.200000\n",
       "75%       3.990000        25.000000     7.400000\n",
       "max      15.600000       633.000000    20.000000"
      ]
     },
     "execution_count": 20,
     "metadata": {},
     "output_type": "execute_result"
    }
   ],
   "source": [
    "clipped_logp_data.describe()"
   ]
  },
  {
   "cell_type": "code",
   "execution_count": 21,
   "metadata": {
    "pycharm": {
     "name": "#%%\n"
    }
   },
   "outputs": [
    {
     "data": {
      "image/png": "[encoded data removed]",
      "text/plain": [
       "<Figure size 432x288 with 1 Axes>"
      ]
     },
     "metadata": {
      "needs_background": "light"
     },
     "output_type": "display_data"
    }
   ],
   "source": [
    "# Plot value vs temperature\n",
    "temp_df = clipped_logp_data[clipped_logp_data[TEMPERATURE_COLUMN].notna()]\n",
    "fig, ax = plt.subplots()\n",
    "ax.scatter(temp_df[TEMPERATURE_COLUMN], temp_df[VALUE_COLUMN])\n",
    "ax.set_xlabel(\"Temperature\")\n",
    "ax.set_ylabel(\"LogP\")\n",
    "plt.show()"
   ]
  },
  {
   "cell_type": "code",
   "execution_count": 22,
   "metadata": {
    "pycharm": {
     "name": "#%%\n"
    }
   },
   "outputs": [
    {
     "data": {
      "image/png": "[encoded data removed]",
      "text/plain": [
       "<Figure size 432x288 with 1 Axes>"
      ]
     },
     "metadata": {
      "needs_background": "light"
     },
     "output_type": "display_data"
    }
   ],
   "source": [
    "temp_df = temp_df[temp_df[TEMPERATURE_COLUMN].isin(range(0, 100))]\n",
    "fig, ax = plt.subplots()\n",
    "ax.scatter(temp_df[TEMPERATURE_COLUMN], temp_df[VALUE_COLUMN])\n",
    "ax.set_xlabel(\"Temperature\")\n",
    "ax.set_ylabel(\"LogP\")\n",
    "plt.show()"
   ]
  },
  {
   "cell_type": "code",
   "execution_count": 23,
   "metadata": {
    "pycharm": {
     "name": "#%%\n"
    }
   },
   "outputs": [
    {
     "name": "stdout",
     "output_type": "stream",
     "text": [
      "# of NA values pH = 3250, 33%\n"
     ]
    },
    {
     "data": {
      "text/plain": [
       "count    1967.000000\n",
       "mean        5.877314\n",
       "std         2.313127\n",
       "min         0.100000\n",
       "25%         4.285000\n",
       "50%         6.200000\n",
       "75%         7.400000\n",
       "max        20.000000\n",
       "Name: pH, dtype: float64"
      ]
     },
     "execution_count": 23,
     "metadata": {},
     "output_type": "execute_result"
    }
   ],
   "source": [
    "num_of_na_ph = logp_data[PH_COLUMN].isna().sum()\n",
    "frac_of_na_ph = int(100.0*(num_of_na_ph / n))\n",
    "print(\"# of NA values pH = \" + str(num_of_na_temperature) + \", \" + str(frac_of_na_temperature) + \"%\")\n",
    "ph_df = logp_data[logp_data[PH_COLUMN].notna()][PH_COLUMN].astype(float)\n",
    "ph_df.describe()"
   ]
  },
  {
   "cell_type": "code",
   "execution_count": 24,
   "metadata": {
    "pycharm": {
     "name": "#%%\n"
    }
   },
   "outputs": [],
   "source": [
    "clipped_ph_df = ph_df[ph_df.notna()]"
   ]
  },
  {
   "cell_type": "code",
   "execution_count": 25,
   "metadata": {
    "pycharm": {
     "name": "#%%\n"
    }
   },
   "outputs": [
    {
     "data": {
      "text/plain": [
       "<matplotlib.axes._subplots.AxesSubplot at 0x7f65d819db50>"
      ]
     },
     "execution_count": 25,
     "metadata": {},
     "output_type": "execute_result"
    },
    {
     "data": {
      "image/png": "[encoded data removed]",
      "text/plain": [
       "<Figure size 432x288 with 1 Axes>"
      ]
     },
     "metadata": {
      "needs_background": "light"
     },
     "output_type": "display_data"
    }
   ],
   "source": [
    "sns.distplot(clipped_ph_df)"
   ]
  },
  {
   "cell_type": "code",
   "execution_count": 26,
   "metadata": {
    "pycharm": {
     "name": "#%%\n"
    }
   },
   "outputs": [
    {
     "data": {
      "text/plain": [
       "0"
      ]
     },
     "execution_count": 26,
     "metadata": {},
     "output_type": "execute_result"
    }
   ],
   "source": [
    "logp_data[SMILES_COLUMN].isna().sum()"
   ]
  },
  {
   "cell_type": "code",
   "execution_count": 27,
   "metadata": {
    "pycharm": {
     "name": "#%%\n"
    }
   },
   "outputs": [
    {
     "name": "stdout",
     "output_type": "stream",
     "text": [
      "(9581, 4)\n"
     ]
    },
    {
     "data": {
      "text/html": [
       "<div>\n",
       "<style scoped>\n",
       "    .dataframe tbody tr th:only-of-type {\n",
       "        vertical-align: middle;\n",
       "    }\n",
       "\n",
       "    .dataframe tbody tr th {\n",
       "        vertical-align: top;\n",
       "    }\n",
       "\n",
       "    .dataframe thead th {\n",
       "        text-align: right;\n",
       "    }\n",
       "</style>\n",
       "<table border=\"1\" class=\"dataframe\">\n",
       "  <thead>\n",
       "    <tr style=\"text-align: right;\">\n",
       "      <th></th>\n",
       "      <th>value</th>\n",
       "      <th>Temperature (C)</th>\n",
       "      <th>pH</th>\n",
       "    </tr>\n",
       "  </thead>\n",
       "  <tbody>\n",
       "    <tr>\n",
       "      <th>count</th>\n",
       "      <td>9581.000000</td>\n",
       "      <td>6331.000000</td>\n",
       "      <td>1967.000000</td>\n",
       "    </tr>\n",
       "    <tr>\n",
       "      <th>mean</th>\n",
       "      <td>2.614395</td>\n",
       "      <td>25.964674</td>\n",
       "      <td>5.877314</td>\n",
       "    </tr>\n",
       "    <tr>\n",
       "      <th>std</th>\n",
       "      <td>2.090777</td>\n",
       "      <td>11.067580</td>\n",
       "      <td>2.313127</td>\n",
       "    </tr>\n",
       "    <tr>\n",
       "      <th>min</th>\n",
       "      <td>-4.200000</td>\n",
       "      <td>-19.000000</td>\n",
       "      <td>0.100000</td>\n",
       "    </tr>\n",
       "    <tr>\n",
       "      <th>25%</th>\n",
       "      <td>1.200000</td>\n",
       "      <td>24.000000</td>\n",
       "      <td>4.285000</td>\n",
       "    </tr>\n",
       "    <tr>\n",
       "      <th>50%</th>\n",
       "      <td>2.470000</td>\n",
       "      <td>25.000000</td>\n",
       "      <td>6.200000</td>\n",
       "    </tr>\n",
       "    <tr>\n",
       "      <th>75%</th>\n",
       "      <td>3.990000</td>\n",
       "      <td>25.000000</td>\n",
       "      <td>7.400000</td>\n",
       "    </tr>\n",
       "    <tr>\n",
       "      <th>max</th>\n",
       "      <td>15.600000</td>\n",
       "      <td>633.000000</td>\n",
       "      <td>20.000000</td>\n",
       "    </tr>\n",
       "  </tbody>\n",
       "</table>\n",
       "</div>"
      ],
      "text/plain": [
       "             value  Temperature (C)           pH\n",
       "count  9581.000000      6331.000000  1967.000000\n",
       "mean      2.614395        25.964674     5.877314\n",
       "std       2.090777        11.067580     2.313127\n",
       "min      -4.200000       -19.000000     0.100000\n",
       "25%       1.200000        24.000000     4.285000\n",
       "50%       2.470000        25.000000     6.200000\n",
       "75%       3.990000        25.000000     7.400000\n",
       "max      15.600000       633.000000    20.000000"
      ]
     },
     "execution_count": 27,
     "metadata": {},
     "output_type": "execute_result"
    }
   ],
   "source": [
    "# let's look at final data\n",
    "final_data = logp_data[logp_data[VALUE_COLUMN].notna()]\n",
    "final_data = final_data.drop(index=8875)\n",
    "final_data = final_data.drop(index=1856).drop(index=1320)\n",
    "print(final_data.shape)\n",
    "final_data.describe()"
   ]
  },
  {
   "cell_type": "code",
   "execution_count": 28,
   "metadata": {
    "pycharm": {
     "name": "#%%\n"
    }
   },
   "outputs": [
    {
     "data": {
      "text/plain": [
       "<matplotlib.axes._subplots.AxesSubplot at 0x7f65d8111990>"
      ]
     },
     "execution_count": 28,
     "metadata": {},
     "output_type": "execute_result"
    },
    {
     "data": {
      "image/png": "[encoded data removed]",
      "text/plain": [
       "<Figure size 432x288 with 1 Axes>"
      ]
     },
     "metadata": {
      "needs_background": "light"
     },
     "output_type": "display_data"
    }
   ],
   "source": [
    "sns.distplot(final_data[VALUE_COLUMN])"
   ]
  },
  {
   "cell_type": "code",
   "execution_count": 29,
   "metadata": {
    "pycharm": {
     "name": "#%%\n"
    }
   },
   "outputs": [
    {
     "data": {
      "text/plain": [
       "2647"
      ]
     },
     "execution_count": 29,
     "metadata": {},
     "output_type": "execute_result"
    }
   ],
   "source": [
    "final_data[SMILES_COLUMN].unique().size\n",
    "# only 2647 out of 9581 molecules are uniques"
   ]
  },
  {
   "cell_type": "code",
   "execution_count": 30,
   "metadata": {
    "pycharm": {
     "name": "#%%\n"
    }
   },
   "outputs": [
    {
     "data": {
      "text/html": [
       "<div>\n",
       "<style scoped>\n",
       "    .dataframe tbody tr th:only-of-type {\n",
       "        vertical-align: middle;\n",
       "    }\n",
       "\n",
       "    .dataframe tbody tr th {\n",
       "        vertical-align: top;\n",
       "    }\n",
       "\n",
       "    .dataframe thead th {\n",
       "        text-align: right;\n",
       "    }\n",
       "</style>\n",
       "<table border=\"1\" class=\"dataframe\">\n",
       "  <thead>\n",
       "    <tr style=\"text-align: right;\">\n",
       "      <th></th>\n",
       "      <th>value</th>\n",
       "      <th>Temperature (C)</th>\n",
       "      <th>pH</th>\n",
       "    </tr>\n",
       "    <tr>\n",
       "      <th>smiles</th>\n",
       "      <th></th>\n",
       "      <th></th>\n",
       "      <th></th>\n",
       "    </tr>\n",
       "  </thead>\n",
       "  <tbody>\n",
       "    <tr>\n",
       "      <th>[Br][C]([Br])([Br])[Br]</th>\n",
       "      <td>1</td>\n",
       "      <td>1</td>\n",
       "      <td>0</td>\n",
       "    </tr>\n",
       "    <tr>\n",
       "      <th>[Br][c]1[c]([Br])[c]([Br])[c]([Br])[c]([Br])[c]1[Br]</th>\n",
       "      <td>2</td>\n",
       "      <td>1</td>\n",
       "      <td>0</td>\n",
       "    </tr>\n",
       "    <tr>\n",
       "      <th>[Br][c]1[c]([Br])[c]([Br])[c]([O][c]2[c]([Br])[c]([Br])[c]([Br])[c]([Br])[c]2[Br])[c]([Br])[c]1[Br]</th>\n",
       "      <td>1</td>\n",
       "      <td>0</td>\n",
       "      <td>0</td>\n",
       "    </tr>\n",
       "    <tr>\n",
       "      <th>[Cl][C]([Cl])([Cl])[C]([Cl])([Cl])[Cl]</th>\n",
       "      <td>5</td>\n",
       "      <td>3</td>\n",
       "      <td>0</td>\n",
       "    </tr>\n",
       "    <tr>\n",
       "      <th>[Cl][C]([Cl])([Cl])[Cl]</th>\n",
       "      <td>11</td>\n",
       "      <td>5</td>\n",
       "      <td>0</td>\n",
       "    </tr>\n",
       "    <tr>\n",
       "      <th>...</th>\n",
       "      <td>...</td>\n",
       "      <td>...</td>\n",
       "      <td>...</td>\n",
       "    </tr>\n",
       "    <tr>\n",
       "      <th>[H][n]1[c]2[c]([c](=[O])[n]([C]3([H])[C]([H])([H])[C]([H])([H])[C]([H])([H])[C]([H])([H])[C]3([H])[H])[c]1=[O])[C]([H])([H])[C]([H])([H])[C]2([H])[H]</th>\n",
       "      <td>1</td>\n",
       "      <td>1</td>\n",
       "      <td>0</td>\n",
       "    </tr>\n",
       "    <tr>\n",
       "      <th>[N]#[C][c]1[c]([Cl])[c]([Cl])[c]([Cl])[c]([C]#[N])[c]1[Cl]</th>\n",
       "      <td>4</td>\n",
       "      <td>3</td>\n",
       "      <td>0</td>\n",
       "    </tr>\n",
       "    <tr>\n",
       "      <th>[O]=[C]1[C]2([Cl])[C]3([Cl])[C]4([Cl])[C]([Cl])([Cl])[C]5([Cl])[C]3([Cl])[C]1([Cl])[C]5([Cl])[C]24[Cl]</th>\n",
       "      <td>2</td>\n",
       "      <td>2</td>\n",
       "      <td>0</td>\n",
       "    </tr>\n",
       "    <tr>\n",
       "      <th>[O]=[N+]([O-])[C]([Cl])([Cl])[Cl]</th>\n",
       "      <td>4</td>\n",
       "      <td>2</td>\n",
       "      <td>0</td>\n",
       "    </tr>\n",
       "    <tr>\n",
       "      <th>[O]=[N+]([O-])[c]1[c]([Cl])[c]([Cl])[c]([Cl])[c]([Cl])[c]1[Cl]</th>\n",
       "      <td>4</td>\n",
       "      <td>4</td>\n",
       "      <td>0</td>\n",
       "    </tr>\n",
       "  </tbody>\n",
       "</table>\n",
       "<p>2647 rows × 3 columns</p>\n",
       "</div>"
      ],
      "text/plain": [
       "                                                    value  Temperature (C)  pH\n",
       "smiles                                                                        \n",
       "[Br][C]([Br])([Br])[Br]                                 1                1   0\n",
       "[Br][c]1[c]([Br])[c]([Br])[c]([Br])[c]([Br])[c]...      2                1   0\n",
       "[Br][c]1[c]([Br])[c]([Br])[c]([O][c]2[c]([Br])[...      1                0   0\n",
       "[Cl][C]([Cl])([Cl])[C]([Cl])([Cl])[Cl]                  5                3   0\n",
       "[Cl][C]([Cl])([Cl])[Cl]                                11                5   0\n",
       "...                                                   ...              ...  ..\n",
       "[H][n]1[c]2[c]([c](=[O])[n]([C]3([H])[C]([H])([...      1                1   0\n",
       "[N]#[C][c]1[c]([Cl])[c]([Cl])[c]([Cl])[c]([C]#[...      4                3   0\n",
       "[O]=[C]1[C]2([Cl])[C]3([Cl])[C]4([Cl])[C]([Cl])...      2                2   0\n",
       "[O]=[N+]([O-])[C]([Cl])([Cl])[Cl]                       4                2   0\n",
       "[O]=[N+]([O-])[c]1[c]([Cl])[c]([Cl])[c]([Cl])[c...      4                4   0\n",
       "\n",
       "[2647 rows x 3 columns]"
      ]
     },
     "execution_count": 30,
     "metadata": {},
     "output_type": "execute_result"
    }
   ],
   "source": [
    "final_data.groupby(SMILES_COLUMN).count()"
   ]
  },
  {
   "cell_type": "code",
   "execution_count": 31,
   "metadata": {
    "pycharm": {
     "name": "#%%\n"
    }
   },
   "outputs": [
    {
     "data": {
      "text/html": [
       "<div>\n",
       "<style scoped>\n",
       "    .dataframe tbody tr th:only-of-type {\n",
       "        vertical-align: middle;\n",
       "    }\n",
       "\n",
       "    .dataframe tbody tr th {\n",
       "        vertical-align: top;\n",
       "    }\n",
       "\n",
       "    .dataframe thead th {\n",
       "        text-align: right;\n",
       "    }\n",
       "</style>\n",
       "<table border=\"1\" class=\"dataframe\">\n",
       "  <thead>\n",
       "    <tr style=\"text-align: right;\">\n",
       "      <th></th>\n",
       "      <th>value</th>\n",
       "      <th>smiles</th>\n",
       "      <th>Temperature (C)</th>\n",
       "      <th>pH</th>\n",
       "    </tr>\n",
       "  </thead>\n",
       "  <tbody>\n",
       "    <tr>\n",
       "      <th>421</th>\n",
       "      <td>4.78</td>\n",
       "      <td>[Cl][C]([Cl])=[C]([Cl])[C]([Cl])=[C]([Cl])[Cl]</td>\n",
       "      <td>NaN</td>\n",
       "      <td>NaN</td>\n",
       "    </tr>\n",
       "    <tr>\n",
       "      <th>422</th>\n",
       "      <td>4.78</td>\n",
       "      <td>[Cl][C]([Cl])=[C]([Cl])[C]([Cl])=[C]([Cl])[Cl]</td>\n",
       "      <td>NaN</td>\n",
       "      <td>NaN</td>\n",
       "    </tr>\n",
       "    <tr>\n",
       "      <th>423</th>\n",
       "      <td>4.78</td>\n",
       "      <td>[Cl][C]([Cl])=[C]([Cl])[C]([Cl])=[C]([Cl])[Cl]</td>\n",
       "      <td>25.0</td>\n",
       "      <td>NaN</td>\n",
       "    </tr>\n",
       "    <tr>\n",
       "      <th>424</th>\n",
       "      <td>4.78</td>\n",
       "      <td>[Cl][C]([Cl])=[C]([Cl])[C]([Cl])=[C]([Cl])[Cl]</td>\n",
       "      <td>NaN</td>\n",
       "      <td>NaN</td>\n",
       "    </tr>\n",
       "    <tr>\n",
       "      <th>425</th>\n",
       "      <td>4.78</td>\n",
       "      <td>[Cl][C]([Cl])=[C]([Cl])[C]([Cl])=[C]([Cl])[Cl]</td>\n",
       "      <td>20.0</td>\n",
       "      <td>NaN</td>\n",
       "    </tr>\n",
       "    <tr>\n",
       "      <th>426</th>\n",
       "      <td>4.78</td>\n",
       "      <td>[Cl][C]([Cl])=[C]([Cl])[C]([Cl])=[C]([Cl])[Cl]</td>\n",
       "      <td>NaN</td>\n",
       "      <td>NaN</td>\n",
       "    </tr>\n",
       "    <tr>\n",
       "      <th>427</th>\n",
       "      <td>4.78</td>\n",
       "      <td>[Cl][C]([Cl])=[C]([Cl])[C]([Cl])=[C]([Cl])[Cl]</td>\n",
       "      <td>25.0</td>\n",
       "      <td>NaN</td>\n",
       "    </tr>\n",
       "    <tr>\n",
       "      <th>428</th>\n",
       "      <td>4.78</td>\n",
       "      <td>[Cl][C]([Cl])=[C]([Cl])[C]([Cl])=[C]([Cl])[Cl]</td>\n",
       "      <td>NaN</td>\n",
       "      <td>NaN</td>\n",
       "    </tr>\n",
       "    <tr>\n",
       "      <th>429</th>\n",
       "      <td>4.78</td>\n",
       "      <td>[Cl][C]([Cl])=[C]([Cl])[C]([Cl])=[C]([Cl])[Cl]</td>\n",
       "      <td>25.0</td>\n",
       "      <td>NaN</td>\n",
       "    </tr>\n",
       "    <tr>\n",
       "      <th>430</th>\n",
       "      <td>4.78</td>\n",
       "      <td>[Cl][C]([Cl])=[C]([Cl])[C]([Cl])=[C]([Cl])[Cl]</td>\n",
       "      <td>NaN</td>\n",
       "      <td>NaN</td>\n",
       "    </tr>\n",
       "  </tbody>\n",
       "</table>\n",
       "</div>"
      ],
      "text/plain": [
       "     value                                          smiles  Temperature (C)  \\\n",
       "421   4.78  [Cl][C]([Cl])=[C]([Cl])[C]([Cl])=[C]([Cl])[Cl]              NaN   \n",
       "422   4.78  [Cl][C]([Cl])=[C]([Cl])[C]([Cl])=[C]([Cl])[Cl]              NaN   \n",
       "423   4.78  [Cl][C]([Cl])=[C]([Cl])[C]([Cl])=[C]([Cl])[Cl]             25.0   \n",
       "424   4.78  [Cl][C]([Cl])=[C]([Cl])[C]([Cl])=[C]([Cl])[Cl]              NaN   \n",
       "425   4.78  [Cl][C]([Cl])=[C]([Cl])[C]([Cl])=[C]([Cl])[Cl]             20.0   \n",
       "426   4.78  [Cl][C]([Cl])=[C]([Cl])[C]([Cl])=[C]([Cl])[Cl]              NaN   \n",
       "427   4.78  [Cl][C]([Cl])=[C]([Cl])[C]([Cl])=[C]([Cl])[Cl]             25.0   \n",
       "428   4.78  [Cl][C]([Cl])=[C]([Cl])[C]([Cl])=[C]([Cl])[Cl]              NaN   \n",
       "429   4.78  [Cl][C]([Cl])=[C]([Cl])[C]([Cl])=[C]([Cl])[Cl]             25.0   \n",
       "430   4.78  [Cl][C]([Cl])=[C]([Cl])[C]([Cl])=[C]([Cl])[Cl]              NaN   \n",
       "\n",
       "     pH  \n",
       "421 NaN  \n",
       "422 NaN  \n",
       "423 NaN  \n",
       "424 NaN  \n",
       "425 NaN  \n",
       "426 NaN  \n",
       "427 NaN  \n",
       "428 NaN  \n",
       "429 NaN  \n",
       "430 NaN  "
      ]
     },
     "execution_count": 31,
     "metadata": {},
     "output_type": "execute_result"
    }
   ],
   "source": [
    "final_data[final_data[SMILES_COLUMN] == \"[Cl][C]([Cl])=[C]([Cl])[C]([Cl])=[C]([Cl])[Cl]\"]"
   ]
  },
  {
   "cell_type": "code",
   "execution_count": 32,
   "metadata": {
    "pycharm": {
     "name": "#%%\n"
    }
   },
   "outputs": [
    {
     "data": {
      "text/plain": [
       "3382"
      ]
     },
     "execution_count": 32,
     "metadata": {},
     "output_type": "execute_result"
    }
   ],
   "source": [
    "final_data.duplicated().sum()"
   ]
  },
  {
   "cell_type": "code",
   "execution_count": 33,
   "metadata": {
    "pycharm": {
     "name": "#%%\n"
    }
   },
   "outputs": [],
   "source": [
    "final_data = final_data.drop_duplicates()"
   ]
  },
  {
   "cell_type": "code",
   "execution_count": 34,
   "metadata": {
    "pycharm": {
     "name": "#%%\n"
    }
   },
   "outputs": [
    {
     "data": {
      "text/html": [
       "<div>\n",
       "<style scoped>\n",
       "    .dataframe tbody tr th:only-of-type {\n",
       "        vertical-align: middle;\n",
       "    }\n",
       "\n",
       "    .dataframe tbody tr th {\n",
       "        vertical-align: top;\n",
       "    }\n",
       "\n",
       "    .dataframe thead th {\n",
       "        text-align: right;\n",
       "    }\n",
       "</style>\n",
       "<table border=\"1\" class=\"dataframe\">\n",
       "  <thead>\n",
       "    <tr style=\"text-align: right;\">\n",
       "      <th></th>\n",
       "      <th>value</th>\n",
       "      <th>smiles</th>\n",
       "      <th>Temperature (C)</th>\n",
       "      <th>pH</th>\n",
       "    </tr>\n",
       "  </thead>\n",
       "  <tbody>\n",
       "    <tr>\n",
       "      <th>421</th>\n",
       "      <td>4.78</td>\n",
       "      <td>[Cl][C]([Cl])=[C]([Cl])[C]([Cl])=[C]([Cl])[Cl]</td>\n",
       "      <td>NaN</td>\n",
       "      <td>NaN</td>\n",
       "    </tr>\n",
       "    <tr>\n",
       "      <th>423</th>\n",
       "      <td>4.78</td>\n",
       "      <td>[Cl][C]([Cl])=[C]([Cl])[C]([Cl])=[C]([Cl])[Cl]</td>\n",
       "      <td>25.0</td>\n",
       "      <td>NaN</td>\n",
       "    </tr>\n",
       "    <tr>\n",
       "      <th>425</th>\n",
       "      <td>4.78</td>\n",
       "      <td>[Cl][C]([Cl])=[C]([Cl])[C]([Cl])=[C]([Cl])[Cl]</td>\n",
       "      <td>20.0</td>\n",
       "      <td>NaN</td>\n",
       "    </tr>\n",
       "  </tbody>\n",
       "</table>\n",
       "</div>"
      ],
      "text/plain": [
       "     value                                          smiles  Temperature (C)  \\\n",
       "421   4.78  [Cl][C]([Cl])=[C]([Cl])[C]([Cl])=[C]([Cl])[Cl]              NaN   \n",
       "423   4.78  [Cl][C]([Cl])=[C]([Cl])[C]([Cl])=[C]([Cl])[Cl]             25.0   \n",
       "425   4.78  [Cl][C]([Cl])=[C]([Cl])[C]([Cl])=[C]([Cl])[Cl]             20.0   \n",
       "\n",
       "     pH  \n",
       "421 NaN  \n",
       "423 NaN  \n",
       "425 NaN  "
      ]
     },
     "execution_count": 34,
     "metadata": {},
     "output_type": "execute_result"
    }
   ],
   "source": [
    "final_data[final_data[SMILES_COLUMN] == \"[Cl][C]([Cl])=[C]([Cl])[C]([Cl])=[C]([Cl])[Cl]\"]"
   ]
  },
  {
   "cell_type": "code",
   "execution_count": 35,
   "metadata": {
    "pycharm": {
     "name": "#%%\n"
    }
   },
   "outputs": [],
   "source": [
    "final_data = final_data.dropna()\n",
    "#final_data.groupby([SMILES_COLUMN, VALUE_COLUMN, PH_COLUMN]).var()"
   ]
  },
  {
   "cell_type": "code",
   "execution_count": 36,
   "metadata": {
    "pycharm": {
     "name": "#%%\n"
    }
   },
   "outputs": [
    {
     "data": {
      "text/html": [
       "<div>\n",
       "<style scoped>\n",
       "    .dataframe tbody tr th:only-of-type {\n",
       "        vertical-align: middle;\n",
       "    }\n",
       "\n",
       "    .dataframe tbody tr th {\n",
       "        vertical-align: top;\n",
       "    }\n",
       "\n",
       "    .dataframe thead th {\n",
       "        text-align: right;\n",
       "    }\n",
       "</style>\n",
       "<table border=\"1\" class=\"dataframe\">\n",
       "  <thead>\n",
       "    <tr style=\"text-align: right;\">\n",
       "      <th></th>\n",
       "      <th>value</th>\n",
       "      <th>smiles</th>\n",
       "      <th>Temperature (C)</th>\n",
       "      <th>pH</th>\n",
       "    </tr>\n",
       "  </thead>\n",
       "  <tbody>\n",
       "    <tr>\n",
       "      <th>2919</th>\n",
       "      <td>-0.47</td>\n",
       "      <td>[H]/[C](=[N]\\[N]1[C](=[O])[N]([H])[C](=[O])[C]...</td>\n",
       "      <td>37.0</td>\n",
       "      <td>7.2</td>\n",
       "    </tr>\n",
       "    <tr>\n",
       "      <th>2923</th>\n",
       "      <td>-0.47</td>\n",
       "      <td>[H]/[C](=[N]\\[N]1[C](=[O])[N]([H])[C](=[O])[C]...</td>\n",
       "      <td>25.0</td>\n",
       "      <td>7.0</td>\n",
       "    </tr>\n",
       "    <tr>\n",
       "      <th>2925</th>\n",
       "      <td>-0.47</td>\n",
       "      <td>[H]/[C](=[N]\\[N]1[C](=[O])[N]([H])[C](=[O])[C]...</td>\n",
       "      <td>22.0</td>\n",
       "      <td>1.2</td>\n",
       "    </tr>\n",
       "    <tr>\n",
       "      <th>2927</th>\n",
       "      <td>-0.47</td>\n",
       "      <td>[H]/[C](=[N]\\[N]1[C](=[O])[N]([H])[C](=[O])[C]...</td>\n",
       "      <td>25.0</td>\n",
       "      <td>6.5</td>\n",
       "    </tr>\n",
       "    <tr>\n",
       "      <th>2929</th>\n",
       "      <td>-0.47</td>\n",
       "      <td>[H]/[C](=[N]\\[N]1[C](=[O])[N]([H])[C](=[O])[C]...</td>\n",
       "      <td>37.0</td>\n",
       "      <td>5.0</td>\n",
       "    </tr>\n",
       "    <tr>\n",
       "      <th>2930</th>\n",
       "      <td>-0.47</td>\n",
       "      <td>[H]/[C](=[N]\\[N]1[C](=[O])[N]([H])[C](=[O])[C]...</td>\n",
       "      <td>37.0</td>\n",
       "      <td>4.8</td>\n",
       "    </tr>\n",
       "  </tbody>\n",
       "</table>\n",
       "</div>"
      ],
      "text/plain": [
       "      value                                             smiles  \\\n",
       "2919  -0.47  [H]/[C](=[N]\\[N]1[C](=[O])[N]([H])[C](=[O])[C]...   \n",
       "2923  -0.47  [H]/[C](=[N]\\[N]1[C](=[O])[N]([H])[C](=[O])[C]...   \n",
       "2925  -0.47  [H]/[C](=[N]\\[N]1[C](=[O])[N]([H])[C](=[O])[C]...   \n",
       "2927  -0.47  [H]/[C](=[N]\\[N]1[C](=[O])[N]([H])[C](=[O])[C]...   \n",
       "2929  -0.47  [H]/[C](=[N]\\[N]1[C](=[O])[N]([H])[C](=[O])[C]...   \n",
       "2930  -0.47  [H]/[C](=[N]\\[N]1[C](=[O])[N]([H])[C](=[O])[C]...   \n",
       "\n",
       "      Temperature (C)   pH  \n",
       "2919             37.0  7.2  \n",
       "2923             25.0  7.0  \n",
       "2925             22.0  1.2  \n",
       "2927             25.0  6.5  \n",
       "2929             37.0  5.0  \n",
       "2930             37.0  4.8  "
      ]
     },
     "execution_count": 36,
     "metadata": {},
     "output_type": "execute_result"
    }
   ],
   "source": [
    "final_data[final_data[SMILES_COLUMN] == \"[H]/[C](=[N]\\[N]1[C](=[O])[N]([H])[C](=[O])[C]1([H])[H])[c]1[o][c]([N+](=[O])[O-])[c]([H])[c]1[H]\"]"
   ]
  },
  {
   "cell_type": "code",
   "execution_count": 37,
   "metadata": {
    "pycharm": {
     "name": "#%%\n"
    }
   },
   "outputs": [
    {
     "data": {
      "text/html": [
       "<div>\n",
       "<style scoped>\n",
       "    .dataframe tbody tr th:only-of-type {\n",
       "        vertical-align: middle;\n",
       "    }\n",
       "\n",
       "    .dataframe tbody tr th {\n",
       "        vertical-align: top;\n",
       "    }\n",
       "\n",
       "    .dataframe thead th {\n",
       "        text-align: right;\n",
       "    }\n",
       "</style>\n",
       "<table border=\"1\" class=\"dataframe\">\n",
       "  <thead>\n",
       "    <tr style=\"text-align: right;\">\n",
       "      <th></th>\n",
       "      <th>Temperature (C)</th>\n",
       "    </tr>\n",
       "  </thead>\n",
       "  <tbody>\n",
       "    <tr>\n",
       "      <th>count</th>\n",
       "      <td>63.000000</td>\n",
       "    </tr>\n",
       "    <tr>\n",
       "      <th>mean</th>\n",
       "      <td>40.699735</td>\n",
       "    </tr>\n",
       "    <tr>\n",
       "      <th>std</th>\n",
       "      <td>43.761433</td>\n",
       "    </tr>\n",
       "    <tr>\n",
       "      <th>min</th>\n",
       "      <td>0.125000</td>\n",
       "    </tr>\n",
       "    <tr>\n",
       "      <th>25%</th>\n",
       "      <td>4.500000</td>\n",
       "    </tr>\n",
       "    <tr>\n",
       "      <th>50%</th>\n",
       "      <td>32.000000</td>\n",
       "    </tr>\n",
       "    <tr>\n",
       "      <th>75%</th>\n",
       "      <td>67.500000</td>\n",
       "    </tr>\n",
       "    <tr>\n",
       "      <th>max</th>\n",
       "      <td>166.666667</td>\n",
       "    </tr>\n",
       "  </tbody>\n",
       "</table>\n",
       "</div>"
      ],
      "text/plain": [
       "       Temperature (C)\n",
       "count        63.000000\n",
       "mean         40.699735\n",
       "std          43.761433\n",
       "min           0.125000\n",
       "25%           4.500000\n",
       "50%          32.000000\n",
       "75%          67.500000\n",
       "max         166.666667"
      ]
     },
     "execution_count": 37,
     "metadata": {},
     "output_type": "execute_result"
    }
   ],
   "source": [
    "final_data.groupby([SMILES_COLUMN, VALUE_COLUMN, PH_COLUMN]).var().describe()"
   ]
  },
  {
   "cell_type": "code",
   "execution_count": 38,
   "metadata": {
    "pycharm": {
     "name": "#%%\n"
    }
   },
   "outputs": [
    {
     "data": {
      "text/html": [
       "<div>\n",
       "<style scoped>\n",
       "    .dataframe tbody tr th:only-of-type {\n",
       "        vertical-align: middle;\n",
       "    }\n",
       "\n",
       "    .dataframe tbody tr th {\n",
       "        vertical-align: top;\n",
       "    }\n",
       "\n",
       "    .dataframe thead th {\n",
       "        text-align: right;\n",
       "    }\n",
       "</style>\n",
       "<table border=\"1\" class=\"dataframe\">\n",
       "  <thead>\n",
       "    <tr style=\"text-align: right;\">\n",
       "      <th></th>\n",
       "      <th></th>\n",
       "      <th></th>\n",
       "      <th>Temperature (C)</th>\n",
       "    </tr>\n",
       "    <tr>\n",
       "      <th>smiles</th>\n",
       "      <th>value</th>\n",
       "      <th>pH</th>\n",
       "      <th></th>\n",
       "    </tr>\n",
       "  </thead>\n",
       "  <tbody>\n",
       "    <tr>\n",
       "      <th rowspan=\"2\" valign=\"top\">[H]/[C](=[C](/[C]([H])([H])[H])[C]1([C]([H])([H])[C]([H])([H])[H])[C](=[O])[N]([H])[C](=[O])[N]([H])[C]1=[O])[C]([H])([H])[C]([H])([H])[H]</th>\n",
       "      <th rowspan=\"2\" valign=\"top\">1.57</th>\n",
       "      <th>5.00</th>\n",
       "      <td>5.656854</td>\n",
       "    </tr>\n",
       "    <tr>\n",
       "      <th>7.90</th>\n",
       "      <td>5.656854</td>\n",
       "    </tr>\n",
       "    <tr>\n",
       "      <th>[H]/[C](=[C](/[H])[C]([H])([H])[N]1[C]([H])([H])[C]([H])([H])[N]([C]([H])([c]2[c]([H])[c]([H])[c]([H])[c]([H])[c]2[H])[c]2[c]([H])[c]([H])[c]([H])[c]([H])[c]2[H])[C]([H])([H])[C]1([H])[H])[c]1[c]([H])[c]([H])[c]([H])[c]([H])[c]1[H]</th>\n",
       "      <th>5.77</th>\n",
       "      <th>4.50</th>\n",
       "      <td>NaN</td>\n",
       "    </tr>\n",
       "    <tr>\n",
       "      <th rowspan=\"2\" valign=\"top\">[H]/[C](=[N]\\[N]1[C](=[O])[N]([H])[C](=[O])[C]1([H])[H])[c]1[o][c]([N+](=[O])[O-])[c]([H])[c]1[H]</th>\n",
       "      <th rowspan=\"2\" valign=\"top\">-0.47</th>\n",
       "      <th>1.20</th>\n",
       "      <td>NaN</td>\n",
       "    </tr>\n",
       "    <tr>\n",
       "      <th>4.80</th>\n",
       "      <td>NaN</td>\n",
       "    </tr>\n",
       "    <tr>\n",
       "      <th>...</th>\n",
       "      <th>...</th>\n",
       "      <th>...</th>\n",
       "      <td>...</td>\n",
       "    </tr>\n",
       "    <tr>\n",
       "      <th rowspan=\"2\" valign=\"top\">[H][c]1[s][c]([N]=[C]([N]([H])[H])[N]([H])[H])[n][c]1[C]([H])([H])[S][C]([H])([H])[C]([H])([H])/[C](=[N]/[S](=[O])(=[O])[N]([H])[H])[N]([H])[H]</th>\n",
       "      <th rowspan=\"2\" valign=\"top\">-0.56</th>\n",
       "      <th>8.71</th>\n",
       "      <td>NaN</td>\n",
       "    </tr>\n",
       "    <tr>\n",
       "      <th>9.06</th>\n",
       "      <td>NaN</td>\n",
       "    </tr>\n",
       "    <tr>\n",
       "      <th rowspan=\"2\" valign=\"top\">[H][n]1[c]([Cl])[n][c]2[c]1[c](=[O])[n]([C]([H])([H])[H])[c](=[O])[n]2[C]([H])([H])[H]</th>\n",
       "      <th rowspan=\"2\" valign=\"top\">-0.85</th>\n",
       "      <th>1.30</th>\n",
       "      <td>NaN</td>\n",
       "    </tr>\n",
       "    <tr>\n",
       "      <th>7.20</th>\n",
       "      <td>NaN</td>\n",
       "    </tr>\n",
       "    <tr>\n",
       "      <th>[H][n]1[c]([N]([C]([H])([H])[H])[C]([H])([H])[H])[n][c]([C]([H])([H])[H])[c]([C]([H])([H])[C]([H])([H])[C]([H])([H])[C]([H])([H])[H])[c]1=[O]</th>\n",
       "      <th>1.90</th>\n",
       "      <th>7.58</th>\n",
       "      <td>NaN</td>\n",
       "    </tr>\n",
       "  </tbody>\n",
       "</table>\n",
       "<p>1417 rows × 1 columns</p>\n",
       "</div>"
      ],
      "text/plain": [
       "                                                               Temperature (C)\n",
       "smiles                                             value pH                   \n",
       "[H]/[C](=[C](/[C]([H])([H])[H])[C]1([C]([H])([H...  1.57 5.00         5.656854\n",
       "                                                         7.90         5.656854\n",
       "[H]/[C](=[C](/[H])[C]([H])([H])[N]1[C]([H])([H]...  5.77 4.50              NaN\n",
       "[H]/[C](=[N]\\[N]1[C](=[O])[N]([H])[C](=[O])[C]1... -0.47 1.20              NaN\n",
       "                                                         4.80              NaN\n",
       "...                                                                        ...\n",
       "[H][c]1[s][c]([N]=[C]([N]([H])[H])[N]([H])[H])[... -0.56 8.71              NaN\n",
       "                                                         9.06              NaN\n",
       "[H][n]1[c]([Cl])[n][c]2[c]1[c](=[O])[n]([C]([H]... -0.85 1.30              NaN\n",
       "                                                         7.20              NaN\n",
       "[H][n]1[c]([N]([C]([H])([H])[H])[C]([H])([H])[H...  1.90 7.58              NaN\n",
       "\n",
       "[1417 rows x 1 columns]"
      ]
     },
     "execution_count": 38,
     "metadata": {},
     "output_type": "execute_result"
    }
   ],
   "source": [
    "temperature_var = final_data.groupby([SMILES_COLUMN, VALUE_COLUMN, PH_COLUMN]).std()\n",
    "temperature_var"
   ]
  },
  {
   "cell_type": "code",
   "execution_count": 39,
   "metadata": {
    "pycharm": {
     "name": "#%%\n"
    }
   },
   "outputs": [
    {
     "data": {
      "text/html": [
       "<div>\n",
       "<style scoped>\n",
       "    .dataframe tbody tr th:only-of-type {\n",
       "        vertical-align: middle;\n",
       "    }\n",
       "\n",
       "    .dataframe tbody tr th {\n",
       "        vertical-align: top;\n",
       "    }\n",
       "\n",
       "    .dataframe thead th {\n",
       "        text-align: right;\n",
       "    }\n",
       "</style>\n",
       "<table border=\"1\" class=\"dataframe\">\n",
       "  <thead>\n",
       "    <tr style=\"text-align: right;\">\n",
       "      <th></th>\n",
       "      <th></th>\n",
       "      <th></th>\n",
       "      <th>Temperature (C)</th>\n",
       "    </tr>\n",
       "    <tr>\n",
       "      <th>smiles</th>\n",
       "      <th>value</th>\n",
       "      <th>pH</th>\n",
       "      <th></th>\n",
       "    </tr>\n",
       "  </thead>\n",
       "  <tbody>\n",
       "    <tr>\n",
       "      <th rowspan=\"2\" valign=\"top\">[H]/[C](=[C](/[C]([H])([H])[H])[C]1([C]([H])([H])[C]([H])([H])[H])[C](=[O])[N]([H])[C](=[O])[N]([H])[C]1=[O])[C]([H])([H])[C]([H])([H])[H]</th>\n",
       "      <th rowspan=\"2\" valign=\"top\">1.57</th>\n",
       "      <th>5.00</th>\n",
       "      <td>5.656854</td>\n",
       "    </tr>\n",
       "    <tr>\n",
       "      <th>7.90</th>\n",
       "      <td>5.656854</td>\n",
       "    </tr>\n",
       "    <tr>\n",
       "      <th>[H][C]1=[N][c]2[c]([H])[c]([Cl])[c]([S](=[O])(=[O])[N]([H])[H])[c]([H])[c]2[S](=[O])(=[O])[N]1[H]</th>\n",
       "      <th>-0.24</th>\n",
       "      <th>6.50</th>\n",
       "      <td>11.015141</td>\n",
       "    </tr>\n",
       "    <tr>\n",
       "      <th>[H][N]([H])[S](=[O])(=[O])[c]1[n][n]([C]([H])([H])[H])/[c](=[N]/[C](=[O])[C]([H])([H])[H])[s]1</th>\n",
       "      <th>0.13</th>\n",
       "      <th>7.40</th>\n",
       "      <td>2.121320</td>\n",
       "    </tr>\n",
       "    <tr>\n",
       "      <th>[H][N]([H])[c]1[n][c]([N]([H])[H])[n][c]([N]([H])[C]2([H])[C]([H])([H])[C]2([H])[H])[n]1</th>\n",
       "      <th>-0.06</th>\n",
       "      <th>7.00</th>\n",
       "      <td>3.535534</td>\n",
       "    </tr>\n",
       "    <tr>\n",
       "      <th>...</th>\n",
       "      <th>...</th>\n",
       "      <th>...</th>\n",
       "      <td>...</td>\n",
       "    </tr>\n",
       "    <tr>\n",
       "      <th rowspan=\"2\" valign=\"top\">[H][c]1[c]([N]([H])[S](=[O])(=[O])[c]2[c]([H])[c]([H])[c]([N]([H])[H])[c]([H])[c]2[H])[n][o][c]1[C]([H])([H])[H]</th>\n",
       "      <th rowspan=\"2\" valign=\"top\">0.89</th>\n",
       "      <th>1.15</th>\n",
       "      <td>6.027714</td>\n",
       "    </tr>\n",
       "    <tr>\n",
       "      <th>7.16</th>\n",
       "      <td>3.535534</td>\n",
       "    </tr>\n",
       "    <tr>\n",
       "      <th>[H][c]1[n][c]([H])[n]([C]([H])([H])[C]([H])([c]2[c]([H])[c]([H])[c]([Cl])[c]([H])[c]2[Cl])[C]([H])([H])[C]([H])([H])[C]([H])([H])[H])[n]1</th>\n",
       "      <th>3.72</th>\n",
       "      <th>5.70</th>\n",
       "      <td>3.535534</td>\n",
       "    </tr>\n",
       "    <tr>\n",
       "      <th rowspan=\"2\" valign=\"top\">[H][c]1[n][c]([N]([H])[S](=[O])(=[O])[c]2[c]([H])[c]([H])[c]([N]([H])[H])[c]([H])[c]2[H])[n][c]([C]([H])([H])[H])[c]1[H]</th>\n",
       "      <th rowspan=\"2\" valign=\"top\">0.14</th>\n",
       "      <th>4.58</th>\n",
       "      <td>6.454972</td>\n",
       "    </tr>\n",
       "    <tr>\n",
       "      <th>5.50</th>\n",
       "      <td>8.485281</td>\n",
       "    </tr>\n",
       "  </tbody>\n",
       "</table>\n",
       "<p>63 rows × 1 columns</p>\n",
       "</div>"
      ],
      "text/plain": [
       "                                                               Temperature (C)\n",
       "smiles                                             value pH                   \n",
       "[H]/[C](=[C](/[C]([H])([H])[H])[C]1([C]([H])([H...  1.57 5.00         5.656854\n",
       "                                                         7.90         5.656854\n",
       "[H][C]1=[N][c]2[c]([H])[c]([Cl])[c]([S](=[O])(=... -0.24 6.50        11.015141\n",
       "[H][N]([H])[S](=[O])(=[O])[c]1[n][n]([C]([H])([...  0.13 7.40         2.121320\n",
       "[H][N]([H])[c]1[n][c]([N]([H])[H])[n][c]([N]([H... -0.06 7.00         3.535534\n",
       "...                                                                        ...\n",
       "[H][c]1[c]([N]([H])[S](=[O])(=[O])[c]2[c]([H])[...  0.89 1.15         6.027714\n",
       "                                                         7.16         3.535534\n",
       "[H][c]1[n][c]([H])[n]([C]([H])([H])[C]([H])([c]...  3.72 5.70         3.535534\n",
       "[H][c]1[n][c]([N]([H])[S](=[O])(=[O])[c]2[c]([H...  0.14 4.58         6.454972\n",
       "                                                         5.50         8.485281\n",
       "\n",
       "[63 rows x 1 columns]"
      ]
     },
     "execution_count": 39,
     "metadata": {},
     "output_type": "execute_result"
    }
   ],
   "source": [
    "temperature_var = temperature_var.dropna()\n",
    "temperature_var"
   ]
  },
  {
   "cell_type": "code",
   "execution_count": 40,
   "metadata": {
    "pycharm": {
     "name": "#%%\n"
    }
   },
   "outputs": [
    {
     "data": {
      "text/html": [
       "<div>\n",
       "<style scoped>\n",
       "    .dataframe tbody tr th:only-of-type {\n",
       "        vertical-align: middle;\n",
       "    }\n",
       "\n",
       "    .dataframe tbody tr th {\n",
       "        vertical-align: top;\n",
       "    }\n",
       "\n",
       "    .dataframe thead th {\n",
       "        text-align: right;\n",
       "    }\n",
       "</style>\n",
       "<table border=\"1\" class=\"dataframe\">\n",
       "  <thead>\n",
       "    <tr style=\"text-align: right;\">\n",
       "      <th></th>\n",
       "      <th>Temperature (C)</th>\n",
       "    </tr>\n",
       "  </thead>\n",
       "  <tbody>\n",
       "    <tr>\n",
       "      <th>count</th>\n",
       "      <td>63.000000</td>\n",
       "    </tr>\n",
       "    <tr>\n",
       "      <th>mean</th>\n",
       "      <td>5.440509</td>\n",
       "    </tr>\n",
       "    <tr>\n",
       "      <th>std</th>\n",
       "      <td>3.358517</td>\n",
       "    </tr>\n",
       "    <tr>\n",
       "      <th>min</th>\n",
       "      <td>0.353553</td>\n",
       "    </tr>\n",
       "    <tr>\n",
       "      <th>25%</th>\n",
       "      <td>2.121320</td>\n",
       "    </tr>\n",
       "    <tr>\n",
       "      <th>50%</th>\n",
       "      <td>5.656854</td>\n",
       "    </tr>\n",
       "    <tr>\n",
       "      <th>75%</th>\n",
       "      <td>8.211268</td>\n",
       "    </tr>\n",
       "    <tr>\n",
       "      <th>max</th>\n",
       "      <td>12.909944</td>\n",
       "    </tr>\n",
       "  </tbody>\n",
       "</table>\n",
       "</div>"
      ],
      "text/plain": [
       "       Temperature (C)\n",
       "count        63.000000\n",
       "mean          5.440509\n",
       "std           3.358517\n",
       "min           0.353553\n",
       "25%           2.121320\n",
       "50%           5.656854\n",
       "75%           8.211268\n",
       "max          12.909944"
      ]
     },
     "execution_count": 40,
     "metadata": {},
     "output_type": "execute_result"
    }
   ],
   "source": [
    "temperature_var.describe()"
   ]
  },
  {
   "cell_type": "code",
   "execution_count": 41,
   "metadata": {
    "pycharm": {
     "name": "#%%\n"
    }
   },
   "outputs": [
    {
     "data": {
      "text/html": [
       "<div>\n",
       "<style scoped>\n",
       "    .dataframe tbody tr th:only-of-type {\n",
       "        vertical-align: middle;\n",
       "    }\n",
       "\n",
       "    .dataframe tbody tr th {\n",
       "        vertical-align: top;\n",
       "    }\n",
       "\n",
       "    .dataframe thead th {\n",
       "        text-align: right;\n",
       "    }\n",
       "</style>\n",
       "<table border=\"1\" class=\"dataframe\">\n",
       "  <thead>\n",
       "    <tr style=\"text-align: right;\">\n",
       "      <th></th>\n",
       "      <th>value</th>\n",
       "      <th>smiles</th>\n",
       "      <th>Temperature (C)</th>\n",
       "      <th>pH</th>\n",
       "    </tr>\n",
       "  </thead>\n",
       "  <tbody>\n",
       "    <tr>\n",
       "      <th>1927</th>\n",
       "      <td>-0.24</td>\n",
       "      <td>[H][C]1=[N][c]2[c]([H])[c]([Cl])[c]([S](=[O])(...</td>\n",
       "      <td>15.0</td>\n",
       "      <td>6.5</td>\n",
       "    </tr>\n",
       "    <tr>\n",
       "      <th>1928</th>\n",
       "      <td>-0.24</td>\n",
       "      <td>[H][C]1=[N][c]2[c]([H])[c]([Cl])[c]([S](=[O])(...</td>\n",
       "      <td>25.0</td>\n",
       "      <td>6.5</td>\n",
       "    </tr>\n",
       "    <tr>\n",
       "      <th>1929</th>\n",
       "      <td>-0.24</td>\n",
       "      <td>[H][C]1=[N][c]2[c]([H])[c]([Cl])[c]([S](=[O])(...</td>\n",
       "      <td>37.0</td>\n",
       "      <td>6.5</td>\n",
       "    </tr>\n",
       "  </tbody>\n",
       "</table>\n",
       "</div>"
      ],
      "text/plain": [
       "      value                                             smiles  \\\n",
       "1927  -0.24  [H][C]1=[N][c]2[c]([H])[c]([Cl])[c]([S](=[O])(...   \n",
       "1928  -0.24  [H][C]1=[N][c]2[c]([H])[c]([Cl])[c]([S](=[O])(...   \n",
       "1929  -0.24  [H][C]1=[N][c]2[c]([H])[c]([Cl])[c]([S](=[O])(...   \n",
       "\n",
       "      Temperature (C)   pH  \n",
       "1927             15.0  6.5  \n",
       "1928             25.0  6.5  \n",
       "1929             37.0  6.5  "
      ]
     },
     "execution_count": 41,
     "metadata": {},
     "output_type": "execute_result"
    }
   ],
   "source": [
    "final_data[final_data[SMILES_COLUMN] == \"[H][C]1=[N][c]2[c]([H])[c]([Cl])[c]([S](=[O])(=[O])[N]([H])[H])[c]([H])[c]2[S](=[O])(=[O])[N]1[H]\"]"
   ]
  },
  {
   "cell_type": "code",
   "execution_count": 42,
   "metadata": {
    "pycharm": {
     "name": "#%%\n"
    }
   },
   "outputs": [
    {
     "data": {
      "text/html": [
       "<div>\n",
       "<style scoped>\n",
       "    .dataframe tbody tr th:only-of-type {\n",
       "        vertical-align: middle;\n",
       "    }\n",
       "\n",
       "    .dataframe tbody tr th {\n",
       "        vertical-align: top;\n",
       "    }\n",
       "\n",
       "    .dataframe thead th {\n",
       "        text-align: right;\n",
       "    }\n",
       "</style>\n",
       "<table border=\"1\" class=\"dataframe\">\n",
       "  <thead>\n",
       "    <tr style=\"text-align: right;\">\n",
       "      <th></th>\n",
       "      <th></th>\n",
       "      <th></th>\n",
       "      <th>pH</th>\n",
       "    </tr>\n",
       "    <tr>\n",
       "      <th>smiles</th>\n",
       "      <th>value</th>\n",
       "      <th>Temperature (C)</th>\n",
       "      <th></th>\n",
       "    </tr>\n",
       "  </thead>\n",
       "  <tbody>\n",
       "    <tr>\n",
       "      <th rowspan=\"2\" valign=\"top\">[H]/[C](=[C](/[C]([H])([H])[H])[C]1([C]([H])([H])[C]([H])([H])[H])[C](=[O])[N]([H])[C](=[O])[N]([H])[C]1=[O])[C]([H])([H])[C]([H])([H])[H]</th>\n",
       "      <th rowspan=\"2\" valign=\"top\">1.57</th>\n",
       "      <th>25.0</th>\n",
       "      <td>2.050610</td>\n",
       "    </tr>\n",
       "    <tr>\n",
       "      <th>33.0</th>\n",
       "      <td>2.050610</td>\n",
       "    </tr>\n",
       "    <tr>\n",
       "      <th>[H]/[C](=[C](/[H])[C]([H])([H])[N]1[C]([H])([H])[C]([H])([H])[N]([C]([H])([c]2[c]([H])[c]([H])[c]([H])[c]([H])[c]2[H])[c]2[c]([H])[c]([H])[c]([H])[c]([H])[c]2[H])[C]([H])([H])[C]1([H])[H])[c]1[c]([H])[c]([H])[c]([H])[c]([H])[c]1[H]</th>\n",
       "      <th>5.77</th>\n",
       "      <th>25.0</th>\n",
       "      <td>NaN</td>\n",
       "    </tr>\n",
       "    <tr>\n",
       "      <th rowspan=\"2\" valign=\"top\">[H]/[C](=[N]\\[N]1[C](=[O])[N]([H])[C](=[O])[C]1([H])[H])[c]1[o][c]([N+](=[O])[O-])[c]([H])[c]1[H]</th>\n",
       "      <th rowspan=\"2\" valign=\"top\">-0.47</th>\n",
       "      <th>22.0</th>\n",
       "      <td>NaN</td>\n",
       "    </tr>\n",
       "    <tr>\n",
       "      <th>25.0</th>\n",
       "      <td>0.353553</td>\n",
       "    </tr>\n",
       "    <tr>\n",
       "      <th>...</th>\n",
       "      <th>...</th>\n",
       "      <th>...</th>\n",
       "      <td>...</td>\n",
       "    </tr>\n",
       "    <tr>\n",
       "      <th rowspan=\"2\" valign=\"top\">[H][c]1[s][c]([C]([H])([H])[C]([H])([H])[N]2[C]([H])([H])[C]([H])([H])[C]([N]([C](=[O])[C]([H])([H])[C]([H])([H])[H])[c]3[c]([H])[c]([H])[c]([H])[c]([H])[c]3[H])([C]([H])([H])[O][C]([H])([H])[H])[C]([H])([H])[C]2([H])[H])[c]([H])[c]1[H]</th>\n",
       "      <th rowspan=\"2\" valign=\"top\">3.95</th>\n",
       "      <th>25.0</th>\n",
       "      <td>NaN</td>\n",
       "    </tr>\n",
       "    <tr>\n",
       "      <th>35.0</th>\n",
       "      <td>2.139433</td>\n",
       "    </tr>\n",
       "    <tr>\n",
       "      <th>[H][c]1[s][c]([N]=[C]([N]([H])[H])[N]([H])[H])[n][c]1[C]([H])([H])[S][C]([H])([H])[C]([H])([H])/[C](=[N]/[S](=[O])(=[O])[N]([H])[H])[N]([H])[H]</th>\n",
       "      <th>-0.56</th>\n",
       "      <th>25.0</th>\n",
       "      <td>1.056869</td>\n",
       "    </tr>\n",
       "    <tr>\n",
       "      <th>[H][n]1[c]([Cl])[n][c]2[c]1[c](=[O])[n]([C]([H])([H])[H])[c](=[O])[n]2[C]([H])([H])[H]</th>\n",
       "      <th>-0.85</th>\n",
       "      <th>37.0</th>\n",
       "      <td>4.171930</td>\n",
       "    </tr>\n",
       "    <tr>\n",
       "      <th>[H][n]1[c]([N]([C]([H])([H])[H])[C]([H])([H])[H])[n][c]([C]([H])([H])[H])[c]([C]([H])([H])[C]([H])([H])[C]([H])([H])[C]([H])([H])[H])[c]1=[O]</th>\n",
       "      <th>1.90</th>\n",
       "      <th>25.0</th>\n",
       "      <td>NaN</td>\n",
       "    </tr>\n",
       "  </tbody>\n",
       "</table>\n",
       "<p>474 rows × 1 columns</p>\n",
       "</div>"
      ],
      "text/plain": [
       "                                                                                pH\n",
       "smiles                                             value Temperature (C)          \n",
       "[H]/[C](=[C](/[C]([H])([H])[H])[C]1([C]([H])([H...  1.57 25.0             2.050610\n",
       "                                                         33.0             2.050610\n",
       "[H]/[C](=[C](/[H])[C]([H])([H])[N]1[C]([H])([H]...  5.77 25.0                  NaN\n",
       "[H]/[C](=[N]\\[N]1[C](=[O])[N]([H])[C](=[O])[C]1... -0.47 22.0                  NaN\n",
       "                                                         25.0             0.353553\n",
       "...                                                                            ...\n",
       "[H][c]1[s][c]([C]([H])([H])[C]([H])([H])[N]2[C]...  3.95 25.0                  NaN\n",
       "                                                         35.0             2.139433\n",
       "[H][c]1[s][c]([N]=[C]([N]([H])[H])[N]([H])[H])[... -0.56 25.0             1.056869\n",
       "[H][n]1[c]([Cl])[n][c]2[c]1[c](=[O])[n]([C]([H]... -0.85 37.0             4.171930\n",
       "[H][n]1[c]([N]([C]([H])([H])[H])[C]([H])([H])[H...  1.90 25.0                  NaN\n",
       "\n",
       "[474 rows x 1 columns]"
      ]
     },
     "execution_count": 42,
     "metadata": {},
     "output_type": "execute_result"
    }
   ],
   "source": [
    "ph_var = final_data.groupby([SMILES_COLUMN, VALUE_COLUMN, TEMPERATURE_COLUMN]).std()\n",
    "ph_var"
   ]
  },
  {
   "cell_type": "code",
   "execution_count": 43,
   "metadata": {
    "pycharm": {
     "name": "#%%\n"
    }
   },
   "outputs": [
    {
     "data": {
      "text/html": [
       "<div>\n",
       "<style scoped>\n",
       "    .dataframe tbody tr th:only-of-type {\n",
       "        vertical-align: middle;\n",
       "    }\n",
       "\n",
       "    .dataframe tbody tr th {\n",
       "        vertical-align: top;\n",
       "    }\n",
       "\n",
       "    .dataframe thead th {\n",
       "        text-align: right;\n",
       "    }\n",
       "</style>\n",
       "<table border=\"1\" class=\"dataframe\">\n",
       "  <thead>\n",
       "    <tr style=\"text-align: right;\">\n",
       "      <th></th>\n",
       "      <th></th>\n",
       "      <th></th>\n",
       "      <th>pH</th>\n",
       "    </tr>\n",
       "    <tr>\n",
       "      <th>smiles</th>\n",
       "      <th>value</th>\n",
       "      <th>Temperature (C)</th>\n",
       "      <th></th>\n",
       "    </tr>\n",
       "  </thead>\n",
       "  <tbody>\n",
       "    <tr>\n",
       "      <th rowspan=\"2\" valign=\"top\">[H]/[C](=[C](/[C]([H])([H])[H])[C]1([C]([H])([H])[C]([H])([H])[H])[C](=[O])[N]([H])[C](=[O])[N]([H])[C]1=[O])[C]([H])([H])[C]([H])([H])[H]</th>\n",
       "      <th rowspan=\"2\" valign=\"top\">1.57</th>\n",
       "      <th>25.0</th>\n",
       "      <td>2.050610</td>\n",
       "    </tr>\n",
       "    <tr>\n",
       "      <th>33.0</th>\n",
       "      <td>2.050610</td>\n",
       "    </tr>\n",
       "    <tr>\n",
       "      <th rowspan=\"2\" valign=\"top\">[H]/[C](=[N]\\[N]1[C](=[O])[N]([H])[C](=[O])[C]1([H])[H])[c]1[o][c]([N+](=[O])[O-])[c]([H])[c]1[H]</th>\n",
       "      <th rowspan=\"2\" valign=\"top\">-0.47</th>\n",
       "      <th>25.0</th>\n",
       "      <td>0.353553</td>\n",
       "    </tr>\n",
       "    <tr>\n",
       "      <th>37.0</th>\n",
       "      <td>1.331666</td>\n",
       "    </tr>\n",
       "    <tr>\n",
       "      <th>[H][C](=[C]1[c]2[c]([H])[c]([H])[c]([H])[c]([H])[c]2[C]([H])([H])[C]([H])([H])[c]2[c]([H])[c]([H])[c]([H])[c]([H])[c]21)[C]([H])([H])[C]([H])([H])[N]([C]([H])([H])[H])[C]([H])([H])[H]</th>\n",
       "      <th>5.04</th>\n",
       "      <th>24.0</th>\n",
       "      <td>0.360185</td>\n",
       "    </tr>\n",
       "    <tr>\n",
       "      <th>...</th>\n",
       "      <th>...</th>\n",
       "      <th>...</th>\n",
       "      <td>...</td>\n",
       "    </tr>\n",
       "    <tr>\n",
       "      <th>[H][c]1[n][c]2[c]([H])[c]([Cl])[c]([H])[c]([H])[c]2[c]([N]([H])[C]([H])([C]([H])([H])[H])[C]([H])([H])[C]([H])([H])[C]([H])([H])[N]([C]([H])([H])[C]([H])([H])[H])[C]([H])([H])[C]([H])([H])[H])[c]1[H]</th>\n",
       "      <th>4.63</th>\n",
       "      <th>20.0</th>\n",
       "      <td>1.073138</td>\n",
       "    </tr>\n",
       "    <tr>\n",
       "      <th>[H][c]1[s][c]([C](=[O])[O][C]([H])([H])[H])[c]([S](=[O])(=[O])[N]([H])[C](=[O])[N]([H])[c]2[n][c]([O][C]([H])([H])[H])[n][c]([C]([H])([H])[H])[n]2)[c]1[H]</th>\n",
       "      <th>0.20</th>\n",
       "      <th>25.0</th>\n",
       "      <td>1.290994</td>\n",
       "    </tr>\n",
       "    <tr>\n",
       "      <th>[H][c]1[s][c]([C]([H])([H])[C]([H])([H])[N]2[C]([H])([H])[C]([H])([H])[C]([N]([C](=[O])[C]([H])([H])[C]([H])([H])[H])[c]3[c]([H])[c]([H])[c]([H])[c]([H])[c]3[H])([C]([H])([H])[O][C]([H])([H])[H])[C]([H])([H])[C]2([H])[H])[c]([H])[c]1[H]</th>\n",
       "      <th>3.95</th>\n",
       "      <th>35.0</th>\n",
       "      <td>2.139433</td>\n",
       "    </tr>\n",
       "    <tr>\n",
       "      <th>[H][c]1[s][c]([N]=[C]([N]([H])[H])[N]([H])[H])[n][c]1[C]([H])([H])[S][C]([H])([H])[C]([H])([H])/[C](=[N]/[S](=[O])(=[O])[N]([H])[H])[N]([H])[H]</th>\n",
       "      <th>-0.56</th>\n",
       "      <th>25.0</th>\n",
       "      <td>1.056869</td>\n",
       "    </tr>\n",
       "    <tr>\n",
       "      <th>[H][n]1[c]([Cl])[n][c]2[c]1[c](=[O])[n]([C]([H])([H])[H])[c](=[O])[n]2[C]([H])([H])[H]</th>\n",
       "      <th>-0.85</th>\n",
       "      <th>37.0</th>\n",
       "      <td>4.171930</td>\n",
       "    </tr>\n",
       "  </tbody>\n",
       "</table>\n",
       "<p>176 rows × 1 columns</p>\n",
       "</div>"
      ],
      "text/plain": [
       "                                                                                pH\n",
       "smiles                                             value Temperature (C)          \n",
       "[H]/[C](=[C](/[C]([H])([H])[H])[C]1([C]([H])([H...  1.57 25.0             2.050610\n",
       "                                                         33.0             2.050610\n",
       "[H]/[C](=[N]\\[N]1[C](=[O])[N]([H])[C](=[O])[C]1... -0.47 25.0             0.353553\n",
       "                                                         37.0             1.331666\n",
       "[H][C](=[C]1[c]2[c]([H])[c]([H])[c]([H])[c]([H]...  5.04 24.0             0.360185\n",
       "...                                                                            ...\n",
       "[H][c]1[n][c]2[c]([H])[c]([Cl])[c]([H])[c]([H])...  4.63 20.0             1.073138\n",
       "[H][c]1[s][c]([C](=[O])[O][C]([H])([H])[H])[c](...  0.20 25.0             1.290994\n",
       "[H][c]1[s][c]([C]([H])([H])[C]([H])([H])[N]2[C]...  3.95 35.0             2.139433\n",
       "[H][c]1[s][c]([N]=[C]([N]([H])[H])[N]([H])[H])[... -0.56 25.0             1.056869\n",
       "[H][n]1[c]([Cl])[n][c]2[c]1[c](=[O])[n]([C]([H]... -0.85 37.0             4.171930\n",
       "\n",
       "[176 rows x 1 columns]"
      ]
     },
     "execution_count": 43,
     "metadata": {},
     "output_type": "execute_result"
    }
   ],
   "source": [
    "ph_var = ph_var.dropna()\n",
    "ph_var"
   ]
  },
  {
   "cell_type": "code",
   "execution_count": 44,
   "metadata": {
    "pycharm": {
     "name": "#%%\n"
    }
   },
   "outputs": [
    {
     "data": {
      "text/html": [
       "<div>\n",
       "<style scoped>\n",
       "    .dataframe tbody tr th:only-of-type {\n",
       "        vertical-align: middle;\n",
       "    }\n",
       "\n",
       "    .dataframe tbody tr th {\n",
       "        vertical-align: top;\n",
       "    }\n",
       "\n",
       "    .dataframe thead th {\n",
       "        text-align: right;\n",
       "    }\n",
       "</style>\n",
       "<table border=\"1\" class=\"dataframe\">\n",
       "  <thead>\n",
       "    <tr style=\"text-align: right;\">\n",
       "      <th></th>\n",
       "      <th>value</th>\n",
       "      <th>smiles</th>\n",
       "      <th>Temperature (C)</th>\n",
       "      <th>pH</th>\n",
       "    </tr>\n",
       "  </thead>\n",
       "  <tbody>\n",
       "    <tr>\n",
       "      <th>5246</th>\n",
       "      <td>1.57</td>\n",
       "      <td>[H]/[C](=[C](/[C]([H])([H])[H])[C]1([C]([H])([...</td>\n",
       "      <td>25.0</td>\n",
       "      <td>5.0</td>\n",
       "    </tr>\n",
       "    <tr>\n",
       "      <th>5251</th>\n",
       "      <td>1.57</td>\n",
       "      <td>[H]/[C](=[C](/[C]([H])([H])[H])[C]1([C]([H])([...</td>\n",
       "      <td>25.0</td>\n",
       "      <td>7.9</td>\n",
       "    </tr>\n",
       "    <tr>\n",
       "      <th>5254</th>\n",
       "      <td>1.57</td>\n",
       "      <td>[H]/[C](=[C](/[C]([H])([H])[H])[C]1([C]([H])([...</td>\n",
       "      <td>33.0</td>\n",
       "      <td>5.0</td>\n",
       "    </tr>\n",
       "    <tr>\n",
       "      <th>5255</th>\n",
       "      <td>1.57</td>\n",
       "      <td>[H]/[C](=[C](/[C]([H])([H])[H])[C]1([C]([H])([...</td>\n",
       "      <td>33.0</td>\n",
       "      <td>7.9</td>\n",
       "    </tr>\n",
       "  </tbody>\n",
       "</table>\n",
       "</div>"
      ],
      "text/plain": [
       "      value                                             smiles  \\\n",
       "5246   1.57  [H]/[C](=[C](/[C]([H])([H])[H])[C]1([C]([H])([...   \n",
       "5251   1.57  [H]/[C](=[C](/[C]([H])([H])[H])[C]1([C]([H])([...   \n",
       "5254   1.57  [H]/[C](=[C](/[C]([H])([H])[H])[C]1([C]([H])([...   \n",
       "5255   1.57  [H]/[C](=[C](/[C]([H])([H])[H])[C]1([C]([H])([...   \n",
       "\n",
       "      Temperature (C)   pH  \n",
       "5246             25.0  5.0  \n",
       "5251             25.0  7.9  \n",
       "5254             33.0  5.0  \n",
       "5255             33.0  7.9  "
      ]
     },
     "execution_count": 44,
     "metadata": {},
     "output_type": "execute_result"
    }
   ],
   "source": [
    "final_data[final_data[SMILES_COLUMN] == \"[H]/[C](=[C](/[C]([H])([H])[H])[C]1([C]([H])([H])[C]([H])([H])[H])[C](=[O])[N]([H])[C](=[O])[N]([H])[C]1=[O])[C]([H])([H])[C]([H])([H])[H]\"]"
   ]
  },
  {
   "cell_type": "code",
   "execution_count": 45,
   "metadata": {
    "pycharm": {
     "name": "#%%\n"
    }
   },
   "outputs": [
    {
     "data": {
      "text/html": [
       "<div>\n",
       "<style scoped>\n",
       "    .dataframe tbody tr th:only-of-type {\n",
       "        vertical-align: middle;\n",
       "    }\n",
       "\n",
       "    .dataframe tbody tr th {\n",
       "        vertical-align: top;\n",
       "    }\n",
       "\n",
       "    .dataframe thead th {\n",
       "        text-align: right;\n",
       "    }\n",
       "</style>\n",
       "<table border=\"1\" class=\"dataframe\">\n",
       "  <thead>\n",
       "    <tr style=\"text-align: right;\">\n",
       "      <th></th>\n",
       "      <th>pH</th>\n",
       "    </tr>\n",
       "  </thead>\n",
       "  <tbody>\n",
       "    <tr>\n",
       "      <th>count</th>\n",
       "      <td>176.000000</td>\n",
       "    </tr>\n",
       "    <tr>\n",
       "      <th>mean</th>\n",
       "      <td>1.717154</td>\n",
       "    </tr>\n",
       "    <tr>\n",
       "      <th>std</th>\n",
       "      <td>0.849025</td>\n",
       "    </tr>\n",
       "    <tr>\n",
       "      <th>min</th>\n",
       "      <td>0.070711</td>\n",
       "    </tr>\n",
       "    <tr>\n",
       "      <th>25%</th>\n",
       "      <td>1.073146</td>\n",
       "    </tr>\n",
       "    <tr>\n",
       "      <th>50%</th>\n",
       "      <td>1.602759</td>\n",
       "    </tr>\n",
       "    <tr>\n",
       "      <th>75%</th>\n",
       "      <td>2.222399</td>\n",
       "    </tr>\n",
       "    <tr>\n",
       "      <th>max</th>\n",
       "      <td>4.384062</td>\n",
       "    </tr>\n",
       "  </tbody>\n",
       "</table>\n",
       "</div>"
      ],
      "text/plain": [
       "               pH\n",
       "count  176.000000\n",
       "mean     1.717154\n",
       "std      0.849025\n",
       "min      0.070711\n",
       "25%      1.073146\n",
       "50%      1.602759\n",
       "75%      2.222399\n",
       "max      4.384062"
      ]
     },
     "execution_count": 45,
     "metadata": {},
     "output_type": "execute_result"
    }
   ],
   "source": [
    "ph_var.describe()"
   ]
  },
  {
   "cell_type": "code",
   "execution_count": 46,
   "metadata": {
    "pycharm": {
     "name": "#%%\n"
    }
   },
   "outputs": [
    {
     "data": {
      "text/plain": [
       "366"
      ]
     },
     "execution_count": 46,
     "metadata": {},
     "output_type": "execute_result"
    }
   ],
   "source": [
    "final_data[SMILES_COLUMN].unique().size"
   ]
  },
  {
   "cell_type": "code",
   "execution_count": 50,
   "metadata": {
    "pycharm": {
     "name": "#%%\n"
    }
   },
   "outputs": [],
   "source": [
    "PROCESSED_PATH = \"../data/1_filtering/logp.csv\"\n",
    "\n",
    "final_data.to_csv(PROCESSED_PATH)"
   ]
  },
  {
   "cell_type": "code",
   "execution_count": 51,
   "metadata": {
    "pycharm": {
     "name": "#%%\n"
    }
   },
   "outputs": [
    {
     "data": {
      "text/html": [
       "<div>\n",
       "<style scoped>\n",
       "    .dataframe tbody tr th:only-of-type {\n",
       "        vertical-align: middle;\n",
       "    }\n",
       "\n",
       "    .dataframe tbody tr th {\n",
       "        vertical-align: top;\n",
       "    }\n",
       "\n",
       "    .dataframe thead th {\n",
       "        text-align: right;\n",
       "    }\n",
       "</style>\n",
       "<table border=\"1\" class=\"dataframe\">\n",
       "  <thead>\n",
       "    <tr style=\"text-align: right;\">\n",
       "      <th></th>\n",
       "      <th>value</th>\n",
       "      <th>smiles</th>\n",
       "      <th>Temperature (C)</th>\n",
       "      <th>pH</th>\n",
       "    </tr>\n",
       "  </thead>\n",
       "  <tbody>\n",
       "    <tr>\n",
       "      <th>437</th>\n",
       "      <td>-0.89</td>\n",
       "      <td>[H][c]1[c]([F])[c](=[O])[n]([H])[c](=[O])[n]1[H]</td>\n",
       "      <td>22.0</td>\n",
       "      <td>4.00</td>\n",
       "    </tr>\n",
       "    <tr>\n",
       "      <th>439</th>\n",
       "      <td>-0.89</td>\n",
       "      <td>[H][c]1[c]([F])[c](=[O])[n]([H])[c](=[O])[n]1[H]</td>\n",
       "      <td>25.0</td>\n",
       "      <td>4.00</td>\n",
       "    </tr>\n",
       "    <tr>\n",
       "      <th>441</th>\n",
       "      <td>-0.89</td>\n",
       "      <td>[H][c]1[c]([F])[c](=[O])[n]([H])[c](=[O])[n]1[H]</td>\n",
       "      <td>37.0</td>\n",
       "      <td>4.00</td>\n",
       "    </tr>\n",
       "    <tr>\n",
       "      <th>486</th>\n",
       "      <td>-0.26</td>\n",
       "      <td>[H][N]([C](=[O])[C]([H])([H])[H])[c]1[n][n][c]...</td>\n",
       "      <td>25.0</td>\n",
       "      <td>7.40</td>\n",
       "    </tr>\n",
       "    <tr>\n",
       "      <th>489</th>\n",
       "      <td>-0.26</td>\n",
       "      <td>[H][N]([C](=[O])[C]([H])([H])[H])[c]1[n][n][c]...</td>\n",
       "      <td>35.0</td>\n",
       "      <td>7.20</td>\n",
       "    </tr>\n",
       "    <tr>\n",
       "      <th>...</th>\n",
       "      <td>...</td>\n",
       "      <td>...</td>\n",
       "      <td>...</td>\n",
       "      <td>...</td>\n",
       "    </tr>\n",
       "    <tr>\n",
       "      <th>9579</th>\n",
       "      <td>0.05</td>\n",
       "      <td>[H][c]1[n][c]([N]([H])[S](=[O])(=[O])[c]2[c]([...</td>\n",
       "      <td>37.0</td>\n",
       "      <td>6.26</td>\n",
       "    </tr>\n",
       "    <tr>\n",
       "      <th>9580</th>\n",
       "      <td>0.05</td>\n",
       "      <td>[H][c]1[n][c]([N]([H])[S](=[O])(=[O])[c]2[c]([...</td>\n",
       "      <td>25.0</td>\n",
       "      <td>6.87</td>\n",
       "    </tr>\n",
       "    <tr>\n",
       "      <th>9581</th>\n",
       "      <td>0.05</td>\n",
       "      <td>[H][c]1[n][c]([N]([H])[S](=[O])(=[O])[c]2[c]([...</td>\n",
       "      <td>25.0</td>\n",
       "      <td>7.08</td>\n",
       "    </tr>\n",
       "    <tr>\n",
       "      <th>9584</th>\n",
       "      <td>0.05</td>\n",
       "      <td>[H][c]1[n][c]([N]([H])[S](=[O])(=[O])[c]2[c]([...</td>\n",
       "      <td>37.0</td>\n",
       "      <td>7.01</td>\n",
       "    </tr>\n",
       "    <tr>\n",
       "      <th>9585</th>\n",
       "      <td>0.05</td>\n",
       "      <td>[H][c]1[n][c]([N]([H])[S](=[O])(=[O])[c]2[c]([...</td>\n",
       "      <td>37.0</td>\n",
       "      <td>7.19</td>\n",
       "    </tr>\n",
       "  </tbody>\n",
       "</table>\n",
       "<p>1493 rows × 4 columns</p>\n",
       "</div>"
      ],
      "text/plain": [
       "      value                                             smiles  \\\n",
       "437   -0.89   [H][c]1[c]([F])[c](=[O])[n]([H])[c](=[O])[n]1[H]   \n",
       "439   -0.89   [H][c]1[c]([F])[c](=[O])[n]([H])[c](=[O])[n]1[H]   \n",
       "441   -0.89   [H][c]1[c]([F])[c](=[O])[n]([H])[c](=[O])[n]1[H]   \n",
       "486   -0.26  [H][N]([C](=[O])[C]([H])([H])[H])[c]1[n][n][c]...   \n",
       "489   -0.26  [H][N]([C](=[O])[C]([H])([H])[H])[c]1[n][n][c]...   \n",
       "...     ...                                                ...   \n",
       "9579   0.05  [H][c]1[n][c]([N]([H])[S](=[O])(=[O])[c]2[c]([...   \n",
       "9580   0.05  [H][c]1[n][c]([N]([H])[S](=[O])(=[O])[c]2[c]([...   \n",
       "9581   0.05  [H][c]1[n][c]([N]([H])[S](=[O])(=[O])[c]2[c]([...   \n",
       "9584   0.05  [H][c]1[n][c]([N]([H])[S](=[O])(=[O])[c]2[c]([...   \n",
       "9585   0.05  [H][c]1[n][c]([N]([H])[S](=[O])(=[O])[c]2[c]([...   \n",
       "\n",
       "      Temperature (C)    pH  \n",
       "437              22.0  4.00  \n",
       "439              25.0  4.00  \n",
       "441              37.0  4.00  \n",
       "486              25.0  7.40  \n",
       "489              35.0  7.20  \n",
       "...               ...   ...  \n",
       "9579             37.0  6.26  \n",
       "9580             25.0  6.87  \n",
       "9581             25.0  7.08  \n",
       "9584             37.0  7.01  \n",
       "9585             37.0  7.19  \n",
       "\n",
       "[1493 rows x 4 columns]"
      ]
     },
     "execution_count": 51,
     "metadata": {},
     "output_type": "execute_result"
    }
   ],
   "source": [
    "pd.read_csv(PROCESSED_PATH, index_col=0)\n"
   ]
  }
 ],
 "metadata": {
  "kernelspec": {
   "display_name": "Python 3",
   "language": "python",
   "name": "python3"
  },
  "language_info": {
   "codemirror_mode": {
    "name": "ipython",
    "version": 3
   },
   "file_extension": ".py",
   "mimetype": "text/x-python",
   "name": "python",
   "nbconvert_exporter": "python",
   "pygments_lexer": "ipython3",
   "version": "3.7.6"
  }
 },
 "nbformat": 4,
 "nbformat_minor": 1
}
