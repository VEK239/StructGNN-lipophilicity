{
 "cells": [
  {
   "cell_type": "code",
   "execution_count": 1,
   "metadata": {},
   "outputs": [],
   "source": [
    "import pandas as pd\n",
    "from rdkit import Chem"
   ]
  },
  {
   "cell_type": "code",
   "execution_count": 2,
   "metadata": {},
   "outputs": [],
   "source": [
    "logp_data = pd.read_csv('../data/3_final_data/logp.csv')"
   ]
  },
  {
   "cell_type": "code",
   "execution_count": 4,
   "metadata": {},
   "outputs": [
    {
     "data": {
      "text/html": [
       "<div>\n",
       "<style scoped>\n",
       "    .dataframe tbody tr th:only-of-type {\n",
       "        vertical-align: middle;\n",
       "    }\n",
       "\n",
       "    .dataframe tbody tr th {\n",
       "        vertical-align: top;\n",
       "    }\n",
       "\n",
       "    .dataframe thead th {\n",
       "        text-align: right;\n",
       "    }\n",
       "</style>\n",
       "<table border=\"1\" class=\"dataframe\">\n",
       "  <thead>\n",
       "    <tr style=\"text-align: right;\">\n",
       "      <th></th>\n",
       "      <th>smiles</th>\n",
       "      <th>logP</th>\n",
       "    </tr>\n",
       "  </thead>\n",
       "  <tbody>\n",
       "    <tr>\n",
       "      <th>0</th>\n",
       "      <td>COc1ccccc1[C@@H]1CC(=O)Nc2cc(C)c(C)cc21</td>\n",
       "      <td>4.17</td>\n",
       "    </tr>\n",
       "    <tr>\n",
       "      <th>1</th>\n",
       "      <td>COc1ccc2c(c1)O[C@](O)(C(F)(F)F)CC2=O</td>\n",
       "      <td>2.79</td>\n",
       "    </tr>\n",
       "    <tr>\n",
       "      <th>2</th>\n",
       "      <td>CC(C)(C)C1(C)OC(C(N)=O)C(C(N)=O)O1</td>\n",
       "      <td>1.60</td>\n",
       "    </tr>\n",
       "    <tr>\n",
       "      <th>3</th>\n",
       "      <td>CCOc1cc(-c2nnc(-c3ccco3)o2)cc(OCC)c1OCC</td>\n",
       "      <td>3.96</td>\n",
       "    </tr>\n",
       "    <tr>\n",
       "      <th>4</th>\n",
       "      <td>C=C(c1ccc(N(C)C)cc1)c1ccc(N(C)C)cc1</td>\n",
       "      <td>5.30</td>\n",
       "    </tr>\n",
       "  </tbody>\n",
       "</table>\n",
       "</div>"
      ],
      "text/plain": [
       "                                    smiles  logP\n",
       "0  COc1ccccc1[C@@H]1CC(=O)Nc2cc(C)c(C)cc21  4.17\n",
       "1     COc1ccc2c(c1)O[C@](O)(C(F)(F)F)CC2=O  2.79\n",
       "2       CC(C)(C)C1(C)OC(C(N)=O)C(C(N)=O)O1  1.60\n",
       "3  CCOc1cc(-c2nnc(-c3ccco3)o2)cc(OCC)c1OCC  3.96\n",
       "4      C=C(c1ccc(N(C)C)cc1)c1ccc(N(C)C)cc1  5.30"
      ]
     },
     "execution_count": 4,
     "metadata": {},
     "output_type": "execute_result"
    }
   ],
   "source": [
    "logp_data.head()"
   ]
  },
  {
   "cell_type": "code",
   "execution_count": 5,
   "metadata": {},
   "outputs": [],
   "source": [
    "sum_atom_in_ring_count = 0\n",
    "sum_atom_in_more_than_one_ring_count =0"
   ]
  },
  {
   "cell_type": "code",
   "execution_count": 12,
   "metadata": {},
   "outputs": [],
   "source": [
    "for smi in logp_data.smiles:\n",
    "    mol = Chem.MolFromSmiles(smi)\n",
    "    mol_ring_info = mol.GetRingInfo() \n",
    "    for idx in range(len(mol.GetAtoms())):\n",
    "        ring_count_for_atom = mol_ring_info.NumAtomRings(idx)\n",
    "        sum_atom_in_more_than_one_ring_count += int(ring_count_for_atom > 1)\n",
    "        sum_atom_in_ring_count += int(ring_count_for_atom > 0)"
   ]
  },
  {
   "cell_type": "code",
   "execution_count": 13,
   "metadata": {},
   "outputs": [
    {
     "name": "stdout",
     "output_type": "stream",
     "text": [
      "11481\n",
      "134749\n"
     ]
    }
   ],
   "source": [
    "print(sum_atom_in_more_than_one_ring_count)\n",
    "print(sum_atom_in_ring_count)"
   ]
  },
  {
   "cell_type": "code",
   "execution_count": 15,
   "metadata": {},
   "outputs": [
    {
     "name": "stdout",
     "output_type": "stream",
     "text": [
      "The percent of atoms in more than one ring: 8.520285864830166%\n"
     ]
    }
   ],
   "source": [
    "print(f\"The percent of atoms in more than one ring: {sum_atom_in_more_than_one_ring_count / sum_atom_in_ring_count * 100}%\")"
   ]
  },
  {
   "cell_type": "code",
   "execution_count": null,
   "metadata": {},
   "outputs": [],
   "source": []
  }
 ],
 "metadata": {
  "kernelspec": {
   "display_name": "chemvae",
   "language": "python",
   "name": "chemvae"
  },
  "language_info": {
   "codemirror_mode": {
    "name": "ipython",
    "version": 3
   },
   "file_extension": ".py",
   "mimetype": "text/x-python",
   "name": "python",
   "nbconvert_exporter": "python",
   "pygments_lexer": "ipython3",
   "version": "3.6.10"
  }
 },
 "nbformat": 4,
 "nbformat_minor": 4
}
