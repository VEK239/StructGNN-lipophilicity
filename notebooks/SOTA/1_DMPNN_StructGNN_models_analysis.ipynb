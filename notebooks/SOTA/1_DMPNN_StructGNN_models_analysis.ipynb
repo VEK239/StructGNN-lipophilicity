{
 "cells": [
  {
   "cell_type": "code",
   "execution_count": 4,
   "metadata": {},
   "outputs": [],
   "source": [
    "import pandas as pd\n",
    "import numpy as np\n",
    "import seaborn as sns\n",
    "import torch\n",
    "from scipy import stats\n",
    "from torch.nn.utils.rnn import pad_sequence\n",
    "from sklearn.neural_network import MLPRegressor\n",
    "from rdkit import Chem, DataStructs\n",
    "from rdkit.Chem import AllChem\n",
    "from sklearn.metrics import mean_squared_error, r2_score\n",
    "import time\n",
    "import os"
   ]
  },
  {
   "cell_type": "code",
   "execution_count": null,
   "metadata": {},
   "outputs": [],
   "source": [
    "def create_statistics(vals):\n",
    "    values = vals.copy()\n",
    "    mols = [Chem.MolFromSmiles(x) for x in values[SMILES_COLUMN]]\n",
    "    \n",
    "    atom_count = [mol.GetNumAtoms() for mol in mols]\n",
    "    values['atom_count'] = pd.Series(atom_count)\n",
    "    \n",
    "    values['ring_count'] = pd.Series([mol.GetRingInfo().NumRings() for mol in mols])\n",
    "    \n",
    "    mol_atoms = [mol.GetAtoms() for mol in mols]\n",
    "    non_simple_atom_count = [sum((num.GetAtomicNum() not in [1, 6, 8, 7]) for num in m_atoms) for m_atoms in mol_atoms]\n",
    "    values['non_organogens_count'] = pd.Series(non_simple_atom_count)\n",
    "    \n",
    "    values['non_organogens_percent'] = values.non_organogens_count / values.atom_count *100\n",
    "    \n",
    "    benzene_smiles = 'C1=CC=CC=C1'\n",
    "    pattern = Chem.MolFromSmiles(benzene_smiles)\n",
    "    values['aromatic_count'] = pd.Series([len(mol.GetSubstructMatches(pattern)) for mol in mols])\n",
    "    \n",
    "    values['aromatic_rings_percent'] = values.aromatic_count / values.ring_count *100\n",
    "    values['aromatic_rings_percent'] = values['aromatic_rings_percent'].fillna(0)\n",
    "    \n",
    "    values['bond_count'] =  [len(mol.GetBonds()) for mol in mols]\n",
    "    values['aromatic_bond_count'] = [sum(bond.GetIsAromatic() for bond in mol.GetBonds()) for mol in mols]\n",
    "    values['aromatic_bond_percent'] = values.aromatic_bond_count / values.bond_count * 100\n",
    "    \n",
    "    values_list = [pd.Series(Chem.CanonicalRankAtoms(mol, breakTies=False)).value_counts() for mol in mols]\n",
    "    values['is_symmetric'] =  [(len(values) - 1 <= len(values[values % 2 == 0])) or (len(values) - 1 <= len(values[(values % 2 == 1) & (values > 1)])) for values in values_list]\n",
    "    \n",
    "    return values"
   ]
  },
  {
   "cell_type": "code",
   "execution_count": 83,
   "metadata": {},
   "outputs": [],
   "source": [
    "\n",
    "FILENAME = \"test_predictions.csv\"\n",
    "\n",
    "SMILES_COLUMN = 'smiles'\n",
    "VALUE_COLUMN = 'logD'\n",
    "PRED_COLUMN = 'logD_pred'\n",
    "ERROR_COLUMN = 'Squared Error'\n",
    "\n",
    "FOLDS= 4\n",
    "\n",
    "N_VALUES = 200"
   ]
  },
  {
   "cell_type": "code",
   "execution_count": 84,
   "metadata": {},
   "outputs": [],
   "source": [
    "NUM_EXPS = [312, 313, 314]"
   ]
  },
  {
   "cell_type": "code",
   "execution_count": 91,
   "metadata": {},
   "outputs": [
    {
     "name": "stdout",
     "output_type": "stream",
     "text": [
      "Test RMSE Averaging over folds =  0.5473526435468319\n",
      "DMPNN\n",
      "['rdkit_wo_fragments_and_counts']\n",
      "All RMSE  [0.559065874061998, 0.5936375813367104, 0.6157155018611757, 0.5880178308429295]\n",
      "Test RMSE =  0.5891091970257034\n",
      "Closest Fold is  3\n",
      "Test symmetric RMSE = 0.8899902760617631\n",
      "Test symmetric R2-score is 0.41180522427449207\n",
      "Test not symmetric RMSE = 0.5843276374731529\n",
      "Test not symmetric R2-score is 0.7638897802779961\n",
      "\n",
      "===\n",
      "\n",
      "Test RMSE Averaging over folds =  0.5491276117437536\n",
      "StructGNN with ext valence\n",
      "['rdkit_wo_fragments_and_counts']\n",
      "All RMSE  [0.5716943797749734, 0.5931031939863507, 0.6113007322812698, 0.5890512868387149]\n",
      "Test RMSE =  0.5912873982203272\n",
      "Closest Fold is  1\n",
      "Test symmetric RMSE = 1.291685362463894\n",
      "Test symmetric R2-score is -0.23897948632650357\n",
      "Test not symmetric RMSE = 0.5822445812664928\n",
      "Test not symmetric R2-score is 0.7655701875320199\n",
      "\n",
      "===\n",
      "\n",
      "Test RMSE Averaging over folds =  0.5638603399915347\n",
      "DMPNN\n",
      "['rdkit_2d_normalized_best']\n",
      "All RMSE  [0.5940811975214155, 0.6139094980469858, 0.6039016606180876, 0.5931070617735598]\n",
      "Test RMSE =  0.6012498544900121\n",
      "Closest Fold is  2\n",
      "Test symmetric RMSE = 0.9124229470452017\n",
      "Test symmetric R2-score is 0.3817800185935414\n",
      "Test not symmetric RMSE = 0.6001355070528495\n",
      "Test not symmetric R2-score is 0.7509419551459316\n",
      "\n",
      "===\n",
      "\n"
     ]
    },
    {
     "data": {
      "text/html": [
       "<div>\n",
       "<style scoped>\n",
       "    .dataframe tbody tr th:only-of-type {\n",
       "        vertical-align: middle;\n",
       "    }\n",
       "\n",
       "    .dataframe tbody tr th {\n",
       "        vertical-align: top;\n",
       "    }\n",
       "\n",
       "    .dataframe thead th {\n",
       "        text-align: right;\n",
       "    }\n",
       "</style>\n",
       "<table border=\"1\" class=\"dataframe\">\n",
       "  <thead>\n",
       "    <tr style=\"text-align: right;\">\n",
       "      <th></th>\n",
       "      <th>Model</th>\n",
       "      <th>atom_count</th>\n",
       "      <th>ring_count</th>\n",
       "      <th>non_organogens_count</th>\n",
       "      <th>non_organogens_percent</th>\n",
       "      <th>aromatic_count</th>\n",
       "      <th>aromatic_rings_percent</th>\n",
       "      <th>bond_count</th>\n",
       "      <th>aromatic_bond_count</th>\n",
       "      <th>aromatic_bond_percent</th>\n",
       "      <th>is_symmetric</th>\n",
       "      <th>symmetric test RMSE</th>\n",
       "      <th>symmetric test R2</th>\n",
       "      <th>non-symmetric test RMSE</th>\n",
       "      <th>non-symmetric test R2</th>\n",
       "    </tr>\n",
       "  </thead>\n",
       "  <tbody>\n",
       "    <tr>\n",
       "      <th>0</th>\n",
       "      <td>DMPNN with rdkit wo fragments and counts</td>\n",
       "      <td>0.263256</td>\n",
       "      <td>0.514386</td>\n",
       "      <td>0.963104</td>\n",
       "      <td>0.685310</td>\n",
       "      <td>0.026405</td>\n",
       "      <td>0.066609</td>\n",
       "      <td>0.062353</td>\n",
       "      <td>0.580612</td>\n",
       "      <td>0.382044</td>\n",
       "      <td>0.177524</td>\n",
       "      <td>0.889990</td>\n",
       "      <td>0.411805</td>\n",
       "      <td>0.584328</td>\n",
       "      <td>0.763890</td>\n",
       "    </tr>\n",
       "    <tr>\n",
       "      <th>1</th>\n",
       "      <td>StructGNN with ext valence with rdkit wo fragm...</td>\n",
       "      <td>0.881610</td>\n",
       "      <td>0.235047</td>\n",
       "      <td>0.909388</td>\n",
       "      <td>0.905048</td>\n",
       "      <td>0.576215</td>\n",
       "      <td>0.424160</td>\n",
       "      <td>0.966854</td>\n",
       "      <td>0.404218</td>\n",
       "      <td>0.642269</td>\n",
       "      <td>0.024617</td>\n",
       "      <td>1.291685</td>\n",
       "      <td>-0.238979</td>\n",
       "      <td>0.582245</td>\n",
       "      <td>0.765570</td>\n",
       "    </tr>\n",
       "    <tr>\n",
       "      <th>2</th>\n",
       "      <td>DMPNN with rdkit 2d normalized best</td>\n",
       "      <td>0.801064</td>\n",
       "      <td>0.617603</td>\n",
       "      <td>0.249671</td>\n",
       "      <td>0.250586</td>\n",
       "      <td>0.067327</td>\n",
       "      <td>0.205758</td>\n",
       "      <td>0.606816</td>\n",
       "      <td>0.512975</td>\n",
       "      <td>0.354437</td>\n",
       "      <td>0.177524</td>\n",
       "      <td>0.912423</td>\n",
       "      <td>0.381780</td>\n",
       "      <td>0.600136</td>\n",
       "      <td>0.750942</td>\n",
       "    </tr>\n",
       "  </tbody>\n",
       "</table>\n",
       "</div>"
      ],
      "text/plain": [
       "                                               Model  atom_count  ring_count  \\\n",
       "0           DMPNN with rdkit wo fragments and counts    0.263256    0.514386   \n",
       "1  StructGNN with ext valence with rdkit wo fragm...    0.881610    0.235047   \n",
       "2                DMPNN with rdkit 2d normalized best    0.801064    0.617603   \n",
       "\n",
       "   non_organogens_count  non_organogens_percent  aromatic_count  \\\n",
       "0              0.963104                0.685310        0.026405   \n",
       "1              0.909388                0.905048        0.576215   \n",
       "2              0.249671                0.250586        0.067327   \n",
       "\n",
       "   aromatic_rings_percent  bond_count  aromatic_bond_count  \\\n",
       "0                0.066609    0.062353             0.580612   \n",
       "1                0.424160    0.966854             0.404218   \n",
       "2                0.205758    0.606816             0.512975   \n",
       "\n",
       "   aromatic_bond_percent  is_symmetric  symmetric test RMSE  \\\n",
       "0               0.382044      0.177524             0.889990   \n",
       "1               0.642269      0.024617             1.291685   \n",
       "2               0.354437      0.177524             0.912423   \n",
       "\n",
       "   symmetric test R2  non-symmetric test RMSE  non-symmetric test R2  \n",
       "0           0.411805                 0.584328               0.763890  \n",
       "1          -0.238979                 0.582245               0.765570  \n",
       "2           0.381780                 0.600136               0.750942  "
      ]
     },
     "execution_count": 91,
     "metadata": {},
     "output_type": "execute_result"
    }
   ],
   "source": [
    "kruskal_stistics = []\n",
    "for NUM_EXP in NUM_EXPS:\n",
    "    kruskal_stats = {}\n",
    "    DATA_PATH = \"../../data/raw/baselines/dmpnn/logs/exp_\"+str(NUM_EXP)+'/folds'\n",
    "    rmse = []\n",
    "    \n",
    "    preds = []\n",
    "\n",
    "    for FOLD in range(FOLDS):\n",
    "        test_prediction = pd.read_csv(os.path.join(DATA_PATH,'fold_'+str(FOLD), FILENAME))\n",
    "        preds.append(test_prediction[PRED_COLUMN].values)\n",
    "        smiles = test_prediction[SMILES_COLUMN]\n",
    "        values = test_prediction[VALUE_COLUMN]\n",
    "\n",
    "    test_prediction = pd.DataFrame(columns = [SMILES_COLUMN, PRED_COLUMN, VALUE_COLUMN])\n",
    "    test_prediction[SMILES_COLUMN] = smiles\n",
    "    test_prediction[VALUE_COLUMN] = values\n",
    "    test_prediction[PRED_COLUMN] = np.mean(np.array(preds), axis = 0)\n",
    "    print('Test RMSE Averaging over folds = ', mean_squared_error(test_prediction[VALUE_COLUMN], test_prediction[PRED_COLUMN])**0.5)    \n",
    "    for FOLD in range(FOLDS):\n",
    "        import json\n",
    "        with open(os.path.join(DATA_PATH,'fold_'+str(FOLD), 'args.json'), 'r') as f:\n",
    "            args = json.load(f)\n",
    "        test_prediction = pd.read_csv(os.path.join(DATA_PATH,'fold_'+str(FOLD), FILENAME))\n",
    "        \n",
    "        rmse.append(mean_squared_error(test_prediction[VALUE_COLUMN], test_prediction[PRED_COLUMN])**0.5)\n",
    "    if args['additional_encoder']:\n",
    "        kruskal_stats['Model'] = 'StructGNN with ext valence'\n",
    "        print('StructGNN with ext valence')\n",
    "    else:\n",
    "        kruskal_stats['Model'] = 'DMPNN'\n",
    "        print('DMPNN')\n",
    "    print(args['features_generator'])\n",
    "    kruskal_stats['Model'] += ' with '+' '.join(args['features_generator'][0].split('_'))\n",
    "    print('All RMSE ', rmse)\n",
    "    print('Test RMSE = ', np.mean(rmse))\n",
    "    FOLD = np.argmin(np.abs(np.array(rmse)-np.mean(rmse)))\n",
    "    print('Closest Fold is ', FOLD)\n",
    "    \n",
    "    \n",
    "    test_prediction = pd.read_csv(os.path.join(DATA_PATH,'fold_'+str(FOLD), FILENAME))\n",
    "    test_prediction[ERROR_COLUMN] = (test_prediction[VALUE_COLUMN] - test_prediction[PRED_COLUMN]) ** 2    \n",
    "    test_prediction_sorted = test_prediction.sort_values(by=[ERROR_COLUMN], ascending=False)    \n",
    "    \n",
    "    compare_data_with_stats = create_statistics(test_prediction_sorted)\n",
    "    \n",
    "    best_n_vals = compare_data_with_stats.iloc[-N_VALUES:]\n",
    "    worst_n_vals = compare_data_with_stats.iloc[:n_values]\n",
    "    \n",
    "    \n",
    "    for stat in compare_data_with_stats.columns:\n",
    "        if stat not in [SMILES_COLUMN, VALUE_COLUMN, PRED_COLUMN, ERROR_COLUMN]:\n",
    "            kruskal_stats[stat] = stats.kruskal(best_n_vals[stat], worst_n_vals[stat])[1]\n",
    "            \n",
    "    symmetric_rull = lambda values: (len(values) - 1 <= len(values[values % 2 == 0])) or (len(values) - 1 <= len(values[(values % 2 == 1) & (values > 1)]))\n",
    "    values_list = [pd.Series(Chem.CanonicalRankAtoms(Chem.MolFromSmiles(smiles), breakTies=False)).value_counts() for smiles in compare_data_with_stats[SMILES_COLUMN]]\n",
    "    symmetric_indices = [symmetric_rull(values) for values in values_list]\n",
    "    not_symmetric_indices = [not e for e in symmetric_indices]\n",
    "    \n",
    "    symmetric_y_predicted = compare_data_with_stats[PRED_COLUMN][symmetric_indices]\n",
    "    symmetric_y_expected = compare_data_with_stats[VALUE_COLUMN][symmetric_indices]    \n",
    "    not_symmetric_y_predicted = compare_data_with_stats[PRED_COLUMN][not_symmetric_indices]    \n",
    "    not_symmetric_y_expected = compare_data_with_stats[VALUE_COLUMN][not_symmetric_indices]   \n",
    "    \n",
    "    from sklearn.metrics import mean_squared_error    \n",
    "    \n",
    "    kruskal_stats['symmetric test RMSE'] =  mean_squared_error(symmetric_y_expected, symmetric_y_predicted, squared=False)\n",
    "    kruskal_stats['symmetric test R2'] =  r2_score(symmetric_y_expected, symmetric_y_predicted)\n",
    "    print(\"Test symmetric RMSE =\", mean_squared_error(symmetric_y_expected, symmetric_y_predicted, squared=False))\n",
    "    print(\"Test symmetric R2-score is {0}\".format(r2_score(symmetric_y_expected, symmetric_y_predicted)))\n",
    "    \n",
    "    kruskal_stats['non-symmetric test RMSE'] = mean_squared_error(not_symmetric_y_expected, not_symmetric_y_predicted, squared=False)\n",
    "    kruskal_stats['non-symmetric test R2'] = r2_score(not_symmetric_y_expected, not_symmetric_y_predicted)\n",
    "    print(\"Test not symmetric RMSE =\", mean_squared_error(not_symmetric_y_expected, not_symmetric_y_predicted, squared=False))\n",
    "    print(\"Test not symmetric R2-score is {0}\".format(r2_score(not_symmetric_y_expected, not_symmetric_y_predicted)))\n",
    "    \n",
    "    kruskal_stistics.append(kruskal_stats)\n",
    "    print()\n",
    "    print('===')\n",
    "    print()\n",
    "    \n",
    "kruskal_stistics = pd.DataFrame(kruskal_stistics)\n",
    "kruskal_stistics.head()"
   ]
  },
  {
   "cell_type": "code",
   "execution_count": 90,
   "metadata": {},
   "outputs": [
    {
     "data": {
      "text/plain": [
       "[{'Model': 'DMPNN with rdkit wo fragments and counts',\n",
       "  'atom_count': 0.26325609078261225,\n",
       "  'ring_count': 0.514385913559005,\n",
       "  'non_organogens_count': 0.9631044436330153,\n",
       "  'non_organogens_percent': 0.685310421489181,\n",
       "  'aromatic_count': 0.026405250375708903,\n",
       "  'aromatic_rings_percent': 0.06660943308346567,\n",
       "  'bond_count': 0.06235318100935161,\n",
       "  'aromatic_bond_count': 0.5806120270829529,\n",
       "  'aromatic_bond_percent': 0.3820436227708497,\n",
       "  'is_symmetric': 0.1775243657189498,\n",
       "  'symmetric test RMSE': 0.8899902760617631,\n",
       "  'symmetric test R2': 0.41180522427449207,\n",
       "  'non-symmetric test RMSE': 0.5843276374731529,\n",
       "  'non-symmetric test R2': 0.7638897802779961}]"
      ]
     },
     "execution_count": 90,
     "metadata": {},
     "output_type": "execute_result"
    }
   ],
   "source": [
    "kruskal_stistics"
   ]
  },
  {
   "cell_type": "markdown",
   "metadata": {},
   "source": [
    "# Draft"
   ]
  },
  {
   "cell_type": "markdown",
   "metadata": {},
   "source": [
    "# Get predictions"
   ]
  },
  {
   "cell_type": "code",
   "execution_count": null,
   "metadata": {},
   "outputs": [],
   "source": [
    "NUM_EXP = 312\n",
    "DATA_PATH = \"../../data/raw/baselines/dmpnn/logs/exp_\"+str(NUM_EXP)+'/folds'"
   ]
  },
  {
   "cell_type": "markdown",
   "metadata": {},
   "source": [
    "## Average ensemble of models"
   ]
  },
  {
   "cell_type": "code",
   "execution_count": 6,
   "metadata": {},
   "outputs": [],
   "source": [
    "preds = []\n",
    "\n",
    "for FOLD in range(FOLDS):\n",
    "    test_prediction = pd.read_csv(os.path.join(DATA_PATH,'fold_'+str(FOLD), FILENAME))\n",
    "    preds.append(test_prediction[PRED_COLUMN].values)\n",
    "    smiles = test_prediction[SMILES_COLUMN]\n",
    "    values = test_prediction[VALUE_COLUMN]\n",
    "    \n",
    "test_prediction = pd.DataFrame(columns = [SMILES_COLUMN, PRED_COLUMN, VALUE_COLUMN])\n",
    "test_prediction[SMILES_COLUMN] = smiles\n",
    "test_prediction[VALUE_COLUMN] = values\n",
    "test_prediction[PRED_COLUMN] = np.mean(np.array(preds), axis = 0)"
   ]
  },
  {
   "cell_type": "code",
   "execution_count": 7,
   "metadata": {},
   "outputs": [
    {
     "data": {
      "text/html": [
       "<div>\n",
       "<style scoped>\n",
       "    .dataframe tbody tr th:only-of-type {\n",
       "        vertical-align: middle;\n",
       "    }\n",
       "\n",
       "    .dataframe tbody tr th {\n",
       "        vertical-align: top;\n",
       "    }\n",
       "\n",
       "    .dataframe thead th {\n",
       "        text-align: right;\n",
       "    }\n",
       "</style>\n",
       "<table border=\"1\" class=\"dataframe\">\n",
       "  <thead>\n",
       "    <tr style=\"text-align: right;\">\n",
       "      <th></th>\n",
       "      <th>smiles</th>\n",
       "      <th>logD_pred</th>\n",
       "      <th>logD</th>\n",
       "    </tr>\n",
       "  </thead>\n",
       "  <tbody>\n",
       "    <tr>\n",
       "      <th>0</th>\n",
       "      <td>O=C(NC[C@@H](O)CN1CCC(Oc2ccc(Cl)c(Cl)c2)CC1)n1...</td>\n",
       "      <td>3.389678</td>\n",
       "      <td>4.46</td>\n",
       "    </tr>\n",
       "    <tr>\n",
       "      <th>1</th>\n",
       "      <td>OCC(O)CN1CCN(c2ccccc2)CC1</td>\n",
       "      <td>0.599824</td>\n",
       "      <td>0.40</td>\n",
       "    </tr>\n",
       "    <tr>\n",
       "      <th>2</th>\n",
       "      <td>Cc1ccc(OCC(=O)O)c(-n2nc3ccccc3n2)c1</td>\n",
       "      <td>-0.426052</td>\n",
       "      <td>-0.84</td>\n",
       "    </tr>\n",
       "    <tr>\n",
       "      <th>3</th>\n",
       "      <td>O=c1cc(OCc2ccccc2)ccn1-c1ccc2c(cnn2CCN2CCCC2)c1</td>\n",
       "      <td>1.845766</td>\n",
       "      <td>2.00</td>\n",
       "    </tr>\n",
       "    <tr>\n",
       "      <th>4</th>\n",
       "      <td>N#C[C@@H]1CCCN1C(=O)CNC12CC3CC(CC(O)(C3)C1)C2</td>\n",
       "      <td>0.613210</td>\n",
       "      <td>-0.48</td>\n",
       "    </tr>\n",
       "  </tbody>\n",
       "</table>\n",
       "</div>"
      ],
      "text/plain": [
       "                                              smiles  logD_pred  logD\n",
       "0  O=C(NC[C@@H](O)CN1CCC(Oc2ccc(Cl)c(Cl)c2)CC1)n1...   3.389678  4.46\n",
       "1                          OCC(O)CN1CCN(c2ccccc2)CC1   0.599824  0.40\n",
       "2                Cc1ccc(OCC(=O)O)c(-n2nc3ccccc3n2)c1  -0.426052 -0.84\n",
       "3    O=c1cc(OCc2ccccc2)ccn1-c1ccc2c(cnn2CCN2CCCC2)c1   1.845766  2.00\n",
       "4      N#C[C@@H]1CCCN1C(=O)CNC12CC3CC(CC(O)(C3)C1)C2   0.613210 -0.48"
      ]
     },
     "execution_count": 7,
     "metadata": {},
     "output_type": "execute_result"
    }
   ],
   "source": [
    "test_prediction.head()"
   ]
  },
  {
   "cell_type": "code",
   "execution_count": 8,
   "metadata": {},
   "outputs": [
    {
     "name": "stdout",
     "output_type": "stream",
     "text": [
      "Test RMSE =  0.5473526435468319\n"
     ]
    }
   ],
   "source": [
    "print('Test RMSE = ', mean_squared_error(test_prediction[VALUE_COLUMN], test_prediction[PRED_COLUMN])**0.5)"
   ]
  },
  {
   "cell_type": "markdown",
   "metadata": {},
   "source": [
    "## Average scores"
   ]
  },
  {
   "cell_type": "code",
   "execution_count": 11,
   "metadata": {},
   "outputs": [
    {
     "name": "stdout",
     "output_type": "stream",
     "text": [
      "All RMSE  [0.559065874061998, 0.5936375813367104, 0.6157155018611757, 0.5880178308429295]\n",
      "Test RMSE =  0.5891091970257034\n"
     ]
    }
   ],
   "source": [
    "rmse = []\n",
    "for FOLD in range(FOLDS):\n",
    "    test_prediction = pd.read_csv(os.path.join(DATA_PATH,'fold_'+str(FOLD), FILENAME))\n",
    "    rmse.append(mean_squared_error(test_prediction[VALUE_COLUMN], test_prediction[PRED_COLUMN])**0.5)\n",
    "\n",
    "print('All RMSE ', rmse)\n",
    "print('Test RMSE = ', np.mean(rmse))"
   ]
  },
  {
   "cell_type": "markdown",
   "metadata": {},
   "source": [
    "## Calculate error"
   ]
  },
  {
   "cell_type": "code",
   "execution_count": 15,
   "metadata": {},
   "outputs": [],
   "source": [
    "FOLD = 3 # closest to mean value\n",
    "\n",
    "ERROR_COLUMN = 'Squared Error'"
   ]
  },
  {
   "cell_type": "code",
   "execution_count": 16,
   "metadata": {},
   "outputs": [],
   "source": [
    "test_prediction = pd.read_csv(os.path.join(DATA_PATH,'fold_'+str(FOLD), FILENAME))"
   ]
  },
  {
   "cell_type": "code",
   "execution_count": 18,
   "metadata": {},
   "outputs": [],
   "source": [
    "test_prediction[ERROR_COLUMN] = (test_prediction[VALUE_COLUMN] - test_prediction[PRED_COLUMN]) ** 2"
   ]
  },
  {
   "cell_type": "code",
   "execution_count": 28,
   "metadata": {},
   "outputs": [],
   "source": [
    "test_prediction_sorted = test_prediction.sort_values(by=[ERROR_COLUMN], ascending=False)"
   ]
  },
  {
   "cell_type": "code",
   "execution_count": 29,
   "metadata": {},
   "outputs": [],
   "source": [
    "def create_statistics(vals):\n",
    "    values = vals.copy()\n",
    "    mols = [Chem.MolFromSmiles(x) for x in values[SMILES_COLUMN]]\n",
    "    \n",
    "    atom_count = [mol.GetNumAtoms() for mol in mols]\n",
    "    values['atom_count'] = pd.Series(atom_count)\n",
    "    \n",
    "    values['ring_count'] = pd.Series([mol.GetRingInfo().NumRings() for mol in mols])\n",
    "    \n",
    "    mol_atoms = [mol.GetAtoms() for mol in mols]\n",
    "    non_simple_atom_count = [sum((num.GetAtomicNum() not in [1, 6, 8, 7]) for num in m_atoms) for m_atoms in mol_atoms]\n",
    "    values['non_organogens_count'] = pd.Series(non_simple_atom_count)\n",
    "    \n",
    "    values['non_organogens_percent'] = values.non_organogens_count / values.atom_count *100\n",
    "    \n",
    "    benzene_smiles = 'C1=CC=CC=C1'\n",
    "    pattern = Chem.MolFromSmiles(benzene_smiles)\n",
    "    values['aromatic_count'] = pd.Series([len(mol.GetSubstructMatches(pattern)) for mol in mols])\n",
    "    \n",
    "    values['aromatic_rings_percent'] = values.aromatic_count / values.ring_count *100\n",
    "    values['aromatic_rings_percent'] = values['aromatic_rings_percent'].fillna(0)\n",
    "    \n",
    "    values['bond_count'] =  [len(mol.GetBonds()) for mol in mols]\n",
    "    values['aromatic_bond_count'] = [sum(bond.GetIsAromatic() for bond in mol.GetBonds()) for mol in mols]\n",
    "    values['aromatic_bond_percent'] = values.aromatic_bond_count / values.bond_count * 100\n",
    "    \n",
    "    values_list = [pd.Series(Chem.CanonicalRankAtoms(mol, breakTies=False)).value_counts() for mol in mols]\n",
    "    values['is_symmetric'] =  [(len(values) - 1 <= len(values[values % 2 == 0])) or (len(values) - 1 <= len(values[(values % 2 == 1) & (values > 1)])) for values in values_list]\n",
    "    \n",
    "    return values"
   ]
  },
  {
   "cell_type": "code",
   "execution_count": 30,
   "metadata": {},
   "outputs": [],
   "source": [
    "compare_data_with_stats = create_statistics(test_prediction_sorted)"
   ]
  },
  {
   "cell_type": "code",
   "execution_count": 32,
   "metadata": {},
   "outputs": [
    {
     "data": {
      "text/html": [
       "<div>\n",
       "<style scoped>\n",
       "    .dataframe tbody tr th:only-of-type {\n",
       "        vertical-align: middle;\n",
       "    }\n",
       "\n",
       "    .dataframe tbody tr th {\n",
       "        vertical-align: top;\n",
       "    }\n",
       "\n",
       "    .dataframe thead th {\n",
       "        text-align: right;\n",
       "    }\n",
       "</style>\n",
       "<table border=\"1\" class=\"dataframe\">\n",
       "  <thead>\n",
       "    <tr style=\"text-align: right;\">\n",
       "      <th></th>\n",
       "      <th>smiles</th>\n",
       "      <th>logD</th>\n",
       "      <th>logD_pred</th>\n",
       "      <th>Squared Error</th>\n",
       "      <th>atom_count</th>\n",
       "      <th>ring_count</th>\n",
       "      <th>non_organogens_count</th>\n",
       "      <th>non_organogens_percent</th>\n",
       "      <th>aromatic_count</th>\n",
       "      <th>aromatic_rings_percent</th>\n",
       "      <th>bond_count</th>\n",
       "      <th>aromatic_bond_count</th>\n",
       "      <th>aromatic_bond_percent</th>\n",
       "      <th>is_symmetric</th>\n",
       "    </tr>\n",
       "  </thead>\n",
       "  <tbody>\n",
       "    <tr>\n",
       "      <th>338</th>\n",
       "      <td>O=C(O)c1ccc2cccc(O)c2n1</td>\n",
       "      <td>3.30</td>\n",
       "      <td>-0.856671</td>\n",
       "      <td>17.277911</td>\n",
       "      <td>41</td>\n",
       "      <td>4</td>\n",
       "      <td>2</td>\n",
       "      <td>4.878049</td>\n",
       "      <td>3</td>\n",
       "      <td>75.000000</td>\n",
       "      <td>15</td>\n",
       "      <td>11</td>\n",
       "      <td>73.333333</td>\n",
       "      <td>False</td>\n",
       "    </tr>\n",
       "    <tr>\n",
       "      <th>297</th>\n",
       "      <td>O=Cc1ccccc1B(O)O</td>\n",
       "      <td>0.83</td>\n",
       "      <td>-2.789887</td>\n",
       "      <td>13.103584</td>\n",
       "      <td>17</td>\n",
       "      <td>3</td>\n",
       "      <td>0</td>\n",
       "      <td>0.000000</td>\n",
       "      <td>2</td>\n",
       "      <td>66.666667</td>\n",
       "      <td>11</td>\n",
       "      <td>6</td>\n",
       "      <td>54.545455</td>\n",
       "      <td>False</td>\n",
       "    </tr>\n",
       "    <tr>\n",
       "      <th>296</th>\n",
       "      <td>CCCCc1c(O)n(-c2ccccc2)n(-c2ccccc2)c1=O</td>\n",
       "      <td>0.45</td>\n",
       "      <td>2.912228</td>\n",
       "      <td>6.062566</td>\n",
       "      <td>32</td>\n",
       "      <td>2</td>\n",
       "      <td>4</td>\n",
       "      <td>12.500000</td>\n",
       "      <td>1</td>\n",
       "      <td>50.000000</td>\n",
       "      <td>25</td>\n",
       "      <td>17</td>\n",
       "      <td>68.000000</td>\n",
       "      <td>False</td>\n",
       "    </tr>\n",
       "    <tr>\n",
       "      <th>517</th>\n",
       "      <td>C=CCCCCCCCCC(O)Nc1ccc(=O)[nH]c1O</td>\n",
       "      <td>2.64</td>\n",
       "      <td>0.205992</td>\n",
       "      <td>5.924396</td>\n",
       "      <td>32</td>\n",
       "      <td>3</td>\n",
       "      <td>1</td>\n",
       "      <td>3.125000</td>\n",
       "      <td>2</td>\n",
       "      <td>66.666667</td>\n",
       "      <td>21</td>\n",
       "      <td>6</td>\n",
       "      <td>28.571429</td>\n",
       "      <td>False</td>\n",
       "    </tr>\n",
       "    <tr>\n",
       "      <th>267</th>\n",
       "      <td>Cc1c[nH]c(=Cc2c(O)[nH]c3ccccc23)c1=CCC(=O)O</td>\n",
       "      <td>1.20</td>\n",
       "      <td>-0.973261</td>\n",
       "      <td>4.723065</td>\n",
       "      <td>32</td>\n",
       "      <td>4</td>\n",
       "      <td>0</td>\n",
       "      <td>0.000000</td>\n",
       "      <td>1</td>\n",
       "      <td>25.000000</td>\n",
       "      <td>24</td>\n",
       "      <td>15</td>\n",
       "      <td>62.500000</td>\n",
       "      <td>False</td>\n",
       "    </tr>\n",
       "  </tbody>\n",
       "</table>\n",
       "</div>"
      ],
      "text/plain": [
       "                                          smiles  logD  logD_pred  \\\n",
       "338                      O=C(O)c1ccc2cccc(O)c2n1  3.30  -0.856671   \n",
       "297                             O=Cc1ccccc1B(O)O  0.83  -2.789887   \n",
       "296       CCCCc1c(O)n(-c2ccccc2)n(-c2ccccc2)c1=O  0.45   2.912228   \n",
       "517             C=CCCCCCCCCC(O)Nc1ccc(=O)[nH]c1O  2.64   0.205992   \n",
       "267  Cc1c[nH]c(=Cc2c(O)[nH]c3ccccc23)c1=CCC(=O)O  1.20  -0.973261   \n",
       "\n",
       "     Squared Error  atom_count  ring_count  non_organogens_count  \\\n",
       "338      17.277911          41           4                     2   \n",
       "297      13.103584          17           3                     0   \n",
       "296       6.062566          32           2                     4   \n",
       "517       5.924396          32           3                     1   \n",
       "267       4.723065          32           4                     0   \n",
       "\n",
       "     non_organogens_percent  aromatic_count  aromatic_rings_percent  \\\n",
       "338                4.878049               3               75.000000   \n",
       "297                0.000000               2               66.666667   \n",
       "296               12.500000               1               50.000000   \n",
       "517                3.125000               2               66.666667   \n",
       "267                0.000000               1               25.000000   \n",
       "\n",
       "     bond_count  aromatic_bond_count  aromatic_bond_percent  is_symmetric  \n",
       "338          15                   11              73.333333         False  \n",
       "297          11                    6              54.545455         False  \n",
       "296          25                   17              68.000000         False  \n",
       "517          21                    6              28.571429         False  \n",
       "267          24                   15              62.500000         False  "
      ]
     },
     "execution_count": 32,
     "metadata": {},
     "output_type": "execute_result"
    }
   ],
   "source": [
    "compare_data_with_stats.head()"
   ]
  },
  {
   "cell_type": "markdown",
   "metadata": {},
   "source": [
    "# Get best and worst predictions"
   ]
  },
  {
   "cell_type": "code",
   "execution_count": 33,
   "metadata": {},
   "outputs": [],
   "source": [
    "n_values = 200"
   ]
  },
  {
   "cell_type": "code",
   "execution_count": 39,
   "metadata": {},
   "outputs": [],
   "source": [
    "best_n_vals = compare_data_with_stats.iloc[-n_values:]"
   ]
  },
  {
   "cell_type": "code",
   "execution_count": 42,
   "metadata": {},
   "outputs": [],
   "source": [
    "worst_n_vals = compare_data_with_stats.iloc[:n_values]"
   ]
  },
  {
   "cell_type": "markdown",
   "metadata": {},
   "source": [
    "# Get Kruskal Stats"
   ]
  },
  {
   "cell_type": "code",
   "execution_count": 43,
   "metadata": {},
   "outputs": [
    {
     "name": "stdout",
     "output_type": "stream",
     "text": [
      "KruskalResult(statistic=1.2515528903986406, pvalue=0.26325609078261225)\n"
     ]
    }
   ],
   "source": [
    "print(stats.kruskal(best_n_vals.atom_count, worst_n_vals.atom_count))"
   ]
  },
  {
   "cell_type": "code",
   "execution_count": 44,
   "metadata": {},
   "outputs": [
    {
     "data": {
      "text/plain": [
       "<AxesSubplot:xlabel='atom_count'>"
      ]
     },
     "execution_count": 44,
     "metadata": {},
     "output_type": "execute_result"
    },
    {
     "data": {
      "image/png": "[encoded data removed]",
      "text/plain": [
       "<Figure size 432x288 with 1 Axes>"
      ]
     },
     "metadata": {
      "needs_background": "light"
     },
     "output_type": "display_data"
    }
   ],
   "source": [
    "sns.distplot(best_n_vals.atom_count, color='g')\n",
    "sns.distplot(worst_n_vals.atom_count, color='r')"
   ]
  },
  {
   "cell_type": "code",
   "execution_count": 45,
   "metadata": {},
   "outputs": [
    {
     "name": "stdout",
     "output_type": "stream",
     "text": [
      "KruskalResult(statistic=0.4251348446895487, pvalue=0.514385913559005)\n"
     ]
    }
   ],
   "source": [
    "print(stats.kruskal(best_n_vals.ring_count, worst_n_vals.ring_count))"
   ]
  },
  {
   "cell_type": "code",
   "execution_count": 46,
   "metadata": {},
   "outputs": [
    {
     "data": {
      "text/plain": [
       "<AxesSubplot:xlabel='ring_count'>"
      ]
     },
     "execution_count": 46,
     "metadata": {},
     "output_type": "execute_result"
    },
    {
     "data": {
      "image/png": "[encoded data removed]",
      "text/plain": [
       "<Figure size 432x288 with 1 Axes>"
      ]
     },
     "metadata": {
      "needs_background": "light"
     },
     "output_type": "display_data"
    }
   ],
   "source": [
    "sns.distplot(best_n_vals.ring_count, color='g')\n",
    "sns.distplot(worst_n_vals.ring_count, color='r')"
   ]
  },
  {
   "cell_type": "code",
   "execution_count": 47,
   "metadata": {},
   "outputs": [
    {
     "name": "stdout",
     "output_type": "stream",
     "text": [
      "KruskalResult(statistic=0.002139822408633849, pvalue=0.9631044436330153)\n"
     ]
    }
   ],
   "source": [
    "print(stats.kruskal(best_n_vals.non_organogens_count, worst_n_vals.non_organogens_count))"
   ]
  },
  {
   "cell_type": "code",
   "execution_count": 48,
   "metadata": {},
   "outputs": [
    {
     "data": {
      "text/plain": [
       "<AxesSubplot:xlabel='non_organogens_count'>"
      ]
     },
     "execution_count": 48,
     "metadata": {},
     "output_type": "execute_result"
    },
    {
     "data": {
      "image/png": "[encoded data removed]",
      "text/plain": [
       "<Figure size 432x288 with 1 Axes>"
      ]
     },
     "metadata": {
      "needs_background": "light"
     },
     "output_type": "display_data"
    }
   ],
   "source": [
    "sns.distplot(best_n_vals.non_organogens_count, color='g')\n",
    "sns.distplot(worst_n_vals.non_organogens_count, color='r')"
   ]
  },
  {
   "cell_type": "code",
   "execution_count": 49,
   "metadata": {},
   "outputs": [
    {
     "name": "stdout",
     "output_type": "stream",
     "text": [
      "KruskalResult(statistic=0.16420918465347037, pvalue=0.685310421489181)\n"
     ]
    }
   ],
   "source": [
    "print(stats.kruskal(best_n_vals.non_organogens_percent, worst_n_vals.non_organogens_percent))"
   ]
  },
  {
   "cell_type": "code",
   "execution_count": 50,
   "metadata": {},
   "outputs": [
    {
     "data": {
      "text/plain": [
       "<AxesSubplot:xlabel='non_organogens_percent'>"
      ]
     },
     "execution_count": 50,
     "metadata": {},
     "output_type": "execute_result"
    },
    {
     "data": {
      "image/png": "[encoded data removed]",
      "text/plain": [
       "<Figure size 432x288 with 1 Axes>"
      ]
     },
     "metadata": {
      "needs_background": "light"
     },
     "output_type": "display_data"
    }
   ],
   "source": [
    "sns.distplot(best_n_vals.non_organogens_percent, color='g')\n",
    "sns.distplot(worst_n_vals.non_organogens_percent, color='r')"
   ]
  },
  {
   "cell_type": "code",
   "execution_count": 51,
   "metadata": {},
   "outputs": [
    {
     "name": "stdout",
     "output_type": "stream",
     "text": [
      "KruskalResult(statistic=4.92928437173399, pvalue=0.026405250375708903)\n"
     ]
    }
   ],
   "source": [
    "print(stats.kruskal(best_n_vals.aromatic_count, worst_n_vals.aromatic_count))"
   ]
  },
  {
   "cell_type": "code",
   "execution_count": 52,
   "metadata": {},
   "outputs": [
    {
     "data": {
      "text/plain": [
       "<AxesSubplot:xlabel='aromatic_count'>"
      ]
     },
     "execution_count": 52,
     "metadata": {},
     "output_type": "execute_result"
    },
    {
     "data": {
      "image/png": "[encoded data removed]",
      "text/plain": [
       "<Figure size 432x288 with 1 Axes>"
      ]
     },
     "metadata": {
      "needs_background": "light"
     },
     "output_type": "display_data"
    }
   ],
   "source": [
    "sns.distplot(best_n_vals.aromatic_count, color='g')\n",
    "sns.distplot(worst_n_vals.aromatic_count, color='r')"
   ]
  },
  {
   "cell_type": "code",
   "execution_count": 53,
   "metadata": {},
   "outputs": [
    {
     "name": "stdout",
     "output_type": "stream",
     "text": [
      "KruskalResult(statistic=3.364657506062991, pvalue=0.06660943308346567)\n"
     ]
    }
   ],
   "source": [
    "print(stats.kruskal(best_n_vals.aromatic_rings_percent, worst_n_vals.aromatic_rings_percent))"
   ]
  },
  {
   "cell_type": "code",
   "execution_count": 54,
   "metadata": {},
   "outputs": [
    {
     "data": {
      "text/plain": [
       "<AxesSubplot:xlabel='aromatic_rings_percent'>"
      ]
     },
     "execution_count": 54,
     "metadata": {},
     "output_type": "execute_result"
    },
    {
     "data": {
      "image/png": "[encoded data removed]",
      "text/plain": [
       "<Figure size 432x288 with 1 Axes>"
      ]
     },
     "metadata": {
      "needs_background": "light"
     },
     "output_type": "display_data"
    }
   ],
   "source": [
    "sns.distplot(best_n_vals.aromatic_rings_percent, color='g')\n",
    "sns.distplot(worst_n_vals.aromatic_rings_percent, color='r')"
   ]
  },
  {
   "cell_type": "code",
   "execution_count": 55,
   "metadata": {},
   "outputs": [
    {
     "name": "stdout",
     "output_type": "stream",
     "text": [
      "KruskalResult(statistic=0.7641155819018015, pvalue=0.3820436227708497)\n"
     ]
    }
   ],
   "source": [
    "print(stats.kruskal(best_n_vals.aromatic_bond_percent, worst_n_vals.aromatic_bond_percent))"
   ]
  },
  {
   "cell_type": "code",
   "execution_count": 56,
   "metadata": {},
   "outputs": [
    {
     "data": {
      "text/plain": [
       "<AxesSubplot:xlabel='aromatic_bond_percent'>"
      ]
     },
     "execution_count": 56,
     "metadata": {},
     "output_type": "execute_result"
    },
    {
     "data": {
      "image/png": "[encoded data removed]",
      "text/plain": [
       "<Figure size 432x288 with 1 Axes>"
      ]
     },
     "metadata": {
      "needs_background": "light"
     },
     "output_type": "display_data"
    }
   ],
   "source": [
    "sns.distplot(best_n_vals.aromatic_bond_percent, color='g')\n",
    "sns.distplot(worst_n_vals.aromatic_bond_percent, color='r')"
   ]
  },
  {
   "cell_type": "code",
   "execution_count": 57,
   "metadata": {},
   "outputs": [
    {
     "name": "stdout",
     "output_type": "stream",
     "text": [
      "KruskalResult(statistic=0.3052462596453758, pvalue=0.5806120270829529)\n"
     ]
    }
   ],
   "source": [
    "print(stats.kruskal(best_n_vals.aromatic_bond_count, worst_n_vals.aromatic_bond_count))"
   ]
  },
  {
   "cell_type": "code",
   "execution_count": 58,
   "metadata": {},
   "outputs": [
    {
     "data": {
      "text/plain": [
       "<AxesSubplot:xlabel='aromatic_bond_count'>"
      ]
     },
     "execution_count": 58,
     "metadata": {},
     "output_type": "execute_result"
    },
    {
     "data": {
      "image/png": "[encoded data removed]",
      "text/plain": [
       "<Figure size 432x288 with 1 Axes>"
      ]
     },
     "metadata": {
      "needs_background": "light"
     },
     "output_type": "display_data"
    }
   ],
   "source": [
    "sns.distplot(best_n_vals.aromatic_bond_count, color='g')\n",
    "sns.distplot(worst_n_vals.aromatic_bond_count, color='r')"
   ]
  },
  {
   "cell_type": "markdown",
   "metadata": {},
   "source": [
    "# Symmetric metrics"
   ]
  },
  {
   "cell_type": "code",
   "execution_count": 60,
   "metadata": {},
   "outputs": [],
   "source": [
    "symmetric_rull = lambda values: (len(values) - 1 <= len(values[values % 2 == 0])) or (len(values) - 1 <= len(values[(values % 2 == 1) & (values > 1)]))"
   ]
  },
  {
   "cell_type": "code",
   "execution_count": 62,
   "metadata": {},
   "outputs": [],
   "source": [
    "values_list = [pd.Series(Chem.CanonicalRankAtoms(Chem.MolFromSmiles(smiles), breakTies=False)).value_counts() for smiles in compare_data_with_stats[SMILES_COLUMN]]\n",
    "symmetric_indices = [symmetric_rull(values) for values in values_list]\n",
    "not_symmetric_indices = [not e for e in symmetric_indices]"
   ]
  },
  {
   "cell_type": "code",
   "execution_count": 64,
   "metadata": {},
   "outputs": [],
   "source": [
    "symmetric_y_predicted = compare_data_with_stats[PRED_COLUMN][symmetric_indices]\n"
   ]
  },
  {
   "cell_type": "code",
   "execution_count": 65,
   "metadata": {},
   "outputs": [],
   "source": [
    "symmetric_y_expected = compare_data_with_stats[VALUE_COLUMN][symmetric_indices]"
   ]
  },
  {
   "cell_type": "code",
   "execution_count": 67,
   "metadata": {},
   "outputs": [],
   "source": [
    "not_symmetric_y_predicted = compare_data_with_stats[PRED_COLUMN][not_symmetric_indices]"
   ]
  },
  {
   "cell_type": "code",
   "execution_count": 68,
   "metadata": {},
   "outputs": [],
   "source": [
    "not_symmetric_y_expected = compare_data_with_stats[VALUE_COLUMN][not_symmetric_indices]"
   ]
  },
  {
   "cell_type": "code",
   "execution_count": 69,
   "metadata": {},
   "outputs": [],
   "source": [
    "from sklearn.metrics import mean_squared_error"
   ]
  },
  {
   "cell_type": "code",
   "execution_count": 70,
   "metadata": {},
   "outputs": [
    {
     "name": "stdout",
     "output_type": "stream",
     "text": [
      "Test symmetric RMSE = 0.8899902760617631\n",
      "Test symmetric R2-score is 0.41180522427449207\n"
     ]
    }
   ],
   "source": [
    "print(\"Test symmetric RMSE =\", mean_squared_error(symmetric_y_expected, symmetric_y_predicted, squared=False))\n",
    "print(\"Test symmetric R2-score is {0}\".format(r2_score(symmetric_y_expected, symmetric_y_predicted)))"
   ]
  },
  {
   "cell_type": "code",
   "execution_count": 71,
   "metadata": {},
   "outputs": [
    {
     "name": "stdout",
     "output_type": "stream",
     "text": [
      "Test not symmetric RMSE = 0.5843276374731529\n",
      "Test not symmetric R2-score is 0.7638897802779961\n"
     ]
    }
   ],
   "source": [
    "print(\"Test not symmetric RMSE =\", mean_squared_error(not_symmetric_y_expected, not_symmetric_y_predicted, squared=False))\n",
    "print(\"Test not symmetric R2-score is {0}\".format(r2_score(not_symmetric_y_expected, not_symmetric_y_predicted)))"
   ]
  },
  {
   "cell_type": "code",
   "execution_count": null,
   "metadata": {},
   "outputs": [],
   "source": []
  }
 ],
 "metadata": {
  "kernelspec": {
   "display_name": "Python 3",
   "language": "python",
   "name": "python3"
  },
  "language_info": {
   "codemirror_mode": {
    "name": "ipython",
    "version": 3
   },
   "file_extension": ".py",
   "mimetype": "text/x-python",
   "name": "python",
   "nbconvert_exporter": "python",
   "pygments_lexer": "ipython3",
   "version": "3.8.3"
  }
 },
 "nbformat": 4,
 "nbformat_minor": 4
}
