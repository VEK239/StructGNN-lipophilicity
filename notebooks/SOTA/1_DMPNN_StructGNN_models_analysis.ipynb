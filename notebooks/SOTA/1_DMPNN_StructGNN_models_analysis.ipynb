{
 "cells": [
  {
   "cell_type": "code",
   "execution_count": 4,
   "metadata": {},
   "outputs": [],
   "source": [
    "import pandas as pd\n",
    "import numpy as np\n",
    "import seaborn as sns\n",
    "import torch\n",
    "from scipy import stats\n",
    "from torch.nn.utils.rnn import pad_sequence\n",
    "from sklearn.neural_network import MLPRegressor\n",
    "from rdkit import Chem, DataStructs\n",
    "from rdkit.Chem import AllChem\n",
    "from sklearn.metrics import mean_squared_error, r2_score\n",
    "import time\n",
    "import os\n",
    "from tqdm import tqdm\n",
    "from scipy.stats import shapiro\n",
    "from scipy.stats import normaltest\n",
    "from scipy.stats import ttest_ind\n",
    "from scipy.stats import mannwhitneyu\n",
    "import seaborn as sns\n",
    "import matplotlib.pyplot as plt"
   ]
  },
  {
   "cell_type": "code",
   "execution_count": 5,
   "metadata": {},
   "outputs": [],
   "source": [
    "def create_statistics(vals):\n",
    "    values = vals.copy()\n",
    "    mols = [Chem.MolFromSmiles(x) for x in values[SMILES_COLUMN]]\n",
    "    \n",
    "    atom_count = [mol.GetNumAtoms() for mol in mols]\n",
    "    values['atom_count'] = pd.Series(atom_count)\n",
    "    \n",
    "    values['ring_count'] = pd.Series([mol.GetRingInfo().NumRings() for mol in mols])\n",
    "    \n",
    "    mol_atoms = [mol.GetAtoms() for mol in mols]\n",
    "    non_simple_atom_count = [sum((num.GetAtomicNum() not in [1, 6, 8, 7]) for num in m_atoms) for m_atoms in mol_atoms]\n",
    "    values['non_organogens_count'] = pd.Series(non_simple_atom_count)\n",
    "    \n",
    "    values['non_organogens_percent'] = values.non_organogens_count / values.atom_count *100\n",
    "    \n",
    "    benzene_smiles = 'C1=CC=CC=C1'\n",
    "    pattern = Chem.MolFromSmiles(benzene_smiles)\n",
    "    values['aromatic_count'] = pd.Series([len(mol.GetSubstructMatches(pattern)) for mol in mols])\n",
    "    \n",
    "    values['aromatic_rings_percent'] = values.aromatic_count / values.ring_count *100\n",
    "    values['aromatic_rings_percent'] = values['aromatic_rings_percent'].fillna(0)\n",
    "    \n",
    "    values['bond_count'] =  [len(mol.GetBonds()) for mol in mols]\n",
    "    values['aromatic_bond_count'] = [sum(bond.GetIsAromatic() for bond in mol.GetBonds()) for mol in mols]\n",
    "    values['aromatic_bond_percent'] = values.aromatic_bond_count / values.bond_count * 100\n",
    "    \n",
    "    values_list = [pd.Series(Chem.CanonicalRankAtoms(mol, breakTies=False)).value_counts() for mol in mols]\n",
    "    values['is_symmetric'] =  [(len(values) - 1 <= len(values[values % 2 == 0])) or (len(values) - 1 <= len(values[(values % 2 == 1) & (values > 1)])) for values in values_list]\n",
    "    \n",
    "    return values"
   ]
  },
  {
   "cell_type": "code",
   "execution_count": 6,
   "metadata": {},
   "outputs": [],
   "source": [
    "\n",
    "FILENAME = \"test_predictions.csv\"\n",
    "\n",
    "SMILES_COLUMN = 'smiles'\n",
    "ERROR_COLUMN = 'Squared Error'\n",
    "\n",
    "FOLDS= 5\n",
    "\n",
    "N_VALUES = 200"
   ]
  },
  {
   "cell_type": "markdown",
   "metadata": {},
   "source": [
    "# Calculate best and worst molecules statistics"
   ]
  },
  {
   "cell_type": "code",
   "execution_count": 7,
   "metadata": {},
   "outputs": [],
   "source": [
    "NUM_EXPS = [312, 313, 314, 315, 316, 317, 318, 319, 320, 321, 323, 324, 340, 341]\n",
    "# NUM_EXPS = [364, 365, 351, 352, 359, 368]"
   ]
  },
  {
   "cell_type": "code",
   "execution_count": 8,
   "metadata": {},
   "outputs": [],
   "source": [
    "NUM_EXPS = [312]\n",
    "FOLDS = 1"
   ]
  },
  {
   "cell_type": "code",
   "execution_count": 10,
   "metadata": {},
   "outputs": [
    {
     "name": "stderr",
     "output_type": "stream",
     "text": [
      "100%|██████████| 1/1 [00:18<00:00, 18.84s/it]"
     ]
    },
    {
     "name": "stdout",
     "output_type": "stream",
     "text": [
      "6\n",
      "619\n",
      "6\n",
      "312\n",
      "DMPNN with rdkit wo fragments and counts\n",
      "logD\n",
      "./data/3_final_data/split_data/logd_Lip_wo_averaging_test.csv\n",
      "\n",
      "logD_symmetric test RMSE  =  0.817 +/- 0.0\n",
      "logD_symmetric test R2  =  0.504 +/- 0.0\n",
      "logD_non-symmetric test RMSE  =  0.556 +/- 0.0\n",
      "logD_non-symmetric test R2  =  0.786 +/- 0.0\n",
      "logD_rmse  =  0.559 +/- 0.0\n",
      "logD_r2  =  0.784 +/- 0.0\n",
      "logD_atom_count  =  0.71 +/- 0.0\n",
      "logD_ring_count  =  0.886 +/- 0.0\n",
      "logD_non_organogens_count  =  0.008 +/- 0.0\n",
      "logD_non_organogens_percent  =  0.014 +/- 0.0\n",
      "logD_aromatic_count  =  0.966 +/- 0.0\n",
      "logD_aromatic_rings_percent  =  0.902 +/- 0.0\n",
      "logD_bond_count  =  0.403 +/- 0.0\n",
      "logD_aromatic_bond_count  =  0.65 +/- 0.0\n",
      "logD_aromatic_bond_percent  =  0.627 +/- 0.0\n",
      "logD_is_symmetric  =  0.1 +/- 0.0\n",
      "\n",
      "===\n",
      "\n"
     ]
    },
    {
     "name": "stderr",
     "output_type": "stream",
     "text": [
      "\n"
     ]
    },
    {
     "ename": "KeyError",
     "evalue": "\"['logP non-symmetric test R2', 'logP non-symmetric test RMSE', 'logP symmetric test RMSE', 'logP rmse', 'logP symmetric test R2', 'logP r2'] not in index\"",
     "output_type": "error",
     "traceback": [
      "\u001b[0;31m---------------------------------------------------------------------------\u001b[0m",
      "\u001b[0;31mKeyError\u001b[0m                                  Traceback (most recent call last)",
      "\u001b[0;32m<ipython-input-10-5eda71ce9aed>\u001b[0m in \u001b[0;36m<module>\u001b[0;34m\u001b[0m\n\u001b[1;32m    141\u001b[0m \u001b[0;32mfor\u001b[0m \u001b[0mcolumn\u001b[0m \u001b[0;32min\u001b[0m \u001b[0mvalues\u001b[0m\u001b[0;34m.\u001b[0m\u001b[0mkeys\u001b[0m\u001b[0;34m(\u001b[0m\u001b[0;34m)\u001b[0m\u001b[0;34m:\u001b[0m\u001b[0;34m\u001b[0m\u001b[0;34m\u001b[0m\u001b[0m\n\u001b[1;32m    142\u001b[0m     \u001b[0mstats_markdown_table\u001b[0m\u001b[0;34m[\u001b[0m\u001b[0mcolumn\u001b[0m\u001b[0;34m]\u001b[0m \u001b[0;34m=\u001b[0m \u001b[0mvalues\u001b[0m\u001b[0;34m[\u001b[0m\u001b[0mcolumn\u001b[0m\u001b[0;34m]\u001b[0m\u001b[0;34m\u001b[0m\u001b[0;34m\u001b[0m\u001b[0m\n\u001b[0;32m--> 143\u001b[0;31m stats_markdown_table = stats_markdown_table[['Model',\n\u001b[0m\u001b[1;32m    144\u001b[0m  \u001b[0;34m'Num_exp'\u001b[0m\u001b[0;34m,\u001b[0m\u001b[0;34m\u001b[0m\u001b[0;34m\u001b[0m\u001b[0m\n\u001b[1;32m    145\u001b[0m  \u001b[0;34m'Data'\u001b[0m\u001b[0;34m,\u001b[0m\u001b[0;34m\u001b[0m\u001b[0;34m\u001b[0m\u001b[0m\n",
      "\u001b[0;32m~/anaconda3/envs/chemprop/lib/python3.8/site-packages/pandas/core/frame.py\u001b[0m in \u001b[0;36m__getitem__\u001b[0;34m(self, key)\u001b[0m\n\u001b[1;32m   2804\u001b[0m             \u001b[0;32mif\u001b[0m \u001b[0mis_iterator\u001b[0m\u001b[0;34m(\u001b[0m\u001b[0mkey\u001b[0m\u001b[0;34m)\u001b[0m\u001b[0;34m:\u001b[0m\u001b[0;34m\u001b[0m\u001b[0;34m\u001b[0m\u001b[0m\n\u001b[1;32m   2805\u001b[0m                 \u001b[0mkey\u001b[0m \u001b[0;34m=\u001b[0m \u001b[0mlist\u001b[0m\u001b[0;34m(\u001b[0m\u001b[0mkey\u001b[0m\u001b[0;34m)\u001b[0m\u001b[0;34m\u001b[0m\u001b[0;34m\u001b[0m\u001b[0m\n\u001b[0;32m-> 2806\u001b[0;31m             \u001b[0mindexer\u001b[0m \u001b[0;34m=\u001b[0m \u001b[0mself\u001b[0m\u001b[0;34m.\u001b[0m\u001b[0mloc\u001b[0m\u001b[0;34m.\u001b[0m\u001b[0m_get_listlike_indexer\u001b[0m\u001b[0;34m(\u001b[0m\u001b[0mkey\u001b[0m\u001b[0;34m,\u001b[0m \u001b[0maxis\u001b[0m\u001b[0;34m=\u001b[0m\u001b[0;36m1\u001b[0m\u001b[0;34m,\u001b[0m \u001b[0mraise_missing\u001b[0m\u001b[0;34m=\u001b[0m\u001b[0;32mTrue\u001b[0m\u001b[0;34m)\u001b[0m\u001b[0;34m[\u001b[0m\u001b[0;36m1\u001b[0m\u001b[0;34m]\u001b[0m\u001b[0;34m\u001b[0m\u001b[0;34m\u001b[0m\u001b[0m\n\u001b[0m\u001b[1;32m   2807\u001b[0m \u001b[0;34m\u001b[0m\u001b[0m\n\u001b[1;32m   2808\u001b[0m         \u001b[0;31m# take() does not accept boolean indexers\u001b[0m\u001b[0;34m\u001b[0m\u001b[0;34m\u001b[0m\u001b[0;34m\u001b[0m\u001b[0m\n",
      "\u001b[0;32m~/anaconda3/envs/chemprop/lib/python3.8/site-packages/pandas/core/indexing.py\u001b[0m in \u001b[0;36m_get_listlike_indexer\u001b[0;34m(self, key, axis, raise_missing)\u001b[0m\n\u001b[1;32m   1550\u001b[0m             \u001b[0mkeyarr\u001b[0m\u001b[0;34m,\u001b[0m \u001b[0mindexer\u001b[0m\u001b[0;34m,\u001b[0m \u001b[0mnew_indexer\u001b[0m \u001b[0;34m=\u001b[0m \u001b[0max\u001b[0m\u001b[0;34m.\u001b[0m\u001b[0m_reindex_non_unique\u001b[0m\u001b[0;34m(\u001b[0m\u001b[0mkeyarr\u001b[0m\u001b[0;34m)\u001b[0m\u001b[0;34m\u001b[0m\u001b[0;34m\u001b[0m\u001b[0m\n\u001b[1;32m   1551\u001b[0m \u001b[0;34m\u001b[0m\u001b[0m\n\u001b[0;32m-> 1552\u001b[0;31m         self._validate_read_indexer(\n\u001b[0m\u001b[1;32m   1553\u001b[0m             \u001b[0mkeyarr\u001b[0m\u001b[0;34m,\u001b[0m \u001b[0mindexer\u001b[0m\u001b[0;34m,\u001b[0m \u001b[0mo\u001b[0m\u001b[0;34m.\u001b[0m\u001b[0m_get_axis_number\u001b[0m\u001b[0;34m(\u001b[0m\u001b[0maxis\u001b[0m\u001b[0;34m)\u001b[0m\u001b[0;34m,\u001b[0m \u001b[0mraise_missing\u001b[0m\u001b[0;34m=\u001b[0m\u001b[0mraise_missing\u001b[0m\u001b[0;34m\u001b[0m\u001b[0;34m\u001b[0m\u001b[0m\n\u001b[1;32m   1554\u001b[0m         )\n",
      "\u001b[0;32m~/anaconda3/envs/chemprop/lib/python3.8/site-packages/pandas/core/indexing.py\u001b[0m in \u001b[0;36m_validate_read_indexer\u001b[0;34m(self, key, indexer, axis, raise_missing)\u001b[0m\n\u001b[1;32m   1644\u001b[0m             \u001b[0;32mif\u001b[0m \u001b[0;32mnot\u001b[0m \u001b[0;34m(\u001b[0m\u001b[0mself\u001b[0m\u001b[0;34m.\u001b[0m\u001b[0mname\u001b[0m \u001b[0;34m==\u001b[0m \u001b[0;34m\"loc\"\u001b[0m \u001b[0;32mand\u001b[0m \u001b[0;32mnot\u001b[0m \u001b[0mraise_missing\u001b[0m\u001b[0;34m)\u001b[0m\u001b[0;34m:\u001b[0m\u001b[0;34m\u001b[0m\u001b[0;34m\u001b[0m\u001b[0m\n\u001b[1;32m   1645\u001b[0m                 \u001b[0mnot_found\u001b[0m \u001b[0;34m=\u001b[0m \u001b[0mlist\u001b[0m\u001b[0;34m(\u001b[0m\u001b[0mset\u001b[0m\u001b[0;34m(\u001b[0m\u001b[0mkey\u001b[0m\u001b[0;34m)\u001b[0m \u001b[0;34m-\u001b[0m \u001b[0mset\u001b[0m\u001b[0;34m(\u001b[0m\u001b[0max\u001b[0m\u001b[0;34m)\u001b[0m\u001b[0;34m)\u001b[0m\u001b[0;34m\u001b[0m\u001b[0;34m\u001b[0m\u001b[0m\n\u001b[0;32m-> 1646\u001b[0;31m                 \u001b[0;32mraise\u001b[0m \u001b[0mKeyError\u001b[0m\u001b[0;34m(\u001b[0m\u001b[0;34mf\"{not_found} not in index\"\u001b[0m\u001b[0;34m)\u001b[0m\u001b[0;34m\u001b[0m\u001b[0;34m\u001b[0m\u001b[0m\n\u001b[0m\u001b[1;32m   1647\u001b[0m \u001b[0;34m\u001b[0m\u001b[0m\n\u001b[1;32m   1648\u001b[0m             \u001b[0;31m# we skip the warning on Categorical/Interval\u001b[0m\u001b[0;34m\u001b[0m\u001b[0;34m\u001b[0m\u001b[0;34m\u001b[0m\u001b[0m\n",
      "\u001b[0;31mKeyError\u001b[0m: \"['logP non-symmetric test R2', 'logP non-symmetric test RMSE', 'logP symmetric test RMSE', 'logP rmse', 'logP symmetric test R2', 'logP r2'] not in index\""
     ]
    }
   ],
   "source": [
    "kruskal_stistics = []\n",
    "for NUM_EXP in tqdm(NUM_EXPS):\n",
    "    kruskal_stats = {}\n",
    "    kruskal_stats_mean_std = {}\n",
    "    \n",
    "    DATA_PATH = \"../../data/raw/baselines/dmpnn/logs/exp_\"+str(NUM_EXP)+'/folds'\n",
    "    rmse = []\n",
    "    \n",
    "    preds = []\n",
    "    \n",
    "    for FOLD in range(FOLDS):\n",
    "        import json\n",
    "        with open(os.path.join(DATA_PATH,'fold_'+str(FOLD), 'args.json'), 'r') as f:\n",
    "            args = json.load(f)\n",
    "        VALUE_COLUMNS = args['target_columns']\n",
    "        PRED_COLUMNS = [value+'_pred' for value in args['target_columns']]\n",
    "        if args['additional_encoder']:\n",
    "            kruskal_stats_mean_std['Model'] = 'StructGNN with ext valence'\n",
    "        else:\n",
    "            kruskal_stats_mean_std['Model'] = 'DMPNN'\n",
    "        kruskal_stats_mean_std['Num_exp'] = NUM_EXP\n",
    "        kruskal_stats_mean_std['Data'] = ' '.join(args['target_columns'])\n",
    "        \n",
    "        kruskal_stats_mean_std['Dataset'] = args['separate_test_path']\n",
    "\n",
    "        kruskal_stats_mean_std['Model'] += ' with '+' '.join(args['features_generator'][0].split('_'))\n",
    "        \n",
    "        for VALUE_COLUMN in VALUE_COLUMNS:\n",
    "            if VALUE_COLUMN in kruskal_stats.keys():\n",
    "                pass\n",
    "            else:\n",
    "                kruskal_stats[VALUE_COLUMN] = {}\n",
    "                kruskal_stats[VALUE_COLUMN]['symmetric test RMSE'] = []\n",
    "                kruskal_stats[VALUE_COLUMN]['symmetric test R2'] = []\n",
    "                kruskal_stats[VALUE_COLUMN]['non-symmetric test RMSE'] = []\n",
    "                kruskal_stats[VALUE_COLUMN]['non-symmetric test R2'] = []\n",
    "                kruskal_stats[VALUE_COLUMN]['rmse']= []\n",
    "                kruskal_stats[VALUE_COLUMN]['r2'] = []\n",
    "            PRED_COLUMN = VALUE_COLUMN+'_pred'\n",
    "            test_prediction = pd.read_csv(os.path.join(DATA_PATH,'fold_'+str(FOLD), FILENAME))\n",
    "            kruskal_stats[VALUE_COLUMN]['rmse'].append(\\\n",
    "                                                       mean_squared_error(test_prediction[~test_prediction[VALUE_COLUMN].isna()][VALUE_COLUMN],\\\n",
    "                                                                          test_prediction[~test_prediction[VALUE_COLUMN].isna()][PRED_COLUMN])**0.5)\n",
    "            kruskal_stats[VALUE_COLUMN]['r2'].append(r2_score(\\\n",
    "                                                              test_prediction[~test_prediction[VALUE_COLUMN].isna()][VALUE_COLUMN],\\\n",
    "                                                              test_prediction[~test_prediction[VALUE_COLUMN].isna()][PRED_COLUMN]))\n",
    "            rmse.append(mean_squared_error(test_prediction[~test_prediction[VALUE_COLUMN].isna()][VALUE_COLUMN],\\\n",
    "                                           test_prediction[~test_prediction[VALUE_COLUMN].isna()][PRED_COLUMN])**0.5)\n",
    "            \n",
    "\n",
    "            test_prediction[ERROR_COLUMN] = (test_prediction[VALUE_COLUMN] - test_prediction[PRED_COLUMN]) ** 2    \n",
    "            test_prediction_sorted = test_prediction.sort_values(by=[ERROR_COLUMN], ascending=False)    \n",
    "\n",
    "            compare_data_with_stats = create_statistics(test_prediction_sorted)\n",
    "\n",
    "            best_n_vals = compare_data_with_stats.iloc[-N_VALUES:]\n",
    "            worst_n_vals = compare_data_with_stats.iloc[:N_VALUES]\n",
    "\n",
    "\n",
    "            for stat in compare_data_with_stats.columns:\n",
    "                if stat not in [SMILES_COLUMN, ERROR_COLUMN] and stat not in VALUE_COLUMNS and stat not in PRED_COLUMNS:\n",
    "                    if stat not in kruskal_stats[VALUE_COLUMN].keys():\n",
    "                        kruskal_stats[VALUE_COLUMN][stat] = []\n",
    "                    kruskal_stats[VALUE_COLUMN][stat].append(stats.kruskal(best_n_vals[stat], worst_n_vals[stat])[1])\n",
    "\n",
    "            symmetric_rull = lambda values: (len(values) - 1 <= len(values[values % 2 == 0])) or\\\n",
    "            (len(values) - 1 <= len(values[(values % 2 == 1) & (values > 1)]))\n",
    "            values_list = [pd.Series(Chem.CanonicalRankAtoms(Chem.MolFromSmiles(smiles), breakTies=False)).value_counts()\\\n",
    "                           for smiles in\\\n",
    "                           compare_data_with_stats[~compare_data_with_stats[VALUE_COLUMN].isna()][SMILES_COLUMN]]\n",
    "            symmetric_indices = [symmetric_rull(values) for values in values_list]\n",
    "            not_symmetric_indices = [not e for e in symmetric_indices]\n",
    "            \n",
    "\n",
    "            symmetric_y_predicted = compare_data_with_stats[~compare_data_with_stats[VALUE_COLUMN].isna()][PRED_COLUMN][symmetric_indices]\n",
    "            print(len(symmetric_y_predicted))\n",
    "            symmetric_y_expected = compare_data_with_stats[~compare_data_with_stats[VALUE_COLUMN].isna()][VALUE_COLUMN][symmetric_indices]    \n",
    "            not_symmetric_y_predicted = compare_data_with_stats[~compare_data_with_stats[VALUE_COLUMN].isna()][PRED_COLUMN][not_symmetric_indices]    \n",
    "            print(len(not_symmetric_y_predicted))\n",
    "            not_symmetric_y_expected = compare_data_with_stats[~compare_data_with_stats[VALUE_COLUMN].isna()][VALUE_COLUMN][not_symmetric_indices]   \n",
    "            print(len(symmetric_y_predicted))\n",
    "            from sklearn.metrics import mean_squared_error    \n",
    "\n",
    "            kruskal_stats[VALUE_COLUMN]['symmetric test RMSE'].append(mean_squared_error(symmetric_y_expected, symmetric_y_predicted, squared=False))\n",
    "            kruskal_stats[VALUE_COLUMN]['symmetric test R2'].append(r2_score(symmetric_y_expected, symmetric_y_predicted))\n",
    "\n",
    "\n",
    "            kruskal_stats[VALUE_COLUMN]['non-symmetric test RMSE'].append(mean_squared_error(not_symmetric_y_expected, not_symmetric_y_predicted, squared=False))\n",
    "            kruskal_stats[VALUE_COLUMN]['non-symmetric test R2'].append(r2_score(not_symmetric_y_expected, not_symmetric_y_predicted))\n",
    "        \n",
    "    \n",
    "    for VALUE in kruskal_stats.keys():\n",
    "        for stat in kruskal_stats[VALUE].keys():\n",
    "            kruskal_stats_mean_std[VALUE+'_'+stat+'_mean'] = np.mean(kruskal_stats[VALUE][stat])\n",
    "            kruskal_stats_mean_std[VALUE+'_'+stat+'_std'] = np.std(kruskal_stats[VALUE][stat])\n",
    "    \n",
    "    kruskal_stistics.append(kruskal_stats_mean_std)\n",
    "    \n",
    "kruskal_stistics = pd.DataFrame(kruskal_stistics)\n",
    "\n",
    "import math\n",
    "for i in range(len(kruskal_stistics)):\n",
    "    stats_model = kruskal_stistics.iloc[i]\n",
    "    print(stats_model['Num_exp'])\n",
    "    print(stats_model['Model'])\n",
    "    print(stats_model['Data'])\n",
    "    print(stats_model['Dataset'])\n",
    "    print()\n",
    "    output = {}\n",
    "    for stat in stats_model.keys():\n",
    "        if stat=='Model' or stat=='Data' or stat=='Dataset' or stat=='Num_exp':\n",
    "            continue\n",
    "        stat_name = '_'.join(stat.split('_')[:-1])\n",
    "        stat_suf = stat.split('_')[-1]\n",
    "        if stat_name not in output.keys():\n",
    "            output[stat_name] = {}\n",
    "        output[stat_name][stat_suf] = stats_model[stat]\n",
    "    for stat in output.keys():\n",
    "        if math.isnan(output[stat]['mean']):\n",
    "            continue\n",
    "        print(stat,' = ', round(output[stat]['mean'],3), '+/-', round(output[stat]['std'], 3))\n",
    "    print()\n",
    "    print('===')\n",
    "    print()\n",
    "    \n",
    "values = {}\n",
    "for column in list(kruskal_stistics):\n",
    "    if column not in ['Model','Num_exp','Data','Dataset']:\n",
    "        property_name = ' '.join(column.split('_')[:-1])\n",
    "        value_name = column.split('_')[-1]\n",
    "        value = kruskal_stistics[column].values\n",
    "        if property_name not in values.keys():\n",
    "            values[property_name] = {}\n",
    "            values[property_name][value_name] = value\n",
    "        else:\n",
    "            values[property_name][value_name] = value\n",
    "            values[property_name] = [str(round(mean,3))+'+/-'+str(round(std, 3)) for mean, std in zip(values[property_name]['mean'], values[property_name]['std'])]\n",
    "stats_markdown_table = pd.DataFrame(columns = ['Model','Num_exp','Data','Dataset'])\n",
    "for column in list(stats_markdown_table):\n",
    "    stats_markdown_table[column] = kruskal_stistics[column]\n",
    "for column in values.keys():\n",
    "    stats_markdown_table[column] = values[column]\n",
    "stats_markdown_table = stats_markdown_table[['Model',\n",
    " 'Num_exp',\n",
    " 'Data',\n",
    " 'logD symmetric test RMSE',\n",
    " 'logP symmetric test RMSE',\n",
    " 'logD non-symmetric test RMSE',\n",
    " 'logP non-symmetric test RMSE',\n",
    " 'logD symmetric test R2',\n",
    " 'logP symmetric test R2',\n",
    " 'logD non-symmetric test R2',\n",
    " 'logP non-symmetric test R2',\n",
    " 'logD rmse',\n",
    " 'logP rmse',\n",
    " 'logD r2',\n",
    " 'logP r2',\n",
    " 'Dataset']]\n",
    "RAW_PATH = '../../data/raw/baselines/dmpnn/'\n",
    "with open(os.path.join(RAW_PATH, 'worst_best_stats.txt'), 'w') as f:\n",
    "    f.write(stats_markdown_table.set_index('Num_exp').to_markdown())"
   ]
  },
  {
   "cell_type": "markdown",
   "metadata": {},
   "source": [
    "# Calculate p values for distribution of errors in models pairs"
   ]
  },
  {
   "cell_type": "markdown",
   "metadata": {},
   "source": [
    "## Cross-validation"
   ]
  },
  {
   "cell_type": "code",
   "execution_count": 18,
   "metadata": {},
   "outputs": [],
   "source": [
    "NUM_EXPS_PAIRS = [(313,314), (318, 320), (319, 321), (323, 316), (317, 324)]\n",
    "NUM_EXPS_PAIRS = [(364,351), (365, 352), (368, 359)]\n",
    "\n",
    "ALPHA = 0.05\n",
    "\n",
    "FILENAME = \"test_predictions.csv\"\n",
    "\n",
    "SMILES_COLUMN = 'smiles'\n",
    "ERROR_COLUMN = 'Squared Error'\n",
    "\n",
    "FOLDS= 5"
   ]
  },
  {
   "cell_type": "code",
   "execution_count": 19,
   "metadata": {},
   "outputs": [
    {
     "name": "stderr",
     "output_type": "stream",
     "text": [
      "\r",
      "  0%|          | 0/3 [00:00<?, ?it/s]"
     ]
    },
    {
     "name": "stdout",
     "output_type": "stream",
     "text": [
      "(364, 351) 0 logD 0.01808871824471062\n",
      "(364, 351) 1 logD 2.7803114954008834e-05\n",
      "(364, 351) 2 logD 0.0006187427103963282\n"
     ]
    },
    {
     "name": "stderr",
     "output_type": "stream",
     "text": [
      "\r",
      " 33%|███▎      | 1/3 [00:00<00:00,  2.36it/s]"
     ]
    },
    {
     "name": "stdout",
     "output_type": "stream",
     "text": [
      "(364, 351) 3 logD 0.0013019532608870533\n",
      "(364, 351) 4 logD 0.0029450194374380464\n",
      "{'logP': {'r2_1': [0.941122191214597, 0.9442736999185688, 0.9408102267512806, 0.9409145998167877, 0.9401212509429222], 'rmse_1': [0.4581845915842521, 0.4401262689319279, 0.4556057618793073, 0.45613379017145583, 0.44804799300373976], 'r2_2': [0.9430505645896587, 0.9471775834591782, 0.946466703017172, 0.9433816191935978, 0.943758195163512], 'rmse_2': [0.4506188678917673, 0.42850541886753213, 0.43328920123933046, 0.446509679101841, 0.4342279770844236], 'Shapiro_p_value_1': [0.0, 0.0, 0.0, 0.0, 0.0], 'Shapiro_p_value_2': [0.0, 0.0, 0.0, 0.0, 0.0], 'Normaltest_p_value_1': [0.0, 0.0, 0.0, 0.0, 0.0], 'Normaltest_p_value_2': [0.0, 0.0, 0.0, 0.0, 0.0], 'P_VALUE': [0.01808871824471062, 2.7803114954008834e-05, 0.0006187427103963282, 0.0013019532608870533, 0.0029450194374380464]}}\n",
      "(365, 352) 0 logP 0.005927958337251809\n",
      "(365, 352) 1 logP 0.0020534202351093988\n",
      "(365, 352) 2 logP 0.054379943703073585\n",
      "(365, 352) 3 logP 0.0018073346722005839\n"
     ]
    },
    {
     "name": "stderr",
     "output_type": "stream",
     "text": [
      "\r",
      " 67%|██████▋   | 2/3 [00:00<00:00,  2.36it/s]"
     ]
    },
    {
     "name": "stdout",
     "output_type": "stream",
     "text": [
      "(365, 352) 4 logP 9.548166077793713e-09\n",
      "{'logD': {'r2_1': [0.7655917740571355, 0.7471299419546564, 0.7662575156005789, 0.7664266057012239, 0.6963391199266191], 'rmse_1': [0.615328148320527, 0.5678071616146609, 0.5859279505214255, 0.5720409193497412, 0.6590524401564214], 'r2_2': [0.7883371944143902, 0.7639373253639632, 0.7813514454990793, 0.7921505395916009, 0.7910003269226356], 'rmse_2': [0.5847128424010577, 0.5486126576600118, 0.5666941025244719, 0.5396222651805367, 0.546762036651305], 'Shapiro_p_value_1': [0.0, 2.956739759725364e-43, 0.0, 4.624284932271896e-44, 1.2625699163566602e-41], 'Shapiro_p_value_2': [0.0, 5.605193857299268e-45, 0.0, 0.0, 0.0], 'Normaltest_p_value_1': [0.0, 8.698991543417297e-192, 4.48269827700513e-288, 2.767461812250492e-239, 2.9259467210394427e-185], 'Normaltest_p_value_2': [0.0, 1.9577102563845272e-223, 0.0, 0.0, 2.529019395243504e-265], 'P_VALUE': [0.005927958337251809, 0.0020534202351093988, 0.054379943703073585, 0.0018073346722005839, 9.548166077793713e-09]}}\n",
      "(368, 359) 0 logD 3.6507881089469865e-05\n",
      "(368, 359) 0 logD 0.144897591697994\n",
      "(368, 359) 1 logD 1.0338648428243248e-08\n",
      "(368, 359) 1 logD 0.01847356511617166\n",
      "(368, 359) 2 logD 0.004225779323275995\n",
      "(368, 359) 2 logD 0.018766852428492412\n",
      "(368, 359) 3 logD 4.14450494427621e-05\n",
      "(368, 359) 3 logD 0.09091584632266292\n"
     ]
    },
    {
     "name": "stderr",
     "output_type": "stream",
     "text": [
      "100%|██████████| 3/3 [00:01<00:00,  1.67it/s]"
     ]
    },
    {
     "name": "stdout",
     "output_type": "stream",
     "text": [
      "(368, 359) 4 logD 0.0004029398002384543\n",
      "(368, 359) 4 logD 0.001375052466071756\n",
      "{'logP': {'r2_1': [0.9384309719531319, 0.9404350465976113, 0.9424838479129801, 0.9406765754319546, 0.9362182740963904], 'rmse_1': [0.4778249451842706, 0.45487191188820714, 0.44409937461029897, 0.45062557009533216, 0.4652795915081412], 'r2_2': [0.9438983080924801, 0.9475205228552649, 0.947384227853952, 0.9486245799955522, 0.9428946152246988], 'rmse_2': [0.45611635938491296, 0.42696125539438823, 0.4247596203393485, 0.41935364028733596, 0.4402551056511463], 'Shapiro_p_value_1': [0.0, 0.0, 0.0, 0.0, 0.0], 'Shapiro_p_value_2': [0.0, 0.0, 0.0, 0.0, 0.0], 'Normaltest_p_value_1': [0.0, 0.0, 0.0, 0.0, 0.0], 'Normaltest_p_value_2': [0.0, 0.0, 0.0, 0.0, 0.0], 'P_VALUE': [3.6507881089469865e-05, 1.0338648428243248e-08, 0.004225779323275995, 4.14450494427621e-05, 0.0004029398002384543]}, 'logD': {'r2_1': [0.792778772981795, 0.7862295341862446, 0.7490672296101883, 0.746130549052165, 0.7390646843757329], 'rmse_1': [0.5441293495195382, 0.5476810613775562, 0.5926766232461672, 0.632839734012957, 0.6017959112457393], 'r2_2': [0.7985386326482459, 0.8025679810538651, 0.7825427560949799, 0.7848527295952898, 0.7873728021167802], 'rmse_2': [0.5365138280132222, 0.526335502299246, 0.5517292983882263, 0.5825811623755819, 0.5432405870445991], 'Shapiro_p_value_1': [0.0, 0.0, 0.0, 0.0, 0.0], 'Shapiro_p_value_2': [0.0, 0.0, 0.0, 0.0, 0.0], 'Normaltest_p_value_1': [7.408451990910833e-277, 2.63866124021857e-299, 3.2553797036855575e-247, 0.0, 2.5425202931343672e-282], 'Normaltest_p_value_2': [0.0, 0.0, 8.626356784804543e-255, 0.0, 4.856168489241715e-239], 'P_VALUE': [0.144897591697994, 0.01847356511617166, 0.018766852428492412, 0.09091584632266292, 0.001375052466071756]}}\n"
     ]
    },
    {
     "name": "stderr",
     "output_type": "stream",
     "text": [
      "\n"
     ]
    }
   ],
   "source": [
    "p_values = []\n",
    "for NUM_EXP_PAIR in tqdm(NUM_EXPS_PAIRS):\n",
    "    p_value = {} \n",
    "    p_value_mean_std = {}\n",
    "    \n",
    "    NUM_EXP_1, NUM_EXP_2 = NUM_EXP_PAIR\n",
    "    \n",
    "    DATA_PATH_1 = \"../../data/raw/baselines/dmpnn/logs/exp_\"+str(NUM_EXP_1)+'/folds'\n",
    "    DATA_PATH_2 = \"../../data/raw/baselines/dmpnn/logs/exp_\"+str(NUM_EXP_2)+'/folds'\n",
    "    rmse = []\n",
    "    \n",
    "    preds = []\n",
    "    \n",
    "    for FOLD in range(FOLDS):\n",
    "        import json\n",
    "        with open(os.path.join(DATA_PATH_1,'fold_'+str(FOLD), 'args.json'), 'r') as f:\n",
    "            args_1 = json.load(f)\n",
    "        with open(os.path.join(DATA_PATH_2,'fold_'+str(FOLD), 'args.json'), 'r') as f:\n",
    "            args_2 = json.load(f)\n",
    "        VALUE_COLUMNS = args_1['target_columns']\n",
    "        PRED_COLUMNS = [value+'_pred' for value in VALUE_COLUMNS]\n",
    "        if args_1['additional_encoder']:\n",
    "            p_value_mean_std['Model_1'] = 'StructGNN with ext valence'\n",
    "        else:\n",
    "            p_value_mean_std['Model_1'] = 'DMPNN'\n",
    "        if args_2['additional_encoder']:\n",
    "            p_value_mean_std['Model_2'] = 'StructGNN with ext valence'\n",
    "        else:\n",
    "            p_value_mean_std['Model_2'] = 'DMPNN'\n",
    "        p_value_mean_std['Num_exp_1'] = NUM_EXP_1\n",
    "        p_value_mean_std['Num_exp_2'] = NUM_EXP_2\n",
    "        p_value_mean_std['Data'] = ' '.join(args_1['target_columns'])\n",
    "        \n",
    "        p_value_mean_std['Dataset'] = args_1['separate_test_path']\n",
    "\n",
    "        p_value_mean_std['Model_1'] += ' with '+' '.join(args_1['features_generator'][0].split('_'))\n",
    "        p_value_mean_std['Model_2'] += ' with '+' '.join(args_2['features_generator'][0].split('_'))\n",
    "        \n",
    "        for VALUE_COLUMN in VALUE_COLUMNS:\n",
    "            if VALUE_COLUMN in p_value.keys():\n",
    "                pass\n",
    "            else:\n",
    "                p_value[VALUE_COLUMN] = {}\n",
    "                p_value[VALUE_COLUMN]['r2_1'] = []\n",
    "                p_value[VALUE_COLUMN]['rmse_1'] = []\n",
    "                p_value[VALUE_COLUMN]['r2_2'] = []\n",
    "                p_value[VALUE_COLUMN]['rmse_2'] = []\n",
    "                p_value[VALUE_COLUMN]['Shapiro_p_value_1'] = []\n",
    "                p_value[VALUE_COLUMN]['Shapiro_p_value_2'] = []\n",
    "                p_value[VALUE_COLUMN]['Normaltest_p_value_1'] = []\n",
    "                p_value[VALUE_COLUMN]['Normaltest_p_value_2'] = []\n",
    "                p_value[VALUE_COLUMN]['P_VALUE'] = []\n",
    "                \n",
    "            PRED_COLUMN = VALUE_COLUMN+'_pred'\n",
    "            test_prediction_1 = pd.read_csv(os.path.join(DATA_PATH_1,'fold_'+str(FOLD), FILENAME))\n",
    "            test_prediction_2 = pd.read_csv(os.path.join(DATA_PATH_2,'fold_'+str(FOLD), FILENAME))\n",
    "            \n",
    "            ERROR_COLUMN_1 = (test_prediction_1[~test_prediction_1[VALUE_COLUMN].isna()][VALUE_COLUMN].values\\\n",
    "                                               - test_prediction_1[~test_prediction_1[VALUE_COLUMN].isna()][PRED_COLUMN].values)**2\n",
    "            \n",
    "            ERROR_COLUMN_2 = (test_prediction_2[~test_prediction_2[VALUE_COLUMN].isna()][VALUE_COLUMN].values\\\n",
    "                                               - test_prediction_2[~test_prediction_2[VALUE_COLUMN].isna()][PRED_COLUMN].values)**2\n",
    "            \n",
    "            p_value[VALUE_COLUMN]['rmse_1'].append(mean_squared_error(test_prediction_1[~test_prediction_1[VALUE_COLUMN].isna()][VALUE_COLUMN],\\\n",
    "                                                                     test_prediction_1[~test_prediction_1[VALUE_COLUMN].isna()][PRED_COLUMN])**0.5)\n",
    "            \n",
    "            p_value[VALUE_COLUMN]['rmse_2'].append(mean_squared_error(test_prediction_2[~test_prediction_2[VALUE_COLUMN].isna()][VALUE_COLUMN],\\\n",
    "                                                                     test_prediction_2[~test_prediction_2[VALUE_COLUMN].isna()][PRED_COLUMN])**0.5)\n",
    "            \n",
    "            p_value[VALUE_COLUMN]['r2_1'].append(r2_score(test_prediction_1[~test_prediction_1[VALUE_COLUMN].isna()][VALUE_COLUMN],\\\n",
    "                                                                     test_prediction_1[~test_prediction_1[VALUE_COLUMN].isna()][PRED_COLUMN]))\n",
    "            \n",
    "            p_value[VALUE_COLUMN]['r2_2'].append(r2_score(test_prediction_2[~test_prediction_2[VALUE_COLUMN].isna()][VALUE_COLUMN],\\\n",
    "                                                                     test_prediction_2[~test_prediction_2[VALUE_COLUMN].isna()][PRED_COLUMN]))\n",
    "            \n",
    "            \n",
    "            stat, p = shapiro(ERROR_COLUMN_1)\n",
    "            p_value[VALUE_COLUMN]['Shapiro_p_value_1'].append(p)\n",
    "            stat, p = shapiro(ERROR_COLUMN_2)\n",
    "            p_value[VALUE_COLUMN]['Shapiro_p_value_2'].append(p)\n",
    "            \n",
    "            stat, p = normaltest(ERROR_COLUMN_1)\n",
    "            p_value[VALUE_COLUMN]['Normaltest_p_value_1'].append(p)\n",
    "            stat, p = normaltest(ERROR_COLUMN_2)\n",
    "            p_value[VALUE_COLUMN]['Normaltest_p_value_2'].append(p)\n",
    "            \n",
    "            if p_value[VALUE_COLUMN]['Shapiro_p_value_1'][-1]>ALPHA and \\\n",
    "            p_value[VALUE_COLUMN]['Shapiro_p_value_2'][-1]>ALPHA and \\\n",
    "            p_value[VALUE_COLUMN]['Normaltest_p_value_1'][-1]>ALPHA and \\\n",
    "            p_value[VALUE_COLUMN]['Normaltest_p_value_2'][-1]>ALPHA:\n",
    "                stat, p = ttest_ind(ERROR_COLUMN_1, ERROR_COLUMN_2)\n",
    "                p_value[VALUE_COLUMN]['P_VALUE'].append(p)\n",
    "            else:\n",
    "                if 'DMPNN' in p_value_mean_std['Model_1']:\n",
    "                    stat, p = mannwhitneyu(ERROR_COLUMN_1, ERROR_COLUMN_2, alternative = 'greater')\n",
    "                    p_value[VALUE_COLUMN]['P_VALUE'].append(p)\n",
    "                else:\n",
    "                    stat, p = mannwhitneyu(ERROR_COLUMN_1, ERROR_COLUMN_2, alternative = 'less')\n",
    "                    p_value[VALUE_COLUMN]['P_VALUE'].append(p)\n",
    "\n",
    "        \n",
    "    for VALUE in p_value.keys():\n",
    "        for stat in p_value[VALUE].keys():\n",
    "            p_value_mean_std[VALUE+'_'+stat+'_mean'] = np.mean(p_value[VALUE][stat])\n",
    "            p_value_mean_std[VALUE+'_'+stat+'_std'] = np.std(p_value[VALUE][stat])\n",
    "    \n",
    "    p_values.append(p_value_mean_std)\n",
    "    \n",
    "p_values = pd.DataFrame(p_values)\n",
    "\n",
    "values = {}\n",
    "for column in list(p_values):\n",
    "    if column not in ['Model_1','Num_exp_1','Model_2','Num_exp_2','Data','Dataset']:\n",
    "        property_name = ' '.join(column.split('_')[:-1])\n",
    "        value_name = column.split('_')[-1]\n",
    "        value = p_values[column].values\n",
    "        if property_name not in values.keys():\n",
    "            values[property_name] = {}\n",
    "            values[property_name][value_name] = value\n",
    "        else:\n",
    "            values[property_name][value_name] = value\n",
    "            values[property_name] = [str(round(mean,3))+'+/-'+str(round(std, 3)) for mean, std in zip(values[property_name]['mean'], values[property_name]['std'])]\n",
    "stats_markdown_table = pd.DataFrame(columns = ['Model_1',\n",
    " 'Model_2',\n",
    " 'Num_exp_1',\n",
    " 'Num_exp_2',\n",
    " 'Data',\n",
    " 'logP P VALUE',\n",
    " 'logD P VALUE',\n",
    " 'logP rmse 1',\n",
    " 'logP rmse 2',\n",
    " 'logP r2 1',\n",
    " 'logP r2 2',\n",
    " 'logD rmse 1',\n",
    " 'logD rmse 2',\n",
    " 'logD r2 1',\n",
    " 'logD r2 2',\n",
    " 'Dataset',\n",
    " 'logP Shapiro p value 1',\n",
    " 'logP Shapiro p value 2',\n",
    " 'logP Normaltest p value 1',\n",
    " 'logP Normaltest p value 2'\n",
    " 'logD Shapiro p value 1',\n",
    " 'logD Shapiro p value 2',\n",
    " 'logD Normaltest p value 1',\n",
    " 'logD Normaltest p value 2'])\n",
    "for column in p_values.keys():\n",
    "    stats_markdown_table[column] = p_values[column]\n",
    "for column in values.keys():\n",
    "    stats_markdown_table[column] = values[column]\n",
    "stats_markdown_table = stats_markdown_table[['Model_1',\n",
    " 'Model_2',\n",
    " 'Num_exp_1',\n",
    " 'Num_exp_2',\n",
    " 'Data',\n",
    " 'logP P VALUE',\n",
    " 'logD P VALUE',\n",
    " 'logP rmse 1',\n",
    " 'logP rmse 2',\n",
    " 'logP r2 1',\n",
    " 'logP r2 2',\n",
    " 'logD rmse 1',\n",
    " 'logD rmse 2',\n",
    " 'logD r2 1',\n",
    " 'logD r2 2',\n",
    " 'Dataset']]    \n",
    "RAW_PATH = '../../data/raw/baselines/dmpnn/'\n",
    "with open(os.path.join(RAW_PATH, 'DMPNN_StructDNN_p_value_comparison.txt'), 'w') as f:\n",
    "    f.write(stats_markdown_table.to_markdown())"
   ]
  },
  {
   "cell_type": "code",
   "execution_count": 20,
   "metadata": {},
   "outputs": [
    {
     "data": {
      "text/html": [
       "<div>\n",
       "<style scoped>\n",
       "    .dataframe tbody tr th:only-of-type {\n",
       "        vertical-align: middle;\n",
       "    }\n",
       "\n",
       "    .dataframe tbody tr th {\n",
       "        vertical-align: top;\n",
       "    }\n",
       "\n",
       "    .dataframe thead th {\n",
       "        text-align: right;\n",
       "    }\n",
       "</style>\n",
       "<table border=\"1\" class=\"dataframe\">\n",
       "  <thead>\n",
       "    <tr style=\"text-align: right;\">\n",
       "      <th></th>\n",
       "      <th>Model_1</th>\n",
       "      <th>Model_2</th>\n",
       "      <th>Num_exp_1</th>\n",
       "      <th>Num_exp_2</th>\n",
       "      <th>Data</th>\n",
       "      <th>logP P VALUE</th>\n",
       "      <th>logD P VALUE</th>\n",
       "      <th>logP rmse 1</th>\n",
       "      <th>logP rmse 2</th>\n",
       "      <th>logP r2 1</th>\n",
       "      <th>logP r2 2</th>\n",
       "      <th>logD rmse 1</th>\n",
       "      <th>logD rmse 2</th>\n",
       "      <th>logD r2 1</th>\n",
       "      <th>logD r2 2</th>\n",
       "      <th>Dataset</th>\n",
       "    </tr>\n",
       "  </thead>\n",
       "  <tbody>\n",
       "    <tr>\n",
       "      <th>0</th>\n",
       "      <td>DMPNN with rdkit 2d normalized wo MolLogP</td>\n",
       "      <td>StructGNN with ext valence with rdkit wo fragm...</td>\n",
       "      <td>364</td>\n",
       "      <td>351</td>\n",
       "      <td>logP</td>\n",
       "      <td>0.005+/-0.007</td>\n",
       "      <td>nan+/-nan</td>\n",
       "      <td>0.452+/-0.007</td>\n",
       "      <td>0.439+/-0.008</td>\n",
       "      <td>0.941+/-0.001</td>\n",
       "      <td>0.945+/-0.002</td>\n",
       "      <td>nan+/-nan</td>\n",
       "      <td>nan+/-nan</td>\n",
       "      <td>nan+/-nan</td>\n",
       "      <td>nan+/-nan</td>\n",
       "      <td>None</td>\n",
       "    </tr>\n",
       "    <tr>\n",
       "      <th>1</th>\n",
       "      <td>DMPNN with rdkit 2d normalized wo MolLogP</td>\n",
       "      <td>StructGNN with ext valence with rdkit wo fragm...</td>\n",
       "      <td>365</td>\n",
       "      <td>352</td>\n",
       "      <td>logD</td>\n",
       "      <td>nan+/-nan</td>\n",
       "      <td>0.013+/-0.021</td>\n",
       "      <td>nan+/-nan</td>\n",
       "      <td>nan+/-nan</td>\n",
       "      <td>nan+/-nan</td>\n",
       "      <td>nan+/-nan</td>\n",
       "      <td>0.6+/-0.034</td>\n",
       "      <td>0.557+/-0.016</td>\n",
       "      <td>0.748+/-0.027</td>\n",
       "      <td>0.783+/-0.01</td>\n",
       "      <td>None</td>\n",
       "    </tr>\n",
       "    <tr>\n",
       "      <th>2</th>\n",
       "      <td>DMPNN with rdkit 2d normalized wo MolLogP</td>\n",
       "      <td>StructGNN with ext valence with rdkit wo fragm...</td>\n",
       "      <td>368</td>\n",
       "      <td>359</td>\n",
       "      <td>logP logD</td>\n",
       "      <td>0.001+/-0.002</td>\n",
       "      <td>0.055+/-0.055</td>\n",
       "      <td>0.459+/-0.012</td>\n",
       "      <td>0.433+/-0.013</td>\n",
       "      <td>0.94+/-0.002</td>\n",
       "      <td>0.946+/-0.002</td>\n",
       "      <td>0.584+/-0.034</td>\n",
       "      <td>0.548+/-0.019</td>\n",
       "      <td>0.763+/-0.022</td>\n",
       "      <td>0.791+/-0.008</td>\n",
       "      <td>None</td>\n",
       "    </tr>\n",
       "  </tbody>\n",
       "</table>\n",
       "</div>"
      ],
      "text/plain": [
       "                                     Model_1  \\\n",
       "0  DMPNN with rdkit 2d normalized wo MolLogP   \n",
       "1  DMPNN with rdkit 2d normalized wo MolLogP   \n",
       "2  DMPNN with rdkit 2d normalized wo MolLogP   \n",
       "\n",
       "                                             Model_2  Num_exp_1  Num_exp_2  \\\n",
       "0  StructGNN with ext valence with rdkit wo fragm...        364        351   \n",
       "1  StructGNN with ext valence with rdkit wo fragm...        365        352   \n",
       "2  StructGNN with ext valence with rdkit wo fragm...        368        359   \n",
       "\n",
       "        Data   logP P VALUE   logD P VALUE    logP rmse 1    logP rmse 2  \\\n",
       "0       logP  0.005+/-0.007      nan+/-nan  0.452+/-0.007  0.439+/-0.008   \n",
       "1       logD      nan+/-nan  0.013+/-0.021      nan+/-nan      nan+/-nan   \n",
       "2  logP logD  0.001+/-0.002  0.055+/-0.055  0.459+/-0.012  0.433+/-0.013   \n",
       "\n",
       "       logP r2 1      logP r2 2    logD rmse 1    logD rmse 2      logD r2 1  \\\n",
       "0  0.941+/-0.001  0.945+/-0.002      nan+/-nan      nan+/-nan      nan+/-nan   \n",
       "1      nan+/-nan      nan+/-nan    0.6+/-0.034  0.557+/-0.016  0.748+/-0.027   \n",
       "2   0.94+/-0.002  0.946+/-0.002  0.584+/-0.034  0.548+/-0.019  0.763+/-0.022   \n",
       "\n",
       "       logD r2 2 Dataset  \n",
       "0      nan+/-nan    None  \n",
       "1   0.783+/-0.01    None  \n",
       "2  0.791+/-0.008    None  "
      ]
     },
     "execution_count": 20,
     "metadata": {},
     "output_type": "execute_result"
    }
   ],
   "source": [
    "stats_markdown_table"
   ]
  },
  {
   "cell_type": "markdown",
   "metadata": {},
   "source": [
    "## No Cross-Validation"
   ]
  },
  {
   "cell_type": "code",
   "execution_count": 21,
   "metadata": {},
   "outputs": [],
   "source": [
    "NUM_EXPS_PAIRS = [(327, 329), (328, 326), (330,331)]\n",
    "NUM_EXPS_PAIRS = [(364,351), (365, 352), (368, 359)]\n",
    "\n",
    "ALPHA = 0.05\n",
    "\n",
    "FILENAME = \"test_predictions.csv\"\n",
    "\n",
    "SMILES_COLUMN = 'smiles'\n",
    "ERROR_COLUMN = 'Squared Error'\n",
    "\n",
    "FOLDS= 1"
   ]
  },
  {
   "cell_type": "code",
   "execution_count": 24,
   "metadata": {},
   "outputs": [
    {
     "name": "stderr",
     "output_type": "stream",
     "text": [
      "\r",
      "  0%|          | 0/3 [00:00<?, ?it/s]"
     ]
    },
    {
     "data": {
      "image/png": "[encoded data removed]",
      "text/plain": [
       "<Figure size 432x288 with 1 Axes>"
      ]
     },
     "metadata": {
      "needs_background": "light"
     },
     "output_type": "display_data"
    },
    {
     "name": "stderr",
     "output_type": "stream",
     "text": [
      "\r",
      " 33%|███▎      | 1/3 [00:02<00:04,  2.16s/it]"
     ]
    },
    {
     "name": "stdout",
     "output_type": "stream",
     "text": [
      "DMPNN with rdkit 2d normalized wo MolLogP   364\n",
      "StructGNN with ext valence with rdkit wo fragments and counts   351\n",
      "logP\n"
     ]
    },
    {
     "data": {
      "image/png": "[encoded data removed]",
      "text/plain": [
       "<Figure size 432x288 with 1 Axes>"
      ]
     },
     "metadata": {
      "needs_background": "light"
     },
     "output_type": "display_data"
    },
    {
     "name": "stderr",
     "output_type": "stream",
     "text": [
      "\r",
      " 67%|██████▋   | 2/3 [00:03<00:01,  1.91s/it]"
     ]
    },
    {
     "name": "stdout",
     "output_type": "stream",
     "text": [
      "DMPNN with rdkit 2d normalized wo MolLogP   365\n",
      "StructGNN with ext valence with rdkit wo fragments and counts   352\n",
      "logD\n"
     ]
    },
    {
     "data": {
      "image/png": "[encoded data removed]",
      "text/plain": [
       "<Figure size 432x288 with 1 Axes>"
      ]
     },
     "metadata": {
      "needs_background": "light"
     },
     "output_type": "display_data"
    },
    {
     "data": {
      "image/png": "[encoded data removed]",
      "text/plain": [
       "<Figure size 432x288 with 1 Axes>"
      ]
     },
     "metadata": {
      "needs_background": "light"
     },
     "output_type": "display_data"
    },
    {
     "name": "stderr",
     "output_type": "stream",
     "text": [
      "100%|██████████| 3/3 [00:06<00:00,  2.09s/it]"
     ]
    },
    {
     "name": "stdout",
     "output_type": "stream",
     "text": [
      "DMPNN with rdkit 2d normalized wo MolLogP   368\n",
      "StructGNN with ext valence with rdkit wo fragments and counts   359\n",
      "logP logD\n"
     ]
    },
    {
     "name": "stderr",
     "output_type": "stream",
     "text": [
      "\n"
     ]
    }
   ],
   "source": [
    "p_values = []\n",
    "for NUM_EXP_PAIR in tqdm(NUM_EXPS_PAIRS):\n",
    "    p_value = {} \n",
    "    p_value_mean_std = {}\n",
    "    \n",
    "    NUM_EXP_1, NUM_EXP_2 = NUM_EXP_PAIR\n",
    "    \n",
    "    DATA_PATH_1 = \"../../data/raw/baselines/dmpnn/logs/exp_\"+str(NUM_EXP_1)+'/folds'\n",
    "    DATA_PATH_2 = \"../../data/raw/baselines/dmpnn/logs/exp_\"+str(NUM_EXP_2)+'/folds'\n",
    "    rmse = []\n",
    "    \n",
    "    preds = []\n",
    "    \n",
    "    for FOLD in range(FOLDS):\n",
    "        import json\n",
    "        with open(os.path.join(DATA_PATH_1,'fold_'+str(FOLD), 'args.json'), 'r') as f:\n",
    "            args_1 = json.load(f)\n",
    "        with open(os.path.join(DATA_PATH_2,'fold_'+str(FOLD), 'args.json'), 'r') as f:\n",
    "            args_2 = json.load(f)\n",
    "        VALUE_COLUMNS = args_1['target_columns']\n",
    "        PRED_COLUMNS = [value+'_pred' for value in VALUE_COLUMNS]\n",
    "        if args_1['additional_encoder']:\n",
    "            p_value_mean_std['Model_1'] = 'StructGNN with ext valence'\n",
    "        else:\n",
    "            p_value_mean_std['Model_1'] = 'DMPNN'\n",
    "        if args_2['additional_encoder']:\n",
    "            p_value_mean_std['Model_2'] = 'StructGNN with ext valence'\n",
    "        else:\n",
    "            p_value_mean_std['Model_2'] = 'DMPNN'\n",
    "        p_value_mean_std['Num_exp_1'] = NUM_EXP_1\n",
    "        p_value_mean_std['Num_exp_2'] = NUM_EXP_2\n",
    "        p_value_mean_std['Data'] = ' '.join(args_1['target_columns'])\n",
    "        \n",
    "        p_value_mean_std['Dataset'] = args_1['separate_test_path']\n",
    "\n",
    "        p_value_mean_std['Model_1'] += ' with '+' '.join(args_1['features_generator'][0].split('_'))\n",
    "        p_value_mean_std['Model_2'] += ' with '+' '.join(args_2['features_generator'][0].split('_'))\n",
    "        \n",
    "        for VALUE_COLUMN in VALUE_COLUMNS:\n",
    "            if VALUE_COLUMN in p_value.keys():\n",
    "                pass\n",
    "            else:\n",
    "                p_value[VALUE_COLUMN] = {}\n",
    "                p_value[VALUE_COLUMN]['r2_1'] = []\n",
    "                p_value[VALUE_COLUMN]['rmse_1'] = []\n",
    "                p_value[VALUE_COLUMN]['r2_2'] = []\n",
    "                p_value[VALUE_COLUMN]['rmse_2'] = []\n",
    "                p_value[VALUE_COLUMN]['Shapiro_p_value_1'] = []\n",
    "                p_value[VALUE_COLUMN]['Shapiro_p_value_2'] = []\n",
    "                p_value[VALUE_COLUMN]['Normaltest_p_value_1'] = []\n",
    "                p_value[VALUE_COLUMN]['Normaltest_p_value_2'] = []\n",
    "                p_value[VALUE_COLUMN]['P_VALUE'] = []\n",
    "                \n",
    "            PRED_COLUMN = VALUE_COLUMN+'_pred'\n",
    "            test_prediction_1 = pd.read_csv(os.path.join(DATA_PATH_1,'fold_'+str(FOLD), FILENAME))\n",
    "            test_prediction_2 = pd.read_csv(os.path.join(DATA_PATH_2,'fold_'+str(FOLD), FILENAME))\n",
    "            \n",
    "            ERROR_COLUMN_1 = (test_prediction_1[~test_prediction_1[VALUE_COLUMN].isna()][VALUE_COLUMN].values\\\n",
    "                                               - test_prediction_1[~test_prediction_1[VALUE_COLUMN].isna()][PRED_COLUMN].values)**2\n",
    "            \n",
    "            ERROR_COLUMN_2 = (test_prediction_2[~test_prediction_2[VALUE_COLUMN].isna()][VALUE_COLUMN].values\\\n",
    "                                               - test_prediction_2[~test_prediction_2[VALUE_COLUMN].isna()][PRED_COLUMN].values)**2\n",
    "            \n",
    "            p_value[VALUE_COLUMN]['rmse_1'].append(mean_squared_error(test_prediction_1[~test_prediction_1[VALUE_COLUMN].isna()][VALUE_COLUMN],\\\n",
    "                                                                     test_prediction_1[~test_prediction_1[VALUE_COLUMN].isna()][PRED_COLUMN])**0.5)\n",
    "            \n",
    "            p_value[VALUE_COLUMN]['rmse_2'].append(mean_squared_error(test_prediction_2[~test_prediction_2[VALUE_COLUMN].isna()][VALUE_COLUMN],\\\n",
    "                                                                     test_prediction_2[~test_prediction_2[VALUE_COLUMN].isna()][PRED_COLUMN])**0.5)\n",
    "            \n",
    "            p_value[VALUE_COLUMN]['r2_1'].append(r2_score(test_prediction_1[~test_prediction_1[VALUE_COLUMN].isna()][VALUE_COLUMN],\\\n",
    "                                                                     test_prediction_1[~test_prediction_1[VALUE_COLUMN].isna()][PRED_COLUMN]))\n",
    "            \n",
    "            p_value[VALUE_COLUMN]['r2_2'].append(r2_score(test_prediction_2[~test_prediction_2[VALUE_COLUMN].isna()][VALUE_COLUMN],\\\n",
    "                                                                     test_prediction_2[~test_prediction_2[VALUE_COLUMN].isna()][PRED_COLUMN]))\n",
    "            \n",
    "            \n",
    "            stat, p = shapiro(ERROR_COLUMN_1)\n",
    "            p_value[VALUE_COLUMN]['Shapiro_p_value_1'].append(p)\n",
    "            stat, p = shapiro(ERROR_COLUMN_2)\n",
    "            p_value[VALUE_COLUMN]['Shapiro_p_value_2'].append(p)\n",
    "            \n",
    "            stat, p = normaltest(ERROR_COLUMN_1)\n",
    "            p_value[VALUE_COLUMN]['Normaltest_p_value_1'].append(p)\n",
    "            stat, p = normaltest(ERROR_COLUMN_2)\n",
    "            p_value[VALUE_COLUMN]['Normaltest_p_value_2'].append(p)\n",
    "            \n",
    "            if p_value[VALUE_COLUMN]['Shapiro_p_value_1'][-1]>ALPHA and \\\n",
    "            p_value[VALUE_COLUMN]['Shapiro_p_value_2'][-1]>ALPHA and \\\n",
    "            p_value[VALUE_COLUMN]['Normaltest_p_value_1'][-1]>ALPHA and \\\n",
    "            p_value[VALUE_COLUMN]['Normaltest_p_value_2'][-1]>ALPHA:\n",
    "                stat, p = ttest_ind(ERROR_COLUMN_1, ERROR_COLUMN_2)\n",
    "                p_value[VALUE_COLUMN]['P_VALUE'].append(p)\n",
    "            else:\n",
    "                if 'DMPNN' in p_value_mean_std['Model_1']:\n",
    "                    stat, p = mannwhitneyu(ERROR_COLUMN_1, ERROR_COLUMN_2, alternative = 'greater')\n",
    "                    p_value[VALUE_COLUMN]['P_VALUE'].append(p)\n",
    "                else:\n",
    "                    stat, p = mannwhitneyu(ERROR_COLUMN_1, ERROR_COLUMN_2, alternative = 'less')\n",
    "                    p_value[VALUE_COLUMN]['P_VALUE'].append(p) \n",
    "                    \n",
    "            if 'DMPNN' in p_value_mean_std['Model_1']:\n",
    "                sns.distplot(np.log(ERROR_COLUMN_2), color='g')\n",
    "                sns.distplot(np.log(ERROR_COLUMN_1), color='r')\n",
    "            else:\n",
    "                sns.distplot(np.log(ERROR_COLUMN_1), color='g')\n",
    "                sns.distplot(np.log(ERROR_COLUMN_2), color='r')\n",
    "            plt.show()\n",
    "\n",
    "    \n",
    "    for VALUE in p_value.keys():\n",
    "        for stat in p_value[VALUE].keys():\n",
    "            p_value_mean_std[VALUE+'_'+stat+'_mean'] = np.mean(p_value[VALUE][stat])\n",
    "            p_value_mean_std[VALUE+'_'+stat+'_std'] = np.std(p_value[VALUE][stat])\n",
    "            \n",
    "    print(p_value_mean_std['Model_1'], ' ', str(p_value_mean_std['Num_exp_1']))\n",
    "    print(p_value_mean_std['Model_2'], ' ', str(p_value_mean_std['Num_exp_2']))\n",
    "    print(p_value_mean_std['Data'])\n",
    "    \n",
    "    \n",
    "    \n",
    "    \n",
    "    p_values.append(p_value_mean_std)\n",
    "    \n",
    "p_values = pd.DataFrame(p_values)\n",
    "\n",
    "values = {}\n",
    "for column in list(p_values):\n",
    "    if column not in ['Model_1','Num_exp_1','Model_2','Num_exp_2','Data','Dataset']:\n",
    "        property_name = ' '.join(column.split('_')[:-1])\n",
    "        value_name = column.split('_')[-1]\n",
    "        value = p_values[column].values\n",
    "        if property_name not in values.keys():\n",
    "            values[property_name] = {}\n",
    "            values[property_name][value_name] = value\n",
    "        else:\n",
    "            values[property_name][value_name] = value\n",
    "            values[property_name] = [str(round(mean,3))+'+/-'+str(round(std, 3)) for mean, std in zip(values[property_name]['mean'], values[property_name]['std'])]\n",
    "stats_markdown_table = pd.DataFrame(columns = ['Model_1',\n",
    " 'Model_2',\n",
    " 'Num_exp_1',\n",
    " 'Num_exp_2',\n",
    " 'Data',\n",
    " 'logP P VALUE',\n",
    " 'logD P VALUE',\n",
    " 'logP rmse 1',\n",
    " 'logP rmse 2',\n",
    " 'logP r2 1',\n",
    " 'logP r2 2',\n",
    " 'logD rmse 1',\n",
    " 'logD rmse 2',\n",
    " 'logD r2 1',\n",
    " 'logD r2 2',\n",
    " 'Dataset',\n",
    " 'logP Shapiro p value 1',\n",
    " 'logP Shapiro p value 2',\n",
    " 'logP Normaltest p value 1',\n",
    " 'logP Normaltest p value 2'\n",
    " 'logD Shapiro p value 1',\n",
    " 'logD Shapiro p value 2',\n",
    " 'logD Normaltest p value 1',\n",
    " 'logD Normaltest p value 2'])\n",
    "for column in p_values.keys():\n",
    "    stats_markdown_table[column] = p_values[column]\n",
    "for column in values.keys():\n",
    "    stats_markdown_table[column] = values[column]\n",
    "stats_markdown_table = stats_markdown_table[['Model_1',\n",
    " 'Model_2',\n",
    " 'Num_exp_1',\n",
    " 'Num_exp_2',\n",
    " 'Data',\n",
    " 'logP P VALUE',\n",
    " 'logD P VALUE',\n",
    " 'logP rmse 1',\n",
    " 'logP rmse 2',\n",
    " 'logP r2 1',\n",
    " 'logP r2 2',\n",
    " 'logD rmse 1',\n",
    " 'logD rmse 2',\n",
    " 'logD r2 1',\n",
    " 'logD r2 2',\n",
    " 'Dataset']]    \n",
    "RAW_PATH = '../../data/raw/baselines/dmpnn/'\n",
    "with open(os.path.join(RAW_PATH, 'DMPNN_StructDNN_p_value_comparison.txt'), 'w') as f:\n",
    "    f.write(stats_markdown_table.to_markdown())"
   ]
  },
  {
   "cell_type": "code",
   "execution_count": 12,
   "metadata": {},
   "outputs": [],
   "source": [
    "\n",
    "FILENAME = \"test_predictions.csv\"\n",
    "\n",
    "SMILES_COLUMN = 'smiles'"
   ]
  },
  {
   "cell_type": "code",
   "execution_count": 18,
   "metadata": {},
   "outputs": [],
   "source": [
    "VALUE_COLUMN = 'logP'\n",
    "PRED_COLUMN = 'logP_pred'"
   ]
  },
  {
   "cell_type": "code",
   "execution_count": 7,
   "metadata": {},
   "outputs": [],
   "source": [
    " DATA_PATH = \"../../data/raw/baselines/dmpnn/logs/exp_\"+str(331)+'/folds'"
   ]
  },
  {
   "cell_type": "code",
   "execution_count": 10,
   "metadata": {},
   "outputs": [],
   "source": [
    "DATA_PATH = \"../../data/raw/baselines/dmpnn/logs/exp_\"+str(331)+'/folds'\n",
    "test_prediction_MULTITASK = pd.read_csv(os.path.join(DATA_PATH,'fold_'+str(0), FILENAME))"
   ]
  },
  {
   "cell_type": "code",
   "execution_count": 11,
   "metadata": {},
   "outputs": [],
   "source": [
    "DATA_PATH = \"../../data/raw/baselines/dmpnn/logs/exp_\"+str(326)+'/folds'\n",
    "test_prediction_logP_DMPNN = pd.read_csv(os.path.join(DATA_PATH,'fold_'+str(0), FILENAME))"
   ]
  },
  {
   "cell_type": "code",
   "execution_count": 33,
   "metadata": {},
   "outputs": [],
   "source": [
    "Preds_MULTITASK  = test_prediction_MULTITASK[~test_prediction_MULTITASK[VALUE_COLUMN].isna()]\n",
    "Preds_logP_DMPNN  = test_prediction_logP_DMPNN[~test_prediction_logP_DMPNN[VALUE_COLUMN].isna()]\n"
   ]
  },
  {
   "cell_type": "code",
   "execution_count": 34,
   "metadata": {},
   "outputs": [
    {
     "data": {
      "text/plain": [
       "(2095, 5)"
      ]
     },
     "execution_count": 34,
     "metadata": {},
     "output_type": "execute_result"
    }
   ],
   "source": [
    "Preds_MULTITASK.shape"
   ]
  },
  {
   "cell_type": "code",
   "execution_count": 35,
   "metadata": {},
   "outputs": [
    {
     "data": {
      "text/plain": [
       "(2067, 3)"
      ]
     },
     "execution_count": 35,
     "metadata": {},
     "output_type": "execute_result"
    }
   ],
   "source": [
    "Preds_logP_DMPNN.shape"
   ]
  },
  {
   "cell_type": "code",
   "execution_count": 54,
   "metadata": {},
   "outputs": [],
   "source": [
    "ERROR_MULTITASK = ERROR_MULTITASK[np.where(ERROR_MULTITASK<2)]"
   ]
  },
  {
   "cell_type": "code",
   "execution_count": 61,
   "metadata": {},
   "outputs": [
    {
     "name": "stdout",
     "output_type": "stream",
     "text": [
      "Multitask error =  0.4157461049247995\n",
      "DMPNN error =  0.4503919784984623\n"
     ]
    }
   ],
   "source": [
    "ERROR_MULTITASK = (Preds_MULTITASK[VALUE_COLUMN].values - Preds_MULTITASK[PRED_COLUMN].values)**2\n",
    "print('Multitask error = ', np.sqrt(np.mean(ERROR_MULTITASK)))\n",
    "ERROR_DMPNN = (Preds_logP_DMPNN[VALUE_COLUMN].values-Preds_logP_DMPNN[PRED_COLUMN].values)**2\n",
    "print('DMPNN error = ', np.sqrt(np.mean(ERROR_DMPNN)))"
   ]
  },
  {
   "cell_type": "code",
   "execution_count": 62,
   "metadata": {},
   "outputs": [],
   "source": [
    "Q_MULTITASK = np.quantile(ERROR_MULTITASK,[0.25,0.75])\n",
    "ERROR_MULTITASK = ERROR_MULTITASK[np.where(ERROR_MULTITASK>Q_MULTITASK[0])]\n",
    "ERROR_MULTITASK = ERROR_MULTITASK[np.where(ERROR_MULTITASK<Q_MULTITASK[1])]\n",
    "\n",
    "\n",
    "Q_DMPNN = np.quantile(ERROR_DMPNN,[0.25,0.75])\n",
    "ERROR_DMPNN = ERROR_DMPNN[np.where(ERROR_DMPNN>Q_DMPNN[0])]\n",
    "ERROR_DMPNN = ERROR_DMPNN[np.where(ERROR_DMPNN<Q_DMPNN[1])]"
   ]
  },
  {
   "cell_type": "code",
   "execution_count": 64,
   "metadata": {},
   "outputs": [
    {
     "data": {
      "text/plain": [
       "<AxesSubplot:>"
      ]
     },
     "execution_count": 64,
     "metadata": {},
     "output_type": "execute_result"
    },
    {
     "data": {
      "image/png": "[encoded data removed]",
      "text/plain": [
       "<Figure size 432x288 with 1 Axes>"
      ]
     },
     "metadata": {
      "needs_background": "light"
     },
     "output_type": "display_data"
    }
   ],
   "source": [
    "sns.distplot(ERROR_MULTITASK, color='g')\n",
    "sns.distplot(ERROR_DMPNN, color='r')"
   ]
  },
  {
   "cell_type": "code",
   "execution_count": 65,
   "metadata": {},
   "outputs": [
    {
     "name": "stdout",
     "output_type": "stream",
     "text": [
      "MultiTask Normaltest pvalue =  1.5944149045314972e-27\n",
      "DMPNN Normaltest pvalue =  1.0063785025909551e-28\n"
     ]
    }
   ],
   "source": [
    "stat, p = shapiro(ERROR_MULTITASK)\n",
    "print('MultiTask Normaltest pvalue = ', p)\n",
    "stat, p = shapiro(ERROR_DMPNN)\n",
    "print('DMPNN Normaltest pvalue = ', p)"
   ]
  },
  {
   "cell_type": "code",
   "execution_count": 71,
   "metadata": {},
   "outputs": [
    {
     "name": "stdout",
     "output_type": "stream",
     "text": [
      "Errors p-value  0.7756001772628621\n"
     ]
    }
   ],
   "source": [
    "stat, p = mannwhitneyu(ERROR_MULTITASK, ERROR_DMPNN, alternative = 'less')\n",
    "print('Errors p-value ', p)"
   ]
  },
  {
   "cell_type": "code",
   "execution_count": 32,
   "metadata": {},
   "outputs": [],
   "source": [
    "stat, p = mannwhitneyu(ERROR_MULTITASK, np.ones((100000, )), alternative = 'greater')"
   ]
  },
  {
   "cell_type": "markdown",
   "metadata": {},
   "source": [
    "# Calculate correlation between logD and logP predictions in multitask"
   ]
  },
  {
   "cell_type": "code",
   "execution_count": 24,
   "metadata": {},
   "outputs": [],
   "source": [
    "NUM_EXPS= [317]"
   ]
  },
  {
   "cell_type": "code",
   "execution_count": 37,
   "metadata": {},
   "outputs": [
    {
     "name": "stderr",
     "output_type": "stream",
     "text": [
      "100%|██████████| 1/1 [00:00<00:00, 20.66it/s]"
     ]
    },
    {
     "name": "stdout",
     "output_type": "stream",
     "text": [
      "Pearson's r  correlation =  0.802 +/- 0.014\n",
      "Spearman's rho  correlation =  0.859 +/- 0.004\n",
      "Kendall's tau  correlation =  0.688 +/- 0.006\n"
     ]
    },
    {
     "name": "stderr",
     "output_type": "stream",
     "text": [
      "\n"
     ]
    }
   ],
   "source": [
    "correlation_mean_std = {}\n",
    "correlation_mean_std['Pearson\\'s r'] = {}\n",
    "correlation_mean_std['Spearman\\'s rho'] = {}\n",
    "correlation_mean_std['Kendall\\'s tau'] = {}\n",
    "for NUM_EXP in tqdm(NUM_EXPS):\n",
    "    DATA_PATH = \"../../data/raw/baselines/dmpnn/logs/exp_\"+str(NUM_EXP)+'/folds'\n",
    "    rmse = []\n",
    "    \n",
    "    correlation = {}\n",
    "    correlation['Pearson\\'s r'] = []\n",
    "    correlation['Spearman\\'s rho'] = []\n",
    "    correlation['Kendall\\'s tau'] = []\n",
    "\n",
    "    for FOLD in range(FOLDS):\n",
    "        import json\n",
    "        with open(os.path.join(DATA_PATH,'fold_'+str(FOLD), 'args.json'), 'r') as f:\n",
    "            args = json.load(f)\n",
    "        VALUE_COLUMNS = args['target_columns']\n",
    "        PRED_COLUMNS = [value+'_pred' for value in args['target_columns']]\n",
    "        \n",
    "        test_prediction = pd.read_csv(os.path.join(DATA_PATH,'fold_'+str(FOLD), FILENAME))\n",
    "        preds_0 = test_prediction[PRED_COLUMNS[0]]\n",
    "        preds_1 = test_prediction[PRED_COLUMNS[1]]\n",
    "        smiles = test_prediction[~test_prediction[VALUE_COLUMN].isna()][SMILES_COLUMN]\n",
    "        values = test_prediction[~test_prediction[VALUE_COLUMN].isna()][VALUE_COLUMN]\n",
    "\n",
    "\n",
    "        correlation['Pearson\\'s r'].append(preds_0.corr(preds_1))\n",
    "        correlation['Spearman\\'s rho'].append(preds_0.corr(preds_1, method='spearman'))\n",
    "        correlation['Kendall\\'s tau'].append(preds_0.corr(preds_1, method='kendall'))\n",
    "        \n",
    "for method in correlation.keys():\n",
    "    correlation_mean_std[method]['mean'] = np.mean(correlation[method])\n",
    "    correlation_mean_std[method]['std'] = np.std(correlation[method])\n",
    "    \n",
    "for method in correlation_mean_std.keys():\n",
    "    print(method, ' correlation = ', \\\n",
    "          round(correlation_mean_std[method]['mean'], 3)\\\n",
    "          ,'+/-',\\\n",
    "          round(correlation_mean_std[method]['std'], 3))"
   ]
  },
  {
   "cell_type": "markdown",
   "metadata": {},
   "source": [
    "# LogP DMPNN model analysis"
   ]
  },
  {
   "cell_type": "markdown",
   "metadata": {},
   "source": [
    "# Get predictions"
   ]
  },
  {
   "cell_type": "markdown",
   "metadata": {},
   "source": [
    "## Average ensemble of models"
   ]
  },
  {
   "cell_type": "code",
   "execution_count": 95,
   "metadata": {},
   "outputs": [],
   "source": [
    "SMILES_COLUMN = 'smiles'\n",
    "VALUE_COLUMN = 'logD'\n",
    "PRED_COLUMN = 'logD_pred'\n",
    "ERROR_COLUMN = 'Squared Error'\n",
    "\n",
    "\n",
    "preds = []\n",
    "\n",
    "for FOLD in range(FOLDS):\n",
    "    test_prediction = pd.read_csv('../../data/4_best_baselines_predictions/dmpnn/logp_wo_averaging_test_preds.csv')\n",
    "    preds.append(test_prediction[PRED_COLUMN].values)\n",
    "    smiles = test_prediction[SMILES_COLUMN]\n",
    "    values = test_prediction[VALUE_COLUMN]\n",
    "    \n",
    "test_prediction = pd.DataFrame(columns = [SMILES_COLUMN, PRED_COLUMN, VALUE_COLUMN])\n",
    "test_prediction[SMILES_COLUMN] = smiles\n",
    "test_prediction[VALUE_COLUMN] = values\n",
    "test_prediction[PRED_COLUMN] = np.mean(np.array(preds), axis = 0)"
   ]
  },
  {
   "cell_type": "code",
   "execution_count": 96,
   "metadata": {},
   "outputs": [
    {
     "data": {
      "text/html": [
       "<div>\n",
       "<style scoped>\n",
       "    .dataframe tbody tr th:only-of-type {\n",
       "        vertical-align: middle;\n",
       "    }\n",
       "\n",
       "    .dataframe tbody tr th {\n",
       "        vertical-align: top;\n",
       "    }\n",
       "\n",
       "    .dataframe thead th {\n",
       "        text-align: right;\n",
       "    }\n",
       "</style>\n",
       "<table border=\"1\" class=\"dataframe\">\n",
       "  <thead>\n",
       "    <tr style=\"text-align: right;\">\n",
       "      <th></th>\n",
       "      <th>smiles</th>\n",
       "      <th>logP_pred</th>\n",
       "      <th>logP</th>\n",
       "    </tr>\n",
       "  </thead>\n",
       "  <tbody>\n",
       "    <tr>\n",
       "      <th>0</th>\n",
       "      <td>CC(=O)NC(Cc1ccccc1)C(=O)NC(Cc1ccccc1)C(=O)N(C)...</td>\n",
       "      <td>2.418475</td>\n",
       "      <td>2.63</td>\n",
       "    </tr>\n",
       "    <tr>\n",
       "      <th>1</th>\n",
       "      <td>CC(C)n1c(/C=C/[C@@H](O)C[C@@H](O)CC(=O)O)c(-c2...</td>\n",
       "      <td>3.829421</td>\n",
       "      <td>4.17</td>\n",
       "    </tr>\n",
       "    <tr>\n",
       "      <th>2</th>\n",
       "      <td>CCS(=O)c1sc(C(C)=O)c(N)c1C#N</td>\n",
       "      <td>1.896444</td>\n",
       "      <td>1.82</td>\n",
       "    </tr>\n",
       "    <tr>\n",
       "      <th>3</th>\n",
       "      <td>O=P(Oc1ccccc1)(Oc1ccccc1)Oc1ccccc1</td>\n",
       "      <td>4.344720</td>\n",
       "      <td>4.59</td>\n",
       "    </tr>\n",
       "    <tr>\n",
       "      <th>4</th>\n",
       "      <td>OC1(c2cc(Cl)ccc2Cl)CCCCC1n1cncn1</td>\n",
       "      <td>3.327758</td>\n",
       "      <td>3.24</td>\n",
       "    </tr>\n",
       "  </tbody>\n",
       "</table>\n",
       "</div>"
      ],
      "text/plain": [
       "                                              smiles  logP_pred  logP\n",
       "0  CC(=O)NC(Cc1ccccc1)C(=O)NC(Cc1ccccc1)C(=O)N(C)...   2.418475  2.63\n",
       "1  CC(C)n1c(/C=C/[C@@H](O)C[C@@H](O)CC(=O)O)c(-c2...   3.829421  4.17\n",
       "2                       CCS(=O)c1sc(C(C)=O)c(N)c1C#N   1.896444  1.82\n",
       "3                 O=P(Oc1ccccc1)(Oc1ccccc1)Oc1ccccc1   4.344720  4.59\n",
       "4                   OC1(c2cc(Cl)ccc2Cl)CCCCC1n1cncn1   3.327758  3.24"
      ]
     },
     "execution_count": 96,
     "metadata": {},
     "output_type": "execute_result"
    }
   ],
   "source": [
    "test_prediction.head()"
   ]
  },
  {
   "cell_type": "code",
   "execution_count": 97,
   "metadata": {},
   "outputs": [
    {
     "name": "stdout",
     "output_type": "stream",
     "text": [
      "Test RMSE =  0.44085248822198\n"
     ]
    }
   ],
   "source": [
    "print('Test RMSE = ', mean_squared_error(test_prediction[VALUE_COLUMN], test_prediction[PRED_COLUMN])**0.5)"
   ]
  },
  {
   "cell_type": "markdown",
   "metadata": {},
   "source": [
    "## Average scores"
   ]
  },
  {
   "cell_type": "code",
   "execution_count": 100,
   "metadata": {},
   "outputs": [
    {
     "name": "stdout",
     "output_type": "stream",
     "text": [
      "All RMSE  [0.44085248822198, 0.44085248822198, 0.44085248822198, 0.44085248822198]\n",
      "Test RMSE =  0.44085248822198\n"
     ]
    }
   ],
   "source": [
    "rmse = []\n",
    "for FOLD in range(FOLDS):\n",
    "    test_prediction = pd.read_csv('../../data/4_best_baselines_predictions/dmpnn/logp_wo_averaging_test_preds.csv')\n",
    "    rmse.append(mean_squared_error(test_prediction[VALUE_COLUMN], test_prediction[PRED_COLUMN])**0.5)\n",
    "\n",
    "print('All RMSE ', rmse)\n",
    "print('Test RMSE = ', np.mean(rmse))"
   ]
  },
  {
   "cell_type": "markdown",
   "metadata": {},
   "source": [
    "## Calculate error"
   ]
  },
  {
   "cell_type": "code",
   "execution_count": 101,
   "metadata": {},
   "outputs": [],
   "source": [
    "ERROR_COLUMN = 'Squared Error'"
   ]
  },
  {
   "cell_type": "code",
   "execution_count": 102,
   "metadata": {},
   "outputs": [],
   "source": [
    "test_prediction = pd.read_csv('../../data/4_best_baselines_predictions/dmpnn/logp_wo_averaging_test_preds.csv')"
   ]
  },
  {
   "cell_type": "code",
   "execution_count": 103,
   "metadata": {},
   "outputs": [],
   "source": [
    "test_prediction[ERROR_COLUMN] = (test_prediction[VALUE_COLUMN] - test_prediction[PRED_COLUMN]) ** 2"
   ]
  },
  {
   "cell_type": "code",
   "execution_count": 104,
   "metadata": {},
   "outputs": [],
   "source": [
    "test_prediction_sorted = test_prediction.sort_values(by=[ERROR_COLUMN], ascending=False)"
   ]
  },
  {
   "cell_type": "code",
   "execution_count": 105,
   "metadata": {},
   "outputs": [],
   "source": [
    "def create_statistics(vals):\n",
    "    values = vals.copy()\n",
    "    mols = [Chem.MolFromSmiles(x) for x in values[SMILES_COLUMN]]\n",
    "    \n",
    "    atom_count = [mol.GetNumAtoms() for mol in mols]\n",
    "    values['atom_count'] = pd.Series(atom_count)\n",
    "    \n",
    "    values['ring_count'] = pd.Series([mol.GetRingInfo().NumRings() for mol in mols])\n",
    "    \n",
    "    mol_atoms = [mol.GetAtoms() for mol in mols]\n",
    "    non_simple_atom_count = [sum((num.GetAtomicNum() not in [1, 6, 8, 7]) for num in m_atoms) for m_atoms in mol_atoms]\n",
    "    values['non_organogens_count'] = pd.Series(non_simple_atom_count)\n",
    "    \n",
    "    values['non_organogens_percent'] = values.non_organogens_count / values.atom_count *100\n",
    "    \n",
    "    benzene_smiles = 'C1=CC=CC=C1'\n",
    "    pattern = Chem.MolFromSmiles(benzene_smiles)\n",
    "    values['aromatic_count'] = pd.Series([len(mol.GetSubstructMatches(pattern)) for mol in mols])\n",
    "    \n",
    "    values['aromatic_rings_percent'] = values.aromatic_count / values.ring_count *100\n",
    "    values['aromatic_rings_percent'] = values['aromatic_rings_percent'].fillna(0)\n",
    "    \n",
    "    values['bond_count'] =  [len(mol.GetBonds()) for mol in mols]\n",
    "    values['aromatic_bond_count'] = [sum(bond.GetIsAromatic() for bond in mol.GetBonds()) for mol in mols]\n",
    "    values['aromatic_bond_percent'] = values.aromatic_bond_count / values.bond_count * 100\n",
    "    \n",
    "    values_list = [pd.Series(Chem.CanonicalRankAtoms(mol, breakTies=False)).value_counts() for mol in mols]\n",
    "    values['is_symmetric'] =  [(len(values) - 1 <= len(values[values % 2 == 0])) or (len(values) - 1 <= len(values[(values % 2 == 1) & (values > 1)])) for values in values_list]\n",
    "    \n",
    "    return values"
   ]
  },
  {
   "cell_type": "code",
   "execution_count": 106,
   "metadata": {},
   "outputs": [],
   "source": [
    "compare_data_with_stats = create_statistics(test_prediction_sorted)"
   ]
  },
  {
   "cell_type": "code",
   "execution_count": 139,
   "metadata": {},
   "outputs": [
    {
     "data": {
      "text/html": [
       "<div>\n",
       "<style scoped>\n",
       "    .dataframe tbody tr th:only-of-type {\n",
       "        vertical-align: middle;\n",
       "    }\n",
       "\n",
       "    .dataframe tbody tr th {\n",
       "        vertical-align: top;\n",
       "    }\n",
       "\n",
       "    .dataframe thead th {\n",
       "        text-align: right;\n",
       "    }\n",
       "</style>\n",
       "<table border=\"1\" class=\"dataframe\">\n",
       "  <thead>\n",
       "    <tr style=\"text-align: right;\">\n",
       "      <th></th>\n",
       "      <th>smiles</th>\n",
       "      <th>logP</th>\n",
       "      <th>logP_pred</th>\n",
       "      <th>Squared Error</th>\n",
       "      <th>atom_count</th>\n",
       "      <th>ring_count</th>\n",
       "      <th>non_organogens_count</th>\n",
       "      <th>non_organogens_percent</th>\n",
       "      <th>aromatic_count</th>\n",
       "      <th>aromatic_rings_percent</th>\n",
       "      <th>bond_count</th>\n",
       "      <th>aromatic_bond_count</th>\n",
       "      <th>aromatic_bond_percent</th>\n",
       "      <th>is_symmetric</th>\n",
       "    </tr>\n",
       "  </thead>\n",
       "  <tbody>\n",
       "    <tr>\n",
       "      <th>925</th>\n",
       "      <td>Cc1ncc([N+](=O)[O-])n1CCS(C)(=O)=O</td>\n",
       "      <td>-0.82</td>\n",
       "      <td>-0.820723</td>\n",
       "      <td>5.230613e-07</td>\n",
       "      <td>17</td>\n",
       "      <td>2</td>\n",
       "      <td>1</td>\n",
       "      <td>5.882353</td>\n",
       "      <td>2</td>\n",
       "      <td>100.000000</td>\n",
       "      <td>15</td>\n",
       "      <td>5</td>\n",
       "      <td>33.333333</td>\n",
       "      <td>False</td>\n",
       "    </tr>\n",
       "    <tr>\n",
       "      <th>42</th>\n",
       "      <td>COc1cccc(CC(C)N)c1OC</td>\n",
       "      <td>1.49</td>\n",
       "      <td>1.489322</td>\n",
       "      <td>4.602563e-07</td>\n",
       "      <td>23</td>\n",
       "      <td>3</td>\n",
       "      <td>2</td>\n",
       "      <td>8.695652</td>\n",
       "      <td>1</td>\n",
       "      <td>33.333333</td>\n",
       "      <td>14</td>\n",
       "      <td>6</td>\n",
       "      <td>42.857143</td>\n",
       "      <td>False</td>\n",
       "    </tr>\n",
       "    <tr>\n",
       "      <th>1729</th>\n",
       "      <td>COP(=S)(NC(C)C)Oc1ccc(Cl)cc1Cl</td>\n",
       "      <td>4.30</td>\n",
       "      <td>4.299360</td>\n",
       "      <td>4.089857e-07</td>\n",
       "      <td>14</td>\n",
       "      <td>4</td>\n",
       "      <td>0</td>\n",
       "      <td>0.000000</td>\n",
       "      <td>0</td>\n",
       "      <td>0.000000</td>\n",
       "      <td>17</td>\n",
       "      <td>6</td>\n",
       "      <td>35.294118</td>\n",
       "      <td>False</td>\n",
       "    </tr>\n",
       "    <tr>\n",
       "      <th>2060</th>\n",
       "      <td>[O-][n+]1onc(-c2ccccc2)c1Cl</td>\n",
       "      <td>2.70</td>\n",
       "      <td>2.699795</td>\n",
       "      <td>4.213496e-08</td>\n",
       "      <td>9</td>\n",
       "      <td>1</td>\n",
       "      <td>0</td>\n",
       "      <td>0.000000</td>\n",
       "      <td>0</td>\n",
       "      <td>0.000000</td>\n",
       "      <td>14</td>\n",
       "      <td>11</td>\n",
       "      <td>78.571429</td>\n",
       "      <td>False</td>\n",
       "    </tr>\n",
       "    <tr>\n",
       "      <th>1093</th>\n",
       "      <td>OCCc1ccncc1</td>\n",
       "      <td>0.10</td>\n",
       "      <td>0.100122</td>\n",
       "      <td>1.484384e-08</td>\n",
       "      <td>19</td>\n",
       "      <td>2</td>\n",
       "      <td>5</td>\n",
       "      <td>26.315789</td>\n",
       "      <td>2</td>\n",
       "      <td>100.000000</td>\n",
       "      <td>9</td>\n",
       "      <td>6</td>\n",
       "      <td>66.666667</td>\n",
       "      <td>False</td>\n",
       "    </tr>\n",
       "  </tbody>\n",
       "</table>\n",
       "</div>"
      ],
      "text/plain": [
       "                                  smiles  logP  logP_pred  Squared Error  \\\n",
       "925   Cc1ncc([N+](=O)[O-])n1CCS(C)(=O)=O -0.82  -0.820723   5.230613e-07   \n",
       "42                  COc1cccc(CC(C)N)c1OC  1.49   1.489322   4.602563e-07   \n",
       "1729      COP(=S)(NC(C)C)Oc1ccc(Cl)cc1Cl  4.30   4.299360   4.089857e-07   \n",
       "2060         [O-][n+]1onc(-c2ccccc2)c1Cl  2.70   2.699795   4.213496e-08   \n",
       "1093                         OCCc1ccncc1  0.10   0.100122   1.484384e-08   \n",
       "\n",
       "      atom_count  ring_count  non_organogens_count  non_organogens_percent  \\\n",
       "925           17           2                     1                5.882353   \n",
       "42            23           3                     2                8.695652   \n",
       "1729          14           4                     0                0.000000   \n",
       "2060           9           1                     0                0.000000   \n",
       "1093          19           2                     5               26.315789   \n",
       "\n",
       "      aromatic_count  aromatic_rings_percent  bond_count  aromatic_bond_count  \\\n",
       "925                2              100.000000          15                    5   \n",
       "42                 1               33.333333          14                    6   \n",
       "1729               0                0.000000          17                    6   \n",
       "2060               0                0.000000          14                   11   \n",
       "1093               2              100.000000           9                    6   \n",
       "\n",
       "      aromatic_bond_percent  is_symmetric  \n",
       "925               33.333333         False  \n",
       "42                42.857143         False  \n",
       "1729              35.294118         False  \n",
       "2060              78.571429         False  \n",
       "1093              66.666667         False  "
      ]
     },
     "execution_count": 139,
     "metadata": {},
     "output_type": "execute_result"
    }
   ],
   "source": [
    "compare_data_with_stats.tail()"
   ]
  },
  {
   "cell_type": "markdown",
   "metadata": {},
   "source": [
    "# Get best and worst predictions"
   ]
  },
  {
   "cell_type": "code",
   "execution_count": 108,
   "metadata": {},
   "outputs": [],
   "source": [
    "n_values = 200"
   ]
  },
  {
   "cell_type": "code",
   "execution_count": 109,
   "metadata": {},
   "outputs": [],
   "source": [
    "best_n_vals = compare_data_with_stats.iloc[-n_values:]"
   ]
  },
  {
   "cell_type": "code",
   "execution_count": 141,
   "metadata": {},
   "outputs": [
    {
     "data": {
      "text/html": [
       "<div>\n",
       "<style scoped>\n",
       "    .dataframe tbody tr th:only-of-type {\n",
       "        vertical-align: middle;\n",
       "    }\n",
       "\n",
       "    .dataframe tbody tr th {\n",
       "        vertical-align: top;\n",
       "    }\n",
       "\n",
       "    .dataframe thead th {\n",
       "        text-align: right;\n",
       "    }\n",
       "</style>\n",
       "<table border=\"1\" class=\"dataframe\">\n",
       "  <thead>\n",
       "    <tr style=\"text-align: right;\">\n",
       "      <th></th>\n",
       "      <th>smiles</th>\n",
       "      <th>logP</th>\n",
       "      <th>logP_pred</th>\n",
       "      <th>Squared Error</th>\n",
       "      <th>atom_count</th>\n",
       "      <th>ring_count</th>\n",
       "      <th>non_organogens_count</th>\n",
       "      <th>non_organogens_percent</th>\n",
       "      <th>aromatic_count</th>\n",
       "      <th>aromatic_rings_percent</th>\n",
       "      <th>bond_count</th>\n",
       "      <th>aromatic_bond_count</th>\n",
       "      <th>aromatic_bond_percent</th>\n",
       "      <th>is_symmetric</th>\n",
       "    </tr>\n",
       "  </thead>\n",
       "  <tbody>\n",
       "    <tr>\n",
       "      <th>1029</th>\n",
       "      <td>CCCCCCCCCCCCCCP(C)(C)(C)Br</td>\n",
       "      <td>2.06</td>\n",
       "      <td>6.352609</td>\n",
       "      <td>18.426489</td>\n",
       "      <td>19</td>\n",
       "      <td>2</td>\n",
       "      <td>2</td>\n",
       "      <td>10.526316</td>\n",
       "      <td>1</td>\n",
       "      <td>50.0</td>\n",
       "      <td>18</td>\n",
       "      <td>0</td>\n",
       "      <td>0.000000</td>\n",
       "      <td>False</td>\n",
       "    </tr>\n",
       "    <tr>\n",
       "      <th>1730</th>\n",
       "      <td>O=C(O[K])C1C2CCC(O2)C1C(=O)O[K]</td>\n",
       "      <td>0.32</td>\n",
       "      <td>-3.775163</td>\n",
       "      <td>16.770356</td>\n",
       "      <td>11</td>\n",
       "      <td>1</td>\n",
       "      <td>0</td>\n",
       "      <td>0.000000</td>\n",
       "      <td>1</td>\n",
       "      <td>100.0</td>\n",
       "      <td>16</td>\n",
       "      <td>0</td>\n",
       "      <td>0.000000</td>\n",
       "      <td>True</td>\n",
       "    </tr>\n",
       "    <tr>\n",
       "      <th>1824</th>\n",
       "      <td>N=C1C=CC(=C(c2ccc(N)cc2)c2ccc(N)cc2)C=C1</td>\n",
       "      <td>-0.21</td>\n",
       "      <td>2.959373</td>\n",
       "      <td>10.044923</td>\n",
       "      <td>20</td>\n",
       "      <td>1</td>\n",
       "      <td>0</td>\n",
       "      <td>0.000000</td>\n",
       "      <td>0</td>\n",
       "      <td>0.0</td>\n",
       "      <td>24</td>\n",
       "      <td>12</td>\n",
       "      <td>50.000000</td>\n",
       "      <td>False</td>\n",
       "    </tr>\n",
       "    <tr>\n",
       "      <th>637</th>\n",
       "      <td>O=S(=O)(O[Na])c1cc(-n2nc3ccc4ccccc4c3n2)ccc1C=...</td>\n",
       "      <td>1.80</td>\n",
       "      <td>-0.945304</td>\n",
       "      <td>7.536693</td>\n",
       "      <td>18</td>\n",
       "      <td>1</td>\n",
       "      <td>3</td>\n",
       "      <td>16.666667</td>\n",
       "      <td>1</td>\n",
       "      <td>100.0</td>\n",
       "      <td>36</td>\n",
       "      <td>27</td>\n",
       "      <td>75.000000</td>\n",
       "      <td>False</td>\n",
       "    </tr>\n",
       "    <tr>\n",
       "      <th>658</th>\n",
       "      <td>CC1OC(OC2C(O)CC(OC3C(O)CC(OC4CCC5(C)C(CCC6C5CC...</td>\n",
       "      <td>-1.77</td>\n",
       "      <td>0.926779</td>\n",
       "      <td>7.272619</td>\n",
       "      <td>16</td>\n",
       "      <td>1</td>\n",
       "      <td>1</td>\n",
       "      <td>6.250000</td>\n",
       "      <td>1</td>\n",
       "      <td>100.0</td>\n",
       "      <td>74</td>\n",
       "      <td>5</td>\n",
       "      <td>6.756757</td>\n",
       "      <td>False</td>\n",
       "    </tr>\n",
       "    <tr>\n",
       "      <th>...</th>\n",
       "      <td>...</td>\n",
       "      <td>...</td>\n",
       "      <td>...</td>\n",
       "      <td>...</td>\n",
       "      <td>...</td>\n",
       "      <td>...</td>\n",
       "      <td>...</td>\n",
       "      <td>...</td>\n",
       "      <td>...</td>\n",
       "      <td>...</td>\n",
       "      <td>...</td>\n",
       "      <td>...</td>\n",
       "      <td>...</td>\n",
       "      <td>...</td>\n",
       "    </tr>\n",
       "    <tr>\n",
       "      <th>1317</th>\n",
       "      <td>O=C(O)C(c1ccc(-c2ccccc2)cc1)C(O)c1cccc(F)c1</td>\n",
       "      <td>3.31</td>\n",
       "      <td>3.950504</td>\n",
       "      <td>0.410245</td>\n",
       "      <td>12</td>\n",
       "      <td>1</td>\n",
       "      <td>0</td>\n",
       "      <td>0.000000</td>\n",
       "      <td>1</td>\n",
       "      <td>100.0</td>\n",
       "      <td>27</td>\n",
       "      <td>18</td>\n",
       "      <td>66.666667</td>\n",
       "      <td>False</td>\n",
       "    </tr>\n",
       "    <tr>\n",
       "      <th>488</th>\n",
       "      <td>C=CCn1c(SCC(=O)N2C[C@@]3(C)C[C@@H]2CC(C)(C)C3)...</td>\n",
       "      <td>6.04</td>\n",
       "      <td>6.678596</td>\n",
       "      <td>0.407805</td>\n",
       "      <td>11</td>\n",
       "      <td>1</td>\n",
       "      <td>0</td>\n",
       "      <td>0.000000</td>\n",
       "      <td>0</td>\n",
       "      <td>0.0</td>\n",
       "      <td>33</td>\n",
       "      <td>10</td>\n",
       "      <td>30.303030</td>\n",
       "      <td>False</td>\n",
       "    </tr>\n",
       "    <tr>\n",
       "      <th>289</th>\n",
       "      <td>CC#Cc1cc(C)[nH]c(=Nc2ccccc2)n1</td>\n",
       "      <td>3.28</td>\n",
       "      <td>3.916718</td>\n",
       "      <td>0.405410</td>\n",
       "      <td>7</td>\n",
       "      <td>0</td>\n",
       "      <td>1</td>\n",
       "      <td>14.285714</td>\n",
       "      <td>0</td>\n",
       "      <td>0.0</td>\n",
       "      <td>18</td>\n",
       "      <td>12</td>\n",
       "      <td>66.666667</td>\n",
       "      <td>False</td>\n",
       "    </tr>\n",
       "    <tr>\n",
       "      <th>1559</th>\n",
       "      <td>CCOC(=O)C(Cc1ccoc1)=NC=O</td>\n",
       "      <td>2.08</td>\n",
       "      <td>1.445709</td>\n",
       "      <td>0.402325</td>\n",
       "      <td>10</td>\n",
       "      <td>2</td>\n",
       "      <td>0</td>\n",
       "      <td>0.000000</td>\n",
       "      <td>1</td>\n",
       "      <td>50.0</td>\n",
       "      <td>15</td>\n",
       "      <td>5</td>\n",
       "      <td>33.333333</td>\n",
       "      <td>False</td>\n",
       "    </tr>\n",
       "    <tr>\n",
       "      <th>287</th>\n",
       "      <td>CCOC(=O)C1=C2SC(C)C(=O)N2C(=N)C(C(=O)OCC)[C@@H...</td>\n",
       "      <td>5.49</td>\n",
       "      <td>4.855921</td>\n",
       "      <td>0.402056</td>\n",
       "      <td>6</td>\n",
       "      <td>0</td>\n",
       "      <td>0</td>\n",
       "      <td>0.000000</td>\n",
       "      <td>0</td>\n",
       "      <td>0.0</td>\n",
       "      <td>32</td>\n",
       "      <td>6</td>\n",
       "      <td>18.750000</td>\n",
       "      <td>False</td>\n",
       "    </tr>\n",
       "  </tbody>\n",
       "</table>\n",
       "<p>200 rows × 14 columns</p>\n",
       "</div>"
      ],
      "text/plain": [
       "                                                 smiles  logP  logP_pred  \\\n",
       "1029                         CCCCCCCCCCCCCCP(C)(C)(C)Br  2.06   6.352609   \n",
       "1730                    O=C(O[K])C1C2CCC(O2)C1C(=O)O[K]  0.32  -3.775163   \n",
       "1824           N=C1C=CC(=C(c2ccc(N)cc2)c2ccc(N)cc2)C=C1 -0.21   2.959373   \n",
       "637   O=S(=O)(O[Na])c1cc(-n2nc3ccc4ccccc4c3n2)ccc1C=...  1.80  -0.945304   \n",
       "658   CC1OC(OC2C(O)CC(OC3C(O)CC(OC4CCC5(C)C(CCC6C5CC... -1.77   0.926779   \n",
       "...                                                 ...   ...        ...   \n",
       "1317        O=C(O)C(c1ccc(-c2ccccc2)cc1)C(O)c1cccc(F)c1  3.31   3.950504   \n",
       "488   C=CCn1c(SCC(=O)N2C[C@@]3(C)C[C@@H]2CC(C)(C)C3)...  6.04   6.678596   \n",
       "289                      CC#Cc1cc(C)[nH]c(=Nc2ccccc2)n1  3.28   3.916718   \n",
       "1559                           CCOC(=O)C(Cc1ccoc1)=NC=O  2.08   1.445709   \n",
       "287   CCOC(=O)C1=C2SC(C)C(=O)N2C(=N)C(C(=O)OCC)[C@@H...  5.49   4.855921   \n",
       "\n",
       "      Squared Error  atom_count  ring_count  non_organogens_count  \\\n",
       "1029      18.426489          19           2                     2   \n",
       "1730      16.770356          11           1                     0   \n",
       "1824      10.044923          20           1                     0   \n",
       "637        7.536693          18           1                     3   \n",
       "658        7.272619          16           1                     1   \n",
       "...             ...         ...         ...                   ...   \n",
       "1317       0.410245          12           1                     0   \n",
       "488        0.407805          11           1                     0   \n",
       "289        0.405410           7           0                     1   \n",
       "1559       0.402325          10           2                     0   \n",
       "287        0.402056           6           0                     0   \n",
       "\n",
       "      non_organogens_percent  aromatic_count  aromatic_rings_percent  \\\n",
       "1029               10.526316               1                    50.0   \n",
       "1730                0.000000               1                   100.0   \n",
       "1824                0.000000               0                     0.0   \n",
       "637                16.666667               1                   100.0   \n",
       "658                 6.250000               1                   100.0   \n",
       "...                      ...             ...                     ...   \n",
       "1317                0.000000               1                   100.0   \n",
       "488                 0.000000               0                     0.0   \n",
       "289                14.285714               0                     0.0   \n",
       "1559                0.000000               1                    50.0   \n",
       "287                 0.000000               0                     0.0   \n",
       "\n",
       "      bond_count  aromatic_bond_count  aromatic_bond_percent  is_symmetric  \n",
       "1029          18                    0               0.000000         False  \n",
       "1730          16                    0               0.000000          True  \n",
       "1824          24                   12              50.000000         False  \n",
       "637           36                   27              75.000000         False  \n",
       "658           74                    5               6.756757         False  \n",
       "...          ...                  ...                    ...           ...  \n",
       "1317          27                   18              66.666667         False  \n",
       "488           33                   10              30.303030         False  \n",
       "289           18                   12              66.666667         False  \n",
       "1559          15                    5              33.333333         False  \n",
       "287           32                    6              18.750000         False  \n",
       "\n",
       "[200 rows x 14 columns]"
      ]
     },
     "execution_count": 141,
     "metadata": {},
     "output_type": "execute_result"
    }
   ],
   "source": [
    "worst_n_vals.sort_values(by = [ERROR_COLUMN],ascending = False)"
   ]
  },
  {
   "cell_type": "code",
   "execution_count": 110,
   "metadata": {},
   "outputs": [],
   "source": [
    "worst_n_vals = compare_data_with_stats.iloc[:n_values]"
   ]
  },
  {
   "cell_type": "markdown",
   "metadata": {},
   "source": [
    "# Get Kruskal Stats"
   ]
  },
  {
   "cell_type": "code",
   "execution_count": 111,
   "metadata": {},
   "outputs": [
    {
     "name": "stdout",
     "output_type": "stream",
     "text": [
      "KruskalResult(statistic=2.503076453575314, pvalue=0.11362414365070286)\n"
     ]
    }
   ],
   "source": [
    "print(stats.kruskal(best_n_vals.atom_count, worst_n_vals.atom_count))"
   ]
  },
  {
   "cell_type": "code",
   "execution_count": 112,
   "metadata": {},
   "outputs": [
    {
     "data": {
      "text/plain": [
       "<AxesSubplot:xlabel='atom_count'>"
      ]
     },
     "execution_count": 112,
     "metadata": {},
     "output_type": "execute_result"
    },
    {
     "data": {
      "image/png": "[encoded data removed]",
      "text/plain": [
       "<Figure size 432x288 with 1 Axes>"
      ]
     },
     "metadata": {
      "needs_background": "light"
     },
     "output_type": "display_data"
    }
   ],
   "source": [
    "sns.distplot(best_n_vals.atom_count, color='g')\n",
    "sns.distplot(worst_n_vals.atom_count, color='r')"
   ]
  },
  {
   "cell_type": "code",
   "execution_count": 113,
   "metadata": {},
   "outputs": [
    {
     "name": "stdout",
     "output_type": "stream",
     "text": [
      "KruskalResult(statistic=2.4772490765201196, pvalue=0.11550411585688974)\n"
     ]
    }
   ],
   "source": [
    "print(stats.kruskal(best_n_vals.ring_count, worst_n_vals.ring_count))"
   ]
  },
  {
   "cell_type": "code",
   "execution_count": 114,
   "metadata": {},
   "outputs": [
    {
     "data": {
      "text/plain": [
       "<AxesSubplot:xlabel='ring_count'>"
      ]
     },
     "execution_count": 114,
     "metadata": {},
     "output_type": "execute_result"
    },
    {
     "data": {
      "image/png": "[encoded data removed]",
      "text/plain": [
       "<Figure size 432x288 with 1 Axes>"
      ]
     },
     "metadata": {
      "needs_background": "light"
     },
     "output_type": "display_data"
    }
   ],
   "source": [
    "sns.distplot(best_n_vals.ring_count, color='g')\n",
    "sns.distplot(worst_n_vals.ring_count, color='r')"
   ]
  },
  {
   "cell_type": "code",
   "execution_count": 115,
   "metadata": {},
   "outputs": [
    {
     "name": "stdout",
     "output_type": "stream",
     "text": [
      "KruskalResult(statistic=0.3427930041983832, pvalue=0.5582214665697456)\n"
     ]
    }
   ],
   "source": [
    "print(stats.kruskal(best_n_vals.non_organogens_count, worst_n_vals.non_organogens_count))"
   ]
  },
  {
   "cell_type": "code",
   "execution_count": 116,
   "metadata": {},
   "outputs": [
    {
     "data": {
      "text/plain": [
       "<AxesSubplot:xlabel='non_organogens_count'>"
      ]
     },
     "execution_count": 116,
     "metadata": {},
     "output_type": "execute_result"
    },
    {
     "data": {
      "image/png": "[encoded data removed]",
      "text/plain": [
       "<Figure size 432x288 with 1 Axes>"
      ]
     },
     "metadata": {
      "needs_background": "light"
     },
     "output_type": "display_data"
    }
   ],
   "source": [
    "sns.distplot(best_n_vals.non_organogens_count, color='g')\n",
    "sns.distplot(worst_n_vals.non_organogens_count, color='r')"
   ]
  },
  {
   "cell_type": "code",
   "execution_count": 117,
   "metadata": {},
   "outputs": [
    {
     "name": "stdout",
     "output_type": "stream",
     "text": [
      "KruskalResult(statistic=0.1471269545413422, pvalue=0.7012962031583021)\n"
     ]
    }
   ],
   "source": [
    "print(stats.kruskal(best_n_vals.non_organogens_percent, worst_n_vals.non_organogens_percent))"
   ]
  },
  {
   "cell_type": "code",
   "execution_count": 118,
   "metadata": {},
   "outputs": [
    {
     "data": {
      "text/plain": [
       "<AxesSubplot:xlabel='non_organogens_percent'>"
      ]
     },
     "execution_count": 118,
     "metadata": {},
     "output_type": "execute_result"
    },
    {
     "data": {
      "image/png": "[encoded data removed]",
      "text/plain": [
       "<Figure size 432x288 with 1 Axes>"
      ]
     },
     "metadata": {
      "needs_background": "light"
     },
     "output_type": "display_data"
    }
   ],
   "source": [
    "sns.distplot(best_n_vals.non_organogens_percent, color='g')\n",
    "sns.distplot(worst_n_vals.non_organogens_percent, color='r')"
   ]
  },
  {
   "cell_type": "code",
   "execution_count": 119,
   "metadata": {},
   "outputs": [
    {
     "name": "stdout",
     "output_type": "stream",
     "text": [
      "KruskalResult(statistic=2.317463149797452, pvalue=0.12792851052699947)\n"
     ]
    }
   ],
   "source": [
    "print(stats.kruskal(best_n_vals.aromatic_count, worst_n_vals.aromatic_count))"
   ]
  },
  {
   "cell_type": "code",
   "execution_count": 120,
   "metadata": {},
   "outputs": [
    {
     "data": {
      "text/plain": [
       "<AxesSubplot:xlabel='aromatic_count'>"
      ]
     },
     "execution_count": 120,
     "metadata": {},
     "output_type": "execute_result"
    },
    {
     "data": {
      "image/png": "[encoded data removed]",
      "text/plain": [
       "<Figure size 432x288 with 1 Axes>"
      ]
     },
     "metadata": {
      "needs_background": "light"
     },
     "output_type": "display_data"
    }
   ],
   "source": [
    "sns.distplot(best_n_vals.aromatic_count, color='g')\n",
    "sns.distplot(worst_n_vals.aromatic_count, color='r')"
   ]
  },
  {
   "cell_type": "code",
   "execution_count": 121,
   "metadata": {},
   "outputs": [
    {
     "name": "stdout",
     "output_type": "stream",
     "text": [
      "KruskalResult(statistic=0.09733631334489745, pvalue=0.7550498852400577)\n"
     ]
    }
   ],
   "source": [
    "print(stats.kruskal(best_n_vals.aromatic_rings_percent, worst_n_vals.aromatic_rings_percent))"
   ]
  },
  {
   "cell_type": "code",
   "execution_count": 122,
   "metadata": {},
   "outputs": [
    {
     "data": {
      "text/plain": [
       "<AxesSubplot:xlabel='aromatic_rings_percent'>"
      ]
     },
     "execution_count": 122,
     "metadata": {},
     "output_type": "execute_result"
    },
    {
     "data": {
      "image/png": "[encoded data removed]",
      "text/plain": [
       "<Figure size 432x288 with 1 Axes>"
      ]
     },
     "metadata": {
      "needs_background": "light"
     },
     "output_type": "display_data"
    }
   ],
   "source": [
    "sns.distplot(best_n_vals.aromatic_rings_percent, color='g')\n",
    "sns.distplot(worst_n_vals.aromatic_rings_percent, color='r')"
   ]
  },
  {
   "cell_type": "code",
   "execution_count": 123,
   "metadata": {},
   "outputs": [
    {
     "name": "stdout",
     "output_type": "stream",
     "text": [
      "KruskalResult(statistic=21.537314181354503, pvalue=3.4701051685614547e-06)\n"
     ]
    }
   ],
   "source": [
    "print(stats.kruskal(best_n_vals.aromatic_bond_percent, worst_n_vals.aromatic_bond_percent))"
   ]
  },
  {
   "cell_type": "code",
   "execution_count": 124,
   "metadata": {},
   "outputs": [
    {
     "data": {
      "text/plain": [
       "<AxesSubplot:xlabel='aromatic_bond_percent'>"
      ]
     },
     "execution_count": 124,
     "metadata": {},
     "output_type": "execute_result"
    },
    {
     "data": {
      "image/png": "[encoded data removed]",
      "text/plain": [
       "<Figure size 432x288 with 1 Axes>"
      ]
     },
     "metadata": {
      "needs_background": "light"
     },
     "output_type": "display_data"
    }
   ],
   "source": [
    "sns.distplot(best_n_vals.aromatic_bond_percent, color='g')\n",
    "sns.distplot(worst_n_vals.aromatic_bond_percent, color='r')"
   ]
  },
  {
   "cell_type": "code",
   "execution_count": 125,
   "metadata": {},
   "outputs": [
    {
     "name": "stdout",
     "output_type": "stream",
     "text": [
      "KruskalResult(statistic=0.24278454096355018, pvalue=0.6222021666954054)\n"
     ]
    }
   ],
   "source": [
    "print(stats.kruskal(best_n_vals.aromatic_bond_count, worst_n_vals.aromatic_bond_count))"
   ]
  },
  {
   "cell_type": "code",
   "execution_count": 126,
   "metadata": {},
   "outputs": [
    {
     "data": {
      "text/plain": [
       "<AxesSubplot:xlabel='aromatic_bond_count'>"
      ]
     },
     "execution_count": 126,
     "metadata": {},
     "output_type": "execute_result"
    },
    {
     "data": {
      "image/png": "[encoded data removed]",
      "text/plain": [
       "<Figure size 432x288 with 1 Axes>"
      ]
     },
     "metadata": {
      "needs_background": "light"
     },
     "output_type": "display_data"
    }
   ],
   "source": [
    "sns.distplot(best_n_vals.aromatic_bond_count, color='g')\n",
    "sns.distplot(worst_n_vals.aromatic_bond_count, color='r')"
   ]
  },
  {
   "cell_type": "markdown",
   "metadata": {},
   "source": [
    "# Symmetric metrics"
   ]
  },
  {
   "cell_type": "code",
   "execution_count": 127,
   "metadata": {},
   "outputs": [],
   "source": [
    "symmetric_rull = lambda values: (len(values) - 1 <= len(values[values % 2 == 0])) or (len(values) - 1 <= len(values[(values % 2 == 1) & (values > 1)]))"
   ]
  },
  {
   "cell_type": "code",
   "execution_count": 128,
   "metadata": {},
   "outputs": [],
   "source": [
    "values_list = [pd.Series(Chem.CanonicalRankAtoms(Chem.MolFromSmiles(smiles), breakTies=False)).value_counts() for smiles in compare_data_with_stats[SMILES_COLUMN]]\n",
    "symmetric_indices = [symmetric_rull(values) for values in values_list]\n",
    "not_symmetric_indices = [not e for e in symmetric_indices]"
   ]
  },
  {
   "cell_type": "code",
   "execution_count": 129,
   "metadata": {},
   "outputs": [],
   "source": [
    "symmetric_y_predicted = compare_data_with_stats[PRED_COLUMN][symmetric_indices]\n"
   ]
  },
  {
   "cell_type": "code",
   "execution_count": 130,
   "metadata": {},
   "outputs": [],
   "source": [
    "symmetric_y_expected = compare_data_with_stats[VALUE_COLUMN][symmetric_indices]"
   ]
  },
  {
   "cell_type": "code",
   "execution_count": 131,
   "metadata": {},
   "outputs": [],
   "source": [
    "not_symmetric_y_predicted = compare_data_with_stats[PRED_COLUMN][not_symmetric_indices]"
   ]
  },
  {
   "cell_type": "code",
   "execution_count": 132,
   "metadata": {},
   "outputs": [],
   "source": [
    "not_symmetric_y_expected = compare_data_with_stats[VALUE_COLUMN][not_symmetric_indices]"
   ]
  },
  {
   "cell_type": "code",
   "execution_count": 133,
   "metadata": {},
   "outputs": [],
   "source": [
    "from sklearn.metrics import mean_squared_error"
   ]
  },
  {
   "cell_type": "code",
   "execution_count": 134,
   "metadata": {},
   "outputs": [
    {
     "name": "stdout",
     "output_type": "stream",
     "text": [
      "Test symmetric RMSE = 0.7664073064955048\n",
      "Test symmetric R2-score is 0.8891239875706615\n"
     ]
    }
   ],
   "source": [
    "print(\"Test symmetric RMSE =\", mean_squared_error(symmetric_y_expected, symmetric_y_predicted, squared=False))\n",
    "print(\"Test symmetric R2-score is {0}\".format(r2_score(symmetric_y_expected, symmetric_y_predicted)))"
   ]
  },
  {
   "cell_type": "code",
   "execution_count": 135,
   "metadata": {},
   "outputs": [
    {
     "name": "stdout",
     "output_type": "stream",
     "text": [
      "Test not symmetric RMSE = 0.42470038526469506\n",
      "Test not symmetric R2-score is 0.9448009547313081\n"
     ]
    }
   ],
   "source": [
    "print(\"Test not symmetric RMSE =\", mean_squared_error(not_symmetric_y_expected, not_symmetric_y_predicted, squared=False))\n",
    "print(\"Test not symmetric R2-score is {0}\".format(r2_score(not_symmetric_y_expected, not_symmetric_y_predicted)))"
   ]
  },
  {
   "cell_type": "code",
   "execution_count": null,
   "metadata": {},
   "outputs": [],
   "source": []
  }
 ],
 "metadata": {
  "kernelspec": {
   "display_name": "Python 3",
   "language": "python",
   "name": "python3"
  },
  "language_info": {
   "codemirror_mode": {
    "name": "ipython",
    "version": 3
   },
   "file_extension": ".py",
   "mimetype": "text/x-python",
   "name": "python",
   "nbconvert_exporter": "python",
   "pygments_lexer": "ipython3",
   "version": "3.8.3"
  }
 },
 "nbformat": 4,
 "nbformat_minor": 4
}
