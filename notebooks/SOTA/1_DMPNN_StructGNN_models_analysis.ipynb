{
 "cells": [
  {
   "cell_type": "code",
   "execution_count": 1,
   "metadata": {},
   "outputs": [],
   "source": [
    "import pandas as pd\n",
    "import numpy as np\n",
    "import seaborn as sns\n",
    "import torch\n",
    "from scipy import stats\n",
    "from torch.nn.utils.rnn import pad_sequence\n",
    "from sklearn.neural_network import MLPRegressor\n",
    "from rdkit import Chem, DataStructs\n",
    "from rdkit.Chem import AllChem\n",
    "from sklearn.metrics import mean_squared_error, r2_score\n",
    "import time\n",
    "import os\n",
    "from tqdm import tqdm"
   ]
  },
  {
   "cell_type": "code",
   "execution_count": 2,
   "metadata": {},
   "outputs": [],
   "source": [
    "def create_statistics(vals):\n",
    "    values = vals.copy()\n",
    "    mols = [Chem.MolFromSmiles(x) for x in values[SMILES_COLUMN]]\n",
    "    \n",
    "    atom_count = [mol.GetNumAtoms() for mol in mols]\n",
    "    values['atom_count'] = pd.Series(atom_count)\n",
    "    \n",
    "    values['ring_count'] = pd.Series([mol.GetRingInfo().NumRings() for mol in mols])\n",
    "    \n",
    "    mol_atoms = [mol.GetAtoms() for mol in mols]\n",
    "    non_simple_atom_count = [sum((num.GetAtomicNum() not in [1, 6, 8, 7]) for num in m_atoms) for m_atoms in mol_atoms]\n",
    "    values['non_organogens_count'] = pd.Series(non_simple_atom_count)\n",
    "    \n",
    "    values['non_organogens_percent'] = values.non_organogens_count / values.atom_count *100\n",
    "    \n",
    "    benzene_smiles = 'C1=CC=CC=C1'\n",
    "    pattern = Chem.MolFromSmiles(benzene_smiles)\n",
    "    values['aromatic_count'] = pd.Series([len(mol.GetSubstructMatches(pattern)) for mol in mols])\n",
    "    \n",
    "    values['aromatic_rings_percent'] = values.aromatic_count / values.ring_count *100\n",
    "    values['aromatic_rings_percent'] = values['aromatic_rings_percent'].fillna(0)\n",
    "    \n",
    "    values['bond_count'] =  [len(mol.GetBonds()) for mol in mols]\n",
    "    values['aromatic_bond_count'] = [sum(bond.GetIsAromatic() for bond in mol.GetBonds()) for mol in mols]\n",
    "    values['aromatic_bond_percent'] = values.aromatic_bond_count / values.bond_count * 100\n",
    "    \n",
    "    values_list = [pd.Series(Chem.CanonicalRankAtoms(mol, breakTies=False)).value_counts() for mol in mols]\n",
    "    values['is_symmetric'] =  [(len(values) - 1 <= len(values[values % 2 == 0])) or (len(values) - 1 <= len(values[(values % 2 == 1) & (values > 1)])) for values in values_list]\n",
    "    \n",
    "    return values"
   ]
  },
  {
   "cell_type": "code",
   "execution_count": 3,
   "metadata": {},
   "outputs": [],
   "source": [
    "\n",
    "FILENAME = \"test_predictions.csv\"\n",
    "\n",
    "SMILES_COLUMN = 'smiles'\n",
    "ERROR_COLUMN = 'Squared Error'\n",
    "\n",
    "FOLDS= 4\n",
    "\n",
    "N_VALUES = 200"
   ]
  },
  {
   "cell_type": "markdown",
   "metadata": {},
   "source": [
    "# Calculate best and worst molecules statistics"
   ]
  },
  {
   "cell_type": "code",
   "execution_count": 7,
   "metadata": {},
   "outputs": [],
   "source": [
    "NUM_EXPS = [312, 313, 314, 315, 316, 317, 318, 319, 320, 321]"
   ]
  },
  {
   "cell_type": "code",
   "execution_count": 8,
   "metadata": {},
   "outputs": [
    {
     "name": "stderr",
     "output_type": "stream",
     "text": [
      " 70%|███████   | 7/10 [10:52<06:25, 128.49s/it]/home/mol/anaconda3/envs/chemprop/lib/python3.8/site-packages/sklearn/metrics/_regression.py:589: UndefinedMetricWarning: R^2 score is not well-defined with less than two samples.\n",
      "  warnings.warn(msg, UndefinedMetricWarning)\n",
      "/home/mol/anaconda3/envs/chemprop/lib/python3.8/site-packages/sklearn/metrics/_regression.py:589: UndefinedMetricWarning: R^2 score is not well-defined with less than two samples.\n",
      "  warnings.warn(msg, UndefinedMetricWarning)\n",
      "/home/mol/anaconda3/envs/chemprop/lib/python3.8/site-packages/sklearn/metrics/_regression.py:589: UndefinedMetricWarning: R^2 score is not well-defined with less than two samples.\n",
      "  warnings.warn(msg, UndefinedMetricWarning)\n",
      "/home/mol/anaconda3/envs/chemprop/lib/python3.8/site-packages/sklearn/metrics/_regression.py:589: UndefinedMetricWarning: R^2 score is not well-defined with less than two samples.\n",
      "  warnings.warn(msg, UndefinedMetricWarning)\n",
      " 90%|█████████ | 9/10 [14:55<02:10, 130.54s/it]/home/mol/anaconda3/envs/chemprop/lib/python3.8/site-packages/sklearn/metrics/_regression.py:589: UndefinedMetricWarning: R^2 score is not well-defined with less than two samples.\n",
      "  warnings.warn(msg, UndefinedMetricWarning)\n",
      "/home/mol/anaconda3/envs/chemprop/lib/python3.8/site-packages/sklearn/metrics/_regression.py:589: UndefinedMetricWarning: R^2 score is not well-defined with less than two samples.\n",
      "  warnings.warn(msg, UndefinedMetricWarning)\n",
      "/home/mol/anaconda3/envs/chemprop/lib/python3.8/site-packages/sklearn/metrics/_regression.py:589: UndefinedMetricWarning: R^2 score is not well-defined with less than two samples.\n",
      "  warnings.warn(msg, UndefinedMetricWarning)\n",
      "/home/mol/anaconda3/envs/chemprop/lib/python3.8/site-packages/sklearn/metrics/_regression.py:589: UndefinedMetricWarning: R^2 score is not well-defined with less than two samples.\n",
      "  warnings.warn(msg, UndefinedMetricWarning)\n",
      "100%|██████████| 10/10 [15:51<00:00, 95.17s/it] \n"
     ]
    },
    {
     "name": "stdout",
     "output_type": "stream",
     "text": [
      "312\n",
      "DMPNN with rdkit wo fragments and counts\n",
      "logD\n",
      "./data/3_final_data/split_data/logd_Lip_wo_averaging_test.csv\n",
      "\n",
      "logD_symmetric test RMSE  =  0.979 +/- 0.194\n",
      "logD_symmetric test R2  =  0.26 +/- 0.313\n",
      "logD_non-symmetric test RMSE  =  0.584 +/- 0.02\n",
      "logD_non-symmetric test R2  =  0.764 +/- 0.016\n",
      "logD_rmse  =  0.589 +/- 0.02\n",
      "logD_r2  =  0.76 +/- 0.016\n",
      "logD_atom_count  =  0.324 +/- 0.235\n",
      "logD_ring_count  =  0.578 +/- 0.313\n",
      "logD_non_organogens_count  =  0.495 +/- 0.377\n",
      "logD_non_organogens_percent  =  0.412 +/- 0.274\n",
      "logD_aromatic_count  =  0.374 +/- 0.36\n",
      "logD_aromatic_rings_percent  =  0.532 +/- 0.302\n",
      "logD_bond_count  =  0.506 +/- 0.316\n",
      "logD_aromatic_bond_count  =  0.552 +/- 0.111\n",
      "logD_aromatic_bond_percent  =  0.576 +/- 0.185\n",
      "logD_is_symmetric  =  0.125 +/- 0.056\n",
      "\n",
      "===\n",
      "\n",
      "313\n",
      "StructGNN with ext valence with rdkit wo fragments and counts\n",
      "logD\n",
      "./data/3_final_data/split_data/logd_Lip_wo_averaging_test.csv\n",
      "\n",
      "logD_symmetric test RMSE  =  1.113 +/- 0.147\n",
      "logD_symmetric test R2  =  0.064 +/- 0.242\n",
      "logD_non-symmetric test RMSE  =  0.584 +/- 0.013\n",
      "logD_non-symmetric test R2  =  0.764 +/- 0.011\n",
      "logD_rmse  =  0.591 +/- 0.014\n",
      "logD_r2  =  0.758 +/- 0.012\n",
      "logD_atom_count  =  0.396 +/- 0.309\n",
      "logD_ring_count  =  0.3 +/- 0.201\n",
      "logD_non_organogens_count  =  0.682 +/- 0.355\n",
      "logD_non_organogens_percent  =  0.608 +/- 0.332\n",
      "logD_aromatic_count  =  0.532 +/- 0.268\n",
      "logD_aromatic_rings_percent  =  0.39 +/- 0.035\n",
      "logD_bond_count  =  0.486 +/- 0.299\n",
      "logD_aromatic_bond_count  =  0.536 +/- 0.171\n",
      "logD_aromatic_bond_percent  =  0.599 +/- 0.163\n",
      "logD_is_symmetric  =  0.044 +/- 0.033\n",
      "\n",
      "===\n",
      "\n",
      "314\n",
      "DMPNN with rdkit 2d normalized best\n",
      "logD\n",
      "./data/3_final_data/split_data/logd_Lip_wo_averaging_test.csv\n",
      "\n",
      "logD_symmetric test RMSE  =  0.846 +/- 0.133\n",
      "logD_symmetric test R2  =  0.456 +/- 0.168\n",
      "logD_non-symmetric test RMSE  =  0.598 +/- 0.007\n",
      "logD_non-symmetric test R2  =  0.752 +/- 0.006\n",
      "logD_rmse  =  0.601 +/- 0.008\n",
      "logD_r2  =  0.75 +/- 0.007\n",
      "logD_atom_count  =  0.637 +/- 0.226\n",
      "logD_ring_count  =  0.505 +/- 0.123\n",
      "logD_non_organogens_count  =  0.483 +/- 0.135\n",
      "logD_non_organogens_percent  =  0.523 +/- 0.171\n",
      "logD_aromatic_count  =  0.588 +/- 0.384\n",
      "logD_aromatic_rings_percent  =  0.629 +/- 0.25\n",
      "logD_bond_count  =  0.536 +/- 0.15\n",
      "logD_aromatic_bond_count  =  0.548 +/- 0.296\n",
      "logD_aromatic_bond_percent  =  0.515 +/- 0.265\n",
      "logD_is_symmetric  =  0.217 +/- 0.117\n",
      "\n",
      "===\n",
      "\n",
      "315\n",
      "StructGNN with ext valence with rdkit 2d normalized best\n",
      "logD\n",
      "./data/3_final_data/split_data/logd_Lip_wo_averaging_test.csv\n",
      "\n",
      "logD_symmetric test RMSE  =  0.797 +/- 0.164\n",
      "logD_symmetric test R2  =  0.508 +/- 0.198\n",
      "logD_non-symmetric test RMSE  =  0.586 +/- 0.016\n",
      "logD_non-symmetric test R2  =  0.763 +/- 0.013\n",
      "logD_rmse  =  0.588 +/- 0.018\n",
      "logD_r2  =  0.76 +/- 0.014\n",
      "logD_atom_count  =  0.4 +/- 0.335\n",
      "logD_ring_count  =  0.498 +/- 0.362\n",
      "logD_non_organogens_count  =  0.372 +/- 0.187\n",
      "logD_non_organogens_percent  =  0.454 +/- 0.234\n",
      "logD_aromatic_count  =  0.381 +/- 0.267\n",
      "logD_aromatic_rings_percent  =  0.62 +/- 0.171\n",
      "logD_bond_count  =  0.74 +/- 0.174\n",
      "logD_aromatic_bond_count  =  0.667 +/- 0.238\n",
      "logD_aromatic_bond_percent  =  0.496 +/- 0.136\n",
      "logD_is_symmetric  =  0.16 +/- 0.102\n",
      "\n",
      "===\n",
      "\n",
      "316\n",
      "StructGNN with ext valence with rdkit wo fragments and counts\n",
      "logP\n",
      "./data/3_final_data/split_data/logp_wo_averaging_test.csv\n",
      "\n",
      "logP_symmetric test RMSE  =  0.671 +/- 0.017\n",
      "logP_symmetric test R2  =  0.915 +/- 0.004\n",
      "logP_non-symmetric test RMSE  =  0.443 +/- 0.006\n",
      "logP_non-symmetric test R2  =  0.94 +/- 0.001\n",
      "logP_rmse  =  0.452 +/- 0.004\n",
      "logP_r2  =  0.939 +/- 0.001\n",
      "logP_atom_count  =  0.576 +/- 0.248\n",
      "logP_ring_count  =  0.353 +/- 0.186\n",
      "logP_non_organogens_count  =  0.416 +/- 0.289\n",
      "logP_non_organogens_percent  =  0.464 +/- 0.325\n",
      "logP_aromatic_count  =  0.362 +/- 0.218\n",
      "logP_aromatic_rings_percent  =  0.296 +/- 0.229\n",
      "logP_bond_count  =  0.0 +/- 0.0\n",
      "logP_aromatic_bond_count  =  0.404 +/- 0.167\n",
      "logP_aromatic_bond_percent  =  0.001 +/- 0.001\n",
      "logP_is_symmetric  =  0.138 +/- 0.2\n",
      "\n",
      "===\n",
      "\n",
      "317\n",
      "StructGNN with ext valence with rdkit wo fragments and counts\n",
      "logD logP\n",
      "./data/3_final_data/split_data/logp_logd_Lip_wo_averaging_test.csv\n",
      "\n",
      "logD_symmetric test RMSE  =  0.367 +/- 0.113\n",
      "logD_symmetric test R2  =  0.726 +/- 0.163\n",
      "logD_non-symmetric test RMSE  =  0.538 +/- 0.008\n",
      "logD_non-symmetric test R2  =  0.817 +/- 0.005\n",
      "logD_rmse  =  0.537 +/- 0.008\n",
      "logD_r2  =  0.817 +/- 0.006\n",
      "logD_atom_count  =  0.099 +/- 0.104\n",
      "logD_ring_count  =  0.297 +/- 0.269\n",
      "logD_non_organogens_count  =  0.574 +/- 0.263\n",
      "logD_non_organogens_percent  =  0.745 +/- 0.292\n",
      "logD_aromatic_count  =  0.257 +/- 0.102\n",
      "logD_aromatic_rings_percent  =  0.057 +/- 0.068\n",
      "logD_bond_count  =  0.0 +/- 0.0\n",
      "logD_aromatic_bond_count  =  0.0 +/- 0.0\n",
      "logD_aromatic_bond_percent  =  0.005 +/- 0.002\n",
      "logD_is_symmetric  =  0.004 +/- 0.003\n",
      "logP_symmetric test RMSE  =  0.541 +/- 0.005\n",
      "logP_symmetric test R2  =  0.956 +/- 0.001\n",
      "logP_non-symmetric test RMSE  =  0.419 +/- 0.006\n",
      "logP_non-symmetric test R2  =  0.947 +/- 0.001\n",
      "logP_rmse  =  0.426 +/- 0.005\n",
      "logP_r2  =  0.948 +/- 0.001\n",
      "logP_atom_count  =  0.0 +/- 0.0\n",
      "logP_ring_count  =  0.0 +/- 0.0\n",
      "logP_non_organogens_count  =  0.511 +/- 0.256\n",
      "logP_non_organogens_percent  =  0.66 +/- 0.14\n",
      "logP_aromatic_count  =  0.001 +/- 0.001\n",
      "logP_aromatic_rings_percent  =  0.469 +/- 0.091\n",
      "logP_bond_count  =  0.0 +/- 0.0\n",
      "logP_aromatic_bond_count  =  0.0 +/- 0.0\n",
      "logP_aromatic_bond_percent  =  0.0 +/- 0.0\n",
      "logP_is_symmetric  =  0.0 +/- 0.0\n",
      "\n",
      "===\n",
      "\n",
      "318\n",
      "StructGNN with ext valence with rdkit wo fragments and counts\n",
      "logD logP\n",
      "./data/3_final_data/split_data/logp_258_Lip_wo_averaging_test.csv\n",
      "\n",
      "logD_symmetric test RMSE  =  0.903 +/- 0.199\n",
      "logD_symmetric test R2  =  -0.797 +/- 0.662\n",
      "logD_non-symmetric test RMSE  =  0.641 +/- 0.031\n",
      "logD_non-symmetric test R2  =  0.828 +/- 0.016\n",
      "logD_rmse  =  0.659 +/- 0.026\n",
      "logD_r2  =  0.819 +/- 0.014\n",
      "logD_atom_count  =  0.589 +/- 0.0\n",
      "logD_ring_count  =  0.327 +/- 0.0\n",
      "logD_non_organogens_count  =  0.246 +/- 0.0\n",
      "logD_non_organogens_percent  =  0.25 +/- 0.0\n",
      "logD_aromatic_count  =  0.985 +/- 0.0\n",
      "logD_aromatic_rings_percent  =  0.317 +/- 0.0\n",
      "logD_bond_count  =  0.516 +/- 0.0\n",
      "logD_aromatic_bond_count  =  0.855 +/- 0.0\n",
      "logD_aromatic_bond_percent  =  0.572 +/- 0.0\n",
      "logD_is_symmetric  =  1.0 +/- 0.0\n",
      "logP_symmetric test RMSE  =  0.57 +/- 0.047\n",
      "logP_symmetric test R2  =  0.943 +/- 0.01\n",
      "logP_non-symmetric test RMSE  =  0.426 +/- 0.008\n",
      "logP_non-symmetric test R2  =  0.947 +/- 0.002\n",
      "logP_rmse  =  0.433 +/- 0.01\n",
      "logP_r2  =  0.947 +/- 0.002\n",
      "logP_atom_count  =  0.392 +/- 0.146\n",
      "logP_ring_count  =  0.227 +/- 0.255\n",
      "logP_non_organogens_count  =  0.448 +/- 0.31\n",
      "logP_non_organogens_percent  =  0.409 +/- 0.238\n",
      "logP_aromatic_count  =  0.466 +/- 0.268\n",
      "logP_aromatic_rings_percent  =  0.337 +/- 0.262\n",
      "logP_bond_count  =  0.0 +/- 0.0\n",
      "logP_aromatic_bond_count  =  0.224 +/- 0.129\n",
      "logP_aromatic_bond_percent  =  0.001 +/- 0.001\n",
      "logP_is_symmetric  =  0.071 +/- 0.04\n",
      "\n",
      "===\n",
      "\n",
      "319\n",
      "StructGNN with ext valence with rdkit wo fragments and counts\n",
      "logD logP\n",
      "./data/3_final_data/split_data/logd_258_Logp_wo_averaging_test.csv\n",
      "\n",
      "logD_symmetric test RMSE  =  0.523 +/- 0.11\n",
      "logD_symmetric test R2  =  0.685 +/- 0.133\n",
      "logD_non-symmetric test RMSE  =  0.613 +/- 0.022\n",
      "logD_non-symmetric test R2  =  0.736 +/- 0.018\n",
      "logD_rmse  =  0.613 +/- 0.022\n",
      "logD_r2  =  0.736 +/- 0.019\n",
      "logD_atom_count  =  0.381 +/- 0.232\n",
      "logD_ring_count  =  0.589 +/- 0.35\n",
      "logD_non_organogens_count  =  0.367 +/- 0.218\n",
      "logD_non_organogens_percent  =  0.466 +/- 0.33\n",
      "logD_aromatic_count  =  0.541 +/- 0.116\n",
      "logD_aromatic_rings_percent  =  0.56 +/- 0.282\n",
      "logD_bond_count  =  0.607 +/- 0.278\n",
      "logD_aromatic_bond_count  =  0.366 +/- 0.254\n",
      "logD_aromatic_bond_percent  =  0.216 +/- 0.214\n",
      "logD_is_symmetric  =  0.672 +/- 0.189\n",
      "logP_symmetric test RMSE  =  0.208 +/- 0.223\n",
      "logP_non-symmetric test RMSE  =  0.849 +/- 0.062\n",
      "logP_non-symmetric test R2  =  0.693 +/- 0.046\n",
      "logP_rmse  =  0.839 +/- 0.061\n",
      "logP_r2  =  0.694 +/- 0.046\n",
      "logP_atom_count  =  0.166 +/- 0.0\n",
      "logP_ring_count  =  0.128 +/- 0.0\n",
      "logP_non_organogens_count  =  0.751 +/- 0.0\n",
      "logP_non_organogens_percent  =  0.708 +/- 0.0\n",
      "logP_aromatic_count  =  0.593 +/- 0.0\n",
      "logP_aromatic_rings_percent  =  0.468 +/- 0.0\n",
      "logP_bond_count  =  0.275 +/- 0.0\n",
      "logP_aromatic_bond_count  =  0.137 +/- 0.0\n",
      "logP_aromatic_bond_percent  =  0.427 +/- 0.0\n",
      "logP_is_symmetric  =  0.563 +/- 0.0\n",
      "\n",
      "===\n",
      "\n",
      "320\n",
      "DMPNN with rdkit 2d normalized best\n",
      "logD logP\n",
      "./data/3_final_data/split_data/logp_258_Lip_wo_averaging_test.csv\n",
      "\n",
      "logD_symmetric test RMSE  =  0.447 +/- 0.143\n",
      "logD_symmetric test R2  =  0.538 +/- 0.243\n",
      "logD_non-symmetric test RMSE  =  0.721 +/- 0.032\n",
      "logD_non-symmetric test R2  =  0.783 +/- 0.018\n",
      "logD_rmse  =  0.71 +/- 0.031\n",
      "logD_r2  =  0.789 +/- 0.018\n",
      "logD_atom_count  =  0.589 +/- 0.0\n",
      "logD_ring_count  =  0.327 +/- 0.0\n",
      "logD_non_organogens_count  =  0.246 +/- 0.0\n",
      "logD_non_organogens_percent  =  0.25 +/- 0.0\n",
      "logD_aromatic_count  =  0.985 +/- 0.0\n",
      "logD_aromatic_rings_percent  =  0.317 +/- 0.0\n",
      "logD_bond_count  =  0.516 +/- 0.0\n",
      "logD_aromatic_bond_count  =  0.855 +/- 0.0\n",
      "logD_aromatic_bond_percent  =  0.572 +/- 0.0\n",
      "logD_is_symmetric  =  1.0 +/- 0.0\n",
      "logP_symmetric test RMSE  =  0.545 +/- 0.013\n",
      "logP_symmetric test R2  =  0.948 +/- 0.003\n",
      "logP_non-symmetric test RMSE  =  0.435 +/- 0.009\n",
      "logP_non-symmetric test R2  =  0.945 +/- 0.002\n",
      "logP_rmse  =  0.441 +/- 0.008\n",
      "logP_r2  =  0.945 +/- 0.002\n",
      "logP_atom_count  =  0.631 +/- 0.24\n"
     ]
    },
    {
     "name": "stdout",
     "output_type": "stream",
     "text": [
      "logP_ring_count  =  0.62 +/- 0.193\n",
      "logP_non_organogens_count  =  0.579 +/- 0.198\n",
      "logP_non_organogens_percent  =  0.63 +/- 0.183\n",
      "logP_aromatic_count  =  0.679 +/- 0.218\n",
      "logP_aromatic_rings_percent  =  0.559 +/- 0.24\n",
      "logP_bond_count  =  0.0 +/- 0.0\n",
      "logP_aromatic_bond_count  =  0.255 +/- 0.194\n",
      "logP_aromatic_bond_percent  =  0.083 +/- 0.134\n",
      "logP_is_symmetric  =  0.202 +/- 0.13\n",
      "\n",
      "===\n",
      "\n",
      "321\n",
      "DMPNN with rdkit 2d normalized best\n",
      "logD logP\n",
      "./data/3_final_data/split_data/logd_258_Logp_wo_averaging_test.csv\n",
      "\n",
      "logD_symmetric test RMSE  =  0.634 +/- 0.144\n",
      "logD_symmetric test R2  =  0.533 +/- 0.194\n",
      "logD_non-symmetric test RMSE  =  0.63 +/- 0.039\n",
      "logD_non-symmetric test R2  =  0.721 +/- 0.034\n",
      "logD_rmse  =  0.63 +/- 0.039\n",
      "logD_r2  =  0.72 +/- 0.034\n",
      "logD_atom_count  =  0.398 +/- 0.239\n",
      "logD_ring_count  =  0.443 +/- 0.314\n",
      "logD_non_organogens_count  =  0.407 +/- 0.355\n",
      "logD_non_organogens_percent  =  0.362 +/- 0.313\n",
      "logD_aromatic_count  =  0.766 +/- 0.067\n",
      "logD_aromatic_rings_percent  =  0.535 +/- 0.255\n",
      "logD_bond_count  =  0.421 +/- 0.09\n",
      "logD_aromatic_bond_count  =  0.287 +/- 0.054\n",
      "logD_aromatic_bond_percent  =  0.278 +/- 0.261\n",
      "logD_is_symmetric  =  0.685 +/- 0.343\n",
      "logP_symmetric test RMSE  =  0.454 +/- 0.115\n",
      "logP_non-symmetric test RMSE  =  0.827 +/- 0.089\n",
      "logP_non-symmetric test R2  =  0.707 +/- 0.065\n",
      "logP_rmse  =  0.82 +/- 0.087\n",
      "logP_r2  =  0.706 +/- 0.065\n",
      "logP_atom_count  =  0.166 +/- 0.0\n",
      "logP_ring_count  =  0.128 +/- 0.0\n",
      "logP_non_organogens_count  =  0.751 +/- 0.0\n",
      "logP_non_organogens_percent  =  0.708 +/- 0.0\n",
      "logP_aromatic_count  =  0.593 +/- 0.0\n",
      "logP_aromatic_rings_percent  =  0.468 +/- 0.0\n",
      "logP_bond_count  =  0.275 +/- 0.0\n",
      "logP_aromatic_bond_count  =  0.137 +/- 0.0\n",
      "logP_aromatic_bond_percent  =  0.427 +/- 0.0\n",
      "logP_is_symmetric  =  0.563 +/- 0.0\n",
      "\n",
      "===\n",
      "\n"
     ]
    }
   ],
   "source": [
    "kruskal_stistics = []\n",
    "for NUM_EXP in tqdm(NUM_EXPS):\n",
    "    kruskal_stats = {}\n",
    "    kruskal_stats_mean_std = {}\n",
    "    \n",
    "    DATA_PATH = \"../../data/raw/baselines/dmpnn/logs/exp_\"+str(NUM_EXP)+'/folds'\n",
    "    rmse = []\n",
    "    \n",
    "    preds = []\n",
    "    \n",
    "    for FOLD in range(FOLDS):\n",
    "        import json\n",
    "        with open(os.path.join(DATA_PATH,'fold_'+str(FOLD), 'args.json'), 'r') as f:\n",
    "            args = json.load(f)\n",
    "        VALUE_COLUMNS = args['target_columns']\n",
    "        PRED_COLUMNS = [value+'_pred' for value in args['target_columns']]\n",
    "        if args['additional_encoder']:\n",
    "            kruskal_stats_mean_std['Model'] = 'StructGNN with ext valence'\n",
    "        else:\n",
    "            kruskal_stats_mean_std['Model'] = 'DMPNN'\n",
    "        kruskal_stats_mean_std['Num_exp'] = NUM_EXP\n",
    "        kruskal_stats_mean_std['Data'] = ' '.join(args['target_columns'])\n",
    "        \n",
    "        kruskal_stats_mean_std['Dataset'] = args['separate_test_path']\n",
    "\n",
    "        kruskal_stats_mean_std['Model'] += ' with '+' '.join(args['features_generator'][0].split('_'))\n",
    "        \n",
    "        for VALUE_COLUMN in VALUE_COLUMNS:\n",
    "            if VALUE_COLUMN in kruskal_stats.keys():\n",
    "                pass\n",
    "            else:\n",
    "                kruskal_stats[VALUE_COLUMN] = {}\n",
    "                kruskal_stats[VALUE_COLUMN]['symmetric test RMSE'] = []\n",
    "                kruskal_stats[VALUE_COLUMN]['symmetric test R2'] = []\n",
    "                kruskal_stats[VALUE_COLUMN]['non-symmetric test RMSE'] = []\n",
    "                kruskal_stats[VALUE_COLUMN]['non-symmetric test R2'] = []\n",
    "                kruskal_stats[VALUE_COLUMN]['rmse']= []\n",
    "                kruskal_stats[VALUE_COLUMN]['r2'] = []\n",
    "            PRED_COLUMN = VALUE_COLUMN+'_pred'\n",
    "            test_prediction = pd.read_csv(os.path.join(DATA_PATH,'fold_'+str(FOLD), FILENAME))\n",
    "            kruskal_stats[VALUE_COLUMN]['rmse'].append(\\\n",
    "                                                       mean_squared_error(test_prediction[~test_prediction[VALUE_COLUMN].isna()][VALUE_COLUMN],\\\n",
    "                                                                          test_prediction[~test_prediction[VALUE_COLUMN].isna()][PRED_COLUMN])**0.5)\n",
    "            kruskal_stats[VALUE_COLUMN]['r2'].append(r2_score(\\\n",
    "                                                              test_prediction[~test_prediction[VALUE_COLUMN].isna()][VALUE_COLUMN],\\\n",
    "                                                              test_prediction[~test_prediction[VALUE_COLUMN].isna()][PRED_COLUMN]))\n",
    "            rmse.append(mean_squared_error(test_prediction[~test_prediction[VALUE_COLUMN].isna()][VALUE_COLUMN],\\\n",
    "                                           test_prediction[~test_prediction[VALUE_COLUMN].isna()][PRED_COLUMN])**0.5)\n",
    "            \n",
    "\n",
    "            test_prediction[ERROR_COLUMN] = (test_prediction[VALUE_COLUMN] - test_prediction[PRED_COLUMN]) ** 2    \n",
    "            test_prediction_sorted = test_prediction.sort_values(by=[ERROR_COLUMN], ascending=False)    \n",
    "\n",
    "            compare_data_with_stats = create_statistics(test_prediction_sorted)\n",
    "\n",
    "            best_n_vals = compare_data_with_stats.iloc[-N_VALUES:]\n",
    "            worst_n_vals = compare_data_with_stats.iloc[:N_VALUES]\n",
    "\n",
    "\n",
    "            for stat in compare_data_with_stats.columns:\n",
    "                if stat not in [SMILES_COLUMN, ERROR_COLUMN] and stat not in VALUE_COLUMNS and stat not in PRED_COLUMNS:\n",
    "                    if stat not in kruskal_stats[VALUE_COLUMN].keys():\n",
    "                        kruskal_stats[VALUE_COLUMN][stat] = []\n",
    "                    kruskal_stats[VALUE_COLUMN][stat].append(stats.kruskal(best_n_vals[stat], worst_n_vals[stat])[1])\n",
    "\n",
    "            symmetric_rull = lambda values: (len(values) - 1 <= len(values[values % 2 == 0])) or\\\n",
    "            (len(values) - 1 <= len(values[(values % 2 == 1) & (values > 1)]))\n",
    "            values_list = [pd.Series(Chem.CanonicalRankAtoms(Chem.MolFromSmiles(smiles), breakTies=False)).value_counts()\\\n",
    "                           for smiles in\\\n",
    "                           compare_data_with_stats[~compare_data_with_stats[VALUE_COLUMN].isna()][SMILES_COLUMN]]\n",
    "            symmetric_indices = [symmetric_rull(values) for values in values_list]\n",
    "            not_symmetric_indices = [not e for e in symmetric_indices]\n",
    "\n",
    "            symmetric_y_predicted = compare_data_with_stats[~compare_data_with_stats[VALUE_COLUMN].isna()][PRED_COLUMN][symmetric_indices]\n",
    "            symmetric_y_expected = compare_data_with_stats[~compare_data_with_stats[VALUE_COLUMN].isna()][VALUE_COLUMN][symmetric_indices]    \n",
    "            not_symmetric_y_predicted = compare_data_with_stats[~compare_data_with_stats[VALUE_COLUMN].isna()][PRED_COLUMN][not_symmetric_indices]    \n",
    "            not_symmetric_y_expected = compare_data_with_stats[~compare_data_with_stats[VALUE_COLUMN].isna()][VALUE_COLUMN][not_symmetric_indices]   \n",
    "\n",
    "            from sklearn.metrics import mean_squared_error    \n",
    "\n",
    "            kruskal_stats[VALUE_COLUMN]['symmetric test RMSE'].append(mean_squared_error(symmetric_y_expected, symmetric_y_predicted, squared=False))\n",
    "            kruskal_stats[VALUE_COLUMN]['symmetric test R2'].append(r2_score(symmetric_y_expected, symmetric_y_predicted))\n",
    "\n",
    "\n",
    "            kruskal_stats[VALUE_COLUMN]['non-symmetric test RMSE'].append(mean_squared_error(not_symmetric_y_expected, not_symmetric_y_predicted, squared=False))\n",
    "            kruskal_stats[VALUE_COLUMN]['non-symmetric test R2'].append(r2_score(not_symmetric_y_expected, not_symmetric_y_predicted))\n",
    "        \n",
    "    \n",
    "    for VALUE in kruskal_stats.keys():\n",
    "        for stat in kruskal_stats[VALUE].keys():\n",
    "            kruskal_stats_mean_std[VALUE+'_'+stat+'_mean'] = np.mean(kruskal_stats[VALUE][stat])\n",
    "            kruskal_stats_mean_std[VALUE+'_'+stat+'_std'] = np.std(kruskal_stats[VALUE][stat])\n",
    "    \n",
    "    kruskal_stistics.append(kruskal_stats_mean_std)\n",
    "    \n",
    "kruskal_stistics = pd.DataFrame(kruskal_stistics)\n",
    "\n",
    "import math\n",
    "for i in range(len(kruskal_stistics)):\n",
    "    stats_model = kruskal_stistics.iloc[i]\n",
    "    print(stats_model['Num_exp'])\n",
    "    print(stats_model['Model'])\n",
    "    print(stats_model['Data'])\n",
    "    print(stats_model['Dataset'])\n",
    "    print()\n",
    "    output = {}\n",
    "    for stat in stats_model.keys():\n",
    "        if stat=='Model' or stat=='Data' or stat=='Dataset' or stat=='Num_exp':\n",
    "            continue\n",
    "        stat_name = '_'.join(stat.split('_')[:-1])\n",
    "        stat_suf = stat.split('_')[-1]\n",
    "        if stat_name not in output.keys():\n",
    "            output[stat_name] = {}\n",
    "        output[stat_name][stat_suf] = stats_model[stat]\n",
    "    for stat in output.keys():\n",
    "        if math.isnan(output[stat]['mean']):\n",
    "            continue\n",
    "        print(stat,' = ', round(output[stat]['mean'],3), '+/-', round(output[stat]['std'], 3))\n",
    "    print()\n",
    "    print('===')\n",
    "    print()"
   ]
  },
  {
   "cell_type": "markdown",
   "metadata": {},
   "source": [
    "# Calculate correlation between logD and logP predictions in multitask"
   ]
  },
  {
   "cell_type": "code",
   "execution_count": 24,
   "metadata": {},
   "outputs": [],
   "source": [
    "NUM_EXPS= [317]"
   ]
  },
  {
   "cell_type": "code",
   "execution_count": 37,
   "metadata": {},
   "outputs": [
    {
     "name": "stderr",
     "output_type": "stream",
     "text": [
      "100%|██████████| 1/1 [00:00<00:00, 20.66it/s]"
     ]
    },
    {
     "name": "stdout",
     "output_type": "stream",
     "text": [
      "Pearson's r  correlation =  0.802 +/- 0.014\n",
      "Spearman's rho  correlation =  0.859 +/- 0.004\n",
      "Kendall's tau  correlation =  0.688 +/- 0.006\n"
     ]
    },
    {
     "name": "stderr",
     "output_type": "stream",
     "text": [
      "\n"
     ]
    }
   ],
   "source": [
    "correlation_mean_std = {}\n",
    "correlation_mean_std['Pearson\\'s r'] = {}\n",
    "correlation_mean_std['Spearman\\'s rho'] = {}\n",
    "correlation_mean_std['Kendall\\'s tau'] = {}\n",
    "for NUM_EXP in tqdm(NUM_EXPS):\n",
    "    DATA_PATH = \"../../data/raw/baselines/dmpnn/logs/exp_\"+str(NUM_EXP)+'/folds'\n",
    "    rmse = []\n",
    "    \n",
    "    correlation = {}\n",
    "    correlation['Pearson\\'s r'] = []\n",
    "    correlation['Spearman\\'s rho'] = []\n",
    "    correlation['Kendall\\'s tau'] = []\n",
    "\n",
    "    for FOLD in range(FOLDS):\n",
    "        import json\n",
    "        with open(os.path.join(DATA_PATH,'fold_'+str(FOLD), 'args.json'), 'r') as f:\n",
    "            args = json.load(f)\n",
    "        VALUE_COLUMNS = args['target_columns']\n",
    "        PRED_COLUMNS = [value+'_pred' for value in args['target_columns']]\n",
    "        \n",
    "        test_prediction = pd.read_csv(os.path.join(DATA_PATH,'fold_'+str(FOLD), FILENAME))\n",
    "        preds_0 = test_prediction[PRED_COLUMNS[0]]\n",
    "        preds_1 = test_prediction[PRED_COLUMNS[1]]\n",
    "        smiles = test_prediction[~test_prediction[VALUE_COLUMN].isna()][SMILES_COLUMN]\n",
    "        values = test_prediction[~test_prediction[VALUE_COLUMN].isna()][VALUE_COLUMN]\n",
    "\n",
    "\n",
    "        correlation['Pearson\\'s r'].append(preds_0.corr(preds_1))\n",
    "        correlation['Spearman\\'s rho'].append(preds_0.corr(preds_1, method='spearman'))\n",
    "        correlation['Kendall\\'s tau'].append(preds_0.corr(preds_1, method='kendall'))\n",
    "        \n",
    "for method in correlation.keys():\n",
    "    correlation_mean_std[method]['mean'] = np.mean(correlation[method])\n",
    "    correlation_mean_std[method]['std'] = np.std(correlation[method])\n",
    "    \n",
    "for method in correlation_mean_std.keys():\n",
    "    print(method, ' correlation = ', \\\n",
    "          round(correlation_mean_std[method]['mean'], 3)\\\n",
    "          ,'+/-',\\\n",
    "          round(correlation_mean_std[method]['std'], 3))"
   ]
  },
  {
   "cell_type": "markdown",
   "metadata": {},
   "source": [
    "# LogP DMPNN model analysis"
   ]
  },
  {
   "cell_type": "markdown",
   "metadata": {},
   "source": [
    "# Get predictions"
   ]
  },
  {
   "cell_type": "markdown",
   "metadata": {},
   "source": [
    "## Average ensemble of models"
   ]
  },
  {
   "cell_type": "code",
   "execution_count": 95,
   "metadata": {},
   "outputs": [],
   "source": [
    "SMILES_COLUMN = 'smiles'\n",
    "VALUE_COLUMN = 'logD'\n",
    "PRED_COLUMN = 'logD_pred'\n",
    "ERROR_COLUMN = 'Squared Error'\n",
    "\n",
    "\n",
    "preds = []\n",
    "\n",
    "for FOLD in range(FOLDS):\n",
    "    test_prediction = pd.read_csv('../../data/4_best_baselines_predictions/dmpnn/logp_wo_averaging_test_preds.csv')\n",
    "    preds.append(test_prediction[PRED_COLUMN].values)\n",
    "    smiles = test_prediction[SMILES_COLUMN]\n",
    "    values = test_prediction[VALUE_COLUMN]\n",
    "    \n",
    "test_prediction = pd.DataFrame(columns = [SMILES_COLUMN, PRED_COLUMN, VALUE_COLUMN])\n",
    "test_prediction[SMILES_COLUMN] = smiles\n",
    "test_prediction[VALUE_COLUMN] = values\n",
    "test_prediction[PRED_COLUMN] = np.mean(np.array(preds), axis = 0)"
   ]
  },
  {
   "cell_type": "code",
   "execution_count": 96,
   "metadata": {},
   "outputs": [
    {
     "data": {
      "text/html": [
       "<div>\n",
       "<style scoped>\n",
       "    .dataframe tbody tr th:only-of-type {\n",
       "        vertical-align: middle;\n",
       "    }\n",
       "\n",
       "    .dataframe tbody tr th {\n",
       "        vertical-align: top;\n",
       "    }\n",
       "\n",
       "    .dataframe thead th {\n",
       "        text-align: right;\n",
       "    }\n",
       "</style>\n",
       "<table border=\"1\" class=\"dataframe\">\n",
       "  <thead>\n",
       "    <tr style=\"text-align: right;\">\n",
       "      <th></th>\n",
       "      <th>smiles</th>\n",
       "      <th>logP_pred</th>\n",
       "      <th>logP</th>\n",
       "    </tr>\n",
       "  </thead>\n",
       "  <tbody>\n",
       "    <tr>\n",
       "      <th>0</th>\n",
       "      <td>CC(=O)NC(Cc1ccccc1)C(=O)NC(Cc1ccccc1)C(=O)N(C)...</td>\n",
       "      <td>2.418475</td>\n",
       "      <td>2.63</td>\n",
       "    </tr>\n",
       "    <tr>\n",
       "      <th>1</th>\n",
       "      <td>CC(C)n1c(/C=C/[C@@H](O)C[C@@H](O)CC(=O)O)c(-c2...</td>\n",
       "      <td>3.829421</td>\n",
       "      <td>4.17</td>\n",
       "    </tr>\n",
       "    <tr>\n",
       "      <th>2</th>\n",
       "      <td>CCS(=O)c1sc(C(C)=O)c(N)c1C#N</td>\n",
       "      <td>1.896444</td>\n",
       "      <td>1.82</td>\n",
       "    </tr>\n",
       "    <tr>\n",
       "      <th>3</th>\n",
       "      <td>O=P(Oc1ccccc1)(Oc1ccccc1)Oc1ccccc1</td>\n",
       "      <td>4.344720</td>\n",
       "      <td>4.59</td>\n",
       "    </tr>\n",
       "    <tr>\n",
       "      <th>4</th>\n",
       "      <td>OC1(c2cc(Cl)ccc2Cl)CCCCC1n1cncn1</td>\n",
       "      <td>3.327758</td>\n",
       "      <td>3.24</td>\n",
       "    </tr>\n",
       "  </tbody>\n",
       "</table>\n",
       "</div>"
      ],
      "text/plain": [
       "                                              smiles  logP_pred  logP\n",
       "0  CC(=O)NC(Cc1ccccc1)C(=O)NC(Cc1ccccc1)C(=O)N(C)...   2.418475  2.63\n",
       "1  CC(C)n1c(/C=C/[C@@H](O)C[C@@H](O)CC(=O)O)c(-c2...   3.829421  4.17\n",
       "2                       CCS(=O)c1sc(C(C)=O)c(N)c1C#N   1.896444  1.82\n",
       "3                 O=P(Oc1ccccc1)(Oc1ccccc1)Oc1ccccc1   4.344720  4.59\n",
       "4                   OC1(c2cc(Cl)ccc2Cl)CCCCC1n1cncn1   3.327758  3.24"
      ]
     },
     "execution_count": 96,
     "metadata": {},
     "output_type": "execute_result"
    }
   ],
   "source": [
    "test_prediction.head()"
   ]
  },
  {
   "cell_type": "code",
   "execution_count": 97,
   "metadata": {},
   "outputs": [
    {
     "name": "stdout",
     "output_type": "stream",
     "text": [
      "Test RMSE =  0.44085248822198\n"
     ]
    }
   ],
   "source": [
    "print('Test RMSE = ', mean_squared_error(test_prediction[VALUE_COLUMN], test_prediction[PRED_COLUMN])**0.5)"
   ]
  },
  {
   "cell_type": "markdown",
   "metadata": {},
   "source": [
    "## Average scores"
   ]
  },
  {
   "cell_type": "code",
   "execution_count": 100,
   "metadata": {},
   "outputs": [
    {
     "name": "stdout",
     "output_type": "stream",
     "text": [
      "All RMSE  [0.44085248822198, 0.44085248822198, 0.44085248822198, 0.44085248822198]\n",
      "Test RMSE =  0.44085248822198\n"
     ]
    }
   ],
   "source": [
    "rmse = []\n",
    "for FOLD in range(FOLDS):\n",
    "    test_prediction = pd.read_csv('../../data/4_best_baselines_predictions/dmpnn/logp_wo_averaging_test_preds.csv')\n",
    "    rmse.append(mean_squared_error(test_prediction[VALUE_COLUMN], test_prediction[PRED_COLUMN])**0.5)\n",
    "\n",
    "print('All RMSE ', rmse)\n",
    "print('Test RMSE = ', np.mean(rmse))"
   ]
  },
  {
   "cell_type": "markdown",
   "metadata": {},
   "source": [
    "## Calculate error"
   ]
  },
  {
   "cell_type": "code",
   "execution_count": 101,
   "metadata": {},
   "outputs": [],
   "source": [
    "ERROR_COLUMN = 'Squared Error'"
   ]
  },
  {
   "cell_type": "code",
   "execution_count": 102,
   "metadata": {},
   "outputs": [],
   "source": [
    "test_prediction = pd.read_csv('../../data/4_best_baselines_predictions/dmpnn/logp_wo_averaging_test_preds.csv')"
   ]
  },
  {
   "cell_type": "code",
   "execution_count": 103,
   "metadata": {},
   "outputs": [],
   "source": [
    "test_prediction[ERROR_COLUMN] = (test_prediction[VALUE_COLUMN] - test_prediction[PRED_COLUMN]) ** 2"
   ]
  },
  {
   "cell_type": "code",
   "execution_count": 104,
   "metadata": {},
   "outputs": [],
   "source": [
    "test_prediction_sorted = test_prediction.sort_values(by=[ERROR_COLUMN], ascending=False)"
   ]
  },
  {
   "cell_type": "code",
   "execution_count": 105,
   "metadata": {},
   "outputs": [],
   "source": [
    "def create_statistics(vals):\n",
    "    values = vals.copy()\n",
    "    mols = [Chem.MolFromSmiles(x) for x in values[SMILES_COLUMN]]\n",
    "    \n",
    "    atom_count = [mol.GetNumAtoms() for mol in mols]\n",
    "    values['atom_count'] = pd.Series(atom_count)\n",
    "    \n",
    "    values['ring_count'] = pd.Series([mol.GetRingInfo().NumRings() for mol in mols])\n",
    "    \n",
    "    mol_atoms = [mol.GetAtoms() for mol in mols]\n",
    "    non_simple_atom_count = [sum((num.GetAtomicNum() not in [1, 6, 8, 7]) for num in m_atoms) for m_atoms in mol_atoms]\n",
    "    values['non_organogens_count'] = pd.Series(non_simple_atom_count)\n",
    "    \n",
    "    values['non_organogens_percent'] = values.non_organogens_count / values.atom_count *100\n",
    "    \n",
    "    benzene_smiles = 'C1=CC=CC=C1'\n",
    "    pattern = Chem.MolFromSmiles(benzene_smiles)\n",
    "    values['aromatic_count'] = pd.Series([len(mol.GetSubstructMatches(pattern)) for mol in mols])\n",
    "    \n",
    "    values['aromatic_rings_percent'] = values.aromatic_count / values.ring_count *100\n",
    "    values['aromatic_rings_percent'] = values['aromatic_rings_percent'].fillna(0)\n",
    "    \n",
    "    values['bond_count'] =  [len(mol.GetBonds()) for mol in mols]\n",
    "    values['aromatic_bond_count'] = [sum(bond.GetIsAromatic() for bond in mol.GetBonds()) for mol in mols]\n",
    "    values['aromatic_bond_percent'] = values.aromatic_bond_count / values.bond_count * 100\n",
    "    \n",
    "    values_list = [pd.Series(Chem.CanonicalRankAtoms(mol, breakTies=False)).value_counts() for mol in mols]\n",
    "    values['is_symmetric'] =  [(len(values) - 1 <= len(values[values % 2 == 0])) or (len(values) - 1 <= len(values[(values % 2 == 1) & (values > 1)])) for values in values_list]\n",
    "    \n",
    "    return values"
   ]
  },
  {
   "cell_type": "code",
   "execution_count": 106,
   "metadata": {},
   "outputs": [],
   "source": [
    "compare_data_with_stats = create_statistics(test_prediction_sorted)"
   ]
  },
  {
   "cell_type": "code",
   "execution_count": 139,
   "metadata": {},
   "outputs": [
    {
     "data": {
      "text/html": [
       "<div>\n",
       "<style scoped>\n",
       "    .dataframe tbody tr th:only-of-type {\n",
       "        vertical-align: middle;\n",
       "    }\n",
       "\n",
       "    .dataframe tbody tr th {\n",
       "        vertical-align: top;\n",
       "    }\n",
       "\n",
       "    .dataframe thead th {\n",
       "        text-align: right;\n",
       "    }\n",
       "</style>\n",
       "<table border=\"1\" class=\"dataframe\">\n",
       "  <thead>\n",
       "    <tr style=\"text-align: right;\">\n",
       "      <th></th>\n",
       "      <th>smiles</th>\n",
       "      <th>logP</th>\n",
       "      <th>logP_pred</th>\n",
       "      <th>Squared Error</th>\n",
       "      <th>atom_count</th>\n",
       "      <th>ring_count</th>\n",
       "      <th>non_organogens_count</th>\n",
       "      <th>non_organogens_percent</th>\n",
       "      <th>aromatic_count</th>\n",
       "      <th>aromatic_rings_percent</th>\n",
       "      <th>bond_count</th>\n",
       "      <th>aromatic_bond_count</th>\n",
       "      <th>aromatic_bond_percent</th>\n",
       "      <th>is_symmetric</th>\n",
       "    </tr>\n",
       "  </thead>\n",
       "  <tbody>\n",
       "    <tr>\n",
       "      <th>925</th>\n",
       "      <td>Cc1ncc([N+](=O)[O-])n1CCS(C)(=O)=O</td>\n",
       "      <td>-0.82</td>\n",
       "      <td>-0.820723</td>\n",
       "      <td>5.230613e-07</td>\n",
       "      <td>17</td>\n",
       "      <td>2</td>\n",
       "      <td>1</td>\n",
       "      <td>5.882353</td>\n",
       "      <td>2</td>\n",
       "      <td>100.000000</td>\n",
       "      <td>15</td>\n",
       "      <td>5</td>\n",
       "      <td>33.333333</td>\n",
       "      <td>False</td>\n",
       "    </tr>\n",
       "    <tr>\n",
       "      <th>42</th>\n",
       "      <td>COc1cccc(CC(C)N)c1OC</td>\n",
       "      <td>1.49</td>\n",
       "      <td>1.489322</td>\n",
       "      <td>4.602563e-07</td>\n",
       "      <td>23</td>\n",
       "      <td>3</td>\n",
       "      <td>2</td>\n",
       "      <td>8.695652</td>\n",
       "      <td>1</td>\n",
       "      <td>33.333333</td>\n",
       "      <td>14</td>\n",
       "      <td>6</td>\n",
       "      <td>42.857143</td>\n",
       "      <td>False</td>\n",
       "    </tr>\n",
       "    <tr>\n",
       "      <th>1729</th>\n",
       "      <td>COP(=S)(NC(C)C)Oc1ccc(Cl)cc1Cl</td>\n",
       "      <td>4.30</td>\n",
       "      <td>4.299360</td>\n",
       "      <td>4.089857e-07</td>\n",
       "      <td>14</td>\n",
       "      <td>4</td>\n",
       "      <td>0</td>\n",
       "      <td>0.000000</td>\n",
       "      <td>0</td>\n",
       "      <td>0.000000</td>\n",
       "      <td>17</td>\n",
       "      <td>6</td>\n",
       "      <td>35.294118</td>\n",
       "      <td>False</td>\n",
       "    </tr>\n",
       "    <tr>\n",
       "      <th>2060</th>\n",
       "      <td>[O-][n+]1onc(-c2ccccc2)c1Cl</td>\n",
       "      <td>2.70</td>\n",
       "      <td>2.699795</td>\n",
       "      <td>4.213496e-08</td>\n",
       "      <td>9</td>\n",
       "      <td>1</td>\n",
       "      <td>0</td>\n",
       "      <td>0.000000</td>\n",
       "      <td>0</td>\n",
       "      <td>0.000000</td>\n",
       "      <td>14</td>\n",
       "      <td>11</td>\n",
       "      <td>78.571429</td>\n",
       "      <td>False</td>\n",
       "    </tr>\n",
       "    <tr>\n",
       "      <th>1093</th>\n",
       "      <td>OCCc1ccncc1</td>\n",
       "      <td>0.10</td>\n",
       "      <td>0.100122</td>\n",
       "      <td>1.484384e-08</td>\n",
       "      <td>19</td>\n",
       "      <td>2</td>\n",
       "      <td>5</td>\n",
       "      <td>26.315789</td>\n",
       "      <td>2</td>\n",
       "      <td>100.000000</td>\n",
       "      <td>9</td>\n",
       "      <td>6</td>\n",
       "      <td>66.666667</td>\n",
       "      <td>False</td>\n",
       "    </tr>\n",
       "  </tbody>\n",
       "</table>\n",
       "</div>"
      ],
      "text/plain": [
       "                                  smiles  logP  logP_pred  Squared Error  \\\n",
       "925   Cc1ncc([N+](=O)[O-])n1CCS(C)(=O)=O -0.82  -0.820723   5.230613e-07   \n",
       "42                  COc1cccc(CC(C)N)c1OC  1.49   1.489322   4.602563e-07   \n",
       "1729      COP(=S)(NC(C)C)Oc1ccc(Cl)cc1Cl  4.30   4.299360   4.089857e-07   \n",
       "2060         [O-][n+]1onc(-c2ccccc2)c1Cl  2.70   2.699795   4.213496e-08   \n",
       "1093                         OCCc1ccncc1  0.10   0.100122   1.484384e-08   \n",
       "\n",
       "      atom_count  ring_count  non_organogens_count  non_organogens_percent  \\\n",
       "925           17           2                     1                5.882353   \n",
       "42            23           3                     2                8.695652   \n",
       "1729          14           4                     0                0.000000   \n",
       "2060           9           1                     0                0.000000   \n",
       "1093          19           2                     5               26.315789   \n",
       "\n",
       "      aromatic_count  aromatic_rings_percent  bond_count  aromatic_bond_count  \\\n",
       "925                2              100.000000          15                    5   \n",
       "42                 1               33.333333          14                    6   \n",
       "1729               0                0.000000          17                    6   \n",
       "2060               0                0.000000          14                   11   \n",
       "1093               2              100.000000           9                    6   \n",
       "\n",
       "      aromatic_bond_percent  is_symmetric  \n",
       "925               33.333333         False  \n",
       "42                42.857143         False  \n",
       "1729              35.294118         False  \n",
       "2060              78.571429         False  \n",
       "1093              66.666667         False  "
      ]
     },
     "execution_count": 139,
     "metadata": {},
     "output_type": "execute_result"
    }
   ],
   "source": [
    "compare_data_with_stats.tail()"
   ]
  },
  {
   "cell_type": "markdown",
   "metadata": {},
   "source": [
    "# Get best and worst predictions"
   ]
  },
  {
   "cell_type": "code",
   "execution_count": 108,
   "metadata": {},
   "outputs": [],
   "source": [
    "n_values = 200"
   ]
  },
  {
   "cell_type": "code",
   "execution_count": 109,
   "metadata": {},
   "outputs": [],
   "source": [
    "best_n_vals = compare_data_with_stats.iloc[-n_values:]"
   ]
  },
  {
   "cell_type": "code",
   "execution_count": 141,
   "metadata": {},
   "outputs": [
    {
     "data": {
      "text/html": [
       "<div>\n",
       "<style scoped>\n",
       "    .dataframe tbody tr th:only-of-type {\n",
       "        vertical-align: middle;\n",
       "    }\n",
       "\n",
       "    .dataframe tbody tr th {\n",
       "        vertical-align: top;\n",
       "    }\n",
       "\n",
       "    .dataframe thead th {\n",
       "        text-align: right;\n",
       "    }\n",
       "</style>\n",
       "<table border=\"1\" class=\"dataframe\">\n",
       "  <thead>\n",
       "    <tr style=\"text-align: right;\">\n",
       "      <th></th>\n",
       "      <th>smiles</th>\n",
       "      <th>logP</th>\n",
       "      <th>logP_pred</th>\n",
       "      <th>Squared Error</th>\n",
       "      <th>atom_count</th>\n",
       "      <th>ring_count</th>\n",
       "      <th>non_organogens_count</th>\n",
       "      <th>non_organogens_percent</th>\n",
       "      <th>aromatic_count</th>\n",
       "      <th>aromatic_rings_percent</th>\n",
       "      <th>bond_count</th>\n",
       "      <th>aromatic_bond_count</th>\n",
       "      <th>aromatic_bond_percent</th>\n",
       "      <th>is_symmetric</th>\n",
       "    </tr>\n",
       "  </thead>\n",
       "  <tbody>\n",
       "    <tr>\n",
       "      <th>1029</th>\n",
       "      <td>CCCCCCCCCCCCCCP(C)(C)(C)Br</td>\n",
       "      <td>2.06</td>\n",
       "      <td>6.352609</td>\n",
       "      <td>18.426489</td>\n",
       "      <td>19</td>\n",
       "      <td>2</td>\n",
       "      <td>2</td>\n",
       "      <td>10.526316</td>\n",
       "      <td>1</td>\n",
       "      <td>50.0</td>\n",
       "      <td>18</td>\n",
       "      <td>0</td>\n",
       "      <td>0.000000</td>\n",
       "      <td>False</td>\n",
       "    </tr>\n",
       "    <tr>\n",
       "      <th>1730</th>\n",
       "      <td>O=C(O[K])C1C2CCC(O2)C1C(=O)O[K]</td>\n",
       "      <td>0.32</td>\n",
       "      <td>-3.775163</td>\n",
       "      <td>16.770356</td>\n",
       "      <td>11</td>\n",
       "      <td>1</td>\n",
       "      <td>0</td>\n",
       "      <td>0.000000</td>\n",
       "      <td>1</td>\n",
       "      <td>100.0</td>\n",
       "      <td>16</td>\n",
       "      <td>0</td>\n",
       "      <td>0.000000</td>\n",
       "      <td>True</td>\n",
       "    </tr>\n",
       "    <tr>\n",
       "      <th>1824</th>\n",
       "      <td>N=C1C=CC(=C(c2ccc(N)cc2)c2ccc(N)cc2)C=C1</td>\n",
       "      <td>-0.21</td>\n",
       "      <td>2.959373</td>\n",
       "      <td>10.044923</td>\n",
       "      <td>20</td>\n",
       "      <td>1</td>\n",
       "      <td>0</td>\n",
       "      <td>0.000000</td>\n",
       "      <td>0</td>\n",
       "      <td>0.0</td>\n",
       "      <td>24</td>\n",
       "      <td>12</td>\n",
       "      <td>50.000000</td>\n",
       "      <td>False</td>\n",
       "    </tr>\n",
       "    <tr>\n",
       "      <th>637</th>\n",
       "      <td>O=S(=O)(O[Na])c1cc(-n2nc3ccc4ccccc4c3n2)ccc1C=...</td>\n",
       "      <td>1.80</td>\n",
       "      <td>-0.945304</td>\n",
       "      <td>7.536693</td>\n",
       "      <td>18</td>\n",
       "      <td>1</td>\n",
       "      <td>3</td>\n",
       "      <td>16.666667</td>\n",
       "      <td>1</td>\n",
       "      <td>100.0</td>\n",
       "      <td>36</td>\n",
       "      <td>27</td>\n",
       "      <td>75.000000</td>\n",
       "      <td>False</td>\n",
       "    </tr>\n",
       "    <tr>\n",
       "      <th>658</th>\n",
       "      <td>CC1OC(OC2C(O)CC(OC3C(O)CC(OC4CCC5(C)C(CCC6C5CC...</td>\n",
       "      <td>-1.77</td>\n",
       "      <td>0.926779</td>\n",
       "      <td>7.272619</td>\n",
       "      <td>16</td>\n",
       "      <td>1</td>\n",
       "      <td>1</td>\n",
       "      <td>6.250000</td>\n",
       "      <td>1</td>\n",
       "      <td>100.0</td>\n",
       "      <td>74</td>\n",
       "      <td>5</td>\n",
       "      <td>6.756757</td>\n",
       "      <td>False</td>\n",
       "    </tr>\n",
       "    <tr>\n",
       "      <th>...</th>\n",
       "      <td>...</td>\n",
       "      <td>...</td>\n",
       "      <td>...</td>\n",
       "      <td>...</td>\n",
       "      <td>...</td>\n",
       "      <td>...</td>\n",
       "      <td>...</td>\n",
       "      <td>...</td>\n",
       "      <td>...</td>\n",
       "      <td>...</td>\n",
       "      <td>...</td>\n",
       "      <td>...</td>\n",
       "      <td>...</td>\n",
       "      <td>...</td>\n",
       "    </tr>\n",
       "    <tr>\n",
       "      <th>1317</th>\n",
       "      <td>O=C(O)C(c1ccc(-c2ccccc2)cc1)C(O)c1cccc(F)c1</td>\n",
       "      <td>3.31</td>\n",
       "      <td>3.950504</td>\n",
       "      <td>0.410245</td>\n",
       "      <td>12</td>\n",
       "      <td>1</td>\n",
       "      <td>0</td>\n",
       "      <td>0.000000</td>\n",
       "      <td>1</td>\n",
       "      <td>100.0</td>\n",
       "      <td>27</td>\n",
       "      <td>18</td>\n",
       "      <td>66.666667</td>\n",
       "      <td>False</td>\n",
       "    </tr>\n",
       "    <tr>\n",
       "      <th>488</th>\n",
       "      <td>C=CCn1c(SCC(=O)N2C[C@@]3(C)C[C@@H]2CC(C)(C)C3)...</td>\n",
       "      <td>6.04</td>\n",
       "      <td>6.678596</td>\n",
       "      <td>0.407805</td>\n",
       "      <td>11</td>\n",
       "      <td>1</td>\n",
       "      <td>0</td>\n",
       "      <td>0.000000</td>\n",
       "      <td>0</td>\n",
       "      <td>0.0</td>\n",
       "      <td>33</td>\n",
       "      <td>10</td>\n",
       "      <td>30.303030</td>\n",
       "      <td>False</td>\n",
       "    </tr>\n",
       "    <tr>\n",
       "      <th>289</th>\n",
       "      <td>CC#Cc1cc(C)[nH]c(=Nc2ccccc2)n1</td>\n",
       "      <td>3.28</td>\n",
       "      <td>3.916718</td>\n",
       "      <td>0.405410</td>\n",
       "      <td>7</td>\n",
       "      <td>0</td>\n",
       "      <td>1</td>\n",
       "      <td>14.285714</td>\n",
       "      <td>0</td>\n",
       "      <td>0.0</td>\n",
       "      <td>18</td>\n",
       "      <td>12</td>\n",
       "      <td>66.666667</td>\n",
       "      <td>False</td>\n",
       "    </tr>\n",
       "    <tr>\n",
       "      <th>1559</th>\n",
       "      <td>CCOC(=O)C(Cc1ccoc1)=NC=O</td>\n",
       "      <td>2.08</td>\n",
       "      <td>1.445709</td>\n",
       "      <td>0.402325</td>\n",
       "      <td>10</td>\n",
       "      <td>2</td>\n",
       "      <td>0</td>\n",
       "      <td>0.000000</td>\n",
       "      <td>1</td>\n",
       "      <td>50.0</td>\n",
       "      <td>15</td>\n",
       "      <td>5</td>\n",
       "      <td>33.333333</td>\n",
       "      <td>False</td>\n",
       "    </tr>\n",
       "    <tr>\n",
       "      <th>287</th>\n",
       "      <td>CCOC(=O)C1=C2SC(C)C(=O)N2C(=N)C(C(=O)OCC)[C@@H...</td>\n",
       "      <td>5.49</td>\n",
       "      <td>4.855921</td>\n",
       "      <td>0.402056</td>\n",
       "      <td>6</td>\n",
       "      <td>0</td>\n",
       "      <td>0</td>\n",
       "      <td>0.000000</td>\n",
       "      <td>0</td>\n",
       "      <td>0.0</td>\n",
       "      <td>32</td>\n",
       "      <td>6</td>\n",
       "      <td>18.750000</td>\n",
       "      <td>False</td>\n",
       "    </tr>\n",
       "  </tbody>\n",
       "</table>\n",
       "<p>200 rows × 14 columns</p>\n",
       "</div>"
      ],
      "text/plain": [
       "                                                 smiles  logP  logP_pred  \\\n",
       "1029                         CCCCCCCCCCCCCCP(C)(C)(C)Br  2.06   6.352609   \n",
       "1730                    O=C(O[K])C1C2CCC(O2)C1C(=O)O[K]  0.32  -3.775163   \n",
       "1824           N=C1C=CC(=C(c2ccc(N)cc2)c2ccc(N)cc2)C=C1 -0.21   2.959373   \n",
       "637   O=S(=O)(O[Na])c1cc(-n2nc3ccc4ccccc4c3n2)ccc1C=...  1.80  -0.945304   \n",
       "658   CC1OC(OC2C(O)CC(OC3C(O)CC(OC4CCC5(C)C(CCC6C5CC... -1.77   0.926779   \n",
       "...                                                 ...   ...        ...   \n",
       "1317        O=C(O)C(c1ccc(-c2ccccc2)cc1)C(O)c1cccc(F)c1  3.31   3.950504   \n",
       "488   C=CCn1c(SCC(=O)N2C[C@@]3(C)C[C@@H]2CC(C)(C)C3)...  6.04   6.678596   \n",
       "289                      CC#Cc1cc(C)[nH]c(=Nc2ccccc2)n1  3.28   3.916718   \n",
       "1559                           CCOC(=O)C(Cc1ccoc1)=NC=O  2.08   1.445709   \n",
       "287   CCOC(=O)C1=C2SC(C)C(=O)N2C(=N)C(C(=O)OCC)[C@@H...  5.49   4.855921   \n",
       "\n",
       "      Squared Error  atom_count  ring_count  non_organogens_count  \\\n",
       "1029      18.426489          19           2                     2   \n",
       "1730      16.770356          11           1                     0   \n",
       "1824      10.044923          20           1                     0   \n",
       "637        7.536693          18           1                     3   \n",
       "658        7.272619          16           1                     1   \n",
       "...             ...         ...         ...                   ...   \n",
       "1317       0.410245          12           1                     0   \n",
       "488        0.407805          11           1                     0   \n",
       "289        0.405410           7           0                     1   \n",
       "1559       0.402325          10           2                     0   \n",
       "287        0.402056           6           0                     0   \n",
       "\n",
       "      non_organogens_percent  aromatic_count  aromatic_rings_percent  \\\n",
       "1029               10.526316               1                    50.0   \n",
       "1730                0.000000               1                   100.0   \n",
       "1824                0.000000               0                     0.0   \n",
       "637                16.666667               1                   100.0   \n",
       "658                 6.250000               1                   100.0   \n",
       "...                      ...             ...                     ...   \n",
       "1317                0.000000               1                   100.0   \n",
       "488                 0.000000               0                     0.0   \n",
       "289                14.285714               0                     0.0   \n",
       "1559                0.000000               1                    50.0   \n",
       "287                 0.000000               0                     0.0   \n",
       "\n",
       "      bond_count  aromatic_bond_count  aromatic_bond_percent  is_symmetric  \n",
       "1029          18                    0               0.000000         False  \n",
       "1730          16                    0               0.000000          True  \n",
       "1824          24                   12              50.000000         False  \n",
       "637           36                   27              75.000000         False  \n",
       "658           74                    5               6.756757         False  \n",
       "...          ...                  ...                    ...           ...  \n",
       "1317          27                   18              66.666667         False  \n",
       "488           33                   10              30.303030         False  \n",
       "289           18                   12              66.666667         False  \n",
       "1559          15                    5              33.333333         False  \n",
       "287           32                    6              18.750000         False  \n",
       "\n",
       "[200 rows x 14 columns]"
      ]
     },
     "execution_count": 141,
     "metadata": {},
     "output_type": "execute_result"
    }
   ],
   "source": [
    "worst_n_vals.sort_values(by = [ERROR_COLUMN],ascending = False)"
   ]
  },
  {
   "cell_type": "code",
   "execution_count": 110,
   "metadata": {},
   "outputs": [],
   "source": [
    "worst_n_vals = compare_data_with_stats.iloc[:n_values]"
   ]
  },
  {
   "cell_type": "markdown",
   "metadata": {},
   "source": [
    "# Get Kruskal Stats"
   ]
  },
  {
   "cell_type": "code",
   "execution_count": 111,
   "metadata": {},
   "outputs": [
    {
     "name": "stdout",
     "output_type": "stream",
     "text": [
      "KruskalResult(statistic=2.503076453575314, pvalue=0.11362414365070286)\n"
     ]
    }
   ],
   "source": [
    "print(stats.kruskal(best_n_vals.atom_count, worst_n_vals.atom_count))"
   ]
  },
  {
   "cell_type": "code",
   "execution_count": 112,
   "metadata": {},
   "outputs": [
    {
     "data": {
      "text/plain": [
       "<AxesSubplot:xlabel='atom_count'>"
      ]
     },
     "execution_count": 112,
     "metadata": {},
     "output_type": "execute_result"
    },
    {
     "data": {
      "image/png": "[encoded data removed]",
      "text/plain": [
       "<Figure size 432x288 with 1 Axes>"
      ]
     },
     "metadata": {
      "needs_background": "light"
     },
     "output_type": "display_data"
    }
   ],
   "source": [
    "sns.distplot(best_n_vals.atom_count, color='g')\n",
    "sns.distplot(worst_n_vals.atom_count, color='r')"
   ]
  },
  {
   "cell_type": "code",
   "execution_count": 113,
   "metadata": {},
   "outputs": [
    {
     "name": "stdout",
     "output_type": "stream",
     "text": [
      "KruskalResult(statistic=2.4772490765201196, pvalue=0.11550411585688974)\n"
     ]
    }
   ],
   "source": [
    "print(stats.kruskal(best_n_vals.ring_count, worst_n_vals.ring_count))"
   ]
  },
  {
   "cell_type": "code",
   "execution_count": 114,
   "metadata": {},
   "outputs": [
    {
     "data": {
      "text/plain": [
       "<AxesSubplot:xlabel='ring_count'>"
      ]
     },
     "execution_count": 114,
     "metadata": {},
     "output_type": "execute_result"
    },
    {
     "data": {
      "image/png": "[encoded data removed]",
      "text/plain": [
       "<Figure size 432x288 with 1 Axes>"
      ]
     },
     "metadata": {
      "needs_background": "light"
     },
     "output_type": "display_data"
    }
   ],
   "source": [
    "sns.distplot(best_n_vals.ring_count, color='g')\n",
    "sns.distplot(worst_n_vals.ring_count, color='r')"
   ]
  },
  {
   "cell_type": "code",
   "execution_count": 115,
   "metadata": {},
   "outputs": [
    {
     "name": "stdout",
     "output_type": "stream",
     "text": [
      "KruskalResult(statistic=0.3427930041983832, pvalue=0.5582214665697456)\n"
     ]
    }
   ],
   "source": [
    "print(stats.kruskal(best_n_vals.non_organogens_count, worst_n_vals.non_organogens_count))"
   ]
  },
  {
   "cell_type": "code",
   "execution_count": 116,
   "metadata": {},
   "outputs": [
    {
     "data": {
      "text/plain": [
       "<AxesSubplot:xlabel='non_organogens_count'>"
      ]
     },
     "execution_count": 116,
     "metadata": {},
     "output_type": "execute_result"
    },
    {
     "data": {
      "image/png": "[encoded data removed]",
      "text/plain": [
       "<Figure size 432x288 with 1 Axes>"
      ]
     },
     "metadata": {
      "needs_background": "light"
     },
     "output_type": "display_data"
    }
   ],
   "source": [
    "sns.distplot(best_n_vals.non_organogens_count, color='g')\n",
    "sns.distplot(worst_n_vals.non_organogens_count, color='r')"
   ]
  },
  {
   "cell_type": "code",
   "execution_count": 117,
   "metadata": {},
   "outputs": [
    {
     "name": "stdout",
     "output_type": "stream",
     "text": [
      "KruskalResult(statistic=0.1471269545413422, pvalue=0.7012962031583021)\n"
     ]
    }
   ],
   "source": [
    "print(stats.kruskal(best_n_vals.non_organogens_percent, worst_n_vals.non_organogens_percent))"
   ]
  },
  {
   "cell_type": "code",
   "execution_count": 118,
   "metadata": {},
   "outputs": [
    {
     "data": {
      "text/plain": [
       "<AxesSubplot:xlabel='non_organogens_percent'>"
      ]
     },
     "execution_count": 118,
     "metadata": {},
     "output_type": "execute_result"
    },
    {
     "data": {
      "image/png": "[encoded data removed]",
      "text/plain": [
       "<Figure size 432x288 with 1 Axes>"
      ]
     },
     "metadata": {
      "needs_background": "light"
     },
     "output_type": "display_data"
    }
   ],
   "source": [
    "sns.distplot(best_n_vals.non_organogens_percent, color='g')\n",
    "sns.distplot(worst_n_vals.non_organogens_percent, color='r')"
   ]
  },
  {
   "cell_type": "code",
   "execution_count": 119,
   "metadata": {},
   "outputs": [
    {
     "name": "stdout",
     "output_type": "stream",
     "text": [
      "KruskalResult(statistic=2.317463149797452, pvalue=0.12792851052699947)\n"
     ]
    }
   ],
   "source": [
    "print(stats.kruskal(best_n_vals.aromatic_count, worst_n_vals.aromatic_count))"
   ]
  },
  {
   "cell_type": "code",
   "execution_count": 120,
   "metadata": {},
   "outputs": [
    {
     "data": {
      "text/plain": [
       "<AxesSubplot:xlabel='aromatic_count'>"
      ]
     },
     "execution_count": 120,
     "metadata": {},
     "output_type": "execute_result"
    },
    {
     "data": {
      "image/png": "[encoded data removed]",
      "text/plain": [
       "<Figure size 432x288 with 1 Axes>"
      ]
     },
     "metadata": {
      "needs_background": "light"
     },
     "output_type": "display_data"
    }
   ],
   "source": [
    "sns.distplot(best_n_vals.aromatic_count, color='g')\n",
    "sns.distplot(worst_n_vals.aromatic_count, color='r')"
   ]
  },
  {
   "cell_type": "code",
   "execution_count": 121,
   "metadata": {},
   "outputs": [
    {
     "name": "stdout",
     "output_type": "stream",
     "text": [
      "KruskalResult(statistic=0.09733631334489745, pvalue=0.7550498852400577)\n"
     ]
    }
   ],
   "source": [
    "print(stats.kruskal(best_n_vals.aromatic_rings_percent, worst_n_vals.aromatic_rings_percent))"
   ]
  },
  {
   "cell_type": "code",
   "execution_count": 122,
   "metadata": {},
   "outputs": [
    {
     "data": {
      "text/plain": [
       "<AxesSubplot:xlabel='aromatic_rings_percent'>"
      ]
     },
     "execution_count": 122,
     "metadata": {},
     "output_type": "execute_result"
    },
    {
     "data": {
      "image/png": "[encoded data removed]",
      "text/plain": [
       "<Figure size 432x288 with 1 Axes>"
      ]
     },
     "metadata": {
      "needs_background": "light"
     },
     "output_type": "display_data"
    }
   ],
   "source": [
    "sns.distplot(best_n_vals.aromatic_rings_percent, color='g')\n",
    "sns.distplot(worst_n_vals.aromatic_rings_percent, color='r')"
   ]
  },
  {
   "cell_type": "code",
   "execution_count": 123,
   "metadata": {},
   "outputs": [
    {
     "name": "stdout",
     "output_type": "stream",
     "text": [
      "KruskalResult(statistic=21.537314181354503, pvalue=3.4701051685614547e-06)\n"
     ]
    }
   ],
   "source": [
    "print(stats.kruskal(best_n_vals.aromatic_bond_percent, worst_n_vals.aromatic_bond_percent))"
   ]
  },
  {
   "cell_type": "code",
   "execution_count": 124,
   "metadata": {},
   "outputs": [
    {
     "data": {
      "text/plain": [
       "<AxesSubplot:xlabel='aromatic_bond_percent'>"
      ]
     },
     "execution_count": 124,
     "metadata": {},
     "output_type": "execute_result"
    },
    {
     "data": {
      "image/png": "[encoded data removed]",
      "text/plain": [
       "<Figure size 432x288 with 1 Axes>"
      ]
     },
     "metadata": {
      "needs_background": "light"
     },
     "output_type": "display_data"
    }
   ],
   "source": [
    "sns.distplot(best_n_vals.aromatic_bond_percent, color='g')\n",
    "sns.distplot(worst_n_vals.aromatic_bond_percent, color='r')"
   ]
  },
  {
   "cell_type": "code",
   "execution_count": 125,
   "metadata": {},
   "outputs": [
    {
     "name": "stdout",
     "output_type": "stream",
     "text": [
      "KruskalResult(statistic=0.24278454096355018, pvalue=0.6222021666954054)\n"
     ]
    }
   ],
   "source": [
    "print(stats.kruskal(best_n_vals.aromatic_bond_count, worst_n_vals.aromatic_bond_count))"
   ]
  },
  {
   "cell_type": "code",
   "execution_count": 126,
   "metadata": {},
   "outputs": [
    {
     "data": {
      "text/plain": [
       "<AxesSubplot:xlabel='aromatic_bond_count'>"
      ]
     },
     "execution_count": 126,
     "metadata": {},
     "output_type": "execute_result"
    },
    {
     "data": {
      "image/png": "[encoded data removed]",
      "text/plain": [
       "<Figure size 432x288 with 1 Axes>"
      ]
     },
     "metadata": {
      "needs_background": "light"
     },
     "output_type": "display_data"
    }
   ],
   "source": [
    "sns.distplot(best_n_vals.aromatic_bond_count, color='g')\n",
    "sns.distplot(worst_n_vals.aromatic_bond_count, color='r')"
   ]
  },
  {
   "cell_type": "markdown",
   "metadata": {},
   "source": [
    "# Symmetric metrics"
   ]
  },
  {
   "cell_type": "code",
   "execution_count": 127,
   "metadata": {},
   "outputs": [],
   "source": [
    "symmetric_rull = lambda values: (len(values) - 1 <= len(values[values % 2 == 0])) or (len(values) - 1 <= len(values[(values % 2 == 1) & (values > 1)]))"
   ]
  },
  {
   "cell_type": "code",
   "execution_count": 128,
   "metadata": {},
   "outputs": [],
   "source": [
    "values_list = [pd.Series(Chem.CanonicalRankAtoms(Chem.MolFromSmiles(smiles), breakTies=False)).value_counts() for smiles in compare_data_with_stats[SMILES_COLUMN]]\n",
    "symmetric_indices = [symmetric_rull(values) for values in values_list]\n",
    "not_symmetric_indices = [not e for e in symmetric_indices]"
   ]
  },
  {
   "cell_type": "code",
   "execution_count": 129,
   "metadata": {},
   "outputs": [],
   "source": [
    "symmetric_y_predicted = compare_data_with_stats[PRED_COLUMN][symmetric_indices]\n"
   ]
  },
  {
   "cell_type": "code",
   "execution_count": 130,
   "metadata": {},
   "outputs": [],
   "source": [
    "symmetric_y_expected = compare_data_with_stats[VALUE_COLUMN][symmetric_indices]"
   ]
  },
  {
   "cell_type": "code",
   "execution_count": 131,
   "metadata": {},
   "outputs": [],
   "source": [
    "not_symmetric_y_predicted = compare_data_with_stats[PRED_COLUMN][not_symmetric_indices]"
   ]
  },
  {
   "cell_type": "code",
   "execution_count": 132,
   "metadata": {},
   "outputs": [],
   "source": [
    "not_symmetric_y_expected = compare_data_with_stats[VALUE_COLUMN][not_symmetric_indices]"
   ]
  },
  {
   "cell_type": "code",
   "execution_count": 133,
   "metadata": {},
   "outputs": [],
   "source": [
    "from sklearn.metrics import mean_squared_error"
   ]
  },
  {
   "cell_type": "code",
   "execution_count": 134,
   "metadata": {},
   "outputs": [
    {
     "name": "stdout",
     "output_type": "stream",
     "text": [
      "Test symmetric RMSE = 0.7664073064955048\n",
      "Test symmetric R2-score is 0.8891239875706615\n"
     ]
    }
   ],
   "source": [
    "print(\"Test symmetric RMSE =\", mean_squared_error(symmetric_y_expected, symmetric_y_predicted, squared=False))\n",
    "print(\"Test symmetric R2-score is {0}\".format(r2_score(symmetric_y_expected, symmetric_y_predicted)))"
   ]
  },
  {
   "cell_type": "code",
   "execution_count": 135,
   "metadata": {},
   "outputs": [
    {
     "name": "stdout",
     "output_type": "stream",
     "text": [
      "Test not symmetric RMSE = 0.42470038526469506\n",
      "Test not symmetric R2-score is 0.9448009547313081\n"
     ]
    }
   ],
   "source": [
    "print(\"Test not symmetric RMSE =\", mean_squared_error(not_symmetric_y_expected, not_symmetric_y_predicted, squared=False))\n",
    "print(\"Test not symmetric R2-score is {0}\".format(r2_score(not_symmetric_y_expected, not_symmetric_y_predicted)))"
   ]
  },
  {
   "cell_type": "code",
   "execution_count": null,
   "metadata": {},
   "outputs": [],
   "source": []
  }
 ],
 "metadata": {
  "kernelspec": {
   "display_name": "Python 3",
   "language": "python",
   "name": "python3"
  },
  "language_info": {
   "codemirror_mode": {
    "name": "ipython",
    "version": 3
   },
   "file_extension": ".py",
   "mimetype": "text/x-python",
   "name": "python",
   "nbconvert_exporter": "python",
   "pygments_lexer": "ipython3",
   "version": "3.8.3"
  }
 },
 "nbformat": 4,
 "nbformat_minor": 4
}
