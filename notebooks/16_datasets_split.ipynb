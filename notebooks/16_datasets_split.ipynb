{
 "cells": [
  {
   "cell_type": "code",
   "execution_count": 1,
   "metadata": {},
   "outputs": [],
   "source": [
    "from sklearn.model_selection import train_test_split\n",
    "import pandas as pd\n",
    "\n",
    "DATA_PATH = \"../data/3_final_data/\"\n",
    "data_names = ['logp_mean', 'logP_pH_range_mean', 'logP_wo_parameters']"
   ]
  },
  {
   "cell_type": "code",
   "execution_count": 3,
   "metadata": {},
   "outputs": [],
   "source": [
    "def train_test_validation_split(df):\n",
    "    train_data, rest_data = train_test_split(df, test_size=0.3)\n",
    "    test_data, validation_data = train_test_split(rest_data, test_size=0.5)\n",
    "    return train_data.reset_index(drop=True), validation_data.reset_index(drop=True), test_data.reset_index(drop=True)"
   ]
  },
  {
   "cell_type": "code",
   "execution_count": 4,
   "metadata": {},
   "outputs": [
    {
     "name": "stdout",
     "output_type": "stream",
     "text": [
      "logp_mean shape:  (13759, 2)\n",
      "SPLITTED SHAPES:\n",
      "\ttrain: (9631, 2)\n",
      "\tvalidation: (2064, 2)\n",
      "\ttest: (2064, 2)\n",
      "\n",
      "logP_pH_range_mean shape:  (1504, 3)\n",
      "SPLITTED SHAPES:\n",
      "\ttrain: (1052, 3)\n",
      "\tvalidation: (226, 3)\n",
      "\ttest: (226, 3)\n",
      "\n",
      "logP_wo_parameters shape:  (12626, 2)\n",
      "SPLITTED SHAPES:\n",
      "\ttrain: (8838, 2)\n",
      "\tvalidation: (1894, 2)\n",
      "\ttest: (1894, 2)\n",
      "\n"
     ]
    }
   ],
   "source": [
    "for file in data_names:\n",
    "    \n",
    "    if file == 'logP_wo_parameters':\n",
    "        data = pd.read_csv(DATA_PATH + file + '.csv')\n",
    "    else:    \n",
    "        data = pd.read_csv(DATA_PATH + file + '.csv', index_col = 0)\n",
    "    \n",
    "    print(file, 'shape: ', data.shape)    \n",
    "    train, validation, test = train_test_validation_split(data)\n",
    "    print('SPLITTED SHAPES:\\n\\ttrain: {0}\\n\\tvalidation: {1}\\n\\ttest: {2}\\n'.format(train.shape, validation.shape, test.shape))\n",
    "    \n",
    "    train.to_csv(DATA_PATH + 'split_data/' + file + '_train.csv')\n",
    "    validation.to_csv(DATA_PATH + 'split_data/' + file + '_validation.csv')\n",
    "    test.to_csv(DATA_PATH + 'split_data/' + file + '_test.csv')"
   ]
  },
  {
   "cell_type": "code",
   "execution_count": null,
   "metadata": {},
   "outputs": [],
   "source": []
  }
 ],
 "metadata": {
  "kernelspec": {
   "display_name": "chemvae",
   "language": "python",
   "name": "chemvae"
  },
  "language_info": {
   "codemirror_mode": {
    "name": "ipython",
    "version": 3
   },
   "file_extension": ".py",
   "mimetype": "text/x-python",
   "name": "python",
   "nbconvert_exporter": "python",
   "pygments_lexer": "ipython3",
   "version": "3.6.10"
  }
 },
 "nbformat": 4,
 "nbformat_minor": 4
}
