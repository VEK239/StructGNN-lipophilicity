{
 "cells": [
  {
   "cell_type": "markdown",
   "source": [
    "# EDA of physprop.xlsx\n",
    "\n",
    "## Summary\n",
    "\n",
    "1. Experimental logP are 13553 out of total 41039 rows.\n",
    "2. There are 97% NA values for Temperature. (99% in experimental data)\n",
    "3. There is no pH column.\n",
    "3. Most of the molecules are unique. There is only 22 full duplicates in experimental data and 24 rows with equal molecules.\n"
   ],
   "metadata": {
    "collapsed": false
   }
  },
  {
   "cell_type": "code",
   "execution_count": 30,
   "metadata": {
    "collapsed": true
   },
   "outputs": [
    {
     "name": "stdout",
     "output_type": "stream",
     "text": [
      "Collecting package metadata (current_repodata.json): - \b\b\\ \b\b| \b\b/ \b\b- \b\b\\ \b\b| \b\b/ \b\b- \b\b\\ \b\b| \b\b/ \b\b- \b\b\\ \b\b| \b\bdone\r\n",
      "Solving environment: - \b\b\\ \b\b| \b\b/ \b\b- \b\b\\ \b\b| \b\b/ \b\b- \b\b\\ \b\b| \b\b/ \b\b- \b\b\\ \b\b| \b\b/ \b\b- \b\b\\ \b\b| \b\b/ \b\b- \b\b\\ \b\b| \b\b/ \b\b- \b\b\\ \b\b| \b\b/ \b\bdone\r\n",
      "\r\n",
      "\r\n",
      "==> WARNING: A newer version of conda exists. <==\r\n",
      "  current version: 4.8.2\r\n",
      "  latest version: 4.8.3\r\n",
      "\r\n",
      "Please update conda by running\r\n",
      "\r\n",
      "    $ conda update -n base -c defaults conda\r\n",
      "\r\n",
      "\r\n",
      "\r\n",
      "# All requested packages already installed.\r\n",
      "\r\n"
     ]
    }
   ],
   "source": [
    "import pandas as pd\n",
    "import matplotlib.pyplot as plt\n",
    "import seaborn as sns\n",
    "\n",
    "import sys\n",
    "!conda install --yes --prefix {sys.prefix} xlrd\n",
    "\n",
    "PHYSPROP_DATA_FILE_PATH = \"../data/physprop.xls\""
   ]
  },
  {
   "cell_type": "code",
   "execution_count": 8,
   "outputs": [],
   "source": [
    "def check_na(df, column):\n",
    "    n = df.shape[0]\n",
    "    num_of_na = df[column].isna().sum()\n",
    "    frac_of_na = int(100.0*(num_of_na / n))\n",
    "    print(\"# of NA values \" + column + \": \" + str(num_of_na) + \", \" + str(frac_of_na) + \"%\")\n",
    "    print(df[df[column].isna()].head())"
   ],
   "metadata": {
    "collapsed": false,
    "pycharm": {
     "name": "#%%\n"
    }
   }
  },
  {
   "cell_type": "code",
   "execution_count": 3,
   "outputs": [
    {
     "data": {
      "text/html": "<div>\n<style scoped>\n    .dataframe tbody tr th:only-of-type {\n        vertical-align: middle;\n    }\n\n    .dataframe tbody tr th {\n        vertical-align: top;\n    }\n\n    .dataframe thead th {\n        text-align: right;\n    }\n</style>\n<table border=\"1\" class=\"dataframe\">\n  <thead>\n    <tr style=\"text-align: right;\">\n      <th></th>\n      <th>CAS #</th>\n      <th>Formula</th>\n      <th>Mol Weight</th>\n      <th>Chemical Name</th>\n      <th>WS (mg/L)</th>\n      <th>WS_temp</th>\n      <th>WS_type</th>\n      <th>WS_reference</th>\n      <th>LogP</th>\n      <th>LogP_temp</th>\n      <th>...</th>\n      <th>OH (cm3/molecule-sec)</th>\n      <th>OH_temp</th>\n      <th>OH_type</th>\n      <th>OH_reference</th>\n      <th>BP_pressure (mm Hg)</th>\n      <th>MP (deg C)</th>\n      <th>BP (deg C)</th>\n      <th>FP (deg C)</th>\n      <th>SMILES</th>\n      <th>Unnamed: 33</th>\n    </tr>\n  </thead>\n  <tbody>\n    <tr>\n      <th>0</th>\n      <td>000050-00-0</td>\n      <td>CH2O</td>\n      <td>30.026</td>\n      <td>FORMALDEHYDE</td>\n      <td>400000.0</td>\n      <td>20.0</td>\n      <td>EXP</td>\n      <td>PICKRELL,JA ET AL. (1983)</td>\n      <td>0.35</td>\n      <td>25.0</td>\n      <td>...</td>\n      <td>9.370000e-12</td>\n      <td>25.0</td>\n      <td>EXP</td>\n      <td>KWOK,ESC &amp; ATKINSON,R (1994)</td>\n      <td>NaN</td>\n      <td>-92</td>\n      <td>-19.1</td>\n      <td>NaN</td>\n      <td>O=C</td>\n      <td>NaN</td>\n    </tr>\n    <tr>\n      <th>1</th>\n      <td>000050-01-1</td>\n      <td>CH6ClN3</td>\n      <td>95.532</td>\n      <td>Guanidine hydrochloride</td>\n      <td>1000000.0</td>\n      <td>25.0</td>\n      <td>EST</td>\n      <td>MEYLAN,WM ET AL. (1996)</td>\n      <td>-3.56</td>\n      <td>NaN</td>\n      <td>...</td>\n      <td>2.100000e-11</td>\n      <td>25.0</td>\n      <td>EST</td>\n      <td>MEYLAN,WM &amp; HOWARD,PH (1993)</td>\n      <td>NaN</td>\n      <td>182.3</td>\n      <td>NaN</td>\n      <td>NaN</td>\n      <td>NC(N)=N(H)(H)Cl</td>\n      <td>NaN</td>\n    </tr>\n    <tr>\n      <th>2</th>\n      <td>000050-02-2</td>\n      <td>C22H29FO5</td>\n      <td>392.470</td>\n      <td>DEXAMETHASONE</td>\n      <td>89.0</td>\n      <td>25.0</td>\n      <td>EXP</td>\n      <td>YALKOWSKY,SH &amp; DANNENFELSER,RM (1992)</td>\n      <td>1.83</td>\n      <td>25.0</td>\n      <td>...</td>\n      <td>6.950100e-11</td>\n      <td>25.0</td>\n      <td>EST</td>\n      <td>MEYLAN,WM &amp; HOWARD,PH (1993)</td>\n      <td>NaN</td>\n      <td>262</td>\n      <td>NaN</td>\n      <td>NaN</td>\n      <td>C1(=O)C=C2CCC3C4CC(C)C(O)(C(=O)CO)C4(C)CC(O)C3...</td>\n      <td>NaN</td>\n    </tr>\n    <tr>\n      <th>3</th>\n      <td>000050-03-3</td>\n      <td>C23H32O6</td>\n      <td>404.510</td>\n      <td>HYDROCORTISONE ACETATE</td>\n      <td>14.1</td>\n      <td>25.0</td>\n      <td>EXP</td>\n      <td>YALKOWSKY,SH &amp; DANNENFELSER,RM (1992)</td>\n      <td>2.19</td>\n      <td>NaN</td>\n      <td>...</td>\n      <td>1.128800e-10</td>\n      <td>25.0</td>\n      <td>EST</td>\n      <td>MEYLAN,WM &amp; HOWARD,PH (1993)</td>\n      <td>NaN</td>\n      <td>223 dec</td>\n      <td>NaN</td>\n      <td>NaN</td>\n      <td>C1C(=O)C=C2CCC3C4CCC(O)(C(=O)COC(=O)C)C4(C)CC(...</td>\n      <td>NaN</td>\n    </tr>\n    <tr>\n      <th>4</th>\n      <td>000050-04-4</td>\n      <td>C23H30O6</td>\n      <td>402.490</td>\n      <td>CORTISONE ACETATE</td>\n      <td>20.0</td>\n      <td>25.0</td>\n      <td>EXP</td>\n      <td>YALKOWSKY,SH &amp; DANNENFELSER,RM (1992)</td>\n      <td>2.10</td>\n      <td>25.0</td>\n      <td>...</td>\n      <td>1.083400e-10</td>\n      <td>25.0</td>\n      <td>EST</td>\n      <td>MEYLAN,WM &amp; HOWARD,PH (1993)</td>\n      <td>NaN</td>\n      <td>222</td>\n      <td>NaN</td>\n      <td>NaN</td>\n      <td>CC(=O)OCC(=O)C3(O)CCC4C2CCC1=CC(=O)CCC1(C)C2C(...</td>\n      <td>NaN</td>\n    </tr>\n  </tbody>\n</table>\n<p>5 rows × 34 columns</p>\n</div>",
      "text/plain": "         CAS #    Formula  Mol Weight            Chemical Name  WS (mg/L)  \\\n0  000050-00-0       CH2O      30.026             FORMALDEHYDE   400000.0   \n1  000050-01-1    CH6ClN3      95.532  Guanidine hydrochloride  1000000.0   \n2  000050-02-2  C22H29FO5     392.470            DEXAMETHASONE       89.0   \n3  000050-03-3   C23H32O6     404.510   HYDROCORTISONE ACETATE       14.1   \n4  000050-04-4   C23H30O6     402.490        CORTISONE ACETATE       20.0   \n\n   WS_temp WS_type                           WS_reference  LogP  LogP_temp  \\\n0     20.0     EXP              PICKRELL,JA ET AL. (1983)  0.35       25.0   \n1     25.0     EST                MEYLAN,WM ET AL. (1996) -3.56        NaN   \n2     25.0     EXP  YALKOWSKY,SH & DANNENFELSER,RM (1992)  1.83       25.0   \n3     25.0     EXP  YALKOWSKY,SH & DANNENFELSER,RM (1992)  2.19        NaN   \n4     25.0     EXP  YALKOWSKY,SH & DANNENFELSER,RM (1992)  2.10       25.0   \n\n      ...     OH (cm3/molecule-sec) OH_temp  OH_type  \\\n0     ...              9.370000e-12    25.0      EXP   \n1     ...              2.100000e-11    25.0      EST   \n2     ...              6.950100e-11    25.0      EST   \n3     ...              1.128800e-10    25.0      EST   \n4     ...              1.083400e-10    25.0      EST   \n\n                   OH_reference BP_pressure (mm Hg) MP (deg C)  BP (deg C)  \\\n0  KWOK,ESC & ATKINSON,R (1994)                 NaN        -92       -19.1   \n1  MEYLAN,WM & HOWARD,PH (1993)                 NaN      182.3         NaN   \n2  MEYLAN,WM & HOWARD,PH (1993)                 NaN        262         NaN   \n3  MEYLAN,WM & HOWARD,PH (1993)                 NaN    223 dec         NaN   \n4  MEYLAN,WM & HOWARD,PH (1993)                 NaN        222         NaN   \n\n   FP (deg C)                                             SMILES Unnamed: 33  \n0         NaN                                                O=C         NaN  \n1         NaN                                    NC(N)=N(H)(H)Cl         NaN  \n2         NaN  C1(=O)C=C2CCC3C4CC(C)C(O)(C(=O)CO)C4(C)CC(O)C3...         NaN  \n3         NaN  C1C(=O)C=C2CCC3C4CCC(O)(C(=O)COC(=O)C)C4(C)CC(...         NaN  \n4         NaN  CC(=O)OCC(=O)C3(O)CCC4C2CCC1=CC(=O)CCC1(C)C2C(...         NaN  \n\n[5 rows x 34 columns]"
     },
     "execution_count": 3,
     "metadata": {},
     "output_type": "execute_result"
    }
   ],
   "source": [
    "physprop_data = pd.read_excel(PHYSPROP_DATA_FILE_PATH)\n",
    "physprop_data.head()"
   ],
   "metadata": {
    "collapsed": false,
    "pycharm": {
     "name": "#%%\n"
    }
   }
  },
  {
   "cell_type": "code",
   "execution_count": 7,
   "outputs": [
    {
     "data": {
      "text/plain": "Index(['CAS #', 'Formula', 'Mol Weight', 'Chemical Name', 'WS (mg/L)',\n       'WS_temp', 'WS_type', 'WS_reference', 'LogP', 'LogP_temp', 'LogP_type',\n       'LogP_reference', 'VP (mm Hg)', 'VP_temp', 'VP_type', 'VP_reference',\n       'DC_pKa', 'DC_temp', 'DC_type', 'DC_reference', 'HL (atm-m3/mole)',\n       'HL_temp', 'HL_type', 'HL_reference', 'OH (cm3/molecule-sec)',\n       'OH_temp', 'OH_type', 'OH_reference', 'BP_pressure (mm Hg)',\n       'MP (deg C)', 'BP (deg C)', 'FP (deg C)', 'SMILES', 'Unnamed: 33'],\n      dtype='object')"
     },
     "execution_count": 7,
     "metadata": {},
     "output_type": "execute_result"
    }
   ],
   "source": [
    "physprop_data.columns"
   ],
   "metadata": {
    "collapsed": false,
    "pycharm": {
     "name": "#%%\n"
    }
   }
  },
  {
   "cell_type": "code",
   "execution_count": 5,
   "outputs": [
    {
     "data": {
      "text/html": "<div>\n<style scoped>\n    .dataframe tbody tr th:only-of-type {\n        vertical-align: middle;\n    }\n\n    .dataframe tbody tr th {\n        vertical-align: top;\n    }\n\n    .dataframe thead th {\n        text-align: right;\n    }\n</style>\n<table border=\"1\" class=\"dataframe\">\n  <thead>\n    <tr style=\"text-align: right;\">\n      <th></th>\n      <th>LogP</th>\n      <th>LogP_temp</th>\n      <th>LogP_type</th>\n      <th>SMILES</th>\n    </tr>\n  </thead>\n  <tbody>\n    <tr>\n      <th>0</th>\n      <td>0.35</td>\n      <td>25.0</td>\n      <td>EXP</td>\n      <td>O=C</td>\n    </tr>\n    <tr>\n      <th>1</th>\n      <td>-3.56</td>\n      <td>NaN</td>\n      <td>EST</td>\n      <td>NC(N)=N(H)(H)Cl</td>\n    </tr>\n    <tr>\n      <th>2</th>\n      <td>1.83</td>\n      <td>25.0</td>\n      <td>EXP</td>\n      <td>C1(=O)C=C2CCC3C4CC(C)C(O)(C(=O)CO)C4(C)CC(O)C3...</td>\n    </tr>\n    <tr>\n      <th>3</th>\n      <td>2.19</td>\n      <td>NaN</td>\n      <td>EXP</td>\n      <td>C1C(=O)C=C2CCC3C4CCC(O)(C(=O)COC(=O)C)C4(C)CC(...</td>\n    </tr>\n    <tr>\n      <th>4</th>\n      <td>2.10</td>\n      <td>25.0</td>\n      <td>EXP</td>\n      <td>CC(=O)OCC(=O)C3(O)CCC4C2CCC1=CC(=O)CCC1(C)C2C(...</td>\n    </tr>\n  </tbody>\n</table>\n</div>",
      "text/plain": "   LogP  LogP_temp LogP_type  \\\n0  0.35       25.0       EXP   \n1 -3.56        NaN       EST   \n2  1.83       25.0       EXP   \n3  2.19        NaN       EXP   \n4  2.10       25.0       EXP   \n\n                                              SMILES  \n0                                                O=C  \n1                                    NC(N)=N(H)(H)Cl  \n2  C1(=O)C=C2CCC3C4CC(C)C(O)(C(=O)CO)C4(C)CC(O)C3...  \n3  C1C(=O)C=C2CCC3C4CCC(O)(C(=O)COC(=O)C)C4(C)CC(...  \n4  CC(=O)OCC(=O)C3(O)CCC4C2CCC1=CC(=O)CCC1(C)C2C(...  "
     },
     "execution_count": 5,
     "metadata": {},
     "output_type": "execute_result"
    }
   ],
   "source": [
    "physprop_logp_data = physprop_data[['LogP', 'LogP_temp', 'LogP_type', 'SMILES']]\n",
    "physprop_logp_data.head()"
   ],
   "metadata": {
    "collapsed": false,
    "pycharm": {
     "name": "#%%\n"
    }
   }
  },
  {
   "cell_type": "code",
   "execution_count": 6,
   "outputs": [
    {
     "name": "stdout",
     "output_type": "stream",
     "text": [
      "(41039, 4)\n"
     ]
    }
   ],
   "source": [
    "print(physprop_logp_data.shape)"
   ],
   "metadata": {
    "collapsed": false,
    "pycharm": {
     "name": "#%%\n"
    }
   }
  },
  {
   "cell_type": "code",
   "execution_count": 9,
   "outputs": [
    {
     "name": "stdout",
     "output_type": "stream",
     "text": [
      "# of NA values LogP_temp: 40122, 97%\n",
      "   LogP  LogP_temp LogP_type  \\\n",
      "1 -3.56        NaN       EST   \n",
      "3  2.19        NaN       EXP   \n",
      "5  1.47        NaN       EXP   \n",
      "6 -0.40        NaN       EXP   \n",
      "7 -1.60        NaN       EST   \n",
      "\n",
      "                                              SMILES  \n",
      "1                                    NC(N)=N(H)(H)Cl  \n",
      "3  C1C(=O)C=C2CCC3C4CCC(O)(C(=O)COC(=O)C)C4(C)CC(...  \n",
      "5                     CCC1(C(=O)NC(=O)NC1=O)c2ccccc2  \n",
      "6  O=C1C(N)=C(C)C(=O)C2=C1C(COC(=O)N)C3(OC)C(N4)C...  \n",
      "7              O=C1N=C(O[Na])N(C)C(=O)C1(C)C2=CCCCC2  \n"
     ]
    }
   ],
   "source": [
    "check_na(physprop_logp_data, 'LogP_temp')"
   ],
   "metadata": {
    "collapsed": false,
    "pycharm": {
     "name": "#%%\n"
    }
   }
  },
  {
   "cell_type": "code",
   "execution_count": 10,
   "outputs": [
    {
     "data": {
      "text/html": "<div>\n<style scoped>\n    .dataframe tbody tr th:only-of-type {\n        vertical-align: middle;\n    }\n\n    .dataframe tbody tr th {\n        vertical-align: top;\n    }\n\n    .dataframe thead th {\n        text-align: right;\n    }\n</style>\n<table border=\"1\" class=\"dataframe\">\n  <thead>\n    <tr style=\"text-align: right;\">\n      <th></th>\n      <th>LogP</th>\n      <th>LogP_temp</th>\n      <th>SMILES</th>\n    </tr>\n  </thead>\n  <tbody>\n    <tr>\n      <th>0</th>\n      <td>0.35</td>\n      <td>25.0</td>\n      <td>O=C</td>\n    </tr>\n    <tr>\n      <th>2</th>\n      <td>1.83</td>\n      <td>25.0</td>\n      <td>C1(=O)C=C2CCC3C4CC(C)C(O)(C(=O)CO)C4(C)CC(O)C3...</td>\n    </tr>\n    <tr>\n      <th>3</th>\n      <td>2.19</td>\n      <td>NaN</td>\n      <td>C1C(=O)C=C2CCC3C4CCC(O)(C(=O)COC(=O)C)C4(C)CC(...</td>\n    </tr>\n    <tr>\n      <th>4</th>\n      <td>2.10</td>\n      <td>25.0</td>\n      <td>CC(=O)OCC(=O)C3(O)CCC4C2CCC1=CC(=O)CCC1(C)C2C(...</td>\n    </tr>\n    <tr>\n      <th>5</th>\n      <td>1.47</td>\n      <td>NaN</td>\n      <td>CCC1(C(=O)NC(=O)NC1=O)c2ccccc2</td>\n    </tr>\n  </tbody>\n</table>\n</div>",
      "text/plain": "   LogP  LogP_temp                                             SMILES\n0  0.35       25.0                                                O=C\n2  1.83       25.0  C1(=O)C=C2CCC3C4CC(C)C(O)(C(=O)CO)C4(C)CC(O)C3...\n3  2.19        NaN  C1C(=O)C=C2CCC3C4CCC(O)(C(=O)COC(=O)C)C4(C)CC(...\n4  2.10       25.0  CC(=O)OCC(=O)C3(O)CCC4C2CCC1=CC(=O)CCC1(C)C2C(...\n5  1.47        NaN                     CCC1(C(=O)NC(=O)NC1=O)c2ccccc2"
     },
     "execution_count": 10,
     "metadata": {},
     "output_type": "execute_result"
    }
   ],
   "source": [
    "exp_physprop_logp_data = physprop_logp_data[physprop_logp_data['LogP_type'] == 'EXP']\n",
    "exp_physprop_logp_data = exp_physprop_logp_data.drop(['LogP_type'], axis=1)\n",
    "exp_physprop_logp_data.head()"
   ],
   "metadata": {
    "collapsed": false,
    "pycharm": {
     "name": "#%%\n"
    }
   }
  },
  {
   "cell_type": "code",
   "execution_count": 11,
   "outputs": [
    {
     "name": "stdout",
     "output_type": "stream",
     "text": [
      "(13553, 3)\n"
     ]
    }
   ],
   "source": [
    "print(exp_physprop_logp_data.shape)\n",
    "LOGP_COLUMN = 'LogP'\n",
    "LOGP_TEMP_COLUMN = 'LogP_temp'\n",
    "SMILES_COLUMN = 'SMILES'\n",
    "n = exp_physprop_logp_data.shape[0]"
   ],
   "metadata": {
    "collapsed": false,
    "pycharm": {
     "name": "#%%\n"
    }
   }
  },
  {
   "cell_type": "code",
   "execution_count": 12,
   "outputs": [
    {
     "name": "stdout",
     "output_type": "stream",
     "text": [
      "# of NA values LogP: 0, 0%\n",
      "Empty DataFrame\n",
      "Columns: [LogP, LogP_temp, SMILES]\n",
      "Index: []\n"
     ]
    }
   ],
   "source": [
    "check_na(exp_physprop_logp_data, LOGP_COLUMN)"
   ],
   "metadata": {
    "collapsed": false,
    "pycharm": {
     "name": "#%%\n"
    }
   }
  },
  {
   "cell_type": "code",
   "execution_count": 13,
   "outputs": [
    {
     "name": "stdout",
     "output_type": "stream",
     "text": [
      "# of NA values LogP_temp: 13439, 99%\n",
      "    LogP  LogP_temp                                             SMILES\n",
      "3   2.19        NaN  C1C(=O)C=C2CCC3C4CCC(O)(C(=O)COC(=O)C)C4(C)CC(...\n",
      "5   1.47        NaN                     CCC1(C(=O)NC(=O)NC1=O)c2ccccc2\n",
      "6  -0.40        NaN  O=C1C(N)=C(C)C(=O)C2=C1C(COC(=O)N)C3(OC)C(N4)C...\n",
      "10  1.69        NaN                       CCC1(NC(=O)N(C)C1=O)c2ccccc2\n",
      "13  0.63        NaN                          C1CCNP(=O)(N(CCCl)CCCl)O1\n"
     ]
    }
   ],
   "source": [
    "check_na(exp_physprop_logp_data, LOGP_TEMP_COLUMN)"
   ],
   "metadata": {
    "collapsed": false,
    "pycharm": {
     "name": "#%%\n"
    }
   }
  },
  {
   "cell_type": "code",
   "execution_count": 15,
   "outputs": [
    {
     "data": {
      "text/plain": "22"
     },
     "execution_count": 15,
     "metadata": {},
     "output_type": "execute_result"
    }
   ],
   "source": [
    "exp_physprop_logp_data.duplicated().sum()"
   ],
   "metadata": {
    "collapsed": false,
    "pycharm": {
     "name": "#%%\n"
    }
   }
  },
  {
   "cell_type": "code",
   "execution_count": 16,
   "outputs": [],
   "source": [
    "exp_physprop_logp_data = exp_physprop_logp_data.drop_duplicates()"
   ],
   "metadata": {
    "collapsed": false,
    "pycharm": {
     "name": "#%%\n"
    }
   }
  },
  {
   "cell_type": "code",
   "execution_count": 17,
   "outputs": [
    {
     "data": {
      "text/plain": "(13531, 3)"
     },
     "execution_count": 17,
     "metadata": {},
     "output_type": "execute_result"
    }
   ],
   "source": [
    "exp_physprop_logp_data.shape"
   ],
   "metadata": {
    "collapsed": false,
    "pycharm": {
     "name": "#%%\n"
    }
   }
  },
  {
   "cell_type": "code",
   "execution_count": 19,
   "outputs": [
    {
     "data": {
      "text/plain": "13397"
     },
     "execution_count": 19,
     "metadata": {},
     "output_type": "execute_result"
    }
   ],
   "source": [
    "exp_physprop_logp_data[SMILES_COLUMN].unique().size"
   ],
   "metadata": {
    "collapsed": false,
    "pycharm": {
     "name": "#%%\n"
    }
   }
  },
  {
   "cell_type": "code",
   "execution_count": 28,
   "outputs": [
    {
     "data": {
      "text/html": "<div>\n<style scoped>\n    .dataframe tbody tr th:only-of-type {\n        vertical-align: middle;\n    }\n\n    .dataframe tbody tr th {\n        vertical-align: top;\n    }\n\n    .dataframe thead th {\n        text-align: right;\n    }\n</style>\n<table border=\"1\" class=\"dataframe\">\n  <thead>\n    <tr style=\"text-align: right;\">\n      <th></th>\n      <th>LogP</th>\n      <th>LogP_temp</th>\n    </tr>\n    <tr>\n      <th>SMILES</th>\n      <th></th>\n      <th></th>\n    </tr>\n  </thead>\n  <tbody>\n    <tr>\n      <th>C(=CC)C</th>\n      <td>2</td>\n      <td>1</td>\n    </tr>\n    <tr>\n      <th>C(=CC=C)C</th>\n      <td>2</td>\n      <td>0</td>\n    </tr>\n    <tr>\n      <th>C(=CCC(C(=C)C)C1)(C1)C</th>\n      <td>2</td>\n      <td>1</td>\n    </tr>\n    <tr>\n      <th>C(=CCl)CCl</th>\n      <td>2</td>\n      <td>0</td>\n    </tr>\n    <tr>\n      <th>C(=CCl)Cl</th>\n      <td>3</td>\n      <td>0</td>\n    </tr>\n    <tr>\n      <th>C(C(C(C(C1Cl)Cl)Cl)Cl)(C1Cl)Cl</th>\n      <td>4</td>\n      <td>0</td>\n    </tr>\n    <tr>\n      <th>C(C(CC1C2)C1(C)C)(=C2)C</th>\n      <td>3</td>\n      <td>1</td>\n    </tr>\n    <tr>\n      <th>C(F)(F)(F)c1ccc2C(C3)CC(N)C3c2c1</th>\n      <td>2</td>\n      <td>0</td>\n    </tr>\n    <tr>\n      <th>C1(=O)C=C2CCC3C4CCC(O)(C(=O)COC5C(O)C(O)C(O)C(CO)O5)C4(C)CC(O)C3C2(C)C=C1</th>\n      <td>2</td>\n      <td>0</td>\n    </tr>\n    <tr>\n      <th>C1(=O)OC(C)CC1(CC=C)C(=O)NC(=O)N</th>\n      <td>2</td>\n      <td>0</td>\n    </tr>\n    <tr>\n      <th>C1(O)C(CO)OC(OC)C(O)C1NC(=O)N(C)N=O</th>\n      <td>2</td>\n      <td>0</td>\n    </tr>\n    <tr>\n      <th>C1C(=O)NCC2CNC(=O)C12</th>\n      <td>2</td>\n      <td>0</td>\n    </tr>\n    <tr>\n      <th>C1C(C)C(O)C(C)CC1</th>\n      <td>3</td>\n      <td>0</td>\n    </tr>\n    <tr>\n      <th>C1C(C)C(O)CCC1</th>\n      <td>2</td>\n      <td>0</td>\n    </tr>\n    <tr>\n      <th>C1C(OS(=O)(=O)O)CC2CCC3C4(O)CCC(C5=CC(=O)OC5)C4(C)CCC3C2(C)C1</th>\n      <td>2</td>\n      <td>0</td>\n    </tr>\n    <tr>\n      <th>C1C2CCC1C(O)C2O</th>\n      <td>2</td>\n      <td>0</td>\n    </tr>\n    <tr>\n      <th>C1CC(C)(OO2)OC3OC(OC5OC(C(=O)O)C(O)C(O)C5O)C(C)C4C23C1C(C)CC4</th>\n      <td>2</td>\n      <td>0</td>\n    </tr>\n    <tr>\n      <th>C1CC(C)(OO2)OC3OC(OCC)C(C)C4C23C1C(C)C(O)C4</th>\n      <td>2</td>\n      <td>0</td>\n    </tr>\n    <tr>\n      <th>C1CC(C)(OO2)OC3OC(OCC)C(C)C4C23C1C(C)C(OC5OC(C(=O)O)C(O)C(O)C5O)C4</th>\n      <td>2</td>\n      <td>0</td>\n    </tr>\n    <tr>\n      <th>C1CC(O)CCC1C(C)(C)C</th>\n      <td>2</td>\n      <td>0</td>\n    </tr>\n    <tr>\n      <th>C1CC2(NC)c3ccccc3CC2CC1</th>\n      <td>2</td>\n      <td>0</td>\n    </tr>\n    <tr>\n      <th>CC#CC#CC#CC=CC(=O)OC</th>\n      <td>2</td>\n      <td>0</td>\n    </tr>\n    <tr>\n      <th>CC=CC=CC</th>\n      <td>2</td>\n      <td>0</td>\n    </tr>\n    <tr>\n      <th>CCCN(CC1CC1)c2c(cc(cc2N(=O)=O)C(F)(F)F)N(=O)=O</th>\n      <td>2</td>\n      <td>0</td>\n    </tr>\n    <tr>\n      <th>CCN(CC)C(=O)C(Cl)=C(C)OP(=O)(OC)OC</th>\n      <td>2</td>\n      <td>0</td>\n    </tr>\n    <tr>\n      <th>CCOC(=O)C1CNC(=O)CC1C(=O)OCC</th>\n      <td>2</td>\n      <td>0</td>\n    </tr>\n    <tr>\n      <th>CCOC1C(Cl)C(Cl)C(Cl)C(Cl)C1Cl</th>\n      <td>2</td>\n      <td>0</td>\n    </tr>\n    <tr>\n      <th>COC(=O)C4C(O)CCC5CN3CCc1c(nc2ccccc12)C3CC45</th>\n      <td>2</td>\n      <td>0</td>\n    </tr>\n    <tr>\n      <th>COC1C(Cl)C(Cl)C(Cl)C(Cl)C1Cl</th>\n      <td>2</td>\n      <td>0</td>\n    </tr>\n    <tr>\n      <th>COCC(=O)N(C(C)C(=O)OC)c1c(C)cccc1C</th>\n      <td>2</td>\n      <td>0</td>\n    </tr>\n    <tr>\n      <th>...</th>\n      <td>...</td>\n      <td>...</td>\n    </tr>\n    <tr>\n      <th>OC(c(c(c(nc1)ccc2)c2)c1)C(N(CCC3C4C=C)C4)C3</th>\n      <td>2</td>\n      <td>0</td>\n    </tr>\n    <tr>\n      <th>OC(c(cccc1)c1)C(N)C</th>\n      <td>2</td>\n      <td>0</td>\n    </tr>\n    <tr>\n      <th>OC(c(cccc1)c1)C(NC)C</th>\n      <td>2</td>\n      <td>0</td>\n    </tr>\n    <tr>\n      <th>OC1C(O)CCCC1</th>\n      <td>2</td>\n      <td>0</td>\n    </tr>\n    <tr>\n      <th>OC1CC(C2)C=CC12</th>\n      <td>2</td>\n      <td>0</td>\n    </tr>\n    <tr>\n      <th>OC1c2ccccc2CCC1N</th>\n      <td>2</td>\n      <td>0</td>\n    </tr>\n    <tr>\n      <th>OCC(O)C(O)C(O)C(O)CO</th>\n      <td>3</td>\n      <td>0</td>\n    </tr>\n    <tr>\n      <th>OCC=C(CCC=C(C)C)C</th>\n      <td>2</td>\n      <td>0</td>\n    </tr>\n    <tr>\n      <th>c1c(C(F)(F)F)cc(C(F)(F)F)cc1NN=C(C(#N))C(=O)OC</th>\n      <td>2</td>\n      <td>0</td>\n    </tr>\n    <tr>\n      <th>c1c(C(F)(F)F)cc2C(C3)CC(N)C3c2c1</th>\n      <td>2</td>\n      <td>0</td>\n    </tr>\n    <tr>\n      <th>c1c(OC)cccc1C2(O)CCCCC2CN(C)C</th>\n      <td>2</td>\n      <td>0</td>\n    </tr>\n    <tr>\n      <th>c1cc(Cl)ccc1OC(n2ncnc2)C(O)C(C)(C)C</th>\n      <td>3</td>\n      <td>0</td>\n    </tr>\n    <tr>\n      <th>c1cc(N(=O)=O)ccc1OC2C(O)C(O)C(O)C(CO)O2</th>\n      <td>2</td>\n      <td>0</td>\n    </tr>\n    <tr>\n      <th>c1cc2C(O)C(O)C3CCCCC3c2cc1</th>\n      <td>3</td>\n      <td>0</td>\n    </tr>\n    <tr>\n      <th>c1cc2C(OC(=O)N)C(OC(=O)N)C3CCCCC3c2cc1</th>\n      <td>3</td>\n      <td>0</td>\n    </tr>\n    <tr>\n      <th>c1cc2OC(=O)C=C(C)c2cc1OC3C(O)C(O)C(O)C(CO)O3</th>\n      <td>2</td>\n      <td>0</td>\n    </tr>\n    <tr>\n      <th>c1ccc2C(C3)CC(N)C3c2c1</th>\n      <td>2</td>\n      <td>0</td>\n    </tr>\n    <tr>\n      <th>c1ccc2C(C3)CC(NC)C3c2c1</th>\n      <td>2</td>\n      <td>0</td>\n    </tr>\n    <tr>\n      <th>c1ccc2C(C3)CC(NCC)C3c2c1</th>\n      <td>2</td>\n      <td>0</td>\n    </tr>\n    <tr>\n      <th>c1ccc2C(C3)CC(NCCC)C3c2c1</th>\n      <td>2</td>\n      <td>0</td>\n    </tr>\n    <tr>\n      <th>c1ccc2C(CC3)CC(N)C3c2c1</th>\n      <td>2</td>\n      <td>0</td>\n    </tr>\n    <tr>\n      <th>c1ccc2C(O3)CC(N)C3c2c1</th>\n      <td>2</td>\n      <td>0</td>\n    </tr>\n    <tr>\n      <th>c1ccc2C(O3)CC(NC)C3c2c1</th>\n      <td>2</td>\n      <td>0</td>\n    </tr>\n    <tr>\n      <th>c1ccc2C3CC(NC)C(CC3)c2c1</th>\n      <td>2</td>\n      <td>0</td>\n    </tr>\n    <tr>\n      <th>c1cccc(F)c1C2OCC3C(c4ccccc4)=NOC3CO2</th>\n      <td>2</td>\n      <td>0</td>\n    </tr>\n    <tr>\n      <th>c1ccccc1C(OC)C(C)NC</th>\n      <td>2</td>\n      <td>0</td>\n    </tr>\n    <tr>\n      <th>c1ccccc1C2C(N)C2</th>\n      <td>2</td>\n      <td>0</td>\n    </tr>\n    <tr>\n      <th>c1ccccc1C2OCC3C(c4ccccc4)=NOC3CO2</th>\n      <td>2</td>\n      <td>0</td>\n    </tr>\n    <tr>\n      <th>c1ccccc1CCCC(C)Oc2cc(OC(=O)C)c3C4CC(O)CCC4C(C)Nc3c2</th>\n      <td>2</td>\n      <td>0</td>\n    </tr>\n    <tr>\n      <th>c1ncccc1C2CC(O)C(=O)N2C</th>\n      <td>2</td>\n      <td>0</td>\n    </tr>\n  </tbody>\n</table>\n<p>114 rows × 2 columns</p>\n</div>",
      "text/plain": "                                                    LogP  LogP_temp\nSMILES                                                             \nC(=CC)C                                                2          1\nC(=CC=C)C                                              2          0\nC(=CCC(C(=C)C)C1)(C1)C                                 2          1\nC(=CCl)CCl                                             2          0\nC(=CCl)Cl                                              3          0\nC(C(C(C(C1Cl)Cl)Cl)Cl)(C1Cl)Cl                         4          0\nC(C(CC1C2)C1(C)C)(=C2)C                                3          1\nC(F)(F)(F)c1ccc2C(C3)CC(N)C3c2c1                       2          0\nC1(=O)C=C2CCC3C4CCC(O)(C(=O)COC5C(O)C(O)C(O)C(C...     2          0\nC1(=O)OC(C)CC1(CC=C)C(=O)NC(=O)N                       2          0\nC1(O)C(CO)OC(OC)C(O)C1NC(=O)N(C)N=O                    2          0\nC1C(=O)NCC2CNC(=O)C12                                  2          0\nC1C(C)C(O)C(C)CC1                                      3          0\nC1C(C)C(O)CCC1                                         2          0\nC1C(OS(=O)(=O)O)CC2CCC3C4(O)CCC(C5=CC(=O)OC5)C4...     2          0\nC1C2CCC1C(O)C2O                                        2          0\nC1CC(C)(OO2)OC3OC(OC5OC(C(=O)O)C(O)C(O)C5O)C(C)...     2          0\nC1CC(C)(OO2)OC3OC(OCC)C(C)C4C23C1C(C)C(O)C4            2          0\nC1CC(C)(OO2)OC3OC(OCC)C(C)C4C23C1C(C)C(OC5OC(C(...     2          0\nC1CC(O)CCC1C(C)(C)C                                    2          0\nC1CC2(NC)c3ccccc3CC2CC1                                2          0\nCC#CC#CC#CC=CC(=O)OC                                   2          0\nCC=CC=CC                                               2          0\nCCCN(CC1CC1)c2c(cc(cc2N(=O)=O)C(F)(F)F)N(=O)=O         2          0\nCCN(CC)C(=O)C(Cl)=C(C)OP(=O)(OC)OC                     2          0\nCCOC(=O)C1CNC(=O)CC1C(=O)OCC                           2          0\nCCOC1C(Cl)C(Cl)C(Cl)C(Cl)C1Cl                          2          0\nCOC(=O)C4C(O)CCC5CN3CCc1c(nc2ccccc12)C3CC45            2          0\nCOC1C(Cl)C(Cl)C(Cl)C(Cl)C1Cl                           2          0\nCOCC(=O)N(C(C)C(=O)OC)c1c(C)cccc1C                     2          0\n...                                                  ...        ...\nOC(c(c(c(nc1)ccc2)c2)c1)C(N(CCC3C4C=C)C4)C3            2          0\nOC(c(cccc1)c1)C(N)C                                    2          0\nOC(c(cccc1)c1)C(NC)C                                   2          0\nOC1C(O)CCCC1                                           2          0\nOC1CC(C2)C=CC12                                        2          0\nOC1c2ccccc2CCC1N                                       2          0\nOCC(O)C(O)C(O)C(O)CO                                   3          0\nOCC=C(CCC=C(C)C)C                                      2          0\nc1c(C(F)(F)F)cc(C(F)(F)F)cc1NN=C(C(#N))C(=O)OC         2          0\nc1c(C(F)(F)F)cc2C(C3)CC(N)C3c2c1                       2          0\nc1c(OC)cccc1C2(O)CCCCC2CN(C)C                          2          0\nc1cc(Cl)ccc1OC(n2ncnc2)C(O)C(C)(C)C                    3          0\nc1cc(N(=O)=O)ccc1OC2C(O)C(O)C(O)C(CO)O2                2          0\nc1cc2C(O)C(O)C3CCCCC3c2cc1                             3          0\nc1cc2C(OC(=O)N)C(OC(=O)N)C3CCCCC3c2cc1                 3          0\nc1cc2OC(=O)C=C(C)c2cc1OC3C(O)C(O)C(O)C(CO)O3           2          0\nc1ccc2C(C3)CC(N)C3c2c1                                 2          0\nc1ccc2C(C3)CC(NC)C3c2c1                                2          0\nc1ccc2C(C3)CC(NCC)C3c2c1                               2          0\nc1ccc2C(C3)CC(NCCC)C3c2c1                              2          0\nc1ccc2C(CC3)CC(N)C3c2c1                                2          0\nc1ccc2C(O3)CC(N)C3c2c1                                 2          0\nc1ccc2C(O3)CC(NC)C3c2c1                                2          0\nc1ccc2C3CC(NC)C(CC3)c2c1                               2          0\nc1cccc(F)c1C2OCC3C(c4ccccc4)=NOC3CO2                   2          0\nc1ccccc1C(OC)C(C)NC                                    2          0\nc1ccccc1C2C(N)C2                                       2          0\nc1ccccc1C2OCC3C(c4ccccc4)=NOC3CO2                      2          0\nc1ccccc1CCCC(C)Oc2cc(OC(=O)C)c3C4CC(O)CCC4C(C)N...     2          0\nc1ncccc1C2CC(O)C(=O)N2C                                2          0\n\n[114 rows x 2 columns]"
     },
     "execution_count": 28,
     "metadata": {},
     "output_type": "execute_result"
    }
   ],
   "source": [
    "exp_physprop_logp_data[exp_physprop_logp_data[SMILES_COLUMN].duplicated(keep=False)].groupby(SMILES_COLUMN).count()"
   ],
   "metadata": {
    "collapsed": false,
    "pycharm": {
     "name": "#%%\n"
    }
   }
  },
  {
   "cell_type": "code",
   "execution_count": 29,
   "outputs": [
    {
     "data": {
      "text/html": "<div>\n<style scoped>\n    .dataframe tbody tr th:only-of-type {\n        vertical-align: middle;\n    }\n\n    .dataframe tbody tr th {\n        vertical-align: top;\n    }\n\n    .dataframe thead th {\n        text-align: right;\n    }\n</style>\n<table border=\"1\" class=\"dataframe\">\n  <thead>\n    <tr style=\"text-align: right;\">\n      <th></th>\n      <th>LogP</th>\n      <th>LogP_temp</th>\n      <th>SMILES</th>\n    </tr>\n  </thead>\n  <tbody>\n    <tr>\n      <th>1160</th>\n      <td>4.83</td>\n      <td>25.0</td>\n      <td>C(C(CC1C2)C1(C)C)(=C2)C</td>\n    </tr>\n    <tr>\n      <th>20246</th>\n      <td>4.48</td>\n      <td>NaN</td>\n      <td>C(C(CC1C2)C1(C)C)(=C2)C</td>\n    </tr>\n    <tr>\n      <th>20249</th>\n      <td>4.44</td>\n      <td>NaN</td>\n      <td>C(C(CC1C2)C1(C)C)(=C2)C</td>\n    </tr>\n  </tbody>\n</table>\n</div>",
      "text/plain": "       LogP  LogP_temp                   SMILES\n1160   4.83       25.0  C(C(CC1C2)C1(C)C)(=C2)C\n20246  4.48        NaN  C(C(CC1C2)C1(C)C)(=C2)C\n20249  4.44        NaN  C(C(CC1C2)C1(C)C)(=C2)C"
     },
     "execution_count": 29,
     "metadata": {},
     "output_type": "execute_result"
    }
   ],
   "source": [
    "exp_physprop_logp_data[exp_physprop_logp_data[SMILES_COLUMN] == \"C(C(CC1C2)C1(C)C)(=C2)C\"]"
   ],
   "metadata": {
    "collapsed": false,
    "pycharm": {
     "name": "#%%\n"
    }
   }
  },
  {
   "cell_type": "code",
   "execution_count": 31,
   "outputs": [
    {
     "data": {
      "text/plain": "<matplotlib.axes._subplots.AxesSubplot at 0x7f66ae68df98>"
     },
     "execution_count": 31,
     "metadata": {},
     "output_type": "execute_result"
    },
    {
     "data": {
      "text/plain": "<Figure size 432x288 with 1 Axes>",
      "image/png": "[encoded data removed]"
     },
     "metadata": {
      "needs_background": "light"
     },
     "output_type": "display_data"
    }
   ],
   "source": [
    "sns.distplot(exp_physprop_logp_data[LOGP_COLUMN])\n"
   ],
   "metadata": {
    "collapsed": false,
    "pycharm": {
     "name": "#%%\n"
    }
   }
  }
 ],
 "metadata": {
  "kernelspec": {
   "display_name": "Python 3",
   "language": "python",
   "name": "python3"
  },
  "language_info": {
   "codemirror_mode": {
    "name": "ipython",
    "version": 2
   },
   "file_extension": ".py",
   "mimetype": "text/x-python",
   "name": "python",
   "nbconvert_exporter": "python",
   "pygments_lexer": "ipython2",
   "version": "2.7.6"
  }
 },
 "nbformat": 4,
 "nbformat_minor": 0
}