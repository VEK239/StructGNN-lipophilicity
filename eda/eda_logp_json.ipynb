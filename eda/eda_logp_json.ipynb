{
 "cells": [
  {
   "cell_type": "markdown",
   "source": [
    "# EDA of logp.json\n",
    "\n",
    "## Summary\n",
    "\n",
    "1. There are 33% NA values for Temperature and PH. There are 2 rows with NA values.\n",
    "2. There are some strange values (they were removed from dataset):\n",
    "    * Extremely high temperatures, like 250000 Celsius\n",
    "    * Extremely high logP value: 611\n",
    "3. There are a lot of completely duplicated rows: 3382. (They were removed)\n",
    "4. Only 1493 rows without 'strange' values are completely filled and different.\n",
    "5. From 1493 rows only 366 molecules are unique. For other molecules we have different conditions.\n",
    "6. The same logP values could be obtained with different temperature and ph value. Conditions have not big std for the same logP value.\n"
   ],
   "metadata": {
    "collapsed": false
   }
  },
  {
   "cell_type": "code",
   "execution_count": 1,
   "metadata": {
    "collapsed": true
   },
   "outputs": [],
   "source": [
    "import pandas as pd\n",
    "import json\n",
    "import matplotlib.pyplot as plt\n",
    "import seaborn as sns\n",
    "\n",
    "LOG_P_FILE_PATH = \"../data/logp.json\""
   ]
  },
  {
   "cell_type": "code",
   "execution_count": 2,
   "outputs": [],
   "source": [
    "# Read logP data\n",
    "\n",
    "def read_logp_file():\n",
    "    with open(LOG_P_FILE_PATH, \"r\") as logp_file:\n",
    "        return [json.loads(line) for line in logp_file]\n",
    "\n",
    "logp_data = pd.DataFrame(read_logp_file())\n",
    "n = logp_data.shape[0]"
   ],
   "metadata": {
    "collapsed": false,
    "pycharm": {
     "name": "#%%\n"
    }
   }
  },
  {
   "cell_type": "code",
   "execution_count": 3,
   "outputs": [
    {
     "data": {
      "text/html": "<div>\n<style scoped>\n    .dataframe tbody tr th:only-of-type {\n        vertical-align: middle;\n    }\n\n    .dataframe tbody tr th {\n        vertical-align: top;\n    }\n\n    .dataframe thead th {\n        text-align: right;\n    }\n</style>\n<table border=\"1\" class=\"dataframe\">\n  <thead>\n    <tr style=\"text-align: right;\">\n      <th></th>\n      <th>Temperature (C)</th>\n      <th>pH</th>\n      <th>smiles</th>\n      <th>value</th>\n    </tr>\n  </thead>\n  <tbody>\n    <tr>\n      <th>0</th>\n      <td>30</td>\n      <td>NaN</td>\n      <td>[Br][C]([Br])([Br])[Br]</td>\n      <td>3.42</td>\n    </tr>\n    <tr>\n      <th>1</th>\n      <td>NaN</td>\n      <td>NaN</td>\n      <td>[F][C]([Cl])([Cl])[Cl]</td>\n      <td>2.53</td>\n    </tr>\n    <tr>\n      <th>2</th>\n      <td>NaN</td>\n      <td>NaN</td>\n      <td>[F][C]([Cl])([Cl])[Cl]</td>\n      <td>2.53</td>\n    </tr>\n    <tr>\n      <th>3</th>\n      <td>20</td>\n      <td>NaN</td>\n      <td>[F][C]([Cl])([Cl])[Cl]</td>\n      <td>2.53</td>\n    </tr>\n    <tr>\n      <th>4</th>\n      <td>25</td>\n      <td>NaN</td>\n      <td>[O]=[N+]([O-])[C]([Cl])([Cl])[Cl]</td>\n      <td>2.09</td>\n    </tr>\n  </tbody>\n</table>\n</div>",
      "text/plain": "  Temperature (C)   pH                             smiles  value\n0              30  NaN            [Br][C]([Br])([Br])[Br]   3.42\n1             NaN  NaN             [F][C]([Cl])([Cl])[Cl]   2.53\n2             NaN  NaN             [F][C]([Cl])([Cl])[Cl]   2.53\n3              20  NaN             [F][C]([Cl])([Cl])[Cl]   2.53\n4              25  NaN  [O]=[N+]([O-])[C]([Cl])([Cl])[Cl]   2.09"
     },
     "execution_count": 3,
     "metadata": {},
     "output_type": "execute_result"
    }
   ],
   "source": [
    "logp_data.head()"
   ],
   "metadata": {
    "collapsed": false,
    "pycharm": {
     "name": "#%%\n"
    }
   }
  },
  {
   "cell_type": "code",
   "execution_count": 4,
   "outputs": [],
   "source": [
    "VALUE_COLUMN = \"value\"\n",
    "TEMPERATURE_COLUMN = \"Temperature (C)\"\n",
    "PH_COLUMN = \"pH\"\n",
    "SMILES_COLUMN = \"smiles\""
   ],
   "metadata": {
    "collapsed": false,
    "pycharm": {
     "name": "#%%\n"
    }
   }
  },
  {
   "cell_type": "code",
   "execution_count": 5,
   "outputs": [
    {
     "data": {
      "text/html": "<div>\n<style scoped>\n    .dataframe tbody tr th:only-of-type {\n        vertical-align: middle;\n    }\n\n    .dataframe tbody tr th {\n        vertical-align: top;\n    }\n\n    .dataframe thead th {\n        text-align: right;\n    }\n</style>\n<table border=\"1\" class=\"dataframe\">\n  <thead>\n    <tr style=\"text-align: right;\">\n      <th></th>\n      <th>Temperature (C)</th>\n      <th>pH</th>\n      <th>smiles</th>\n      <th>value</th>\n    </tr>\n  </thead>\n  <tbody>\n    <tr>\n      <th>0</th>\n      <td>30.0</td>\n      <td>NaN</td>\n      <td>[Br][C]([Br])([Br])[Br]</td>\n      <td>3.42</td>\n    </tr>\n    <tr>\n      <th>1</th>\n      <td>NaN</td>\n      <td>NaN</td>\n      <td>[F][C]([Cl])([Cl])[Cl]</td>\n      <td>2.53</td>\n    </tr>\n    <tr>\n      <th>2</th>\n      <td>NaN</td>\n      <td>NaN</td>\n      <td>[F][C]([Cl])([Cl])[Cl]</td>\n      <td>2.53</td>\n    </tr>\n    <tr>\n      <th>3</th>\n      <td>20.0</td>\n      <td>NaN</td>\n      <td>[F][C]([Cl])([Cl])[Cl]</td>\n      <td>2.53</td>\n    </tr>\n    <tr>\n      <th>4</th>\n      <td>25.0</td>\n      <td>NaN</td>\n      <td>[O]=[N+]([O-])[C]([Cl])([Cl])[Cl]</td>\n      <td>2.09</td>\n    </tr>\n  </tbody>\n</table>\n</div>",
      "text/plain": "   Temperature (C)  pH                             smiles  value\n0             30.0 NaN            [Br][C]([Br])([Br])[Br]   3.42\n1              NaN NaN             [F][C]([Cl])([Cl])[Cl]   2.53\n2              NaN NaN             [F][C]([Cl])([Cl])[Cl]   2.53\n3             20.0 NaN             [F][C]([Cl])([Cl])[Cl]   2.53\n4             25.0 NaN  [O]=[N+]([O-])[C]([Cl])([Cl])[Cl]   2.09"
     },
     "execution_count": 5,
     "metadata": {},
     "output_type": "execute_result"
    }
   ],
   "source": [
    "logp_data[VALUE_COLUMN] = pd.to_numeric(logp_data[VALUE_COLUMN])\n",
    "logp_data[TEMPERATURE_COLUMN] = pd.to_numeric(logp_data[TEMPERATURE_COLUMN])\n",
    "logp_data[PH_COLUMN] = pd.to_numeric(logp_data[PH_COLUMN])\n",
    "logp_data.head()"
   ],
   "metadata": {
    "collapsed": false,
    "pycharm": {
     "name": "#%%\n"
    }
   }
  },
  {
   "cell_type": "code",
   "execution_count": 6,
   "outputs": [
    {
     "name": "stdout",
     "output_type": "stream",
     "text": [
      "# of NA values logP = 2, 0%\n"
     ]
    },
    {
     "data": {
      "text/html": "<div>\n<style scoped>\n    .dataframe tbody tr th:only-of-type {\n        vertical-align: middle;\n    }\n\n    .dataframe tbody tr th {\n        vertical-align: top;\n    }\n\n    .dataframe thead th {\n        text-align: right;\n    }\n</style>\n<table border=\"1\" class=\"dataframe\">\n  <thead>\n    <tr style=\"text-align: right;\">\n      <th></th>\n      <th>Temperature (C)</th>\n      <th>pH</th>\n      <th>smiles</th>\n      <th>value</th>\n    </tr>\n  </thead>\n  <tbody>\n    <tr>\n      <th>3218</th>\n      <td>37.0</td>\n      <td>NaN</td>\n      <td>[H][c]1[c]([H])[c]([S](=[O])(=[O])[N]([H])[H])...</td>\n      <td>NaN</td>\n    </tr>\n    <tr>\n      <th>4939</th>\n      <td>37.0</td>\n      <td>NaN</td>\n      <td>[H][c]1[n][c]([N]([H])[S](=[O])(=[O])[c]2[c]([...</td>\n      <td>NaN</td>\n    </tr>\n  </tbody>\n</table>\n</div>",
      "text/plain": "      Temperature (C)  pH                                             smiles  \\\n3218             37.0 NaN  [H][c]1[c]([H])[c]([S](=[O])(=[O])[N]([H])[H])...   \n4939             37.0 NaN  [H][c]1[n][c]([N]([H])[S](=[O])(=[O])[c]2[c]([...   \n\n      value  \n3218    NaN  \n4939    NaN  "
     },
     "execution_count": 6,
     "metadata": {},
     "output_type": "execute_result"
    }
   ],
   "source": [
    "# check NA values\n",
    "num_of_na_value = logp_data[VALUE_COLUMN].isna().sum()\n",
    "frac_of_na_value = int(100.0*(num_of_na_value / n))\n",
    "print(\"# of NA values logP = \" + str(num_of_na_value) + \", \" + str(frac_of_na_value) + \"%\")\n",
    "logp_data[logp_data[VALUE_COLUMN].isna()]"
   ],
   "metadata": {
    "collapsed": false,
    "pycharm": {
     "name": "#%%\n"
    }
   }
  },
  {
   "cell_type": "code",
   "execution_count": 7,
   "outputs": [
    {
     "name": "stdout",
     "output_type": "stream",
     "text": [
      "# of NA values temperature = 3250, 33%\n"
     ]
    },
    {
     "data": {
      "text/plain": "count      6336.000000\nmean         69.203180\nstd        3194.612013\nmin         -19.000000\n25%          24.000000\n50%          25.000000\n75%          25.000000\nmax      253490.000000\nName: Temperature (C), dtype: float64"
     },
     "execution_count": 7,
     "metadata": {},
     "output_type": "execute_result"
    }
   ],
   "source": [
    "# check NA temperature\n",
    "num_of_na_temperature = logp_data[TEMPERATURE_COLUMN].isna().sum()\n",
    "frac_of_na_temperature = int(100.0*(num_of_na_temperature / n))\n",
    "print(\"# of NA values temperature = \" + str(num_of_na_temperature) + \", \" + str(frac_of_na_temperature) + \"%\")\n",
    "temperature_df = logp_data[logp_data[TEMPERATURE_COLUMN].notna()][TEMPERATURE_COLUMN]\n",
    "temperature_df.describe()"
   ],
   "metadata": {
    "collapsed": false,
    "pycharm": {
     "name": "#%%\n"
    }
   }
  },
  {
   "cell_type": "code",
   "execution_count": 8,
   "outputs": [
    {
     "data": {
      "text/plain": "<matplotlib.axes._subplots.AxesSubplot at 0x7fd1eb962080>"
     },
     "execution_count": 8,
     "metadata": {},
     "output_type": "execute_result"
    },
    {
     "data": {
      "image/png": "[encoded data removed]",
      "text/plain": "<Figure size 432x288 with 1 Axes>"
     },
     "metadata": {
      "needs_background": "light"
     },
     "output_type": "display_data"
    }
   ],
   "source": [
    "sns.distplot(temperature_df)"
   ],
   "metadata": {
    "collapsed": false,
    "pycharm": {
     "name": "#%%\n"
    }
   }
  },
  {
   "cell_type": "code",
   "execution_count": 9,
   "outputs": [
    {
     "data": {
      "text/plain": "Temperature (C)\n(0, 10000]          6333\n(10000, 100000]        1\n(100000, 150000]       0\n(150000, 200000]       0\n(200000, 250000]       0\n(250000, 300000]       1\nName: Temperature (C), dtype: int64"
     },
     "execution_count": 9,
     "metadata": {},
     "output_type": "execute_result"
    }
   ],
   "source": [
    "ranges = [0, 10000, 100000, 150000, 200000, 250000, 300000]\n",
    "temperature_df.groupby(pd.cut(temperature_df, ranges)).count()"
   ],
   "metadata": {
    "collapsed": false,
    "pycharm": {
     "name": "#%%\n"
    }
   }
  },
  {
   "cell_type": "code",
   "execution_count": 10,
   "outputs": [
    {
     "name": "stdout",
     "output_type": "stream",
     "text": [
      "1320    253490.0\n",
      "Name: Temperature (C), dtype: float64\n",
      "1856    20500.0\n",
      "Name: Temperature (C), dtype: float64\n"
     ]
    }
   ],
   "source": [
    "print(temperature_df[temperature_df.isin(range(250000, 300000))])\n",
    "print(temperature_df[temperature_df.isin(range(10000, 100000))])"
   ],
   "metadata": {
    "collapsed": false,
    "pycharm": {
     "name": "#%%\n"
    }
   }
  },
  {
   "cell_type": "code",
   "execution_count": 11,
   "outputs": [
    {
     "name": "stdout",
     "output_type": "stream",
     "text": [
      "count    6334.000000\n",
      "mean       25.968006\n",
      "std        11.066702\n",
      "min       -19.000000\n",
      "25%        24.000000\n",
      "50%        25.000000\n",
      "75%        25.000000\n",
      "max       633.000000\n",
      "Name: Temperature (C), dtype: float64\n"
     ]
    },
    {
     "data": {
      "text/plain": "<matplotlib.axes._subplots.AxesSubplot at 0x7fd1eb91ee48>"
     },
     "execution_count": 11,
     "metadata": {},
     "output_type": "execute_result"
    },
    {
     "data": {
      "image/png": "[encoded data removed]",
      "text/plain": "<Figure size 432x288 with 1 Axes>"
     },
     "metadata": {
      "needs_background": "light"
     },
     "output_type": "display_data"
    }
   ],
   "source": [
    "clipped_temperature_df = temperature_df.drop(index=1856).drop(index=1320)\n",
    "print(clipped_temperature_df.describe())\n",
    "sns.distplot(clipped_temperature_df)"
   ],
   "metadata": {
    "collapsed": false,
    "pycharm": {
     "name": "#%%\n"
    }
   }
  },
  {
   "cell_type": "code",
   "execution_count": 12,
   "outputs": [
    {
     "data": {
      "text/plain": "Temperature (C)\n(0, 100]      6329\n(100, 200]       1\n(200, 300]       1\n(300, 400]       0\n(400, 500]       1\n(500, 600]       0\nName: Temperature (C), dtype: int64"
     },
     "execution_count": 12,
     "metadata": {},
     "output_type": "execute_result"
    }
   ],
   "source": [
    "ranges = [0, 100, 200, 300, 400, 500, 600]\n",
    "clipped_temperature_df.groupby(pd.cut(clipped_temperature_df, ranges)).count()"
   ],
   "metadata": {
    "collapsed": false,
    "pycharm": {
     "name": "#%%\n"
    }
   }
  },
  {
   "cell_type": "code",
   "execution_count": 13,
   "outputs": [],
   "source": [
    "# drop NA values\n",
    "logp_data = logp_data[logp_data[VALUE_COLUMN].notna()]"
   ],
   "metadata": {
    "collapsed": false,
    "pycharm": {
     "name": "#%%\n"
    }
   }
  },
  {
   "cell_type": "code",
   "execution_count": 14,
   "outputs": [
    {
     "data": {
      "text/html": "<div>\n<style scoped>\n    .dataframe tbody tr th:only-of-type {\n        vertical-align: middle;\n    }\n\n    .dataframe tbody tr th {\n        vertical-align: top;\n    }\n\n    .dataframe thead th {\n        text-align: right;\n    }\n</style>\n<table border=\"1\" class=\"dataframe\">\n  <thead>\n    <tr style=\"text-align: right;\">\n      <th></th>\n      <th>Temperature (C)</th>\n      <th>pH</th>\n      <th>value</th>\n    </tr>\n  </thead>\n  <tbody>\n    <tr>\n      <th>count</th>\n      <td>6334.000000</td>\n      <td>1967.000000</td>\n      <td>9584.000000</td>\n    </tr>\n    <tr>\n      <th>mean</th>\n      <td>69.213349</td>\n      <td>5.877314</td>\n      <td>2.677759</td>\n    </tr>\n    <tr>\n      <th>std</th>\n      <td>3195.116361</td>\n      <td>2.313127</td>\n      <td>6.556673</td>\n    </tr>\n    <tr>\n      <th>min</th>\n      <td>-19.000000</td>\n      <td>0.100000</td>\n      <td>-4.200000</td>\n    </tr>\n    <tr>\n      <th>25%</th>\n      <td>24.000000</td>\n      <td>4.285000</td>\n      <td>1.200000</td>\n    </tr>\n    <tr>\n      <th>50%</th>\n      <td>25.000000</td>\n      <td>6.200000</td>\n      <td>2.470000</td>\n    </tr>\n    <tr>\n      <th>75%</th>\n      <td>25.000000</td>\n      <td>7.400000</td>\n      <td>3.990000</td>\n    </tr>\n    <tr>\n      <th>max</th>\n      <td>253490.000000</td>\n      <td>20.000000</td>\n      <td>611.000000</td>\n    </tr>\n  </tbody>\n</table>\n</div>",
      "text/plain": "       Temperature (C)           pH        value\ncount      6334.000000  1967.000000  9584.000000\nmean         69.213349     5.877314     2.677759\nstd        3195.116361     2.313127     6.556673\nmin         -19.000000     0.100000    -4.200000\n25%          24.000000     4.285000     1.200000\n50%          25.000000     6.200000     2.470000\n75%          25.000000     7.400000     3.990000\nmax      253490.000000    20.000000   611.000000"
     },
     "execution_count": 14,
     "metadata": {},
     "output_type": "execute_result"
    }
   ],
   "source": [
    "logp_data.describe()"
   ],
   "metadata": {
    "collapsed": false,
    "pycharm": {
     "name": "#%%\n"
    }
   }
  },
  {
   "cell_type": "code",
   "execution_count": 15,
   "outputs": [
    {
     "data": {
      "text/plain": "<matplotlib.axes._subplots.AxesSubplot at 0x7fd1eb8fe1d0>"
     },
     "execution_count": 15,
     "metadata": {},
     "output_type": "execute_result"
    },
    {
     "data": {
      "image/png": "[encoded data removed]",
      "text/plain": "<Figure size 432x288 with 1 Axes>"
     },
     "metadata": {
      "needs_background": "light"
     },
     "output_type": "display_data"
    }
   ],
   "source": [
    "sns.distplot(logp_data[VALUE_COLUMN])"
   ],
   "metadata": {
    "collapsed": false,
    "pycharm": {
     "name": "#%%\n"
    }
   }
  },
  {
   "cell_type": "code",
   "execution_count": 16,
   "outputs": [
    {
     "data": {
      "text/plain": "value\n(0, 50]       8748\n(50, 100]        0\n(100, 200]       0\n(200, 300]       0\n(300, 400]       0\n(400, 500]       0\n(500, 600]       0\n(600, 700]       1\nName: value, dtype: int64"
     },
     "execution_count": 16,
     "metadata": {},
     "output_type": "execute_result"
    }
   ],
   "source": [
    "ranges = [0, 50, 100, 200, 300, 400, 500, 600, 700]\n",
    "logp_data[VALUE_COLUMN].groupby(pd.cut(logp_data.value, ranges)).count()"
   ],
   "metadata": {
    "collapsed": false,
    "pycharm": {
     "name": "#%%\n"
    }
   }
  },
  {
   "cell_type": "code",
   "execution_count": 17,
   "outputs": [
    {
     "data": {
      "text/html": "<div>\n<style scoped>\n    .dataframe tbody tr th:only-of-type {\n        vertical-align: middle;\n    }\n\n    .dataframe tbody tr th {\n        vertical-align: top;\n    }\n\n    .dataframe thead th {\n        text-align: right;\n    }\n</style>\n<table border=\"1\" class=\"dataframe\">\n  <thead>\n    <tr style=\"text-align: right;\">\n      <th></th>\n      <th>Temperature (C)</th>\n      <th>pH</th>\n      <th>smiles</th>\n      <th>value</th>\n    </tr>\n  </thead>\n  <tbody>\n    <tr>\n      <th>8875</th>\n      <td>25.0</td>\n      <td>NaN</td>\n      <td>[H][c]1[c]([H])[c]([H])[c]2[c]([H])[c]3[c]([c]...</td>\n      <td>611.0</td>\n    </tr>\n  </tbody>\n</table>\n</div>",
      "text/plain": "      Temperature (C)  pH                                             smiles  \\\n8875             25.0 NaN  [H][c]1[c]([H])[c]([H])[c]2[c]([H])[c]3[c]([c]...   \n\n      value  \n8875  611.0  "
     },
     "execution_count": 17,
     "metadata": {},
     "output_type": "execute_result"
    }
   ],
   "source": [
    "# What is this awkward molecule?\n",
    "outlier = logp_data[logp_data[VALUE_COLUMN].isin(range(600, 700))]\n",
    "outlier"
   ],
   "metadata": {
    "collapsed": false,
    "pycharm": {
     "name": "#%%\n"
    }
   }
  },
  {
   "cell_type": "code",
   "execution_count": 18,
   "outputs": [],
   "source": [
    "clipped_logp_data = logp_data.drop(index=8875)\n",
    "# remove strange temperatures\n",
    "clipped_logp_data = clipped_logp_data.drop(index=1856).drop(index=1320)"
   ],
   "metadata": {
    "collapsed": false,
    "pycharm": {
     "name": "#%%\n"
    }
   }
  },
  {
   "cell_type": "code",
   "execution_count": 19,
   "outputs": [
    {
     "data": {
      "text/plain": "<matplotlib.axes._subplots.AxesSubplot at 0x7fd1eb857b70>"
     },
     "execution_count": 19,
     "metadata": {},
     "output_type": "execute_result"
    },
    {
     "data": {
      "image/png": "[encoded data removed]",
      "text/plain": "<Figure size 432x288 with 1 Axes>"
     },
     "metadata": {
      "needs_background": "light"
     },
     "output_type": "display_data"
    }
   ],
   "source": [
    "sns.distplot(clipped_logp_data[VALUE_COLUMN])"
   ],
   "metadata": {
    "collapsed": false,
    "pycharm": {
     "name": "#%%\n"
    }
   }
  },
  {
   "cell_type": "code",
   "execution_count": 20,
   "outputs": [
    {
     "data": {
      "text/html": "<div>\n<style scoped>\n    .dataframe tbody tr th:only-of-type {\n        vertical-align: middle;\n    }\n\n    .dataframe tbody tr th {\n        vertical-align: top;\n    }\n\n    .dataframe thead th {\n        text-align: right;\n    }\n</style>\n<table border=\"1\" class=\"dataframe\">\n  <thead>\n    <tr style=\"text-align: right;\">\n      <th></th>\n      <th>Temperature (C)</th>\n      <th>pH</th>\n      <th>value</th>\n    </tr>\n  </thead>\n  <tbody>\n    <tr>\n      <th>count</th>\n      <td>6331.000000</td>\n      <td>1967.000000</td>\n      <td>9581.000000</td>\n    </tr>\n    <tr>\n      <th>mean</th>\n      <td>25.964674</td>\n      <td>5.877314</td>\n      <td>2.614395</td>\n    </tr>\n    <tr>\n      <th>std</th>\n      <td>11.067580</td>\n      <td>2.313127</td>\n      <td>2.090777</td>\n    </tr>\n    <tr>\n      <th>min</th>\n      <td>-19.000000</td>\n      <td>0.100000</td>\n      <td>-4.200000</td>\n    </tr>\n    <tr>\n      <th>25%</th>\n      <td>24.000000</td>\n      <td>4.285000</td>\n      <td>1.200000</td>\n    </tr>\n    <tr>\n      <th>50%</th>\n      <td>25.000000</td>\n      <td>6.200000</td>\n      <td>2.470000</td>\n    </tr>\n    <tr>\n      <th>75%</th>\n      <td>25.000000</td>\n      <td>7.400000</td>\n      <td>3.990000</td>\n    </tr>\n    <tr>\n      <th>max</th>\n      <td>633.000000</td>\n      <td>20.000000</td>\n      <td>15.600000</td>\n    </tr>\n  </tbody>\n</table>\n</div>",
      "text/plain": "       Temperature (C)           pH        value\ncount      6331.000000  1967.000000  9581.000000\nmean         25.964674     5.877314     2.614395\nstd          11.067580     2.313127     2.090777\nmin         -19.000000     0.100000    -4.200000\n25%          24.000000     4.285000     1.200000\n50%          25.000000     6.200000     2.470000\n75%          25.000000     7.400000     3.990000\nmax         633.000000    20.000000    15.600000"
     },
     "execution_count": 20,
     "metadata": {},
     "output_type": "execute_result"
    }
   ],
   "source": [
    "clipped_logp_data.describe()"
   ],
   "metadata": {
    "collapsed": false,
    "pycharm": {
     "name": "#%%\n"
    }
   }
  },
  {
   "cell_type": "code",
   "execution_count": 21,
   "outputs": [
    {
     "data": {
      "image/png": "[encoded data removed]",
      "text/plain": "<Figure size 432x288 with 1 Axes>"
     },
     "metadata": {
      "needs_background": "light"
     },
     "output_type": "display_data"
    }
   ],
   "source": [
    "# Plot value vs temperature\n",
    "temp_df = clipped_logp_data[clipped_logp_data[TEMPERATURE_COLUMN].notna()]\n",
    "fig, ax = plt.subplots()\n",
    "ax.scatter(temp_df[TEMPERATURE_COLUMN], temp_df[VALUE_COLUMN])\n",
    "ax.set_xlabel(\"Temperature\")\n",
    "ax.set_ylabel(\"LogP\")\n",
    "plt.show()"
   ],
   "metadata": {
    "collapsed": false,
    "pycharm": {
     "name": "#%%\n"
    }
   }
  },
  {
   "cell_type": "code",
   "execution_count": 22,
   "outputs": [
    {
     "data": {
      "image/png": "[encoded data removed]",
      "text/plain": "<Figure size 432x288 with 1 Axes>"
     },
     "metadata": {
      "needs_background": "light"
     },
     "output_type": "display_data"
    }
   ],
   "source": [
    "temp_df = temp_df[temp_df[TEMPERATURE_COLUMN].isin(range(0, 100))]\n",
    "fig, ax = plt.subplots()\n",
    "ax.scatter(temp_df[TEMPERATURE_COLUMN], temp_df[VALUE_COLUMN])\n",
    "ax.set_xlabel(\"Temperature\")\n",
    "ax.set_ylabel(\"LogP\")\n",
    "plt.show()"
   ],
   "metadata": {
    "collapsed": false,
    "pycharm": {
     "name": "#%%\n"
    }
   }
  },
  {
   "cell_type": "code",
   "execution_count": 24,
   "outputs": [
    {
     "name": "stdout",
     "output_type": "stream",
     "text": [
      "# of NA values pH = 3250, 33%\n"
     ]
    },
    {
     "data": {
      "text/plain": "count    1967.000000\nmean        5.877314\nstd         2.313127\nmin         0.100000\n25%         4.285000\n50%         6.200000\n75%         7.400000\nmax        20.000000\nName: pH, dtype: float64"
     },
     "execution_count": 24,
     "metadata": {},
     "output_type": "execute_result"
    }
   ],
   "source": [
    "num_of_na_ph = logp_data[PH_COLUMN].isna().sum()\n",
    "frac_of_na_ph = int(100.0*(num_of_na_ph / n))\n",
    "print(\"# of NA values pH = \" + str(num_of_na_temperature) + \", \" + str(frac_of_na_temperature) + \"%\")\n",
    "ph_df = logp_data[logp_data[PH_COLUMN].notna()][PH_COLUMN].astype(float)\n",
    "ph_df.describe()"
   ],
   "metadata": {
    "collapsed": false,
    "pycharm": {
     "name": "#%%\n"
    }
   }
  },
  {
   "cell_type": "code",
   "execution_count": 25,
   "outputs": [],
   "source": [
    "clipped_ph_df = ph_df[ph_df.notna()]"
   ],
   "metadata": {
    "collapsed": false,
    "pycharm": {
     "name": "#%%\n"
    }
   }
  },
  {
   "cell_type": "code",
   "execution_count": 26,
   "outputs": [
    {
     "data": {
      "text/plain": "<matplotlib.axes._subplots.AxesSubplot at 0x7fd1eb78d208>"
     },
     "execution_count": 26,
     "metadata": {},
     "output_type": "execute_result"
    },
    {
     "data": {
      "image/png": "[encoded data removed]",
      "text/plain": "<Figure size 432x288 with 1 Axes>"
     },
     "metadata": {
      "needs_background": "light"
     },
     "output_type": "display_data"
    }
   ],
   "source": [
    "sns.distplot(clipped_ph_df)"
   ],
   "metadata": {
    "collapsed": false,
    "pycharm": {
     "name": "#%%\n"
    }
   }
  },
  {
   "cell_type": "code",
   "execution_count": 27,
   "outputs": [
    {
     "data": {
      "text/plain": "0"
     },
     "execution_count": 27,
     "metadata": {},
     "output_type": "execute_result"
    }
   ],
   "source": [
    "logp_data[SMILES_COLUMN].isna().sum()"
   ],
   "metadata": {
    "collapsed": false,
    "pycharm": {
     "name": "#%%\n"
    }
   }
  },
  {
   "cell_type": "code",
   "execution_count": 28,
   "outputs": [
    {
     "name": "stdout",
     "output_type": "stream",
     "text": [
      "(9581, 4)\n"
     ]
    },
    {
     "data": {
      "text/html": "<div>\n<style scoped>\n    .dataframe tbody tr th:only-of-type {\n        vertical-align: middle;\n    }\n\n    .dataframe tbody tr th {\n        vertical-align: top;\n    }\n\n    .dataframe thead th {\n        text-align: right;\n    }\n</style>\n<table border=\"1\" class=\"dataframe\">\n  <thead>\n    <tr style=\"text-align: right;\">\n      <th></th>\n      <th>Temperature (C)</th>\n      <th>pH</th>\n      <th>value</th>\n    </tr>\n  </thead>\n  <tbody>\n    <tr>\n      <th>count</th>\n      <td>6331.000000</td>\n      <td>1967.000000</td>\n      <td>9581.000000</td>\n    </tr>\n    <tr>\n      <th>mean</th>\n      <td>25.964674</td>\n      <td>5.877314</td>\n      <td>2.614395</td>\n    </tr>\n    <tr>\n      <th>std</th>\n      <td>11.067580</td>\n      <td>2.313127</td>\n      <td>2.090777</td>\n    </tr>\n    <tr>\n      <th>min</th>\n      <td>-19.000000</td>\n      <td>0.100000</td>\n      <td>-4.200000</td>\n    </tr>\n    <tr>\n      <th>25%</th>\n      <td>24.000000</td>\n      <td>4.285000</td>\n      <td>1.200000</td>\n    </tr>\n    <tr>\n      <th>50%</th>\n      <td>25.000000</td>\n      <td>6.200000</td>\n      <td>2.470000</td>\n    </tr>\n    <tr>\n      <th>75%</th>\n      <td>25.000000</td>\n      <td>7.400000</td>\n      <td>3.990000</td>\n    </tr>\n    <tr>\n      <th>max</th>\n      <td>633.000000</td>\n      <td>20.000000</td>\n      <td>15.600000</td>\n    </tr>\n  </tbody>\n</table>\n</div>",
      "text/plain": "       Temperature (C)           pH        value\ncount      6331.000000  1967.000000  9581.000000\nmean         25.964674     5.877314     2.614395\nstd          11.067580     2.313127     2.090777\nmin         -19.000000     0.100000    -4.200000\n25%          24.000000     4.285000     1.200000\n50%          25.000000     6.200000     2.470000\n75%          25.000000     7.400000     3.990000\nmax         633.000000    20.000000    15.600000"
     },
     "execution_count": 28,
     "metadata": {},
     "output_type": "execute_result"
    }
   ],
   "source": [
    "# let's look at final data\n",
    "final_data = logp_data[logp_data[VALUE_COLUMN].notna()]\n",
    "final_data = final_data.drop(index=8875)\n",
    "final_data = final_data.drop(index=1856).drop(index=1320)\n",
    "print(final_data.shape)\n",
    "final_data.describe()"
   ],
   "metadata": {
    "collapsed": false,
    "pycharm": {
     "name": "#%%\n"
    }
   }
  },
  {
   "cell_type": "code",
   "execution_count": 29,
   "outputs": [
    {
     "data": {
      "text/plain": "<matplotlib.axes._subplots.AxesSubplot at 0x7fd1eb7647f0>"
     },
     "execution_count": 29,
     "metadata": {},
     "output_type": "execute_result"
    },
    {
     "data": {
      "image/png": "[encoded data removed]",
      "text/plain": "<Figure size 432x288 with 1 Axes>"
     },
     "metadata": {
      "needs_background": "light"
     },
     "output_type": "display_data"
    }
   ],
   "source": [
    "sns.distplot(final_data[VALUE_COLUMN])"
   ],
   "metadata": {
    "collapsed": false,
    "pycharm": {
     "name": "#%%\n"
    }
   }
  },
  {
   "cell_type": "code",
   "execution_count": 30,
   "outputs": [
    {
     "data": {
      "text/plain": "2647"
     },
     "execution_count": 30,
     "metadata": {},
     "output_type": "execute_result"
    }
   ],
   "source": [
    "final_data[SMILES_COLUMN].unique().size\n",
    "# only 2647 out of 9581 molecules are uniques"
   ],
   "metadata": {
    "collapsed": false,
    "pycharm": {
     "name": "#%%\n"
    }
   }
  },
  {
   "cell_type": "code",
   "execution_count": 31,
   "outputs": [
    {
     "data": {
      "text/html": "<div>\n<style scoped>\n    .dataframe tbody tr th:only-of-type {\n        vertical-align: middle;\n    }\n\n    .dataframe tbody tr th {\n        vertical-align: top;\n    }\n\n    .dataframe thead th {\n        text-align: right;\n    }\n</style>\n<table border=\"1\" class=\"dataframe\">\n  <thead>\n    <tr style=\"text-align: right;\">\n      <th></th>\n      <th>Temperature (C)</th>\n      <th>pH</th>\n      <th>value</th>\n    </tr>\n    <tr>\n      <th>smiles</th>\n      <th></th>\n      <th></th>\n      <th></th>\n    </tr>\n  </thead>\n  <tbody>\n    <tr>\n      <th>[Br][C]([Br])([Br])[Br]</th>\n      <td>1</td>\n      <td>0</td>\n      <td>1</td>\n    </tr>\n    <tr>\n      <th>[Br][c]1[c]([Br])[c]([Br])[c]([Br])[c]([Br])[c]1[Br]</th>\n      <td>1</td>\n      <td>0</td>\n      <td>2</td>\n    </tr>\n    <tr>\n      <th>[Br][c]1[c]([Br])[c]([Br])[c]([O][c]2[c]([Br])[c]([Br])[c]([Br])[c]([Br])[c]2[Br])[c]([Br])[c]1[Br]</th>\n      <td>0</td>\n      <td>0</td>\n      <td>1</td>\n    </tr>\n    <tr>\n      <th>[Cl][C]([Cl])([Cl])[C]([Cl])([Cl])[Cl]</th>\n      <td>3</td>\n      <td>0</td>\n      <td>5</td>\n    </tr>\n    <tr>\n      <th>[Cl][C]([Cl])([Cl])[Cl]</th>\n      <td>5</td>\n      <td>0</td>\n      <td>11</td>\n    </tr>\n    <tr>\n      <th>[Cl][C]([Cl])=[C]([Cl])[C]([Cl])=[C]([Cl])[Cl]</th>\n      <td>4</td>\n      <td>0</td>\n      <td>10</td>\n    </tr>\n    <tr>\n      <th>[Cl][C]([Cl])=[C]([Cl])[Cl]</th>\n      <td>9</td>\n      <td>0</td>\n      <td>13</td>\n    </tr>\n    <tr>\n      <th>[Cl][C]1([Cl])[C]2([Cl])[C]3([Cl])[C]4([Cl])[C]([Cl])([Cl])[C]5([Cl])[C]3([Cl])[C]1([Cl])[C]5([Cl])[C]24[Cl]</th>\n      <td>2</td>\n      <td>0</td>\n      <td>7</td>\n    </tr>\n    <tr>\n      <th>[Cl][C]1=[C]([Cl])[C]([Cl])([C]2([Cl])[C]([Cl])=[C]([Cl])[C]([Cl])=[C]2[Cl])[C]([Cl])=[C]1[Cl]</th>\n      <td>0</td>\n      <td>0</td>\n      <td>1</td>\n    </tr>\n    <tr>\n      <th>[Cl][C]1=[C]([Cl])[C]([Cl])([Cl])[C]([Cl])=[C]1[Cl]</th>\n      <td>1</td>\n      <td>0</td>\n      <td>3</td>\n    </tr>\n    <tr>\n      <th>[Cl][c]1[c]([Cl])[c]([Cl])[c](-[c]2[c]([Cl])[c]([Cl])[c]([Cl])[c]([Cl])[c]2[Cl])[c]([Cl])[c]1[Cl]</th>\n      <td>6</td>\n      <td>0</td>\n      <td>12</td>\n    </tr>\n    <tr>\n      <th>[Cl][c]1[c]([Cl])[c]([Cl])[c]([Cl])[c]([Cl])[c]1[Cl]</th>\n      <td>15</td>\n      <td>0</td>\n      <td>22</td>\n    </tr>\n    <tr>\n      <th>[Cl][c]1[c]([Cl])[c]([Cl])[c]([O][c]2[c]([Cl])[c]([Cl])[c]([Cl])[c]([Cl])[c]2[Cl])[c]([Cl])[c]1[Cl]</th>\n      <td>0</td>\n      <td>0</td>\n      <td>1</td>\n    </tr>\n    <tr>\n      <th>[Cl][c]1[c]([Cl])[c]([Cl])[c]2[c]([c]1[Cl])[O][c]1[c]([Cl])[c]([Cl])[c]([Cl])[c]([Cl])[c]1[O]2</th>\n      <td>3</td>\n      <td>0</td>\n      <td>7</td>\n    </tr>\n    <tr>\n      <th>[Cl][c]1[c]([Cl])[c]([Cl])[c]2[c]([o][c]3[c]([Cl])[c]([Cl])[c]([Cl])[c]([Cl])[c]32)[c]1[Cl]</th>\n      <td>1</td>\n      <td>0</td>\n      <td>2</td>\n    </tr>\n    <tr>\n      <th>[F][C]([Cl])([Cl])[Cl]</th>\n      <td>1</td>\n      <td>0</td>\n      <td>3</td>\n    </tr>\n    <tr>\n      <th>[F][C]([F])([Cl])[C]([F])([Cl])[Cl]</th>\n      <td>2</td>\n      <td>0</td>\n      <td>2</td>\n    </tr>\n    <tr>\n      <th>[H]/[C](=[C](/[C]([H])([H])[H])[C]1([C]([H])([H])[C]([H])([H])[H])[C](=[O])[N]([H])[C](=[O])[N]([H])[C]1=[O])[C]([H])([H])[C]([H])([H])[H]</th>\n      <td>6</td>\n      <td>5</td>\n      <td>9</td>\n    </tr>\n    <tr>\n      <th>[H]/[C](=[C](/[Cl])[C]([F])([F])[F])[C]1([H])[C]([H])([C](=[O])[O][C]([H])([C]#[N])[c]2[c]([H])[c]([H])[c]([H])[c]([O][c]3[c]([H])[c]([H])[c]([H])[c]([H])[c]3[H])[c]2[H])[C]1([C]([H])([H])[H])[C]([H])([H])[H]</th>\n      <td>1</td>\n      <td>0</td>\n      <td>2</td>\n    </tr>\n    <tr>\n      <th>[H]/[C](=[C](/[Cl])[C]([F])([F])[F])[C]1([H])[C]([H])([C](=[O])[O][C]([H])([H])[c]2[c]([F])[c]([F])[c]([C]([H])([H])[H])[c]([F])[c]2[F])[C]1([C]([H])([H])[H])[C]([H])([H])[H]</th>\n      <td>1</td>\n      <td>0</td>\n      <td>1</td>\n    </tr>\n    <tr>\n      <th>[H]/[C](=[C](/[Cl])[C]([F])([F])[F])[C]1([H])[C]([H])([C](=[O])[O][C]([H])([H])[c]2[c]([H])[c]([H])[c]([H])[c](-[c]3[c]([H])[c]([H])[c]([H])[c]([H])[c]3[H])[c]2[C]([H])([H])[H])[C]1([C]([H])([H])[H])[C]([H])([H])[H]</th>\n      <td>0</td>\n      <td>0</td>\n      <td>1</td>\n    </tr>\n    <tr>\n      <th>[H]/[C](=[C](/[H])[C]([H])([H])[C]([H])([H])[C]([H])([H])[C]([H])([H])[C]([H])([H])[C]([H])([H])[C]([H])([H])[C]([H])([H])[C]([H])([H])[C]([H])([H])[C]([H])([H])[C]([H])([H])[C]([H])([H])[H])[C]([H])([H])[C]([H])([H])[C]([H])([H])[C]([H])([H])[C]([H])([H])[C]([H])([H])[C]([H])([H])[C]([H])([H])[H]</th>\n      <td>0</td>\n      <td>0</td>\n      <td>1</td>\n    </tr>\n    <tr>\n      <th>[H]/[C](=[C](/[H])[C]([H])([H])[N]1[C]([H])([H])[C]([H])([H])[N]([C]([H])([c]2[c]([H])[c]([H])[c]([H])[c]([H])[c]2[H])[c]2[c]([H])[c]([H])[c]([H])[c]([H])[c]2[H])[C]([H])([H])[C]1([H])[H])[c]1[c]([H])[c]([H])[c]([H])[c]([H])[c]1[H]</th>\n      <td>1</td>\n      <td>2</td>\n      <td>4</td>\n    </tr>\n    <tr>\n      <th>[H]/[C](=[C](/[H])[c]1[c]([H])[c]([H])[c]([H])[c]([H])[c]1[H])[c]1[c]([H])[c]([H])[c]([H])[c]([H])[c]1[H]</th>\n      <td>2</td>\n      <td>0</td>\n      <td>3</td>\n    </tr>\n    <tr>\n      <th>[H]/[C](=[C](/[N]([H])[C]([H])([H])[H])[N]([C]([H])([H])[c]1[c]([H])[n][c]([Cl])[c]([H])[c]1[H])[C]([H])([H])[C]([H])([H])[H])[N+](=[O])[O-]</th>\n      <td>0</td>\n      <td>1</td>\n      <td>1</td>\n    </tr>\n    <tr>\n      <th>[H]/[C](=[C](\\[C](=[O])[O][C]([H])([C]([H])([H])[H])[C]([H])([H])[H])[S](=[O])(=[O])[c]1[c]([H])[c]([H])[c]([C]([H])([H])[H])[c]([H])[c]1[H])[c]1[c]([H])[c]([H])[c]([H])[c]([H])[c]1[H]</th>\n      <td>1</td>\n      <td>0</td>\n      <td>1</td>\n    </tr>\n    <tr>\n      <th>[H]/[C](=[C](\\[C](=[O])[O][C]([H])([C]([H])([H])[H])[C]([H])([H])[H])[S](=[O])(=[O])[c]1[c]([H])[c]([H])[c]([Cl])[c]([H])[c]1[H])[c]1[c]([H])[c]([H])[c]([H])[c]([H])[c]1[H]</th>\n      <td>1</td>\n      <td>0</td>\n      <td>1</td>\n    </tr>\n    <tr>\n      <th>[H]/[C](=[C](\\[C](=[O])[O][C]([H])([C]([H])([H])[H])[C]([H])([H])[H])[S](=[O])(=[O])[c]1[c]([H])[c]([H])[c]([N+](=[O])[O-])[c]([H])[c]1[H])[c]1[c]([H])[c]([H])[c]([H])[c]([H])[c]1[H]</th>\n      <td>1</td>\n      <td>0</td>\n      <td>1</td>\n    </tr>\n    <tr>\n      <th>[H]/[C](=[C](\\[C](=[O])[O][C]([H])([H])[C]([H])([C]([H])([H])[H])[C]([H])([H])[H])[S](=[O])(=[O])[c]1[c]([H])[c]([H])[c]([N+](=[O])[O-])[c]([H])[c]1[H])[c]1[c]([H])[c]([H])[c]([H])[c]([H])[c]1[H]</th>\n      <td>1</td>\n      <td>0</td>\n      <td>1</td>\n    </tr>\n    <tr>\n      <th>[H]/[C](=[C](\\[C](=[O])[O][C]([H])([H])[C]([H])([H])[H])[S](=[O])(=[O])[c]1[c]([H])[c]([H])[c]([N+](=[O])[O-])[c]([H])[c]1[H])[c]1[c]([H])[c]([H])[c]([H])[c]([H])[c]1[H]</th>\n      <td>1</td>\n      <td>0</td>\n      <td>1</td>\n    </tr>\n    <tr>\n      <th>...</th>\n      <td>...</td>\n      <td>...</td>\n      <td>...</td>\n    </tr>\n    <tr>\n      <th>[H][c]1[o][c]([C](=[O])[N]([c]2[c]([C]([H])([H])[H])[c]([H])[c]([H])[c]([H])[c]2[C]([H])([H])[H])[C]([H])([C](=[O])[O][C]([H])([H])[H])[C]([H])([H])[H])[c]([H])[c]1[H]</th>\n      <td>0</td>\n      <td>0</td>\n      <td>1</td>\n    </tr>\n    <tr>\n      <th>[H][c]1[o][c]([C]([H])([H])[H])[c]([H])[c]1[H]</th>\n      <td>0</td>\n      <td>0</td>\n      <td>1</td>\n    </tr>\n    <tr>\n      <th>[H][c]1[o][c]([C]2([H])[O][C]([C]([H])([H])[H])([C]([H])([H])[H])[N]([C](=[O])[C]([H])([Cl])[Cl])[C]2([H])[H])[c]([H])[c]1[H]</th>\n      <td>0</td>\n      <td>0</td>\n      <td>1</td>\n    </tr>\n    <tr>\n      <th>[H][c]1[o][c]2[c]([O][C]([H])([H])[H])[c]3[o][c](=[O])[c]([H])[c]([H])[c]3[c]([H])[c]2[c]1[H]</th>\n      <td>0</td>\n      <td>0</td>\n      <td>1</td>\n    </tr>\n    <tr>\n      <th>[H][c]1[s]/[c](=[N]\\[c]2[c]([H])[c]([H])[c]([C]([H])([H])[H])[c]([H])[c]2[C]([H])([H])[H])[n]([C]([H])([H])[H])[c]1[H]</th>\n      <td>1</td>\n      <td>0</td>\n      <td>1</td>\n    </tr>\n    <tr>\n      <th>[H][c]1[s][c]([C](=[O])[O][C]([H])([H])[H])[c]([S](=[O])(=[O])[N]([H])[C](=[O])[N]([H])[c]2[n][c]([O][C]([H])([H])[H])[n][c]([C]([H])([H])[H])[n]2)[c]1[H]</th>\n      <td>5</td>\n      <td>5</td>\n      <td>6</td>\n    </tr>\n    <tr>\n      <th>[H][c]1[s][c]([C]([H])([H])[C]([H])([H])[H])[c]([H])[c]1[H]</th>\n      <td>1</td>\n      <td>0</td>\n      <td>1</td>\n    </tr>\n    <tr>\n      <th>[H][c]1[s][c]([C]([H])([H])[C]([H])([H])[N]2[C]([H])([H])[C]([H])([H])[C]([N]([C](=[O])[C]([H])([H])[C]([H])([H])[H])[c]3[c]([H])[c]([H])[c]([H])[c]([H])[c]3[H])([C]([H])([H])[O][C]([H])([H])[H])[C]([H])([H])[C]2([H])[H])[c]([H])[c]1[H]</th>\n      <td>13</td>\n      <td>10</td>\n      <td>13</td>\n    </tr>\n    <tr>\n      <th>[H][c]1[s][c]([C]([H])([H])[H])[c]([H])[c]1[H]</th>\n      <td>0</td>\n      <td>0</td>\n      <td>1</td>\n    </tr>\n    <tr>\n      <th>[H][c]1[s][c]([C]([H])([H])[H])[c]([N]([C](=[O])[C]([H])([H])[Cl])[C]([H])([C]([H])([H])[H])[C]([H])([H])[O][C]([H])([H])[H])[c]1[C]([H])([H])[H]</th>\n      <td>0</td>\n      <td>0</td>\n      <td>1</td>\n    </tr>\n    <tr>\n      <th>[H][c]1[s][c]([C]([H])([H])[N]([C](=[O])[C]([H])([H])[Cl])[c]2[c]([C]([H])([H])[H])[c]([H])[c]([H])[c]([H])[c]2[C]([H])([H])[H])[c]([O][C]([H])([H])[H])[c]1[H]</th>\n      <td>1</td>\n      <td>0</td>\n      <td>1</td>\n    </tr>\n    <tr>\n      <th>[H][c]1[s][c]([H])[c]([C]([H])([H])[H])[c]1[H]</th>\n      <td>1</td>\n      <td>0</td>\n      <td>1</td>\n    </tr>\n    <tr>\n      <th>[H][c]1[s][c]([H])[c]([H])[c]1[H]</th>\n      <td>2</td>\n      <td>0</td>\n      <td>3</td>\n    </tr>\n    <tr>\n      <th>[H][c]1[s][c]([N]([H])[S](=[O])(=[O])[c]2[c]([H])[c]([H])[c]([N]([H])[C](=[O])[C]([H])([H])[H])[c]([H])[c]2[H])[n][c]1[C]([H])([H])[H]</th>\n      <td>1</td>\n      <td>0</td>\n      <td>1</td>\n    </tr>\n    <tr>\n      <th>[H][c]1[s][c]([N]=[C]([N]([H])[H])[N]([H])[H])[n][c]1[C]([H])([H])[S][C]([H])([H])[C]([H])([H])/[C](=[N]/[S](=[O])(=[O])[N]([H])[H])[N]([H])[H]</th>\n      <td>12</td>\n      <td>8</td>\n      <td>13</td>\n    </tr>\n    <tr>\n      <th>[H][c]1[s][c]2[c]([H])[c]([H])[c]([H])[c]([H])[c]2[c]1[H]</th>\n      <td>1</td>\n      <td>0</td>\n      <td>1</td>\n    </tr>\n    <tr>\n      <th>[H][c]1[s][n]([C]([H])([H])[C]([H])([H])[C]([H])([H])[C]([H])([H])[C]([H])([H])[C]([H])([H])[C]([H])([H])[C]([H])([H])[H])[c](=[O])[c]1[H]</th>\n      <td>0</td>\n      <td>0</td>\n      <td>1</td>\n    </tr>\n    <tr>\n      <th>[H][n]1[c](=[O])[c]2[c]([n]([H])[c]1=[O])[n]([H])[c](=[O])[n]2[H]</th>\n      <td>3</td>\n      <td>0</td>\n      <td>3</td>\n    </tr>\n    <tr>\n      <th>[H][n]1[c](=[O])[n]([H])[c]2[c]1[c](=[O])[n]([C]([H])([H])[H])[c](=[O])[n]2[H]</th>\n      <td>1</td>\n      <td>0</td>\n      <td>2</td>\n    </tr>\n    <tr>\n      <th>[H][n]1[c]([C]([H])([H])[H])[c]([Br])[c](=[O])[n]([C]([H])([C]([H])([H])[H])[C]([H])([H])[C]([H])([H])[H])[c]1=[O]</th>\n      <td>3</td>\n      <td>0</td>\n      <td>5</td>\n    </tr>\n    <tr>\n      <th>[H][n]1[c]([C]([H])([H])[H])[c]([Br])[c](=[O])[n]([C]([H])([C]([H])([H])[H])[C]([H])([H])[H])[c]1=[O]</th>\n      <td>1</td>\n      <td>0</td>\n      <td>1</td>\n    </tr>\n    <tr>\n      <th>[H][n]1[c]([C]([H])([H])[H])[c]([Cl])[c](=[O])[n]([C]([C]([H])([H])[H])([C]([H])([H])[H])[C]([H])([H])[H])[c]1=[O]</th>\n      <td>1</td>\n      <td>0</td>\n      <td>2</td>\n    </tr>\n    <tr>\n      <th>[H][n]1[c]([Cl])[n][c]2[c]1[c](=[O])[n]([C]([H])([H])[H])[c](=[O])[n]2[C]([H])([H])[H]</th>\n      <td>3</td>\n      <td>2</td>\n      <td>3</td>\n    </tr>\n    <tr>\n      <th>[H][n]1[c]([I])[c]([I])[c]([I])[c]1[I]</th>\n      <td>1</td>\n      <td>0</td>\n      <td>2</td>\n    </tr>\n    <tr>\n      <th>[H][n]1[c]([N]([C]([H])([H])[H])[C]([H])([H])[H])[n][c]([C]([H])([H])[H])[c]([C]([H])([H])[C]([H])([H])[C]([H])([H])[C]([H])([H])[H])[c]1=[O]</th>\n      <td>1</td>\n      <td>1</td>\n      <td>1</td>\n    </tr>\n    <tr>\n      <th>[H][n]1[c]2[c]([c](=[O])[n]([C]3([H])[C]([H])([H])[C]([H])([H])[C]([H])([H])[C]([H])([H])[C]3([H])[H])[c]1=[O])[C]([H])([H])[C]([H])([H])[C]2([H])[H]</th>\n      <td>1</td>\n      <td>0</td>\n      <td>1</td>\n    </tr>\n    <tr>\n      <th>[N]#[C][c]1[c]([Cl])[c]([Cl])[c]([Cl])[c]([C]#[N])[c]1[Cl]</th>\n      <td>3</td>\n      <td>0</td>\n      <td>4</td>\n    </tr>\n    <tr>\n      <th>[O]=[C]1[C]2([Cl])[C]3([Cl])[C]4([Cl])[C]([Cl])([Cl])[C]5([Cl])[C]3([Cl])[C]1([Cl])[C]5([Cl])[C]24[Cl]</th>\n      <td>2</td>\n      <td>0</td>\n      <td>2</td>\n    </tr>\n    <tr>\n      <th>[O]=[N+]([O-])[C]([Cl])([Cl])[Cl]</th>\n      <td>2</td>\n      <td>0</td>\n      <td>4</td>\n    </tr>\n    <tr>\n      <th>[O]=[N+]([O-])[c]1[c]([Cl])[c]([Cl])[c]([Cl])[c]([Cl])[c]1[Cl]</th>\n      <td>4</td>\n      <td>0</td>\n      <td>4</td>\n    </tr>\n  </tbody>\n</table>\n<p>2647 rows × 3 columns</p>\n</div>",
      "text/plain": "                                                    Temperature (C)  pH  value\nsmiles                                                                        \n[Br][C]([Br])([Br])[Br]                                           1   0      1\n[Br][c]1[c]([Br])[c]([Br])[c]([Br])[c]([Br])[c]...                1   0      2\n[Br][c]1[c]([Br])[c]([Br])[c]([O][c]2[c]([Br])[...                0   0      1\n[Cl][C]([Cl])([Cl])[C]([Cl])([Cl])[Cl]                            3   0      5\n[Cl][C]([Cl])([Cl])[Cl]                                           5   0     11\n[Cl][C]([Cl])=[C]([Cl])[C]([Cl])=[C]([Cl])[Cl]                    4   0     10\n[Cl][C]([Cl])=[C]([Cl])[Cl]                                       9   0     13\n[Cl][C]1([Cl])[C]2([Cl])[C]3([Cl])[C]4([Cl])[C]...                2   0      7\n[Cl][C]1=[C]([Cl])[C]([Cl])([C]2([Cl])[C]([Cl])...                0   0      1\n[Cl][C]1=[C]([Cl])[C]([Cl])([Cl])[C]([Cl])=[C]1...                1   0      3\n[Cl][c]1[c]([Cl])[c]([Cl])[c](-[c]2[c]([Cl])[c]...                6   0     12\n[Cl][c]1[c]([Cl])[c]([Cl])[c]([Cl])[c]([Cl])[c]...               15   0     22\n[Cl][c]1[c]([Cl])[c]([Cl])[c]([O][c]2[c]([Cl])[...                0   0      1\n[Cl][c]1[c]([Cl])[c]([Cl])[c]2[c]([c]1[Cl])[O][...                3   0      7\n[Cl][c]1[c]([Cl])[c]([Cl])[c]2[c]([o][c]3[c]([C...                1   0      2\n[F][C]([Cl])([Cl])[Cl]                                            1   0      3\n[F][C]([F])([Cl])[C]([F])([Cl])[Cl]                               2   0      2\n[H]/[C](=[C](/[C]([H])([H])[H])[C]1([C]([H])([H...                6   5      9\n[H]/[C](=[C](/[Cl])[C]([F])([F])[F])[C]1([H])[C...                1   0      2\n[H]/[C](=[C](/[Cl])[C]([F])([F])[F])[C]1([H])[C...                1   0      1\n[H]/[C](=[C](/[Cl])[C]([F])([F])[F])[C]1([H])[C...                0   0      1\n[H]/[C](=[C](/[H])[C]([H])([H])[C]([H])([H])[C]...                0   0      1\n[H]/[C](=[C](/[H])[C]([H])([H])[N]1[C]([H])([H]...                1   2      4\n[H]/[C](=[C](/[H])[c]1[c]([H])[c]([H])[c]([H])[...                2   0      3\n[H]/[C](=[C](/[N]([H])[C]([H])([H])[H])[N]([C](...                0   1      1\n[H]/[C](=[C](\\[C](=[O])[O][C]([H])([C]([H])([H]...                1   0      1\n[H]/[C](=[C](\\[C](=[O])[O][C]([H])([C]([H])([H]...                1   0      1\n[H]/[C](=[C](\\[C](=[O])[O][C]([H])([C]([H])([H]...                1   0      1\n[H]/[C](=[C](\\[C](=[O])[O][C]([H])([H])[C]([H])...                1   0      1\n[H]/[C](=[C](\\[C](=[O])[O][C]([H])([H])[C]([H])...                1   0      1\n...                                                             ...  ..    ...\n[H][c]1[o][c]([C](=[O])[N]([c]2[c]([C]([H])([H]...                0   0      1\n[H][c]1[o][c]([C]([H])([H])[H])[c]([H])[c]1[H]                    0   0      1\n[H][c]1[o][c]([C]2([H])[O][C]([C]([H])([H])[H])...                0   0      1\n[H][c]1[o][c]2[c]([O][C]([H])([H])[H])[c]3[o][c...                0   0      1\n[H][c]1[s]/[c](=[N]\\[c]2[c]([H])[c]([H])[c]([C]...                1   0      1\n[H][c]1[s][c]([C](=[O])[O][C]([H])([H])[H])[c](...                5   5      6\n[H][c]1[s][c]([C]([H])([H])[C]([H])([H])[H])[c]...                1   0      1\n[H][c]1[s][c]([C]([H])([H])[C]([H])([H])[N]2[C]...               13  10     13\n[H][c]1[s][c]([C]([H])([H])[H])[c]([H])[c]1[H]                    0   0      1\n[H][c]1[s][c]([C]([H])([H])[H])[c]([N]([C](=[O]...                0   0      1\n[H][c]1[s][c]([C]([H])([H])[N]([C](=[O])[C]([H]...                1   0      1\n[H][c]1[s][c]([H])[c]([C]([H])([H])[H])[c]1[H]                    1   0      1\n[H][c]1[s][c]([H])[c]([H])[c]1[H]                                 2   0      3\n[H][c]1[s][c]([N]([H])[S](=[O])(=[O])[c]2[c]([H...                1   0      1\n[H][c]1[s][c]([N]=[C]([N]([H])[H])[N]([H])[H])[...               12   8     13\n[H][c]1[s][c]2[c]([H])[c]([H])[c]([H])[c]([H])[...                1   0      1\n[H][c]1[s][n]([C]([H])([H])[C]([H])([H])[C]([H]...                0   0      1\n[H][n]1[c](=[O])[c]2[c]([n]([H])[c]1=[O])[n]([H...                3   0      3\n[H][n]1[c](=[O])[n]([H])[c]2[c]1[c](=[O])[n]([C...                1   0      2\n[H][n]1[c]([C]([H])([H])[H])[c]([Br])[c](=[O])[...                3   0      5\n[H][n]1[c]([C]([H])([H])[H])[c]([Br])[c](=[O])[...                1   0      1\n[H][n]1[c]([C]([H])([H])[H])[c]([Cl])[c](=[O])[...                1   0      2\n[H][n]1[c]([Cl])[n][c]2[c]1[c](=[O])[n]([C]([H]...                3   2      3\n[H][n]1[c]([I])[c]([I])[c]([I])[c]1[I]                            1   0      2\n[H][n]1[c]([N]([C]([H])([H])[H])[C]([H])([H])[H...                1   1      1\n[H][n]1[c]2[c]([c](=[O])[n]([C]3([H])[C]([H])([...                1   0      1\n[N]#[C][c]1[c]([Cl])[c]([Cl])[c]([Cl])[c]([C]#[...                3   0      4\n[O]=[C]1[C]2([Cl])[C]3([Cl])[C]4([Cl])[C]([Cl])...                2   0      2\n[O]=[N+]([O-])[C]([Cl])([Cl])[Cl]                                 2   0      4\n[O]=[N+]([O-])[c]1[c]([Cl])[c]([Cl])[c]([Cl])[c...                4   0      4\n\n[2647 rows x 3 columns]"
     },
     "execution_count": 31,
     "metadata": {},
     "output_type": "execute_result"
    }
   ],
   "source": [
    "final_data.groupby(SMILES_COLUMN).count()"
   ],
   "metadata": {
    "collapsed": false,
    "pycharm": {
     "name": "#%%\n"
    }
   }
  },
  {
   "cell_type": "code",
   "execution_count": 32,
   "outputs": [
    {
     "data": {
      "text/html": "<div>\n<style scoped>\n    .dataframe tbody tr th:only-of-type {\n        vertical-align: middle;\n    }\n\n    .dataframe tbody tr th {\n        vertical-align: top;\n    }\n\n    .dataframe thead th {\n        text-align: right;\n    }\n</style>\n<table border=\"1\" class=\"dataframe\">\n  <thead>\n    <tr style=\"text-align: right;\">\n      <th></th>\n      <th>Temperature (C)</th>\n      <th>pH</th>\n      <th>smiles</th>\n      <th>value</th>\n    </tr>\n  </thead>\n  <tbody>\n    <tr>\n      <th>421</th>\n      <td>NaN</td>\n      <td>NaN</td>\n      <td>[Cl][C]([Cl])=[C]([Cl])[C]([Cl])=[C]([Cl])[Cl]</td>\n      <td>4.78</td>\n    </tr>\n    <tr>\n      <th>422</th>\n      <td>NaN</td>\n      <td>NaN</td>\n      <td>[Cl][C]([Cl])=[C]([Cl])[C]([Cl])=[C]([Cl])[Cl]</td>\n      <td>4.78</td>\n    </tr>\n    <tr>\n      <th>423</th>\n      <td>25.0</td>\n      <td>NaN</td>\n      <td>[Cl][C]([Cl])=[C]([Cl])[C]([Cl])=[C]([Cl])[Cl]</td>\n      <td>4.78</td>\n    </tr>\n    <tr>\n      <th>424</th>\n      <td>NaN</td>\n      <td>NaN</td>\n      <td>[Cl][C]([Cl])=[C]([Cl])[C]([Cl])=[C]([Cl])[Cl]</td>\n      <td>4.78</td>\n    </tr>\n    <tr>\n      <th>425</th>\n      <td>20.0</td>\n      <td>NaN</td>\n      <td>[Cl][C]([Cl])=[C]([Cl])[C]([Cl])=[C]([Cl])[Cl]</td>\n      <td>4.78</td>\n    </tr>\n    <tr>\n      <th>426</th>\n      <td>NaN</td>\n      <td>NaN</td>\n      <td>[Cl][C]([Cl])=[C]([Cl])[C]([Cl])=[C]([Cl])[Cl]</td>\n      <td>4.78</td>\n    </tr>\n    <tr>\n      <th>427</th>\n      <td>25.0</td>\n      <td>NaN</td>\n      <td>[Cl][C]([Cl])=[C]([Cl])[C]([Cl])=[C]([Cl])[Cl]</td>\n      <td>4.78</td>\n    </tr>\n    <tr>\n      <th>428</th>\n      <td>NaN</td>\n      <td>NaN</td>\n      <td>[Cl][C]([Cl])=[C]([Cl])[C]([Cl])=[C]([Cl])[Cl]</td>\n      <td>4.78</td>\n    </tr>\n    <tr>\n      <th>429</th>\n      <td>25.0</td>\n      <td>NaN</td>\n      <td>[Cl][C]([Cl])=[C]([Cl])[C]([Cl])=[C]([Cl])[Cl]</td>\n      <td>4.78</td>\n    </tr>\n    <tr>\n      <th>430</th>\n      <td>NaN</td>\n      <td>NaN</td>\n      <td>[Cl][C]([Cl])=[C]([Cl])[C]([Cl])=[C]([Cl])[Cl]</td>\n      <td>4.78</td>\n    </tr>\n  </tbody>\n</table>\n</div>",
      "text/plain": "     Temperature (C)  pH                                          smiles  \\\n421              NaN NaN  [Cl][C]([Cl])=[C]([Cl])[C]([Cl])=[C]([Cl])[Cl]   \n422              NaN NaN  [Cl][C]([Cl])=[C]([Cl])[C]([Cl])=[C]([Cl])[Cl]   \n423             25.0 NaN  [Cl][C]([Cl])=[C]([Cl])[C]([Cl])=[C]([Cl])[Cl]   \n424              NaN NaN  [Cl][C]([Cl])=[C]([Cl])[C]([Cl])=[C]([Cl])[Cl]   \n425             20.0 NaN  [Cl][C]([Cl])=[C]([Cl])[C]([Cl])=[C]([Cl])[Cl]   \n426              NaN NaN  [Cl][C]([Cl])=[C]([Cl])[C]([Cl])=[C]([Cl])[Cl]   \n427             25.0 NaN  [Cl][C]([Cl])=[C]([Cl])[C]([Cl])=[C]([Cl])[Cl]   \n428              NaN NaN  [Cl][C]([Cl])=[C]([Cl])[C]([Cl])=[C]([Cl])[Cl]   \n429             25.0 NaN  [Cl][C]([Cl])=[C]([Cl])[C]([Cl])=[C]([Cl])[Cl]   \n430              NaN NaN  [Cl][C]([Cl])=[C]([Cl])[C]([Cl])=[C]([Cl])[Cl]   \n\n     value  \n421   4.78  \n422   4.78  \n423   4.78  \n424   4.78  \n425   4.78  \n426   4.78  \n427   4.78  \n428   4.78  \n429   4.78  \n430   4.78  "
     },
     "execution_count": 32,
     "metadata": {},
     "output_type": "execute_result"
    }
   ],
   "source": [
    "final_data[final_data[SMILES_COLUMN] == \"[Cl][C]([Cl])=[C]([Cl])[C]([Cl])=[C]([Cl])[Cl]\"]"
   ],
   "metadata": {
    "collapsed": false,
    "pycharm": {
     "name": "#%%\n"
    }
   }
  },
  {
   "cell_type": "code",
   "execution_count": 33,
   "outputs": [
    {
     "data": {
      "text/plain": "3382"
     },
     "execution_count": 33,
     "metadata": {},
     "output_type": "execute_result"
    }
   ],
   "source": [
    "final_data.duplicated().sum()"
   ],
   "metadata": {
    "collapsed": false,
    "pycharm": {
     "name": "#%%\n"
    }
   }
  },
  {
   "cell_type": "code",
   "execution_count": 34,
   "outputs": [],
   "source": [
    "final_data = final_data.drop_duplicates()"
   ],
   "metadata": {
    "collapsed": false,
    "pycharm": {
     "name": "#%%\n"
    }
   }
  },
  {
   "cell_type": "code",
   "execution_count": 35,
   "outputs": [
    {
     "data": {
      "text/html": "<div>\n<style scoped>\n    .dataframe tbody tr th:only-of-type {\n        vertical-align: middle;\n    }\n\n    .dataframe tbody tr th {\n        vertical-align: top;\n    }\n\n    .dataframe thead th {\n        text-align: right;\n    }\n</style>\n<table border=\"1\" class=\"dataframe\">\n  <thead>\n    <tr style=\"text-align: right;\">\n      <th></th>\n      <th>Temperature (C)</th>\n      <th>pH</th>\n      <th>smiles</th>\n      <th>value</th>\n    </tr>\n  </thead>\n  <tbody>\n    <tr>\n      <th>421</th>\n      <td>NaN</td>\n      <td>NaN</td>\n      <td>[Cl][C]([Cl])=[C]([Cl])[C]([Cl])=[C]([Cl])[Cl]</td>\n      <td>4.78</td>\n    </tr>\n    <tr>\n      <th>423</th>\n      <td>25.0</td>\n      <td>NaN</td>\n      <td>[Cl][C]([Cl])=[C]([Cl])[C]([Cl])=[C]([Cl])[Cl]</td>\n      <td>4.78</td>\n    </tr>\n    <tr>\n      <th>425</th>\n      <td>20.0</td>\n      <td>NaN</td>\n      <td>[Cl][C]([Cl])=[C]([Cl])[C]([Cl])=[C]([Cl])[Cl]</td>\n      <td>4.78</td>\n    </tr>\n  </tbody>\n</table>\n</div>",
      "text/plain": "     Temperature (C)  pH                                          smiles  \\\n421              NaN NaN  [Cl][C]([Cl])=[C]([Cl])[C]([Cl])=[C]([Cl])[Cl]   \n423             25.0 NaN  [Cl][C]([Cl])=[C]([Cl])[C]([Cl])=[C]([Cl])[Cl]   \n425             20.0 NaN  [Cl][C]([Cl])=[C]([Cl])[C]([Cl])=[C]([Cl])[Cl]   \n\n     value  \n421   4.78  \n423   4.78  \n425   4.78  "
     },
     "execution_count": 35,
     "metadata": {},
     "output_type": "execute_result"
    }
   ],
   "source": [
    "final_data[final_data[SMILES_COLUMN] == \"[Cl][C]([Cl])=[C]([Cl])[C]([Cl])=[C]([Cl])[Cl]\"]"
   ],
   "metadata": {
    "collapsed": false,
    "pycharm": {
     "name": "#%%\n"
    }
   }
  },
  {
   "cell_type": "code",
   "execution_count": 36,
   "outputs": [],
   "source": [
    "final_data = final_data.dropna()\n",
    "#final_data.groupby([SMILES_COLUMN, VALUE_COLUMN, PH_COLUMN]).var()"
   ],
   "metadata": {
    "collapsed": false,
    "pycharm": {
     "name": "#%%\n"
    }
   }
  },
  {
   "cell_type": "code",
   "execution_count": 37,
   "outputs": [
    {
     "data": {
      "text/html": "<div>\n<style scoped>\n    .dataframe tbody tr th:only-of-type {\n        vertical-align: middle;\n    }\n\n    .dataframe tbody tr th {\n        vertical-align: top;\n    }\n\n    .dataframe thead th {\n        text-align: right;\n    }\n</style>\n<table border=\"1\" class=\"dataframe\">\n  <thead>\n    <tr style=\"text-align: right;\">\n      <th></th>\n      <th>Temperature (C)</th>\n      <th>pH</th>\n      <th>smiles</th>\n      <th>value</th>\n    </tr>\n  </thead>\n  <tbody>\n    <tr>\n      <th>2919</th>\n      <td>37.0</td>\n      <td>7.2</td>\n      <td>[H]/[C](=[N]\\[N]1[C](=[O])[N]([H])[C](=[O])[C]...</td>\n      <td>-0.47</td>\n    </tr>\n    <tr>\n      <th>2923</th>\n      <td>25.0</td>\n      <td>7.0</td>\n      <td>[H]/[C](=[N]\\[N]1[C](=[O])[N]([H])[C](=[O])[C]...</td>\n      <td>-0.47</td>\n    </tr>\n    <tr>\n      <th>2925</th>\n      <td>22.0</td>\n      <td>1.2</td>\n      <td>[H]/[C](=[N]\\[N]1[C](=[O])[N]([H])[C](=[O])[C]...</td>\n      <td>-0.47</td>\n    </tr>\n    <tr>\n      <th>2927</th>\n      <td>25.0</td>\n      <td>6.5</td>\n      <td>[H]/[C](=[N]\\[N]1[C](=[O])[N]([H])[C](=[O])[C]...</td>\n      <td>-0.47</td>\n    </tr>\n    <tr>\n      <th>2929</th>\n      <td>37.0</td>\n      <td>5.0</td>\n      <td>[H]/[C](=[N]\\[N]1[C](=[O])[N]([H])[C](=[O])[C]...</td>\n      <td>-0.47</td>\n    </tr>\n    <tr>\n      <th>2930</th>\n      <td>37.0</td>\n      <td>4.8</td>\n      <td>[H]/[C](=[N]\\[N]1[C](=[O])[N]([H])[C](=[O])[C]...</td>\n      <td>-0.47</td>\n    </tr>\n  </tbody>\n</table>\n</div>",
      "text/plain": "      Temperature (C)   pH                                             smiles  \\\n2919             37.0  7.2  [H]/[C](=[N]\\[N]1[C](=[O])[N]([H])[C](=[O])[C]...   \n2923             25.0  7.0  [H]/[C](=[N]\\[N]1[C](=[O])[N]([H])[C](=[O])[C]...   \n2925             22.0  1.2  [H]/[C](=[N]\\[N]1[C](=[O])[N]([H])[C](=[O])[C]...   \n2927             25.0  6.5  [H]/[C](=[N]\\[N]1[C](=[O])[N]([H])[C](=[O])[C]...   \n2929             37.0  5.0  [H]/[C](=[N]\\[N]1[C](=[O])[N]([H])[C](=[O])[C]...   \n2930             37.0  4.8  [H]/[C](=[N]\\[N]1[C](=[O])[N]([H])[C](=[O])[C]...   \n\n      value  \n2919  -0.47  \n2923  -0.47  \n2925  -0.47  \n2927  -0.47  \n2929  -0.47  \n2930  -0.47  "
     },
     "execution_count": 37,
     "metadata": {},
     "output_type": "execute_result"
    }
   ],
   "source": [
    "final_data[final_data[SMILES_COLUMN] == \"[H]/[C](=[N]\\[N]1[C](=[O])[N]([H])[C](=[O])[C]1([H])[H])[c]1[o][c]([N+](=[O])[O-])[c]([H])[c]1[H]\"]"
   ],
   "metadata": {
    "collapsed": false,
    "pycharm": {
     "name": "#%%\n"
    }
   }
  },
  {
   "cell_type": "code",
   "execution_count": 38,
   "outputs": [
    {
     "data": {
      "text/html": "<div>\n<style scoped>\n    .dataframe tbody tr th:only-of-type {\n        vertical-align: middle;\n    }\n\n    .dataframe tbody tr th {\n        vertical-align: top;\n    }\n\n    .dataframe thead th {\n        text-align: right;\n    }\n</style>\n<table border=\"1\" class=\"dataframe\">\n  <thead>\n    <tr style=\"text-align: right;\">\n      <th></th>\n      <th>Temperature (C)</th>\n    </tr>\n  </thead>\n  <tbody>\n    <tr>\n      <th>count</th>\n      <td>63.000000</td>\n    </tr>\n    <tr>\n      <th>mean</th>\n      <td>40.699735</td>\n    </tr>\n    <tr>\n      <th>std</th>\n      <td>43.761433</td>\n    </tr>\n    <tr>\n      <th>min</th>\n      <td>0.125000</td>\n    </tr>\n    <tr>\n      <th>25%</th>\n      <td>4.500000</td>\n    </tr>\n    <tr>\n      <th>50%</th>\n      <td>32.000000</td>\n    </tr>\n    <tr>\n      <th>75%</th>\n      <td>67.500000</td>\n    </tr>\n    <tr>\n      <th>max</th>\n      <td>166.666667</td>\n    </tr>\n  </tbody>\n</table>\n</div>",
      "text/plain": "       Temperature (C)\ncount        63.000000\nmean         40.699735\nstd          43.761433\nmin           0.125000\n25%           4.500000\n50%          32.000000\n75%          67.500000\nmax         166.666667"
     },
     "execution_count": 38,
     "metadata": {},
     "output_type": "execute_result"
    }
   ],
   "source": [
    "final_data.groupby([SMILES_COLUMN, VALUE_COLUMN, PH_COLUMN]).var().describe()"
   ],
   "metadata": {
    "collapsed": false,
    "pycharm": {
     "name": "#%%\n"
    }
   }
  },
  {
   "cell_type": "code",
   "execution_count": 39,
   "outputs": [
    {
     "data": {
      "text/html": "<div>\n<style scoped>\n    .dataframe tbody tr th:only-of-type {\n        vertical-align: middle;\n    }\n\n    .dataframe tbody tr th {\n        vertical-align: top;\n    }\n\n    .dataframe thead th {\n        text-align: right;\n    }\n</style>\n<table border=\"1\" class=\"dataframe\">\n  <thead>\n    <tr style=\"text-align: right;\">\n      <th></th>\n      <th></th>\n      <th></th>\n      <th>Temperature (C)</th>\n    </tr>\n    <tr>\n      <th>smiles</th>\n      <th>value</th>\n      <th>pH</th>\n      <th></th>\n    </tr>\n  </thead>\n  <tbody>\n    <tr>\n      <th rowspan=\"2\" valign=\"top\">[H]/[C](=[C](/[C]([H])([H])[H])[C]1([C]([H])([H])[C]([H])([H])[H])[C](=[O])[N]([H])[C](=[O])[N]([H])[C]1=[O])[C]([H])([H])[C]([H])([H])[H]</th>\n      <th rowspan=\"2\" valign=\"top\">1.57</th>\n      <th>5.0000</th>\n      <td>5.656854</td>\n    </tr>\n    <tr>\n      <th>7.9000</th>\n      <td>5.656854</td>\n    </tr>\n    <tr>\n      <th>[H]/[C](=[C](/[H])[C]([H])([H])[N]1[C]([H])([H])[C]([H])([H])[N]([C]([H])([c]2[c]([H])[c]([H])[c]([H])[c]([H])[c]2[H])[c]2[c]([H])[c]([H])[c]([H])[c]([H])[c]2[H])[C]([H])([H])[C]1([H])[H])[c]1[c]([H])[c]([H])[c]([H])[c]([H])[c]1[H]</th>\n      <th>5.77</th>\n      <th>4.5000</th>\n      <td>NaN</td>\n    </tr>\n    <tr>\n      <th rowspan=\"6\" valign=\"top\">[H]/[C](=[N]\\[N]1[C](=[O])[N]([H])[C](=[O])[C]1([H])[H])[c]1[o][c]([N+](=[O])[O-])[c]([H])[c]1[H]</th>\n      <th rowspan=\"6\" valign=\"top\">-0.47</th>\n      <th>1.2000</th>\n      <td>NaN</td>\n    </tr>\n    <tr>\n      <th>4.8000</th>\n      <td>NaN</td>\n    </tr>\n    <tr>\n      <th>5.0000</th>\n      <td>NaN</td>\n    </tr>\n    <tr>\n      <th>6.5000</th>\n      <td>NaN</td>\n    </tr>\n    <tr>\n      <th>7.0000</th>\n      <td>NaN</td>\n    </tr>\n    <tr>\n      <th>7.2000</th>\n      <td>NaN</td>\n    </tr>\n    <tr>\n      <th>[H][C]#[C][C]1([O][H])[C]([H])([H])[C]([H])([H])[C]2([H])[C]3([H])[C]([H])([H])[C]([H])([H])[C]4=[C]([H])[c]5[o][n][c]([H])[c]5[C]([H])([H])[C]4([C]([H])([H])[H])[C]3([H])[C]([H])([H])[C]([H])([H])[C]12[C]([H])([H])[H]</th>\n      <th>4.53</th>\n      <th>7.5000</th>\n      <td>NaN</td>\n    </tr>\n    <tr>\n      <th rowspan=\"3\" valign=\"top\">[H][C](=[C]1[c]2[c]([H])[c]([H])[c]([H])[c]([H])[c]2[C]([H])([H])[C]([H])([H])[c]2[c]([H])[c]([H])[c]([H])[c]([H])[c]21)[C]([H])([H])[C]([H])([H])[N]([C]([H])([H])[H])[C]([H])([H])[H]</th>\n      <th rowspan=\"3\" valign=\"top\">5.04</th>\n      <th>9.0600</th>\n      <td>NaN</td>\n    </tr>\n    <tr>\n      <th>9.4400</th>\n      <td>NaN</td>\n    </tr>\n    <tr>\n      <th>9.7800</th>\n      <td>NaN</td>\n    </tr>\n    <tr>\n      <th>[H][C]([H])([H])[C]([H])([H])[O][P](=[O])([O][C]([H])([H])[C]([H])([H])[H])[O][C]([H])([O][C](=[O])[C]([H])([H])[C]([H])([H])[C]([H])([H])[H])[C]([H])([H])[H]</th>\n      <th>3.51</th>\n      <th>7.0000</th>\n      <td>NaN</td>\n    </tr>\n    <tr>\n      <th>[H][C]([H])=[C]([H])[C]([H])([H])[C]([C](=[O])[O][C]([H])([H])[H])([C](=[O])[N]([H])[C](=[O])[N]([H])[H])[C]([H])([H])[C]([H])=[C]([H])[H]</th>\n      <th>1.37</th>\n      <th>3.5000</th>\n      <td>NaN</td>\n    </tr>\n    <tr>\n      <th>[H][C]([H])=[C]([H])[C]([H])([H])[C]1([C]([H])([C]([H])([H])[H])[C]([H])([H])[C]([H])([H])[H])[C](=[O])[N]([H])[C](=[O])[N]([H])[C]1=[O]</th>\n      <th>1.47</th>\n      <th>7.4000</th>\n      <td>NaN</td>\n    </tr>\n    <tr>\n      <th>[H][C]([H])=[C]([H])[C]([H])([H])[C]1([C]([H])([H])[C]([H])([H])[H])[C](=[O])[N]([H])[C](=[O])[N]([H])[C]1=[O]</th>\n      <th>0.95</th>\n      <th>3.5000</th>\n      <td>NaN</td>\n    </tr>\n    <tr>\n      <th>[H][C]1=[C]([C]([C](=[O])[O][C]([H])([H])[C]([H])([H])[H])([C](=[O])[N]([H])[C](=[O])[N]([H])[C]([H])([H])[H])[C]([H])([H])[H])[C]([H])([H])[C]([H])([H])[C]([H])([H])[C]1([H])[H]</th>\n      <th>2.25</th>\n      <th>3.5000</th>\n      <td>NaN</td>\n    </tr>\n    <tr>\n      <th rowspan=\"2\" valign=\"top\">[H][C]1=[C]([C]2([C]([H])([H])[C]([H])([H])[H])[C](=[O])[N]([H])[C](=[O])[N]([H])[C]2=[O])[C]([H])([H])[C]([H])([H])[C]([H])([H])[C]1([H])[H]</th>\n      <th rowspan=\"2\" valign=\"top\">1.77</th>\n      <th>4.7000</th>\n      <td>NaN</td>\n    </tr>\n    <tr>\n      <th>4.8514</th>\n      <td>NaN</td>\n    </tr>\n    <tr>\n      <th rowspan=\"2\" valign=\"top\">[H][C]1=[C]([C]2([C]([H])([H])[H])[C](=[O])[N]([H])[C](=[O])[N]([C]([H])([H])[H])[C]2=[O])[C]([H])([H])[C]([H])([H])[C]([H])([H])[C]1([H])[H]</th>\n      <th rowspan=\"2\" valign=\"top\">1.98</th>\n      <th>3.5000</th>\n      <td>NaN</td>\n    </tr>\n    <tr>\n      <th>5.0000</th>\n      <td>NaN</td>\n    </tr>\n    <tr>\n      <th>[H][C]1=[C]([O][C]([H])([H])[H])[C]2([O][c]3[c]([Cl])[c]([O][C]([H])([H])[H])[c]([H])[c]([O][C]([H])([H])[H])[c]3[C]2=[O])[C]([H])([C]([H])([H])[H])[C]([H])([H])[C]1=[O]</th>\n      <th>2.18</th>\n      <th>6.4000</th>\n      <td>NaN</td>\n    </tr>\n    <tr>\n      <th rowspan=\"2\" valign=\"top\">[H][C]1=[C]([c]2[c]([H])[c]([H])[c]([S](=[O])(=[O])[C]([H])([H])[H])[c]([H])[c]2[H])[C]([H])([c]2[c]([H])[c]([H])[c]([H])[c]([H])[c]2[H])[C](=[O])[O]1</th>\n      <th rowspan=\"2\" valign=\"top\">1.71</th>\n      <th>1.2000</th>\n      <td>NaN</td>\n    </tr>\n    <tr>\n      <th>7.4000</th>\n      <td>NaN</td>\n    </tr>\n    <tr>\n      <th>[H][C]1=[C]2[C]([H])([H])[N]3[C]([H])([H])[C]([H])([H])[C]45[c]6[c]([H])[c]([H])[c]([H])[c]([H])[c]6[N]6[C](=[O])[C]([H])([H])[C]([H])([O][C]1([H])[H])[C]([H])([C]2([H])[C]([H])([H])[C]34[H])[C]65[H]</th>\n      <th>1.93</th>\n      <th>9.4300</th>\n      <td>NaN</td>\n    </tr>\n    <tr>\n      <th>[H][C]1=[N][c]2[c]([H])[c]([Cl])[c]([S](=[O])(=[O])[N]([H])[H])[c]([H])[c]2[S](=[O])(=[O])[N]1[H]</th>\n      <th>-0.24</th>\n      <th>6.5000</th>\n      <td>11.015141</td>\n    </tr>\n    <tr>\n      <th>[H][N]([C](=[O])[C]([H])([H])[H])[c]1[n][n][c]([S](=[O])(=[O])[N]([H])[C]([H])([H])[H])[s]1</th>\n      <th>0.49</th>\n      <th>7.2000</th>\n      <td>NaN</td>\n    </tr>\n    <tr>\n      <th rowspan=\"2\" valign=\"top\">[H][N]([C](=[O])[C]([H])([H])[H])[c]1[n][n][c]([S](=[O])(=[O])[N]([H])[H])[s]1</th>\n      <th rowspan=\"2\" valign=\"top\">-0.26</th>\n      <th>7.2000</th>\n      <td>NaN</td>\n    </tr>\n    <tr>\n      <th>7.4000</th>\n      <td>NaN</td>\n    </tr>\n    <tr>\n      <th>...</th>\n      <th>...</th>\n      <th>...</th>\n      <td>...</td>\n    </tr>\n    <tr>\n      <th>[H][c]1[n][c]2[c]([H])[c]([Cl])[c]([H])[c]([H])[c]2[c]([N]([H])[C]([H])([C]([H])([H])[H])[C]([H])([H])[C]([H])([H])[C]([H])([H])[N]([C]([H])([H])[C]([H])([H])[H])[C]([H])([H])[C]([H])([H])[H])[c]1[H]</th>\n      <th>4.63</th>\n      <th>12.4600</th>\n      <td>NaN</td>\n    </tr>\n    <tr>\n      <th>[H][c]1[n][c]2[c]([n][c]([H])[n]2[H])[c](=[O])[n]1[H]</th>\n      <th>-1.11</th>\n      <th>5.7000</th>\n      <td>NaN</td>\n    </tr>\n    <tr>\n      <th>[H][c]1[n][n](-[c]2[c]([H])[c]([H])[c]([H])[c]([H])[c]2[H])[c](=[O])[c]([Cl])[c]1[N]([H])[H]</th>\n      <th>1.19</th>\n      <th>7.0000</th>\n      <td>NaN</td>\n    </tr>\n    <tr>\n      <th>[H][c]1[n][n](-[c]2[c]([H])[c]([H])[c]([H])[c]([H])[c]2[H])[c]([N]([H])[S](=[O])(=[O])[c]2[c]([H])[c]([H])[c]([N]([H])[H])[c]([H])[c]2[H])[c]1[H]</th>\n      <th>1.52</th>\n      <th>1.1700</th>\n      <td>NaN</td>\n    </tr>\n    <tr>\n      <th>[H][c]1[n][n][s][c]1[N]([H])[C](=[O])[N]([H])[c]1[c]([H])[c]([H])[c]([H])[c]([H])[c]1[H]</th>\n      <th>1.77</th>\n      <th>7.0000</th>\n      <td>NaN</td>\n    </tr>\n    <tr>\n      <th rowspan=\"4\" valign=\"top\">[H][c]1[s][c]([C](=[O])[O][C]([H])([H])[H])[c]([S](=[O])(=[O])[N]([H])[C](=[O])[N]([H])[c]2[n][c]([O][C]([H])([H])[H])[n][c]([C]([H])([H])[H])[n]2)[c]1[H]</th>\n      <th rowspan=\"4\" valign=\"top\">0.20</th>\n      <th>4.0000</th>\n      <td>NaN</td>\n    </tr>\n    <tr>\n      <th>5.0000</th>\n      <td>NaN</td>\n    </tr>\n    <tr>\n      <th>6.0000</th>\n      <td>NaN</td>\n    </tr>\n    <tr>\n      <th>7.0000</th>\n      <td>NaN</td>\n    </tr>\n    <tr>\n      <th rowspan=\"10\" valign=\"top\">[H][c]1[s][c]([C]([H])([H])[C]([H])([H])[N]2[C]([H])([H])[C]([H])([H])[C]([N]([C](=[O])[C]([H])([H])[C]([H])([H])[H])[c]3[c]([H])[c]([H])[c]([H])[c]([H])[c]3[H])([C]([H])([H])[O][C]([H])([H])[H])[C]([H])([H])[C]2([H])[H])[c]([H])[c]1[H]</th>\n      <th rowspan=\"10\" valign=\"top\">3.95</th>\n      <th>5.6600</th>\n      <td>NaN</td>\n    </tr>\n    <tr>\n      <th>6.1500</th>\n      <td>NaN</td>\n    </tr>\n    <tr>\n      <th>6.4500</th>\n      <td>NaN</td>\n    </tr>\n    <tr>\n      <th>6.6400</th>\n      <td>NaN</td>\n    </tr>\n    <tr>\n      <th>6.9700</th>\n      <td>NaN</td>\n    </tr>\n    <tr>\n      <th>7.4000</th>\n      <td>NaN</td>\n    </tr>\n    <tr>\n      <th>7.6000</th>\n      <td>NaN</td>\n    </tr>\n    <tr>\n      <th>7.9700</th>\n      <td>NaN</td>\n    </tr>\n    <tr>\n      <th>8.7300</th>\n      <td>NaN</td>\n    </tr>\n    <tr>\n      <th>12.7700</th>\n      <td>NaN</td>\n    </tr>\n    <tr>\n      <th rowspan=\"8\" valign=\"top\">[H][c]1[s][c]([N]=[C]([N]([H])[H])[N]([H])[H])[n][c]1[C]([H])([H])[S][C]([H])([H])[C]([H])([H])/[C](=[N]/[S](=[O])(=[O])[N]([H])[H])[N]([H])[H]</th>\n      <th rowspan=\"8\" valign=\"top\">-0.56</th>\n      <th>6.0900</th>\n      <td>NaN</td>\n    </tr>\n    <tr>\n      <th>6.4800</th>\n      <td>NaN</td>\n    </tr>\n    <tr>\n      <th>6.8900</th>\n      <td>NaN</td>\n    </tr>\n    <tr>\n      <th>7.5400</th>\n      <td>NaN</td>\n    </tr>\n    <tr>\n      <th>7.8300</th>\n      <td>NaN</td>\n    </tr>\n    <tr>\n      <th>8.2000</th>\n      <td>NaN</td>\n    </tr>\n    <tr>\n      <th>8.7100</th>\n      <td>NaN</td>\n    </tr>\n    <tr>\n      <th>9.0600</th>\n      <td>NaN</td>\n    </tr>\n    <tr>\n      <th rowspan=\"2\" valign=\"top\">[H][n]1[c]([Cl])[n][c]2[c]1[c](=[O])[n]([C]([H])([H])[H])[c](=[O])[n]2[C]([H])([H])[H]</th>\n      <th rowspan=\"2\" valign=\"top\">-0.85</th>\n      <th>1.3000</th>\n      <td>NaN</td>\n    </tr>\n    <tr>\n      <th>7.2000</th>\n      <td>NaN</td>\n    </tr>\n    <tr>\n      <th>[H][n]1[c]([N]([C]([H])([H])[H])[C]([H])([H])[H])[n][c]([C]([H])([H])[H])[c]([C]([H])([H])[C]([H])([H])[C]([H])([H])[C]([H])([H])[H])[c]1=[O]</th>\n      <th>1.90</th>\n      <th>7.5800</th>\n      <td>NaN</td>\n    </tr>\n  </tbody>\n</table>\n<p>1417 rows × 1 columns</p>\n</div>",
      "text/plain": "                                                                  Temperature (C)\nsmiles                                             value pH                      \n[H]/[C](=[C](/[C]([H])([H])[H])[C]1([C]([H])([H...  1.57 5.0000          5.656854\n                                                         7.9000          5.656854\n[H]/[C](=[C](/[H])[C]([H])([H])[N]1[C]([H])([H]...  5.77 4.5000               NaN\n[H]/[C](=[N]\\[N]1[C](=[O])[N]([H])[C](=[O])[C]1... -0.47 1.2000               NaN\n                                                         4.8000               NaN\n                                                         5.0000               NaN\n                                                         6.5000               NaN\n                                                         7.0000               NaN\n                                                         7.2000               NaN\n[H][C]#[C][C]1([O][H])[C]([H])([H])[C]([H])([H]...  4.53 7.5000               NaN\n[H][C](=[C]1[c]2[c]([H])[c]([H])[c]([H])[c]([H]...  5.04 9.0600               NaN\n                                                         9.4400               NaN\n                                                         9.7800               NaN\n[H][C]([H])([H])[C]([H])([H])[O][P](=[O])([O][C...  3.51 7.0000               NaN\n[H][C]([H])=[C]([H])[C]([H])([H])[C]([C](=[O])[...  1.37 3.5000               NaN\n[H][C]([H])=[C]([H])[C]([H])([H])[C]1([C]([H])(...  1.47 7.4000               NaN\n[H][C]([H])=[C]([H])[C]([H])([H])[C]1([C]([H])(...  0.95 3.5000               NaN\n[H][C]1=[C]([C]([C](=[O])[O][C]([H])([H])[C]([H...  2.25 3.5000               NaN\n[H][C]1=[C]([C]2([C]([H])([H])[C]([H])([H])[H])...  1.77 4.7000               NaN\n                                                         4.8514               NaN\n[H][C]1=[C]([C]2([C]([H])([H])[H])[C](=[O])[N](...  1.98 3.5000               NaN\n                                                         5.0000               NaN\n[H][C]1=[C]([O][C]([H])([H])[H])[C]2([O][c]3[c]...  2.18 6.4000               NaN\n[H][C]1=[C]([c]2[c]([H])[c]([H])[c]([S](=[O])(=...  1.71 1.2000               NaN\n                                                         7.4000               NaN\n[H][C]1=[C]2[C]([H])([H])[N]3[C]([H])([H])[C]([...  1.93 9.4300               NaN\n[H][C]1=[N][c]2[c]([H])[c]([Cl])[c]([S](=[O])(=... -0.24 6.5000         11.015141\n[H][N]([C](=[O])[C]([H])([H])[H])[c]1[n][n][c](...  0.49 7.2000               NaN\n[H][N]([C](=[O])[C]([H])([H])[H])[c]1[n][n][c](... -0.26 7.2000               NaN\n                                                         7.4000               NaN\n...                                                                           ...\n[H][c]1[n][c]2[c]([H])[c]([Cl])[c]([H])[c]([H])...  4.63 12.4600              NaN\n[H][c]1[n][c]2[c]([n][c]([H])[n]2[H])[c](=[O])[... -1.11 5.7000               NaN\n[H][c]1[n][n](-[c]2[c]([H])[c]([H])[c]([H])[c](...  1.19 7.0000               NaN\n[H][c]1[n][n](-[c]2[c]([H])[c]([H])[c]([H])[c](...  1.52 1.1700               NaN\n[H][c]1[n][n][s][c]1[N]([H])[C](=[O])[N]([H])[c...  1.77 7.0000               NaN\n[H][c]1[s][c]([C](=[O])[O][C]([H])([H])[H])[c](...  0.20 4.0000               NaN\n                                                         5.0000               NaN\n                                                         6.0000               NaN\n                                                         7.0000               NaN\n[H][c]1[s][c]([C]([H])([H])[C]([H])([H])[N]2[C]...  3.95 5.6600               NaN\n                                                         6.1500               NaN\n                                                         6.4500               NaN\n                                                         6.6400               NaN\n                                                         6.9700               NaN\n                                                         7.4000               NaN\n                                                         7.6000               NaN\n                                                         7.9700               NaN\n                                                         8.7300               NaN\n                                                         12.7700              NaN\n[H][c]1[s][c]([N]=[C]([N]([H])[H])[N]([H])[H])[... -0.56 6.0900               NaN\n                                                         6.4800               NaN\n                                                         6.8900               NaN\n                                                         7.5400               NaN\n                                                         7.8300               NaN\n                                                         8.2000               NaN\n                                                         8.7100               NaN\n                                                         9.0600               NaN\n[H][n]1[c]([Cl])[n][c]2[c]1[c](=[O])[n]([C]([H]... -0.85 1.3000               NaN\n                                                         7.2000               NaN\n[H][n]1[c]([N]([C]([H])([H])[H])[C]([H])([H])[H...  1.90 7.5800               NaN\n\n[1417 rows x 1 columns]"
     },
     "execution_count": 39,
     "metadata": {},
     "output_type": "execute_result"
    }
   ],
   "source": [
    "temperature_var = final_data.groupby([SMILES_COLUMN, VALUE_COLUMN, PH_COLUMN]).std()\n",
    "temperature_var"
   ],
   "metadata": {
    "collapsed": false,
    "pycharm": {
     "name": "#%%\n"
    }
   }
  },
  {
   "cell_type": "code",
   "execution_count": 40,
   "outputs": [
    {
     "data": {
      "text/html": "<div>\n<style scoped>\n    .dataframe tbody tr th:only-of-type {\n        vertical-align: middle;\n    }\n\n    .dataframe tbody tr th {\n        vertical-align: top;\n    }\n\n    .dataframe thead th {\n        text-align: right;\n    }\n</style>\n<table border=\"1\" class=\"dataframe\">\n  <thead>\n    <tr style=\"text-align: right;\">\n      <th></th>\n      <th></th>\n      <th></th>\n      <th>Temperature (C)</th>\n    </tr>\n    <tr>\n      <th>smiles</th>\n      <th>value</th>\n      <th>pH</th>\n      <th></th>\n    </tr>\n  </thead>\n  <tbody>\n    <tr>\n      <th rowspan=\"2\" valign=\"top\">[H]/[C](=[C](/[C]([H])([H])[H])[C]1([C]([H])([H])[C]([H])([H])[H])[C](=[O])[N]([H])[C](=[O])[N]([H])[C]1=[O])[C]([H])([H])[C]([H])([H])[H]</th>\n      <th rowspan=\"2\" valign=\"top\">1.57</th>\n      <th>5.00</th>\n      <td>5.656854</td>\n    </tr>\n    <tr>\n      <th>7.90</th>\n      <td>5.656854</td>\n    </tr>\n    <tr>\n      <th>[H][C]1=[N][c]2[c]([H])[c]([Cl])[c]([S](=[O])(=[O])[N]([H])[H])[c]([H])[c]2[S](=[O])(=[O])[N]1[H]</th>\n      <th>-0.24</th>\n      <th>6.50</th>\n      <td>11.015141</td>\n    </tr>\n    <tr>\n      <th>[H][N]([H])[S](=[O])(=[O])[c]1[n][n]([C]([H])([H])[H])/[c](=[N]/[C](=[O])[C]([H])([H])[H])[s]1</th>\n      <th>0.13</th>\n      <th>7.40</th>\n      <td>2.121320</td>\n    </tr>\n    <tr>\n      <th>[H][N]([H])[c]1[n][c]([N]([H])[H])[n][c]([N]([H])[C]2([H])[C]([H])([H])[C]2([H])[H])[n]1</th>\n      <th>-0.06</th>\n      <th>7.00</th>\n      <td>3.535534</td>\n    </tr>\n    <tr>\n      <th rowspan=\"2\" valign=\"top\">[H][N]1[C](=[O])[N]([H])[C](=[O])[C]([C]([H])([H])[C]([H])([H])[H])([C]([H])([C]([H])([H])[H])[C]([H])([H])[C]([H])([H])[H])[C]1=[O]</th>\n      <th rowspan=\"2\" valign=\"top\">1.65</th>\n      <th>5.00</th>\n      <td>5.656854</td>\n    </tr>\n    <tr>\n      <th>8.00</th>\n      <td>5.656854</td>\n    </tr>\n    <tr>\n      <th rowspan=\"2\" valign=\"top\">[H][N]1[C](=[O])[N]([H])[C](=[O])[C]([C]([H])([H])[C]([H])([H])[H])([C]([H])([C]([H])([H])[H])[C]([H])([H])[H])[C]1=[O]</th>\n      <th rowspan=\"2\" valign=\"top\">0.97</th>\n      <th>5.00</th>\n      <td>5.656854</td>\n    </tr>\n    <tr>\n      <th>7.90</th>\n      <td>5.656854</td>\n    </tr>\n    <tr>\n      <th>[H][N]1[C](=[O])[N]([H])[C](=[O])[C]([C]([H])([H])[C]([H])([H])[H])([C]([H])([H])[C]([H])([H])[C]([H])([H])[C]([H])([H])[H])[C]1=[O]</th>\n      <th>1.73</th>\n      <th>7.90</th>\n      <td>5.656854</td>\n    </tr>\n    <tr>\n      <th>[H][N]1[C](=[O])[N]([H])[C](=[O])[C]([C]([H])([H])[C]([H])([H])[H])([C]([H])([H])[C]([H])([H])[H])[C]1=[O]</th>\n      <th>0.65</th>\n      <th>7.90</th>\n      <td>5.656854</td>\n    </tr>\n    <tr>\n      <th rowspan=\"2\" valign=\"top\">[H][O][C](=[O])[C]([H])([H])[C]([H])([H])[C@@]([H])([C]([H])([H])[H])[C@@]1([H])[C]([H])([H])[C]([H])([H])[C@]2([H])[C]1([C]([H])([H])[H])[C@@]([H])([O][H])[C]([H])([H])[C@]1([H])[C@@]3([C]([H])([H])[H])[C]([H])([H])[C]([H])([H])[C@@]([H])([O][H])[C]([H])([H])[C@@]3([H])[C]([H])([H])[C]([H])([H])[C@@]21[H]</th>\n      <th rowspan=\"2\" valign=\"top\">3.50</th>\n      <th>2.40</th>\n      <td>12.020815</td>\n    </tr>\n    <tr>\n      <th>3.00</th>\n      <td>3.535534</td>\n    </tr>\n    <tr>\n      <th>[H][O][C](=[O])[C]([H])([H])[C]([H])([H])[C]([H])([C]([H])([H])[H])[C]1([H])[C]([H])([H])[C]([H])([H])[C]2([H])[C]3([H])[C]([H])([O][H])[C]([H])([H])[C]4([H])[C]([H])([H])[C]([H])([O][H])[C]([H])([H])[C]([H])([H])[C]4([C]([H])([H])[H])[C]3([H])[C]([H])([H])[C]([H])([H])[C]12[C]([H])([H])[H]</th>\n      <th>4.15</th>\n      <th>3.00</th>\n      <td>5.000000</td>\n    </tr>\n    <tr>\n      <th>[H][O][C](=[O])[C]([H])([H])[C]([H])([H])[C]([H])([C]([H])([H])[H])[C]1([H])[C]([H])([H])[C]([H])([H])[C]2([H])[C]3([H])[C]([H])([O][H])[C]([H])([H])[C]4([H])[C]([H])([H])[C]([H])([O][H])[C]([H])([H])[C]([H])([H])[C]4([C]([H])([H])[H])[C]3([H])[C]([H])([H])[C]([H])([O][H])[C]12[C]([H])([H])[H]</th>\n      <th>2.39</th>\n      <th>3.00</th>\n      <td>3.535534</td>\n    </tr>\n    <tr>\n      <th>[H][O][C](=[O])[C]([H])([H])[C]([H])([O][H])[C](=[O])[O][H]</th>\n      <th>-1.26</th>\n      <th>1.42</th>\n      <td>3.535534</td>\n    </tr>\n    <tr>\n      <th rowspan=\"5\" valign=\"top\">[H][O][C](=[O])[C]([H])([H])[c]1[c]([C]([H])([H])[H])[n]([C](=[O])[c]2[c]([H])[c]([H])[c]([Cl])[c]([H])[c]2[H])[c]2[c]([H])[c]([H])[c]([O][C]([H])([H])[H])[c]([H])[c]12</th>\n      <th rowspan=\"5\" valign=\"top\">4.27</th>\n      <th>5.00</th>\n      <td>10.606602</td>\n    </tr>\n    <tr>\n      <th>6.00</th>\n      <td>10.606602</td>\n    </tr>\n    <tr>\n      <th>6.50</th>\n      <td>7.937254</td>\n    </tr>\n    <tr>\n      <th>7.00</th>\n      <td>10.606602</td>\n    </tr>\n    <tr>\n      <th>7.40</th>\n      <td>2.121320</td>\n    </tr>\n    <tr>\n      <th rowspan=\"2\" valign=\"top\">[H][O][C](=[O])[C]([H])([H])[c]1[c]([H])[c]([H])[c]([H])[c]([H])[c]1[N]([H])[c]1[c]([Cl])[c]([H])[c]([H])[c]([H])[c]1[Cl]</th>\n      <th rowspan=\"2\" valign=\"top\">4.40</th>\n      <th>2.00</th>\n      <td>3.535534</td>\n    </tr>\n    <tr>\n      <th>7.40</th>\n      <td>10.606602</td>\n    </tr>\n    <tr>\n      <th rowspan=\"3\" valign=\"top\">[H][O][C](=[O])[C]([H])([c]1[c]([H])[c]([H])[c](-[c]2[c]([H])[c]([H])[c]([H])[c]([H])[c]2[H])[c]([F])[c]1[H])[C]([H])([H])[H]</th>\n      <th rowspan=\"3\" valign=\"top\">3.99</th>\n      <th>1.20</th>\n      <td>2.121320</td>\n    </tr>\n    <tr>\n      <th>2.00</th>\n      <td>2.121320</td>\n    </tr>\n    <tr>\n      <th>3.00</th>\n      <td>2.121320</td>\n    </tr>\n    <tr>\n      <th rowspan=\"4\" valign=\"top\">[H][O][C](=[O])[C]([H])([c]1[c]([H])[c]([H])[c]([C]([H])([H])[C]([H])([C]([H])([H])[H])[C]([H])([H])[H])[c]([H])[c]1[H])[C]([H])([H])[H]</th>\n      <th rowspan=\"4\" valign=\"top\">4.13</th>\n      <th>2.00</th>\n      <td>2.121320</td>\n    </tr>\n    <tr>\n      <th>3.00</th>\n      <td>2.121320</td>\n    </tr>\n    <tr>\n      <th>4.00</th>\n      <td>5.131601</td>\n    </tr>\n    <tr>\n      <th>7.40</th>\n      <td>2.121320</td>\n    </tr>\n    <tr>\n      <th>...</th>\n      <th>...</th>\n      <th>...</th>\n      <td>...</td>\n    </tr>\n    <tr>\n      <th rowspan=\"2\" valign=\"top\">[H][O][C](=[O])[C]([H])([c]1[c]([H])[c]([H])[c]2[c]([H])[c]([O][C]([H])([H])[H])[c]([H])[c]([H])[c]2[c]1[H])[C]([H])([H])[H]</th>\n      <th rowspan=\"2\" valign=\"top\">3.24</th>\n      <th>5.00</th>\n      <td>2.121320</td>\n    </tr>\n    <tr>\n      <th>6.50</th>\n      <td>2.121320</td>\n    </tr>\n    <tr>\n      <th rowspan=\"2\" valign=\"top\">[H][O][C](=[O])[c]1[c]([H])[c]([H])[c]([H])[c]([H])[c]1[H]</th>\n      <th rowspan=\"2\" valign=\"top\">1.87</th>\n      <th>3.00</th>\n      <td>1.414214</td>\n    </tr>\n    <tr>\n      <th>5.00</th>\n      <td>3.535534</td>\n    </tr>\n    <tr>\n      <th rowspan=\"2\" valign=\"top\">[H][O][C](=[O])[c]1[c]([N]([H])[c]2[c]([H])[c]([H])[c]([H])[c]([C]([F])([F])[F])[c]2[H])[n][c]([H])[c]([H])[c]1[H]</th>\n      <th rowspan=\"2\" valign=\"top\">1.59</th>\n      <th>1.20</th>\n      <td>1.414214</td>\n    </tr>\n    <tr>\n      <th>2.00</th>\n      <td>2.121320</td>\n    </tr>\n    <tr>\n      <th>[H][O][C](=[O])[c]1[n][c]([Cl])[c]([Cl])[c]([N]([H])[H])[c]1[Cl]</th>\n      <th>0.30</th>\n      <th>2.80</th>\n      <td>12.909944</td>\n    </tr>\n    <tr>\n      <th>[H][O][C]([H])([H])[C]([H])([O][C]([H])([H])[n]1[c]([H])[n][c]2[c](=[O])[n]([H])[c]([N]([H])[H])[n][c]21)[C]([H])([H])[O][H]</th>\n      <th>-1.66</th>\n      <th>7.00</th>\n      <td>1.414214</td>\n    </tr>\n    <tr>\n      <th>[H][c]1[c]([Cl])[c]([S](=[O])(=[O])[N]([H])[H])[c]([H])[c]2[c]1[N]([H])[C]([H])([H])[N]([H])[S]2(=[O])=[O]</th>\n      <th>-0.07</th>\n      <th>6.50</th>\n      <td>11.015141</td>\n    </tr>\n    <tr>\n      <th>[H][c]1[c]([F])[c](=[O])[n]([H])[c](=[O])[n]1[H]</th>\n      <th>-0.89</th>\n      <th>4.00</th>\n      <td>7.937254</td>\n    </tr>\n    <tr>\n      <th>[H][c]1[c]([H])[c]([C]([H])([H])[C]([H])([H])[N]([C]([H])([H])[H])[C]([H])([H])[C]([H])([H])[C]([H])([H])[C]([C]#[N])([c]2[c]([H])[c]([H])[c]([O][C]([H])([H])[H])[c]([O][C]([H])([H])[H])[c]2[H])[C]([H])([C]([H])([H])[H])[C]([H])([H])[H])[c]([H])[c]([O][C]([H])([H])[H])[c]1[O][C]([H])([H])[H]</th>\n      <th>3.79</th>\n      <th>7.00</th>\n      <td>8.485281</td>\n    </tr>\n    <tr>\n      <th>[H][c]1[c]([H])[c]([H])[c]([C]2([C]([H])([H])[C]([H])([H])[H])[C](=[O])[N]([H])[C](=[O])[N]([C]([H])([H])[H])[C]2=[O])[c]([H])[c]1[H]</th>\n      <th>1.84</th>\n      <th>5.00</th>\n      <td>8.736895</td>\n    </tr>\n    <tr>\n      <th rowspan=\"2\" valign=\"top\">[H][c]1[c]([H])[c]([H])[c]([C]2([C]([H])([H])[C]([H])([H])[H])[C](=[O])[N]([H])[C](=[O])[N]([H])[C]2=[O])[c]([H])[c]1[H]</th>\n      <th rowspan=\"2\" valign=\"top\">1.47</th>\n      <th>4.40</th>\n      <td>5.656854</td>\n    </tr>\n    <tr>\n      <th>7.40</th>\n      <td>5.656854</td>\n    </tr>\n    <tr>\n      <th>[H][c]1[c]([H])[c]([H])[c]2[c]([c]1[H])[C](=[O])[N]([C]1([H])[C](=[O])[N]([H])[C](=[O])[C]([H])([H])[C]1([H])[H])[C]2=[O]</th>\n      <th>0.33</th>\n      <th>6.40</th>\n      <td>4.949747</td>\n    </tr>\n    <tr>\n      <th rowspan=\"2\" valign=\"top\">[H][c]1[c]([H])[c]([N]([H])[H])[c]([H])[c]([H])[c]1[C](=[O])[O][C]([H])([H])[C]([H])([H])[N]([C]([H])([H])[C]([H])([H])[H])[C]([H])([H])[C]([H])([H])[H]</th>\n      <th rowspan=\"2\" valign=\"top\">1.92</th>\n      <th>7.40</th>\n      <td>10.606602</td>\n    </tr>\n    <tr>\n      <th>9.10</th>\n      <td>2.121320</td>\n    </tr>\n    <tr>\n      <th rowspan=\"2\" valign=\"top\">[H][c]1[c]([H])[c]([S](=[O])(=[O])[N]([H])[C](=[O])[N]([H])[C]([H])([H])[C]([H])([H])[C]([H])([H])[C]([H])([H])[H])[c]([H])[c]([H])[c]1[C]([H])([H])[H]</th>\n      <th rowspan=\"2\" valign=\"top\">2.34</th>\n      <th>6.35</th>\n      <td>7.424621</td>\n    </tr>\n    <tr>\n      <th>6.73</th>\n      <td>0.353553</td>\n    </tr>\n    <tr>\n      <th>[H][c]1[c]([H])[c]([S](=[O])(=[O])[N]([H])[C](=[O])[N]([H])[C]([H])([H])[C]([H])([H])[C]([H])([H])[C]([H])([H])[H])[c]([H])[c]([H])[c]1[N]([H])[H]</th>\n      <th>1.01</th>\n      <th>6.50</th>\n      <td>1.414214</td>\n    </tr>\n    <tr>\n      <th rowspan=\"2\" valign=\"top\">[H][c]1[c]([H])[c]([S](=[O])(=[O])[N]([H])[H])[c]([H])[c]([H])[c]1[N]([H])[H]</th>\n      <th rowspan=\"2\" valign=\"top\">-0.62</th>\n      <th>5.90</th>\n      <td>12.020815</td>\n    </tr>\n    <tr>\n      <th>7.10</th>\n      <td>8.485281</td>\n    </tr>\n    <tr>\n      <th rowspan=\"2\" valign=\"top\">[H][c]1[c]([H])[c]([S](=[O])(=[O])[N]([H])[c]2[o][n][c]([C]([H])([H])[H])[c]2[C]([H])([H])[H])[c]([H])[c]([H])[c]1[N]([H])[H]</th>\n      <th rowspan=\"2\" valign=\"top\">1.01</th>\n      <th>5.00</th>\n      <td>8.485281</td>\n    </tr>\n    <tr>\n      <th>6.00</th>\n      <td>8.485281</td>\n    </tr>\n    <tr>\n      <th rowspan=\"3\" valign=\"top\">[H][c]1[c]([N]([H])[S](=[O])(=[O])[c]2[c]([H])[c]([H])[c]([N]([H])[H])[c]([H])[c]2[H])[n][o][c]1[C]([H])([H])[H]</th>\n      <th rowspan=\"3\" valign=\"top\">0.89</th>\n      <th>0.45</th>\n      <td>6.027714</td>\n    </tr>\n    <tr>\n      <th>1.15</th>\n      <td>6.027714</td>\n    </tr>\n    <tr>\n      <th>7.16</th>\n      <td>3.535534</td>\n    </tr>\n    <tr>\n      <th>[H][c]1[n][c]([H])[n]([C]([H])([H])[C]([H])([c]2[c]([H])[c]([H])[c]([Cl])[c]([H])[c]2[Cl])[C]([H])([H])[C]([H])([H])[C]([H])([H])[H])[n]1</th>\n      <th>3.72</th>\n      <th>5.70</th>\n      <td>3.535534</td>\n    </tr>\n    <tr>\n      <th rowspan=\"2\" valign=\"top\">[H][c]1[n][c]([N]([H])[S](=[O])(=[O])[c]2[c]([H])[c]([H])[c]([N]([H])[H])[c]([H])[c]2[H])[n][c]([C]([H])([H])[H])[c]1[H]</th>\n      <th rowspan=\"2\" valign=\"top\">0.14</th>\n      <th>4.58</th>\n      <td>6.454972</td>\n    </tr>\n    <tr>\n      <th>5.50</th>\n      <td>8.485281</td>\n    </tr>\n  </tbody>\n</table>\n<p>63 rows × 1 columns</p>\n</div>",
      "text/plain": "                                                               Temperature (C)\nsmiles                                             value pH                   \n[H]/[C](=[C](/[C]([H])([H])[H])[C]1([C]([H])([H...  1.57 5.00         5.656854\n                                                         7.90         5.656854\n[H][C]1=[N][c]2[c]([H])[c]([Cl])[c]([S](=[O])(=... -0.24 6.50        11.015141\n[H][N]([H])[S](=[O])(=[O])[c]1[n][n]([C]([H])([...  0.13 7.40         2.121320\n[H][N]([H])[c]1[n][c]([N]([H])[H])[n][c]([N]([H... -0.06 7.00         3.535534\n[H][N]1[C](=[O])[N]([H])[C](=[O])[C]([C]([H])([...  1.65 5.00         5.656854\n                                                         8.00         5.656854\n[H][N]1[C](=[O])[N]([H])[C](=[O])[C]([C]([H])([...  0.97 5.00         5.656854\n                                                         7.90         5.656854\n[H][N]1[C](=[O])[N]([H])[C](=[O])[C]([C]([H])([...  1.73 7.90         5.656854\n[H][N]1[C](=[O])[N]([H])[C](=[O])[C]([C]([H])([...  0.65 7.90         5.656854\n[H][O][C](=[O])[C]([H])([H])[C]([H])([H])[C@@](...  3.50 2.40        12.020815\n                                                         3.00         3.535534\n[H][O][C](=[O])[C]([H])([H])[C]([H])([H])[C]([H...  4.15 3.00         5.000000\n[H][O][C](=[O])[C]([H])([H])[C]([H])([H])[C]([H...  2.39 3.00         3.535534\n[H][O][C](=[O])[C]([H])([H])[C]([H])([O][H])[C]... -1.26 1.42         3.535534\n[H][O][C](=[O])[C]([H])([H])[c]1[c]([C]([H])([H...  4.27 5.00        10.606602\n                                                         6.00        10.606602\n                                                         6.50         7.937254\n                                                         7.00        10.606602\n                                                         7.40         2.121320\n[H][O][C](=[O])[C]([H])([H])[c]1[c]([H])[c]([H]...  4.40 2.00         3.535534\n                                                         7.40        10.606602\n[H][O][C](=[O])[C]([H])([c]1[c]([H])[c]([H])[c]...  3.99 1.20         2.121320\n                                                         2.00         2.121320\n                                                         3.00         2.121320\n[H][O][C](=[O])[C]([H])([c]1[c]([H])[c]([H])[c]...  4.13 2.00         2.121320\n                                                         3.00         2.121320\n                                                         4.00         5.131601\n                                                         7.40         2.121320\n...                                                                        ...\n[H][O][C](=[O])[C]([H])([c]1[c]([H])[c]([H])[c]...  3.24 5.00         2.121320\n                                                         6.50         2.121320\n[H][O][C](=[O])[c]1[c]([H])[c]([H])[c]([H])[c](...  1.87 3.00         1.414214\n                                                         5.00         3.535534\n[H][O][C](=[O])[c]1[c]([N]([H])[c]2[c]([H])[c](...  1.59 1.20         1.414214\n                                                         2.00         2.121320\n[H][O][C](=[O])[c]1[n][c]([Cl])[c]([Cl])[c]([N]...  0.30 2.80        12.909944\n[H][O][C]([H])([H])[C]([H])([O][C]([H])([H])[n]... -1.66 7.00         1.414214\n[H][c]1[c]([Cl])[c]([S](=[O])(=[O])[N]([H])[H])... -0.07 6.50        11.015141\n[H][c]1[c]([F])[c](=[O])[n]([H])[c](=[O])[n]1[H]   -0.89 4.00         7.937254\n[H][c]1[c]([H])[c]([C]([H])([H])[C]([H])([H])[N...  3.79 7.00         8.485281\n[H][c]1[c]([H])[c]([H])[c]([C]2([C]([H])([H])[C...  1.84 5.00         8.736895\n[H][c]1[c]([H])[c]([H])[c]([C]2([C]([H])([H])[C...  1.47 4.40         5.656854\n                                                         7.40         5.656854\n[H][c]1[c]([H])[c]([H])[c]2[c]([c]1[H])[C](=[O]...  0.33 6.40         4.949747\n[H][c]1[c]([H])[c]([N]([H])[H])[c]([H])[c]([H])...  1.92 7.40        10.606602\n                                                         9.10         2.121320\n[H][c]1[c]([H])[c]([S](=[O])(=[O])[N]([H])[C](=...  2.34 6.35         7.424621\n                                                         6.73         0.353553\n[H][c]1[c]([H])[c]([S](=[O])(=[O])[N]([H])[C](=...  1.01 6.50         1.414214\n[H][c]1[c]([H])[c]([S](=[O])(=[O])[N]([H])[H])[... -0.62 5.90        12.020815\n                                                         7.10         8.485281\n[H][c]1[c]([H])[c]([S](=[O])(=[O])[N]([H])[c]2[...  1.01 5.00         8.485281\n                                                         6.00         8.485281\n[H][c]1[c]([N]([H])[S](=[O])(=[O])[c]2[c]([H])[...  0.89 0.45         6.027714\n                                                         1.15         6.027714\n                                                         7.16         3.535534\n[H][c]1[n][c]([H])[n]([C]([H])([H])[C]([H])([c]...  3.72 5.70         3.535534\n[H][c]1[n][c]([N]([H])[S](=[O])(=[O])[c]2[c]([H...  0.14 4.58         6.454972\n                                                         5.50         8.485281\n\n[63 rows x 1 columns]"
     },
     "execution_count": 40,
     "metadata": {},
     "output_type": "execute_result"
    }
   ],
   "source": [
    "temperature_var = temperature_var.dropna()\n",
    "temperature_var"
   ],
   "metadata": {
    "collapsed": false,
    "pycharm": {
     "name": "#%%\n"
    }
   }
  },
  {
   "cell_type": "code",
   "execution_count": 41,
   "outputs": [
    {
     "data": {
      "text/html": "<div>\n<style scoped>\n    .dataframe tbody tr th:only-of-type {\n        vertical-align: middle;\n    }\n\n    .dataframe tbody tr th {\n        vertical-align: top;\n    }\n\n    .dataframe thead th {\n        text-align: right;\n    }\n</style>\n<table border=\"1\" class=\"dataframe\">\n  <thead>\n    <tr style=\"text-align: right;\">\n      <th></th>\n      <th>Temperature (C)</th>\n    </tr>\n  </thead>\n  <tbody>\n    <tr>\n      <th>count</th>\n      <td>63.000000</td>\n    </tr>\n    <tr>\n      <th>mean</th>\n      <td>5.440509</td>\n    </tr>\n    <tr>\n      <th>std</th>\n      <td>3.358517</td>\n    </tr>\n    <tr>\n      <th>min</th>\n      <td>0.353553</td>\n    </tr>\n    <tr>\n      <th>25%</th>\n      <td>2.121320</td>\n    </tr>\n    <tr>\n      <th>50%</th>\n      <td>5.656854</td>\n    </tr>\n    <tr>\n      <th>75%</th>\n      <td>8.211268</td>\n    </tr>\n    <tr>\n      <th>max</th>\n      <td>12.909944</td>\n    </tr>\n  </tbody>\n</table>\n</div>",
      "text/plain": "       Temperature (C)\ncount        63.000000\nmean          5.440509\nstd           3.358517\nmin           0.353553\n25%           2.121320\n50%           5.656854\n75%           8.211268\nmax          12.909944"
     },
     "execution_count": 41,
     "metadata": {},
     "output_type": "execute_result"
    }
   ],
   "source": [
    "temperature_var.describe()"
   ],
   "metadata": {
    "collapsed": false,
    "pycharm": {
     "name": "#%%\n"
    }
   }
  },
  {
   "cell_type": "code",
   "execution_count": 42,
   "outputs": [
    {
     "data": {
      "text/html": "<div>\n<style scoped>\n    .dataframe tbody tr th:only-of-type {\n        vertical-align: middle;\n    }\n\n    .dataframe tbody tr th {\n        vertical-align: top;\n    }\n\n    .dataframe thead th {\n        text-align: right;\n    }\n</style>\n<table border=\"1\" class=\"dataframe\">\n  <thead>\n    <tr style=\"text-align: right;\">\n      <th></th>\n      <th>Temperature (C)</th>\n      <th>pH</th>\n      <th>smiles</th>\n      <th>value</th>\n    </tr>\n  </thead>\n  <tbody>\n    <tr>\n      <th>1927</th>\n      <td>15.0</td>\n      <td>6.5</td>\n      <td>[H][C]1=[N][c]2[c]([H])[c]([Cl])[c]([S](=[O])(...</td>\n      <td>-0.24</td>\n    </tr>\n    <tr>\n      <th>1928</th>\n      <td>25.0</td>\n      <td>6.5</td>\n      <td>[H][C]1=[N][c]2[c]([H])[c]([Cl])[c]([S](=[O])(...</td>\n      <td>-0.24</td>\n    </tr>\n    <tr>\n      <th>1929</th>\n      <td>37.0</td>\n      <td>6.5</td>\n      <td>[H][C]1=[N][c]2[c]([H])[c]([Cl])[c]([S](=[O])(...</td>\n      <td>-0.24</td>\n    </tr>\n  </tbody>\n</table>\n</div>",
      "text/plain": "      Temperature (C)   pH                                             smiles  \\\n1927             15.0  6.5  [H][C]1=[N][c]2[c]([H])[c]([Cl])[c]([S](=[O])(...   \n1928             25.0  6.5  [H][C]1=[N][c]2[c]([H])[c]([Cl])[c]([S](=[O])(...   \n1929             37.0  6.5  [H][C]1=[N][c]2[c]([H])[c]([Cl])[c]([S](=[O])(...   \n\n      value  \n1927  -0.24  \n1928  -0.24  \n1929  -0.24  "
     },
     "execution_count": 42,
     "metadata": {},
     "output_type": "execute_result"
    }
   ],
   "source": [
    "final_data[final_data[SMILES_COLUMN] == \"[H][C]1=[N][c]2[c]([H])[c]([Cl])[c]([S](=[O])(=[O])[N]([H])[H])[c]([H])[c]2[S](=[O])(=[O])[N]1[H]\"]"
   ],
   "metadata": {
    "collapsed": false,
    "pycharm": {
     "name": "#%%\n"
    }
   }
  },
  {
   "cell_type": "code",
   "execution_count": 43,
   "outputs": [
    {
     "data": {
      "text/html": "<div>\n<style scoped>\n    .dataframe tbody tr th:only-of-type {\n        vertical-align: middle;\n    }\n\n    .dataframe tbody tr th {\n        vertical-align: top;\n    }\n\n    .dataframe thead th {\n        text-align: right;\n    }\n</style>\n<table border=\"1\" class=\"dataframe\">\n  <thead>\n    <tr style=\"text-align: right;\">\n      <th></th>\n      <th></th>\n      <th></th>\n      <th>pH</th>\n    </tr>\n    <tr>\n      <th>smiles</th>\n      <th>value</th>\n      <th>Temperature (C)</th>\n      <th></th>\n    </tr>\n  </thead>\n  <tbody>\n    <tr>\n      <th rowspan=\"2\" valign=\"top\">[H]/[C](=[C](/[C]([H])([H])[H])[C]1([C]([H])([H])[C]([H])([H])[H])[C](=[O])[N]([H])[C](=[O])[N]([H])[C]1=[O])[C]([H])([H])[C]([H])([H])[H]</th>\n      <th rowspan=\"2\" valign=\"top\">1.57</th>\n      <th>25.0</th>\n      <td>2.050610</td>\n    </tr>\n    <tr>\n      <th>33.0</th>\n      <td>2.050610</td>\n    </tr>\n    <tr>\n      <th>[H]/[C](=[C](/[H])[C]([H])([H])[N]1[C]([H])([H])[C]([H])([H])[N]([C]([H])([c]2[c]([H])[c]([H])[c]([H])[c]([H])[c]2[H])[c]2[c]([H])[c]([H])[c]([H])[c]([H])[c]2[H])[C]([H])([H])[C]1([H])[H])[c]1[c]([H])[c]([H])[c]([H])[c]([H])[c]1[H]</th>\n      <th>5.77</th>\n      <th>25.0</th>\n      <td>NaN</td>\n    </tr>\n    <tr>\n      <th rowspan=\"3\" valign=\"top\">[H]/[C](=[N]\\[N]1[C](=[O])[N]([H])[C](=[O])[C]1([H])[H])[c]1[o][c]([N+](=[O])[O-])[c]([H])[c]1[H]</th>\n      <th rowspan=\"3\" valign=\"top\">-0.47</th>\n      <th>22.0</th>\n      <td>NaN</td>\n    </tr>\n    <tr>\n      <th>25.0</th>\n      <td>0.353553</td>\n    </tr>\n    <tr>\n      <th>37.0</th>\n      <td>1.331666</td>\n    </tr>\n    <tr>\n      <th>[H][C]#[C][C]1([O][H])[C]([H])([H])[C]([H])([H])[C]2([H])[C]3([H])[C]([H])([H])[C]([H])([H])[C]4=[C]([H])[c]5[o][n][c]([H])[c]5[C]([H])([H])[C]4([C]([H])([H])[H])[C]3([H])[C]([H])([H])[C]([H])([H])[C]12[C]([H])([H])[H]</th>\n      <th>4.53</th>\n      <th>37.0</th>\n      <td>NaN</td>\n    </tr>\n    <tr>\n      <th>[H][C](=[C]1[c]2[c]([H])[c]([H])[c]([H])[c]([H])[c]2[C]([H])([H])[C]([H])([H])[c]2[c]([H])[c]([H])[c]([H])[c]([H])[c]21)[C]([H])([H])[C]([H])([H])[N]([C]([H])([H])[H])[C]([H])([H])[H]</th>\n      <th>5.04</th>\n      <th>24.0</th>\n      <td>0.360185</td>\n    </tr>\n    <tr>\n      <th>[H][C]([H])([H])[C]([H])([H])[O][P](=[O])([O][C]([H])([H])[C]([H])([H])[H])[O][C]([H])([O][C](=[O])[C]([H])([H])[C]([H])([H])[C]([H])([H])[H])[C]([H])([H])[H]</th>\n      <th>3.51</th>\n      <th>25.0</th>\n      <td>NaN</td>\n    </tr>\n    <tr>\n      <th>[H][C]([H])=[C]([H])[C]([H])([H])[C]([C](=[O])[O][C]([H])([H])[H])([C](=[O])[N]([H])[C](=[O])[N]([H])[H])[C]([H])([H])[C]([H])=[C]([H])[H]</th>\n      <th>1.37</th>\n      <th>23.0</th>\n      <td>NaN</td>\n    </tr>\n    <tr>\n      <th>[H][C]([H])=[C]([H])[C]([H])([H])[C]1([C]([H])([C]([H])([H])[H])[C]([H])([H])[C]([H])([H])[H])[C](=[O])[N]([H])[C](=[O])[N]([H])[C]1=[O]</th>\n      <th>1.47</th>\n      <th>25.0</th>\n      <td>NaN</td>\n    </tr>\n    <tr>\n      <th>[H][C]([H])=[C]([H])[C]([H])([H])[C]1([C]([H])([H])[C]([H])([H])[H])[C](=[O])[N]([H])[C](=[O])[N]([H])[C]1=[O]</th>\n      <th>0.95</th>\n      <th>23.0</th>\n      <td>NaN</td>\n    </tr>\n    <tr>\n      <th>[H][C]1=[C]([C]([C](=[O])[O][C]([H])([H])[C]([H])([H])[H])([C](=[O])[N]([H])[C](=[O])[N]([H])[C]([H])([H])[H])[C]([H])([H])[H])[C]([H])([H])[C]([H])([H])[C]([H])([H])[C]1([H])[H]</th>\n      <th>2.25</th>\n      <th>23.0</th>\n      <td>NaN</td>\n    </tr>\n    <tr>\n      <th rowspan=\"2\" valign=\"top\">[H][C]1=[C]([C]2([C]([H])([H])[C]([H])([H])[H])[C](=[O])[N]([H])[C](=[O])[N]([H])[C]2=[O])[C]([H])([H])[C]([H])([H])[C]([H])([H])[C]1([H])[H]</th>\n      <th rowspan=\"2\" valign=\"top\">1.77</th>\n      <th>20.0</th>\n      <td>NaN</td>\n    </tr>\n    <tr>\n      <th>25.0</th>\n      <td>NaN</td>\n    </tr>\n    <tr>\n      <th rowspan=\"2\" valign=\"top\">[H][C]1=[C]([C]2([C]([H])([H])[H])[C](=[O])[N]([H])[C](=[O])[N]([C]([H])([H])[H])[C]2=[O])[C]([H])([H])[C]([H])([H])[C]([H])([H])[C]1([H])[H]</th>\n      <th rowspan=\"2\" valign=\"top\">1.98</th>\n      <th>23.0</th>\n      <td>NaN</td>\n    </tr>\n    <tr>\n      <th>25.0</th>\n      <td>NaN</td>\n    </tr>\n    <tr>\n      <th>[H][C]1=[C]([O][C]([H])([H])[H])[C]2([O][c]3[c]([Cl])[c]([O][C]([H])([H])[H])[c]([H])[c]([O][C]([H])([H])[H])[c]3[C]2=[O])[C]([H])([C]([H])([H])[H])[C]([H])([H])[C]1=[O]</th>\n      <th>2.18</th>\n      <th>37.0</th>\n      <td>NaN</td>\n    </tr>\n    <tr>\n      <th rowspan=\"2\" valign=\"top\">[H][C]1=[C]([c]2[c]([H])[c]([H])[c]([S](=[O])(=[O])[C]([H])([H])[H])[c]([H])[c]2[H])[C]([H])([c]2[c]([H])[c]([H])[c]([H])[c]([H])[c]2[H])[C](=[O])[O]1</th>\n      <th rowspan=\"2\" valign=\"top\">1.71</th>\n      <th>22.0</th>\n      <td>NaN</td>\n    </tr>\n    <tr>\n      <th>25.0</th>\n      <td>NaN</td>\n    </tr>\n    <tr>\n      <th>[H][C]1=[C]2[C]([H])([H])[N]3[C]([H])([H])[C]([H])([H])[C]45[c]6[c]([H])[c]([H])[c]([H])[c]([H])[c]6[N]6[C](=[O])[C]([H])([H])[C]([H])([O][C]1([H])[H])[C]([H])([C]2([H])[C]([H])([H])[C]34[H])[C]65[H]</th>\n      <th>1.93</th>\n      <th>20.0</th>\n      <td>NaN</td>\n    </tr>\n    <tr>\n      <th rowspan=\"3\" valign=\"top\">[H][C]1=[N][c]2[c]([H])[c]([Cl])[c]([S](=[O])(=[O])[N]([H])[H])[c]([H])[c]2[S](=[O])(=[O])[N]1[H]</th>\n      <th rowspan=\"3\" valign=\"top\">-0.24</th>\n      <th>15.0</th>\n      <td>NaN</td>\n    </tr>\n    <tr>\n      <th>25.0</th>\n      <td>NaN</td>\n    </tr>\n    <tr>\n      <th>37.0</th>\n      <td>NaN</td>\n    </tr>\n    <tr>\n      <th>[H][N]([C](=[O])[C]([H])([H])[H])[c]1[n][n][c]([S](=[O])(=[O])[N]([H])[C]([H])([H])[H])[s]1</th>\n      <th>0.49</th>\n      <th>35.0</th>\n      <td>NaN</td>\n    </tr>\n    <tr>\n      <th rowspan=\"2\" valign=\"top\">[H][N]([C](=[O])[C]([H])([H])[H])[c]1[n][n][c]([S](=[O])(=[O])[N]([H])[H])[s]1</th>\n      <th rowspan=\"2\" valign=\"top\">-0.26</th>\n      <th>25.0</th>\n      <td>NaN</td>\n    </tr>\n    <tr>\n      <th>35.0</th>\n      <td>NaN</td>\n    </tr>\n    <tr>\n      <th>[H][N]([H])[C](=[O])[N]([H])[C](=[O])[C]([C](=[O])[O][C]([H])([C]([H])([H])[H])[C]([H])([H])[H])([C]([H])([H])[C]([H])([H])[H])[C]([H])([H])[C]([H])([H])[H]</th>\n      <th>1.99</th>\n      <th>23.0</th>\n      <td>NaN</td>\n    </tr>\n    <tr>\n      <th>[H][N]([H])[C](=[O])[N]([H])[C](=[O])[C]([C](=[O])[O][C]([H])([H])[C](=[O])[O][C]([H])([H])[H])([C]([H])([H])[C]([H])([H])[H])[C]([H])([H])[C]([H])([H])[H]</th>\n      <th>0.99</th>\n      <th>23.0</th>\n      <td>NaN</td>\n    </tr>\n    <tr>\n      <th>[H][N]([H])[C](=[O])[N]([H])[C](=[O])[C]([C](=[O])[O][C]([H])([H])[C]([H])([H])[H])([C]([H])([H])[C]([H])([H])[H])[C]([H])([H])[C]([H])([H])[H]</th>\n      <th>1.45</th>\n      <th>23.0</th>\n      <td>NaN</td>\n    </tr>\n    <tr>\n      <th>...</th>\n      <th>...</th>\n      <th>...</th>\n      <td>...</td>\n    </tr>\n    <tr>\n      <th>[H][c]1[n][c]([N]([C]([H])([H])[c]2[c]([H])[c]([H])[c]([O][C]([H])([H])[H])[c]([H])[c]2[H])[C]([H])([H])[C]([H])([H])[N]([C]([H])([H])[H])[C]([H])([H])[H])[c]([H])[c]([H])[c]1[H]</th>\n      <th>3.27</th>\n      <th>37.0</th>\n      <td>NaN</td>\n    </tr>\n    <tr>\n      <th>[H][c]1[n][c]([N]([H])[H])[n][c]([N]([H])[H])[c]1[C]([H])([H])[c]1[c]([H])[c]([O][C]([H])([H])[H])[c]([O][C]([H])([H])[H])[c]([O][C]([H])([H])[H])[c]1[H]</th>\n      <th>0.91</th>\n      <th>32.0</th>\n      <td>1.337391</td>\n    </tr>\n    <tr>\n      <th>[H][c]1[n][c]([N]([H])[S](=[O])(=[O])[c]2[c]([H])[c]([H])[c]([N]([H])[H])[c]([H])[c]2[H])[c]([Cl])[c]([H])[c]1[H]</th>\n      <th>0.82</th>\n      <th>37.0</th>\n      <td>NaN</td>\n    </tr>\n    <tr>\n      <th>[H][c]1[n][c]([N]([H])[S](=[O])(=[O])[c]2[c]([H])[c]([H])[c]([N]([H])[H])[c]([H])[c]2[H])[c]([H])[c]([H])[c]1[H]</th>\n      <th>0.35</th>\n      <th>37.0</th>\n      <td>1.430629</td>\n    </tr>\n    <tr>\n      <th rowspan=\"5\" valign=\"top\">[H][c]1[n][c]([N]([H])[S](=[O])(=[O])[c]2[c]([H])[c]([H])[c]([N]([H])[H])[c]([H])[c]2[H])[n][c]([C]([H])([H])[H])[c]1[H]</th>\n      <th rowspan=\"5\" valign=\"top\">0.14</th>\n      <th>25.0</th>\n      <td>1.221529</td>\n    </tr>\n    <tr>\n      <th>30.0</th>\n      <td>NaN</td>\n    </tr>\n    <tr>\n      <th>35.0</th>\n      <td>NaN</td>\n    </tr>\n    <tr>\n      <th>37.0</th>\n      <td>0.843878</td>\n    </tr>\n    <tr>\n      <th>40.0</th>\n      <td>NaN</td>\n    </tr>\n    <tr>\n      <th rowspan=\"2\" valign=\"top\">[H][c]1[n][c]([N]([H])[S](=[O])(=[O])[c]2[c]([H])[c]([H])[c]([N]([H])[H])[c]([H])[c]2[H])[n][c]([H])[c]1[H]</th>\n      <th rowspan=\"2\" valign=\"top\">-0.09</th>\n      <th>25.0</th>\n      <td>2.443551</td>\n    </tr>\n    <tr>\n      <th>37.0</th>\n      <td>0.839354</td>\n    </tr>\n    <tr>\n      <th>[H][c]1[n][c]([N]([H])[S](=[O])(=[O])[c]2[c]([H])[c]([H])[c]([N]([H])[H])[c]([H])[c]2[H])[n][c]([H])[c]1[O][C]([H])([H])[H]</th>\n      <th>0.41</th>\n      <th>37.0</th>\n      <td>1.123342</td>\n    </tr>\n    <tr>\n      <th rowspan=\"2\" valign=\"top\">[H][c]1[n][c]([N]([H])[S](=[O])(=[O])[c]2[c]([H])[c]([H])[c]([N]([H])[H])[c]([H])[c]2[H])[s][c]1[H]</th>\n      <th rowspan=\"2\" valign=\"top\">0.05</th>\n      <th>25.0</th>\n      <td>0.551970</td>\n    </tr>\n    <tr>\n      <th>37.0</th>\n      <td>0.837644</td>\n    </tr>\n    <tr>\n      <th>[H][c]1[n][c]([O][C]([H])([H])[H])[c]([O][C]([H])([H])[H])[c]([N]([H])[S](=[O])(=[O])[c]2[c]([H])[c]([H])[c]([N]([H])[H])[c]([H])[c]2[H])[n]1</th>\n      <th>0.70</th>\n      <th>37.0</th>\n      <td>1.290994</td>\n    </tr>\n    <tr>\n      <th>[H][c]1[n][c]([O][c]2[c]([H])[c]([H])[c]([O][C]([H])([C](=[O])[O][C]([H])([H])[C]([H])([H])[C]([H])([H])[C]([H])([H])[H])[C]([H])([H])[H])[c]([H])[c]2[H])[c]([H])[c]([H])[c]1[C]([F])([F])[F]</th>\n      <th>4.50</th>\n      <th>20.0</th>\n      <td>NaN</td>\n    </tr>\n    <tr>\n      <th>[H][c]1[n][c]([O][c]2[c]([H])[c]([H])[c]([O][C]([H])([C](=[O])[O][C]([H])([H])[C]([H])([H])[O][C]([H])([H])[C]([H])([H])[H])[C]([H])([H])[H])[c]([H])[c]2[H])[c]([Cl])[c]([H])[c]1[C]([F])([F])[F]</th>\n      <th>4.33</th>\n      <th>9.0</th>\n      <td>NaN</td>\n    </tr>\n    <tr>\n      <th>[H][c]1[n][c]([S](=[O])(=[O])[N]([H])[C](=[O])[N]([H])[c]2[n][c]([O][C]([H])([H])[H])[c]([H])[c]([O][C]([H])([H])[H])[n]2)[c]([C]([F])([F])[F])[c]([H])[c]1[H]</th>\n      <th>-0.06</th>\n      <th>20.0</th>\n      <td>NaN</td>\n    </tr>\n    <tr>\n      <th>[H][c]1[n][c]2[c](=[O])[n]([C]([H])([H])[H])[c](=[O])[n]([C]([H])([H])[H])[c]2[n]1[H]</th>\n      <th>-0.02</th>\n      <th>37.0</th>\n      <td>2.050610</td>\n    </tr>\n    <tr>\n      <th>[H][c]1[n][c]2[c]([H])[c]([Cl])[c]([H])[c]([H])[c]2[c]([N]([H])[C]([H])([C]([H])([H])[H])[C]([H])([H])[C]([H])([H])[C]([H])([H])[N]([C]([H])([H])[C]([H])([H])[H])[C]([H])([H])[C]([H])([H])[H])[c]1[H]</th>\n      <th>4.63</th>\n      <th>20.0</th>\n      <td>1.073138</td>\n    </tr>\n    <tr>\n      <th>[H][c]1[n][c]2[c]([n][c]([H])[n]2[H])[c](=[O])[n]1[H]</th>\n      <th>-1.11</th>\n      <th>23.0</th>\n      <td>NaN</td>\n    </tr>\n    <tr>\n      <th>[H][c]1[n][n](-[c]2[c]([H])[c]([H])[c]([H])[c]([H])[c]2[H])[c](=[O])[c]([Cl])[c]1[N]([H])[H]</th>\n      <th>1.19</th>\n      <th>20.0</th>\n      <td>NaN</td>\n    </tr>\n    <tr>\n      <th>[H][c]1[n][n](-[c]2[c]([H])[c]([H])[c]([H])[c]([H])[c]2[H])[c]([N]([H])[S](=[O])(=[O])[c]2[c]([H])[c]([H])[c]([N]([H])[H])[c]([H])[c]2[H])[c]1[H]</th>\n      <th>1.52</th>\n      <th>37.0</th>\n      <td>NaN</td>\n    </tr>\n    <tr>\n      <th>[H][c]1[n][n][s][c]1[N]([H])[C](=[O])[N]([H])[c]1[c]([H])[c]([H])[c]([H])[c]([H])[c]1[H]</th>\n      <th>1.77</th>\n      <th>25.0</th>\n      <td>NaN</td>\n    </tr>\n    <tr>\n      <th>[H][c]1[s][c]([C](=[O])[O][C]([H])([H])[H])[c]([S](=[O])(=[O])[N]([H])[C](=[O])[N]([H])[c]2[n][c]([O][C]([H])([H])[H])[n][c]([C]([H])([H])[H])[n]2)[c]1[H]</th>\n      <th>0.20</th>\n      <th>25.0</th>\n      <td>1.290994</td>\n    </tr>\n    <tr>\n      <th rowspan=\"2\" valign=\"top\">[H][c]1[s][c]([C]([H])([H])[C]([H])([H])[N]2[C]([H])([H])[C]([H])([H])[C]([N]([C](=[O])[C]([H])([H])[C]([H])([H])[H])[c]3[c]([H])[c]([H])[c]([H])[c]([H])[c]3[H])([C]([H])([H])[O][C]([H])([H])[H])[C]([H])([H])[C]2([H])[H])[c]([H])[c]1[H]</th>\n      <th rowspan=\"2\" valign=\"top\">3.95</th>\n      <th>25.0</th>\n      <td>NaN</td>\n    </tr>\n    <tr>\n      <th>35.0</th>\n      <td>2.139433</td>\n    </tr>\n    <tr>\n      <th>[H][c]1[s][c]([N]=[C]([N]([H])[H])[N]([H])[H])[n][c]1[C]([H])([H])[S][C]([H])([H])[C]([H])([H])/[C](=[N]/[S](=[O])(=[O])[N]([H])[H])[N]([H])[H]</th>\n      <th>-0.56</th>\n      <th>25.0</th>\n      <td>1.056869</td>\n    </tr>\n    <tr>\n      <th>[H][n]1[c]([Cl])[n][c]2[c]1[c](=[O])[n]([C]([H])([H])[H])[c](=[O])[n]2[C]([H])([H])[H]</th>\n      <th>-0.85</th>\n      <th>37.0</th>\n      <td>4.171930</td>\n    </tr>\n    <tr>\n      <th>[H][n]1[c]([N]([C]([H])([H])[H])[C]([H])([H])[H])[n][c]([C]([H])([H])[H])[c]([C]([H])([H])[C]([H])([H])[C]([H])([H])[C]([H])([H])[H])[c]1=[O]</th>\n      <th>1.90</th>\n      <th>25.0</th>\n      <td>NaN</td>\n    </tr>\n  </tbody>\n</table>\n<p>474 rows × 1 columns</p>\n</div>",
      "text/plain": "                                                                                pH\nsmiles                                             value Temperature (C)          \n[H]/[C](=[C](/[C]([H])([H])[H])[C]1([C]([H])([H...  1.57 25.0             2.050610\n                                                         33.0             2.050610\n[H]/[C](=[C](/[H])[C]([H])([H])[N]1[C]([H])([H]...  5.77 25.0                  NaN\n[H]/[C](=[N]\\[N]1[C](=[O])[N]([H])[C](=[O])[C]1... -0.47 22.0                  NaN\n                                                         25.0             0.353553\n                                                         37.0             1.331666\n[H][C]#[C][C]1([O][H])[C]([H])([H])[C]([H])([H]...  4.53 37.0                  NaN\n[H][C](=[C]1[c]2[c]([H])[c]([H])[c]([H])[c]([H]...  5.04 24.0             0.360185\n[H][C]([H])([H])[C]([H])([H])[O][P](=[O])([O][C...  3.51 25.0                  NaN\n[H][C]([H])=[C]([H])[C]([H])([H])[C]([C](=[O])[...  1.37 23.0                  NaN\n[H][C]([H])=[C]([H])[C]([H])([H])[C]1([C]([H])(...  1.47 25.0                  NaN\n[H][C]([H])=[C]([H])[C]([H])([H])[C]1([C]([H])(...  0.95 23.0                  NaN\n[H][C]1=[C]([C]([C](=[O])[O][C]([H])([H])[C]([H...  2.25 23.0                  NaN\n[H][C]1=[C]([C]2([C]([H])([H])[C]([H])([H])[H])...  1.77 20.0                  NaN\n                                                         25.0                  NaN\n[H][C]1=[C]([C]2([C]([H])([H])[H])[C](=[O])[N](...  1.98 23.0                  NaN\n                                                         25.0                  NaN\n[H][C]1=[C]([O][C]([H])([H])[H])[C]2([O][c]3[c]...  2.18 37.0                  NaN\n[H][C]1=[C]([c]2[c]([H])[c]([H])[c]([S](=[O])(=...  1.71 22.0                  NaN\n                                                         25.0                  NaN\n[H][C]1=[C]2[C]([H])([H])[N]3[C]([H])([H])[C]([...  1.93 20.0                  NaN\n[H][C]1=[N][c]2[c]([H])[c]([Cl])[c]([S](=[O])(=... -0.24 15.0                  NaN\n                                                         25.0                  NaN\n                                                         37.0                  NaN\n[H][N]([C](=[O])[C]([H])([H])[H])[c]1[n][n][c](...  0.49 35.0                  NaN\n[H][N]([C](=[O])[C]([H])([H])[H])[c]1[n][n][c](... -0.26 25.0                  NaN\n                                                         35.0                  NaN\n[H][N]([H])[C](=[O])[N]([H])[C](=[O])[C]([C](=[...  1.99 23.0                  NaN\n[H][N]([H])[C](=[O])[N]([H])[C](=[O])[C]([C](=[...  0.99 23.0                  NaN\n[H][N]([H])[C](=[O])[N]([H])[C](=[O])[C]([C](=[...  1.45 23.0                  NaN\n...                                                                            ...\n[H][c]1[n][c]([N]([C]([H])([H])[c]2[c]([H])[c](...  3.27 37.0                  NaN\n[H][c]1[n][c]([N]([H])[H])[n][c]([N]([H])[H])[c...  0.91 32.0             1.337391\n[H][c]1[n][c]([N]([H])[S](=[O])(=[O])[c]2[c]([H...  0.82 37.0                  NaN\n[H][c]1[n][c]([N]([H])[S](=[O])(=[O])[c]2[c]([H...  0.35 37.0             1.430629\n[H][c]1[n][c]([N]([H])[S](=[O])(=[O])[c]2[c]([H...  0.14 25.0             1.221529\n                                                         30.0                  NaN\n                                                         35.0                  NaN\n                                                         37.0             0.843878\n                                                         40.0                  NaN\n[H][c]1[n][c]([N]([H])[S](=[O])(=[O])[c]2[c]([H... -0.09 25.0             2.443551\n                                                         37.0             0.839354\n[H][c]1[n][c]([N]([H])[S](=[O])(=[O])[c]2[c]([H...  0.41 37.0             1.123342\n[H][c]1[n][c]([N]([H])[S](=[O])(=[O])[c]2[c]([H...  0.05 25.0             0.551970\n                                                         37.0             0.837644\n[H][c]1[n][c]([O][C]([H])([H])[H])[c]([O][C]([H...  0.70 37.0             1.290994\n[H][c]1[n][c]([O][c]2[c]([H])[c]([H])[c]([O][C]...  4.50 20.0                  NaN\n[H][c]1[n][c]([O][c]2[c]([H])[c]([H])[c]([O][C]...  4.33 9.0                   NaN\n[H][c]1[n][c]([S](=[O])(=[O])[N]([H])[C](=[O])[... -0.06 20.0                  NaN\n[H][c]1[n][c]2[c](=[O])[n]([C]([H])([H])[H])[c]... -0.02 37.0             2.050610\n[H][c]1[n][c]2[c]([H])[c]([Cl])[c]([H])[c]([H])...  4.63 20.0             1.073138\n[H][c]1[n][c]2[c]([n][c]([H])[n]2[H])[c](=[O])[... -1.11 23.0                  NaN\n[H][c]1[n][n](-[c]2[c]([H])[c]([H])[c]([H])[c](...  1.19 20.0                  NaN\n[H][c]1[n][n](-[c]2[c]([H])[c]([H])[c]([H])[c](...  1.52 37.0                  NaN\n[H][c]1[n][n][s][c]1[N]([H])[C](=[O])[N]([H])[c...  1.77 25.0                  NaN\n[H][c]1[s][c]([C](=[O])[O][C]([H])([H])[H])[c](...  0.20 25.0             1.290994\n[H][c]1[s][c]([C]([H])([H])[C]([H])([H])[N]2[C]...  3.95 25.0                  NaN\n                                                         35.0             2.139433\n[H][c]1[s][c]([N]=[C]([N]([H])[H])[N]([H])[H])[... -0.56 25.0             1.056869\n[H][n]1[c]([Cl])[n][c]2[c]1[c](=[O])[n]([C]([H]... -0.85 37.0             4.171930\n[H][n]1[c]([N]([C]([H])([H])[H])[C]([H])([H])[H...  1.90 25.0                  NaN\n\n[474 rows x 1 columns]"
     },
     "execution_count": 43,
     "metadata": {},
     "output_type": "execute_result"
    }
   ],
   "source": [
    "ph_var = final_data.groupby([SMILES_COLUMN, VALUE_COLUMN, TEMPERATURE_COLUMN]).std()\n",
    "ph_var"
   ],
   "metadata": {
    "collapsed": false,
    "pycharm": {
     "name": "#%%\n"
    }
   }
  },
  {
   "cell_type": "code",
   "execution_count": 45,
   "outputs": [
    {
     "data": {
      "text/html": "<div>\n<style scoped>\n    .dataframe tbody tr th:only-of-type {\n        vertical-align: middle;\n    }\n\n    .dataframe tbody tr th {\n        vertical-align: top;\n    }\n\n    .dataframe thead th {\n        text-align: right;\n    }\n</style>\n<table border=\"1\" class=\"dataframe\">\n  <thead>\n    <tr style=\"text-align: right;\">\n      <th></th>\n      <th></th>\n      <th></th>\n      <th>pH</th>\n    </tr>\n    <tr>\n      <th>smiles</th>\n      <th>value</th>\n      <th>Temperature (C)</th>\n      <th></th>\n    </tr>\n  </thead>\n  <tbody>\n    <tr>\n      <th rowspan=\"2\" valign=\"top\">[H]/[C](=[C](/[C]([H])([H])[H])[C]1([C]([H])([H])[C]([H])([H])[H])[C](=[O])[N]([H])[C](=[O])[N]([H])[C]1=[O])[C]([H])([H])[C]([H])([H])[H]</th>\n      <th rowspan=\"2\" valign=\"top\">1.57</th>\n      <th>25.0</th>\n      <td>2.050610</td>\n    </tr>\n    <tr>\n      <th>33.0</th>\n      <td>2.050610</td>\n    </tr>\n    <tr>\n      <th rowspan=\"2\" valign=\"top\">[H]/[C](=[N]\\[N]1[C](=[O])[N]([H])[C](=[O])[C]1([H])[H])[c]1[o][c]([N+](=[O])[O-])[c]([H])[c]1[H]</th>\n      <th rowspan=\"2\" valign=\"top\">-0.47</th>\n      <th>25.0</th>\n      <td>0.353553</td>\n    </tr>\n    <tr>\n      <th>37.0</th>\n      <td>1.331666</td>\n    </tr>\n    <tr>\n      <th>[H][C](=[C]1[c]2[c]([H])[c]([H])[c]([H])[c]([H])[c]2[C]([H])([H])[C]([H])([H])[c]2[c]([H])[c]([H])[c]([H])[c]([H])[c]21)[C]([H])([H])[C]([H])([H])[N]([C]([H])([H])[H])[C]([H])([H])[H]</th>\n      <th>5.04</th>\n      <th>24.0</th>\n      <td>0.360185</td>\n    </tr>\n    <tr>\n      <th>[H][N]([c]1[n][c]([Cl])[n][c]([N]([H])[C]([H])([H])[C]([H])([H])[H])[n]1)[C]([H])([H])[C]([H])([H])[H]</th>\n      <th>2.18</th>\n      <th>26.0</th>\n      <td>2.828427</td>\n    </tr>\n    <tr>\n      <th>[H][N]([c]1[n][c]([O][C]([H])([H])[H])[n][c]([N]([H])[C]([H])([C]([H])([H])[H])[C]([H])([H])[H])[n]1)[C]([H])([H])[C]([H])([H])[H]</th>\n      <th>2.69</th>\n      <th>26.0</th>\n      <td>2.828427</td>\n    </tr>\n    <tr>\n      <th>[H][N]([c]1[n][c]([O][C]([H])([H])[H])[n][c]([N]([H])[C]([H])([H])[C]([H])([H])[H])[n]1)[C]([H])([H])[C]([H])([H])[H]</th>\n      <th>1.82</th>\n      <th>26.0</th>\n      <td>2.828427</td>\n    </tr>\n    <tr>\n      <th>[H][N]1[C](=[O])[C]([C]([H])([H])[C]([H])([H])[H])([C]([H])([C]([H])([H])[H])[C]([H])([H])[C]([H])([H])[C]([H])([H])[H])[C](=[O])[N]([H])[C]1=[S]</th>\n      <th>2.85</th>\n      <th>25.0</th>\n      <td>1.593738</td>\n    </tr>\n    <tr>\n      <th>[H][N]1[C](=[O])[N]([C]([H])([H])[H])[C](=[O])[C]([C]([H])([H])[C]([H])([H])[H])([C]([H])([H])[C]([H])([H])[H])[C]1=[O]</th>\n      <th>1.15</th>\n      <th>25.0</th>\n      <td>2.545584</td>\n    </tr>\n    <tr>\n      <th rowspan=\"2\" valign=\"top\">[H][N]1[C](=[O])[N]([H])[C](=[O])[C]([C]([H])([H])[C]([H])([H])[H])([C]([H])([C]([H])([H])[H])[C]([H])([H])[C]([H])([H])[H])[C]1=[O]</th>\n      <th rowspan=\"2\" valign=\"top\">1.65</th>\n      <th>25.0</th>\n      <td>1.824829</td>\n    </tr>\n    <tr>\n      <th>33.0</th>\n      <td>2.121320</td>\n    </tr>\n    <tr>\n      <th rowspan=\"2\" valign=\"top\">[H][N]1[C](=[O])[N]([H])[C](=[O])[C]([C]([H])([H])[C]([H])([H])[H])([C]([H])([C]([H])([H])[H])[C]([H])([H])[H])[C]1=[O]</th>\n      <th rowspan=\"2\" valign=\"top\">0.97</th>\n      <th>25.0</th>\n      <td>2.050610</td>\n    </tr>\n    <tr>\n      <th>33.0</th>\n      <td>2.050610</td>\n    </tr>\n    <tr>\n      <th>[H][N]1[C](=[O])[N]([H])[C](=[O])[C]([C]([H])([H])[C]([H])([H])[H])([C]([H])([H])[C]([H])([C]([H])([H])[H])[C]([H])([H])[C]([H])([H])[H])[C]1=[O]</th>\n      <th>2.10</th>\n      <th>25.0</th>\n      <td>1.529270</td>\n    </tr>\n    <tr>\n      <th>[H][N]1[C](=[O])[N]([H])[C](=[O])[C]([C]([H])([H])[C]([H])([H])[H])([C]([H])([H])[C]([H])([H])[C]([H])([C]([H])([H])[H])[C]([H])([H])[H])[C]1=[O]</th>\n      <th>2.07</th>\n      <th>25.0</th>\n      <td>0.070711</td>\n    </tr>\n    <tr>\n      <th>[H][N]1[C](=[O])[N]([H])[C](=[O])[C]([C]([H])([H])[C]([H])([H])[H])([C]([H])([H])[C]([H])([H])[C]([H])([H])[C]([H])([H])[H])[C]1=[O]</th>\n      <th>1.73</th>\n      <th>25.0</th>\n      <td>2.050610</td>\n    </tr>\n    <tr>\n      <th rowspan=\"3\" valign=\"top\">[H][N]1[C](=[O])[N]([H])[C](=[O])[C]([C]([H])([H])[C]([H])([H])[H])([C]([H])([H])[C]([H])([H])[H])[C]1=[O]</th>\n      <th rowspan=\"3\" valign=\"top\">0.65</th>\n      <th>25.0</th>\n      <td>0.332340</td>\n    </tr>\n    <tr>\n      <th>30.0</th>\n      <td>0.358260</td>\n    </tr>\n    <tr>\n      <th>33.0</th>\n      <td>2.121320</td>\n    </tr>\n    <tr>\n      <th>[H][O][C@@]([H])([C](=[O])[N]1[C]([H])([H])[S][C]([H])([H])[C]1([H])[C](=[O])[N]([H])[C]([C]([H])([H])[H])([C]([H])([H])[H])[C]([H])([H])[H])[C@]([H])([N]([H])[C](=[O])[C]([H])([N]([H])[C](=[O])[C]([H])([H])[O][c]1[c]([H])[c]([H])[c]([H])[c]2[c]([H])[n][c]([H])[c]([H])[c]12)[C]([H])([H])[S][C]([H])([H])[H])[C]([H])([H])[c]1[c]([H])[c]([H])[c]([H])[c]([H])[c]1[H]</th>\n      <th>3.56</th>\n      <th>25.0</th>\n      <td>1.496957</td>\n    </tr>\n    <tr>\n      <th>[H][O][C@]([H])([c]1[c]([H])[c]([H])[n][c]2[c]([H])[c]([H])[c]([O][C]([H])([H])[H])[c]([H])[c]12)[C@@]1([H])[N]2[C]([H])([H])[C]([H])([H])[C]([H])([C]1([H])[H])[C@@]([H])([C]([H])=[C]([H])[H])[C]2([H])[H]</th>\n      <th>2.64</th>\n      <th>25.0</th>\n      <td>0.424264</td>\n    </tr>\n    <tr>\n      <th>[H][O][C](=[O])[C]([C]([H])([H])[H])([C]([H])([H])[H])[C]([H])([H])[C]([H])([H])[C]([H])([H])[O][c]1[c]([H])[c]([C]([H])([H])[H])[c]([H])[c]([H])[c]1[C]([H])([H])[H]</th>\n      <th>2.80</th>\n      <th>37.0</th>\n      <td>1.937871</td>\n    </tr>\n    <tr>\n      <th>[H][O][C](=[O])[C]([H])([H])[C]([H])([H])[C@@]([H])([C]([H])([H])[H])[C@@]1([H])[C]([H])([H])[C]([H])([H])[C@]2([H])[C]1([C]([H])([H])[H])[C@@]([H])([O][H])[C]([H])([H])[C@]1([H])[C@@]3([C]([H])([H])[H])[C]([H])([H])[C]([H])([H])[C@@]([H])([O][H])[C]([H])([H])[C@@]3([H])[C]([H])([H])[C]([H])([H])[C@@]21[H]</th>\n      <th>3.50</th>\n      <th>20.0</th>\n      <td>0.424264</td>\n    </tr>\n    <tr>\n      <th>[H][O][C](=[O])[C]([H])([H])[C]([H])([H])[C](=[O])[c]1[c]([H])[c]([H])[c](-[c]2[c]([H])[c]([H])[c]([H])[c]([H])[c]2[H])[c]([H])[c]1[H]</th>\n      <th>3.14</th>\n      <th>22.0</th>\n      <td>2.310805</td>\n    </tr>\n    <tr>\n      <th>[H][O][C](=[O])[C]([H])([H])[C]([H])([H])[C]([H])([H])/[C]([H])=[C](\\[H])[C]([H])([H])[C]1([H])[C]([H])([O][H])[C]([H])([H])[C]([H])([O][H])[C]1([H])/[C]([H])=[C](\\[H])[C]([H])([O][H])[C]([H])([H])[C]([H])([H])[C]([H])([H])[C]([H])([H])[C]([H])([H])[H]</th>\n      <th>2.72</th>\n      <th>25.0</th>\n      <td>0.845616</td>\n    </tr>\n    <tr>\n      <th>[H][O][C](=[O])[C]([H])([H])[C]([H])([H])[C]([H])([H])[C]([H])([H])[C]([H])([H])[C]([H])([H])[C]([H])([H])[C]([H])([H])[C]([H])([H])[C]([H])([H])[C]([H])([H])[H]</th>\n      <th>4.20</th>\n      <th>20.0</th>\n      <td>1.290994</td>\n    </tr>\n    <tr>\n      <th>[H][O][C](=[O])[C]([H])([H])[C]1=[C]([C]([H])([H])[H])/[C](=[C](\\[H])[c]2[c]([H])[c]([H])[c]([S](=[O])[C]([H])([H])[H])[c]([H])[c]2[H])[c]2[c]([H])[c]([H])[c]([F])[c]([H])[c]21</th>\n      <th>3.42</th>\n      <th>22.0</th>\n      <td>2.687006</td>\n    </tr>\n    <tr>\n      <th rowspan=\"2\" valign=\"top\">[H][O][C](=[O])[C]([H])([H])[c]1[c]([C]([H])([H])[H])[n]([C](=[O])[c]2[c]([H])[c]([H])[c]([Cl])[c]([H])[c]2[H])[c]2[c]([H])[c]([H])[c]([O][C]([H])([H])[H])[c]([H])[c]12</th>\n      <th rowspan=\"2\" valign=\"top\">4.27</th>\n      <th>22.0</th>\n      <td>2.206808</td>\n    </tr>\n    <tr>\n      <th>25.0</th>\n      <td>0.493288</td>\n    </tr>\n    <tr>\n      <th>...</th>\n      <th>...</th>\n      <th>...</th>\n      <td>...</td>\n    </tr>\n    <tr>\n      <th rowspan=\"2\" valign=\"top\">[H][c]1[c]([H])[c]([S](=[O])(=[O])[N]([H])[c]2[o][n][c]([C]([H])([H])[H])[c]2[C]([H])([H])[H])[c]([H])[c]([H])[c]1[N]([H])[H]</th>\n      <th rowspan=\"2\" valign=\"top\">1.01</th>\n      <th>25.0</th>\n      <td>2.549438</td>\n    </tr>\n    <tr>\n      <th>37.0</th>\n      <td>1.162803</td>\n    </tr>\n    <tr>\n      <th>[H][c]1[c]([N]([H])[H])[n][c]([N]([H])[H])[c](/[N]=[N]/[c]2[c]([H])[c]([H])[c]([H])[c]([H])[c]2[H])[c]1[H]</th>\n      <th>1.73</th>\n      <th>25.0</th>\n      <td>0.444175</td>\n    </tr>\n    <tr>\n      <th rowspan=\"3\" valign=\"top\">[H][c]1[c]([N]([H])[S](=[O])(=[O])[c]2[c]([H])[c]([H])[c]([N]([H])[H])[c]([H])[c]2[H])[n][o][c]1[C]([H])([H])[H]</th>\n      <th rowspan=\"3\" valign=\"top\">0.89</th>\n      <th>25.0</th>\n      <td>2.921198</td>\n    </tr>\n    <tr>\n      <th>32.0</th>\n      <td>2.694533</td>\n    </tr>\n    <tr>\n      <th>37.0</th>\n      <td>2.474391</td>\n    </tr>\n    <tr>\n      <th>[H][c]1[c]([O][C]([H])([H])[H])[n][n][c]([N]([H])[S](=[O])(=[O])[c]2[c]([H])[c]([H])[c]([N]([H])[C](=[O])[C]([H])([H])[H])[c]([H])[c]2[H])[c]1[H]</th>\n      <th>0.37</th>\n      <th>37.0</th>\n      <td>0.926643</td>\n    </tr>\n    <tr>\n      <th>[H][c]1[c]([O][C]([H])([H])[H])[n][n][c]([N]([H])[S](=[O])(=[O])[c]2[c]([H])[c]([H])[c]([N]([H])[H])[c]([H])[c]2[H])[c]1[H]</th>\n      <th>0.32</th>\n      <th>37.0</th>\n      <td>0.832166</td>\n    </tr>\n    <tr>\n      <th>[H][c]1[c]([O][P](=[S])([O][C]([H])([H])[H])[O][C]([H])([H])[H])[n][c]([N]([C]([H])([H])[C]([H])([H])[H])[C]([H])([H])[C]([H])([H])[H])[n][c]1[C]([H])([H])[H]</th>\n      <th>4.20</th>\n      <th>30.0</th>\n      <td>2.899138</td>\n    </tr>\n    <tr>\n      <th>[H][c]1[n][c]([C]([H])([H])[S][C]([H])([H])[C]([H])([H])[N]([H])/[C](=[N]/[C]#[N])[N]([H])[C]([H])([H])[H])[c]([C]([H])([H])[H])[n]1[H]</th>\n      <th>0.40</th>\n      <th>25.0</th>\n      <td>1.249000</td>\n    </tr>\n    <tr>\n      <th>[H][c]1[n][c]([C]([H])([H])[c]2[c]([H])[c]([H])[c]([O][C]([H])([H])[H])[c]([O][C]([H])([H])[H])[c]2[H])[c]2[c]([H])[c]([O][C]([H])([H])[H])[c]([O][C]([H])([H])[H])[c]([H])[c]2[c]1[H]</th>\n      <th>3.00</th>\n      <th>37.0</th>\n      <td>1.058301</td>\n    </tr>\n    <tr>\n      <th>[H][c]1[n][c]([H])[c]([C]([H])([H])[N]([H])[c]2[c]([C]#[N])[c](=[O])[n][c]([C]([H])([H])[H])[n]2[H])[c]([H])[c]1[H]</th>\n      <th>0.29</th>\n      <th>25.0</th>\n      <td>2.362469</td>\n    </tr>\n    <tr>\n      <th>[H][c]1[n][c]([H])[c]([H])[c]([C](=[O])[O][C]([H])([H])[C]2([H])[O][C]([H])([n]3[c]([H])[c]([C]([H])([H])[H])[c](=[O])[n]([H])[c]3=[O])[C]([H])([H])[C]2([H])[N]=[N+]=[N-])[c]1[H]</th>\n      <th>0.83</th>\n      <th>25.0</th>\n      <td>2.370919</td>\n    </tr>\n    <tr>\n      <th>[H][c]1[n][c]([H])[n]([C]([H])([H])[H])[c]1[C]([H])([H])[C@]([H])([C]([H])([H])[O][C](=[O])[C]([H])([H])[C]([H])([H])[C]([H])([H])[H])[C@@]([H])([C](=[O])[O][C]([H])([H])[c]1[c]([H])[c]([H])[c]([C]([H])([H])[H])[c]([H])[c]1[H])[C]([H])([H])[C]([H])([H])[H]</th>\n      <th>3.87</th>\n      <th>23.0</th>\n      <td>1.353242</td>\n    </tr>\n    <tr>\n      <th>[H][c]1[n][c]([N]([H])[H])[n][c]([N]([H])[H])[c]1[C]([H])([H])[c]1[c]([H])[c]([O][C]([H])([H])[H])[c]([O][C]([H])([H])[H])[c]([O][C]([H])([H])[H])[c]1[H]</th>\n      <th>0.91</th>\n      <th>32.0</th>\n      <td>1.337391</td>\n    </tr>\n    <tr>\n      <th>[H][c]1[n][c]([N]([H])[S](=[O])(=[O])[c]2[c]([H])[c]([H])[c]([N]([H])[H])[c]([H])[c]2[H])[c]([H])[c]([H])[c]1[H]</th>\n      <th>0.35</th>\n      <th>37.0</th>\n      <td>1.430629</td>\n    </tr>\n    <tr>\n      <th rowspan=\"2\" valign=\"top\">[H][c]1[n][c]([N]([H])[S](=[O])(=[O])[c]2[c]([H])[c]([H])[c]([N]([H])[H])[c]([H])[c]2[H])[n][c]([C]([H])([H])[H])[c]1[H]</th>\n      <th rowspan=\"2\" valign=\"top\">0.14</th>\n      <th>25.0</th>\n      <td>1.221529</td>\n    </tr>\n    <tr>\n      <th>37.0</th>\n      <td>0.843878</td>\n    </tr>\n    <tr>\n      <th rowspan=\"2\" valign=\"top\">[H][c]1[n][c]([N]([H])[S](=[O])(=[O])[c]2[c]([H])[c]([H])[c]([N]([H])[H])[c]([H])[c]2[H])[n][c]([H])[c]1[H]</th>\n      <th rowspan=\"2\" valign=\"top\">-0.09</th>\n      <th>25.0</th>\n      <td>2.443551</td>\n    </tr>\n    <tr>\n      <th>37.0</th>\n      <td>0.839354</td>\n    </tr>\n    <tr>\n      <th>[H][c]1[n][c]([N]([H])[S](=[O])(=[O])[c]2[c]([H])[c]([H])[c]([N]([H])[H])[c]([H])[c]2[H])[n][c]([H])[c]1[O][C]([H])([H])[H]</th>\n      <th>0.41</th>\n      <th>37.0</th>\n      <td>1.123342</td>\n    </tr>\n    <tr>\n      <th rowspan=\"2\" valign=\"top\">[H][c]1[n][c]([N]([H])[S](=[O])(=[O])[c]2[c]([H])[c]([H])[c]([N]([H])[H])[c]([H])[c]2[H])[s][c]1[H]</th>\n      <th rowspan=\"2\" valign=\"top\">0.05</th>\n      <th>25.0</th>\n      <td>0.551970</td>\n    </tr>\n    <tr>\n      <th>37.0</th>\n      <td>0.837644</td>\n    </tr>\n    <tr>\n      <th>[H][c]1[n][c]([O][C]([H])([H])[H])[c]([O][C]([H])([H])[H])[c]([N]([H])[S](=[O])(=[O])[c]2[c]([H])[c]([H])[c]([N]([H])[H])[c]([H])[c]2[H])[n]1</th>\n      <th>0.70</th>\n      <th>37.0</th>\n      <td>1.290994</td>\n    </tr>\n    <tr>\n      <th>[H][c]1[n][c]2[c](=[O])[n]([C]([H])([H])[H])[c](=[O])[n]([C]([H])([H])[H])[c]2[n]1[H]</th>\n      <th>-0.02</th>\n      <th>37.0</th>\n      <td>2.050610</td>\n    </tr>\n    <tr>\n      <th>[H][c]1[n][c]2[c]([H])[c]([Cl])[c]([H])[c]([H])[c]2[c]([N]([H])[C]([H])([C]([H])([H])[H])[C]([H])([H])[C]([H])([H])[C]([H])([H])[N]([C]([H])([H])[C]([H])([H])[H])[C]([H])([H])[C]([H])([H])[H])[c]1[H]</th>\n      <th>4.63</th>\n      <th>20.0</th>\n      <td>1.073138</td>\n    </tr>\n    <tr>\n      <th>[H][c]1[s][c]([C](=[O])[O][C]([H])([H])[H])[c]([S](=[O])(=[O])[N]([H])[C](=[O])[N]([H])[c]2[n][c]([O][C]([H])([H])[H])[n][c]([C]([H])([H])[H])[n]2)[c]1[H]</th>\n      <th>0.20</th>\n      <th>25.0</th>\n      <td>1.290994</td>\n    </tr>\n    <tr>\n      <th>[H][c]1[s][c]([C]([H])([H])[C]([H])([H])[N]2[C]([H])([H])[C]([H])([H])[C]([N]([C](=[O])[C]([H])([H])[C]([H])([H])[H])[c]3[c]([H])[c]([H])[c]([H])[c]([H])[c]3[H])([C]([H])([H])[O][C]([H])([H])[H])[C]([H])([H])[C]2([H])[H])[c]([H])[c]1[H]</th>\n      <th>3.95</th>\n      <th>35.0</th>\n      <td>2.139433</td>\n    </tr>\n    <tr>\n      <th>[H][c]1[s][c]([N]=[C]([N]([H])[H])[N]([H])[H])[n][c]1[C]([H])([H])[S][C]([H])([H])[C]([H])([H])/[C](=[N]/[S](=[O])(=[O])[N]([H])[H])[N]([H])[H]</th>\n      <th>-0.56</th>\n      <th>25.0</th>\n      <td>1.056869</td>\n    </tr>\n    <tr>\n      <th>[H][n]1[c]([Cl])[n][c]2[c]1[c](=[O])[n]([C]([H])([H])[H])[c](=[O])[n]2[C]([H])([H])[H]</th>\n      <th>-0.85</th>\n      <th>37.0</th>\n      <td>4.171930</td>\n    </tr>\n  </tbody>\n</table>\n<p>176 rows × 1 columns</p>\n</div>",
      "text/plain": "                                                                                pH\nsmiles                                             value Temperature (C)          \n[H]/[C](=[C](/[C]([H])([H])[H])[C]1([C]([H])([H...  1.57 25.0             2.050610\n                                                         33.0             2.050610\n[H]/[C](=[N]\\[N]1[C](=[O])[N]([H])[C](=[O])[C]1... -0.47 25.0             0.353553\n                                                         37.0             1.331666\n[H][C](=[C]1[c]2[c]([H])[c]([H])[c]([H])[c]([H]...  5.04 24.0             0.360185\n[H][N]([c]1[n][c]([Cl])[n][c]([N]([H])[C]([H])(...  2.18 26.0             2.828427\n[H][N]([c]1[n][c]([O][C]([H])([H])[H])[n][c]([N...  2.69 26.0             2.828427\n[H][N]([c]1[n][c]([O][C]([H])([H])[H])[n][c]([N...  1.82 26.0             2.828427\n[H][N]1[C](=[O])[C]([C]([H])([H])[C]([H])([H])[...  2.85 25.0             1.593738\n[H][N]1[C](=[O])[N]([C]([H])([H])[H])[C](=[O])[...  1.15 25.0             2.545584\n[H][N]1[C](=[O])[N]([H])[C](=[O])[C]([C]([H])([...  1.65 25.0             1.824829\n                                                         33.0             2.121320\n[H][N]1[C](=[O])[N]([H])[C](=[O])[C]([C]([H])([...  0.97 25.0             2.050610\n                                                         33.0             2.050610\n[H][N]1[C](=[O])[N]([H])[C](=[O])[C]([C]([H])([...  2.10 25.0             1.529270\n[H][N]1[C](=[O])[N]([H])[C](=[O])[C]([C]([H])([...  2.07 25.0             0.070711\n[H][N]1[C](=[O])[N]([H])[C](=[O])[C]([C]([H])([...  1.73 25.0             2.050610\n[H][N]1[C](=[O])[N]([H])[C](=[O])[C]([C]([H])([...  0.65 25.0             0.332340\n                                                         30.0             0.358260\n                                                         33.0             2.121320\n[H][O][C@@]([H])([C](=[O])[N]1[C]([H])([H])[S][...  3.56 25.0             1.496957\n[H][O][C@]([H])([c]1[c]([H])[c]([H])[n][c]2[c](...  2.64 25.0             0.424264\n[H][O][C](=[O])[C]([C]([H])([H])[H])([C]([H])([...  2.80 37.0             1.937871\n[H][O][C](=[O])[C]([H])([H])[C]([H])([H])[C@@](...  3.50 20.0             0.424264\n[H][O][C](=[O])[C]([H])([H])[C]([H])([H])[C](=[...  3.14 22.0             2.310805\n[H][O][C](=[O])[C]([H])([H])[C]([H])([H])[C]([H...  2.72 25.0             0.845616\n[H][O][C](=[O])[C]([H])([H])[C]([H])([H])[C]([H...  4.20 20.0             1.290994\n[H][O][C](=[O])[C]([H])([H])[C]1=[C]([C]([H])([...  3.42 22.0             2.687006\n[H][O][C](=[O])[C]([H])([H])[c]1[c]([C]([H])([H...  4.27 22.0             2.206808\n                                                         25.0             0.493288\n...                                                                            ...\n[H][c]1[c]([H])[c]([S](=[O])(=[O])[N]([H])[c]2[...  1.01 25.0             2.549438\n                                                         37.0             1.162803\n[H][c]1[c]([N]([H])[H])[n][c]([N]([H])[H])[c](/...  1.73 25.0             0.444175\n[H][c]1[c]([N]([H])[S](=[O])(=[O])[c]2[c]([H])[...  0.89 25.0             2.921198\n                                                         32.0             2.694533\n                                                         37.0             2.474391\n[H][c]1[c]([O][C]([H])([H])[H])[n][n][c]([N]([H...  0.37 37.0             0.926643\n[H][c]1[c]([O][C]([H])([H])[H])[n][n][c]([N]([H...  0.32 37.0             0.832166\n[H][c]1[c]([O][P](=[S])([O][C]([H])([H])[H])[O]...  4.20 30.0             2.899138\n[H][c]1[n][c]([C]([H])([H])[S][C]([H])([H])[C](...  0.40 25.0             1.249000\n[H][c]1[n][c]([C]([H])([H])[c]2[c]([H])[c]([H])...  3.00 37.0             1.058301\n[H][c]1[n][c]([H])[c]([C]([H])([H])[N]([H])[c]2...  0.29 25.0             2.362469\n[H][c]1[n][c]([H])[c]([H])[c]([C](=[O])[O][C]([...  0.83 25.0             2.370919\n[H][c]1[n][c]([H])[n]([C]([H])([H])[H])[c]1[C](...  3.87 23.0             1.353242\n[H][c]1[n][c]([N]([H])[H])[n][c]([N]([H])[H])[c...  0.91 32.0             1.337391\n[H][c]1[n][c]([N]([H])[S](=[O])(=[O])[c]2[c]([H...  0.35 37.0             1.430629\n[H][c]1[n][c]([N]([H])[S](=[O])(=[O])[c]2[c]([H...  0.14 25.0             1.221529\n                                                         37.0             0.843878\n[H][c]1[n][c]([N]([H])[S](=[O])(=[O])[c]2[c]([H... -0.09 25.0             2.443551\n                                                         37.0             0.839354\n[H][c]1[n][c]([N]([H])[S](=[O])(=[O])[c]2[c]([H...  0.41 37.0             1.123342\n[H][c]1[n][c]([N]([H])[S](=[O])(=[O])[c]2[c]([H...  0.05 25.0             0.551970\n                                                         37.0             0.837644\n[H][c]1[n][c]([O][C]([H])([H])[H])[c]([O][C]([H...  0.70 37.0             1.290994\n[H][c]1[n][c]2[c](=[O])[n]([C]([H])([H])[H])[c]... -0.02 37.0             2.050610\n[H][c]1[n][c]2[c]([H])[c]([Cl])[c]([H])[c]([H])...  4.63 20.0             1.073138\n[H][c]1[s][c]([C](=[O])[O][C]([H])([H])[H])[c](...  0.20 25.0             1.290994\n[H][c]1[s][c]([C]([H])([H])[C]([H])([H])[N]2[C]...  3.95 35.0             2.139433\n[H][c]1[s][c]([N]=[C]([N]([H])[H])[N]([H])[H])[... -0.56 25.0             1.056869\n[H][n]1[c]([Cl])[n][c]2[c]1[c](=[O])[n]([C]([H]... -0.85 37.0             4.171930\n\n[176 rows x 1 columns]"
     },
     "execution_count": 45,
     "metadata": {},
     "output_type": "execute_result"
    }
   ],
   "source": [
    "ph_var = ph_var.dropna()\n",
    "ph_var"
   ],
   "metadata": {
    "collapsed": false,
    "pycharm": {
     "name": "#%%\n"
    }
   }
  },
  {
   "cell_type": "code",
   "execution_count": 47,
   "outputs": [
    {
     "data": {
      "text/html": "<div>\n<style scoped>\n    .dataframe tbody tr th:only-of-type {\n        vertical-align: middle;\n    }\n\n    .dataframe tbody tr th {\n        vertical-align: top;\n    }\n\n    .dataframe thead th {\n        text-align: right;\n    }\n</style>\n<table border=\"1\" class=\"dataframe\">\n  <thead>\n    <tr style=\"text-align: right;\">\n      <th></th>\n      <th>Temperature (C)</th>\n      <th>pH</th>\n      <th>smiles</th>\n      <th>value</th>\n    </tr>\n  </thead>\n  <tbody>\n    <tr>\n      <th>5246</th>\n      <td>25.0</td>\n      <td>5.0</td>\n      <td>[H]/[C](=[C](/[C]([H])([H])[H])[C]1([C]([H])([...</td>\n      <td>1.57</td>\n    </tr>\n    <tr>\n      <th>5251</th>\n      <td>25.0</td>\n      <td>7.9</td>\n      <td>[H]/[C](=[C](/[C]([H])([H])[H])[C]1([C]([H])([...</td>\n      <td>1.57</td>\n    </tr>\n    <tr>\n      <th>5254</th>\n      <td>33.0</td>\n      <td>5.0</td>\n      <td>[H]/[C](=[C](/[C]([H])([H])[H])[C]1([C]([H])([...</td>\n      <td>1.57</td>\n    </tr>\n    <tr>\n      <th>5255</th>\n      <td>33.0</td>\n      <td>7.9</td>\n      <td>[H]/[C](=[C](/[C]([H])([H])[H])[C]1([C]([H])([...</td>\n      <td>1.57</td>\n    </tr>\n  </tbody>\n</table>\n</div>",
      "text/plain": "      Temperature (C)   pH                                             smiles  \\\n5246             25.0  5.0  [H]/[C](=[C](/[C]([H])([H])[H])[C]1([C]([H])([...   \n5251             25.0  7.9  [H]/[C](=[C](/[C]([H])([H])[H])[C]1([C]([H])([...   \n5254             33.0  5.0  [H]/[C](=[C](/[C]([H])([H])[H])[C]1([C]([H])([...   \n5255             33.0  7.9  [H]/[C](=[C](/[C]([H])([H])[H])[C]1([C]([H])([...   \n\n      value  \n5246   1.57  \n5251   1.57  \n5254   1.57  \n5255   1.57  "
     },
     "execution_count": 47,
     "metadata": {},
     "output_type": "execute_result"
    }
   ],
   "source": [
    "final_data[final_data[SMILES_COLUMN] == \"[H]/[C](=[C](/[C]([H])([H])[H])[C]1([C]([H])([H])[C]([H])([H])[H])[C](=[O])[N]([H])[C](=[O])[N]([H])[C]1=[O])[C]([H])([H])[C]([H])([H])[H]\"]"
   ],
   "metadata": {
    "collapsed": false,
    "pycharm": {
     "name": "#%%\n"
    }
   }
  },
  {
   "cell_type": "code",
   "execution_count": 48,
   "outputs": [
    {
     "data": {
      "text/html": "<div>\n<style scoped>\n    .dataframe tbody tr th:only-of-type {\n        vertical-align: middle;\n    }\n\n    .dataframe tbody tr th {\n        vertical-align: top;\n    }\n\n    .dataframe thead th {\n        text-align: right;\n    }\n</style>\n<table border=\"1\" class=\"dataframe\">\n  <thead>\n    <tr style=\"text-align: right;\">\n      <th></th>\n      <th>pH</th>\n    </tr>\n  </thead>\n  <tbody>\n    <tr>\n      <th>count</th>\n      <td>176.000000</td>\n    </tr>\n    <tr>\n      <th>mean</th>\n      <td>1.717154</td>\n    </tr>\n    <tr>\n      <th>std</th>\n      <td>0.849025</td>\n    </tr>\n    <tr>\n      <th>min</th>\n      <td>0.070711</td>\n    </tr>\n    <tr>\n      <th>25%</th>\n      <td>1.073146</td>\n    </tr>\n    <tr>\n      <th>50%</th>\n      <td>1.602759</td>\n    </tr>\n    <tr>\n      <th>75%</th>\n      <td>2.222399</td>\n    </tr>\n    <tr>\n      <th>max</th>\n      <td>4.384062</td>\n    </tr>\n  </tbody>\n</table>\n</div>",
      "text/plain": "               pH\ncount  176.000000\nmean     1.717154\nstd      0.849025\nmin      0.070711\n25%      1.073146\n50%      1.602759\n75%      2.222399\nmax      4.384062"
     },
     "execution_count": 48,
     "metadata": {},
     "output_type": "execute_result"
    }
   ],
   "source": [
    "ph_var.describe()"
   ],
   "metadata": {
    "collapsed": false,
    "pycharm": {
     "name": "#%%\n"
    }
   }
  },
  {
   "cell_type": "code",
   "execution_count": 49,
   "outputs": [
    {
     "data": {
      "text/plain": "366"
     },
     "execution_count": 49,
     "metadata": {},
     "output_type": "execute_result"
    }
   ],
   "source": [
    "final_data[SMILES_COLUMN].unique().size"
   ],
   "metadata": {
    "collapsed": false,
    "pycharm": {
     "name": "#%%\n"
    }
   }
  }
 ],
 "metadata": {
  "kernelspec": {
   "display_name": "Python 3",
   "language": "python",
   "name": "python3"
  },
  "language_info": {
   "codemirror_mode": {
    "name": "ipython",
    "version": 2
   },
   "file_extension": ".py",
   "mimetype": "text/x-python",
   "name": "python",
   "nbconvert_exporter": "python",
   "pygments_lexer": "ipython2",
   "version": "2.7.6"
  }
 },
 "nbformat": 4,
 "nbformat_minor": 0
}